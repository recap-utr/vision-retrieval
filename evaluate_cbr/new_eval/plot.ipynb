{
 "cells": [
  {
   "cell_type": "code",
   "execution_count": 2,
   "metadata": {},
   "outputs": [
    {
     "data": {
      "text/html": [
       "<div>\n",
       "<style scoped>\n",
       "    .dataframe tbody tr th:only-of-type {\n",
       "        vertical-align: middle;\n",
       "    }\n",
       "\n",
       "    .dataframe tbody tr th {\n",
       "        vertical-align: top;\n",
       "    }\n",
       "\n",
       "    .dataframe thead th {\n",
       "        text-align: right;\n",
       "    }\n",
       "</style>\n",
       "<table border=\"1\" class=\"dataframe\">\n",
       "  <thead>\n",
       "    <tr style=\"text-align: right;\">\n",
       "      <th></th>\n",
       "      <th>metric</th>\n",
       "      <th>logical_ft_arg</th>\n",
       "      <th>logical_pt</th>\n",
       "      <th>srip_ft_arg</th>\n",
       "      <th>srip_pt</th>\n",
       "      <th>treemaps_ft_arg</th>\n",
       "      <th>treemaps_pt</th>\n",
       "    </tr>\n",
       "  </thead>\n",
       "  <tbody>\n",
       "    <tr>\n",
       "      <th>0</th>\n",
       "      <td>ndcg_burges</td>\n",
       "      <td>0.958110</td>\n",
       "      <td>0.956511</td>\n",
       "      <td>0.971255</td>\n",
       "      <td>0.940687</td>\n",
       "      <td>0.950487</td>\n",
       "      <td>0.923705</td>\n",
       "    </tr>\n",
       "    <tr>\n",
       "      <th>1</th>\n",
       "      <td>ndcg</td>\n",
       "      <td>0.969143</td>\n",
       "      <td>0.969746</td>\n",
       "      <td>0.979438</td>\n",
       "      <td>0.959538</td>\n",
       "      <td>0.968140</td>\n",
       "      <td>0.954364</td>\n",
       "    </tr>\n",
       "    <tr>\n",
       "      <th>2</th>\n",
       "      <td>map</td>\n",
       "      <td>1.000000</td>\n",
       "      <td>1.000000</td>\n",
       "      <td>1.000000</td>\n",
       "      <td>1.000000</td>\n",
       "      <td>1.000000</td>\n",
       "      <td>1.000000</td>\n",
       "    </tr>\n",
       "    <tr>\n",
       "      <th>3</th>\n",
       "      <td>f1</td>\n",
       "      <td>1.000000</td>\n",
       "      <td>1.000000</td>\n",
       "      <td>1.000000</td>\n",
       "      <td>1.000000</td>\n",
       "      <td>1.000000</td>\n",
       "      <td>1.000000</td>\n",
       "    </tr>\n",
       "    <tr>\n",
       "      <th>4</th>\n",
       "      <td>recall</td>\n",
       "      <td>1.000000</td>\n",
       "      <td>1.000000</td>\n",
       "      <td>1.000000</td>\n",
       "      <td>1.000000</td>\n",
       "      <td>1.000000</td>\n",
       "      <td>1.000000</td>\n",
       "    </tr>\n",
       "    <tr>\n",
       "      <th>5</th>\n",
       "      <td>precision</td>\n",
       "      <td>1.000000</td>\n",
       "      <td>1.000000</td>\n",
       "      <td>1.000000</td>\n",
       "      <td>1.000000</td>\n",
       "      <td>1.000000</td>\n",
       "      <td>1.000000</td>\n",
       "    </tr>\n",
       "    <tr>\n",
       "      <th>6</th>\n",
       "      <td>correctness</td>\n",
       "      <td>0.611796</td>\n",
       "      <td>0.666360</td>\n",
       "      <td>0.717469</td>\n",
       "      <td>0.550417</td>\n",
       "      <td>0.602606</td>\n",
       "      <td>0.533030</td>\n",
       "    </tr>\n",
       "    <tr>\n",
       "      <th>7</th>\n",
       "      <td>completeness</td>\n",
       "      <td>1.000000</td>\n",
       "      <td>1.000000</td>\n",
       "      <td>1.000000</td>\n",
       "      <td>1.000000</td>\n",
       "      <td>1.000000</td>\n",
       "      <td>1.000000</td>\n",
       "    </tr>\n",
       "    <tr>\n",
       "      <th>8</th>\n",
       "      <td>duration</td>\n",
       "      <td>0.002002</td>\n",
       "      <td>0.001996</td>\n",
       "      <td>0.003395</td>\n",
       "      <td>0.003441</td>\n",
       "      <td>0.001935</td>\n",
       "      <td>0.003376</td>\n",
       "    </tr>\n",
       "  </tbody>\n",
       "</table>\n",
       "</div>"
      ],
      "text/plain": [
       "         metric  logical_ft_arg  logical_pt  srip_ft_arg   srip_pt  \\\n",
       "0   ndcg_burges        0.958110    0.956511     0.971255  0.940687   \n",
       "1          ndcg        0.969143    0.969746     0.979438  0.959538   \n",
       "2           map        1.000000    1.000000     1.000000  1.000000   \n",
       "3            f1        1.000000    1.000000     1.000000  1.000000   \n",
       "4        recall        1.000000    1.000000     1.000000  1.000000   \n",
       "5     precision        1.000000    1.000000     1.000000  1.000000   \n",
       "6   correctness        0.611796    0.666360     0.717469  0.550417   \n",
       "7  completeness        1.000000    1.000000     1.000000  1.000000   \n",
       "8      duration        0.002002    0.001996     0.003395  0.003441   \n",
       "\n",
       "   treemaps_ft_arg  treemaps_pt  \n",
       "0         0.950487     0.923705  \n",
       "1         0.968140     0.954364  \n",
       "2         1.000000     1.000000  \n",
       "3         1.000000     1.000000  \n",
       "4         1.000000     1.000000  \n",
       "5         1.000000     1.000000  \n",
       "6         0.602606     0.533030  \n",
       "7         1.000000     1.000000  \n",
       "8         0.001935     0.003376  "
      ]
     },
     "execution_count": 2,
     "metadata": {},
     "output_type": "execute_result"
    }
   ],
   "source": [
    "import pandas as pd\n",
    "\n",
    "df_complex = pd.read_csv('results_complex.csv')\n",
    "df_simple = pd.read_csv('results_simple.csv')\n",
    "df_actual_mac = pd.read_csv('results_actual_mac.csv')\n",
    "\n",
    "# rename column Unnamed: 0 to metric\n",
    "df_complex.rename(columns={'Unnamed: 0': 'metric'}, inplace=True)\n",
    "df_simple.rename(columns={'Unnamed: 0': 'metric'}, inplace=True)\n",
    "df_actual_mac.rename(columns={'Unnamed: 0': 'metric'}, inplace=True)\n",
    "\n",
    "df_complex"
   ]
  },
  {
   "cell_type": "code",
   "execution_count": 3,
   "metadata": {},
   "outputs": [
    {
     "name": "stdout",
     "output_type": "stream",
     "text": [
      "Index(['metric', 'logical_ft_arg', 'logical_pt', 'srip_ft_arg', 'srip_pt',\n",
      "       'treemaps_ft_arg', 'treemaps_pt'],\n",
      "      dtype='object')\n"
     ]
    }
   ],
   "source": [
    "# column names\n",
    "print(df_complex.columns)"
   ]
  },
  {
   "cell_type": "code",
   "execution_count": 7,
   "metadata": {},
   "outputs": [
    {
     "data": {
      "text/plain": [
       "logical_ft_arg     0.813373\n",
       "logical_pt         0.821088\n",
       "srip_ft_arg        0.804674\n",
       "srip_pt            0.821923\n",
       "treemaps_ft_arg    0.806393\n",
       "treemaps_pt        0.833303\n",
       "Name: 1, dtype: object"
      ]
     },
     "execution_count": 7,
     "metadata": {},
     "output_type": "execute_result"
    }
   ],
   "source": [
    "df_actual_mac.iloc[1, 1:]"
   ]
  },
  {
   "cell_type": "code",
   "execution_count": 8,
   "metadata": {},
   "outputs": [
    {
     "data": {
      "text/plain": [
       "<matplotlib.legend.Legend at 0x7fcdfe23afb0>"
      ]
     },
     "execution_count": 8,
     "metadata": {},
     "output_type": "execute_result"
    },
    {
     "data": {
      "image/png": "[encoded data removed]",
      "text/plain": [
       "<Figure size 1000x500 with 1 Axes>"
      ]
     },
     "metadata": {},
     "output_type": "display_data"
    }
   ],
   "source": [
    "# bars for ndcg for complex and simple\n",
    "import matplotlib.pyplot as plt\n",
    "\n",
    "plt.figure(figsize=(10, 5))\n",
    "models = df_complex.columns[1:]\n",
    "\n",
    "plt.bar(models, df_complex.iloc[1,1:], color='b', label='complex')\n",
    "plt.bar(models, df_simple.iloc[1,1:], color='r', label='simple')\n",
    "plt.bar(models, df_actual_mac.iloc[1,1:], color='y', label='actual mac')\n",
    "plt.ylabel('NDCG')\n",
    "plt.ylim(.8, 1)\n",
    "plt.legend()\n"
   ]
  },
  {
   "cell_type": "code",
   "execution_count": 9,
   "metadata": {},
   "outputs": [
    {
     "data": {
      "text/plain": [
       "<matplotlib.legend.Legend at 0x7fcdfe23b7f0>"
      ]
     },
     "execution_count": 9,
     "metadata": {},
     "output_type": "execute_result"
    },
    {
     "data": {
      "image/png": "[encoded data removed]",
      "text/plain": [
       "<Figure size 1000x500 with 1 Axes>"
      ]
     },
     "metadata": {},
     "output_type": "display_data"
    }
   ],
   "source": [
    "# bars for ndcg for complex and simple\n",
    "import matplotlib.pyplot as plt\n",
    "\n",
    "plt.figure(figsize=(10, 5))\n",
    "models = df_complex.columns[1:]\n",
    "\n",
    "plt.bar(models, df_complex.iloc[6,1:], color='b', label='complex')\n",
    "plt.bar(models, df_simple.iloc[6,1:], color='r', label='simple')\n",
    "plt.bar(models, df_actual_mac.iloc[6,1:], color='y', label='actual mac')\n",
    "plt.ylabel('Correctness')\n",
    "plt.legend()\n"
   ]
  }
 ],
 "metadata": {
  "kernelspec": {
   "display_name": "evaluate-cbr-Epwt-pU6-py3.10",
   "language": "python",
   "name": "python3"
  },
  "language_info": {
   "codemirror_mode": {
    "name": "ipython",
    "version": 3
   },
   "file_extension": ".py",
   "mimetype": "text/x-python",
   "name": "python",
   "nbconvert_exporter": "python",
   "pygments_lexer": "ipython3",
   "version": "3.10.12"
  }
 },
 "nbformat": 4,
 "nbformat_minor": 2
}
