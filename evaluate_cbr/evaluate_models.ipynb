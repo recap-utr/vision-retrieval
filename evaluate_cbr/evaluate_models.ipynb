{
 "cells": [
  {
   "cell_type": "code",
   "execution_count": 1,
   "metadata": {},
   "outputs": [],
   "source": [
    "from new_eval.model import ImageEmbeddingGraph, ImageGraph\n",
    "from new_eval.new_evaluation import Evaluation\n",
    "from typing import Callable, Dict, List\n",
    "import arguebuf as ab\n",
    "from time import time"
   ]
  },
  {
   "cell_type": "code",
   "execution_count": 2,
   "metadata": {},
   "outputs": [],
   "source": [
    "topic_mapping = {'allow_shops_to_open_on_holidays_and_sundays': ['nodeset6375',\n",
    "  'nodeset6410',\n",
    "  'nodeset6419',\n",
    "  'nodeset6449',\n",
    "  'nodeset6451',\n",
    "  'nodeset6457',\n",
    "  'nodeset6462',\n",
    "  'nodeset6466'],\n",
    " 'health_insurance_cover_complementary_medicine': ['nodeset6363',\n",
    "  'nodeset6370',\n",
    "  'nodeset6373',\n",
    "  'nodeset6378',\n",
    "  'nodeset6385',\n",
    "  'nodeset6386',\n",
    "  'nodeset6395',\n",
    "  'nodeset6412',\n",
    "  'med1',\n",
    "  'med2',\n",
    "  'med3',\n",
    "  'med4'],\n",
    " 'higher_dog_poo_fines': ['nodeset6362',\n",
    "  'nodeset6367',\n",
    "  'nodeset6371',\n",
    "  'nodeset6392',\n",
    "  'nodeset6400',\n",
    "  'nodeset6420',\n",
    "  'nodeset6452',\n",
    "  'nodeset6468',\n",
    "  'dog1',\n",
    "  'dog2',\n",
    "  'dog3',\n",
    "  'dog4'],\n",
    " 'introduce_capital_punishment': ['nodeset6366',\n",
    "  'nodeset6383',\n",
    "  'nodeset6387',\n",
    "  'nodeset6391',\n",
    "  'nodeset6450',\n",
    "  'nodeset6453',\n",
    "  'nodeset6464',\n",
    "  'nodeset6469',\n",
    "  'death1',\n",
    "  'death2',\n",
    "  'death3',\n",
    "  'death4'],\n",
    " 'public_broadcasting_fees_on_demand': ['nodeset6364',\n",
    "  'nodeset6374',\n",
    "  'nodeset6389',\n",
    "  'nodeset6446',\n",
    "  'nodeset6454',\n",
    "  'nodeset6463',\n",
    "  'nodeset6470',\n",
    "  'media1',\n",
    "  'media2',\n",
    "  'media3',\n",
    "  'media4'],\n",
    " 'cap_rent_increases': ['nodeset6369',\n",
    "  'nodeset6377',\n",
    "  'nodeset6384',\n",
    "  'nodeset6418',\n",
    "  'nodeset6455',\n",
    "  'nodeset6465',\n",
    "  'rent1',\n",
    "  'rent2',\n",
    "  'rent3',\n",
    "  'rent4',\n",
    "  'cap_rent_increases'],\n",
    " 'charge_tuition_fees': ['nodeset6381',\n",
    "  'nodeset6388',\n",
    "  'nodeset6394',\n",
    "  'nodeset6407',\n",
    "  'nodeset6447',\n",
    "  'nodeset6456',\n",
    "  'tuition1',\n",
    "  'tuition2',\n",
    "  'tuition3',\n",
    "  'tuition4',\n",
    "  'charge_tuition_fees'],\n",
    " 'keep_retirement_at_63': ['nodeset6382',\n",
    "  'nodeset6409',\n",
    "  'nodeset6411',\n",
    "  'nodeset6416',\n",
    "  'nodeset6421',\n",
    "  'nodeset6461'],\n",
    " 'over_the_counter_morning_after_pill': ['nodeset6368',\n",
    "  'nodeset6397',\n",
    "  'nodeset6402',\n",
    "  'nodeset6406',\n",
    "  'nodeset6414'],\n",
    " 'increase_weight_of_BA_thesis_in_final_grade': ['nodeset6376',\n",
    "  'nodeset6408',\n",
    "  'nodeset6448',\n",
    "  'nodeset6467'],\n",
    " 'stricter_regulation_of_intelligence_services': ['nodeset6365',\n",
    "  'nodeset6401',\n",
    "  'nodeset6405',\n",
    "  'nodeset6458'],\n",
    " 'EU_influence_on_political_events_in_Ukraine': ['nodeset6399',\n",
    "  'nodeset6415',\n",
    "  'nodeset6460',\n",
    "  'eu_influence_on_political_events_in_ukraine'],\n",
    " 'make_video_games_olympic': ['nodeset6380', 'nodeset6396', 'nodeset6417'],\n",
    " 'school_uniforms': ['nodeset6372', 'nodeset6390', 'nodeset6398'],\n",
    " 'TXL_airport_remain_operational_after_BER_opening': ['nodeset6403',\n",
    "  'nodeset6422',\n",
    "  'nodeset6459'],\n",
    " 'buy_tax_evader_data_from_dubious_sources': ['nodeset6379', 'nodeset6404'],\n",
    " 'partial_housing_development_at_Tempelhofer_Feld': ['nodeset6393',\n",
    "  'nodeset6413'],\n",
    " 'waste_separation': ['nodeset6361'],\n",
    " 'other': ['nodeset6423',\n",
    "  'nodeset6424',\n",
    "  'nodeset6425',\n",
    "  'nodeset6426',\n",
    "  'nodeset6427',\n",
    "  'nodeset6428',\n",
    "  'nodeset6429',\n",
    "  'nodeset6430',\n",
    "  'nodeset6431',\n",
    "  'nodeset6432',\n",
    "  'nodeset6433',\n",
    "  'nodeset6434',\n",
    "  'nodeset6435',\n",
    "  'nodeset6436',\n",
    "  'nodeset6437',\n",
    "  'nodeset6438',\n",
    "  'nodeset6439',\n",
    "  'nodeset6440',\n",
    "  'nodeset6441',\n",
    "  'nodeset6442',\n",
    "  'nodeset6443',\n",
    "  'nodeset6444',\n",
    "  'nodeset6445']}\n",
    "def simulate_mac_phase(queries: List[ImageGraph]) -> Dict[str, List[str]]:\n",
    "    res = {}\n",
    "    for query in queries:\n",
    "        q_name = query.name.split(\".\")[0]\n",
    "        for k, v in topic_mapping.items():\n",
    "            if q_name.lower() == k.lower():\n",
    "                res[q_name.lower()] = [k for k in v]\n",
    "                break\n",
    "            if q_name in v:\n",
    "                res[q_name.lower()] = [k for k in v]\n",
    "                break\n",
    "    return res"
   ]
  },
  {
   "cell_type": "code",
   "execution_count": 3,
   "metadata": {},
   "outputs": [],
   "source": [
    "from glob import glob\n",
    "from tqdm import tqdm\n",
    "\n",
    "BASEPATH = \"../data/eval_all\"\n",
    "GRAPHPATH = \"../data/graphs/microtexts\"\n",
    "QUERY_BASEPATH = \"../data/retrieval_queries\"\n",
    "\n",
    "def test(model_pt, model_ft, processor, version: str) -> dict[str, float]:\n",
    "\n",
    "    models = [model_pt, model_ft]\n",
    "    model_names = [\"pt\", \"ft\"]\n",
    "    ds_names = [\"simple\", \"complex\"]\n",
    "    res = {}\n",
    "    for model, model_name in zip(models, model_names):\n",
    "        for ds_name in ds_names:\n",
    "            def embedd(image):\n",
    "                inputs = processor(image, return_tensors=\"pt\")\n",
    "                outputs = model(**inputs)\n",
    "                return outputs.pooler_output\n",
    "\n",
    "\n",
    "            def get_system_rankings_from_experts(queries: List[ImageGraph]) -> Dict[str, Dict[str, int]]:\n",
    "                res = {}\n",
    "                for query in queries:\n",
    "                    graph = ab.load.file(query.graph_path)\n",
    "                    res[query.name] = {k.split(\"/\")[1]: v for k, v in graph.userdata[\"cbrEvaluations\"][0][\"ranking\"].items()}\n",
    "                return res\n",
    "\n",
    "            def load_cb(graphpath: str, imagepath: str, mapping_func: Callable | None = None) -> Dict[str, ImageEmbeddingGraph]:\n",
    "                cb = {}\n",
    "                for graph in tqdm(glob(f\"{graphpath}/*.json\")):\n",
    "                    name = graph.split(\"/\")[-1].split(\".\")[0]\n",
    "                    _image_path = f\"{imagepath}/{name}.png\"\n",
    "                    if mapping_func is not None:\n",
    "                        _image_path = f\"{imagepath}/{mapping_func(name)}.png\"\n",
    "                    cb[name] = ImageEmbeddingGraph(ImageGraph(graph, _image_path), embedd)\n",
    "                return cb\n",
    "\n",
    "            cb = load_cb(GRAPHPATH,f\"{BASEPATH}/casebase/{version}\", lambda name: f\"microtexts-{name}\")\n",
    "            # print(cb)\n",
    "            query_paths = glob(f\"{QUERY_BASEPATH}/microtexts-retrieval-{ds_name}/*.json\")\n",
    "            \n",
    "            # aggregate results\n",
    "            results = []\n",
    "            qs = []\n",
    "            times = []\n",
    "            for q in tqdm(query_paths):\n",
    "                query_name = q.split(\"/\")[-1]\n",
    "                start = time()\n",
    "                qs.append(ImageEmbeddingGraph(ImageGraph(q, f\"{BASEPATH}/microtexts-retrieval-{ds_name}/{version}/microtexts-{query_name.split('.')[0]}.png\"), embedd))\n",
    "                # print(query)\n",
    "                times.append(time() - start)\n",
    "            test = Evaluation(cb, get_system_rankings_from_experts(qs), simulate_mac_phase(qs), qs, embedd, debug=False)\n",
    "            results.append(test.as_dict())\n",
    "            print(f\"{version}-{model_name}-{ds_name}\")\n",
    "            res[f\"{version}-{model_name}-{ds_name}\"] = test.as_dict()\n",
    "            res[f\"{version}-{model_name}-{ds_name}\"][\"duration\"] += sum(times)\n",
    "    return res"
   ]
  },
  {
   "cell_type": "code",
   "execution_count": 4,
   "metadata": {},
   "outputs": [
    {
     "name": "stderr",
     "output_type": "stream",
     "text": [
      "Could not find image processor class in the image processor config or the model config. Loading based on pattern matching with the model's feature extractor configuration.\n",
      "Could not find image processor class in the image processor config or the model config. Loading based on pattern matching with the model's feature extractor configuration.\n",
      "Could not find image processor class in the image processor config or the model config. Loading based on pattern matching with the model's feature extractor configuration.\n",
      "Could not find image processor class in the image processor config or the model config. Loading based on pattern matching with the model's feature extractor configuration.\n",
      "Could not find image processor class in the image processor config or the model config. Loading based on pattern matching with the model's feature extractor configuration.\n",
      "100%|██████████| 110/110 [00:08<00:00, 13.35it/s]\n",
      "100%|██████████| 24/24 [00:01<00:00, 13.50it/s]\n"
     ]
    },
    {
     "name": "stdout",
     "output_type": "stream",
     "text": [
      "v1-pt-simple\n"
     ]
    },
    {
     "name": "stderr",
     "output_type": "stream",
     "text": [
      "100%|██████████| 110/110 [00:08<00:00, 12.68it/s]\n",
      "100%|██████████| 14/14 [00:01<00:00, 11.07it/s]\n"
     ]
    },
    {
     "name": "stdout",
     "output_type": "stream",
     "text": [
      "v1-pt-complex\n"
     ]
    },
    {
     "name": "stderr",
     "output_type": "stream",
     "text": [
      "100%|██████████| 110/110 [00:09<00:00, 11.25it/s]\n",
      "100%|██████████| 24/24 [00:02<00:00, 10.52it/s]\n"
     ]
    },
    {
     "name": "stdout",
     "output_type": "stream",
     "text": [
      "v1-ft-simple\n"
     ]
    },
    {
     "name": "stderr",
     "output_type": "stream",
     "text": [
      "100%|██████████| 110/110 [00:07<00:00, 14.13it/s]\n",
      "100%|██████████| 14/14 [00:00<00:00, 14.74it/s]\n"
     ]
    },
    {
     "name": "stdout",
     "output_type": "stream",
     "text": [
      "v1-ft-complex\n"
     ]
    },
    {
     "name": "stderr",
     "output_type": "stream",
     "text": [
      "100%|██████████| 110/110 [00:07<00:00, 14.42it/s]\n",
      "100%|██████████| 24/24 [00:01<00:00, 14.90it/s]\n"
     ]
    },
    {
     "name": "stdout",
     "output_type": "stream",
     "text": [
      "v2-pt-simple\n"
     ]
    },
    {
     "name": "stderr",
     "output_type": "stream",
     "text": [
      "100%|██████████| 110/110 [00:07<00:00, 15.06it/s]\n",
      "100%|██████████| 14/14 [00:00<00:00, 14.32it/s]\n"
     ]
    },
    {
     "name": "stdout",
     "output_type": "stream",
     "text": [
      "v2-pt-complex\n"
     ]
    },
    {
     "name": "stderr",
     "output_type": "stream",
     "text": [
      "100%|██████████| 110/110 [00:07<00:00, 14.62it/s]\n",
      "100%|██████████| 24/24 [00:01<00:00, 14.86it/s]\n"
     ]
    },
    {
     "name": "stdout",
     "output_type": "stream",
     "text": [
      "v2-ft-simple\n"
     ]
    },
    {
     "name": "stderr",
     "output_type": "stream",
     "text": [
      "100%|██████████| 110/110 [00:07<00:00, 14.96it/s]\n",
      "100%|██████████| 14/14 [00:00<00:00, 14.71it/s]\n"
     ]
    },
    {
     "name": "stdout",
     "output_type": "stream",
     "text": [
      "v2-ft-complex\n"
     ]
    },
    {
     "name": "stderr",
     "output_type": "stream",
     "text": [
      "100%|██████████| 110/110 [00:07<00:00, 15.00it/s]\n",
      "100%|██████████| 24/24 [00:01<00:00, 15.01it/s]\n"
     ]
    },
    {
     "name": "stdout",
     "output_type": "stream",
     "text": [
      "v3-pt-simple\n"
     ]
    },
    {
     "name": "stderr",
     "output_type": "stream",
     "text": [
      "100%|██████████| 110/110 [00:07<00:00, 14.61it/s]\n",
      "100%|██████████| 14/14 [00:00<00:00, 14.45it/s]\n"
     ]
    },
    {
     "name": "stdout",
     "output_type": "stream",
     "text": [
      "v3-pt-complex\n"
     ]
    },
    {
     "name": "stderr",
     "output_type": "stream",
     "text": [
      "100%|██████████| 110/110 [00:07<00:00, 14.82it/s]\n",
      "100%|██████████| 24/24 [00:01<00:00, 15.05it/s]\n"
     ]
    },
    {
     "name": "stdout",
     "output_type": "stream",
     "text": [
      "v3-ft-simple\n"
     ]
    },
    {
     "name": "stderr",
     "output_type": "stream",
     "text": [
      "100%|██████████| 110/110 [00:07<00:00, 14.91it/s]\n",
      "100%|██████████| 14/14 [00:00<00:00, 14.52it/s]\n"
     ]
    },
    {
     "name": "stdout",
     "output_type": "stream",
     "text": [
      "v3-ft-complex\n"
     ]
    },
    {
     "name": "stderr",
     "output_type": "stream",
     "text": [
      "100%|██████████| 110/110 [00:07<00:00, 14.50it/s]\n",
      "100%|██████████| 24/24 [00:01<00:00, 14.68it/s]\n"
     ]
    },
    {
     "name": "stdout",
     "output_type": "stream",
     "text": [
      "v4-pt-simple\n"
     ]
    },
    {
     "name": "stderr",
     "output_type": "stream",
     "text": [
      "100%|██████████| 110/110 [00:07<00:00, 14.94it/s]\n",
      "100%|██████████| 14/14 [00:00<00:00, 14.42it/s]\n"
     ]
    },
    {
     "name": "stdout",
     "output_type": "stream",
     "text": [
      "v4-pt-complex\n"
     ]
    },
    {
     "name": "stderr",
     "output_type": "stream",
     "text": [
      "100%|██████████| 110/110 [00:07<00:00, 14.65it/s]\n",
      "100%|██████████| 24/24 [00:01<00:00, 14.90it/s]\n"
     ]
    },
    {
     "name": "stdout",
     "output_type": "stream",
     "text": [
      "v4-ft-simple\n"
     ]
    },
    {
     "name": "stderr",
     "output_type": "stream",
     "text": [
      "100%|██████████| 110/110 [00:07<00:00, 14.57it/s]\n",
      "100%|██████████| 14/14 [00:00<00:00, 14.51it/s]\n"
     ]
    },
    {
     "name": "stdout",
     "output_type": "stream",
     "text": [
      "v4-ft-complex\n"
     ]
    },
    {
     "name": "stderr",
     "output_type": "stream",
     "text": [
      "100%|██████████| 110/110 [00:07<00:00, 14.80it/s]\n",
      "100%|██████████| 24/24 [00:01<00:00, 14.82it/s]\n"
     ]
    },
    {
     "name": "stdout",
     "output_type": "stream",
     "text": [
      "v5-pt-simple\n"
     ]
    },
    {
     "name": "stderr",
     "output_type": "stream",
     "text": [
      "100%|██████████| 110/110 [00:07<00:00, 14.93it/s]\n",
      "100%|██████████| 14/14 [00:00<00:00, 14.07it/s]\n"
     ]
    },
    {
     "name": "stdout",
     "output_type": "stream",
     "text": [
      "v5-pt-complex\n"
     ]
    },
    {
     "name": "stderr",
     "output_type": "stream",
     "text": [
      "100%|██████████| 110/110 [00:07<00:00, 14.39it/s]\n",
      "100%|██████████| 24/24 [00:01<00:00, 14.70it/s]\n"
     ]
    },
    {
     "name": "stdout",
     "output_type": "stream",
     "text": [
      "v5-ft-simple\n"
     ]
    },
    {
     "name": "stderr",
     "output_type": "stream",
     "text": [
      "100%|██████████| 110/110 [00:07<00:00, 14.82it/s]\n",
      "100%|██████████| 14/14 [00:00<00:00, 14.47it/s]\n"
     ]
    },
    {
     "name": "stdout",
     "output_type": "stream",
     "text": [
      "v5-ft-complex\n"
     ]
    },
    {
     "data": {
      "text/html": [
       "<div>\n",
       "<style scoped>\n",
       "    .dataframe tbody tr th:only-of-type {\n",
       "        vertical-align: middle;\n",
       "    }\n",
       "\n",
       "    .dataframe tbody tr th {\n",
       "        vertical-align: top;\n",
       "    }\n",
       "\n",
       "    .dataframe thead th {\n",
       "        text-align: right;\n",
       "    }\n",
       "</style>\n",
       "<table border=\"1\" class=\"dataframe\">\n",
       "  <thead>\n",
       "    <tr style=\"text-align: right;\">\n",
       "      <th></th>\n",
       "      <th>v1-pt-simple</th>\n",
       "      <th>v1-pt-complex</th>\n",
       "      <th>v1-ft-simple</th>\n",
       "      <th>v1-ft-complex</th>\n",
       "      <th>v2-pt-simple</th>\n",
       "      <th>v2-pt-complex</th>\n",
       "      <th>v2-ft-simple</th>\n",
       "      <th>v2-ft-complex</th>\n",
       "      <th>v3-pt-simple</th>\n",
       "      <th>v3-pt-complex</th>\n",
       "      <th>v3-ft-simple</th>\n",
       "      <th>v3-ft-complex</th>\n",
       "      <th>v4-pt-simple</th>\n",
       "      <th>v4-pt-complex</th>\n",
       "      <th>v4-ft-simple</th>\n",
       "      <th>v4-ft-complex</th>\n",
       "      <th>v5-pt-simple</th>\n",
       "      <th>v5-pt-complex</th>\n",
       "      <th>v5-ft-simple</th>\n",
       "      <th>v5-ft-complex</th>\n",
       "    </tr>\n",
       "  </thead>\n",
       "  <tbody>\n",
       "    <tr>\n",
       "      <th>ndcg_burges</th>\n",
       "      <td>0.839073</td>\n",
       "      <td>0.928853</td>\n",
       "      <td>0.849567</td>\n",
       "      <td>0.933121</td>\n",
       "      <td>0.853353</td>\n",
       "      <td>0.897135</td>\n",
       "      <td>0.837875</td>\n",
       "      <td>0.968383</td>\n",
       "      <td>0.827786</td>\n",
       "      <td>0.843699</td>\n",
       "      <td>0.827981</td>\n",
       "      <td>0.857831</td>\n",
       "      <td>0.840824</td>\n",
       "      <td>0.818769</td>\n",
       "      <td>0.836342</td>\n",
       "      <td>0.822664</td>\n",
       "      <td>0.851839</td>\n",
       "      <td>0.892443</td>\n",
       "      <td>0.851767</td>\n",
       "      <td>0.876447</td>\n",
       "    </tr>\n",
       "    <tr>\n",
       "      <th>ndcg</th>\n",
       "      <td>0.907612</td>\n",
       "      <td>0.953692</td>\n",
       "      <td>0.911118</td>\n",
       "      <td>0.957741</td>\n",
       "      <td>0.913101</td>\n",
       "      <td>0.931446</td>\n",
       "      <td>0.905174</td>\n",
       "      <td>0.977457</td>\n",
       "      <td>0.901023</td>\n",
       "      <td>0.904290</td>\n",
       "      <td>0.900519</td>\n",
       "      <td>0.912794</td>\n",
       "      <td>0.908176</td>\n",
       "      <td>0.887649</td>\n",
       "      <td>0.907037</td>\n",
       "      <td>0.888481</td>\n",
       "      <td>0.914216</td>\n",
       "      <td>0.932546</td>\n",
       "      <td>0.913643</td>\n",
       "      <td>0.924278</td>\n",
       "    </tr>\n",
       "    <tr>\n",
       "      <th>map</th>\n",
       "      <td>1.000000</td>\n",
       "      <td>1.000000</td>\n",
       "      <td>1.000000</td>\n",
       "      <td>1.000000</td>\n",
       "      <td>1.000000</td>\n",
       "      <td>1.000000</td>\n",
       "      <td>1.000000</td>\n",
       "      <td>1.000000</td>\n",
       "      <td>1.000000</td>\n",
       "      <td>1.000000</td>\n",
       "      <td>1.000000</td>\n",
       "      <td>1.000000</td>\n",
       "      <td>1.000000</td>\n",
       "      <td>1.000000</td>\n",
       "      <td>1.000000</td>\n",
       "      <td>1.000000</td>\n",
       "      <td>1.000000</td>\n",
       "      <td>1.000000</td>\n",
       "      <td>1.000000</td>\n",
       "      <td>1.000000</td>\n",
       "    </tr>\n",
       "    <tr>\n",
       "      <th>f1</th>\n",
       "      <td>1.000000</td>\n",
       "      <td>1.000000</td>\n",
       "      <td>1.000000</td>\n",
       "      <td>1.000000</td>\n",
       "      <td>1.000000</td>\n",
       "      <td>1.000000</td>\n",
       "      <td>1.000000</td>\n",
       "      <td>1.000000</td>\n",
       "      <td>1.000000</td>\n",
       "      <td>1.000000</td>\n",
       "      <td>1.000000</td>\n",
       "      <td>1.000000</td>\n",
       "      <td>1.000000</td>\n",
       "      <td>1.000000</td>\n",
       "      <td>1.000000</td>\n",
       "      <td>1.000000</td>\n",
       "      <td>1.000000</td>\n",
       "      <td>1.000000</td>\n",
       "      <td>1.000000</td>\n",
       "      <td>1.000000</td>\n",
       "    </tr>\n",
       "    <tr>\n",
       "      <th>recall</th>\n",
       "      <td>1.000000</td>\n",
       "      <td>1.000000</td>\n",
       "      <td>1.000000</td>\n",
       "      <td>1.000000</td>\n",
       "      <td>1.000000</td>\n",
       "      <td>1.000000</td>\n",
       "      <td>1.000000</td>\n",
       "      <td>1.000000</td>\n",
       "      <td>1.000000</td>\n",
       "      <td>1.000000</td>\n",
       "      <td>1.000000</td>\n",
       "      <td>1.000000</td>\n",
       "      <td>1.000000</td>\n",
       "      <td>1.000000</td>\n",
       "      <td>1.000000</td>\n",
       "      <td>1.000000</td>\n",
       "      <td>1.000000</td>\n",
       "      <td>1.000000</td>\n",
       "      <td>1.000000</td>\n",
       "      <td>1.000000</td>\n",
       "    </tr>\n",
       "    <tr>\n",
       "      <th>precision</th>\n",
       "      <td>1.000000</td>\n",
       "      <td>1.000000</td>\n",
       "      <td>1.000000</td>\n",
       "      <td>1.000000</td>\n",
       "      <td>1.000000</td>\n",
       "      <td>1.000000</td>\n",
       "      <td>1.000000</td>\n",
       "      <td>1.000000</td>\n",
       "      <td>1.000000</td>\n",
       "      <td>1.000000</td>\n",
       "      <td>1.000000</td>\n",
       "      <td>1.000000</td>\n",
       "      <td>1.000000</td>\n",
       "      <td>1.000000</td>\n",
       "      <td>1.000000</td>\n",
       "      <td>1.000000</td>\n",
       "      <td>1.000000</td>\n",
       "      <td>1.000000</td>\n",
       "      <td>1.000000</td>\n",
       "      <td>1.000000</td>\n",
       "    </tr>\n",
       "    <tr>\n",
       "      <th>correctness</th>\n",
       "      <td>0.064027</td>\n",
       "      <td>0.535427</td>\n",
       "      <td>0.095407</td>\n",
       "      <td>0.687147</td>\n",
       "      <td>0.012795</td>\n",
       "      <td>0.535876</td>\n",
       "      <td>0.024824</td>\n",
       "      <td>0.750602</td>\n",
       "      <td>0.026969</td>\n",
       "      <td>0.307581</td>\n",
       "      <td>-0.010792</td>\n",
       "      <td>0.431926</td>\n",
       "      <td>0.077601</td>\n",
       "      <td>0.154566</td>\n",
       "      <td>0.042641</td>\n",
       "      <td>0.157403</td>\n",
       "      <td>0.066156</td>\n",
       "      <td>0.381178</td>\n",
       "      <td>0.067691</td>\n",
       "      <td>0.403688</td>\n",
       "    </tr>\n",
       "    <tr>\n",
       "      <th>completeness</th>\n",
       "      <td>1.000000</td>\n",
       "      <td>1.000000</td>\n",
       "      <td>1.000000</td>\n",
       "      <td>1.000000</td>\n",
       "      <td>1.000000</td>\n",
       "      <td>1.000000</td>\n",
       "      <td>1.000000</td>\n",
       "      <td>1.000000</td>\n",
       "      <td>1.000000</td>\n",
       "      <td>1.000000</td>\n",
       "      <td>1.000000</td>\n",
       "      <td>1.000000</td>\n",
       "      <td>1.000000</td>\n",
       "      <td>1.000000</td>\n",
       "      <td>1.000000</td>\n",
       "      <td>1.000000</td>\n",
       "      <td>1.000000</td>\n",
       "      <td>1.000000</td>\n",
       "      <td>1.000000</td>\n",
       "      <td>1.000000</td>\n",
       "    </tr>\n",
       "    <tr>\n",
       "      <th>duration</th>\n",
       "      <td>1.776229</td>\n",
       "      <td>1.253036</td>\n",
       "      <td>2.277371</td>\n",
       "      <td>0.947827</td>\n",
       "      <td>1.608195</td>\n",
       "      <td>0.975818</td>\n",
       "      <td>1.612901</td>\n",
       "      <td>0.949502</td>\n",
       "      <td>1.596221</td>\n",
       "      <td>0.966320</td>\n",
       "      <td>1.591663</td>\n",
       "      <td>0.962224</td>\n",
       "      <td>1.632351</td>\n",
       "      <td>0.968425</td>\n",
       "      <td>1.608317</td>\n",
       "      <td>0.962704</td>\n",
       "      <td>1.617033</td>\n",
       "      <td>0.992850</td>\n",
       "      <td>1.630294</td>\n",
       "      <td>0.965262</td>\n",
       "    </tr>\n",
       "  </tbody>\n",
       "</table>\n",
       "</div>"
      ],
      "text/plain": [
       "              v1-pt-simple  v1-pt-complex  v1-ft-simple  v1-ft-complex  \\\n",
       "ndcg_burges       0.839073       0.928853      0.849567       0.933121   \n",
       "ndcg              0.907612       0.953692      0.911118       0.957741   \n",
       "map               1.000000       1.000000      1.000000       1.000000   \n",
       "f1                1.000000       1.000000      1.000000       1.000000   \n",
       "recall            1.000000       1.000000      1.000000       1.000000   \n",
       "precision         1.000000       1.000000      1.000000       1.000000   \n",
       "correctness       0.064027       0.535427      0.095407       0.687147   \n",
       "completeness      1.000000       1.000000      1.000000       1.000000   \n",
       "duration          1.776229       1.253036      2.277371       0.947827   \n",
       "\n",
       "              v2-pt-simple  v2-pt-complex  v2-ft-simple  v2-ft-complex  \\\n",
       "ndcg_burges       0.853353       0.897135      0.837875       0.968383   \n",
       "ndcg              0.913101       0.931446      0.905174       0.977457   \n",
       "map               1.000000       1.000000      1.000000       1.000000   \n",
       "f1                1.000000       1.000000      1.000000       1.000000   \n",
       "recall            1.000000       1.000000      1.000000       1.000000   \n",
       "precision         1.000000       1.000000      1.000000       1.000000   \n",
       "correctness       0.012795       0.535876      0.024824       0.750602   \n",
       "completeness      1.000000       1.000000      1.000000       1.000000   \n",
       "duration          1.608195       0.975818      1.612901       0.949502   \n",
       "\n",
       "              v3-pt-simple  v3-pt-complex  v3-ft-simple  v3-ft-complex  \\\n",
       "ndcg_burges       0.827786       0.843699      0.827981       0.857831   \n",
       "ndcg              0.901023       0.904290      0.900519       0.912794   \n",
       "map               1.000000       1.000000      1.000000       1.000000   \n",
       "f1                1.000000       1.000000      1.000000       1.000000   \n",
       "recall            1.000000       1.000000      1.000000       1.000000   \n",
       "precision         1.000000       1.000000      1.000000       1.000000   \n",
       "correctness       0.026969       0.307581     -0.010792       0.431926   \n",
       "completeness      1.000000       1.000000      1.000000       1.000000   \n",
       "duration          1.596221       0.966320      1.591663       0.962224   \n",
       "\n",
       "              v4-pt-simple  v4-pt-complex  v4-ft-simple  v4-ft-complex  \\\n",
       "ndcg_burges       0.840824       0.818769      0.836342       0.822664   \n",
       "ndcg              0.908176       0.887649      0.907037       0.888481   \n",
       "map               1.000000       1.000000      1.000000       1.000000   \n",
       "f1                1.000000       1.000000      1.000000       1.000000   \n",
       "recall            1.000000       1.000000      1.000000       1.000000   \n",
       "precision         1.000000       1.000000      1.000000       1.000000   \n",
       "correctness       0.077601       0.154566      0.042641       0.157403   \n",
       "completeness      1.000000       1.000000      1.000000       1.000000   \n",
       "duration          1.632351       0.968425      1.608317       0.962704   \n",
       "\n",
       "              v5-pt-simple  v5-pt-complex  v5-ft-simple  v5-ft-complex  \n",
       "ndcg_burges       0.851839       0.892443      0.851767       0.876447  \n",
       "ndcg              0.914216       0.932546      0.913643       0.924278  \n",
       "map               1.000000       1.000000      1.000000       1.000000  \n",
       "f1                1.000000       1.000000      1.000000       1.000000  \n",
       "recall            1.000000       1.000000      1.000000       1.000000  \n",
       "precision         1.000000       1.000000      1.000000       1.000000  \n",
       "correctness       0.066156       0.381178      0.067691       0.403688  \n",
       "completeness      1.000000       1.000000      1.000000       1.000000  \n",
       "duration          1.617033       0.992850      1.630294       0.965262  "
      ]
     },
     "execution_count": 4,
     "metadata": {},
     "output_type": "execute_result"
    }
   ],
   "source": [
    "from new_eval.load_trained_model import load_pt, load_ft\n",
    "from transformers import AutoImageProcessor\n",
    "import pandas as pd\n",
    "TINY = \"microsoft/swinv2-tiny-patch4-window8-256\"\n",
    "tests = []\n",
    "for i in range(1, 6):\n",
    "    if i == 5:\n",
    "        tests.append((load_pt(TINY, f\"v{i-1}\"), load_ft(TINY, f\"v{i-1}\"), AutoImageProcessor.from_pretrained(TINY), f\"v{i}\"))\n",
    "        break\n",
    "    tests.append((load_pt(TINY, f\"v{i}\"), load_ft(TINY, f\"v{i}\"), AutoImageProcessor.from_pretrained(TINY), f\"v{i}\"))\n",
    "res = {}\n",
    "for t in tests:\n",
    "    res.update(test(*t))\n",
    "df = pd.DataFrame(res)\n",
    "df.to_csv(\"eval.csv\")\n",
    "df"
   ]
  },
  {
   "cell_type": "code",
   "execution_count": 4,
   "metadata": {},
   "outputs": [
    {
     "name": "stderr",
     "output_type": "stream",
     "text": [
      "Could not find image processor class in the image processor config or the model config. Loading based on pattern matching with the model's feature extractor configuration.\n",
      "100%|██████████| 110/110 [00:08<00:00, 13.30it/s]\n",
      "100%|██████████| 24/24 [00:01<00:00, 13.31it/s]\n"
     ]
    },
    {
     "name": "stdout",
     "output_type": "stream",
     "text": [
      "v5-pt-simple\n"
     ]
    },
    {
     "name": "stderr",
     "output_type": "stream",
     "text": [
      "100%|██████████| 110/110 [00:08<00:00, 13.10it/s]\n",
      "100%|██████████| 14/14 [00:01<00:00, 13.21it/s]\n"
     ]
    },
    {
     "name": "stdout",
     "output_type": "stream",
     "text": [
      "v5-pt-complex\n"
     ]
    },
    {
     "name": "stderr",
     "output_type": "stream",
     "text": [
      "100%|██████████| 110/110 [00:07<00:00, 14.85it/s]\n",
      "100%|██████████| 24/24 [00:01<00:00, 15.01it/s]\n"
     ]
    },
    {
     "name": "stdout",
     "output_type": "stream",
     "text": [
      "v5-ft-simple\n"
     ]
    },
    {
     "name": "stderr",
     "output_type": "stream",
     "text": [
      "100%|██████████| 110/110 [00:07<00:00, 14.92it/s]\n",
      "100%|██████████| 14/14 [00:00<00:00, 14.60it/s]\n"
     ]
    },
    {
     "name": "stdout",
     "output_type": "stream",
     "text": [
      "v5-ft-complex\n"
     ]
    },
    {
     "data": {
      "text/html": [
       "<div>\n",
       "<style scoped>\n",
       "    .dataframe tbody tr th:only-of-type {\n",
       "        vertical-align: middle;\n",
       "    }\n",
       "\n",
       "    .dataframe tbody tr th {\n",
       "        vertical-align: top;\n",
       "    }\n",
       "\n",
       "    .dataframe thead th {\n",
       "        text-align: right;\n",
       "    }\n",
       "</style>\n",
       "<table border=\"1\" class=\"dataframe\">\n",
       "  <thead>\n",
       "    <tr style=\"text-align: right;\">\n",
       "      <th></th>\n",
       "      <th>v5-pt-simple</th>\n",
       "      <th>v5-pt-complex</th>\n",
       "      <th>v5-ft-simple</th>\n",
       "      <th>v5-ft-complex</th>\n",
       "    </tr>\n",
       "  </thead>\n",
       "  <tbody>\n",
       "    <tr>\n",
       "      <th>ndcg_burges</th>\n",
       "      <td>0.847187</td>\n",
       "      <td>0.912816</td>\n",
       "      <td>0.851913</td>\n",
       "      <td>0.924108</td>\n",
       "    </tr>\n",
       "    <tr>\n",
       "      <th>ndcg</th>\n",
       "      <td>0.918807</td>\n",
       "      <td>0.945442</td>\n",
       "      <td>0.918673</td>\n",
       "      <td>0.954548</td>\n",
       "    </tr>\n",
       "    <tr>\n",
       "      <th>map</th>\n",
       "      <td>1.000000</td>\n",
       "      <td>1.000000</td>\n",
       "      <td>1.000000</td>\n",
       "      <td>1.000000</td>\n",
       "    </tr>\n",
       "    <tr>\n",
       "      <th>f1</th>\n",
       "      <td>1.000000</td>\n",
       "      <td>1.000000</td>\n",
       "      <td>1.000000</td>\n",
       "      <td>1.000000</td>\n",
       "    </tr>\n",
       "    <tr>\n",
       "      <th>recall</th>\n",
       "      <td>1.000000</td>\n",
       "      <td>1.000000</td>\n",
       "      <td>1.000000</td>\n",
       "      <td>1.000000</td>\n",
       "    </tr>\n",
       "    <tr>\n",
       "      <th>precision</th>\n",
       "      <td>1.000000</td>\n",
       "      <td>1.000000</td>\n",
       "      <td>1.000000</td>\n",
       "      <td>1.000000</td>\n",
       "    </tr>\n",
       "    <tr>\n",
       "      <th>correctness</th>\n",
       "      <td>0.108619</td>\n",
       "      <td>0.552606</td>\n",
       "      <td>0.076519</td>\n",
       "      <td>0.648516</td>\n",
       "    </tr>\n",
       "    <tr>\n",
       "      <th>completeness</th>\n",
       "      <td>1.000000</td>\n",
       "      <td>1.000000</td>\n",
       "      <td>1.000000</td>\n",
       "      <td>1.000000</td>\n",
       "    </tr>\n",
       "    <tr>\n",
       "      <th>duration</th>\n",
       "      <td>1.801011</td>\n",
       "      <td>1.057448</td>\n",
       "      <td>1.595911</td>\n",
       "      <td>0.956716</td>\n",
       "    </tr>\n",
       "  </tbody>\n",
       "</table>\n",
       "</div>"
      ],
      "text/plain": [
       "              v5-pt-simple  v5-pt-complex  v5-ft-simple  v5-ft-complex\n",
       "ndcg_burges       0.847187       0.912816      0.851913       0.924108\n",
       "ndcg              0.918807       0.945442      0.918673       0.954548\n",
       "map               1.000000       1.000000      1.000000       1.000000\n",
       "f1                1.000000       1.000000      1.000000       1.000000\n",
       "recall            1.000000       1.000000      1.000000       1.000000\n",
       "precision         1.000000       1.000000      1.000000       1.000000\n",
       "correctness       0.108619       0.552606      0.076519       0.648516\n",
       "completeness      1.000000       1.000000      1.000000       1.000000\n",
       "duration          1.801011       1.057448      1.595911       0.956716"
      ]
     },
     "execution_count": 4,
     "metadata": {},
     "output_type": "execute_result"
    }
   ],
   "source": [
    "# eval treemap sat long\n",
    "from new_eval.load_trained_model import load_pt, load_ft\n",
    "from transformers import AutoImageProcessor\n",
    "import pandas as pd\n",
    "TINY = \"microsoft/swinv2-tiny-patch4-window8-256\"\n",
    "tests = [(load_pt(TINY, f\"v4\", \"models/pt_long_statedicts.pt\"), load_ft(TINY, f\"v4\", \"models/ft_long_statedicts.pt\"), AutoImageProcessor.from_pretrained(TINY), f\"v5\")]\n",
    "res = {}\n",
    "for t in tests:\n",
    "    res.update(test(*t))\n",
    "df = pd.DataFrame(res)\n",
    "df.to_csv(\"eval_long.csv\")\n",
    "df"
   ]
  },
  {
   "cell_type": "markdown",
   "metadata": {},
   "source": [
    "# NDCG analysis\n",
    "What is the worst NDCG possible?"
   ]
  },
  {
   "cell_type": "code",
   "execution_count": 5,
   "metadata": {},
   "outputs": [],
   "source": [
    "from glob import glob\n",
    "from ranx import Run, Qrels, evaluate\n",
    "import json\n",
    "\n",
    "# simple\n",
    "max_value = 3\n",
    "\n",
    "files = glob(\"../data/retrieval_queries/microtexts-retrieval-simple/*\")\n",
    "ground_truth = {}\n",
    "qrels = {}\n",
    "predicted_relevances = {}   \n",
    "# for file in files:\n",
    "# file = \"../data/retrieval_queries/microtexts-retrieval-simple/death4.json\"\n",
    "for file in files:\n",
    "    name = file.split(\"/\")[-1].split(\".\")[0]\n",
    "    g = json.load(open(file))\n",
    "    ranking = g[\"userdata\"][\"cbrEvaluations\"][0][\"ranking\"]\n",
    "    ground_truth[name] = ranking\n",
    "    qrels[name] = {k: (max_value - int(v) + 1) for k, v in ground_truth[name].items()}\n",
    "    predicted_relevances[name] = ranking\n",
    "run = Run(predicted_relevances)\n",
    "qrels = Qrels(qrels)\n",
    "evaluate(qrels, run, [\"ndcg\"])"
   ]
  },
  {
   "cell_type": "code",
   "execution_count": 7,
   "metadata": {},
   "outputs": [
    {
     "data": {
      "text/plain": [
       "0.7840210926941339"
      ]
     },
     "execution_count": 7,
     "metadata": {},
     "output_type": "execute_result"
    }
   ],
   "source": [
    "# complex\n",
    "files = glob(\"../data/retrieval_queries/microtexts-retrieval-complex/*\")\n",
    "ground_truth = {}\n",
    "qrels = {}\n",
    "predicted_relevances = {}   \n",
    "# for file in files:\n",
    "# file = \"../data/retrieval_queries/microtexts-retrieval-simple/death4.json\"\n",
    "for file in files:\n",
    "    name = file.split(\"/\")[-1].split(\".\")[0]\n",
    "    g = json.load(open(file))\n",
    "    ranking = g[\"userdata\"][\"cbrEvaluations\"][0][\"ranking\"]\n",
    "    ground_truth[name] = ranking\n",
    "    qrels[name] = {k: (max_value - int(v) + 1) for k, v in ground_truth[name].items()}\n",
    "    predicted_relevances[name] = ranking\n",
    "run = Run(predicted_relevances)\n",
    "qrels = Qrels(qrels)\n",
    "evaluate(qrels, run, [\"ndcg\"])"
   ]
  }
 ],
 "metadata": {
  "kernelspec": {
   "display_name": "evaluate-cbr-Epwt-pU6-py3.10",
   "language": "python",
   "name": "python3"
  },
  "language_info": {
   "codemirror_mode": {
    "name": "ipython",
    "version": 3
   },
   "file_extension": ".py",
   "mimetype": "text/x-python",
   "name": "python",
   "nbconvert_exporter": "python",
   "pygments_lexer": "ipython3",
   "version": "3.10.12"
  }
 },
 "nbformat": 4,
 "nbformat_minor": 2
}
