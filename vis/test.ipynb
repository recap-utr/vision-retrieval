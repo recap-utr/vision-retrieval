{
 "cells": [
  {
   "cell_type": "code",
   "execution_count": 5,
   "metadata": {},
   "outputs": [
    {
     "name": "stderr",
     "output_type": "stream",
     "text": [
      "  0%|          | 0/7 [00:00<?, ?it/s]Traceback (most recent call last):\n",
      "  File \"/tmp/ipykernel_1027629/3215644182.py\", line 34, in <module>\n",
      "    graph = ab.load.file(file)\n",
      "  File \"/home/kilian/.cache/pypoetry/virtualenvs/evaluate-cbr-Epwt-pU6-py3.10/lib/python3.10/site-packages/arguebuf/load/_load_path.py\", line 31, in load_file\n",
      "    text = text_file.read_text()\n",
      "  File \"/usr/lib/python3.10/pathlib.py\", line 1135, in read_text\n",
      "    return f.read()\n",
      "  File \"/usr/lib/python3.10/codecs.py\", line 322, in decode\n",
      "    (result, consumed) = self._buffer_decode(data, self.errors, final)\n",
      "UnicodeDecodeError: 'utf-8' codec can't decode byte 0x97 in position 378: invalid start byte\n",
      "Traceback (most recent call last):\n",
      "  File \"/tmp/ipykernel_1027629/3215644182.py\", line 34, in <module>\n",
      "    graph = ab.load.file(file)\n",
      "  File \"/home/kilian/.cache/pypoetry/virtualenvs/evaluate-cbr-Epwt-pU6-py3.10/lib/python3.10/site-packages/arguebuf/load/_load_path.py\", line 31, in load_file\n",
      "    text = text_file.read_text()\n",
      "  File \"/usr/lib/python3.10/pathlib.py\", line 1135, in read_text\n",
      "    return f.read()\n",
      "  File \"/usr/lib/python3.10/codecs.py\", line 322, in decode\n",
      "    (result, consumed) = self._buffer_decode(data, self.errors, final)\n",
      "UnicodeDecodeError: 'utf-8' codec can't decode byte 0x97 in position 378: invalid start byte\n",
      "Traceback (most recent call last):\n",
      "  File \"/tmp/ipykernel_1027629/3215644182.py\", line 34, in <module>\n",
      "    graph = ab.load.file(file)\n",
      "  File \"/home/kilian/.cache/pypoetry/virtualenvs/evaluate-cbr-Epwt-pU6-py3.10/lib/python3.10/site-packages/arguebuf/load/_load_path.py\", line 31, in load_file\n",
      "    text = text_file.read_text()\n",
      "  File \"/usr/lib/python3.10/pathlib.py\", line 1135, in read_text\n",
      "    return f.read()\n",
      "  File \"/usr/lib/python3.10/codecs.py\", line 322, in decode\n",
      "    (result, consumed) = self._buffer_decode(data, self.errors, final)\n",
      "UnicodeDecodeError: 'utf-8' codec can't decode byte 0x97 in position 378: invalid start byte\n",
      "Traceback (most recent call last):\n",
      "  File \"/tmp/ipykernel_1027629/3215644182.py\", line 34, in <module>\n",
      "    graph = ab.load.file(file)\n",
      "  File \"/home/kilian/.cache/pypoetry/virtualenvs/evaluate-cbr-Epwt-pU6-py3.10/lib/python3.10/site-packages/arguebuf/load/_load_path.py\", line 31, in load_file\n",
      "    text = text_file.read_text()\n",
      "  File \"/usr/lib/python3.10/pathlib.py\", line 1135, in read_text\n",
      "    return f.read()\n",
      "  File \"/usr/lib/python3.10/codecs.py\", line 322, in decode\n",
      "    (result, consumed) = self._buffer_decode(data, self.errors, final)\n",
      "UnicodeDecodeError: 'utf-8' codec can't decode byte 0x97 in position 378: invalid start byte\n",
      "Traceback (most recent call last):\n",
      "  File \"/tmp/ipykernel_1027629/3215644182.py\", line 34, in <module>\n",
      "    graph = ab.load.file(file)\n",
      "  File \"/home/kilian/.cache/pypoetry/virtualenvs/evaluate-cbr-Epwt-pU6-py3.10/lib/python3.10/site-packages/arguebuf/load/_load_path.py\", line 31, in load_file\n",
      "    text = text_file.read_text()\n",
      "  File \"/usr/lib/python3.10/pathlib.py\", line 1135, in read_text\n",
      "    return f.read()\n",
      "  File \"/usr/lib/python3.10/codecs.py\", line 322, in decode\n",
      "    (result, consumed) = self._buffer_decode(data, self.errors, final)\n",
      "UnicodeDecodeError: 'utf-8' codec can't decode byte 0x97 in position 378: invalid start byte\n",
      "Traceback (most recent call last):\n",
      "  File \"/tmp/ipykernel_1027629/3215644182.py\", line 34, in <module>\n",
      "    graph = ab.load.file(file)\n",
      "  File \"/home/kilian/.cache/pypoetry/virtualenvs/evaluate-cbr-Epwt-pU6-py3.10/lib/python3.10/site-packages/arguebuf/load/_load_path.py\", line 31, in load_file\n",
      "    text = text_file.read_text()\n",
      "  File \"/usr/lib/python3.10/pathlib.py\", line 1135, in read_text\n",
      "    return f.read()\n",
      "  File \"/usr/lib/python3.10/codecs.py\", line 322, in decode\n",
      "    (result, consumed) = self._buffer_decode(data, self.errors, final)\n",
      "UnicodeDecodeError: 'utf-8' codec can't decode byte 0x97 in position 378: invalid start byte\n",
      "Traceback (most recent call last):\n",
      "  File \"/tmp/ipykernel_1027629/3215644182.py\", line 34, in <module>\n",
      "    graph = ab.load.file(file)\n",
      "  File \"/home/kilian/.cache/pypoetry/virtualenvs/evaluate-cbr-Epwt-pU6-py3.10/lib/python3.10/site-packages/arguebuf/load/_load_path.py\", line 31, in load_file\n",
      "    text = text_file.read_text()\n",
      "  File \"/usr/lib/python3.10/pathlib.py\", line 1135, in read_text\n",
      "    return f.read()\n",
      "  File \"/usr/lib/python3.10/codecs.py\", line 322, in decode\n",
      "    (result, consumed) = self._buffer_decode(data, self.errors, final)\n",
      "UnicodeDecodeError: 'utf-8' codec can't decode byte 0x97 in position 378: invalid start byte\n",
      "100%|██████████| 7/7 [00:00<00:00, 406.54it/s]"
     ]
    },
    {
     "name": "stdout",
     "output_type": "stream",
     "text": [
      "error processing ../data/graphs/us-2016/nodeset10824.json\n",
      "'utf-8' codec can't decode byte 0x97 in position 378: invalid start byte\n",
      "error processing ../data/graphs/us-2016/nodeset10824.json\n",
      "'utf-8' codec can't decode byte 0x97 in position 378: invalid start byte\n",
      "error processing ../data/graphs/us-2016/nodeset10824.json\n",
      "'utf-8' codec can't decode byte 0x97 in position 378: invalid start byte\n",
      "error processing ../data/graphs/us-2016/nodeset10824.json\n",
      "'utf-8' codec can't decode byte 0x97 in position 378: invalid start byte\n",
      "error processing ../data/graphs/us-2016/nodeset10824.json\n",
      "'utf-8' codec can't decode byte 0x97 in position 378: invalid start byte\n",
      "error processing ../data/graphs/us-2016/nodeset10824.json\n",
      "'utf-8' codec can't decode byte 0x97 in position 378: invalid start byte\n",
      "error processing ../data/graphs/us-2016/nodeset10824.json\n",
      "'utf-8' codec can't decode byte 0x97 in position 378: invalid start byte\n"
     ]
    },
    {
     "name": "stderr",
     "output_type": "stream",
     "text": [
      "\n"
     ]
    }
   ],
   "source": [
    "file = \"../data/graphs/us-2016/nodeset10824.json\"\n",
    "from logical import NodeWrapper, render\n",
    "from srip import SRIP2, convert_from_AbstractNode_to_Node, default_weight\n",
    "from util import find_major_claim\n",
    "import arguebuf as ab\n",
    "from glob import glob\n",
    "from tqdm import tqdm\n",
    "from pathlib import Path\n",
    "import os\n",
    "import traceback\n",
    "\n",
    "dataset_dict = {\n",
    "    \"araucaria\": \"json\",\n",
    "    \"iac\": \"json\",\n",
    "    \"kialo-graphnli\": \"json\",\n",
    "    \"microtexts\": \"json\",\n",
    "    \"persuasive-essays\": \"ann\",\n",
    "    \"qt30\": \"json\",\n",
    "    \"us-2016\": \"json\",\n",
    "    \"kialo\": \"txt\",\n",
    "    \"kialo-nilesc\": \"txt\",\n",
    "    \"microtexts-v2\": \"xml\",\n",
    "}\n",
    "\n",
    "\n",
    "base_path = \"../data\"\n",
    "target_dir = f\"{base_path}/pretrain-logical-srip\"\n",
    "srip_dir = f\"{target_dir}/srip2\"\n",
    "logical_dir = f\"{target_dir}/logical\"\n",
    "os.makedirs(srip_dir, exist_ok=True)\n",
    "os.makedirs(logical_dir, exist_ok=True)\n",
    "\n",
    "\n",
    "for name, ext in tqdm(dataset_dict.items()):\n",
    "    for file in glob(file):\n",
    "        try:\n",
    "            graph = ab.load.file(file)\n",
    "            # mj = find_major_claim(graph)\n",
    "            # root_srip = convert_from_AbstractNode_to_Node(graph, mj)\n",
    "            # path = Path(f\"{srip_dir}/{name}-{file.split('/')[-1].replace(ext, 'png')}\")\n",
    "            # SRIP2(root_srip, graph, path, default_weight)\n",
    "            # path = Path(\n",
    "            #     f\"{logical_dir}/{name}-{file.split('/')[-1].replace(ext, 'png')}\"\n",
    "            # )\n",
    "            # render(graph, path)\n",
    "        except Exception as e:\n",
    "            print(\"error processing\", file)\n",
    "            print(e)\n",
    "            traceback.print_exc()\n",
    "            continue"
   ]
  },
  {
   "cell_type": "code",
   "execution_count": 6,
   "metadata": {},
   "outputs": [
    {
     "data": {
      "text/plain": [
       "'{\\n  \"nodes\": [\\n    {\\n      \"nodeID\": \"250197\",\\n      \"text\": \"O\\'MALLEY : I am very, very grateful to have been able to be on this stage with this distinguished group of candidates tonight\",\\n      \"type\": \"L\",\\n      \"timestamp\": \"2016-12-21 17:28:32\"\\n    },\\n    {\\n      \"nodeID\": \"250198\",\\n      \"text\": \"Asserting\",\\n      \"type\": \"YA\",\\n      \"timestamp\": \"2016-12-21 17:28:32\",\\n      \"scheme\": \"Asserting\",\\n      \"schemeID\": \"74\"\\n    },\\n    {\\n      \"nodeID\": \"250199\",\\n      \"text\": \"I am very, very grateful to have been able to be on this stage with this distinguished group of candidates tonight\",\\n      \"type\": \"I\",\\n      \"timestamp\": \"2016-12-21 17:28:32\"\\n    },\\n    {\\n      \"nodeID\": \"250200\",\\n      \"text\": \"Barbara: O\\'MALLEY : I am very, very grateful to have been able to be on this stage with this distinguished group of candidates tonight\",\\n      \"type\": \"L\",\\n      \"timestamp\": \"2016-12-21 17:28:32\"\\n    },\\n    {\\n      \"nodeID\": \"250201\",\\n      \"text\": \"O\\'MALLEY : what you heard tonight, Anderson, was a very, very \\\\u2014 and all of you watching at home \\\\u2014 was a very, very different debate than from the sort of debate you heard from the two presidential Republican debates\",\\n      \"type\": \"L\",\\n      \"timestamp\": \"2016-12-21 17:28:32\"\\n    },\\n    {\\n      \"nodeID\": \"250202\",\\n      \"text\": \"Asserting\",\\n      \"type\": \"YA\",\\n      \"timestamp\": \"2016-12-21 17:28:32\",\\n      \"scheme\": \"Asserting\",\\n      \"schemeID\": \"74\"\\n    },\\n    {\\n      \"nodeID\": \"250203\",\\n      \"text\": \"what you heard tonight, Anderson, was a very, very \\\\u2014 and all of you watching at home \\\\u2014 was a very, very different debate than from the sort of debate you heard from the two presidential Republican debates\",\\n      \"type\": \"I\",\\n      \"timestamp\": \"2016-12-21 17:28:32\"\\n    },\\n    {\\n      \"nodeID\": \"250204\",\\n      \"text\": \"Barbara: O\\'MALLEY : what you heard tonight, Anderson, was a very, very \\\\u2014 and all of you watching at home \\\\u2014 was a very, very different debate than from the sort of debate you heard from the two presidential Republican debates\",\\n      \"type\": \"L\",\\n      \"timestamp\": \"2016-12-21 17:28:32\"\\n    },\\n    {\\n      \"nodeID\": \"250205\",\\n      \"text\": \"on this stage, you didn\\'t hear anyone denigrate women\",\\n      \"type\": \"I\",\\n      \"timestamp\": \"2016-12-21 17:28:32\"\\n    },\\n    {\\n      \"nodeID\": \"250206\",\\n      \"text\": \"Arguing\",\\n      \"type\": \"YA\",\\n      \"timestamp\": \"2016-12-21 17:28:33\",\\n      \"scheme\": \"Arguing\",\\n      \"schemeID\": \"80\"\\n    },\\n    {\\n      \"nodeID\": \"250207\",\\n      \"text\": \"O\\'MALLEY : on this stage, you didn\\'t hear anyone denigrate women\",\\n      \"type\": \"L\",\\n      \"timestamp\": \"2016-12-21 17:28:33\"\\n    },\\n    {\\n      \"nodeID\": \"250208\",\\n      \"text\": \"Barbara: O\\'MALLEY : on this stage, you didn\\'t hear anyone denigrate women\",\\n      \"type\": \"L\",\\n      \"timestamp\": \"2016-12-21 17:28:33\"\\n    },\\n    {\\n      \"nodeID\": \"250209\",\\n      \"text\": \"O\\'MALLEY : you didn\\'t hear anyone make racist comments about new American immigrants\",\\n      \"type\": \"L\",\\n      \"timestamp\": \"2016-12-21 17:28:33\"\\n    },\\n    {\\n      \"nodeID\": \"250210\",\\n      \"text\": \"Asserting\",\\n      \"type\": \"YA\",\\n      \"timestamp\": \"2016-12-21 17:28:33\",\\n      \"scheme\": \"Asserting\",\\n      \"schemeID\": \"74\"\\n    },\\n    {\\n      \"nodeID\": \"250211\",\\n      \"text\": \"ou didn\\'t hear anyone make racist comments about new American immigrants\",\\n      \"type\": \"I\",\\n      \"timestamp\": \"2016-12-21 17:28:33\"\\n    },\\n    {\\n      \"nodeID\": \"250212\",\\n      \"text\": \"Barbara: O\\'MALLEY : ou didn\\'t hear anyone make racist comments about new American immigrants\",\\n      \"type\": \"L\",\\n      \"timestamp\": \"2016-12-21 17:28:33\"\\n    },\\n    {\\n      \"nodeID\": \"250213\",\\n      \"text\": \"O\\'MALLEY : you didn\\'t hear anyone speak ill of another American because of their religious belief\",\\n      \"type\": \"L\",\\n      \"timestamp\": \"2016-12-21 17:28:33\"\\n    },\\n    {\\n      \"nodeID\": \"250214\",\\n      \"text\": \"Asserting\",\\n      \"type\": \"YA\",\\n      \"timestamp\": \"2016-12-21 17:28:33\",\\n      \"scheme\": \"Asserting\",\\n      \"schemeID\": \"74\"\\n    },\\n    {\\n      \"nodeID\": \"250215\",\\n      \"text\": \"you didn\\'t hear anyone speak ill of another American because of their religious belief\",\\n      \"type\": \"I\",\\n      \"timestamp\": \"2016-12-21 17:28:33\"\\n    },\\n    {\\n      \"nodeID\": \"250216\",\\n      \"text\": \"Barbara: O\\'MALLEY : you didn\\'t hear anyone speak ill of another American because of their religious belief\",\\n      \"type\": \"L\",\\n      \"timestamp\": \"2016-12-21 17:28:34\"\\n    },\\n    {\\n      \"nodeID\": \"250217\",\\n      \"text\": \"O\\'MALLEY : What you heard instead on this stage tonight was an honest search for the answers that will move our country forward\",\\n      \"type\": \"L\",\\n      \"timestamp\": \"2016-12-21 17:28:34\"\\n    },\\n    {\\n      \"nodeID\": \"250218\",\\n      \"text\": \"Asserting\",\\n      \"type\": \"YA\",\\n      \"timestamp\": \"2016-12-21 17:28:34\",\\n      \"scheme\": \"Asserting\",\\n      \"schemeID\": \"74\"\\n    },\\n    {\\n      \"nodeID\": \"250219\",\\n      \"text\": \"what you heard instead on this stage tonight was an honest search for the answers that will move our country forward\",\\n      \"type\": \"I\",\\n      \"timestamp\": \"2016-12-21 17:28:34\"\\n    },\\n    {\\n      \"nodeID\": \"250220\",\\n      \"text\": \"Barbara: O\\'MALLEY : What you heard instead on this stage tonight was an honest search for the answers that will move our country forward\",\\n      \"type\": \"L\",\\n      \"timestamp\": \"2016-12-21 17:28:34\"\\n    },\\n    {\\n      \"nodeID\": \"250221\",\\n      \"text\": \"O\\'MALLEY : to move us to a 100 percent clean electric energy grid by 2050\",\\n      \"type\": \"L\",\\n      \"timestamp\": \"2016-12-21 17:28:34\"\\n    },\\n    {\\n      \"nodeID\": \"250222\",\\n      \"text\": \"Asserting\",\\n      \"type\": \"YA\",\\n      \"timestamp\": \"2016-12-21 17:28:34\",\\n      \"scheme\": \"Asserting\",\\n      \"schemeID\": \"74\"\\n    },\\n    {\\n      \"nodeID\": \"250223\",\\n      \"text\": \"to move us to a 100 percent clean electric energy grid by 2050\",\\n      \"type\": \"I\",\\n      \"timestamp\": \"2016-12-21 17:28:34\"\\n    },\\n    {\\n      \"nodeID\": \"250224\",\\n      \"text\": \"Barbara: O\\'MALLEY : to move us to a 100 percent clean electric energy grid by 2050\",\\n      \"type\": \"L\",\\n      \"timestamp\": \"2016-12-21 17:28:34\"\\n    },\\n    {\\n      \"nodeID\": \"250225\",\\n      \"text\": \"O\\'MALLEY : to take the actions that we have always taken as Americans so that we can actually attack injustice in our country, employ more of our people, rebuild our cities and towns, educate our children at higher and better levels, and include more of our people in the economic, social, and political life of our country\",\\n      \"type\": \"L\",\\n      \"timestamp\": \"2016-12-21 17:28:35\"\\n    },\\n    {\\n      \"nodeID\": \"250226\",\\n      \"text\": \"Asserting\",\\n      \"type\": \"YA\",\\n      \"timestamp\": \"2016-12-21 17:28:35\",\\n      \"scheme\": \"Asserting\",\\n      \"schemeID\": \"74\"\\n    },\\n    {\\n      \"nodeID\": \"250227\",\\n      \"text\": \"to take the actions that we have always taken as Americans so that we can actually attack injustice in our country, employ more of our people, rebuild our cities and towns, educate our children at higher and better levels, and include more of our people in the economic, social, and political life of our country\",\\n      \"type\": \"I\",\\n      \"timestamp\": \"2016-12-21 17:28:35\"\\n    },\\n    {\\n      \"nodeID\": \"250228\",\\n      \"text\": \"Barbara: O\\'MALLEY : to take the actions that we have always taken as Americans so that we can actually attack injustice in our country, employ more of our people, rebuild our cities and towns, educate our children at higher and better levels, and include more of our people in the economic, social, and political life of our country\",\\n      \"type\": \"L\",\\n      \"timestamp\": \"2016-12-21 17:28:35\"\\n    },\\n    {\\n      \"nodeID\": \"250229\",\\n      \"text\": \"O\\'MALLEY : we are standing on the threshold of a new era of American progress\",\\n      \"type\": \"L\",\\n      \"timestamp\": \"2016-12-21 17:28:35\"\\n    },\\n    {\\n      \"nodeID\": \"250230\",\\n      \"text\": \"Asserting\",\\n      \"type\": \"YA\",\\n      \"timestamp\": \"2016-12-21 17:28:35\",\\n      \"scheme\": \"Asserting\",\\n      \"schemeID\": \"74\"\\n    },\\n    {\\n      \"nodeID\": \"250231\",\\n      \"text\": \"we are standing on the threshold of a new era of American progress\",\\n      \"type\": \"I\",\\n      \"timestamp\": \"2016-12-21 17:28:35\"\\n    },\\n    {\\n      \"nodeID\": \"250232\",\\n      \"text\": \"Barbara: O\\'MALLEY : we are standing on the threshold of a new era of American progress\",\\n      \"type\": \"L\",\\n      \"timestamp\": \"2016-12-21 17:28:35\"\\n    },\\n    {\\n      \"nodeID\": \"250233\",\\n      \"text\": \"O\\'MALLEY : Unless you\\'ve become discouraged about our gridlock in Congress, talk to our young people under 30\",\\n      \"type\": \"L\",\\n      \"timestamp\": \"2016-12-21 17:28:35\"\\n    },\\n    {\\n      \"nodeID\": \"250234\",\\n      \"text\": \"Asserting\",\\n      \"type\": \"YA\",\\n      \"timestamp\": \"2016-12-21 17:28:36\",\\n      \"scheme\": \"Asserting\",\\n      \"schemeID\": \"74\"\\n    },\\n    {\\n      \"nodeID\": \"250235\",\\n      \"text\": \"unless you\\'ve become discouraged about our gridlock in Congress talk to our young people under 30\",\\n      \"type\": \"I\",\\n      \"timestamp\": \"2016-12-21 17:28:36\"\\n    },\\n    {\\n      \"nodeID\": \"250236\",\\n      \"text\": \"Barbara: O\\'MALLEY : Unless you\\'ve become discouraged about our gridlock in Congress, talk to our young people under 30\",\\n      \"type\": \"L\",\\n      \"timestamp\": \"2016-12-21 17:28:36\"\\n    },\\n    {\\n      \"nodeID\": \"250237\",\\n      \"text\": \"O\\'MALLEY :  you\\'ll never find among them people that want to bash immigrants or people that want to deny rights to gay couples\",\\n      \"type\": \"L\",\\n      \"timestamp\": \"2016-12-21 17:28:36\"\\n    },\\n    {\\n      \"nodeID\": \"250238\",\\n      \"text\": \"Asserting\",\\n      \"type\": \"YA\",\\n      \"timestamp\": \"2016-12-21 17:28:36\",\\n      \"scheme\": \"Asserting\",\\n      \"schemeID\": \"74\"\\n    },\\n    {\\n      \"nodeID\": \"250239\",\\n      \"text\": \"you\\'ll never find among young people those who want to bash immigrants or people that want to deny rights to gay couples\",\\n      \"type\": \"I\",\\n      \"timestamp\": \"2016-12-21 17:28:36\"\\n    },\\n    {\\n      \"nodeID\": \"250240\",\\n      \"text\": \"Barbara: O\\'MALLEY :  you\\'ll never find among them people that want to bash immigrants or people that want to deny rights to gay couples\",\\n      \"type\": \"L\",\\n      \"timestamp\": \"2016-12-21 17:28:36\"\\n    },\\n    {\\n      \"nodeID\": \"250241\",\\n      \"text\": \"Default Inference\",\\n      \"type\": \"RA\",\\n      \"timestamp\": \"2016-12-21 17:28:36\",\\n      \"scheme\": \"Default Inference\",\\n      \"schemeID\": \"72\"\\n    },\\n    {\\n      \"nodeID\": \"250242\",\\n      \"text\": \"Default Transition\",\\n      \"type\": \"TA\",\\n      \"timestamp\": \"2016-12-21 17:28:36\",\\n      \"scheme\": \"Default Transition\",\\n      \"schemeID\": \"82\"\\n    },\\n    {\\n      \"nodeID\": \"250243\",\\n      \"text\": \"Arguing\",\\n      \"type\": \"YA\",\\n      \"timestamp\": \"2016-12-21 17:28:37\",\\n      \"scheme\": \"Arguing\",\\n      \"schemeID\": \"80\"\\n    },\\n    {\\n      \"nodeID\": \"250244\",\\n      \"text\": \"[applause\",\\n      \"type\": \"L\",\\n      \"timestamp\": \"2016-12-21 17:28:37\"\\n    },\\n    {\\n      \"nodeID\": \"250245\",\\n      \"text\": \"O\\'MALLEY : we are moving to a more connected, generous, and compassionate place\",\\n      \"type\": \"L\",\\n      \"timestamp\": \"2016-12-21 17:28:37\"\\n    },\\n    {\\n      \"nodeID\": \"250246\",\\n      \"text\": \"Asserting\",\\n      \"type\": \"YA\",\\n      \"timestamp\": \"2016-12-21 17:28:37\",\\n      \"scheme\": \"Asserting\",\\n      \"schemeID\": \"74\"\\n    },\\n    {\\n      \"nodeID\": \"250247\",\\n      \"text\": \"we are moving to a more connected, generous, and compassionate place\",\\n      \"type\": \"I\",\\n      \"timestamp\": \"2016-12-21 17:28:37\"\\n    },\\n    {\\n      \"nodeID\": \"250248\",\\n      \"text\": \"Barbara: O\\'MALLEY : we are moving to a more connected, generous, and compassionate place\",\\n      \"type\": \"L\",\\n      \"timestamp\": \"2016-12-21 17:28:37\"\\n    },\\n    {\\n      \"nodeID\": \"250249\",\\n      \"text\": \"O\\'MALLEY : we need to speak to the goodness within our country\",\\n      \"type\": \"L\",\\n      \"timestamp\": \"2016-12-21 17:28:37\"\\n    },\\n    {\\n      \"nodeID\": \"250250\",\\n      \"text\": \"Asserting\",\\n      \"type\": \"YA\",\\n      \"timestamp\": \"2016-12-21 17:28:37\",\\n      \"scheme\": \"Asserting\",\\n      \"schemeID\": \"74\"\\n    },\\n    {\\n      \"nodeID\": \"250251\",\\n      \"text\": \"we need to speak to the goodness within our country\",\\n      \"type\": \"I\",\\n      \"timestamp\": \"2016-12-21 17:28:37\"\\n    },\\n    {\\n      \"nodeID\": \"250252\",\\n      \"text\": \"Barbara: O\\'MALLEY : we need to speak to the goodness within our country\",\\n      \"type\": \"L\",\\n      \"timestamp\": \"2016-12-21 17:28:37\"\\n    },\\n    {\\n      \"nodeID\": \"250253\",\\n      \"text\": \"Default Inference\",\\n      \"type\": \"RA\",\\n      \"timestamp\": \"2016-12-21 17:28:38\",\\n      \"scheme\": \"Default Inference\",\\n      \"schemeID\": \"72\"\\n    },\\n    {\\n      \"nodeID\": \"250254\",\\n      \"text\": \"Default Transition\",\\n      \"type\": \"TA\",\\n      \"timestamp\": \"2016-12-21 17:28:38\",\\n      \"scheme\": \"Default Transition\",\\n      \"schemeID\": \"82\"\\n    },\\n    {\\n      \"nodeID\": \"250255\",\\n      \"text\": \"Arguing\",\\n      \"type\": \"YA\",\\n      \"timestamp\": \"2016-12-21 17:28:38\",\\n      \"scheme\": \"Arguing\",\\n      \"schemeID\": \"80\"\\n    },\\n    {\\n      \"nodeID\": \"250256\",\\n      \"text\": \"Default Inference\",\\n      \"type\": \"RA\",\\n      \"timestamp\": \"2016-12-21 17:28:38\",\\n      \"scheme\": \"Default Inference\",\\n      \"schemeID\": \"72\"\\n    },\\n    {\\n      \"nodeID\": \"250257\",\\n      \"text\": \"Default Transition\",\\n      \"type\": \"TA\",\\n      \"timestamp\": \"2016-12-21 17:28:38\",\\n      \"scheme\": \"Default Transition\",\\n      \"schemeID\": \"82\"\\n    },\\n    {\\n      \"nodeID\": \"250258\",\\n      \"text\": \"Default Inference\",\\n      \"type\": \"RA\",\\n      \"timestamp\": \"2016-12-21 17:28:38\",\\n      \"scheme\": \"Default Inference\",\\n      \"schemeID\": \"72\"\\n    },\\n    {\\n      \"nodeID\": \"250259\",\\n      \"text\": \"Default Transition\",\\n      \"type\": \"TA\",\\n      \"timestamp\": \"2016-12-21 17:28:38\",\\n      \"scheme\": \"Default Transition\",\\n      \"schemeID\": \"82\"\\n    },\\n    {\\n      \"nodeID\": \"250260\",\\n      \"text\": \"Arguing\",\\n      \"type\": \"YA\",\\n      \"timestamp\": \"2016-12-21 17:28:38\",\\n      \"scheme\": \"Arguing\",\\n      \"schemeID\": \"80\"\\n    },\\n    {\\n      \"nodeID\": \"250261\",\\n      \"text\": \"Default Transition\",\\n      \"type\": \"TA\",\\n      \"timestamp\": \"2016-12-21 17:28:39\",\\n      \"scheme\": \"Default Transition\",\\n      \"schemeID\": \"82\"\\n    },\\n    {\\n      \"nodeID\": \"250262\",\\n      \"text\": \"Default Inference\",\\n      \"type\": \"RA\",\\n      \"timestamp\": \"2016-12-21 17:28:39\",\\n      \"scheme\": \"Default Inference\",\\n      \"schemeID\": \"72\"\\n    },\\n    {\\n      \"nodeID\": \"250263\",\\n      \"text\": \"Default Transition\",\\n      \"type\": \"TA\",\\n      \"timestamp\": \"2016-12-21 17:28:39\",\\n      \"scheme\": \"Default Transition\",\\n      \"schemeID\": \"82\"\\n    },\\n    {\\n      \"nodeID\": \"250264\",\\n      \"text\": \"Arguing\",\\n      \"type\": \"YA\",\\n      \"timestamp\": \"2016-12-21 17:28:39\",\\n      \"scheme\": \"Arguing\",\\n      \"schemeID\": \"80\"\\n    },\\n    {\\n      \"nodeID\": \"250265\",\\n      \"text\": \"Default Inference\",\\n      \"type\": \"RA\",\\n      \"timestamp\": \"2016-12-21 17:28:39\",\\n      \"scheme\": \"Default Inference\",\\n      \"schemeID\": \"72\"\\n    },\\n    {\\n      \"nodeID\": \"250266\",\\n      \"text\": \"Default Transition\",\\n      \"type\": \"TA\",\\n      \"timestamp\": \"2016-12-21 17:28:39\",\\n      \"scheme\": \"Default Transition\",\\n      \"schemeID\": \"82\"\\n    },\\n    {\\n      \"nodeID\": \"250267\",\\n      \"text\": \"Arguing\",\\n      \"type\": \"YA\",\\n      \"timestamp\": \"2016-12-21 17:28:39\",\\n      \"scheme\": \"Arguing\",\\n      \"schemeID\": \"80\"\\n    },\\n    {\\n      \"nodeID\": \"250268\",\\n      \"text\": \"Default Transition\",\\n      \"type\": \"TA\",\\n      \"timestamp\": \"2016-12-21 17:28:39\",\\n      \"scheme\": \"Default Transition\",\\n      \"schemeID\": \"82\"\\n    },\\n    {\\n      \"nodeID\": \"250269\",\\n      \"text\": \"Arguing\",\\n      \"type\": \"YA\",\\n      \"timestamp\": \"2016-12-21 17:28:39\",\\n      \"scheme\": \"Arguing\",\\n      \"schemeID\": \"80\"\\n    }\\n  ],\\n  \"edges\": [\\n    {\\n      \"edgeID\": \"301675\",\\n      \"fromID\": \"250198\",\\n      \"toID\": \"250199\",\\n      \"formEdgeID\": null\\n    },\\n    {\\n      \"edgeID\": \"301676\",\\n      \"fromID\": \"250197\",\\n      \"toID\": \"250198\",\\n      \"formEdgeID\": null\\n    },\\n    {\\n      \"edgeID\": \"301677\",\\n      \"fromID\": \"250202\",\\n      \"toID\": \"250203\",\\n      \"formEdgeID\": null\\n    },\\n    {\\n      \"edgeID\": \"301678\",\\n      \"fromID\": \"250201\",\\n      \"toID\": \"250202\",\\n      \"formEdgeID\": null\\n    },\\n    {\\n      \"edgeID\": \"301679\",\\n      \"fromID\": \"250206\",\\n      \"toID\": \"250205\",\\n      \"formEdgeID\": null\\n    },\\n    {\\n      \"edgeID\": \"301680\",\\n      \"fromID\": \"250207\",\\n      \"toID\": \"250206\",\\n      \"formEdgeID\": null\\n    },\\n    {\\n      \"edgeID\": \"301681\",\\n      \"fromID\": \"250210\",\\n      \"toID\": \"250211\",\\n      \"formEdgeID\": null\\n    },\\n    {\\n      \"edgeID\": \"301682\",\\n      \"fromID\": \"250209\",\\n      \"toID\": \"250210\",\\n      \"formEdgeID\": null\\n    },\\n    {\\n      \"edgeID\": \"301683\",\\n      \"fromID\": \"250214\",\\n      \"toID\": \"250215\",\\n      \"formEdgeID\": null\\n    },\\n    {\\n      \"edgeID\": \"301684\",\\n      \"fromID\": \"250213\",\\n      \"toID\": \"250214\",\\n      \"formEdgeID\": null\\n    },\\n    {\\n      \"edgeID\": \"301685\",\\n      \"fromID\": \"250218\",\\n      \"toID\": \"250219\",\\n      \"formEdgeID\": null\\n    },\\n    {\\n      \"edgeID\": \"301686\",\\n      \"fromID\": \"250217\",\\n      \"toID\": \"250218\",\\n      \"formEdgeID\": null\\n    },\\n    {\\n      \"edgeID\": \"301687\",\\n      \"fromID\": \"250222\",\\n      \"toID\": \"250223\",\\n      \"formEdgeID\": null\\n    },\\n    {\\n      \"edgeID\": \"301688\",\\n      \"fromID\": \"250221\",\\n      \"toID\": \"250222\",\\n      \"formEdgeID\": null\\n    },\\n    {\\n      \"edgeID\": \"301689\",\\n      \"fromID\": \"250226\",\\n      \"toID\": \"250227\",\\n      \"formEdgeID\": null\\n    },\\n    {\\n      \"edgeID\": \"301690\",\\n      \"fromID\": \"250225\",\\n      \"toID\": \"250226\",\\n      \"formEdgeID\": null\\n    },\\n    {\\n      \"edgeID\": \"301691\",\\n      \"fromID\": \"250230\",\\n      \"toID\": \"250231\",\\n      \"formEdgeID\": null\\n    },\\n    {\\n      \"edgeID\": \"301692\",\\n      \"fromID\": \"250229\",\\n      \"toID\": \"250230\",\\n      \"formEdgeID\": null\\n    },\\n    {\\n      \"edgeID\": \"301693\",\\n      \"fromID\": \"250234\",\\n      \"toID\": \"250235\",\\n      \"formEdgeID\": null\\n    },\\n    {\\n      \"edgeID\": \"301694\",\\n      \"fromID\": \"250233\",\\n      \"toID\": \"250234\",\\n      \"formEdgeID\": null\\n    },\\n    {\\n      \"edgeID\": \"301695\",\\n      \"fromID\": \"250238\",\\n      \"toID\": \"250239\",\\n      \"formEdgeID\": null\\n    },\\n    {\\n      \"edgeID\": \"301696\",\\n      \"fromID\": \"250237\",\\n      \"toID\": \"250238\",\\n      \"formEdgeID\": null\\n    },\\n    {\\n      \"edgeID\": \"301697\",\\n      \"fromID\": \"250239\",\\n      \"toID\": \"250241\",\\n      \"formEdgeID\": null\\n    },\\n    {\\n      \"edgeID\": \"301698\",\\n      \"fromID\": \"250241\",\\n      \"toID\": \"250235\",\\n      \"formEdgeID\": null\\n    },\\n    {\\n      \"edgeID\": \"301699\",\\n      \"fromID\": \"250233\",\\n      \"toID\": \"250242\",\\n      \"formEdgeID\": null\\n    },\\n    {\\n      \"edgeID\": \"301700\",\\n      \"fromID\": \"250242\",\\n      \"toID\": \"250237\",\\n      \"formEdgeID\": null\\n    },\\n    {\\n      \"edgeID\": \"301701\",\\n      \"fromID\": \"250242\",\\n      \"toID\": \"250243\",\\n      \"formEdgeID\": null\\n    },\\n    {\\n      \"edgeID\": \"301702\",\\n      \"fromID\": \"250243\",\\n      \"toID\": \"250241\",\\n      \"formEdgeID\": null\\n    },\\n    {\\n      \"edgeID\": \"301703\",\\n      \"fromID\": \"250246\",\\n      \"toID\": \"250247\",\\n      \"formEdgeID\": null\\n    },\\n    {\\n      \"edgeID\": \"301704\",\\n      \"fromID\": \"250245\",\\n      \"toID\": \"250246\",\\n      \"formEdgeID\": null\\n    },\\n    {\\n      \"edgeID\": \"301705\",\\n      \"fromID\": \"250250\",\\n      \"toID\": \"250251\",\\n      \"formEdgeID\": null\\n    },\\n    {\\n      \"edgeID\": \"301706\",\\n      \"fromID\": \"250249\",\\n      \"toID\": \"250250\",\\n      \"formEdgeID\": null\\n    },\\n    {\\n      \"edgeID\": \"301707\",\\n      \"fromID\": \"250247\",\\n      \"toID\": \"250253\",\\n      \"formEdgeID\": null\\n    },\\n    {\\n      \"edgeID\": \"301708\",\\n      \"fromID\": \"250253\",\\n      \"toID\": \"250251\",\\n      \"formEdgeID\": null\\n    },\\n    {\\n      \"edgeID\": \"301709\",\\n      \"fromID\": \"250245\",\\n      \"toID\": \"250254\",\\n      \"formEdgeID\": null\\n    },\\n    {\\n      \"edgeID\": \"301710\",\\n      \"fromID\": \"250254\",\\n      \"toID\": \"250249\",\\n      \"formEdgeID\": null\\n    },\\n    {\\n      \"edgeID\": \"301711\",\\n      \"fromID\": \"250254\",\\n      \"toID\": \"250255\",\\n      \"formEdgeID\": null\\n    },\\n    {\\n      \"edgeID\": \"301712\",\\n      \"fromID\": \"250255\",\\n      \"toID\": \"250253\",\\n      \"formEdgeID\": null\\n    },\\n    {\\n      \"edgeID\": \"301713\",\\n      \"fromID\": \"250205\",\\n      \"toID\": \"250256\",\\n      \"formEdgeID\": null\\n    },\\n    {\\n      \"edgeID\": \"301714\",\\n      \"fromID\": \"250256\",\\n      \"toID\": \"250203\",\\n      \"formEdgeID\": null\\n    },\\n    {\\n      \"edgeID\": \"301715\",\\n      \"fromID\": \"250211\",\\n      \"toID\": \"250256\",\\n      \"formEdgeID\": null\\n    },\\n    {\\n      \"edgeID\": \"301716\",\\n      \"fromID\": \"250201\",\\n      \"toID\": \"250257\",\\n      \"formEdgeID\": null\\n    },\\n    {\\n      \"edgeID\": \"301717\",\\n      \"fromID\": \"250257\",\\n      \"toID\": \"250209\",\\n      \"formEdgeID\": null\\n    },\\n    {\\n      \"edgeID\": \"301718\",\\n      \"fromID\": \"250257\",\\n      \"toID\": \"250207\",\\n      \"formEdgeID\": null\\n    },\\n    {\\n      \"edgeID\": \"301719\",\\n      \"fromID\": \"250215\",\\n      \"toID\": \"250256\",\\n      \"formEdgeID\": null\\n    },\\n    {\\n      \"edgeID\": \"301720\",\\n      \"fromID\": \"250257\",\\n      \"toID\": \"250213\",\\n      \"formEdgeID\": null\\n    },\\n    {\\n      \"edgeID\": \"301721\",\\n      \"fromID\": \"250219\",\\n      \"toID\": \"250256\",\\n      \"formEdgeID\": null\\n    },\\n    {\\n      \"edgeID\": \"301722\",\\n      \"fromID\": \"250257\",\\n      \"toID\": \"250217\",\\n      \"formEdgeID\": null\\n    },\\n    {\\n      \"edgeID\": \"301723\",\\n      \"fromID\": \"250227\",\\n      \"toID\": \"250258\",\\n      \"formEdgeID\": null\\n    },\\n    {\\n      \"edgeID\": \"301724\",\\n      \"fromID\": \"250258\",\\n      \"toID\": \"250219\",\\n      \"formEdgeID\": null\\n    },\\n    {\\n      \"edgeID\": \"301725\",\\n      \"fromID\": \"250223\",\\n      \"toID\": \"250258\",\\n      \"formEdgeID\": null\\n    },\\n    {\\n      \"edgeID\": \"301726\",\\n      \"fromID\": \"250217\",\\n      \"toID\": \"250259\",\\n      \"formEdgeID\": null\\n    },\\n    {\\n      \"edgeID\": \"301727\",\\n      \"fromID\": \"250259\",\\n      \"toID\": \"250225\",\\n      \"formEdgeID\": null\\n    },\\n    {\\n      \"edgeID\": \"301728\",\\n      \"fromID\": \"250259\",\\n      \"toID\": \"250221\",\\n      \"formEdgeID\": null\\n    },\\n    {\\n      \"edgeID\": \"301729\",\\n      \"fromID\": \"250259\",\\n      \"toID\": \"250260\",\\n      \"formEdgeID\": null\\n    },\\n    {\\n      \"edgeID\": \"301730\",\\n      \"fromID\": \"250260\",\\n      \"toID\": \"250258\",\\n      \"formEdgeID\": null\\n    },\\n    {\\n      \"edgeID\": \"301731\",\\n      \"fromID\": \"250225\",\\n      \"toID\": \"250261\",\\n      \"formEdgeID\": null\\n    },\\n    {\\n      \"edgeID\": \"301732\",\\n      \"fromID\": \"250261\",\\n      \"toID\": \"250229\",\\n      \"formEdgeID\": null\\n    },\\n    {\\n      \"edgeID\": \"301733\",\\n      \"fromID\": \"250235\",\\n      \"toID\": \"250262\",\\n      \"formEdgeID\": null\\n    },\\n    {\\n      \"edgeID\": \"301734\",\\n      \"fromID\": \"250262\",\\n      \"toID\": \"250231\",\\n      \"formEdgeID\": null\\n    },\\n    {\\n      \"edgeID\": \"301735\",\\n      \"fromID\": \"250229\",\\n      \"toID\": \"250263\",\\n      \"formEdgeID\": null\\n    },\\n    {\\n      \"edgeID\": \"301736\",\\n      \"fromID\": \"250263\",\\n      \"toID\": \"250233\",\\n      \"formEdgeID\": null\\n    },\\n    {\\n      \"edgeID\": \"301737\",\\n      \"fromID\": \"250263\",\\n      \"toID\": \"250264\",\\n      \"formEdgeID\": null\\n    },\\n    {\\n      \"edgeID\": \"301738\",\\n      \"fromID\": \"250264\",\\n      \"toID\": \"250262\",\\n      \"formEdgeID\": null\\n    },\\n    {\\n      \"edgeID\": \"301739\",\\n      \"fromID\": \"250231\",\\n      \"toID\": \"250265\",\\n      \"formEdgeID\": null\\n    },\\n    {\\n      \"edgeID\": \"301740\",\\n      \"fromID\": \"250265\",\\n      \"toID\": \"250251\",\\n      \"formEdgeID\": null\\n    },\\n    {\\n      \"edgeID\": \"301741\",\\n      \"fromID\": \"250229\",\\n      \"toID\": \"250266\",\\n      \"formEdgeID\": null\\n    },\\n    {\\n      \"edgeID\": \"301742\",\\n      \"fromID\": \"250266\",\\n      \"toID\": \"250249\",\\n      \"formEdgeID\": null\\n    },\\n    {\\n      \"edgeID\": \"301743\",\\n      \"fromID\": \"250266\",\\n      \"toID\": \"250267\",\\n      \"formEdgeID\": null\\n    },\\n    {\\n      \"edgeID\": \"301744\",\\n      \"fromID\": \"250267\",\\n      \"toID\": \"250265\",\\n      \"formEdgeID\": null\\n    },\\n    {\\n      \"edgeID\": \"301745\",\\n      \"fromID\": \"250197\",\\n      \"toID\": \"250268\",\\n      \"formEdgeID\": null\\n    },\\n    {\\n      \"edgeID\": \"301746\",\\n      \"fromID\": \"250268\",\\n      \"toID\": \"250201\",\\n      \"formEdgeID\": null\\n    },\\n    {\\n      \"edgeID\": \"301747\",\\n      \"fromID\": \"250257\",\\n      \"toID\": \"250269\",\\n      \"formEdgeID\": null\\n    },\\n    {\\n      \"edgeID\": \"301748\",\\n      \"fromID\": \"250269\",\\n      \"toID\": \"250256\",\\n      \"formEdgeID\": null\\n    }\\n  ],\\n  \"locutions\": [\\n    {\\n      \"nodeID\": \"250207\",\\n      \"personID\": \"3391\",\\n      \"timestamp\": \"2016-12-21 17:28:44\",\\n      \"start\": null,\\n      \"end\": null,\\n      \"source\": null\\n    }\\n  ]\\n}\\n'"
      ]
     },
     "execution_count": 6,
     "metadata": {},
     "output_type": "execute_result"
    }
   ],
   "source": [
    "# output the contents of the file\n",
    "import pathlib\n",
    "path = pathlib.Path(file)\n",
    "path.read_text()"
   ]
  }
 ],
 "metadata": {
  "kernelspec": {
   "display_name": "evaluate-cbr-Epwt-pU6-py3.10",
   "language": "python",
   "name": "python3"
  },
  "language_info": {
   "codemirror_mode": {
    "name": "ipython",
    "version": 3
   },
   "file_extension": ".py",
   "mimetype": "text/x-python",
   "name": "python",
   "nbconvert_exporter": "python",
   "pygments_lexer": "ipython3",
   "version": "3.10.12"
  }
 },
 "nbformat": 4,
 "nbformat_minor": 2
}
