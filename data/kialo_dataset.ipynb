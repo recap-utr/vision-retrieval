{
 "cells": [
  {
   "cell_type": "code",
   "execution_count": 4,
   "metadata": {},
   "outputs": [
    {
     "name": "stdout",
     "output_type": "stream",
     "text": [
      "kialo-graphnli/7100.json\n",
      "kialo-graphnli/2762.json\n"
     ]
    },
    {
     "name": "stderr",
     "output_type": "stream",
     "text": [
      "dot: graph is too large for cairo-renderer bitmaps. Scaling by 0.92291 to fit\n",
      "dot: graph is too large for cairo-renderer bitmaps. Scaling by 0.838309 to fit\n"
     ]
    },
    {
     "name": "stdout",
     "output_type": "stream",
     "text": [
      "kialo-graphnli/1955.json\n"
     ]
    },
    {
     "name": "stderr",
     "output_type": "stream",
     "text": [
      "dot: graph is too large for cairo-renderer bitmaps. Scaling by 0.370999 to fit\n",
      "dot: graph is too large for cairo-renderer bitmaps. Scaling by 0.214149 to fit\n",
      "dot: graph is too large for cairo-renderer bitmaps. Scaling by 0.432163 to fit\n",
      "dot: graph is too large for cairo-renderer bitmaps. Scaling by 0.625253 to fit\n",
      "dot: graph is too large for cairo-renderer bitmaps. Scaling by 0.517099 to fit\n",
      "dot: graph is too large for cairo-renderer bitmaps. Scaling by 0.401394 to fit\n",
      "dot: graph is too large for cairo-renderer bitmaps. Scaling by 0.18788 to fit\n",
      "dot: graph is too large for cairo-renderer bitmaps. Scaling by 0.346733 to fit\n",
      "dot: graph is too large for cairo-renderer bitmaps. Scaling by 0.324734 to fit\n",
      "dot: graph is too large for cairo-renderer bitmaps. Scaling by 0.308511 to fit\n",
      "dot: graph is too large for cairo-renderer bitmaps. Scaling by 0.703245 to fit\n",
      "dot: graph is too large for cairo-renderer bitmaps. Scaling by 0.958099 to fit\n"
     ]
    },
    {
     "name": "stdout",
     "output_type": "stream",
     "text": [
      "kialo-graphnli/2141.json\n"
     ]
    },
    {
     "name": "stderr",
     "output_type": "stream",
     "text": [
      "dot: graph is too large for cairo-renderer bitmaps. Scaling by 0.312346 to fit\n",
      "dot: graph is too large for cairo-renderer bitmaps. Scaling by 0.945875 to fit\n",
      "failed at node 236[1]\n",
      "dot: maze.c:313: chkSgraph: Assertion `np->cells[1]' failed.\n"
     ]
    },
    {
     "name": "stdout",
     "output_type": "stream",
     "text": [
      "kialo-graphnli/14956.json\n"
     ]
    },
    {
     "name": "stderr",
     "output_type": "stream",
     "text": [
      "dot: graph is too large for cairo-renderer bitmaps. Scaling by 0.882922 to fit\n"
     ]
    },
    {
     "name": "stdout",
     "output_type": "stream",
     "text": [
      "kialo-graphnli/1634.json\n",
      "kialo-graphnli/4148.json\n"
     ]
    },
    {
     "name": "stderr",
     "output_type": "stream",
     "text": [
      "dot: graph is too large for cairo-renderer bitmaps. Scaling by 0.253913 to fit\n",
      "dot: graph is too large for cairo-renderer bitmaps. Scaling by 0.793236 to fit\n"
     ]
    },
    {
     "name": "stdout",
     "output_type": "stream",
     "text": [
      "kialo-graphnli/801.json\n"
     ]
    },
    {
     "name": "stderr",
     "output_type": "stream",
     "text": [
      "dot: graph is too large for cairo-renderer bitmaps. Scaling by 0.331442 to fit\n",
      "failed at node 11808[1]\n",
      "dot: maze.c:313: chkSgraph: Assertion `np->cells[1]' failed.\n"
     ]
    },
    {
     "name": "stdout",
     "output_type": "stream",
     "text": [
      "kialo-graphnli/26865.json\n"
     ]
    },
    {
     "name": "stderr",
     "output_type": "stream",
     "text": [
      "dot: graph is too large for cairo-renderer bitmaps. Scaling by 0.337508 to fit\n",
      "dot: graph is too large for cairo-renderer bitmaps. Scaling by 0.425153 to fit\n",
      "dot: graph is too large for cairo-renderer bitmaps. Scaling by 0.265133 to fit\n",
      "dot: graph is too large for cairo-renderer bitmaps. Scaling by 0.47677 to fit\n",
      "dot: graph is too large for cairo-renderer bitmaps. Scaling by 0.303134 to fit\n",
      "dot: graph is too large for cairo-renderer bitmaps. Scaling by 0.525373 to fit\n",
      "dot: graph is too large for cairo-renderer bitmaps. Scaling by 0.208317 to fit\n",
      "dot: graph is too large for cairo-renderer bitmaps. Scaling by 0.924577 to fit\n",
      "dot: graph is too large for cairo-renderer bitmaps. Scaling by 0.350888 to fit\n",
      "dot: graph is too large for cairo-renderer bitmaps. Scaling by 0.287589 to fit\n"
     ]
    },
    {
     "name": "stdout",
     "output_type": "stream",
     "text": [
      "kialo-graphnli/3371.json\n"
     ]
    },
    {
     "name": "stderr",
     "output_type": "stream",
     "text": [
      "dot: graph is too large for cairo-renderer bitmaps. Scaling by 0.403212 to fit\n",
      "dot: graph is too large for cairo-renderer bitmaps. Scaling by 0.467546 to fit\n",
      "dot: graph is too large for cairo-renderer bitmaps. Scaling by 0.849392 to fit\n",
      "dot: graph is too large for cairo-renderer bitmaps. Scaling by 0.497035 to fit\n",
      "dot: graph is too large for cairo-renderer bitmaps. Scaling by 0.333598 to fit\n",
      "dot: graph is too large for cairo-renderer bitmaps. Scaling by 0.734373 to fit\n"
     ]
    },
    {
     "name": "stdout",
     "output_type": "stream",
     "text": [
      "kialo-graphnli/20564.json\n"
     ]
    },
    {
     "name": "stderr",
     "output_type": "stream",
     "text": [
      "failed at node 67[1]\n",
      "dot: maze.c:313: chkSgraph: Assertion `np->cells[1]' failed.\n"
     ]
    },
    {
     "name": "stdout",
     "output_type": "stream",
     "text": [
      "kialo-graphnli/13439.json\n"
     ]
    },
    {
     "name": "stderr",
     "output_type": "stream",
     "text": [
      "dot: graph is too large for cairo-renderer bitmaps. Scaling by 0.339431 to fit\n"
     ]
    },
    {
     "name": "stdout",
     "output_type": "stream",
     "text": [
      "kialo-graphnli/15052.json\n"
     ]
    },
    {
     "ename": "",
     "evalue": "",
     "output_type": "error",
     "traceback": [
      "\u001b[1;31mThe Kernel crashed while executing code in the the current cell or a previous cell. Please review the code in the cell(s) to identify a possible cause of the failure. Click <a href='https://aka.ms/vscodeJupyterKernelCrash'>here</a> for more info. View Jupyter <a href='command:jupyter.viewOutput'>log</a> for further details."
     ]
    }
   ],
   "source": [
    "import arguebuf as ab\n",
    "from glob import glob\n",
    "\n",
    "\n",
    "def safe_as_graph(files):\n",
    "    for file in files:\n",
    "        try:\n",
    "            graph = ab.load.file(file)\n",
    "            ab.render.graphviz(ab.dump.graphviz(graph), EXPORT_PATH + file.split('/')[-1].split('.')[0] + '.png')\n",
    "        except:\n",
    "            print(file)\n",
    "\n",
    "files = glob('kialo-graphnli/*.json')\n",
    "EXPORT_PATH = \"images/\"\n",
    "\n",
    "# split file into 6 chunks\n",
    "files = [files[i::6] for i in range(6)]\n",
    "\n",
    "# run in parallel\n",
    "from multiprocessing import Process\n",
    "for i in range(6):\n",
    "    p = Process(target=safe_as_graph, args=(files[i],))\n",
    "    p.start()\n",
    "    p.join()"
   ]
  },
  {
   "cell_type": "code",
   "execution_count": 4,
   "metadata": {},
   "outputs": [],
   "source": [
    "import arguebuf as ab\n",
    "file = 'kialo-graphnli/333.json'\n",
    "graph = ab.dump.graphviz(ab.load.file(file))\n",
    "graph"
   ]
  },
  {
   "cell_type": "markdown",
   "metadata": {},
   "source": [
    "Richtiges Layout:\n",
    "```\n",
    "digraph \"\" {\n",
    "    nodesep=0.02\n",
    "    layersep=0.02\n",
    "    ranksep=0.02\n",
    "\tnode [height=0.1,\n",
    "\t\tlabel=\"\",\n",
    "\t\tstyle=filled,\n",
    "\t\twidth=0.1,\n",
    "\t\tshape=ellipse,\n",
    "\t\tpenwidth=0,\n",
    "\t\tcolor=blue\n",
    "\t];\n",
    "\tsep=-10\n",
    "\tedge [arrowhead=none,\n",
    "\t\tstyle=tapered\n",
    "\t];\n",
    "\t333.482 [color=red];\n",
    "\t333.482 -> \"333.482,333.472\";\n",
    "\t\"333.482,333.472\" -> 333.472;\n",
    "\t333.578 -> \"333.578,333.167\";\n",
    "\t\"333.578,333.167\" -> 333.167;\n",
    "\t333.728 -> \"333.728,333.7\";\n",
    "\t\"333.728,333.7\" -> 333.7;\n",
    "}\n"
   ]
  },
  {
   "cell_type": "code",
   "execution_count": 55,
   "metadata": {},
   "outputs": [],
   "source": [
    "import subprocess\n",
    "from pybars import Compiler\n",
    "compiler = Compiler()\n",
    "\n",
    "def _list(this, options, items):\n",
    "    result = []\n",
    "    for item in items:\n",
    "        result.append(options['fn'](item))\n",
    "        result.append('\\n')\n",
    "    return result\n",
    "\n",
    "def get_color(node_label):\n",
    "    if node_label == \"Support\":\n",
    "        return \"green\"\n",
    "    elif node_label == \"Attack\":\n",
    "        return \"red\"\n",
    "    return \"blue\"\n",
    "\n",
    "def get_shape(node_label):\n",
    "    if node_label == \"diamond\":\n",
    "        return \"green\"\n",
    "    elif node_label == \"trapezium\":\n",
    "        return \"red\"\n",
    "    return \"ellipse\"\n",
    "\n",
    "\n",
    "def export_graph(inp: ab.Graph, file: str, return_str = False):\n",
    "    source = \"\"\"\n",
    "        digraph \"\" {\n",
    "        nodesep=0.02\n",
    "        layersep=0.02\n",
    "        ranksep=0.02\n",
    "        node [height=0.2,\n",
    "            label=\"\",\n",
    "            style=filled,\n",
    "            width=0.2,\n",
    "            penwidth=0,\n",
    "            color=blue,\n",
    "            shape=ellipse,\n",
    "        ];\n",
    "        sep=-10\n",
    "        edge [arrowhead=none,\n",
    "            style=tapered\n",
    "        ];\n",
    "        {{#list nodes}}\"{{id}}\" [color=\"{{color}}\" shape=\"{{shape}}\"] {{/list}}\n",
    "        {{#list edges}}\"{{source}}\" -> \"{{target}}\" {{/list}}\n",
    "    }\n",
    "    \"\"\"\n",
    "    template = compiler.compile(source)\n",
    "    helpers = {\n",
    "        'list': _list,\n",
    "    }\n",
    "    output = template({'nodes': [{\"id\": node.id, \"color\": get_color(node.label)} for node in inp.nodes.values()], 'edges': [{\"source\": edge.source.id, \"target\": edge.target.id} for edge in inp.edges.values()]}, helpers=helpers)\n",
    "    if return_str:\n",
    "        return output\n",
    "    subprocess.run([\"dot\", \"-Tpng\", \"-o\", file], input=output.encode())"
   ]
  },
  {
   "cell_type": "code",
   "execution_count": 13,
   "metadata": {},
   "outputs": [
    {
     "name": "stderr",
     "output_type": "stream",
     "text": [
      "100%|██████████| 499/499 [00:13<00:00, 37.59it/s]\n"
     ]
    }
   ],
   "source": [
    "import subprocess\n",
    "from pybars import Compiler\n",
    "from glob import glob\n",
    "import arguebuf as ab\n",
    "from tqdm import tqdm\n",
    "import os\n",
    "\n",
    "compiler = Compiler()\n",
    "\n",
    "def _list(_, options, items):\n",
    "    result = []\n",
    "    for item in items:\n",
    "        result.append(options['fn'](item))\n",
    "        result.append('\\n')\n",
    "    return result\n",
    "\n",
    "def get_color(node_label):\n",
    "    if node_label == \"Support\":\n",
    "        return \"green\"\n",
    "    elif node_label == \"Attack\":\n",
    "        return \"red\"\n",
    "    return \"blue\"\n",
    "\n",
    "def get_shape(node_label):\n",
    "    if node_label == \"Support\":\n",
    "        return \"diamond\"\n",
    "    elif node_label == \"Attack\":\n",
    "        return \"trapezium\"\n",
    "    return \"ellipse\"\n",
    "\n",
    "\n",
    "def export_graph(inp: ab.Graph, file: str, return_str = False):\n",
    "    source = \"\"\"\n",
    "        digraph \"\" {\n",
    "        nodesep=0.02\n",
    "        layersep=0.02\n",
    "        ranksep=0.02\n",
    "        node [height=0.2,\n",
    "            label=\"\",\n",
    "            style=filled,\n",
    "            width=0.2,\n",
    "            penwidth=0,\n",
    "            color=blue\n",
    "        ];\n",
    "        sep=-10\n",
    "        edge [arrowhead=none,\n",
    "            style=tapered\n",
    "        ];\n",
    "        {{#list nodes}}\"{{id}}\" [color=\"{{color}}\",shape=\"{{shape}}\"] {{/list}}\n",
    "        {{#list edges}}\"{{source}}\" -> \"{{target}}\" {{/list}}\n",
    "    }\n",
    "    \"\"\"\n",
    "    template = compiler.compile(source)\n",
    "    helpers = {\n",
    "        'list': _list,\n",
    "    }\n",
    "    output = template({'nodes': [{\"id\": node.id, \"color\": get_color(node.label), \"shape\": get_shape(node.label)} for node in inp.nodes.values()], 'edges': [{\"source\": edge.source.id, \"target\": edge.target.id} for edge in inp.edges.values()]}, helpers=helpers)\n",
    "    if return_str:\n",
    "        return output\n",
    "    subprocess.run([\"dot\", \"-Tpng\", \"-o\", file], input=output.encode())\n",
    "\n",
    "EXT = \"json\"\n",
    "FOLDER_NAME = \"us-2016\"\n",
    "\n",
    "output = f\"{FOLDER_NAME}-images/\"\n",
    "files = glob(f\"{FOLDER_NAME}/*.{EXT}\")\n",
    "\n",
    "os.makedirs(output, exist_ok=True)\n",
    "\n",
    "for file in tqdm(files):\n",
    "    try:\n",
    "        inp = ab.load.file(file)\n",
    "        export_graph(inp, output + file.split(\"/\")[-1].replace(f\".{EXT}\", \".png\"))\n",
    "    except:\n",
    "        continue"
   ]
  }
 ],
 "metadata": {
  "kernelspec": {
   "display_name": "Python 3",
   "language": "python",
   "name": "python3"
  },
  "language_info": {
   "codemirror_mode": {
    "name": "ipython",
    "version": 3
   },
   "file_extension": ".py",
   "mimetype": "text/x-python",
   "name": "python",
   "nbconvert_exporter": "python",
   "pygments_lexer": "ipython3",
   "version": "3.10.12"
  }
 },
 "nbformat": 4,
 "nbformat_minor": 2
}
