{
 "cells": [
  {
   "cell_type": "markdown",
   "id": "4f4e8864",
   "metadata": {
    "papermill": {
     "duration": 0.016955,
     "end_time": "2023-10-12T10:07:26.829381",
     "exception": false,
     "start_time": "2023-10-12T10:07:26.812426",
     "status": "completed"
    },
    "tags": []
   },
   "source": [
    "\n",
    "# Tutorial 13: Self-Supervised Contrastive Learning with SimCLR\n",
    "\n",
    "* **Author:** Phillip Lippe\n",
    "* **License:** CC BY-SA\n",
    "* **Generated:** 2023-10-12T10:05:10.778217\n",
    "\n",
    "In this tutorial, we will take a closer look at self-supervised contrastive learning.\n",
    "Self-supervised learning, or also sometimes called unsupervised learning, describes the scenario where we have given input data, but no accompanying labels to train in a classical supervised way.\n",
    "However, this data still contains a lot of information from which we can learn: how are the images different from each other?\n",
    "What patterns are descriptive for certain images?\n",
    "Can we cluster the images?\n",
    "To get an insight into these questions, we will implement a popular, simple contrastive learning method, SimCLR, and apply it to the STL10 dataset.\n",
    "This notebook is part of a lecture series on Deep Learning at the University of Amsterdam.\n",
    "The full list of tutorials can be found at https://uvadlc-notebooks.rtfd.io.\n",
    "\n",
    "\n",
    "---\n",
    "Open in [![Open In Colab](data:image/png;base64,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){height=\"20px\" width=\"117px\"}](https://colab.research.google.com/github/PytorchLightning/lightning-tutorials/blob/publication/.notebooks/course_UvA-DL/13-contrastive-learning.ipynb)\n",
    "\n",
    "Give us a ⭐ [on Github](https://www.github.com/Lightning-AI/lightning/)\n",
    "| Check out [the documentation](https://pytorch-lightning.readthedocs.io/en/stable/)\n",
    "| Join us [on Slack](https://www.pytorchlightning.ai/community)"
   ]
  },
  {
   "cell_type": "markdown",
   "id": "2a6eb697",
   "metadata": {
    "papermill": {
     "duration": 0.014639,
     "end_time": "2023-10-12T10:07:26.859268",
     "exception": false,
     "start_time": "2023-10-12T10:07:26.844629",
     "status": "completed"
    },
    "tags": []
   },
   "source": [
    "## Setup\n",
    "This notebook requires some packages besides pytorch-lightning."
   ]
  },
  {
   "cell_type": "markdown",
   "id": "51133008",
   "metadata": {
    "papermill": {
     "duration": 0.015111,
     "end_time": "2023-10-12T10:09:05.667755",
     "exception": false,
     "start_time": "2023-10-12T10:09:05.652644",
     "status": "completed"
    },
    "tags": []
   },
   "source": [
    "<div class=\"center-wrapper\"><div class=\"video-wrapper\"><iframe src=\"https://www.youtube.com/embed/waVZDFR-06U\" title=\"YouTube video player\" frameborder=\"0\" allow=\"accelerometer; autoplay; clipboard-write; encrypted-media; gyroscope; picture-in-picture\" allowfullscreen></iframe></div></div>\n",
    "Methods for self-supervised learning try to learn as much as possible from the data alone, so it can quickly be finetuned for a specific classification task.\n",
    "The benefit of self-supervised learning is that a large dataset can often easily be obtained.\n",
    "For instance, if we want to train a vision model on semantic segmentation for autonomous driving, we can collect large amounts of data by simply installing a camera in a car, and driving through a city for an hour.\n",
    "In contrast, if we would want to do supervised learning, we would have to manually label all those images before training a model.\n",
    "This is extremely expensive, and would likely take a couple of months to manually label the same amount of data.\n",
    "Further, self-supervised learning can provide an alternative to transfer learning from models pretrained on ImageNet since we could pretrain a model on a specific dataset/situation, e.g. traffic scenarios for autonomous driving.\n",
    "\n",
    "Within the last two years, a lot of new approaches have been proposed for self-supervised learning, in particular for images, that have resulted in great improvements over supervised models when few labels are available.\n",
    "The subfield that we will focus on in this tutorial is contrastive learning.\n",
    "Contrastive learning is motivated by the question mentioned above: how are images different from each other?\n",
    "Specifically, contrastive learning methods train a model to cluster an image and its slightly augmented version in latent space, while the distance to other images should be maximized.\n",
    "A very recent and simple method for this is [SimCLR](https://arxiv.org/abs/2006.10029), which is visualized below (figure credit - [Ting Chen et al. ](https://simclr.github.io/)).\n",
    "\n",
    "The general setup is that we are given a dataset of images without any labels, and want to train a model on this data such that it can quickly adapt to any image recognition task afterward.\n",
    "During each training iteration, we sample a batch of images as usual.\n",
    "For each image, we create two versions by applying data augmentation techniques like cropping, Gaussian noise, blurring, etc.\n",
    "An example of such is shown on the left with the image of the dog.\n",
    "We will go into the details and effects of the chosen augmentation techniques later.\n",
    "On those images, we apply a CNN like ResNet and obtain as output a 1D feature vector on which we apply a small MLP.\n",
    "The output features of the two augmented images are then trained to be close to each other, while all other images in that batch should be as different as possible.\n",
    "This way, the model has to learn to recognize the content of the image that remains unchanged under the data augmentations, such as objects which we usually care about in supervised tasks.\n",
    "\n",
    "We will now implement this framework ourselves and discuss further details along the way.\n",
    "Let's first start with importing our standard libraries below:"
   ]
  },
  {
   "cell_type": "code",
   "execution_count": 1,
   "id": "0d69e5b3",
   "metadata": {
    "papermill": {
     "duration": 4.46387,
     "end_time": "2023-10-12T10:09:10.146466",
     "exception": false,
     "start_time": "2023-10-12T10:09:05.682596",
     "status": "completed"
    },
    "tags": []
   },
   "outputs": [
    {
     "name": "stderr",
     "output_type": "stream",
     "text": [
      "Seed set to 42\n"
     ]
    },
    {
     "name": "stdout",
     "output_type": "stream",
     "text": [
      "Device: cuda:0\n",
      "Number of workers: 80\n"
     ]
    },
    {
     "data": {
      "text/plain": [
       "<Figure size 640x480 with 0 Axes>"
      ]
     },
     "metadata": {},
     "output_type": "display_data"
    }
   ],
   "source": [
    "import os\n",
    "import urllib.request\n",
    "from copy import deepcopy\n",
    "from urllib.error import HTTPError\n",
    "\n",
    "import lightning as L\n",
    "import matplotlib\n",
    "import matplotlib.pyplot as plt\n",
    "import matplotlib_inline.backend_inline\n",
    "import seaborn as sns\n",
    "import torch\n",
    "import torch.nn as nn\n",
    "import torch.nn.functional as F\n",
    "import torch.optim as optim\n",
    "import torch.utils.data as data\n",
    "import torchvision\n",
    "from lightning.pytorch.callbacks import LearningRateMonitor, ModelCheckpoint\n",
    "from torchvision import transforms\n",
    "from datasets import load_dataset\n",
    "from tqdm.notebook import tqdm\n",
    "\n",
    "plt.set_cmap(\"cividis\")\n",
    "%matplotlib inline\n",
    "matplotlib_inline.backend_inline.set_matplotlib_formats(\"svg\", \"pdf\")  # For export\n",
    "matplotlib.rcParams[\"lines.linewidth\"] = 2.0\n",
    "sns.set()\n",
    "\n",
    "# Import tensorboard\n",
    "%load_ext tensorboard\n",
    "\n",
    "# Path to the folder where the datasets are/should be downloaded (e.g. CIFAR10)\n",
    "DATASET_PATH = os.environ.get(\"PATH_DATASETS\", \"data/\")\n",
    "# Path to the folder where the pretrained models are saved\n",
    "CHECKPOINT_PATH = os.environ.get(\"PATH_CHECKPOINT\", \"saved_models/ContrastiveLearning_graphimages-twopi/\")\n",
    "# In this notebook, we use data loaders with heavier computational processing. It is recommended to use as many\n",
    "# workers as possible in a data loader, which corresponds to the number of CPU cores\n",
    "NUM_WORKERS = os.cpu_count()\n",
    "\n",
    "MODEL=\"microsoft/swinv2-tiny-patch4-window8-256\"\n",
    "\n",
    "# Setting the seed\n",
    "L.seed_everything(42)\n",
    "\n",
    "# Ensure that all operations are deterministic on GPU (if used) for reproducibility\n",
    "torch.backends.cudnn.deterministic = True\n",
    "torch.backends.cudnn.benchmark = False\n",
    "\n",
    "device = torch.device(\"cuda:0\") if torch.cuda.is_available() else torch.device(\"cpu\")\n",
    "print(\"Device:\", device)\n",
    "print(\"Number of workers:\", NUM_WORKERS)"
   ]
  },
  {
   "cell_type": "markdown",
   "id": "b5fbec88",
   "metadata": {
    "papermill": {
     "duration": 0.018954,
     "end_time": "2023-10-12T10:09:13.327903",
     "exception": false,
     "start_time": "2023-10-12T10:09:13.308949",
     "status": "completed"
    },
    "tags": []
   },
   "source": [
    "## SimCLR\n",
    "\n",
    "We will start our exploration of contrastive learning by discussing the effect of different data augmentation techniques, and how we can implement an efficient data loader for such.\n",
    "Next, we implement SimCLR with PyTorch Lightning, and finally train it on a large, unlabeled dataset."
   ]
  },
  {
   "cell_type": "markdown",
   "id": "698f3baa",
   "metadata": {
    "lines_to_next_cell": 2,
    "papermill": {
     "duration": 0.015959,
     "end_time": "2023-10-12T10:09:13.363188",
     "exception": false,
     "start_time": "2023-10-12T10:09:13.347229",
     "status": "completed"
    },
    "tags": []
   },
   "source": [
    "### Data Augmentation for Contrastive Learning\n",
    "\n",
    "To allow efficient training, we need to prepare the data loading such that we sample two different, random augmentations for each image in the batch.\n",
    "The easiest way to do this is by creating a transformation that, when being called, applies a set of data augmentations to an image twice.\n",
    "This is implemented in the class `ContrastiveTransformations` below:"
   ]
  },
  {
   "cell_type": "markdown",
   "id": "cbecb8dc",
   "metadata": {
    "papermill": {
     "duration": 0.016143,
     "end_time": "2023-10-12T10:09:13.435673",
     "exception": false,
     "start_time": "2023-10-12T10:09:13.419530",
     "status": "completed"
    },
    "tags": []
   },
   "source": [
    "The contrastive learning framework can easily be extended to have more _positive_ examples by sampling more than two augmentations of the same image.\n",
    "However, the most efficient training is usually obtained by using only two.\n",
    "\n",
    "Next, we can look at the specific augmentations we want to apply.\n",
    "The choice of the data augmentation to use is the most crucial hyperparameter in SimCLR since it directly affects how the latent space is structured, and what patterns might be learned from the data.\n",
    "Let's first take a look at some of the most popular data augmentations (figure credit - [Ting Chen and Geoffrey Hinton](https://ai.googleblog.com/2020/04/advancing-self-supervised-and-semi.html)):\n",
    "\n",
    "<center width=\"100%\"><img src=\"https://github.com/Lightning-AI/lightning-tutorials/raw/main/course_UvA-DL/13-contrastive-learning/simclr_data_augmentations.jpg\" width=\"800px\" style=\"padding-top: 10px; padding-bottom: 10px\"></center>\n",
    "\n",
    "All of them can be used, but it turns out that two augmentations stand out in their importance: crop-and-resize, and color distortion.\n",
    "Interestingly, however, they only lead to strong performance if they have been used together as discussed by [Ting Chen et al. ](https://arxiv.org/abs/2006.10029) in their SimCLR paper.\n",
    "When performing randomly cropping and resizing, we can distinguish between two situations: (a) cropped image A provides a local view of cropped image B, or (b) cropped images C and D show neighboring views of the same image (figure credit - [Ting Chen and Geoffrey Hinton](https://ai.googleblog.com/2020/04/advancing-self-supervised-and-semi.html)).\n",
    "\n",
    "<center width=\"100%\"><img src=\"https://github.com/Lightning-AI/lightning-tutorials/raw/main/course_UvA-DL/13-contrastive-learning/crop_views.svg\" width=\"400px\" style=\"padding-top: 20px; padding-bottom: 0px\"></center>\n",
    "\n",
    "While situation (a) requires the model to learn some sort of scale invariance to make crops A and B similar in latent space, situation (b) is more challenging since the model needs to recognize an object beyond its limited view.\n",
    "However, without color distortion, there is a loophole that the model can exploit, namely that different crops of the same image usually look very similar in color space.\n",
    "Consider the picture of the dog above.\n",
    "Simply from the color of the fur and the green color tone of the background, you can reason that two patches belong to the same image without actually recognizing the dog in the picture.\n",
    "In this case, the model might end up focusing only on the color histograms of the images, and ignore other more generalizable features.\n",
    "If, however, we distort the colors in the two patches randomly and independently of each other, the model cannot rely on this simple feature anymore.\n",
    "Hence, by combining random cropping and color distortions, the model can only match two patches by learning generalizable representations.\n",
    "\n",
    "Overall, for our experiments, we apply a set of 5 transformations following the original SimCLR setup: random horizontal flip, crop-and-resize, color distortion, random grayscale, and gaussian blur.\n",
    "In comparison to the [original implementation](https://github.com/google-research/simclr), we reduce the effect of the color jitter slightly (0.5 instead of 0.8 for brightness, contrast, and saturation, and 0.1 instead of 0.2 for hue).\n",
    "In our experiments, this setting obtained better performance and was faster and more stable to train.\n",
    "If, for instance, the brightness scale highly varies in a dataset, the\n",
    "original settings can be more beneficial since the model can't rely on\n",
    "this information anymore to distinguish between images."
   ]
  },
  {
   "cell_type": "code",
   "execution_count": 2,
   "id": "bb242433",
   "metadata": {
    "papermill": {
     "duration": 0.023915,
     "end_time": "2023-10-12T10:09:13.475613",
     "exception": false,
     "start_time": "2023-10-12T10:09:13.451698",
     "status": "completed"
    },
    "tags": []
   },
   "outputs": [],
   "source": [
    "contrast_transforms = transforms.Compose(\n",
    "    [\n",
    "        transforms.RandomHorizontalFlip(),\n",
    "        #transforms.RandomResizedCrop(size=256),\n",
    "        transforms.RandomApply([transforms.ColorJitter(brightness=.1, contrast=0.5, saturation=0.5, hue=0.1)], p=0.8),\n",
    "        #transforms.RandomGrayscale(p=0.2),\n",
    "        transforms.GaussianBlur(kernel_size=21, sigma=40.)\n",
    "    ]\n",
    ")"
   ]
  },
  {
   "cell_type": "markdown",
   "id": "66904433",
   "metadata": {
    "papermill": {
     "duration": 0.015605,
     "end_time": "2023-10-12T10:09:13.512857",
     "exception": false,
     "start_time": "2023-10-12T10:09:13.497252",
     "status": "completed"
    },
    "tags": []
   },
   "source": [
    "After discussing the data augmentation techniques, we can now focus on the dataset.\n",
    "In this tutorial, we will use the [STL10 dataset](https://cs.stanford.edu/~acoates/stl10/), which, similarly to CIFAR10, contains images of 10 classes: airplane, bird, car, cat, deer, dog, horse, monkey, ship, truck.\n",
    "However, the images have a higher resolution, namely $96\\times 96$ pixels, and we are only provided with 500 labeled images per class.\n",
    "Additionally, we have a much larger set of $100,000$ unlabeled images which are similar to the training images but are sampled from a wider range of animals and vehicles.\n",
    "This makes the dataset ideal to showcase the benefits that self-supervised learning offers.\n",
    "\n",
    "Luckily, the STL10 dataset is provided through torchvision.\n",
    "Keep in mind, however, that since this dataset is relatively large and has a considerably higher resolution than CIFAR10, it requires more disk space (~3GB) and takes a bit of time to download.\n",
    "For our initial discussion of self-supervised learning and SimCLR, we\n",
    "will create two data loaders with our contrastive transformations above:\n",
    "the `unlabeled_data` will be used to train our model via contrastive\n",
    "learning, and `train_data_contrast` will be used as a validation set in\n",
    "contrastive learning."
   ]
  },
  {
   "cell_type": "code",
   "execution_count": 3,
   "id": "619ff62a-a234-4233-8884-89f0853e22e6",
   "metadata": {},
   "outputs": [
    {
     "name": "stderr",
     "output_type": "stream",
     "text": [
      "Could not find image processor class in the image processor config or the model config. Loading based on pattern matching with the model's feature extractor configuration.\n"
     ]
    }
   ],
   "source": [
    "from transformers import AutoImageProcessor\n",
    "processor = AutoImageProcessor.from_pretrained(MODEL)\n",
    "\n",
    "def create_views(x, base_transforms, n_views):\n",
    "    return torch.cat([processor(base_transforms(x.convert(\"RGB\")), return_tensors=\"pt\")[\"pixel_values\"] for i in range(n_views)])\n",
    "    \n",
    "def apply_transforms(examples):\n",
    "    examples[\"pixel_values\"] = [create_views(x, contrast_transforms, 2) for x in examples[\"image\"]]\n",
    "    return examples"
   ]
  },
  {
   "cell_type": "code",
   "execution_count": 4,
   "id": "d7641d92",
   "metadata": {
    "papermill": {
     "duration": 469.970451,
     "end_time": "2023-10-12T10:17:03.500908",
     "exception": false,
     "start_time": "2023-10-12T10:09:13.530457",
     "status": "completed"
    },
    "tags": []
   },
   "outputs": [
    {
     "data": {
      "application/vnd.jupyter.widget-view+json": {
       "model_id": "22d2fa2a71484599b88a233f97718eaa",
       "version_major": 2,
       "version_minor": 0
      },
      "text/plain": [
       "Downloading readme:   0%|          | 0.00/619 [00:00<?, ?B/s]"
      ]
     },
     "metadata": {},
     "output_type": "display_data"
    },
    {
     "data": {
      "application/vnd.jupyter.widget-view+json": {
       "model_id": "c51931286cc64fb1be59c21038bf7d2e",
       "version_major": 2,
       "version_minor": 0
      },
      "text/plain": [
       "Downloading data:   0%|          | 0.00/94.1M [00:00<?, ?B/s]"
      ]
     },
     "metadata": {},
     "output_type": "display_data"
    },
    {
     "data": {
      "application/vnd.jupyter.widget-view+json": {
       "model_id": "9d6716a14508431e91b3ef804b993a1e",
       "version_major": 2,
       "version_minor": 0
      },
      "text/plain": [
       "Downloading data:   0%|          | 0.00/10.3M [00:00<?, ?B/s]"
      ]
     },
     "metadata": {},
     "output_type": "display_data"
    },
    {
     "data": {
      "application/vnd.jupyter.widget-view+json": {
       "model_id": "897cf2abe66c4882b03540630b8219f5",
       "version_major": 2,
       "version_minor": 0
      },
      "text/plain": [
       "Downloading data:   0%|          | 0.00/772k [00:00<?, ?B/s]"
      ]
     },
     "metadata": {},
     "output_type": "display_data"
    },
    {
     "data": {
      "application/vnd.jupyter.widget-view+json": {
       "model_id": "83b4dbe532aa4a2493a807a57d68c374",
       "version_major": 2,
       "version_minor": 0
      },
      "text/plain": [
       "Generating train split:   0%|          | 0/5826 [00:00<?, ? examples/s]"
      ]
     },
     "metadata": {},
     "output_type": "display_data"
    },
    {
     "data": {
      "application/vnd.jupyter.widget-view+json": {
       "model_id": "fbc86d5d1340426ba3abe780b4afc96f",
       "version_major": 2,
       "version_minor": 0
      },
      "text/plain": [
       "Generating test split:   0%|          | 0/648 [00:00<?, ? examples/s]"
      ]
     },
     "metadata": {},
     "output_type": "display_data"
    },
    {
     "data": {
      "application/vnd.jupyter.widget-view+json": {
       "model_id": "9380440b921e4c37b953e36ff1fcd68b",
       "version_major": 2,
       "version_minor": 0
      },
      "text/plain": [
       "Generating validation split:   0%|          | 0/110 [00:00<?, ? examples/s]"
      ]
     },
     "metadata": {},
     "output_type": "display_data"
    }
   ],
   "source": [
    "ds = load_dataset(\"kblw/graphimages_twopi\")\n",
    "ds.set_transform(apply_transforms)\n",
    "unlabeled_data = ds[\"train\"]\n",
    "train_data_contrast = ds[\"test\"]"
   ]
  },
  {
   "cell_type": "code",
   "execution_count": 5,
   "id": "c9873591-d07f-4ae5-9f1c-3aa4e990ff64",
   "metadata": {},
   "outputs": [
    {
     "data": {
      "text/plain": [
       "torch.Size([2, 3, 256, 256])"
      ]
     },
     "execution_count": 5,
     "metadata": {},
     "output_type": "execute_result"
    }
   ],
   "source": [
    "unlabeled_data[1][\"pixel_values\"].shape"
   ]
  },
  {
   "cell_type": "markdown",
   "id": "f6b97596",
   "metadata": {
    "papermill": {
     "duration": 0.248438,
     "end_time": "2023-10-12T10:17:03.944584",
     "exception": false,
     "start_time": "2023-10-12T10:17:03.696146",
     "status": "completed"
    },
    "tags": []
   },
   "source": [
    "Finally, before starting with our implementation of SimCLR, let's look\n",
    "at some example image pairs sampled with our augmentations:"
   ]
  },
  {
   "cell_type": "code",
   "execution_count": 6,
   "id": "5103283d",
   "metadata": {
    "papermill": {
     "duration": 0.934358,
     "end_time": "2023-10-12T10:17:05.077149",
     "exception": false,
     "start_time": "2023-10-12T10:17:04.142791",
     "status": "completed"
    },
    "tags": []
   },
   "outputs": [
    {
     "name": "stderr",
     "output_type": "stream",
     "text": [
      "Seed set to 42\n"
     ]
    },
    {
     "name": "stdout",
     "output_type": "stream",
     "text": [
      "torch.Size([12, 3, 256, 256])\n"
     ]
    },
    {
     "data": {
      "application/pdf": "[encoded data removed]",
      "image/svg+xml": [
       "<?xml version=\"1.0\" encoding=\"utf-8\" standalone=\"no\"?>\n",
       "<!DOCTYPE svg PUBLIC \"-//W3C//DTD SVG 1.1//EN\"\n",
       "  \"http://www.w3.org/Graphics/SVG/1.1/DTD/svg11.dtd\">\n",
       "<svg xmlns:xlink=\"http://www.w3.org/1999/xlink\" width=\"572.4pt\" height=\"215.998125pt\" viewBox=\"0 0 572.4 215.998125\" xmlns=\"http://www.w3.org/2000/svg\" version=\"1.1\">\n",
       " <metadata>\n",
       "  <rdf:RDF xmlns:dc=\"http://purl.org/dc/elements/1.1/\" xmlns:cc=\"http://creativecommons.org/ns#\" xmlns:rdf=\"http://www.w3.org/1999/02/22-rdf-syntax-ns#\">\n",
       "   <cc:Work>\n",
       "    <dc:type rdf:resource=\"http://purl.org/dc/dcmitype/StillImage\"/>\n",
       "    <dc:date>2024-02-27T11:26:48.641953</dc:date>\n",
       "    <dc:format>image/svg+xml</dc:format>\n",
       "    <dc:creator>\n",
       "     <cc:Agent>\n",
       "      <dc:title>Matplotlib v3.8.2, https://matplotlib.org/</dc:title>\n",
       "     </cc:Agent>\n",
       "    </dc:creator>\n",
       "   </cc:Work>\n",
       "  </rdf:RDF>\n",
       " </metadata>\n",
       " <defs>\n",
       "  <style type=\"text/css\">*{stroke-linejoin: round; stroke-linecap: butt}</style>\n",
       " </defs>\n",
       " <g id=\"figure_1\">\n",
       "  <g id=\"patch_1\">\n",
       "   <path d=\"M 0 215.998125 \n",
       "L 572.4 215.998125 \n",
       "L 572.4 0 \n",
       "L 0 0 \n",
       "z\n",
       "\" style=\"fill: #ffffff\"/>\n",
       "  </g>\n",
       "  <g id=\"axes_1\">\n",
       "   <g clip-path=\"url(#pe52ec1d56e)\">\n",
       "    <image xlink:href=\"data:image/png;base64,\n",
       "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\" id=\"image7f420cb6ff\" transform=\"scale(1 -1) translate(0 -186.48)\" x=\"7.2\" y=\"-22.318125\" width=\"558\" height=\"186.48\"/>\n",
       "   </g>\n",
       "   <g id=\"text_1\">\n",
       "    <!-- Augmented image examples of the STL10 dataset -->\n",
       "    <g style=\"fill: #262626\" transform=\"translate(135.4425 16.318125) scale(0.12 -0.12)\">\n",
       "     <defs>\n",
       "      <path id=\"DejaVuSans-41\" d=\"M 2188 4044 \n",
       "L 1331 1722 \n",
       "L 3047 1722 \n",
       "L 2188 4044 \n",
       "z\n",
       "M 1831 4666 \n",
       "L 2547 4666 \n",
       "L 4325 0 \n",
       "L 3669 0 \n",
       "L 3244 1197 \n",
       "L 1141 1197 \n",
       "L 716 0 \n",
       "L 50 0 \n",
       "L 1831 4666 \n",
       "z\n",
       "\" transform=\"scale(0.015625)\"/>\n",
       "      <path id=\"DejaVuSans-75\" d=\"M 544 1381 \n",
       "L 544 3500 \n",
       "L 1119 3500 \n",
       "L 1119 1403 \n",
       "Q 1119 906 1312 657 \n",
       "Q 1506 409 1894 409 \n",
       "Q 2359 409 2629 706 \n",
       "Q 2900 1003 2900 1516 \n",
       "L 2900 3500 \n",
       "L 3475 3500 \n",
       "L 3475 0 \n",
       "L 2900 0 \n",
       "L 2900 538 \n",
       "Q 2691 219 2414 64 \n",
       "Q 2138 -91 1772 -91 \n",
       "Q 1169 -91 856 284 \n",
       "Q 544 659 544 1381 \n",
       "z\n",
       "M 1991 3584 \n",
       "L 1991 3584 \n",
       "z\n",
       "\" transform=\"scale(0.015625)\"/>\n",
       "      <path id=\"DejaVuSans-67\" d=\"M 2906 1791 \n",
       "Q 2906 2416 2648 2759 \n",
       "Q 2391 3103 1925 3103 \n",
       "Q 1463 3103 1205 2759 \n",
       "Q 947 2416 947 1791 \n",
       "Q 947 1169 1205 825 \n",
       "Q 1463 481 1925 481 \n",
       "Q 2391 481 2648 825 \n",
       "Q 2906 1169 2906 1791 \n",
       "z\n",
       "M 3481 434 \n",
       "Q 3481 -459 3084 -895 \n",
       "Q 2688 -1331 1869 -1331 \n",
       "Q 1566 -1331 1297 -1286 \n",
       "Q 1028 -1241 775 -1147 \n",
       "L 775 -588 \n",
       "Q 1028 -725 1275 -790 \n",
       "Q 1522 -856 1778 -856 \n",
       "Q 2344 -856 2625 -561 \n",
       "Q 2906 -266 2906 331 \n",
       "L 2906 616 \n",
       "Q 2728 306 2450 153 \n",
       "Q 2172 0 1784 0 \n",
       "Q 1141 0 747 490 \n",
       "Q 353 981 353 1791 \n",
       "Q 353 2603 747 3093 \n",
       "Q 1141 3584 1784 3584 \n",
       "Q 2172 3584 2450 3431 \n",
       "Q 2728 3278 2906 2969 \n",
       "L 2906 3500 \n",
       "L 3481 3500 \n",
       "L 3481 434 \n",
       "z\n",
       "\" transform=\"scale(0.015625)\"/>\n",
       "      <path id=\"DejaVuSans-6d\" d=\"M 3328 2828 \n",
       "Q 3544 3216 3844 3400 \n",
       "Q 4144 3584 4550 3584 \n",
       "Q 5097 3584 5394 3201 \n",
       "Q 5691 2819 5691 2113 \n",
       "L 5691 0 \n",
       "L 5113 0 \n",
       "L 5113 2094 \n",
       "Q 5113 2597 4934 2840 \n",
       "Q 4756 3084 4391 3084 \n",
       "Q 3944 3084 3684 2787 \n",
       "Q 3425 2491 3425 1978 \n",
       "L 3425 0 \n",
       "L 2847 0 \n",
       "L 2847 2094 \n",
       "Q 2847 2600 2669 2842 \n",
       "Q 2491 3084 2119 3084 \n",
       "Q 1678 3084 1418 2786 \n",
       "Q 1159 2488 1159 1978 \n",
       "L 1159 0 \n",
       "L 581 0 \n",
       "L 581 3500 \n",
       "L 1159 3500 \n",
       "L 1159 2956 \n",
       "Q 1356 3278 1631 3431 \n",
       "Q 1906 3584 2284 3584 \n",
       "Q 2666 3584 2933 3390 \n",
       "Q 3200 3197 3328 2828 \n",
       "z\n",
       "\" transform=\"scale(0.015625)\"/>\n",
       "      <path id=\"DejaVuSans-65\" d=\"M 3597 1894 \n",
       "L 3597 1613 \n",
       "L 953 1613 \n",
       "Q 991 1019 1311 708 \n",
       "Q 1631 397 2203 397 \n",
       "Q 2534 397 2845 478 \n",
       "Q 3156 559 3463 722 \n",
       "L 3463 178 \n",
       "Q 3153 47 2828 -22 \n",
       "Q 2503 -91 2169 -91 \n",
       "Q 1331 -91 842 396 \n",
       "Q 353 884 353 1716 \n",
       "Q 353 2575 817 3079 \n",
       "Q 1281 3584 2069 3584 \n",
       "Q 2775 3584 3186 3129 \n",
       "Q 3597 2675 3597 1894 \n",
       "z\n",
       "M 3022 2063 \n",
       "Q 3016 2534 2758 2815 \n",
       "Q 2500 3097 2075 3097 \n",
       "Q 1594 3097 1305 2825 \n",
       "Q 1016 2553 972 2059 \n",
       "L 3022 2063 \n",
       "z\n",
       "\" transform=\"scale(0.015625)\"/>\n",
       "      <path id=\"DejaVuSans-6e\" d=\"M 3513 2113 \n",
       "L 3513 0 \n",
       "L 2938 0 \n",
       "L 2938 2094 \n",
       "Q 2938 2591 2744 2837 \n",
       "Q 2550 3084 2163 3084 \n",
       "Q 1697 3084 1428 2787 \n",
       "Q 1159 2491 1159 1978 \n",
       "L 1159 0 \n",
       "L 581 0 \n",
       "L 581 3500 \n",
       "L 1159 3500 \n",
       "L 1159 2956 \n",
       "Q 1366 3272 1645 3428 \n",
       "Q 1925 3584 2291 3584 \n",
       "Q 2894 3584 3203 3211 \n",
       "Q 3513 2838 3513 2113 \n",
       "z\n",
       "\" transform=\"scale(0.015625)\"/>\n",
       "      <path id=\"DejaVuSans-74\" d=\"M 1172 4494 \n",
       "L 1172 3500 \n",
       "L 2356 3500 \n",
       "L 2356 3053 \n",
       "L 1172 3053 \n",
       "L 1172 1153 \n",
       "Q 1172 725 1289 603 \n",
       "Q 1406 481 1766 481 \n",
       "L 2356 481 \n",
       "L 2356 0 \n",
       "L 1766 0 \n",
       "Q 1100 0 847 248 \n",
       "Q 594 497 594 1153 \n",
       "L 594 3053 \n",
       "L 172 3053 \n",
       "L 172 3500 \n",
       "L 594 3500 \n",
       "L 594 4494 \n",
       "L 1172 4494 \n",
       "z\n",
       "\" transform=\"scale(0.015625)\"/>\n",
       "      <path id=\"DejaVuSans-64\" d=\"M 2906 2969 \n",
       "L 2906 4863 \n",
       "L 3481 4863 \n",
       "L 3481 0 \n",
       "L 2906 0 \n",
       "L 2906 525 \n",
       "Q 2725 213 2448 61 \n",
       "Q 2172 -91 1784 -91 \n",
       "Q 1150 -91 751 415 \n",
       "Q 353 922 353 1747 \n",
       "Q 353 2572 751 3078 \n",
       "Q 1150 3584 1784 3584 \n",
       "Q 2172 3584 2448 3432 \n",
       "Q 2725 3281 2906 2969 \n",
       "z\n",
       "M 947 1747 \n",
       "Q 947 1113 1208 752 \n",
       "Q 1469 391 1925 391 \n",
       "Q 2381 391 2643 752 \n",
       "Q 2906 1113 2906 1747 \n",
       "Q 2906 2381 2643 2742 \n",
       "Q 2381 3103 1925 3103 \n",
       "Q 1469 3103 1208 2742 \n",
       "Q 947 2381 947 1747 \n",
       "z\n",
       "\" transform=\"scale(0.015625)\"/>\n",
       "      <path id=\"DejaVuSans-20\" transform=\"scale(0.015625)\"/>\n",
       "      <path id=\"DejaVuSans-69\" d=\"M 603 3500 \n",
       "L 1178 3500 \n",
       "L 1178 0 \n",
       "L 603 0 \n",
       "L 603 3500 \n",
       "z\n",
       "M 603 4863 \n",
       "L 1178 4863 \n",
       "L 1178 4134 \n",
       "L 603 4134 \n",
       "L 603 4863 \n",
       "z\n",
       "\" transform=\"scale(0.015625)\"/>\n",
       "      <path id=\"DejaVuSans-61\" d=\"M 2194 1759 \n",
       "Q 1497 1759 1228 1600 \n",
       "Q 959 1441 959 1056 \n",
       "Q 959 750 1161 570 \n",
       "Q 1363 391 1709 391 \n",
       "Q 2188 391 2477 730 \n",
       "Q 2766 1069 2766 1631 \n",
       "L 2766 1759 \n",
       "L 2194 1759 \n",
       "z\n",
       "M 3341 1997 \n",
       "L 3341 0 \n",
       "L 2766 0 \n",
       "L 2766 531 \n",
       "Q 2569 213 2275 61 \n",
       "Q 1981 -91 1556 -91 \n",
       "Q 1019 -91 701 211 \n",
       "Q 384 513 384 1019 \n",
       "Q 384 1609 779 1909 \n",
       "Q 1175 2209 1959 2209 \n",
       "L 2766 2209 \n",
       "L 2766 2266 \n",
       "Q 2766 2663 2505 2880 \n",
       "Q 2244 3097 1772 3097 \n",
       "Q 1472 3097 1187 3025 \n",
       "Q 903 2953 641 2809 \n",
       "L 641 3341 \n",
       "Q 956 3463 1253 3523 \n",
       "Q 1550 3584 1831 3584 \n",
       "Q 2591 3584 2966 3190 \n",
       "Q 3341 2797 3341 1997 \n",
       "z\n",
       "\" transform=\"scale(0.015625)\"/>\n",
       "      <path id=\"DejaVuSans-78\" d=\"M 3513 3500 \n",
       "L 2247 1797 \n",
       "L 3578 0 \n",
       "L 2900 0 \n",
       "L 1881 1375 \n",
       "L 863 0 \n",
       "L 184 0 \n",
       "L 1544 1831 \n",
       "L 300 3500 \n",
       "L 978 3500 \n",
       "L 1906 2253 \n",
       "L 2834 3500 \n",
       "L 3513 3500 \n",
       "z\n",
       "\" transform=\"scale(0.015625)\"/>\n",
       "      <path id=\"DejaVuSans-70\" d=\"M 1159 525 \n",
       "L 1159 -1331 \n",
       "L 581 -1331 \n",
       "L 581 3500 \n",
       "L 1159 3500 \n",
       "L 1159 2969 \n",
       "Q 1341 3281 1617 3432 \n",
       "Q 1894 3584 2278 3584 \n",
       "Q 2916 3584 3314 3078 \n",
       "Q 3713 2572 3713 1747 \n",
       "Q 3713 922 3314 415 \n",
       "Q 2916 -91 2278 -91 \n",
       "Q 1894 -91 1617 61 \n",
       "Q 1341 213 1159 525 \n",
       "z\n",
       "M 3116 1747 \n",
       "Q 3116 2381 2855 2742 \n",
       "Q 2594 3103 2138 3103 \n",
       "Q 1681 3103 1420 2742 \n",
       "Q 1159 2381 1159 1747 \n",
       "Q 1159 1113 1420 752 \n",
       "Q 1681 391 2138 391 \n",
       "Q 2594 391 2855 752 \n",
       "Q 3116 1113 3116 1747 \n",
       "z\n",
       "\" transform=\"scale(0.015625)\"/>\n",
       "      <path id=\"DejaVuSans-6c\" d=\"M 603 4863 \n",
       "L 1178 4863 \n",
       "L 1178 0 \n",
       "L 603 0 \n",
       "L 603 4863 \n",
       "z\n",
       "\" transform=\"scale(0.015625)\"/>\n",
       "      <path id=\"DejaVuSans-73\" d=\"M 2834 3397 \n",
       "L 2834 2853 \n",
       "Q 2591 2978 2328 3040 \n",
       "Q 2066 3103 1784 3103 \n",
       "Q 1356 3103 1142 2972 \n",
       "Q 928 2841 928 2578 \n",
       "Q 928 2378 1081 2264 \n",
       "Q 1234 2150 1697 2047 \n",
       "L 1894 2003 \n",
       "Q 2506 1872 2764 1633 \n",
       "Q 3022 1394 3022 966 \n",
       "Q 3022 478 2636 193 \n",
       "Q 2250 -91 1575 -91 \n",
       "Q 1294 -91 989 -36 \n",
       "Q 684 19 347 128 \n",
       "L 347 722 \n",
       "Q 666 556 975 473 \n",
       "Q 1284 391 1588 391 \n",
       "Q 1994 391 2212 530 \n",
       "Q 2431 669 2431 922 \n",
       "Q 2431 1156 2273 1281 \n",
       "Q 2116 1406 1581 1522 \n",
       "L 1381 1569 \n",
       "Q 847 1681 609 1914 \n",
       "Q 372 2147 372 2553 \n",
       "Q 372 3047 722 3315 \n",
       "Q 1072 3584 1716 3584 \n",
       "Q 2034 3584 2315 3537 \n",
       "Q 2597 3491 2834 3397 \n",
       "z\n",
       "\" transform=\"scale(0.015625)\"/>\n",
       "      <path id=\"DejaVuSans-6f\" d=\"M 1959 3097 \n",
       "Q 1497 3097 1228 2736 \n",
       "Q 959 2375 959 1747 \n",
       "Q 959 1119 1226 758 \n",
       "Q 1494 397 1959 397 \n",
       "Q 2419 397 2687 759 \n",
       "Q 2956 1122 2956 1747 \n",
       "Q 2956 2369 2687 2733 \n",
       "Q 2419 3097 1959 3097 \n",
       "z\n",
       "M 1959 3584 \n",
       "Q 2709 3584 3137 3096 \n",
       "Q 3566 2609 3566 1747 \n",
       "Q 3566 888 3137 398 \n",
       "Q 2709 -91 1959 -91 \n",
       "Q 1206 -91 779 398 \n",
       "Q 353 888 353 1747 \n",
       "Q 353 2609 779 3096 \n",
       "Q 1206 3584 1959 3584 \n",
       "z\n",
       "\" transform=\"scale(0.015625)\"/>\n",
       "      <path id=\"DejaVuSans-66\" d=\"M 2375 4863 \n",
       "L 2375 4384 \n",
       "L 1825 4384 \n",
       "Q 1516 4384 1395 4259 \n",
       "Q 1275 4134 1275 3809 \n",
       "L 1275 3500 \n",
       "L 2222 3500 \n",
       "L 2222 3053 \n",
       "L 1275 3053 \n",
       "L 1275 0 \n",
       "L 697 0 \n",
       "L 697 3053 \n",
       "L 147 3053 \n",
       "L 147 3500 \n",
       "L 697 3500 \n",
       "L 697 3744 \n",
       "Q 697 4328 969 4595 \n",
       "Q 1241 4863 1831 4863 \n",
       "L 2375 4863 \n",
       "z\n",
       "\" transform=\"scale(0.015625)\"/>\n",
       "      <path id=\"DejaVuSans-68\" d=\"M 3513 2113 \n",
       "L 3513 0 \n",
       "L 2938 0 \n",
       "L 2938 2094 \n",
       "Q 2938 2591 2744 2837 \n",
       "Q 2550 3084 2163 3084 \n",
       "Q 1697 3084 1428 2787 \n",
       "Q 1159 2491 1159 1978 \n",
       "L 1159 0 \n",
       "L 581 0 \n",
       "L 581 4863 \n",
       "L 1159 4863 \n",
       "L 1159 2956 \n",
       "Q 1366 3272 1645 3428 \n",
       "Q 1925 3584 2291 3584 \n",
       "Q 2894 3584 3203 3211 \n",
       "Q 3513 2838 3513 2113 \n",
       "z\n",
       "\" transform=\"scale(0.015625)\"/>\n",
       "      <path id=\"DejaVuSans-53\" d=\"M 3425 4513 \n",
       "L 3425 3897 \n",
       "Q 3066 4069 2747 4153 \n",
       "Q 2428 4238 2131 4238 \n",
       "Q 1616 4238 1336 4038 \n",
       "Q 1056 3838 1056 3469 \n",
       "Q 1056 3159 1242 3001 \n",
       "Q 1428 2844 1947 2747 \n",
       "L 2328 2669 \n",
       "Q 3034 2534 3370 2195 \n",
       "Q 3706 1856 3706 1288 \n",
       "Q 3706 609 3251 259 \n",
       "Q 2797 -91 1919 -91 \n",
       "Q 1588 -91 1214 -16 \n",
       "Q 841 59 441 206 \n",
       "L 441 856 \n",
       "Q 825 641 1194 531 \n",
       "Q 1563 422 1919 422 \n",
       "Q 2459 422 2753 634 \n",
       "Q 3047 847 3047 1241 \n",
       "Q 3047 1584 2836 1778 \n",
       "Q 2625 1972 2144 2069 \n",
       "L 1759 2144 \n",
       "Q 1053 2284 737 2584 \n",
       "Q 422 2884 422 3419 \n",
       "Q 422 4038 858 4394 \n",
       "Q 1294 4750 2059 4750 \n",
       "Q 2388 4750 2728 4690 \n",
       "Q 3069 4631 3425 4513 \n",
       "z\n",
       "\" transform=\"scale(0.015625)\"/>\n",
       "      <path id=\"DejaVuSans-54\" d=\"M -19 4666 \n",
       "L 3928 4666 \n",
       "L 3928 4134 \n",
       "L 2272 4134 \n",
       "L 2272 0 \n",
       "L 1638 0 \n",
       "L 1638 4134 \n",
       "L -19 4134 \n",
       "L -19 4666 \n",
       "z\n",
       "\" transform=\"scale(0.015625)\"/>\n",
       "      <path id=\"DejaVuSans-4c\" d=\"M 628 4666 \n",
       "L 1259 4666 \n",
       "L 1259 531 \n",
       "L 3531 531 \n",
       "L 3531 0 \n",
       "L 628 0 \n",
       "L 628 4666 \n",
       "z\n",
       "\" transform=\"scale(0.015625)\"/>\n",
       "      <path id=\"DejaVuSans-31\" d=\"M 794 531 \n",
       "L 1825 531 \n",
       "L 1825 4091 \n",
       "L 703 3866 \n",
       "L 703 4441 \n",
       "L 1819 4666 \n",
       "L 2450 4666 \n",
       "L 2450 531 \n",
       "L 3481 531 \n",
       "L 3481 0 \n",
       "L 794 0 \n",
       "L 794 531 \n",
       "z\n",
       "\" transform=\"scale(0.015625)\"/>\n",
       "      <path id=\"DejaVuSans-30\" d=\"M 2034 4250 \n",
       "Q 1547 4250 1301 3770 \n",
       "Q 1056 3291 1056 2328 \n",
       "Q 1056 1369 1301 889 \n",
       "Q 1547 409 2034 409 \n",
       "Q 2525 409 2770 889 \n",
       "Q 3016 1369 3016 2328 \n",
       "Q 3016 3291 2770 3770 \n",
       "Q 2525 4250 2034 4250 \n",
       "z\n",
       "M 2034 4750 \n",
       "Q 2819 4750 3233 4129 \n",
       "Q 3647 3509 3647 2328 \n",
       "Q 3647 1150 3233 529 \n",
       "Q 2819 -91 2034 -91 \n",
       "Q 1250 -91 836 529 \n",
       "Q 422 1150 422 2328 \n",
       "Q 422 3509 836 4129 \n",
       "Q 1250 4750 2034 4750 \n",
       "z\n",
       "\" transform=\"scale(0.015625)\"/>\n",
       "     </defs>\n",
       "     <use xlink:href=\"#DejaVuSans-41\"/>\n",
       "     <use xlink:href=\"#DejaVuSans-75\" x=\"68.408203\"/>\n",
       "     <use xlink:href=\"#DejaVuSans-67\" x=\"131.787109\"/>\n",
       "     <use xlink:href=\"#DejaVuSans-6d\" x=\"195.263672\"/>\n",
       "     <use xlink:href=\"#DejaVuSans-65\" x=\"292.675781\"/>\n",
       "     <use xlink:href=\"#DejaVuSans-6e\" x=\"354.199219\"/>\n",
       "     <use xlink:href=\"#DejaVuSans-74\" x=\"417.578125\"/>\n",
       "     <use xlink:href=\"#DejaVuSans-65\" x=\"456.787109\"/>\n",
       "     <use xlink:href=\"#DejaVuSans-64\" x=\"518.310547\"/>\n",
       "     <use xlink:href=\"#DejaVuSans-20\" x=\"581.787109\"/>\n",
       "     <use xlink:href=\"#DejaVuSans-69\" x=\"613.574219\"/>\n",
       "     <use xlink:href=\"#DejaVuSans-6d\" x=\"641.357422\"/>\n",
       "     <use xlink:href=\"#DejaVuSans-61\" x=\"738.769531\"/>\n",
       "     <use xlink:href=\"#DejaVuSans-67\" x=\"800.048828\"/>\n",
       "     <use xlink:href=\"#DejaVuSans-65\" x=\"863.525391\"/>\n",
       "     <use xlink:href=\"#DejaVuSans-20\" x=\"925.048828\"/>\n",
       "     <use xlink:href=\"#DejaVuSans-65\" x=\"956.835938\"/>\n",
       "     <use xlink:href=\"#DejaVuSans-78\" x=\"1016.609375\"/>\n",
       "     <use xlink:href=\"#DejaVuSans-61\" x=\"1075.789062\"/>\n",
       "     <use xlink:href=\"#DejaVuSans-6d\" x=\"1137.068359\"/>\n",
       "     <use xlink:href=\"#DejaVuSans-70\" x=\"1234.480469\"/>\n",
       "     <use xlink:href=\"#DejaVuSans-6c\" x=\"1297.957031\"/>\n",
       "     <use xlink:href=\"#DejaVuSans-65\" x=\"1325.740234\"/>\n",
       "     <use xlink:href=\"#DejaVuSans-73\" x=\"1387.263672\"/>\n",
       "     <use xlink:href=\"#DejaVuSans-20\" x=\"1439.363281\"/>\n",
       "     <use xlink:href=\"#DejaVuSans-6f\" x=\"1471.150391\"/>\n",
       "     <use xlink:href=\"#DejaVuSans-66\" x=\"1532.332031\"/>\n",
       "     <use xlink:href=\"#DejaVuSans-20\" x=\"1567.537109\"/>\n",
       "     <use xlink:href=\"#DejaVuSans-74\" x=\"1599.324219\"/>\n",
       "     <use xlink:href=\"#DejaVuSans-68\" x=\"1638.533203\"/>\n",
       "     <use xlink:href=\"#DejaVuSans-65\" x=\"1701.912109\"/>\n",
       "     <use xlink:href=\"#DejaVuSans-20\" x=\"1763.435547\"/>\n",
       "     <use xlink:href=\"#DejaVuSans-53\" x=\"1795.222656\"/>\n",
       "     <use xlink:href=\"#DejaVuSans-54\" x=\"1858.699219\"/>\n",
       "     <use xlink:href=\"#DejaVuSans-4c\" x=\"1919.783203\"/>\n",
       "     <use xlink:href=\"#DejaVuSans-31\" x=\"1975.496094\"/>\n",
       "     <use xlink:href=\"#DejaVuSans-30\" x=\"2039.119141\"/>\n",
       "     <use xlink:href=\"#DejaVuSans-20\" x=\"2102.742188\"/>\n",
       "     <use xlink:href=\"#DejaVuSans-64\" x=\"2134.529297\"/>\n",
       "     <use xlink:href=\"#DejaVuSans-61\" x=\"2198.005859\"/>\n",
       "     <use xlink:href=\"#DejaVuSans-74\" x=\"2259.285156\"/>\n",
       "     <use xlink:href=\"#DejaVuSans-61\" x=\"2298.494141\"/>\n",
       "     <use xlink:href=\"#DejaVuSans-73\" x=\"2359.773438\"/>\n",
       "     <use xlink:href=\"#DejaVuSans-65\" x=\"2411.873047\"/>\n",
       "     <use xlink:href=\"#DejaVuSans-74\" x=\"2473.396484\"/>\n",
       "    </g>\n",
       "   </g>\n",
       "  </g>\n",
       " </g>\n",
       " <defs>\n",
       "  <clipPath id=\"pe52ec1d56e\">\n",
       "   <rect x=\"7.2\" y=\"22.318125\" width=\"558\" height=\"186.48\"/>\n",
       "  </clipPath>\n",
       " </defs>\n",
       "</svg>\n"
      ],
      "text/plain": [
       "<Figure size 1000x500 with 1 Axes>"
      ]
     },
     "metadata": {},
     "output_type": "display_data"
    }
   ],
   "source": [
    "# Visualize some examples\n",
    "L.seed_everything(42)\n",
    "NUM_IMAGES = 6\n",
    "imgs = torch.cat([torch.Tensor(unlabeled_data[idx][\"pixel_values\"]) for idx in range(NUM_IMAGES)])\n",
    "print(imgs.shape)\n",
    "img_grid = torchvision.utils.make_grid(imgs, nrow=6, normalize=True, pad_value=0.9)\n",
    "img_grid = img_grid.permute(1, 2, 0)\n",
    "\n",
    "plt.figure(figsize=(10, 5))\n",
    "plt.title(\"Augmented image examples of the STL10 dataset\")\n",
    "plt.imshow(img_grid)\n",
    "plt.axis(\"off\")\n",
    "plt.show()\n",
    "plt.close()"
   ]
  },
  {
   "cell_type": "markdown",
   "id": "30dc6779",
   "metadata": {
    "papermill": {
     "duration": 0.20386,
     "end_time": "2023-10-12T10:17:05.487109",
     "exception": false,
     "start_time": "2023-10-12T10:17:05.283249",
     "status": "completed"
    },
    "tags": []
   },
   "source": [
    "We see the wide variety of our data augmentation, including randomly cropping, grayscaling, gaussian blur, and color distortion.\n",
    "Thus, it remains a challenging task for the model to match two, independently augmented patches of the same image."
   ]
  },
  {
   "cell_type": "markdown",
   "id": "97d18613",
   "metadata": {
    "lines_to_next_cell": 2,
    "papermill": {
     "duration": 0.203821,
     "end_time": "2023-10-12T10:17:05.894592",
     "exception": false,
     "start_time": "2023-10-12T10:17:05.690771",
     "status": "completed"
    },
    "tags": []
   },
   "source": [
    "### SimCLR implementation\n",
    "\n",
    "Using the data loader pipeline above, we can now implement SimCLR.\n",
    "At each iteration, we get for every image $x$ two differently augmented versions, which we refer to as $\\tilde{x}_i$ and $\\tilde{x}_j$.\n",
    "Both of these images are encoded into a one-dimensional feature vector, between which we want to maximize similarity which minimizes it to all other images in the batch.\n",
    "The encoder network is split into two parts: a base encoder network $f(\\cdot)$, and a projection head $g(\\cdot)$.\n",
    "The base network is usually a deep CNN as we have seen in e.g. [Tutorial 5](https://uvadlc-notebooks.readthedocs.io/en/latest/tutorial_notebooks/tutorial5/Inception_ResNet_DenseNet.html) before, and is responsible for extracting a representation vector from the augmented data examples.\n",
    "In our experiments, we will use the common ResNet-18 architecture as $f(\\cdot)$, and refer to the output as $f(\\tilde{x}_i)=h_i$.\n",
    "The projection head $g(\\cdot)$ maps the representation $h$ into a space where we apply the contrastive loss, i.e., compare similarities between vectors.\n",
    "It is often chosen to be a small MLP with non-linearities, and for simplicity, we follow the original SimCLR paper setup by defining it as a two-layer MLP with ReLU activation in the hidden layer.\n",
    "Note that in the follow-up paper, [SimCLRv2](https://arxiv.org/abs/2006.10029), the authors mention that larger/wider MLPs can boost the performance considerably.\n",
    "This is why we apply an MLP with four times larger hidden dimensions, but deeper MLPs showed to overfit on the given dataset.\n",
    "The general setup is visualized below (figure credit - [Ting Chen et al. ](https://arxiv.org/abs/2006.10029)):\n",
    "\n",
    "<center width=\"100%\"><img src=\"https://github.com/Lightning-AI/lightning-tutorials/raw/main/course_UvA-DL/13-contrastive-learning/simclr_network_setup.svg\" width=\"350px\"></center>\n",
    "\n",
    "After finishing the training with contrastive learning, we will remove the projection head $g(\\cdot)$, and use $f(\\cdot)$ as a pretrained feature extractor.\n",
    "The representations $z$ that come out of the projection head $g(\\cdot)$ have been shown to perform worse than those of the base network $f(\\cdot)$ when finetuning the network for a new task.\n",
    "This is likely because the representations $z$ are trained to become invariant to many features like the color that can be important for downstream tasks.\n",
    "Thus, $g(\\cdot)$ is only needed for the contrastive learning stage.\n",
    "\n",
    "Now that the architecture is described, let's take a closer look at how we train the model.\n",
    "As mentioned before, we want to maximize the similarity between the representations of the two augmented versions of the same image, i.e., $z_i$ and $z_j$ in the figure above, while minimizing it to all other examples in the batch.\n",
    "SimCLR thereby applies the InfoNCE loss, originally proposed by [Aaron van den Oord et al. ](https://arxiv.org/abs/1807.03748) for contrastive learning.\n",
    "In short, the InfoNCE loss compares the similarity of $z_i$ and $z_j$ to the similarity of $z_i$ to any other representation in the batch by performing a softmax over the similarity values.\n",
    "The loss can be formally written as:\n",
    "$$\n",
    "\\ell_{i,j}=-\\log \\frac{\\exp(\\text{sim}(z_i,z_j)/\\tau)}{\\sum_{k=1}^{2N}\\mathbb{1}_{[k\\neq i]}\\exp(\\text{sim}(z_i,z_k)/\\tau)}=-\\text{sim}(z_i,z_j)/\\tau+\\log\\left[\\sum_{k=1}^{2N}\\mathbb{1}_{[k\\neq i]}\\exp(\\text{sim}(z_i,z_k)/\\tau)\\right]\n",
    "$$\n",
    "The function $\\text{sim}$ is a similarity metric, and the hyperparameter $\\tau$ is called temperature determining how peaked the distribution is.\n",
    "Since many similarity metrics are bounded, the temperature parameter allows us to balance the influence of many dissimilar image patches versus one similar patch.\n",
    "The similarity metric that is used in SimCLR is cosine similarity, as defined below:\n",
    "$$\n",
    "\\text{sim}(z_i,z_j) = \\frac{z_i^\\top \\cdot z_j}{||z_i||\\cdot||z_j||}\n",
    "$$\n",
    "The maximum cosine similarity possible is $1$, while the minimum is $-1$.\n",
    "In general, we will see that the features of two different images will converge to a cosine similarity around zero since the minimum, $-1$, would require $z_i$ and $z_j$ to be in the exact opposite direction in all feature dimensions, which does not allow for great flexibility.\n",
    "\n",
    "Finally, now that we have discussed all details, let's implement SimCLR below as a PyTorch Lightning module:"
   ]
  },
  {
   "cell_type": "code",
   "execution_count": 7,
   "id": "dfa9d2a9",
   "metadata": {
    "lines_to_next_cell": 2,
    "papermill": {
     "duration": 0.222509,
     "end_time": "2023-10-12T10:17:06.370770",
     "exception": false,
     "start_time": "2023-10-12T10:17:06.148261",
     "status": "completed"
    },
    "tags": []
   },
   "outputs": [],
   "source": [
    "from transformers import AutoModel\n",
    "class SimCLR(L.LightningModule):\n",
    "    def __init__(self, hidden_dim, lr, temperature, weight_decay, max_epochs=500, model=MODEL):\n",
    "        super().__init__()\n",
    "        self.save_hyperparameters()\n",
    "        assert self.hparams.temperature > 0.0, \"The temperature must be a positive float!\"\n",
    "        # Base model f(.)\n",
    "        self.model = AutoModel.from_pretrained(model)\n",
    "        # The MLP for g(.) consists of Linear->ReLU->Linear\n",
    "        self.mlp = nn.Sequential(\n",
    "            nn.Linear(768, 4*hidden_dim),\n",
    "            nn.ReLU(),\n",
    "            nn.Linear(4*hidden_dim, hidden_dim),\n",
    "        )\n",
    "\n",
    "    def configure_optimizers(self):\n",
    "        optimizer = optim.AdamW(self.parameters(), lr=self.hparams.lr, weight_decay=self.hparams.weight_decay)\n",
    "        lr_scheduler = optim.lr_scheduler.CosineAnnealingLR(\n",
    "            optimizer, T_max=self.hparams.max_epochs, eta_min=self.hparams.lr / 50\n",
    "        )\n",
    "        return [optimizer], [lr_scheduler]\n",
    "\n",
    "    def info_nce_loss(self, batch, mode=\"train\"):\n",
    "        # print(batch)\n",
    "        imgs = batch\n",
    "        # imgs = torch.cat(imgs, dim=0)\n",
    "\n",
    "        # Encode all images\n",
    "        feats = self.model(imgs).pooler_output\n",
    "        feats = self.mlp(feats)\n",
    "        # Calculate cosine similarity\n",
    "        cos_sim = F.cosine_similarity(feats[:, None, :], feats[None, :, :], dim=-1)\n",
    "        # Mask out cosine similarity to itself\n",
    "        self_mask = torch.eye(cos_sim.shape[0], dtype=torch.bool, device=cos_sim.device)\n",
    "        cos_sim.masked_fill_(self_mask, -9e15)\n",
    "        # Find positive example -> batch_size//2 away from the original example\n",
    "        pos_mask = self_mask.roll(shifts=cos_sim.shape[0] // 2, dims=0)\n",
    "        # InfoNCE loss\n",
    "        cos_sim = cos_sim / self.hparams.temperature\n",
    "        nll = -cos_sim[pos_mask] + torch.logsumexp(cos_sim, dim=-1)\n",
    "        nll = nll.mean()\n",
    "\n",
    "        # Logging loss\n",
    "        self.log(mode + \"_loss\", nll)\n",
    "        # Get ranking position of positive example\n",
    "        comb_sim = torch.cat(\n",
    "            [cos_sim[pos_mask][:, None], cos_sim.masked_fill(pos_mask, -9e15)],  # First position positive example\n",
    "            dim=-1,\n",
    "        )\n",
    "        sim_argsort = comb_sim.argsort(dim=-1, descending=True).argmin(dim=-1)\n",
    "        # Logging ranking metrics\n",
    "        self.log(mode + \"_acc_top1\", (sim_argsort == 0).float().mean())\n",
    "        self.log(mode + \"_acc_top5\", (sim_argsort < 5).float().mean())\n",
    "        self.log(mode + \"_acc_mean_pos\", 1 + sim_argsort.float().mean())\n",
    "\n",
    "        return nll\n",
    "\n",
    "    def training_step(self, batch, batch_idx):\n",
    "        return self.info_nce_loss(batch, mode=\"train\")\n",
    "\n",
    "    def validation_step(self, batch, batch_idx):\n",
    "        self.info_nce_loss(batch, mode=\"val\")"
   ]
  },
  {
   "cell_type": "code",
   "execution_count": 8,
   "id": "6b3bf728",
   "metadata": {},
   "outputs": [],
   "source": [
    "coalate_fn = lambda batch: torch.cat([torch.Tensor(x[\"pixel_values\"]) for x in batch])"
   ]
  },
  {
   "cell_type": "code",
   "execution_count": 9,
   "id": "e8a35673-00f9-4910-9498-2f6fa1caba5a",
   "metadata": {},
   "outputs": [],
   "source": [
    "def train_simclr(batch_size, max_epochs=500, **kwargs):\n",
    "    trainer = L.Trainer(\n",
    "        default_root_dir=os.path.join(CHECKPOINT_PATH, \"SimCLR\"),\n",
    "        accelerator=\"auto\",\n",
    "        devices=1,\n",
    "        max_epochs=max_epochs,\n",
    "        callbacks=[\n",
    "            ModelCheckpoint(save_weights_only=True, mode=\"max\", monitor=\"val_acc_top5\"),\n",
    "            LearningRateMonitor(\"epoch\"),\n",
    "        ],\n",
    "        num_sanity_val_steps=0\n",
    "    )\n",
    "    trainer.logger._default_hp_metric = None  # Optional logging argument that we don't need\n",
    "\n",
    "    # Check whether pretrained model exists. If yes, load it and skip training\n",
    "    pretrained_filename = os.path.join(CHECKPOINT_PATH, \"SimCLR.ckpt\")\n",
    "    \n",
    "    train_loader = data.DataLoader(\n",
    "        unlabeled_data,\n",
    "        batch_size=batch_size,\n",
    "        shuffle=True,\n",
    "        drop_last=True,\n",
    "        pin_memory=True,\n",
    "        num_workers=40,\n",
    "        collate_fn=coalate_fn,\n",
    "    )\n",
    "    val_loader = data.DataLoader(\n",
    "        train_data_contrast,\n",
    "        batch_size=batch_size,\n",
    "        shuffle=False,\n",
    "        drop_last=False,\n",
    "        pin_memory=True,\n",
    "        num_workers=40,\n",
    "        collate_fn=coalate_fn,\n",
    "    )\n",
    "    L.seed_everything(42)  # To be reproducible\n",
    "    model = SimCLR(max_epochs=max_epochs, **kwargs)\n",
    "    trainer.fit(model, train_loader, val_loader)\n",
    "    # Load best checkpoint after training\n",
    "    model = SimCLR.load_from_checkpoint(trainer.checkpoint_callback.best_model_path)\n",
    "\n",
    "    return model"
   ]
  },
  {
   "cell_type": "markdown",
   "id": "d31c6734",
   "metadata": {
    "papermill": {
     "duration": 0.202338,
     "end_time": "2023-10-12T10:17:06.777095",
     "exception": false,
     "start_time": "2023-10-12T10:17:06.574757",
     "status": "completed"
    },
    "tags": []
   },
   "source": [
    "Alternatively to performing the validation on the contrastive learning loss as well, we could also take a simple, small downstream task, and track the performance of the base network $f(\\cdot)$ on that.\n",
    "However, in this tutorial, we will restrict ourselves to the STL10\n",
    "dataset where we use the task of image classification on STL10 as our\n",
    "test task."
   ]
  },
  {
   "cell_type": "markdown",
   "id": "2bba3278",
   "metadata": {
    "lines_to_next_cell": 2,
    "papermill": {
     "duration": 0.201837,
     "end_time": "2023-10-12T10:17:07.180438",
     "exception": false,
     "start_time": "2023-10-12T10:17:06.978601",
     "status": "completed"
    },
    "tags": []
   },
   "source": [
    "### Training\n",
    "\n",
    "Now that we have implemented SimCLR and the data loading pipeline, we are ready to train the model.\n",
    "We will use the same training function setup as usual.\n",
    "For saving the best model checkpoint, we track the metric `val_acc_top5`, which describes how often the correct image patch is within the top-5 most similar examples in the batch.\n",
    "This is usually less noisy than the top-1 metric, making it a better metric to choose the best model from."
   ]
  },
  {
   "cell_type": "markdown",
   "id": "d6dcb363",
   "metadata": {
    "papermill": {
     "duration": 0.207797,
     "end_time": "2023-10-12T10:17:08.058654",
     "exception": false,
     "start_time": "2023-10-12T10:17:07.850857",
     "status": "completed"
    },
    "tags": []
   },
   "source": [
    "A common observation in contrastive learning is that the larger the batch size, the better the models perform.\n",
    "A larger batch size allows us to compare each image to more negative examples, leading to overall smoother loss gradients.\n",
    "However, in our case, we experienced that a batch size of 256 was sufficient to get good results."
   ]
  },
  {
   "cell_type": "code",
   "execution_count": 14,
   "id": "084522bd",
   "metadata": {
    "papermill": {
     "duration": 1.091076,
     "end_time": "2023-10-12T10:17:09.353073",
     "exception": false,
     "start_time": "2023-10-12T10:17:08.261997",
     "status": "completed"
    },
    "tags": []
   },
   "outputs": [
    {
     "name": "stderr",
     "output_type": "stream",
     "text": [
      "GPU available: True (cuda), used: True\n",
      "TPU available: False, using: 0 TPU cores\n",
      "IPU available: False, using: 0 IPUs\n",
      "HPU available: False, using: 0 HPUs\n",
      "Seed set to 42\n",
      "LOCAL_RANK: 0 - CUDA_VISIBLE_DEVICES: [4]\n",
      "\n",
      "  | Name  | Type        | Params\n",
      "--------------------------------------\n",
      "0 | model | Swinv2Model | 27.6 M\n",
      "1 | mlp   | Sequential  | 213 K \n",
      "--------------------------------------\n",
      "27.8 M    Trainable params\n",
      "0         Non-trainable params\n",
      "27.8 M    Total params\n",
      "111.166   Total estimated model params size (MB)\n"
     ]
    },
    {
     "data": {
      "application/vnd.jupyter.widget-view+json": {
       "model_id": "d1dc3044b87a4a4092d53051f289f431",
       "version_major": 2,
       "version_minor": 0
      },
      "text/plain": [
       "Training: |                                                                                        | 0/? [00:0…"
      ]
     },
     "metadata": {},
     "output_type": "display_data"
    },
    {
     "data": {
      "application/vnd.jupyter.widget-view+json": {
       "model_id": "",
       "version_major": 2,
       "version_minor": 0
      },
      "text/plain": [
       "Validation: |                                                                                      | 0/? [00:0…"
      ]
     },
     "metadata": {},
     "output_type": "display_data"
    },
    {
     "data": {
      "application/vnd.jupyter.widget-view+json": {
       "model_id": "",
       "version_major": 2,
       "version_minor": 0
      },
      "text/plain": [
       "Validation: |                                                                                      | 0/? [00:0…"
      ]
     },
     "metadata": {},
     "output_type": "display_data"
    },
    {
     "data": {
      "application/vnd.jupyter.widget-view+json": {
       "model_id": "",
       "version_major": 2,
       "version_minor": 0
      },
      "text/plain": [
       "Validation: |                                                                                      | 0/? [00:0…"
      ]
     },
     "metadata": {},
     "output_type": "display_data"
    },
    {
     "data": {
      "application/vnd.jupyter.widget-view+json": {
       "model_id": "",
       "version_major": 2,
       "version_minor": 0
      },
      "text/plain": [
       "Validation: |                                                                                      | 0/? [00:0…"
      ]
     },
     "metadata": {},
     "output_type": "display_data"
    },
    {
     "data": {
      "application/vnd.jupyter.widget-view+json": {
       "model_id": "",
       "version_major": 2,
       "version_minor": 0
      },
      "text/plain": [
       "Validation: |                                                                                      | 0/? [00:0…"
      ]
     },
     "metadata": {},
     "output_type": "display_data"
    },
    {
     "data": {
      "application/vnd.jupyter.widget-view+json": {
       "model_id": "",
       "version_major": 2,
       "version_minor": 0
      },
      "text/plain": [
       "Validation: |                                                                                      | 0/? [00:0…"
      ]
     },
     "metadata": {},
     "output_type": "display_data"
    },
    {
     "data": {
      "application/vnd.jupyter.widget-view+json": {
       "model_id": "",
       "version_major": 2,
       "version_minor": 0
      },
      "text/plain": [
       "Validation: |                                                                                      | 0/? [00:0…"
      ]
     },
     "metadata": {},
     "output_type": "display_data"
    },
    {
     "data": {
      "application/vnd.jupyter.widget-view+json": {
       "model_id": "",
       "version_major": 2,
       "version_minor": 0
      },
      "text/plain": [
       "Validation: |                                                                                      | 0/? [00:0…"
      ]
     },
     "metadata": {},
     "output_type": "display_data"
    },
    {
     "data": {
      "application/vnd.jupyter.widget-view+json": {
       "model_id": "",
       "version_major": 2,
       "version_minor": 0
      },
      "text/plain": [
       "Validation: |                                                                                      | 0/? [00:0…"
      ]
     },
     "metadata": {},
     "output_type": "display_data"
    },
    {
     "data": {
      "application/vnd.jupyter.widget-view+json": {
       "model_id": "",
       "version_major": 2,
       "version_minor": 0
      },
      "text/plain": [
       "Validation: |                                                                                      | 0/? [00:0…"
      ]
     },
     "metadata": {},
     "output_type": "display_data"
    },
    {
     "data": {
      "application/vnd.jupyter.widget-view+json": {
       "model_id": "",
       "version_major": 2,
       "version_minor": 0
      },
      "text/plain": [
       "Validation: |                                                                                      | 0/? [00:0…"
      ]
     },
     "metadata": {},
     "output_type": "display_data"
    },
    {
     "data": {
      "application/vnd.jupyter.widget-view+json": {
       "model_id": "",
       "version_major": 2,
       "version_minor": 0
      },
      "text/plain": [
       "Validation: |                                                                                      | 0/? [00:0…"
      ]
     },
     "metadata": {},
     "output_type": "display_data"
    },
    {
     "data": {
      "application/vnd.jupyter.widget-view+json": {
       "model_id": "",
       "version_major": 2,
       "version_minor": 0
      },
      "text/plain": [
       "Validation: |                                                                                      | 0/? [00:0…"
      ]
     },
     "metadata": {},
     "output_type": "display_data"
    },
    {
     "data": {
      "application/vnd.jupyter.widget-view+json": {
       "model_id": "",
       "version_major": 2,
       "version_minor": 0
      },
      "text/plain": [
       "Validation: |                                                                                      | 0/? [00:0…"
      ]
     },
     "metadata": {},
     "output_type": "display_data"
    },
    {
     "data": {
      "application/vnd.jupyter.widget-view+json": {
       "model_id": "",
       "version_major": 2,
       "version_minor": 0
      },
      "text/plain": [
       "Validation: |                                                                                      | 0/? [00:0…"
      ]
     },
     "metadata": {},
     "output_type": "display_data"
    },
    {
     "data": {
      "application/vnd.jupyter.widget-view+json": {
       "model_id": "",
       "version_major": 2,
       "version_minor": 0
      },
      "text/plain": [
       "Validation: |                                                                                      | 0/? [00:0…"
      ]
     },
     "metadata": {},
     "output_type": "display_data"
    },
    {
     "data": {
      "application/vnd.jupyter.widget-view+json": {
       "model_id": "",
       "version_major": 2,
       "version_minor": 0
      },
      "text/plain": [
       "Validation: |                                                                                      | 0/? [00:0…"
      ]
     },
     "metadata": {},
     "output_type": "display_data"
    },
    {
     "data": {
      "application/vnd.jupyter.widget-view+json": {
       "model_id": "",
       "version_major": 2,
       "version_minor": 0
      },
      "text/plain": [
       "Validation: |                                                                                      | 0/? [00:0…"
      ]
     },
     "metadata": {},
     "output_type": "display_data"
    },
    {
     "data": {
      "application/vnd.jupyter.widget-view+json": {
       "model_id": "",
       "version_major": 2,
       "version_minor": 0
      },
      "text/plain": [
       "Validation: |                                                                                      | 0/? [00:0…"
      ]
     },
     "metadata": {},
     "output_type": "display_data"
    },
    {
     "data": {
      "application/vnd.jupyter.widget-view+json": {
       "model_id": "",
       "version_major": 2,
       "version_minor": 0
      },
      "text/plain": [
       "Validation: |                                                                                      | 0/? [00:0…"
      ]
     },
     "metadata": {},
     "output_type": "display_data"
    },
    {
     "data": {
      "application/vnd.jupyter.widget-view+json": {
       "model_id": "",
       "version_major": 2,
       "version_minor": 0
      },
      "text/plain": [
       "Validation: |                                                                                      | 0/? [00:0…"
      ]
     },
     "metadata": {},
     "output_type": "display_data"
    },
    {
     "data": {
      "application/vnd.jupyter.widget-view+json": {
       "model_id": "",
       "version_major": 2,
       "version_minor": 0
      },
      "text/plain": [
       "Validation: |                                                                                      | 0/? [00:0…"
      ]
     },
     "metadata": {},
     "output_type": "display_data"
    },
    {
     "data": {
      "application/vnd.jupyter.widget-view+json": {
       "model_id": "",
       "version_major": 2,
       "version_minor": 0
      },
      "text/plain": [
       "Validation: |                                                                                      | 0/? [00:0…"
      ]
     },
     "metadata": {},
     "output_type": "display_data"
    },
    {
     "data": {
      "application/vnd.jupyter.widget-view+json": {
       "model_id": "",
       "version_major": 2,
       "version_minor": 0
      },
      "text/plain": [
       "Validation: |                                                                                      | 0/? [00:0…"
      ]
     },
     "metadata": {},
     "output_type": "display_data"
    },
    {
     "data": {
      "application/vnd.jupyter.widget-view+json": {
       "model_id": "",
       "version_major": 2,
       "version_minor": 0
      },
      "text/plain": [
       "Validation: |                                                                                      | 0/? [00:0…"
      ]
     },
     "metadata": {},
     "output_type": "display_data"
    },
    {
     "data": {
      "application/vnd.jupyter.widget-view+json": {
       "model_id": "",
       "version_major": 2,
       "version_minor": 0
      },
      "text/plain": [
       "Validation: |                              | 0/? [00:00<?, ?it/s]"
      ]
     },
     "metadata": {},
     "output_type": "display_data"
    },
    {
     "data": {
      "application/vnd.jupyter.widget-view+json": {
       "model_id": "",
       "version_major": 2,
       "version_minor": 0
      },
      "text/plain": [
       "Validation: |                              | 0/? [00:00<?, ?it/s]"
      ]
     },
     "metadata": {},
     "output_type": "display_data"
    },
    {
     "data": {
      "application/vnd.jupyter.widget-view+json": {
       "model_id": "",
       "version_major": 2,
       "version_minor": 0
      },
      "text/plain": [
       "Validation: |                                                                                      | 0/? [00:0…"
      ]
     },
     "metadata": {},
     "output_type": "display_data"
    },
    {
     "data": {
      "application/vnd.jupyter.widget-view+json": {
       "model_id": "",
       "version_major": 2,
       "version_minor": 0
      },
      "text/plain": [
       "Validation: |                                                                                      | 0/? [00:0…"
      ]
     },
     "metadata": {},
     "output_type": "display_data"
    },
    {
     "data": {
      "application/vnd.jupyter.widget-view+json": {
       "model_id": "",
       "version_major": 2,
       "version_minor": 0
      },
      "text/plain": [
       "Validation: |                                                                                      | 0/? [00:0…"
      ]
     },
     "metadata": {},
     "output_type": "display_data"
    },
    {
     "data": {
      "application/vnd.jupyter.widget-view+json": {
       "model_id": "",
       "version_major": 2,
       "version_minor": 0
      },
      "text/plain": [
       "Validation: |                                                                                      | 0/? [00:0…"
      ]
     },
     "metadata": {},
     "output_type": "display_data"
    },
    {
     "data": {
      "application/vnd.jupyter.widget-view+json": {
       "model_id": "",
       "version_major": 2,
       "version_minor": 0
      },
      "text/plain": [
       "Validation: |                              | 0/? [00:00<?, ?it/s]"
      ]
     },
     "metadata": {},
     "output_type": "display_data"
    },
    {
     "data": {
      "application/vnd.jupyter.widget-view+json": {
       "model_id": "",
       "version_major": 2,
       "version_minor": 0
      },
      "text/plain": [
       "Validation: |                              | 0/? [00:00<?, ?it/s]"
      ]
     },
     "metadata": {},
     "output_type": "display_data"
    },
    {
     "data": {
      "application/vnd.jupyter.widget-view+json": {
       "model_id": "",
       "version_major": 2,
       "version_minor": 0
      },
      "text/plain": [
       "Validation: |                              | 0/? [00:00<?, ?it/s]"
      ]
     },
     "metadata": {},
     "output_type": "display_data"
    },
    {
     "data": {
      "application/vnd.jupyter.widget-view+json": {
       "model_id": "",
       "version_major": 2,
       "version_minor": 0
      },
      "text/plain": [
       "Validation: |                              | 0/? [00:00<?, ?it/s]"
      ]
     },
     "metadata": {},
     "output_type": "display_data"
    },
    {
     "data": {
      "application/vnd.jupyter.widget-view+json": {
       "model_id": "",
       "version_major": 2,
       "version_minor": 0
      },
      "text/plain": [
       "Validation: |                              | 0/? [00:00<?, ?it/s]"
      ]
     },
     "metadata": {},
     "output_type": "display_data"
    },
    {
     "data": {
      "application/vnd.jupyter.widget-view+json": {
       "model_id": "",
       "version_major": 2,
       "version_minor": 0
      },
      "text/plain": [
       "Validation: |                              | 0/? [00:00<?, ?it/s]"
      ]
     },
     "metadata": {},
     "output_type": "display_data"
    },
    {
     "data": {
      "application/vnd.jupyter.widget-view+json": {
       "model_id": "",
       "version_major": 2,
       "version_minor": 0
      },
      "text/plain": [
       "Validation: |                              | 0/? [00:00<?, ?it/s]"
      ]
     },
     "metadata": {},
     "output_type": "display_data"
    },
    {
     "data": {
      "application/vnd.jupyter.widget-view+json": {
       "model_id": "",
       "version_major": 2,
       "version_minor": 0
      },
      "text/plain": [
       "Validation: |                                                                                      | 0/? [00:0…"
      ]
     },
     "metadata": {},
     "output_type": "display_data"
    },
    {
     "data": {
      "application/vnd.jupyter.widget-view+json": {
       "model_id": "",
       "version_major": 2,
       "version_minor": 0
      },
      "text/plain": [
       "Validation: |                                                                                      | 0/? [00:0…"
      ]
     },
     "metadata": {},
     "output_type": "display_data"
    },
    {
     "data": {
      "application/vnd.jupyter.widget-view+json": {
       "model_id": "",
       "version_major": 2,
       "version_minor": 0
      },
      "text/plain": [
       "Validation: |                                                                                      | 0/? [00:0…"
      ]
     },
     "metadata": {},
     "output_type": "display_data"
    },
    {
     "data": {
      "application/vnd.jupyter.widget-view+json": {
       "model_id": "",
       "version_major": 2,
       "version_minor": 0
      },
      "text/plain": [
       "Validation: |                                                                                      | 0/? [00:0…"
      ]
     },
     "metadata": {},
     "output_type": "display_data"
    },
    {
     "data": {
      "application/vnd.jupyter.widget-view+json": {
       "model_id": "",
       "version_major": 2,
       "version_minor": 0
      },
      "text/plain": [
       "Validation: |                                                                                      | 0/? [00:0…"
      ]
     },
     "metadata": {},
     "output_type": "display_data"
    },
    {
     "data": {
      "application/vnd.jupyter.widget-view+json": {
       "model_id": "",
       "version_major": 2,
       "version_minor": 0
      },
      "text/plain": [
       "Validation: |                                                                                      | 0/? [00:0…"
      ]
     },
     "metadata": {},
     "output_type": "display_data"
    },
    {
     "data": {
      "application/vnd.jupyter.widget-view+json": {
       "model_id": "",
       "version_major": 2,
       "version_minor": 0
      },
      "text/plain": [
       "Validation: |                                                                                      | 0/? [00:0…"
      ]
     },
     "metadata": {},
     "output_type": "display_data"
    },
    {
     "data": {
      "application/vnd.jupyter.widget-view+json": {
       "model_id": "",
       "version_major": 2,
       "version_minor": 0
      },
      "text/plain": [
       "Validation: |                              | 0/? [00:00<?, ?it/s]"
      ]
     },
     "metadata": {},
     "output_type": "display_data"
    },
    {
     "data": {
      "application/vnd.jupyter.widget-view+json": {
       "model_id": "",
       "version_major": 2,
       "version_minor": 0
      },
      "text/plain": [
       "Validation: |                              | 0/? [00:00<?, ?it/s]"
      ]
     },
     "metadata": {},
     "output_type": "display_data"
    },
    {
     "data": {
      "application/vnd.jupyter.widget-view+json": {
       "model_id": "",
       "version_major": 2,
       "version_minor": 0
      },
      "text/plain": [
       "Validation: |                              | 0/? [00:00<?, ?it/s]"
      ]
     },
     "metadata": {},
     "output_type": "display_data"
    },
    {
     "data": {
      "application/vnd.jupyter.widget-view+json": {
       "model_id": "c3aff79546894643bbdae9d62a72656c",
       "version_major": 2,
       "version_minor": 0
      },
      "text/plain": [
       "Validation: |                                                                                      | 0/? [00:0…"
      ]
     },
     "metadata": {},
     "output_type": "display_data"
    },
    {
     "data": {
      "application/vnd.jupyter.widget-view+json": {
       "model_id": "a2e6cce2ac004fc4835e6595ac3bfe55",
       "version_major": 2,
       "version_minor": 0
      },
      "text/plain": [
       "Validation: |                                                                                      | 0/? [00:0…"
      ]
     },
     "metadata": {},
     "output_type": "display_data"
    },
    {
     "name": "stderr",
     "output_type": "stream",
     "text": [
      "`Trainer.fit` stopped: `max_epochs=50` reached.\n"
     ]
    }
   ],
   "source": [
    "simclr_model = train_simclr(\n",
    "    batch_size=64, hidden_dim=64, lr=5e-4, temperature=0.07, weight_decay=1e-4, max_epochs=50\n",
    ")"
   ]
  },
  {
   "cell_type": "markdown",
   "id": "d4714a46",
   "metadata": {
    "papermill": {
     "duration": 0.204306,
     "end_time": "2023-10-12T10:17:09.845704",
     "exception": false,
     "start_time": "2023-10-12T10:17:09.641398",
     "status": "completed"
    },
    "tags": []
   },
   "source": [
    "To get an intuition of how training with contrastive learning behaves, we can take a look at the TensorBoard below:"
   ]
  },
  {
   "cell_type": "code",
   "execution_count": 11,
   "id": "5845e385",
   "metadata": {
    "papermill": {
     "duration": 1.218507,
     "end_time": "2023-10-12T10:17:11.269139",
     "exception": false,
     "start_time": "2023-10-12T10:17:10.050632",
     "status": "completed"
    },
    "tags": []
   },
   "outputs": [
    {
     "data": {
      "text/html": [
       "\n",
       "      <iframe id=\"tensorboard-frame-1c80317fa3b1799d\" width=\"100%\" height=\"800\" frameborder=\"0\">\n",
       "      </iframe>\n",
       "      <script>\n",
       "        (function() {\n",
       "          const frame = document.getElementById(\"tensorboard-frame-1c80317fa3b1799d\");\n",
       "          const url = new URL(\"/\", window.location);\n",
       "          const port = 6007;\n",
       "          if (port) {\n",
       "            url.port = port;\n",
       "          }\n",
       "          frame.src = url;\n",
       "        })();\n",
       "      </script>\n",
       "    "
      ],
      "text/plain": [
       "<IPython.core.display.HTML object>"
      ]
     },
     "metadata": {},
     "output_type": "display_data"
    }
   ],
   "source": [
    "%tensorboard --logdir saved_models/ContrastiveLearning_graphimages-twopi/SimCLR/lightning_logs"
   ]
  },
  {
   "cell_type": "markdown",
   "id": "ca9b8445",
   "metadata": {
    "lines_to_next_cell": 2,
    "papermill": {
     "duration": 0.210439,
     "end_time": "2023-10-12T10:17:12.153580",
     "exception": false,
     "start_time": "2023-10-12T10:17:11.943141",
     "status": "completed"
    },
    "tags": []
   },
   "source": [
    "## Logistic Regression\n",
    "\n",
    "<div class=\"center-wrapper\"><div class=\"video-wrapper\"><iframe src=\"https://www.youtube.com/embed/o3FktysLLd4\" title=\"YouTube video player\" frameborder=\"0\" allow=\"accelerometer; autoplay; clipboard-write; encrypted-media; gyroscope; picture-in-picture\" allowfullscreen></iframe></div></div>\n",
    "After we have trained our model via contrastive learning, we can deploy it on downstream tasks and see how well it performs with little data.\n",
    "A common setup, which also verifies whether the model has learned generalized representations, is to perform Logistic Regression on the features.\n",
    "In other words, we learn a single, linear layer that maps the representations to a class prediction.\n",
    "Since the base network $f(\\cdot)$ is not changed during the training process, the model can only perform well if the representations of $h$ describe all features that might be necessary for the task.\n",
    "Further, we do not have to worry too much about overfitting since we have very few parameters that are trained.\n",
    "Hence, we might expect that the model can perform well even with very little data.\n",
    "\n",
    "First, let's implement a simple Logistic Regression setup for which we assume that the images already have been encoded in their feature vectors.\n",
    "If very little data is available, it might be beneficial to dynamically encode the images during training so that we can also apply data augmentations.\n",
    "However, the way we implement it here is much more efficient and can be trained within a few seconds.\n",
    "Further, using data augmentations did not show any significant gain in this simple setup."
   ]
  },
  {
   "cell_type": "code",
   "execution_count": 12,
   "id": "f8ffe86d",
   "metadata": {
    "papermill": {
     "duration": 0.221322,
     "end_time": "2023-10-12T10:17:12.579562",
     "exception": false,
     "start_time": "2023-10-12T10:17:12.358240",
     "status": "completed"
    },
    "tags": []
   },
   "outputs": [],
   "source": [
    "class LogisticRegression(L.LightningModule):\n",
    "    def __init__(self, feature_dim, num_classes, lr, weight_decay, max_epochs=100):\n",
    "        super().__init__()\n",
    "        self.save_hyperparameters()\n",
    "        # Mapping from representation h to classes\n",
    "        self.model = nn.Linear(feature_dim, num_classes)\n",
    "\n",
    "    def configure_optimizers(self):\n",
    "        optimizer = optim.AdamW(self.parameters(), lr=self.hparams.lr, weight_decay=self.hparams.weight_decay)\n",
    "        lr_scheduler = optim.lr_scheduler.MultiStepLR(\n",
    "            optimizer, milestones=[int(self.hparams.max_epochs * 0.6), int(self.hparams.max_epochs * 0.8)], gamma=0.1\n",
    "        )\n",
    "        return [optimizer], [lr_scheduler]\n",
    "\n",
    "    def _calculate_loss(self, batch, mode=\"train\"):\n",
    "        feats, labels = batch\n",
    "        preds = self.model(feats)\n",
    "        loss = F.cross_entropy(preds, labels)\n",
    "        acc = (preds.argmax(dim=-1) == labels).float().mean()\n",
    "\n",
    "        self.log(mode + \"_loss\", loss)\n",
    "        self.log(mode + \"_acc\", acc)\n",
    "        return loss\n",
    "\n",
    "    def training_step(self, batch, batch_idx):\n",
    "        return self._calculate_loss(batch, mode=\"train\")\n",
    "\n",
    "    def validation_step(self, batch, batch_idx):\n",
    "        self._calculate_loss(batch, mode=\"val\")\n",
    "\n",
    "    def test_step(self, batch, batch_idx):\n",
    "        self._calculate_loss(batch, mode=\"test\")"
   ]
  },
  {
   "cell_type": "markdown",
   "id": "1e1f5b1a",
   "metadata": {
    "papermill": {
     "duration": 0.204001,
     "end_time": "2023-10-12T10:17:12.987596",
     "exception": false,
     "start_time": "2023-10-12T10:17:12.783595",
     "status": "completed"
    },
    "tags": []
   },
   "source": [
    "The data we use is the training and test set of STL10.\n",
    "The training contains 500 images per class, while the test set has 800 images per class."
   ]
  },
  {
   "cell_type": "code",
   "execution_count": 13,
   "id": "eb045d39",
   "metadata": {
    "papermill": {
     "duration": 10.594537,
     "end_time": "2023-10-12T10:17:23.836147",
     "exception": false,
     "start_time": "2023-10-12T10:17:13.241610",
     "status": "completed"
    },
    "tags": []
   },
   "outputs": [
    {
     "name": "stderr",
     "output_type": "stream",
     "text": [
      "Could not find image processor class in the image processor config or the model config. Loading based on pattern matching with the model's feature extractor configuration.\n"
     ]
    },
    {
     "ename": "NameError",
     "evalue": "name 'STL10' is not defined",
     "output_type": "error",
     "traceback": [
      "\u001b[0;31m---------------------------------------------------------------------------\u001b[0m",
      "\u001b[0;31mNameError\u001b[0m                                 Traceback (most recent call last)",
      "Cell \u001b[0;32mIn[13], line 9\u001b[0m\n\u001b[1;32m      6\u001b[0m         \u001b[38;5;28;01mreturn\u001b[39;00m processor(x, return_tensors\u001b[38;5;241m=\u001b[39m\u001b[38;5;124m\"\u001b[39m\u001b[38;5;124mpt\u001b[39m\u001b[38;5;124m\"\u001b[39m)[\u001b[38;5;124m\"\u001b[39m\u001b[38;5;124mpixel_values\u001b[39m\u001b[38;5;124m\"\u001b[39m]\u001b[38;5;241m.\u001b[39msqueeze() \n\u001b[1;32m      8\u001b[0m pp \u001b[38;5;241m=\u001b[39m Preprocess()\n\u001b[0;32m----> 9\u001b[0m train_img_data \u001b[38;5;241m=\u001b[39m \u001b[43mSTL10\u001b[49m(root\u001b[38;5;241m=\u001b[39mDATASET_PATH, split\u001b[38;5;241m=\u001b[39m\u001b[38;5;124m\"\u001b[39m\u001b[38;5;124mtrain\u001b[39m\u001b[38;5;124m\"\u001b[39m, download\u001b[38;5;241m=\u001b[39m\u001b[38;5;28;01mTrue\u001b[39;00m, transform\u001b[38;5;241m=\u001b[39mpp)\n\u001b[1;32m     10\u001b[0m test_img_data \u001b[38;5;241m=\u001b[39m STL10(root\u001b[38;5;241m=\u001b[39mDATASET_PATH, split\u001b[38;5;241m=\u001b[39m\u001b[38;5;124m\"\u001b[39m\u001b[38;5;124mtest\u001b[39m\u001b[38;5;124m\"\u001b[39m, download\u001b[38;5;241m=\u001b[39m\u001b[38;5;28;01mTrue\u001b[39;00m, transform\u001b[38;5;241m=\u001b[39mpp)\n\u001b[1;32m     12\u001b[0m \u001b[38;5;28mprint\u001b[39m(\u001b[38;5;124m\"\u001b[39m\u001b[38;5;124mNumber of training examples:\u001b[39m\u001b[38;5;124m\"\u001b[39m, \u001b[38;5;28mlen\u001b[39m(train_img_data))\n",
      "\u001b[0;31mNameError\u001b[0m: name 'STL10' is not defined"
     ]
    }
   ],
   "source": [
    "from transformers import AutoImageProcessor\n",
    "processor = AutoImageProcessor.from_pretrained(MODEL)\n",
    "\n",
    "class Preprocess:\n",
    "    def __call__(self, x):\n",
    "        return processor(x, return_tensors=\"pt\")[\"pixel_values\"].squeeze() \n",
    "    \n",
    "pp = Preprocess()\n",
    "train_img_data = STL10(root=DATASET_PATH, split=\"train\", download=True, transform=pp)\n",
    "test_img_data = STL10(root=DATASET_PATH, split=\"test\", download=True, transform=pp)\n",
    "\n",
    "print(\"Number of training examples:\", len(train_img_data))\n",
    "print(\"Number of test examples:\", len(test_img_data))"
   ]
  },
  {
   "cell_type": "markdown",
   "id": "4fe7bb53",
   "metadata": {
    "lines_to_next_cell": 2,
    "papermill": {
     "duration": 0.205395,
     "end_time": "2023-10-12T10:17:24.281519",
     "exception": false,
     "start_time": "2023-10-12T10:17:24.076124",
     "status": "completed"
    },
    "tags": []
   },
   "source": [
    "Next, we implement a small function to encode all images in our datasets.\n",
    "The output representations are then used as inputs to the Logistic Regression model."
   ]
  },
  {
   "cell_type": "code",
   "execution_count": null,
   "id": "dc036f86",
   "metadata": {
    "papermill": {
     "duration": 0.25953,
     "end_time": "2023-10-12T10:17:24.744198",
     "exception": false,
     "start_time": "2023-10-12T10:17:24.484668",
     "status": "completed"
    },
    "tags": []
   },
   "outputs": [],
   "source": [
    "@torch.no_grad()\n",
    "def prepare_data_features(model, dataset):\n",
    "    # Prepare model\n",
    "    network = deepcopy(model.model)\n",
    "    network.eval()\n",
    "    network.to(device)\n",
    "\n",
    "    # Encode all images\n",
    "    data_loader = data.DataLoader(dataset, batch_size=64, num_workers=20, shuffle=False, drop_last=False)\n",
    "    feats, labels = [], []\n",
    "    for batch_imgs, batch_labels in tqdm(data_loader):\n",
    "        batch_imgs = batch_imgs.to(device)\n",
    "        batch_feats = network(batch_imgs).pooler_output\n",
    "        feats.append(batch_feats.detach().cpu())\n",
    "        labels.append(batch_labels)\n",
    "\n",
    "    feats = torch.cat(feats, dim=0)\n",
    "    labels = torch.cat(labels, dim=0)\n",
    "\n",
    "    # Sort images by labels\n",
    "    labels, idxs = labels.sort()\n",
    "    feats = feats[idxs]\n",
    "\n",
    "    return data.TensorDataset(feats, labels)"
   ]
  },
  {
   "cell_type": "markdown",
   "id": "0a26b004",
   "metadata": {
    "papermill": {
     "duration": 0.20344,
     "end_time": "2023-10-12T10:17:25.155830",
     "exception": false,
     "start_time": "2023-10-12T10:17:24.952390",
     "status": "completed"
    },
    "tags": []
   },
   "source": [
    "Let's apply the function to both training and test set below."
   ]
  },
  {
   "cell_type": "code",
   "execution_count": null,
   "id": "9ca7aab2",
   "metadata": {
    "papermill": {
     "duration": 10.458895,
     "end_time": "2023-10-12T10:17:35.817068",
     "exception": false,
     "start_time": "2023-10-12T10:17:25.358173",
     "status": "completed"
    },
    "tags": []
   },
   "outputs": [],
   "source": [
    "train_feats_simclr = prepare_data_features(simclr_model, train_img_data)\n",
    "test_feats_simclr = prepare_data_features(simclr_model, test_img_data)"
   ]
  },
  {
   "cell_type": "markdown",
   "id": "c57594d2",
   "metadata": {
    "lines_to_next_cell": 2,
    "papermill": {
     "duration": 0.201731,
     "end_time": "2023-10-12T10:17:36.225721",
     "exception": false,
     "start_time": "2023-10-12T10:17:36.023990",
     "status": "completed"
    },
    "tags": []
   },
   "source": [
    "Finally, we can write a training function as usual.\n",
    "We evaluate the model on the test set every 10 epochs to allow early\n",
    "stopping, but the low frequency of the validation ensures that we do not\n",
    "overfit too much on the test set."
   ]
  },
  {
   "cell_type": "code",
   "execution_count": null,
   "id": "75b8ff08",
   "metadata": {
    "lines_to_next_cell": 2,
    "papermill": {
     "duration": 0.214718,
     "end_time": "2023-10-12T10:17:36.684817",
     "exception": false,
     "start_time": "2023-10-12T10:17:36.470099",
     "status": "completed"
    },
    "tags": []
   },
   "outputs": [],
   "source": [
    "def train_logreg(batch_size, train_feats_data, test_feats_data, model_suffix, max_epochs=100, **kwargs):\n",
    "    trainer = L.Trainer(\n",
    "        default_root_dir=os.path.join(CHECKPOINT_PATH, \"LogisticRegression\"),\n",
    "        accelerator=\"auto\",\n",
    "        devices=1,\n",
    "        max_epochs=max_epochs,\n",
    "        callbacks=[\n",
    "            ModelCheckpoint(save_weights_only=True, mode=\"max\", monitor=\"val_acc\"),\n",
    "            LearningRateMonitor(\"epoch\"),\n",
    "        ],\n",
    "        enable_progress_bar=False,\n",
    "        check_val_every_n_epoch=10,\n",
    "    )\n",
    "    trainer.logger._default_hp_metric = None\n",
    "\n",
    "    # Data loaders\n",
    "    train_loader = data.DataLoader(\n",
    "        train_feats_data, batch_size=batch_size, shuffle=True, drop_last=False, pin_memory=True, num_workers=0\n",
    "    )\n",
    "    test_loader = data.DataLoader(\n",
    "        test_feats_data, batch_size=batch_size, shuffle=False, drop_last=False, pin_memory=True, num_workers=0\n",
    "    )\n",
    "\n",
    "    # Check whether pretrained model exists. If yes, load it and skip training\n",
    "    pretrained_filename = os.path.join(CHECKPOINT_PATH, f\"LogisticRegression_{model_suffix}.ckpt\")\n",
    "    if os.path.isfile(pretrained_filename):\n",
    "        print(f\"Found pretrained model at {pretrained_filename}, loading...\")\n",
    "        model = LogisticRegression.load_from_checkpoint(pretrained_filename)\n",
    "    else:\n",
    "        L.seed_everything(42)  # To be reproducible\n",
    "        model = LogisticRegression(**kwargs)\n",
    "        trainer.fit(model, train_loader, test_loader)\n",
    "        model = LogisticRegression.load_from_checkpoint(trainer.checkpoint_callback.best_model_path)\n",
    "\n",
    "    # Test best model on train and validation set\n",
    "    train_result = trainer.test(model, dataloaders=train_loader, verbose=False)\n",
    "    test_result = trainer.test(model, dataloaders=test_loader, verbose=False)\n",
    "    result = {\"train\": train_result[0][\"test_acc\"], \"test\": test_result[0][\"test_acc\"]}\n",
    "\n",
    "    return model, result"
   ]
  },
  {
   "cell_type": "markdown",
   "id": "4c0bdab8",
   "metadata": {
    "lines_to_next_cell": 2,
    "papermill": {
     "duration": 0.201344,
     "end_time": "2023-10-12T10:17:37.090475",
     "exception": false,
     "start_time": "2023-10-12T10:17:36.889131",
     "status": "completed"
    },
    "tags": []
   },
   "source": [
    "Despite the training dataset of STL10 already only having 500 labeled images per class, we will perform experiments with even smaller datasets.\n",
    "Specifically, we train a Logistic Regression model for datasets with only 10, 20, 50, 100, 200, and all 500 examples per class.\n",
    "This gives us an intuition on how well the representations learned by contrastive learning can be transferred to a image recognition task like this classification.\n",
    "First, let's define a function to create the intended sub-datasets from the full training set:"
   ]
  },
  {
   "cell_type": "code",
   "execution_count": null,
   "id": "f6767b71",
   "metadata": {
    "papermill": {
     "duration": 0.212998,
     "end_time": "2023-10-12T10:17:37.504574",
     "exception": false,
     "start_time": "2023-10-12T10:17:37.291576",
     "status": "completed"
    },
    "tags": []
   },
   "outputs": [],
   "source": [
    "def get_smaller_dataset(original_dataset, num_imgs_per_label):\n",
    "    new_dataset = data.TensorDataset(\n",
    "        *(t.unflatten(0, (10, 500))[:, :num_imgs_per_label].flatten(0, 1) for t in original_dataset.tensors)\n",
    "    )\n",
    "    return new_dataset"
   ]
  },
  {
   "cell_type": "markdown",
   "id": "24542748",
   "metadata": {
    "papermill": {
     "duration": 0.23764,
     "end_time": "2023-10-12T10:17:37.945430",
     "exception": false,
     "start_time": "2023-10-12T10:17:37.707790",
     "status": "completed"
    },
    "tags": []
   },
   "source": [
    "Next, let's run all models.\n",
    "Despite us training 6 models, this cell could be run within a minute or two without the pretrained models."
   ]
  },
  {
   "cell_type": "code",
   "execution_count": null,
   "id": "597f3941",
   "metadata": {
    "papermill": {
     "duration": 1.747752,
     "end_time": "2023-10-12T10:17:39.900985",
     "exception": false,
     "start_time": "2023-10-12T10:17:38.153233",
     "status": "completed"
    },
    "tags": []
   },
   "outputs": [],
   "source": [
    "results = {}\n",
    "for num_imgs_per_label in [10, 20, 50, 100, 200, 500]:\n",
    "    sub_train_set = get_smaller_dataset(train_feats_simclr, num_imgs_per_label)\n",
    "    _, small_set_results = train_logreg(\n",
    "        batch_size=64,\n",
    "        train_feats_data=sub_train_set,\n",
    "        test_feats_data=test_feats_simclr,\n",
    "        model_suffix=num_imgs_per_label,\n",
    "        feature_dim=train_feats_simclr.tensors[0].shape[1],\n",
    "        num_classes=10,\n",
    "        lr=1e-3,\n",
    "        weight_decay=1e-3,\n",
    "    )\n",
    "    results[num_imgs_per_label] = small_set_results"
   ]
  },
  {
   "cell_type": "markdown",
   "id": "6aec221f",
   "metadata": {
    "papermill": {
     "duration": 0.20463,
     "end_time": "2023-10-12T10:17:40.346847",
     "exception": false,
     "start_time": "2023-10-12T10:17:40.142217",
     "status": "completed"
    },
    "tags": []
   },
   "source": [
    "Finally, let's plot the results."
   ]
  },
  {
   "cell_type": "code",
   "execution_count": null,
   "id": "507a9e81",
   "metadata": {
    "papermill": {
     "duration": 0.571832,
     "end_time": "2023-10-12T10:17:41.167306",
     "exception": false,
     "start_time": "2023-10-12T10:17:40.595474",
     "status": "completed"
    },
    "tags": []
   },
   "outputs": [],
   "source": [
    "dataset_sizes = sorted(k for k in results)\n",
    "test_scores = [results[k][\"test\"] for k in dataset_sizes]\n",
    "\n",
    "fig = plt.figure(figsize=(6, 4))\n",
    "plt.plot(\n",
    "    dataset_sizes,\n",
    "    test_scores,\n",
    "    \"--\",\n",
    "    color=\"#000\",\n",
    "    marker=\"*\",\n",
    "    markeredgecolor=\"#000\",\n",
    "    markerfacecolor=\"y\",\n",
    "    markersize=16,\n",
    ")\n",
    "plt.xscale(\"log\")\n",
    "plt.xticks(dataset_sizes, labels=dataset_sizes)\n",
    "plt.title(\"STL10 classification over dataset size\", fontsize=14)\n",
    "plt.xlabel(\"Number of images per class\")\n",
    "plt.ylabel(\"Test accuracy\")\n",
    "plt.minorticks_off()\n",
    "plt.show()\n",
    "\n",
    "for k, score in zip(dataset_sizes, test_scores):\n",
    "    print(f\"Test accuracy for {k:3d} images per label: {100*score:4.2f}%\")"
   ]
  },
  {
   "cell_type": "markdown",
   "id": "3b8a3c4f",
   "metadata": {
    "papermill": {
     "duration": 0.205521,
     "end_time": "2023-10-12T10:17:41.580230",
     "exception": false,
     "start_time": "2023-10-12T10:17:41.374709",
     "status": "completed"
    },
    "tags": []
   },
   "source": [
    "As one would expect, the classification performance improves the more data we have.\n",
    "However, with only 10 images per class, we can already classify more than 60% of the images correctly.\n",
    "This is quite impressive, considering that the images are also higher dimensional than e.g. CIFAR10.\n",
    "With the full dataset, we achieve an accuracy of 81%.\n",
    "The increase between 50 to 500 images per class might suggest a linear increase in performance with an exponentially larger dataset.\n",
    "However, with even more data, we could also finetune $f(\\cdot)$ in the training process, allowing for the representations to adapt more to the specific classification task given.\n",
    "\n",
    "To set the results above into perspective, we will train the base\n",
    "network, a ResNet-18, on the classification task from scratch."
   ]
  },
  {
   "cell_type": "markdown",
   "id": "df0df437",
   "metadata": {
    "lines_to_next_cell": 2,
    "papermill": {
     "duration": 0.204559,
     "end_time": "2023-10-12T10:17:41.990451",
     "exception": false,
     "start_time": "2023-10-12T10:17:41.785892",
     "status": "completed"
    },
    "tags": []
   },
   "source": [
    "## Baseline\n",
    "\n",
    "As a baseline to our results above, we will train a standard ResNet-18 with random initialization on the labeled training set of STL10.\n",
    "The results will give us an indication of the advantages that contrastive learning on unlabeled data has compared to using only supervised training.\n",
    "The implementation of the model is straightforward since the ResNet\n",
    "architecture is provided in the torchvision library."
   ]
  },
  {
   "cell_type": "code",
   "execution_count": null,
   "id": "4e477e28",
   "metadata": {
    "papermill": {
     "duration": 0.214044,
     "end_time": "2023-10-12T10:17:42.447100",
     "exception": false,
     "start_time": "2023-10-12T10:17:42.233056",
     "status": "completed"
    },
    "tags": []
   },
   "outputs": [],
   "source": [
    "class ResNet(L.LightningModule):\n",
    "    def __init__(self, num_classes, lr, weight_decay, max_epochs=100):\n",
    "        super().__init__()\n",
    "        self.save_hyperparameters()\n",
    "        self.model = torchvision.models.resnet18(pretrained=False, num_classes=num_classes)\n",
    "\n",
    "    def configure_optimizers(self):\n",
    "        optimizer = optim.AdamW(self.parameters(), lr=self.hparams.lr, weight_decay=self.hparams.weight_decay)\n",
    "        lr_scheduler = optim.lr_scheduler.MultiStepLR(\n",
    "            optimizer, milestones=[int(self.hparams.max_epochs * 0.7), int(self.hparams.max_epochs * 0.9)], gamma=0.1\n",
    "        )\n",
    "        return [optimizer], [lr_scheduler]\n",
    "\n",
    "    def _calculate_loss(self, batch, mode=\"train\"):\n",
    "        imgs, labels = batch\n",
    "        preds = self.model(imgs)\n",
    "        loss = F.cross_entropy(preds, labels)\n",
    "        acc = (preds.argmax(dim=-1) == labels).float().mean()\n",
    "\n",
    "        self.log(mode + \"_loss\", loss)\n",
    "        self.log(mode + \"_acc\", acc)\n",
    "        return loss\n",
    "\n",
    "    def training_step(self, batch, batch_idx):\n",
    "        return self._calculate_loss(batch, mode=\"train\")\n",
    "\n",
    "    def validation_step(self, batch, batch_idx):\n",
    "        self._calculate_loss(batch, mode=\"val\")\n",
    "\n",
    "    def test_step(self, batch, batch_idx):\n",
    "        self._calculate_loss(batch, mode=\"test\")"
   ]
  },
  {
   "cell_type": "markdown",
   "id": "932a6e40",
   "metadata": {
    "papermill": {
     "duration": 0.205127,
     "end_time": "2023-10-12T10:17:42.858480",
     "exception": false,
     "start_time": "2023-10-12T10:17:42.653353",
     "status": "completed"
    },
    "tags": []
   },
   "source": [
    "It is clear that the ResNet easily overfits on the training data since its parameter count is more than 1000 times larger than the dataset size.\n",
    "To make the comparison to the contrastive learning models fair, we apply data augmentations similar to the ones we used before: horizontal flip, crop-and-resize, grayscale, and gaussian blur.\n",
    "Color distortions as before are not used because the color distribution of an image showed to be an important feature for the classification.\n",
    "Hence, we observed no noticeable performance gains when adding color distortions to the set of augmentations.\n",
    "Similarly, we restrict the resizing operation before cropping to the max.\n",
    "125% of its original resolution, instead of 1250% as done in SimCLR.\n",
    "This is because, for classification, the model needs to recognize the full object, while in contrastive learning, we only want to check whether two patches belong to the same image/object.\n",
    "Hence, the chosen augmentations below are overall weaker than in the contrastive learning case."
   ]
  },
  {
   "cell_type": "code",
   "execution_count": null,
   "id": "32c68b47",
   "metadata": {
    "papermill": {
     "duration": 5.482204,
     "end_time": "2023-10-12T10:17:48.546112",
     "exception": false,
     "start_time": "2023-10-12T10:17:43.063908",
     "status": "completed"
    },
    "tags": []
   },
   "outputs": [],
   "source": [
    "train_transforms = transforms.Compose(\n",
    "    [\n",
    "        transforms.RandomHorizontalFlip(),\n",
    "        transforms.RandomResizedCrop(size=96, scale=(0.8, 1.0)),\n",
    "        transforms.RandomGrayscale(p=0.2),\n",
    "        transforms.GaussianBlur(kernel_size=9, sigma=(0.1, 0.5)),\n",
    "        transforms.ToTensor(),\n",
    "        transforms.Normalize((0.5,), (0.5,)),\n",
    "    ]\n",
    ")\n",
    "\n",
    "train_img_aug_data = STL10(root=DATASET_PATH, split=\"train\", download=True, transform=train_transforms)"
   ]
  },
  {
   "cell_type": "markdown",
   "id": "5af802e8",
   "metadata": {
    "lines_to_next_cell": 2,
    "papermill": {
     "duration": 0.256531,
     "end_time": "2023-10-12T10:17:49.043154",
     "exception": false,
     "start_time": "2023-10-12T10:17:48.786623",
     "status": "completed"
    },
    "tags": []
   },
   "source": [
    "The training function for the ResNet is almost identical to the Logistic Regression setup.\n",
    "Note that we allow the ResNet to perform validation every 2 epochs to\n",
    "also check whether the model overfits strongly in the first iterations\n",
    "or not."
   ]
  },
  {
   "cell_type": "code",
   "execution_count": null,
   "id": "a858c2ce",
   "metadata": {
    "papermill": {
     "duration": 0.21767,
     "end_time": "2023-10-12T10:17:49.465843",
     "exception": false,
     "start_time": "2023-10-12T10:17:49.248173",
     "status": "completed"
    },
    "tags": []
   },
   "outputs": [],
   "source": [
    "def train_resnet(batch_size, max_epochs=100, **kwargs):\n",
    "    trainer = L.Trainer(\n",
    "        default_root_dir=os.path.join(CHECKPOINT_PATH, \"ResNet\"),\n",
    "        accelerator=\"auto\",\n",
    "        devices=1,\n",
    "        max_epochs=max_epochs,\n",
    "        callbacks=[\n",
    "            ModelCheckpoint(save_weights_only=True, mode=\"max\", monitor=\"val_acc\"),\n",
    "            LearningRateMonitor(\"epoch\"),\n",
    "        ],\n",
    "        check_val_every_n_epoch=2,\n",
    "    )\n",
    "    trainer.logger._default_hp_metric = None\n",
    "\n",
    "    # Data loaders\n",
    "    train_loader = data.DataLoader(\n",
    "        train_img_aug_data,\n",
    "        batch_size=batch_size,\n",
    "        shuffle=True,\n",
    "        drop_last=True,\n",
    "        pin_memory=True,\n",
    "        num_workers=NUM_WORKERS,\n",
    "    )\n",
    "    test_loader = data.DataLoader(\n",
    "        test_img_data, batch_size=batch_size, shuffle=False, drop_last=False, pin_memory=True, num_workers=NUM_WORKERS\n",
    "    )\n",
    "\n",
    "    # Check whether pretrained model exists. If yes, load it and skip training\n",
    "    pretrained_filename = os.path.join(CHECKPOINT_PATH, \"ResNet.ckpt\")\n",
    "    if os.path.isfile(pretrained_filename):\n",
    "        print(\"Found pretrained model at %s, loading...\" % pretrained_filename)\n",
    "        model = ResNet.load_from_checkpoint(pretrained_filename)\n",
    "    else:\n",
    "        L.seed_everything(42)  # To be reproducible\n",
    "        model = ResNet(**kwargs)\n",
    "        trainer.fit(model, train_loader, test_loader)\n",
    "        model = ResNet.load_from_checkpoint(trainer.checkpoint_callback.best_model_path)\n",
    "\n",
    "    # Test best model on validation set\n",
    "    train_result = trainer.test(model, dataloaders=train_loader, verbose=False)\n",
    "    val_result = trainer.test(model, dataloaders=test_loader, verbose=False)\n",
    "    result = {\"train\": train_result[0][\"test_acc\"], \"test\": val_result[0][\"test_acc\"]}\n",
    "\n",
    "    return model, result"
   ]
  },
  {
   "cell_type": "markdown",
   "id": "2f6aa4cc",
   "metadata": {
    "papermill": {
     "duration": 0.205334,
     "end_time": "2023-10-12T10:17:49.877992",
     "exception": false,
     "start_time": "2023-10-12T10:17:49.672658",
     "status": "completed"
    },
    "tags": []
   },
   "source": [
    "Finally, let's train the model and check its results:"
   ]
  },
  {
   "cell_type": "code",
   "execution_count": null,
   "id": "3c9a49a1",
   "metadata": {
    "papermill": {
     "duration": 13.545551,
     "end_time": "2023-10-12T10:18:03.628429",
     "exception": false,
     "start_time": "2023-10-12T10:17:50.082878",
     "status": "completed"
    },
    "tags": []
   },
   "outputs": [],
   "source": [
    "resnet_model, resnet_result = train_resnet(batch_size=64, num_classes=10, lr=1e-3, weight_decay=2e-4, max_epochs=100)\n",
    "print(f\"Accuracy on training set: {100*resnet_result['train']:4.2f}%\")\n",
    "print(f\"Accuracy on test set: {100*resnet_result['test']:4.2f}%\")"
   ]
  },
  {
   "cell_type": "markdown",
   "id": "69361b4f",
   "metadata": {
    "papermill": {
     "duration": 0.205958,
     "end_time": "2023-10-12T10:18:04.044048",
     "exception": false,
     "start_time": "2023-10-12T10:18:03.838090",
     "status": "completed"
    },
    "tags": []
   },
   "source": [
    "The ResNet trained from scratch achieves 73.31% on the test set.\n",
    "This is almost 8% less than the contrastive learning model, and even slightly less than SimCLR achieves with 1/10 of the data.\n",
    "This shows that self-supervised, contrastive learning provides\n",
    "considerable performance gains by leveraging large amounts of unlabeled\n",
    "data when little labeled data is available."
   ]
  },
  {
   "cell_type": "markdown",
   "id": "515d972c",
   "metadata": {
    "papermill": {
     "duration": 0.205276,
     "end_time": "2023-10-12T10:18:04.454750",
     "exception": false,
     "start_time": "2023-10-12T10:18:04.249474",
     "status": "completed"
    },
    "tags": []
   },
   "source": [
    "## Conclusion\n",
    "\n",
    "In this tutorial, we have discussed self-supervised contrastive learning and implemented SimCLR as an example method.\n",
    "We have applied it to the STL10 dataset and showed that it can learn generalizable representations that we can use to train simple classification models.\n",
    "With 500 images per label, it achieved an 8% higher accuracy than a similar model solely trained from supervision and performs on par with it when only using a tenth of the labeled data.\n",
    "Our experimental results are limited to a single dataset, but recent works such as [Ting Chen et al. ](https://arxiv.org/abs/2006.10029) showed similar trends for larger datasets like ImageNet.\n",
    "Besides the discussed hyperparameters, the size of the model seems to be important in contrastive learning as well.\n",
    "If a lot of unlabeled data is available, larger models can achieve much stronger results and come close to their supervised baselines.\n",
    "Further, there are also approaches for combining contrastive and supervised learning, leading to performance gains beyond supervision (see [Khosla et al.](https://arxiv.org/abs/2004.11362)).\n",
    "Moreover, contrastive learning is not the only approach to self-supervised learning that has come up in the last two years and showed great results.\n",
    "Other methods include distillation-based methods like [BYOL](https://arxiv.org/abs/2006.07733) and redundancy reduction techniques like [Barlow Twins](https://arxiv.org/abs/2103.03230).\n",
    "There is a lot more to explore in the self-supervised domain, and more, impressive steps ahead are to be expected.\n",
    "\n",
    "### References\n",
    "\n",
    "[1] Chen, T., Kornblith, S., Norouzi, M., and Hinton, G. (2020).\n",
    "A simple framework for contrastive learning of visual representations.\n",
    "In International conference on machine learning (pp.\n",
    "1597-1607).\n",
    "PMLR.\n",
    "([link](https://arxiv.org/abs/2002.05709))\n",
    "\n",
    "[2] Chen, T., Kornblith, S., Swersky, K., Norouzi, M., and Hinton, G. (2020).\n",
    "Big self-supervised models are strong semi-supervised learners.\n",
    "NeurIPS 2021 ([link](https://arxiv.org/abs/2006.10029)).\n",
    "\n",
    "[3] Oord, A. V. D., Li, Y., and Vinyals, O.\n",
    "(2018).\n",
    "Representation learning with contrastive predictive coding.\n",
    "arXiv preprint arXiv:1807.03748.\n",
    "([link](https://arxiv.org/abs/1807.03748))\n",
    "\n",
    "[4] Grill, J.B., Strub, F., Altché, F., Tallec, C., Richemond, P.H., Buchatskaya, E., Doersch, C., Pires, B.A., Guo, Z.D., Azar, M.G.\n",
    "and Piot, B.\n",
    "(2020).\n",
    "Bootstrap your own latent: A new approach to self-supervised learning.\n",
    "arXiv preprint arXiv:2006.07733.\n",
    "([link](https://arxiv.org/abs/2006.07733))\n",
    "\n",
    "[5] Khosla, P., Teterwak, P., Wang, C., Sarna, A., Tian, Y., Isola, P., Maschinot, A., Liu, C. and Krishnan, D. (2020).\n",
    "Supervised contrastive learning.\n",
    "arXiv preprint arXiv:2004.11362.\n",
    "([link](https://arxiv.org/abs/2004.11362))\n",
    "\n",
    "[6] Zbontar, J., Jing, L., Misra, I., LeCun, Y. and Deny, S. (2021).\n",
    "Barlow twins: Self-supervised learning via redundancy reduction.\n",
    "arXiv preprint arXiv:2103.03230.\n",
    "([link](https://arxiv.org/abs/2103.03230))"
   ]
  },
  {
   "cell_type": "markdown",
   "id": "a94ac165",
   "metadata": {
    "papermill": {
     "duration": 0.239646,
     "end_time": "2023-10-12T10:18:04.899009",
     "exception": false,
     "start_time": "2023-10-12T10:18:04.659363",
     "status": "completed"
    },
    "tags": []
   },
   "source": [
    "## Congratulations - Time to Join the Community!\n",
    "\n",
    "Congratulations on completing this notebook tutorial! If you enjoyed this and would like to join the Lightning\n",
    "movement, you can do so in the following ways!\n",
    "\n",
    "### Star [Lightning](https://github.com/Lightning-AI/lightning) on GitHub\n",
    "The easiest way to help our community is just by starring the GitHub repos! This helps raise awareness of the cool\n",
    "tools we're building.\n",
    "\n",
    "### Join our [Slack](https://www.pytorchlightning.ai/community)!\n",
    "The best way to keep up to date on the latest advancements is to join our community! Make sure to introduce yourself\n",
    "and share your interests in `#general` channel\n",
    "\n",
    "\n",
    "### Contributions !\n",
    "The best way to contribute to our community is to become a code contributor! At any time you can go to\n",
    "[Lightning](https://github.com/Lightning-AI/lightning) or [Bolt](https://github.com/Lightning-AI/lightning-bolts)\n",
    "GitHub Issues page and filter for \"good first issue\".\n",
    "\n",
    "* [Lightning good first issue](https://github.com/Lightning-AI/lightning/issues?q=is%3Aopen+is%3Aissue+label%3A%22good+first+issue%22)\n",
    "* [Bolt good first issue](https://github.com/Lightning-AI/lightning-bolts/issues?q=is%3Aopen+is%3Aissue+label%3A%22good+first+issue%22)\n",
    "* You can also contribute your own notebooks with useful examples !\n",
    "\n",
    "### Great thanks from the entire Pytorch Lightning Team for your interest !\n",
    "\n",
    "[![Pytorch Lightning](data:image/png;base64,NDA0OiBOb3QgRm91bmQ=){height=\"60px\" width=\"240px\"}](https://pytorchlightning.ai)"
   ]
  }
 ],
 "metadata": {
  "jupytext": {
   "cell_metadata_filter": "colab_type,id,colab,-all",
   "formats": "ipynb,py:percent",
   "main_language": "python"
  },
  "kernelspec": {
   "display_name": "Python 3 (ipykernel)",
   "language": "python",
   "name": "python3"
  },
  "language_info": {
   "codemirror_mode": {
    "name": "ipython",
    "version": 3
   },
   "file_extension": ".py",
   "mimetype": "text/x-python",
   "name": "python",
   "nbconvert_exporter": "python",
   "pygments_lexer": "ipython3",
   "version": "3.11.6"
  },
  "papermill": {
   "default_parameters": {},
   "duration": 642.271841,
   "end_time": "2023-10-12T10:18:08.128442",
   "environment_variables": {},
   "exception": null,
   "input_path": "course_UvA-DL/13-contrastive-learning/SimCLR.ipynb",
   "output_path": ".notebooks/course_UvA-DL/13-contrastive-learning.ipynb",
   "parameters": {},
   "start_time": "2023-10-12T10:07:25.856601",
   "version": "2.4.0"
  },
  "widgets": {
   "application/vnd.jupyter.widget-state+json": {
    "state": {
     "028fa3950cde4361a023b5063df994b1": {
      "model_module": "@jupyter-widgets/controls",
      "model_module_version": "2.0.0",
      "model_name": "ProgressStyleModel",
      "state": {
       "_model_module": "@jupyter-widgets/controls",
       "_model_module_version": "2.0.0",
       "_model_name": "ProgressStyleModel",
       "_view_count": null,
       "_view_module": "@jupyter-widgets/base",
       "_view_module_version": "2.0.0",
       "_view_name": "StyleView",
       "bar_color": null,
       "description_width": ""
      }
     },
     "0b4249e3fb00488cae7d7a446bf88186": {
      "model_module": "@jupyter-widgets/controls",
      "model_module_version": "2.0.0",
      "model_name": "HBoxModel",
      "state": {
       "_dom_classes": [],
       "_model_module": "@jupyter-widgets/controls",
       "_model_module_version": "2.0.0",
       "_model_name": "HBoxModel",
       "_view_count": null,
       "_view_module": "@jupyter-widgets/controls",
       "_view_module_version": "2.0.0",
       "_view_name": "HBoxView",
       "box_style": "",
       "children": [
        "IPY_MODEL_d9b00aa8f6b742c0b36243123fc4de73",
        "IPY_MODEL_fa8afdd79868440a8c89d7aa71628ac7",
        "IPY_MODEL_50e557a2bc5743edbc6daa5b8b871c2c"
       ],
       "layout": "IPY_MODEL_45ad8e126b6b44cc9708ec4e19901384",
       "tabbable": null,
       "tooltip": null
      }
     },
     "14ee7ffc561f4de3a7238d7ccf0be65b": {
      "model_module": "@jupyter-widgets/controls",
      "model_module_version": "2.0.0",
      "model_name": "HTMLStyleModel",
      "state": {
       "_model_module": "@jupyter-widgets/controls",
       "_model_module_version": "2.0.0",
       "_model_name": "HTMLStyleModel",
       "_view_count": null,
       "_view_module": "@jupyter-widgets/base",
       "_view_module_version": "2.0.0",
       "_view_name": "StyleView",
       "background": null,
       "description_width": "",
       "font_size": null,
       "text_color": null
      }
     },
     "17c39cbb566341f9b02c07811b7cdf8f": {
      "model_module": "@jupyter-widgets/controls",
      "model_module_version": "2.0.0",
      "model_name": "HTMLStyleModel",
      "state": {
       "_model_module": "@jupyter-widgets/controls",
       "_model_module_version": "2.0.0",
       "_model_name": "HTMLStyleModel",
       "_view_count": null,
       "_view_module": "@jupyter-widgets/base",
       "_view_module_version": "2.0.0",
       "_view_name": "StyleView",
       "background": null,
       "description_width": "",
       "font_size": null,
       "text_color": null
      }
     },
     "1bee531809be408983b37397d7670e1e": {
      "model_module": "@jupyter-widgets/base",
      "model_module_version": "2.0.0",
      "model_name": "LayoutModel",
      "state": {
       "_model_module": "@jupyter-widgets/base",
       "_model_module_version": "2.0.0",
       "_model_name": "LayoutModel",
       "_view_count": null,
       "_view_module": "@jupyter-widgets/base",
       "_view_module_version": "2.0.0",
       "_view_name": "LayoutView",
       "align_content": null,
       "align_items": null,
       "align_self": null,
       "border_bottom": null,
       "border_left": null,
       "border_right": null,
       "border_top": null,
       "bottom": null,
       "display": null,
       "flex": null,
       "flex_flow": null,
       "grid_area": null,
       "grid_auto_columns": null,
       "grid_auto_flow": null,
       "grid_auto_rows": null,
       "grid_column": null,
       "grid_gap": null,
       "grid_row": null,
       "grid_template_areas": null,
       "grid_template_columns": null,
       "grid_template_rows": null,
       "height": null,
       "justify_content": null,
       "justify_items": null,
       "left": null,
       "margin": null,
       "max_height": null,
       "max_width": null,
       "min_height": null,
       "min_width": null,
       "object_fit": null,
       "object_position": null,
       "order": null,
       "overflow": null,
       "padding": null,
       "right": null,
       "top": null,
       "visibility": null,
       "width": null
      }
     },
     "1df947497f9246bdb843d8bff62d68a6": {
      "model_module": "@jupyter-widgets/controls",
      "model_module_version": "2.0.0",
      "model_name": "FloatProgressModel",
      "state": {
       "_dom_classes": [],
       "_model_module": "@jupyter-widgets/controls",
       "_model_module_version": "2.0.0",
       "_model_name": "FloatProgressModel",
       "_view_count": null,
       "_view_module": "@jupyter-widgets/controls",
       "_view_module_version": "2.0.0",
       "_view_name": "ProgressView",
       "bar_style": "success",
       "description": "",
       "description_allow_html": false,
       "layout": "IPY_MODEL_fa28a7d1a35d44cfbe0ac4c509689d55",
       "max": 78,
       "min": 0,
       "orientation": "horizontal",
       "style": "IPY_MODEL_825a73e9138c4a52bcc8f3c9c2014da1",
       "tabbable": null,
       "tooltip": null,
       "value": 78
      }
     },
     "20fcf0fecc994d82998be55ce12d0372": {
      "model_module": "@jupyter-widgets/base",
      "model_module_version": "2.0.0",
      "model_name": "LayoutModel",
      "state": {
       "_model_module": "@jupyter-widgets/base",
       "_model_module_version": "2.0.0",
       "_model_name": "LayoutModel",
       "_view_count": null,
       "_view_module": "@jupyter-widgets/base",
       "_view_module_version": "2.0.0",
       "_view_name": "LayoutView",
       "align_content": null,
       "align_items": null,
       "align_self": null,
       "border_bottom": null,
       "border_left": null,
       "border_right": null,
       "border_top": null,
       "bottom": null,
       "display": null,
       "flex": null,
       "flex_flow": null,
       "grid_area": null,
       "grid_auto_columns": null,
       "grid_auto_flow": null,
       "grid_auto_rows": null,
       "grid_column": null,
       "grid_gap": null,
       "grid_row": null,
       "grid_template_areas": null,
       "grid_template_columns": null,
       "grid_template_rows": null,
       "height": null,
       "justify_content": null,
       "justify_items": null,
       "left": null,
       "margin": null,
       "max_height": null,
       "max_width": null,
       "min_height": null,
       "min_width": null,
       "object_fit": null,
       "object_position": null,
       "order": null,
       "overflow": null,
       "padding": null,
       "right": null,
       "top": null,
       "visibility": null,
       "width": null
      }
     },
     "2db79c8a15b34955963e20711b79c877": {
      "model_module": "@jupyter-widgets/base",
      "model_module_version": "2.0.0",
      "model_name": "LayoutModel",
      "state": {
       "_model_module": "@jupyter-widgets/base",
       "_model_module_version": "2.0.0",
       "_model_name": "LayoutModel",
       "_view_count": null,
       "_view_module": "@jupyter-widgets/base",
       "_view_module_version": "2.0.0",
       "_view_name": "LayoutView",
       "align_content": null,
       "align_items": null,
       "align_self": null,
       "border_bottom": null,
       "border_left": null,
       "border_right": null,
       "border_top": null,
       "bottom": null,
       "display": null,
       "flex": "2",
       "flex_flow": null,
       "grid_area": null,
       "grid_auto_columns": null,
       "grid_auto_flow": null,
       "grid_auto_rows": null,
       "grid_column": null,
       "grid_gap": null,
       "grid_row": null,
       "grid_template_areas": null,
       "grid_template_columns": null,
       "grid_template_rows": null,
       "height": null,
       "justify_content": null,
       "justify_items": null,
       "left": null,
       "margin": null,
       "max_height": null,
       "max_width": null,
       "min_height": null,
       "min_width": null,
       "object_fit": null,
       "object_position": null,
       "order": null,
       "overflow": null,
       "padding": null,
       "right": null,
       "top": null,
       "visibility": null,
       "width": null
      }
     },
     "31da97807333409988557c433c0dea33": {
      "model_module": "@jupyter-widgets/controls",
      "model_module_version": "2.0.0",
      "model_name": "HTMLModel",
      "state": {
       "_dom_classes": [],
       "_model_module": "@jupyter-widgets/controls",
       "_model_module_version": "2.0.0",
       "_model_name": "HTMLModel",
       "_view_count": null,
       "_view_module": "@jupyter-widgets/controls",
       "_view_module_version": "2.0.0",
       "_view_name": "HTMLView",
       "description": "",
       "description_allow_html": false,
       "layout": "IPY_MODEL_20fcf0fecc994d82998be55ce12d0372",
       "placeholder": "​",
       "style": "IPY_MODEL_97de4f5dabd941aba3d37c51fe8a8bb2",
       "tabbable": null,
       "tooltip": null,
       "value": " 78/78 [00:00&lt;00:00, 98.28it/s]"
      }
     },
     "3cd3c14d9395491084de9d55a34ee9df": {
      "model_module": "@jupyter-widgets/controls",
      "model_module_version": "2.0.0",
      "model_name": "HTMLStyleModel",
      "state": {
       "_model_module": "@jupyter-widgets/controls",
       "_model_module_version": "2.0.0",
       "_model_name": "HTMLStyleModel",
       "_view_count": null,
       "_view_module": "@jupyter-widgets/base",
       "_view_module_version": "2.0.0",
       "_view_name": "StyleView",
       "background": null,
       "description_width": "",
       "font_size": null,
       "text_color": null
      }
     },
     "41466855f43e4abba228b7f29ba1875f": {
      "model_module": "@jupyter-widgets/base",
      "model_module_version": "2.0.0",
      "model_name": "LayoutModel",
      "state": {
       "_model_module": "@jupyter-widgets/base",
       "_model_module_version": "2.0.0",
       "_model_name": "LayoutModel",
       "_view_count": null,
       "_view_module": "@jupyter-widgets/base",
       "_view_module_version": "2.0.0",
       "_view_name": "LayoutView",
       "align_content": null,
       "align_items": null,
       "align_self": null,
       "border_bottom": null,
       "border_left": null,
       "border_right": null,
       "border_top": null,
       "bottom": null,
       "display": null,
       "flex": null,
       "flex_flow": null,
       "grid_area": null,
       "grid_auto_columns": null,
       "grid_auto_flow": null,
       "grid_auto_rows": null,
       "grid_column": null,
       "grid_gap": null,
       "grid_row": null,
       "grid_template_areas": null,
       "grid_template_columns": null,
       "grid_template_rows": null,
       "height": null,
       "justify_content": null,
       "justify_items": null,
       "left": null,
       "margin": null,
       "max_height": null,
       "max_width": null,
       "min_height": null,
       "min_width": null,
       "object_fit": null,
       "object_position": null,
       "order": null,
       "overflow": null,
       "padding": null,
       "right": null,
       "top": null,
       "visibility": null,
       "width": null
      }
     },
     "45ad8e126b6b44cc9708ec4e19901384": {
      "model_module": "@jupyter-widgets/base",
      "model_module_version": "2.0.0",
      "model_name": "LayoutModel",
      "state": {
       "_model_module": "@jupyter-widgets/base",
       "_model_module_version": "2.0.0",
       "_model_name": "LayoutModel",
       "_view_count": null,
       "_view_module": "@jupyter-widgets/base",
       "_view_module_version": "2.0.0",
       "_view_name": "LayoutView",
       "align_content": null,
       "align_items": null,
       "align_self": null,
       "border_bottom": null,
       "border_left": null,
       "border_right": null,
       "border_top": null,
       "bottom": null,
       "display": null,
       "flex": null,
       "flex_flow": null,
       "grid_area": null,
       "grid_auto_columns": null,
       "grid_auto_flow": null,
       "grid_auto_rows": null,
       "grid_column": null,
       "grid_gap": null,
       "grid_row": null,
       "grid_template_areas": null,
       "grid_template_columns": null,
       "grid_template_rows": null,
       "height": null,
       "justify_content": null,
       "justify_items": null,
       "left": null,
       "margin": null,
       "max_height": null,
       "max_width": null,
       "min_height": null,
       "min_width": null,
       "object_fit": null,
       "object_position": null,
       "order": null,
       "overflow": null,
       "padding": null,
       "right": null,
       "top": null,
       "visibility": null,
       "width": null
      }
     },
     "47f19c8291ed482893ba5a9831906510": {
      "model_module": "@jupyter-widgets/controls",
      "model_module_version": "2.0.0",
      "model_name": "HTMLStyleModel",
      "state": {
       "_model_module": "@jupyter-widgets/controls",
       "_model_module_version": "2.0.0",
       "_model_name": "HTMLStyleModel",
       "_view_count": null,
       "_view_module": "@jupyter-widgets/base",
       "_view_module_version": "2.0.0",
       "_view_name": "StyleView",
       "background": null,
       "description_width": "",
       "font_size": null,
       "text_color": null
      }
     },
     "50e557a2bc5743edbc6daa5b8b871c2c": {
      "model_module": "@jupyter-widgets/controls",
      "model_module_version": "2.0.0",
      "model_name": "HTMLModel",
      "state": {
       "_dom_classes": [],
       "_model_module": "@jupyter-widgets/controls",
       "_model_module_version": "2.0.0",
       "_model_name": "HTMLModel",
       "_view_count": null,
       "_view_module": "@jupyter-widgets/controls",
       "_view_module_version": "2.0.0",
       "_view_name": "HTMLView",
       "description": "",
       "description_allow_html": false,
       "layout": "IPY_MODEL_41466855f43e4abba228b7f29ba1875f",
       "placeholder": "​",
       "style": "IPY_MODEL_17c39cbb566341f9b02c07811b7cdf8f",
       "tabbable": null,
       "tooltip": null,
       "value": " 125/125 [00:06&lt;00:00, 68.22it/s]"
      }
     },
     "525589d0c5414bb6bbea67eabe6717d7": {
      "model_module": "@jupyter-widgets/controls",
      "model_module_version": "2.0.0",
      "model_name": "ProgressStyleModel",
      "state": {
       "_model_module": "@jupyter-widgets/controls",
       "_model_module_version": "2.0.0",
       "_model_name": "ProgressStyleModel",
       "_view_count": null,
       "_view_module": "@jupyter-widgets/base",
       "_view_module_version": "2.0.0",
       "_view_name": "StyleView",
       "bar_color": null,
       "description_width": ""
      }
     },
     "6246814c866847038f453308e4c592db": {
      "model_module": "@jupyter-widgets/controls",
      "model_module_version": "2.0.0",
      "model_name": "HTMLStyleModel",
      "state": {
       "_model_module": "@jupyter-widgets/controls",
       "_model_module_version": "2.0.0",
       "_model_name": "HTMLStyleModel",
       "_view_count": null,
       "_view_module": "@jupyter-widgets/base",
       "_view_module_version": "2.0.0",
       "_view_name": "StyleView",
       "background": null,
       "description_width": "",
       "font_size": null,
       "text_color": null
      }
     },
     "6417f3d4fe1147ecabd60c18b0ed024f": {
      "model_module": "@jupyter-widgets/controls",
      "model_module_version": "2.0.0",
      "model_name": "HBoxModel",
      "state": {
       "_dom_classes": [],
       "_model_module": "@jupyter-widgets/controls",
       "_model_module_version": "2.0.0",
       "_model_name": "HBoxModel",
       "_view_count": null,
       "_view_module": "@jupyter-widgets/controls",
       "_view_module_version": "2.0.0",
       "_view_name": "HBoxView",
       "box_style": "",
       "children": [
        "IPY_MODEL_cfba62487b504f2cb22ea1080b43126a",
        "IPY_MODEL_1df947497f9246bdb843d8bff62d68a6",
        "IPY_MODEL_31da97807333409988557c433c0dea33"
       ],
       "layout": "IPY_MODEL_9f7eb3469535475eb0d122b0dd0482c1",
       "tabbable": null,
       "tooltip": null
      }
     },
     "699a6517e8b0483caa965661ec9f2bb0": {
      "model_module": "@jupyter-widgets/base",
      "model_module_version": "2.0.0",
      "model_name": "LayoutModel",
      "state": {
       "_model_module": "@jupyter-widgets/base",
       "_model_module_version": "2.0.0",
       "_model_name": "LayoutModel",
       "_view_count": null,
       "_view_module": "@jupyter-widgets/base",
       "_view_module_version": "2.0.0",
       "_view_name": "LayoutView",
       "align_content": null,
       "align_items": null,
       "align_self": null,
       "border_bottom": null,
       "border_left": null,
       "border_right": null,
       "border_top": null,
       "bottom": null,
       "display": null,
       "flex": null,
       "flex_flow": null,
       "grid_area": null,
       "grid_auto_columns": null,
       "grid_auto_flow": null,
       "grid_auto_rows": null,
       "grid_column": null,
       "grid_gap": null,
       "grid_row": null,
       "grid_template_areas": null,
       "grid_template_columns": null,
       "grid_template_rows": null,
       "height": null,
       "justify_content": null,
       "justify_items": null,
       "left": null,
       "margin": null,
       "max_height": null,
       "max_width": null,
       "min_height": null,
       "min_width": null,
       "object_fit": null,
       "object_position": null,
       "order": null,
       "overflow": null,
       "padding": null,
       "right": null,
       "top": null,
       "visibility": null,
       "width": null
      }
     },
     "7a027bb1905748cf859dd44f7c613c1e": {
      "model_module": "@jupyter-widgets/base",
      "model_module_version": "2.0.0",
      "model_name": "LayoutModel",
      "state": {
       "_model_module": "@jupyter-widgets/base",
       "_model_module_version": "2.0.0",
       "_model_name": "LayoutModel",
       "_view_count": null,
       "_view_module": "@jupyter-widgets/base",
       "_view_module_version": "2.0.0",
       "_view_name": "LayoutView",
       "align_content": null,
       "align_items": null,
       "align_self": null,
       "border_bottom": null,
       "border_left": null,
       "border_right": null,
       "border_top": null,
       "bottom": null,
       "display": "inline-flex",
       "flex": null,
       "flex_flow": "row wrap",
       "grid_area": null,
       "grid_auto_columns": null,
       "grid_auto_flow": null,
       "grid_auto_rows": null,
       "grid_column": null,
       "grid_gap": null,
       "grid_row": null,
       "grid_template_areas": null,
       "grid_template_columns": null,
       "grid_template_rows": null,
       "height": null,
       "justify_content": null,
       "justify_items": null,
       "left": null,
       "margin": null,
       "max_height": null,
       "max_width": null,
       "min_height": null,
       "min_width": null,
       "object_fit": null,
       "object_position": null,
       "order": null,
       "overflow": null,
       "padding": null,
       "right": null,
       "top": null,
       "visibility": null,
       "width": "100%"
      }
     },
     "825a73e9138c4a52bcc8f3c9c2014da1": {
      "model_module": "@jupyter-widgets/controls",
      "model_module_version": "2.0.0",
      "model_name": "ProgressStyleModel",
      "state": {
       "_model_module": "@jupyter-widgets/controls",
       "_model_module_version": "2.0.0",
       "_model_name": "ProgressStyleModel",
       "_view_count": null,
       "_view_module": "@jupyter-widgets/base",
       "_view_module_version": "2.0.0",
       "_view_name": "StyleView",
       "bar_color": null,
       "description_width": ""
      }
     },
     "902f2f296f424531ad379bd896f84be9": {
      "model_module": "@jupyter-widgets/controls",
      "model_module_version": "2.0.0",
      "model_name": "HTMLModel",
      "state": {
       "_dom_classes": [],
       "_model_module": "@jupyter-widgets/controls",
       "_model_module_version": "2.0.0",
       "_model_name": "HTMLModel",
       "_view_count": null,
       "_view_module": "@jupyter-widgets/controls",
       "_view_module_version": "2.0.0",
       "_view_name": "HTMLView",
       "description": "",
       "description_allow_html": false,
       "layout": "IPY_MODEL_be884e63ca594c9abb737ead503ac9b9",
       "placeholder": "​",
       "style": "IPY_MODEL_9feae90bc6634c29925546ee179a865a",
       "tabbable": null,
       "tooltip": null,
       "value": " 125/125 [00:00&lt;00:00, 141.90it/s]"
      }
     },
     "9077eaa39ff548e8b59e175f979bef09": {
      "model_module": "@jupyter-widgets/controls",
      "model_module_version": "2.0.0",
      "model_name": "HTMLModel",
      "state": {
       "_dom_classes": [],
       "_model_module": "@jupyter-widgets/controls",
       "_model_module_version": "2.0.0",
       "_model_name": "HTMLModel",
       "_view_count": null,
       "_view_module": "@jupyter-widgets/controls",
       "_view_module_version": "2.0.0",
       "_view_name": "HTMLView",
       "description": "",
       "description_allow_html": false,
       "layout": "IPY_MODEL_699a6517e8b0483caa965661ec9f2bb0",
       "placeholder": "​",
       "style": "IPY_MODEL_6246814c866847038f453308e4c592db",
       "tabbable": null,
       "tooltip": null,
       "value": "Testing DataLoader 0: 100%"
      }
     },
     "942fd9f1824a4bee8a771e6388f6a097": {
      "model_module": "@jupyter-widgets/controls",
      "model_module_version": "2.0.0",
      "model_name": "HBoxModel",
      "state": {
       "_dom_classes": [],
       "_model_module": "@jupyter-widgets/controls",
       "_model_module_version": "2.0.0",
       "_model_name": "HBoxModel",
       "_view_count": null,
       "_view_module": "@jupyter-widgets/controls",
       "_view_module_version": "2.0.0",
       "_view_name": "HBoxView",
       "box_style": "",
       "children": [
        "IPY_MODEL_f3527a428b324ccf932fb8aab5781662",
        "IPY_MODEL_c7fbe53c33af4f8bb49c7bd0805fe177",
        "IPY_MODEL_e3f0f959bdae4794a188a747f7864398"
       ],
       "layout": "IPY_MODEL_954dc5c43b0b46479bf0f4f3daf66f1a",
       "tabbable": null,
       "tooltip": null
      }
     },
     "954dc5c43b0b46479bf0f4f3daf66f1a": {
      "model_module": "@jupyter-widgets/base",
      "model_module_version": "2.0.0",
      "model_name": "LayoutModel",
      "state": {
       "_model_module": "@jupyter-widgets/base",
       "_model_module_version": "2.0.0",
       "_model_name": "LayoutModel",
       "_view_count": null,
       "_view_module": "@jupyter-widgets/base",
       "_view_module_version": "2.0.0",
       "_view_name": "LayoutView",
       "align_content": null,
       "align_items": null,
       "align_self": null,
       "border_bottom": null,
       "border_left": null,
       "border_right": null,
       "border_top": null,
       "bottom": null,
       "display": null,
       "flex": null,
       "flex_flow": null,
       "grid_area": null,
       "grid_auto_columns": null,
       "grid_auto_flow": null,
       "grid_auto_rows": null,
       "grid_column": null,
       "grid_gap": null,
       "grid_row": null,
       "grid_template_areas": null,
       "grid_template_columns": null,
       "grid_template_rows": null,
       "height": null,
       "justify_content": null,
       "justify_items": null,
       "left": null,
       "margin": null,
       "max_height": null,
       "max_width": null,
       "min_height": null,
       "min_width": null,
       "object_fit": null,
       "object_position": null,
       "order": null,
       "overflow": null,
       "padding": null,
       "right": null,
       "top": null,
       "visibility": null,
       "width": null
      }
     },
     "9644700dd42042608bce9610426573f6": {
      "model_module": "@jupyter-widgets/controls",
      "model_module_version": "2.0.0",
      "model_name": "HTMLStyleModel",
      "state": {
       "_model_module": "@jupyter-widgets/controls",
       "_model_module_version": "2.0.0",
       "_model_name": "HTMLStyleModel",
       "_view_count": null,
       "_view_module": "@jupyter-widgets/base",
       "_view_module_version": "2.0.0",
       "_view_name": "StyleView",
       "background": null,
       "description_width": "",
       "font_size": null,
       "text_color": null
      }
     },
     "97de4f5dabd941aba3d37c51fe8a8bb2": {
      "model_module": "@jupyter-widgets/controls",
      "model_module_version": "2.0.0",
      "model_name": "HTMLStyleModel",
      "state": {
       "_model_module": "@jupyter-widgets/controls",
       "_model_module_version": "2.0.0",
       "_model_name": "HTMLStyleModel",
       "_view_count": null,
       "_view_module": "@jupyter-widgets/base",
       "_view_module_version": "2.0.0",
       "_view_name": "StyleView",
       "background": null,
       "description_width": "",
       "font_size": null,
       "text_color": null
      }
     },
     "9f7eb3469535475eb0d122b0dd0482c1": {
      "model_module": "@jupyter-widgets/base",
      "model_module_version": "2.0.0",
      "model_name": "LayoutModel",
      "state": {
       "_model_module": "@jupyter-widgets/base",
       "_model_module_version": "2.0.0",
       "_model_name": "LayoutModel",
       "_view_count": null,
       "_view_module": "@jupyter-widgets/base",
       "_view_module_version": "2.0.0",
       "_view_name": "LayoutView",
       "align_content": null,
       "align_items": null,
       "align_self": null,
       "border_bottom": null,
       "border_left": null,
       "border_right": null,
       "border_top": null,
       "bottom": null,
       "display": "inline-flex",
       "flex": null,
       "flex_flow": "row wrap",
       "grid_area": null,
       "grid_auto_columns": null,
       "grid_auto_flow": null,
       "grid_auto_rows": null,
       "grid_column": null,
       "grid_gap": null,
       "grid_row": null,
       "grid_template_areas": null,
       "grid_template_columns": null,
       "grid_template_rows": null,
       "height": null,
       "justify_content": null,
       "justify_items": null,
       "left": null,
       "margin": null,
       "max_height": null,
       "max_width": null,
       "min_height": null,
       "min_width": null,
       "object_fit": null,
       "object_position": null,
       "order": null,
       "overflow": null,
       "padding": null,
       "right": null,
       "top": null,
       "visibility": null,
       "width": "100%"
      }
     },
     "9feae90bc6634c29925546ee179a865a": {
      "model_module": "@jupyter-widgets/controls",
      "model_module_version": "2.0.0",
      "model_name": "HTMLStyleModel",
      "state": {
       "_model_module": "@jupyter-widgets/controls",
       "_model_module_version": "2.0.0",
       "_model_name": "HTMLStyleModel",
       "_view_count": null,
       "_view_module": "@jupyter-widgets/base",
       "_view_module_version": "2.0.0",
       "_view_name": "StyleView",
       "background": null,
       "description_width": "",
       "font_size": null,
       "text_color": null
      }
     },
     "b8e57bc58e744faaacf8f706bbf208e0": {
      "model_module": "@jupyter-widgets/controls",
      "model_module_version": "2.0.0",
      "model_name": "ProgressStyleModel",
      "state": {
       "_model_module": "@jupyter-widgets/controls",
       "_model_module_version": "2.0.0",
       "_model_name": "ProgressStyleModel",
       "_view_count": null,
       "_view_module": "@jupyter-widgets/base",
       "_view_module_version": "2.0.0",
       "_view_name": "StyleView",
       "bar_color": null,
       "description_width": ""
      }
     },
     "be884e63ca594c9abb737ead503ac9b9": {
      "model_module": "@jupyter-widgets/base",
      "model_module_version": "2.0.0",
      "model_name": "LayoutModel",
      "state": {
       "_model_module": "@jupyter-widgets/base",
       "_model_module_version": "2.0.0",
       "_model_name": "LayoutModel",
       "_view_count": null,
       "_view_module": "@jupyter-widgets/base",
       "_view_module_version": "2.0.0",
       "_view_name": "LayoutView",
       "align_content": null,
       "align_items": null,
       "align_self": null,
       "border_bottom": null,
       "border_left": null,
       "border_right": null,
       "border_top": null,
       "bottom": null,
       "display": null,
       "flex": null,
       "flex_flow": null,
       "grid_area": null,
       "grid_auto_columns": null,
       "grid_auto_flow": null,
       "grid_auto_rows": null,
       "grid_column": null,
       "grid_gap": null,
       "grid_row": null,
       "grid_template_areas": null,
       "grid_template_columns": null,
       "grid_template_rows": null,
       "height": null,
       "justify_content": null,
       "justify_items": null,
       "left": null,
       "margin": null,
       "max_height": null,
       "max_width": null,
       "min_height": null,
       "min_width": null,
       "object_fit": null,
       "object_position": null,
       "order": null,
       "overflow": null,
       "padding": null,
       "right": null,
       "top": null,
       "visibility": null,
       "width": null
      }
     },
     "c3cd8cfd3f8940f9a8cbf6706fbbbed1": {
      "model_module": "@jupyter-widgets/controls",
      "model_module_version": "2.0.0",
      "model_name": "FloatProgressModel",
      "state": {
       "_dom_classes": [],
       "_model_module": "@jupyter-widgets/controls",
       "_model_module_version": "2.0.0",
       "_model_name": "FloatProgressModel",
       "_view_count": null,
       "_view_module": "@jupyter-widgets/controls",
       "_view_module_version": "2.0.0",
       "_view_name": "ProgressView",
       "bar_style": "success",
       "description": "",
       "description_allow_html": false,
       "layout": "IPY_MODEL_2db79c8a15b34955963e20711b79c877",
       "max": 125,
       "min": 0,
       "orientation": "horizontal",
       "style": "IPY_MODEL_b8e57bc58e744faaacf8f706bbf208e0",
       "tabbable": null,
       "tooltip": null,
       "value": 125
      }
     },
     "c79cf6242bbd482a8fc677bd4138a509": {
      "model_module": "@jupyter-widgets/base",
      "model_module_version": "2.0.0",
      "model_name": "LayoutModel",
      "state": {
       "_model_module": "@jupyter-widgets/base",
       "_model_module_version": "2.0.0",
       "_model_name": "LayoutModel",
       "_view_count": null,
       "_view_module": "@jupyter-widgets/base",
       "_view_module_version": "2.0.0",
       "_view_name": "LayoutView",
       "align_content": null,
       "align_items": null,
       "align_self": null,
       "border_bottom": null,
       "border_left": null,
       "border_right": null,
       "border_top": null,
       "bottom": null,
       "display": null,
       "flex": null,
       "flex_flow": null,
       "grid_area": null,
       "grid_auto_columns": null,
       "grid_auto_flow": null,
       "grid_auto_rows": null,
       "grid_column": null,
       "grid_gap": null,
       "grid_row": null,
       "grid_template_areas": null,
       "grid_template_columns": null,
       "grid_template_rows": null,
       "height": null,
       "justify_content": null,
       "justify_items": null,
       "left": null,
       "margin": null,
       "max_height": null,
       "max_width": null,
       "min_height": null,
       "min_width": null,
       "object_fit": null,
       "object_position": null,
       "order": null,
       "overflow": null,
       "padding": null,
       "right": null,
       "top": null,
       "visibility": null,
       "width": null
      }
     },
     "c7fbe53c33af4f8bb49c7bd0805fe177": {
      "model_module": "@jupyter-widgets/controls",
      "model_module_version": "2.0.0",
      "model_name": "FloatProgressModel",
      "state": {
       "_dom_classes": [],
       "_model_module": "@jupyter-widgets/controls",
       "_model_module_version": "2.0.0",
       "_model_name": "FloatProgressModel",
       "_view_count": null,
       "_view_module": "@jupyter-widgets/controls",
       "_view_module_version": "2.0.0",
       "_view_name": "ProgressView",
       "bar_style": "success",
       "description": "",
       "description_allow_html": false,
       "layout": "IPY_MODEL_1bee531809be408983b37397d7670e1e",
       "max": 79,
       "min": 0,
       "orientation": "horizontal",
       "style": "IPY_MODEL_525589d0c5414bb6bbea67eabe6717d7",
       "tabbable": null,
       "tooltip": null,
       "value": 79
      }
     },
     "cfba62487b504f2cb22ea1080b43126a": {
      "model_module": "@jupyter-widgets/controls",
      "model_module_version": "2.0.0",
      "model_name": "HTMLModel",
      "state": {
       "_dom_classes": [],
       "_model_module": "@jupyter-widgets/controls",
       "_model_module_version": "2.0.0",
       "_model_name": "HTMLModel",
       "_view_count": null,
       "_view_module": "@jupyter-widgets/controls",
       "_view_module_version": "2.0.0",
       "_view_name": "HTMLView",
       "description": "",
       "description_allow_html": false,
       "layout": "IPY_MODEL_fd5ad5c518c545b29288bfa672253c60",
       "placeholder": "​",
       "style": "IPY_MODEL_47f19c8291ed482893ba5a9831906510",
       "tabbable": null,
       "tooltip": null,
       "value": "Testing DataLoader 0: 100%"
      }
     },
     "d9b00aa8f6b742c0b36243123fc4de73": {
      "model_module": "@jupyter-widgets/controls",
      "model_module_version": "2.0.0",
      "model_name": "HTMLModel",
      "state": {
       "_dom_classes": [],
       "_model_module": "@jupyter-widgets/controls",
       "_model_module_version": "2.0.0",
       "_model_name": "HTMLModel",
       "_view_count": null,
       "_view_module": "@jupyter-widgets/controls",
       "_view_module_version": "2.0.0",
       "_view_name": "HTMLView",
       "description": "",
       "description_allow_html": false,
       "layout": "IPY_MODEL_f62ba312cf654f1f94515e1243d010a6",
       "placeholder": "​",
       "style": "IPY_MODEL_14ee7ffc561f4de3a7238d7ccf0be65b",
       "tabbable": null,
       "tooltip": null,
       "value": "100%"
      }
     },
     "dd3dbda4c0224dc3afa87dee9788995c": {
      "model_module": "@jupyter-widgets/base",
      "model_module_version": "2.0.0",
      "model_name": "LayoutModel",
      "state": {
       "_model_module": "@jupyter-widgets/base",
       "_model_module_version": "2.0.0",
       "_model_name": "LayoutModel",
       "_view_count": null,
       "_view_module": "@jupyter-widgets/base",
       "_view_module_version": "2.0.0",
       "_view_name": "LayoutView",
       "align_content": null,
       "align_items": null,
       "align_self": null,
       "border_bottom": null,
       "border_left": null,
       "border_right": null,
       "border_top": null,
       "bottom": null,
       "display": null,
       "flex": null,
       "flex_flow": null,
       "grid_area": null,
       "grid_auto_columns": null,
       "grid_auto_flow": null,
       "grid_auto_rows": null,
       "grid_column": null,
       "grid_gap": null,
       "grid_row": null,
       "grid_template_areas": null,
       "grid_template_columns": null,
       "grid_template_rows": null,
       "height": null,
       "justify_content": null,
       "justify_items": null,
       "left": null,
       "margin": null,
       "max_height": null,
       "max_width": null,
       "min_height": null,
       "min_width": null,
       "object_fit": null,
       "object_position": null,
       "order": null,
       "overflow": null,
       "padding": null,
       "right": null,
       "top": null,
       "visibility": null,
       "width": null
      }
     },
     "e3f0f959bdae4794a188a747f7864398": {
      "model_module": "@jupyter-widgets/controls",
      "model_module_version": "2.0.0",
      "model_name": "HTMLModel",
      "state": {
       "_dom_classes": [],
       "_model_module": "@jupyter-widgets/controls",
       "_model_module_version": "2.0.0",
       "_model_name": "HTMLModel",
       "_view_count": null,
       "_view_module": "@jupyter-widgets/controls",
       "_view_module_version": "2.0.0",
       "_view_name": "HTMLView",
       "description": "",
       "description_allow_html": false,
       "layout": "IPY_MODEL_c79cf6242bbd482a8fc677bd4138a509",
       "placeholder": "​",
       "style": "IPY_MODEL_3cd3c14d9395491084de9d55a34ee9df",
       "tabbable": null,
       "tooltip": null,
       "value": " 79/79 [00:03&lt;00:00, 53.12it/s]"
      }
     },
     "e6a44042b78c442ca8d44d960f52d9fd": {
      "model_module": "@jupyter-widgets/controls",
      "model_module_version": "2.0.0",
      "model_name": "HBoxModel",
      "state": {
       "_dom_classes": [],
       "_model_module": "@jupyter-widgets/controls",
       "_model_module_version": "2.0.0",
       "_model_name": "HBoxModel",
       "_view_count": null,
       "_view_module": "@jupyter-widgets/controls",
       "_view_module_version": "2.0.0",
       "_view_name": "HBoxView",
       "box_style": "",
       "children": [
        "IPY_MODEL_9077eaa39ff548e8b59e175f979bef09",
        "IPY_MODEL_c3cd8cfd3f8940f9a8cbf6706fbbbed1",
        "IPY_MODEL_902f2f296f424531ad379bd896f84be9"
       ],
       "layout": "IPY_MODEL_7a027bb1905748cf859dd44f7c613c1e",
       "tabbable": null,
       "tooltip": null
      }
     },
     "f3527a428b324ccf932fb8aab5781662": {
      "model_module": "@jupyter-widgets/controls",
      "model_module_version": "2.0.0",
      "model_name": "HTMLModel",
      "state": {
       "_dom_classes": [],
       "_model_module": "@jupyter-widgets/controls",
       "_model_module_version": "2.0.0",
       "_model_name": "HTMLModel",
       "_view_count": null,
       "_view_module": "@jupyter-widgets/controls",
       "_view_module_version": "2.0.0",
       "_view_name": "HTMLView",
       "description": "",
       "description_allow_html": false,
       "layout": "IPY_MODEL_f9ed27ff930442dc84b674ed141f3a69",
       "placeholder": "​",
       "style": "IPY_MODEL_9644700dd42042608bce9610426573f6",
       "tabbable": null,
       "tooltip": null,
       "value": "100%"
      }
     },
     "f62ba312cf654f1f94515e1243d010a6": {
      "model_module": "@jupyter-widgets/base",
      "model_module_version": "2.0.0",
      "model_name": "LayoutModel",
      "state": {
       "_model_module": "@jupyter-widgets/base",
       "_model_module_version": "2.0.0",
       "_model_name": "LayoutModel",
       "_view_count": null,
       "_view_module": "@jupyter-widgets/base",
       "_view_module_version": "2.0.0",
       "_view_name": "LayoutView",
       "align_content": null,
       "align_items": null,
       "align_self": null,
       "border_bottom": null,
       "border_left": null,
       "border_right": null,
       "border_top": null,
       "bottom": null,
       "display": null,
       "flex": null,
       "flex_flow": null,
       "grid_area": null,
       "grid_auto_columns": null,
       "grid_auto_flow": null,
       "grid_auto_rows": null,
       "grid_column": null,
       "grid_gap": null,
       "grid_row": null,
       "grid_template_areas": null,
       "grid_template_columns": null,
       "grid_template_rows": null,
       "height": null,
       "justify_content": null,
       "justify_items": null,
       "left": null,
       "margin": null,
       "max_height": null,
       "max_width": null,
       "min_height": null,
       "min_width": null,
       "object_fit": null,
       "object_position": null,
       "order": null,
       "overflow": null,
       "padding": null,
       "right": null,
       "top": null,
       "visibility": null,
       "width": null
      }
     },
     "f9ed27ff930442dc84b674ed141f3a69": {
      "model_module": "@jupyter-widgets/base",
      "model_module_version": "2.0.0",
      "model_name": "LayoutModel",
      "state": {
       "_model_module": "@jupyter-widgets/base",
       "_model_module_version": "2.0.0",
       "_model_name": "LayoutModel",
       "_view_count": null,
       "_view_module": "@jupyter-widgets/base",
       "_view_module_version": "2.0.0",
       "_view_name": "LayoutView",
       "align_content": null,
       "align_items": null,
       "align_self": null,
       "border_bottom": null,
       "border_left": null,
       "border_right": null,
       "border_top": null,
       "bottom": null,
       "display": null,
       "flex": null,
       "flex_flow": null,
       "grid_area": null,
       "grid_auto_columns": null,
       "grid_auto_flow": null,
       "grid_auto_rows": null,
       "grid_column": null,
       "grid_gap": null,
       "grid_row": null,
       "grid_template_areas": null,
       "grid_template_columns": null,
       "grid_template_rows": null,
       "height": null,
       "justify_content": null,
       "justify_items": null,
       "left": null,
       "margin": null,
       "max_height": null,
       "max_width": null,
       "min_height": null,
       "min_width": null,
       "object_fit": null,
       "object_position": null,
       "order": null,
       "overflow": null,
       "padding": null,
       "right": null,
       "top": null,
       "visibility": null,
       "width": null
      }
     },
     "fa28a7d1a35d44cfbe0ac4c509689d55": {
      "model_module": "@jupyter-widgets/base",
      "model_module_version": "2.0.0",
      "model_name": "LayoutModel",
      "state": {
       "_model_module": "@jupyter-widgets/base",
       "_model_module_version": "2.0.0",
       "_model_name": "LayoutModel",
       "_view_count": null,
       "_view_module": "@jupyter-widgets/base",
       "_view_module_version": "2.0.0",
       "_view_name": "LayoutView",
       "align_content": null,
       "align_items": null,
       "align_self": null,
       "border_bottom": null,
       "border_left": null,
       "border_right": null,
       "border_top": null,
       "bottom": null,
       "display": null,
       "flex": "2",
       "flex_flow": null,
       "grid_area": null,
       "grid_auto_columns": null,
       "grid_auto_flow": null,
       "grid_auto_rows": null,
       "grid_column": null,
       "grid_gap": null,
       "grid_row": null,
       "grid_template_areas": null,
       "grid_template_columns": null,
       "grid_template_rows": null,
       "height": null,
       "justify_content": null,
       "justify_items": null,
       "left": null,
       "margin": null,
       "max_height": null,
       "max_width": null,
       "min_height": null,
       "min_width": null,
       "object_fit": null,
       "object_position": null,
       "order": null,
       "overflow": null,
       "padding": null,
       "right": null,
       "top": null,
       "visibility": null,
       "width": null
      }
     },
     "fa8afdd79868440a8c89d7aa71628ac7": {
      "model_module": "@jupyter-widgets/controls",
      "model_module_version": "2.0.0",
      "model_name": "FloatProgressModel",
      "state": {
       "_dom_classes": [],
       "_model_module": "@jupyter-widgets/controls",
       "_model_module_version": "2.0.0",
       "_model_name": "FloatProgressModel",
       "_view_count": null,
       "_view_module": "@jupyter-widgets/controls",
       "_view_module_version": "2.0.0",
       "_view_name": "ProgressView",
       "bar_style": "success",
       "description": "",
       "description_allow_html": false,
       "layout": "IPY_MODEL_dd3dbda4c0224dc3afa87dee9788995c",
       "max": 125,
       "min": 0,
       "orientation": "horizontal",
       "style": "IPY_MODEL_028fa3950cde4361a023b5063df994b1",
       "tabbable": null,
       "tooltip": null,
       "value": 125
      }
     },
     "fd5ad5c518c545b29288bfa672253c60": {
      "model_module": "@jupyter-widgets/base",
      "model_module_version": "2.0.0",
      "model_name": "LayoutModel",
      "state": {
       "_model_module": "@jupyter-widgets/base",
       "_model_module_version": "2.0.0",
       "_model_name": "LayoutModel",
       "_view_count": null,
       "_view_module": "@jupyter-widgets/base",
       "_view_module_version": "2.0.0",
       "_view_name": "LayoutView",
       "align_content": null,
       "align_items": null,
       "align_self": null,
       "border_bottom": null,
       "border_left": null,
       "border_right": null,
       "border_top": null,
       "bottom": null,
       "display": null,
       "flex": null,
       "flex_flow": null,
       "grid_area": null,
       "grid_auto_columns": null,
       "grid_auto_flow": null,
       "grid_auto_rows": null,
       "grid_column": null,
       "grid_gap": null,
       "grid_row": null,
       "grid_template_areas": null,
       "grid_template_columns": null,
       "grid_template_rows": null,
       "height": null,
       "justify_content": null,
       "justify_items": null,
       "left": null,
       "margin": null,
       "max_height": null,
       "max_width": null,
       "min_height": null,
       "min_width": null,
       "object_fit": null,
       "object_position": null,
       "order": null,
       "overflow": null,
       "padding": null,
       "right": null,
       "top": null,
       "visibility": null,
       "width": null
      }
     }
    },
    "version_major": 2,
    "version_minor": 0
   }
  }
 },
 "nbformat": 4,
 "nbformat_minor": 5
}
