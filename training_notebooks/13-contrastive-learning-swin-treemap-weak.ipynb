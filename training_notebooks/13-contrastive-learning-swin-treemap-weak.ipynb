{
 "cells": [
  {
   "cell_type": "markdown",
   "id": "4f4e8864",
   "metadata": {
    "papermill": {
     "duration": 0.016955,
     "end_time": "2023-10-12T10:07:26.829381",
     "exception": false,
     "start_time": "2023-10-12T10:07:26.812426",
     "status": "completed"
    },
    "tags": []
   },
   "source": [
    "\n",
    "# Tutorial 13: Self-Supervised Contrastive Learning with SimCLR\n",
    "\n",
    "* **Author:** Phillip Lippe\n",
    "* **License:** CC BY-SA\n",
    "* **Generated:** 2023-10-12T10:05:10.778217\n",
    "\n",
    "In this tutorial, we will take a closer look at self-supervised contrastive learning.\n",
    "Self-supervised learning, or also sometimes called unsupervised learning, describes the scenario where we have given input data, but no accompanying labels to train in a classical supervised way.\n",
    "However, this data still contains a lot of information from which we can learn: how are the images different from each other?\n",
    "What patterns are descriptive for certain images?\n",
    "Can we cluster the images?\n",
    "To get an insight into these questions, we will implement a popular, simple contrastive learning method, SimCLR, and apply it to the STL10 dataset.\n",
    "This notebook is part of a lecture series on Deep Learning at the University of Amsterdam.\n",
    "The full list of tutorials can be found at https://uvadlc-notebooks.rtfd.io.\n",
    "\n",
    "\n",
    "---\n",
    "Open in [![Open In Colab](data:image/png;base64,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){height=\"20px\" width=\"117px\"}](https://colab.research.google.com/github/PytorchLightning/lightning-tutorials/blob/publication/.notebooks/course_UvA-DL/13-contrastive-learning.ipynb)\n",
    "\n",
    "Give us a ⭐ [on Github](https://www.github.com/Lightning-AI/lightning/)\n",
    "| Check out [the documentation](https://pytorch-lightning.readthedocs.io/en/stable/)\n",
    "| Join us [on Slack](https://www.pytorchlightning.ai/community)"
   ]
  },
  {
   "cell_type": "markdown",
   "id": "2a6eb697",
   "metadata": {
    "papermill": {
     "duration": 0.014639,
     "end_time": "2023-10-12T10:07:26.859268",
     "exception": false,
     "start_time": "2023-10-12T10:07:26.844629",
     "status": "completed"
    },
    "tags": []
   },
   "source": [
    "## Setup\n",
    "This notebook requires some packages besides pytorch-lightning."
   ]
  },
  {
   "cell_type": "markdown",
   "id": "51133008",
   "metadata": {
    "papermill": {
     "duration": 0.015111,
     "end_time": "2023-10-12T10:09:05.667755",
     "exception": false,
     "start_time": "2023-10-12T10:09:05.652644",
     "status": "completed"
    },
    "tags": []
   },
   "source": [
    "<div class=\"center-wrapper\"><div class=\"video-wrapper\"><iframe src=\"https://www.youtube.com/embed/waVZDFR-06U\" title=\"YouTube video player\" frameborder=\"0\" allow=\"accelerometer; autoplay; clipboard-write; encrypted-media; gyroscope; picture-in-picture\" allowfullscreen></iframe></div></div>\n",
    "Methods for self-supervised learning try to learn as much as possible from the data alone, so it can quickly be finetuned for a specific classification task.\n",
    "The benefit of self-supervised learning is that a large dataset can often easily be obtained.\n",
    "For instance, if we want to train a vision model on semantic segmentation for autonomous driving, we can collect large amounts of data by simply installing a camera in a car, and driving through a city for an hour.\n",
    "In contrast, if we would want to do supervised learning, we would have to manually label all those images before training a model.\n",
    "This is extremely expensive, and would likely take a couple of months to manually label the same amount of data.\n",
    "Further, self-supervised learning can provide an alternative to transfer learning from models pretrained on ImageNet since we could pretrain a model on a specific dataset/situation, e.g. traffic scenarios for autonomous driving.\n",
    "\n",
    "Within the last two years, a lot of new approaches have been proposed for self-supervised learning, in particular for images, that have resulted in great improvements over supervised models when few labels are available.\n",
    "The subfield that we will focus on in this tutorial is contrastive learning.\n",
    "Contrastive learning is motivated by the question mentioned above: how are images different from each other?\n",
    "Specifically, contrastive learning methods train a model to cluster an image and its slightly augmented version in latent space, while the distance to other images should be maximized.\n",
    "A very recent and simple method for this is [SimCLR](https://arxiv.org/abs/2006.10029), which is visualized below (figure credit - [Ting Chen et al. ](https://simclr.github.io/)).\n",
    "\n",
    "The general setup is that we are given a dataset of images without any labels, and want to train a model on this data such that it can quickly adapt to any image recognition task afterward.\n",
    "During each training iteration, we sample a batch of images as usual.\n",
    "For each image, we create two versions by applying data augmentation techniques like cropping, Gaussian noise, blurring, etc.\n",
    "An example of such is shown on the left with the image of the dog.\n",
    "We will go into the details and effects of the chosen augmentation techniques later.\n",
    "On those images, we apply a CNN like ResNet and obtain as output a 1D feature vector on which we apply a small MLP.\n",
    "The output features of the two augmented images are then trained to be close to each other, while all other images in that batch should be as different as possible.\n",
    "This way, the model has to learn to recognize the content of the image that remains unchanged under the data augmentations, such as objects which we usually care about in supervised tasks.\n",
    "\n",
    "We will now implement this framework ourselves and discuss further details along the way.\n",
    "Let's first start with importing our standard libraries below:"
   ]
  },
  {
   "cell_type": "code",
   "execution_count": 1,
   "id": "0d69e5b3",
   "metadata": {
    "papermill": {
     "duration": 4.46387,
     "end_time": "2023-10-12T10:09:10.146466",
     "exception": false,
     "start_time": "2023-10-12T10:09:05.682596",
     "status": "completed"
    },
    "tags": []
   },
   "outputs": [
    {
     "name": "stderr",
     "output_type": "stream",
     "text": [
      "Seed set to 42\n"
     ]
    },
    {
     "name": "stdout",
     "output_type": "stream",
     "text": [
      "Device: cuda:0\n",
      "Number of workers: 80\n"
     ]
    },
    {
     "data": {
      "text/plain": [
       "<Figure size 640x480 with 0 Axes>"
      ]
     },
     "metadata": {},
     "output_type": "display_data"
    }
   ],
   "source": [
    "import os\n",
    "import urllib.request\n",
    "from copy import deepcopy\n",
    "from urllib.error import HTTPError\n",
    "\n",
    "import lightning as L\n",
    "import matplotlib\n",
    "import matplotlib.pyplot as plt\n",
    "import matplotlib_inline.backend_inline\n",
    "import seaborn as sns\n",
    "import torch\n",
    "import torch.nn as nn\n",
    "import torch.nn.functional as F\n",
    "import torch.optim as optim\n",
    "import torch.utils.data as data\n",
    "import torchvision\n",
    "from lightning.pytorch.callbacks import LearningRateMonitor, ModelCheckpoint\n",
    "from torchvision import transforms\n",
    "from datasets import load_dataset\n",
    "from tqdm.notebook import tqdm\n",
    "\n",
    "plt.set_cmap(\"cividis\")\n",
    "%matplotlib inline\n",
    "matplotlib_inline.backend_inline.set_matplotlib_formats(\"svg\", \"pdf\")  # For export\n",
    "matplotlib.rcParams[\"lines.linewidth\"] = 2.0\n",
    "sns.set()\n",
    "\n",
    "# Import tensorboard\n",
    "%load_ext tensorboard\n",
    "\n",
    "# Path to the folder where the datasets are/should be downloaded (e.g. CIFAR10)\n",
    "DATASET_PATH = os.environ.get(\"PATH_DATASETS\", \"data/\")\n",
    "# Path to the folder where the pretrained models are saved\n",
    "CHECKPOINT_PATH = os.environ.get(\"PATH_CHECKPOINT\", \"saved_models/SimCLR_Treemap_SAT/\")\n",
    "# In this notebook, we use data loaders with heavier computational processing. It is recommended to use as many\n",
    "# workers as possible in a data loader, which corresponds to the number of CPU cores\n",
    "NUM_WORKERS = os.cpu_count()\n",
    "\n",
    "BASEMODEL=\"microsoft/swinv2-tiny-patch4-window8-256\"\n",
    "\n",
    "# Setting the seed\n",
    "L.seed_everything(42)\n",
    "\n",
    "# Ensure that all operations are deterministic on GPU (if used) for reproducibility\n",
    "torch.backends.cudnn.deterministic = True\n",
    "torch.backends.cudnn.benchmark = False\n",
    "\n",
    "device = torch.device(\"cuda:0\") if torch.cuda.is_available() else torch.device(\"cpu\")\n",
    "print(\"Device:\", device)\n",
    "print(\"Number of workers:\", NUM_WORKERS)"
   ]
  },
  {
   "cell_type": "markdown",
   "id": "b5fbec88",
   "metadata": {
    "papermill": {
     "duration": 0.018954,
     "end_time": "2023-10-12T10:09:13.327903",
     "exception": false,
     "start_time": "2023-10-12T10:09:13.308949",
     "status": "completed"
    },
    "tags": []
   },
   "source": [
    "## SimCLR\n",
    "\n",
    "We will start our exploration of contrastive learning by discussing the effect of different data augmentation techniques, and how we can implement an efficient data loader for such.\n",
    "Next, we implement SimCLR with PyTorch Lightning, and finally train it on a large, unlabeled dataset."
   ]
  },
  {
   "cell_type": "markdown",
   "id": "698f3baa",
   "metadata": {
    "lines_to_next_cell": 2,
    "papermill": {
     "duration": 0.015959,
     "end_time": "2023-10-12T10:09:13.363188",
     "exception": false,
     "start_time": "2023-10-12T10:09:13.347229",
     "status": "completed"
    },
    "tags": []
   },
   "source": [
    "### Data Augmentation for Contrastive Learning\n",
    "\n",
    "To allow efficient training, we need to prepare the data loading such that we sample two different, random augmentations for each image in the batch.\n",
    "The easiest way to do this is by creating a transformation that, when being called, applies a set of data augmentations to an image twice.\n",
    "This is implemented in the class `ContrastiveTransformations` below:"
   ]
  },
  {
   "cell_type": "markdown",
   "id": "cbecb8dc",
   "metadata": {
    "papermill": {
     "duration": 0.016143,
     "end_time": "2023-10-12T10:09:13.435673",
     "exception": false,
     "start_time": "2023-10-12T10:09:13.419530",
     "status": "completed"
    },
    "tags": []
   },
   "source": [
    "The contrastive learning framework can easily be extended to have more _positive_ examples by sampling more than two augmentations of the same image.\n",
    "However, the most efficient training is usually obtained by using only two.\n",
    "\n",
    "Next, we can look at the specific augmentations we want to apply.\n",
    "The choice of the data augmentation to use is the most crucial hyperparameter in SimCLR since it directly affects how the latent space is structured, and what patterns might be learned from the data.\n",
    "Let's first take a look at some of the most popular data augmentations (figure credit - [Ting Chen and Geoffrey Hinton](https://ai.googleblog.com/2020/04/advancing-self-supervised-and-semi.html)):\n",
    "\n",
    "<center width=\"100%\"><img src=\"https://github.com/Lightning-AI/lightning-tutorials/raw/main/course_UvA-DL/13-contrastive-learning/simclr_data_augmentations.jpg\" width=\"800px\" style=\"padding-top: 10px; padding-bottom: 10px\"></center>\n",
    "\n",
    "All of them can be used, but it turns out that two augmentations stand out in their importance: crop-and-resize, and color distortion.\n",
    "Interestingly, however, they only lead to strong performance if they have been used together as discussed by [Ting Chen et al. ](https://arxiv.org/abs/2006.10029) in their SimCLR paper.\n",
    "When performing randomly cropping and resizing, we can distinguish between two situations: (a) cropped image A provides a local view of cropped image B, or (b) cropped images C and D show neighboring views of the same image (figure credit - [Ting Chen and Geoffrey Hinton](https://ai.googleblog.com/2020/04/advancing-self-supervised-and-semi.html)).\n",
    "\n",
    "<center width=\"100%\"><img src=\"https://github.com/Lightning-AI/lightning-tutorials/raw/main/course_UvA-DL/13-contrastive-learning/crop_views.svg\" width=\"400px\" style=\"padding-top: 20px; padding-bottom: 0px\"></center>\n",
    "\n",
    "While situation (a) requires the model to learn some sort of scale invariance to make crops A and B similar in latent space, situation (b) is more challenging since the model needs to recognize an object beyond its limited view.\n",
    "However, without color distortion, there is a loophole that the model can exploit, namely that different crops of the same image usually look very similar in color space.\n",
    "Consider the picture of the dog above.\n",
    "Simply from the color of the fur and the green color tone of the background, you can reason that two patches belong to the same image without actually recognizing the dog in the picture.\n",
    "In this case, the model might end up focusing only on the color histograms of the images, and ignore other more generalizable features.\n",
    "If, however, we distort the colors in the two patches randomly and independently of each other, the model cannot rely on this simple feature anymore.\n",
    "Hence, by combining random cropping and color distortions, the model can only match two patches by learning generalizable representations.\n",
    "\n",
    "Overall, for our experiments, we apply a set of 5 transformations following the original SimCLR setup: random horizontal flip, crop-and-resize, color distortion, random grayscale, and gaussian blur.\n",
    "In comparison to the [original implementation](https://github.com/google-research/simclr), we reduce the effect of the color jitter slightly (0.5 instead of 0.8 for brightness, contrast, and saturation, and 0.1 instead of 0.2 for hue).\n",
    "In our experiments, this setting obtained better performance and was faster and more stable to train.\n",
    "If, for instance, the brightness scale highly varies in a dataset, the\n",
    "original settings can be more beneficial since the model can't rely on\n",
    "this information anymore to distinguish between images."
   ]
  },
  {
   "cell_type": "code",
   "execution_count": 2,
   "id": "bb242433",
   "metadata": {
    "papermill": {
     "duration": 0.023915,
     "end_time": "2023-10-12T10:09:13.475613",
     "exception": false,
     "start_time": "2023-10-12T10:09:13.451698",
     "status": "completed"
    },
    "tags": []
   },
   "outputs": [],
   "source": [
    "contrast_transforms = transforms.Compose(\n",
    "    [\n",
    "        transforms.RandomHorizontalFlip(),\n",
    "        transforms.RandomResizedCrop(size=256, scale=(0.4, 0.9)),\n",
    "        transforms.GaussianBlur(kernel_size=9),\n",
    "        transforms.RandomVerticalFlip(),\n",
    "    ]\n",
    ")"
   ]
  },
  {
   "cell_type": "markdown",
   "id": "66904433",
   "metadata": {
    "papermill": {
     "duration": 0.015605,
     "end_time": "2023-10-12T10:09:13.512857",
     "exception": false,
     "start_time": "2023-10-12T10:09:13.497252",
     "status": "completed"
    },
    "tags": []
   },
   "source": [
    "After discussing the data augmentation techniques, we can now focus on the dataset.\n",
    "In this tutorial, we will use the [STL10 dataset](https://cs.stanford.edu/~acoates/stl10/), which, similarly to CIFAR10, contains images of 10 classes: airplane, bird, car, cat, deer, dog, horse, monkey, ship, truck.\n",
    "However, the images have a higher resolution, namely $96\\times 96$ pixels, and we are only provided with 500 labeled images per class.\n",
    "Additionally, we have a much larger set of $100,000$ unlabeled images which are similar to the training images but are sampled from a wider range of animals and vehicles.\n",
    "This makes the dataset ideal to showcase the benefits that self-supervised learning offers.\n",
    "\n",
    "Luckily, the STL10 dataset is provided through torchvision.\n",
    "Keep in mind, however, that since this dataset is relatively large and has a considerably higher resolution than CIFAR10, it requires more disk space (~3GB) and takes a bit of time to download.\n",
    "For our initial discussion of self-supervised learning and SimCLR, we\n",
    "will create two data loaders with our contrastive transformations above:\n",
    "the `unlabeled_data` will be used to train our model via contrastive\n",
    "learning, and `train_data_contrast` will be used as a validation set in\n",
    "contrastive learning."
   ]
  },
  {
   "cell_type": "code",
   "execution_count": 3,
   "id": "619ff62a-a234-4233-8884-89f0853e22e6",
   "metadata": {},
   "outputs": [
    {
     "name": "stderr",
     "output_type": "stream",
     "text": [
      "Could not find image processor class in the image processor config or the model config. Loading based on pattern matching with the model's feature extractor configuration.\n"
     ]
    }
   ],
   "source": [
    "from transformers import AutoImageProcessor\n",
    "processor = AutoImageProcessor.from_pretrained(BASEMODEL)\n",
    "\n",
    "def create_views(x, base_transforms, n_views, dropout) -> torch.Tensor:\n",
    "    return torch.cat([dropout(processor(base_transforms(x.convert(\"RGB\")), return_tensors=\"pt\")[\"pixel_values\"]) for i in range(n_views)])\n",
    "    \n",
    "dropout = nn.Dropout(p=0.1)\n",
    "def apply_transforms(examples):\n",
    "    examples[\"pixel_values\"] = [create_views(x, contrast_transforms, 2, dropout) for x in examples[\"image\"]]\n",
    "    return examples"
   ]
  },
  {
   "cell_type": "code",
   "execution_count": 4,
   "id": "d7641d92",
   "metadata": {
    "papermill": {
     "duration": 469.970451,
     "end_time": "2023-10-12T10:17:03.500908",
     "exception": false,
     "start_time": "2023-10-12T10:09:13.530457",
     "status": "completed"
    },
    "tags": []
   },
   "outputs": [],
   "source": [
    "ds = load_dataset(\"kblw/graphviz_treemap\", revision=\"278679f\")\n",
    "ds.set_transform(apply_transforms)\n",
    "unlabeled_data = ds[\"train\"]\n",
    "train_data_contrast = ds[\"test\"]"
   ]
  },
  {
   "cell_type": "code",
   "execution_count": 5,
   "id": "c9873591-d07f-4ae5-9f1c-3aa4e990ff64",
   "metadata": {},
   "outputs": [
    {
     "data": {
      "text/plain": [
       "torch.Size([2, 3, 256, 256])"
      ]
     },
     "execution_count": 5,
     "metadata": {},
     "output_type": "execute_result"
    }
   ],
   "source": [
    "unlabeled_data[1][\"pixel_values\"].shape"
   ]
  },
  {
   "cell_type": "markdown",
   "id": "f6b97596",
   "metadata": {
    "papermill": {
     "duration": 0.248438,
     "end_time": "2023-10-12T10:17:03.944584",
     "exception": false,
     "start_time": "2023-10-12T10:17:03.696146",
     "status": "completed"
    },
    "tags": []
   },
   "source": [
    "Finally, before starting with our implementation of SimCLR, let's look\n",
    "at some example image pairs sampled with our augmentations:"
   ]
  },
  {
   "cell_type": "code",
   "execution_count": 6,
   "id": "5103283d",
   "metadata": {
    "papermill": {
     "duration": 0.934358,
     "end_time": "2023-10-12T10:17:05.077149",
     "exception": false,
     "start_time": "2023-10-12T10:17:04.142791",
     "status": "completed"
    },
    "tags": []
   },
   "outputs": [
    {
     "name": "stderr",
     "output_type": "stream",
     "text": [
      "Seed set to 42\n"
     ]
    },
    {
     "name": "stdout",
     "output_type": "stream",
     "text": [
      "torch.Size([20, 3, 256, 256])\n"
     ]
    },
    {
     "data": {
      "application/pdf": "[encoded data removed]",
      "image/svg+xml": [
       "<?xml version=\"1.0\" encoding=\"utf-8\" standalone=\"no\"?>\n",
       "<!DOCTYPE svg PUBLIC \"-//W3C//DTD SVG 1.1//EN\"\n",
       "  \"http://www.w3.org/Graphics/SVG/1.1/DTD/svg11.dtd\">\n",
       "<svg xmlns:xlink=\"http://www.w3.org/1999/xlink\" width=\"572.4pt\" height=\"141.463903pt\" viewBox=\"0 0 572.4 141.463903\" xmlns=\"http://www.w3.org/2000/svg\" version=\"1.1\">\n",
       " <metadata>\n",
       "  <rdf:RDF xmlns:dc=\"http://purl.org/dc/elements/1.1/\" xmlns:cc=\"http://creativecommons.org/ns#\" xmlns:rdf=\"http://www.w3.org/1999/02/22-rdf-syntax-ns#\">\n",
       "   <cc:Work>\n",
       "    <dc:type rdf:resource=\"http://purl.org/dc/dcmitype/StillImage\"/>\n",
       "    <dc:date>2024-02-29T12:32:05.687413</dc:date>\n",
       "    <dc:format>image/svg+xml</dc:format>\n",
       "    <dc:creator>\n",
       "     <cc:Agent>\n",
       "      <dc:title>Matplotlib v3.8.2, https://matplotlib.org/</dc:title>\n",
       "     </cc:Agent>\n",
       "    </dc:creator>\n",
       "   </cc:Work>\n",
       "  </rdf:RDF>\n",
       " </metadata>\n",
       " <defs>\n",
       "  <style type=\"text/css\">*{stroke-linejoin: round; stroke-linecap: butt}</style>\n",
       " </defs>\n",
       " <g id=\"figure_1\">\n",
       "  <g id=\"patch_1\">\n",
       "   <path d=\"M 0 141.463903 \n",
       "L 572.4 141.463903 \n",
       "L 572.4 0 \n",
       "L 0 0 \n",
       "z\n",
       "\" style=\"fill: #ffffff\"/>\n",
       "  </g>\n",
       "  <g id=\"axes_1\">\n",
       "   <g clip-path=\"url(#peab4e18bc2)\">\n",
       "    <image xlink:href=\"data:image/png;base64,\n",
       "iVBORw0KGgoAAAANSUhEUgAAAwcAAACcCAYAAAAqEddSAAEAAElEQVR4nDz92Y5uyZalh33Wrv5vvdltRJwT2VRmVrKKAEVeCCXyToKkV9BL6kYXggCBRAmgQKhIMTNZmaeNiN34dve/X621uoii3sCWGabZxFjjG1N8/voti2RBOpgAa8ECjIwUWBY0FQBkwAlygl442qhwccC0HVIGIkdEeiT1zwzVnlWMnP2NVRcIg0AVEnHckJuIbi6M+QEbJ64ktqlCWMHIhB9LRCWo44jXE4oaO9YAjPWvy9MhwwIUAhREYI4j9TgilILGM7FCYzA8g99B0KAc3CoYgLcQcAyLZlVeSV6iyppJJLTTGDGDqknBgzaIBGIBygWyJMwKrSfyVBPNgG4kAYELFXWAoDIqCEQV8IcFt6koU8AHjTWJyWh0jFh/I6oNOvcEWSF15rwEUAmlAzUG+pKpDKwwv35s4YizR1oQqSGnTHKgmghCcvUTIUMVCoo6IMcSUoIqEoVEzDO+KNAqInHM1FTzRLaWJAwqOcIiCEoipAYHtvaIyRFTYCgC5XmL3USSNiwi44gUPpBOJfUO3BnSHqSAPh/oLiXJCGYE5Qi5yHz68hNv3r9B5QY5Z7yEWArKX08blppcwhWPDoZCggwj0lqmWVG5Gd8kYiwodSJLwxx/QS0rdBFJcs8kFhrnyCkg8pqfv/2J9+9/g/eSwnjU5KAyOB+RwiHECmUTOUxEWaC1Y6HBzDOhmCBuUepKjh0pBCwOcsP/WibMHkoDZDI9LkiupxPvf/hI4owat5zrEUOLHiWidpxx3NGSR5hkjzU1LsxoobEYrkLQiExWkSUJuqjAAKKHCdxSEDuDPh/QtsM3gkUOdFmBU0DNVTpWxsKUQb2AfSAkUAnmK5gGlAARMlMd8WgULyharNdINLMBiyAAioTiCBQcKWnRSEB5gTegPcgMKEgLXGuPZqENEHKLM1AnSJfEWN9oWCP6ibRTnMYbJm6o6kDQGj+OqDrSIMnJkM4X1OYN8QqxBeuAApiBKhKy5+zhTmqwErKEyRNrQUCRkqCYIRawKEeDISLAOa6zYVUlUs5omzlNhjZlkhBYM6NMAgwTEnXJ2NWNq9jQOYGQE+jEkiTqUqGLACLgKZlLkN5TZ0PInlhG3DFRrRfUacNlJ1iHgVH2KL3GckSwwwVFoQxZLEzXiO4qCiFgTniRyCjk2aHWEzdVsjIGUEwsVD6Qg2GeM1VbgABSBpsAx5AVchEYkyGD9Ia5EtQucotgK4GIV3LaYIaeYBr8EqisQzYN9DDrG0VKJFERKksxQcwwhxtjJdmahim8UJodZhihmXE0BCokr5RjCVVL6DOYRI4KU5y56BaFQQyea3TsFKhG4qgQQOX5tQaiJ0warV9Y1D05g7lGqAXkBVkp+iXTVJ6nCfaiIBtPqWpAcAOMH7gkxWPWBBHRhSQDAo33M0ZJ6C1nJWgt6OgJwaDrgBcjXlhqZpxfsciZRtY4AZkBjSFgkUQUZxQbZi/RJmEugaUWGKOZEdRcYN4QBOgiE5MgOk8sNdVlBiGILUg5QlbME9hCEK6avDVYDIuHJKEYM0iPbgKMAeoKlyMyKjQatAOOMFhC06BzwXQbKbuSSTgsE4INYlyQVBzrhW3OLBEKJxH1DEvFkAy9HljRUKiIXDI+gy41Z+kQTrG5ONhqspbMOVOlhFMG5S8oo2CRXCO4JNnkC6lqsbplBPLoGcVAG9fENlMxcz1k1q1BWgtphFQSloSrE0JKHIG1L8HBtQFLpvQvYO5ZrpCVINlMbSLgIVTMC6RioQoSzppbmaisQJeRPmuqi0DWmRgHZNMiADlOYAYIK5AesHA5wv091yRZCRjFgj3OsFeoS0tO4LuM1AJBQKfIlAY0O9DgvcMagU4LOMFUZuLUon2gtIKjyWwVgCBmifcBOxtcDSGCtqAjGD0wTIKyKEkxYPICMpFdjVACkodqIGFYwhpSotInxlODqxVVaSgSDDiiFHR+YQwNZfWEijX4NZRXvKgJvSZXUMceQgNEci1ZkHgyEkeTf72gvVAYDJkMwDSeqesE4xrqSB9H9LSlCCNXKkwrKKRDLRmMhVkwZajkL1xtRaVa0mXBrRo6HFw9101NESaUzugAqJJRKgyBGyU7n0lBQOmQ4kJmx+wUQo4YLZGpRPSQjeOpgkfsr8drPFcMKoOYoc6w1CASsARspfj1knXAr+9EQJK8AAFZXtCxQORIbxtschTDCVd2aFORbiOhMehoMR5iPTO7RH2LLKWibMBRkaKgvADNwig90pyw/i3LkKlaBSoTQkbPktwOXIWjJGPHNaJafu1XJse5kmhAJI/SHkvJGUUVEzokWFhRNwvejpS0XM2I9A+4dCTIe4QZWc3AWZCKkSe9YyNKbp8X7P2eJJ/po8apPTJKRLvFTk8s6gcO1Uy6eurwBr288HlYqNZQzxssK1SQ1HcLcom43iL3b8A4quULWu0Y0waRCtj0zF9XjCuobyMynMjNinlsMHvNQCBdJmb2DN3MvdtSxx6nGmT7ATdarMtcmpriAOXHiiwy4vO/4De/YcxHqk2FoEDG/9R/mwJu4LDMtuJ6jmzsQGsWfGx4tpkHDGPxjVtY89buEN9upHbNVC7Y+Y/M9V9CemWsVjSqovdn4qqGf75x6VaI9sY6Tmj/BpcbvDzRqGfWxSPzvFCnknOXKGWi8TAbjRgU5SygaZFDwXQ7oTuL0xI/1myrKzJF6FcUQZL0jl72NKHFiSdMVTAOO5Z4po4F2a9xrUCYE6XziGFDWt0xrTKrMcI3w/jdmVOvWZlIKDTN7YZ+sNzOF7TIJJM4e8O7rmR+k2ieF9yuxcbEPyL5S1URxMByLngOAmsWbhfNv/9//Af+9//n/4ZWloRL4KUIFNayyiM51MymoHIg3StRNpxihVaWuQpIB+6c+eI61r0mbBIuZjqnMKVFu0wUIyaXTAfJbfOE8Jb/53/7z/wf/+t7xtWWrXNY35DHmd45liYzJMOuHhFc6JdMNm/YxyP9a0X1psTfQEhLIpLVTEwSpGHGo6OnnxSr20JuNIMY+PIq+fRP/xP/p7tHknokbq8Y0TK8VhhZUboZtfI4Rha7hZ8k4r2mrQq86xmHEq0z0Qzk1y/Mj9/TKMWhSGyXAmkMi53wcsO34n9h2xbs3JZZFNzcwp3eosJIbixBB4gzfiqZHjTVKGA+k/2W41mzecgURcZlgUuGMl/RjSbYGpknCqeZ5YWrfOB+MYhGcuGV17hGzT12SWT7yL9Yw2+WiUVBLRZmnVBxwb9qrusGlx1toViSZIo1t2yZVcl2s+J2ClSPgcNLZhkTl7FD35XcFyXyPJPkiCs+4OaWMkNhID3Bl0eo9MQuCwQn7Lgnmitqzkz3PbXfYPLCUgXmYY3RL7ipRhWOm8qE0sCSKEVAUnCIBqWPsG5J00JZFOTLgbl5S72MVCbwLAJ3LwXlW83FdDRphRSeU+65V5ElXBHrDeMvG+T7TFILw2AJ2XGUmfV6ITcCLTRm7FBO4EWHMwuBLbGtyH3HdCfo5oWmkghzRuQ74jpx9Yk29IxPMFV7ypViKScqJwimYHhRLE1k19U4XXFIilLfCIdM96ZGvij6nWJlB+QQOOgbrXkHecKFCHZGTzVKrfjaCiob6VaReX6DLicK2ZB85BATh1PNBwRDK/maPf/KBW71lvmpxhffM1nBrjTYrAnU6LCg3A9MsSeFDrUCnX9mEAW765pUSaxVyE6gFsELkiUkyqbjzVfBbB3O3lieS5rHFjVG/E2AHskmMxSSLQ3xGpAbR997fHdHCDN63iGbwLXsyMuBuFSoWfKtUlTaUcmS1+VIZ1ZMVmKmAW8a7pRikoocE0EITPAYar7JAt96tEgYJRCio5eOphfoqsFdR9xaMc0rFi2x6cyd8gz7lmHcINMVc5bkwpIamIoXKvfIeOjIdkGagl/MxMcFnJgx04SWkWIoWDaWxS6cvObOrrgcBXk18ajBHwNT0XI0lu9jIqqFST6R8wqtFlZqjXMWjjdSmhg3lp6AvY0s1pBXNdoaNlGzzgVf5cibY8aVmmHINJXDHDaspSDJFa/bgJALIR3Z+T1tdSU/b+Ax0tclfJ6p1wYKwVR4hNiw8Z5biDx3kbdqix4to6yYboLifuDplrnnHiufGMdHYpOYhEZ3J0RSVHPAua98ih9YF4YyKMbwSj2tuYwvlKXmolvKs+Zlm+m6I5/dikcdSWrgfFS/vmvLDpECw7iQC8fSVmRhmfKZtph4fXxEXAMzjjfzmrMRVCazoYCpYnhjadyRfPeeXEVKL/BPHXHv4c1IUooRiQ0DKVnKQhCmFadpxhU15aUgP7xQ/0GTPq6YNGD+idL958yFwpSO52lDV2XCdMCWntNVUFYPHExm5w1JRg6nC+19hcodzN+Y9ZqTXfMYI8YtPGmDLh37YAhak9yJrxrevW6Y9lDeTQTXMKaG6XhBPCTi88KncE8hrvxSX3g7t7S7DEj0ssF3mWHWNNIRJ098K5gk3HpPui3cl5mzuGObEqcisZWaz7NHlwv37VvkfGbwF6wtCOOWojFM5g67QK892loW+3val+8YB6jegQ+asw9M2tKnjm0pGY6RrHaIlDhPsE4leZ65rs4kaiwClGYaPrMUd+R0Iy4l3iu89AR7pfB3RKW4m0FcX1BvtryIDK5mEB51Vtg5orcD2W/5KUGnL6g5U1wVXrek7Qvr3HEdB16j463aY14hfVDo14aYM/PbARkdo7bYy4Hb7jtcKlgfInOrWCT0g6U7OvqyAS6EZYtLE1k0zEum1IYlLgQN4iZR4swpDbTzhrDqaFDkxRCc5mQTKsw0p5JceEqpiMUeGWf0vwjs3z7RU3L9lNhYgdZL5Knz/EzgLxfB83CjWs2U80Szmvg6F0RjkepKv+kITrGxC7XLjL9xjBU0Ys88Cu6OJ247jypLmvk9c5XorKIe39HcBab4I2txI9sn0rcPHJsL6/ML6e47pj/9Adlt8G5EhYqY7sltoKFg4sqSR4oHySIVkxjQuWSIK6q1B9Gz0NB0jzSXiHErjsmzsYnCOXiR9CtIraZVr+T3O/p6IsSZZfOR6m6i5R3TcqK8aMy2JDPjlaTfWEyI5OXAzhpajuS0RzpDXXimq2MoP/DBFuCPiPyAXgXE84Rp7nHTgcZExGZidBJdtJyCwO4U63JElALEW5S68fpkadcdZzqs8kQLvc9kd0ccvtJXI7/09/xgStxyI8uCopHQWQ4/dah7SOsb8dViYiK9mZgvG24HwaYJOALqOqIWxWRPLMOKui8QPwREKNHqR7hdEO89vN4oZaIXN/TjhluYUXrFrEuK8czr4QP1ImlXEyrfoFhTuZEh1GyqyNPugTJIhHP8ZRUo/R5PwL9q6qNHfLTsTIkwGrQBlYiiYFsm0A0pJ7SKmJQZMmyLjquC+G2g6yrWfsXiR1yl+G4QRAThOnFsJbatKZ9O8LZDhjuCFtjulax/QIwjkYSsKuo5E5qObHpyZan8iNYP1GkiHw2sP1BYRzHXJJ8p4xfE9AYtTkyiZqlvbOU9zCOUPcVSwUlim4FrypRjQjUfeDf1fBEFITdY3eEXz09lwY9lpp8d65vBl3AUd2zjCA8QwsD0lGk2iT6eqeuSXAkG1yCuhusedlRc5Ux3HJiUw+cD+9UD7ZjQLGyYCHaFUBlnFXPu4NKjyhV6JYnSEU+BSVnoYFgcqaxRQ6bsM60UlPcfyWEih5HZN8juRnreo+6f6MOeVa4Z/vgDtnKwLTDCI8zEv06aTytYOcP80hPuPSu35lS25PoLN7kn3RI780pQ75GuQpkRsW3p3IRUM+/rhp9nzzut+PPpG9/UG9q+IjUnmlVFfXpmNgW36xrbjbRxYhED57Fjt4FWLkTRoda/UEySb62i859xw3tEsXD8WXH/ILiZB0Ia4HjElh0xOcahI6mEkiVr+cQl7RDhxqHseJj/F+Ly9/jpymOhcHuNnVpsGBmSJAVN3RWMvaRzHkjM30ecDlhXMNTPKNdx/1SwvAdIPKNYNzN9l5GFpAx77CUSLoGTH9jPFZqeRTQsQ412X9D3HevU8qUW7P9zy/7rzCgiY9mgz46pnane1Zi4J6XIIAW7CT5fRx7vKnK+YCvFdlwRxxVGX1gXiskvhGKiFWvEtWQZIlM1IKsVaXEc24a1kYxDw5CgZo2qBd+1nygvNfqnNR9bQ5QrLBXKOvrxzIc4sKgHfPmGRT4jhjOpm4luwdaW8yipGjCseTGRREk/T6xsTYfn2G1Yzwur2xnfOsRPNaX9F3L317+KBA+GH+oa0jfC9EhLhSknJnegkG9QNXRJcDYbpDbMk8AZWF9awn7C4vlJLnxYVnC+0JodF+VJi+JhNRJOil4oKvGVyDtMeyZKhT+M2Eohn9d0dwkfEsK/sFsEYa5RxmGkQWRFbTzeGp6KR5gTKR3YPnvS2jHqt3xNr3Q6c36usKlhqBdWlSNNmmR7ToVDn9fUecftITFJgXyS7NZrTDjRTwPDzvDBfUGtCpbNI6ec0UdFWgbETmNuvyFmQSpuuGFF3hri/Z6gv3J381ynjvayZX6r8fHCdZ5ZnTPj/SMbpRF3VwaT+HI48df5kVgOCAcXDtQ0XNcD78YJbRyOLe5hQmIYDjNlN3AsHSqU1GxYFsPsFU36xA/yR/rzhbyXJCqq2jFnwTZvMfcet6yp8o1sFXcPa9Kr5NYqpFtThp6Puxd0bJhOHU1ZkPwT4p2hni1RzcxrwTLXQMHbymGKgj7coeuZUAZWXx2H2hNsxTJJ3qULYb1Cqw2dfqVNf+ZZb7gPLfYb3L15xdjILFbEsiS6zEJNXCpC8TOF0gy7n9joNZ4a9Rzo7jewXAlRM140yRlkbXhjPN4pVLhjeVzIU4FoFm7pb1HAtci0MbBuJWlQFF7AuKMsA1kteBpkGDBtSxtXxPCFWD2g376jO8xMV8H4dkDGhvX8ShCP3IqF8nlHtbtjn3s+WfiQe9Ar5hjY2t+h9mteU2R+NFj7mW6Gav43ZBcx3rCMW5Y5YLuZKUdc23GJko38hk1bdFNjreXPzrK3gnGs2Ic/ou1f81h7xgGG7sI0VWSfcR6qpoE04S9XuukOUXsOz4J0/9dcN55OCqZwJfMjzfUZeVvxtjriDyNK7MhbT3i+saoTBR2/++mfuP5+oapGDsPC6avnu3/9Fr8M/OM//wf8eaBs1iQXuPbPbNd3BK2Yzyc2D3t260dySvzuT3+grDSVbSGNGFXx13/7I9EL/vDzz5j7ir16YJ5H/vnbn/mw/QFfaM6HE7/XkXdv3xCeAz//yy88fviA/OdMHyeW8xe+279lKb9wOM1sRcHu/T1XN/L65Zl3999RJs2X82du/kC7+0iTSp6//IHHD99ja8Uy3fj604U337Xk3PLy9X9k9+49d2tDlIH/17//Bz59+kRRNZTW8L/73/6X/N1/819g5YCbr9i/3HA436HbijfrHpkzWpQFDy+C/cOEmQxGZ8RcMg8Bu/qezRfgvSCIRMiC9bVFqhfoKgyCGct8MDxKT7YbVH9jmv6MWH/HrF6wvCfMFn+eiV3A1o7CveV3leLNRqKsxj9fmT+sqfQrUv8VjVXIy0wIAee+YaYaLR9QrUbmE8M8M9o14ugo3liW8RuilhTyxtRbzJ1BGckvo6C2W0Txjar/J2L9r7h5B9vM6ngibhe03SOVor++UARPOBZEn8g28OQFpRqRumcTHhhdYhaPLAR8b7kUkbmd+Tv7Bv4xc/muIle/EAdJtbvQzyuivOfiLph2pigrxLXnYWjpR8PGnFhEiTnXjI3lzQfB4VWRtj3qEKjKhtvW0yI5zA379I639omcKnK9Y/5FIN/APAq6hyuxlpRiROxgdj3F7QHXTTTFmSruya8Lx1XNQMd9vOHeFgyTwjvBUjqak2NerZmSZ6efUbZEx5acLXUFcQpY7ShQ7H6cGU+Oa/tb8phYjZGk/4SbM7GrSOeIe1RMnWR3+cTRv6PONZ+l4u4+Y4LBjwuIiSJoFlUi7yCKExGIfUSe99hHTy00oxpoMahSEdLIcZnoCoeUHTFeEc2aU8rI2YK4I9XPzGJhnDy1/UQ0HZtwI8QKK2eWxVHEM3QP3PLPNOGvOChJ7Z8RsuRWlazciBUjsl64zg3p4zs2BERSSFHT5IboIqKMKBRigks7oE8bNnWGamGeB+atR/6zo20XPgdYLzv+xi8wTZSV5amb2EhN/W1kEi3eetpCM32nqacBf4qs7ifcYaExHclVnEaHPyvW4YFpGnjYDYz3G1pXEUiIApL2XP8wsPv4B2z1WzafJr6VPfVsaCpHk79xub+jiFvk+Afe1t/4/fgb3ustRlyQcsur9/iXmbp5xpl/xRI71Grm/tOeuT3hTju2S0Z+cCxRE1+h30cqO7DOGpMyAUWI8E0JZHmAXHD/qhHthLu8RTUZeYZp3VMP38Ak+qth9XXhfn2Pvh+5kwZ7eOW2qriNG+7KyKInXhrF/uaQa1Be0tWCIv4Cc4vSBrmfmNOGtOxY3QZ0+5G0fCX2O/wbi/ilxX+3EKWmmSumAoq7htZbivPCbYLzdGG/+wEVBlbPAWu/Q2wMyq05uoxZFvrqyC58oRzfcNWaaehYl7/w2n5HXWTMMGKuNZbMtFKIqUKqA+tFcC5q3vuer2JE+nukGnkZLC0Tm3VmdRY455jrzMuloNz2rNcFpz6xtRPrZUM1nQl3ls5aTlOJrw7ofk09nFmaDaMUlHIim4a2qBFJkk4fuQ1nqrXgbK48ZE05bVhi4lw67q+ZS//MpqghllgJfjbo4pWUVgS1INtflccU3tOojtOyQfzgkdLhkmY134hmR6cl6vYV2zacS0l0gqrco/SZkTeYHtxt4DWtEKnhXR+w1lFVBXI5gNpTzAvPX66M92DCiuqD4Qs/sJiC9yvFh4PGlwd0+VtksRCV4yQaonyH6Z8R60dkmmilxc0gVj2rg+X5akhi4U5+5bH/gdD2LKuAVJbd0VEYxTBsmRvFutK4Y0V/nYnnFY/vf8H4NRuTSPN/ZLr+NXQNi1CkyzdEU5HyzNfKcrd46jJwTQNv4x3TWWLrClaRm9yh9pr2ZYWeFcpC2EB3AKtnrsrTqRXOWKb2QjSCys+Yek8lPPh/Qdl77qJFum+MsUG6miI5dqFHOYl7vGcWEesF3ZuEkzVLeabVnkE+UExbcj7TlR1udaROkSQdKr/n9SHQjhkbB1z/wlqPFPo9afK49UwOj1TThZYLTC033bGdItp+wU4P3PQTU3qk7u5ZDTdUsPTyQt2vOXrN23dnzNjThIrlatHllZwrojGs7m587QVYycNokL7GVj0iS0JfkF4jw8cCxQ8c5Bn1kLgfJdOqZN+vGDdPhJ8NxX3Fu7UjDANTU1AkSOOFldUs8veEH36LyQ4rB8TlRlyVLOFMp2oSmuXywLRuWb/c6DdPvDaZ337pMN3AcjVUSpO7mkoc6Zc1szsh5hof1/xcSbpVwCwnmAbcfaBKBqENJmy4WknzBs76lWhX7MKE8yP3csNZjITXNWiwW5iHhUUPBHVHLhJ9/spD1oTFcguZVTdjKfl29Kx2FWdVc30z0MqFrepwrFiJkVs+o7cFLj3SOEF0EzqvGaaIdQFvVqQA63pFfQw8b+Hh0pG7zK2rCPJAoVcsuaceDGN5o14M06jooqag4K3XpFVPahzV4CmnjHv7BhUH5tce0a5pUqAQBy4f1sQbmDwzW0+xOzKwRT1n9lox9wulKCnuNV56ntOJd1WLnxW8gC0q9KPiFg10GlcKqhgQleHjxx9ZxYL15Ru/0z/z/d/8hi/HhPqD4d1f/obvPvwtV3nlT//DP/Jf/dv/mljO/Pz733M8aB4f/pqkLnx+eeXv/83fsbZ3LHLi66d/4m8/viPqFbH37D9u+O2bit+/Fvx/vnyF+x/54CNmdSH7lh/v/5ZZJ57+dKT9eM+D3fJ0fOVlHPj++/8Sp3vU/DPpreWvPvwNx/CN87czf/HxI7Y1iN9FvnyGf73/K5bO0c+/481fFLwb/47T3SuHl/+J33z43+CqAzFeef/dWz6+relfwM//gT//4c+sdveUdcPhlslfT5yCRncbCu2Y15ZN6PHjlWJVoT1Q6IHl5PG6Q3QXlFWI1YyNE7GtYLoxrRri6Rm5mTgcGtJcYLY9pbeI+owbHIiEqXdUyWCmFZ2YCc0L4r1CXd7zkx15lIpLuPK93vAplmzqDyTlsbKkVx0xnqmxhFeN/zphdm8R1ZnFXkl+g9QbNpuJbdHiNzP5qljC+1+b12gp7gaEfmLzdUXaFPTVghP3eLGwSRmvPrIJB5ROmPAAPjEnSV12PF9L1veJSzmgr4JGX2isoPp6x7iZUXViLFdsQuR4zbw1DQcVfzU6P0hkZdFfS3iUHMQdb8YbCcewFchLhylngvZM/kTVPaI2W7RXiNCTyxp/EayPA0LqXz3bRcEujvScqGuDdme2Zs04fsNlRXYrdJrZNwuH3qBDzUHNNP0eORYs9sBxaPmYNTdzRkSLPJR06yvnXlEysB0KaK+MtqQ3Hu0FRQq8LBX0I32xZ6ckN1VTqDPPfcmDCYjDK6n5Ho4Ro488DSXy/h6Ta85DoN0LnqNnf+7prw1icyGHgnYdMflX558wAhzIJAhSUjHj0x6ERdmAJDK6/tc9YoULJbq6EVVBQ0kwAZEsU5kwQ6aIgmItsMuEUIL885puFzBLxW3KpMajgkctEVkOlGHN5Q8TercmyzOitSjRIoNC2oTsNWXb4voTjSrJWXBzjs2pQnULwsM5DZTrkvpVI9qest4T24H0WiN8g60mYgjEoqK/bXnIEE3Giwm5WtD9lW1hMUtPnR8ZtwtJgQyJ7igRMvLwvuIgCtAK68AV3zDLDi1HVCdIW084GfQ0ki81YXkmrmvStqV+YxntG7prw3QJ/P6//x8oVyXJVszZg/tMKQW4jJYXhvITF/GJFCbUJBm5UlAjK4MS/x1LkBxzYp0qKjzZ/Q4oCZ88P7/8ke/e/Ij6j5pcShYyxeTQssDLxCxHCgxCBKaioZaw3K5UU0NYS7Kf+Ic4supWDNFhUonMEb/Az4ev/Pj9R3y4kIqSMk/IsWEQit9NAlvNCJuYfMX2fsW//s1Ed1vRG434UmDfn1iqEu0Clf4R9+nM9aNh2H2mdTWnpzWq1Dw0E4dUMF9ANRdsM+DOf4cbr5STRG8zCxGlAkkaTPECV4m+k4zuLcyJZlpTvHnlttyzXAXtVTCVGmMzFzmjhaVdB0IsSYvBpp5zKNnfBOatZr4ltuNELDM5VNTOMLWRWO4o5UydBPppzXY1ULz+wqi/J7sC1QYmI9nfvuFLx7LTfPu6QnZXHmzBk7NUEt5sHdfcIIaEeFix/LzQfNAIJbjeZsZNxbtDw2l3xt2NvM5v2V8cOl4ojGboFUvxM6viEcaMkRkRFm5RoduRnAMvfcf96FBvXpmSICSHoyJuOuqxIb9k/H4m2ZY6CMblyGblqeaaxg7kyxW93ZPcN6ZoqcKVvjK8/e3E6aUkfAH9m8yHvP6VDRoCw31HyZnPg+FDqxicojbfmOwb3PUHLBNN/kz45Z7PbUlRl2yqiXbu6PQKv96y3WTSU0spa0QeiGWBs5LZNiAGPDVObSne3aiea3JqUMUZ1X6PqOG1+gVxe4c61Jw+vqG59lz/5Rlxt+OP0rG5eeQsGYsBGSVt/4rzDeNYwW1geD2zfvsW6eA8/YGmLAgXT0cNvcapmUvVc/QWc3LI8EplbygaXlxPtxJwKcj1V56vH0kcsIVhuHrGX37P++/u+TqXPH7RyKVkLP+R+fVH+ocnKumQ2rOEKz/9wyurH+7pwpo+vFJvLxyeHGc5cXf/nvRlRxVGVOuZLz/x/oMghQ3Xp0C7yuQcGcdMdXdHvk+I+YH3XxRBXzDbe4T7yloERqFZ7Up6869ABYpmocDDcmEeKkJZ4uqJNgWwWwpg9IJPrue+/kqO3+PeGaYcsSZRLYppann2MzvxyqHOFG7LZqORYubyqqlFiSazyAtNXCPGL3z2G1bB0G0iahmoug4pNVYElvEzi2qopeBhdGBB6y2PF48TmbStMGtHcpJSBl6mivtUMjpJvC/5rAKPOWCeV5QCWFWcReYcwfbQ2UyxZEQjkcsGZWaCGsnW8uwk7U8bqoczRlx5HR94bApQa+zplZw6yuojHgf7wNrBOSUezg8U6YnnoeLezHSLJ2KIVaKae66TpxYtMWVOpaPsS6R0DLkj4xnaiZPJ7GNFvv6ZTfcd8lIjNpnJHFjJimKQzHJmYxpS1NzdJqoQubuL6BD4Q37mfb3DFB1df2aiIZaKeHEY/0Kr7hnsxMXP3FWKNhouYkZPmnYY8M0KyoRTFrl/wZ8fOdc3NqGhsIrdUBNuGjPPzPc1DBf4FDDVM9PlEbGynHcCkQXNRVC9U5ioUL9IzFzTykzrSmy5JV3XvKsKPiuNKD2VazG6xZTfQD+BTMgsWKt7NqplFjNPVuNZ8eIrkl4QugA2POQb2yxZDYLFgM+JKgicyJj5ihcDu1xxpUb6AiFbTo0hhIKbFHyUhnKAzXCPFgVNXeIahSoUo95y2DW8HTw57dHsmdyMygkhJqR3sLywEChj5lVtEOlIFgP8iueCzNgmYB9XbOaC9dIT4o2VvKc+GW67e8JwQRO/8U3VhN2KbpoJyyN+nrHW8+oFD7sJlondXEKluY43inBPKAPNZFk6zYBAmECj91ymhnhrecefmB87XiKszvfoxrPPEXFeE63FrALf55I0R/ytIm8XsoG7kFhG6H9bYCnwy1dMUXCeKrr4yiVsedAdP4krb5YJ8j/Tib8hesnZvWK1woYNjUjQRJrTwrZMNDwi1I1CK+g7Dk2DnnpcHMjThlqsqbc3ZCwoniJt0yBvDedKMM0l7WwYi4nVlFlCRuUL4brhscnk24WUF/S85x8//Z4P/Ts2HwPzl5rjO4UcPxPcG8JLCxrgSKq/cJpbVulGakvCOVHHyEUbZi0ZLxc++BIqiRBnjmLLFBNifkbpgqg2tI+CMF4JL4qNG1lyzWFTUYmF0EBHS3MdWNYl4WbI6zNJJLLQ/N//2/8bf/H3/w7pBClJsnWUTU/kRl4sSgvC1WCrkddJY7awjIH/+V/+R/7tf/aReXhDqf8jVb+F9QkXR9ShZvIKqxb0sidExcVk/v1/+H/jNh3/l3/3b9kCc+14HQxvYyTGipMuaaeFHE8EmTDFI2IRnN6efvV891vstWapJWUPRLjd31gvW25uxqierAVGe5phIBZ7cqloBk1fXpiiR64FOqzIUaO8oaNElA3cHaC6Z0qOPRpHxKjA2gVUlei9p5A1YxWoZuB4x23rENUVPZQspaNL98Q2odyFWYIWE3NtiKqgCoa4ZGBBVBJjFjgFsoVQbnAEWhtw9htfTUml/kyRt/TyM236S7KMBHmizjPj+geqpUeLJ6It8H2JnDJCb2CXscWN486ymg1JR270NGywokU3I/LtGfUPNQ+Pv6FeN4hlJJaSPCnKb45c/RXj2jCUAnMJ9JXhoY80xcQoC5qiZ15q/pXxuGFAhD2NvRCT5Szh6/nCb3779+SvC/NdQbEc0dERakuVBLHfY9YTg7I0xvOaSvJ0oZxPOLfn/j6zXG6U4i0nekQ9YGXF5Zb5dnjh+4e/QZsrwktiu1D3dxznK1VpMENC7h2jjJR2QRXviOtXTi97yrcLNSUnCmSl8ctCGRP3ySH8A1Q98v7A4O6Yh5rqlxG5C4SqYCFgV5qiXyHLP+Ore47qC6tYs44ac77jpZgorzO5gLKQjMWFuGgaU7BfLQQMzdcZ914x5T+jp3v6bsa0NcWsOZx7PjQeu/+OkC3Z7qm7C/0tcTCw30qMlMScePs8MeXE4c3MxMS2u8PoV86ppVVbojrjOsNcZXbHguLDC7zskCLR3mVsDkz+jiiP+OKJZfme7XuHyJqriDw/Zh77n3Buz+W15Tu5p8+RqblSCMdYrOis5Xq+Q1UWlTV5lDgMWSjW3JhazYdFMTwYerFGHDT7OpG7HwknyTILtlVFrC64b9+R5IVjWfFbWaO7NXWcmP7qgX45U3KinD4g39V498TARGNX6DtJf3PkLpHKMzpa8jITqg3NUWPNxK6/J6qJpfS0xnPFcbu+Jd83vM894dqxSQtif+PLlxXhskK9VRhRkekxOoJ/RawtzeGOKAyqA9l6yusOmggCUrknjImcYXR/yXb0UA/sjx1pVPz0H574+98WiFWg2LScnxNt67FFZH6K+IcbepqR2vIP//x7/t1mx9IprHpHttD5jKBEiyPGKAp5zzd14um5p3pVqL9ac15gt9aMPlM4TY5vyMNI22xJ54HeCT5/e+bu7fcsU+DTybBvA3mpiHcHCC1BTr/SlUvFf//f/V/5t/wfmPXCuD5yeF5g+T2//L7F/M1bCJ5rM6Fuiddjj1pH2lhw2SXWnUePDanJHKi40PNmqnh+d2KdPS9fAtumQOQtqbAY/YyjYXYW0TvU6oR0W8zdgCHQH3c8qEiYAoM/I18byu8K+LSl/l5i+yuprOm4UReBOhy5hY7Ddsv94Fhc5Jo1daspmgn9J42/r0jnhicx8l38yF8VEg/E8CtX5FZvuJoN0SS2VNgMX+rE2yAY54KyfSWEFb28UtIyLDUmHCltoFzdcz1Kbs2Khxv80FwZTM0/ioUPXrGeZuTNU3Ur5rUh24DF8tUtxEvm3kbC+j3p7KiFQbzxxNWvYmBzmQitJswlsbOc9YHd8pnoV3SnTNxssHILIeB9x+bxgjvsCUWNux6pxkgooT6/Evxb2F2olmcKueaPAZp6IAnFeyE4pIU4dphNyRIX0jZBSDQHwXTfk6p3dNMrCUEsPZxq+seGUR/RnxXlD28Rg6eXkm/ynr0X7NzEJf2ZIO4Y9UJzdohmy89lwfvrlfU5MlSRcVvTZkeVIypYTLjDNp5mGej1hThtCK9rhpXkLp8IxjErS7mBTdsh9IEwrVDhhmJhSQv1XEA6onWmNJGdWpDG45OgeZg5nReidDjzTOnekMeM8BY93DPUR5RWSHOFQXPuZ8gao0r2zcyXusCqCVcq5qZhFh65u4EtsH0L5YJqThyOzxhtkcLwTix8KiKL83QhEPuGF6fJGYZqYlhdKP7gmAAtj6QbbFaOd66HImHHAoOnant+eRqRqSIZgdA/YuWEV5qHQXDTDyAKFv4TS5sFgpGzePkVYr60yOUBV0MyN4wHXxfIWe2pFk04vDJ/+gWTfiaHC+pFY78GhusrxyVzuj1z+bIgD/fY6xdmf2EIkTwmTmdBeoH0hz9iLi+kYuZWFnz+WjA9K4KfGb/0yNsXfmk+M86BP84ed73w+mXim5sYXhN8iUxfM6OA+ehxl4npzx3Dzwf0deE0HQDPcAkUp5HxYElsOMeZ8foz1VQTRs1tzAy2x3zp0YfAkgeuTz9zmir++PsXzkIQ+gM36ajNxF0rwSYOMfI6jUy14lvw/GxnVJ7p3v0DUi/oDNL9hJYL3WNkpc9YBgZtmdJbykoQlaNuS4pjxfx9xVBfEXFHpTrk3qCVJ25XZNEiXyzmVvEwGbZhZLSf2bSwKgx3TYkwP3FJHr00tL5gkzoehgfKFNjfMlWw6Nxid5n44QHXBb4zHXYuqIoLqf9Ku90yyJaliaQY6fsV12WDmxLRF7hyQcdMEa6IeaEcNhTDCuUKSrdBLiuSjcQB8nlCDgNyfCQYiNOKeSWJaU+kJqIQuSUsa25iIsmRSZxZLq+cFrB9z9UFbOwRJpNVhd7C3eJQJIKeKU2DOg9ci5rlVlIGR8OK+l5QSoerHVoqdkODvr5QWcPPxT2Lb4COX9KW5B1XV7C8nQna4pc1jVhRWkEoJ3xbEm9b8nIlby3X6pmKAeaJq/xCkJDklena0LPlRomdBDJGtsUfyMYjxD1ycrz55zcwDSxhIJqCUT0jU0UUDhHPyPMZp2d0GIjtkWkeiXXkmDvq6cj++Yrpa9S3v2Iz9JTuAXMxmOcPuAVElHRjQxN3VP3In6zF+zdo1K8wVXFi0w2/shRfPUue6VlhDx7h78FeCdIzqR4zrdFWsa8ENo4kk5H5RK6PqN/AYHoq21O4yLpLPDhPUWVQZ8rKc0Cii0gOJ4IRZGkRbAl+RXEUtHPAuCvF7jMrkejL9J/gMEmqa2TzTDQTUSjOuSLdEqsSFtnA9sA1teTyLb79hbgSDNOe5BOhFljpaKoTfTngm5npHFi6iXarsanFNy0h3WjTFcIDeim4TR9ZjwlZ1chgMfkTIgaaULL85RarjoiNYW6PdOYbrZCcx4LjX5eEO0GzNNQ0JNNzrgLLes0Ky258x/o1M4uJuBWEOvBqI8pscDLTVo54KlDjKzJLhAmUImD9xLp4T1cXzNcG38Nkf+Jh/YC4AcvA5XOme/FMGGyhIQme1Q1ZDQx/7PHVlqJpeHd13N0UccjEZQt5za2A20HD8Ya9Fchuph/WvBSRqU4sV0d9mHEOptcV277hbXFFHzsYBMYtvBUFyI6kah6axFUrrF2odcv5ywOdahBLxc5YGA9c1ZWQ18gmwWZBdh0FHV9jZvOHRDvtSJVB+oTJC7m4stTg+oFl0bj9K7qZ2fUSjltMWriECZN7bmMN3Y/4auI8zrRyQxH/gqnOjHeZ+n7B0XAKb3ixDxTljj5tGBrPMhwYTc/UBMZgsaGkWxbadclFSW6HA9VhIKwuMP7M1n7hYWcp3BWpRm6p4lBlxuY9gT3VeiDbANOVg5sJeiAjUX6DU5bhJJHFI22SiKrgsFi8eyJ2M+PbwPSuIJZbrsqj9xNz/Rk3KbStUOcau1OouEF3mvRg2K46tm1A68CSFC7NzBO8TIbZ97zVkUomdOmxooStx3qNmW5Y6wlLRVo7rtFjbM9eAkQqKXhTCR7rJ4zsOZuPzNM91WUNfEC4DT2v5NJjmhNiv1AuK5Sq0epHZHbIOJFDj+kbcurxoaM5Ffh9xDaSJBQvInF++kb2iR+iZsgK88eRzwdJKT6jdGBSAVldkMXCbUyYeKPaNsyhJViFcJo4bdnkhT81N57UAIXjogfadKXYVyAvWNGzHntqOqb8wHUpEVtD6RO0mmH3jWb9QpgDImue/wqsFBT9lTJohodIKI9EcUNEw2H7W8r6TOMSHV8pXIVJE+v5K0clWWlN6XZM0mBsicwWJs3EhuufI7XPNKXnXXvhtX0l9ZLSjfywgdp+I28l825kkxfWi2c+CUa1IO2RcR8xrgMXMLVGe8G4m3jpL8QhcCsTYrhQxonmEHj8qaKa/4JOl7DNzLOgON/wKzCqJ+Z7VPSMNqLVlm59oGzumOwjdD0+14jpA1mU/PjmlbfOs03gni362qKVR8YCt6xQNwtTz7lUyGCQX08Mo2XMltwpTtuKmUQ5Z9bunsfDmUpeWI0Dm/SVlQ2I1ZXN/Xt6m8n7AZ8C2xf47SJwukZ1P9Fsz6z+bFCjYTjPBDtx/XQhPktEseUhaba3is48IdbP6LtENTSs9y2rlWEMBb5co9sKE96StSHsR5ZG8Owywkpe5havG6S+YPxIWSs2XURlx9orQtHxQiLWsMgD6df/5Aipsfff2KxaeB1ReaQNBXFOEGfkPJK9wJIxPlP4CSEFcxCkuUHoN5AUyr+ixAkzHfDWYKKGfCAq4NRwLgO3aMko6mdoPPhaksWRcZHkbxuWBYLI5PUd4s4ShWISFbMP6AhSXX9N5huPhJxRSRDFrxlKySf2375nk1u+vC3hMfLoB+IUac6OOoDO/ZE/X2+4JaAumnj+gi4UTD2lqAhnj00Vy7Jg6g3aR3wrib//wrFqKJSlvwjCNvLkzrhjJpZfuM2BYD03XdM7UF6jXIT+yD8+nXi73fLnoiU5QWLkOliE8MQcEJ0lGUNKmXo+kc2Fm7iiVMD0F5QxBFugco/xAccZ7wNFMYOT6MHzbBJLOaNSyXT0WD2RvvxC6R44374STzNlo7hqx9v3UHVrmqqnUmsqD1c06IlGCVLxPYVxyGPJoPaI4koxb5nGider5aOfOBpNP8+kMJMV9PLCOk0oZ1E3h12NUFuMqPhy7VmPDW0HbXHhePoBUb5Siz16nKjTQFxdEbEgfTXEx4CWV8a4xijJErZUEi7ngWL1ylNs+D4vhLYBP1AXAt9XhFmQO8nqfMbbGs2K2liSFrgJbDHTjw2yjeA09tUiN4GMZgmKuP+JkD5QuQtibphzIi0SMtThgnQty3phSS0lWwhHSB5Ve4QriTpSJEtCIISERjBzpOpnNuUdKV0x84ynYjGZvPxAnia67Y0mBdYikfuO0C1MvqLSC4aSlD9xqypatUEuih/jhdxZVH9mGzquLbTqhpkKZAqctCGGC0KDDwVKBfz2nxjcHXpQtFXNUK6QYqI9/kAvzyhlkbvIRp7JvaAwe9II3+402/OFsvP0pWN+iHySgo9xAjmx0m+IaQFTMcoRnSbKJZLUBnMsqaeO8DARVWRZSo4Pa8STpKsDT13L/vMVXd0ozSM+Qg6vvFaP3KUJ26x5d4ykS4PZOrpKscgdSTxxvt+x/tLRzpG8KOb1jvVywJkK4Q05zRyKTCoFhA4vj5TC4cOem7lQSaibEy/9Wx47T3+5ARJix4jnTjrKrLgEeKMafL1hshljItorptIRPwmicKTwBhcTTdcx4SmDRb9kQldRmho9nBCmpC/P+CjYmEyOLSIofOOwl+9YrY9c6oC0BeVJ4KaS12lBt5kqD4hiw+Q0VfFE3DTIbxdM+RuEPlEVn/ja/i13a8vS1lTZQQKh13ASiDSjUoGvE7fphbB8TwonVvOFu8ear/lMgaBQNca/8DxuWFczo19Tz1dOtxJkRdAz5hZYbSRb0XDQI282GyI/o3d3LLbEe0l3gs/Vwrt0Y+AtnfoZX1xYF++xcwdHwWtb0FjDRi5Mzx6xakjFATl9oZrecLAj7Q+aWwxMFh6OhlhYbPmNVVnxc/9MMdTcVw2i/I6izoyXBV2f2UdIscOpiovP+OnKpmn4qlc0I9R3EXN1RAaS1yS9oeoOqIPGz2du2556eEC+gz/3gscaZJnJ84azbxBlTxkOjPFn/Pnf8B/fjbyZDMP7QJMc3ta/2j9vI66B+/jEvDLE+pFikmTxStIe1keoM/mwZhIKeTeSc8drNLzNVyZX0GfD2kQGf+HUF1y0Y3PraOpMvpvYhomq2HJQKx7HMzMddz4z2SNljDDB2EUeVmvC4ChDYi7X2J3gp0vmJjvubgv3bxUxrlnmG8/xAM2WQ1uj+yNvC814KWlaxzBAQ0KuMrq+0tiCYXrmsdvyrZjYLQVWRZbpSlFYEoYmKc5yBXog2o6oP3FObzGVQ+iAioZFXeFcUpYaPUS+reCxE+zw5AJuw45wOpAeEz7cKLKGkFDVlknOtF1idGuyP9CLR6y8wBxxwwuLaVjZNbEIrKXA1IGx6qmvG8YyU58eyHOBTi3FAVIpEUGTw4Yc/8iyKER3RImBeG0oY8/lQfPjtWfcGi7pxFw2vH+8Q6gF8ZTZtWdetvB2XYAvma4CWQvSDa6vAiUGRGMZ0sA1OqSHRVT488Ccj9QXzfIO8othM2fkEhn7V4xeczgF7mNkPAS+7gJ7GTh9ewFjGURikxWhXpHzSLwMVGvP5FfkVc14fMWoNU4dWW4LWgS25pHh9oYonjlvCpQc+OYK7oo7PvUTybzSJoufLechor/+HtN8JMyRm6m4/XJCrCXXn59oTMkfTwv2cUY2Hxl/KTD8hBYlJv4Lrvi3NLJnXBxr/5a7sDC0PQwLtmxJxcDuJpltpFEFRk+k8gm+/T0uQ/VecClHYpwpDopcQdGumPQTqW0Q7ka172iA0VyYTh0pJS6qpTES3I11mXDLV4qvEfF+hZ6feOVCJX6gsJ5wSUzCkU1Jnr5j/SD47CP6MbC/RXS14A8aZR31NGFUhQsDc9OyukTmtmc4rTH3Cj9klIRqnfD+nlC8MFZQWkenC8b5v2I2A9W7GRte4U8N8Tea6vuMEIqqLzgtI7kqaMOGD5eSsZqpi4rn4caaAT/U1CfLy/cauyxAQrDCfL6xK1ccjxNqGPBtg6fjaq7EKJnPM+QVs2i42gutGujThdz9iOpryAFrFqLYc20TQyOJWjE6CbLC55YlaHTRglQIUZOiZumvCHsl8Qu6+sjiIsE2jHbLoic6Ligz8GqgzB6zFjycJFO0/POQmd9ptGgQ4hsyVPhWUHUX1J8mYpC03zzfi8CfdUKqIxUX8k2TfWB7u1CmEZklcSUQAoSI+FNJVg4/CJq1pPfP2Jyp63tCecYLhbZB85tyTahBbztMdePnseTxLzoEBYufKK5Hirhn2j+j1Tt8rtDLA/U5cNxo1h8HTuKOvPS8NRUmntHnjqILCFcyy4k+CayKvIoD4ueR1e57pI4YFC4fqB7eE1xBKBL6VXIQF/Z3mmm0VLrkIRfMcYBhg3pIiDgj3RrPSCULfCsZyiutEuSpxOhPhPJ7rnTs41diAIzADI/MBsz+/Gt8YFVg5YpTrVmbhsVqilJSTp7z9IZc/Z45CfZThdkJnFF0U83xWFE8HngX1rjXr6y7DRepmV1iXmbWuxVjzlyE4C71TH1HqTXLFGjjissD7F8GqB7oJMS5Y3ELpvG8mADnmjvh2b9RKBc4qZq72WG6ll0MpKJAjz02K9qQ+HxU7KueWwFewJ3MDLxn8ZJdLVlZmJwl+YVwG6AQBN/TFI8Ym1ishnJCTBUiXylVQcxvUO7GJT+w2UTURTErizQeea3QqwITHTHdCKFBDw5dV7/Ow1g8qs744YTSHhlmgkjc929R9ZnX54Xto2LymjF7aglmUoyFQoiSZVjQpSSL94xB0sw3YpsxamIsW4Rf4dXATZXsdEuIE8dqzW5w2OOKvP0DL6Zlm9+y0SP9zbJZLWxyj+sdPr1DNytul4CZCq7NQDWCqT7RXd8w339Fhgxxi5UvjMlRtEcexxusH7lMmjYrvJ75Tg/McYcsCpAFYzSU15F1HVDiDUP2CL6QSs2heKUzLfciMcaCzkjSQ2LxE81xQ5sUF/XA2lRQvZBOD5SxICbFQoVXF9KjIMUWOQdE9sx2g5Ev+O2WpulRy1tCIZmmkspf+UNleKN6HuvIzyky1pHGR26jx3hL3RWkfuZY/8AuZKSHmYI70RHkSJg0CYlZdfQikPszcfoTq/I7rD9zKkqKdGDymVnfU4uESYpwemKQFm0K+s1EVmsubuK+V0zKMERFO5agjwyypSleqZeFSd/TjHesjee8KKSYiCaizVtmCVWaUM2FfOnwk0GHiNdHSl3jj4J8957dDVC/AnJazSzdCiMzve2J5USad6zGO6xumKRnY0Cv1qgQ2HBHWBxXITH1jh9Mzaf+Cw/FGltn3hU3Li6TtaTeJExRML5kui6RrOcStqyWF4x5ZMIz32V2USJeHkhl4FN65KO951tc2LYdoks0+YF5Doz3PfYhsZESYknRr5GPYG8gdEuuf6Yd3jPPJdW2phLwcryiKkOhF3T/PxPqv8KLFbF3lLuaNEQW7/Ep0959ZR5/QBhHM3/C3ZU0aYOdK6KekU5SdoFbhLoTpHrEyTX95pWmf0/QJRFIB4PcvZJchKywRYsdf0N48PzN1yvhbk3yN74WBfeMhL3Dj4YsC0TxghHfUbsXXF5h6nuarwm17VG+xYU/04lH7vIz8tqSS0GMK3I10eXPiKjphGUxJWtdkpsb7qGmj4mNXlH0cGlGEonlWpDuR9pkmYSiTiX7ywz3kqZJLP7xV3UvR/aN5H14Inx4h0oLl6DoTgW7uwcOpyt2PfEwC57NBx73jm/miZ1oGYaWYmsQ6Yr/rFBbiaok791vcOOfIJRsuGcQJwo0oytItzW6DZiix9gNIvd415JdQhx7fI7kQ8C93bBBU/kn5OUDQvwelyLxXYfWM+a2o7cFRkiyikSnEXPFvD2jTEM5RkL7iWAzRegIU8uiYLIZHSTGzNisMb3FS4eyN9xqRUqWmGHpEillfFgj8oUgI1MzsB4rIjvG1hKur2z8zFm9QY2JfP7Gw3clw1UhtjfyY4XRE0N7z2MfSN4yFlfm60I4n1GV5udrw3050bUCMQfEXOB2PTG98OUPPe/efkcdC1zV8Nok1v6FtlIszxN3rBHrTHw5cO89xhguP/8BvSoJzVtckPjriFUe8+QRJ8OLHHlMFo3kyT1R6I4vX8+YZHm/g+yuTNtMf7YY8cKUMsezo/AtT6Wl1In1Evnp//s7Pp8+8a//C4OMA5NY0Rwsc93z+fyNrtzwuH/gcvYUt/9IcA3H3008FhPF93smf2G9WkMukOcboyugK2jGQNCGnCz9M3zYeXIbUdctc11xvVvYqoRPExxmyh3k+x3TEJj7mV2u0QrmMXPurlRtotrWCLHgzzc+bvbExXFsFm6L56ofKDcTzc2j8ltWxQbqAanWHBewcqC67Wm7QBrgziy0p4JYGrTriY3kXi9o2RFvmund7xjdI2WfmKxibSNWjGxWJXlo+Dy27EzkWBsql1lewdgTSQXS2PFcZxoeWW0cqED2DXEOHOUnxOF78sMVqST9KpNOmnHueZtrXsqCooJp9ZmOCtoaSEzLRPrOc3rKuM4zbhoaQJIoY4UcbqSyJqvIbDaUOlDVktv5HncqkPmITBGlDfSaFVdWIRCFIZcDMkTOo+PjzvLzdCIJGCpDLTJ6vXB1mZdCs1leqdQNc6swwpJiJriFMAfehT3/XHzly7xgtgX7fKJsX1H+K0FsWJaZq16RtCOmFlMpKiN5/ajgU4URCy2SYN8hwxfC/AhvB3y1wqqEGBO6gJwVqk0UwjBvP1O4N9TxDd+KP7NZOdS4wskD2nQ7qpNCJAWPM6g3fMw3hpCpB092FboqeW3ho9txuHaUBMp6x62b2QnBzVe8rw0hCHRRYq5vyK3AVANOnlmVb/DDSFEV1M+CWH5FXDTVvWURCXH7DZ9N5K4WFOoFvdqwve0pteBbmyiPGTWcqDZbeD+QxBazlPgsKWJA3l8YrxvqaYvXIKMn299SqJpWOIRek8LCutwxrw+IaUVb3nGNMzaW9HFgHwdm84AnMzuPqCtqP6P691TTlXm3wh5Lyn1AyszD+0w4b3F3X4nhjrItERdIzx3q+4hrJJnMLknkc0EsNYdhoTKGdv3K+ucdYRcYbCY8nKifJWabOJsCVMFWWFz8BEtJvjR82I28UMJXKB80V5lxDxH5lDC+4/mx5D5fcN6y6Q6MoUHrATufKcodHGbGBmydiJ8bWDLMj6St40rCTbD3BWOTyMKgxxKlHNHXVO4bYy5YdMDkxCIkhaqY4kCZLdkK3CkQNgJRLOSxpNRA0FhfkMYasQ3YOXOpBIXJlNVEnhRIWOtIf3NMqxpzO3LrO4x+xZqCSSXqc4WQ6tf88PMRrfb01tP4DU34iYkVmAI1LbBbUMlz9juavGOZbqSVZFVp/NmiRoPoLFIrumgpLpk/dj1v5Aq1Shz6G90uY+X3jDawGTPh/AZde87tO4owInxE3gynxxO7sSW4HdMo0MJgupFGZ3gYkVeJKySxhMRMmhyzqpiEpp4dGzPQf4LmbcKoNb7zuGoG2YE+Er5a6urGbDWDVayGiVdtaK41ND2zmlCt5fQseW8eIAeU9WQ/8UVXrE5r5rsdP7qZQjxwkhlfKvSguIgGkTU0A03KfO0c63RBd3tEyASRucobolyzXp2Yp2+Y2bDSNUtxT5v+hVgMZCUo+oCkosmWzVlw22qEueHrFc1yxJYVJ+64e75QbteIVaR+leTijrT6QpG2eB1wn2+k3QPu1lOtV3if2ZUXrjFTZI8prpRCkeJMo2smlZi5RxuNK94xEhlaycZbdquBfF04XRx7VXKgoDEzh8+aHz6sCMcav/k9lSjY+HtCLvlDOVFJT3OsWaoFUVrSHAgpUk4VNxsobtDmFXUH5uxx2xNxeE/cLVRK4QfF6umF5X6PXkZSUTNGwdonbmlmZS2rW8kcJWttsAjMa2BYFai+INQ/UeZ79ArON8W8fqCaZgR3tPPMFFcMqmXlFSYsXBZBbjYYXyM0KLZM4hcG1xPHDfb5Sggb4rrg/pZReUWyE+IYaSpJFfboKTPzitGS5CGOM9v6d6T139G//Ib74sbkBuIkeSSh5hNj06BUxXfplb7ccXOBfNwyzw7TRYQqmcWNRyWR/cIxCMovNeX7ATetue4U1bJmZT7j8wP+e0WcM3Mb2bUb9FWS+g3zh0gpLYgb5TeFkfew1zxZgW8Sd1mQx0ATZopjCY3C8czdVGCKlnY90H+tyGWL2A0MKLpSEmPLU3R0oUT6AXNzGLugBklRnYgiUh13jB+OtOM9xoBzD8ztC4/XgXmoWH0wRB9oVkeCk5zHFbw9YHSJuERe1h61rFHqM1GOJNlRuhtZBILdki49x9rQ3AZEs6KSlhwkQ27Za0P6mxHbPyPrHZF70mZmmWpcqFDzgiKRZsddzOSwIJDo2eI2CzGDcRbKt/hwJE0KZT7BRmD9SJwWKCMMe8QgmEVE7hbKGLguGb3zjF7RFTW33LPWkkGBMhVbJ1DRMlWRSs14UzEvPdXdhdIYzHxPfztAu2c3t7wET2dXfGcEsVbYY8BYTZCBXNSMfcFvysBkBM55ytBwlCP1rSZwx0t8ZXpfUssWJwQfCseLM5TaIHWJEI5ctwwPNU16hbjmQsPWC8StoGlhXjx+1hTtmqER3AmFeVKY+57xcqGo1hA0InhsKYirDXG+8bE0eF8ym4JdWsitoIuC49dX5jdvUdXE+HLFJYEpLFXM+CqSmgr5+YAutgQW/HkPNUQpkNcDg604d3/DnoWsMmqSlHcJ/Qxaw9g1TLnG3xLqNy/ETyumMTPEI8c/JCp54usaRpEo8YyvkrVWODvRHx2HdmZcEpwNpp4Zp56aFZQ11i/o/ROvsac5VoyVJKCofaauF3TuEdqyTB6pvuGLDpevFPnMbdG49I2JDW1scebAfNFsas1ZZVahpreZkzrz3Xjll1yxfFXoaJnONzZlgwh/RoSal3FCXw3999+Y1YjuFYurOY+fqc6W7seS1dsWuWwZ55nkNNV6S3z/lXa1h35h0s9s64axFIzlzO5pIO8eGfIj2iXaQfPiYWMC5XPJ3fQLF6VZFfL/XzNd3jOIDY25ME8ec1zYrFc8kdAu065vTLeMyoJEjSiPcLqibUVVJGq/RtvMelWg8aRngwmaIiWWG6hF0DlDddux5IW81FBeUV2iGUHagLSZEA64m+dja3m3SJLIRPXAUuypnzJOSTZDRi2C8ZhwZkZOGcLMrRoRQiFjjUyZ0NQE4fDqN0S5kGKBToqUgJyhCLC/UBzuKFeSqc2Ut+/wx8SxvlH5Aq00jKHEfzvRNy276CmA9DlRfbwwhg3Ft0hZCXIuCDpTVJFFz6xOmanRFMWNa1zTxZHJ/5oqwBmkXhMKiZhvTEmyF1fmWlPkibIYIQdkPJDbj+wvnlR6fCgQVrJaT+Q58GGUzN0v5GYP2jL3NzrbMwtNaVcwW/AVZeW49R2r+sryukbLQLw5alMQwxfk/q/wc4TJgpYsqqedYOx7pIZxULS9hjkwvq/RN0mXDflOk/yNRR257UvGkOhzAa8ZmQJr/z1jquCYaIse8W5hCYYwCioGmqXA7Xcc+le26gEVjlSpxL2rqGMgDVfGtkI+QDXsMP4bF2uQ55rysYHgyVIwVwp7SRy05y68sjn/yi2IYLnWJY9zpvdrJhMpbm/ZiglRzWT/SFAT88NMym8x4ZW8T8jSI5YR+gJbF8Q446sJOQpE9b9OO7YUZsSPDZWWMBq0TDgqKiNBaLyamYms6y1j2BPkN3QWJDTyrFGNJtuBpN+A6tG95ZoF1WYh5w6Gntk56mrPlM8UvgYWjKgYqRGDRL7x3JaRNBas24bSe1TsmLkRdUvTB4KuuKxaQOImQZ4bjPiFa3ikCleytRxkwbo9E/PCkm5MQVE2Ld8XHlv8RBAt++aR2Xr64NjMgSVkkgHdVazNiLMOkVcYLWniW8biC24p2G1L5l5izjcKVzJvD6De4W89wh1xk0fmhgfVY5gZiwvfwkfufjjzRwElLeuhR6Zfp17bVHPdCaS/EBys5BOL/I56iEh5Y1gMlQo8AXfdzNAH3LHkIeyhlLRqINfPpM8Ft7ZENzeaeYsQM3Pzq4LJzy36/Q1lHdWiiGqNv0pMceO91UR9ZZE1XhTUusT/riL85QVjLzj9yDTVzHJA6RLfW3z6I+H+iSDOrPmem3hmre4ZnaNwE94YFntgHhsKKymsJy8ViBZpnxnbRza2QrVnaAXFp5q53YJamI3lNpS8LUqC0szXTJIKVRuCPLE5WC70mHqDEQJyxbTb0NQHYuXxzhOOCz96i7sY7MdPaD4geo+ZFMFb8r2i628Mq5ZdMtAvzENHbAXttgADLmvGlwE338P+hTYarA7Mg/21QepupMeGudghbgPSR5qg+LSy7LYDIQyEsqHTDc4ZTv5I2UI5zUzFinr5W8w408vMkmdMWeDdwr5vOKoe5c9E9ZbiDr7MV4RQ7GLLmE+UsWKwT8xTh04a/6OlvGQoBWNUxCKzjJqiTtySZ0k7yt6T6hNzNuwuCvqC6xuFuPxnVOaZ9U7A1WFbS9hXHHMku1e6+JXj846395bagEiS5e3ChogvNSqNxLHDiwu22rBPIxQ9UwFjuyXMA6cm0F7W5NhxUjNZW9Jw5NTskf7AtYysR8fdcmFZrUH2vMiJx28bzF6x9hfKQ8G5BZcWNnUP5QtF/wFtInQNYnEUm4kleNziEWXEPEViW1Crr4y15lJuaXIkX79wDXBfaY6LItRQ6xZLhh5MNzHKHbdeU64Vbt5g/Ah5ZCoqbKvp54AeZm5NhZ0EqSpQPiOqSJEXRqUpVCI1GdFFlrFipx7oUyaVZ4rqwn7/DW/fI0aBywLrEutKMlmLzBuaqeTkDyx3hvw0MHUrbCj4/7H0X8uWbFt2JdamdL3kFqGOunlvJgpI0orkA7+BH8GP5QuMwsCyMhYIIPOKIyNiq6VcT8mH4C+42ZzuPkbrrS9yZt06VHBcziu2uuAaw/a24zaNuBAJ2aCmT+gy4tKAYYTGUok3kiroxR3DJsLaI3XGeYFWBZM+s44OGTXZFixmZpkqKuERbkLpj2zVmVlsUfUEyyPbcIP2QpQ7JrZMaeaYZ/J2R3IeFySOgmQ105DJncOh0PF3SvcJ8/BGmiBERTM6DrNjWgTXXeJDK0kXyWclWHc7SvHGxh3JumXKM8EtqGmH/YtBeYnIlk3X4+TAzjWIoIh3DiVazK4jzQvlMuG0Yg4KcRLQBkZ14awNqh9RqYUp8boxpN0DuocUC4gK34+oZc/1TnLcrrgccHLDIhLlAkVSSLFBi4DL36OEo71EnLhjLyV9/sLUFoRPb9jTe05kPvVfSEXJST0ybxWl+8J/+X/+G+39lper5fmPn/nXf/mO6dlxevnC8T92vPz+RMyQ1Ia//pf/N0YLSrHj5y+f+dOnD8x55ct15oefDqynlf514PG7DdNtZf94jz/WvP61p97seDjs+C//5X9hv3tPiCuvX2/8y1/+I8s5cRv/G4//9E+cvvyDVe/48f6eL7//g+Pde9qPiumvzzw//Ilq6vnH73/n40//SvzrF/4q3vjX//R/4svb33n7DD+UP/K3/9d/Z/+nR+4qyf/4z/93/m//+T9D1/I//+//lZ/+r/8XtPGU6RV3t2e9SRq7Z4qJmpH91FLaX1iX/8AaM8v3I3sBBZG6MNCupGfP67xSiMAS38H6G4IzlZcIFDJkajPSD4laWVpdcZmf6f23clc5llgtiLHg9lKy3mWCnYky4uOV6bcCPYpvdkXfsCkXYhTo58DcGVZXUS+Je61YRCZbQ2IhLFvWq0TPNdMqaVuLNJLcXvF2QP1WksWKmS3iO40YT/hYUYotYvMF/0vmZiV/iQVOfAsTLKXnLQukTwhZMpuFZzOAymSbyQqUFJROsJK57c4c1gcKc2MtK1wn2LCjWAYkeNiPFI8NjXT45wLVHCnfe8RyoMLhPn4gCUFuFlT9Rhy+fQDNnYYUuTxt6CfHi7QcZUHwirp/YTWJZWmxTvBdqcnqyOsyk4eFpVqIK0RlqYKkLFZ2PtKUD1DUrE1mkIKrkoxhyyxaRjtQlorVJFQqiPOV0zoS146gNVUdcWKL7Bx6O4BJ5O2VoXhEXSeQPZciUqEQWbBUkWJTkE1Nj2VMmfl4ovua4HJF7wesLjHrhsPcUsSBrRu5T5myhnYLF/FCUS7kM4yXmaaIdM3CXSNYygPnVnDLhm3lEGZFNxtCNBh1YsgDfVeRk2FYNWs846+GeNPkFphr5kJyKgZcuhD5g838D3Q6cuHGUrwiHiriQ0/Z/UE8r7w3nqZX+LXl5L7CZmKaNCoK7oJHF494J4hBUW4CVZ1pQqDhhBUbYmGJa4s0Cu0sruoxB0EwFeCI2VPNbwj7RFld8alEu5q5ulHpwOYJZC6YZMmXNtCnHaW1ZCGBHarr6JoGkwbKUySXFlFJBDMVhrhRmOQY84bl/DPL4QzeUU0NSmrcsOcmKhKaUhiG6sK0qwn6BRXeMOGFKMEeVqLb0qpAkwzeKLZa4oPFhJKKBiUX0v7KKixx2SOd4uYXviz/DcGIL6FqK+qtIPgAs0XFGrteMO2A/GumHUsmqRFngy8zrkmozUpS3xHWiIgNsdpiVEEfBU70MN5ov3S08Qm3WI5vE5vZ4QzUryt7PeKj4b7O+LgjGoP3G8Z54dwFFtHjiv9BpTLt+oVcbSgbT/NpZLmHk33DXSb0tiS9v8N0ryz5AGIhZ0P7R4WcK/JdhYwPiLljY45sEITNjYEaMSSGtYM+8Dy3BNGhv/sdGTSWR1TYsS1LtmEPBqIPwIR3R7qnn3BuRF52iKixZIpyopCCpo8U5TP23pEpeJpaxnjDvHiaskTqHqYW5gP9h4xfZuo0UyJocXA+ocUJ3IooJcILtNgiDif0vaerJpTLxCmyTie+vCmuoaD036xBy7+UhL1Gp+KbpSFbio2k2oxsSagpkz/35MuMW57ZHEvErqJSB5Y/CtasKIUiHm+YoiIVV4b0Cy72YEvmeUK/HmmMIO01logo/+AhXdmcM9vZon6LpM+/UJnIZmmQKuLbmsIHFvPK+BBZg6bQWzZf/uA4WII+cwueVO3ZhZGVzFCWPEwnUujZOPVtw6ErtBSUXcNOXVna90whI9qZTfmG0Qp73eF3nnof6dQZvQiOvgJbYN4NyGtCViUvtx3nW8G8tMzjR/JlZXORkAXRvmf7TnIzCpkUz+qNJxW5moK8lFyHG04ZLrXlpp4ReovYGGxQnG8Vj6KlpiEUms9ENuJEt1Yc4j0fv0iSeuSHxoKted1uCUljtp5Q/MHSLJT9zJAk12JCqStT7IgXST9t+cOVDHVNGK54rQiLxLkbv1Kjr38ndiuNWqnUnuKPQD2/kYcJY3/kYFvcsmODpT69UL79jhcT3hbQC0zI1AeN7G6ossRva1ZvqFxHkwWP/p7i0JBmy2g0EwuJibQqyCvjWIIYiLPGvxZsZs2yuXGeFvy6IJYjUb8nC0fSAqs2+PSGfj1RTitl4Sj2jn1V0A+WZr9nEB2KN5qUafuJ+Lmk9RtsrUivE1MeyNsJryMyChRgpKRdR8TtgGs0fQ1LukO8wv1ccFUF1mpu6UpZGPAHqrAjyJHFerwxNE2AJYCuiF4g+g8waoqhojEKJ1aexDsO6wZTaI6y4bU84mqFYSKbz8j6jb0caBpDZzbU/kZfatxgiLNmJaOqGVMJThuPLVcOdWYRFXPxlaaDwwDd24Fbk7jKjGSiVQqMJvuRYRkQ55kkDSGX5PiGkxW4ldmCc4JLFFBqdJZQS8aNoJAd17DFJstu/YqwAa0KNmHGqkRQC7PJoMy3EryNZgP4fiQGvmUjxQRKM25XhNIEPSFbQa1X7CazyMwcMsW6IbuEftqQ3Qt7nUlmz7S/kJkoDpF5qygawacHw/vvK+5sx5/rv3DX3VN99yf2sqTWkuOD4s/779g19zz89M/8z//nf+XHP/3Ev/5P/8p/+g//id3ujofDeyr7HR/+/IH/9H/4P/L4L0e+u7/jf3r4T2zqB77/tOHd4ydKtefQvudYvqdrBXebOw4PR9rNgfcPn9jujuy2gk9py31Zc99WBP0Jyzv+oj7y8f4v7JqW/eaOu798z774kVQ+wvFI12xof3rk4eEjP1Tv+dPxE0Vb4tbIvAbiOjJMBdO6MvuWWniC1qhNSTUbkCWLh8/ygd4kVNakqSX1kfVtgtsMQ0mm4iDv0f5AUXiUfqV9WbmFAMOANxPCLWgzkVUimEBRZ2QEKd/IRUvOGYynbK5sKkdki0iS+dRifrhA8S2EHO2AeQep9Kz3E65akCaSy4moFa62OA0+WoLXzGVFLhWunQhuRAaPGV8Qi+HSGsZUYIoR+sBu+kgsF9KYuIodY9pSuAqxesYepkWyrgOfvEfmQGNLpusbxzePmBM2fZNlRmAtW8KbY3YtX9eMHLeEa+A4FrQnjbqCXDC4ZsV/CpQV1EfF9RSRdULokjqXNIVA5szoMspH/hAVZ2FwtqafM7sD/LNQ/MQeMRqiE9weSiw3ZglBRIZx4uoE21jg9Y5SenTd4M33iBou9cyqEv30B1N6JaaVE18o7JVdhFgKtmzAbpF2z5INofPkzcDaJcIpkovAenP4WiLOAd8Zst9RrAItHdJpWv3EONwo/tZTrwGbFTvhOTYl+QE6UxCLE8XHbxPiPC6csmC5rqhQMomG27rQNxNz01DEBVNE7N0T9Q7IFvwRf80M2WFMRpczVfUes5OIqUDXV+LsKGxmu3TYoacVE/NG0n8U6MogzUKub8TeUK+azbLFqiOnR8Hc9di2In0pGMaF5rVC9Ft2fyrplSUXEhk+Y3XDbdmxCQ08dfymVi4hs6ZEtDDdEnMfGF1G6IFRQ+NqYoJEJJZntNixpga/JKJfEbYmtIZVdPgp0C6KLjyjiTBPsNtB1GixsJETop1wISCjgtngAhgrCOM3f7gVhoQg54RfJG+zR91FqjKwk49UY4vsNxR8pQ6GpgGRDOuUeFUjm7ijtmectmzTHaP5E/62IWNZZKTfFSS1oq/wYidEumHECblIRKWZz4liiMibJi4djYLv/Z8oTw2VzyQncKKgyAlTZsgJNR3ARJY/JWSAR1Uj6ldEPmNGRR5n4lIxqZJBjSxCc5MSdVS06jtk/ImzK2nPj9gCqrhF5IHCClT7wHhqmIuFVwfnYsLGkmKuadqV90Ok7RRF/WeuvefgNpg4ImTFbakIn5/Zyi3R9CjRcVwkxfMzxSnBVKLGzJg1yyARXBH5lfFSM19vTKczCYl3N+JWUjY9iw/UPmBeTvS6RPQl3BIvITOL529O8pQ4hAvaRup4Q3cLZt4j7cgVS4gbyrwhFQlRdMxTwzL1KP1CuUkIaXDpPZgBty4sjzeGFOlcRbG1hKyR8ttk5WYVvdyiigJvzrh8oYwvPLmGPH7iIm707bfzSVPRfPIUumFICyZecMqxNq/0ssKZhUtVEfQZ1xQctaYuSh6OBbaoceGfiIVkcp6YrqzvJEVUpK3nLgnKRWP9Heb6A8cM9duZxmbkITPOEe2A1uLzBtZ/4GTmum4we4m+O+LXM0t6YRxg1oG8e2W14POI2P1BXP7g5eFbO+pLd+DTLmGqO5ZNh7298mF2qPYTQbwhD5nYl9CDGErk6xU39FzEBdF5YCYOG6aXLb3sEWOJTRqXQQ93xOMOXyUWGzlWhkI6duaeURWcmoD3GlOW5CrS6T3pUmMuF8rXC+4fJ8z0ga1puPeORm7o1B3DEChSQTM5hqeel+LCsBjmMXJ9srTekbTmeACRN8zbE30ZuLQL7+wrcb5QO0cz3Sh/BR12vFP/At3AUlc0jaXWK7o+ULZX0tHzWji6DwM235Aahnyhbf4gNRUPxRtze4/6esRfPLdfS55sx9u0Qe4Laj2SZ0lsI6kckA81V/MjSm0oS00ePMIvXNfAqjXRw3qDVFuG7hnnT7zVK7KMHLZX7uQr+9GxWkkSL6Tl77S1Zyx+RJoZvcmslSQuNXe6ZpM+kNIC0w0xr0zxKz4IRPeRVLWcg2WaO9Z55eYt22LF5YHjV1iCIbiCpRfkylAdF46nyG5f0+xazFqji4YqZ3QCsy5oo6neezIaLT5QixXpFZtKskkl2gvuzISaJLXz9LVCzBo9gh8qkCu6SyxWsLkpUoa3dWU+lgztH9jHjodUMtk/IM+kcWLfS05RsdKwpi3Cb0gyc90FruWEqLao+gPh4xu2avBJkbGUQnN81dDCoBUuTvhrQVorYu15nR3FPGAQ4Dc4ZxC7Bb14/FYT31/oEXxWO+b6gSkGJizFcKF1ikMrQTiMWWlvikf3ho6OdvWYaSbJhrnQYAR+LtnSUZQRvzpy8ujBIqaVEBNJd1RygZgplcEXEiMVPiTc2DCKEad3GLWjbE6k/YzYeS6h4fcHxcu2QxjPtUlUX450byX+txtLkOA0MSqUbimLldhCfzRgPeHHmrmokeo9TTMjtWPnWvo5sMyBOHqENtjgWYSlrAxWRbwQFKlCpK/gX2nSlUu0BMALgVs0ufRkJejEKzYlMg4pF7y0KBX58rDSiw0Xm/jQDBSyZzreeKouhNli44jUFclceLSv7CSsdoIikiQYBeq6IUnDZAMiA8IhUiKtA/7QkUJH5wRhSdzGEup7du0T7VXT/Q6mmQg58dreiLKElEBLchQ4r7B6x3SxDOuWqO9IhSWZFiUzN9kihi05SbT1zNd7hOjw8QPL6ljTKynPVMWKjRsKEsqWlCJSqy1eC66x5VQqgnwGIirWHOwGVQzMZc9n85nq0iCSYkyGqFZ2dmKSic00EYuGMmiW+pGkG3Tw2DUjsyJnw0uzkIXG25kCz0YH7HrmIlaK4ohtDduiIdoKqkAAjuo7rCxI5YTy3+KgkFEBwu4B7RbaAcaboM4VPl/J2cESkNYLqvmO7Grs2aBPZ2y8MibFkxrpi8DLOVGkwBo1VPe0B02BJ4kr5QdFWT3z7D2nm2URFUEprvrAuQ9sihOi9JxKTZIDKq20ViGkwp8lk7sxU9IMJaofqHGoyeJPiru8Ry0lmUfyeGMOCn95pl9XVv0r2jZ07Y+cpMJ0G3xwLFGD1GBHSrEylDNpUzKrLWFjidNHTJbMP0ne5IGsJFnXuJwRt0ieDGXXc1Y1l6fICUO3XjGbFuxMQUKcHXuZOYiVxv7ETXt+rwRr0zGJmZfrjPzbyKchsI2SbZQwfgUx03e/sJg7dPNAiolr7fB1jb9KVF7YjwWt/TvL+l95EgsoifYr4+uCcy335idS3iKpEe8kQzPj2ki5j8j8xO727+Rw5u/3d8hioNKfGYpE3JbcozmMN4rdjCQjd4FWCJZ6wVXvsFNmHb5lAzoxYWOPDAYzJ2wjibZDnzO1K5CTxtMhbSRzZMkts9ySk8NvMlk1bGOFzhpBS1CCzBujODPEEdVtCYVnDhHcr8QaSpPRneCUDSWG8d2GaG94v3Az71D0xChZ5UhOr4h1j4hnpui/8d7GUaPoNitIgT62VJNiUnsmGh5TTyELcmiYRUt/UpyDwlmLkiW2Vgg7kFgotn8nlicG5ZlRjLqE+RuTO9rM7WRYzBeiAPU0ImWJNS2LqsidYqd6orA07YSZV7YKNi6xTJlYv7Gkhpdm4ktIVO2V8suB6tThTUfaB5qXkm64cLQlOQemZiWHnpAFcapxeIbaMOoKnybEVLDrNqTyHecJ1PSeYtYEv6LkB7Q8QXlmFglnE3ocKJQmJYmoJqR8oOsaigBmtCy6YEx7DruZg02IzXs25cBOTuQo2IgBHSJaTjzGmtkfCXPJKVjOrmJmoY0PFHIkKIdQGj80rNliCkmzNjxdFWZSSGWx2uHiQlkcYfxAoR09A6v4jbcy4uTKlWdMcgiRUM6QxA4pI86tPNBRpYWN8BSupHgZ8emK4B0FkrqBSR5Zb1/oTjv8HzXdyaLjjDFb5FfBKN7gPhOUYNhF0At+veHLiDOSrvkr1RiIdkdfGFb7wovTSP2MW3uKfaIvLZfzyl3xRFNEfr99wamezv0L82FkGz15qlkvFZegUS2ozYljLFjQfFfcMGmkmA/sNw1VuEPaDe/NwlVsCBeNYODaKVRlydXf6MyB50Hg1a+shaKxL/iYGeRfOKiWUa/M/YVlGRGPV5qrZl8OKD/hNp78IRJzjwgT1y+GwQmuTxK/n6m7wLFoIQVS+BU5/0JaDKb2zF5h/JZq+0BjJjoPQz7jhmfqWXLYX2n/Eemv/0TUgtns0e2FP99PrCYj/EwxdYT+FTc7st+Q0TSVJhUdTfGAEhfO84b57sZzHniJE26cKIMkYsj9gfltRD1Hsiwp0rcCJZtPRF1SiQ+o5l8QTQvzlvhkud2vTN3M5h42R8OnXGFyzZpb8iMYdaGaDlRYBjJi8qSQGb+bmapIfXhGzRqj/6Cq3hhSg1pbmBM2Qx8hJY/UGmxB4xNFeUex/RNFvjInkEWJ94qi/EosClQNIg4IrXm7ndBSU+T3sNegQFrNbtOj1ImQCw6pYjYNaq2JYkHolrMK2B0sm4GxrFitJs5fuCbBk8rI7OntjNpciUUmnOD2PLDc3iA4wjTQbM6Iz1dknAnLwKpLplJAW9O6hGwUpoRaRqTXRB0owyvXosAl2KqOcc7oeI+73bj2r4xmj/otsxwGXqfAdnJEH+FNcJMFrqloB4tyC4sqkWGmTntOXqGeZoRzhOVEvhdkk6mWxJPLuO2R1+qK9hM/yRO75w2tgraSFAVMF/2NpU8rOpeYIbDzA+KWsCZQLnv65g4vLdxqVtEQRE3cCM5motydMI1EaU2/b4h40pLQ0nEbJsxbh0kFkoJUCNJGYJWlsgoZS0KWLNFj/YxML4S3mTpVmLXBhMToA4KIyJFq2LNTNX963tCkhUopjAehLM57Xu8MdR4JOqBvNQKBU4pVaMxQIs4rDVD5hLlGxP/YwGoR5gmlKqyqyBRoRnJYEG/f7DvBZ6r5MywasqF0itBkNktD/D0j8IQS/LgjB0Vs9oRWsGSD8BM6TEQytalprSDpxK0EY0vySaPfdiwWlHwiLK9M4cjc3RO8JMeSq3VM48jNDYR2BT9hVkMCQtjyay9J6p5oM0PtWGrJm9BkvnLuA8tiEbpDHp4pc/kNz71WUF8YgRwckkwg47cQjxO2MaxWU90ahJLfnmmRGBuNMIrZaJqDRuYVrQW2gkyNYEe8bL/9hMtE8jNxv4XV0OtEHRa2rmH7usF4Qy5uZL4gkqaIO47xJ36XipASVbQ0uiNSYnIk5u+Zc8W0PaP7G2pIVE1E68QQJeM4otYZaRKFX5hlD9pBioSnyBoCIkfWSaJiAlsiJzC5x7Yep0rGnIgJMhJjAlpG7rki3v+MbX/FnQdCrun9mXT3ipQKjJ0Rwwuri8xVjWp2GGHIvqLhxkYurFZgc4XVEa1OyGVgiDe88OTTHZjm24oOSWkihXhjih0FPyOunsp0KJ8w9UrMM8tS41uHLj31Grnqmams6YsfiVoS1EhQe+Zuhyoku2JGv0VqfUfur4TiB+JaE04Dd6/PZBs4LHs2RaZdL4hcIWaLHKpvzYWVJ4seby5st3vmdEQFxTmd+axAypZirbj9FlC/228XoamJwjHWFseCu45cxQ690QyThlUg40p4nTjeHO1YUdDSvY/826cVmzVvs+JcPOGrgjLU3F8eMNLg3xR20mxuI6+XM18bkFeBomeJPxLkD5TLD9R1T9aaqthRVjfs7Y2vLw73fEZNmW6eaYPmOUWW6RF7/56s/p18c3D9n3DmgSEJtLRclsSzTjj9QhkLgqqJeeaYM22GHDz5YYRUMqQdydzBKL/5vNf5WwLfOhaVUNuZqu7BjriuoAk9ZRHJhUQNUGZYzY0wTlQiU5JZmo77bChcSS4TS1WiE0zFnyCNzPrEply504opnxHLQBIC6gpVK0yQrG7BUlPuHrG+QMePuPEDql/RRK4pkdyEnRaaUybrgVXcUK7Hvm1Jz5YgIJYrm81Ms7Hoa2C9XrjdVm6ugXTPoh9xs8G8SIIJlOcz0zogXEnXDKidp5orZFWj64gSEl0t2NKwuD2rS8hCoNcjrjXMVY/47Sty0+OjZn+fOXaRLQ3RZaqDI4qvTNtfKYXAFzOXfEemJ6kV40vGoSUXEjMUHJLiToB8GsnDlX5TE33AlE90+on7VbCkEd/WmOoA5h30PU0lKMUr5fuepTwBiskkohjpleS2fEbtvmEH25yQFAhbkW3CjQ9gJHZ2yGGPWg8EAYs8Yz++4FtDbizbmNn6Fam/UsrIPIOfFWv9hXh7ocgtXyi4yw0WQzkOUEny8MD6upB0IGRNZS9kY2hvI3GeiUNCpxqxSNJmwKZ/0OqICQ1ulcQcGeY/o7JgtI+U4g7tF05vV+pFU+kLbf6B1Sjuu5liX6IkxFEj6gvjnFm95HO8cYoWjiWGQJ0WikLi03umTmLVDZsX0tgiLzW37Zayk2R3xL0oqkPNGw9A4GGjOBYJbxRJtvQPK2+PF173cC8nUC3F9ZHzqkhjRZgscinJZctrHjDLQnFdeYsD0q7I4n/j1RuqUZN7wWVVfFlaKjZs8nvGEtTwwKY+8mldcBdF5faI3zXVbmGtLe7dCBuPWzYs80dOs2WaM5KKDyrS11/whwWBpLyUFNEix0yfatbjDzynDdI2oP7E8+6e/riimoZJOWTY0K8lTmWGdODzIVNoqLqKD9rigsZWM+27byz7aQNaHtjrRLLwat8YzO/EtwHB71RScb97pjt8Q9t2uqUN33hwmf6B/fgFvVVUQsEU2U4TP3crt9gRny/Yy8TAwDpe2TQZoeDVeszUMjSwcZ/xu0ApV4osULokPAfIkqkqefj5hMsnTtOCNBYlN6h5iypWpHlPVRxoas1a7bGbFrNa9GVPur0gxe88yRMhWa5+4m2WvMgtJrzg5gWlJwxHutVTjJHBlt8+Zh9brMpU4YmcZ9wtMVrJ6Czi5Y5KS8RJUE2Q5RvRfhtEdGLmpiWNmSn49t4y9Z4yeR7FhL4ltkhSUNxy4rrt8fuCxShSKjn5O6ai5PmgEMKiW1jtDqMEeYJVKLI3rHlmaW74RWDdGZFqRB1IwxUlJL7wmLcC0UmWwyPvhg3SzCw3SwKqFrxRLHeGnRmQlyeEfqEu7lBCI2NEm58R2aGau2+DqKXiaVp40ZJYeN7JnhwNGynYXjzsVrzNxAR/oPARdIyYFEjnN6q1oisER5HJVU3tLVmMiOszXt+Q3Zk5LYg1sgZPfHOkXEFI5GCwi0IkTdqeUF3NdtcQqsDMhAgROQxk5YhmZPUV6A1GLlRLgx0tqHuK+wpvV4Ra8TeNW2ds2RHXDXMnKOeElgPHvEH0zxhOrB8kXfXE47yj0Ee0LqEsyEsPseTr/Af9LiGail8vgZuYuNa/cPn+xlBKpjlTnhRBZNzGEvwGoQ3iEPBCoVIm5ffMpeCr3+HVB5gbLM/c2hFjPUVwhGIhBY0XA8U0Uqc3iqFCiAIrWmofcTGxFYE9C1EtlCrRyUgTFSJ8j3R31Ckg4g3I1FZzWCWbBgpT4+dIMgteepQCJzJ35d/hsPDwBcp/36BkQ5MH0vHAub3ickNbeKiPvOXPrDFwUwpuD8i8cMuSlBJm6XnRYKaKEVhmT7t7BnOjcBKxZKw8kdZMcpJrPKOtQKQBpxS5PiCEQElLZKWUNbBF5xm3XtmGBVEYbD0R95pkBGGpyKvGpYaQK/yvPQ/KU6qFwmkWqbnOYITAWIHxEVyH3BywDxqqFU1gdpKzFtyda2JqyKrFGPMtP1jsEfcNZcw4HNqvvI1nckokE3ixDdcgyUmhsiAnUDkCPU/KMu4/MBRHLiFhtu7bMNEfYHyHxCVGERG5Jj1e8d85zmumOFuC/wV3g6p8onAlCk/oB8SwpdEd1fU9abLM+5k1adbpBucJFU8cxYbHesIt/5G5eodOsNWOFAtSFAidKJPg/bLFaUGVjuS3QPviqYJkKErG20ztQdvfyOYH1v0CpUAUJev0jF0m8nuL2W6pTQkVWG+YFo1vNzxPEzcNWQace4aUKadH8hC5O79R6ZHo4agj5EjVnnn3XvC5fY+yUN1lhP+VWjeI24pc/8K728JMwzZnxrXh8sWwLd6zPDwiVMTnTEhQr0de1Iik4PBZcfrtA/7cko8lIzey9ojLB0Tbkw+CDxtFuuuYgkMoSTxLyp8jl7Hm2cJzPaP6EmcVh0PAdA3CltjqjrEUyNNKvmZuf5dk8RM/3XYUVUaMkbJ2rDbQDJH6pgn2SBAe715J1RUXS0Kw6FZRyALZZkoZEFGQzMDS9swhIcKMihIvFuTaMoePBGqS+EqIL3jekCpjjWNZPUYcadoI5krKiUo2uK5lbUtOvy0IV1LICjuWJFHQiAYTGt5yyVA/gUyEumXVCTFlvLmhOoHgxHl8I8o3nJ4oYuZSZ26LQmvB0mTKoFi2lq6SNEnxudIMe0H4wZAKTZwTX5xm9VfsB0f6oUIWv3Bnf6W2N9RLJocO1ziaGyxFw/W8YdUaN3uUrsgIojYM+gBtSZWOWBVI42d+jomD1jQNPCxX6hiRjw23ZcPvF0G+XJknR/5D49sSv33jWmwRU6aaEwsvxPsJWGjtSrqVHF87xDxyflAsSTLLR+LDAVV8z8b3ICJTshTpI4txQMctnYhbSxYV5+OW7CLCfocv7zBS4nSg0Ae244a0CJrwE7e8cHJPRHliPpekpxU5JUyCubXEe4uQgtmCygF1iqzJ00TPZn4G7VlajTefiCKz1yUV0NUtpRL0i8cYyLIhrgtruBIMCD4zP2b2SER8gxlsbNEqYYSm8B2vXcKIwG8pId8+EoPl1tWYZUFZQeNmbhpEIcmzQUZNcRj4mku0KEjbSGdG2EV805P0iVN94lYotrbmScGhW3knIiZ5VmrkopCpoehnlnwiLyU5bTBScChXjHbMtcLfL2w3HTcvaKe/4UJFmiw+fGBKz+TzSnAXvtPwyV45PQPjjtF2bJxnszPkMrGrAlV6phSKcvPG9f5C8RSpBgvVP7P/6y/fSvBCCaHE1JGiBR/0N7zjhwF2CVn3yAZMOtGWR0L7Sl6eSNWKkztupeF+qtjYTJCWSGSW8LFX2KhZgweZOYkvhPsTb13GeINvHS5M0Jzx9gvjnHC/rDRvr8QgoNKopPj0RdPmDneYkWFkSBOmtEgSrbuyyohfJ8pLQleBJDUZjeUOcXQMtPjqyLVs4euVJp2hjOTwPfZV0pzvCMai8h256ghdxzL9E+/dhlpv4XBAHzY0JI5xw9xHWvXKd/IrdbchIFm5x0jN+eXCEEaka2FrydUvJM7ody2r3dG5hkXuCDpRupWwJK5zz0hPKWAbHemz4lLNDO2VX+//mWk98ClobBRs/AM7aTmoEmu3qKlkrTRumZniSggKNRkCC3609NaR9x9pqWi9R8VAsUL4KBnrgUG9QTuSu5ZrcYfWUNZHDoUCd6T2HZtb5HquufxhWZc9otD4QbHMEW0q6rpiko66thQ60LUjagHdt4ik8LGkmSG6gEhfMAxEHVnFHTqW6O1Myu+JpaEq3ij2FaIfMLHgZAuWS0mRYZwGUrbspOJuecJHRbmsNEvFW4pcmgeE3POSA+XoiVlh1J8olMFYT95qUndj00oOnzM5SsT0E1UpeDgL3tYDye9J9yMiej5eA9WSKY4lShlU0nj5xpe3xPrsCO5GSCu6yNjNjqYqCMlQyExf1iiRuXtsSMKi1zPVPPGQ22+mGb3FXiaYLog0UAcByhOqGikyImiUmBA5kTJIsTKrmYBHBonICjNKlgC1At83OHXGiGfE/gzHxLhZyHrPxAeehOS0/YTcZFIwJCQxrZR2YE4SVR5ps8NMDrVkbJS08XuquqEQN4rSIfaJSifUmBAIQiqxq8KHlTh51KJpXEGhE8yB4qwJouRxm1lXR6CnWK+UxhPkK2tVEWzNVEiyXtBo0JlYZVy2mPAdui+RqmV6UEQlkbZHFTO5EjS5oVgUTkWiNaxR8KUo+EUqhK/QGQhggG11z5eQ6FvB5z9FTJ0QZcbkieBrlnggy5VQLNy/gMkXTBxpb5HXFdY6EiXoe0t+zbCuHGfBfucISrK6DehAvmyYywOX4czPf/s3vv7tF37//SuzhFVOiMkhU0KkzOpO5Bxw1hFz9Q21zjAPA3p64TJBjgkrWlT2RNsjlpH0uBCsRGXDtZmwk2crF8a8MMb4LZ9XJVyYyG5iXu9Zg+JgF+rDZzgUVDHRNwNmjcyh4bQMjNsbxl+xXjOOltLcM0vJW1jZpxtNeaWSM0JksoRIxk8lx/wFMxbcIfl6/J6cJbnzLO80MoHG9HTuQNwtDClxe+kRdxVnVbD5+iOxy8w4EpYUvyEIuje47leKHKlXjU6BqikIXUZPb3gMaxpQqUNow1AJanfmNR8Ywh8QLN5VdCZAGkm6J6QDbi8Y05lGv7HTltY+ME4zUXzC8RnmxKADe/WebbHl2TnaWBF7SDFhy3/Q2A/oq8S2hvau5uocKpTkbUmcWsiRfnvCDBmVIIg9KUbiqklbyfPVIA8XmqlgyZH7zx/gqLjct6hfPOIYKcVCQBP9hClvJPvAu1GR1wtlVNSqBV2hnzXVznM+7mnMSCkaXH+jaY/47crsEnEq+F6WqOGVND4yjwfidwK7OZDLC4RIrmvqr4GlEHTbIzIKsJHMRFoX7GrYHCxxr1mE5jCdSJuEEBk1Wkr3hmPCHY6Yc0OxRnyAgpYpS4S0KHFF5JGlf6QIIzKPjMqw6JZtMGThCGqhqC2l1/gg2XSKJUaY79DNPTH/CvFILjJFmll6zRxb1lAQpeOP61cu//gdYxvWV004vfD19JmX1/8BJ4UKoNQLi9qj88hgfsZ5g8mwLI7aXKH8mTTdEwtNKTyXtyvNsCcuPWY30Z9hkZFuVzGLGRkunIoHavGFz/kd4dazXG7UpuRWeLScWGJJqVp0bghLYOoXjAnYzjFkTeFWqrzCpxLVL+iqo2egC5psFK6D02+S+E6g1ivbOvB90zGuESVHrs2JVZZQKUoH6hgJbodNkS68kK5H4vhCwQlZviceLVo8shkFcnlk0NDsJGNhceUjyt+oy4JL6ajeDOuxwM01hzgz20dWq1EvAVF5zHTC8xNG/Tum70hZEbsbwU/ItKMuFSKsrN2Ntt8QVKYct+S4Za1XylqQmg7Cb8x+z3R6Im4PDEXiwVxYe0VaMilXJJdweY/b1MThgg4XtAqkPmNMQpqGN1PzWEfeTg6zWQmFQcuPxDCy2zwQlpmsMulastpENi2NzCyuItiGB1WTA3wwDr31ePGGDY+wmVFRscwWJR1iW8KqqWSPN/9E96tH7k7IIrFoh6NAXvdsm4JlvZCGkrSv2IwLTTwy5YxtQc+CITao5CjCjrIo8UtLXDxeVzigmEripDC25nk70ZUR8aTI8gurek/NiUUd2LwV+IcnGME0O3Y/LsRbj0ZQNwNuLYm55Bo8NtzhY0boV+5RpNaSQiZNZ8S/fGK+XmiGjr57pA6Jq11pmoSsa/xyIeF5FnAMC7EB/ZNh/vIDsskIVVLlb3cm9glEgc0G4QyV2vCK48063smBRQqSPmCDZvMyMxXPPIQNerrCw573qkRNZ8TDe+bbQl22ZDWjkmeKiUZ7wtMFt98iKVjOAldVLCFjU6Drn1BdzToIdAy0XUVezvxtNNyZdxT9xJgdn8Oev6gBN9e4eKVoVkbuMERifYZUod88XdEwmYQZAzlWOH9F3iKugFUNyMcDZkyEMRP6it1BoKqeYXfHh0HQZxB6w62XrL4i3yvk0xP68IGHIeLKmXBtkJVGCs8bL8isqa9H/u1wpo4Fn8RMmuA3EdirCicGnvTEfslocWMNO6rmyohBzAVF+AIKinWGXFDUAtGvOA1RKQp9RYcBox9APH1DMz4Eqv82EUNDLf8Xrr89Mu0fKOKZoXuP/+PCtV14Zwz3qWD2J1YluZktbX0hzS/kzrAfImezZXKO5kUw2Zq2HvBBUcwFVD19rCmbBh0kdknsFsniNgTrKVjIGfpzyeYhEFrF8fWZdavItmMsR8aHEo/Cmiv5fcV2nUgmsKozm2QZqHg1ka1YwUra8g3RF7SrpzcaTCKJe9Z+y6jPPC4dgxrw/Qt19R5vZ55KxZ6KUpxY7YpsZ0KwKLln2uzYBsVu45HVlbK/J9Q9Ybgn6sicDaWLMHfkAqyvEFVJdXtlsiW1UmSRaKaArFfSYUCmxISj7Cp4LnH2xhQ27HRFMj0qOOapQFiDbQUxZZy/0ocNTsGH8oqIezQXut2EH+/p3YR/0+xN5lKulNXEcs6YsuX3fOIhauIcWMuSkAyN+ZnFNxTrzNxp9F1k8yQRRUb4zxhXIfU75FoixEosb0gDeZ1Z7ZnKJIStEaXk5bZwLzQv1Yjfrjh5QBGxuYZbSTgm1lNmGI+U6wnCgvA3co6oF4m8gyo7RNmQI4Qa5H6kUAWT0TibuU4V+IlFBi6FoB4NVfyKXDMf9UDMBYv5FhUQfLPqCFdwV2dezMTm31uWR0lVOoTq+LMvWVXi9vyV+fCRUL2nWyK+nrl+sMxRse/PKKGJEe6U44/DwnJOyLVB2ky24GKNsGceQsCHyOfXJ65jj9KO++WAmiwqB8gXRuOhvsP+umJjwJlXqrlAGIUx4HWgwuCVw/sVKRrq2w2lPLWuwEtWIVFvCv2DRq0LNtckbpTlFpMDOI2ixF8nsswsdcOGDb9U/wWxZAp1oEgrBYb9eOb99CP/3/3/hshgyxklFkyCjSjwReDNC2JS3wYvAhCSZCX65T3FIWPHio/qD2zVoMdMLP4HS/WIjv2WRdSsWVCqgg+dpU8z/NEjH2u86En5Zyr3H6ldYGxg2f+d9fqRpWt5Wq98Mh7DgJAbwq0kXgrK7zqc/pXGtDSjYjjX1MeRp8rgtMPGJ+blgN8dcdeVQmRsbkn1xA1NMx0Zigvy1xr7oSQeFlz1RhU/Im6OmCVWK+oWJv0ZKx5ZzjtKlYmD4a/9xIdmy6OeoVSMtwe0nIidYZYrpnhDXFreHQI6CAqlYDhwsBmrO1x6Q0sBjy1ZwVVdab63+GGLSRMzV1J+z1btGWPi5C5oGZjdih8deTuRdwO9gWnZs308M1PzfC44TjOumWj3R4K4Z+6hcJqiioxTjYsrZmdYb5ItjsPlK+y3xFRxmga8qZCXxOPuhkiSm0kYV2GKG9LXMA64MJNdj+ws3FrKbUfVJ9bmynadKb3E5JIgJYV5IfUKUFRaY33ElxWrMzR5IQRwyuGyJMtvf+JOLlg0t2Xk8VyxvBew3rNWHn2pMHXGbCM5KUyy3xCFnNDNnhQ1+j6gXYksPbPPGOXxusDkj5AS8lIhj6/IXLPOPZVLTPY7TC8QFehzD3VHpe5ZTcKKgOsnirpEdYZMJg/fNkcVKzUFsHDKJVlL/PTGtmoouCeknintyeVHymVAVzNtPvB6VjRDYCmhrm7k3DCqkm2VIVbMRpNGaAMMdzcO4cateMdwERRWgT+zJEuhfkQvv6DCjZewcFSJohCYNzjJiv1Wk0xJmwtu2wDPkkuqudtDalakKBDOU+4tCJjXllMQtLNhlYJ2mRlCwVCVbGIk/DYyfJqo/75w2HeIciSww3ydUFnRnQyrlVxLjVoTKSmqoFjuE3YtSNZTTp6UG9YVijqQ7Z4aUMURf1u4rxSjeKRxgXX3Spw0UmS0gWoMrKplEJpNkRH7mSFoCme4t6B+f6Z7GAlug48F9Tyw7CxSZMb0gk0fUIeKbtH4RTIEMIVEJk1ygWXWrFZTC0OWj7RuIVQNS6W58sTdsqUIiTRm2ESIE/6DIM8SHfbE4oaaLSauzOsTNtS4fSJeE+a4JfVX0JZwfqPMFUmXuPKM0Y8MJlEXV5anF4qupVI7cioZ8AjtOEySLHvG+x8R+sRx+cy8ClQ8cP1O0lzvEBvP2/WKMDUGuKsFY6pZDdRpT0CyLRyziMx9gbk1uA58FJgsiPELhWo52wbjXnntejaTITbf8bdh5YfygBlHdqKkMBq/dERfonYKbwR+fkLIFq96vtJSjyN13aCJpDNUYeD7aGC7x+aeJS2Y2xHjz8hWoDCc7u5pJ8HZwra8J62KShwRk2MzZtxdpLmXnJcC7b6ncJmqgM1uwRWay+vANmn8/jvqMGP3ljwECvdKE0sOxyNt9hQT5LqD+kbOF/Stha1gHKFoocgKM2e0B44Ft7lnkIKUM1Xdc8sru6KmXAp8+5HitpIahXKZ5sONPIDTDR+1ZllgU3r+Fmc+dB37YeV0cdztOs5+xsqa9LKl/dDDamlmB/t7Bmqa3QvfXQSrfEb0PxF7y+Hwnjn9gaTmzpSIVTItN5QRvNKyX1bKYkQdDUGUuH+TsDrW8MahueMSDHPuafIdzXoEs5KEpA8Dbb7xnAP/n//Hf6ZuFlL4BSm/Me4FG5SY8TrwX32DVgE3zHQbQcOfKbAMa0OTQGxGxDjhlCc3B/Z2RNUDRfUtZ5NDR4eApFjDSqgSa53QSJy9EKNCxoF9VSCdIasWud9TmMg/1leOlaPOHRQRMw2UuyOMmYyFi0EIw52BixLIoMAm5Ns96/qCbD7i7dO3gjg1ouqKfdri5UBrbtzGB6ZRsik9+UWgVeIPu6GxfzAri54Fr/7blmSJF9hUDDRszQIWRp1pp54mHLCzJYkJbENcE0k7hM2UN0WuDMKsGBUQWXPxidIppDog44nESvSartREPVMkzeQWmmrGr1uuaUPnLgjTsZWaxU24Yo/dPlCcT7ydJeW4YG5bzCfBel2x3ZlUtBQ3RzU6fticGOUWIxLyvBKbAkTmLy7wdRyozxm7dCzNBp9H3vIPjPpnPBVnszBLKAtFXDW5/NbzA5qkYGXlsdDoQrLXlicZWW+R9QDSBCgVNv0NRaaaKuZyQ/YzIthvhqBakCXMceLdrSItA+Rvub/TlClCIOb3tNPCokaiK4jCkIiE0KLzG3KR7OuaIhiSASlAOlBVR0g3rFXEDwO2aQleEkNB2XhUiOjqHQ/G4VyJtD16vVHWJabfEt0M8gTJMomeafEoIZASpkuNTgKBoNgcWOKIrisOd49ovcHYmXDN2FJ/2xKoDR6onSGlL4irokyal2OD+XeJKQKCv1B1F0wqiNKyNp6rLjiYiLoozvcjSjrMfYTlzLr1pF8FxdpATvgJchcZjUSLBbRhnSS5VsQnwYsyFGvkvZmRKwRzRJ0URX1Eyq8U5shw6sn9jbK+on6p2L3TGID/P1YkskQJiWkzabxyCQWD3LJfLKJ/Zv3YYOSEFtuAyyPb0+/c4o481rRt4Lm88j55XkUgVP9CbSyXVVOvO1JSNFLw2Z3ZUgMls/csXmIeNNeupJPQ6k88yQvKSfb1BWMKPq4Lf5SQ6wPGGHo/I9M7qu1AWnrqWVPZd6xGosd78g8jSxa8zj/xSR6YhUVuTpyFpgwK18+k6gPuNuCbB6LKXH648uFyQnQd6W1FijeabcU6b6nOibbTuPWOvL0wh4Y2FdSdY8gF87xwHy9YMcPYgPTMtuPYj7jqhRTfMxUdshBk8S2zkNIOc4OiE4zLxCwX9mVLNcI/+orHOpDiAaMEO9My+RP2VrGQUf6Fho8QM7FLtI+OZtWQXwli4lVV7E53FO8LbimxDpkmKEwZeAsfKGOiHiJ6EXyufuFY/xNv5sBGaJ7Llh034rZgJytO6wVVC85TQSwTPp3Q+gEZN4TlSrHfs6aZZb9SBrBNRVoVQRqCluADUigmXbBxFT5FUI8MFYQlUrkX/BIwmwhriRxr1m4lmyukR5rte6gLtnmCAEn3/Nd/+8DHP/8LrTCcfGQ3KvQmwaMg6zsKNYN7xyQVcqipNhNOzbwdPvG4VOSHN9bfDth6YEbTFZ7zVlOJCjcsFNVKHCyy0Zzlyi54fv+5Q5Ut8dIw6wvbas/qRqbCk8oKOQteToGsLixlYltVTMOR/mEiRYMB5BhQtxPlbk9uHUFnxvGIcZogCubyD0Kp2fVbLouj9BJuj9ztEu34C0t5QHqP/PCVZbLE0pBO0NQ9VSXYqAeyCoTwlflqqe4b/m0Q/NQFyqWi3GhScuRiIvZHdvZMjIY5Cp4+Zt5LR3jXcdEFdchoIsXHjvk3QywsPnp264wWjnna4I6CPCRi+YqaJuZYI4TE1ze8KokisBcGj6HRlhBPlE+el7vEu1STmPmrWolipYyRSEK3E6ehoq2eEfMjnpH21jHVDSIZhCpp/UCSLZWfmNNCNX+P2I94HVhzYJV7lJ0RxYolgRC0h4mk35AUzLeS3hSU4oa67dlsdxRKcG2fudc/YcvIdK3ZZs2tfGATHW6Gfn3FbCTOZPa/BpqcSQKS6HF5pfAWvwmcZYF2J2LYcxsDxzVz3ira8gGSJhvPPC8Uh5L5yTMrgb8Iioe/0Yo/cVEB1b4hxBPycgDf87p6bKVoXWJ+WYl/HnHTBvFWc42OfeFZc01QJbIQuC5RLTNVmen9no2pUJeZ6nsJS0F5qyjlC8L/zsfTlvPHGbsTNL9r0t1Knm7fNKXWsyiJ/fyAPMBUbGnriPyioJFk4Vi2fyeL78nWc/ELdjMRKVDbF/Ypoe0jTE9Q1fhSs5UL6U1hWBjfwyINthpZcsVdBps6TAKhZwQD5yQY0bSFIbUlu7Pma7NBKM9j5SnsIywBE2GJUOSVjbNsTprp7sBpd+Pht4JtsUWhiMdIrzUxFRz0QPFHS/7REp1nrUsklnGbUc0T6QT9x4J7p4mvDct9TbmD8qoIdaSwEjlqVF1ySgv72aNuhvDjmTpsECXUFwFdhV7OTDvP8XygP86s14olQcqPZHfF7EZS/4DvHtD6r9jYM3ctwRvqJaC7GTl1KPuF7AuyCcw/QBgNy1ozVw0qBkLVEosr02rQpxEXBWUhIO3Z+5H/8FPN9qFlDIZCJGRlwWW0nBFes4YtMvVMZuT0t3+Qbx7uNnAHLFfEbMlCo0qPvj0xC5iVJi4TWYzUdLwVb6iUEVpiREEpIq7QaCdIhYScWFuLSVdGKsQlE7dvbOWRDSeWuJKcJok986sg7TJyBb3bYa8Dss1UsyanmVshSFOF2jesCxg6XNiwi5JSBK5rpmlK4qS5s4Y3a5AnjWk9UmpK8Yq1ipw8cj1x2H5kljNXO1L7PdYEVlpm7/ClJXKHVC/cuEF0WKeYqq8EdaV1lizuyMPvBHtPGVocmd1ak7evsFTkyUNSFHGPGmvybiAGQVwqgqtYD5l3TiDLFpb1G3rjBIcQ8Hkgzorctui24sUJ7vRM/G6gyoEw39B1JKQrPe/ZrQtYS9ltSXIhzBO9f0G2BSYYCqlJc0bfOtZ9iRARtTr2XcQEiVrBeYNUgskdWMOv1Fow1JLlHOhcyewKUvYUDxdufguzRm0VMnyHkD9T7QNfLhkqwdJ58gWyFWhXoMaCr4+W7m5BfPaMSfF9ceFJT9inRFxBiURZZnAVwS9k4xD6AvJH1m2PNJoSMAJkCS4r0u3Io7vBTXKSgoMtEF8GLocEo8SahHq4px5fGMsDohU0fiHpC8m9xzBQTCe6uw+Mbw+88TfE/BtF9x6TBdpbrOpZZgnKELxhXp6QacPb7Rn1x78jg2IarpR5YVNFXnaaedaopLkfEn+skTm2pB4GBORIqa+YeE9VvrGuJ5Y7yUYVqGxQTjM0Jc4ZZAeTjd/OYthiKoUdn8A56kVS1CPkDr0JtL2kyxPSKmwZUFkxvkEXfyWrDKbHlhlvNnjb8vxDRxMjKRcYkQgCLJkbmWgz6kukmGu67VeuekPx2KCeA/JDgUwpoFZBPBzxuy1PekGIE5vHnhRGWB54uFqKMRAsxBKayuN9S+caSh2ZTMNSRsKkWG+JHyoorzP5ZigvLccq8mY7fjlLwnaLCi3ODZxRbIord2bGOkNfRsasGJSnLxd0I1nVipKBqsisHsL4Ga9bMJ62UvgQESYztzU6/YqOgneuod7sUfIJaXsWd+CMYo2SpQPhNbK6J+kdhRCo82/Mf32l9YmtSExfWnxv8N7yHBfU9cYyf4T4Z8J2pfOR/dqy/6LZXDMhruhPFcu24L4QtIMkzCdO4sj324yQFpdhdWe4CBpV0PtEvcwUu3f03URqBq7AnCXSBlQsceUHsmk5fapZzwWLT7yvNmANZInNb8Qmct4b/J9H6tLSc0O2lqK8UVWZIr5n42rmLxPHYqGYDE2TQEW02lP5Er14dJuQ0qGoiF4yaVjzM05esfofdMXvGHljSSuNslDOEL5QhZHYTVj5imxuFKog64ivF4I+YzizuoaYIipCMWa8C/QLnG6SMEXwDhMC70RgasEZj9ALRsyEVSOcoSk2iDtNtJCt5K4cyV0kux3TI5wfS+bmRMqG7aXCpJEmLKQQsVKwnlfq1x7xohGFYhEFpgAjb/xiFK4ZaVSkmgJznNgdI5vjkXVbQNmh9gqjGioReZ4ca+64NXdEvxLHz5TZkOsNf3jF1Ara+Ugb3jG1Dichdom1XYhCMtcbZqEYBDQY7PpCtZ7RYmT85cj4ZrgSeVmvJO443IH5YjlMFas/okvLMmh8ONKYEr3zcDiwtB0mObZlyxQ+8LUukeWIm0f8F5gGjRWCq9BUu4rCWtZUEnaZZN6wUnOaDgi3o9lp1FgirKAVYCh5ihXaeHKjWfUDb8eOji159ETRs8garWdetKOxkkM4svMdfvge1RlU+NY3MVUG66B/M3C78DU7LqNBKU/evPCiMspXxNs9Gk3+7CiToiiupDbA1aNizZhr2kng84QMjrxEsjMsxvIoWyYNp3JDvU8U8o1azwhescLwY93RhA3fzT/QNAecvafRHjmWuNZi9YQTG5qhgGqPWl+oZKYQW/Lc4K0mxIqnUCNXTTyV3IaS0rZUP3Xo7gMiDzRfHWnaIeaWQ2uI23sWakCTtcG0JX18oCsqdkqy20lSsTI9SarV0fUL23/8r7jqV8bNlXp8xT/PUApWnghvGbMKqD+w6oKq7niUB3ySxKpAqJJCWlJQ5DBRiBF357g1iQc9sHGSImecnxE+0DzdU+oXTsuEjop6eo8+1ZjW4sqC6+kE7Zm2dmg/IfKGpDP9dxmlFNXbPxBxw53eEIJias6kDQQKYrZ0dkvrNxyGSOscT0VkLzM1Z67r74yxR6LZPyUKFi5CcFk8+bDwZEv20551n7A2IKxjHO5IowXvGFwBf7ohwkhtvnlGk16IqsAPLeWd4nj7newHQj3QyYyYHVP5yjp/QapnTu0fvJOKT0Ki32/Rf56RtqLOCfk2ct05+voLVIpktiwWwjzi5p66eaUuNP3Gcaq+Q+wbjJSQI2JNVNNnannlqj2n9JUUJnxsWbxEiYn2zWKy4cOcad8ih/Bf+f4fZ+StoiBy0hVtPFBqTeNG1PSCDBF93WPtQllllIpkMUJuEE1EVBK7aXDeIKSmrrZ8iZrFZ+alxBWGcJuQU0XfSOQhsg8dxihsKHDDhTbOOFliqAhIEGeSuFKYI1YkhChQLCSr+dAF/ONMUUwcuxnPllbMNMliSstVfqV+mZAxUp97rtv0zbbWCVRrEGj6ypGlw1af8W4gOfh9bVnWkrvlm3jgJkdCOiHjFdV6XF74Wj9RtYlivqdMUDTvmQrHeqroOGLyhBoPJGVgabB+RK0CvcJG31EXHUoIivLALn2Pn9+Ra4WqdpRXxTBHrvlG7gTjfMTHkrV4+Vak5RxrNSEovqF4e4MvBbrUJPWCds8EZVkXh1QzIfbo50BxX3Pcz4RD5MPjVwoGrLSsHKG4Mpxrkr/jt94yCs8cPK5IuDwhlCa/TyQgC08jfiU3L6RdoA4TIVwIKhNwICVRKew5oGKiW/O3duk8cZdWmrVADZrafsGmiiKUyKUEE7joGYo9OZaELzX7UCIBUTQIo8kzTHFF1yVaexo3E8cT9RyZh4YkDUt54lIGlvk9aajYlDN5TcilxOWWxThUbpiRrAnmDCmsjPrMZjMhFwUPmb74DO6Np70lqYy+KeKsCXgue4NdriSluBVfscvjN93rWhE3EydG4jEhZcKnB/TywpQSoZyJc0QtDpEFKTlMqokOnhfHz88Lvz6/MXpHISXiNGGkpBaOGFuSsKxjgVUTbs0oYVBKE0LJoBaQCypu6WJmZiWnFV0VVJuB+qZRztPlgtZ/wTcSHTQylzw/ahYy4aI42xd84yhEoioD2meii9TvS+ofFKL+Ab/MhN9XmjJgqgX2FqMzYHHAIhIACUF035rr1eM7+KGnPH6i0CtFqCg/TMjbDamVRRSBIRVY/TvH+wqZ71DXv/D6+Z84WIU3iq+b31D+jA1XfG4ZSkkjDO2sWPpvYVB2GpN3IAXFxhNjYi4d8RZ5rHo+VBERLkgTMKKkSQtSbVikYwlnuriHqmBRGt465otAnyqiOWFdQhUaKocNmdYppuB4KQwxR+gvlGsmywtnIVkcyDUxTkeaO8Nmgbxf8W+ePM0sAcKy0JcZ8f0ddA2v6oQwHnF3YdwUzPcFxf5AtpblmLksF8wqUNUCxrLej5zLSBFGhitM0x1r2hOahFhnqpyZgyLiyc8T0giWY2YyE+9sCa1iJmFGxy1WKFsgupWXKiGsYrCaxhr2eUDImfdjRpmVfXpFLzWaA6VTVOeF+blA7zYc6oXytmEtPIVfGMS/c2t+QzyuDO2AaytmJASLExmnM0PTIssty6RIwVOljjp29GtLlzVl3KNPFb53eBcwz19QZsD6B1xRUURHVe0R9oiOG+QYcVETvUfQIcqMWBaSOREKQDUU2wJpNKlIrCw460AaKrdS9BqXPdKtZH2GypHilYkBNyiEP+AVKCORWSG4keeFxmbOnQG/oIRA1BXlqNGqoPAVxfaEUj+T/YKyb2g7UhUf2I2K4bLjNB5ZhUJ2BZEzpb7RlQ1BnAnac3htuIuJT0WBnT1dCWHekYcHoi9ppj+4H1c2suGiOvJVseAo14ikZpKRonpCu8jw8jPqThD8xKu8YxLfo7sNxeHCWwdLfEVUB/xikfkd871hU1ma1bOqK1lIhm5Fvnp8qnCXibyufNWe+/SMOGV21wrlOuSpIRpJ312YWXGmx02agYWcJ+KbR74eGW4XnLzxm1R8PvUEeYKhYrqd4XxBhRG5POHWMynNNPkz8nyh/yzpLxY5TLhLZIwL11NgmCNRJ4qkWG8GFwI+n2h8oC9q0t4z7wxNY8hNYlBfuN3+jeMy8PXkGNQfrMsrqfxW8EUcWN0zqyiQS812ShhxxZU9v8qO9UEhXEakiSwSWcAwLWTtmO5Ktu2RWj/QDSNXI1BZIW9PrPcvnLrfmDqFq1Yq/y2sJ9SEbz05LBT1nnmz4Lu/E8SJSz5TtQul06xYbgdHsXVMKkNaKdYnvpgtqn7Hcn3g9uzgOdGmge/Llt1pZrkYQm2JzwKhPNNu5haeMa5A7RNv3SuDWFDf/xPb+L+jXjPReuxBEmJAvir6sSb5mvTVocU9l4eVVQpul8TsP/OUFobySHh7pb9UJHaY9hdyyLyKLVOzct3+DXOdyM7iHidObke7tIg1kbPENic2yVDcoM0b8vqAmO8wtx45nlDHlRf/BeU1jfxnZOFwxZVsHDv/C3NeSdZzpuN0ujFcBuTumwp1PwmE+4r8R0mdPxIHC1OP0jPz5cK1DSTfIbVmiE8gf2MOK5Q3ruHGOqxsiwsPNlGMN6q+huKBt3QkXWBLSz1M3OpI+mXH8HVDnBbEnWRuMkFWCCpcL1nmjs1TR+zhclVc5UiZA9PnDZ+7GXMfaDYSPXScu4yIBd6urK6FTY26NcynC+GyUlWKQS84nUAnopm5zB2i3xHsQCl+pNIlloJKXcmvK9cHyaoX+rstfj8wld8hOktl/+DWSzZFgeoll2tDmCNLV+MPgvUObNgzx8DkEkp1SHFlmjcsKTE4TVwscjWIeMW4ERcy61ax6Az7jqlxDLsrZjng1cogI7OF8aiZRIOeVqIfEQnmwVBmxypHvC6BBl4T19Jwu1YUXjFogxwj5SgY5w1z47gGaPeP5DvIoiAUmv1LJiVHmW+YJdDcVjaFI2eDDzWVMXhr2K+enBVBF/ipoDkfyP+QlK+Sap4weuEwVeCODGokAbGcseV/J5UDU1iYvKFIGbXMWNNT3QTCZ0a9JRsJg8csFj2PTALGWrGqZwosthQ0+4K7YkfQjiAFZSUoxR1Bzyz7K00q0KtGrwYprhTOU/qAXhvo71hVQPkFl+9IzYHlbuCtf+KXeYd8HsEMnOoVcbvinq58WRKDmRnWkuIokeuMVIq/e4VdFaVJ1GskpoW0Zobcgi+hiBQ4ulyg3MyUFEoEHIJTLUnRQ+rJ8oR2B9a3O9xiGKsX1tGTBAjXoNoepx3BKF7TTGKE3TNFEVHrZxq+givA9JBrvIkcF0Nft4TqI+MvmaJyZOfIZHR5RbWB2EXsKpm1ZzYCuzrqZ7BpoFwyUVg0gBbUL5GCGQ4F3uz5kUd69Z5j66hCgvcly17ymZXLKPlSrWT2sH5PTmdiDkgZyOsBazqkk0w549RITveQJUKv5E2NKyUpZKLR2PqELFbK5oH337/n7sefKIsNUBKPgTUuiLCQSKAd+iApXM2mOpOWnhgDQXiUs+S+RZWSqSyQMeJXy4mVfhlI9cwiJcm8Isrdt4D7XEFlqcYWYwLtInnvHRnF1TnkLZJVSc4Cx8ranchLQpcN9gcJdocJFaW4sD0J6qVBxW8FaEJkINFZSaw6dAOnxjDXC2Jfcj1mlmQ53TboyQXk0xO771r02rComr57ZV22yI8ZJVaC1xT9R7JzjLuVRUYeboFZC4q9pJpPmH4PuxHZzHy9loTwmc3esVVbXNEh/I2zW1B4dFi/Xbp6Tz9e2a4HKhd5uy4EU6C7SLHL1P4LSzSUusK8vDFta1p9R+9KjC4JGg79z5jqwLSHsByY+e+01ffk8wZdaprihTjdkXJGiIXVSK61J6sBbSXjz5J//LPnL7WH8R7tHGkb6IwhrZp1lnipsVLSjhUmRHKncf3M2/uSD3qDPwcaAy4Lgp4pc4neHlDm29pJnDyTjbyODtM+k0OJWVaC0Fx/G2g/rahrxoaefxdQnmfUQfOIQmbNMiXSZkT+3BIOFblwiHrCnkqW5Y36bmCK3+MWT1+3lJXGnBvmvaG9QFWVJFEhskLohCgEQiQKVuKaGDFEp6i6C0JtURn8mOiyYFgNtRW4oiRKC+vfWEWH9jOxVpQjlN2ZNStEBtUkhrRhUgbpe8rpV6romN967G0kjInXeuTweqPY1diwcLSGHAt8ASL2xKlCCUsuP2LjwqoUfpiwtiBbR5ASQ0ESE0tZcEgO5oI5PVKUN4ZWUp0KnJxRlUS6GVk5vLxDNZmkDdZ3mKLAxYVOTUjTUOQLkY79zTLUe1gUcgosbUeBJ1YDr03B7vxCe79HKMszIzunUKtCzh8oHwfEoLjrAqKTkA2jPRGjw5QVS17ZJMM7UTDfBjohWXmhLTcsv0jqg+RlLmmOG8ywYMqZ2Gd01SFbifjq2Xb3jN2VhhIaj3x7Y/rUYp4dP25qUraYhyc476mvBXMHr41AeXj+/AvutiB8IKozmQ45SZRV+CyIYyRuJVIO6LXGakNiRApACcgFOfwNtPj/sfRf25Zs2XUl2Jc2udWR7n5FRAABgMzWmFX//wNZ1VrxJUmCSSAQEVe4OGJLk0vWg3N/wX4ymzbnGL0jVyhCMgHleOMvX35F/euCyw2/+Y65i1TZ4EtGS4WLmqQmwlihm4SMsEqFkH9FJ0MpC7KMKP0/ickTc0WpBXqeuJ0vZNWxWSLzZsEC5rZl7Xu6W6BtBYs/soSaD5VCrRs28YbsV+znDVQri0usJ0+3KbyjuGsb/BV4UXRuIdZn2vkO4T1ye4e4Xrg0gcMLyAeDkzXnpub5dmWyFddpRK+G40HwQUnKU8Et75hFcpU/sowD532FOH9Bast0eGV6feJxn8nPFU36CrcdqmtQ+Tec+IRrHzifEuOyUNd7dC2ZviZCHVHuA7EqhNXSdRJdbei3iWJGZNBMZuAOy+m8Yo1g3HxkGzp8LJANUhzJyTGf/pl1G3iOiWG4kOMP/Co1HxrP4AX34sba1FRGUdKKMoHLmriUJ/btET9acu3ZdY6hvqOX7/whPhNvCu0mHBLNxLjM+MsdRsFf11eeOsFyf0SXf+E2JXbpF6bYMvN37PYD0j2jVk3eWt7FAu7GZvpAUw+wSOzlgbcHx3N3hOEZuy/k8A0jJy5+h28V9VUx63dS03ING6rpuxDpwThydeR97dD1jvl6pfItOSbmj4LdrkfeBGFnuP72Nx52Eu0XhP9I1WWEuGe9vfHWGjbrwIqlTyeWLLmjwXpNcBfU6NnaJ87vM8K+klWPR7PUeyZfURXBY1oQxTAzUOueoHqK3WH+KmijRFyuxPmJ8afIaC3i/WeGPPGgR1Kv2KqIXjT52LL639E7KDLjdIPUCY1guCWEC4j1lSQ/UO0l/h2C29DTMAqQ10JTzcyLxrkNj3NDjAmagkqWZZQ8Sc3UOpRKyNMNkT25XpmzBPOO5gfQgty03C2aW5OphKRbd/C6cOn/jpA9WsFAgpNEyYo1zZQmM0ZJEYI1d+z0gg8rXZFQNG9uxX8J9CWAkXS3L4zuA7X9n0ztI8e+5kfZMemeW/EYzqTJoZRiDQvuusNtfuJuSLy1GxpmZp/IZaGqetgYUvIQTkjTExyY6gRyR8rvWP1EPTvm2mFSYPaCPNcECV33GaM0Qgu0qMDXzLUnhYV6lXgzEi3EVTPtNP32SOfvEdqxcsKGFfmXRx4+RZYXkCnyVh/IzAT33ZfTy6/Iww037+j9iBISi+fjERZdUbIj+S2r+Z2gNMLvIb0yihv95o8UOkStuBnHIEBdA8ZnRFYYmTHLAzc54JJH9pnQ7ClqS8xfaQz0vsaslp1YKJVglo5S7lj8RNA14toymhc6KanaQPk8IJ8ik3pGu4T4U0W6NGgsveq5RY+PX7HT31HVldrOBLuydD0nnWkzRDmRZcBTU7IkvX5F9f9IuhZcfaZU4BPsS+BmBJiZ5mYYbiuiN8wvHTYPtL5w3W35erkRi8GnQj1m5MsVmw1i06NEIJNRaaQOnrwITM7YWJhzD2uN02dk7oj+DUEghQvrYhCLZdUCr0GKQrCRICfCyx+I82eEWsgIvJxIdaJMAu81RmRMG7DiRpGOpJ9Q3Ig3i3Ug8g2alvU2s3eGbBJ+N1MtD8CFbX0idpo0nFBOczsHfti0qHWm5MCqe1LQnFdNXB2NVVzjG8YupEpSEEgByo+o8DvH6ZnHMTHdfSbaP2HPCY4f6eQ3dGPP+K3g1/mBB3GmWV+ZU89BR0LILPuMLd9o60/M1nAKNx5rYGOxXxPjXcSkE5tqi0+BU9lSLUc6dYeaFVlMhClx2mbOrqN/OREzjP4b5TLw4D5Cv3KcI4oFroZ9cpT7Ae8/IsoMp5lQevxJouwG2S1keaOEmdZUvK75f6PIPGH8L6wbh+0gpJVwfcDfa5AzIVU83xsGNKfVcT8HqrZwt1jyfctugLhZmYpAXBOIM+xaKnGj54G0NcTTQskaYxqeE5j3yJoX8oOkSpGyrlzGG9tvLXwQ6CkxcEMZS8yC6q3ga8WgMyr/Su2ekUmR6hofBP95yUSX+I98Rx0HDmKm+B10AvWPgSm9Y8cdqr3w2o7otqZmzzpA4DOPy4/I9shYL7hyx7Qqrr6g3gPbrYMxIhpDSpEkKrpiUDHj+ws5CNykiN2KFhGXarQOiApAIILE9TXROWSQFDPQNAJ4RDKR44agwZWFjciUxxY/7dH6C3/4059YthtWNbO3gZIVlpZsdkglsenKdagxVaAWC8tlQx5hfl4opz3ZFjAROSQaJqi+MIQP+BKpVoMPiqb+G8PpA6JX+GVhmlvcHydW6TnQsHydOfaZLGfWeWGbA9iBNSl0uSLCgYovUD1jpaW4kRw0NjkqaRm7E1264PSOMmuuYUFvHKm21MKTlEKoQuoCy9eEaiKxawnqjluq+SwDu2NHsha/BScHcnokO5ivkvZDxS0Zto1CrTdkNxDXGrtIcu1QfCXeb1gmQcRSU7HKj8TtjJ4u5Kplsntu8YgwFdEuvO0ScWn5gYpj/MDHD//Ej//pP9P6M3FNmLilqiay2TBdboiQyBvN4N+J5Yl7L+B+JK8jYtxT7hJm0ETzO04Z5tCS04F384ZIDf/5v/yBnd8y6xa7Kcjhil9aQqNolaUa35nNHXr1CCMQbcQXQXn7hj38jBEvLIPAtC1rkmSpUKdv/F//9l+5OE+pe5qvNakXFDETw5WQ71FzQo09ditRxrAezwyPDdbv8c9X/ODBV+S2YhKGp5NA9SNKN1xcQttE0QapPfjMMq/4eseT+EwxI0v8ANWImQ3zVZJSot4E4kPix0nze73wPEaUkYQYqfyK3jZM1ZEnUyFkwI8XDsHinWCioi4zyiWa+oUSelYpqb2l3Y80o+N0OhGLZ9m0tPsvmOUjzUvDcRP5tSimfuE/BRhLR/o9og9vhPoes0mkcUDZLWdVoHgOz2dU1XCLAvf4ip3v0dNI3gQeuzsOx5kkI9W1YayP9F1CzTumWSH3e0xylMMXRHDclYplCQTxSFALg76nu30hdj1JGUYjSUvFmhr6fkLJiYM02N8h/vCfaJcbZ2XYrs+QTqj2Z9rUszQnpMtM5ROrkOzkR9qlkPWOUn1m5wStsRQUTCspGnzzSAkt66WwcYJjk9iLV0ZZKKZCLBVNI1iLQTQ1H39KuEtisB16BSzkMVLGitlrIoK7xx+JFtR0QyqB3b1T2KHWH6j3gU4LdHhCN690JJgCQTjotqiwMvtfiWrDvZYcrytykpQpkG8F3TYI21JEoBBZlxtGOY5GEfcZdSoUuSHvR3qpQV2Yn7fIOHG67XBSs7o3fLKsu4l6+MAqJLUN+BgIujDezthJ4xqI8hkXPG86kh2IasDNGhENUg/4OUNUhBIQl8h0L0Fo1qjY6oS1I9pvKfXMKkC+RdrZ8jYllkNLPZ8JSaKbhSBa2uWM21VcLjXpU2AMB47TjZ//avlxPzKbGmlq9LAgikbWNXN84S7uGZqKSs/4N0l5jGxCi288eZ4Y3ETZabJY0C9/YNufcOLAy1uk2Uq2TmFrQRYDs5xwRn1/r4aG4cHSqUKtKlYjGHRNWAtDdeIp3NOMgRINJ5V4LjvimGmXe4adRdUWnQRvbuReGy7Wclg0OfwA0lNyRmRPK3pOl8iu2bJsbtibRPhEaiRlKeCfSPoGTSJcJXMdePkg6ZsddT2Tpzds8wNR9YgwcZ9HlvMz80eBthlxm8hXg4gZ51aWaWIqCesG+uUjY/h3Ug4MVSSMAreMJHMl+0d0XIgvE//X5/8fXs8svgdlEMKjreFSZ9SQKbOnNxWty9/lbCIjrKWKdyQ/YhWYCtJR4LLjXVSYIklnh98KhiqTzAajNNJIen2l6JUgFMIoEjOGmjnuKP4FXwzNLLBrYY0d4y1AUYhUEIBfFe/qH7mr+u+UyYOH48j+/ID/k8KVijj8RlZ3fLAtahg5lh3SRBYxky6Knxn4xUiImmoY8W2PXF9xq+YWVuoU8fInTkYRahBpRURBVorYgIgKkRdkNGRR+NZ0/FAkclu4vFVkl9lOrzRZcZsfeP5RsH3ZIkpLrwrXwZNvK6kJxLBglKQUTYgHkpeM1yM6rag+EqMkVuK7kNcFrlIgCVSVInxeaV5OXILALxV9EwjpxkNzQ+mI2tQEUci3C7rpcSWiQsS3AusfkKlCZIkASoHVO+zS4R5+Q5oaW+4Zp1ekblHPlqwaJHNFZe75kYB9nVl9xPvMucC/bwxzvrGu4K83UlzZloo8nTjnwgmJzYJ62hNZKNby0Gjun1r6+w2uKxxpUf1Klwx/aK/cno9k41ndB3rdcjEXIi+oSaHrgv64MN1lcjZYkbGyYi6Rynk2XaHaBMRcmE415WrIZsMhbekXQxEHdLRU04QSoM2N8Lhg2ohQew4Xz1UGCCMfrhfS5h3rBIqCPgfy1wVuK3qwKJHYGMF0ujL6BVJC6RV3MLgwsz59I1VfKB8cw90dt787gt+S6pr+3lL6iaP6xtFMvHY77jYNi2sJhwVFxhqw3QFtKtL7wFI0vgH6GX3Y0qsL66IIyz3zrqY6Z0r8zHtu+CZX1hvc5Qa71pTTDe0WLuwYrwuBhekXi10FbdtymHu2U8KKN7TQNGmlaI1xCdSEUxOsiTX1zKsn+4xUDToHUgoM7zXzcUJNF6SIGGXJxhInTVE9hYgQd8RsWdVviFjDciWnE7p9A1Ggkdi4o/ESxYrud5xVYYmSqQQWseI58yo8U2xJ9zcu+2/ki6DZzaCP6BKpafBZgPhE0GAWKKUlqxm/3KOyBh1Rj2/Uf5SkYeFBnpDVRPep5kko6slibpaRQqHCLg9UemIYj4T4wCwj9nLB6IlKJVwZuB5P1NlSTZFv6kpR/428JNr5M/G68EsWIBSj1ESzwGFlzAWhPMt6QsnEpymzdIpXH9hXivZti88tImraa8B7yVpF9rVHKsmFFkXmfa+YnYbSIhdBYfguePu8Mq5veNmRuh7frFR8o3WRtqx8ETeucoTdgnAJ3Q0UE+lJaF1Tt7AeLpyTI5WJqVF87TSqeGR9x2ErURVILNY+k6UkZI1tJFF8xJ+eUFNGMvCwNhgTecgfGEqDaSqKzJAasJlT9hShWXYVsiSClZjdTDGWlAr2rlDCmTJuyP0DyjmqOWJiQFYakQ17HuluhatNFP0VLa5o9YCUX1GNon7OKHnkdvP4zqI+H5GDR77scesjOq3El0Q9LMysjHNkFgkZPKH0uKlHBMEXf+PbMnASkOjIbkuxC6v1rH5HS83uYFGvG+YCqx+4/7KS3ypOccubabk1mafk2aUDjBO3GAmiQtc1Yd1jpwryjiIiYxj55eqZy42pTIy5RlUDXdhzyz3tDOLscM2M/PFCzgudOnH4dSBeAv404HaJ9vrI7XUli0wbd+hh5J7AXl7R4kgKv7PEv7MuO6rGUrYCm+8I5orYvCNqxWsj+KoaRLUjx/p77Gn20HyjX+9JLhE2I9X1iD/+xja/0REp+x3bYUSnF+rbhVU0PF8dZtUMI5TsUQ8aTtP3uFFeYL9SfTiQS4soM03oqOOOvHoeppn2bBEp8B5W/LvB7+H1NHEbFLktpJui1ZpZteyrzNxKVucRseaQJG0nMC5w0hMXEdAqQREk95W2z1TlRrVPPOgZ+fDC8SEh440yR65/vSCbHt82zMqweoP5cGI/WcrXj0zXwEU03EaJb2rexZXystLIFfG4p2u3cLHYbkG7GfKNj5sbpYr8NS/E4Q0lNLW5UWTD5ggHO5BdQL+/ktaauCpCp6nVyEOuOLsTqjmRS4vKI9XaE61AA0lYlOuw3GHdJ2qpSKEmukS0R9ZXT/EFO+3wzUptBvyoyHVF3Y2Y+Z1Le6FbwOWFqsoMVnOVlizl98toWiHVeBz9FnapoXURnUD6mS68c606ipd0tScXBZ+/cle2xDtJNh/RrmVxhtgunI1HBEk3JVJ+QywS5B23+y2+DKR6RpY3ZHLcDw1ISTf9hrArpzSA/MyhT2zaI2J6RfiekO6Yp55X2bPUV9blC4xv5LfIt+tI/jzTvE+EZWE/Cm7jwBd1x8s00vjEHBf8DHbrqOQ7sSiYBaTCNEi2lxO+vLFeA+PZsaw1WUhEDnSd+h4xYcvqnhBZIUSmbkBqj3MJfcpUySNS5MP8DbEaLhr+l3mmujj2l99J6hdmC/KjpA1wYeLaK8oPHRGFqF/otjcEiTjVRP0VW1U41aCXBhcPyNJhk0XXlk1QaKlZzQZXPdJWGukCuS7UAg6VRqmZbb5iigArwUuSkniRmAr40JJDotzS9yJ6lEhZ4ci4WmONZCcseqnY+e9OgPfZ8tnWLDaRlUbrDUKDrhey2+C0wBmLcJLnXcCdN7BEpFKoAroOPD+fWOoFHSf2g6Zzkqu6MedEVQLO3FG7G6u4sZSEfRqI8cJwvbE9vDHLA9LD+x3c9plRgvYrqfoKLhFcJIeCLi9o/U6sLdd6JWDJciYWgxCZ0nmU0ux1YjK/4EVkKwyyDLzLHSkXqjoi1xHiTMkLPnu220gyoAvUi0BSEyi0LnEwmkP2ZFlRpZpRb/EysTKy+gqXBJSGMi/YB1jaFjsO7JaJdKwREtbKEfSFkgeWqBjVASUt2WZCW7hMXyjjL5QYsaGg0ndMbFES37f4+Q5fN2TTYHXL8qKQN4EJGT0oDUqR14bNp4+s4UKlCzad+eO0IuYDJU1cnuBONwy/r+ytZuDGut9wjoL9waOWjuoUudrPrN803cHwKgqbWpJ8JuSAHp/5GG78NQ4YNxBvHxD+d6r9Br2L/KIMblyomx75q0fuF/xmJdd7ZmWZbyPbIKnbTOg9dd6xXiJte+Z20Fz43sgXXU0ZMy0OZzvO8p27bxX6kKmTQKMRDy06KYb6SB17BCuyNnTdgf6zJ4RM6TTPpeVcWt6T4G48AxW0hvOSaPgEjYAmsv2gMWb9nntfB1za87DM2PuCOa28+XdyatmkG2XImA8NS9KsDwO78hG5CIQa+KygLyOcNT/fvyDWH1nPGeckfvoZR6SIntKCPI6kShBKS9u883PpiXIAu6P5U41IK3V1prxWnJ8HRLEEN2JDQqRIDBnjHHPKONUSqBAHSRkL0b1Rux3FSq5pYpdgXWpkWCnzSETgRUezCpLqiYMimxu8t8hQ4e0DcXinBEVMArkUzJKIX2vef67o3AtzkSBn1EUx7zZsjafNG/JypWveUesfWXrDSQfcpaExkbUT5PVCThnzdcXc/4GlCohZIUNmdgLjE1HfI2ao+h1ZJmYWBIo1F7wsdB8n5nBHsN99Bkt5ousy01TTDxDUTMgVizij0w+oZmIoikr+xF56fvea52ZApg1F3ejXnlJnGkbOUWKCZrfTpOU7N7tiRp0sfWvZt/8BPHM9ZPpJYvPK7amizDPqOjA0LSJ3PHmJWE50ZUPKifdpT7XMlPuG8fXviMMTq3I044wNAqt3zH+/IbsGZxz/xSy8R8dOw3leaIeFZi6I5UYOHUt1z3CZeHSSJD+zNTU2VMy1xo6waInrDLlYXoViu7Wk84VQJbJ01HvJ7dySxBGHIUrBi4sc+hW1yO8f8O1MqzR34wD1QDBb4jbS5xvXoedFRH6QGc/PqPzGms9U1U+8zxVv3coPS2FJIyFLYprIobCTBjUFUlWxzhLTtKjljEoVZXMHWVOXkUVsydcrcdCYR8k1dcgfR9Rg2exeyWLP6/WNpyky7BqqsvKad5S4x1ct/1QE+f3ALb3S9j31cIT8N+SfCmOoaf9U0SdH6hXFzZgZZBLsm0j7brg9zMTrDWEzm13FVRSO+YIugmqcCbXmohW27PggBT4NzEPF/Xth/tQT7xWf/JY3D3eHkSuGOd3Y2gN5foJ+RJeVpipQNElqsnG4yRC6lUY3lM9X1l3FrA7oNvLgnxH5xPR3SVEV0r7xnhRJRH6YPX92DVnXpN/gVHu6zmBPHVqdkPL/ofBMmHvCc80aZ1RaMf5Ctj1z1dPLLccYObQjp7qHOtCaPSZFhKox1YSIMMeeGA2n+sxmvGc+HmnakVV6gntmPi1UoqdqX3k8ad57gZ4lH4RgDBbvNL0d+TY7QrnwXBVk3nJ3mXh3iUZt2NiZWyMo3zJGLITtliYNfBUbthdB+GAgwlzfkeWVny4ZfvjKjGFvHWPRqEskhA1XK4lzz1195LK3XOI77SxZ1o4/yBGVC+ngOa6S6Zviw0OgmHtMHohZENUDeb1iufIPquYYEnPVsLWf6XhGHgrlFvCz5bh54mCOiHeN/dAgh5GvQWDHgisa3UbKtydM+a8IXwhZYFOPWEeoDSI1RPuAHM44vSXnlu1OchxHcqdR2YB5RbUCmzeszYJ533In3ilmZR4b6qRwPmBKQbaGojbEoMB8RUtJsHvcupKjZ5UDy+0TrW1p939Fpz/x0gruvhWe7g9QKUpo+dz+Rj9rtumOdyG+D5kpsdiO1llsigilOcyJeL2n6BfOyuClYo0K/7qjuh8RumOzFJarYrw70RqJkA5/DIj6BrUjHl/4b18u6Mogg0aqzCxmnJCkPGDSBkEi50w0PSneWIeBf/6Xf6b+6CFecapH5Ugpij4a0q2QK3DNHSq9cDWWtSl8D+lrTNaospAV1M6grcTqFVe+Msh7KjUjZzBWQP2A2//Mu9Ck08qmX3FV5nr9SEm/YPSVF9HTyFd6WnRs4AqTnVjLAyJu0f4bTreopaaMK9F9X5Z1D5nQFKalwq9XmsMWrKRmpm00xyB5zYbrEgglwTSSowQrKMeReVDQfuVYfqRhoR3PiGrDOWtObSL6hVAsbVD8ysreQZjAhpZbhvZsuHnNH8039t9+5pfoSPGMKIaYFcPyI/F8wlwTYWeIS2LWI+tzjd9VSA+yAVkiOmgqUTNuArW+Ef/9kVZI3OXIcDBcBsFzWQjtBm8WOjTVvDKHZ4ZfA532vOnM8+9n3I93aBs41Q3CN6QvBRFX/j//+t/5NvyA8p7LZeD+B8eYZiwCrTzkhkLF8XLlv//X/4qyhZDPuBTRt4TY1qwycAqZw6UHkynCEHPPHAq285wnuGJppjeqYpC8M64H4v9eWixJ05YjFT0xVLT7jq9jQpJYmhr97nGm5dQ7FiexO8P0+54idkzTA0XeaNzKXR0JC9RRMh03PKUtl8evZBsRQBJ8R9K2kWIKJS7YacvUKzqzop8W1tRQmQVprKHJjloFvEgcraDRmioIcoFTP8AetkqhroE7mZn7mmqp2MyB3X9cSIvA58Q5f2E5bwlpz7vc4+SOmw1sRU9t9og7OMsdFoVae5qdp95uoCSSONKvmba6p8uQnl75Ul0h7jBqRtwSS+NYagVUrHNhIdI0jpstdMJTUkSZgCmRtv6Ns12xaWFbDphHxWL3GKVJbkvB4WLN3bqnMhXqrkV/LAxp5PoxknrD1DiuOjOq7xGaedtApSHBnYt0MhKnb3SDIPsz4/sNdSno64b6ORLcjqx6tEs0y4E/a0PZPDE8wiw74mvL9vYfDCkhphMmrrgyE+eJWgfe/T2zL9Rm4V0KwvvEtm+hGoAJ0V5I5sS6m5nER1w6IuqIkQlZYPniuAwbjp8WTGvwzff/7tOCkhXLfCUIgxSZYX1nuk4wHVn1THqrGMPKKr7RiZGiJrxYkSZRyJToqPKRxQ6s51cWfUI7sHSszYlrN1PfBfR2gxoCyi5MzrM8Q8dEk2oeZMJnwel/S2NMkIhQM+4Nl7efWQqINFLHluRWYlyYQqYSj0RWarfFW4EE5sqh1kyT/4YeAu4qqPVCJY/AFso9Q9yTzSN6rrmsMFUJ8a65DAvKS4wpuDuBaD1pPKCGHf3yB4qwEAX6NrCkmUp6mt4h5QNh2lGmmgdpSdxYY8fm+oCrA28U3hrDvhXILCgPma/qxlQe0L8fce6EqQtRXZChgqpFVTuUXBHrSJkCIis6B927Z83A4fuZu2o+MMwVew64Q4v41mOTIP6x5VSNsHxl/XvkrpJUlxubv1Ycfces3rEiIeUbvoCtB6YsWPUPiLVGeUWzdJjyfRjJlwkbV/YpIeaJ+kGgGk3VGrIONFJT+TvehhmRPJv1K9VsWLwn9zNh8tzKgjZ7dAY3r5iQuCaFqGEnanSxLOkdo1tSpbnlhcrCXglkvbDw4fsQFzNrqwmxIN0DxTyg1S9oBDJrhkZgR41aQdsMTWRqI/SBv+5GWrMSE8xp5iI3SPELDSMrlmm1/OINNBP6oeVPNcyVR98lNnvJcla8xQ1BjBS5JUoHwmGSQKUJhUXJL1RuRqeeYVsjY4NtWvLThnV5YJ8+kk2PVBqnv38I1r++cogau7e4/ECzsTBN2NM3qlPmOv2FRn9BjAa5Ckr9xEl9Fww17jPjmgijRdbvnD/c2LYCMSu+pkJm4tgLtLxgzEI1RPx5RZU75l2D7gprmXDyQDPvWRUMG8kkNTGf2NQrohT8puX8KlDjn0Fk9C1yiwLhNcPSs17vMdnSjt+4/LKyM576XCEphLhFv4wcvx24/PcjOl84MzDsJ0rOPAbBYlf8vWRiT+U1zei5NzVin9HNwLRrSd0WUWuGNlGlyDB7RjugxhfUSZCHO6J7x7QD+9sjtRr59wjh6tC1p7m3aD+SoyeKhXUZmceEnwdkElRDBWaF2xMOR7b39OevuGtGNe905cK2/cZ0fWG7wockac9bfmoicT5SbTXp/Mw4arLJxEHzIq9ED0K3rDYztXvGVlGUJ+01H4XEiZ/I4Q1tJpY+Y2rBcyvpdKKYPetrRnc7ftxv+fjxyuBOmCnATyu+aynJIWfH23hipEWNNbWOFPt96JUuI3cdyp1Bt/h5YloilxVqGfA28NsNZrMlND2qLdwpwzRkvFuwVUOksKoZ776DAfxsCKsgeo91kag0ta1QwmLlPevlG5xgvveEXY+4GbAT9++afvqASo4NDRvdo7dghEDxjphOxHXiVDKunbHbRyotYYo468k7z/nrIwMa/e2AarfMZov77REWz3kzUVxilw3Obtk/7nl4fOLh8ZlNfccP3X9m//ET93f/J92PP3J3+Be6x088HD7w6fH/oO/vWbVkXfeQGuKaKMtM6QW6FJanzJQgr59Z7QblZiqRkcLjzZmp/jvX5gvXssDZg18pqiLbA6twZDzzdkuOFjPBHDzV65XHtbD1jteXhBZnwkvDcpFsTwMtT9hLogkZ0yw4uYH0wLn7TCzwbie02CJsYvYTeRuYpaYIQbEep3e4MBPMSIyOSbf8/vJ3/u//77/yl//2f5OmG0tZ8ZUgSc3l/g6FIKpnHsqeUnpSW6B8JhlBXwlsE4jZo+RIDCtDdqy8s8aMkR5752irgncdq8ys8YJSHXlJyCkjCkTVEWsFsTC5FZt69jl8X1qWBBmENIS7zO32lTZq1rlFL9A+RWLf0g6OJ214dzvMpElzg/KBcrDY9obbGMzD9wu2XjasqkLPnl0csVlgNjOyGGSxDKXlLcz4nBFlRMhMjpoERBlIeUCICvfwB7ruAVfXRL1g3jdsZo/LI73LNB//zjxntABrC8J9RaEQUWGbTJGBKBJlOeDagbzbkoUh+0JJmrHM5HohjANCTUQU3DRV2yMTNLIjF8mSPQ4Yb4n2bWU5BeRUE5eCvV4RKaC6gfaPHW5+/x4XJqJkIQiBjDW31xtqXZHrjfD6lTkVGusIbkJg0GrNeCUwAwz3gd0yMQ8dtd6ydh1tTuj1Ff8uGYunqwxONKxtZN5rymGh/lIhwi+YhwOd0ty6QAKEe+NJPPP6JeL+vBJuK/K4kldJqWtOKtNdJKOqcK5QKUnSmbwU1PWejViJZqDRPWLxbMXC7PeofibFgnGJtXpFDYJRd995+3WmvmWs/kDjJUvzP6mmO3z4QDIrMdbMdqGjYT7DrWTunUbdDEFbqrcbattzrQJGeKLb82mFpR6ZEtTSgDxhV41/TVSfFvIc8OqOqCtC+g+0k9TKIjaS6ZZQ80KjBGNsiVLQDU9IZ1B3MyH8A41SOFcIF8NdzHw+GEpImKnFCkV5XzF/gNvjhFskXb1BfPt3ymgxfYN2I1kVxipj05UX//QdvfcwMn8TtNuadrX8dq54fPyKmM7YMuPlA/kSYVfTZLBNgyAQkiHvC1KckeFHFDNqsZhxYMoO3Wucn1mamcZLSi2Zg8MEj5MOKS1aj0x2h7ZgWghFgqq/s3Z1TRojNlo6EdjXI+2yYfAG2yRU2CMfFCYE5kpSh3fq/onV/weazG3x9GKgiA/MeaLxhjsvWO86fFqprwJVbb/r60uCqyY0ETv9wjj8CVknaqXIIVHJwNx1iGi4pZZTfqER9/Q7gRYzg5woQaOnz6xqz6ZNhBLZrxVLPSBcz4kalw1MivzuOT5pej9xj4Y2M1aJLBsY3viDu8d4UPoDrnwhy5H2739mebohjaESNfJo4O4rYzgi9ZZjfKfljqdl5VpVNBKyNOymM2exQShFtbvxkj3LCM/ZQuUZ/1gxiYmd3nH5PyTXcybYHYvTONnSyoHyTbO6M53RlDEhjSVWAn1ylI3hJicsiV5mirXE20isGlKeCOPCWt1RVTe2L5EgBfXmE0wLcr0hTUduK7YYriHji6fJNUEJspwZg6BPhaAGmmqDTCPEn9lOgvEyUzuNMTXUhiQdchowU0NsNKehkFfBstnSVA0yQxsDSg9U25aXcEcqf6F3e0QQHLIgWImsMq+mR8pfecHxZJ/xl4nHceKNHf2Uqbcz8lIRwztj1lS7C7L3PPoHiv6RcdIUq4jBsd6gbApvYaarwM0Ltr0yXDfEZeCedwp/JjeBbyfNmjvibsAtHXIr6ZuaMClW84Xgn5GmUH4eke8eo49UzQfkxTMqjzYRjKK1kuATmBZ56HHjO6/Zs/H3vM6OuPH85D+jpw0HJShNZDo+UHYNZXmnTBE2ljOOvjOQFsphQE+KSzhxqCS+XbBnx+U9sPtPjvmnC4v8wOdS87wXPKkTBSim46YKJv0VqT/R/aQ5Yag6hbkW2mtBywNPdmX9lz3TZ8VDu7KqE91q+VWdaZTCOsuk3jDfGrgX5KqwWRRZfaDylso6zr7GmDO/rhW7D1eKv8NWAw/OEeQ7+1Bx0xG1jczuzI/XPVpcGdsHhpNm2ice5G98+voz453EqQZGicrfvov1FjiaCpMd6tuEOgTMvSRfaqgVpzNs6z8jXiLqp0eKXFhNQ7UzmMEzS8dP9xF/2yCDwspEkIGkIlY73CxYU8to/05nO2L6iswKH2t0bTHqu9jqNRQ+7FtWu7JVkrdJ0dcDlayRVeFo9yDfqZTCiZlUVu7d9/7Hm5JULDTyjSg+4fWNeQwoUxMRLK5DeJBiw8KCWjN/YoO27yxULFNDpTym13RHgTo4lHqDZMgLLKUw9CtdKMy9RYgHxHxiEJpWOZQ9c3u6x74mbmR8gscuMd4SZraYO8ExLZjg8WskF0UVNuja81YfUKVwXi40WtPGmoUD0v4VpCWtnq3rGX1kffAsLnEnBdf9hX440A8ZWXvmMhKjot0f2G0PyPT/ENcfoarR6h4xrEhxwx8kh/SBKSkak1lWR5kN49UhHt/p1sitViRRIZOFPFDixJh/oqpmSA/k5YUka1Tqcd6QVcW6SMbNGX5VhCmRDh1KTJzFHVsTuLYrm9EgQ02qBcG/8C1e+KE8k2+SalvB9Aoby/z+FfNVU/1BQ14IC8iy0L5+5Es6sQmSKX9FlRlhM5TCGCL2KzitWeeR3P9IlTTJOTIVtt1y99SxbA9oKRElIlFI52guM0YvlPLKmnqCWBn1lmZtEPIVCFx8xgWPkYm9fCR7zywjQgaCPJLDJ7IImEkxdB5RRhgkC4LQL1w2gVbBF9HglcKEwm0aaN0DJQiK1HgFEUF47Tm4BdrfOSrF3Y8zy75DnirepKLJIJc94U7QceYcasgFLY6U1aPsDnwm2JE63VH1G/y146VtaWuLVy12L2hqS5A/8S5n8qRRJbKWiaI0MWSka9BW0rdbQmooYqU5J6afM3owyGhxC7h1g93cyFET3yzN0x3X8YTVK3WMVPGKKokYgbgj8IbAE+QbqdsghaJPNWUpPDDyr3hiXJjbwpuCszzzqb2jmRryspJNYT0k+uM3dD1AdSG4O/xrQx1q/PCVSv9EUoZFarb5+6JS6EB+DMhUMzYdm7Gi5JZJjmgpvuNUhReU/Dt66+llYXoTuO076hCpR6DSFB7pnKJ0G153HddKIvdbAivcLOHnivSnO1J34F1Dk9/onCWFDUN6o4hMFJm7zYLtF5oqYqYVvhkGH1mcYRURORfkxeMDGD2hqg2eHddaEfoVTUAYTxgzblMzBoOIHSd5oKlm8ilhQsR2AYQhWc2c/0woNXFzoeoUUpyYrwtBLnhR2PUr583M7UVinYepJfoLXfV3wi8J8xo4NjN5UJw+K9JaSFJzGjpi5RjTAylJnHin7l6INvOtF5zngPga6P46IUmsnWOUjv5FIk6KgUySCzQeIQUs3wu/465mb2q6x4J1hTUVsgoc5xrl74nDBhlG5GFHfOxQD4JL9Qmv94zqE3n9GS0nVnGGJmEeNixHw/hV0m8LzC3J/CMFh65rKufwk2VaHScxsUiNkx5DTZEtq3xnKpYsMqm64miQUpFEC/4D17AliI6dU8yV49ZPXJ1Aekc9arQIzFqg8DQzFPuG9O9IF/Dt9+JSJQ4oGag2NfIa2cVAWVZ8eKGcK3w5gF/w8oC0gqrWrPyRUf4N927ooiHrldlLtOyYm4q5vXA2E7dbZBIB5xW7+AeeNiNRLgTX0BfFus1k+c4YZ0w7s8s7GL8iGLmJN0x07LQg3bfUQhHXyDIrhpwQF4Mukg9aM7lAChYbM9vrv7F794TUEGNN8ZayZrp6oS8VTiiGezjSsnAguIxer8jzC/nbwm1fCKc7fPuELSv9pcbcXYluZGcyVzkQK8/MwE5AG6FOE5+k5G7VrApKW9H5vzBNkat/QzFy1xaCyFzChSS+oVbDsumptgWnNFW7xR42OKco95ZYBOm2w3xV+LNFrAZpK8SrxYUTuZGsyfOWFi6HllwEiMBrWVDVHVbtqUuLHCTN7kwnC3P1hmxGrIP7RmF2K8Omo3LzdwNyGVnLZ8yHmaorRAldOeLMjGu23Noad1BcHgTyhwsPpaIZPUVdKN3CEi5EIo+95H7zEenvqVzNnezJeDo50FS/0197nrknzjX2wWBbzQd/Ru4sMv6Kf5jwveOiT4jft3BrObs3lsuNS3Pl9v6FdHynnt9Jtw3P2rCbt1QFyts9ajHI5YG5+4C3K2OTqZ8ij+3A5qXj1G9ZneTyW0Qca1S5oxMj1dLwEjbI3R6xD/i4MPQdzTZwvK/ZlhuoiRBeUdKS4sBYAvYbXOeB++7GD8Iw8yd+TQ6/zpjfHKaHJcNGdqxJMcZX9tcLatriloqUnggUxssr4rihqX5k3Tr2/7ljKqCPPzOsN+5Pkk05k0vFrW9Ybjdy9kh5D1qj5jc2ObCMCbF9Jz7+K2/VFdxEtgLxc42mpy+GSb2gb3t2F0V+kexvNYNLTOFXbiIzizNHGSgcEeffiHXkouBD6zl8yegM/lYxVjcGf8B/cZTYcVaZ7QmG05kkO7QUHNov3CvJxX9i7X9hczuTlysi3xiXzEUJ1ocW+zBh42dq2SLcD4ggqJqGu8uFxzEitWQ4OJabpQ8RkzxDronOsrMrZdwhTIu4k2zKwnJJgEBON3JdyGhkqijJMS0d6ViwwsLkSdcZQqLfGN6GjvrbBVMumPpKng3xi0aOHXlduJ4rmCPFOVLVUUZFowJryESp0bLD2YmoDxz0HhciSSyUuNAJaKaCCJo31XBsBeNtJOKp278T3MIaBHNfERrFYjZgJQZPlwztUvCigqNAzQkTbvw2/41z92+EmyBPCXW4sFkzbUzMaeKw35B/7MnrFTWcGFlY3ZlGJmI3sKwbRPZo7fl06QjDQpCRxoyEYhkuBX82xEPGtQve/RttnlGXGvs5sVLoDiNat0i9oeuhhAvKF4R4hvSIOmXE7XdkKlAgyYZL0dgxcTNXknQIbdjfLdS3xE3eYfID6ipovaIUzbx75JYESmtuS8awQiyo9AusNSq1aBy9suTWspgM4hvGX+lYQUrqBOIwoLfg3IT60PFj/weUSKiPBdmd6TeaPit2u4XWOs4svOeO2s682JnYJyopuPiJKR3xvmB0QGaJkVfunm6ILPCxxawLydeQBHkqCFrK9hnVRISYUf2MuhnEpSI3/86oN6RS80U4osgYOTPrgbRolN/Qa4HSe9a2IwdwoUZVFik08nhPfVqQVMTS8dgLGmGRZqYtAZkTD/HENAc2EZK4oZXnTVnyQVFphxARkUB4RToahL8ni0+U+QfO90+oEWbxRnl956ReULsjk71RxInHKnCXR6pzi9MaUf8b6Jl8d2SSETVBCiviUricL6RpIpYWnUZUOKNkJCNJqyfRfkdjdwlJhpwhD/StxclE8QvbWTNv5+/AlJNhCnfo4pBCIftETjPWrtji0WFlEXtkdLRzxHnoUmZNM0vaIIL9bi/2Amkrju8KQiDvLCca5DTRhcyC4BYiSiqq4li05qY+sIoNi9hw0xCkIPjEWW24VXfkAHUqFM33ornw2PyIyC1vx8ylPSOOheOvA2Z2zINAD0qxiTWiGhmnLbvtA2EJlPErinvmceXa3vFQbmzimd1q8MWwLitSJ4qzvI4d2wb2RqLrCbcxpCjYlYp084iffmO7VmSxIfktKTlKJWm0Q4gtzkTe1hPJPOKkx+nEm/7A3ThQVUfOpuDOe2K7o73dKNsrMv4I30aqreHO/Q/CpeGH7Yq/VMS2RTcvmHNBL/fExrCqjGDAVQ2b6i+cpn/msZdM2XG/RPhxoJ5Xytaydj05fETUE8OdZhMjYdlwuCZSfSXWGtFqzHzmikXGM81RkO0JIc78wS+0a4d++hvzw8+oYGEtVJcTsxvJjwr52uCdZ2MkcZoJaiLqls/rhvssUCahplea7TPfDoZ8Eej6BTUIUqoJeKS4R2Po1pFFtOzaRDQ91XrCuZZbSrRu5brcSKrHHwdEWRFzxxwzSiWuKlGzEFSDFiBLZg7vOGFRfmBua4xxyOV31rAj5n9nioJsPO2gGTtJFZrvcYMRGhTm9g5KsTYbTL6ghu9ZUrqIuRxYciI6RwxvKP1dCLZYx2bMFDuwoMi1Il32NIcZvygooOsWc5zxTcKoFtn9RDtdQBqupkfPiWV1iCpRbobJrihZ0eoF4SJzW9CrxRiNXBVrkbSXhveqpU+e25yxQhN1C75CujvoLCH8FRN/IJWIjwUtIOgT2S7oSw1tS7AGYUD+0bEuNXPVIvWZ13WHkY5gFfH2A+YhkFRATy/o1WKbM7b7gavaIIXh2g3Ur/fEpxn5ewX3geZuJKxX3u+euBL4s2qRQBQ7JhloZcSKmhJHNmZLweBfR6btTxw+e8ReIk6JLCbaNNOKe06c2emVIBONbgjRsdorLVuOQ2Cra2QY0F2PVYUSvpHqDeElkyjU6pFZGXbNK/NSc70k7OoY4hlrPoFOxHwjNw2qUQxDzT5EqmS4zA11cyLMV6QJ2EZCUJQqUKWIjPfMIqNyRGQDcouQmhszQmhSTGxLT71MsBPU48ysNVpYpGjwPiL8G9Y/cOkU+b3Qi0SpWqRsqdMNSeH9TbFn4rVtecYQ7K+I4cgpdqhhJpQt7WPHPICqBG3RrJuaZs1oE7j1363Sm2piniW1VwyHQl15fDDUe0F13nNTF+wZzE6Q9jXOHTnHiew7Nj/WDF1hnrckP/NJvbGZI8PmGWEkZlujiya+17TLGZv3nPKJdtwi7UCna/42WH78cKEsmcu3d8SdxgXPo3GMux/JpZDHwANQ8pXVNnw4NgRVo9eV6+M7XQHtGp5Kz9iNtC87ylZwMRl56ilyYW8jSmbmqaUWDeZFkZ8WNsNE3u+52htBBGomVKfJsWU+/r/Yb1aGa8a/XWkDjPWNftCE7T1y+Z3Ud5hNw/pqIYKWW0ppCaLiUP6C3DxDUdyFiXldsatHhXuKzdS7b7i/9+h6xdydiOGZJw9CbtjVN2SZcRdJ7CvkMfKYNUb+mfmYWbrIst+wewkcPhhSXBGlYxQH2p8GlD8gGUjDxNy16H0i+gHnO5qXAH/IGFvI3nO8WoQttHZhVQExHTleCqLfE5ZA0wh89jgcWhnCpOmlJtULPlxZ3Q7dqO+bw+EF42uG5p5yOrNpEm9RUbU9aVOjpoEfQs1/P60scabigDYzIUUevEeknklrrInYPHITjpIHzAouzMTJodLKrCwfxDvvXmGaLevs4XTA3DWgCs4GTLxh1oliOi6uYSp/ozjFJmWiWUE5bNPyL72nr/6Z2/lGu8loOqbmjWr4CSEEbzkj8heU7GjpkczkGc5KsrETo+qpygihoP9okWdF+Xom7les6Kg/SYSJxDWTb+8YuSO0e5SaMR8b7HEhxUQwkfIaEREUO4IQ6ODIXSJ5h5o+sODYOo0WN3ZOU9TI5vbMWaxkJRlKwyAE7nTD7O7YdgupBHb5OwlnEp7oHV2jUVqikoDyR1KBvMxUTpMIZLlikIi1phaOBYHRM9FFZrVl9IIGiUiOpArZVLj5BFfB9R3yhwHpauQ/vpKPFc4IvGz45GGMI5gN0W9Z8j8Tm1fazx41GjZLRzX3lFiwBZauobjAmmqcBaVvuHjDZ42VDTf/I3L7wlhHov0Bkf+GUZafasH/SorqNpOaFZUlL/EzYhBEAW4NlNqjtKETii/DKw+bRxZrYLX0wrKUmVR2LKnnqk/kolDhgFCvnMXMT/XPlNLxQdzQa4uSCZuBDNIkTj/O7O4hzYV2vyJxvGbJx7oGl5jzSDKK/dVTxg8Mmy84cYCDxocGd6xQYsZpwygVeQvyrxo5/0rnHimmQAzEekP2Ch9Gbv7IspzxAhAbrJ8JsYC0GK0RSaBzJuYRLiuQ0dEQ9EqK/4ObqMkpUsUj2Tco/871ZtDBMVQVWUjyTrPaTIoRmTdsO430oIQmBIuyipeuR3uo3iu68MpRrNxsjRSPhCaTY6a2AbdeKcuIXCVXIXgOnkqAWjRPnPmLVySTWIVgm0AKCWWhOb1z7fZsVk+8beFQ6PwWZwJymZBdE1EigBTkxuDWC/PmRt5usZ1m8TPX4wth3RCrT0xaUVtF9po2ScR2w582Afd2ZPU3WDxj9QQzIAyn+kDLP/C6PlBmR0ieyWeuIXJUE9LdQFls/omDrmiTI6SO/buHxqDGjq3fkbuRlAdCNVO5TyyTQD9Zzo1EOUvTH2BV3KyncglRDEtt0WbBqpV+8gylxpcBEwQPaSXlM9n8HSv/hnoNBP1A7B1LAKM0ayvYyxnzdiNXAfenN0IjKNXEIb+S9vn76dhZyrZilX/GqT2j3HE+SKbwTDUX0COpOlN9+Iaun9iELfOdYOP2fMORKsdZbBk3K9K+YacRoyStc6jp79ynC+b4yvlyIPPMSyz87jZkKYgvmo2sueMvzF6hg6BadhA9KtSUk8CqR5qSUZua692W4r7rvTt/I4kXtLQUDzqPTMuMsw1BaFLzkUZWdCnh1SNSZ4TQqHXB2RG5W2nGwM0WZh1p0onEC/4hk10P5YIvkVgaiIY5fWPRBSEjJRTSLbOOK2kuSFVBeefqBtZjwzJlGmnQp0w0MzmvcHPEumYsklw89ckzmIpbWFiWC2J9JTuP9A1rXdgah2kMl3rHe6hwuUZcHDJ+pzC86Bu+ubFXiiLfcdyo5YVHXyh8xWWBmUD4O3T6hdv2LwShWXvF2FRYc4d8ugOlcel7yfI9RmzaY/qFIsV3qZZK+LhwfJwouZDWGsUH7nOLHp8ZhondZkO7rehthz3AyQSa3Y2SLDFsEOFP9GHgH+PAHG/c/uvK2PcYfQWlKFoz1wL0xKIW1m5k1wb8hx1vdUa4mhxfKMViBdS3LUuq2UTNssyEEJCfJ9LN08lXljyzGoM+B6Ts8TwhfaTSO9o2IOwNk8+E5LkEx7StKEbjxgo7DyijmaxGCoGTE11ZOTaBqBqykSyVoqokVgnq447jLRCqFe8DPmdsWcmLwGsBQuCzRbBjp/fYc6HTEbFpmJdCjhXWn4lpoKQrWjvitx3rFcRJs94nsJ/pmjNlKphvjmWtaHShbDLtpCnXQgyfUL0F+UTUB2Y3oi+/ktqEORfmsbDIv+DWBdGsVOoNNoK51fTuxC05TseOKBasmTDHz6hmQFQd57pnOhfyEnnPBmMfqKoaOQv8ciGfBJ9eAlO1R/fPCJdJQvIqYV1h1RYagXS/0bWWi70grcNPmru7lXHt+VwF5EdNayxml3G1oh0N4WowjWONR45rjUgGvd9hlKfqMturx58MQgg622CPW+YnizEVtlQ0aaHT7+gpU0ZBtxUopWh0pp1Wbk6xRskqazbljuH1QKai05nUzQx/rQlqx7R/ZLj7ldTB5/qR6fyCeWhYo0FMBfFUUHcg7Y7OT1SVQfiGcE6Qf0NNDpsSx/6eRGIOlvX2A/OnFb05MxxfGewb6ywZq0LatCw3zfDFcr606F0h7Ssui8Dc14RDovs1k6oH/LzDmj0p18jDb7yZI6NbGYvCbu6p24psBabumPuJ088TmQZeG64I7k7v2HFidQt5iIxuz/a5pxpvOAx+MeTLFQeE3NGoHv3miPITqu6ol4TJnkRirCTVzvGwTbT6gFxObKuJsumYg4Kr56wkBYcZ9vRxIJHQSmD6SBaeqvrKEAvLEqllJjvgpClLzdmsvDWJZBJyainGoGSFLhuuSiJ8RJaBPF1ZboVL0+MXQRNnrIHK1KxGkWyDMANZLqzjH7kpjWkPCB9ZfnPELy11jJC+YvI73TcY3h0qXVFaMWvYOFChAfWGLkcUBcPEtJOMjxV+2rAooIBJluwDw/YOP3wi/Uf+jqc8Kk4fGrKqKV4hhECvE2MMhLkQco/PV2puuD00+0yuBD5VzEETzSfmOhCFx6wzdo7c5SPNZkM3S8bUEr465OlXfE7UshDWFR0GfNJklYn2jKkysYXoAmFuYT5T6SPFSmSnGRBccyaGljxG6vmvmLfPiOsL19Nf+H2/sN4S8SlR/kmx7VpyUYxLpo+Zzg04L9C2h67C6AB2hOFGQvDyYLltCnOCSfH918HqCyIFil5RXpJyR8wHVCyUJJDR8pYL1eoobwk1FiSaJCIYQSkKMeyZnKLzjq616HlB3CbUWvAEznam2hp060k0SOUJ9gshCIrMmGlEri1mTPhFkNKWXhmSluhgWPMWfCTGSFIgBcQ086mLRGF5K47qGpHXyH2MMF04iT1O3lHHR7I6kJ8NavmBddmSyLzXr/jK4wt8Xvd8/MsVNYXvF+p8R/I3kBU2GXTqkXJGl8TOVHy6+0RKGaKBuCIWhYiQpKXMM2WGkrcsqyUrmEdDuBvY6IEmJKJdCOEO4Ry+BlcX6H+n1pIcE+n0/Zk9FUFBcBKFUUlEKchq4crCP1hQbY/ynvyD4bx9I6PolkwX3jBu5hISS3PgJDVrPPE4T1zlV+YlwKc3YhfYKY9OjpQTEZAIwnxHqr5bndveo1wFf71Sq1feY6F0FfqUJP36E64aqdLMN5Poh4bSWnJOHOqGoTKsSjKdI43esTQDwo2seoNBEfPCTViauacxhl+vF6Q09G6lOW2QnLnbBtZbYdtM1M7T6kA735GMRSYDSlAAq86s2lKWQFgmimnxqaG+NqAnGt1Dnrir4ZuoqK1FDv9ElkBJVPmdtWhUaKnSwKVViAq2S8T6iM8tkn/AlES0niLu+Kocj5stp6PEbmpSeyO8L9zfPxCWCB8iYgX5pVDahBOOZb1jfXmnfdZc2o5bfYT1ytVHBgmHMbM0ghwz4VXAoWcTauZ+5Hap2biO6yuU/ZVsB5p+RYeefBP8oivUNPOPl4nZ1LhyYLeBE4GYI00+sIsZlS/Muysi9XTVB/rbr6jrH8hmJU8KE16R9wEGx3u3QfSFxyVCV7GxFSFn2tIwqe/G4LLe0SXBIiSyrFAEYkmI+UhQLc0KWgtyn0hfOtZtpK4qLDNrSYgckUYyZUuQFdsMubQUFfHhRrn9GReuvMcDoZ1o44EswXkHOcCs2QhJ3mesd6R9QZWGJURMC36ATRLsc8e83rCbFqc0NjRYcwQ3szM1UDCyQawjPk9kHUi6Z1EnjAA1LthR4LaaKBtmPqPqZ1gDCYuqA8l+V8SHMjIugvuxsLvfculGKtlgEUirGcdAcJ4wb7hTgbFUVBKWtGAE/BgXpotis6wcgueqMnUGP63kJnK7GIrdUhePjAMlN6xyZcMWXY2Es6DpJwYbkEoyqoXqqyE8XOhLw9hMqOMT0UE5HSjqQvfmeO3vqH1hjYH79jPtOXPzf8D5v8PliMn3OG84bQPbc8fQfGHcWp6KRWvFkn7B5Y+gIrHZYk4Lg7qjaW9kXVhiw9ub4IPbsjOSun7hsymIvkfEC4sPZJVRlyfC9opfN6yzoyVTdSPTaiGfWYzDHUD9fU/MkRIE2gSEX9DbTA4OHypSApcCYqhY6hsGQx08tZdkkwnrB9IpsRwSNTProaEdJauCdv6CaHtQR0y9Qt6x6wbG3EJRpOaN6RwxxuBLpGxW8vmOXamo1IaxXkglsrqVzfmBKG/Y/MzZ/MavwfAxCbIxVNVIGxTNtWEQNeWp5hQ1ZXyjUU/YoaZ2J3LpaTizvt1zM4q7uWY2mfCPDfx7RD4lqtozXx33cWBeBMOToQ4Hrn6kmhf2ouI9dnROYb3i22Zl/1JR31u+LZo7pSjD73j1J3btK8oH8vKAdJZunbjsB7q4o8TMyRh2+4hYFGMaKX7AykcWP3P7KrCblvvqIy92RY+ZOEfs7zPrQcF2g10NIb3S5YQud2g3E3+fCSXSdYb0pwtbp8m+Y5z/9L23JSR93KGl5FIksfXUc08tvxAq4HhACWDcQW+4Xf5Erj6jexB55Fb29NOZy7vkrnpG7mCo7+luC/mToo2KGGa0v+PlPy2M18R27BnKG0kW2Ff0i6B6+MoX49iGDkvNNgou44Zzgn0/k9OGcRjZd4K0tLw2nq2wDE3C5RGvO/oicf9wz3T6X+j1A5eucFCSXAzJjGghifOVYvdkJ3ifIu16If3UY85/4yif2exb3PVInlZkdMytR64eozJlD3p0eAeHsKDazGQuVP4Lv/7+mZfrMyEKXFoQVpEXy1oH5uXfqasNdU7M6RVn9mQX6SU0NiJShLThjoq3zzP9w4KJWwr/gdQrwmwRuxZ58Zy7QlUCcrWE+QVue6wpiKJQ0ZDiTEKQ5ZbpTXN4KAxXyy1fqHaB5TbhPjjUkJm2Ffq80tTv5PSJvDryNLCqjnZODLJHCYmSAmMvFJ3Jq2TeLdjZc7s0dID4sPKu91yipY8gF4OeE2oWpEpip4yNC5keWxzXdkHFlVrcmKRDper7DLC+wmLQrLjYIcyKToJVe2wQpCni94ISHjDJcFreML3llgVkDVmxrpE6G6rgMf2GW5opeccaagSOdBZsa1isQFAgaHJ5Qj0ZxnGiswfWsyVFzel1Qz0Ihn3BdgMb/sRt80IQnlJGUhRYDfkWOFw7Tvsrr+cz+/xn3s5f8fXCcr8wq4l//Y+/8nz4wsvllcOhI9UXhM54NzNfJ367fqX6nLi9H4n/9DP6WWBeJauyzLng8Qx1jw0WhaApZ5ZScVWKq+hRvLFgcG8bLkmwZ+BD59HSE+KBsfYIB+JRIMcLb6Yg65Umz5ziSgonkp7YtZ6TahHCYcp3yIhDk1NBx5UPZcE0GYbAzR7R7UgtI0wztjIcdUCcFDs7MIRHgjY8jX+hav4FUxRdL1k/VPAfJ4Sa2KQCyz0Yj/QT2JUlHWg3zzz88Gf+7HpcK/mff/fksGdtF1IphCHCfoOKA1Erqrs3knsl9QvbS8vg/sQ6XRB0lAZUVTCTYS2BmR9QSZDsylLPdP1Kvu6x5oU+ZCpdKGHmJlr+SMtxfmdWC5dHz0Zr9vyB8/WIOc2UqiBnybgsVOKCVS3OKtAtdaqhOpGpkPmejS/k/L2PUgTEUtC1x7SCNEzIcI+rRsReE/iRJgiS9Oi9jORt4PjSsO0GmnnD2teYa8BPL4zVR/oc0c3M2q6EKBDLPc32Ff3yC0N3j/Y7Nk+Ger5iAmxXS7VL+P+w5B9WBlPRh0K93XB7cyz2V5IC0xXWSZNy4rYZWdlwtxa8uqE+bODzlaud6R81oxGo14BUHQyCdVKY3ULlI3kKpM0LItdEdY+NR6zecJWe3QCjqbkJwSgljRi+n626DeUSuK2P7G1PLz3l4QVRPlAvkbmvUEAfL8S3iU7u8J/2vJorH70nlhnx2FFOX1DTP1C2NW27sKmgUZHeG4ivKK0odUdVF7RyrCROzvHxAr4UtuqOKo8MqtD5K+axxYUzU5bMHxRatFzfIzFpRPEIm2jHmiSPuFQTTCQBvwRDo/bc7yWCwGgn4jHRlg1bB8drw9OSWc8Vo5w5m4kxG7rYUl/O5L5CVYUwVlT5MyUcSKwsRiMaC8nCJlKyhHgAt2D8O6VRrMkRjAKnqIPG1J6eBXEFL0dspRClpdmu3KbIXfJMpSLVkK+CRVm69ca6D6S0w9xGRnVHz0ocNXkzo+cdk8rMacLICj1tCXnmWx35cQc+VBh9j5gS35zgnCN/joKFK7u3J+QhIKLhukncdo5Yv+OUohWBPFtKXFiCQveZ43yFm+aBimXXcFAJaZ+5ak+jIvZ64Vo9co2CDzGQW4lqJhgr0jxxkwn1N4f8QbDmkbBrWfoOn0feQ+SPxz26HZgtVE6ybixq/Y336w9srGbWmeJWNIWVGac+YmLmlCZsrElmpThH1hI3fsSyktTvpPmPlM3A54tAy4LShg+NYgz/xLudOJV3ZpNIXQ3+xjueZmqJO0i/3/HhU4dfJNdQcS9bzkWwmWdSX5BW4+TI8Faoup7SHPmhdYRoqBKIpGGe0LIgqwPpeqVyF667ivak8FWhEZF0O5OiB3tHap9Qx3emzYT7CG+DQx0s978oUBajvzBJTXYRowuJDt0LZLDMryO6f2BqJvLS0KCQ24yMI/lsqTZw3K9sq8j6raGsmuXpjTI2pCqw9Q3q/US1vSeXPbG5UVJD5QWuHbktK2v3SnM80Of/wdf6/81DicwyIkdF+fSK85aPpYJzjesMOhdUB3IFuRTOt3cOQlDOHXNd0HczQhTq9yOnXYdoMyIvrHWD1IGKr8Q/HVinV8L4B8TbEf3QU9pXHtY7LueVl7Lhg3RMTlPGmZdW0O81dwys2zv6s+fDoTDFxLSJWHvGzxZ9eufWbxn1zJwNj9dCzDNJ/43N9QcWEvVlxrs76rpmLJY7MWP7lXBxCM7czzs+20C9ai5/nBmOmu41c18dmXWkcnvE9JnW7rDScqkTAthRI25nQux40JZqHbkm0PeK23uBUhHFwNKvDHPk4fSR04Ml+RVzM2z7wlFWPK1/BEAOhdaNYBSbP76w+sCtHUhnh007tJwR0zdmLYl/2LArggdviFtPtX7B3DVM5w6XLUOsqJoTvk7Ibwbj3tkXTyU8Kn2g9orf2oqb+IUyPfDYjajU0MuZskZ8gi+V4v6oKIcN18uWOz0iomUqNYOu8Pbf0BvFeFOUeOWDlszGYi4DsukQshDGL2R2KFdQPnx//tuazkqqlwtSFbS8UlzF56Kp/tYi2PN//tM95bGhyIFDfv7f19oHVjlQzR6lKpY5Y8rAX/793zDLV/LuGR93uOEKcsRPkb4FkQtmf0KED3RTS/SKMQa22tDJlTUIlJ2wdUtKkVjdWLNlIjHcJQ75xsvFw52EPLPfKESX+MYdh9uVOiSyqvG/TyASKh0wqmbpEnfxmWXxTOoriwncR0d523HdDLQ+QCnMesHqHXfuN4y541Vr7oSnahxyjghr8H5F94r1S01TGXK4p1Kem/dUKuBdZJ02aLlSmUx+0YjqwJRvyLFDfUygHDFYsgzE08x6v6ep3pFKcVkNVSuJE+yqDlkB1uMaS3ET6gxHfUFTkHJFGYMWgWQdoLFTJg7fkB86iiwwgHu4ks6KNine9Av7WmF2hXES7K6WaCu032L1hBI1ZpkJUZBlYNxeSVOPvXm0UZjK0W8FqrGsOfFynhnUlmva0UuJWTpE9Ni5x89fWZNj8oVFGqKymL90IAoXcePpVVJ8TXEapyJ2LZT4A1F9xaSJFL58j7XmM/32kb8tNaaS3KhZoyW6TJMquN5AQC+fqf2EeKkQm4AZE9OxwhfNos58XB4gT+TyHbl5lSOXQWLZsM9XyuhYzDcG3+OqHfIt81bf+FQsuxVKsAxxi06FqpeY5p9Y3gKigHxpmL5VXGtNcA5x0YRnEENNCgrmGiEzLiSepwP5INAlIJxElYgIAi0SxTaUFFisRlaSeRRM6SeQC6udKNqiD9+N1+jAOk8sxVM1GacEa8qgErWZsElg84wqimYSDFtLXizdaPF/f+fQV+jFcAtnGp7JeUAhWdyZ1O5JsqGx7nvUSQd07AkpYKzGeM80Gfx7i5p/RcmAEoJSQBVBRrHOhlPb8bN+5zpLsj/xLu5Y7JaPx4xUS0DLyP6gCOqM3aw4G9jYgfrpgcNOsTYLVxnYHx/RecPYfUdWlfYeLybO1pOPEXWMjHbFbBMVjvs/rth2onKSoV45XRRTGXEpoYNnOo3EfiZu3rH5Qj2OrIummjR6tHQfGg7V7v/P0n/s6tal6ZXYmHb5z25z7G8i0jANC2KjCEEoVFMNNdTSJQvqCAKLBTBZyoyM3x+zzeeWn7Yah9ew3Lvm+zxjUC+J7eLRTcGt0Mwm4OZEPkd6r1gbT4FnKfaYWZLDBiccUu9Q+5FSP1GIAuMLimHHIg7EYULbAwfOxGLGlxVjeKC7CKZrphUNRbywOIsuH7AMVEvgeN5hMiQX0es3AU7tvuDiwppq8mpppx6hBXR3cLpDKU8IgfDV06aKo16Qj3DfXGjUikgZPdaE1rJMDTqudP1M2R+5zJZ0HKj3V5q3GVm3TIVgU9U4/cLWSjZF4l6sFLpmdZ75dUEsPX2xRUrJJGt2+zNDuvLH2wu3WqFnx7aIhLQiynvEfGScBEobJv/AUiUQR8a8J3lLEwP5VQA9puhxG8VstthY03KmDhNZTRhxpQkLyicWnSjMC6uISCUgL0yXDc6OlOITfeFgFxCXkbXfIG2FSTXBHqnqTMwX5tRzvDb0SRDdwmsWDOuZXN3QdeBDAcJL9NkSrwKRe8rh3/jQO5ZS0dgd8j7hZCbGlrA0KLeidEPGgDeMcsvYSlJhIEqKuWYjJFlOOC+4xZWp8DB48hyJ3RsOVWBre65bRcwKXAtpQQjNXjRQSxgKQvmeIp9Qp5X1SXC8vedcjzC3vPyroVULx3zDld+xrQRmvqKXZ47PhigWQtOCPOH+mNisJTsXaOyKMgmlvmKbFzAT/bOgqCJq/Rsejgeaw451qnlZV4appH6JfBw3VIugvO2RTWAsM5M8MfgL8n7DJGZynbnXkRBLmiKStx4rRuZNZqXELAahMwjB3LUkDYtJyNAQy5pRSBbA2w4tP9KJDrbbbzQHeWN4c6SrOo5pgLxyUzvkurKoE9sisZ0S9t7hDwKntmxVZhuvyBCwI9wijH2JkQ3u0vOVEe1XfBbo1gMGUUbip4k418Q/zqR8JNQF3fSBvKzk5ZWT+Ep/3PIyZ+bnhPErNizM3ZV1Vvh2pdy1rKaG8j/QSYFnpvELVRtQc6Ycv2f/c83bm6X+3TFWnsL0zDIQwsJd9UxIR3IzcVGOqRBkWtYfSszJcZsV0o5M8UIzzECNK2cK/YF5koh2JfaZxgqm5Kj3jk3RYtqGKhWsTce9LEg/fcG+eOQUifbKeHGcishX/p7n0bNK8HcLPivirUW3M5kXgsucq3dMu4LU75G7mt3mid+1phgvkDOlfku6N8yFZ+meeBwKXLWyXQp2bwK70nL1bzmXD9ymDdPtCO2eaespfKKzNb9kz0gN3TNP5Ug8zIjNFXvqEU6zly+02pCpeScPfAmBsj8js2Pzp884P2P5yrIRFNKz0Z/x5UrewPZcotSOjo79vME2I3oR+O6eUnT44UDKFb+qyOnrzww5gdpRzxNT9UqnTtjFUl93TBVcTGCoAmf9kV5lnuzCQ/GFVmzp3mbWJIlVj3vRZLehPE18FDOquyB8SdstaH1DrIExfWarezSSWhbUCjY6E+YKJVc+FZLh+RG1wEYeIFvSahBNSdEcsarAvzSkw5+IssfMifLScxcC9Y8Dvh2p1h0fTcmx+Y4oapamRu8027ThsNlj9w3duwZz/wbRlah9wZoLkvmd3PYgOqpFkVWJj2+QU8PSR4JQmG7GlRHkSA41UUtilsRpYjWK2R9IsSagsMvM8nTkLuyoXywz9+TaYOaWNkWGxvBabMmzRzQd3iomtyO+TvS3wM1fWYNmU33kYWxIfmR9GEg5ocWEHwcez3fsf/kJnd4i7YbCnTAmMsVXmsKjyJQHz0vtkEoR15lZw6XUZNlQsKWMBqkcutriFbBxiFJSlYZYSabQk5cviDFy8zV9ecCkL+ghcZsiIZ4Zww4rvxmQLR4ZQPsdqysJa4fGsRaS1WriIBlPDW6JhHxBOs2aG6qUsMqTlSWyJxQzstB02w8I80w5NYjqBHXDmi54rTA64k3iGmuWjWYuS7ZdpqoTde2xL/9KsTiSsFirsKqmOtyx2XYUokTGC14kMjOucihd0B07du//TNV0jOqZqfYslIj1QFAFQkAzepwYwUqKamJdD9S5ZS3vwQTi8I349Jgly63FPINLIyIrjPLY2oI6E/1IU4PrMl+XgklbqoOkTBX1fMQIRcolKIkGTNhQXwN6XnjZvOelUhTrGx7NAesKzN3M4VBzouKphv+yccS7DG9fSGlBND2mcCA8tkmIjxoTNVqC/LHmk3YIOxGLkqwNxjlEoeg+ZHQTmdVAEDO5c2hnUFlgU4+UC1WU5EFiaknTbWiEooivVKcbPlik1ihfUVCjtEW6lTnBOQVMtORiBzjspPBOsuy2FKsh6YjZReoPmjAXiCj50Lds/UIxrFCAbY8EoZDlSk2BuU40whPNTKwSK5myMOylJh3OvLz1YBxWgEjggdQnxOuZj79kyAuHak939ze8s5of6hFzl5Cr2XBNmb684cyOl3pmiYo+bZGuhuwQzYjMlj9aOFeSZnmBsWVtA+QGlQKDALdpGR2Y+D8G95eG5lxinyKt2+P0FVdnhC9gfYRdjReJKdWoKSMqQYUhuYbnAhZXsS6aRSvSqpnLMxt5wlYj5XFGVC3OJtoalNlTihtVOcIwoF8W5ItnTh9Q7gMy1ciUua6wSI2rJ6a2YN0eKGTGz2e6xYAW6PuRfF0Y/9ISJXxqK5Zdy+xKXsuFT8mT6wfmu9+Im0zdKvZFC07QrytOL4g7x4JAfx9xoiJHCXcRpXtadyUO3wbPkA1+hpCviPwF30hkuSNsKk5rpC0yzashx5V2nFFhJhUzQs2UBciXAj9mZjEzhhJZJvw+IKzkDQFPxtiR2mvuanjoLXdcCYVmUjUmZDyQiwk5adZBkBDYwaCD5HEORJU4p0zyHnILztPJxFZksr7hxJYsPbbvGPKO1W8INpA6g57foqJEqpGVmkOy9FeFcVvuZo10GSc96c89n+YRLy6I7WfqNPB1TmhXsG4vHMYTb5PkUc5YLZFdA8GQ8spyWch3ClssLIUiq0xVG9J4w6fM5L9iiFy1w5SJuFeosSeftmS3pULhV4GyCc2E2szoakXsOiqR2TUa2W7g1uF9yS0sDOFEYQPWv2DHkaEc8PWGwhpeZGZXFzSbmuPoSPEt1WbCfHzPuDnTx4DIgV2jyPHAazKov05c3b/ja8WtuOMmM+P5TLkEhp+AB4G3E8/NFuc3CLnHPrX4SeKWV+7XB7y5cXYBVaw0LqHKgtofaYuBW5dZdwEZ9+QyIb1HxBpTPVDbPfIyg5txy0wMWwYBxMASPnBb7hH5TLI/k7YrPPeYYU/5e0R7GIsTS/VNdrf6QFhmBlFx9oGinyhPkp28UeiFQp653WBND8hni03g+x0lDxilSesrt7UG7+ivgZ6OOd3hZMQR8dMr4qiQVSTfd2xli1Qlcf8r4XohiRGrblweQfAHYdyxlBeeXiPr4iiGjLLvOZrviUOFnc/UbxW30DGkxPPLHhclDwrc2dM3mSFUmBBAAnevDFsDInL5+hMx/zdu3Yx711PMiWkyRHFhd68h/0g1v+DJtN5hvWRQgswe/tTQ3ElyaFEikNkwEbmlB7RwvD0HynBgaSbksiWVkkkqMhcW+8zr+MydnLE5I4s7cm8ovxrEeQ+/a95+sZTTK0e2hFVyC//AcfPEtojIfsci9gy2obvtEdeVEG+sTvGrqIne43vNzVl+bhO1MCxKYZTFtgV7v8VJ6L+AryXt7Yk6DTxVF8YPEjVMvPxk+Yu7g2mhcw4lCjZ/DHywN5RKFHbLGCW1vxK8ZV4Hhs/gx45do1EqIiysoiIaQVMItk8X4sXzUyvIG8noz0xxQ/oSv5HRjpngT0jniFpwKS8cL5lplTxsBffhA7E64i4zrrtSLwpfHPB9Qd8u0M40ckP3+5HHKXC8ljSfVoq5wtgOuyrmrLCfFFOxY+kseVuj84JfA0WuqP96or9oXjeG++6IDhCTxLmAua5kI6jExDyt7MPKZjtQzwNMM2O8ojYJNUiK4cLu6RPVw0Qeb5jthlspiOuOxWwwi8XN71gPy7fnzlVs5ye09/9j+JAgShSZJZScPKRbJvWg0kq57Bhdx7K5IjaKZpMx1UDqFLqQLMKT5JmWTF8tnMQNN2mU0Oi2RlZnTHNGNRKjI0a9pd3WJGvZGU1rEv458pp/I38xNEVNLCynKiCqzBwlRmY0E1YrKAWTOBNvklm0hHzEXkuUS+RcU6Jgm+A//PDNROtudM17tDeYXDD6z8CFZThxb2fMsnLOQHdlI2bKZuUqnpBiRceMCgssC6LMxOuNtILWkMyO0L0nv3tky8SyG6Hck8U7gmg5GEtRjgTRcik9mZ5AZgxXTBGZ9x45HWgmEKtAyG/bDFn9glkk1AuhvMHicVrzR7mwxolaHejMwvYGZV/jbGQoHxn6M2vSmNaxCMWwRupipXYGaSXJ3TOmxG2WPJk90y5zcYIpQc4rKEFUBchA9pJUTURtKcU3KAxLj3YRyoZyfqBTmUaO3BvH7qjQyhHsJ6LxZB3wrcRyJRQCbIHGIvNMloacBd0sEfsV6wNzHpi+dIzJENaW6AuIETsEmtyTfE8/XRkXSb4GPoeRZ5txQMhg0Yy1wRy/oFJCTgGnPN58gyrkUSEWjRUrb+Id/yxaZgIq3ZGsYJpWlnIAFtzrlVxkRn3Fzgt+CIy3M0JUSCfJ0iGIiDSxmj8Yx5UiNojZQaqQ1pAQ32ZHrVmC5mbhJrYk+w2YIpsHzLsWnSMhL4i5xyf/7WTfGPo849oTXmsWGmYyqVsxOVFNIJsrWI8fnojzwnKMaDMRdYu4Reb6gdXARKKKiRgUZonMvuOzbliFwK6ZDolfEz5+o4V1s8GnijmBEN9oRboC7/aEZmaZjxAicexJ84LOnrAqNCnT5pph6eltZC925KyIwRHGTGp7qqYmSI/2gVUZAjuGIiHXklJ+xaeSR6NxoabOhouYKbaZW/Ebu9N7pKgpgscVPdtXz2eRsSYSryvT3vH2tiAOd3y91Yg6UsoTaq64NC128wfXUIMYuYsHbi4hjKFuC2Q/UY+RF7uwM5+R8g2XOlGFSMiGpXrBzB0mObLU7K3l0gpKB6W+p5otT3ylWjryong+SoSI5Fwj5SvNDx/5PDfs88rZKR6U443t4Jyoro54fE9er6RDQ5QBKUbs7sxa/iNraInDyLxrqcsV4V/J147w7pnUfU89GAYK8rTQvPaUbcMVgZhf+K048tAP3DWS57CwMZLbDHEd2T68Eoct03LlNn2grX6jNB9QomdXHOnHkqJ6g+WVZVfQ4nm+rRyTIbJSTYGbPWOzZSsSSzeQXyv8ZsB0W1Y/0EoN2jPVHmZPyw1XGcZ3Dn8OrHlL7RPKl4hhZtYSvW+IraK6jiiruOWS8vJCKo64IhGiYriNXOZX0jDwSzyR+5b5cuG0/ivTzx/o1hM/+w7TXpEhQ9xy9gv5NXGVilz3+GHixa7sfv0NobaI5MndSjW3PN0CdAYbFUX6Gbd4uqvn/ODJ+YpeJ+rCM/z2wqeHZ8rmC6d5RxgNqTkjbwo7XfCPj6S0YqYXZDGwSAP6wHrOaC+Jr58pz0+IwyNxecGI9/TdSM4n2qUgpje4MLDGhr7KpMFzFRWDTLRqZhgCtzcNrp7gpjFXi7t3VPEjyQlsefkmnqn/hmXoyWKhkBX+0mLWjLqfUcOAK+4oygFdOvpKsnnK2GNiuThYGsrjjBevtEKi2HELkWQnghlI1wf0IeHCgvILzW7DZBVihnOwhOZnqhtkayidJIbvKJlx9QXaEWJFvEv0leLNYniZe9oQ6K4S9pHqFqh3Chn+4Fp9jy0q9JqxoqbfrpThN1T1jpQjAY/yGqRiOdxR9ILkJPfbPUupmMaVKAznduXRShg0Sa2c18BjvrKkHeK04dS0NMEQh57y4YYkEivPWilCmZm0Ru6OjGum0CvvZIBjC0Jxtg3zmHhcFhZdEKdI9+4zk3vGmh8ZkqTQCckDBRvm5SvWPiDvPWv3TDHf4cob9fMWUTu8G5jNCPsD/VBTvumRk8VcPrMcOpQx3IWJpSko6JFOsK4bWjGSasPp3UwXJppYEvtMTAvx7p5dypxGybt7hxORKFbswZB7i68hHc7c9pFQHXlrYIiRm8h8Nxfo6z1FCgzjmWUt2LwPkAdUL+h0ADR3oaGsa9S+ZzzPvHEScwYRjuQPnksG2UmqcWFbTqTcIeUD1/7KY5f4OicOh4XHuUJPV4IL2DtwUlDM96hUc3vu+bzp6VpFO3SonKlOH6Dw2DJiV8PaOfbUzOsRIS4k0xH2MInI4xfJ0uyp2up/SNEk17OhbRbYPLKmGofj6D+wbh1bb7FngWs80T9w3VzRy5bKOnLsqR4PpPHG2e845j/wB1jjHc1xhVhyeVYMlaYUnoeXhf7NZ9SiwGyouxkmSSM0v+cN8c8lP6wRlwryNHN1BSl5rnamOtyornvWRmC7iZPZU801bF64yYib7+FWkpYbsy0o7A5pV5YkKZOgLApGEdhcK85CU/oREyrkXWA7SYR5Q1G+cr1A1Iq+/Y33tKxas30eeG4UojoSrKKPM3XU6FVDmqA5YHCoS6KPM6tV6HzEvFS4nGiTxslMkonkArpo8PmV8EWibppBC+5E4FZHLi+Rh/U3Ch0Q/RsuB80S4PGsmdIz10+S4l4y3nrYKhrtEYug2FhCBdrODLOm3n1CDhtm80w8fMWEA0l6npeCRsImJ9LYIC0UdabPJepJ8cWuvFQL3arQWeBSSxkCQu5wakU2+n9krwvck0fLDbGZiGePWq/o5/eEdkMQHQfRI1xBSB6NhiCYksCIwM7N/BTvkGmkYMEljZRH5OZEDAW1laAzqlXM/g3IEcKEzgdkuyBWicoLhSj4Ugna2ZC7GX3SnKoTx6HFdhtu+YS53ZOmnqrI6N1AH3vSOeBLz/yysFnhVjWYl1dovtK4e+RqySgYPOvac1MVpb+S15HECE4gU0I6SZU9QTXMdyW3F8NjH7jsR+YgkfE9p3iCsJDChlCeMUgey8zFJWZtOZxH+jxBXiEnRnvHRh/hwVP9VOOKmj5PZJ+oyy+0omQqOlpTU+1+Zqy2/JgNj/qCEgmjAJlp6Oncj2xWyak8MA+BunCoLxlRlpyuJ6o6kP1EzprHyz3sTmSniaIiTyVJPsN3lopfkTKSVYlg4WN14P8QE0KVxEWTh4qsK/JypNQVQkAyKyDKNQABAABJREFUC0FovPAgE0ZWiHTFGovNM5W8YPOG0ENKW+LBUq0XVLLQeFy0BN9/c3T4hl3s+UtK+GniuKlYJDit6JsZsTikcgzqjqXZUfU31lzjhOdTUTNxJfcWNWaWANItBH/GZ4dWUEjNalamUCHtjVl8YvyjxtgKOQogk1QmZRiCYNqt7Nodsjes6zN+W1DqyLXf0MkRLf0Z53rKdI+Nz2hhSDaySM0YBOsN7peOsVXsjaC4CnSxsirHIgSFtujpCVPtSf0rmB12HWlTph4/kOeKuBXY8xPt+y0xDSzqhds6sNN3lCmTo6M/RQo949eI6EqaYiRHR6MObELCmRHhZ1JtMN6xkAhVphgW9sqh0oHhqhg6i/EDvtSUY8O8+4pWidtLwYP7zHH7FjfNLEkhdaTdbjHWYrThTfx3Lu2OYj3yqguiiux2N9brlk5EpA8wLhQ5wqMgmS+kcEf+HFne3ciXHbDD9ApTCsqtIj5fEXlH3jboVvHL+J798oWmeEdTT0gjcCjCLiFeDXG7YT9DvQv4ydPkDt+s7HiA5zPT6cC7QvMU9hRbR/7vj8x/vmK15vT7jBQltrvw5Ytl96gY5UxpVoZzTV40pW5R5UjKGbBMGcp2pOADQkZK0ZNWg4nfqBVKGlxZUmTN1PfIAeTkSO6KPezJpaRIE3lS2DKybhRVEZHeE/Y7rn5mEwyqEIz+K5/nmU5KlnxH4T1OzbBCuE4QFV6uCAmD8kh3RuWSwXqaHDHPFeMk0N3MTUpy6Em5ZNcLFuUxKpJ6Rz7/DsMb9PeSubSUKyyTZmkNY2gZRseUFtxQs84erRP5ajDC82X7wHZOaA+DmrDphHpVXGtBGyB7T54sS/nIeoa82UL8N9Jlj123fJKBY5p4ShLDC8quCCHxRqJuApU3vN0osI7l+kiuPFPIWLGh2cB4u9L2HaGJtCoijWa6u8OJT5SHLdWpYsgCsSbMXaTSHbjIUhTMjwHBwmvj2eoVPVZ0jWThLXkjEXxiqCJ5vlDZO6x35L7hVChCOTLHCl1/JqTAnbhj2vT4i0JUJcVuIZwq1n5Fti9UzLhqS5kDQdSY9kQsFk47RXuSKPFKjpGl2CDWgJeGuMBwzZRvLU5KQvEZ5d6j2gUpA9472luNLTNnK0lhJmlPqStUzrTKgShwmxf41NEaAfePcBUUCgapUSKg9pr6U8v8cUIeLMfY89I+oPua2czURcfl68L2fmZZ3rKLjk5pVOWpW8nv/g/U8Z7t+T1sDkwxYEaLtJqcnph1S5sr0ptE6sG9vsc3J8qXPS9/37MZK6gK0h+W/L6GeKHDE+LEUDbY2TKFCi0ctb/yy+B5f4yY14jeG67XC2vakvSRHDP1/sI6HNnqF8zmW49I3i6Mi0LuOgwrV1VTmSdMUhy7itdQo39ZEPeGrf3CjKbQIzbWVEdN2dUERhbnsXJDfj6jKkulKtb9iXK1iO36Lcd1v6FQmuiuGAqml4VWT7gW6uuA2zXUYuE81nzfCMbbHtP+yr56xMpXBnHPZj0jNjsY/iBtNmyx1J2kWC2DGlg2Z97d9pxK2KaFipY8SUIpsVgm71C2gNOAOdSg4OIs6uUF971j89mx5gYdWl6LnuKPzFxveRXQyifGDkwoOIqK8PmEKN4wNw02jLhVUJQVu82F2T3y5E98wKHOL6i04RY2FO7CZUwcW0kX3nHZGPyaESGz6MDu2XC/m7BDxFUNbo6kLDlWFpZMM7WUEVY5MYcOET9Sp4lezSj9A8XTxF37zK8iE4pH9HZmwrK+Ku6qCyhNLXqGwiCVYms0L12AU4nhnmwTpK8kjuy2XyEUyFgyDw5rbtyGErVoeipaL0h6y6ouKP3Nf7GOK7WuSZxpdYVBkULCthHLQAyZlA8IMZG0w6U7hNOoXUT5K/duRR8dKrRU3YZ1OVFt3rN+WnhvBUMhiTV0yw77gySsE61VBCewzjDi0BfNtZxIc2I3O+KsQDqMS5iTYXnItEXkXs9MyiDiFZ7foTeReTsj14pUSExQWJeQvEWjiT7gSs9UFKi00o4LrnHouCeMGzgKxFeIKZO1RnBhQlLWEb1U3w47ueBKwZD3NG7G9A2XO02pI1FnkpJUjKxzgUBTqc8Ip/BjQh0m5BzJbYWYDqhw4Spv5G7hAUNYG/TLK1I4Ah3IO7ZhJlnL8889+vHAyb9yKBRilqgQ2IkDt+WCGg2NhfNW0XU3sn5BmQ+IvODMjBwDudQUtuE/vjkSS8X131fUJBGXgLrrkE1CLJocYZrBuAvx7VtOMmK0RhWR3TxyilDMmXXeEMVXFrVgi8hyFoSHjBxL5nfPhLShzO7b5kJHctGj/ExjB9Za4ZsST09UZ6ruHf51y2oEy7ZF5hqbMyFmfIbl/g2zUJhRsnl7xdUDbnkPbxba65njQw1TSUgFJIiNQ1wbwsPISINVX+AMxALrAk0WfO6u3I6ZYkr4nMm6ROkM5jMZ0FJzqyXeJa5/nFHhX4hppr9cycMFUzR4ElZDdgvXWCGrkbF5i689IcPT6Q/+679kdMycbj3Bn1mIBFfx9PWJ//zjP2JzRIYSrR2rfKarSkpXYNMZ8/uF9c2AjitBekTpELeKn37933DzFVcInl5/4+//4Qdy3nN0PxNHz22qeEyJNVg2twfyP33zFcnKstvt6doSkTJZgT3AVYxYaga3sn2Fy2Og7l/RdYM2peIyW3SzoNQjJI8ev9J1B1LxBcp7qGEjJZ8RVINjM2RcV5OSwrYB1dZAJFfwmgQbFEI6ZHlhDBLtbsQUKU8XbmZHSgfapkdOW7bKoY4WO2WMn0lFgxeZXHZ0wItPbGKgLR7J00pOmjasLGJChjuMiExjR7nxNOkL5asktTUDFbrONLNCykClIz/XFXchYpqMinCSZzYCZttBv0H4PbnoqPuEtIZVSxQlpVfI/MISH7EqI6ozNAVOfOTzNaKOI9+/bsmHFpVLJH+wDguNk5S2YdVfWIs32Oyo3Zl2s4Wg+NwL3tT/HfleoD8/YD52pPmEqRXPvqbJ38oyu2Kl/xTRe4WaPc/VSsgTar2nNBp3+YzQb8iVoOsTadToe02ZPcurpBJ7bk0L9b9zup5QMoM05OEzpdxSKY2ME7OXGGFZtMKYmUoVKO8JiyEUjriWZKVI9cjKDiN7gras4R7newwaIwSzh2A1LRNFPvDXIBBC8fH+Bx6bF8LSodOG2HzlX/6450/df2J8X9B0K+4vic37kaw0n6ShUVB7yzULdteRUxdw/AN7FpKpME5CmghNzcyJ2m+of/xnwjAjdyfmuMWVE4d8YFo0Lo789v33/PPhB+R2gdCxigbbCUSKxKEmNWdWEahkiZ9+QL078ipnrFVsPKjrylBrlCkoioS5vcdpxapgKUq6LLHrt2wraaV/fWH6/S/clVfk0sGiWXLJupOYaUAhiKZkSplQScoQ+QnDP14zfeMx60Bbtgym43Mx8WbsCBdHuV8RlzPj5wb1NkNzYw6GD4VDPG9YHj3lTyDeSighjAkpDL3dEMMZaT+i7BW38ZinLUUbGWPkfvzI8yFQhjdosVDpJ15zza6VbDiQrzDLZ/Qoqe9rMgI/7cnJ0MmC0X5it6l4XTrudSKbXzHyR8Zj5jhCTAVrPlL5C4QnTuZIJzRSrFD0TKGkFBMze9R0QeULUWjsbJglUJTwADrNaKfwpiBFSzkNLFlRh0T+YJnklnX5jCoq7pZXCrFSseMmVtq+4FR3lPLKSz9T7ToqaUm3nj9XipfXM02x5fbaM7fPRPGeDoniyGaIuOdEvsuoZeXwOOOCpT7M7IJEXL8ZYfu3LW0QvC8Fbj0wt47WWZa4YIvE+ixhq3nYSl6mG1LsuOsD52XHwWoWO9O0BuREu0pYNFFItJJMty3tnwuEnzkbAS7jywF1fkvc3jgOEuUvDPaBDT9wXQXz+ZnK/s7a1ZzXhl264MQ78nYC21KxchvPxOeEkl9J9Z9IYeU1ndgpwXTqCK3jMb9yais651HCsvYzx6ZmO8CsCrrxQlKPaPMH5/I9RTLfolRxhK5ix4X0esergK8m80631E8Nq4DieiXfLJSKLDNbzrinT7xt3xPkynhM9INE3ha2ZkW9q7k4RVE0NFWB/CVzOWpCZak3cBpHUr2wrBseEKRlJMQ3jPczNf+OUn9P5FfytWasHGXc8DgWBDsQlu+JbU9E0uSO9vALL8s9+3ND8pkkZ4r8hBJvye2Jol15WTuK02/Y7SOuGfHnClU7KnOF1VOoB0oReJ4jk6zYx4kyB645oCuF1Jr5slBVmtIMqLVBhgG17pHVlUJo5hww8S2xL5i6iS4MJKeIJJw37L1l0QViabAWllVTVDdinckmYZYXkA0nUSISqKWjqwXPt1/Y8MAqC7AGLS299dSDRaiJ2EeIG9ZgadaepA1ZXhhzJuczp9c/0wwOv3tBbHZ8kT2Fqci7f6Pp3zPVFaotmN1CStC7FjW8Eo8XlmJPoxbaZc9SelL4iqnuyHkiWUPs3qKbyBIkYl7ZxIJwLGDrWCvHfrCsSSEb2KoSo3cIJgSavs/stGCTZ3KCYAvWVFCuE2U1Mas9uSxgWCicRew7HrVl6UfGumQ7l7i0oN2BOo9k2eJVSUWFyyB8xOstZZ4oSsOrHtjlA7n6K8V2RqiWqp24LC1p+ztlMNRREv3MMNRsNws7rembDXoSqGomXSLl5FEfAzFDmxRh8cQ1Ma0ShGMRkpvL3FA4nXnrN/x6rhHDwPWtRk0KLwNZeNo68uFvv+MlaYpfn/DqhXhn8TpwiYG0OMR95rwROLVjuXg2BYRlJi+Bpmq52FdEs6CyQvQC4sqcBVY42srwKiSGR6pOo63ChAmXFTIVlMEh+opwXhGxJFQd7vqF6dVSp0hsarwB1gKRBQJB0jB/VTxWI3NvKDtD9bIjNgJKy9Ue2ZiVrARPN4vsMn7ueSgr5LjnzfRXrv0GMZ/J45lbUZIw2IuhvFaU4oYaFZSAKcnFe0J8wq2RvTqjVOZ/+ae/5eM//UeGy5X/Iv7fSFWiX2ZoBUFJvP6IuzqE0+h9RIw98baw2+3509/+A9lYmn//RD9dOL77Hthw7q9MWdJcDdc0kYVHzXtWCUO0mN7i/q7iRdaE4i8IWxEcaOM4vnnPD//492jlCXyB6isx/xOpf09u/8qjgXkt8dSMG4GiQQ4rH9+85Z/+0/+dj/c1w9dfGPVEMWuSeqFWjhw1yjYUN4Pfekp5QvP1xqFp8ZTE6i9M/D2VnjHhF0Q4st1oxt8C2k/sWsFtL1iVxadn5Ljin470DzVq9gRzZPeaMW8qQlCYUcFlpXi7ZdivXIsGe7pRu4C5bZgOJ6ZpZY9BlEfmVWB1iUwrW/WEDu84xFcSG9x4g/KIvUbUXqP6mdwEZOhQVc91/IND957Jtxj1RGNu9KcGfXxFhYK2PlGGhhROhOQpygcOOXB9hSMaW6+I+4EuFqzHBvsHqFIhrKW4O7NeNUl5pqeZ9k7yypVt/47OzUQBvem4JbjJGccbzGZmur1HixFbJsJ1ImfLUUlehoKjyuRDwcmBHX9gEQX7bMhWMvPE/fU7VpUw+5kTO2q9klOFsRt2k+daL6gQsFuNVt/hDz9z7/4GrxcqsyX7P0hKYHVgblvkKtlPey6xJI2Bq5v4y5ceo0YmP2BDS4iColhIq+Kz6THW4KcLdn0L7cClT7xennj661/IwWAKQVIVS/pXDJYgV7IovjXupeDpPJN3X3i+/YI4WfIQufn3dEIwe42+3xCAcTugUo1wlvR2xvcl8mGkm59pxo6l7Wg1eKPRfoMYBal3qPbMVbxnty0gOA7VieRWAppZ3mNEwKQTXjyCj+h4wbKS14XXRyhcQ1cmKpEYREv2K93o+KMpuPMdo/uELSvkb2e271qylDiZ6VpDsomoHXENVFXB7CUTE4/ciGuLMzf6fovd1axVi0v3DMsjpRb8dOf4c3qmOD/z1Une2r8jVzCvI4vTxPY3foh/RjHRSIO2GxY5EfIru279prUvN6xO0CRJ89AxVzfSzWA2FV5syK2jYsQVr8RbjR6vlO0ROY6ULzfiThJ/mcnHgt1tIeXAdM00bmTdvmDilZjvyP6FZbZ0v41EGs7HHcp7qmmLew/+8sQaEq9zgRtXwvkT9vrM5P/Ezo/ETcnMPeE2EF3FpRhppwGBx1U7BAvh00g6ak5yZRcTxfqJdXng0nxi3wsWeUXGFew3Xnf/AnZ/RaaW27ASa4fyM0WT8Kli9SXOLTwozRInzGTpf4Zls8eUBWN7o35vKLobvA501wfE/syZBPVAWfxItxX080iXJXvreb5C3U5EKZnKHeK7is165Uut2RrHVFnWXwOH6gTbHRlNOt3oyg65Sbxmx936FVlAnn+gWAbmpsbMO/r9QpVnJhLnfGCYEr7MPBYDy1xwUY5ttVKvB/SXQC4TL0dPIzPvxoFi955BLuwmRdhFhvGALQsm11H3mUXeKMeO6a0mFneoKdF1T9hYUPUnJjVi5A14T2sTMltIgfQSmLYLZWqQXtDsr2jxzCh+5LB8IvUdbCrE2jP6kV9mwZ/vF5Z7CSus0zuy+GbyvARLWd2QsUWf3+FLQRwlZTNw0RP+7sQHUSKXA+b9Vwb3jiEWPOYKcuBpEpRGMNor5WlH/Vnz+lFhuLLbZnzbsiyRTSv5KCLrbmaVhiEU5LBFLBZvJ+rwG7p+QFMy9X+LKi3i9SO+llTrH/T2mTf7krm3TFvF7jlQ/ZDZvIwo98iYz8hjg71duTzUnOY77B8X7J805YtEiyveH/A3qDcj42r5l3/9K7/8/AmdSkSqMUXPJBOVa3FBAZJkMlk75qnnf/67Cuv/r4zJobeeXHVMT1+okuZzE9iOO84q4YPFTxNJJWSrCPJIycSsK2xyyPA7rvkRGc8s7cr0bBGLJErFYgLzomlkSdCS7J9o1AFXGaTO4AWoiTa3eKmR1xJKRRILwVrmxaJkQBZ3RPWMvE4UHy/cvGKdG75XEa1q0t3ELX9HbcEsmrOb6fxXLqLlXAYe1R1jvtKNK1pVsANDJJn3xKEnuq+IHIlywr52KOGZmoLbZNmojLqTyKhxk+XpbqX62VNuDLWMpKunbAPN24L5JZK7f6MY3xK6FaMqlGzxQiDzSPLm27WQFkeHDs80uubkYN5BiomKniACzWRAX5GfDG6JZCOQiyCUW5IzvH/d83r8zDxX1K1AuwrKlboeudw6YAS5pddbbNGAfUJQc+gXljJxOcNO9yxVS64PmHElMZHLDWEHk6gIRIz1bPYL+hT5eV351Z95jQu+OfI/hUcWZdBKISrIqUXhqKMGUWBDzRTcNweBWJnSZzhn3t9+YO1BPJwY4w8IWbDahpQkwWni+UaZG6YcGE+WMjaku4jSFconossMq8CGlUlp6AvyuCAMTLtMft2Q+y0qnijnO7SKBOc4LhOZyGIDaxRUMmNmQVeMfHH3+D97vp8t4migSfwx/MRe/pnR94hQ0217rGm4iI7xi8V2nnXzAV/1LDeBDxUf9B7fR2TXIq1GDitRJrJYECEShoTMCSdfydbTFBuWxpB3nrej5b+pDlFANIacA3HQ1AM0bebfUqZk5FxJ4vxAoUqq6wG+n5jLFeclrSnIJmELg9oE8tZTj56EJdQJHRKNvqK371gumQOanzIIrdl6+Ouiue8COhiKbouI9yz2P/Ddw43rNKCWjkV0bKcJpT3CJDyKxy6QxcrHR0G3qZnWI2GW5FJScmB+tcTtM6wRkyuU7EBMaDZ3iBLSS8XnfIcIman/G/r9gDPPHFZJUbaM7zOVa5DyGe0VVj4w7QtMfKH6KrC+ZX3jUFuP0xExRYxZuHvcMlUjzekdT9LRFX8lS4fTnt6VtNcb10NFKwK+nLj6hmb6BN0Wzy+s8h2hiFCOTLct5XbknDNy0cTigs6CT7eCbA7InOiCI6+adMrEjcMsEyLVOOtBgyoKfKFwPjOsR6wYWU1E7H9Gn75nLiuSfcbdNWgbyHNJ6RNy7dDtmZfvb1jXsu8hLJn2w0qzOK75Kw9W0+lIUxfIvGeuIxskr67kUU/QrxTVHXUxsvjA2Uv+1v+Zstuy7V75NHzi/esD/rsfua0LTS0JOZDlGVcbRHVF6A23KXKv9gxMfD3ONCohlu9xf12If9chxYh+MThVUFc1cbpyqX9j0R94EDM+Sd5XLR+Od1Sm4npLlF2PTFvWHCmagLxtKHYbbkjIN4rpyPHPhv/4/d+yNBecPNJpyeBGalmR/BYRF5qywmnFAigPV5H5u7fvadueUc0k60hLi5WSaeyIvkKWgo1YWeczMr1h7gSD2tLWipALCC0yPPHS3FEEh7Mlez0S9wf07UxaCworWdMD088t9d9PFMVE1BN22iMvGpE9dlsTfUvwhnossOWGIU0kXZDTTBsivpo5ypYlnQjyQJM06f4LKQ40uSWMHcFayq8gHjNLlszJMFuHpWIMiahXumHlGCbkKXO9fltfEjPJZT4KA12FezJUH/cURAYUrb5hY4ncvsfFmcvtMy637HNHShYtvtL85YHPbeLw7pXQN2AXEBIvGmS+En83PL+FTQYVIG3/DCjEsKVl4PWPgf/t689koYjtr6gn0C6R5IJwljmDta8saaHKX4k+IFUAqSBZ9GeJ8JE1rsQvhkotMCsW4fnr7z9R7QwxZtTPt2+c+lIy5YT3gi2RJBLRnIGGFC3KSa7lyu7fK7KBX8eELgLO/ARa8xQc6Zb59af/P/+fUlLpSHQVUkZUMmCeUPIN5BtpqclR0d2VFB/+M90SKFbD9TvDJmSK9AkvPuBfV66lpZwW/HbHzRj2kyLLPZv1jsH8yu2X9xT3I424R17/EVmO/HFZOdYbbDkirzOxufKodwzPFaG4cv9dYlA/0or/L8TvkX5hcTNnPtMVd7ysLbXIFBFMqdBuRNqRYtyhmon0WnGWgsfdV8b2yDhbIh2PZovUPawTPMJm8bTVkUtyXDSIcaQKMF4aaEbsUrN2UPxDQqaB2mfEdwLBjmo6M4QjbTwhkyQvI21hmMV3LM5jxIDuBK/rG0pzYxO+DT6X/Re6+IALZ+Qw0SuDaAJLlVCrYt4Kfqg2uBCo7cC5quiaCyIX5OeRsrpnHUuKMqDnjE4X1O2Ffd4Ta8+r+4hqFa8qshu/R8nIqn9hdIrqULKXhqAV754feL1TzG81xfjMIhV52mL1E8WS8bsdZlH4F0eoZj7mGoobF3lkNVvWaYsKnxD5xGG1rGVLXzQYo6hDSdl4lvUr1bonzV9Y/nQEsTA2EOIzylVkPfPHw8rf+CPiuvL1XcU4Rd70nsN3L+R2RPg9Xu7R1Zn9/d/w7v3f0zqP3m1x4gXnBLUrkcZ+E4ZuIy5n/vKXf0H+8GfC+QSbFdBcRMH0WPH4AmWWFPsCpMbeBbhtyLbAM+GipOFM9CVa7hi7D6RlIipJU0Z8zlRcCLHALZ8wQ4O+vyfKHis9Itwx51e0L4CRdW6wKaCbgaWAfHKQawoBohvBaVzyTObGdPfP3H0pKN5ICrOQZoMdNbkTnG8lujsz3jwtlnHzlsYtqEYx3AYIJeMaKA83yulEL9+R5As7UzHf3qPFv9KuEV8sPG8U1VQw5CfE2ILUBK7kSvE2O5a7BpOuJJFYXMMmbWjciOgUOfyJXBUYEXDXmbVUmHso5pZ0/IXKFUQkMg6E1OCNwedP5PkdqrAsoaZaIRYlcqwRbwTmVGCSojITun9AtgEnJVXwkFaE2iMaTRAb0izZasXMhSpMvJ2/Y1YQXObpFShONNfvafwzqnyHezqR9ieC1ixF9w2B6WcagCFwyyCFIOEoF8lR7FgenjFiov/8DXUaMBC/beHmYQcOUloJqgLZE9xCUhWp+ICRNZVZ8HvLxCNC1+jCYlxCSEGUJa/2nvX6iZgTm0PJ5yvUzjDmXxGFoVKeTW/oY8m976BwLLbkZdxi7IXi6CnffKL4bQQ9sJgvCG1pygahCuYc0OIbFEUVcC08hXjh7mvH/O4Vfb6jfHE80KDvwClYg8WfEvruC8q0qA+WdVHEoGibTCmgfDUM92DcDS/OFFyxX/cUQiFdAX5gtSNKBDbpHoll0f8N4RLHwTHWNUl4jHrGdHf4F4PNnrGZKC+ZSgTSojiEhnEaETjU/WeU/wBKg34mSYM4C5RccE4z+APSO0x2POQtpxDwpsTWN3ZaMwwghUaInqaaaO8T0/MOfRdghbpIdMmhhUVsNT6tZPcb6Q2krxodDG+z4pM3SKEhRfLqIGpUDphLSVgS+e1E62vGeYVnSXG8ofY1OrYlXmYuTeL72KDUxNOmx1BSLz/SVTOivEKoua4OLxVRSXR/ohP3lKrA1a/Mao/MCp8MX+OVx7LH2x2mzxRecJ4/8X57xC07vl7/D/p/+5lQarpxxX8+owoFPpLSr8gis7gvGK3x7jNhTXSNJszPyEoBAiaPtoqUZ4IMTHPDpZHM68i6BoxuCJ80tnsl5t+QPkE2ONWRTKbuR7KU5Cz4u+Zv+SFVuOOZulo5pV9Q/j+g7DNJfs9cbNAhkT533D3coW4ja+mwauBT3DJcF5pmhxIZgsBlyz56XNDIZWZzJ3FLgasFY/lM1e/BLPzNNXOOBpuemU1L129I3Qk3OnxlOFcFOgu6VPNLaah/qtEfDUqO9E+a2b6g5o5mM/FJzbx/3CFPjigMcXMknr7wurxiK9j6jNnOCB0RT89YZfjw4x69lnzcZWIs+KM48qH9GdErUv4BX60cTMIsHfNdR7PWTC2M+i1ViNhKE/wjIn/FrjtylVjGhnY70DoLhcWdP0P7gNhImsIyLoLFRpRVFGvC6kxcYG4KhK5I1YnSHSi+JsKmI9UGmxdsrHhcE1lryizxuyMpQqUEBs9LakmiwhxOEFp8fiUai64T4pRJXcn4VUG8YuaMHHq+pJbNFux5wTUdbh5IQ/3tVEB1zPHKftyx6jfo0pBumuIy83ynqQ/f1oGiLij6gHmOTKVm3lqaa00vGurWE/qZLHuSu1D1Kzw8o0WFG1bExx2lL6EwEL+gTpJQ73DzSDFWKLOlyJHUL2gTmP0R6gUlHhnGnkZLXtLC/rVkLjS7y4G4mdjlgK1bMAVUBbzOuDcLp/mFDw97vv/xf0Lpgpi+MMsd+04gvybWCoJaMEvCdRLtWpbU0+oCqSyvOtKNLWLK3MyZXVHgy0gpBZdlRRUF//N//l8Rose5hq/nyENhqDpNmDKF7BmrlihXyjWT7UpYKnQWpNphL56bVrQyca0lpbNI943wNYqZ//Wf/2/4QmBjSV9OVHIguf/EUkju6Jn7I1nfqNpvwp7rmtmXNXeL4I8Pn9m5R7p55PvjDr9Ehl6QYovdDGQaOjTGgsp/ot6NpE3Lmh0mrRxdwlaJrfqDqd0zlyOb85F1U9C2nsJ3pFAgUsLd/oScPHbznudNYLfs2KSCUtwIYiS0F8rwRHBHJr3j/Lvm/Uc4KM+8PXP+lGnyM6royH8MyPc1qZ7w8g5TSV7HxCw87l8FH96/Q3U9wo+YemXtH1jqgTIOLNxR/uxx2zNWRDwOfUuozb9wXf4W326p9pqkaqQOtMIxa81tFhxmwVQkxo1FF1e4NVwJFOqOZV+zR/N5tkQ5s+k0QnWsccb/bmn//Mo2H1mrHZVocN0Ar38g7msSRzjeCGPH0p5pA1S+xBSSRRpUoeirK7Xf8jFtWPzEEguoFPISiUdDmiN17zgXLbRXyjHxkvbYNwkbK+I5o5JAdxe8qYg/3VG/n1G5RL96lGrIl4TvOqxqKTY3NjGS5w1r+Ru+OGIOV7oMQ2jZmSueO6T+HitfWbXkAyMBjzmslGeQO7i+U5TqyKgh5JoGqOoC46FoCoSRrKdv5Wzd3pOVQ9pMDoolOAplKIVDryvh8Q1b4fhrDHw4zRz9DjeN5LDwVGjqw8rKjVlL1m6hvBjmpuIFw9s4EWtFJRXSS3JVck0rMg24F8G2XJGbR1zp+QJIBw/LBuElUbe0TcIsGT2c8eI9tj5SpoFgBKiIHDSpysjUEmNmN7zQvBSkPDL1CX24ItWO0Z8py5GdWvlJat4cwV9vDOw4TrBhxKiZ38LMD60nu0Awe6qiZ7xqRP3MuNsQXnfEbPmaLR/mhKkUcz5wfZ65bz6j7IE1nYi/bfGPPccg0GlA6Y752rIcHbWEolzx3lLEKz5tkBq88/gGyqkjrL8yb96hzQtqaliHA+xaQvY0z5klJMKuJhkw00q0inTJROUIdiLZiM0W3IW4CIRImJTQLhN8RGmHMyU6WViPPDvJm3pi0hWPXvNaHdksELVlMhn/wwOlUqTPjuI+cQuJrC3ultGbimJeMdO/keOBUK0IqyiumrVrGdtXjPXo9K0nJ3PAVCdUfUCoEiMyYvGUmwoZJPbFMvwQWE8LXgp2o0LbBR09suoRiwLjOeSJk7lyFRMLIx0K1Xuq+B7yX+jDkW67UshXVICaHvLIsnzDbrrFcBk2pGVl4YZzf8LF/8rsMoeppVxqVpFoMggteFAtdBY5Otb1icpoltOKfdig54xqZ6xukbuEHO7wKWL1jBGCmxLsxjPCRMo/v1LXO5a7LbIHV1jSh5Lw3zUpfEUUb6hUxSg0o1Wge0IWYCyzeAfllSQls35E5QafRxapSFkh3lh4UayFxIUedzAEkZkXS5kmyA0xd4ihQ7YjwQmk+hbjvAqPFxUpzRzsyic8hi1BWpJ9IQfQi+IX80j2F4Y10c0lzibAIG2NW2FNFUZ49LrHdYbOnpBJMMWVD5Xgf7c1t8ZR15L1Fsl9z1QkyriwrgZ9NeT7ldJ45FPNuh/Rixe4dUPnwDzMXFbBFGe2q4TyxPkJ5HKgegBZfXt5SeC8ueMOSHvwDpYpUmmLlY7H8I50SsS7iVgqSBXmjWU2PWGuiXSU+p7YWUxtMR5y+YxYK3SG1AaqqAm9ZnQ9S/zCTn5EvWvwEoq4QqVIacbWb2jCRH0nEWHml59PLM5QPUi0PjLN78BcyVWL8CApiFGx1oYYe4bXV/7Rv+Oy+54wvNBUEXv+Dq4erd9TBBCL5VIt+B9uHNUdvZrYVwpy4sGtfHou2dmZeRZkEwlpYUqG1yTQxxMqvUPHK2Zqob5D1t8KQeWuBN3D0FKXJbUOTENJ6iTmyw29rRCrYpQrD1pQbDK/y0AW8LGWpO4HtqNgjq9sY80sE0GeQEPnC+L7jkM6cP19odoG6lfPq9ao9jtC/v/B5xvsBamO5LThTgZyfMtiYLWZjagJSySLKzGXYCWqP2FnT+52XMdAayx66Zj1yFkVNPsL9qS4FYHyVbP4e3Q5YLTAx5JqGgnMxHWmlxtEcrSpppCCtfA06YaoJMpLsliolzt8N/CSCoQ3tPInsvuIzDe0PiKRpHKkyReuzxL5xpNCQI476qtn3JxRIqP9kaqDMUdM6UjqjoPJFJSYYqLOEVd7YptJQlC5A25TMDmHvEK8zbhdZvd+x2a+kZeV5fOBzZ8m3FzQqMywGylMotl5TpdvHw55v8cS6YQA0/NS7rE+oq4HyJ4CB3ZGr4qldDTlryi/gV1NmGCDYykzaxm4y0euH24U8Sv98yvNwz33wqFdpFSv5MeaeWnJRSA83yiXN4TvBpa7goaF5uXALGvWJrIuA03/Fll51j6RigolJFrnb0Kg2wfSwxWbOsRyQoWC+/DNceI3mp2vmZ5f2ao9KM2wXBDRfPsQuC2iGthvO8woCEJSqgnRbDEL6DUzGkW9Qioyn0XgQQgu2WDtis57iiRw8429fsXPd+iiQMZAjgUiZuxq0DxgLgtRaNa3HWW5MIoNMs/UckTsNt8QfmbDx+E7gisZ4pWBwK7QKClQVY9jQw1cENTnb/9U5ljQqxu1iLhXx/MR3twOLPYdZb5htcGVDWLtWdwf3MxHjpXh5jLdPiLNEa0Mb3Ugp8DpXx3Vf3wi+S2v/hmX3uFLxf7So+9OhOVvUMkR55qi2DLFQJoz+zrjQ8TrkunVgvRsW42dB5ZDT1LvCRniqUJpaNIEasYWB16ZMW8d9jdJP5U0DzeK+g512+HvtqicSPbGJiemCL0vseURnf937HRAKsgmk0SJNFt6/4xYH3mOmmJXs9cvnH86MrY9qfTsZUH/5srVf2ARgvdx4VmM6NsWu/VMs6WSnjhI1v1A6x+5FSDdJ+oEF/8PNGLB21+4mO+5ewVpDHPMRBMx4YwbHiiriVUU7JXBL4k/nMKWC2oQ6O6GEJHloaXxhos8cV+9J/Yzxji+vvlC+aXDPO3x24KbhF19YM2BsP2Wp25Gy3XaUzcFcTao8EgvFcj4LWbQf2Un3nOuJg7jE6UtSHNNvCSKrsCsJ9zjA7iJeS7JOsGoyKWiergi/e9Ic8fZn+jMEewEfc1QOxIli/TcxoE/r2fuD+9ZW80kZ8o3C0N2yNcDTA0lliQFdlkw4sB96XnIitB/Jc8Vrpop5ZVleWSxLZ3p2B62CDeTnwuK/URuBVstODWB8tVzsIa1F2TpkO2eehNJuSCGjljPSC8RSWPmhGjAioW+gnAvCLmlEA4jM5lHlulGs9bEOfNRR+okeVosKfQEIxki2LLi+xrGnDDLETErsh2pzZa+l6jSo1RC1ZY32mMr6KdXbLtBHwS33CDilU1xR/EussSG6XePmBecWdmYkWLIiCpysYmSG15bcn1GKnBBfjM0S4vOO9Y5E28fcOYrTq6YqwcjYVOyvRZMcqQeM+JoeVkTaZeIZ4WLR/I0k2dBFmDCEVU/MXuJDwNagTcROSfyqIi7wF45xi8b+sOJzdsNtdIkFtSuZ4o77tzKYBqeHxb2QrKdQcaCorOYuWFNBa/yB1ZOqLkkuAuJiXg6cPenA0laxLxCa0gSlOjwcWEZzly+/gv9rKkaSaVnbodAUUSmg0V9mcldT18Irrev5F8yYW05P5/4LL5y8iOpEDTpwktOxD0I51jQPCyKVrcYaanmiNje0c+aYjkz944gBqqN4OU5U8qCul4wSrOIheXzitITCr5R7FYPw4SxiS8zfKz/ibGYsO8T7lWDHjmniG41y2SxKjJphUknwrhjc1iIxYYcfie5O1g1wq2UQ8tkBHoTyKsiG4EnkZaAkBopPSrvMONPrJ3B6AizQgiNyQGZJLEW2Bc4lIoxzjBK5rni0mwR04RcwbQFWpe4IqPGElUKlrQgbCBKR1YF2MSaE+uwkBsDq2G6dZzelsipRQZJZa5YbXj2gWoGSWISIJJmzRpZJPSTQaSOylZc1xtBrOQ2ILsZsSREdhS/Z8qPF+rJ41VDYRKyPFFkSdkeiP9dkD8YJmEw4RltDfQRNioTecLLllW9ocg9IryQd/fkzYQePcvryMPdlrwYdjWsw0BuFFPeoLiyMZ51VcQIy51H+oC+VMxZY+0vVPzA9PWV2grat3uCg7op0XYG0THN94gwInXAtJakI8KuvJ4Sm/qE3hy5ykz6QyKbjpoSXVrKa2TRC1bNtNWFqDva4iOiGqDeocU9IUdE+QnWe6gzIZboecdsz/R2w2MdUPYeuzSc4g1dXlGLR7Y7cqspxWf2HEijxLiWUAlSbpBq5se/27GklWX8hZAC/Vxzd2j4GxlZxJE8jAT1FrGfkX+N6G3P0m2/lYVuiZuu+bAMUPWUoSRODRSaLDJee6J4YbN+4Lp/4bvPJXObKS4C23QkpQhxj5xWWvnCIi1hOSAOAdaAi4nuhy1uiLhphaHDHm94tSJyBKOJWqOyId9mzoVgJ2daNBcjKJaStNuj1BdEqgllg7wVlNeAWf8d8fh3JDRr7iiTYjcmPsuCLTeyl8ijJ+Sakg6lI1Wqibmkn56wtcOHiugL+nyhHDN5qRF3C1YeKfIJmRwuKfYJhhzQtxnvBGJTo04ecRc4RYdSFW+fJKGSyHRBbTcMpsNnaO5HlrgQ3BPLqNCqJBxuWD8gB815fk/RzLTWk9cjQZ7x6pXNmog+Ubcaqp5QPhDmiVhsqXKNOGTyk8XuPcSVowTft2QWtrZg3s7ktKKEwl/2zLnGPtfUcWKsI7pYCGbLLb2g7R4pX/n8mySbiVRW3FWG2E+44hPlyzum44ASA8UfD/BgcXlGzw9k2+KvjutWUtlEE17puw23bkCJimFaUV++lcRkExHlN0KNmmduTYkWEZOeyOIBt1q2smDsBn6n5f2QOIstso60k2BdAk2XGJIm398T1ysrDf1Y46RnWVvOInFwiXKSlM1CnyJzI9mR8MVCmXoaGsqigQnupUEwYnaSc4YUXoh9S5QBUXxg0gGFRpYFalK8yoEmF0zNyryv6apX5rVhrDT7yXNN+VvMLRTE7oU0nHkoPyHl36LWQBtqXirJAxPWS5wfcE6xbR1RKWLdwBLZCcF5zRTbO+yyEGxAhIHwqtC55ZYc5tXTvXnHfkjEzQ18S13UOO8Z9oJtyIRbpNkZxvCAHj+xG/Zstx2UkbBPbC9Xxs1Cd7nh44woN6jWYe1EdJEvX0vuN4Jm42FcsRhMWrDiHh8T7djyqVmRUmBPlvWwZ5I9zJGyOZB+vFC8epQzcP5K2Pwt/suF5n6hHw9sbgvhYaH0JcNJ8pr+L9TtzJM7ct9PmE3BWUJO99yk41BP9Krm4HrePXZc6w1V37O0Huv2TK8rh3cTeW0oJ03OC1P9njq+Mi4RX1Zcs+XuHGnfSGT4E+N04nENjB8yYfqPyHnmJhQiSmp95vxU0ceOuzwTrx2LvcLqKMqCLhvKdkIgOdFx1BNL7zDVnjt5Zn6A9WzYk3l0bwhGsL4/8XNZ8nG9cmtr7vtXUnfPNP0IN8fanSAGiraDYSK7FVTNNhl0kVmn38jyLVHdczUDDzJwKh5YoiRhCPEr0s3oeIfSJY1aWSeBLxRq+RMhjmxQmLMjy4zYr6TokGLmrrhHSY3vBbenK/Vux40Cm0saYSjNSDFfIVqkUZhgWKuI9c9o/R6RfmCkJw0gux8hnimDRThBzolrCTst8UvHhs9ctKXVmbbuiaLA+IYcNkSbyKFlCRNWScwrZCmIaiTPEZEqhPXkKbBMK4eyIpWBX9yGMguaDTwPF8a+Y6hW/jTOvPEH5n3Dch7obi15gvE4Eq81hVmQh8ScayohKI7uG4BDeGbxF5L5Z6rLBS0sSWRyo2h9yzxaZi1QoyWGG80PmumXlq+Xn+nHF0QfyW2NiAvZfhusWinQGbKzBPULIVaM19/4Xh0JeSGKGqGfkOt3CO8Zs6FYBUwTvthgh//CRv0jBQJFxkqBrkCWV8agmPInxEXgW492mRwyt1pR2U9AhZWBOYwMlLzTBwa9orgi2j1i2vCm+IPoDa8JohGstkHlT7iYCCUs8hPxbNHLiCgsiAsHd+CiN9TdRBE1ti9whaXJOxINIbSop2ceC8O7+wdOwwtC1KhYoM0TRX/P5rTByhIzC8yjRiiY1wki9KvnDx2YnaGZAnHZkPNvmKXCNg0yBp5kZi8KXC6Rk0ceEiLOhHViXW5UZaK4Wbw2pEYyi4GcA41eSfWJN/uO/9f/8/+BqQX9KWLkgG0Tf2oFy1BiXWbMG3Soqe8/U9gWcb3QTCWhfeWuU4QVWH9BXx8IZU1AwA3GoyeuDauKJCaUHlDFgooPqNTgvSC7SPQDZirxtsBkh5EzX+yFmDIya4IMQILNGbfMrP4K0rFfMu/Hji+FR1qFHRpEtZBX8FkSkkDYyIqlkQYbM2rRVDGiNwOpr4myIOontpPg+vBIrBVCViS3oM1MkIbJK2QemPVCeQG9tXhmVDFzk7/guCMNAvXZMd57uDYIDM3hnhACqY2k2RLshTUdOUwJlGf4/kxeGt78XQdLhyavbC8B9WBY5j37ZaKqOiqfSWKDXh0pNwyNxRaKf1t6HrRiMwhKOzOkhYfrW+TxQvAH1gVcqwlB0OZI3q6UfiHPhvSY+OuXAZcz65woG8Fr4ah9ZqM2NDIxlxDDQMFA1H/Hs1iIeYM4/AC6oXNn4v1IUBukOyONYTpaitwBBX6NJK2IlUSGRLYClTLKjaS0IxiNxKFywhuFFgXbOJDkhuJ1y7WKvGk6unHipVwZPdSLxLk72l2JqBO1mnhOe4pFwE3wcn/DP3ned3e08b/SpYUoPakPNN4wli1C3XCTonwXGdUjvXSIYWVXljyogUlAIwS3w0pwAtUWGD/SsqcqBNFJVKihWYndkbWZiTKyLiNd0XLdBnKuuYqCjX1CqIZVQRNq1DVjcAjbMuUrw+KIU8KWj+S4MsaCYsnQJAwTxRS52C3ZBdh8pbpscd2eOV8QuabZWwapQb4lx4lOge5KbAaXE7smYFzL61tPMQvyFJBSMLRAWzCNI7SSsq7QVhHrgPKBWFasWrKJM9UcEMdH4vUVEx9wXNj4HbLc0porLuzwKWGGirsIqWuJf/KE3FO3mR6FiF+Rmx3lpYddglhgbM3VQ/AFjZAMqaWbenJV8nWw6Aj7XcuQzqT1DmcDztRslUb4yCxKKBaezcR+3bNEgRQXRFKsfYcbJJf7kjYF1NpSKPgsgKNm2gTu/ML8JaNlYqpX2tGR9YqbEkW1pUkrg9XM3cDqPWVTUOYWt7mxGSzRam5dwvpAX9xRhUQ2E7oRTHrlUK+IdcMmK4b1gnQth+0rYtrizCcQGdyEeGpQjyttnBjXI7XdUYrEunhEWVCrVx7P7zGXSHXfsJDITWQ3RmIo2LLwUkqe05E6ahr/BC4Ql8BBOGq2jEPm2jjsAK2QZDN/OxFq7zmJlTKveDp2AuKz5vr+SrvuyMph+5nwZmDVhuVpYYiSRSxUDy16FhgrWJZPePln4tghW0ORBSpLKp/YuIF/3/S8WR4IrWP6fITDlZt8S5WgcP+K33zPvDrqrKh0/HYv+Bf6lyvufsfiZrY8MuHZrgPaVPycRzavBnFQ1GPB5uMjuCv5McLpnsdKINNCsb9xPo+I8gH5RjLHSK0rhsOWQ9OS+kicEtP2GbHp0OWNdNzRipLg/mCdCtZ8IH3+zH06EpYV2X6isBtOaUSeS6r6K+uqMet7Oqeo7hz+QVL/UpIPlm1hGYJGLY+IDQxVRNg9No9kJFbu2NcWoSKF0WSuLGPFh8pzfbJUb3pUSiwXSbdm1sfMVV6oblum2CMOFiFudIPGuJV0U7i4pQkZGeFSgNG/8Ck+sDtbpjtFMY4wF+xXidgu5NUQqw5TKL7mgX2u2JmC6xoxCIwLrKnh6c2Wu/MLZb7jdZOxbmQ3dZyNoYuG07qnXJ94VM/MraZZ7imjYlIL619eiD+seBKn9JbUBt7Olj+5M8VGopEs5VuCO6PcC+J+5XHIPK8dm1Yjui/E17foVKJ+l+jv75lDhTgXXOeZQ2eYS5DLQmEToYdGdXwJW0TzQlq+Eqa/Jx8Ny1VBzEhWav1A6iKenjIKKr2A86wycHCKc1dxzCs2gV0V42So25lyc0F/TpgxsNY9eXOkGBQUO5y4UKgZQqIQR26XEaENk7nibWDsFHJyuHrB5h1bfUDqiJ4WlPec/YqfHaQFuTh8yNBJmCWuTeTfZ5Y1YQ8RlpUiWFR1oimv2LsSd7XsQ4OrzuhmZK92lP2eRg3UV83loUILGHVgqTzbMuBUjekuEBPGG4xMvCLY3AxCDWAz5fN7xN7z2hbsckd1nhmPDhl7jmODPK2Et1tsmej7gEHzbn9A1C1hA0VaEPYerVakW/B2hDXxf9L0X7u2ZFl6JvhNaXLZUlsc4e7hoZLMJMECCqibevi+rgYaaDTIIpmRGcLdj957SZPTpuqLw3oDA0xMG+MXn8tHyqJjKQXW92w2D2hjKUVLIXrmzcrt2nwHrB0l0ezQAnL5X1i84IZEeU9Mr8hosbOnzb9nYibJmQ0l91oSpKMdgblkcYFwU6zVEV1Z7k2i8AnXa1Y8elNzp6PSJw62x/sJj+aaNxRzgVwLyrhgYsA2W04v/0BowRRb1s0VvVbIecCEEUuF6BZkzvga8sOR5/UH/vDz/8Zx/Dt/+/VKnu44MmObWPcT7uPKEhOPpw2tfeR4fIM0kpk7b354Yrz13F4/c60syiZkNCAGSpFxKGQQqKi4PWbErNlv9/zwh2dMH/nH15klniikY3TwIBp66dAM6OZ3hHXLfzr+F/yfLb/9z7+yqgdanUFqqvbMoDSVK/hUCtr1Lc3FEQ+CVTgq9R7BxGbx9Js39ElgyxsqKmynqaee/yYXMIpnSqZVo1JJTBIZJLo0vF5O/Nf/+j+wZcmXL1/5pz/+GZlqlP9X1Brx15HqQVKTyJSMu5LDr4Z/9/8NqSLTuwH/BZKQDDnTRo+xN1aliNsVlS0iKfo1UmYBc0b2I+tcItMWo/4NFd6z5Aq9OuI8syoHwSB6hWDBt5Y0XSmjJGxvfF2f8OZEFgJX7ShUDaYgbC3bzxX+ORCWxDAqik6SlyvavbKJ/5kvc00qM6N/5Zg2iKpmuidsodHCCa5PN0bZUYaWUNRcTKJbA+PdYNs9cTas+k4jLeu8UB8OXGXBXlgWN+A2EXP6EbGbKJWku9xZd4qvRUM7RJoycE8C42Ye9yV/t55is1Joy34ZMEPLoEvUZqamIamFIXa0URPDSlQSed8QskQ0G7AtzHeE3pPWlTAZqqMnpRMmGyQrRtxJKqDHlZUZk85QGeRsiLFAWU283RBZM4oND+cZykBcz9jWIEWF6gti56jDhN5cCMBLKmlzwF0XdLDsNyVG94z7DcvJMetnvL2z3n9gtJpyOuOXC1V7xO5PqJgYl4o0b9mNFbn6jVsh0NMDt2zZ3bfIw5W1H2m2gvtdosSFFC7kWuMnQxtmyCujK2m7GSkMW1UjMKhwpRo3LJsIs4Rm5H74guFHzB3el4mrVxhVMY8a1WXyEFmKO1FsOK41v60Z2U5YVRGtQFaKwmyg/4TTDTN3GBvEFkSq8Pe/0+pHdJ65NoKNWiEobOwossYfA1P2dEngfE2ZRkxTsQ6fUSzYccEXHmVvaPuGySnMMSCzYa465F0T9hFvL1SFJs4rfnLUVcGYZqyRrHfJRRjebC0xOwZ5paJFzJb7soVhofUKeRVUIbOskc29YfgR2kahRcn26iH/ynpuiccHjiISK0FKIEVBoEcvPafqiSZ979l2zBRjw+wN5aPgsUwMy0CZHL2VrKLiHsGbha9lgW0NjRhg9YirQr/puceao+hZlobmxxYbZ8p5z6oii75QikRIe7y3zPEFb65MV8vj+IptJYia/r6l374yiDuYksUVNI1Ec2e+KA7/2RH7EjULGu15fYi4VSLMEcqFOrQIFch2IZQtqE8MxrG+i9QW8uQJjSOrEiN6JBX1ZWQu/tf9fCgoPnla80LSLUOxsO4nHhkIouKaMluxw0aQN8+zGngtVjZG4IWn2ksenIcwMeUHNtuJFYUeI35XINH02vFt2vBsPHzbIcwjm/XO/BgRrqQyDclfqeqKaAxvXizmoaaONYuoKDU8yZkhOEzzlmmtaFzNLAYanYkERAftSbP0PckqVutJZ8kiLVMR2MaWvqz5sZhQj59g/Yn1Y8ucAspGqtpDhuwrrGqZ+g807/aUriecBWKn8P7KZ3enqTYcJglqRaYtN12Rl5W9f2CdM5/XjHiq2CRYCOzvEb9+QhbvOdc1b9KebTNjLVT/1nPtCnTw5N8LpqzYnb+wie+ZpxvlroCXArTBCKiyxAlPc3bc9xuMHxCXgl2heblLDt3fEPPv+bDL/K5S0CtsvtBmzbf7jN1K/FqSVUK0li+l50lkYlpRcUPxmpmqG3VVcNCW7fED5/xErUbC9ium/4kgJDJoZi60eYOVM1d3Zl9seJWBZzkimxpE5g0z213G/HWgDAr58w9MVabQK3ov2FjNqgSLP/LVWPa5pZETmR/olhE/RJydqN1CPS3IHwxqFJjb9583ksSpRLDPIF44Bk/TVngfWasSq2rwglArWAXiECmDpywSxksGmcltwCdD3FvislDuPhBvCttuCGokpS1FncnOUZjMkmZQJWoyjHzAUOBE+v6DaAqy37AuX1BNj1gbVKgI4czLtWOzXQnnj/zr3z/hzoE0GiZ7owmSYARLcKjlimgyswHWiXV0mBV8XeO/eLQZEXZDJSGkiiUEfDuziwrdduRVkHSPDYZVj5glIqSkaxJrrsn2MzHV4Aqm//nI7Z8cj7LkeIb1+QrXgc8//gf2x4mHdIf2Ce0mYoJOeHxucIWgSZ8JMuAXUDwTUknrQGw8cnlAiIH50RHKkkMB8/QBXxqO6zOiWBmeIvUw83kN1F+fyA+v2K6k2JdsuoZG7qg+/St+90wSAZsPvMqJQ7TkAdY3kXwZ+KubUaZArQZdwyR+4rpGdLNQW0WVoHKWT3LGmoaNdygC0Ujk/IDLCTHXpCZi93vk+YWcHdXqSHWLrD1atZzChc1+Zh9mrkrB9Dfm+ZkCxSksPLjAcXNEURBlgRye2U6CMN34tYJJz+zlM/AP8ikSqwd6+4UYFHaB2+bMWjziKoV0EblGIFOOgaX9gJcZFV4RIZJJpLYlupFOQZpXspJUR4gGfJmRRn0fAHwmecUqoLYdx5yZ0pZYroSNxf+95qfnz2TVMIlEOgWK3QJRYa4Fi9xTxgllG9QQyeFM8gFBh3dX0jYiupW1/Mp+/ZHXLKjFAGtiHjakpxrPxGAqOq4M/kq165BmT7VYBgm9s+yaFbM6rLzxi/iFkDUp3zDFW36/fOSvaL64M+39EbJA6hVvv5JGw+Hhgf/yx/+D9JDodI1KjiGvXPnfCOYTqbjyUW/pLonoGzarR7xb0C+BcfMPHuMb1viKjxM6LSRr8GmLzQNeLthppEAiykiwLfY4Ii6Wcmy57w39tx0FkeNhYr1WyKrETQeWDoTcYpoXNH9Fdn8iyo+svaFt3PchTUX2ueCyTkxGIKzCv5MoeYU6YGNG25p6EJzVlrUP7L6NnP9Y0Jg9L6vhsLwiugntJXKxlsr8QEdBnFfiR8/TLXOeKzge8XdBMlfsIGhuFT84i+g3RCnw4QO7g6PM0EZP52qWbx4vtwz3mm6e4ZLolxZvBUsEX3iiKLE+YbJFcyQcSqxd0Kc7wX9lzTWFuJH1nW612Oy5xxVVzRTRY2OAySADaFkj9wVjemUWB0JhYE2ksSOvD8QssYUmy/fI0CDJoBbiAqWsvstDYWWnt6QSGtsifUWaNE1sUEoQS7jJlvVe8DQISlnxuKmoixU5T5R5Zmkm+ieHiIHDfU93yWxlJuwO6OuO+11Q9M/k9R1bUfDYfaVsFTvxA4/Djs7WVLqltp5N0Ni6JAqBsQ1abvAv7yi/WYp9iZMjQwBTBfB7YpiRSMQkaHJDVpo4KuIw4vJCnDpwJbmeiKmgjI6YBNM7gU131D6QS88hfkWIwP5w5yHWmDkQvipc9BBmYmhY0hfK0LJtoKZAKckkWz6tJ86LRijLLR/JqaRxHqUTRa6YRGLpI/8YV3IJExYlNUWfGVSFtQ/oeETmRNQV/ZC4L4JidVBGyFvq04YltsQKgo5QjKgY8WVAmcy77pWsLnyLW7ZLhyolaxypnxPkAt9tuf8AZZXZFx3Xo+DNPcO6JYwZ01nCruXUHAlxYmlL/iZuaHFCTZZC7lBZ8bRkyovmnO4Mhz2DqpCmwsSZzzkQqowoOop4ZBsK3pdgQuafvvaocSHuwNaWuTOsJrEtDVPdYJZEyjds7HksBw72REFNWDO9npmmlbypWXNJtd8R047bXMJS8KXL/MSB4B9JaouxD/j5ieA7dvNb+vOOcuwQheDSP7JVhipv6X6V1LnGlxk9ZJrW8ylKll/+yFFYbtYSksEWmXIqELplSjX+NGKUpHEzempI1x1xbIihJIoBOTt6NzNO70jDHlLkpkakTATjCK5kk7f0NjMWklsXaOodwta06694L9C5BtNgtaIk8jQUvBeRcm6YukxWO9KhRinB+bQQ+iuL3JOUIRZ38tPCMg0YeWZ5zNzPgXUDVTujZU/TJ5Y6o4TiNX8FtfBvbstlbFD3M22oiasjPN1Zq0SpZg77DfWmZ8gVo3/kPGk+NRKfR9btmXmdGH+xpClTbmay3bH2K6XaENpAFXcYe2T7sEW2lpsRXF4zaSoIIlI0E4ORXLOjsoK92GBSZlduMOonpPiPRHmmE684G7goS6hG1p8LmnXh/toyh5Fu+I202eDmgckMhKLn18ONmoGpzMTGImNNaBOmMrBuiFXFed9TNIra/kDZSn5UBYOyXFUCpcnCUj5HQtlTvezR/kDZC8zyiO41FT2pvdM3gWuQyFVTjgOMHUbcGZsZ2W+R6ytFcUM1EREMjsD9dKCMb3Gq5HfiClPHfTQUy4qZFNfR8lK12Lc37kryySiSNeR5RveJdoH09YGHa+KsHU5CjCvuP3YgSwpVIl2GbYmPENSRdVtQXBN6doipIRlFnVt8VxKHklB8wPAj2y6h0oLtTqQYUeNHxDAw3gbWkGiXkuO9IX+L5DphK8syd2CP5Cix2RMdaDzWSnA9pVvRMWPVZ+ryD+T8Hpk8dU7oQaFzTTy+wYWRUAi6tzON6ThWmfgXQXYN+vzA62zow0oInpNYuOfAkFvWMnHjysUbFl+SvUeMCR0i9bZnOTiWGDEuI8PI5+TZUnKrSrzwBFuj9w2rFAj9PRROIcnSY64T1VJgF4HSB8r/CNo1jN4w7j8h5R6ewLpMWSnufodrPXIw1FOAVbJRibrPzE5j1y0ibVjNX1ncFdH+RhYSlMIyMYiSnSu4yJpXfqAUO/zN4+eVcZT04a/8kB37cmbr9hgtqc8K8w/Qn+/4hz/wpZLcmi3e3pF2pBeG4bhQL4G2jpQ1ZNUTyr/j3Mop9SR3o/WSWlUMEyzLSp0y9RgRBdT5KzIr0BlTbIiFZioX4lV9p+SKCckD+ubRS8kU4VjUIHf03ZZaGpTq8L4mVS0PlceaA859QwhJThpVT3w6DKQyoO1M0gUjDcooqifBoyhpXY0rK/Jr5DBBWfxCtFeyfgW1InJE5DPLtGHMkXGXv1utDUhXUqWImS7UWiGkYaLBt/8NLRzYhkW1CKXR7iNlMASdufuO66L4NGfup+o7p0PU1KmhU4FjUbHahFQC0UArJb0q+PVbos+OYD19vSHjKe5/pHmBdgj4TiLEjUxkRpKmBSdrtEvsxpYmjRRlYDUaazz6U2ZMI7fLTHOdyMuOMRQQ3/Jm+s+YUqAaeBXfkGyJ2lHeDOr6N1yMSAbkuEUah8qG9VjR3j0mWNyLIsuVVi/IJVDZH3hKDbKGZCT+1xI/1MT7Bj/9iKPAmgIhWnI7w3IBOWJ8plo7VDoi00odHfVk8RwJsWaqSkoBOyFoVcJrge8kFYmM4+gzabMSY0Etn5ExYCWkNbIhcROCnARMUM81RR6xt0hxM8TpLeBJ4oI+T0RKtNdoXSB+L7jHE01aaMZM/mJx5yP9UCCRM351iDDAZqR51qzrTPUgqOWN4smTtcfsW+biyvBYkK8OlMdsI7+y5eOmwFlJcpnNoUY1kaqRRNUxPRSsG7AyoN3M6EaiyEyMgEcws+Y7wpSYxxJdDmhtsLPFzxopIiJadiqSvMU5w3rOmL1hCgVeL/gwINYGmReUVKiS70EmPSHqF3x05AKSKBG1RIcSZT25dKQ0IpVlXg21Xil3NVXhCVNBbr/SxYxYG0xqqOyG/hJZp8g6zhTbz0zbK+FkeDgV1H4LXuO2jrmYab78BstK/lNN3QR+SwmXX1FmoX7R2C6TwwtjWhAyovx/Z8wnRPCUXjOuGyjvDFPL+oPHV5Y7GucslU64IbGKERdr5Jc7aUjMZ89L+YXQZvTTSnObKUdNOw7gILNizEhpRnb5zHUeKInoueAlCkbp0Ci+9RNluULV4VPFFBbWumIpn5ibkV5Cvgikj+SNoNSGYGvSrWW7CqTXMBe86oKXnDjmCl2WbLXhzpHGVvRlybCP35sGfGaJgn6GMxohPLvywqwSZfFCGzVuV7PeGvxsKXoDvuZcNbhUkllwSXC6HdjbO+XgOA+vKP2BLDStqpmDIy93xnHGzQI7KIgzYTkzZ8/N/YPzXXMMKw8+kZk4xB3iQ0nIM1+859YeGX3P2g0onnlYBHVxpy0SOZXUq6SJgpwDVXklVZIpDPSiYk4HiklS/xoRN0UjGsy6hfMJdRqJ3Z3LReNtz69zYjpZcp6h1ew/18wpcT1dkFOG8h/4p551s6NvF7Z1ws+wvVdEd0GnG6k9o9YRDiPDPnBtAqtYMF2FVIatWTGHhCnBro6RAKeGnTxjHiPOCB6Hit01Y+8JRMuawTKxdhE5WVzesO4SZQWyXDG7RLJ7NhfJZnqLXSxBJjpTYix8i3fy7R+ocmWKmcNZoq6CTbC4i8AsgmSe0W0mWsFQDIBmTZFQg+wNvanJt4AvB6rZsIkFP24Tg7esAqKAmiNRJIxPyOxAfaHerthvI/LXZ7hbhubvUE702wtZtdxPhr34iHi6UJiO+RdLlwuOCtywZzNvvquSmxJdB2SeKYF9JbBaUccji1+ZfGbtRvQYaKsGwRa/Cog1tjCkGzROIYdAdEeavSSYTBFXlssThVl4qgStcti7w6KRemJaT/h2RTTPNKlBXjV10JxcyWwVZgpsBknlK4QsGe4af1hp5/dE90hnt9wfFPdBoMPfMOIj6+Yb1cuCsYEYNZt0YN+u9LHlq1tYL98gB1o1cht3vKwbCtPSKMv4/so3k+jjxF5+QNhfSStEX+P7G8VkOasDc1rwZaRYeiSCebtBvAtouQW5IDEsTc2mW+lUppUzRv2IaEceMyzNiYO98Kas2b2ZkfUjtY7smzO9P5GrknO1Ml/eUP8MzVHxo7ogekVIGndLiF2Jy8/YrcAkx3ItWf2dCMjmxGhmjIXnm6frFbWbUW9mGvE70gAxZEy74WNR4OtIEHvyKEkNvGYYTzOhf+HrLiBjIpuMsI9MX0dcTFwet9DekDETVY2rW6glrK/kskGmSMx3pO2I14LzdKEcPOIm+Sh+Qpo7S1pRdY0WW+rfGVRdYf68pXt+z8OPR5of3/H+7X/ix6c3/LF7w/vnP/L+/Z/5z2+OPLx9QpYndHdGu4+sQ8XtXHIuVpLMTG2FLTIv8sTgbuQsEXZl9vF7cH1uWOYNcRAEmUjFjhwrvHpAAMpqjvuS4c2KeelYw0AVnuhOjqW3VD5/r1z93UT/FlJTMPkzUVn0vSPVFh0l9r5FhRF1a8gviuQj8WZJcsW0C5v+ykPz7wSz4jo4+xuNceTwA8uLQW4XUjHRyxWzM7RvXkl7g46a41hxWPP30HTesJGO1hnGpAlZYP2AyyWrhruueTI1nZ3Js8OHhWp7Ju8VQg+oLaTFwe0RETVWWGolsfXIYZmI5UoS30O1vQnkvGUqwSYD8hs5T6wfBy7GEcsHiqc7uVdo8YRTBusk4ZcFrb6h5Yl9/ohvPYswCBwveqSXmt7VpAhKR8q2xz9WJFEzh5ZyaknyLUkrhJLc9SO23rMZBXUUSBXR/hukARkjayWRtcG6iMgzZvwJ7QoiPSUzSSSU2BF0QImEJGBz4M1dUG4TufS4qSX5BUQFWlMVN6TpKcqBWAiMzOyamUnApBI+3fAZpp2FxwV2luT39P4BXUh0kxikRd0ExtWEWeOcIny1aN9ymyvW5TOqnjHvZl5yx9BGOj+iV8HyWiMWhUg1G7lFBYvDUHUlzdNPNMWKEB1ZOVI+EJQnqUSqH5mq7/ZfM0f4JpHq+/MoPvVMbsbMK7b23JsRZ/P3AWwI3wstnCN8TQz6Ce09FCvRXohxJstEsTTEWhOjI+oRpCM5j7w4kIpyeUIOK3kZsaLh63TFzK8s8hU/B9Ryx4dEpw3XZqBLK07AeR1QG/Ed4NpVDE+CLg9oCvIjfFA119ZRmIAfFD5IdkoR4wrdrygE6XKjKRKyYUUUn5l9i6wiczXgHzTmqvnqBbchIBfNh0Gie0uVIsUPnp3T2PAn3g2KP8YzRalwneNUGdzkyIsn+kwjEpv5SjHsaYqWg/CYdYJ+zxxbxt8ajGtRSMa5Yerf8HUKLPMDOQc8A9l7gqzRMlO0nspCudTstzNIS1kIjPGoa0tIC8nX5AApFUjZQDIQTkjpvw9B5o7UBpFK5NIQ8gmxBKQeEPc79AajrwwFDMvKVGmaMTLZDWERLNM39EUglw3CrLikucqKpbzzJRqmtSGYTHpbcm8Vu9tAk195wpLqmm9yz6koeU0Da7GBa40YBC79jN1smKZHogrIu0feBV018hQym6akcRdEUEizxbcLq458EYb7YWVsXgldxssGl+90S0G6/QhTx6d65fz5u6+OeY/yknBVZN3Rv+5ZXjRbVZDKCwkomkShJHkVBJlB7Ugvmo1rqFJJMyTMduUqE5tiS7f8wKGtMCxQCK4qEBvBO3fnJ39F6RWlMuiJ7Tgy3aEYN0SfqS4n8jIyqA37quVHO2FRvPodMpb01xKpJa0AYQbsMlNtVtZRkMRMpz3F1pPZstcbxPyALCp+qvZslz8T5hplRnbzlY1XaAGtnpEbha73aPmIrAOz6HgKjmlViOqFZcoUfqB/tChKhM6sjcMc7pTZ0dYjy/mKPhlcXPH9lSwXpJJcrKIHpmlBxgZSpng3o1Ti5aEjHO70GYQsGOwzbr9QtQ3H1jKv/4GDntGlQsaK5UvJ61lQ7S37NhHiRJwalPPoHAhiiw0XGnfnqv6Nh1DTFS1bLcjtlavr2eJBS6IsSSKgw500fGNZVqpTRtwj44Mn70/oYkO2N5aYoAHkzNIkrLpTxyt5rPFhx9c80C2Z/PeZ0Ua8S6ir5dMtcX4w6PLfGdZI0TlCf6eOGZt7fN5zFzUNHfEo0bVhXlZkVEizcO4lsi/IEwgv2PUTQmeuRYWrJSIKbCsQRYKNQ5wuzG1APxSo9vv1Xpym++VAUXX0y1uKXCAuV0y55fV5pez23M07Wglbb7HdG44tRPEHdPPAstkS/knTb0tyChweP5O7hh5PJydm1yOM4a49ssz00RNeb9QnzWZ+JbpAPL0wvCZWpZiMZZs1v7xmhofInBKqlBzbGu2eEcNC7SLZKsJoEKn9fog8rpy4sKYb5VZSYcm3iHSWxvxPPn+7UcyewgSW7h3ymMn6gmi3VIUmfMikNy+E7HiMBdN1w+bpRln1hKwR8xucKWAZSZsARuK+RKwN9F7yKhU6TwyrZO4ndsEhBwV/s5xfM1J+pNAZWW4Z5h0mb2iSpNvt2L5fCaNinTbwj4x5ec+aO9aTYAmCNCde+xWVRtoQ0M1MaB25T4S0sEiHX1fa+Ucm9YiwlsUbUjzj1Uq6VRTO4e5/JYeVugiQI7MQSBrCpkUbj9WSiwNz/0BMmn4jSZ0mm5I1eOLXG2rJNIUj9h/wskekgmbeMCTFqVWMVQHlmf3tu1JWvliaLvFQb2haTdl+hX1CipZRerRfeJYjx22NxVCumWqC4AIpnCnczOom1njnspQkMQEVedWsbf3dIidfKcavvJlP5K+B8jYzLo45Tph2Q16hWmc2/orRlmY+ookInfFtAeOVcIf4SRHnQPB7zmPBpN9CV7DdJh7SlcmN0L/C8oWt26C6DlQmOo8YJuwQ0WqmqAeSAjevfCs898YwKk+UC+QLdzeyfZGc/2iIckf2FTw3hPYVdShQ4UKfZ+zXV0yGHA64IjI1mX6SULdE+URRPiNKgUme7BVeGp7XyLA4qmuA9BmdPtB6RaMf8WXD9vCW4qeS6ez4HG7UcSD7K6Z4i40DWEUqJlAX5rXCzyXBFhRlotM9Oh3IHAiULGbD2/xKDI7FbLHdhDKSax5YGbGx4nYTuKXAp0jKMHz+RlxeUNox2wLjPGoR2GjZ+wFZRWo0V7uy8ogQO/a7HcfQ4Kcbzeoo5crdBj6ME05vmN7ACxtuS4n5umUTM2ZYKb9V/ICgC4KuuCGFQ/yvxagOYHRB6ANeLKAgxQ6fZ6xaSesNISdsqFgXQcx7rrVgXVsWK7iMmmmKiJtA6ZmUV6TY4KqIyJnQaGTKuHRjMK+U0pE2X1B+QY6Z1ETO3nLTM+fOU2dIIeCEp5cDsvK0u5ojgdq3yM/uO6tESkYjELGly4pkFlYRWcYjffcW8+yYupJfm4IgJNO7hbUT3FuPeGeZcs3juvKD+UIZEn9p7vjdC4+PkLQn3RR6SJwbOOQr7tQzd4lJeF4/fuDl5Te+ffyfTLcZMwpWtTBniG8yoh1JVaBfBn795f/m1/6v/PrpA46e13pgvxpM1TLVJcpO4CLRVPCuo8wDORlSCKzO4lSPJJPVZ0QYECmi9YirX9HKk40jrYopbPAusZqar5NjvxX84h6RsWCsrvSmZF4ja3GlXDTTNSO9Zrs+ckawrHCxgv2k0RUIAVt54GE7s0kSbiveCDp7hxQ4O8lQvsP9FFHPb5C2QDo66vEtNYY5N6TzFvWSWY1kZye6g0XagjflyNhpxmbD3J8Q4wTrFb8MrG6HshIjGx7ngawLUi6wzYIsNH4I3CvwsiTmApQiHG7MOmN/jqwZ5mmmseG7v2+TUVuH3LbkuCEJxajgFhRJRFIboRSwOqpxxMQ7yW/x5Z0YExKJHww6qO9WomxJNKA087LHK01KAVEGRF2wSyVyYxFCM6wt7qJZbzOkA9kZJpERWeAiNNtndtsf4XFhDAkzdlTbxEGvvF33vCsjGzfSXTL69sjRONZdgTk9QZ2p1itvTl/YliVv7CvF+g3zUDCKK0lVTGmPeHQsKXLYHyh8wygyV9WSF8hZUCvNIDQ7BJ3e0d4U5TdLrRqEvPN43rAbG9y84MuJVQwcyor2Tyd6Zbj4zFxJgvQUNqG6heapxxYB/VFRXXqM9FwvGV1EQi2ow0JTKZxbCHlEtAvrWKGniXEwqFkQP10oWjgF2ObE6kaCfiUKD6tnXjTlUpPaA5MVyGJGLhpkzY07D5uM8ZnXqOk9bMKIYaJuFOkayDpzqGFpnokbS9288O7rwk2BGyQVERUGklzx2rAKh248VXmll5LZFlyaBVs2ULZU5sR99UzKo1fHYxKcVU1lFGndsgtQ9nsqIWAVYCo2a4kefsSnH9CzQR4ysf6M8Q6vS3TSLHnlEF5RV4txA74QKHFDqStRvoJ8YZkvPDgY5kBxz+zRiPyZ/PIXQpmx4Q3Kb5kXGJTi6Y83TPBsyiPt4YFaVzTiB6p4RV1giA8UK+yqltemJp8iPgaCqKCRNNGxjwKNwQRLYoOXv0M8l6wW1v1A4+6EQn+Hc7kHEL9Qu5nRObxODF7yTWfmTaCqvteP+sMd835mozNqk/iqF7bCI9VKQcuxXAhZk+sF5Waepzfs0xuaWiCKkbxIuqWkxhPaiHQl26ogS009ZZq1o59n9Kh5mBdq4anUJ4bNK2ZYWO+BlLfU6wOFU3CPkHqUzbxsruT1I8Z/YPO6Y6ne87IKyl0k+J5DafgqXsjOsV8HNt7RphkVRoKpMcz8Ojh6v0WZZ8Q607uKsS9wWPy1Q10trklsTUWuNXVR4/9FUJYPlL9/h54dahzI+ZXX+RXZBJbk2XYeM4F8/d65vbqGfwgDeuZzmfk29Vi1YZAVNkqa5YnL1MDlN1SzYXwwUFU8mN9QX++cXwpCuLPmM2JtkacWJTSF6Fj7kRZNPBkKucB5wzB2FC8F63VmaGdyVkjnEctX5O4rSXv2c2JbeBa5MtsOLyxuTEStqH534Ce5g0WTw0C+GlQs6CvJ62ZhnGb6dUuQiqOOzE+C35oT6VtgqwPr+S0nGsrqDbKucbpnslvutxM+S+6l4xAPFLFEaEP6eyDfIqv1VHVHWjNxFdTlkUE/8qChbx1DDuBrlhMULxNZb1gviQdXUnSaVRlsKjAusUFiY4V5qGkfK1694HI4kkePqw2L+Man/gNtXrDDiSQM8Wj5LL4x1xPC7YiDQJhXUrkhiIp3q0LfCvqQWBiZXy9cGJFeoOuZrLdYO5Jiib13GPGAWQTC1RTeQKG+q0h3jdCJUJY0S2L94YloatZixVQr89CTYsAuM0k2TLNlEAsjDp8zRi0sVYWt4f5+pqokhYkcO4FdG3KQ3KSi94Y6ZzZtTVu8Q/mG7f1OmSKpHJCmpb9n7DqQxAVFxi9veTePlL2jJnOzLcMSOOiCqlW0JrG/r4h2QcaAKjrc5JnzjibWDHKLzpmwesagaJoKqxVaLqQKxnqGUrKWmaQ/IGtPVi17v+XjmyfE8H9S9G9JuidMV/KlR6SFe+/h3ROmemBRW05pz3j+9v39yp7ZDqhUYlWka+6I+c7XxZFz+X0ZoiV5SZTBsnyzmLJlL0emLuJ9ojJ7Gp0R5cTWTuR2IhSBbBz5p4moOrwTVB5iCqAitFuE7VCqQqlEu2iES6jTxFCMyOv/IL0c0PoZ23geuHMcFGVl2RYVb8SWB2OIx5ZRVxAFjV9gFawichaSa0ykaMgh4RvP7b5QrgqlDaQ7QpyY7o6//I//m7/9t79x85IQOpLekMyMwUK1UqSCWjjUY6LvrmQl0EGR+W4tJUtyFAhlEOFAPb5h1DU2v0WnE1OXqQh028AGgZEWhjcoEpYjdXqDHEt8rkhuYRYBzEoKN0oHOgluAQYn6IKE2bBpT7xdP7IUkdHdOK43ji7zOEqkn9CrRK011f0ba2iJlOzmV96aB4SX8JqRWuIrAfWWvY6IW0HTviVEQeVL/uUPG/73373nf3/7M292DdYIpDHsjESsniW8YyN+pWsUT2/f8vDHR/707gccgtZlhtjjZo/oXzAs+NCS9UQjBLWQKFqS+J7b6OUjPpe82oC0EWduqJxoJsm6ZlZbkeoIIWPDnnUy1MdMNRe8NRJNg8kllfNUAq6hZnz9wCAEOkrkXvIU9ffF4eQos4ZzBx7SfKVaNOY2Iw7fl0/+bqn7Bj2tEG+sXaLRAlaQOntEnEjTyHao2VYTXmwYS8OkjgyLJ31JTH+rqF2BGgzF4R3+mIjDivFXVDEwxYH7h0Qee/zZk+KdOBSUQ6auWrZNZFF3chSwthAPNNMdH8+sVcZUK6MQTKmm8A0uNOT7jK0DSXmMvKOSJ4qKsFa49RvDokiuQCeLSldUWWCUIhDhALlaSSoRrUEmjRcjehNQ3hEmzzRpgoMpWQIzuITsJz6+NXxq38E40z0GxmXh1AjCHCjnFcmEHGuCqYhFwZS2SGUZzSu2d+StY/pzQd4aRBbI/jNhb1nUb3xcD+inLYVxZPeMa35izQVVfkRfMqv6iIyCbtFcA5z3mfouCWLk0hfkjzvCGNmfCoZzQqcrexv5evyVhGeVild/YZUWoZ/R5Ynqh4iKBjMcKOmJzy3eK3TxgDI7mqHmkltcXMhPC97WFCajy5lKTxz8xOucuYYeU0iiEiQlceuVLZkoR77sIT0ZdLqw0RJpJWWruaV39KPAC42hJ/kvhJB4KHtKMyK1YWpL9MOWWc6Mza9Y56gJLG5Hkpo+jXwmMuPBC7bxF+JNkaxi+rliJyxKD9wRTF3NEkvCrFGuw4mB263B3CeCeGRz3vNVRAZxJ/mKsh0pdKYUG5TMPDlFJuIKi9yU5E1gLT4z7wa2YaU8jfTFC0udGTeGVmRsek+hEjtdoczMag1SSOwBUhMpwxWiQY4dhQ1snSGXFaZNPPpEN3xmvFcM7j3D7yJP6VdkcizFhQp43wrycOTTMeCjYpsidd3gSolZN5jtjTfnK4u70Bc/sF9rciUopw2lNpRseP3wRO8q8jBj/AsxDMj8QjV+wMZvFNMG5gMhWGafGQuF9X/CWk3dzcxjzemiKBLI3H9XtQ4jd7VhEhr7zRMXRdvWbNWRUmpsbsjVF7JesOJIWvcMx4mP9ZmVEnxNP66k1ONbSy4a+lpRFSOYC5O4oIWjkB2yy6AVs/fouOfN8kAwHSORXlTQWwIXUtFjjSCIL3TzlqQTQydJRzhsThT1meXmML9uKfNIxSNlueeSLF9jRS4qDAUiK4Q/8Ud5ZTtoWAxObEiTQApHU3tc+sjDxqOuv1KPgaLZEDcz9vZATiXXoSI1Gml7zEXQ7Q78bhwQq2K6RkQMhHKhGTLfdldsVtjrSCcV/bNmsJHmo2KzWOY6s1aK2LTUH8DcLyz6HXX7yOafK54bR7P0pMMDS/L46o5bBeoI1eEdsihIi+SQGro6YtuSUyvxu5pKGZztaCgpiiec+BMjAb3PuLwhYREpUCwXdPbczcSgejwDW/8IUfPB/II/DpTqM6ssCPfMYfkbv9yvnIeapq35fSnZmi2TuiHNN0oCm8rRywF/kXT9r5T6kdm+UMwb/OnKYOHivvLpTeSDUNQ5kjyUbsDvzly8ZFOPXM0FUwjsf68RY8/dnBn2may/0r7xiPAZMQUCipg+8DEURH/i/rKg6gYbT7zJntZ3mPJIHg13WbBpetKrxtBxdx0plOy3W/yTZbKekxmxU0VtBEU2uHShqlcgoH2F+amjtTVlkZncI2sZmcUz67YkdpFYt0jTEvqVsfxGXFd27sb1eGGRDc3hgKkfUINE+5KjC/C1RgrFoj20FlNkiugYtUJ9OZDCM2LegNQkV7MZBHhBzPp7ULQGHzR7VxEKxVzNqCWSs+ZqZqK60aeMvD8Qo6d4ksRqB4tBKUlRGWI54AuNTzfqpUcZy9pM3Dmhlsyty4yyY6kSzkuq0VF8PlNf4XlrSSvUSdIwMYwzaXXc7zdimLFTZPl8QxQbxt8aZMoIeUXkwEFfKCoPLNy/BapiQyEs4SWxxaKuXwjyBmlF5wlpHxBzRxmgcy33JDHyhJxfWIxAiMy1WOl9RxQrZcywduT3CmUEQbwlz0dWP6LCjvm1RIsMVUaZDaZqyFGh9QMxW6zdE8qAtl9YNZBf8SniTCYGj9QCGyJ0C+U0kEXN5o2Cm4a6ATnQtTfM1/idHxUGpNti/rZQjZC1RT8rjNEUOtNdS8aLYpCCdK5xImMfa2TTob0hZEOwK81my0//9J/5/Z//C2VR4WSkjBYtduj5RnaaJCT39o5Ria00nC4PpMowKTBBIHMBc0NWNwqb0FuobU8Ukmxq6nDieoHTdcXnzP2lZ75lxrFE9pLRCYRcodDIw4HmVnBQNbU9EuuFLDyVGtB24oXL9wpZd0C692xnx1PoGNhxbiEWgSQnDq4gasmqfyJ8M5SmJul3uGC4n1de9EpOAl/AFF/4IBQ0BYNU9LeWZEt+9/wH9n/8M4efOqS2LHHE9Veij7CUbN1I0/5M3XY8Pf3Anx/fsN1v2bUl8mgRckuMgia33OQG9yGhc0MKhqAWkpWQDbGS7FWFFoLt2iCEoM0twj+S5g7tMt5nnM70uxU9faHWK5vV8dX0rOuFbAJWPqFDhdWJponUjz/Q1iU5CKQecdYhNiXSjizVidSMLN4RZcl1LniVDXFaUVGxljsKfUI1R96MA8fxxGQSUSbkEsEUG+bWkuydqwp03cjBjtTTzO1XR+pq7Fbg+hlzj5xdxfjbjqndo990CFmSdcH0GOgrjS5+xeRXKgQRyVWX9JdE+/EvlPcSqRWbEFkXiRGKdvi+4drMnjIBwFKM3LVnmiQmC+po2Owi/S1yNQpvM8G2uMozLZlLvaMQFhEiUnl09rgbBDRJXAliwKcCkSL4A0WtsHFG14GgX6iqLV/ChvjTiR+IPG8qVl4YP154kyeOS8BqTXxb4JcG9VySVY1YLEELxuAQ7kxqK65MuFwzJNiRKNt3JLvQJs0jFcSZdbxwchkf/4IrHWsxsz1IunjA+a+cqgOX+4X2klGz4CnPbN85pneCKsKyzxx1Q3R70kHwsP6J11mxWR7pHzpK0RO7ibmN5HngxU1IVZCGPd1loCozKmdiqugfYLsBNxtS7Bi7FozGuhZzzcQc8OUrshpRAkTaMPmJyzZDV7IvSx48lFPDujb4+coqMtEV1O4D9e4BTIcVDdXTE1K8MC6OdTqAyti7IP19Zl4dxjdsUoludpTp8h1ME1rauiKkE/fFsC6PjIXArw128UTvSWOHuJ9ZXKDOPbofeFkmxH1GiwvLPqJcZDYjVY6oZccIRKEI1St/c4Gvy4HQFZjt+F2YEoGoDXkumG8zw3xCbwN2dNRLwrlMFiWpXhDFjpw0sqqJo4bXA+IWYd4yVrAahaslOTQo9UrtGl6Ex9cGt3/Li7eUl5Vw+R1+eM8rGVsmYrnya14QPvHHNOFvFWuYcPEbXv2CsguVPnHfr7z89Ds2bsb7wJR6FilJWfKbWzHvR4L4zrNg2HG3mWXZMYUO3xU4u0B9phy/d5TvfnUUfoFeMaq3uC7x0/sJlTbcFslU9gjf0AVJUQTUwx1VRmxQDLNjnRS9qfg2PTEONXNsSRHmUXMcWqrlV1z+jXKXiEvH2B+I59+wbiGnklwYZFVyqSxm9/8odx0nURHrAmEjyf6G7trv1ZA5ULEhTwNwpKDFPl+JvuMxPCA/VpxvjzT2ibehRf0YSbFl81vFy7rSfx65lgWtE+jzR4KdWKYNTtXMy5kwfmFeB57EhKsu7ITkYX7AJYnaHZlNQz6t+BApLNj+Qn1dudUT983CYBv8cCPalud4oWivmNCwxJEIPFmDNBPOHqmd5FkFmi+OsxUUXSDEhXaC7DW2gTJIhL2gRMKviTkpLqWDOWMmQZwrRnND6pGIIjMh3i6c9cJldqy3ik1zp00l5gV6v5LtgpsG7PnE5nxnHTLf5pK8fsXELxx2JSrXlDdFNdZ8bhW5ONNXJYf2J2pXEEhsJrA/G9btj/z0U0FRZ+bfBMJ1BANlucMtEq1emGJGhw11C3OxpW4y6/WJbTIIaSmzp9ocaO4G++IIU6BXkrhsOP5rxzZeiexpvz0SpsB0nEnughAdQv0bky8I4wnTddyPO1L9BZWf+Llw3NuWYl8SafFfW2I4M/uVuXwlKcfWKmz/L9T2zjgIMpkiCspLSbFUzOuX76RqEuJeI7JHZo9aIUyG5daRfYscAm59Zbl8YBIZzYwcMq6UqDVjpOfUrKyiIpRnol54nGHTStbrTCo/c8s3Rvt3rsESJQzdhsrd0OMeMZfQCB5vmeLhTrF4cvoC6z+wM3CXxOCACjFsvi95NldMBXsk0itOuUOskX3KaPMATmJsZpPBFwbhNCFtiVIhqjtRPDKpBSU61CqJH7cI79n5lbacue6veCmx55KHODAVCn6oEWVBthlh74Rl4j6ueHvmNN7wucC7RO9HCrUnDAHTBVhXLrLlFiTpbhhtIu0zq0oU4oq2K1LUuLJmOTZs3YZNKKjp8FlhyytXdcFXC7shkkJH/suezSXSpky5lGyuGbGWLFYgxYqfPeG+ksRC1o6mrFiS5qoMd3GA9TfsumKcIKuF23gm+pnFZ5aTwJV/JAmD8x2jjUzrQEYjWFlNppiPJF2Sj3uM8nybHV/uHid/YqwqXhsFOaOoGZoXXo53vomMMJLoKq4jjEvkHg12FynzQj1k4myoZMILgxcFkpJCNCgV2QiPbe+oaqYyK95PsBpk/b8KYyjpxpY1Wb6aDWVMZB8olkzWEoEkbjx+bQgpo+OCn1pkLpg+tPhhz+5NZL9eUK83pBZQjBRW4ZYRmTPWZPywIuRK3t8RHNDLDeEmBBqVK+pY8uAXlJHUVjFTMJmWpUnsm5ndfSCFA/reYqaeU/zMJv536mPk5DN/15LF/huuFWghSWvCf0okV1BEkEnR6plCrmjl6MNC4yYOpUOrlb02PLY7spWkKjB3ml6XiKRQwaNumTKXTEuDOVuCmKGShPpOKxZMDSkK8ghabUg5kdX3LJySAdaIUi0mXoj3TM4TtShx+5aqMGjheWIgtU84JPf1wPvwA3lfEbghTicWFMkXJBp8ysTrii8kg5GY+JXkesrTAa6K2TmUyUyLQqmRfSnIdUGtCjp/Q6sKssfNkL48YKPnahd0iyHlO02/Je/vON9yL185LM9cw1e6n37mHifEG8P+gyJsPhDKhvr3O0K2NCKQLq8U1tDWHnwD6R25uTG6yFpL/FnyKCzxx9/jvpxI2rHoGd9s2edMFn9DmB/Aa5AWEaCOIOr2O0jKF6xNQIQRU2e2osQvB2rlED6QhUIuA8gSgkJWBSotICJEBdTIIqKnTNYB2UzgJbJW5Fuk7LdkJ+jKkjLuSHpGr/B0+BPzS0ZvgCaSxAtLbymqE7dbgcBxT55QRzZNZpFP9OrEznbsp4xPE7dXiS4iRdUQbyWbKjP1mdlK9nLgnJ8op18hP3FNE+39CfWgqNBsiyPrbSRtd7TFV1hWViq+dYJuhiQWfMgUL5a0V6zaMg89TxFSOhPFd0iaCiUPpSUpz9dFo5oZzwD6C4Jn5PnMLbbkVrGpLhShopo00ify84wXz5RppRFb1BiJQaFftui3K6RX1nmLUJ6hH5DasFhDrDRVMojXHZKI3sHcaE63kdYbbFGxaPl9mHMTG+uRQUD9hAiJsHi6TnEZNdLUOATG75DNTB47Nm7htTHklHjsC4puwcwrxfhCuauZf0pUbsc47NltXlmnb0z1kfq8pREKJz2bZYe//oPt8Qdwd/J2IOgac7fkrSXdM0EG1FJQ6QJ9c6QioctHnBA0aE5jy9MmEFXi1a6EvNC9NAQ9EAvPB71lf284REvpXvDmd5yloKssmw+JdSOI6oJ1HeNxR3UTeCd5s2aGNrMox1unie6CvyV0kcllgckb1DLCRTHZmk1zxMx3tLhw5T1Fe2AdA7VbeAqCPmds9PhWII4zjWip2plQzyj/SFYzfVhouytp2WGfJ5rBEI9XUo489VtCVVLWA9O0Q9qPyNWQq5HeWYqQUELAEFCtpwiaTIXYlajkcP4T02ZL4xLrgyGXJSpV361/7ZVGRSrZcJkslJ7Npad6tkxCcNc9axQkf+ddeSH4B+4W6l/eIzWMTxN4wXiSXM2OwzxjX0vyQwYyr3eNeB7RriIsJ6SquQsNOrCcv/tFm3df0E7Q6y3d5sjm7wLZrdxfRmT/zFB/omkjl7WhHn8gBsfQ/gLVH9DTQK5mpNqxLh2ndCPvN+jR8VZumURDtf+Ax5LjjLtU3OQOkxWhOFIvI43cYeKMDV+5N4KzL/ldXJB9yeK/08+P651QFMR2QLJjAQor6fMrNkRE9YSoF8IqSWFkL3fcsyIOAs5QFBF2KzcL5X3Cpyds8qxiYC4+MVMTq5b61jJvEw9uYqsUo3lDQ0LnHtl3XPYr+rcvHLctqtzwoBzxJPnU7mjvgU/8ld+FlkpIiC1JSuptj18dt3TkIEfub47sb9+zPLn5hBSW86LJ5O81tgmap8j01eKmQNAz+11iiSfExbE8dLRloJx3hNKyyAs1DVNpqNJbRNPT5J+pL56wr8j3hm37hd6sjMU7NvPM8SwJ7YA0Da76wikd2Txc8RdYy88cxkeOynEtIqKbsC6wikj2FcZKDnlGU0COsD0x+AZfC+pvK+W6g+oree2QZUSWPZ1uUW4hTx2pGJDJoOTCEu8c9B5uPWff4pYjtgu86I5neyXOb/m5zXBVnN9IYl1hfMQXb1nsivWRUpTMo6PYRm5SU4UnpKhgZ8B7VP6MEwkGQW0qXOv5GgNvb2D2kvrbDbXRuOqO0h1WO7I0EL+HaFUL4hJJMVFlg3OKY1WDytA0XBvHvpaI9MgwCdbqHcx3oumY5N9Q9p8I/htC70g58nqe+X///S+IDOgMcSFgiPn796LUsFwUKS2YLnC8T+yMonEjX/I7DukNDzEylF8oIrjDmTm/wdw7ZuPo9Ux7Tbi2pe0bOuu4W8+1zbRpIPzhCaO/A+Qm0+MLh5IRLTVGGlK1knihSx1OeoL3dHNDshe02xALhbw6VJHRVOzWn8jFggt3ym1GqUzBDW0KituK2LQgNZmALhzsGpYyU/uM8BOuqynTDRMTRT/S+Pf4euVzOfFeFOx0pFQ9/yYWUuXYu5Wb8NweVqrrwrTC2sw08Q7DntMbj6oVXDLLXeFdYJwN2kmU10gCurbczlc25x8Qi0fePOHZ45dEGTxfbYFzFU6D9Y6IZ04rlerxrDgXGOMJ6h27XSR/DixTyeH4hnt15p8MuLMhe/Abx3QeCecKqWcKd0folfthIV4k42fLsZEs68gqBAXPpOa/s8o7NQOmEvhzg80Dp5dH1I9nyq1AftihbMONEddPtM2Gwy0wxx1fY0/9uEW8JtoysQxQ+okpQ58ssVXIDErMmMuFddOicuS6rlgdgAtZ7NBTRZFvJDlxl1fQFfSJTie0rKjFL2wYiGFHLgzbHxzy//e9infMAeU9xnkO+ca8KFAZtc6wM4R2RVw2jAeNWD1ThnZN3H3BLawIkzHVF4R6Zqf+V36tC9+HfRWJ3mFlwfQgyRpKPKU/Ap+oSkFZ7XHxDAJ8fUIIiy9eiHFF7x0IODtLHFeUhPG4xdwW2mONZPXcbw0maGSuMdrxqN6w5u+yWSEGumqhTgp5NGT1E4/9O9qXwF3OsOxI5plZK/pry+c18yWWzLYm6IE5zjzIyL28YwaNYkNIijzVdMvILQl0fscdxb3OVPrOZCcwgXn67nkLOWPCjShajCxgbom1ZhQFcbdDNgLhRlA3qDJZeuJSI9tEGm/ImwBu5LpGL5D6lTWPCJ8QwZGlwo8Xoo7cPwde7oI5C+QIrRDkcmT9JSHWhqtuEcsDaRoRQ82xULRrTZ0U9rWk+RIRQbJYWEIk7AqK9s6qLrjyK1n8CmWmczuUqNi4DVr/CcoGd2p5eR9Z7fdaPjtnpu2EcGduvuAeHc+rxTavVMVMwCCqRLQjd7WQXk6I/t8Rk8LOluyu7N2EkA369QP25c4P25ltU1Cw5ZKfv9Mu2w2HLLGiR00/Y+6eS+HIT4JL3mG8Jby+YfER167MdoTjANcPTHmP2ZUoFblvLXGjUVZQv0qcVkw/PnLuFOJTIkbwWuNSJihHKb+RCZjHQHpj8bpFc0U1N3wXuBQbmmJgU9+olozSA6WqcPWAqh1v1MA+n1H7F256YTWWkDwpRpwwVHaktYFr7sjmj3TiV2w7kYJkM41Q9iAK8umEaBdqBMmtDHVF8BE3T9hh5lwlXifJTQlO1QbdZnbyFWlntP+FdFtZh5mKnk1oad70yPcCNW44qEQdZ/olM9yfEcPKxhX0sWZ9rPGfPd1t4rBd0JOkfBaYY09+1hR9j+0zo3kh7wwv8g1r9Q337YzK3zDXM7EK5LVDB41ZDCG+pXATcnkh6QW44XaanY100lPkSJwWYp9QdY25R3KQmKyo65byHkhqYJKOtBnJaG5J4GVgCWfmSSPCQpMKBAI1TFQkxmILwkJT0DU7eiVJy4Rd7+T1lSTf0cQE00qWA3IuuE4KLRSqFqTpwLUsKSuwoWB97Mhi4YjF+kdyTGBnVnmgWD5RR0H6IXMrbyRKVpew7wbaxwWRFtTuw3dQkL4SVGbvanyzktgwLJb2mgnfPLt//sr2CKYYEeOCGb7gziu3x69csiarHfwYCOUbxCjZac2m/oTOH/HJMIcrY7353qwRTvgiU7WKdIu4Akb5jVasrBTAI86XfDBbduFKVy3/a0spmHxG9wKx31CtNcVdc3tXUJUev7vz7FfSfUdpG/LrQl4ct/4X+pARy4UoBF0zsFNg1q+UOeCGwGButKbHNJnZrig7kZcaOVrUX/4d7SeIW/bLM8YrbHzhpgdSIVCmJIuG4mqQaouPBdfOs9Gf0D8+UnrIrwtLdeCjKTnqmjDtebspKJaC5eWBaBpS80oQO8K+ps6B2lz4A2c0K2l6Rfg9Mm7YJ80yZiad+bIpGO+a4vCVHCXiVuLDlmPbYQtBMa6ojeNzJbgtEyed0NohzCcmdUblhUmdmXJJlme+toIxdaS4hez5baj5WMzEKbGsPeboKHVPShFvDojxR4gbVlkxC49fM3iHCAu7YqT3Z5z9GcaavNSQPtPKG12eOQnNUl9AHlmKr2RhEfkZITuwfyPWEEKJAtKcEepCvK6EpmYea3KsmRbD5heYoqe/LeR1YHoW6JDw05UUT3yZBYP8xLgfGGxP+X6h94LK/lecCdymyOs94ouSIN9hRGJ8zCgtqO+ecvSEN4Y0XhBvPKpJiGlL9hplKoRMjHWBFBNz/optMsYsSCkoC7jFgbgaYlY8bGc0NTH1nNbIw23hHjWXRqP4F3K64opviOErLM33bEN8ZnN4Ynf4ie3De7rNnuPDM+3hDdXDew7v3rF9d2BNBnE6Iq8P/Fv5jBCRaMD90JNzxzlVjCHD9JV294X1NGNi4ro9IcME0ZMaSXe3TKkmsCW2GtTKKs9cUo3Y7pAWQshk8YlUZVzZks8GIysKXZKqRNtXRBEJyzsmHXEqk1kpq4yVCT09kacanxRpTchcU2w6Cp9ZxcrNBaapZRlgOcEqJGE21GLF1huisGhfcjn+Kykc2coaNVXYZUHGHl1UXIbEfBMkY/jhCutsGd2GtWgRd8mkMp2vmMOCu/+V8PIP/DLi4oWxOjMjOIkFP/WMX8+cP/9fvH79V9ai58UH0uQ58MLjy2cKBfUisM5+VzKyRTjJOBuEhtZtSYOmyy3eVpi7YPUCLTJjupOfBaaAkkfW2rPagf7Xidc+M0ZBc4loUVGZid98Tdk0iLtAiBIfNMtU0o8tv8Z3pI2F+sD+TfWd4txb0APHMmHEgHkONO1CLhOtfuKpaknqSggWc7lx1BZRlQxaoXvg5AgAuWFoH1j8nRAVXVFjYsvEHtWPzEMPLiKc5qg0xXwgLjUpe1Z9Iq8tMZR06Q0x3vBpQoSAVyXpXuCkxsUR76rvZ6ScCXLBy4LkDpBWyBNevFATMWmD6C2bVJK9QaeW633+rqh/rVjHZ8LcEoqVUte4INkricmeYi5YV0nSmlwH1PRK0xcoEdnnxHqvGEeBDQ6C5spKWEuKm0V1B6Y6YtsamUBTQ6ki83KiEhWV2zLFG2HY0dAQzUL9tKV3N34bJ4rdkUMxcs0Tb8I73HWCoseEDUaeKW3DWidS3hFYMEYQMpi6ZRAX/MtKkjPaKIJoiUl/h4Slif7yRHpW7ENBoKISiSX9Ax0NQoHVkpAOLOWC8ZmwZoaU2fgWVTQED5lfIThkSiQ02Y7kKgFbxJSIhSTlCzK+wZtM0g0Ig61LspgZRM1yr6C+UZieso1kWTPvAtV4w0uJaxqaco+tIo6KVn4jTA08XJCPgiJLJnUhh0y1+YKXksEJmvKZwQtSkuhOMY4zoU4sN4lwM91BIWfPWjzzbbii3zkeaLhpj4iRVG8Q7hMVK9xnikIS0htWN1DfBeVmJOU/o6+SU6cIywOxLLFrzUVs2RQRXXvGGJlzwqoF0UNdGLSe8DxRlJ4oA3WyEHsqu8WbnrLM+BmCq9jmxIQinksaceFWW2ZR0q4Tcn5Pe7wxvL/RUGKCJCbF3E4Ui2A39VxiQTlmrk6BPjHdEpfS0GTP0Dvq7FinmtAORBSNM+hvr9x3maAvkEqug6M8LpAUnz911E0ANFJVTK9nVit4WRSH4kbId5x3mKpkTjDrQNkGgojU25ZLJdjEgsFDtcxMJai1pIu/Irodz6tg2FlSHLDFgogroXxAIij2nvtloowV3bUgtgkXS3IY8c0HWvmWOG8w7Uq5L5imQKtAjj1WfUD+c0u+JMwpoXcn7r7CiJKUof/QUv840eoGVVQ8pM+cXWJbPePWiNpEclq+26X8nUp7EpZb2XOcj9RiIbkWLxqa28AsJE6s2JgI7cTyreNUK570HX0PtKFkFjXaVZAFw3pF+4qHKnL1ZyrTsNNnnC5w8xGZf4VKI/IjzbevcFfkUXO2C122uMLhw4UyeqbKE9YG3zWsMlCJC09FRTqBbApsITFYirZk9jAEyaCeOZCpzERGoEX1HSDTGEIoyaWnbju0CNztP2jHH2mqTAw7jNsTsiHpgq3J9Okj59eFWv/Iknqaek/XnJnFI1VUpNeGqBVzmqiLI001oQSM5cBYvGGcJY/5RjYJlh8ZzS/crad9bZh/t0Fbz5A3LHfNQYB8uKFwdP6BTCKvHZFAufyDQ/ke52uiv9OWN0J6A0oiHiLLqSaVE7W8YOIDoV6J/pXp+gbRnMA/cKk9m1vkbWUo68D560+Y0sB4Z5EFufgZdI9zkfZFEB4+0+snar0w+z3HlwBqQ/m24Xr/TL01NKUizTvMq6bffkVNFR8XxX4LJkv6+ZXmr6B/zsjzzwzWY49PSDch48i+UpAvVKXAze8Q1tJs4DLf2dLxsv3I/uzo+YmhN2y6xCw7imJGXjRnKdnVK/JbwfTjgfJk0J3iNgRYX3h6U1GGSLIV5W+W9KZgIlLKjMyZjf3MsPyBYfPAs3bIq4T6M/Nhobg/fAdcFhrrwMeVh+pC7J4ZcuZwH7mG37FhIceVeSqodpm7r7Dbla3rkLbi42+Rx02J6O5sekmVB/AVS7cShh8xZYm+7dmnC1opTmZls1aoWKBuFl9M+KDQW4coE8soKa0j2zdYJfEu0JjvOIFbaJHWo7RkZ1bEWmBWQ50c2Rhm3/GTfuXT8oZaSAoR8UuBkQL4mcbMtPvM5BXGSxzf4ZDdciFLySm1lNIT7xlRdhTTFqcmZB0QayQKiRCSsNxRSkBnIQE5wTQgioyWDVZ+BZHIVjIMmlweKdsJvlo29cJ4umJNg4sP1Otb7PPIrO5U+8TTP2/JqSGUCb90BBKdiCS/IyfD3Ersa4lsMsf3jnEreL9kYi6BjAiazdwgao/9ULD+VBJvI1bXWGWoR4WWJZdSIGaHFd/YmpLb/cCUPUkWaLPSujOi2GLXiQVD4xRZHPjGlVJPiOuIMQW3raUQgTwEtG0pWocJIyJLWBaUKZFtwijJLATBrEQGVrHhXkqqW8VjnRn1QMyZp/IXhCgxH3+k/JdIkomzkjS7ByoCpl6xfOaWj8j9I1s3k9OFbBts8Qn1b4o1K6T4fqb0zZ1xo6gLQcorm2Lhn//T/8HT5pn/74f/D/uj4jcyyTuO045pHPmX//iOP7/9A59ev2GrmqcHzetjSUpPjP9k4de/IIJjiRaBpcVzo4Tao0WDtwq7jIzSUc2R9Lgi8kIRDWa9Y4UkxUBa4ZHI10rz/PxI+vjKNGRk7Vi+Rs4/w+/3mV//4tk0L6z1gkkL1jtMY2m/SMxj4m5bpL8i0h4vJNPmv7JZ39J072E5IT+fccXv+brLFFnRCYNUK7SRtTHoGbZyoTonxJserxTWnFEYdPmILjVRRkRYMLPnLx9/5ewHsii4DyO22JBUIK6aNMM9NOxNReBveB3pxTNj+EQWHslXms07Ll8FY7ODsmZJPVlW+CTw+Ug2X4hewSnyUKx8CwKlPcVGcVoDKUVKdWPtLONrRG2BasCsFpZIkh65rBRjg0KDNOTZUSRJT+Rm4B+XmSlaUE88bAz5xXLyexCSap6pwonLH99S32ErFNc5UBvQeENeLC7N2KtDVgvKGYr9yhIyyhScXm5sFsH7hxq3WqSdeCj3JDmwTgtNHRH2I27dIkTPejswIBGu4aHN2A4W56iHA04uiKQZVKSbe0r5jNUrJ1bqbiVEDUIjhi+YXUP+WoEO+LRFOk/I37Byi7YSs87o6sxifsSmSMoSggJpSLVEJItMK8rK740axRUp32DlD4i4kEIgC0/ZOrwIyDPkQtFsBW0qKBdJKB0ld9z+F+z596h6x5zv7EWAU+a6G1C3ilOQ7O8z/uQxzw1ntaHcTnRroLAtrILylLlqid5UiJx4cSuPQ83OAToSmsjqHHo8Yp4yl2+ZslnZtzPDdMTOVxIFlTdcn0t8EuxfM60f8JXlJR8R8YXVKppyx8NNEpcC7xxyf8etv2M6RUR9QeUKmwq8XlmLjJE1DTNfhOI5d7g4cmo27IXArQVq8wUtHwmzJyb73bL1/oAuPPs0sO8bcnxmeVi4K4kSNSlkLsKjXMKoyOnbP/j738+EZPkt96z9wD/+fub/9fyv7NeICopcKJSNCBSehF+/J+6lyaRXi1sdVnvwE/kfiljsMP6vzDFhbEKtFmVP+NThheODBhUEymuyEgzC4eY7V9HTxgIhJtr0jkV7Vrfg65ZyUeQ04LoNujaYW8fm85nb055FvyDdRG0q5LSibMVia0ptCSazqN8o0xacoyp/4NUJ6s2APknGL984WIvsSgYxI5Y/YRDMlcffKvZVQv4CYq/JnWD3HzLS2+9++2IhiwvHl0dyPTJojzMlEwYbG96UkQsrMlW8L0vc4hgbzQFLrSNrMxH/vUSPErVpKaTCHTL1x2cuP648bBK4AGkmbx3FOUMjMXGFxbPjGTP2hOItfnXkNtLEn0n9FVVcWVpLqG/o5iMmPaBLhzKSZdp9J3jf71xSzUZoVDdRhj1qLBiXHmEETn9FXBRqYygImLslbm6opSbONUWhKKxkSTWr6mjxXKJBpgtWGEz8T3AW9MIR3yfKv2vK30/Um4p10GyHgnZSiAdHWO7MtsaNjqdvZ/hjgbtozFOJSgPhoUYMisUoFhTL+o23QtOTqPgr31JHv3nkZzmzZMEhwCcnaYuFwtfMAWxSyGXiXgVsXzNMI3kbSamhCoFJODbFV9bpD0ixMPSGtFXo8sptVOzqH4hXgepKvKyR0vH/Z+k/lm1J0jQ7cCk1vukhlzkLklWdKLQIWmrUgnfGHPMeNRE0CsgiGekR7n7pIZsZV4rBrTewgZn+aqrft9aYC2h+JZ9/YuZGVC1WgCwla3Y000duzT/jm8SH1ZGPGiUWUtwiLw3XrmFoIr/84NFXoBT4IvOSHMe0wagRlXvKL++Yf3mlW3dchol2q9ifFX5fI8SJ6XSjeGMp/Q7d3ThfD6SxZPsw4vON5nVh3nrm14x9yMgxI8Mj+hC4e4XzqYGww+AZyoBVA5w1a6UpfgxIETC7Eyd54N5acp+JjxVxXYihwr6fMM9n/OrZGcU8z8SwRdU1+9MX5F4Qdy2CEkdFaaBaE0JmkroSY2QjJWe/MIqZoijYXSZeRYkvVvbvTuSlpBpPLBtL6c/ovuHH+yurmflHv/Lmv9Obiu2N0ZS0Q80SFvaPK+acWY8L3UuAtAG1EgrP6Asw/zdsHJEy421EXTdUBXCXkUKzmpXT8wvt2n4vGpcDHO9BZ0Y3MgwljZgoHiNzsxBvEeUki1FEs0LoMBePqiTZ7MguoLqAXR0513jRktVCkxXZlrR+xlWaeZoJRUQwEdSRfl0RdkDGEl1ahstKSQ2uhJMk3ilqeWUtJCp/Iqw7No3gnJ/ZURIPNeGLQHclfXiFWVNpzzRrygmWWeOsQDiJYUakCusTS35C5ZKkNXVuGO5b1k+K9XZmz4GLrbkfVnzqSatinWfWTSQ8NnQXx20O1HeS2+8Vj22mfdezrhaTL3wsOw7a0hwCm5eCZC9MjeBeGPIMFK8EueF1856NgCpuEfcDrANOecTwFWqDKxRGLZTXI4oGl1d8ccVWP7HG7z3LmK9IWbLEzLF3VG2LICBfLKIeMDoy6h+Zpg32P2SKORJjRZgtq33FmDvWK7Si5lBm5q0ku4RIC0U1kqJmNid6vZC+bInpV7SbcWlilzvyzaLnHfFtSWE0shDM14I7WzKIhiWBOTgm3yLlkVisVNLjxY68/I1l8HzYWHwEISSyHEFEgpQIWyPdCRME1iZCdQZxY9Q9bm14/bni9jEyqveUEWRpyZsB/2ULaYQa5kni5MSCQ1nBYd0yMX2PqasWlwuELCmb9TvUoT0TJNTLGSuOfFSSsp44hDecLwXNJmK+3eNrx7fiRt01bMcrenxACcvFvefR3VhWB8mwPgpaXaK9ILGh23xldAGfLP6asZuKthy4++mv/Pv7B3Kb+f+vV5gVYhu+AweeoYuRafONmBusT7ST/B4v0opiNKTdQugucIqMC9ShJqVAJQW1/44YRSt0WzO6ipv8bxRRk3XPPkYsjpOrqYsHtL/iZU8nQNQ3csqoPNK0P/Cab+Spxy2B5X4kfx1oThf03V/g+BUpNdd+Im7v8Ooep17ICvSyYTT3OOXo6hF/9txUQd1c0T7AYqBiz3p9wRaPCHMi3Azz5kYeN2y6Le5uZjOWFCuwnMh5w+usqB40Lu4oVkGljly/nOi6rxT6R+R2YF4HeL3Hp0i/DWyGCzrDQQjkrkAkT2ZPGUpsKwm9Qf13KYtaM6U8cPV/wDjjixolO4JOhHHC+A6xNpR5JBmFsJksDdlbxASIM7p5JI4SRCSZhsxEzAKVF5LLSAJJCFJ7ZRgbUrR0zsF0xfdbwsOCNg6Z/8JSa5rZ4eyFcRCsvOA+vUXsFw6qwOs9sv4NW46UY40snripn7jXM00DociUs8SpzC1e2XeG8/lKd9hThZo5/kZWNedWcS/2HO49QX2PjeSPF8Z9TVFE/rhuOeSvqFGgzBtyORHinmMrmeeCdm/xsmA9jqQA17Kg4w1OzSjTUH99RNkr51Ihzh5yiZU3xHVhYytcJ6nFE9XtnlEJTpXhjay5oWkrifsaqd40PIuVMluuHlTVEqaRez9SCo1THZNbsOlCLjqKuOHt3QPy4S1FLEBcMeM9X6fAf/yf/p806oWDr/g2VchHx3EeCX6DryJSTRTmDpxnCi/4sUOVjlUpbD6Q3I1SC1ynqFbNOs9UNORdJHIGV1HNWyabyGnifz39L7S3ivkwMviG4jXAnUe8ltSbgVwLzLJy1gVaTFSdxWvHtoHLpSCGhuie8eotq/uNIv8Zakl2K7JvyV1DGCzzUlAZwWu9IiaoV4EvS4LSbIJn3mni5e/I9i3b9xeCfkL++J75o2cVkaJt6OLIxI1m7Qj8mV6CbCcOlzPLZsMhl9iXCy8PASNLqlKRpxVtNbos+ao0r0vGzJn4S0A8FfS+Jo0Ssz0hDx3+84x/1xDGZ9Ih8ewq7jdbSrfiq5lp3uDFN/Y3S9KSXla0zwvzw8hSQXtLxItijCt9KGi/BZLSpI3gazPxNlWQd3TCkSaB9S15WfiqJ8ptQTHcUE2F6S5M14JVzbTdTBSKSGRlhTWTR0+cJ4ruwOAlJsIoDmzi7/hOYY4tTS1Z5Mj6C7xKQTc9Iz5vEFqw1plyTOTtHlsVGP0G/vwdd8kvgnjSOPWO7cWRhULJFZs6vLBEsUfJEXfrafsOqQ3cXyjeFSR95e0UiM8FbBxqLVhFRU6PyN8b3EMk7jznWfJjWVH+rjD/pFnkB8wtcdrW2GqgnHtiOrLpAuf537C7H0k6sXu1uBu0jytlfkeZJ8Kx4nqGmZ6m9sgAo/kTtfxCmiw0Gkui8Qd62VNuBHFdeDjNpNYyXS2tvfFc/cguzYxMdKZn/XAkfy5QvEX5haqtcMtERuI3EmTB+ijJTYFcFiIHdGupuhtqqZH1yExB8wpie2OpZoKAe6EY3APjfuTxUpHVTDYlWtYsxQVhNeoq+L2p+DEUTH5EGMfT9BZTGmx+oRxL0uYPkB1SHHB6IJY7jOtQcuRmPVX5nnW9MsWKYlyoZYk4Lag7QxMCvdyicmLVcHdaUKYiqZJUjzwOmvOXDb57YjaKzTZQys8U7Y9c6he2J0VTWO5+04SfFqzKuLpB5sQ6G647RzUn5qr5jnhu/kZKf4FUYmPNwZyZqxY3ZHybUaliqiD6G8oekGFGBsnS1hwPimGUrGumDScWrwn+nvL+C8YHrNpRCoG2Am6O7DvsnUWu4OqAXyaKXFJWz6hZY6KjVJ6mSuRcMLiMqiee05X7S8O8DwRXs7UlKSlqkZjTKxt5j14Nu8p+9z9oR3pTs6ZMHd+h80dyrsmDZyx7NqFlHG/4smHz0wvr5QOuEpTlFqMip6lnKBtyXIj9BRlGhJ1R0aB8jW1qcmyJUuKDRagJrSaK4h1tu1IEB6qhD5aYPnM87ugiLMWEFAWNeMCfE1uTEG7HU75RmT35UrNVGlU8YesfEHcLSzY0y8hN7SiVJfEzNpwo1y/o+IATmTzOSBJV24CtEeoTndzSJ4+vR+YokEmxFCV59SQV8K6kSBFyhVARvx2Q8oos70k2IMcJGzPhbEiPBvwVNSmWh2ea9cDZPdMqw4vbI6hou4JefyToO4Qe2LiSGdCp40GNvMqRV3PF5A1HVTKqke3B4RowYiH4SPYKSaS8eiozIuSILzPxCpennuhOnNpHSsCKAlNWxMFTqoBsBLVsEEpjxYTXChaNkTNF6vFxQyoymypja8v+a49ykaaw9FXFNJeE1FJtB9QouD1pms2eTT8hQo2SLSefeOsLshAYMSOdIOSKpAxfZslP/Udc/YEqb/miRtzXkv0GcjfTbTVLTDh75W675Yf0Fb++IxRvYLUIIG08qzW4esWrAT87fBMRYmQOb8FpypApU6JKA6u/Z1yOHPSMsQ2lv6JcYo4SjEcKwSBLXstArVqq8pXUJGoRuNYZlCW2NTJl5CpRkyPFjMwjKhkQDVn3iHzB6ZlJZMrSU7qV8jJShIZwXMiNplwzG3PCihM2adbCULgtVP+gFDuKsceaZ3JTUk4za6NRMROtYVwj/yQFv+XMVhly+ZWxsNg1M68rwQRuvqLOO6Y+o2pJFUdYFdpUjjrceE53UEvqjaNcS5bGsb067CbQm4IqZui/kXkA88B8H1n9lm2fGJp/4K8C31rcDw3iMxS7FbMUFI1keIxUeaK4Br6QyavERUN1mgn1iaHeMzPhXvbUW4fUEzGWNEkzyS9EkVkwZCMoTUmYnxFrg9oo0nDHcp/xXlCuERbH83hmFYksJGn4FekdSVhk7kFYoli+y9GGCd/P5OdI/GtFlfesOuKfZ7bvN9yqlSqU+GuLMNB8PMNxh/JbbHcifdqyPFjc/BvlwzuSLPHSoW6RfRlwL78w7uFLFuziiq1gDV9Y1jfEQrBTgqaKfKskzZDZxyM307L3M1UuiCYzBc/XHoofdqTrjbJp+VPMjN7wudlTTVfcty3bX270l5qNKJmlx4mMNDXVx5X2PhOMJvmZaYKXnSNPmUexkvdH1uuInGtEZ0lFjQsBeCCuLdEo1PpCJlMfZr7GlfudYPYL917B+IRVR+L+icb2YN4iXGTu+T64RIMPCtKVqC3d7BDrmZzf4+WKSnAvz9i2I0wrCoW5WMTW4KzGjAvF7sboHSrfUciWQgtCDWfhSW5BeMNBJGqxkOVE3m65ioTrX7mrKpSpuV1uiBipzpFCaK61xPp7vInU9UAYtthHhVgXTJzIpqMpBC/eMEQoLTj5wrbLXKYRrR1L0Eh94JJXukHSiBF9rkj6gtNbynxlpKZ2IJQii5opQS1G/OFAszzzNX2gPsH1UKD+2LJ5p/n6o+X4daAtB5zKdOGBbG44Xji0e5LeEl4Hio3AfZuY3iTsYGjmyLpPjHpGdYl57TAfF+5ItIeCU2H4+I9fOf3xiVwUSJPJY0BIg/xXQXaZ3EyswfAP3aCYYSzIG0kWGTUJKBLRZ7IE/W8LITqULAlL4I9fv/L/Mf+CTZKwerAlUY18DBaUQqQZmSRSf48orDGihQIW5tzQpJVkPC5YChMRSiOyZBg90zJy0VsOTc+qZ4QzNAGKJhL8G1git3zFv2qa+8zOluzqAR83yB8X8kukara8Difqo+U3d+Mn/YasdpzFM5W1qIMGkxEXT6gbYrUw9jOtDggpiKrjZf0r7/cDy7IySkdhNdPpws4e0due5SQZm4L2+jted1QPkn8Ewf3zK3L7jphm0tsW1S8Yr1lsQ0xPmJvBmD3GO7IsebEH6gLENHNKE/aw+c6ON+B0A6eFbTmi0x61XolGoPonGilBtPjKcv71CfOuwcqMbAOHEqYkEKnjev8VP3Qcpsj+rkYoiVo9LhmMAeUSZZOxTyv2AnM3UO8GRDoi5G/Y5YhOLTFd4XqBxvF3u6NzR9rqhmh3+GlPeirxemHdZOIsWZvMb4+KJgXcUFGHEbN7wKQreRa8jzWvmxca2XIXNOf9Nwo0om/J1wWfDqjdwpOVvC8V2XtoTyif0c9X1u2B87ClbHt2NjNeFPF9Sx3PLH2maDVLubB8O1AcBy7XjN3DJljEuwnu/s4Q/x3dFfy0Y9AF+7JBrC2v+8hmiPDPkhxHTiT2VGzGFVmNtLZmKRLFaUIfdtj8E+vV4IChSjQKBN9t2mkuEf1HmocDWuxwCIJLCCnYbgQhLnR6w2k5MNxF7tcCmf8r5fgWNpo1bCD+F9TUQrVF3EMaeqTa0pgacS4I9czgM9Yr0lAhZoX8pFkeF6L+RBEPFCjWeosVL9jiD74uBQ/mAWUKUqgR0XKrBkp5+H6Tqy05VLgxYg4LYd0h1oHuIEiFptVnln7LLgReucPaC8YpBDOXqWXbKlZhCOoLUzSYMVDWHaIt4NWT2oIh9qh6S5lA3DIiaVT2rE8wFw1Vnsg+oWrFUCxIJfjmOorxFacdwbZE78n2AuPPVEqhykxZrIy3O5S6sRZ7dHJU1R23myLojLtFcrEnCYnGsakVkZYlSEJRIfpInHcUZY3xEo1FyoBSFrlmykKRgkc4wVBqIivGO0qv8PoNZEdQCfIM657KaroZgjngg6Y7z1Q6kMu/koYvPL6dKV8PfI6WzeQpR4GatkxzYqpHchU52xp2J+qlxC8R52uiP7PIE5WfUcMn4tu3VGplY66EeCCTUGrFpoZc36j+VGO/1ujlzOPwjquWdH5mrmrI9fcYrezJOSBSRKySpCVX61jKlo0qseKe6Hom2/Cw37N7TqCutKLCNCub08yr+E5AK5PgagPpFsj3I8u68lMVOXjJH27G2nucu0O4b9yS4WFWuLYkGYO7SPRuonpfopJg1h0hWT49r/zzXpCk4uX5DbqbGIzmXQ0iw/aWsNGwvUrObmZ6TOi1xGnDRszEWJPGE6/nZ/7fH/8Ty9ry8vkzf/33b9nfrcyiQimNqjy1uOPKZyoN98sFqzUqTfClwz8shP4JkQM6RIKOZFshTeBoMn5SZBtYyhEvFLYfKL2k0Y64WkJjsMdXUlScFkueITWW3G8JeU+0VwovECQkmTB5Lj9vcOd7VPwvpIeIzbCaDZMu6Qb4rZUkPL6NNHlL42aG7EjLiTnvMfuF1zly19b0a6YOGlct6IkVlQreWU/2khuRcjAsd1f6rUJni37qWeoSc31D/HHAe0f9MhJqS+oKLBW87EH0bOZEfrPBZ0efn9jm91RuZLUWNZ+odgUia7ToEQdBMbek0dFWLZMeyGFLHxKbHkT7OzlXZA1ZGZqswUeEEpgOlMyM8YSeanS1olbNLK/8Ns2UUiOUIcUVIQJJejINiBGiAzUhY6RKKxdR8NcYyXml7i9IJfFfP5Ef9nzNFr3bUeaK+BbGOEOlyZcjnShQp5Hrjw98nRJv20RRCnJamM3CudY8ThMhXsj1W9xgWHXHsfZcxoBL0LWPqCUjypUxZfJtQtU3JvFA0Bprarif2Yg/8PlnZJiJTcFVv+GNuqGoqfKN7BRKF3ysNHa94ssVyQHfaiifkOrIpWzZpIk/+4J/8Za0zCxSYjpJKCd0IZHTSteCejWIIrMYxx0thcqIyfN+3TApD6Igeom+9+hoWU9f4FBiskKdLVUHk1rY5BVnS/JzRf2oUNNIPDyw5hvzy38jKktfWrpQomVkOz+jmoLV3CjnBuk989OPcPcJnxccgmg8AcnOH9FBEfeCRcw8XzXvfEtRBHI60bUDeiiISaO3Da8vN8ybjvQvsAsFU2UxfwSWusBXgq3oCUXF4j06GPQF3j1GLqmhTIbgHcFb6layjD26AeMC1+2MvWaoD0w/vJJkgZsWinBDNCU3V+LGBvlY09xW1EvBuEtQbSlS4nUw3/P2jy0j8OeYmN7COK10wuKXvzOV7yjMz9jlwq0YKNUj6cvEeqeoU0Ol/4G8l7h4RiRJ6EuqMFEVAveYmbyhjJKffvqJt+/+QicSa5TknGlkhLZjnWbcOPKp6PhB1jT1jedrQhUdvs7U3qEKjzm/ElXDa2WQpuNuWVjGCVF5/ud///9gaRKTrylzTxkTqSmwrmWxiUIlxGrwaUCtClU5CB2pScjnGwjPqPbc8kBzmNH+ka+3V/7+v/9nusuFpS4IdYHtMulpgXFBdh43K0xzzzTMdEKQzEqPJA8aigLdTigtWO5KDnLlT+ZA7wR2ecbUATvtUHolh8wwVlB63CQorUINhtjdEDnw7vMB8b6hFHA+ObpioFwSvYL6rJBtidx8xS4PZHVFBccPomTZNBy0YkwN34qeo26wL46RT5TFlan6M3Z5QZctqj7zni35+US/E7TtHm0lvuqQZaDKT8SwZXGPTIdEPRUUukfW9zz5SL1N1NeeVpeM4wvbqWM8WuoqgNoyDd/YIdF3gjgrdDRw8SxGkVfFXEPdONLkSfRwHLned7Ru5BYSWy2Zpys5bKDdMrWJRbxwlBN2+YK2fyXohZsQzLJBZ82cAz9nz0aNXDE0ouN1e6LuBz6dDKrQvGFCpob9peXadrhLT79vyTWMSoG+UIUdymx4LDzSlPBrhD/V0A7EShD6goO5cfHP5GWDeVhRogBlcLOh3l2wrxmLJxnH7u6KmQtUfwR1wZoHZJToO0P7OvNVt4Rg2ViBypnUvjLqlvHfHmi7CSMDg/U4LEdZ0AyaWHWMY2SSM9XzEeNeUfPPOLlFKoFLFYWYSRsByzPe/kK/BGqViSkzuUAdvxDvOqplRS0lq8rUcUGVFbfhN5pTYnkxvM5/Y7Un3FOBeQnk8hnRCpg0yQtWJqJ8hrEkq8z0cKXqDwj1M7MAfEarzMVryvJPxOp31ucrwqwk+UjqNpgU4aJIxQzyeyZbdiM5Wm7uRCwlfqyo1cIXZ9iIhmgDNkZ2FXDb4ufM1YzIVw3vA3H4jp6uNiXLErC2x71tEG6hbWvGU2A9WpLvySIjiFjVcvEWuZvYjzdU1XBaOkq3cDwo5vEjevNIeKkQ/oTSH9jrSLaG3E9MQFm0qDUzuzN3BtaiptaK4ZYpskCJnnL8C2MDiSuy7Nj6AhcXctES1iOlvqKUw/BI4RVgiOcj870kKIfZNHQ5fTcV+xaX3iB8IJgtZZhZ0pHpMGDVhBgGTnblsfsTTpVkFoQYqPSeccqs25KHYcFXP+PESjJw7QLH7PicJVVf8JJ2LEpz7CZuXxfU1x3uhxLvS1x4wDnIYYOrP+DUxNO/TEzyE/F24nB4A4tGywrpDZfx+5oqygUjGxCBMJUkK8nxE2s0+EUTEHSx4rI4Eok8z8yup0ua+dohvMLqHT57jFNcqxqxJJr2hfFdJv96ZqZjXj5QpP9EumVcOTGLLQ7B1mQ+mkwhM6awVOY9k1GY+8B9H3HNilsmhFB4uXIoJWv/ifOwoW1mvNzzVkj6SZA9XAtFp3sKD2mo2dFSVy+UoWB9dYR3nsHuWIXidBH86z/+f2TZ8Nf1zyS1JU4LWXukXVgRLEIyK8FL88i7dgQhKLoFlQWraAh+IC4rSzsi8whF4pYDqo2wJuwIld0zND3z14HobsTzI0ZpBrVDqJFKCgQCY2qm7nfyV4G6Dtxki04J6RW3AqpBcT7fYNmQ5o66urBmz0UXbN4GGBSLSuTrSn5suNULbooke0+bXpleG3YbzSa9UiwzMn5AVgppaTHsUEmSmgO7K/TyRpcN1VWzfYHqAp1f4M0rShpyU5LYsbElhZLk/gC/ZNpmQ69hCL9jJsfRbhHxiTRaTC+Y7JF5Ecz1SlobIop1LIhlhfeWutkgpaczI6p2hPUDqUl4r8kogrPkmybgOX8z5PSCio5Qgw4tIyVKVJT1W9TDj8i6Q20r1OYv6N0biu4d5eZAsf2R8vgT6vgTst7RdIo1ZK6dQe4q6DbcDgdiKLlbHzjOguo3j3YnfLWnTJKiXxn3PfEe7GJ421rWcY+XW8K9wlY1j1NEGI24gyAtq0iE0jEnydckkGPgpGecfuHpa090W+42M5u4pcGTbz19vHL0Zy68wxUnRv1K5My7eKM6LVgRENVAyFteCs3OTJRVjXEHdBxod38gl4o6/MF7PbKzBiFPpNKSdUsTv+DiSJQ9+pQRCF4uDldo1EZic8BXJYNQpHUhF5lclDR8JG4ceVGUq0Xon8EJvsUbfXfDqs/skyQ8HTCrx1cFAsfFGlYfoG8I7SMxeTZDSQ5X5ghi71GlILgNX/UM9yWmCuR1T0iKWkBld9w5kH0miRMlDnlKbAWkyhHFgNq+ZVH/jlt5RAdBtSTujhVSBnwp8NIQw0T6saQ8RrZNRiVJlSZCSNA+o+5eWc4TXflKWC31c8NaCpCS26Zg4Dt16Y2c+HUPfTHjg6a9amyvWU2Nvlp218iaHa+VZmoh9l+xXyEtAqcE5QAGz1wO2GkgxFfMIng9NUzLzGQttW5oE5wrgWZmuTuh7xfkZeI2P5H1lvBtQ5z3lKNB6obS7siPBc11S6zOrOdXUhY0NtI3JROJTWdYlccLgd1ENmbDX6VD6Mzl4tndRYSFRzJlZbB9Q9pvkdtMVVVsc4HVC711IPeYVhEvNQ8JRNwQtokQPbLqEeHMEm/E6itenICRJPR3V4m6kncPqO4BLSc2Y0XhJOva82ELWsNYH1h0g0lXxO9fMVVJsSpu3xRFsjiVebwz+EsJoUbeZpbyyuwXLkUHT4r8MnE+R65PBd3zzHOlsc8eP/ak5YQTI/L+G9l9o42GQRSI1sDXCK+CdIS0Ruxe8o6OM29w8g2ptOi3BzIZtXSMLxWj+8Cs9yyxIpdH3O1XRFNho2K8VEyNoam3mPWRsPaIouRUlpzGPed1IHR3KKWZU8A5iU8D46sjT4aYNNNOEpaZF1vwvIBbMk1jmJOC9Mp+37O2LUs7UsQrt9WhfWJ+2uN8QzFOrJ1hGTJ/2G/AQlGtHPqM7SWq8MT7e9ZdpAx7iD9g+juW+DOFrfHVQlxHSmlRry3VraDQ98TXL9gpESqNqXvunz5z0AK3y8xPC7JVjPOZavTcNjs23Y57u/B7I/nSVaxihfKK3Fp+HD2blJjXK0LVrFqzJgXLyjmAu/OMtgXuuOsdd1myXAOd2JMPO/w8cc49izvhu7/j/R63VbhOo9QdWn9gLVpE45n8yuxrunmkHxKxLqnVEzb9gZpX8jIS5K9kv7DfGiASw0KrV45sCaeBj/YzfbrC8zNzkCxpwOtE0U5Y6ei9QFtNoRNmLMn2CARKd6NWAi0ssU582/yFJYzoWv/3Au7A8/gLL0NJUkfGYwX3mS632Ljjzkr8riQeSwpZourMsb3xrm75yew4GI11M31u+cNmRvmEPa2ozuD0RGssJs288Q9wpxFO0fgeky+wrixtRgmDdBGlVrK5oeOZO3NAZwUpUj1XFFUk1FdS7JFzIqYLaxkIh8/s6hfOdU3ja8yg2Baa0WhC1bHODiOfMLlELi36UBPlTKgkc1iJxW9w98ohP0OhEfeCKKrvrh41UjhY1zfIuaM6gLd3LJuC7CLjKngtX1F6JEw9WE87CFzK6CdNlL/Ty8QpJaLao5ozqRCEPlAtZ0TxFY1DAaWomeNb9PyWJSq8ERAnrF2gyGRnoRdAIHsJdYORGYWh8jdmoaC2lGIHqmMuFI+mJLnMWn/CVWdUzLhG0x4ispvItWFcb8hmJRtBLRdkuEdfEoV5RmbDiuRiJKsuEXXCuA2+0cxGMpkBrz3TElHMmG3F8f5nHqsDWs8IFRAisTYrm6OEZJiKPWUjSSYhNhGjruAUcVZEmdmqlaRu5FQSo0VIy2wr9HWlzoZ4NVxnBzH99x/QK/3tK54rIvQE2WC0o9WOMddQlmT1SrYwTZnFBoQRlP+l4iwvnK4OtZb40xcSEhlnlmIL656j3LAPFeF6x6OfaKo9hRoRJjKcB5J1VLt/EIqWcFRIoZCnwPx0IGZI3YxqzwTrqQ00jWV3/5a33RuMcWRxZl5HciqRs8RfL+TssOGFrXtm+HRjmTyxsXz5u8QOkaBrpqJE3+7IyYCz2JhRYsHZxFpZcrhi8BhdUMsN4pioxpmu30LQxKiJpaJ+EVTKI/EswXJIEyacCOuMHW+ETaDoWhYCn8QXBlXSqoVHF3m4CN5sCgphSGpFxxdkEASfMJ8GCu457hLKFOj1LdH9QEozNjq0ZmLxDbnwiMlw3jiCb6j+MNS6h/0T4fGRcT6zHX/jt+Z/4AMLdFvwI7NZ0VuJFAk3QGP19yZ1+QTXe6R+ID18xcQt15tC9QWNLFAeHIni4DGpwekE88psE1WSpLYg+RH/W4UxFT4PaFOQcg/XDfVWcJ23UF6plxdM3ZBiCzKRRI8RNUmUCFWirCYFCwQIFUIHMiCCJCOICyynHaEamTaGoDSwR8wFbj4z25LqToODu/JGdAPhz0/k6X9ADprmekN+yPTPTxRu5jyVVKMlFTOqLtDxDUac0HJlmhRrkfmnpUGrERX22CJSH2GRr2itOauGZp4wxlLyHWdVExjthjoqvgZNVykgkgvJEt7hk4J++U69yC2WFTN7hvIdnS0Yo6Y4O9grou8oNfQrdPYNBYo5B+pqIUgwQqPTlZfTka5pKYIjzJl1/4AOCb1cufq3ZCysCqNXthXk9I46rHwRmVYeWX1NsK9I5xC6AmnQbiZuEmZ6IYv3RDGzak8tLMlFTHmEa4NTkFvHKG6I8R22aYnFQhgkQs4MXYd5Fsjjd1V43AkimSU1CHnmj37hg7OociYXK046Ru4o1lfcOZDMRBNASIcdK8bNFe8qVG3Q48SyTgiRKOx75PwVWS0s1rMdVi7tljuxMKKQRhJyzaPr8fGACE8s6T221OTJUKiF35pnmnpEstLfMuz+RN4OyEKx7SP8fCWojmatYSPwc481Cz+ogrkyGDkyq7/D/yl5/mnHpn5m3/2Me/WU8Yrs7li7yFjNFC8GosHpG8UaiYvFb77AdU/VnTF5xGeDeDYk45lujm8S3s6Si4HGJKrtjulVstoj1mcqfaX3FSkGdueG2IBJFft8ZQiGxRyReaTIvyGSg63imnvaoNHXdywvI7fDyFJXiOipCkstdyBWRLVQrhV2KBANLMEQ8pHu7RVRHAjRkl+usDooFjZnRy9q2JRkP6PvRtpTw3RtQUVcupJrw7oUGFPwkOC/ne/ZH18RP2h+VhXBfWKOe9LmKzZZFn1H02ZebyX1eaC+P8DpxnI/UH4tmOqWskr4zRPytedSOXRYEYNCdhPTY00rLP1FYOaGYh2YZWLdGHa3hA+ZYWvZNkd2OfMyJrK8IsX3GMlqJoQ94KcWu53RYqZ+Nrzcr6h/lBzejww3zeeu4J2WzLKmVjeOSRHqETMduIWSySkyN8ZQs6+OpNdI+67HTm8QbaJ8mZlaQ7Vf2OYVES1v8jPSSVq5RYoZkX5DHnaIkLhNDp0jQXygHBeKrqDxK8nsiammLCb0SZN2EbMJnOSWu14SxBuy8Lz51DO3hvOPhvAqMfWJsPmJcTK8aW/4rqaKV6xaWP7zlnf3AlnfYBPJruHib9RTQ9kaPpgdjX9FlgOXuUD4QLs6uAs0RIieadOS6HkuNHeDZMyOQo0cgmHN91S+R3V/o4qPDKon9YZ8hSZWfLr/yjE/sOoXPg879qXk6dPI45+3jDYwSTDywt/G/4lfkkd0PawV5zRQi47aD6wSfrhZntsz2+NPHJdH5u4bGcP0ukc3mq4SiK9A2uJsiyKTw0C177nmmpQDzZeOfe2Yq0AmUZvAuCqUvSHbxLjseZMEgi/c/dM/s6u3UETeh4pwdZgi4+ov6Mt/pGgkIgvm8cR/Dq/UInFIF0S1Y25WZqnZ9C9822ypCtiKHcWcEaonmBUuD6jWES/fCM0BpMevga08cEYTtEVxRr8OiJ8MnbK8xszRGLq0xX+LxDyjD4+0X69Uj4HoJKGAFD1p8vimpJF7CAEfBalIRCmow8w3rzBpgzBvkb5D7ktO+QtFOKA4Mc9HlBAIuVLcF8wByjAwn69cxpllvnF9sNh+5mSuaK9I3zJMwG5C5I74mgjid8bxb2yLPxHTBnlLaApcmDF9S19mWn2GdY+JhkpPDO6V7AeEEKj6TBUtQc1E1+KTRuIRaWaVBtYO4wSYhIpXxLAlTDeCuENvgcsAp0d4WXj+ZWSjasS3RLOreGHGmh3zPBC9p1pKnvWMPEgCR0zsqRewnzfI/AfLuaSLAZUHaveALBRRBQQLQRzYiYJ9syE9vKcfz2TxN4ag6BDYPpKMYLATHfdkPEZDCh2h/ISWE2VT059HFgKjCLRbTZSv7KxD7zS3hxn/KbGVFTrPoBKNt6hD4o+nCrlI2iJyMx5xE2QA5QjhR9R8xnQtNjl01Iw/SqqPNc0vBfE2kOMW6UqWVlP4wBw/0zwLeOgQZsu1r6G0rKpAnxN3VeTzywoXRXwzMk8FSUdoEy/lN0RaEeU/cfK/UJ5XcmqJuiarTNwkvLowib+wbc4IHejlnnGqOayJcyiQ84q8+xPFx88soeDt0RCnCisiSmj0TiOGAvQZI0bic4vJltJnVKlJMZGNIImSMI3kJMn1SjpbfHHDL5EFgVIfWOb/DVGdkMOKrTTUIHRLOVv6z0+UfuYn+ZHgj2TXEMmYsNBPL0QvaPSWImzZLV/o10xZzwS1J4salwNxeUXYR8yYiTEiAw3XaiV9OzHoG92SqJwkCMX0WEI2nHvBOdxzGf8jd7PDye+b5mcRCG7P+iS4hAGXMp9V5MU5lrnjlDqeVMSlAlSN3DQImYjLCsXvNN8WkDDOHptA6oEy+++FzyERzYra9pRuYJM0hRtI3hO7gM8JIXpK2ZHyG/xTIk6OMC8IFQCBsAaRLCKsiEmS5UAuQMQLMl0R2UHOCEampv/OWF89afiD5iqxfmFrt0w9xBi4Fm+YhhuOiiT+A8ksWJXQnULogvtaI1ZNNTU0RtAda8wyM3x6hUsmi5GtUYSlQaaeU1szix55Hcl1ZrPemF8S6x8jf9xewI7Y27/g88ClyNxCjXvVHJ4TI4HWW+rnZ+bgEUh+Khzp2WDiiC1nynygY2XWGaVrQlJEU/Fa10xrYmNnLqtCKtjPzffi8AorF7JqyWpCKk8Un+ndSkwZ2WvqAmof2X+6UtQXhlbgtWEQ3yiS5Fg0LKbmOd2ITaBIBbpMoJ/pakHjM6vek4cBGzy+/BVfZIr2I+5iONmBfX3lfdig15+57iNZBxpjMXUAMxNEYNxfYan4lieiclzGgH8C1g3vXmBKjlnfiCuE9IZCj+icQFvG85HwWjK6zLwV1LGiNRNm6EFHYrFjlh8YjSOkB+K8kHNCmAabDOl24BRKvolHzmqHKB+w6oYff2A5SBZ5omwd0t3YqC0qGLY+cH9/oWpn+skg/IgRLRM7KjqU7NE28CoabvmA7mpKHzHmwM0dcf/uF95uV47TX0n/W0N19JSPe0zTIkSmFhu0SaxNZOdLtOyp/Eib3uJuC84CtqNOHn303PnAXHs26kBCIrSiKhwiT9TSc1xHXJ5QTqHsipaG9c1EqTtUKoh5Dy5SaomQlriunM6BzpY03BGnli8KyodIXVi6YctR7PCuwyhNUp647jgLj9QZli/oIdJmgRMW0jNFdcNXF1zSxHTl1jWoYmHpHFPTctJ3yDtF+cGzaTSpKlDaIPwL08s9q+rotrDTCiEK5kUQ9Ds284D8tqP+f9X4neBaJKTtKHQNr5J59x4pJdW7T/hqJrQTk5qQ1YoqCravgnazoc475DiQP2dmCWaTuO0azCbyGAd0OiNkz93zgL3UzIPBErEfNV680KM41G9of5Xf0ZJ4pqRZdyuH1FOUPUvakprEh0lxLhImO8IIL+kJN0nOdc8fStPWFYiGB9ewnHacmw7/2RK78/dBXpfsaseelUsyYBq018htQaMXbFkwNG+JeossG4pGEPoaMUaqF7jNPf17y1VAWiQyloyz4Gkc8G7i9dMFPWtUIZnjingsuaLxwbJ5uKLOe7b9hcdqYJgSs3jlxIHr5MlvBHWZiDEj05Z2gn3ZokuBpEcsZybVgLKoqqZQIzeTUF/Td8b9XJG/LNw+Kpq+oBYN6Jpwbkh+C7UhHErC+BYXBHOxUuWvbLSgvPO8IZBmQZha/OuEqb6w/bNmHnqWMZMWS5Q1P3USmS1tv7JpruyaEV4NXDVeGOZiohXvUJcI5cCwZIJoKTaOWK3EOcP9AG+/ILsLRE2RJdZ/Ry+m0iB2F9btCWTg5mvWKLA3TTG/RVNxVAozwzx9QHhDqRpyrLAmo/YlIUk0jxgbSTIiq5XAjJACYS6I7oqKBi0V7aAxh5ofipZNajB+QksBs4CgWasB4Urimzu0nLhiSKqCVdA5S8tKlBPz7pEhPyImy+GrZnKR0zUjDlvSQ0suC7Ibsf0relhRMpHmhq00EBvWoBFTgcmG0M/U04LqFbUsyVrxLQtuxjKFzP3ne5w2mAL2U/pezp4Wzk8LMYzE/N0i/eXLiV+Hz5y/PvHpcua3p3/j78MX/rh+5jd/4ePXM7+9vPL3lxufP/7B6ZJIy8xsDSZ7dKUxtkTGhdoVuKAw9YqvElka0ss9Gk0cvlNdoh/x8wbvAqsL+OBhVYTJIrMiqwFVCdzFkJSjfGio31qCU6yy5PJbJmhFe3WIRXDVHRc7cRoiY29pC4dAkRXcx4xaVq4CYqOpi4Hq7QtRVciqp65OGCGxG8XBd/jryqd/+S/8y3/6/9JfRrbqSlARdKZRv5DUhmLdcmkiUxk42prERFobCJJrSEgBSeyJckGKHXJ8Q+kKtLAUxQE5S1RqWN03lH8lVRNTEfGF5w9tiLJFSUejTwy5ZlwF832iVAlpG5ryirKJyzTjV/O9A1VmqtAgkuaWO9amoPeO8h8jVn8kblpuasvT9RtKSjZ5pny9QciM+iuncEPqmrn8J/ygMD6gW8MkFEdRoWVBTHBMHms9ZFBZIPN3twvBIoMjXA1hTeg18EMpEJVi0Q0vD/esShNkRRMtVVOybhcSmjJfKGYIrAgZmYUhHjMqRUJSLPmGlHuigLCOkBYm65n9lelRUK0VZY7oBlIeEPuGouxYC4syEpcrim8j3W1EHA74bSaWbzlpjTdQ2IQWAisAYfHX5vu+OCeatWVsLbMDfYM31xf6/ReWu8xFv+Dkr2iJ4DE1YI7k0dJ0BSmd6O+/0Mk3zCljN57NiybXV1RxJsYPLKbCliCniT+qivfWE2OJ5B80tSVOG4rDyN1SEqcdXif2s+f51ZCzJYo75u0GRKDdjFxyxSELfCFp8oogsLgDRbrSG4HWExRvMEGhgiIWiSVnsBode7LdkNcFigJ1rUhTAcWCNN8XCrob2uvvkRFVgqzJIiFFZtYNky6o08oybdjZij7BvHnGynfsJoMLz5TVe1wqadLEkiONS6jDC0N4x7N3vH19YUmRsO2Z71rkdEYukbYRXNwW7VuEDOgWznLLzjl6/Ttfqp/pVCb6Les2I9oJv7zFD55/FP8j/6PwFAnKZcGZls2+5zDduJUlzUnRrZb8HmKxMl421GRgj656ViTNeGFtWqRtGIPg/stMjo4wbdiXCzKvqEaRTMQpKPOedaq4dBMqfqFJDzTSMMWJxVTodWTfZuZWUmZoF8EyG+IYub0bEYukrjwiGHybEX+UXOSIqjpWE6iSZFPo74MKKNx7Viylu2dRhqp4Yihnxss7Oj/S7Ba8OrPcFFu1IRhLlhWVblA+8ehLpJE0wzP6TqLljvlHQVQzjgNF63F+gVFRVi2mTCzHFVuMSErSuDLXmpoNSS/IHir1vetSuY5bP1LvtsRJQpMw6kouBo52B0uimAVuW5PJVPeeEL4hQkm0iutBs14tL1rx0VqO4h1ySXS1R6x3iAxySPT5zFhD8eJ5vw/4S8SnntjULKeOw71EPAON5l/3ieN6xq5HZDVTiZ6JPSYOBBmwLwrxPpHiDi8LrrfE/r5kWRdSVMxa0LrEWEExWPR2IZXPbOKVxfyMTn8Q8z2qKalURKSSMU/cP/e4/QNhOZOMoFwLaD19jmgTkUVme1fRXxeMtFS7M5Idp7mlU5LJ9MRCEX2NMg6nSqzy+Jj57GDXzURmarmyzDteraQuAlrWUAuQO0QWCOXYJkFcI4fTE/7hB1YT4ZwJscY8PFPs3pKbK7X6XmBfnxXqXiLikWFxqN1K7l8Z/vye4aWn1hYTK17HAnOAy/pC2Vuao6EoC0K+cgwLYmrZbQUUBZN6gXFL6RtcntjevpOJ6L+gtlvkkLltAkoGhnGi0DtKN3Bqj7x5hHXa4FtYwx80ZcbpI+stkMyWz/+o+emNZn73heVm2NlAWd7YF4lxLagYOaK4fa5J7z1/KR3jLaJMR+CMKQp24sb17FhOFbfyijQddvL4uLJtDgyqp0mRU6EJp5LOn3lta5ZJU7SR0P/ATmXy8ZkXZRG2APUbZvoZQU8dDfpQUt56LtfEn39euL4E/OopdIInx+OuxpVvkZMj3t1w8kiOJ5wRvOaSH6cb+aSQmwHUPU35ynKrmLaKeAGqlWBKkp+xwUCR0N6h0obu0ydu7xt2tyt5f4+sdhwHQSwrhB8oQyI1W6KLyGyon8EfJyabKC+PrOvCdOdJrzOH7j2VyLzXkv7B4H/fIXeCW9FCzkzNyh03dF7J55K4KznJQJWq736RbqAoG67nO44sZOuJ/8eWNwFq/53YVN4iwgbinHGbR1LxjFgzvbSY6QFtV6LPGNuSTwdkcaLrCsx4QTSBaCX8saB2oIDKtVQZ4tyTfEUsJlJ1IXXvmSTce0e2itGN2HZDlOAu92gfoQBKSXHqyV7ip4l5J1GvLSHfcKlgdS1ttSciKAaIS8N2BRtGoiygWZhVZhGez8rwp8ohyx71/IZGCi7dE+Z1YX6IjBxYf9xzKAU5W9xvkrV2RHGm1jWL9FiZSP7KeF9SRk9uWsyY0H7CzZ6gFJ0ckHeJ21Xhu0eG3ZWis4ivge1R0Kn3/N4HdLnjh9099sMeUzjiSaPbC8Josjh+n9/XE2G3x+cbKRac/vFvhHJHw4CxLURNmjPX9pm2r6GryDEQYiK4iPhJEi4aVdboTqNlSa4NuhhI1wETEraesVWFOJWoKmHSwnhXMdqJT+LGD+dAUCv26UjzJhO0JOZAqzSbm2epBo6NptED1/m7kC5JR/QlXkmkuCCE5mwCURxBz9jmyDlHJgRnHynXKyOOzy9Xvs2Zvx4kWp1h0SxeEK+WSmTSfkbZlsIrYlzZoPAp424rdaVBALUkvJbo9AVjZ2ThuSHYpBuLLZFrYHv9mX+oCxfh2PdHklds5ivjcGVdDMG8wYhnKlXTOImMJ1Z14MkeiaJnLzqEnbiZle0NuM8EPMdsUWOJeDcwXBpM/2fuN4pvx4mD7CieMv6o6GNGjo663FC6v/NHChwrQakaimog3gpkkb/f5OiMYaFSGtpXlIlYn8EJskwQO0qxoy8XspREZVjEzG25YW6SN88dCRiTw9XPLOYDIS4QIKmSs02MOaFixpozpm+JUTLELT/MJS/uhegzSy1o3R3KfaGeOnz+jNhWiMrin6B8U6CCYTJbdO6Zry0yT+j7iqkM5GkkSkf2R2ROyHEi3S5QPaBlQhcz6QCxGFlk+I5CbTpM/AcDiWzecM7/gftJ4N4LimmLXPEs04m+7ljsCZd7pPJU+pnio0LUFeQJ1zqMLji/tJjT7bt8iW9c6pGjcFSnlmJp2PmfCLRoWVLmheenzEuTeOkDn4XltzcTqV6QRUAzfT9hSTWFNyBryjUwrRJSgxOAhiwKYihxKTHVFzRQrS+0OqDlZ6YCKJ5o24xMBYEJUUqMciRhUMGgQkWKBvJIUjU5QfYLKXqEiOyc4I8LiOvEXDySdc0Ua1YxImKgyw/U60jjJQqNmiq+PUNWG1q10KYSqSI5ZzpR4OipVUcsHriUNU1zQbuBu8ryQMmx8OjScDf8M/sQqL8MtMVM1hu2ascbb9k1JX82K8lXtElx7QI6jcyLQFFSzobwsEcFQxMnvokG3w4Ym0ivkhcheJGBX4PgeY7IznKnn8jNE9nA1yQIbibERNSKnAJ2railJmxnDlFR6YaYStp0Y7uu3KmBHQXTeUNFyeo6rj5iDzfqh7dYV6K1AFdQVIEJmDpoQomZe+yqmRHMq6W6WrTpeAkdOmZG1WJKyRhqyvE9Ss7o9kL3XGGHdxRny2IiYf6Vlt9J9YLb3Aizwj+PbN7tsW5C+IlOrLQ5U6V/41w+MzQfWVa4TROBgSpJpNuwJVHKz8zrEz4uKO8IpqUYMuYa8H9MYCJBvmKrRJxhJHI2W8qQ0aEkVDUTilpVZL+y+js2uieW0I0apSWdhLfDQrlESj2xCZ9RZmU1f0f5FcdEKTXtncarEllkvt0dwEfKy5UxO27dRBgtP/+qka3EOcPv68zCyi175sGBDAz3DW6Z8fKEJVHeP+E/jdhlQ1SZWmbmPFIqSbwrgY9EV5DiB6pRk8RPTJuCVa3EWaBnzy4IzjaQpogpG4IR3Gwm+ExIkjAHZE4ItyBqQeKZKPYcpEXWI59UT2kqCDVFmunjQLkWyKViJ+44WEX1uaFVr1ySwAtPLe9wUTD3KyInSJam/oi9ZBbfEuVX1npH/i0xzgZnApU8U3+sEGKkUhPJlXiX0W86lqngqjP+88A0zXi2pPZvvCkqtC/QzSv13tGombe6YbOtiKEhr5lCrWT7Ab+t6RfJMhW4+O577AbQLrLGntOvF4rNG9YpwPVGOZbIlwdCdpi0oijBWMYyUbSKFHbE8x1q80AVBx6XkrIALXrmekS4lqN0qOuNKc+kYQNNj9t3fI4VzZ89oTLoUNPZgB5fWUJFEhmrKvSHI/2s+KHa8jYB4hOXwjEvmVp29EvC6kBTX5Cy4RdfQnEh6ZW1nnB3gemzp/Edx6FBhrdYN6LElnnURNsR39yx++FHnH6DblrM24KpaljuC57qmn6ZuLxkCgcqj2TfcWcz78dMgaLY7CluFRnPOmlEpYgqsS8TiRq3eiSZLBMpJpaXCh1L0rsf0fk9S7zj6TazTA3CVHg3Y8uKrujQa2I8B67pjJw91VpiX78xiIGl3ZAV7OyO6XngVT0T6oTfaMLWUYiVWTa8iZkPww15rZijZW0kX7YX1DQx5xUhE0LvyM8jR+3RznBNCfHvE5f/ewJpKWeFWg3yFhFFQMsvDEOBSi+U1QRtQGmHkAu9esafnplvcPOCOZZ8e/F0q6TVR2S84rYC3EdSMyFzQVUntFZY9Y7CQLMOKG1Y8wJpQfYnUkhEOXHtYJSJYTDMoiPMW3yXIY2Etwm3AZUNdSOxVULHK8H+A6Mngl6QdUFuXyBY9stnipj48zKzz5l+fsNVJC5iwdV3TA+PxPyO7bylYGBRN/owQxtpxIxV90wxsZlLhKmR+z0lMxjFU9Lk+QkjB7a5wqeZudng54CSE2cpUXmluATk8Y4m/kDUPT/UJ0oBRT3QKk+ZAqaVqHpLv1rkOdKwgjmQQ6J0N0orWAuBiTeC65DDiC0GTOMp8hbTlJwXmKNj1AsMULiMTQvJBKYpEPxKXBxq+t4hk7IFrYnmxvkYuDQWfxnQkya5jmKEnj1RZ+ZfJOaLQyTB8VViXifi268IJaDcUoaarVGIwRK/GMrngI6CgxW4YaELFZe+R86BsS7o1gNdutE4SbNxKCzt7p774x22e+CyfsB5T2QlVSeKlxm/KESsYUxIf6EfBMkoFuUQS8b4jCAg1ALGEFdNShmZfyWvH1FiYkTz97sFmQRViExeoJxhU0o2bff9NDwNKGakckyFJueONQZqKrIoKHceIWp2rsWoBaduyOkz+vxdBuu5w5Qj2UuuZ08VSvr0BvewReiGo+4oq4U5zcj9HVIaWE7EnBlqS7q+YAdYiwYvPYgTi0n484YgBKKSJKtJxYKSjrMwFCGCCuQa1q6kFArNgjJ/ICUYkUnpwCUuxDihpWf1luxWqqVELBLbd7AYQk5MfWCkpCq/0zmdl5w2HqUhFpa6r2F5ZsoraRMprcdLQc2EKWvKQqBURYySNTbkKDD5kUnOTLNEFQV2OZJ6y3m4gdOEL5Hp1GF9ja9KbP6E0Q9Ut1/IQ2L79Tsta7vskKpAaqDfS2onOZbvkeeOOcKsf+HT3YTygXZxdHrA7CytKvGbFmWuiGXl4aZpHWTOvOYJkeCl31Dqr8RsqI+RXX6hkjd2k6IkIPKFkBShlJjCIMYV7QJg0UVA50AaBoSHMDokikUkku2xKuMryC0gW/RcsDnNrNcjUxoIKpF0BgpSOqDESNaBlCw5W7AVZIWQGaQmB01MM+v6v3OoJ9ZNwfTtlaB+pV43xKxRmwqzc1j1DdLKAly9RBz29HOGIGhx+A9vocpMr3/HfMykRSIy1E6SN4aqhmsA4oIKmbBoXrobX5aAkvesYcNhTpzyF/JhYFJXbirwYhduXvNIBe2Kzp5xhadWUoonOKwMtuat72nygBUWkRbi68LxVnFcRorV4nroxZawV1gZuJ8/IrShGsCtIz6usJuxekKFHrL5rk/3AdFoNBYRDc5K0u6FPApiNjRJcToZFvmCWxNOB8LyjcUm7l4ChUi09yW+7MAHyiESlSaXHSnD9rxCsTCsA8/pzNK29OUJVVrSeYM6gGlgPFZ81IaofiLeHqkpKWNLyCPJlWi3QZd3qFVhzhGdZprwyLv8C5v5Rx7rmVUfkIuliN/QogAE17hD+5pVCGbRUsnf0Vzx3mPeaeptR5F3nNMFXwnazxCfZ1anyFWmKSPdxTOeP2N5YmcuSPkIV4G0FTE+YUfJtSwpzIkiZQLvKIynij9hNi3F1qAvV6bpwnyWxL6jvEqKUMG7PUFBZyfk2ZIeJJuqpWoT21URnmqqrCmPFk9NtZ9YyxLZfX9vm1gh/zIx7C8kcaXXPUO7x+mEXiPl+I7OKYpVgj9RXC+0+ROd0rjK8VI8cZLfqO/3UGVCzqyzRYaa+CTxzNj0meglY1GiywHCAdaSeJbsteOx0lRa0LkLlewpZM2YJpgW3BW8hPPdiqehrvZ0VlCpGisVqmgQSTDav8EsmGSHFgNF9d3Pcf454MVMVg6ptgRbMgw7FnXP+uzQ5iuv36743YzMf6P4cMeUImNp8N17YqFp2xVXJubdlVUo0tVSfnY0pkFUE2LcMImBuf6GliPpWnD4pDHDlhnPHw9X6nvP9n3BHBXe75GHHZdvhqX8TCN/gslwK6AbRxYfuMQD+8uF0s6chsBrv/L5OLBjZSOOKF0h7YipPOroSPmeLASi75D/rcWcGmK/8Gb5V25ppq9eeMqKg42kNCBWiRxh12omAcYZprKlFpGhOrOYK+1O0SyWev5AWhRTHJGpgpeaOg+kEcT9BlM60LCNEZoS0yqabqJcAgWOuuqZ+xGnPRvzxLGyaNtyt2TqyxOy9axNB/qCqC649bsQztUloXTwaHExcPM70slTffXo+UoRb4TcUQfNdA6sa83mcEa8e0YlQfVvgfys6X/dk+tEcoLLGbw7owF1yOwfQcqS/KFDdBVN9ZbHrWLXllTnhtkKvm0uLBtFXCru5hNdm5G7yI/6wqQTA5JkWkR/YFts6C4/YcMj+0tkrToWYShWiZcrt+LKJUzMOVEMEJIFUcDewc4hrSeODeVSs6aISODcyhQ1RlSEeUf1Q4v+MVMuA8UGTP3AjKZ+E4iyZlh7lnbHgkJuFUEsEErcYrkFzVIcGK2kqTrUdQ9VR6EVzeaVhkRpFHavUQ8Z3l6wyVHYN4TYo+sCV0bCJcD1K6iCqmxZ2wmswcuIEEc8K5Mv8WvL0rSEVCJ5ZXvnKLzhYVgo1oLNUuCahWd1hwstTfKonBjykTQU2CWS9itrDOS+p3YVy1RRrSs+b3C6xZSZ9cWxXgXxYMjVe44pkjaCUQVmv5KfJwY5Mq47ggis6nuRO8lI4MKyCrZWknYlOQsWZkxaEeJADB0tGxZTkVdJvI+sEsZpwsWCJHveWujQPAiL7ib0bBgLQcoaoSZmPX73EmkPU4EwCrVEIh0Vis6XXLd7cpko5cq2vcdUivhlj1w1br9lmBb6P225vCsZYyLaA9WauJQvvEiQZUF5l1gOniArgrij0RJdaI4yY9XMfTiTTQupQxrwDoyVSHkjmRm8oNIFwSRSMvyht1w4o0iUqSDUJbHsmMot0mWqCmIVCEwUWWD1jB8MxXRBFRMpvWdXHNGDQSjNn4OGIlOLO3azIPuFIbZkfQ/GcpMtav2G9JFynPEqsTlfiFPEm4K8rKzqD2Iz05eCRkVuG8nLwwj7zO2UuaSWYK58LH5jGZ/ZiyfMCnl94Vpc6a4SazzLusckifxc4KYGKRRlvUGUnv6iyeeF/NqS1xG//4ISmXVK/Pr7v/Jf//YbfgrUw4wIHiUrfIRinjFZIOaCVPzEcA9SWgoKbKF4jVtE1NQkDj5SiTNUmVgnPN9QKMJxIM2vsGpssGwcCDcSwyu6/Ip5PVL3HbUHjWSZYfO6kBL00SCaiNU9sVtJ9sQiDWGZifHGO5XRMcNh4fqXhU3aE/OKfbMQm2/4fcAnTzrtiE+OXEsEHcVRMPBK3yTwG6TOAhMsCxe8GXA7R11vOFwFMTp+u2pu6cA1Svxyo21O6MvK2ifi/JY8G6y+IorIfZXoesX7amLsFEtqSC8C1e/YyYL2YWTbZ9KyR6aV+nxlFgX91JAXyzILpiUyVhO9NZh0RdYlSUr6SsJFUaQtq/Ocxg1BJpb+nqs9EGxmWRVq7JGqRsQAwZE8kG4kJUlMQECKRAoCVZrvWFRa3OHf0dLRbEZiGdjQUs6aLnjEKHh+TazJsrqaci7YrxVFPmPGFfe75bJ+L2IHVbDKD9RUyPIPYpcpNx3urCAqohU45fHRkDvP7jbzISv645XcNCx+ZB9K9CBxv0YqGo7S0BUBNQsas0ElQ7kr+XERLPIdbtDEyxP5dSGoDS+zJ2WFuFjU3tDoDaXyKE74m4XzPSKV2DdHUu5wzQb1umeSHYsKJLmhrQ25zsw3SaginE8o3zI3ipQ8XmVyFwl6ZQiaop4xvaWxibzOkO/QcYcpDaqQ5ASFEATrmT6D8JHf8kxMEf1wYh4z913Bm6bh7QBVfo9SO1LXkp8XfLqRXeB9D53YkkX4zo2+jai7V+yuJotvzL1D1A5V1Qi1IdESxIrJKzcOWBvQhadZ9+RV47JgJ4+UQ0s1fX/GuX4lGoEWJUmuDM5xO2k2047kBtR9w7vCIoVkHWdGP6E3E1PXgfiBUTwQLxVTWRNqS5kElAtvrcTNN17HiTgkFJLcfGTOPXXqKKp3VPbA6CPnx556p4ntxCwcD7MnnlpM5Sn075i/X6Af2TpHKgKzzJh1Ideem6hoDDShIk8OXGTwmfpzh8nfS+v7JX2XDqmFi3J8XiWjy4TG4jclcjYIbdhfHBuzwYYHGC21Nt+xwlyhAJM6Nr1BlDvCXOBvGkFFIVYSf3A+TKxjC+JG1ieE8sz+Dp8S5fp3SAqxQnUWHJYDRkqUGxhfrsjlFTFkqtliUPywPJLNkWozMRcNOEVWG3SGfTHTl4rXvBJKTVv1CDdw2tyYjOLeWppccP70J77+6zfuCsPjIsjPguyvXO2EUhvaac/YC4y4ke6fkV9fUcON9TpjgqeOO4S10CpyNXNRE8dW8TgU5D4gLw3qFujUF/rV01SZ1XbcioLFJKa0YIuVZleQlGL6sBLvDJsPDWwUbb5yiZH4NmEHTz139HOL1gc6+4wdz0QVKT488Rgn8kXjhr+iqpnAhrfKMWtPlWpSnSCMmFajp4FVelZ5j+cHNlcB7BjPGwY7kTeeYvuM9JKcEuFhhbHCjivCW55ryTIJPn3+hgoCVGLUChfP2HlhOJ/YJEPrNjyPLWkCtUZO8plPhxpVWJZLQR/eYy8Cqy/40jF8S1wKmOWK+a+aTTiRmk/cpgZ3qrnttsyN53Ro6KqeUsxEYYn5HTEHTj+s5P2NHx9WTHB8qsBMJVl+5R/mhfRyQfYnmtOFsMKaakK3xY2WF6eQO89FXqmrBhdLfufCkGeutytzrBDLTHNeKbQlCQnpE8L0rOuAP/eoZoNxjtllVnfkWpZ0o+G+2NAwEuwNkR3RfMWnlZhnZJghVlSdp2lqxLDSLRO1L5F55DCtmKagGh37+hX3NWD0F7LwzBS4lxu5n2mSJF4S44sknAXL/IKOPcV5pRIrpX/Cvc4U+4lVS5gqqnxHrEp0YaDX5PCZEGqIM1ZNrEVDOhcYaci1Y22PJCMZUiKyg6QI2TPcFGLWCBq8sOj5hvMO+g2FDMQ1MQfFRVxJFWx8hRkNl8VwLltyNJj6FdV6wvIdLy5URrZbnF1Z5HfJlyeQtaPwksPbe2QhUbnDhYEljnxNFU2dKRtBuRlopoIkJEuU5FwSTc2sLMYfKLNETQaZB/AS3RbIUaCfDsgxktNMJSKms3jxyorgpgPGBl57gU8ZIR1GFSypBAHValBEcmyQ/SPl4rlERapLsgx46ajXRDH39JeJziqEMFSigqlHvHxk/lOgD1eG4oXq2NP2ntucaNc32GsgPDv0q6KbMmsReI4NS6UwxjPEFVHOzHg+FS29XIgmU6gbwhRkkxjSjpAh+xaZFJgJkc50pqPSkrs1ENQeNyvW2VOaCTEmmhkKFmLaoJCYXDBGRZgLaDLxIBFui4mOi7gjmUgeFHK2VOvMpM6k6kpsDKIfWfxCEj1rf2ZWO5IKPOmEXSHaDqufqOKN6LfMzz8Tp4iYXxirJ0q1RxQ7ztfMenRsfE9lFL/En3kKDyjxgdmfeP26RT4J3DWxyZFD9ZVMZLrTFM0z0V+x8xV3OXP/ItF1AwVoLK/CkLJHqojbHPD7PTok1hUWW6NcoPYTG5EYY0ncSVTj2DBShEjvPG544f7akqXGZUfPnsXWIALDUBHqA7lUPL6eoIp4e0OahVwktmKiaI8wvCO8i5wbySIWjExovyPcF4g5AxZmB6lETg07v0VvJQpBN3dQ3IgexslgXEJVFpRkWSQbeyRFTU4KtYmEQ8ctDTj9RG8UxeWGWBRRgewXzZwj1CVmTJQvN5L/jCk1RkvKokLwD6QbGf51w3M0mEVSzQdG9YSrBaF5y2oq1C1ye3SEbcuyNCB6/AfLUkykYHCLZwkSnQxrL6E8UMuFqpKYfSIXK0WhqJdvuOIFazxZGOSUuO8b5nLPOM5kRjZVgfCK21FSFZ66+gP0QmgiMkqSGIl2QemWnEEEAeb7B53yFdQJ5ohWnmJN/BgC282E8VuoOuZK0z14Ftdg/IXUBa5fHgipASlgDy5usNue4Z9eWGvJLYONK3eHhnk7IeIDNkHsIVclUcImzcyXBaG/ss6JbzuQ1Qmb+X5demeo2g16DWzujxRC08cRcQaTF8RTwiP5P2mJTcc6aKIcMEjmQ8N+lqyTp7h/4qgicn1CTz1eVrhyz5QyMQeyMsxjIPiANJH1TlCNmibuWPSEGBSb9UoW0//F0n/2aJqt6ZXY2vbxrwuTrrLc6T59mg1ySAEENBA4Gsp8GEB/XBgQA1GjIbtP9zFVlZmREfHax2+rD9l/Ypv7Xte1OCZB7rb0FegRQoate4sbWoqLp91aTC7w5ZbboliXSFCWnG/ctoab8Cx9xFNidMnp56+4xdFVM8KPrOtburDSTzcu/cLNJJ57xUZCXSWcLVjHgqw7XK2Yuh5tF0JKTNfI+tQRqpVLfMBZWGtDzjNFnKhfrpgB8ugpmkyrPXEuCCEjk0SlHU4IwJP6z8zDSvXyA9L1xGpkEgGlBrZlQp0lJkw8mxu9KokTbFSLyI4MbI3BCM2uN8g3ENNXjhNId0dKV85TIKdI6L5hD+EvXxmeIQx3fA0l0UxIAXU5s/t8oe4dKliaZuVXrVgbRY6g5FvifcUafiXNFvWLYjPDJO7Q5YbN9YLPR8ZcMA2KWZTk+Z64H0niEckj13hEDoGbKaiaN7wtNpiyJIQtbjIw34EPUJUwP7Jpt3jzylh8Ia9XbHlFLJ+5HRa0UahQ4spACAYfL6htxZN/D0ZzLZ8pco2WmVlVLOX/Tryd+Yv5wFgv5M1npodIzD3rGAnhStYV/tVQxpEgIinN8CJRXuGy537+yjgU5LghRU92gXq80JaZIAEViSFw6GakH4nFBSvg/rDyNz/tWW8RisxjFVDRcP/Z4p3mWhm29UR+U3Mu7zm/u6PsBGsxMvtH0nBHEJGn0w2RvtDtAtks6LVmnBuGwydyMfA11fhlIq2exzmxZ0Rv4CATcbGU4kRWA/H2CE8PxK+OTW5g+o52zHTVH7nqhYtq2BeRAVj0e2Tp8E8wVJIvW8HysUTdRS58C5vFqqLFE9XMb/8yorsGdVuha+ilp/gCUt1Ij1vmGEk5MIaaoTB48YCqttRdSSUeOOw79KEmmYHu9BfK8zOb9JHZJfz0J6Zhh5UGoVua2FKUFrd3bOKekYl/rD0qltxTM6oFJXuUV+RRIZ5+5CBKdu9PHKaK/rTh+n4iu8wsDyzvLiwfGpJLXMVEPQpe9hVrGliOidfrCNJS3TSn7o7UCnLR88M8omv4mt6zX2qa1fJlW2PuS4b2BZ0i/3TRRHmhnDzz0uB1gQsHfjg/8beyobQt2zozjAt+Lsm2hKqA2XGRHc+VQTcjKY3064wns2t6wvcDB6/5bVNQHqDMLYQG0SSCrcja4c2eGD+SMZzmxJgtuu2Y9h9w64JzK/FhxGXF1EjGosZtExv1jraOlLNEvPvAvi4ovcAXM1UzId8aXGU52xvNXU+7VEhRM5czV19hs4QwEp8zc545ryupDiT/higi+v4t4VpTTZF4l7FBYKXEJINbVgIVkYiaJfaqscWRsuqpTIWwAtoK161cMjhbsH2saOuBra1Y8m8M6saduvKDSTy4hBEDdrzHuMRWtcgYiOnMJFYk9zSlQRUgjUWFwJwya/WCmSPaH9l7QzlM/OQ0hJo6BZb9PbdKI8uZQggKbbBxR+UrShsQyeGbnnQqybIi+4wsBMFmQgVISOvAZf6V4aoQ84U8S6ZrxbZe8PGZUQ9weUatisl4Bq+JamE2K+UukB5f2RWRWHqiCkQ2oCrmYs+2KgjhCjGD1mQniLue7aWh2TZ028BmHRHljo2LyA1Ma6TeJ9oPhrSB7CY6cUUsFu1Kul7ixztYFw6+ZCNL7NSiToJhkRipyCKiUMRJIdcdhIosSrwdiXmgtJlmU2EKh8sjYdEUY8J3/53VJvARe4tEJRj7hM8CIQeGxRDmEblIpINsI9UmIMrIpEZ+yZJ/2V6IMcFmII49uRC8XS0APkWaCtY6suoJmsQYLUrdaLYzq4p8LTtK/cjkIY1PVMbTjYaxFohnMNLyo1WcU8/Uajb7L7Sq5uvfjryqO07LB/CSYbSoW4m9Vlw3B0pZseqVUPZgLcE/8/a8JUVDUgojGpQpybVFNIJCDGQvSOsrC446eLCO4+p5lZaLVATruNeatg4kB+G0o5IZKVdy3LCtNEaVSBGw1e/YWo+2xb+6vGpy3JOWROaFeuiplxHjN0zFbxgDOsFgM31xQmaDl4mxiAgzcy88FIapuOPm7olWke4k4lZ8+0CqTKlL0slT9CulMuTXe8qLRDUtvt6ykQJbKFSMBDMju5wQ2dK+auR64fzBM6ZAXBK1KRAq48b3NMs7uv2JQpYM38N6H2mrR7SoiOGKOmmedUVebtTxhs7FN121DZjrV0QRyUOgtgJVeMpDQywjSVpynwm3mdWtTH5Dlj+wFyWpsMSgiDaDyuzcC2UnUGmHyTPGDez9BeE8Vtyxrz4gxI6cFnTiG1o0O4S8A5H+1bi6kinI6wPCKIIwqE2PrFv+Ej+wJMPhVpNEg8NjizOiEjx4y3afUSqBfEaFTLOFHL7H9Hvq/ohUM9J6TBEIesugpm8TuwzbKDDhK3GyNPEOq76jayrubw+kouLVREa7IGLmJB3H7RUnM25NnIVldIazCNy2K31R8NF5Ak+Y5jMlEZUX1n4kdCV5p1BLh7vbUE73+Ic9XTMh8pHy+guicYzRgVbobSD2K0ENzLbAecc1HQkeok3E5kQbV8anmnXuCXZA+ZrRLwzmhm4lKv0TiIU5CVTRUuxacl44XY+I2wvlfGWRZySvpGmlUd9TlZZiskQVSdWMyhE532M2LZvZoYvINEacPOHKwKs3VKVATgs2SigkQQ5svy/Z3VdY7ZC1J7uecHtiyWfG20TYJYLysFguXBimhEodq6jQeWGZXljzmWt+gXcruviKVneIsEUOLXppsWsgVDPifcJZTTFJxjLT6QvCQDYzSV+RwfE6SKZyZJASId6yKQxDVVDoLTvzgirfEQaDXGbWh+9h3WOPsOvhNDf88jxR+RndfEQID1IwjA0/yIK9NLi6Jo1X5voz5+6eSx0YtwWuOpOYeeaI5cK6viWbjE0V/vWKGxKMiZxnvkRPoe8w3Ym7pcfwxCpn1uWKnHuymDC6If7W0E+RKQ2IeaKOe+ylozhJYmow1ZY6Voyz5iYFZk4UjccuB6Z1ZLt94iBGyhzxU0LOC9UKVvweygPfFw/gMimVVFHik0HXEVHu4O0Z3xWU8YHUBdASt6t4nSQMe9YhsW0MN7nSXV4xuqKWoKSk7i4gDE6/g5cdZI3ThtfpRKtKLlERGkmwmSguDFguu8iAx2cwwWDWilpvOCDI83sqviffvpLWgeOcuetq8B365gjcM7UF/m1mGw8sVrApM1XV4b4fiAZEH4ipwvivzG0gRENlNKZacfWK764sa0nhZrRZycsjm3hiOy+sC9i/KvRTRoZ7Hn/oMb8tvPk0U5wUfb/Q9XegW9JVMi73DJcdG9tQ5ZrFNKyTI28t65tIxYD2A5UL0B7ZHz3LOsIpk48LYgmstytuDYx+xfs7ZvmA//6eaI7ISqL0j4j1hb5ukaHAd5LBraS0Ms8Cawd2s+BwXNlPV4pfJ2wtsV1m3h8I+wueG0+uQgw31v1MdR+4yIbVnnlvBqz25BHeYkAqtnGL1hXuzScercFYQd4IDu6MXq7oVLIS0dXKd0ajbc1y31KLPZPIxIsD+cSde0KFFb1MFM//H3a6ZB9PzO07VlXzX917euHZNp6hXJjGhTS8oNJKexq5ukAXDaaEJiXsk2CcN0y3Cus01WTQqeIseuo6kbMkzQ1iMMgwwBww8om7YcT2gbhkcrzApqSsKgYM89xTjxv0skE3G9wmM8sboR4R9gtysyHdaZQrMSKBUBi9YRcWpCyJ68g8t9S0bMuWdfGEpuXlTUML7KeMFZq1CEy9QC0z2lwo4kohA14JQrESpkDdrdz5kYJAbgNse6S6x60RcbHUL4L+NtMOBW/MQBbfjMir6QnhhtUFV+cZysj4J0N8+cbSS6/oc43bGObKEMxKqSx5jZR9oogey4pCUi9H5KXlVgay2rIguG4bfIapl0z9mXW90oTIlzCi6ogsALUQbU+wkexX/PCGahuIxYpYYdEVonAUnBhkwpctHQnrNzRLzd3DyGY/c7UdkzScxcIkM+H+2wC3RJGFpygkQvXY8D1pOjBPDcEVZLWgvMT2MBY1Qu45u0jvwFcK/M84OTDMjpTe4PQHkAu7doDYU9lfORU9OVsasVImQSwUu8rhy5VZf0X5SCUkrfMEahZzpY81VmTWccSeAzJqok0M7kRwmdd6pkgRHSvUMCNfI94npHTIUpE7SZt/xERDIR2iOZEDbEqFQJLdFZFa+qZEr56y+K+YmJh9x7NNyFjxzr2wn3Yot6D1O8rNBAb8e4FeM6vQWJlZVEZlTY6aVnkkWyoFZSVodYUeDGl23EmPKxz59sK9q8hmJgwDrXnlMYKZOtJZcz447HLg7hjYmguidHTVSK8EfpJ0SBAV1zuDyBscK6H7njmVZKmIYiXiEQRWWVNXkmwEsczI8kD2GikvCJEp5V9pbyMmRGoiz9xzLQukdhTNwqxuEA94KUBrfLEgvOOlvrAOD/RLy0BPHy6oOiOsIF8UYeNJ3KNMJof3DHkCIbCiZbd2xFCAg65XpNjjYkIlRVF46nImFBODmMj1L6TdDpdqvBgAx9qcCMKjdgJfToQ888CF6VWzULOEnpgqpCgTm+PKsBWcNi0tHa3/nmnWtFFzLwSbcMHvFo4bgbQK/aKpzlCuCaE9UJGqmrdbSdbfk17fUprI3avj7fJHbPM9k73hp8TcWrzUIEaU7wg+sr4J5PbGdX5Fj18oloi8tQgfUVGicsIEje2gEh2q6Uk6I+o3LLoibzqCE8yXhFg1UUmirSCPUC2kEBDxCywraXLI9YwYTwQ5QxZAQc6wXSYSE7kCOwaGVdKfOybVYk4gXiytLEjhA/M//8Zvl4Xza8VcFTzs3lNW5Tfd+GXCNDdsrvCyx4wrJkaU/g6xXFDVRE4Bd37hqRhx13vsi+Iud0ynhXDTvBc7CuO5Rs/DIinvZpq6pZB7HmfYlzdOw5a5qlHvVsqsYHPP6TyzlZJroRByAPFKcy5pgmJvMub7AnHLFMKiRoH2I6rbUqQNVSGJReLD/JbXnUS7BX/ZoWpH3I40RSTMBWFcMO2NmGumsaZP31H6A28LyYZAkeAmBF31hhg/EsoOUR2IU8NRWtTrRDWPWLVFy440dpz/3NAmgVIXYnNhF3pieWWc78lFxf2jYh5WRI6oa2A5W44vmtNpJRWRmwIpM6HdIs179KpoXMttrllHge5W7s6WVHQs1YLtEiofqcUNO2n0w4FJD8z1G57SxLIJmM0Lxht0VeF1ZizPuOeGOcIhSpaq4aIFdnpDdXxkFiWPpac0DaX2UCZUulG5QAwWqbastqTYvMc1IyFrmreK+m+g7jwP5ZHHyqDrB9ReMZmSPirSopl79e0SKz2qaFh1zU5JOt2we5jYJMtwfObenfmz/YFDq5D+FZ0iz+KB0kdOUqCQ3MdA6wxBtbwWBVdfs/oVs9eExhCuB4a7G0vZk4aGtrQ41+JDQGxaxgfDlO6JX0q0P1MeMmWYSNuMaBJrzIhcUizfusmXvMdiYHxEGI85zlSrJUWHq3ds0w69fKsdTmMkTCNS1DRt5NR5erlBZcmib6g6YcaI3D2yrp4lWeKdYPCJ3+KOPDZ4vwIDsr7yWVh+C++J/h6RCoyaebPx7Oo3BHHFme+omppNZXm4JYrYk7qRNUASL3wdRp7/5Yy5c3SVom8CB2kxrcebG76S2DjzKF64nzzXa4FLCkuN8DOllAQJ6tcKf4scl4o5GhwHzLBijSJUK4qW0GREpwmxxUeJihvEIJHtin73irg7kqcT00uFabYMf+gYdwU2N3jzjOYZQw/HC8HMbA6aISeq4plFHimyxqiWKT6yXLcEZQkvHZJfuVsH7E6w3g8YkcnuF/j6F74WEV0PNN2M1hPb5jvanHnSkevGUKoELrNEQSNXqkEh0hPFacfDn1aCVHxtDth7iUxwW288nT/zSx4J046Ps0CkO+6Hlvz8wJ1OvB2+x3x9T+8khYfTLzWlnljPMzcRMOl7viqHUAJd9Ojtjv6NpDhBEUt0c0bOkoqR2b5y7iLCWR5MwTxteRA/knjk1grU+4I0JMyqMTowrRN/FwY2t0fM7R+pWKgfa4Q2XK3gsCl5Z77hgmljEZ1lKgXyj4HsV5JOqLsjn1PC2hqpFmI0rKVGqT0iX0nbiXNZsr7bI9pErzKVNFjTILDY2CBdT4g3bsdIZkRFz65/g3uFbmjIgyA9WcoK0lSg/A394kn+I/iBo+7ptz1XVeCmzCw0SQT6kyCcEklJUBPSA3rhrBf+WSfyTSFC/23YNBWIzUBeMzM1bilJgF/3+HwlFzXT/kJuJnyjiPYrHRXis2ZMNSEeuARJ0oIDkqQ2lD8EYvWviO52xDQZcfGYSdIKRV4c+kuACFwVQiq87Ci0YVsHdqUlnEqwI3OvmaaSth4Zmy0SQe4LHlyCVeLWAJcrrCtRXhDVPUWZ6XNArF8xU8ZOA8cyIxaByRVRWRA1qz3heSWuFSRPO46UtDzmgkyNdzOTSOQmAwcKeQ+iw6Ue3Q3IokJIiZw9LJG6vWDsjJUTBxXRckWrEuYFoSOaEdVBXP9/pCnzy9AwLRmjBJvV4v684l4NwSpYMycG3FpQ8YG09aRoSe0Z5AVfbbh/iNhCkTGE7bftwSwH/unlyPE8Y86W8HlCisRpV5OaAeUjPtUk14M8YX2BiQEpHDiQMmJDRimBHitq84y8rNy0Ic1/BzlRND2hn8DXKP2RWG9JXUc5KaL6Du9r4hJQ7QZDi5gq6t6zmh3PfoNcWl5kTf+qmZbMbggMuqP9cqDnARFbdKNZdOB8XyMakJeCZb4h84mwdyyDYh1X9L5l/LIlxMxYJ7ZKI/XK4DNDByIfkXGgW7b4J43LEWIkhIokFBlLYqa6nQnTDqE0FCuhLInNA7Oa0fKeebOhKUC4E40QLKuEaICKplgJ3hHSjX6YKaMlCUMjI+xXNulCGTbo1AAlMgp8MxNvM6rLJC0ok0ZoTZhvKHXBj594dYmgLMlEhNpxUi1kTxFXKhGpvGTvd7jmLc2UqKUjL5bc7snhIyuW8yWA9qiQeR4sehv4Km/0n2aKJJDMiosTTINgnwbCUvCiblSlI1pHXw+4R0+5nmh3ilM5szwK6raEOiKmK+2siHJhPv0F6RdksyCyxu8D8G85flXEck/6SVNUCWTGrwURjyx7bEwE846u/QjukaEDn3pSX6E1ZKDfGs65IuYZNRsQC6f1BFkSQuBVb0ltwMmEyhbpR1gtRI/Mhpw+IIxE6gJVWERXosWEyJ44e57XV1KnMfGGqntKD1FrdHtiK4+cNjPro2cMR9bR07xteWxbpuYrm79cQSQqrUE4RJxJy1f86JHPW27bG31x5lQ/McmMjJElB8rU8M6eqKtMu7EsSLa7FiUrsrCk+lc+GkfXeoS5Md0ifXgh7Ebcq2AjejoP1a8tsjhQ07C/dyzrC/uckdWGuXnPvLmwcPkWnhKZqd6w+glRr6Sg0WvGzSf6LIhrZq4jXgzMcsvm7i0XcaBu95Qvt29d+O9gLRTRJF7DikyetXplihPr8oL+9Im60ARVsG0Fqs50/UJIC43U6GLDWk1M6gRZUJcj9e9P9K1CTyeWz3tEVFRxYJO/sCyK9bdIG0eK4kgoMl4btJQURpMue/wv4K+/sMkD8Vpwre/JKlF2W6aNYMmesb6yWQRJKOab5ibuuZkHzDZyNxns8O/Z54VcPGMvgkndse4hxQV9+0TnGgqrSWpDjwVdUvkJNzwxFV/ouEE2DGFCLoE4emSWUH5iLFaW5RU1FezGmT897bB6YV5nzDSSlCOLHYO9QC6Yhhey67Gs6HZCTxPickaLQG4btukesVTY5TfyLfKrV1TdHS488P1RMLkjTr1lfHdm/0ETHhN1uyf7hIqGRVxZbMsOR+NOKNsyrwETJ7b3I+YkKMoSY0eWVYGdcVVNFqBSRuqRLztBLwzjONPe7vFeYf03r4VsJKqWxNlxuGpgYe0UQe0JusE0J9RrSbXA2Fzx5YILGlE1LEPNpq8wY8HmoqjXKzkkglNoKelrRZ86XpaZQl8RLiNdSTcLQj6ymhoXdlRDpikKvj8FNnNmJzvC0pGnkrm4YPNKvIwUgOorGnvlcFM4blzKKyA5CIH/WRNS5rbUhMawWDB9QNoDr73F+xfyZs/SNJTfRR5rha8CsniHix+YbyX9Q6BcF+wVdrmnTPCbcczrFWU8qyopnw1iFIjyirWGpajRXcG6OsR6z5hX2BeUZmHabejFzDqMXJYSUzxTXjYMvWKlpJi2vBqBOR45v0T09EBFQHChdgWdmbELyLua2e6ZYyToG3XYIa4FW/MT7sMH9pfEHkssNJfwzLhZGXLgsRf8ZCXjl4Rrz9g2orYgpMG2iXUZGe6uuGHP29nisqRPZ0R2vNGaUjeoNpL7M24EkwXhfma9t9ykAz2wmb6i6gXRBtJfMrv6z2xEh3650OiZcRnJTzVhvqDYs06G1ypQygfOXIjqxjZW3A0TeqgQ4g3XqkV0CYunMiXq+D3lcWbRHbMz7JRC1h3XcuY3HjmlElc41HnP23OHEC+UXEjBEMKBi6rJ9hX5puTxsUcZi1j31OUZ15Qs50TOE7Z3nLMg3GrWsaOKJSZmWD2tk8ipJ+Qza5wIs6NrAllWtO0XmlWT1oW0BMRnSDJzWSXGZs5TxV9Li4olsr5Q6oG0Nvhly14m9utfCenIrAfWl4kf1StuVkSRcfMT2njkvEXENxzKO2S3MJ+2qFjQjBpGwzjeYbWkKi7AyLJcwZVE4chSIMuSu0rjy0dILf4wsbgTjZJszR1X7plySXVS3OYjdBmRPXIS2DiQ5YRcC1A7vMn0hwlnBbNUrL5BqCNTu8XblWr5hXP5ym2p2bierrsQfMv+FCleDKkqqVWLszdcPrKa4lsDT36HVIFlDBglqNJHRHclJc1WBmRTo32kYiQKQWgfWHdvCYWhGu5IpSCVESMEfrMSF0W7Vt9MsiGQs4NnjQvyGxqaZlT2IBWpbIihwIWVuXeEkCj8K/7rL5iuRbgSlXrWfGI+/IDQmvfFkaqYQT8g4oYRi22+YV2jq8m8pZxnjPWsrsZpyxxWvD+gs+OaZrKDRa4kL3BBQKgR9xv01lOrleG+ZpGSehwoyppKZ/ZOobxmyi2eKwRBnjRBPRCkwpWJiW/DrujvkHcVRhRQRsI6EbhyMAs2FJSvloM6UaSedZex5oTQkYFIQKDtzJBnfNdgdMFb25DsxGZNVNsKafdkU9OIhW7/C0WxEu1XlDihzgalW+ZQk0JB6kaG+sRvzVu25UBZBgaVyLUirZZq3qCWJ9rtwiZp7pLAlh68RXWJduNQxRUhI4UKSCIyObyqcF1FLD4h4kiaSsTn6zd7MyvrCl3sScuRtX9LKiXZTmBWpPO49IjKFusLrKkIXiExFD4imRHNEWsWyhgwrw7nLLquKc2G6vOMHif+2s7cugohEiYHyA+IPei4fHORiB3vbwFy5kzkojpWW2HSiDc1NxWJvoKDhOb6LSzORPnQc2oksoi8aQ94+ye2u5rd3zwQdEb2Ddj7Ht94ln5HGUbM+leUfkW/zrBsmdRPZPsBuRgOp0j39UZsFLcUWNWGcLUos8Fuf8CmSC9mBF8ofcNwyhwezpSjpZ80fgXhM4UCGReEX1EZQoQ2Raq7MylqTLFD6sDqIUtoxY1OH4lmRUyC/DwhI0gpWbSkLSVSlZQqEiXfOmplJOWaqCNZLyQlEGYPuoMig7CILPE2IuY3iK83VDUxm8B1qwi/KGxsCGuNThWT+o1C3VNsFc6ccd5jK4n+G8UqFwYXMK5m0g1x3lCGApUDii05dOzPWxSJtaiorGbqDOlYE+LAXBlEO5KzpK49N6O4xHc4aRhUILs9Kr+wKWuedYG831FUW+KYCduCY61I7pnFJ6y7Q10F6qqwnzxFaOmHgqUvKM9b2mqiiQLhLJoJ357R+x2bPCPmnvQ8I1MkVZqVif3Ss64LQ/0DJljEKqiea5p44f3OUDqFlXu8TpjNFv9YIJZfKJdnJr1QLgXLGrHSsMiFtBM4uWFZNvjgUJOnbt6RpWcKDdIWlP6KdQ0uGooNlO9HtNlghkcmmTF5ZatHkpDMxhH0jnLaIZeIbgNRS2bf0MSeRwVaW2z8yJA1MoAuvmURtkOFEYGpK1lUA78+0Bb3LGrPOJcUNxD9BsLPCGmhmuiKSJdfcbcjZS7x2y2p3dIbSa57+mnk/Cqx6zP6xXJZv0cnENVbzuWN1UfuNwu+7qnPBRBBGk7pmULuCP4zum/IRYWUnmgXpFAsTcM4Sp7mgXSBEALJveOoDhxmh0kL2lfUh4DVe6xQID5QihNbU1HPCUTB2dfQljQhk/MW5I4cNQ33PMk9J2rmTUu/uZHvCiyCJlt2XyLucuJFOFgdD2omFo6dVIzbhNYZGQXWTuirRDjQS42sBl7KAhcdnHrQZ1IvmcuVlG6ksMF97WhKBdSorqNvS6Y6c7mLyC3MQuLEjEyCuyqzTQNvN+lbb7b4SCwUTXjhVztxJpAVPI2SsRPYnyVrFXDB8Y/yK5P9lfjbwi/tDzRZYz573HhlMgfiVtC4hsuL+sbaWkshvhJ++d/Y+i3FDPb0gnSaY7Fl99gz55J89Hg7EJKhfkr4zxbJwj6c2G49vM0MbwTy7ZZOCtY6snMd67BQXyzeVIi7knG7wwnDGGZCjhzrRPGy8MrEJnZMYaI/1Ph1hXnkofHcP3pK8TNUliATdlLU7xxbPcC+odrtyIXHpcTAiD4vzKZk2UTUi8JGQaEzaYZn8y+E1cPmwmQDBX8m+xfkpQNXo4QmqD3rUJGnHfVdQGf3TTw0RiQT5XJPIwq2eQMHT44vPBQld9yzLxu6umFPyfBPnnSncT99xumeJoEXT7SDRuWR0LxnLROxeML/LjPPPzFIQZkuOJ8ZroHnShOFIi+ZY5PoxhshRrQ8kE+Waxqo+Bfmw41Ye8xZwEURyi1Sd0zdK2X3BfyEcgF/8QjziZsUPBYVj0GTXMH6GJneCb7W3/FXqUlC0rRP+BzRZUf1ZiaoFcdA+eTpv1q6k0CsCqUzoswoJvT2EVMs2HnBMmGjJdYWYiSfCsRYs/MFebIYZ5BKo2LiVuw4bT3rT4koNM0wksTERgjenCLm3LDKOxgCXnq2TeL5NvNqDNkVvBcT1aEmmx1yN6Pb/06tK/CacjvDIpgvmXAsaA5nZHb05kruEkXdE8cVkTcsvqUTNTWWqCGiWWRELys+NdDMNG5gKxYEN4KbSeeZGC7Eq0OlCpV/RFNTxoZjX4HcEIqJaEcKoSmLHU4q8n4mi4CeduRLQZ4OuPk9qD1NOUMcMEGzmCPp8Yz/fqGsehYSw9MWPVTk/oopLBH/DVdqHTJ9ywmF/IDY39CFglmTc0bGhTK/4W0u2WTJdlwI5S/f3izHgSwtldCUVpHSM3l0SACnuFUKKUvCcmKVDidX5FoS8PTeYHXAa8+iekSuMfc/MnrF1QzI+Q7d39FeNyxDjz9uifFAkjVfVKB8p7lUCZqMSQKZIrmw4BY2MSPjil3e4eSK6DVzkIzM1FlgdUaqG8Y51Pqv91y5p3MVVXDI/EJ0Etc1fBIOEXpqpxG5Y7EZJyWYjIlHmJ5pdSBsO5Q7U6QBXQnO5h7ffkfo35NYEfmEkxIZN0iZiaNnmr81XanVYv0JI8GqiBk05TzQBJgpMPuBXHtqv1IeHdIuXO07YpFp3YEY3jIWFa+xJ9oZeXCUr+8w4Z7f8Yw1kn2zcvFP6G1AF4az/JXTtmEuwHeJ5apQlwfKrkXGFScSVdfRNok6X9k1G7Z1+c0VtUJTdZStIhYC8U5yPR0pVIFKG05JIYqaqnCsrxc2n0qqXGFCRs+BoipoOvUNN/cnTC2QS4cIBWdxj7IlOV5ZDgIaxWu5Z9KauL9gqw0Pny3NFFnrzDgcyAm2k6AQFdSKOEYiCd1ENDvW/oo2iiUp5HEiXQdiZVlYiNEjvKNWB6zY0l4WYqi5XL7S/ZNm67Ysa8bMAl34mTx1PKyJSVXMRWR//Q5+2lPUK+vtM2XuEKcdvquRRcWiB8r5xqpr5KpwrcPnG+dJ8rHYEeIJyjvyLLBmZE0F6rJSWs3oF3IUuBgRskTlFn+1FN0rwu/JRcVuhFCekeEe40bgDNPv8eqR0C40zUheoG068i0x2EidBCoksgiIADm8Qdkj2W1BR5IuEdEjAqTSIsQKlKRk0POWUk/ETjEv38HSozcru48ts9pzEjd2SaL8R9LzQn4L+fxIuxswNnLBYXWmuh0YZMCphi0aWRb0dcUyepRcULGi6E7kKFnWR5KFulWM42+YakTFmbi+51Nc2cmBZii43knquKeSL1yrDTI2WOBVL3y3Qu4zp3eWQ/+Jm/BMw0c21jEUNTWOVL9w4R7ZgPpnKLbVt6BkLVBFQbyWDP5K0+3QPrFt9kx64WGuWYozmB0mlmhmxs0LvbBYZbCNx+or+XWLMAGip5gu0L+hqt7xur3Syhm7fGIJ31E+RmZZ07iZ43jjoVA8qIzVsOaI8gXl9Ql2FSl6WA2zK8hbRT1pYl0gkyPcJXau4SyPiLRn2njU7JHhxGg6VK3BOtRrxIgMfUmuPpPainCCRpxxMVCaxKwMDCeWbU0RR3LWuP0rVu2JDNy7LVmB3PXwsuV0/spBdtwmyVjsQR7J9kYjalK/gGsYO8f+dk95L7j5HaiVh2nkVzKLl+xcpGWLyYm4RM5lYsqCBktVtnRuIHSG2GRyDMRbiZsbLhvNrnhGDB213ePXEU9krSpkfGVqIvr0gFIOxpLze7B8U9M30xZdZS7pCRU8j80TYc1Iv2c+Gxa7sCsyYl15t8xMDwGhSprkkWnDpRDfupu3V+qmo/YLR71D+YxovzDHmnm+khzf6jq3NXW8Ie0WbxZWWVEJRZcDMIN/IIhAW2qEkcQkke9eGML9t2yOnKg4oUrBFAQlFpk0Ox6ZrzDuZ5RfqMOBdu8pLieirairyPeypgolEHkrG/olo+WIdJaQLD8fAle3Yf++Yp8WbneROxRxqkiTQWwXXP+O92QKYxB/vmB+eE+7uWcpFK10YN7yxVtM8UQh3lCMiqkZ2L1q2ERoNtilx5sCF0Yq+cDheCbvGygGpn7FFgO57cixYP5LRa0GZtVierD2gWM1Ub38ka35B9SmQS8Vae/hL/f0bx1vRcYVb5H6iDp6ll6TksO0W9S7Z05ri1FnVCjZTQXufcPw/Av7+s23rNXXM05UbO4vlOE959sLuhWUk6beC+bc0k1HVLEhxAidI//XR/zfnRGip9+UpMqQw8Q0B9ANXU6ESlHLFfQKm5XLlHDVjjpAcXviXDcY3aGHjPidRrgt7tojlUDkgdG/YVdPLOevxN0BPg9sHwXxuFJvLH+KN9Lj7ygvEfFwoVWaOld89Yq30uLHBt3O1KqGIDhki1A/osctFzlw11UsQ8YMR8osOPZbblXFudnyvhh4Kp7ZhwPfVQpEy0UaGiKrfOY+dNi6Z3PekVhAGR6UpMcyUVDyiC80501Ghy1V7ZmjwKeSQk6INXLqLftDQSgj1zjTmQrEE8QSrz0qrFypaJp/5Fe5Z4dnc7pS/SqpWsN8UPRaUh3AnRVpmUn1hUUGbm7haA16cFSNY2M96/KIE47+NZCSQ0RoC1j631EWDpaCbBd0M2LjzFJFjlISxIRuGi4pcYiG5CLjEtFZ0VOgTaLuLVkULKNkXWt2w0pvDYV6w5IitZupXxTFhxFRrNhuJR80YlmRC4hqwgbBWDi2ww2XD6xNoMBwARqVaSvLc2GR+guJSLmZeZN2BFli2/fkqyZtCoZ+wRWatrCUaWS388SiRMkN7muB3ylsekWUM7f1De1QEsoEUWLWyFheEVmBumOqJOtUcB9HkrQ8p0eMiHRtjQsT07qhbRzq1hArRZSCqynYyZWARZk9xWIoAhgbSOuKlSsmOyZlqJMFaZkGg26/4LSkkoE6Z2IoGd4H0mBw6cTdaPnYa0J5oyATJth0X9By5So1/bUiXkcGU7FWDpVHnK3ZO4fwnhQ7xKARqUHohFAKkzKFP7KKG6uEeXNPHhfkJHj7LvJc1EyMREaklKidwl8uQIuRO9brEaEyYnePuFwoheFuhgWoJ8XGFUTbUKWEDA63FHg1UOWJJYJ/nvi6eMZJ8F3ShPRtkDd/BRs04EGOODOybJ6Y/QZzaalahfQ9x+o9sfbczScO40fy2XN7jBD3jNogT4GKgvZQMIfA40/3HKWgcC1Nbfl3f6hIjWMKNb/7t/8Dj02BbjKm2PM//6f/K6JZ+Pv5DmRBqVe81hTtPf/wH/4BdXfkTv9El+5Z+UDaTJTe8Pf/5j3F+DNhb/Cc+U//t/9Au3nHTaw8uDtaeYcvZ8rhD/zNT5ooH6Lo/N0AAQAASURBVCmLT3z4uKP63R7z0lLdef7N7gP5tGFuPfnykfv/+MDandGq5MfHP3B3V/Agj9i0Q/3nf88QKjZaM48P/MPf/9/ZvxME8cT3Dx/wjSEPLe/slv/0f9ki2kDtV6z6GWEydlKMqeLX1fNdXbHeC/Sy4Njj7YC2lIit56V3VHVLNxew+QARkjSwk5hkuZK55oE3xUjwhiFWbK+WUxMIReSgCsw6MLgRW1RMMRILuKsURu0Jpae7Sbx1iFKhywblEnJpEYcJ1EqWDj9HsD2YlrmIgIBcEdQruvyIX88M9pHGGnRWyDzypijJAWa7EDMolREqkpIiF/23yieVyFFCFYkEiAmZNEIGRHFDHn9i/vGv7KYC0a5Mc8FZCXZC0aw7GulQ4cL0eEejVp4PDuUOKJeI/8rnBTlRrjf+jz/+H7zdGAiSWawwKiSC34qCoD1mfiW3/wQiIb2FEBlSiTKQ9RUVRs5FixcX7BdDXivMZuXaNzRGkuMApuR1VTjrKL7+lT+KjLULp/7MdrTQQlAzrZ2Y/SdKafAZji+OnZcEv/Lnf/x//2vwZs+y+f+iMWg/oq3F3QqsSTjzRKUyJIkL07fWg9RjMlzsluI6IGRgua2UNBSMDEOi/tXxlywpuzO4mXZT8OaH75mKCucct/BEt95Tl5amngjqjOxqZEiY2hGtwgTPixM8xhvKrUQdcUJh1gLrItoaxBqwaeJfDoL76YoaH3BB0phnJhPQdUGOByqRuRUnvk6OaDNCtwgzk9wKa4NPmVG/Uk5bctFTdhBSZhwD5lZSygtXJShahXxJXJSinu6Z80DVXBlnQbH7hjvFemG9KUAyFyXTdMUpQWky6jSxfBXInz1CPdA8DPS5ZC9eyEiO00RZdfjVcAk1b9Qrm2WklwVjTnAHchqZ7MyhmxhjZAklOwLVG4k/LpBeqG47WlUhKs08ZSyOSVmECQR5wCy/kesNk6x5lTuaBMkUqNIQ8NR4YrhncgGtEtdCcwj3TOsTOjqS7GhEyeHT70h3gS+1IKgzhBErJs7G8vCycBaZt60gCsnN1Fg9E5YbpmxYDEhT0g5PzG6Lnq+wWTE2Y6cducjkHGB0ZLHi4sD+vsQJSZYFfZ3Ra02QFqaFePcj2k8kVeAnS9usCC141TO+3lIVI/N/k1Q/JvyguSpFU0nC55lSDojiBccH4psFPnvCauj1gW32HE1NpwXX6RmxectjUTHLe8IXCHcZkRRTuhJyi7+NNO0rabrndd/x5nZjMH+lKf8t2jkSHcM1M1WOVkVa/QtrbFG2JcqepcpUS2Zr/xazuRJeGpJWvK5Q/P1XuvGeeb3hvcXkDc/mX2ju/4GtWcmf4Gt8C+tfKD98T7M5QU6cKBCVZ+4V4/cDatyR65HTaUddrcTCo0VDXW3AecrUMI0aygnpX6ncHvXxmZMU3K0TS7rHzWDShtJ5ooxcyieU36B1h/WO+FyxrSTe97wOkjfNG3YDBO056Z46VZxig5kSt84RU8vuYvHNb/Q/vqUOGdFWbIrEsDZ4f+V31UTODb7rED1k9YXbyx79s0f2I2mXSc6Sg2V8keiPAasqYj5TxJpbDV3MXNVMJ2Ya9ZGpL3gXRsxHyw+3R6JKrFYxLM/Y8h1fnWcvdqyrYEyZTVuh3EooBDIINq0krCt+rjEK5l6z26yIGep9jTo0nD59JrSBnD/Rv2wY5UIOkmwGxDCDM6SyJ24sf/rf/wu5uELKnLYDjbuRxSt+HDGfLMl6Yq4Yrif++ssLQxmotcWKkTBMFMsG+WjgdULpFq0kZ+lJ24bqr/8FJQPFbMh3LTI5xrGkalcc4M4LxaHjw8ffs46fKY+Bk2qRtUXwxN12YZr+meoMtwKy1iibULbGnAK3+xbf3rBHx3pTFD8l+qjIvuGh/BPH0xv2hSe1kvVlIqs7srcE26JUxghJEo7dXOF1CXHBL5GMQLmJ0bf0leCRnjzsSe/+zF+853fDB7bOIOeJ0F7I9UBIgnUrqMSKjwJhNDq0HNSNqC2pdIS4J8uMjDsGdSG7mdeXgX1K3PLEdrOlyxFXac6hpzNXal+wLBJROpR0SBL7KWKqglj8Sk6PSJPIRUNuBMqUxNKz+A8oFkKZWGeN0SNleEMlHF9PhjX/StYDpXugqC2IiLGJS/1H/hL/wN/LHozAG4fAkOSEsobVaup+JYgRuCPjmY4VRSFJN4/90COFJReOtCak1cgW8lRRnC80HJjkF27SMZuCLDxC3lFHjfxmP2AVFdkKVhtIYcBEiXeJKM6kVEH+CMHz9M6zNd9h6iPL/hesfkM0DdnvGdWKST0UL2xHxblfWG+SUj8jtw3j7gH5ayKuBSZnVNwxWkO5WNKbJ9xyIN4eaF3mqEaWHPBp5fzmf6Ur/h0mzOSrYnwriacJ6zVpeCFtdrwbEr2UVG/3rNOOJVy5b2Y2jwnDTA5XzNrAoaa9dtw/RtbYUIsA9chyvEduf89GOFLS5IeF01FgxR1VMZGLDUou3957+p/Z8TfIbcE9N/yww/OGjYvEpuRB/4EsA5P8Ay4L7tWIetTINXBfCqaHCkqBUImf2g26+DMBy7MosXVBXD/iv9PcjZKuspglsXt0DEWmXiLz4WeILbb6E6+8o5s8qpJU65YvU+Kx/ILjB4LLsOnY+TPV5Jm3kuQPbOaRqBd0BmTWvLYV1UUg7iO2z4TQo6aChUg5C2J3pKss07ograGVVzCWN1lw8oHl1WO294wvC8IEYuWJ6ZFzPWLKHqMavtgrx3SgqP4Kumet7th4iVILoVcMLFRNTRF+QeiAKHa4u0B1bamaNyQxs1VblDTMycHkYNch3JmQOiql2FSKPTt0XSKlIMcIskSInuirb2l8qUhLBXh0l4mmJt/9I9sMQycockNR3ng3DVxFiyz2FEowr4JQr8QY2YZE2iz4m2fLSN8mdqHiP/z8B8b7lsYXhJPGthpfZ2LjqW4RGTRBFvjyhhY7brfPHLaC8xVcp8kJ7saOpYhkLOq6ImuPrg3ypUE3A25Z+NTWqIujaHZUckEWNU154bJskclxSr9yZ39GzQ2idZRfNaeHiR97hdGWv/93f4coPLUMsFyI5SPRSLydmfxbmuxwcaDMBwq9EK8jz8XC7txSaEO+s0SZsZ8M+c1CjDcME3QF8/lAGF5omg1/0St37cIsah6eAr2qKBWk/UdMVfJ//n/+Z8TmLXu/cH2zMLkH9tKjv37B7+7Yeoe+35GMQs8Q3Ur44UolVm7PmmK7RxYNP6wVpZup655Uej7rlp0W5HWHK1eqk+FxLrl7H/hf/uf/F5V2pPsOHu8xi+LcZfR6oGksiD2mgRBONI3A0WNzwffLgl418g+G5iYYH4+odcZn2P/untQLXDS0DwL5vKLfWqpwwxwM//nwDzhfINqGpAuU+xPjeEf5UNI5RYwdqRwo7IEpR7bbK9vnliwW/vroeeQVph0EQ+1veOmYnjLjm4iZS1QVKZZnbN7xvA8s8xm31tSnG3WtWfKVaBxz0Lh+AfcDocoUKfETK6FeMLFBzlBz4tVtOBSCvFqMeKF1hlxvMK8/EENP0SkKJxg3MyUN+Jo6T2izRflEPyV884lSvie6ml4tnKSmLyN/E3asXcToyDwkZFUi81e0esAZqMbMJEaSM8iuZvARbTRik7m9npjajs4uKBXxcY8OmbK6sApF6XpsnRBz4FUJtK6prOG+irgJ7L/9SuIdUwy8/5zQy4irKo6Hjp06sGZH7a8w7ikON6p39yxhYC/2hAxNd8fXF8VddcGbTMwGHU4MdsvclJRqZHdXQ/yZVEH15DHbGaP/juXXiP64w2fPdhUIl6hMxeXesLcLMnwCMTOKv0GtEJovuOcKOkHVzUzSkxaJnRemQ03lF2JQ7LuP8HpiJbC+ewAkb9IBxEj0EVW84+COvI6WYVW0fzbozYxqB5rtkUKUzHWJWa+MqWBRAZk0uYwU5oQodoSjo9/d8b4IrL6lSg1yyLTNE19yx0GvjFNB0XWs08BYdcxZsykMlZXovSAtEXv5wvV9jZY1u3klUCA3JdlA0wTGesSkB2qVcSKzsZb1eaSpf2Opt5zyG0SR2JvMkAtU3tBuJV8+V3zSmo0VtMIR9ECWJ8jfcfKG/KeS4p1HZ5AuYu8i3B5YM4gPlub834mnRwaVqYPl2lxp+5bitjIfCr74gR8+O9r3FfplJrw3nOlpQ6CaIv3YYCpFPgbaxnIrJJGASQ3/j//pf6Ltey7JYMRXjNsyv9U0cUHFDvXqWN/AOvZ0y/+IP67oj5o1ekIrqYeZeXnC3H1kmR7YFZE/qpV3PvDRCVo7IQtFHCtqMVK6lXh4g1wK5GuGPKIfJKsaWclwsRTVgGjf4dIJMz4wiSO6PKMuD9jGsv78P9BuI/5lYLlzRNXSVhq1DPQuIO0D4rbitgoYEMbjzpmmm7n0knpqUW+OhKi5Uz2/cGAt/j1imEi2xHEixsBm6ln3ECXEMVEnMKlBKIlJI1/nP1Fqx1g27INCqhMo8PI7VvsM/ZbvXhJ2f+TPa8fHdmF+rgmjJKoC1pmLuaNSIzLsmcOMKSekfSbNGps3xNpR6MjOJHrZ8i6P1O0DizLkVZOuCdM1mM5TU0F2eLGlvQVmXRGjJlaOLBzly1tWmQnbGT+PpPIOtykI60IXMrKQnKQltRea4DlKRU3Gv0mYq+A+PIDa4y6esn5gsSeq/APvRM26JrLSzPkROSvSOrHOMNYj6fKCfOmoV4lC8rg/UpSZJGt8jJRmwaZI29RYGZnZEvULs8z4fkBnx0hDGTVhLdFpRC4OYklOE91mwX5ZYbmRH+9ZjzP5diOy57M9U+mVWWce/cLTOCPzFcM/EK8VTQiU6pVFnjAxsjw8Ug5XquaVYvfMshjs4vDhlbWAZVA0j5IyRA7rhlWUdJvMPBnineWTv/DRZMr0SK9qbPF7pBsRwmAfHXE29L8s7P+upW8aylvmnLb4zhPWmcI0PHJAuguifITrQj0Ywr4j5SMv3YZ3/Yysz/xjDPxu1hSngfTREssTKjfkVLL97YltNNw6z44tXzuH/GNF9cO/wZmaykt03DAVAhM7VPsKaeFkE3Wu8DHxY7HivghetiuV91QNiJApz5m461l6z7z+iCoyd5tARBHzTHALN1/TzkfUUsCdw2hLH0ry80pxV1Dkv2M/Hon9W9paYXaK35H5U7ej0hKfPdVsOZWKYDVarSziRkwbpHKIT7885Rh3jK1giCM2ZSo8hVuQTjHGHYs12HJkWaEtLlTXiKh3YB3ELYsymPgrU79Fa4c+Vfj3jlS3qJz4Kn/j7fADZbXibwvP80hReJ7kPe9QrJXDDIFC/ZV4+g7bBkINygdOTtKXmso+orzkIG4sSlHcbuhtjRMSOxpcXZCWzDENnHNEupY7DSMLOn+rylIkvF0QosKOBelyQxdPdD9tKVCIYos8W4rtE3k9cA2avLE8XI5Mh5IiW27PlqI+Mqz3VEOm1YJ4nzjnzH20IBI3O5KeW9bdyBux8jpYtm1iHjyqzcjxEVu8EIoSZWtkL/CVJI+BtU3oC8jihGw70tTzx/qO36+S4jqSBsEwHtk2bxnfB5pnWMoVHsC4e9YkceOJYG9s7SM4w6X7xG7Y8ouJbM97lAkUjWLxCjOOYCuWNVOUI2pbIGeBKGaWdabP3zi8ykX6OLEmwdvNA6u/kdYRScMSwaQKK58Y6wcO5oabHrh4xW79FYfieF/xYQFBhV9LhqgwckFJydEYNrxgKljDIzYdUadMFBrVWZrSczwOmLlDfOzw8gvVlwcu5lfK3VvyuuBSQ6E9VjqytXySC2+OBU/VV/b+PeLZ4lZF86FnXxsW77g2ntZNpOGRqr2wDHv09gu3VCNcQ/pt4O5Dy80d6X5pSD8FZkrqPJHDA+v2SqEyyznQdHc8h8ydvpGPO3J7QxQ1YhGUVQ/0TPmeMtX0K2S5UH7x2L+d+DJvqGxi+1vLJDLcf0XLlqqOpOWb3C+3R443z0H9LY24cY0GeXSUbzLEDapVuMGhxhvzZoOtErmXFO6FWXWsSpFN5Pinnm0pOeuV3SxwrWHbwQWFTiVuyXRmxaUamU7MdLSlJE4zrrQ0p4LpbqAOgfOSSLrmHsvRRvLlEwc3cCr/js3uSnFuGczMRini1JHmgLzvkYVkvmWy2TEXEaGu1FPGlAHONUOl2JeBeXWUFq5ecRxfqcu/ob5JuhbGdSHXL0z+De3tgt8FYup4uBWMZWT3gyXRkJYV5T31Q8fL64poV7pcsJp/ps4P9MeG+V0Fc6Yb/4gvEvnPbyl+2iD8E+JwwA01wY1UG88ya8r8wmvzgXexQh0X1E4TyhP9S4esVuS8UDZbfF2RnwdE1tjGMwM0mdMZ2rLBc6VDEZcJzMS6UWy+OorDDwTlmIcERhN1opwduRhwtw150sTHCeUniv5H8vYXgrjjYme8a9hUNUrcaK6OaTxjxRYA5keu3Sv1peX17czbVCNkRAxn/J2iINNr6FyHrwyf48L73rM0hi4W3OwrB1FB6vDpiJIP2LFnrGqM0vDrr/jdG54aSZ4XPhSSZYxEMrGq2cqIXm/IGZZNi/UaVT0hLoZp2FC97ZiLG4sTVGuNyCNiGpHbLX2fKe5LQgSnZpq1JVuIy0iKXzmuP/HdZiD6G7W645iuxBeDP0QKHlgKQTdEtOkpS8+L6tmJyBrvkcEgpoVTs7KLd0SbqPIVEQFRUgiDuy0408HW0caWs/OIIpLOZ3btjuuQaEqNVjMnvbL9tcH91HLrJzaiRlagdMDH32iukrGwXJTlsciMoaGhRPQvOCnxjSJLC2GhvOwx7cBnM9CdFFo2iHtLioZpjmzdjG++kNKBdrojFz1OHnH+W3ZLPjtsZxjswK5omPVCOr7FNC+kOlHMe/pLj1MNqVzoegPWYzLIZoe0L6Tpxlrd4VPEVSXq+QKFRiPIzlIeJJPeUJ1vDOZG2xbkXx2Xds9WFlh9Zmwa2i8GkRTnw0g4Hvn1F4eoC5yK2KzI44r9GolvOnQhIS5M443X66/8x9//wN33P9KvAT1KxINBrTNZ9Zzmlg+2Jo0SVc+8/PWZ//bpv7GYH9g8PnAOie0XT3HX4ETCyIx1N1zToHUkjAntLJ8vf2LfSH78/m84RYHMhtU4KiyNW9DKE4sGKTKxT5R25b/8y//KX/655//0D/8Z00K4aVxzwYTIn57+kf3uI8X2R5r8grU1MXle+lfaBP/x3/yBqXqkVTAXZzAJPRrM2bG8bajnhJAFsVD0XzP2/ivz58wNqOKONK7srOTc9Ggv2L8P9GHHJZ55Y1rWKeOMQcon1pca7QZG3VDZwNhYqlhD7uF8h3kzgDEcihb3MmB8j9xEjr4hyZb06wlxWKn1HqFOnKi4SwXeWFQSZOmRU4D7mfb5nr6emBzUZYtbb9id4Owq9v2F+qD5/ElSXQJV0fDl/is7+4B8mbjtDKJR1PbI8txTvvmZnayhWhG+ImrD/HmlqAJWzaz5DVXn0V8DqQ6ERqP+MTAdYLEvlG1LKUrOeYu5TFQEarvhVg+s8p9p3M+EYaDb1IiUGGJCdXvKPynWveM89OitpHqVTO812SUObcun5YX3LjEc9kgsu3SmX2pccLjuG2a4v3gaJfGrQphM0D1GVazHmUZaBH/m9fB7ds/P2PcgwjfRYC+/QtJI8Z6zg6Am7ssJLzrS8sypOHA/RLaFYcwVlR0x5wV1MIh1IbuaaZiQpiGairmQ6FlS3hTVdwuTk3ipiMWIHQKyPuPEBvU6MElLIxuKGvRs4JZmDrIlWEf36UppDrzWH9mKK4VcmFq4Pc1IXXOuCvKnjqk1FOsLTfNEy3v6wvKiDnzIf6V8M3MWdzQ+ctU9jfwDscjoWaKV5q4VFKpgEyNl5XhJjvt2wxL/R6r7vzBXloBiU97YrPf4rkRPN66tpFEtm3jGVdDrPY9KkIJjLgrqm2LzEHlbHsG9x/SRYBfOZUu7NmxmiGFGVRecuaf9oWP45Q2KBLxyewmIauE23LNXHdcq8BAcXzeKLQWClrYb0EtL1TlwNXkLU3Ghzg2XeULKArPWJBbM2uHqlnLrWfyMWltsGdH5KxcpKU3F+TLxMHvKW8e8vxLjgaWeadJ7JAulOfC3zjApj+kkr9snqul3xFUj9MzUCWKy1MMzfUpEAfKug9CwWkfQkk4U0Ay8GXesZ4mwBWmT2fqBvKmZ0oWzOHCvAtF7Nm3N7ctE1whikNTrlcLfEWKCbiGkZ2oqPtu3tJPhYDJBgzcS/fLMf58PbLXnfgcuvKV8e+Kw1njl4DbhsbhNT6G2lGll7zM8S2Qruat7piFT7C1rFChq0ueew0OB2BrWsNCuD7h65O5ScKwiD2XC9z3mUrJ8zMy5oOlrvgp40D+hwkD6XWabjsTcIPxECprutaXfDVTlr8Tbe/JZc+0aitGQrcfrmdkU6PqO2JV4FyjFSBG2hP0r/XpP4TI+RaSL7KbMsAWRHEYnykVi1xtsaoaxQpQL6TwgHhdK+cBzsWXrOqqrg9aDjwgLqlXENTBHjQmZOq6M6g6zH5hee16N5LGsmN9XZD/QGUW4TNyKF7qHGuNPqAmGQrLKDdAy6sTHJdG8t2CObMVbqrSyFluGIvFeBEwUhN8GpocDZQxcPpXws6HrM6VvyN995fmu5VF0fLkolBkx8Y7D4UwxLBjzbzhvEj9UihBO8GbH/dXghivtDwnfG5btR/ZXkN8dUSfPo0xcy8hd+z1COU4vE/tSYKuW5T5RiYbqNNHe75lzS1nPeBPYZ03uvmPzKlH1W0428W4v8Ytjry1FnJjtjBt37NOFNVU0dwmz7lDnhLt/Sy862qbCnAPulihDxdcPG96/+xeK4gdifsO0BtbUs7pX2uMjY/uZuP7Im16wCLDtkXU5YGRBuRHMskO4RC/+Ee3e4x4rtnj82mDNDTM0rOvKehfISaBPJXMuqKYdpRzJ25rsIrpYEEKRRkVXK56Lkv1oSNXKqL/C8Q0PjwLLExf1He2rY9577vSAON4QtaIImal9IJmCJmoWOXO4r5gfFh78BrziHCK77p5uPkNVUqaBX4qAHVd+Vlsmqyj/OlHayPH7O44nSb39jJ42uDiCTwzPA+Pjjq00LO3EO7kj2Q7jn9BCs3yV6B9Xlj/PrLsGLcO/nisXiuIOf6gR8yv5KZOajsNuYtAKb0aM2BKLkp3yvPzZUf448WXt+fu55dMJ9H3Fo9Qo9RvcJJdtoHSZSlbYXWSUe0Z55MGWLHYhxcSQD3A13HY1nR6xsSdu3vAYr0xZM8mvCNWReig7/036pPfMdSB/eaWqoTCGHEqWsuJmFaEukQVMQdEIg9k41jUg9YQ8L5RCckmWsj4wm0wlB66zBjmzKoHvA9UsKdvA5BXtaAidRJQzwTWokLBRoQ5fWfoWZw2PleRSTuwnhSsr/rq7cTeOsD7SiL9wTN/j9jVdqRFLgQ8BmcA8JiQl6ZNAvZ3Y2MhYwtUF1vYVc/uOvLkwz1eqbDmOnlhImnGko+KrNzxcPcIKTLsihWPz5w1x12DkQHXMhLeZqC0BhxOeLt9YxgL2W1qhuWmLLAqSc5REkBZfVITdyiCfWLTloBLjHFBJI/Y73OUX2L9h0gN3SZNjQBf3aKk49iNVV5OTIjePWPNXJivRLwP7ymIfa3ALS3VB+paozmRRMM2ekpWhnonnnjV0nE3JTk7YOLDmLb50zIVls1hMHFAIXGXITmH9gSxOhHolFyUyn4gISAaUIXpHYXrQFctUgfeIFFBVS7jtScBqYH7dsH1zxPDK891MoT8wdnvaHFF+oDrc6Mct96XncF/xVSrukISc2S0ZuXaEcwk68eP+I3M6UqqCdjexfvlIpwLV9571sie8rZnTjd0lsxYbyvoVUSsmJeknS7M02HeWWDkqKloKLm6HrQU5eraNYCd3uCmS9RWmgl2346gNd82NUcwU3R1dn9HyFfe2oLhtqOfI0j0wmE+Y3SNvf2+JOfPT8wOl3LP8rWFPYh62zL5GPziKGBFcOLkDpYNtuFG1G2SuGNWGss340WGLwLBULMFR/aTYKkNV7LgNLXU+UcwdXlsGa8ntK8UC81ISm5YVSE4jm2e0sSSu5EOFK8+8kTNLmXlpP9D5lX2XIF95MwjURrCbR4K4kWKFbDzFIFGjwU03WgRrX/O6H7irNWoxOPeJbvOAfvXEDz/j/+qQWqLGLciCZT6TqxYRFXoRFGZhX7acheLH14W0q+me4SLhpm4MjUWwQ3aJTyLyQ3kF6ankI6IRvByhixd6bSj3muvsMGFHlc8sVtIUJ/L8AY4z9ePMUrzBnyT1NCGFKEhbwyQn1PGBo/od81awGzLX2oMq2ImJsnBstp7tMbBuG7ZT5Ja2HH3FWETGUKGSIKiKi3jHlkgjE9uoKbygMjOjvPEpNDSrYGwrxDKRrGZffc/FjagwkXiH5ANn/Z7f5B/IeUu+RubhDemqedaveLElrhq1Zi4kepNAj+T3QOFpfMGcX1nuLszKoM4RXQZiFYiuYsgtcjMikiNOF0S+UesNmzKwugIzriwpkosbZZ7Qt8z6tWW5ZlIBYyu4hILPxpOGP1H9ueJy89hjh77MLFOklQLjenJ/Rquequ1AQPCGdNgQmztMkqjuW3PIpTJ4X9LNC/f1SBci+sWRoyGtE0pIZC+prr8n14Fgf4XTF2r9K2sz019bNmNgZz1ycGwvZ8qbxqwKL/bEG9RyYffDin/3wi/uxksXGaSkUZ4fdORgt9jS4YWgCysmw265EeuVT5svzN5QnBuu657lNGK859cVzu6KClfGpx+I9x3f/fBK+86Q10/k7kJIgrBq/HrEyJLYJox/wvYTIr4SizP5UJGLPS9+wt/XLL7FXCNGes4PiqHcspb/jDiBLDJi97+h7x6o9czZBcwuIncOIWrKaWBjnvjdLrBdZiwZ4X7hnFqiuzANBX40VLvAm7Gle67xecLfCypvKPctth4xHyqq44Zy+IZyRHvBsuHWCaLICH1kqf/MppBcjcV2DhVLLu+eWZRgPo3EJpHdSt3cCC7ysi9Z4wntM29kpPss0ZsSsmf63QvTj4K8SuJUo4ae0URcd4cIFad5T9EG3pias05o4dnkjq/qxNfdxKZ4QA1QTxJ17NhlmM2RYo0csmAyApFWjI6UcsYbwfV1prw6crb89pS41jeW8S+sMvPx3YWfjyVVloiqIi8/0K5gvoy81z3vx4LHWZCmgNB71Bbu7MLcj7T1jtp8of9uJL8tyCmgqhXX94SnyPZfTpS1RhhPEb7jPEvmUWO+E7x2jrkVdKLBvUBBpouG7vOVTefYyo6qyRQqoB8jqS6xnzv6z59YCJzFGU6S+uQo9Uyq75C3mfpkMV6StivlUtNImI8DcVY0Hyeu+wfKr464u2fmil0l7ag4tIL78neUheWd/QnbWwIBV944twq7fUUPPdNlxV2euQ2eTfwJc7GMY0SvBUYKiq8JkVZ2sqOMC1vnEfcFvtIUSeLLjqJ0uOLKHB2344KrAnJYaUNCqY79uuO+/QPd3RYxZ9YysdMzvhEYFylMw1oL9LTjvC8pZCR8vTG43zjeDCe30M4e5RXtc+I795XJPvG5lKxuwCfHzyKz0Z4pDcS6Z/puJpvMe2b26hk53nMpbywU+LWk3JZsQsSUsJ890y8DkRP9ItG9RdQZdSmZyge2puVuuyXVidRsWK8rKQcutWW4j1g7Mx2vqNsTOR24zhPXS0AsPcXeYpLgR/OByf6V7eOvKP9KCnvKJ0tfBd687ujjyFieGDaf2IQz5ShZnKe20JGpXGSrLZvPniA6JrvhIm+kscTzT+xFRStWDslSDJ7rKog7SbNkxEYziIUcIo3J7KsCphVpEkr3NLd/oj/eiLWlUpFWrogqMlUNqhwQ/UK8FnyVDQdZMwWFVleiW9GsrFqiggUf6XWCriY1nyhsi7Ia4QqW5o5u3nAda9yamPc7tF0o9QYrNpi2JFY/0qmVbjC0SSH3f0YszxxzTRY3ngHzkFlFRTBXwnriu3rFbr6j/e4Ta31j6CJHu+XQ/MBd9gj/iH9Z2b4v0T+XrN9FxE5xPm7pdxCLb3Izdhk51uyTR82ROiuWvOf0XYcQJwb3+m1jlb6gl4hOAm16THQsRSbPW+5ShZwtjTSs8oK7LUzulZQ9XdAgEi+14TIulH6gK0fi2ZKfLPOdJYYdZb4Su0AwMBceVwt2fclaCObpAbNYpACvdpihJaYtRjXcj45ExTLUVM8BNwbytBLmI69mZbGRoDqG0OKTJEnN7Hrc4vHGYmVisVd00DhdItOET4JoE0GUCHmHrGvkw4wrf8E0CzQrds3M+Udq/h45H8gILpcjs6yQ04ZCC27WcJYlh/Erp6sjpRptDIXqmIWnNJbfIjh5T1lNDBHU4URlYbIfuL4NjBke14E+Kya5Ybk8kq6GzfFAdVsousA0G3oxYc4Ty7IwvdkQ9hsqfYfTP7KON05aUuu3hCbjHN82HuuO9VFSV5HrLrHUlpf/P0v/0azLkp5ZYstV6Pj0lueeKzKRABKFgrHIAQf8zZxyRuOIg24jq1mNrgKQ6ooj996fDB3hioNTvyDMPNw8LPx9nrWaLee15u1O0u/PnHHc31mcPCJ4RaeSmc8s4hOJdZBPlLxSFSsqE0lcxk4pkkuGTAyL8MRokUuD6gVpJpiMprz2ZG8SORUgRqZrxVZqXkwkMx3r9Qdk3eN449SNbK45WbtQmxqpA6OtUF1NwQtvG0NxrHDDjvwt8LDxJLVGKMugC9ryTNelfDlXdEvGi3WYlwqXGyQndoNAxwVdfSYrZsQ5IbYJWf0dUkm6+4hXnmLzQqg1BA+yowiGakwozZ6qVFSpw8eF9WJpVytu8wO6WrNb1chkhZwcKTe4TtxdJuDATZb8aRD0k2W1OpJkLaqWUPFNVDpdMa5kGCTdJfAl3vB1Ruh/x7a54bKGqfiC9jMcVEl2+is+E/jdK9N1S6wDezYEceFrn7CVNeFacitnNtkvhJBz0Ft6maM7jewtz1wwTYL/sWBQLbaFTR5gvHGMR7rNxKPcI6IkcsVuckxnUAWsyi2ShbP2rOKV/MsT+3pgkRCzltgFKjT1sONlyDjsM8LVIKxgWxhiVNgbqPWW+KFBvRMUoaJpLM+7F/x8Qlb3ECZOK8cPXmFFhvh+S2568CnJasdOnjG3ApFqntmRuBfqTc7iAloPeCGRviXNFNkpY9ruKDaO9XAhNRUqS9Bx5oIiVJb55a+o8g/caUv1FJmVADwFF0anSTLH6+FKOvZs/Y6T+JX9p4xbPrLeKKb4Rm+2rLTH6hy9aRmbGnvc4N/NhPhvJL1B2B8Yt4LRTyRYrrlCZz3FsKL1M6fyxjoIJtuQjCseVzfMWBDNwnlIWA0KtxMUlx194jDVE5fLBI8e97YlS2BXtAwfU8qYI3d3rGnInEN7D9OMdBo/1gzVgVx6MlmThZzFzpSmxwxbLgaK14Bd3zOcvrBPcuqiYdxA5n6lkCVvvxWYcuJLt2K9PmPKyCISlnFLGTO8hqv9v3JXR+a5RviBixiIcUWKpxg3uLnGpgrHhW4XkS85oTqhlm8RrlRWnNXA1jnaw4FNeWXxf6N1KQUpt84Sm4pGz6xNoDwpYpnQLh2vpeb+NKCHNfq+xjnLUmlOtwS17VF+z6wg0CN9TTK3SLWh9J8Z1Ih6+w4/9nS/X1BPOa1X3K92xFkxS0G3HDC+Yd5WVPNMNx6xMuNhyOiy3yjKB/z1nhA0TQsPP0hQhmk+M8YEXUoa9wFx+p767kAiOt7ySNK8UXpg/o7IF74ECSJhVVmGWOEVbHbPaDHRvRnasKdwPUM3YJ4UgT1T+oB7nMlizmh+Rg8XhtOW8JzRCcEuGrIkwuCQpsInAm2hyyRF/5VNvUK+q7DFAc4QNwUimREuklzfkFVBFh8RlwmvLU61zFKxZAl2o0mXGS0dod/AakJ9UQgh0XfQZxJyMP6euO4hTYhB0iU9JtaEn0H9AM1QfCM/aUl/5+j/Jzkt3RzJ8zVxWHGRgayKfO468l8cuyoDnyJcBAmige2vgdc/1kxzpJoVm2nEV+CLB8R0JT30fHdcI94+4N59x/GhZj0MJKUn8YZoZuIU2eQzvkuoWQhOEC417SaSCk2ic5o4UcUjIxWzclw48nR5wGUb/GvPtGS0TwNJ8sCba1mpLX5nWYU1L/OFMk8pil8YzQ/4LkMoj88cbI+QBe4nQ6gziAtee/SUoHyOY8BTkxDgfqHvczgJkv3CxueIzZX/xXm+368oGoXaJFwng14JSlXhzEx4nohB4W43wnuYriW2dewqiZWCfNly6yJ3+8DUenwqucwPiM1MlXiSpSbLAZ0jvWIYBXmuUOEJN3wj2ogyxd4JzJAzbBJMbphaQ9Y+MgVBkKB+7VmeO0xpSJIJMMz+TLAHTkPCJknIFoFKNnSqJPiJYGbMVbDdCm7ylagzjNkwO4mKgvm3CVXcUGWLTzY0wbA+l6x++o15eo9Te4SUxNAhmg3CZ7B3RD2yU5pZaGwsKPsz3UPK2a1I54V8/ZVQBWqlMXON6CR5ccKNAr/UJMGyKAEoiljQk9G8jGy2EZkOHGfFTgecmDmtroiypuZ3jCvF0zygEJQ+4dYE5O6IsxK1WRO/KPL7AOoH4vSGcilTGpGZ4qZuSJWQ3FekcsK14Mqa32TH8zankwPJZUBvd7xOhiyWLD6Q0pIMG3SX8Fx3XLPf6MUfKZorIW7ppGQnJOCIukHEETU84SqHSVImC6nIqFNN6b8nTB1yWTGaO7bjiLItQq6Z254ki7jzwMMt8Ku78fLhRLHzRJ8hYoPVK4qxx/cZeMP55wWxSXAcWaYLvR2p9R0dPWFylMWGY+05hMggj2TZAyqCnSPL3OCzBdIWsTgqN7AkK4y94Xb3bF3KRZ4w44gb7kkBOX6hNwlCWYJTvORnln5inbxRHgqmMXAVf0PGLY/phmlY0OsVziu0uJHEGn9TFPlXbqHEbQua6RO1WjOqmXoWKOfQGcTPiuG+pnQXsnRLPw7c/uq4/94jxok+eYR8QlYdpI5UCcyx5bhUiAfBeGuJ4x2LCRzGgV1qWEho84VtEwlBkFcd1nakrkbzK2H1A3Jq0LpgtC2m8YTVgfuwcFtgly1kwzuO58CSRbLiguyeuSmB3bSkpiDagsm8USwLYhrQ1x2LkrxWI4f0I9KvmUtN5x3+1LCZKpxpmdGod2diu2W1KUAFsnQkOkk+J7ikJTePbBeBiwKx19jhkWBbVGdYSU2Zr/k8L+zeHilUzzVzDJ3j7mmN1QkfW80/6ImwOJLrGr+qKNqeWCVkLrLowGrsiLmkeYy4zjNsntlJT1I1jMLjux1H2yJjJBtWlEVKN1h8VaLcwFTVVCLgU8/UvtAsA5s6Ib9ZmsyQBkiEJkRPbAtMjCTXntttweQ1dn2hshnF+oRq9wzbA6vLlaz1jGlHvkmZ3YRZ1lydoOu/Y6pn5qkn0SkLa4ybeYnvkFVq0fPI8vA910TgEslcDyg0Y6oRcsfWdijTk19HdlNJbHMMFX5YSOlICo/SdzTDgvq+Iu1nimZhjBVdfOSal+zLiudfBemHmclnVNdHKncgUKPUG2YJqK7FHmH2mvzuwmI957wjKk35fceUecw087zyTP0OXV0JqeBqPJeuIVQLb41lTEei1mRh4L4+omdN0D9ybSNBFdz1BUPn6eYvZJ1mmtZ0v3b4m0Yva+Y0Jy49/qiIbEmWhexyxS2a/CYxLmfsMhIpKVqJE4F2W7FUkThlpMlCspppF0nc/hN1mjAOjkEZNI7lNcO7iSVEmkvG03zHc5+TIdhlW/zjHXIFkRtJn7DteqZzgtkE5DXFnEfQDedBcwnvkaucKUDmPGXqMX6guLVU9gtZ15LNnifzzO7jA+pjifINuzbB6IpanMlYEbb2W6Exa0kaTddC6ifWyUSVSRojGfKZ4e93iDtPsnSk14jNFLpROGlQj5G1+MRj+ELeLXjTM5GRGU8yVdgsYVennNIXhuRIufuRpXrCLY+kpyvjLUepNQ/rQOIdD6lHxTU2FLzcSsazwu5nvBup5kjfTrh4xKYVybBna7+Qf/4V3f6Fdi0I6xFZbhFBsJjAavWIMT8hxoU4t2xdoJMJ+tMb8yAx849kuaFpDaEsqJ4iT2mPVJLTe8dKr0nziR/pyLIDZFvSrmBUL9zZGRkiZQw8ekveg1vniHpB7AR+tNjzPXn6zCqp4EkTLzUqvlL6AYQHcyTrb0h5QkjPHATWBm7pzGbOKbxh/3VPaEryPDJpRVoKRqUYY4sd7qnmNWEqMNt32GwiyyLIQPn/S8lXE75YMagb3XjPLu7Zr+95/fgddtxwnxbo1x7chIyWtJQo5am/K5Fmw4lI2k7oU84yzHS//sBfVu8w31cs7kj58srr5YUwA+lfIHvj/hJwecmYCrpKI5MdUxlxjJyKr8y5hHHFMqWMeUQXOQ9KMo8ZanTku8BYScI1sBkFKRoVHXPiUTcB64llPfPlsLAdFN8thgVBpMfpAhM6qmkk7yxJ3nIaGiZvaXzDOExYW/FoO9JxpuJAKWbIBU8OhL6yyyTZ9xVeO8ZUMhpJoRbUpFA/dtT6L1QuoSlS3G7BZHeou8hl7enlBnnIcM81S9mxdL+SLF8I7i9o3ZMsJeP1RG6hsS39saGLAZ1H6nAk3VpiM7GoM3OyhVSSZoGtUMyHN5wbUYVBfO9plGBSHbn6hBsWDEdcDKzrFaut4Zz/M7kINDHhS1Iz+pFuM/GJgJ0T+uPPuDDRj+/wUySLApl5ahyJzFjGHu1yzDvJqAqW1BD9nn8pMh4uAjVckP6NurgypDN+8IRrZPpNUn8pWZTgod8yDgISkHEEZ6H+RDJGRp8QPkZ617DfRu6FQOMwz5IlhzBZhLEIk2I+ge8njteOS/dK7E+40jBPlkhD0c7UVtLd3eD672xET/quoV+e6ZsnloskLhnWZ8zqQki+5cnn+gOv5R5Fw+QDWToxvDtwWz6T91u27gtitsxSMrcv2P2MSiAaT3bZAyuWnzIy/08EGTBpoEt33LbvKKRDrb8RzIytcF35rStiFR+KJ3TvqFXCthxxccU83xFvkb6R/Px6j5Nr7OpAn5csKqGOGWNukDKncg1xXeKShaBHNsFix4qbrrgPK/RkuHQ95qvClRPzOJG0CWvjWE3PlPIBrSeOG8MgIqezoqweUVVJUY7EfEC5e/R2IF8crvdocg6D4H5RRNMzTCNn+wN21Lgw0CUOcTWE0x2dSXG7nhgdB/l73mcJJukZnaJoDOdguQ6Suduh/HvSlcDPAk1B0XQwCq6z42X7gJIbZLwyfrrQj1cWFTmXCVUiUMW/kf3wAZUlxFQhRYr87FFLA6NCj1ecnRm7I6P/zLS/sYgTs7xi8oiwDcJD9BppDal5I00XJtNT6IQpCNyQsQyazSJY2YTeCYTWxPmAdwlDviZ1OS4akB6MQuvAmF3p7/fYfYkaCoIoSbtH0n6LGApUvJGEimQ6sG8L3GfLqDOMaOmHEaXWJMmM0IaTz1iKNfkRduqJehzYLEdssnDtXlllgfr+ZxILRqwZyfn8tOa2q+nOB15iSSY9T21kNzlytTB3FTdvUO8N02QxRrNJMu5kQI0ZZdeQdr+RXH/GO49MLqx1gR4U45zhs9/BXcTWhiRdmPyV18Shshvu8EYpb2gxcswbqnogRTLJPb6EsLF0QqPiiq+iQB7f07QrIivGvURvG7ZugeMC54q8tZgQWO2+o1ML+ZBSSIMuvnUH3dJigR5Qsvz27hLD+ShQqiORd5gmwtYy9ZFevxLrTzTuv/O4fMVvJ1IRKGxCfV+wpBmZPvFDEunyDdc5sGx2xPXA8fsruvpfiZyQ+45BziydI08rgrljLX8l9R1C9GRSUKYNKlsIw5nrtsGLwHI3sMwX/O2AVhKbVcigaJLAfqgo5i2qPlBS8rppmFYNPvXkyRurux65CiS7C/bpjXOsmEPCTtxhtaAeZrpkTz5k1MWG6VygRUWrZvbpwGE183uh2EsBtSNZjxzdmkME8fnjMYYoEeXCGFdkQ8+5LFnR4nxKfpV8XCv0S4/eXlibgiRumJyD4gMMv0MWktgLhLBELYm/LjR3GSL3pO0C5CRvluTZ49cLlpoxdKzmFYkBtINrC0vBbyahbhc2jy8w7YhvntNhZu8rrNP01QVVpKyHHIoL41CRFJEPVHxnA5O5obuUU56zja8MY4ozksKtMM6Tb2ZefMl6iajXMzzswcAwW5JRkyY9LxGekoTZA8tEWha0icLcPpBVK6ITjLeaopCMFeSfLHavMFkEJrhmsFqwc8ZlhNAG7utX7OYJJDRDxzo7odrvWUSPvhrYeWyMIDVJIUAY5OuF2QfyQw19yiJbYowQPclaM4mUyEJ+uTKP7zDrV16C5d6kjNJT4umvd6hNQrE09Lcam0KRetwiMVYQy47ZpMyxZ7AbnuWEEoJzmbGON5RQgOMVKFmhkUQ6BAlpuyCy6lvZUU0QAjZqJq8pbxJXtQztRLIXoLcYbzHaE61kjC8k5oC7VKT6I4J7RiPw4ZuZMMk+o8ccuh3jXaTRFdWngNg5Mm+JecReCyhGQlExtxYRLJtMQnvlVD8g00jBAkg8goWGr2dFpS5s1QGdVzTyleqUMJYZxhTUOtAPHW1IqapfyIZ7YrJBa4GIPf1REO9upMc7xHWi/7uSqmsRpSaIwIIlxJxqyhjySDrAl6Iht2vM7MmrDt3n9OOAXZWs3Fem8ECMjlJdmPKKzK9wt4m5OhNDQZ9LHlgxt4KYT5ymia1UFL5ESAmpZfaaSQfq5cISNcpmCDVjqxpLT/GnmvD7iXmeyQlMMocssoQz9m+PmPewHl5R65Qgd8yXhqQQqHilj3eUjWWONWO1sNKGQTmS15lGj7g1VKJADQ4tNXG02LuU0mn68Q1Vm283OQjod2AahkWTVoqxKVliQ7qqOb/8xrrcs5Qz9SzpdYUwBsNIIEEPA8FM5ErjrhEzbTg+vrEOa/RpYd7+iUL+n75ZyE89yZ2DUfJFew5koB1xXoGBTM1M3uBGg7KRmEBRBLg4hrVCTA1ZERGiY6Rk7g7kGbwdF97VE0J6bFoQJ0GSTzAJCAlnk7JOFtS8EJeKE5ZN6YidRcsZ4TXeaGaZkWcToi0ZxAk5GVy5wecLCR4/taikIpcK60ZYcqxLKQxYF+mkpQ0TRRjJ1msGNJK/sfK/Rx4FYfUrMWxQZYHGs/Rg440spoRiixEdo8zpBsU2jowlmCmihYQ00JJQ84Vx2FLLGr4u8IMhipYej2CL90dqERDXPT65sFDgq5HWrViPI0XmAA39FZttWUTFLRFspoVMeaLKGK5HknRPm7ZkN0HlJxZ9R5PCobJEvgmsbPT4m8Z3Datqw6dipOgL0k1LOyfsWw/ZBDZnVjea9QM6Lvj5M1uXocqFOKwJ1Ij8DcIT4wJzEZG8smHPzV+IS84uK2AK2NiSFBt6/krGI5GMJEzfJl5K0G9n0mZgliVTWrIxFsjQKHogf4PL7sJ+WUN24zI5ar9hqT7QcuCBF+KS0MUtfcyp3N/weUJt94SsRrqWWQba15y7MiDy+E26JnvE+IhNI3bqMKpiShvEiyK976BfINvi0wzBwDyDuQacL6kfF8ZuJJURedVQbXGqQ1cpH4WmHC25gEynDHEmdlCmniA0R9WjvWGXGBY1EimJKGQ3EqqShCsWj0HAkjB8qAjPIHooV1eWOcHXBeV5og8n3q7AkNGuZlI0SaOJ9IRC4pwi9QmtOdLdbvzLTw/ItUZeBW69IzBSdhU3LGs5M9gzS3lgZzq83fPnP/9CWSaUegscGXtNnhRcZMQmmip6ZCLJWFhICA6+fviAT1J+etySpiuwDUvMCcGTNRmLDmgzMMyWKtsw5J4Pf/rI8fLK3/3hdyhRsWSC1I6MU+T49h+s1j9SFxl+gbiWBGaGqyTdWv7hYUO/VKzyGdvnnKuJ9TnQV4LykpHXM5GZ82pk7yq6OFMudzSpB5GQTS3KXtCbFXjL8Gow9YXO7Jmi5ClL6FqJLhaslEx/E2SPCX3SsVkGzFmjDiP4B3o5IaMmDznNcsNmkSpRpKZmtD1qGFDlJ6azwB/eU4fI6Ack7xC9J9kcEXIHzIztCnQk5pBjiZ8WBix6F8nylOaSklaOxRhqPjMGz1/77/nHm2fpDMk9iCxiM4GSYLCApz9fycQDfi1I4gSjp6mgnlNu00RSZBT9lU5l2LoiCwvMGmVmrM4I10C2bohTQqMcaV9QlAtXeWRzemZMRvSmRmCJvSNbHH1ckSUjKr8Ru0fGHIoWor5wDDnlziPsiOoVY22QX1/g4SdqLbFDpAsn6mqLxnOzhtK0cLqBfGLYzgQU5RCIQiOXhEXfKHwFyQhSw/AC1Q8MU8vkc1xxJot3JBJCuJL3DmEK3sTMjpK5tHQ2JQuayr0gy8A8rBltoJwz5r0lUz1qMFy7nCxo8twRVx8YhhWOmVXxDuyI+OvHz1EvDrtJSWkZFkfeJpgi4PM9wiokPdGM+GHHYgCdUny+MFQJInfk5xKbzjiRI8zEZDU+MyTa0889mwWsjKgEVO+YDgUJiiVYVr5DXCWx3zA8XJBLCSYlSwbEpYLUM4krgynZiJwwjcQswQyKYTuyYEhGxxgiSZLBEimLSBCGSERPIy8BHhaN2HRwWTFswfYj6zzDWo24tNiHQPNaUaYetbkgeSShZ3GfuPl77lMF0ze5UowREVIoJm4TvMSOv1MamczwVuG0xpsAsePFSJ7Yo41gdoJjNnL3InEPFtXmuF5hyhmTDTTWsC4svZ2h3SNbjd6dkHmJUhnjsOCmkbqJnH9a2KPoF414uzK/O+BuJVUaEYsn5chUbDi3n9k1v0fYiNtFqtKC0CCv8MXh7jKEyfhsI09eoUtLP0SKMNFUimwoSc1EZypU/xE3PDApw0EPDHmOEjMmJKgE+DTSPxjyybJ0Fl1KLsFyl2/BWNwQcKLlv/5//wf/+R//SOgCtp4Yrjd+/Rp53P+EE5E0u/Cnf/0z//KPf09aH4CFvvN8+fQn/umffmIUG3Jm/u1f/43vf7rDpgeUHUik4V//8t/5L3/8kVZk6KXky8ef+fHpPeWmJiYL43zjf/9f/sp3757xRYoSM6+fG/bvdnzHijH25Id7/vW//W/84Xf/zJC8kfDAn//2he8Oit3793SDZZ8a/p//9/8Hf/y//V+okg3RT4jhC//xqeNf/m6HTwxTmPnrX06sqoJ8p4jhiXn6Sow9v/9P/xnGiUwNuOSBpVu+TZ4GCYVmHRWnIXKf3BDtFtzEsDXExoOCQfXk7FjoWJaFelxRbjVd6vHhbxRLiaxqlAUCNDNM15ZLO5HoAMuedrkitOOxSPBVRtc4pqnjUD4StKQ7H2ldz++ev8OuoLudiZ0nrVffuilNZL713IsN6arib/mR/s8jpipI0g0+vDG5wI/bnPLuHZ4zf/65oe4k++93TEHy8vILWZlS1BsKl/Cl/YBkzWa7JwktHz6PrEtFdSjRwvD64Y3eL2SHFZaUuftA5ioenx4gcbTXkb658Yd/+QMqGqwZKY4RkUTCSjKQQFSUk8THiE4EDBfoBuLjt5zvIj0zEhkD9nNJ8i7Q209U8TvOYmF7E1SpgRQGtzB5jzYdUwJmmti2K7hTvE01dxZm2bOoiEtK9GLJ8hEp1sgQ8G9/Qj+8IwTNNEXyoqcbK8gXqrhiEoIcR+DIcHmg9BP9oUORkFNyoUdRU4Q3dKM5Fxv0uKCLQG4GRr+mnzwbdwW7RpqFKaRcU89zMSF+czSPKaFJUKnApDmtGrEossFi6yv+VHC32mCGiPcRNgtqSbCZJsRAMnqEaYEETMriPXFKwQ2kQdNvJxZniE0BFcgkUC8jQRh6B3U64bxCmZJl8cT4CdmXfNkpfvI1YpGQv8D8ABM02RsrufDFvOOxmXC3BbMHH1d4wJUL9ILUL4yJIckSxC3CemJy34qBhXYwDly2N5zL2Mod9nxhxqI3z1RNpC8cJnhE7r71R+qEUsPgBhLnIStR/swgDMnYMCeRYHrChx9Zmxy/ikRp+dRHfiyuDOGeIr5+W6eqJHSWWKUo9zN2+juOqWVtE+a8gb6my1+5G2vSSiCQNHEkuoq4aDahYUFxrSfuW4dzAbHdM79GDD2sJVJJfIhEHItcoZUido7kOiKfBP0HzfT9kd30nlkKDG/IJUPVE/2twGmPrXOyV7huLfe3G2a3wckJiyV5SXAPNVkAf51wdSQVA0tcoeYMVcHto6V/UCgzU6KwLGQkxLeFMa/wCRQSZnlkeW2pd3vKZEFMwJKDOIPZcoxnpF1DHlmbhhsbyiDo5gppIkN343nzGXF7R78STD5hM6a4WXLSULCw8Ra3i8zeUsYOzHdYC9r29JmjagUxFgg9Qxr5OivKaqT+c4SnLbZQ6GPHF1dyVzYYfaYXjxzTATPsMKFnXbwRzY6xk5AKLkrz2EtyY4jDmamIRFUSLhemuwfW3tJ0mnTlKV8FzdKj1uYb+jRfoWLCvIDbdWSLRnkD8oWuPaCKBFNFwvIVR42UEZzhds2+CeSKkRAkc5yRasYXGUVTErIbt6sneyi5fLjgwkypH0gEIAYmORNjivAZaRqxc09C5NIurEuD1xukclg5wSgJScGoAmWA7Cb5Le+5z0quWFYEElI00I/g8wmFJhlvmLxgJsDpWx/ExYokKpL8K+Znj797x6ygkA6f/oawe8S0IJI7QgLNrWGzK7DMyDiiomQIa6wQ6PgrKvzApFsO1QZMQR56+rFByA2FcxBP9NMjZb1gXwuu9//Oun4GX9FoixhLbGLJhGC9vCEyB/0GHycuusSYr4imRhaBxGaosuDyy8hqXZDsWqyV9F6SU2GyicjIrZXkokLNCpkt+H7Elo5CHbgmkc0wMwwdodqwihL0Bc5rhirg0hGOX1nlPzHnJyQKERb6cYtea1xYWLuapoisuDGPGYseGV3BgZR5jtgRshKksXxWjkI3aK8xYYHwSJpCtD26lchUBETYE37dcZsUgZRWTtzUt42CNPhOY92aoeqR8sSiG4ayIqZbrKy53lm6g2YxZ6S1vOmGtJdcTOReloiLIi5bvl5XTObA4iViaUgaT0/BdF8x/yBh3tPHDSLJaJItnbE0HqZ0YJ+lqNuEN1f6wdFVlllLVnPGudggmPkcTtj6QjMHzj7QB89N1xSNwE0n3LRiWr1ilWJWGUIN2OHItLujfb2jqgGpaIecqWs5NQ7Ov8PEEdGBGC4I4Qgh0ihDmFJuJOzlnsHvYdKILGNIG45zgY4HVtmBSxoIY8c0ChK5YjYKdOBlk9IX8Nln9FFAkTDoXzGqJq5LmqdXujKhmVO6m4NZMY+GSR7AJiza4PIU/f5Hgt5Q775xcm2tIRW43yqy+g9c36XEO0fsEi4i4KeEye+Z77fE8psht85OTEWKszMvZcp180R4TZB9wXI7kE+R9OuasnyD6sybXxGyHKFKzmJBLJHzKlKkGlFuOG1WxHUgB+Lr/O0D7xT+JefP//1Kc85xUrD8HPjlZPn08jM3e6L3gdd25M9/+cIrEtdJLl8dp2Xk5WXgNNcMs8KdE758eKGbMhJruc0J57cbn79eGWeD6Qvmry1/ebnRXiJ9WiDQECp+ObWcxoJjFzieE3750BG+WmJhSdkzXBc+ffjKeBmIt2fGk+DcTPzWvCGlJykCVhr+8ukjoWtxbkbamdfg+T9++8KtW1jOEWO/4TM/nR3jSXI7OS5DzsfziPu8IjEpKntEtgsXEozfcjCS4uJZBOzTGy4W2CxlWUvEyxGxESw7zzxnmH6hqz1xu4ZHSb/8hux6RPaM3nxHHGrG9ANDcSArK17CJ758tpzmlKZv+fg28vbxytFEbCh5OzvG45XYLuix5YXA6fyRv+QTUe2I8x2n1xl/esVd7+jnntfbwGnTMniFWe4Yupbz5w/0/UjTNZz/cmT+00zSv7LEF+bTF/qbx15emDrB7Sboj4LkkmOdon+xnLsR2/6Vl0Zz/TrwcXjjMmr6j5pLM/L5euM4wNA1XM6CtvvAdTri+oa2GTmfW7z0RByV3DDZiSA9nai56gvBdczS0ccWMVhGaSB/5uQS3nqBHVfoYabXkvrRI3XCcH3idQrc2ROXO8m0CbyOjnEsSfxIPR8QcU2SVZzLiUtyYL3KaOoM4TeszIZCe5RR6FtFtBqb5LS7PcwJLR19avG6wVdfSKeOny+/wgT9kDA5Qagm+mIhDU/k4wOwkC0Jw+UjbqmZ15pCZugqI8g1cn4gT1OKHHT6hHADg9gihGZfboh6xv8uxwiPYyCNEm0mFm/YdT17Z7jzsNeaGGbGRXEm8urttxjTeOLae66uZe4Krp1mWnLm2GF+tZw7S7PVVCEnF1uSImFjW3L5mUlV+LGjCZ5Wa+ZzyuUcCLnElDmpuiOXIxcFx5Dj/Pd8GTOszZF+jbBPrLXFlhG2a2juYQVhLejOlrLTNHnFrG6EtmNcvtD2M1I42uHGtEDTQRwda7ni0/Wb2FEfvqMbJK/56/+cslwYTYaoOlIr6FlI00ioavztI0vcUoYM5w4sskT7P2DnjLYSzHlLXym2SWAMPT6NDPV7bL4lCviU7KEtEa+/Q/mMjU1Iw8xmklRqQeiSZaPo5zWvzY1EKi6fDWWVIi4rrMvYCYWoAzH+gm3OuP2I3m8wYYf+MBLNmqvcMHuP0zdy32DLSCcW5O8CZbfHmUAsEy7pIxQ7xvBMpRRR71Bxor2vuLcberOFU87r5Y7pdYN9zolBIV4u+G3G2G8QrzlhuUKpmWxGW0eq2wfSa4YkI9OaKCMi89z+qsnmjCRkZNM7tsk/sPgD47hGFBlDmjMmP0G2g+PfwZJj2pz+r+8pg8d+SaikoU4vbDvFKf4TQW4oKaiOJ2Yd6FYJT40g2xrcKjKGgj5kdEuFaFJ+nTv6kGCUpUsijXT8mgbGcaHIO4wumfdrbDHgZMryqHl4GHFqQsh3FMULT6nGbBwrl2PHB7opotUWe6wxR4WKLbPStLrGLWtEBkXRk/UXhjdN9BozTIz3PW24EaxEVjnLesEaSP0rS6iJS88wXrFBYcMNmXb4DzCENXmEMasYCkG+lsjiDXEz9NqiREbI7tBDgRsGehcw1Q6hXulvHcNXmD9o7GC5XUb6xjP0AT17ettzmzKaS8JiHmhNQhwk7TIyLDMECSeLvAhif+NYWaTL8FdF1TW41nNsAtYpJrVgbi36GhjFFjcEwkvGMdlwiSWXxTH0gpfmjs69Y1QvMDhe3gKX5j1LF7EyYxkDny8O01kGB8uQM54V85Li2on20nM6P7IETxULXNCIq8Y7h9ePGFXRmoVmkzOIhLlK0XVGsf0XjFozjgqjFHmdURsB9szY7xH6iWvY0LWaNE2JRrFkPdoarklOOBmK3R04i5hTZrmmKCMi9ryEni6kWLPiFC/8pQpMPuJShZ40i4+wfGWUGp0/4nzC4hWdTLB1wbiOpOmK1D6wFD2+TLglAae+ozgMFJnBhJY2b7HW87UPyKFgURuGa8Itkei9RxY9487SzhWHpqAMBiaJU+9ws8e3N15UAYVCSlkwFJHpsaHKS5R7QJoHVvaJ6VIjm4BOvpAeU0xc8SbuSV5znPyIsD2qDcQmJxkF5U0ymBvvy5Rst5B98fjzwvzY456u7N+/kKcJ2z4Sp3u8L5EioCQMZqavHE3SIH/+Qt5eEZVmvJPk6Xu+2pS52mL8GrM3JCIQ5wqV37i7jri+4PvugeQUEOI/WE8tugUdRrxpmB8Vl7FA+IzIDTNrZiVhvSaNjvThV7LLt4OqoketPD5ZsawkWj5Ad8DbFe2yQvUdUpyxKuFZBaROmHogzeE0k/kzq71BV5qk/Yr7pDjFLbUQ3J8nKtki2fHUa7Zm4adVR/01QQ0pev4jxIi7XVnZjNX0Z2LWIo2g6EsOux36AYrrhqkx5AOoICnj/0rSKMZbQ6UXYviesopkumefBUSZU9ZnqteeExrvUoRrSZqBsjFsb8+YRTFlOx7nkn6ObNOBZLfg6oVJTbz+3YZZveM+biirCXUODNGTJTPdl45NlnC9fOXkYSNaYhCkcst0kDC+oZOGJftEteoZhobrRSITQRUkymcY3WHigpA5QuWsFoVJb5hMEnyCSK8YMZCHL1yNxYvAJBwypuSyxskStRiw92inEbVALjdezQ2hBHNbkS8awYzRAucH0CPSgPEzhAGiQXQKpSLZNv1GWqkaHrKF1ZSTLSXqXJDdoMok8Txhln/j5l/RS0neWIyu8VJD7EmiQLoBR0HIBUIqqmCYneKYVHyYIXYFuS9xWtEmOaKYMMcemWYIpYjZgDJrkqcfmRaJv0SytGKqFAcXeJoDJjF0ecUtCOpZEq+grSX79e8JdmC2jqrZ4RKwcUR4g0WwpBoTDyjviM4SRA/aEaqKbfAQKp66gIlH1pcTqDOz2BL0iNYKtMcEwfrRY0xkQbGoFC8agrxDrlaMPxzApWTXFBEFUwGSEjGDVgPOLPS55SwFsxbU00wwCXntkOUEo2EVZ6b8AnZASo+bb+RDgugMSawovwSaUMLcI7HgJdlrBuKEfKwI2Y4QDQUaLUq0/EySVlAsmKLh0t7YTAOmdNRVjyonalHgRIp7+xs/xYHDcCTN1jx+uTB3E6WXZMUEfcXHr5Zk0tivd/jb99B1OOcI4hWftJC/4GaFEZGhnPCtILy8UXYpC0Bfsb0JbLfDDe/oTCTJfyTNvpAkH1HHGp8M6NJiw4SQLeNQcIkF680jWafI3D3RzXg/EuwHeglxulHaNX0e6UpD2jlCBScRaKc1i7+SRYEzglEsmL+VZPoNBwxVie33pHmKCwvpw5WNVTyZgqt7o1MFQgvqymDHAZHckElD2h94/QdJubUYleJEwawEIvkWjWERfPoowM08kpHZgup+Zl/cMK3B9k/YybFtHqHV3ElHJDCfBJfDwrnqOP3myYaa1CtcoWnTBvX2FwKOLD3QJgVJVIxxhzYFcr1D2YhNG8qkIJoZcf+Gnn+HZ4W693zeHnAWkvmVgpawRMS8RoaBsS/wpuHlU8q/fVlYhpnb5zvm64lmyGhXG/LmCabI9s5TTxdoAv2SYetXcAXt0CL/68I8B772Keq3Hr1uCd9PXPczc6p44YWvBpq8IzhJNkwkXUusG65R81w2zOqFQXlyCeZtZnQr1PbvQdesR8M0p/hMMd9tmawk0Qn2muHngqNNiNmGEDSJUpTrnKAm1DiSuxsyXCn8Fb8aETQsceFuaRkTgakM88qylyeKTWCcBDYauvuM0QZQluU+xa9rnBAQj2w3A351x1RMKB1YBon+WpJJSL//TFKeSeeRyo/k6Reqa4sqGma2mMVyU0fEcqbaCjAdRhv0c4unRn2vOJffpvh+D2v9iWnVM48L6d2aVM5s85Hx+4Y0WEQ/YZcbB99QyjtuSpC/zGRyRqk70nrFJtuwH/f89rIh6C3STziraJsMLITo0G1J8fUR63vs//aMHUuESJi3E12lqcuCMnyhKD6zyzy29pjjZ8wwIKoEfQZf3pEWd/A8saOnuRiM17zPdqzJqCRcnCbEXwjJHV7NDEXGaA1znVHuHG0c0e97CukRAqQfKIImSQVFqmieUr5mW26bmmY5c/WK2zsDZcA0Beq3HVGNzFJzW8HrmOGLDTFWpElNMA3CZsiLIlCRK8jjwtL2iM89rk9ZUokqe7S4cpw03n+ldr/QhQGdSJalRmKIw0Dzyy9ErwlJTrwa+jHlJlNIJBs/cvADYvgV3c5MP76ixR4ZPeIpwYoGtdQswjNnkY0HZ0oYNd0IcdgwIRlVx1pq7ouZuVXcJsOSXVC7F2Y7MyD4OgxQ7OjHRzb3X5gTuGmQYWbuJrx1FINlGhvEKYfbHUoecbeZYD8ibhXi80Q6p0hlSLOCohm5moAVN8SQgvN4P9K2glPpubsZpnkNuuXJPPKYF1yVZdq+sRQTvbAY73D5xKgk9ioZ1AXGlo+ZoJDQ4BgfHpCve8bxDs+Wcb4yixJ/vuKzO2QzshWKvITLHYQYUe9GVnpBBYc1lszVxLpjyD2pDSRnRTzBki6YNKVIG2KckPYsuCGQZMy/VZx7xVIlDAKWfGQ0gi/q77l8V6DkiVoa4jKyZN8R6jNT1ZNZmJzjr4eSUL5j/i1hib8gv7N8/SGSrB7pQ0U2bxlNR6gGdPmVVH0hVTXDa8L8taYWFXMSeX2eSNQGZ8H2C0uryF80x2RBVRY3wyRr9CiYBklSdOwPC8m9R+53GPmPqLoilyNyUOx8Qj49Qt0zXUuSc8lrVLQhp08CevzIqdky+Ja2WLipR0JvuTueSRfxTY6hz7wVGpd+xB40uJIuadCDJA6aMklwGObHmlP5e1JzpB3+K9dLzVZo/O4FubogYkTscm6DZCwiC5qPtwsfs56oJswSSaOjdgmFGPlS/wNrsaE0DmqHOM9c/VeStCOScR0Vf7sE8P+JeUyQ84pmFHRhxN3/hmgK+o89x+mNaZ0x73LW7YSeLV2ScxSBznu+jgPDcsFOPWG5cZ8s9CqnHb6gvWHoNqQfO9L2hA1g+08UaUfeCxa7Q90brk2kSguq+SvybWEeNE4piqGkiVtCLHBfV1h7oLo7YO5A1feYUCNUyXEsWW4jXtwQ6oq49Ni3NToBZodvKuxrwdmtMEYQpEZ3nkY0VEyUOiNBI4PFdS1plVLrmX3SMfcgJphmRRIyQmqo0hkbM6QciEVJsfmJ21az2ktIIm66wTTCnwWvsSEuHvoLMizYs2MZI2F/wLf/hDS/h1iTHRTWrYmVgrTAaMGy5OBXxOaMlSOdybgrI7djD7Onv48YuZB88ry2N4KqmMRHemoUMOgU3wjOdqLuIaaakZR0IxHZmqUWWJGg/u2O8miw9sjn4srgJeM6RTCSNzkkjmSCLm6ZkkAdAkWyIK4TdCD1jE81QqcoOyODIo2RMhToVDDlFUs4oIPEdCmtGHAxYZE7BikoRwBNmVRosWdWFicHRj0zJAUuv0dUNVXq6DceqTuk0xRTRlz+Qow92SUhLBXy9J40eJKgSBeNjIbzEBjSiJ4sqa9o3EeSZMZ6w7SvMTIlpiVK+m8W72zi9jbjTgK3SKIHc7tDLTlXqZkvlvlcMiX3lN+v+JWcmCiEUBj7TDVHlkkyix8Yy5Tz3TO2UyzrCkmPDYrYCKZVQ/gnQeUCGosZJZtYEY899aRBaaam4DqnfA6B0F7p/Ed86RGFwhnI8oXLeiHpdtRKsecjdwSwT3xKnxhXFfLS40bNkkVebwrfCYrXEz5cmfcZYXpDcaMUF0LQpPpKk+XYdEL5iJavtM8aGw2FCBh9IZkPjKMmS14oC+DpQj7s6NY7mM9oWhAp194T4h6eIbobcXymTitKD3YoSR9rNtkaf5OEWpEsJevkATtIfpE92UtHNvQs1xWik9Q7gVIpIVvIfGCSG67LhiFXSK1oc8OthmwbueVv9OPE/Y8Tm6WlcgX6Pxn6aeCrzYluIqpvlChspMogyye0PbOODfPbZ5pTgdIWwwq9g0JkqH5DLM6oSeCDZT/PTKYjM3fk7TNqvxBSh5kkMQxM6cJ3qzfugqKbMu7fa+QainWLED3pXYNcf2XeFvR6y7AUPF+g7t+jwnc8JQv+nx1az2xLw+FpJFjFNwWhZ5MumNUPlMKzHWr2y4apWbNUnpV4YK0r5jpFRkl819KvZkL2wCAKhCkwSnLLJ1R94zKPXJKRMP4fZF8mJCMx5gQhyORECHtuYQ0z5L9BKF5xfsOnULLkKbexZO1W7PQDjQ/85mYiBTQzWXzF9B1rl7EyI/HmiGMgURD0hOHM23AkZDWmq9CsmAJcOSKExa/+hlcLm8OGW2Kx8sTU/BlXCdo6wZ9KAm+IbcX9nNINe+QC9ViQ19AXirdFMy4Xjl3HcpVccoE/t7x9MMiuItgSHxSOFKfXTFfJnG3o44pBZox9R1s05Pt3UBXMzSfC8cwlPWLyE9m7FyZfIm8bqoNGFppRLuh2DT9f4dBi7Q7zXwTZYti2I/7PW6TwTHEAe8citij1G/rne2R1JdnPBP3GtIrIs0D+dkaNA0rP7FWCFSnjThNrx6gyDgFGWdMbuLuNVLMmPNb8MjaEpCD5fMe5U0wzvH6eUF/WJP1XpnjEXXLGNrBrrqyj4MGsWO08+b/3qNeC8NxjyzWBjNFN1KKhuAu0QdEXlk7PzCrH6RmxFYzjK275BP2KbCOw9QM2hzEYlpBg7JZKXNmoNcbtSPQFERfWeU+mJ/w1cFesmbSidVfMpkHIj2yGE/Uc+ZoqYhoQ6RaTe4I7sATP4gWlnbibv0nKooVpsAgRkHcZxAmdCkgHVLySC4OMCU5WpOWMDAPbBZJWEHXCQ2xI40zbTKxTyZQcMH92vMw9qUwYVgWylsykpG7iHCSb8gtGb7k6Q5Z8x3Rf4cstt7Al/W0PR4UxjqpouVUJp99lNGZLNq3RpDwPX/lsR3JzQjaSEBq2DrIsJ3n7PSQ5ax0JNqH+KtHDCVm/kPiUesnI4oRfFrZNh5tbLu809dCyHzXKVSSdxaxTlH5DK4uKM7UtyMeecoDpGGleZ06Lo9JrRloAVsnAJCbGe4F8fGFbrPAVyL5EKNCitjwVGcmQEdYDVXMkSM8t3xC7e9TmlcNXzTTOnC6C3eMbyjxjY8dxfub7NkDhaKPmQXq600C6L8jj79mwQKww4kIlDFJpZJvhVWTSUE8TNnU4YZD6A9l0z49s6RJFmwXkn2fUgwR1RD7fUekFQoGKMzH5hEo2hNcFX2pc/MzNPrJkOXdxou+eCGIk9Wdscc/4+meStYG7HSeT83vbEYYMU6TYVclOrUjsQpovzJOkDitu95GVz/BB0PsWUXf4W8lbmqOyGzQPzHGiut1wyYTftMhuxX1R8fE2Iu5K6mVN347kHxKuARp5Qf5/em67M6t5ZFmg20tic6X7fMHuM5TvcP2W9Xyl/WvgdTpTpTNSjJAkiMXxumiMjgzjhDIdH19rnJ/wwuB+XeHNjFlG+sKTGMfqS+S365FQJcSYsnpsCOeaN1pW/t8R7TONOeMXhZor0k2Li4ompKTh/82oDKVLwI0MSpHwQu07qnSNvxNcT28M62fM0lPNM5u7HXV6JY6aKDVmXjHLgfNTzfi/S/T8hswqJr2wFB7pJ7ST+DohW96RJJ62KMi3itE6xO0jMrf4lUfkC+asSYQjTSJFKBB6QWczyo0sjNhsQnSGRW0gfeRiYPXcEzrHEkAPEunuqEqLR9NlC7PRrLozTkRcXxLdHZm+0u8q8qPEmQs2+ZVa1QSV4aRHpQNLkpCrAV93hCgoMrCDpkkd58ly2DRoNcJiQd7D5575nyV7PxKTA7nISHIITcvzUhGTjijeE2+fmFKDjQnDfGM/ePydpEgVg4X+lJF7iaxeUakl+4OjS1PC8sC29yzrCeEurIcVsZaIZUvvb9ydJG7nEdrDorCZgxrUOWDbEne4kqRrRhPwQdK6gO5LlvpKfr4QTUa3HtGzZ7ERW3piWtJm/4FiJCQ1ympynSOFpAwdrr6HfmaaDMUKYgDlc6JMWOJAKd+zQ3Gqpm840s3EIq8IbaAQtDanPASGl4olEexiYJ5mJixFyMjOKW4FLAJERseFfP0Zbx7Ilxv2N8X6+xHSCt+NZOkDca1wrqM7TjyJJ/aDJCvP9OlAnyXU/isrMm4W1GphddHERdK2X8m+M2T5Z/qPj5g08ixuyF1Bvi357e1KbdboLOWSKLbLB9psy/p6YjYtK9vR80dO+cxh0RA/kL4l7LI9WmtCcDTqP2O1x+RwWF7JskeceUfIA0RNsrPIziNSiZMZrr8yBU0ImqrYkWoYF4P3F9rjieypotYJok3ohoVV4XnLH3jM3/BKUMZnPJqxgu6mWdsTeVPSTg32/cR6c2CeItZ1bNct906TtCky2TAOXwhuz7G4UbAQzUg239G8NZjdwPa0wZRXBrUjqIRQPPAoFZMRfPoceJ+neDeQLh3p1xy/mSBdIaxHhQvJuIO6xKseg8CcSkQWURsovv6MCo+wrpl9jx0Vsu5IKb5FLZcL4w8LRtxQQ028rdFFx8IRu9uzjgJ+9bz78R2vuuHRO4QsWIqZOLQoUzKNNfoSSL545PeR3TvN0t04p468P9CrC6uuxG+OJN0jwV+ReYbMPXGQfFoHPJZ3/QNmvtGlCvPyCXOnOTU70mRLcmkRq5SDKBFpjU8dnpkuSOozDPVMSF5ZYkD+UlJ3J8zBc9MB7Z95O3eEfEc/aVTuEbZn7yesuecSJEFpcttSzgNzYVHxE+P4wHCa6O8k5mVDmn6FDuaoMHrgpbtHyTPuuqLeOX775EjclYMqCPsRO/4HUj0TtcJdBK68sXSebLMhaQST7xFHz7i/sQ2RPnzlZbrju0kiNwnlyeMPNbMImF3B11/WFI8zky+JU8nGz9ikpV2t0aMgdoF717Jvt+zTSK8LHogMpWB9TtD7Ow45vAaP8CmrfORlfqW6bLCmw4ya9yVED2NMqW3gUn0lGy2Fu0M6Q3r1iHrm+5jw8aPH5RJZO1SfkdXDNw7/7yOkW9JJMk4pXkSGUhH/sWdvI128w00zYVMwhGfiTxp0ypdrjvAJu2gRxY6YOyoamlgysVBLT9J43soV6/yGYEt2rjC7gcUb2mUhvVgOVYnzBbenz2zYMl8VdjxQGkco3lN0n5mqmtxZVJHQhoh2R9JR0e0XZpWRXz1m/wvDhyvbZU2iE/zFY5r/hl79kU3wjDpDpoHEOMoHifJrokyI6kpIj8jxmVoMhLInJBcKkWOHDcJYKudwZmKKAiPUt5/W7J408dCfGLuCymvkveYW3lh1C0vIGVYtUu8p5ghmIVQr1Ak6TuQ2ZdE5Wo+ILMVfb4R1RdnPWLMiubX0Zs0rinVzI91BSkaIGlcqxkTgXU65WZjFliSemOeS5oeEx/aKEoKcEe8NokshXWGYmfIFLxeydkumWigDx1BgtUG+g1uleZo2tL0gczeyuzNRHOhMSpFKlvDMD6bj4+LZSYsVDt0WFPWRkB6gXWGniKxXyLykGDtktQEJMVlzsBbvdvwmHId8ppphUpaMLXE9gSwh5rRzxb2ZQK+4jVcWrdheDc/FZ+ZsxzYkGDUwSs0yacgMak6QucM7wyA80zBQJiXMEq2NIIwS/wZDrTHPnuWvNZtVwJtAHAra3YTuI8Kv6EpYlSfKrmKVWaZ6QdwyDs+/0duUYpfSDa/s2z+iOFOOM5NZY6Xlaix7OxLHgF8peL4g5YFDNtEsz8jcEURH0VW4LiDfK079mnu94TJ/wg8La/kAq4J8WjFNAWs6+r6iPnQ8XJ9oc0E23chWlvn2hS7cc05nOBTsnCL5sme+hzbk1LJH3gp0uWcbZ4ZVS9IVGBXw+YAPmvHqSDODFfcUc0esQCwLc7KhSv/E3O6xVU+XGLIpwd3tSel5TL/j8tZRhDf4YcaoR4ZW8OH/9T/opiu8OHwM0CvEyjN8dWz3W/b2QJA9vUjxL4Fr84Xj2ycO1Y5OQXP9ytPD90xi5uXjV96tH1DlCql6XNwhx8jN/jvLWHBX3bGIv3E6jxwenlk8jC//xj+8+wO3c8443pBtQ2dWvNz+yuXcUhYJJqmIp1eIW9q25a09sVs/IXRExZQlOJACun/lP/39P7MSNVlT0cobMZG8ND2LKZCrHUXygTbdoNYrzMvE+3pgLVvEoLDGscgzmVAQFWlekwbHFBZkyFivFFL8hfTzO4x8wjMgUwPh241jl2TcZs96V0IfGVlAJxRG04V73MeIP3u0W3ivehYn6cacqEGIAWcMwzh/w8gN7xBvC9IYEp+giRjpIX2hdAFvNDHb8dL8I/vdC3QCKSwGSdSBRGSkVqOjou1GpMoxaUIZPqDcf8GaHJl+466n9xplYDesGAqDCZFrBPlDRmUd2ozg9izKwahZZ5a+EjCuuaYjddvx/KoYM4O+azCLQ8UMvXi+bCKVThj6NfvhQl+mHMUrWh85B4coOmSiUYtgFJFSKbZFgx49bbbQ+oSGGuEykvnCECWp9ghryY3iczaxMjNVD61ISJcW4SPON8S3Z4LvUBM0u29OD+kydFJQDw2zMayiI8yRKDqGwuOOkcoqMlkThxeuTvLITLw0qLuMhYHq1VEWDpU7mjhzw0I+MqnvGYYX8mgYDpF8ylAqBSRiTOlW/4S6nMH3xIeF4EZ0/Q80/YI6d/ixQn5nuD+2sBsotx1jasiDwDuPcd/jer5JmtwZU76ii4RV+A7nfmH6skUVvxDeHvHbglttyWTHsxqIf1GwurKp73EfviOvBW7zG35ZiNvvUbePaLfhSxJ5OG6Y0z1nGXlYv7BctqRxh+LEm2jYLmuuiyTVgXGSWNnzuFw4371nd00ZWo8bcyIJedS4wWPMCb0kJE1OrN+RXluCqanqnmIKLGKhTFaceWTbS/pCo+KAbVdUSU+eSI5xQX2/wfrA6mT4+nzlri3pCk8mMnxRsQRPuhpQ7ka4/T2mnhhdJDMjPFaEcSatSiQ93VEiHwOHU2CoFhZZ8OPdxNAcUQjE8Q4eL0i5Ym9HPp0VjXllN+1QcSYUjtGU5PsFHRKGsUMWCns789af2G9TytcFZ3rc5HiLZ7bFinj9nt3KcVsEZXbiNtbUxiNHR9O/ENd7TJNR7BOup5LNDmK/R7y8oO4zXPqRWIC4T9F1Thgic7Ck6hEzLuSxQiwzLy9r8iLnYiJ3eUr5FkAI3s+ShBtjnzIuGT7/RLW6J/U1rpAkrGmqE+rnDnVX0JmIsAtiM/Plv/8P/rp40sqQTCkig9kr8tsV92FNXA2YpCfakat5Ib1eQCVQZPwWQS8vxHmD2mheFkHQC9mfU2LpGOzMWx5pXyL5cCUdB2I80JcRLRxJvDDpgPC/oH+BTgt0aLgtB+THb5HCQfxMkVzxQ4qgwIiOkAbi5HGFJJsrprceLQ03G9jlf+Jvcce7vCapctb0UBj6Yaa8/8QmOXC+OJZaMFrDKS3Zx55ARZJaLrFAaY3hihEglGahJA+C8PpGsk7ZFhL9ZcZVknVSUu4bprYguJqT8WzT39AqJ6SC/W1HNrSc3mUo0ZHh6UPCnQHzBKF1zENCm1gYEqq3M+ZHiZMTriy4JfCDXBDjQuMmrjHhfnXFl4YhSrbKoZuO0cDKSuq0QKUjVra4jwoeHN4c+ZTd8dOtQ5QFh1tPvwRSeWPZbZCNgOVMuUoZTc72rwXNj5atrenrj2ySJ4qHnlArhDuT+oCpJJ+NJmNkmi4czjWmTuHOUwwnVuMDt2VNMrzSzkd2UmHrOzblj8hJ0YQr67zgmPRIBEUsSMLEZYRK3CHLHtwR6wdS/8jcn9HVDj0FriuomwylRmLoWMzEPisQXtCHjOC3qFrzZgvKq+ZxvWLswd617GRB/2nmtFe8m1ecc4HaXvE6JXcfKMMTTauQac7sK7KmZ0hHqiWhUyWxmlhNK2S7Rc2vkCVgDENXEtYjuisptz2laxF9goxvXLdrpJnowz1hOpFUD6ScsUtG5iLnTiIXQf9gOFy2hBi5SyzWdgjdY8MBYkqyajl2W+7cKywtx68OHhperQT5wFM58VsZeRodrRso+hVDrRiUJXUZRkRevr5RPSnCuKE4DwxPI9duopA1TwTS+BVv7rnJCXUWxCIj2leW5IUQH7gYReoj62tgvvP0+xTVP7FLB0YdaXqNun4icVt6+USyi0zeY9iTfJop3yXIxtHGBD1ZSa8VKo+sRwXZE8eHjoYrmxnSQmNnRV2fKPP3DO0Nk16wy18Z+2fGQ00iI9r+jtPck5UFT7NEiQE/CCY/kd9SVlmE9QuueEYmhugutMcDWbKGTQukjGEmTgbwbJyD0vLH1KNfjqylRviSmCQIB9gFoxMmI8hDS7ju8Nue7GvEHQpOYkBXGXNaIP5byebZkO5uOBfw8xeMKrlGhcoXYpJQvXou6ZZSKRyvyGOB9pFSepyLmAKsGzAhJ+qEatAQd6R6BXJhP6+5vWqyp8jVBFadptpFbvqRzfUTzrQ4USHWBdmmYLcEhIHx3hMuEZnfyHYlq31NbdbYYUHrFVlScjpdSQ8bUn+jbxPqIgNxhxItq8qhyj2TeyDJBcWdJXx4oneR9dMjt1vJKv/E425Ns0iS7kZ9KMlCzaq+R1YeX31i+rxiv3/kB7dCfrfCZYZmUizNR/7ypw/cf/cHsiIgY89FR2wQxA+vVD8uHJ425Jc/EVd/ZBfXnL78DdlluEpxa95T30lGcaOr1thQIdKEsMvw6kgRS7p4JQRLiiOmgWKa6K2hJ0GqZ/LvE5rfNMFCuGqybCC1JdmYkc9wXgSbNOCHCmcWWAJKR8LvJeISSZUnmT8xir/jGq4MAWZVYNLfqKcVYgTvI4m3eH1FrCtiGujSKy/hPT8VKYlIUKc3np9+JKgd81ox2xI3S7JEQ4jcRkMMioI150yyUV9Ysh/weSROFu8tub5x0T1ysd+svQ+Gy/KZ7rRi96BwTY1YrxBXjV5XxDIyU6HWC1Y5NueEJH8k/tAxnhVpv2ZYUjCRtEr5/k3SbBsSmxJuGj0k2GEL6575dqUQN2xWElKNGhdsgLmzLByIQ8KkZrJoiaOjZ4cXR9xx4jGuOC4tudeY5UCSRtbxjmPagVAou6ZIR5z0tIXlYbRktLyl4MNEs5T46YWAR7kaeQrEQqINuK1gTk9EuWNTNmTSMO8vdNMzOp4R+zXL/kbXvLLkgnw5s7gNW1nTjwPRabJcIqsz+kPAichkJjI8po4kk2Bye9oxkNUT09pz/8ueUPyCkBL7Q0poPYwT5yTh+ybgtpGzteADZbvwSUh24obT/4CIHWr7RPXjTHzdQZ6DSgHDMI5kpKyFROR3NF8WdPSIUHLtC2oq5tLCXmGSHH1SZGlCUCO7omARK6pNy2x+JZtz3icJS1zRA1sTCPkFNVjaakM+jrTZhvn6kf1BEacCmQisfuNNFzxdWrwvQDrIJbZfcH6gc1vUDNLdKLsSZXuKLGUZIzGFIbOM3JNvAv74mbwKjCtBojNslWJFwtIuFInE5xO+f8KuC4o3AQhMnnFrLA0tZqhZZT9zqVfUdz0n9+8cyy0yPiKmhs9TT6FWSNlT7AQXPSBthgyWpLa46ZFzuZDKD/DlHV19JWs0DJbRQF2kLEeB+rFmGFuCdthekJkEfdOMIqG7vKDmlIocTMIYPcrdcQuB3VBgq4FsEPjjSNHWOBeJVzh9F78ZjqlIdhqWX+g//45CTiSrFefG4sPCXVSMLmVnYK4F3/UC5xdCKIlZJM4Zc9Qk25HmbwX1/j1dNtDESDfCu6ig2ND+vqXwgmryTHFN87cFrzL+z88lif09t2dHPTtGr1E/9IhsT9U7ZgF+41jCiJn/AZFOTKoiesn6OmF6ye1JMvkzW7fC55opnrjNO7LqK38/Zpz99zwIizdb0mZkqBKs9Mimx2zuSM+vXFcSmeW8tAmr/sKd3HNLNGsNIr8xDDXH+oXDfM+CpUKgzTdKCuEDt/Qeoye2xzXDPNLKK0vIqK8SX2mMmljOjqmaWcsV1eKYPl+R2z1aOib7V5r2v7CSb4RDThoNwrboXjKtIOkTlrNhzjSiErhQ0geoQkC7gWMXeNx9xbcJIXT4oyBN9/xs4fk6IcoJOcwU1nKVJdW4YIsZ/Feq8ZvQ6/yTxogbvvOsRYHraibVE0rJeoJkUJzHkWJl2Moe0ax5TUdCe2ClP9O5hA92JNGC/e5nMvUHTDtwL3vEYc8UFtJMoKVCvQTW2ZXuaBkfKzZhYVoJ5N8nFPKNT+KJd3pi2SaI8Q0lnpj7nzgVM9spIfMQQsHRSw468iW5ktuBREzcckvuHyFtqdcKMa7JfIpcUjp5JkkCVoyYCKXrCf6JWXSsqwbRQ3qNJFIw5fc0PqHKSq7XK1lR4peMvlKkbo81Izrcw3wDrfALSCfQbc8mrFhWFiFT5C6wjpooNPEhI49n5iVh9yIYdg5lU+BHOLek1ZYoFNsAfR5Jw8Q81pjoMBS8yBPrtMOLZ+Z2Ij8olnxkM33Arxda78HVaKe4qo6hr0l9QLsF4Uv0AEP3DNIj3k1sLs/MqwXbeWT+ldMr7HfP1EVFbB3hTWE3cHQLm2qhiXcUfYAfI8P0BbN5pDqliHNgv29wecabznn8MCHLC/ptTdwNOONYPWffRGRpT/OuoDg6hEpIzZlpTPCvD6Q7T7Sa5WBxJ81QbZEyw6E5zIZPJvL9ZsWcfmRJKww57cuC2imuOqPKnynOH4gmIOyBShlSOvwPI6NMmJeRtTToJJMUSrKYFjHAIBN2i0DVa1Td0I4HbFIgr47zriGVPVdfUC7vsZVB//KCPCxcJtjPM7Ks8Os1hC/I1DNNKYOpuMsWOv8Dhfn2DDeuuJQZ5RcBMWMJHdZIKpsRi4n5JEF2tKVks235LVR8nxvi5JnaBmEkaWMpDyu6eKM43WiyR/x4I7905HiErClDgv/9K1auyU4XjDI8FBtuQSHSBdF2XETJ+t5hfAIxsBl22MNCNqb0rSOoNyRrJnNPmn8AK3FiS+trilFyKTU7ZSh/GJFuQtxmknlGLzuEjnTlO9aXntlPxBSy+jsOZU7qBo7pxC5TfMgEIimpE8nsDcJElnyL6n9BaEfqR3z4ZjRm2VNqRSoVvfiOrfBgGkrzzEKkCSlSjei0YVGWmGiIGZmZmdRCrq64K4Q0Mm0c2yVBxY4kbuG7J/TSIfOONAiiiiy5p9gsKFdiZcZhcdh04ZilZOFA8JJY/TNGCMRkSTLFi57pbME+EfTeo8ctW+lp+4gSAilmYvyO5eaw0w1SWOJMdCml8JjoUOHK5J7QumVSR5QO5OsOu2Qw9GT9iNx4KnnDxhFlKm4arnEiR1I6yRQSmhB5TH5iNbT8UKRUEuZE4JYHMjcw2QNaR2RWoFcFsXujmN9YFGxFhe0jykfSSvK2S1k3GS77hVBCIzO0yvBCMBc3xnFClpGNGokuxWJYCMR8IFrBMtUUfY9KFmJ6jx8mtuPvMN+/0dMh6hNh2jMcUlSqyNoT8jZj6pIOT9omuNWF3pbkZWQ2L8T0xNCN5P0fmH3NbtG8pR3Tu4Gt2hBOmmkduJ++8rm7QyRbxP8kkpuoEJlhkjPua88qEYQkMAWQxzMC6J4U7nHi9pLijyuCk4S5xqRH7tIN5XwmzSu6eiDElE3jkTvPPDjSduYcNrybFcv6gVk0JMWFfP33TAS65YUUTTVsGbMZycKsJAe5pZceKRWDG7jzG7ZTynEeWIYngtrQxgkRA2I1opxEeEcQkkROrOOCCCtCMzPHGrVZkb61uOWN++QnwmHmKuW33Lv4TKJ+T+1+4Fl9ZrYl8+DZLilisbj7nDt5Jdg9FzujpjV3iyYkA9NbRtxGQv/Gyt8zSI0sBP37nEEsVPWVRbxjSmb2YcPpxRKzNzaywH1NMKpBJxBFiZAdg1VcqMlO8BYz8kpi5ULuB8YqpwiQuHu6rGV0KTY5U6wq+vEDUpdoaSime0wt8ZuC08OVkpwShfya4WJgZTzJSuLGNdMs8EPKdMjJfY+oRvIxY8k8v1Q9d/N3BAFrBXFcSHxPF/5KuvuecApctgX72NKOX+jLJ9ZBwpdXXDHRfP3E+989chU5/3+W/mNZlyZNr8SWq/CQn957H/GrzKwqNIA2gt3GAczYA94yRxxyxlmboQ2NBgpVmfnLc7b6VOgIVxwcXEMIf+3xd62ncgVlUtj0ibU1qLpAjAZMwUY6nv0T8yp5yq+0640gLXlWIu2FwTyzDDtO64p0iVVFbpXhMSX09sS4v1J24MMD5+3fKNOO66BJLufjohAfNkQpMINAR8d3LhFSgRQObROVbEg1JF0z4DlGy/XwSkwZzf9odgljYs03ZLXHDzW+V2z1M13tqMwDfu9w/YS5BVTluJ1L+LDiJssWSRSRjJ6Hp4DI3gh/22Pp8N9XtO9XRLbBroJODFQpRzQjdqwx0iE3n3grNMXkCAdNYSeG4Zu9b3joKe4ZapH0z4K9zenKntv6gtyUHA5AvrBxkUppwjBzWRZO2RayifnyAV8805gMco9fznh9orKawMAoT6znhCsPhPzMTQh+3ATWbE83vgFbkpB0SjLYX2iuTyg10sxfUO4znVjJl5IllxyLAVMk3OlMjifaK1N8QJYFi9hyyzb8w2PP9tmRlp6vMbItHniVC4e847//HwNt+5/Yzyvp+M4sPjPNjqPQuGVAOoOoM265Y4qWTYDMrLz7BCkjijNff9tRIBmjJE/g/C+4W8/7g8VUisl7/CLpYuLRC+RmZZIKmQTi7XeyImf2d2Sp+Lu2uEnwtdYYFvzgoPT4FKmTwIWEixsEikwOvI2WofzfyTKNS4qXfcb+JPjYWvbHxLlbOBYRYSZwit7lmF6gC8u2VHSzYztdSFWOmT6z3AV2/ohQEw7DnF2YxBaTLDELKD8RV8UnCbrM2WeOan3id7PF/n2lL99QY8SbOy7PUZVgShGkJo8GMUQaVoQsSTZhXY0yOUvtuHWSw6rJc1iGFbMIauvo0x/kxWf8nGPCCrrkahKT37IfQB1vVD5jnDaYQrIWkuQ6kqiZZ0FWgb4lpv2G6BbEoWZ3jbiHCRH3jMeV6xR4yDrWncf6nBAfieWNMoxMq6HMepasoRmeKZuCGsVqG9a1YIkRl2V8/PIzrX0imiMHoTAiR7mfgc/E4pU8u/DaHdj8K/xORoyvCNvQv0Uyc+EP79FZYCCSpTviXqHSRLy8cc8fOaYct3raWdGoROh+43yUrNNKcRvJKstludD+bCiuE3GZod9RZDBwpUwrym3oupV+N7LoDakYCFIjvkhcfmfx0E2CspvJCknnHYIKrxxfY2R9C7jsF2z/rVx0evO0YiEpcF8zUtVyyyekExh5pcy+57j/hVL+W/R5REtWmC54W5NtHWKCce/wXxqKk2MuLYcpgsvZv3xF148sbuC2XtDPltVG1PCGXnL6W8fSduzlhtE2xNlxTxKV/gvPHBG55NWNqNUQs4D7Y0Q1ll+eHY6Mra75tf8NYTzldk8aDf6tZVgmfOx53jzT8BE/rfTZltsyMA8LdS4YDgX+daTNHepvK/pUE5rf4Oud7VSyVlfmuUI+rLjuxt7lUFhevt74rp54PShOaiK0I+J04nKu+FR48tOCihuCFFwzx8QD2/lK4xa8jSxZwyZKlMu4WclmeuE4P6G3PdPv4PYZyzghPkT2cWZvLE0MFOPALBPVbImFJv0Oa4yINUcmx3vR8MFNnFuQa86UfmAqLqxp4SbvbMcKxIxWCxQ5dXdijolpybDmzup6YvpErWfew4Kzmm74heAtLv1IdXCMRtEyky8Fyutv7XxlpC0kbnQ8tQ+8px7pFTFJYupRoWHQCTsKxiQx04ZqcIzSYpkR8YzoBYdy4WgPJPtMu1qOiyPlPa7b0Uq4zAVKK3wRke8lcbG4mBGdJpc7EgsiXdhEC/mWWe3R8kwINUWE4SESTpKo93TRkOsrsZuxbYa1mjxJhDFkZcAlTRi/MKstwq3gVqzz6EkjsgxrBaEQuO3v9LFBGbimR/7XecvEV4JIxNWRHnMeZsvIzKR/IEbB1oM1V3y/JU8RCscYFVLliOydYr6RNgV+dcR0QtKzppF4NixNRBQGtUTi/UQpB6r7wvvjQt2f6azA2MhUlzSjY2pKfBZ5iFB278wyYzUbll9PqH+YWSZHmRbmJWHiglw0aMlx25HWyPNzIBMd3lmMmbDrwmJmRPqIWXP0zpMugnB17GtYPm2QL1cav8W7LQf+lT5ovLiiDhrCTJodYvwet0ms8Qz1G1p9hy80QW6YouPPfY/+0/f4zpOExdGQsunbwOgLltYwbHeIsLImTT2PKNEQRYXsFWmfofyNZb9D3UZEFlDqd8rlRCg9Ugumy5X+9IDO31h7RcYj6r+dEf/TganvCXKgmxRNzJDtzEUJbPoTfT/RNJJUvDAVz6T1M2In+PC+4k6aPKsoypmxhSnsaQy8bxaCm7lkV7LqgXJb4OcHYkzoIEmxIGUjez/hbURNUP0Rmf7s2Zob8XZiOVgUC+eQqLOckEb2S00/jiT9Tt5NHOxPtP4dRaIRJekygQukU8G85JzuI04UTNvELL7jlL3i0wfedWJHgrMgZSeqC0w/TfgnS5l6lG95S5Gw3RJM5LtjhKWFu2JeesZUsckXjgGMddTx74x+i74qzFNAzZ+JU4VQkR3rNytWFGj9lWlnKGNJHEENiqbbUkw5t2Yh9Dn3jcd4g77NuI8ZudiRni8cn14x2z8j5QdS6Di4iShrWAvqtCXUkfdiZrNEZPxW8OSNgaHjsdmzlivyLtmHhhT3iItAF44h9NSiADkymYawdkzGM2iBv0w85kCh6GNJMFeyKWMtNbQf+KQULYo0CcJlwH+22GJDkTnSz4rwqSHIxNIGxsIwWM2HImMICSdnyslQ5jnz7R1ZWrwqUbZADH8m2965lIaTuCFkTytKTFD0usd0CXM7o4o7w1BxVYJcBHb2hfC8YbUrjfNMH1v83DAmxV0KDofAOEcgpy5P1Pmd4CMhXwi6YmFPqCc+ZSXJ37DRImWGMUfEmuODZb0KfPEHRfrILKA070yNIgaJmCY2qsb7GVOUrKak/hrJmi+Y5YGj/YT8zeM+GGg+EMYcYsScnnHdESNuOGsZGKhpqLrvwDesfkBlZz5TM7xrVNWglKDUHeVfR378qBhEhtfww3/4XzicO/LvV+aw+caI0XCvLBUd83Lkh2VBNhlbJ7inF8q8IcQ7U/6Zx5cDnZkZDxrhJ9yS0cweRUl0V64x5+G7mtZdqaIlEy984XseJ0/1by3L/Iwx/4ZpGhhig90Fuqxhlxaq1cF0I8aKviyxZuVZ3si6Cll/G6bTvCB3DfP4xqJ3xCpg6xtmfqCaLKJZSL3krjaI7xLlMqO05372CNWTmQ2+W+jXZ/7nw5ZOFpQI4vuJVi9ssgp8wLUr2abiOgd+MBP30KPmB9r1Z+r9Z6p/mJlbzW0rSGyQxRbiHZHeqMaP+DKQZTClgkyWmG5gzksyeWFtFdvunXvzHYfZUqoXXsyBumjIxIRPE5WbWcoKuUYO5ZVUJcyyQ6eepd4QzECUBfk9MmuJqiZcXyKHFaEjpXOIxQOvzPMeWImxR7UCq19RlwNBadYsEb0is5DmjFIZ4v1Et3vFzEfEImBUnLqJ0BhEeiBbIhwnhNiyzyPBL9xEw0F4SDnT8IS0j1T7lkuE/suVlAzllIhr4HWGhpbfOkFpEk5/625RYWGOG+R5odsGwt3DorkPX5H7SHY/ou6CKXNM84rJK9IvE+O+x7QDYs2YrguifmE4H1jKAZ2vmCHQZTfo30B9Zp00zRR4W3vykLiGjN1LS9QV72mmNoH5NpMeBX2nuC2aMkzQTtRWsrgRV1bECLdxZKNypttKW75zOn4gbmDJQeMMzkIWBkar0dZSDVfu/UTYCo4pkvkznQGX55QvjnmXc369oLNXMBtua8nGBHr9Qvf7nuq73beDOAh2Hfzzy41QGrStsEmSm5GvQ4d7W3j4dOI2LKQ4M9cZX5//hebjj/y9dzwpQeUV/zoFnPf841zjGoFPDUscefn7f2H3tMO4AyIM6E6xtiWv443vn2rq+55rrkE4Xv544+m45ce08vPwRF1dCZMhuQmJJYU9Rjja/Y5wNRSDovcOLWvYa8wMT/HM+b5nlluakyZbB4Z2JTtYuvQH+3ND1x0Q3w2YlJg/aI6XEbksvMaV6I+k/pnxSZL5AZfuqHyLCxsCAWt6RNGgnKCcDepcMLkFsr+ylG+oPwS5dzT5jCTig8ZyI/ZbVLPi6ChkTbdskWbEiQC+REQNA4jhEZ/+D2bnsDsL94UPm4jaFaTfNlz2C2Y6YzTYPMe9O2TSqKyCOUfkMESJ0isuZpRqZdQrjxyxuae/lxTNGW+yb/vPZuRqRrK5wu8j8lJjRkftWkTeIq4v5PmPXEUisFD5gSGTjEGQogZ3ANEyxg1VlfHWXdBuJUnHpX8jJEH0AVWP6PmRXJ7JrSP2hhlNrhL1LcctC33+QN5VvPcBLwX66kl7xyQUazZ/azYda8w4I/clebkSokLIR6RNFNlXlsWycqcqBoQ7UAlY5ozo36mMwxSafKnJ5cRsI9KfUGLGrIEiCdz/SLQyl+h3PxPNlqHvKM0nVFxwYc91nsgvGSY21OqCRVAIaDdXau+xXcQLyfPuQC4d1SSZf+iJXqOynMt1pTxZsnbHuoks68zSGlRnSLsT/uuZmg0xLcRVUeYZl7DhWK7YO0x6olr/zJokXCQFA3SetVgJakOQz6ilYM08U18yxFdS5VG6pqjUt6F+zCg3Aj3N9ElQZFtCpumTJyRPWD3nXlAlgcpnGiuwa0+MEyYlQnVh8Sf2i+RvpaOyjtH+ifs9sg4LLtdkl09MtWUe7+jdyu3Rc4yKr15ilKQPPdVPe9YkEF8lm+y/Uz5+RhjBqhxmlSjnMCGSLSXzuEUHj7YNcXllmSqG5y9c7w5ZK9bWk21HZjzuPeNXuWE6LKznma2zjEnQmUAVFau+09wcou7RrwHfTUyNp/ylI/Y1Ml2IQwV+Qo8l73eBiHc6ueF9kezCwKINr9df2d9feNMfOF3u0FVkG0F8/c/4WtGugjlbUL7GvQbuRiB2E/N65+o0sjfIk+a31sF/K1gkuLSSrwFpLXFzxqQt/hTxwwE2K5nIGYXDCsWjukLWcjl/Rq2gs4YgQY0Dsk+oOme9eMKSUR88ad0yjN+0p2on8ZcNw7pDDRcOmyv9bks23ugftthJk8kzzA+oqkbPJa0+E3VN2gXm+IlycoyNYfIW2QtiXAltjS4jOi6MzqFGuLWKdScpiIih4FbcOX1QSBOhX0mrYdaRWizcypo0aTxf+FiXjPcKrT1CDRyWDKcc8feK2ASuxcJpLXgF1k3iQ6q4/ObZfnrmcvoeO/7BpqiIx0RqG3bXmvSnlezyyAfjuZaerP8dPX3ACseySma9ULhXRPaRXLzgXOSS9cTrA5vCsM88Wz8w+B3mKVAHyZpaau1w442WBwYkn93CGh852pFkVu4h8aw2/DhfcfmexywSgyFcIYQPTPaFSu5Yi5EoSmZ2CNuT1pXLBFm1kF4Fjbkgq5J5HMixeFlTihJ/foXqgaUyZPeBUUcOU2A4auQkKGLGPFqKoyJXMywZbSNolo7FSYQZcG5iuU/sxwP+40Sna/Y60oov6HRETIqpe6HmR8z+grgmeLK46a+I6U/slu/I1x4ahb8diCSi3XA3io8hcTnD5ruR+0ajLh23nafqt5RjINaK+xfoDwuxn8jOYN2CdRvOW0i7F9Jzw/7jhO9KGilxdcv8/gGrBLqumRRo/5HkoS178tBhpkcaHVk9rNHRqJyf146dK9A65yEdEUGwLjM+u6OnmngPLMuBWSo+1YlePnHdB7bvmskporZsusQ587jbQtpoMpWT1pqvvWcvJg4Pe/oIXCLLcUDGguYCaj/SVo6HwfM7gqLsWWqLnC5gKhb9A6epI7WwmBNp/ZVxSZTlHesXVJR01rIVnlEnzDyhVEcva9L1GaMfyURC5olt3rP6FWV2oB1uvOOSQFEw5Yr+Btuypx4SQmeMaiWkLW9kVGtA6pyseebqNEUUMM0srmR7yLlNEfkxkL1p+lPGo5tACvLtBiEbDL+D36Ck5J6f6f2RbR1JTiMySVIBjjMEGI2h3mgW/8iSvVG+PsLHDKl+xt6eQAniemGOG7bFFbc84s8zq5op7lvyXaT4a0l2qLhlFw7NT9TWUWU3jDjgiwzRCRYjUDYiakUmZ5osMcSAuReEPJEyKMyBe7/wsB245iW7pWCtJ+T9gfWoUQ93YvwBI3b4JrKTErtGQh7hvkUOd6ZNTXl/J1s+gFmIhwJ9tMibZZQrWwNCH5jLidUnjJ0R8kD8eMXEI4YrjbPckuNz9QEZBjoRsD7h4pVh8eyFRV7NndlaCDs8BVkPKnzAfIxkckWEZ1Bb2D/g6kdunywpv6PUlblS5MbRFHvu0uBiToorfUygE0pk9C30ywCsoAwqn3FzgRoUUY7kxpCpRIxXZLyT9J5shc9BI5Wn9ytryLCab7trbsDmVyxnksqJOmLKLbr9jNAP1PWMHR0qfYGipBAGKyX1zcE84OYt351yTPoA40DUkWXfkFJGNBqpJmTm2NgevQ+kYgQXuKQL4+81Ra84moDvWtqLYVMO1G5lW+aEXUmha/IuIIYKV88MnyOvP3QIvSOuia7IyFkZQkG9PH1LzLMVrSPB73A+w2cNtXPcq0BTeDR7rErUJ4dOE2l+ou01UidCbtBFT5gcxaAoPEgLKi2EODINr6yZ+JYE1A7VbCntnWmJsLGU8cC6KBYpKIxA5hM6JdbB0ZeRWC4Y5Zj0wBAFAzeQHu8nRJD4jWbqM0oxsKtXMvUT/XVAtIFx6FE8MuUZkzR8zTPuuWClQaaScveENpHmHjEiRxRHYtphRUaRRcrF44vPLDJg9TtrqdFLJPWSJvuBdV4YB9iwQwXLu6nok6UoK9bmwjV/xpHQ5Q7DBqoXNrsFrRyiTPh1JRczuTDYdcDFCCdBPq4I51DZ35mzZwpxxVHAy4AqNE5/wOvI7GdKJdgfP6E2O64EYjUhlzs2XfG/R4LaoMSOIcuJYcQ66MsSlX9gZw1aHdkYg9ALmzGgqoidK0Ixg3sipop7MMjLI5v7FlFuSNmdKr4jXwNXrTm2gcMiGG1HuTEI05G2CWkTqwiUydJ+nFl/H1lUhmfGpz2iEEDOriwYkmDwGa0WCDsjrSM2hpiVyJ1HIwhSEkWN2llUnFDvF+S6IfmV3+8dft6QDTlCjAgxInNJpjtS7RnknaU6U6qMihwGgRKKJCS+T6TymSFmOOWJ4R8Z1EeMDqhcI31CjIqq6FHlgp01FAJDxEiD8AVNekDcV6IQ+AhNcpj8C0lGLt9LXvgnJpuz9gJpKnZlgxGesJm4qZzkLKPX3LqeOcvgwTFMZ/r1RjZHbOVZ2ydSeKTZ71DHwGnJ2JaKEoWdBLwk0j1Ri4FN07F1UKkMu5/Yihv1+ZGNsxTNnq0FWymKrOA05zzOB1RMNFtQW4kqcz4dNYsqOSyG4tHh/nLn7ZhIZk857phMw140lMJRHApyU9H4wMk/oueaWuTItLCeIkujEDqxMxG5b8jMyDpohi7yR78h7jRFmsjXiUcs9zSA+h6mI81xpD915MDIzObhTnh03CdH1bwiysh0kXSqJBDo9guZhKUXLLse/dkixz3S5CB+JBOKWFoSNe/zlVZ95ZoMSnsmeYNZcLtClIlZGFwu0ObOXgiW73sGqRimjCpLqEOG3g7UeiA/vaCzigercKthWXZI26G4sP5xwJ0NUSXyqqe5PtHnK81WQJFQNkG6k+4T4cFzyO5sbx2hTMTDlY9lQn8VmFNkHCPF+k5ZWlS3RbYFD91CUTrkoLg3id4otgjISvrHBGePXmv2XcG6FdzdyKwLUlVyPPwTMUsI8Tu537HUe2yzI/gSU0SO7xPN2tDnf0EdPdsywEGRoxm7yNBNpKAppzc4/oodE1MS/BIKfj0Yskphhh3PxYyQivF1phpXlJLsyhcK64lBozaGm9pghCX80XC/VFjlWbiyZCeClODfuOwFnh1ed6jJQ9qS0pnJ3olrxzwHlv7Mtf8DJwKheKJbal7YIYoj60OJilvKlOPHEUFDdAe6bGYsPvFsIv1w4l08fdMnPz2R63eCcDzGN4y5oMuvZPaVTE6UCAbjiZ8ge3U8jIZ89WivqHLDoixnv2G/TaSsoD8+0YwjWbNj2Hv2OkFKbPcW86aQWWQJE/n1xCbmVHmkjQNyuiHsmTkbybKKSxVYnKNkIpM5Ouy5FAe2ucT0N26TZLoIhFixc4FOGSl+S+QrK6ntr6QQCD4RosSdPKVc0P4LfjexdV8IjwND8ij/BkvLrpupm4okRoR6R3JmCUfMKaceCl7njro3dD6yyf87m7SldWeK+ZF6fMOqCdFbZGnIdYsoHWojGPMGu2yQrWCVM4ERIzxqypG+pggr48NH7trAkkhqT9J7TLEhULDlhskiTZmTkaiyxNbANGoCGaJvyfMVIzq+Y2anFnTbgq8oQoKQMTxFtkfNukwcsozhmhO406QWYUGawKRWBtFyCR9IbsdscqrZ4POF19xRSkcpEyY1TDxwUzkIWLyh2K3okHMuR1q3o5j3KCQx9mxKw0HnKFuR8kCV5+y3j8RTxk4W8CRw5UTYTCT/jJ8iUx05T5DdMwrj2dqIaGdavhBdJE0zanKsU4ZqLTxrhL2Qn87fOkmYWCtBn+9pqkQlHCkoylaTN4oP0wgjhC5Dy4KxKhnUB8xq6O9PhOyNpCrU6olz4mAHsk4wScVYdoSo2EiPyhzJL+ycRmVviGxHEBvSbFlnT6Ub1LzHk9M6S7xa5rSi3bxFDh5fjOi48Icrwd+p9UgSIJYt8yQoP0y0k+DgBCbl/OxBhUdkq4jZiMgNUnxPXP5KPkZWFrgKin0PV0kxK1wVWYKlaEB2koBiFVfmeEN7jYyGMExQndC15jUsHHVGY1vE6Mm+m+i6jDAvbEOJVjMZFYtbWbxHZxbnJGvhUa9HbPOVonwiSIF4LCFZqC1mElyFJ8lnOifItOCkE+vVEfOWPu0oTE7j/soy/AVSSygF6vuBzmWY6ZtR6fOnBtEp+ilinja4EJlVx8EWXOeMuu2J6c6DemBY31HmgM4XFn8k2pFUjlTvFWsluWY5OnPc2jfM5k/I8o5MFeF6J6RIPjes7z2eBljQTxY9ZIgUcbEDcURFSbAzSq4s654yKWa7R7VXRAr4S8IjGA1k7kYZNzh/pnYHICC8wPonliyj8QmV/U7feeJ1ovw8IcIBKffMbqUQHXoqab5c6I815tec+P2W15go64Z19oyyYjNONFvFFCc2meG+Td8Osi4RUskcO5bjwHhfmXxLeVG4XCFTjjNHNnfBVE8MSVJkOWqn6G4LQc/YXCOKBf8Fss2dyi80OaxFohgqUtiwbP6FrXhDTfBcGrb9DYElZivW1cT2RuonMCVf1gr3ElBxIfpIuH6PqgdWOWEYkTvPcotkIqDyRFTf9p/vi0OEFiU8bTS87g5s5cj8GMl/iwRzw+sFxu8oTEc5esp5IeSKmG+YszP2phGbM11tWeczO1XjvEOFgdFI9NhQnRPjP97pz3eOpyPZ00ohN3ids8ZXjC+4xnfW9JkyDdRrTecKVh3ZiMi7PWHCF2KrcXXPFAXWJUQ/Uy3v3LMc+54IO0sp7vg76FWi8wy173i7LSxGcJkWhnxLucmxbcuQQ5YLYm9ArKCOcNP46p0pWhwWRsdmOvAmfib5Rx7KJwYfmAiYfcLJJ8rmTngb6H3F6XrhVpakRaGiQm0UygRi3BCjJ9AziA2hj1iV4+c7uzKn6F9pSYisZ+l/RJeJsRT8sASmkHD9Z8wQWLYDcplpihpmBduR4Fbk6HF3QecTxIzN7sihafB1QgnHbdrxEBZ6m7FRBfL6ji32iGFBaIX9y4i1sB1/QtmA7gTXrUM7h3019KcO0z9Qnl5YyFg3jp4DTZujx4HNU4W6JfDvjGXi8fCJOJdUsuLh1TFuT9x3kVN/pV639NWZUls+hz39k6cKO9bxTvbnHrV84PL1kXrriP7K9PiBolvJ1gaZcg77DHWR3JXjEt8xxnI2B+o/ItVPPfGtIXmNyzxJ7xm//7aaZcKeutX4CGEw/NEIvlsf+dlBvZto4kirIK8XGl1jfnFM31dYH0iV5px5zOJwS0FhA0U6clZXqvaBolxx3R8c3I31UWEukj69MR5ymqqjYcNQ/oHtK8xS0hqBItKsDRd7oZD/FTP/xOwkKiuY2kfMo2H/nUSvihQiBZF1O+DjnsvtTlAbDv7K8P5IdVAg79zUil6vuGFHjDljpRCnGVEI1PUz7faKdgf6U8Eur+iPI/bNcf66g8OvFOLA3TVsnj+g9uAeFWID718VYv2MNgPbZUP0HpYLn/KEt0fObsPWQGY6ChMZZID9iV/DmQe1Y83ObHvBvZToHor6xNIa7n1PVTpa8T+zqpljcpSuY7Vb/FiQ7Wce5prVjVDVhPNC17wyvx7IT+9oPiK+CKpmRswl4h88tV+R2TtirGlrwUNwDL6gkkdebiOr/TMPwytZtXAvG16wWHmjsYlp2NFlz3x+scTvFh7zlmHYkGnxbY4oPNHmmEJj4pEsaezrlTq3vPff0R0iH98XZLeC+0j704gTP0NVQlEiJkFzdlBass3IzIoVN26nPxPHDmzBg1mJiyMPnlVWVNrArJFTh8lKpkKS+xmXCravRwphwJWEbGJaFeRXVmHQgyPpDcPmXwnuhHmpEE3Jp1oSi/FbEFZ6arOFN03RfIeOF0RoqWxGDBtk1aGWklEMjOVXZtNg7jXBWFZlwCtmOtCBRTyh7ivCbeibHZ/MK68iQr5lazXhX0v6vyiWKPFs2E4e4sTtzyXN8kDhF5K+0Yk9vhHs50/0+z/wN8MOw1ItSPOOXf7M4EqsX9gMKylIxoef0BfwDw7xbpnsQCYD/X6mwZIhQGRM1YxMC8vVkOoKrTYoP5L7SGcc4beKzXEixgZcxrpreQ8lIuWYywvadYijRevvaUQN6W9s/EeivZKljHU0fMo9i/2BVXlutNROUraSPJtghVn26KlEGkclZ8q0YdSCSgYq2ROXLetoYGs55xmfSWyee9a6Ymw93q3UD0fWyTD4L8TiQjGdiP7MJXvAColJ77xeYc1XnlzGQ/GJcV5Y7JWmfSKrDdPqiMFwqyLOJjbvmjofSeVE3jekuqarJvKhxMkJp46oJRFecppNwI0Q1hZsQ2UL5hRZ3RVrEosAmybqVBLHmV1VQhTEDwm9MwT/lXGZKYuPvE2K3XElTSVJKC7C06gMm1Usvkeoinap2DLgvaIZLcFYgoqYNNEWns8vDwixcmss+jFLXELO4mbsXLDfGWTqyd9z5rIg9Cvp4YWQcrJ5Ry/BpQ2x8Bg94bKAVAoRBGGOoDPWbYEVApEHLkVLFJoh99Sxx0iNbxOYkTgu3NiiRwilQNgCZWC2EhHbb3Bb4YhDhsqe0dZS5CV3/wHn3tEB0hqQheJwEEz9yjyB7BTiLw43bMmdIsmvRBcwVUmW37hdA6aR2PEfEOaFw0uOffyNGL6nkPobpY7AiweCGkjNliEm5LyyyQcIEY5/MIYCseu5b1/4MPyZoUqkQ8vtbeEhZHBc8fcTQ53w6oTXK3US6Pgb2/GRW36g3jhIBp8MVrfsN9+zioAcJZrAUGwJ5oaUd0LyaGVI14SpLJGVMH8mUxlGjsQioI2EZSIZuPmS1F1YGQkhEpsRe3Ho1RLWBlAs1YleK+46IsOIs3+griUjC3pjEYNC1h2L/EfG8cbGbhH5nTDtidlEri1B9IjaMMyOvYDXtJDJxGIypluGCprZttyEZM7vFHZiriaE2LCPOYursGbELDnUMyasCDMTtCAJqL1mjopZaCKW7SFwmzxRBpqhIJQXunQkZn8QZ76lHMYSS4GUBfKikHJiHxXuUJNERGU5vRYYtQFVEvydLOvRWYFx4Gzx7balt0hbsC4X6rliVxiSWzHeI8WWbn3j8/HAMu54ip6HGxRLhyl2qDLwImfu//xfab5uSPF3xDLx4bsHRKpZ3mbs94IcyUVvaYDHPxzkGV1VUS5nhO/4wIbLvkJve9yk2O/+Hbc1EX9xVPaVJVN82n9gvmrK7YzxgvqyMAfLi12ovKbqJbrxjH9vmeNKWgRD986mbpArhM2GeA9kxRZRy2/P3QPZhF87/PsnPsrEuLYU5WeakPEmdyTXUQiJlHvupsVLgfSSeCpZ/Cc21xf85NH1hmuMOLmAbplKi7rfMCxMywPF4HhpS6RvOFQram/RPkemgMsXYr7igqbIO4LfgVBM2TOmupPUjsod8B24zJKlCZYfSctEN+7Jak/yK31WcmoSfXtlS0CtFf24QOlwF487ZBSlQ02Gxiie/1ki9MJpKsh6xf1jgchzurknpAv9rWI5WnRYmHeSgxywbkEIhUg9QfWI3BKXiULkrI87XDui2nf87jM+XbDaYuSEywsKmdBI+tdn6gfL8b7ltVgptYJYMj963lRE9hPjRpOuf6dyHyjLkjgulPOFyX7EG8HKD2znns2nwDCWWFtixr8Tuj9x38C+ivjRMZ1qkhtowgYle5bsxiG7ojvHfXsnVxNCbTGqRzlLMUAoLfZhQc05oVM8TSU2LHwqLN73FNcDSzUimHHXGd3kZCIwGUW3Ch7mgPYDJgq+6h2RwCEzGCfYp5yXusBdJCE1ZNnAY/6BuV8YlaYsJXoq+PVQ8Q8sNKOiMzU+1xT3nKLsmf3PmOIJq3PK/AtrrPGr5dnAZ6fwUXHxEblIys3KPix8+eWILS+kcU+W9ST5ATFrTnXGbR5Q9gxkVGvkj9jQdAVpn7HJAqmbyFIDKjD95Nmvn1nkys5M+EdF1gtc8yvEn3j6cCeKnFe/I7AS5YqVDwjrWbsVqyfabEb6d8p/eUJeFtbvAp9fNf5kMfKBYRfRtxmdt/ShxjlDU0O0Ej8rTkqR+Dui+shRVNhGcV82pNgy2xM7I5k/t1j+gj9BLKAKHWup6MrE3JbU9W/oPuMyf0JuCrabxDPv5NmRpGCbPHr5nXZ/QnQDm/eM74dA2Hic2KI/1/wUP3PJM5besyMwu4HMe0rrCLJgZoHFMeUzcU2UKpDVJWtY0IVD/mhh0FxNZNcpstKgOLL946+Mh+9pqxPbpidhURqiOmG6K79nNZ/rhaQ8bQ84Afc7YVvB9pk8GMImIvWdbtri1Bl5POBmRRQekSInc2Q0X4kmR8WSfHRY8Q8Mo6U9ear8d+aYkesHRjUytQJTTGTlSp12LMeShQLrRnol2OAQEsrKEfiIFgMLCuk1pyC5KBgmTTA9hYcmSyylx6QX3u2O8L6SasElZZidY2mhl5KH/IoSmm6XyNEU40SqNK7cMSFohne8OWBDgUo3xu6IlJD1n8i4MKuA0Asht8zryIqBk2QdM5Q1GLNjEj2Hly23vULwijYFN+/RY0XFRBl6kiqR1nBPz+jhgDu+I+2WPHaYUhOCYZf+Bjyxpi3Z/sAiK+zXCXW8Masj3Bw8zsh4pK0GqtgQhwGrJgIroj4h8hl3/4DUjjUXFNJjfUK+GwKJXI+sGrrxK9Vc8HBsKQvwJmMJI/FDzsbcsXfFq9b4biVUhtKeyEKCrxn8SRFCy9h6ymymlobBfmVd/sxvk2WfRWz3mXsWqcMf5D5jTI/US8ZsvzWJ+1igui/oIjKkBYVgMYHwVmLqG94EqBxkhnr1oDKkdOi3iNg7srhhjgpdSIpsZh47eqMI+UTVa4atYBMdos3JhaaMgU4oNDtey4FN7HkKDYsoUJ0mKy+MYkUPH+gqz8d1YckKzgaO8YZsBLIz+B8WbNpTrq/IOEdsSuQhY1oWxtHTrxvGTY2YSsKp5l7u0H2ks2cGC7YXlO6BO1DOFukD+6UhmJlWaO7hzPN8YdgFdqokzwONF9h8y0yF3twIaYRsoTCRVNwJXjJrCdIg08iic4oiYucOFRIxNfRk3G4BQuAmNbMJzFPBiKdVkqnMmfczaTPhVI7JN9zHgffrR6KoGOWEOe/QvmR9zlhlouxW5PbGV/ERs0n4PGdZV6T+O+3LgNIJ+zVhxshKYp1nCp8T0g/IAHo9If0/8bVcqZNnqzXzKYNjA65m9F9IKhGCRbSS0CWWtKHd1BhfkQqFcw76yBQt6bqh6CWTrLlrh0oKgiZwYC0ynBQ4G7GrRCb5zcUvOq5RglOEQSIt6JhoZIbYrRQuQ4uFTJesERhqinzlnN2Qs0QMjrr3GCqC//bSbpsDqj0hLmei3xLvObmyBNUjlwOoBdIE9cyxmhGVw7yt6PwdlSJLUbHdLsSDYU4Lm+xElvy3a7dJ4acFp+9MaiGFhSiOhNAhZEvWKGatMK1H5goXFaiEmGBd7oRWosXIOAXuTKSwwfg7SypxcWX0mjSthKUjCzPtUnMzf0Zv9oxyQiORgyH3LUsHyMhqOvZ2IZSeohpJa8akM8LectcleQXyyXCWLzi1EtcWOQfq5sItOJLOSK2kyxfUpBHDM5spcJob/uM//Qf+4//j3/O//Zv/jf/nf/x/sdttmdSCLgJFB6qvOGQJk7dcnSbEilwtpE0O2wNtWaAF3H3Fzu9o/ujQw53msUA1iYeNZRWGtvxXNvPK1l1JdWC3v/LZrdz9iJMF2a5DZ5G8niFl1NGjUoFTEWkfsOtMWgLLfeJlFYxPIxMreTBshCCbR6RMFGFico4igI8LblkhD+y7QFwUawbROzIBKf8GamFasnpAzRVaSdquYFUCH2t2MvAuSih334BlWxHsiNAL0XuUM6wWUhT4oWAl4mfL1m1R7Iguo5gk7mgxk2RVGr90jM1I8dpSiitKVFTuTq7PhNxwzzU3RvK5oLw4ZkqKs0Xd3jFCUSVJZnN2SrCaDI9FScnBXXBaU8iPRP3E6bcNZef5REK7G9dccxt29F2NCRGJ49g+4nXFa7/ipwt+lxPaHju1zGPgxTUM8XcuSnJ7fSE9wlDsudQK8weo0WG6FWkHviPSxA4bMvL9hpUV1w70rQQvULInxEfkInhtBT87S6wyBlHxnr7n951HrDP3acNitwQvqMcaVRtctOzciDjtmPLv2ZUCYRvWe4361aNjxV08k69nrv2FP649riowwoN26Drili1zMVNFRTdt6XXG5RRo46/gR/ZxJP9afeOFjKbW0JnE3+PAtFyQcuKQz7CDOEJlA3EcWGWAcWC6SWy38kkWzM0IB1DmRrvcWIqSr9mfGYvvmYqcxBui/wAhp8v2fFgPyPWIMfChu1N/udD0W5xKFE83yuYFI1+R6yfUqpimmvdswJ5KWrthLiK3q+DhoNhUkuE+kz9POFmTt47RrZxmT2ojpitJgyXODrW5oHliOyX6ybMOK5vqyqJbmFduvmNccuLGUs6/cboPFN0P+B8T+QfIs470k8LVLa5a8OINuc2wlWGYXtiblvri+I4Ms+kQJjDJPeXFslwT9/sr3hhqu5KvX7BuoZ0MwS2smWNdKpT6QPlhizXx2/mhv8Pvt6gnSZhHhO84nU/ka8KHnxEkenNmtpLqmBj3YI4Voc64psTPvWByZ+RmYtsMlPEJ0+TEfkdx/nYbE3yLzy2bdk+uJ/yHRHrfUBiI956ui6xCYOVXnJ3QzjOPHa3fcOksOusRTmJ0T7kG7FjSVEc+jAv5JHC3xJxtiduaDSNjP/E8a6a6xU0D1n/A3iNCRfJlwtVAueE2KVqnsLcfoVuZ58ANzTR12OKbzSgLGrEOKD9htSU/1tTlQiZmxvhKagNHBf/srszizvsYGWXN5b4lJE0tPAdXIJRjzBdE9wdWek7RYpaCd+9x3uDWj2znisZuqL3kqG5k+57yIfFYGpQAoWb87zXivOAKzcpC9/Irj28FVXgglwn/N0mdf09hrpTJ4AyopaDpLSZtMX4lR5G/XGk6jxg1Jg3I4RUxtXQ15K8TPo6sheZTZXjIWzZlSUbOmm7EJMlCQ6E9UR7xZ0nuB7h5aHO683fgI2JI+Ai+H2GvWMUjWW+IhUR0H/GZolYJnQJGB3J3IC8/432Hy0cmIxj9ShoW7jIw5luidYxF4n0necFRD3+hkIbFJe68UFwDxuW0JtF/fWCuN1S7nDG0CD2S9StD28LxFeTKdRZU2YBLGxwJM/4JpROlXIlVhCZgTKJQR+5zjdyNFEyoGHjLc0TqWLOKSRpwkWZI2MyQy4GvsyW4CRUq6K7IQiEOmhh3LI+GfNmS5Mg2tRRth+wjWk5Uy0yGJLoFtyREW1DMkYwCFWs+GGjznmouGNSBWVtG6xg2gRQatC1Ruw67SsLGkiXF53wkKoGZJbLy6NoRqjsHkSEpFCrrWLaS96PgUP0dPSrOZqHrJhZRISL8rjNc2CNDz1y/MQCV1MQsUkQDaWUw3bcmxltFM//O9AXWuaZfEi55+uSRekL7hHYaISvyURPdBinuZAOwGjJKIor7OhIM+FwQgyGtnxD5jod15DG+MtwXUhw5mZLt/AdVVOg5EmZN5Q0hc6hGUZc53r1Rh4BzEyKuPO4DughMamAYI6chMtuZJO909ZV1FfhTgSs6xE8dTXxnozw7cyMqz1kIMm+xxcTHrsVePf1UIdeGLFiGNaNrHP7xI6JObLqWlP7KvBlobKAeDW55Q5FQSTHtRgiJV/03vPuVQ+t4SDsIC2YJDGdBlvYoadB7y91AiAvzurJmGhEl670ipQ0+7iAtkCRCHolKkLTAhxyxFggfGb3ADhvK/EK5m6kOW2wo4FZTiwq5zlAn/E7jMkuZZUhXoWXN6oBuIclAl7bch4wpayh+yglug0gKm3rEq6O+wbhbuT+PFF8iu3tFJKexn7GtIl80ANndU5YlQexY1hyRjtx2iVUv9KlHxALyd65lhswlOh2p8g21MpQUZNJyjwtRCtbuRp5gt25wlwrTDNy3nmzQNP2RKTiiGDGmIu0jPhM8Twf6tEdPM7FfsGZhZyLFGtjphWHNcNPvhFuOKxPmmKEqTxr+J5ozhOsrPVdyW3PVnlU1DD5nWjXNVvCojlSlItUjjAkhCq5cseONs7vTLYk1ntjvDaV6QaSBs4wMq+cQcsz1Ds8we03/MKGC5Lzryco9QazI252T3zJgWJNH5JJ5NRRlw9OjIrrIJA2f6h2fvvsLPzUbTF2hrERtVryLrGiWNKPuCcuRVlrUUnNPiiWbmWJCzZLVZWhbIPKIURWmyFjljSQdaA/mispb9OoI2YiWG8IqkSgW3xNx+OiQVYWdR8KcqJVjV0MVJeE20c2BwgwUeYa3NfkEYxaIIpC8RIaBctEsCFQZWTJHXUCOxsaJ3+1AZQZEPbO5l7QqR6knwprztMkpfrFIqQkfRqbK0uRX0vELZb5hyAZWSjaLoLy9oIYz6ER1E0ypQKWaZ/lCkUeG04BrJLJIaNFwWAZ26QtmH5HxR+7jgZvSsPRo79kWNXWzkmUlw9Ago+cUFHrzgUIO7IfI1izUwiMuP1P/JDD7kSxE9NUTydg1j0zxBtOOoQhMYWCr7shqR+gtPntHxAxpA0WZU2QLmYkcyPi+7BHWIk8rNgmU/kKbZWzbFWUCG/WJIm8wo6ZdFDY25PbC8VCiEPwY/gSTpakf4TxhgNfjjUSOans+TYJmSmiVo6oOyxvqfUT6LRhLSgP9cURkMyEI+rgS12f+oRUUTSKx4qefMPlIrQYCjtVmaJ0T1QNGZcjH71GD52Xd0q6OaHIOWc0u/5kmBbKxZvOlJ62SmO/4W1sRu5VX2xGL/52BFwbxAaVPLA/fwpKD3lDoE5nMUY0i6sjuY8uuOyPHleLqSTrxXiisc8hCouoVtVkYxpnu0RJOhjlJnggsemRQ71AqisxSOQNuQvw1krkS30rsJAlmR9onfJ5wQtAWn5iWPZMZIbwgPLjhATdWxHvN+Ksh73b0t4k0NBSbA/O2YNhZ3nVFiWEWDmGfEHiadsSYjOv7mSkEXPUdYwWyECzinRgcxwHof+b30RNWjfEtvZ8Ybj3cJqrsgv7NUBc5Wy8p2x2EDOH/TP12hS8D5nZH9yP7dKOJJfsOVPqINwPjPBGKlq1IuEzyXrwAjlp8ZPk9Mg4Tq7fE8TNjKfjX1JMFQX4ZedEOkZfcdc2UDVRVxrp/JC9Gkpa8ZDOzVPhzRKfALdzYScVEgNlQFZCymfnDkfTkOVQbzHzALj/gbgIzOor7A8EqskvHenVsW4sr3hm3KzEvSTdBMTuihME0OJtx94/I6c+oEobFsb3eeWkl4kvO9LJBbTqEH/k3sWTz+wJBoPN3pFnYjpZ8fGDdO5w0yAtU8sRuCaxrQVSwe97iTYnykXCXVOcrdZxYrEFOHby8Uq5Qa0WaMnAXlNmhqchjx+6nE7JcifsJbQT77zNMUHA+ETPP+SxY5VesvWNnyMc/uLDQfIiIXOC3I8JOFBmU4Rs/KkuDCVumODCOA1Geuc5vLPeJ7KVgniR5WL8N261jmC0sJ1CaCw3aKjLpyR8SKiW2RjEPrwwshDIyDfJ/8KwDbnGYawdSE2RgGBfe4p1+PNHcVpr9QFbn7JQm0KGqmiIb2C0FH2NBeroxLpJ7+kDuf2DwJV+XyC5dKPOem07oKSKKgsK9k7L9t4BSK5aL4lS8ISoQ2YrZWi7k9OlOLRSbkCi7XyGO9MnRbCyxs3SLAZ+zD1cCOXrakMaChCYqgXTQPeU8Wos1BybtWc2OLEjW2xalEwwl99VQLAnXTgSZ8yIWegxl6VEqI98Yyiwx2pz7w46+XKHqYe0w4UztBo5xxV4U+ejI1zvoBjXUNGpEyQRxZTpE6AX6nnObFSbOGGlZlWNmRCYxI/SWL37kRxQ3+cgoFp7eLafUoZ9nyuuV3Wp5Kjz7ULJJJ8plpIgLq6wJc8WoruxDgfYRpwRp/oHlQTGFBRFHotJkywtS3Fn1EVEciA6U8mQLICJpExhNZF0W6vkVq0qCODGxEqVjyVqaeEdOEPmMOSiWHELoGdJnMtVjM9BGEC4G4oqxOZWNxLVgpaA/rYxJ4FxgjSvRVOidJQj1jY3oNhyXD6zmEzcZ4doQbw1VJciVYnKPLEuJdRKZ/0oIFeOuZp93hHABd0VTURaJrNuxz7aoViH3L6T7A/q6w901QYxk05Ex5KQ3STWVSF3zoP+CPOy4lXAtFrrld7xKxEeLOXhMjIQ0E/xEkCVCGKLcUCnQlceNIzom3JCzhMQkF4QKOJ8hhEBmC2J7o4oGwjNLmJBtjhMCl82I4sgyVKzJojoDyaJ8JJo79XZG8kIuHX5bISWo2TJstiwY+vMvOJ0IVvB1Ssw7kE2g8b+ShURZSt7zApGttAHGVBHnnmHMuI4vvD2/cf75Z7rujbG/o7uF+/2VXFREYRleZ6bX/8qX91f+ePvKbf6FMDucjQwYHvo983jjPr7xW3fmv/72G+fsDV/BpzeF8AVLDOAEcc4Zx99pxIpxLU8vASUEpt9wl1tCMLx2BoFjvS9kDNz2jzzsGywrbimxwXGvYWxK/OMWcxRoOaG0ZqFic/cU4Uoih7xgyj3luKHPHdepp6n+kSmVcPsr2Tji5MpQDqxGs/YVH4KiSor09g7bluzximwT9B8pMsOPbxEtBuRkGZct3S5nqCPDHeKzhQHm/JVZO6Z8wA6KYLZMYUt+9Hw4FEwm0fOG0xPF4KnTgPp0oXoaOIjf0flCIRWqT8wq4Mucu5aMakS+zwTRM3UF5vfEpZ6RNSS9Qb0LGF4RoWAu7yybJwgJLY5MU4F2Pe+XG7OzxGlhToZ+vTEaT8jvVLNj7i7Myw0RI9EqtmuDyjSj6HDBMMZIjIFxbgmHBpcUqc5IQvG5e+T5/UfK44G52SB8j3QRJyDFM2Kf0xxKCjxkf7CkPRtdMJPYzxk2DoQ6EJojYiv5qv+gVxMhSxzMyOf5SJwhc4JyyZBfMu7HQGZ2ZFmBvmvSMtH86qH4yqz3VA+e8qTJHPTqjXxXYuqV0sImXVCF46YKblkDdmT/uWbJJ+63yB8ph66AxaEnBe2W0AZ+0ndKvyUUjmVcSaai8Vvyq8IWW8wysRIxy4KSF8qQk5d3lg6kTMRFI+zM79MG6RM+m+ijQuQ59bzF3xzyZcM0OSY6lmwh6sR7THzejbg58bicmJsZmUWmGYw54IB8LilrgS9zytGRfvmVe75FlIkJScp+p9KJUm25xJn+rcB1iXu9kILn2Tp8aBDcGVcHdqBbJ6SV3OLKo0s0vcKsBWG6M44/4ueGTFxJ7sAgI+O2p978itOBw5DT6SPT8JmUX1k+rvjpjXV/Bplwl4r/tBekmNhuE4uoCd0RX3iWsmDn9nyWnlV57sOKnhemWGFKKKyjHj3H7B3KCzYI6osmv7eIq+a9LGl3Aj4XiLrAbDPmI1zjRHZrqAbF/Vbw8NWg95A3AiM3eJ9jm4UqJprwM/vGsGI4pQL59jc2bwaCoK4WytuE/zKSi5UbCdNscabANQuPn+7YQvPgEvq8sL1nZGWNP8/M94L4uke+l3wtKqxbmKvIeLSs+8DldGZ5+Bd4NwxXyRonqjSQVYI+U9jTicIn3szAeflM6iMP23fqaaK+bKmNZTIBYTN0/jtWaHTv0G8rqgjkmwDRo+Ub5Ff+AY3ZJvyPsClLnt9OlMFC3LL4glK2POQzIYzodcIuF8TOYFxOER0xg2bQjMYQ3cT5Gujukrez4hY8SxC8HG70zYpXX6jWEeUmrBrY5yuhENh7hlgyimvCHr857VuXs+t7/rT+gbQ/Uz7OLGpCN4ZwMjxWEn7wFP/mjOED05oQokNvjjTOI7ymiZqX/HfW5MmSRoZ3olvQseX9KvmS/Y73hnGX8F5wLwTx9IW1rBBWI8JKTDv6YouvDV04sQ45db5DZAvtVRDsI23YMWcrX0NkedeM2Y62A1NZbufAjw8rdutgVSzRs8gHitqDKMn9RHb/gvNHpuoATUZKPaFpmWwgxS3aNCz2e7KyZD69M5wM2ZC4+AfaeGTODAcvWLYZqewptwOpktykxOUz1mtku5K2M85mRHp2jWCZMloCKmwZP+5Yfc5UrVRS8mT2FOrCl03kbHbUesL3nnFNrPOVNR5ZzL9gikA+V5Sbidq3kEZC1RPeDP1riWhW6skjgqaZBLKzLCO0WUDFCS0akvuJdT4iXUVw8NlGNp1HzxfsfMHbhB0t8TowzoFFZbjyjF8T11GR+ZnMLhSrQJZ/4DIHoSMfHDr2rCEhi5IpapYAN3vFuH9lzP8rNj5zVzvM05EkPLtijxpq7DyjxwEnKwgNeZEhomBSkjSWzLrkrvd0siBS0DagU8KTSHYlVr+xfJEUoSKuBamb6NUzt/1AtY3EVTK8OjbxiEw7ZDcK9Ah/UjPvN4F1NSfrkfmGa/E94oeJezhx+5IDOc79HTFofDRYkSHkyOxbroPF64Y65ajBkMstH0JHfoWSgTRK9FwiLjlMkiF4BI5l1QR7I7iE4v6tfbJ06PIjIsCQ3nCyIEbDcbZkesvbdqUnkkWLDJFFZpQBlptinmby/I7nnXnYkrXfaPWSmiyUmHjgVDveRYkbFaVsSb3AycQqBpb5F0p3x/r/zF+iwArHOQW0M7TDDENPyBfYCkaZ428dJhMElbMvKryuKPrI1HvU4vnjbWbxEwN7ZHNFComJHpH+zmLP3Ocz4uHOUCbsHNBI3BTR1YKYJ8q6IkqN6Vd8H/ExUMUZ5IxAkKkB5d+JrmPRkkvh6NdvP7hl9TTJsCyJNU5o1YKqcItBaIE4laiUsQRNu/5BiBHbLlRTYvEljANpSmgFXZxYkmd+PaKWDLtkBCw6b3nIEg+To+oPhDFHL5qncqFsC5Y8EJd/Q/ZxJGxXPn7wlE5znD1K9gi7IZmASRo7dGybmiItFGFG6SuisehloVsWVu+4tjnDW8d0HvBdTttUrCwYJZGbla/9nf/fLx3/7//v/4eX6Tdu5xY/bxiC4CZg6RxST/h8ItiP6JiBqXg+zfDb32mU5xGHE5GjnVlNRXqIzFmNXGdiTCwvO+a7ZXEZ2zBSVQYdK8Qa6QM4D5fUcd/c6R4b/GLoBk+hFDp5sBkcj3jRU+wV6vsPyEYT/AvF2nHPIoV+w7QWsgyxtTTDBjclfn28YO//I7lsMi63I+eTpP7Ok7WWQhlW/fDNMHRaMcJh3w1qq/H1QgqKg3eM6iOtr1hTwsw/si4aNgqX7VD+AdqSovuOoVe4FJiaGxshMKMh9wVqyqC4IUXDdguNsVROkUIgG1qEyQm1QEWJFoam67CtYJqe+e2vf+f//G//J7/+yyu/dV8YDgvGtxRLzjyufPkS+fn3lt9+fuP1eoPOUSyaMmbQzcznV26XZ9r3vzFc33GqxDuBior5XeKEpWsiD67DNyv52mLGjlTfuaSFr79ERrsy+Ff654DXB1ID1+kr+lbiVs0fsUDT4K4zqtWcmj11uVLOGVE3/JZLjHqlVJp7ppn2idw3xLDi0wnxNDPVMD5NzCYnsy3lBPJ6JBQnskIzXALpv23o3zv60dL7isPhTHUHgWRpC+ob7MIJ4wVdnfOyUfy+HfGbr6RmoDU/kT5LUi64Ckk/nXkrIvPHr+QFPIcd7aK5ZxVhCXSrorttUbqnLBPGPFI3NfUBdLJEJqbxC+F95hwHzlnP2HT8rCuSuDDtArK6Y8WA2teYcuV9WBmdR62W7FNFuxPE5Q2yldlZMjWxLBqXlWRri2ahO29YvnxELpZTvrLfHck2I0O3sJ8WHB947CHqmSoknmzAKY1oIuuroKoEUwftoYNWgh3p3Yy5z8TYc99btDliWHh4y/isLa38SnmrWaoVnCY2A7p+ABcZxgVzshxHx9KNpH/+hV97i/3UU8WR+l9H/NlTtpbYd2T5hiw/EJqVo23R6opfPOu0oW+2tKeW9ilnURJvvpLfW+yzI6oNcXrHDV+pJhBpR3W/MWVfOZgL4eixv924erjXOy6VouUr6ImQZQh7Y5smXBIMy5ZV3Jj0QP0cyZeELv5KyCPr9Hf8EHFFx3OUGFEy6SN/jIL11z3DMLN7rdmeataPb0yHme1x5R+Vp30KlGvO47XCd4GHX76n3fyFt+9X3CnhDwtquxKWjF1eIYLGNzt2NiMVEm9WXBrpkyQ+QT0YQpT4PKDDIxu5J5UG/3Qm7gR97unqkrN5RIiO3licKIhdSTVMfCcSP9OiFo+6DjgKWv2KKg27zYaYb5C55JZfOIuGdz+w9DVuU7JZI/+0lWQ7w+MxYJaSpLbUfcF6b6nqkrXMyVNFl0t82VOIwCRmRGrJPkqKUtDZiUkmrmpgOjbo+cRy7chDwYaFKuRk00xYAwWSZbmQI1D7J9THPwgpkZykXQTVvOWfN79wFyvzTVNcF1qdsz82/FD9mdvTK81Js02RXXjDxQ+EnQBh0GXOb48jmXakRZBnAlnCrR5Io2Pd9rhbpJGSMYPPfsLvn1lC4q3KcFs4Fpq0Rjo+4muFfdvgfCRee6Yl4GxEHJ8oSsEaF5R4QFpNRUUx1TSzZ2kDNq3oXlL778lKh990bCeHloptuuKPAWeuCHGk8oa9mChEYjq3tPcAO41KnyjaM4SRqZSIJNmPiUo/49yEN4HFf1MAt2ONpuFx19MEQYoVLkmeUgDryNczSTyRQmDB0TcQrSDT0FSCT7vAdpuBrcjXDGcEa33nQsXNv9GMgbV9oJ0ldbiSizuLTJhBsvoVv4V5C2dzwgwWe5CEek+/vbFVI9Ock1cDJyHwZkPncm5+RAYDQkEs0KrDLI5cOJrJsS/3KJmzzxQhP6GHj+Q2o8wTMt3R8lfEMKDGM29qw3nOyV47CnVmbl8Z050dB4I1rIukFIk8D9xkQpkVGwYuwDwHZoC9ZLCvTLElqRVlv+d033FbPHMxonYG8e7xrUPuiguDeGZpC+aip48eYRZiOVFZSS4ntuqN8qdntA9sHve0DxK16WDOCCHHu5VyXyKCYBHA1qCKhatThAeLl4/E3YjKNRjDLANqvaGomR0s1BgMacqYyQnJooY7SnhkWin8DZkWpkXQicRd1HgXmedE3gjQgmtvyX1FI7+VemSHjGIZeLu33E3Cb1c8C3rxLOvEajzBSrTRFNKz0RE5HCnWz9w445r/lakeUWUg3408+5Vx6xBPAYD8XaHdFuUVr8s76JrXy69kKWCaQNEk9KHlqRyoEFSAtZ6JK39br/xyXzm3X3h/f+O/fJ15+fqCEzeS9MhsR64cVjWIeYsyHuVf8XElhJGpteymDQTBLbNEl5G2kSQWjlhKEchlosocUgeMHNhMOYzVN0zAFSgg/3pEtA98dRPbdYOZevjQ0R8TIteEE5hMk4Jlu26wOsDjgC/PZNWACxOLmmiXgruJ2H3EvL9wFwNjKMmWSJ08opTIpSTKjDcykg0IodhpBUWgk57Hh4a//C//Nz4//cA//vkndg8F7aYhVzvWdUejJR+efuQfP/87/uk/fM+///4f2NcndsNCvQTK8U4VHR8PH/mn7/6J7fYjzZ/+79T7jygXqYuWTb6yNTkpGObMEfAEE0lScHr16PoHXm1GyCVTGFmlZhQz8yqZV8iA2Wo4DISdx+UT+aqYfrak2ZNmUEozz4GmG6iLhQcXSLJDlj0iX4iVpTyPpJ/ByoI7glxuMBZ0OtEtDWbIWOqGaK8wT7znW143EZk0n41GfPfC3WqGqad6Gsmo+O9zT0x/RwXJUyUZywonapbJcRewpETRPQI9cjOw1xLTF2gSa7ywET1dgpQEd2kY8uWbBjYKTNRM6gEXGmgSQXV4+YW0aejWxDiumJMhExt8H5iNIyEZ3SPBSC5zgJCxZiVz0ZBsgdeaRXuMzYm+wNaPrI1jIxyHY87jvuBY/gWbN0y7QCsc85KIzY7jY8n3f97zpw8/8rApKWSOGASznlGbiSxERu3Is4qX4R031fx2gkV3bLN3mj9n5HYmVY+kfEc5VOzOLbkO8PQLgY5NmkkrbE6P6AeLnHbMzzV572jHmZOamOyO0Y6YdSUZxeZ9ZRkyfD1yfVdk7wVqW1GFPfKaIaMimoHr7f/i4jRdreHfKlKjSZuGVc6c8/Ib1BnAxJGbLpmOdzZHRzItBZHHS8GD+AeaWlC7lSHOXLonKp2w1Y7HYeUeFW99i7n0HP8I2P4PZAZq7CjEf0e/OOie8ZeRd/cVvXqQCyrCXn1iOibW/MqT2dNs4Id9gZ0b6mVmYEdpNnjl6SdHrSZ0MyEyhQ+Bhb/zYg8w5JjXDAbL8liwe9pyMFviYij6Eb2t2Aw9yxoJqUdZQ1UXxPMV0Tuk0dzSRL82pMnxXabZLluCglqfOZARwpFB9LRxxud3jG7o4mdyLciBIhYU9ntk0uzFjiiPPLJHzRqVtki+fXdpmzO6G3+6HzGPgvTdhp/SG+N7Yupv9P+uYjkY5o1EjiXLNeGTouaGmFtcpzBNAy5n7iuevu5ZrzlmnenHj7TSQaPJxK+kamHOK1KXGKfIfS1J4wN5UTG2gvlPls1UoM+JZg0Y09C2X1l1gzWSc2V4mTzF4wbKHBcTsc5J9gGx/QHCAx/DA3pKnJsdRzfi/B6BZacia7nSfN7jTw7vbuT5A1VrqOQrpi/Jzw3jEEnbgcPJMJ1ydudI7nMYay5iz2u3Y5tBVIrhttK3Ae1huguwCzI/YdeC+aoZdwmZFO1q8TZyNxuUtuT3E/m/JrZ9TvUWkBfJrd1SvkWMjMR64NoP3Is7f5pKJhLTdyurNiwyw7+WOJdhxyM6FARjqENgKz9T/KQ4SMGz9oxZya6DJVY0/YCqIG4Su3rGz5/xKaMPZ8ZUM75X6Dxy0h8hb3B9RkTT9U/siNj3xHkEHTtWe0AIT4gV5/SFa6XQNnIPR6ZMshQTb3NLfDtiDg8YBXXTEJaJf7z/xDa8seRf0Z9Xcnum346o+Q+KpUaMz2TTgr5E7rcrZlHENNFNv/JnN7Ivttiiw6mvjJuMcvC0XclQSNSxY/pbpO5HnIlUwbPTC1v7QrpDXzjmvORr3HFbc9KHM9HMpPgd12XkzSQKPTOJl2/Qtm7JXmeW2TGmAYY7WucENHMzM9kFlTTCJO4HibAShSTEBd0XxLcbF/WKCyWEHKtP1B8b2ixgYoXMc/z6J+q7JpiBe3aDt880QySbDNJLrnSgBnr7glgkS5pZTIdPkjmVjC85bV6wDQrhJgg5zU1h24YpWiIb5n2NXHui6IiZ5Pd8pHOWfS4osgOj2/C2legnzZAWbBhJwjJWllV7hmlLJjSm/8pQTEwXjxaKXD5xyQXFeGd0C7ke6XOHaARi6wnK4rMJUXaUwTNkAi8CyJzOr5gloqaaCYOyksXn5GmkfW4g5pBJ1HFLoTao3vKcwdx/pBKfODhDuvzMsHYU/lfs5MnKRMGALh3vjWevPBUK1e+pgqFaNqjiAastqxDMB0mTZzQu41JkuMNM+bQgER/YlgfS4QXdGB7XlTXCkgnIYWaLLit200fqkOH9A814Zp16fn77levvvzK1PcvPv/N8/QO3DuyZsT5DsiW7um+ech9wISc3nk3+rTjDqIQpc2KWoZfIGgYyMRDFSmhKsmVDuRy+eZeFB71iQs7HdkZEwyxn0lRiRIb58M7ywTOnA/NsCd2W2WRUTxVLuuPChDMKkgDZEPwZFWCac1j3BJfxvPtPqAa0eSSIBRM/0RUlfvzPbMYN+9sjt/Y7nIThQSHChCrf+MgWKzaEz/+eW1R4WyPeFMQPeJkx5jlrKjHhJ+KqccuMmx2dXzBLRowreUq4BL1bGbRkiRv6WyQsAjEHbLFDbq5YDDQZswVNIK0dQoILO5Ky5LnH5BlRJPI1EJCEooJG4nODSh5Xz0zFwrpIzlJRxwxvLFmWIeYHwjJgXMtLXiKnjKg6Vt8yLYYyaNQtksYRpQTjWFOLGbWujNuK4cMD26DJouAqYBY9Ye0ZFGgUhhwf/v8s/dfSLcuZZYkNl6GX+uUWR+EAnYnK6ioW20gz0oyPwFfmG7CN1qoygUwAR2zxq6VCerjixe5HiIswd/++Oce4cglXjqVkEgXbvqXsNIM+0t54fP9KijVV3NKmhs3mhTq/sq7fCv6LLPF3PdoI8k5zrlpcHUnxCZktuzpT5USxOgwgzSuyaRnEV1bhKJQlh4pq3pL7GoGk/eDZ7L/yPR7ONdZpSumpX1ZUEmytI7pIWj2iOtCVK0JbUj2i34P1C6kuqcTK4zagtgXPuSIWAlFdCXJDcECMvNSW8gDH55FySJRuz1F7lC7Ic/WNafzvnskJplBgngONBHGfMFqil4ZNfMZYT+l/R9PzUG5xuw+M+itr07OdDWI0lO2P6EoxLQpZP3OJjutiWZZEUQW61ZJiR1IVbexBB3Z+RFKShCc2EKqFTbKcnCRHQZ0d79z3LGlDV0e87XlVgqEA3VmMjaBmCjWBfONRdBRfjxT9hTI7mkOF3TxS1wc2RclWaPTymXp6oagstbEUVUV537Hf3jBny3Dx1GWkKj3d9j0P3R03DwcODx1VqZF6pXqWlLYGFj4azzwsbMsN9TvFDy8af+6Ql7/j/6NHPVWIcQIhOOVPhGWHDD8h1u/QtoGUSCrh5MhqVtrXM7K09DeSVK8IscWXCR1qcqEZw4jabeiKBfyMFoG+PcJrj/gaEVcYq5W5vBD5CTtUtM0nijXRipZm/I27lxI9dEi5QYVA2Ch2eaA+K1LRsxWvqNO3/C3FlfPUIacr+VxzN/X0QiG1YtSC2xxRZcW+M/CoMZWhOu8YbOb1cMd6C4REPQvapUUXmuxLyt8rdL5QFFfeVw0UCqIixJkhtiRf0MwF8/XKubynbUt8saP3Fj79BfvvI7exwfYDMr+i85ntwbF9tpCvTP4Fqy/YHxNz9W98FQPjWoI585oqlnaDeHcHdyOqnDAyMjn4EjrcUVIsJ2xc8e6OYT+yHSVVVjTcsfGgdhNxeSWIM3K84AbLWr4y5UwoLc7COU2cmkCcEsI1eLMS80TTbuEQKK6veBEQmw5/EKTqG1vckZDCoe4uHPbP1F7C8Xvm6oBZZoKeKMT/Rh6uuFqwqwXysCP2BbHcEosSFw9Mc0k57nC6o8tHXFlS6SfCdaV9X9E8eUz7Rqo0adW4tGdT/ECjJJ9VScHEu92RmHrWWBDnFbftSUVAvkVUujDJGrUXfBwE1inknJh/n/DtmZsHg/38N+ZpoM0FT3li2jhIDcuq+b1uaOTvyL6BVKLcykaW6LRSVl/ZOY2tItEHlstnBILtcGXWjgcWjCmAlTH2dO2Z49uWKGriekFcHdl+yzTng4b3NbmyNDcLt8ZT31esyydCX/AybjGLxbsXXBXx1UK83FCsAf37LeJR4X3msl7xS8HuumKXC9fLlRBeicuADGeG6Omrnjuv8PeZOUaGpeOz3/FsE1RnxPWO7WqxhSO7K2udmF8W8iIJybK9vbKulry7ozIFmg26SIgwMB8Htrwg1Ia+UDScKM2MoaJRLTMrRbHilw1iFZRNydl55lyh1Y88y0e0LnkQjsncUc+WqSjIU8V1L6BsWJZn1nSkGxek37DKCicrGG+4X6/suu+4/c7ygZL10uHrhIk1fw0b5qUi9IrYWwrzG7XcUXjLd1eHzj2L72jWA9mNmO6W0kPK76i+fnMfVGOBrCckGf+2R2wTopzRpwqt79BBsYwTKR9ws0Kdz0znwCojJr8g7wKJR74WgqmqqIsbDDMqCry8EpylMLAqhTCZrbwlfli/eTSKiNYJedUYA4u/h7JmpySlCLRxZVgEYfeBbbAItXK0DZ+miCsDYpOpgkK8gvGaYbPHUkF74k4ItlKTxELSM/eHlWp1nOTIuDScl4Y6a7Y9TM5wKgzl0yuT3WLlH/BWQVYsZ88iCuJGc4klo3TcXWaMW9lOnimtlL5mcRNXas5pJl4iYQZL5GSvjHbGSYErK4wCP87osoBmh6khNCN1nPHfL+xNZBQDs5XYdYvZfUSPliLeYJcbeqHpJ0POFTfzPSk0SOOQS81Iw8lkEC+EUtEer4j0lSACfmy4jZbQCZwEnZHEtcLELVkpnvsS3Roa9ZWoDsyxpsuRvjuhippmKrmomjQlwrJw9RXVpYe9gvGK1TPZvOei99irQBwuiBfHmj+wLwfEagl9RUhvpDzRnC9c/IlZFGzzhsArK2dk7lj8G9J+o00Ui8IZhTRXinHL4eYz90jKEAmnM/O+Q7FwMSuWgNYTFxtps2HnatZe0HUDKhag9mzNI0v+d4w48hbf+KA7Wtkyp4xUhvp5IFcvNKpGnf+FtAnMAXYaZBE5518w+sD8es/wQ8l+mJFHzdrtEW+e4S4iriONmilsi88DZ11SdZnt3X9ib0fIZ5h/Rhj4ZArk9IoSAeMntAiYqmfxGq6CLEvsckMUK3mdkT6SV0tp7zBFQ9Er1hrScCWuE9JHJp+YlwW5rsirxJSRq83EoaM2A+v7kYOw9MVnwnJhTQptz5zMyJru2Z8/0Yczry89wX9GvT2RBKQlkXMg+Mj3P39Gxj39tkakgtu08qZLYjNjH8+s8y1fykQLNIukuUxoYblsG7bimZhLmn2if9GYIHkzjlx7rjhUvDLFDjk3hGXGqStj6ZjXme18JQsJBPYKgt1xuWrwv5IuPYGIGhMmLDipSF8z5cM7nv1/kNxKtSRmP5F2BhUi1/Qjp9yxWSAfLtTtTJoCT/cV77wl5opClwyyYh8Ff8tbNq4jJEldBNYsWGdJCJa47hEI3tsz/0ie9dIi7iesbjlfvnKTJvoMdXb4oKjKmYYnwhTIRvLbuOf7w0qTO3xxImuI00LBniV63mrFEp7p6n9iHRWtqgljoFKZqVgJXyNp1xOLF5AbqjpD+jeOomZjDyjRMDWZRS9I+Y3hHZeBc25R8oovElpnbFnRHQVryPQxUSXHNQieAtRVohXwVUWsa+n+bnDjiFgjQRVMN5nkNgTfE1JkvN3hyiP+eUKnhMgKGyOsmZxOLOUDJ79nPL9QP95TdBu8uhDOjmKu2VQzc9oifSIZQ9It8yyZU0mZAs/aURSQe0hCkYUn1lfqeE/2EVHe8jCvxPGfGd85hBEEQLeRMr1jvgZuBk8qJKJSHM4zY/iV1f9MaDT5weGqRNG/sBaa5CqKXSLmC/qtQLQDTkdS7sApdJKsIiNvd2yngSHXBBGoY4EqZvbVwkU+sCRH8hWb8kfCu4QSEu0H0lAiDeRtwVMvEaFnt/nA/athqWfEZCmeLbNSnLeSpivZhoR7PdPcCmBLN0CxP+Gdpgwzq3VsVc2NzzhqstuzTB5RZVY9Y80CuoEiU50ip/2WZhgQbYtOibU7cb3sOVw1m/uC2S2EVXEjToxyx1KM+HvJbmqwF8hVgfnQEJYr1AkxB6QvuUqBOT2R7jd024yNC2nZU38aqb8fuc57qrZmFF8x4ZVhZ9nYlTMND27PX18Hvus0dpg5Jk/nOlQ2hGHi+n5HXW04r56duCLyRJxKUCfQkuQK2rJltFdaNXD+1XNTFZz0hqlNRPFXulJQ9lvmCXwnkDlQxcSbztRtgwwty2fJ9O4XDucWUuJUbjEokvgzYviCvq/RiyWKguLhzAGJzwpcixYCERLqbFA3ntoJxHxDHGcmm9CPBbp4JcwXVrmg5oWgD4zyleJyizq+In+UnF+/YxN/pXhvKccDLiZkI8Fqap055yuqCORjxeRm3I1ln3dM+ydCI7FrgxMddspoA8hIWXv+OAdE2zDPGdsnFBEXNS5eqKqFflK8azJeQmhKomxwjKR5j9ITQ7iyTDvK24ArDLeseO9oao353LEUZ5A1TiqGJfO0gR/znsTE1n1hrLe8qZVbLvjvPJXsUDNU2iCbREhXdseSOfaE0NKUETGPDNsS9bdIfqwY5MiaBXO7o54FHSUUjnoA5xO39cI4XjG3En9JyPsdtVvINuLDBwoVsbcziAG9lhxURc4Cka6UyuCLlryszG+3POmS23/7F9L9THPtCe8feYsFd28KWSQoV1IeqGzgtOwYbEeVeoS5YfOr5aW+oEwJ1ZbMgNA1TijK0nDIDtUXhPaAn1umwiLNDrxEMWHCxGA1BQMmO4YxUV0j5s7zLDv+9NTzuulYGo8Smvh8w3y40C0SuhWTapTQuDpQ1RERe2LpOS4N7I90tQDeMTY74qhoHj6BPRDnmd5qzFozx4KyOVMuI2GqmG4SVQGmr5gPCj0HmhdD+eOFYRC4ZkvlBcIXFM0vGKdZq4Z13iPDgan+Vi4XXU3JM/aiKVKLdW8UtmKJAju3BCnxw8Lhxz0iBiZd0AuLyld+bBdmbxD1SjAJ3UzMYYI38IXlpan5/jzg9pqpD1yFoXi7sql37JOgv1uony3XOBNbuFkrJvcZdomNlsRxolA1Y7Eypwvt2NJFj2JkrT4Qt5EqR0IuKAfwjaapNvR5pggFqZ0J6oqMoHLAPje83UXeVxdWEVjnPWMD7lSzK2ec7DDilY9Lx2QajDMszlP6jI2Op04g9COlDZTzb9RvFcvWcLaBBo3igjJvpPk7VLWSU42uI1lFkoyERVNsr0gpKf0eh0QujKRrgqakuygq+0ZcW6arIPtEYyRnZZB+pOgVfYKuiZS3e/70/h3vvv8D3/34kQ83H7kt32Hbe5KXoE807YAZdmR9Qys8fbaEWkAd0FGjXIHcaao4YUqLqQNmXamniiBq5Oae2QikECRj2Q4Seon+Dp7aB1yZ8NUMXY1cEsW00MYvDL5nTG+MLjD1kuu48Gwm8lXxqS0IzGxfZg5/v8OGiptKswhNW/2RS1PSThnaAWU65nrH831NUJmmnFjawETioEZ8gOomcOfAVIEHCY9iwUpHlgNrLlmuFWchcavmGL9hSeXUQz6wuh+5Go9SAh9WRqHJ1qK8QFwXZOHwVUCnjBIKgSVLh7KJoliQ8oh1ARUCCQirZ2hqQtHgZI0toK0tejHIyuGGSFFo6uqKPiaKReFffifqB4p8x6J3sA6083dIF7B1jw8bHg4NHzf3fPhg+el9zfuPFT//uON+X6B8wzrO3IgjWxxR9CAUevHIqaWuDB9PBXsZYHHEYmKImjs9UqaWNQhCOCFyj4kV9XrLrX2k84YwWbwbSXYlBYsuW7LM3M/Dt7W8H9Gqxp+OnH2BXUoW5VB7j5ECs5tIpSeKLct9IHyRMOwIXmIbQ+4y2guSyNTTAqbleuup5S1BZBY7000wFhdCPmKCJpeeZXrB9FfG+IrVO4Q4Iq1GzQXSz5SjI18MR7FnPUqoG8Q14WRgKCtMVdLZv7MWB2R9Zb6uKN5hS8HdY8Mf1ERd3ZC6iPIVVBERKtJxoq4sh9TQDf8X5LiyUOPnr1BEsm8Q/MDmcEUITcstOd4Qfy+own9heNugwkg4B8pwopWRnDR3SSCWmmrOxKml1A3FmgjO4ZOhvjTIpKlTyZAcZndDqQI2TxivuThPsi/sNxKnE+VoaMKOKk2Y1RKVZCjfwFuMvAcspYxkDTk5YnGHPz+i1RbRalJeCTli5oomrOyW3ykNmFYgdMN2TBSvKybMFB6m0fHToLiWDhdnUOYbJeLuHUux4OsJufG4+ILdfcfH6Y80ny+UzwaSoUgzzbZkrXe8rFt+fVYMakEsLYX+AsqSraDKBkmDRLE7CA7TSBMsWq7IpsE0A1P7hs0nNiXsdclVL+TbmvbG0fYX9BKoRMsqKsQYmYs3VvPMOiSyG2CdeKVEh4F0UsjrkbIJ7KdEXj+BTRS65Kg04bsrXz4qPm4StQTbWtQ7y5A854tnbQtU31AWB47qHXlrCdWWUNSsRcHzbUT81BNOPeXyRpwDXr6wzl/Jh4VZZS76Kz545reJPR2Vi0y1YzUjdZx4S4l5f2Js31AdKC3xYqbVb8xyg188Q1UQbWJpDPqwQ0uN7G6oqg9oc8/CQhksZblldZraXkhklLtnM/4Tu3nPdRzZyBW3zPxUl+SXV1RxYN9cCLcraj9SfvwjdXZUKdK2HcruEV9nhlJyze23wPAusCrInxrmfGJ4WHjpavyNxBSK8LZj0jWqq6D8QpUzU174h8gIWzEIjXUTsU0M/Q0v2eKOt2yqkp1TvFWO/eGRWd4g9YEwa1Le8rs8sywTpdFMzYw1b3j5RKUvzNJx2WbcY8XlyxsuVeT5HVQdqsq015VhzsijpoiW9fCIPH9HJz3TYYfDQhsw3QujvmUYGvzVcdPX7P2GbTlR3sIfXhZsnAnXe2y6x6sT3TiR+sin3zekKhL0Ct1vuPyIKgWxVOjNjLFXqp1gST/SVhu+nHYMqaSct/RdQD1A3T5h9hmV37DVleCv6BGetWc+G0bhGR96hnFDOYP6zbPV8P1asvy+khjx1QPr5kIqBURBiFtkr2hCjz0q3BxBQ2jfCNFSdjNW9pj2QjEXXLcPLGeDZsvWwvu1Y1demMvIkwqoIlOXmnMQ+O4ekqa8aXDmSqpWwuI4IlhnyF8arqNGaYWaNEv/xuI1a1oYyoFnPUB75H2xIj5oZDqj1cKbMGT/in94Y3mAwiX8aQN2g+4GPsRX8j4zRI83gmJvEDtI1pFSizhn1KB4LV8Z4wP/qOGae7KFJR/4FH6jeM2EeM9QdLythjlFTtHSrILKFqT1Pbf2gO72FOvMIZzYCMtSJerxSC8M7jyyYEhzIibNikXOBaWv6RbJNkdCfEAx0CaHUQuqbNGrIKuK2kpS5RDNwjk9sKyR4+FMosClD7ArCSmTTwX5fqQQFbcS/DkzF5BaQ6aiV/cE5zB6ZhMD/qp5PdV4P7MM7xhaz9wEvhz3rP1vdIUjmyt9hEV05NeeOTvO/UJ2iVlYVDJYAr3PqHVF5oFNX6ErSxQVyddcbu9YXEOsblCqJTSCfqMYZ4HICXEj+bX3DP5MOC4Ue010f0K4hFE1DDNdnHhX7aFpEJuWKlr27owIM2+iZFq2SNmRXwXn64jJFV2rsFlRLZ5lCRi1JW8TjfLkZUUaA+WFtv0d0STmuEXPhjVr8vV/p3AnKjOC7ll3kZxLOtXgFsfFaU7+hviHEucsuICSguglr13Nul0xdYHJV3qx4PKeYd1jkkSdt6zJIc8zde/R1WiQecV/CszFllq1yP9+5vzPJarWVJ9+pVY1qXsHOaBTIj158ucJ/b7EVFeEs4zdDsGJ/OZZY80Gy1K+4VPDnKDOK3svGExFGQM5Z7wSpFwgyhqdPbkf8WVgUYLSL8QYqDPMKaK0JXYFecl4BC1/4xrP5HCPTCBTZrE157PlcnzhH1mxqpHXKeAxrGlg+eMLj/IDVY687RJCG/zckCaLtjPFMuILB5uMosVcIPkrn7pMJxPOPyDGRK0sxryHWEPs8fHK39TEd7fPmPiO1dWEWTBVAbVZ2LyBrm/wrPxHU3NbGwo/E+IT8voecZfJeHILZMM0n0i1YWsMzWUkysjswa0riAK7SCYbCdqgpyuiy2AUes1UIjOmlSmOCLEj68BqR65FQCZPHCNO1BxvPIgT92nPIjxhhcq2uLHH6AUjJoT9jnTTc1giN/90gzEHilyzkGCoCOE/qKsrl/J7+L1g3XoO40xojqz+BrM8EYynbPaEy4wtDaG/cF+AzY7xYqnqhtUm4lWypICSkovfUJUlYVuT0sw4lcwdxOeIiiMsJaUBP3n+1//5/4tJlrk1uGVhHQdSzCBACANTy3bKlPUnUvc9UjcU24yXR5a40PqKLDLDsFAmGIeJoDUmdyAquuuEnxNmUWTxOw/uDwQZeFcciCrh0pF23XH1Et16lG2xBwHpBfc2s5GJJijqumDklbW5QV4Fsb3FMGHkAVe8IWnI6Rm3ZhgV/aYmTi2bYmA6bqhEYt1euQTHrCoe7VeC/cAsf2PnPSm95//z8sZ/XRq4eyR/srj3YMaR8V1JXDWbfOZSVWy3I0G+sfQTUkiCTYxFgZsrwvTKki1JakAico+7m3nIBaetw141BxG4qBY5Cvz6xnujie8O2JcnTIK5iLRAejEkFYizoGtuGC8XfPo2GFg8BNmTy57z/MyNkNgFYmipTEOtDUIarkfFoS5JZc14Bj9GzPrC9ceCTQZRC/qguGwWOqMIMSN8QBrBdv2Nq7gH22GCRenvGMJEs1FkW7JZJ66cWcUB24EfJ+5Fg6wGqBRf6h1ltbI3NdNa8/cZPoQLzcGTxB2xKllfO2LhKKcS0VYUInBSPe1xoQwCGwXBeFyTeG1bHpdM1E9U85EU/0QIEj3dYqcLlyahhUTFF15vFnbLHn9U1NtAaWowdzAe+doXFPuKrg3gA+XvK+JdR5w8hU3sTOJkNMIvJNuS3UyTZ+pfDNMB3uqWg9OQoDQGukDuO0T25PqOMD5h/Z73wwvrw3f060j5oLlIgX00pKskX74Qqg/cs2IuW4LN0H3H5mvk+C4hHi7wdaU/Q/VaMBSwdBBF4LuyBSNY1hVhCqzckdPInDqaFHkOLTuRSNMbM1tSkijzgMyOqS3JUtGumlklPivD9+GFoG4YBomUtzRdwqwzaYXj3Q7fbHmoJOL1yrUSFGtg885j0z1xY+BrQHmFqzJqJ/gyNtwUBq0vxOkDdwdDkRbcNdI2wHRB1IJO/hu7/IBcNLGPPBvHx+qG1Y/s3kZiemBIC00rUesNFDBXjsJ9po/viKUiLJ9JbSBPgmi2VHVJqgWahYUCPU6E/Qax+wYLkMczxeKQW0csIZwNddGwpgp/rgn6jSIv5DdDutEIf2SYakyqcbuE0YH0xZLUytA+kGzBrfYEeSXR4tPANLeUyRErgRAGx47xpaD6IVGnhVz+A/XwPSsFdRmRoyfsJeVryaw1Q73jsERq3aLSRPXrHVN35rvZcKwc7+xKlqDuBvqcuBEHQgkeReNWrN+yLd8YNk8clv8rySwsecQW3zbxprf8o3vkR5uIZ0G0N0xO4+ojqs342w+UvsSolZwzIydkqNkUmbhqrDhS6o5NWskve6a953ZNBHtGdxa1Zp7Ngt0UWDLX10AaEukhYhmIXzvaJqBjTSFWer2itoY8VrzVdzSfJKu4IXWKhle0Eog4kZeKo5lozZahn9mLGnMrmekQ019xvmDbwPnugLjU1L3juvuVg3hPzh29j5TWUMYNpMhavFEPJVl46nJDiAXcKuL0RJIt5zVQVxJbdjRSMVyeUfX3mOmBkobU/EhZ/QUWjbVfEHIPURApWYIn5RpZgIs1pQRbBGZXkEtFuATMbmZ2EzW3bC+CWEq2dPjek3dvbI57pkqSNr+h9Z5pqilWyaZ6JR8LUmf5Ih+5tzNDvEXnHoY94sbxfSyBG0ieeIn4nSeFLV58hJhZ5UzZbsliZB4rxNXTbgStOSFSyaoFLA03QRPKgl5bys1CVdTIYaK7vkFtGKqZvWhIkyJVBSr9d2JsWf1HajXz/aZg6iHdBVY2+CWTu0CdjlQ3d8zim1cpLgKT35gajV0WhH9HMyUmVprkENRo3aFSyzpHbDYMnadatqTwD4rpR5TPTJWmoqKqYV0zb7bnx3DF+YbjP76S6/87WIX9YYBsicLzNBk+ZE9sJ1weaUyHepYImwmd/lY+rjq2iyUNE4vJFNyz8QbagIgnFjPiZEnJilYLqTDI0FiyCbzcBlR7IciM+NFQt470MuK4Id16tJwwtqTZnsmtYt2UUAeWdcPLZo90M+7qUDRUzQsxeYoZSrWydYlsaoJaycuENwKRRrSIyLiS1R1CNXhzgx479CoQBmRIBF+SVASZ0CrSNA3ytGDyt1ylUReyj1SqRriC++Keh8cdf/7Tf+Kf//mOP/+3P/M//dd7vn+8Ix/eMQSLvARuKoO1M0F+xr9byO0WmW54famJ4QGRGo6dIlYFP80HiuM3g3FnEtGXvF52/DYYvkSJLCUbsSd/3uOChSqwrySH0tHYR75u4dn0yPIZ3AuaCWSDTO9Y6oq+F5AtHXs6c0U4TVoK1Fri14JpiEznz7j1M/3lytdpYHy+MF8G1jCwJkMWHmU9ealILxqdSsb5hvUSMQjEUCGDw8cAU0Zea27UHhW2bFRLFpCKmab8E0JnYvvAGizMF7y8YRUCN9WI/swuOGzKrE6g00duN5nGnrCj4evJMp4NLAMnu2OJI+GY0bpgvUq66iMhjsRTRRkrVjsx9gWiaKivmar4jFoHcnQUS8SKhlh3KP1KigKlK9aDwruSVBvu/uk7tv/tf+Q/H+75H//4M6ndwvUGFy3TXDPGzAXH0d8z301s9pk0K8Syp9EVbXNAYNh9nMmLoxwf+eoqllkhSIw7j7tZ0OXKcn9DMEcmkzFSoOgIrx1TrEgX8CEwqZWTdKizYbPd4qoa31RMS0UTD7zPkkUIOiJUI7GcULJCLw7Me1a1Y9kEZvHKpHqGfqB8N1LsFKnaUHrBY1rwVUD+/cptukHUP1HokT+YPXFXkuJEuvs7KQgmZzHjhSBnztX5mwTPZeTa4CvBqiqsDtzbN1SOCCnR2VM48MogjKJYLVk7ynnBDDNj9jRDIvgFLVacOHN/vSDKNzyapirolxNRQBSeUGdepgvokiAFgZYlKoyuCdMd88uVX96e+Pz8if76jAsBT2bMCm5KliohbAnJkooSsX9HMxWgE2n8yt5IpF0pLgJbSZI0fJUFwfzIRpc0wxnhF06NR2xr+kbSK81kvpBXQxoDxZh4rmqm3DM1Bf5asJQgsiSFX/DW8Scd0NUPqE/fUfuR59CDeUXpC6RMf4X1ekL4LXVXoKpMZOXLFDBXyQ9qweZXtrHE5R85ak++dsj6CpsnzLoQ1BubauJh/kBUM/OhJqQVrMK9tITaUB4iXTxypsCt96D+QmAkOIdcJ1zaYpeCJAper5C/DJTzSP6jInsJBay9Ru8TT+nCOgrS7ZW0ncnmSqE3vIUZ1DteyogvCuSnPZuxYVoi4QUKuSOHGTNDVhEpR9QiyDcD4nKmHixJS+ww4T84cm0xfsvie7yVvKQKZyLPE5hZkGko92/8VS/o6oL1EpM71tZT5MijS5RpokZg48CX3MFg+MPlA+H6HetLi69nUpvw//sJb1t+LwTkLe/jrwQd4PGFetYU15XUr4jmSI1mdzsjWBjXM+s18j50qJAo3hqgQr5I7JSpryeUGjkVX0mNRIVbhCjgdkAPGc4Dv2bFulFQd5z3Rypdcu17XrKiNwHtHXp8j3NXquLCMm3Q1cJqFa4+sb8PtKcJmT2P364JJCGJhcCeNW57YropOL8mnKo51olf08pbOJEPmUJLdNfDpuSSLFNjmecv2O4VNoopbrG3PXHf0pWJcOwZl4BOPcvf31BzolR75BLITxMpzqyzQP84I/zf8GtA/eWfqS6B8pSQvxmKUCDeNHNpmS8txVuNfmtZwoS392x/ypS3JamfSeeCJCM+ZeJcso2Wy3zBIphkw1xk6j6whg3M/4VUjQz2BvI9QTQUCZRWHLJnlRNuP7ComkV2oBVbs+GwDBh7YY2CFzHQ9O/RBGw/4A28HLfkxfPqLFMREOcGX5UkeSW4iRs1c+MkD43goipWU5FvI7iWpq3R25WThOo1IkfNdms5ipkkI6n+QtoN3NcjanQol1hTQyieGFXP/jKQ0httZbFyRaq/UywC1DuG5h7GPbtzwlQSmjdMdYuxHckm9ipzYOEdE+Yws0hLqmv8RbB8TvTLSk4GN36k0IGYRlJYMaXgy8uRNG0ZuTKayEX/O76I33pHpcOfHrn6r4TosGHGdoqtTdROEs4rX9c3RLTs7EItj9wcJIiZQlu267ftplk7bidHqQo24QbRZRoSVm1QtKRiRh/+TlYtUc74wVEvAZ8FzQBhqumbniZpVndhHp8ZSkfAYHqJZf2GFZ4URbhDxUgoFmQ3UdmJwp/onSVOjmqNBCtQzRWToZsEhTry6k8Ma+KtvkEtz3BJmOuOw3VFqozLPzPaD6yDg4tAqRGxXrHxSAmUm1/Y6ANCbHlWkuQrysWxOyYWf4f133EkcVYGt5HIxn/7BquIY89lOlNME7mYMaEmPg8MxQPpsPyf/0ACE9F+JlJzcAlZH6gaA3/6geqHjLwRkCuKU2ZMA+btRD+tiKlgXBThuJK3M7pYqLOiWTQ6rMjLlbxOGOOQdSTmv+OyZKxq0mLJRlP4BEUAdUamCC9FotLAm2fdQf2hYWcecd0e20XW5wJ5tQQ9kX3B3EPT7QlUdGFk5yd8I9C6BWGRa4W7XllzQ+gDXk8oF5mHlrQaGM5IE0k+kk0kzysAolIIAwJNXCHVW2wtkcKwLjDOCbmOsNf8/fQRPW8QvkbbiFMeWWfkToEumL1EmQK/eOYBVDK0p8QWQXx3Iq1/5dq/Io+3yKkhvC08yf+gquGoFW+jY54HzGKQLxNT4zjqhDTPFHOg0iPyfmK6K3guejbZs7wH4Qb8FPCTR+oSPzh2Y+bWRup1g5D3pD4zTG/4LtCKF2x1RaYRMUuWN0lJYtsmrmlmbmbiPDAsryxLRlYFwR2ZL2eCAH13S+2vhGXgOtckCzwMpMpTdUf0NqMKTd0qJEAuYG/Zb54IfsZFiCF905CPAVVcqEpDkyXFEhFdgWgU9+rCvp5Q4sBp2NF3AltfedYl8ykibnf4YqXYVBTFhiivlJsDm/gDWvS8peFbjv2LhqRYbSRLS3n0NLFFFIZw51kxpOMbQRwpqm+kIy0nag9MGnusWGNLHVeaquKH+cA/2T2PNz+ji4JGJlY7k1QmpxnbZDabhEsDm1VirCVVCmFObIYCkQRBTgzxA8VxQ7n5Cw/hSlaaTMWaA2l6IIgWtUSWccMwbvk3575p2zeOOSv2hzNpHdF5YptaxM4Srx2lzsSXEa1+Jw6OvAQiA/na0r/OqFUiV8flK7wMC+Y1U3Qlj0JzqJ6xjSb4Iy6OiHSiqS6E/sxVfY9VG8TXwHyEl2j4vl15JxJ52bIZd5hPgepuxW5W6qgpc0vV98znRD9sMdqCipxGQFhyzpQho/yETU9YteJlRU4jYrjwUgiKRWImGNoLy0ZDoyhCYiWyBNDGs5KoW0O8i8js4PoLZW/xwWKJyJQpSomU3x6um23H7eM7mndbuq3/Zv9eEkwTRmqSKpHRY6oRZQeiG3gxFUN+wOt7MBmTLaJdmO0F1sxWwZwNfoIlHTCy5lZZxOsTOWeMSOjxlnhOlGrA1ZHvlGfpJs6vkFrLbp7p05V5LqjDGeTA2l2/eVyw3MWEvtthTYFuz2DOtNaz7VaWDTxJw37f8e6+Ye0WvFhY9AfSukGHhY9eoronrDVcwiPzeU+9bpFyjzOfmOnZxIUqCnrgajV5aTEdiEZQj1+JUw/VP3H6nFnrBv2vHatfWKOGi6I4/C/kxy0v4UeuoiTUlo2G5gBZaG6WD2iXyKHGpm8Xb9Wd2TUHpv0Fhmd2wzOX7RNrvdK4gvUHzdhKYq15Klrm4REtKiI9QXxm3HeEbos2AfP+llJbuuBJ/Vdu9EQmoJNldXB/PZHNjBxWUJaf7S2SC/71C6XVhL4jmcjUONy5YD6f0V8SbQVNazCbkmIjGYvA/fwru08D/b6kkoLaCWpviEpgXhxLrtF47Bw5v9+zDDVfsuKyvrEWAzdjSa12GDPTthk+/DNCfWFePbhAuxUUcktXfscmRabllnO7YU6a6zvJRn9P9lBMNWN5oV49izI09pafzpLbV0fZR+YQic2BS9dxe2+og+Z+GamvV/IvF44vNZe/WMLccDElS8rUc8LEnt1yQy0j1e0DMmfuxi0fB6h7R70KPlcrYtkidv+OSM+o045iu+fpyx3ZTcjjjGgKlBq4zjPbD7Ateqa6Qv9wYilb5qlgMYnhENDlBKlEq44+/4gxkmX3r/iwoJuF0HxhijP2WCKrgrI7sduWrHearngkek1aNObyytVaZCX5y9dv4s+xXCBPXEtwu8+06xH/0kIr6FdBVzZMeaQJX8nxFeET126kzzOmvtCIkn1aKcsV4TNKaiK/M8fAsgxMbyO2LllVIKSJqYA4jzStQpYg2itrVZF3F9brgNePxNMtg1iYvwwMS6akYKNe6EyB7XbMS6AXmptCMnyU+A8V05J45xKb4pH3Xx65cSu++oIoJqzbUW56ivk9XmTq4g71fGD7BujMc/EOFRJvJ4lRBcFanC14yyOz+pEutJTFL4g5IuQrb2tAiUdSlamXkv7L3xC6QmwD3TlRXBPVIaLzQOUGcIqVC0VssHkPaktdCfa6RGnJIBYWLbDiK9nvWPPCnBRhzKTckNDcyZr70dAfB57Wv7N6yTm9cbxWeDqm1dCrC8488TxtSFMgTyem8DfOZmYt3iPUiprgEu7xOnLcbMjCUftEfRW4FLl6QagDhTwjdQvVPd4tpFh8O0fqBaMNwjiG0DMPL1SzJHxxKOHwviPHEq1gFp4pa05uR7pGkgN5/pG7N6iamhtTU/p3rMs7FjWy+gdsrNhUklgGir1H2Yw8Nqj6gMw3VMJQlN+TesUyTaT471TFSNsI4mZElSMn41HDj5ixYTO/IZMkFxvy3iFNSam2zLEhfjUUWTLfnbGLJT4nJjtQ2IQbI8SI0gbjSvR4xNsnHqsaFRwiJZxb8MVM5UrqzrHqK6O4UMpMVVrSWtOOkqKXxGqiVgrRzZSPAVtozkASW3IOQIVqbhFr4inVuMUCO6QVyzfR1eWAv9viccjTF9JLYpsyz8tKXd+y7BOXsOJEg7yrEcrjo8Q7h6ks+3mkS5tvU8ulJxUVRkwMpWa5Tnz67R88vfwvPP3tf+bpt7/w9OmZKQUm0ZK1BB/ow0zKICuNtBk1f2UhEHHoccT4V9xoEbPlJ1qiCTghiQiKV0H/8oQbImFQjLMDZ8hC0NlMWUqEbgjTC+nNk8QG0b8jFQ3lmpFng/XvuWfPvjfc6prqtCcAp7szAwNVFFzGWwabuApDVUbuiNwMGrluGHxFOgVEcWXtPEOwxMJDW5PfDnhhaFXkNXXQGHoJoVN4ATI3RDmTmw6x3+LnmrAYlLE83n7kjz9/5J/+83f8T//l/8F/+fPP/Ld/+iMfN3skkqXWyErQlb9xrTOkLTYbXDaoAAiFzCvG10R9ohe/sJgdWhSYOpPmM2u8ElRijTUXYbksA7GWbGeFCIKE4MWXrPWIbCS1F+hQ8JA8GxbkBLuoqGmwaSKUFUVeyXZG3rQoLZnlE+5wZPQaPZWkONDkFb+7Ek+CPhwY0gOyuCWMW1SG4rww+guTeKAIkqv5Qlt8QcoEThE6zZmFSa2YYKiyQslIowKl3iCyIC0N3/VbpFi4jH9HhAWnSmbbk4aIpKWUsLqAdI9EI0EnrsGRi8wOsKsD16FUzbtN4v2bZ6pXTOmxLFxThVYNeTZ8yQlhfkE/XAn2QjwkytUivQGVKNYtkxv5EG7Rf40ssqK9yWxLjdxJNmFkHSMtj3SyAF75EiBPhtNyx9RUNAncDyO79zNN94lHdWLqSlxaEJsrx70kHjouT/C2vMNOr2ymgXFbsm4F3cajwopVFRvnSFFRFpmpXIm6wrcb5CSwDoYv8GIOMDW4JtGVMyqumPUNLVa82ZF3G4pFYXv/zfcwe+IciVGwlQ887Dr2IlAEhxgCIg2QC4T1iOXAfhO4u/mRov4Dky4opkzlPRbBOmQ+519R7gUfE0F1dKolWkPWV9Sy4hfNab7D+i069sh1ImaHGmqq/QuLOtEX/52lC1zwlJUlfF8yPZbEypPnJ7g6Cr3hQUpW2SJNYL90iLctQQuWYiDMCtNGvITZb5icRhQKek8bOry944sMvI0lt33Au8DSL1SnkjAd0KfAtRUIu2UOHnP6idgntCt5ajXn2qPmlSVsuJ5qwj6jsmR2M3XxRGo95UvBaXGgdnRlgWsU4q7hJgx8+blm6LaMG0NVRKy8wZevbMXIIgwue6w7ItwVs/QsDirZYV97Fpm55EwebhFHSelueGg3XA933K6aePJk7zCcKZcbilxwCGfCznPVHbL0qHTDd/2Kf86klJjK/xXzojFmoC009XzPaziixoEcIyE1sBakaodcJGKN3PpbpFmQ8StNeUELhz07ruob7U4dMtts6DnSTwOLduxuFWvxJ+LtiGtXwpDZbDtMt5DcHq9WhqeKFFvkh5E8wDJbbs8zZfUdwUi+bA1Vk3iuFdPJkoaZqC3+vcZuW0QPV9/zmi3r1KB0JDEipoVXZ7HM/HC6kl5fCP0tpavZy4XGJOTHmmK3Z9l3uO0GYTS1mslDYmpL6FZsvuHy2PCwXajaQDQXSi3YXibMKTPUDVP0vOg9Y/HKtGSWaqTYTCjpEb9OfIiGyRXk488gDIkVcxHclBA8CHfmcvVokbi9G3D9yPK1oqgThn/iVxcwXWQOFV1piAPU4oV8yWz9Z0Kbibd73D4zHSNlFeHmirsbKOZAFrB8tiwxI9avmLUnX1+Y1o+Y2ZFnwcOmwJeCF74N8NrpSHK3FOme2ga+zlv0JXKZIvO1ZR0aLAFRBYq8sMk1UaycB8F03SNSibpLzKNhNZZqtsy8oy1KNJ5l51BlhdESsblSbD+j+4A5bqjHjFdfaPdbCmGopt9ZV9j8dAezYXAXqEtyM2P1K6TM2ppv3iE5kJYM4TMqTCzPM+tjxfSwQ6B5mg68lJHe1cz7Ga02aFsS1ZX86PBFTStXYnNF3NfY4YzOnyjExJ6AUCX9kHhONXW1Zck7ljoxO0k/rtRmZn9zT3N75ktt8KlgvSieXi68hhJj7xhlwlFiDgcuNd/O5LPFfaooeYN4QUWQ24ZDXbOroBMJnVecjlTmwrU847sjXYa9OhAWA/2Grkpo55g7jyw9hXXc1jPbvSUIyP0PmF6jlhPyssMfb8HdoC+aQ+zZtZHcgudKVa3cdxN77gj5jjVdGb1GiJZ4WxA7j7CK5nPGBoGaYa1a5k2k/kPJ2t6hO4+WBdFbrEnstSC7HmF7aALBasb1hjczEfXMVXQ8yswpzST1r5RuJj+dufvXhRssc7ESdhmpM2nJrEIwzYYcFZYG63Z8vVrUuUarAql31GtitY4lTLx5T1Ut5LBw8ZJUbBFqQLWCpfxE1IJd8ci8JvztmUxF9bul6q5wUcgwsOoKEWsqUaNzZlaKavuEriRS3mFTTahaRtkx1JmIJ5QCYyO+U0zas1wLVkYWZ7kMd/jnmjjAqhp6IwiLxv5+RQmNkBmfHM6PSOYBqRNDkVlSQvhAkBOpPXESis3tA2sdSSfDbtYEvVAbkFNm0Zbrfku4eLgc6O2VNSlisUGJin7d0jaa+mC4+7Hjxw97/vzHP/PHn/7Md/uWolwwfCWLBc/AVglUyChxRgVN0hq9anwwxE3FGksMEt+A8gPNEphfV2QuyQ9Hiq7BWk2D5n5bIrREOMmsC5J+wZkM4o7w+D2p/MChGvF64E0E3I8ju1STc0KrjJW/oqqS+OKwbsNu+kDoLeJ6oTlL/HWi/OIoxoFreyDv3/gQBfpOotcFpRJ2PWFTS2Zm2k1oORDlwLY7USaJXCZ210jrVrReSbZnzm8M8cqkew51RxMWvHCU3R0lB266yDrf4VNHsgXr4pjJ2NiQwx3SnUEtjGnBrx0hd/ilYO4rUlWSpaWJ9+S5IF9GYrxybZ6JQZCNYiklSMFBN6jzTJgTIihYamJKSH1Dw5Ei9SyphEWTj4pzCvzbLhP3kRVHEuCj4LxmxnKirG4w5SPuco8pFRQOUa+Mmwf0XGBryf16ZC8HqpsayhqXCuRV8LE40BiBNZFNbmG+57LZEApgzVi7kO1IZRxrUihXkpaEWjyGiL6MTC3MrzM6vEMhUIvFmC2isvgLaC2I5ZWwJrIxqCSoz28sZk+uB+bRUFYrudf0i6Z5nykkvAwWLTK5aKi0pCgaDmpBynuyWBBRM33NvEwnjk+feH16ZUkBYSv0o8NZSf2yAoK9KdjInksJV69ZRAE6U7l/4bu1IFnNRSa2dUmRnvGhoX9pWKOFS8teT1R9Q1oNdmnQ6hlhNFmdiZUgbmZ20nLbTCy2QPpH5tURc2TQ0zc0b2pwrOQBrhvFrAJynwhbR9OcsVEgKNk2D5Ak87yhLjNCnDmuB1YbMFpTThLZe2xhQEYQT7isWfWWtO2RusJJQ1Ylm0ahKfDLyOzBak+8EahuTyRjy8x34Y8Y8R61CAQrhZ2p+BvNqknqTD3MFLonKEGqG/R0JBvD+kEy+h22LLDXHznomttRUPxjpewzj2mDWW5RxTvMXND9PqLKki5eiWNEnjv0XaLylu3LgWqKVMIhjxGjz7y9/cKXNHPKDVNVY46Kj0dLPQ4sJqKUwWfBV1egXwXh9lvvJnyqqfUe6U5EXVHdBm73X+mMBXvmqjyHxyu/5SthPPNWz5TyBq1XYr5Au0Oue07V7ySd6abMGytVMeDiwo2f8W3JHO8JzxZpI41ckOpIxDIDZeho7yJh+kLcHQjUKHXHP6JmendFWo/iQB22OGqqbYc8BORLxssL03WFeYcZfkUGw+VLSZ5vWdUOryxvLOzWnwjrwiAjySXMWdPNJcshkOsO82Hi6aw4LyfKrBFxQAaJjx/o2xueq5XPMuN3G+5aAdsdvv0Vfp1YBsXkJ1yaCH1C5IV/FB0HXTGPX3kePCld6ZXhamFrN6gKVm25aRLbaGjVG2lYsOcDu3DmrYC9uyBbQTEt7LxDnFams8eVET9K2tc9X68rbaFoRSaaDT8AqvwWWQvmyqVx9F3kH58kS5xJ4QQSevUPZIzw+jt51QjRUIsvjKnBUWHrlbxxnPYDc58Iq0dy5rj/ijUnVJiRr8+IVNKUku0iGD/vaOxHMDWnsKVYDvg1sJkCqvyK/lCQpacUHeLDA6paGYzFiXfYrUU8lsTF8HsoeJ8apqcntDYUPVRyhU1F0o5ls2dyhnVQbJcd6rEmFHuivmcxnt+aF0LaMD2uHNaW0R/wswZzi0wrK5mbcuWmCGiTuG1PpPIr2WRemhOuGVGrIXYVehfJrud+A0avmPaGVAgufMOkNv5E0Qti61iXFTVG7uZMOTQ0O+iERJkV46D4dULlLTkJ0tiiF8EiHPMu8Df7ibV4z6IDMZX05T9z7w30Z0zt+TnBOETStWR665kax274lZN+wg4HrNI4tvi5Qr8ZzDXCl0juWv6wEez0EUXCl5Z2XSD9znFTcBYC14/ot4Zi3bB9ERi3ZS5vOPYtbCx3OrHbRpr+Su9nWmf4YCpsuzD8/QC5pGkOVPodHxaPbyWX71feihsaabCLQZhARyC1kcpdCWQW4anawDwF2qRY55XwUiCmletkicmhxBNCPRFUxa4cKP0DQXUU5wIhJzZbiw41G6fpwhZ9XtDa4NqIzpJclhRdT2gcqhT0aoAuME9PUA5ML5FhKFmCZbl7RMU94dhw7mdWIfDlDmsH2hQZBWj1wPy6RZQRpxSpu6CVoHECoXa4WDK9bYlOoJ8l/VSjL5/ZlRmxdqTfvyD4Qrfrab6+opYJWRcMW4W+OGxTQ+0RpSbdKdL5TB8vlOdv3p5TbYmvkcaASBP2IBBqYIsnJIjrhWUuyNHxrm6xraXaPSCp6b7C9njCO1AYjAnI7Q3Sz4zuFx63Vzp7Q1WcmW5/J6mWsM+sq2BTOZY8ssozy3xGS4mcN9RCUDsQS4E0ivuUqOQ9Zd0yTpJRSZZgEVVFXBrMpcHITFMeeWXgdtFsYubAC5gLS6Owq6c+RexuizYWOcUSmwWiWmj1xE2vCNc/0OcS1SSyHNgWgs0hM+meGYlkJhWa5lrQDivKzchtxpQKkyU5F6SkUEKRgkfZgj9Uj9x9lzgcLF1sqQ/vKe0d0h7Q2RGlIUwTORSsYUe6FASTCGpCOgdBIKuGLBbKMOD2Fm9B3W5wy5EiaKKpuRYStgWu0mR1ZRcvKFEwph++9SbkiHCg3EDcJEQoYWMosyfMieD+lVDMTNXPhFuJai68FBCNIMiFsug4V4rb0KJkJBSZanrCCs25GtBvW0JnKEIFKqPzL6jaoUQkvhSMF8EcS5aT4p2C1NX0tsTLgRyhMh2VeaXKFRi+HfwVLCqgJ0EKF9o6UNQVYfGgPWJameTCWnnqsMMFRR0FdXulzxkdL+TmV3K/0gSPnQOFnpA3hmPTsKifsboCXWNmz0aeuFQLgwpICyGsCKP5IDVBeH6VI2eXEDLiAX5S1EXiQXnWSjCs0J1mtMwclKadEuK4MAC2/53CQRorMFuq3JOJ+OLMtSxQUuHCC1kldO+ZmobrL5Z5AlEH5FbCkunmmbBmXjJsWDCFxw0RkNhsUdkSvScUI04OpNFCHXAxQsqUXNGDQYQjwkhOg6D1N5jbPa/JoiUUZcHjDCFHcvPGUTjSMiFLyxxWWOBd4ZHXV2yAbCx9nkg+4k6KiQ3XZHl9+f/xr0//G//GmZeXN774Jybd8/pZEzaS58JiY0P/CyzHjDcH1ncwrwMLimM6IetfULpn/2oRuSKPW7KZSFjs6z1Gt+ANPY72eUX8dkGYW+xOoC9glECutzx9feU/Pgf+/st/56V/xiwXpqLHpAI91CAUw6qI2mBPF0wxUdavPIiMzcO3mFGoiONCqu/o0gXmK5/zDdyVVPaGSUhUt0HpLaMSjJ1i4pa4ZEJemJNkjY48DdjekcoRFUGHEit6nAz4SXE6LzA6ShRphLU5Y5MiUiCSRLgPQMVs9qSpwFw1OUucBNl2bLziMi6MacIPinIOTOOBt9GStyXzs2FNz5Q8Uyw9/X7kpWk4t5m38kS2BXH/GSrL81zga40tMiOSRVoGU3B3d4eQ9+RGEdyJ0TT8wg65SVSFI/oFawX2w+8s7xbC6Ahbz/m7ieN4Jm4GdHElphXrb1hixnHgIXd014Z9jgxyw4fLGSkH/LiS7xJ7ecRvfmXnMk5VoGDvNX555oDBrQoRMpUu6B4WwsmzukC3HNA+MZgzp97xdP2VtQQ3FdiciNOZ77f/YH1diWXg09JTHQXd2iIdlMNKHVe0Umhfs9aJuv2ZWzty/+7MahyXHDAGHvoWwYb5LqLKPYMY6dsZy0opCxQePR2pthO7doWDQRQ2mO8KAAEAAElEQVSRZZpRjxl5NXxQkZtmyzUojmrGnUdU+ImpzVgtoE20ZUJOPddzyWNoaUWi3cNN8cIkd8jZomNFMl9x46/oLBDiyGgCudmjVtgNCVUZipOklIlwvTI/jHw2LW9t4MkoBv0dh92WZDLvKnBvHjzUdUQ1vyAKRaLm2PyIvmbCLNnd1xTKMl0VwyVRvHxkkAv1TYf2jqX6B7wdqNKWXATMfGRcQGlNsy+YTcR9KOh//Q1xEYRdzXoQFF8b9HVgbMG1byzTlbBdKMcVXf8Hsm742h14sooYIp1OmD5TDBOFubATmWIS6L5kLTRLa9hpUBJS59n0EXlWrH7hOtbEIhCvMKfEvj5wbkqiOJHFisES+kfK1WJfHFt/4eLfcAKKSiLFSHnoafSeJFpekv+WMHi7x8cHVHzE+DdQEm8yu3nGXWrateY8a5RvSGxwi2Z33hAbgfOPNNuA5IyWI3Wxkncb5noLtiLklTcsswzo9/CiB3zQJLPDrY9s8h24ih+zo/QSdQmY3xeKvUDUI0zPrOMbqquRbUdhJ/LNgWaMCAX77sB2pzldznRpw99sR/xZct2CvIkw7/gyg0p7clLUa+are2K5tMxa08Ya01yhs4gwkpqZ0Y486QrbrNjfM6EamMsVf9ognCLXK/PJIsOZ/f9whnPBHDNJBz5vvrJbT+hB8j9cL/CPf8fXjmg9/jzT/bVCtFt2bxFdJPRY0DpFPdYYvSO9awiVoTUbfLOl2t2h0445OU7cE63nTUuOzcpoHcsw0PiAkRo3g9Y7RLglRQXmjGUlrTes6z2vqcaoFlMZ7u0GGRqs2iGVpo4C7UZyPbDeeQopSXqiGEaEcyw60g0J7xXdJiG7RGkXojvQLjXq6UC8DqxLxJjEBsd4K5FoyAWyVJy2Gf/4A/F5C+MWuy/ZdnuklwwkDvszmszZbjD1glEn/l50mLgj1BOKgEkzmITVEWNH5BS5kQ9oHGKXiJSccyJuKpI4YrVAzjPXdSFuRlK7os3ElDxDEdDCcHWRKr+jz4K8rriU8fEdIyBWzaaJhLkDe+DiDYkdmEQoA19OEm9nynrE6gJRr3TrhfQKSl+I0wtGDrRG0u0iPq2QHAV7NhvL8OBYdKafFbVbqLyGecUfJH/1K+MXhfSbFiEt+zUT/32L7zyuTXSfLeGaad8WBP+KsoKpuKEcZkT8ZpUN+shATcoXjsszNpas1e84EaEakGYlvCr0ckaqI2mpOZaWy61glTP5ovFzBgWoGVEeWIqIlRKzf0bFe0YvWTtHpqdmJDcG5WqcL/ChYKMXls0dg9REVnQQRB9RJ4F9vqc/lORVIMeeVTwzXAfEW8AvjtEc8KVAJkHFhM+GsvkDwi1kr0mfJV83j3wIibQm2vEAW8G+7ak3nkmsVOOGZnkPCKZx5JJX6v496+WIqm6ZkqE+bqmUQO0CmpoOSXEjcXPHeYV2zmTRYbIi6Ez5UqNTT0RQrlvkahGhYGhWpJLo4sTkj2STmNKWQtwhQ4MULVZ4KjGQssS4iEkXxrokxkd8ObFiOaVvr3yeKw5hos2aZAPCJ5yH5TJQzA4lI3lTEtXCPHp8Eqw5czO/Y2c0Qipk5ZB+y1vusJeCMgiKUOPyI3kt8fnMcfUUGjIj4k7hbSLfX0hMCPNGrgaCXCjWnjcncWILfUTLV+Q2wZ++UFowV81yvrKYb2bBUj5xMJLVPTBeDiTdIiVwEGQBRScxa0lpD7gqoctHDlvDSkEWB3zlWLHkNECaiYdv26UHPZB8RhYapwfSNZBOB7LqsO9HapUJS426GGa5Q4gDicQQzthcU1BQS0WxFtgy8eef/2/8v/75/83/87/8Z/7rn3/kPd9hX3Z4XWFuI4+byNtxRIWFvhXslifeM1OWGRw8yprVTzSLhceJ56sklA4pV5T4HcaFqF/BDTTnV+SDovh5RxYTKOjKBTtMuCIQ40g6nShcxbJOTLllbjaIU0CYCPQsOlBWF3QnIBmG8kBmQZ4eiTmSqwFpSwaR8YVFec9+eSH5iJcTMawkdUF2UK2CtDgK9UyxOeNlQ84Va65I4ptxOqG4CseaRrwvkS81znX0AgZnGVYLQmFHSSgKlIgsRhLDwLJGah/ge0XaePrwQk6RNOxxWlMpTZj/wjwHUiE5l2ceQyKj0R89Rl5IbsebCyAW5ptAygNWOaSeEUXA6pmbGAjRM3hNlFvqZuLwegui5t71bEOk8iVJQrPARtT8OmkmauY8Mqw3tEFQ1g1t/IC1PfVhy1d9z5NMqFBRreFbBHBqGYTird2zGb9HmBXdlbiUgB39ecdr/oCPO6S6Y+GJVa68/CIp5w1WzCB/x+UF8RVcvqXutjTXDea2IGwayvk9obJsTE1q3zEfMmccVPdclj+x3pYwad4vgqfwylJmKM9gNepxQClL6q60UrC4Mz4q5MUgsqUJkamZGKoelwSu3BGdpFx+Yo1XpnOkijPz4DgfPzIvW7zZMhwj8djxayopjceICZU13gnuBsF4rBGslPzK1izsi5IbLF8vt6SiRt5+wotn1mRw8pazuOH2daSoXmhJVNMB7Xcc8wal3iGiYuhBVjv6gyOFQFn3CLEhbTtkLHnXNryn4Yd8olMXfBxpqsjvo2OpBMUKwyWwDB2RFakubPwrunpBiQthm/niKspypVAXQhuAhJCW1+6WqfkjsRhxy5m3ULK4j1R1y150uGPDvl/5JCvchz/wsuxpToKf1oTeacbre6R13Gwr1jpwvkzkWHFs9pRFSSkDezrivGUQBf+IETcLOD8wZIWrJj7vQawe/iPQjZHaSBp9QHS/cW0/M/+lQxVX5qKiOQxUlSYVEc+ZIhukf6DlxL26cj8tsLXIWjKUmewDYZbMc2IXNG+/Jc594K4MKFFyaQTBbTAlPLz9J8KLpG/faPPMrg2I+4gRsMhX1i+CeBTMlefKDV4U5HSm+aK4uBv8W8M4znShp0wX1CgodOKLhRAEq0h4VbHkM8M5c6oz+3al3xZIoSgaR/pgufQjn+cNa+zwUrJETZG/IsMO/VuJpyANfyRdb79BPMyKfFL8oAM2PyOniUJLZBDcvUX6y0JSES/OFLtIbPY4Cq4xMIU9s3KctnC++YW8RG6eCnRdstxKFiVAfIUPikY50AWiBW32VCJQ75+xw4j0CU1BXxaU+cqpNKgf/4Ull0TZYYqO8P53UJ85Hi4so2OtE6E2+AKKwrGqV5IaUO1CMQb6XxvifIMRHjV/JnjL43xB6ZbycoOcHFfdM6YZpSRrXTEFDcYyywEbOgYT0eORx+ETtl2pin+wDoI0L/hF0vqFPI+I1wt6DOyKSJ0XwlqRo0XkhnIaUQqYPaM9klRFdjegCyJvvD1KlG0oqwF2A3EbKW2LUIHrTSTTYAZHIXuuNxXyJkFfoz/B5teVm0vNwE8c/Y5xWLisEpE178JMnTqCvGW5NujZMW8yzkm0almLktEmtFUgr1Q8sbGBap65ZIG4Kgok+tRzdZZgV04qU1SJ6yUxv+4xNDhh2SwdL0QUBbmq2Cwtq63gWSEE+BgI7JHDlRnLNTTQLZSlYa41E6+MfkUOG1IXCbVH+z2Fg8vyykUv5NpBq3kLA1H2LEvE9Yq2ahldQdgvxIcadSm41z3LZkbWQFhnhnil/UEwXjParEw/g0wFSSfk8D2qj9z3ntSUxOtIDiuFzxjvGIsPbO09RDDhEV090w6SGDRpOyHFPd4cmG2JIPJQ1WzqDtkkdNSEdYsUW7RxWDOB0ghxQKiJjY6o1ZKLAuqCGcWqz9RioKsEMWjyAv7ZEKcTPvVkcWK2AyZJFmpMHbFdovTfk5s9pujRziD4jVrOOPcbTBa3FcxZ8RoMeXxlsxt5KD2FlwirUWYk578SrGSgooqRWDlCOyGHikJIvtx+YRxGhuKeOM4Y3YELXOaZ42gwlUBKCMNv5DlTZzgV3zwKyWhabdBNxSI02T8x1iOpfMakCblqlLdY8cjOKCpl2ZcLolkJ0ZPDTCw0YtAsIeFkg1QZ7TTiRaKWEsSZbaPpwxugcRjM8oQbM6O/4sTChZrz6JiuBYMbqUpJGRUpFcj1SlYrp6lCRMGUYI4T5fkLK6/fJoGNwq8Sqc/4tGUvb5C1oP1Uk57eQRIgGs62I8mf0OGOgpJSbKltSSEMqlNotcWsBu1b3nzGq4xtE1Zf2diVRTcgoBKCtXkmdxMiDoTplWwTyfZkBLooaZJjXnrCMuJUZlGZRe+QdgNVg9UlYdMSxQXpP2PyCX0yGJfI/gxNhDXRvwrWMbAtMtONYFoFU66ZlhWpW6YUUMIzcmbVF7w74a3kWVjeTleW1VHPjhszE+QFP+/5bUwMm5nLTxeSgxf5EUlD6g1ZJ9Al6pcfGEyi8x33/oIxE+ZcMFcWsf3EL7XDbRb44YbgMsP5yPp1pHo78qm/Z5wNXAXd7j333z3y+PEjd48HalFTjOCqlqWOBKl4NJ/h0qNzwiyCZlyJsiLcREy94pPnaCY6EkIXfC0eKUJJ+6QQq2X1PWXUEFYWpZFTZB0SgT11iJTRY+ORovQYLQk2Mi4dSWrKQmJunrHbmaYqqESkLN4I7Uri29R2xJKyxyXFpAKRTIwNzh+oV6jJuPwriGccf6EVW/bVwOQ8+6pkrRJL85lU7ojSMFYVLp7I6wPvZUcqN5TzPe5zgxnvmYaMTx2+qilyorQ98/MVX2ecDKS+wwfJ2CX2IiB2M+dScleCLBJqWTlQkKqVkz4zDBPiuOKT4wfVsl8UzAWprZFXxViv1EKQXyJLfmGrO7KsmGX5f4IaCg69xiyGZFe2fkNdfmJ3yOx3hkoKKn7k6CqG+56kCr4UhkVnkl4o/MQ2P9OmL4hsoNLc5TdaPEpnmhJKlzkW/8ElaOTmgAjAl2coGsLrB65+RBSWYF/RciVFWNaSuXac/Avq3GO+JtZZcAhnNlPBwUZuSWy2tzi342aUpPeBZj9y8RWySFib2B4CL0vgZAbeqNDDSlaZ6frGddGk+AfYAMEzaUtjHb0q2IV7yFusWNnPF6pfZ07vS0xSrAlCUYIt2V4DMs9IWWDGiasPLATelop/l5lenQjXK+qTQFyfscIj6x2hK4neIpHc3l656UaoHGLdYVLFpzKTbIdbSm7GklxvOZ095fwFPya0VBzGC+/rGmM+8V18oVoiSd/gZOCxHLEpQvqCTK8k+YQuau7Wkjtfs38IuD3wusPqC/vDSvnpRHInnHKMHxrSbsS9Gq7LC3UaKVJJKgyVU7zXK2+PAtsuKCR1qLhjy9hociWZ5yNTviDshmP5wDzeUf3LwkZVPGZN8h/ZnyPjfEVdIjWPmPQVfbryeZF8nT7y2p0Y+h2yXKiLF+p6pL6xTMy0t4pmA8FVqBT4g1DU/iuzWlCPiXC4UjlJPGyJbcuTWKmbM6PZ4WqoN4pt2RLjyD4VCHMDG4NaZ8xtopQtggYnzxzvDCJF/uwS6PdUIiPNiMj/zvbDL2xrR0oeLd9TcoalRGfHQytp84JMBW0TmPzIL/qOGCRb27NLHc2w8rRJuFMkHSR//W5Gpjfeihu6RiGERoj/g7yN+OcaFzv0IlH5I0s48f3TZ27jRJveaKcTxkXa8Qe6TmMPL0RGjBp584kq/5n2H3tsG8hh5cUshKvkk77wu9rzuf6EWBI/5JrN4QvXfmTbCaZ4JYYJP40Yk4mrwXpP4RRLtSNXgtRLllaTziOzN/TCM8wX0ALzIYCYGOYXctywl5L8eEHqTN1YcusphgNx90baRMw6sFaOikDl7omFpM0au9lx3t+wKgeqJdy+MN026O8KgqqR2uIfLXNZcCIQupb9LHDl/5+l/1q2Jduy7LA2pWtfcosjIuKqzEpUJYrAA3+exgc8EAaagUYjAbAqK9W9EXHk3ntJ1z4VHw5+YZqbu88+Rm8tEWSARuJN4E14mrDDrZ6vcqVQPase2RR3pPOMS05xzxG9xc8zjRVU04YUEkYX3HWP3v2V2V2ZHgJjNuHev5Ckpxwt60NNlS/ISTGypVruhBSws/hhbzaBtBjO00Awiqg9t7OFwrAIQ0gP5NrTUSC95frwnXvxgi231HFHc/uJalJY32Ntj66upDSj+4k4KdTksCzsRslqBIN3kEPKFtYicjAOtz9wjx7bK3a0JGWw33Jan5HZiChmlNJYUVIIwa0sINcIccNrhz/t0IOC8ZnDCqm4kd0zyl0Fc4a69NhtR+PeUVGgbwmc0Lz7nCOCoP8p0tQ9fZrZyJyQKhIgjEdlF0L6wph/5PTXF/5qVnLzmTRVuOhwYaHIChRHLnuHSZrUjZhcc4+Wcsiprh2T1Ux3g59BXjuECWRrh7/USOkJ3sPNYTdvJFEQs4S8aaZFYMxM/k3SNVsG8Y3o7mx7iXtNGLuQXlekK8mzES0bHkTBnQmigfOV/M/PpGRYvk0M3YqdFlj/yJeD4PG7RGxnsBlzaElqYrw5pk0iXAuy7Ywc/0Jipc4vpOsDcSk55x16sWS7R57ciqoLXCVp03fm2RJKhQsBrRK9v7J+y9DZzLx+x8yOeSm4Xr5idwdkvMHaUuzupG8ZeYp0c6L0YOgZfY5iQWUZLihS32BNIKiEzjzRJaKWVMKTLwt3U6GlQ9YDaEXqa5KsMeLI+n5gmla28U4cz7x+DayvHUGD9pFgDf34hcbuUe8SyigW2aGtIdOB29tCPhl6W0LtqPJEd7X4aaTagFY7bllkEr8R7jkbE4kfcuK/ZKTXhrYMyGpkua1IFsarwoY7adchZSTIkjcpSdZwtBOvZYd0GdHCXZQgJNHBYqERLa/pTEwSTUYiMYwbJIbQzQy55oEMr3KKJNDrD3rAPINZJbCixMrv64ZoJGvx/0b9BKHb8+m5wX79L8QMzH4kn+BFvyHdb7QqEOqFOBv6GCgChDMIe+AylRDe4TPPBscgn1FFh3g8sWws+zUQhGBvalQ+cFct4jygssA0bMhWQYgXFnVm/ksLrw7xvDA+FhQpY5odVduiHhxbLpxPv1C3GWPhud4Dh6ZAtwsfhcfP79DVv5IZR60KjBCs+cpLSmyRWDPiBk8VDXF9jxAOuhurVnT5nnYA/U1xDYadqWlUhptW+l5Tvh9ZpkfE8Yo4K/YhY3QzUxzIRSTURya3w0dHSBK1CmK0eAyCGRUH8ugRKMRNIlSFQNO+JS51hgoVYk2MEVwcKKaScJYMxYU6T9wXBW4kMwNi2IJ6YWje2F12bA+aX28/k2Udt3cz7SSQG4+bSqL7ShMbLlnC7J8w8wSUiOUTk92wfJxYs5axXtlNHelbhXEZ34mU7wSyG6myLfdNYmnPbBIsypDnN67CstNvpJcD6VCQ8omVlv3NMseZTL1D4ejjGfSB6zhh7IQ1EjPuCKukFh7tDly8ZBQaMYPtbjz+oWXsvmCLllC1iPvvnO1PtO8LvmvY95CPK89mZTYLeq1p3Gf61tLdDHkh2BYZrtboy0jvv/MmP7LhhP/e05VfqdUfiK/vaT8Y0ndH+qC4vWQ0px67Wwlpxx3Bc9jQl8uP4CBbMJ1Cq2deuZPeSyr5nfMpp5I9XRl4CEeueUSfFamW1J9nxE8dai0Iq8XPPQ9CM11h+mnHyyVjF1fSznBI7yhwrDagBMzVhB0SmdX4e8mQv5LnLZKasFjWPCLkhf73Z/JDZKJnbDQbPSGmwGJmdBnJQiLXLWnteJOCvqvQqWK1K1/SM43u0bPGvI0MvaB4vGNdziIX5LhF7E+EXvL+fOd+aBjfJdS8IYnEc36mftgxMCPWPfjww2ZuDqANOE1U/8q8+Tv8OrATLX7aosaZpDxOLQz8E3PxJ/64ZExLjtt1SCe46Yam/TOLmLDAcXaILPL9ybPrBb6MLP6fof/A9VBwXEpaPfNZg2bi+eULtvoTzyqyPC74c4McF3T2TyR+ITu0rFNPp0b0rUM3Gzwel0ryZWbwZ6rpwBrucAjU2cQ41Yj4jdSVaBJnY5jXjGPxgP1wg09HaO9EFTktln3uqGbFtGg2ux1LPRCdQi5viCiZTCIsK7G4sWYLMb6xjw1C9jDuuHChaje8TgtJwXpfKdaOrH1jbWA5VxghaXeRnEe+2SNvXnMQ3xnjkdX3TKsnZZJGVdDfsAdBqmv0F0Mm39jVlrPP2Tc/bLave4lUd3wZefAR9S0jPmfUlwi7gXmULNmBMCzY919Zbh8Rak9bSu5SE4sFtz4iSfSFpb3d4aHFZwXjYFiKkWbK2KySc/2JUm0pR4UKjqcMbk1EqZLjHBDikakpifNIkBsKMeJKeKBHXDy+aDj5gB4r/OFCkwfK84CVG8QhkL0pZimplxmhP5CXM0MXWK93uj7w2L6nP1jmISOKjsU1NAXooUJtRvQcuRQrJyfZ2YEUJde8hZc7RWOY8hsyHlmGN8Sq2HIg7QRf04BZJLWaubIn50zeFYz1CeVqNjbHlXfm9UwxHan8I/EeSDhCNePOLU4ZVhVIWeKgFRd5pwwDtqi5qA3VdEUmRdzuaKYtE4FvfUWIivfjV/yhZsn/lcofKLMVGWsar0HlsCuQOjCvgrNZ2KWCawC1NYQ1UQZDXv033GvF+vREXQyYc4XKe74tkhS+s5mfSarBDDMcBaKwiG87dm2CfED1ka9POY/OccCyiCMoz7gKZF6QppJq7citwFGhhYI0kmWONCuQiv7RoF41a3NEpol8nBmzxK31GD+i/YqzNXJsoJjBLjQXAU+e1O052xlIXOxC7iv8eiVFsHb5sR73buqYfraItuMoFuK9plgqbhXEUPG2Qrp5WCyH9J8xtmF5yoipxSfBnA2ILBK8Q7Iix5pm2mBXS9k9IuaRNhpuxUD+tKXPFMFGVKZQ7YpYNVBgdYaKPSm9MBvHda5w1lDea2YBHkPjJvqjxFeSwTle/n3iX37/zMl/4tPbzEt/p18jgj3T7OinkVwvCJVYt5Y5dPTugMsz5uYd3+KBDRX5XODchbe55mIXNqukOAWyaUM1jxSHyDz8N9wtoEVkEpLuWRHyRD3AOF/wwzfUi4B55Wk84S8fkbokzSeyLMdmJ+Yu0PV3ug5c94nhesNdvzMMPwRaqJagNbKLGHXBBYXLPrAW31DNhkv+Y88vhA6vZ1wKjLpAmZJw3pIGi8wVUVpmUzBNZ1Az+cYgjCOZDBM9q5vwztJcOoZhT2oOvP/5F/705/f8/cf/xJ8f/8LjH/7ItvrP2LImJIOYRqJ4zyq2dLqiWwUpFJjdjf1S0euWMm8IhULNHe5yYs5Gcr/Q2Au+kghbIF/viOxMsUbmJSPu/kb0e9ShQaiCLD1itKFXdyrvOd4DMi5McUsvClgLyqxEKoErI07fyWZHJRTBSJasYnYaYxxaK+Zyoth5/HZiuX5HqYj0CSMTdRVIeSKWI+5e8b7zbIUgiC3L0BIKxR/SJ+bc0KQ7fWpZsgY7PxPFnin9mDJss5ltdMj8K2EHoZZsihVlJJ1rsErykIFBsyyW0xIxccNNe4aLJf2tJp8ndn901NnvjMuMtpCLRNCJdpKkTcPZSjyR9RrolEEsNfaLZ395Ym9WYn9GXRWPw8T+u6dyATl7IpJYzghWxCBZ5g7fbdHyxlZHrOsoVUT6QBwNvqmJZYPMDU/LhFWRt59hk0a6iyH6nCg0yqzspCQXJWeXscRA0pHSH2jkE3GKaHWhLkYEE1k6c880iy7QXuDzHBn2jNpSlCf8ZuI+B+IcCK1HqYVFz8h0QlcdagoUNrBtLjyEA5qMJra85RWh2FOKAmIiuH9k3h9Z51/Y6cj9y47t//HA7ZYg7NGqohpK+nilOP9v+OWFvpi4hE/kgyOeI824p3dvPNBxyTTfH6/EP4DY5mxdRdUUTN1ELRekaGnFEYvm/KXi+frKXXtmMVKlHsMFlf4dV98oNpqwDgyngT5P1OZ3dg8Fy+8Zc6yYQiQUHTEPXLMeJ94oaklx1Ix/2iHWSLXbsBQW40ZcucXNli7OtC9v3L2HTUCSaJZE7CJj1rKZHtjankOwzLFGvhQInbMXP4IhFwwhq+mKSK++UT4klk4wbc5cR8dc/cTaGJbUkt1gc3W4JhEnS6k9S9dSlJqmGHgqLX6pefVbWmkoGk/hKrz1fJoFVDeU+o7RNcsk6dTKp7nnNzniVkP9pNjMmq3StK0jH2eMHrhvHENyKP8OFUqGvEavA7Je4PuBX71lYIBbQu9e2Y4tpnjDdwuFrCj7v6JiRdCSUka61DOGibd8Qh1qHoqcjc/YpIJbbtkrR+1GvAiEjaF871n4gfVWokVVI+W4Z6lKnDywc5Hjumd6yxmvhlopZjwze3onCOsNvXzFZxvmaBlsxJe/8DCtmDnR8RW3Gxm2GW2ZsdgzdfjAUzqgU8F2rwniHZEDxRy45gKxfENOAWcu9EayG0toMqTIif4/YlVN+CKIS6CfKjbTSuuupNsz19EQfI/7byvVtNJMBdmt5eEqmcMryVj2k6Hel4hxQruFjTbMpmG4J4K9cikSOkrWrkLbbwztM0W9J2SKlDxi/FFGx1vCe8F57whCs00DC5Yl8+jaEYUgropxCqR+y7GvGc87DmVJZWoMsE4bYpURjGApFmLe4lJGXRmOWrOVFe3xP7CJPeLzBuEWZhnInWGKf8VcIXcQugc2iyNXJbmxlK8K/9JxahqKLlCcPed65rU+Uqo9ZjNBfiCMK6VUpLFE5Q6mis0u4s4z8xhJskVe9hh3ROUa7z5ymHqM1gjpiW2JMg9YF7GtxRSRU2aY188wnsmiQClBumkyIo2puP7pxknOLO2MouLgHNv0wHWNDGLE9onpXpOpHZvimeKscC8HgtiQxkgVV9pyxi4ghg065MT2M0hBDJF8Y7Epw/Rnwn0ljxHbFNRlz7QXyCQIQ8d1tFQhkvo7Vvz4N1OqYT9f2JIRfGISv2E5k20kL+WZatqyEZpWSUxZk3xJmjStK4l1wpsTh7njaCY2ZaQRAVtJ5nzCeyD+iQtbBu0ZixEfLLs3SXWUbI4refbPpPmVxZ0JUuCLilFEsqUj5gWLEPhBoIsdBwT1fuXnOFC0O4qYcbj8zHUaKK4bbmy47xWDgkkp7nMHauRhyjDXBnzgeL0Qz2fEoFD5kcw0yCkyYEhlZAqKNTN88H8mH/aE+IXlUeCjIEsDy+ZOGhf0yx65HDi6mtWsrKy8fk+sQmP1SuPe8PoLo1lxlCSXqKLj2UiW6ht2GYnFr2QuoqqIjRJWybUt8PMD+nbBDjuk/4jsK+aywOicem7o6oTnQGdveHtGh4kiCPQaGNIDpWkIqkQHPXDNoTw1hOqVVLQMbwtNWjD5zFDXiNea6SmRj3dWGSn6lb0pCfuC5CClHwnlmBzJNjgjuBKoO8d4XIm3CdTIRh8Jw0I7w8VDJDHnmtXNTJll00A4GVIwCDlji5IsnBk2lvxyJ64LXuYopUlRU+WK5z8/U6onQhZxlWftR94ud9YV4uGOJ0OnGT/NJPVMdcp4272xpsTTkpDOUemOwIxTBanQNPOWMzNCdtTHgvC2Qa+CTrznuEsIM9GZLdfXG23ZgF2p/IzpD1T7KylZluWK7A+MNGRxQ+sUvXhHvbmRpw3yw4a291yiYafAvPwXhiVjni19MVLJka5+Zv3XEyIkdNoQpomajnvlEV6SB4u1M0X3jav5CY0nrZGZgEAQ3Eg5e3o/MV8mhLakW8GVHFdotic47d6RT3cykyNVTvPY4phx1wf2xUL/fGPuDfdas5krxDJhixHdC7ZobvXKYRKMd8V+ucHuiEozqYTK7qinO1O5wQ5bXOOJb4HU7hhVRb5qxAL9yx+5+CvT1aM2Ct2dCDGQaJgLSfIZaVQYNbKGhcoM2KWh72+M3Uyzzzgbg5s2qOhIIZJ0QtmK0QWGIIAVbwPTuw3+/xNxWhIZCdOVsHq2UaDURL+UVLcbepH4zhFQiPU9Mfw7/UXzPww7koG8thxFRRyeKbYjwdek8IoUT4h7hlQLprYoPMlptLQ4fcUvmlVGHvefWMMzj77nW67Y5iXpFhjnCKumLB3DcsNklmmZSEeJxtKnCjlbSv2JbdmCzAlqhxcKrwTBDpQCerEnak9cFLapUOnCcn5gOf0719ZQqgkTPeWc048Fm9YyCY8jYIrIHBXRfGWeS/ya4VfB1gdeRMNzUmQ64EOPiBPfVeSp8JSLJUnNNAp8+0oxWJAB6RuUKpDxX8EVEBUiJGJaUVoRjGeLJOJQnaR6SBRWctMB+SpIRjOJA62PiFix6hwXHVN6YhILQnk2/SsxjaTWwpJxICLFyFlKnrylzxN6M/K0JBa/YjvwakarB7x9xvmewzdIRc5UHClETi8XqtBiiTwXIyFEZmk4+JHBfkKrPWF9YqHnEAp8LdGxp1YO/A8LZZWfCOkB4y1Ln5h0jysVXl3Jnz6yQXH/tNC88+x2nrNPlNmC8yO2KtiFnt7usMuV5PcI+8brt0fKd+Dtjc9xZqo3PPiJ3VfN7BrE+wWnb2Q5LKIiFhI/epyFefpItb6SG4PeSZbzN/ryL+h+Rg8jaWPYdn+P2v3wzQgG7HpkrCdkUpgxkGRCGE0hapzv8GFg7CSbx1fehj+xUlO+/QtJWVwdsSIxv+3xduXkBP+oDZ+0pYia72ZgL1pKSp6aC3+dKlglkQv3UtOELau4clPv2ekRNxvysWbQCZVWblbRugxDifvJ0Qz/hrK/ML07EdIOmwfe9AYre1S4UTQXVPqM9D8xk9jYI0EJXq/wxkgmG8SjZ+4imybnjYG9P9LohahKrAeSYMzfMbx1ZM2EKifWNHO1Jx5WxSLOyOeKbPC8ECkpyBOU+Rnhe2YahnHgei159+jwl4KluWLWFbduUb1i1R0itSi3Z+0kj9WdWN94nfbkYqboR2Tr2c4a3/yM8R1y7oh3wZg/UY+KpBwvs+ShSuxNZDIvuP5AKiyHt4lcRHI5w7DF1iM3nciSRrYtyzpQqxbdO+Km5fLlh7jxxXwlHy2ujTwsJfIqWauFB5F4G87E+wPb5zt+iXi342Kv/NSUuCHAfodbejLnkLGidzMEhS8q3Gi4O2hShg49IZTAJ5qm4hJGDrrmIm78FMED/nuJ2BkOM/gkiHlOzFd0rPjrDX4+7ygeXhnzA7ac4RYR/pm87VjZYTjhZUYlvhKWA72SNFWDMB1JOZyRHG4tdqfpo6dNguWlpy8LDkkzhoE1NbA6xuKIFSvzh0jnM5afR3ZvK0O+oZCSpdUYOTP1ETvkpG1kbhXFt5HxXYVtMviyQ1UzRgfKpYH3K/EmmO8HPmjorgNKHejiROEUL3HhWBbUqUF9g+rRU30veNETx397I/vPBSex4fF2R1QZZxNphhKRX1ibB8SXn5iyOzEOyNFCZRAqZw0TMRVYMeOeW+p5YE2JahXIR4G+nohVjhi+k5tE0ls6mcjWVzrZ0IpnFrfDoXlOK17P9DeL3JRMPWxzCctM1Tq8tcTLO4oQWJYn2PTodUSNexY1YH1JEQVTuDGlEWMqamNY8hzcjOlXzum/Z1PeebOa3b0lJUmfRrYORrlgrcTtBHEAWSRmodnkiWk9AxEDZM3I68nwcJrQ840lk/giZy8tIXWMc0CqK6HcMdwjbpcT3kYcmqxoqYRnFDldCJRj5GOrmDON2NwphWJRCyr+8KwYcqL0XOpEsZEk73DBEe+RQk1ocpZeM29qcjdzXcGkgTFkfCgi5reVl8cNMneE8DMeR7He6fNIEyuEl9AKPqdHntNMoTrcuiVbOkJo0eINXQyEtw2PTUmKHv01QzUZl/yKSJp0HykqgRzxaF/wtRaMquA25zSm5dw/c/9/nth8uoCGzifW7Ey4XHnRM9F3XHyHqjQ+87g1Y84anAz4bKXJbjS5o9aRYA8Er7GdQoZAX3kqm7Dyhw1YiitlCDgSYT3SZQeCKyhXjRgN9mKItqQ1GpaZsjiTLW9oX/54oI8R22ZUwqDjnegmagZytyEft3zlGdIWmS98amAzKjZZxvcCUhYY9cIlOtZjxXY9EzUUyrEvM8ziyUVLts6QN4zTSjo37EeBPVha88aDqBjzivXdRCiOxOnAYv6Ojk+4b59xJmMlMGQDxnrqneDRa2xe8lgYMitRLkeLlXWMpPkTo3/HTjps0RNj/MEfnweM/MiWnNUo0IE5G/HGYAaQwRCPkZUrTgqyTYY0j/h+S6oy7kIg2zOmc+z6SCnkjxtjm6GWnjLNKGa+0bJuBEYY6ujQ8Uo5rKxmpZwl8a4QucdtPbvbhO0lpR2h3CNGiZYlcZVgJtA5xdsGJVaGoWcyAaUEa5pYa0devdA8GqbxxDD+V77ff+Pz9czp8ldun77z5e3fuF7/xrfbmZf7ncvblX/+1vP75/9CCpK2caQ4IeecLEE3Rr6+/n8Zzp/4/PmfGU4XZCZZ/ExgRzatqHXGplcyPaPqPVqNuEvO4GaqckLXBu09SwuZCWRGUIqV/GD5kkfuAVY3cO96XDtzFw3uFiEkXk8nLt++cJpe+evrv3A5d4QycvUdN7Ghu1sMPyYTSpSYqWFfH5Ftgd1p5m3Jb9sjIk6I44jIArn0xPMGrg3Hy0opVoZmh0kC+/VO7D5zcmfidSVliW/5QlMEOmG4ywq5LLw6x1v6jSnbU6oTUSlmY0kqQ5aJebAos+CLmbdcMo8Rv+6p5YIeZqKo0LJATYohCfyQmJaAXyJiKsnCSCYGCnGn1IKWElX16KJkUJIlm3EqgoJKj5QqotYRPZ2QPmcqAi7VmFwjdcudSGZ6hDYof8OuPaw/0KjLBZwvsKpHLwEZB2Td44t3zKVk9YkuvdG/TminofxfKZ6+MAdF71YI3wlmISTBddH02vOoOmy1ReTv6LqZa7yTagdjBLHBmYFkcoRcYFgw8Zki1lT5hF477slzHj23cyRR4uonVH9AyCN+XnBfFuKs8P6N681RqXecB8EyvHCpbwzhC6pqsdKRZ5J6Kpk7gVMHCjrcnHB8IzOBspgoIgzDFrseKajJc4fYCsyTZp8K+rFnjJbFKrrpbxz2UIUOHQV9o1j3NxAFfv8IjcCaHLEtoQxszII0N7QNfDtPLEtgkg32e8GQWXpp+b4ovoSeNUY2lecmDOPlSHbqyXaRqvoFHSXPHqgsZge7JfJMSfCOTQf7YU/bBm5r4tNLpM8PPKWaUAtclPQvgXyJ7L5ExK8X/iuW4Dq0uyDVjUUJfpECJUe+mjva9zy6HW7N8F1LozrCPaFcRFQleasw6y9EndOVn3hLMx0ebR3t8Z9ImSTVV5S4kPkXrE/US6IfI8PNM8SZ0c+46kYuB9qiQ/kbacoY/BONCfj0jjI74q1Fmz1F6rHfI/qvL4SQc9UbXque5n7n3SZH6Z7ZvP6wYLtHYqNIWnG+H/G37+R+wmUQhWEVD7T5jWg/0+mWL2OO0AE9D6gbLF8fMccN1i7oCaxQ/DlC6i+sNlFES9Z5Nr5GPNScd4EpX1n2I+pdTo4hC47LrWLNZ+QSyGuFXBfW6sK4vXI4ROZ2YEknhA/4vaHYNKTCsMm+UeQFzj9wkzPCvvA8bliCQ0tLTKBUwW0t8NmNfJ+xmAqjF0z8N2xMXDwMXc3gJSI9s5QVD/UDcnLswkpcZopThlYlY0hcbc9pHYjDyHzKMCax33RUz54lSUzpKYcJLzTCKQqvaR3YbCELCX3OWK6JtPsVGxTiLXHrBZ174/fmDfSV585R6G/Y9xNb7VnkzBOG1FWkaiGlF/KnluM80IaF2VlUpmnOI40L2G7hU7Ak+0LRfCfGAjUZhk3Lgy2RvmF6r1nWhpRKkh/5rhTf7cSwTdyqA5uHEp2gVYG0BN7PgTxc8OYLY+7p6pppM5KOA/E/7+FWIT9ZujYwfFOEZWYpr8RUU/d35iai9xq0o8++EEzkvHyGdQO5INeRR7cisxwzLHilKOcKu49gr4xVw+Rzrn2GcJbUlrSuQMYdUUhs/t/wc45YcwpzpZEZdV3gqhf6zYwQGe0SMZs30pSYSgNuJuqapb1TphrKmrtV2N2RqjCk+Y7KcirbQz+CLVjtwlAAE5hSMsdEoXMuVtGbhjdb0ZaRPL+zxIlcTSy3//NMLg1ObjilkmKc6LOF++HAxIX8NcKoGUdLUI6+Wtn6mYxH2pSxHM/oZc8kZ2IfifP5B1J9nxD5ghIaZODNPjAgiTEnfssIU83teOTSdoTOYYiY5cgSGvIGxPiZ3PVUo2cJO/xs2aeWd1kiiI7rvqKYWjQ3vO9xQdJvFHsvKBpNbUbMkvj59YLtZtbOUI2/EfSMqDzdOqMXi9UaXygGbaG58yZfEWLkoXZEI+A+oNtkuKeMrb8jJ4Gsz4zrV/zjf4fd/cIZsJcrJI1kSwg1SfSs+R4rNZgWNwXyxiFfPZk50SwBkVuucUHGT2hnSRqCvRLETNIl883jUoaoB8JYYqMhdQGtDNZJ8qZGBgHhgVi8EOVCTN9RWwNsUfnCOHvOcuTnqWYoblS9waecGL5wv+9xRjLbyONbz+V8x2nHzw+GdXvEDPA4LpxihnrJeXxo+V28McnE0f2NORy5NjvoV/b9xNXm7MOVeYlM1RcGHnm65hSzIaXAcReZZsuc31m2ltblqHxPPBR89xekUVSjR/sT2e2RmPeY2pDmRNcGFhUobIWeenT4gCwmZMwQhh+3XXaIo2ZYRuZV0/iViMaPO6R11O2JoB5/nA0fUHEk4EiFIzYJaFiXCeEyutBhRc0QBLkfiKMgSEtQJTE1fPy+shxG/KwwKtFfOl7KN9KvE/XRMGQJdVP480D8Tw0vhz31bSGvRpaxYvaSzJbMXhDsTGU0q/ornf8DpbBE01HrhiIpAhVGfGecZn69aarxykkvzH2kG+80BqaUcR0u8Npx//mOioZ7LFhfZmJYaOPPiGXh5fbKNDtit+ICxFNi6ReG8537L38keou3ka4scOUT2S1S1DOrzFmSR6qEywSnGZwLVL1BEXCiQ5clNxH5+/p3jP+ZafSINjKnke1rRLUZDAGP5FN6oXhtGK1jnK9k3QW2K7OTPFWG/uTo7zUx3NmbLfZLwC5vpMORpyGx/cOZyVgy2RL9V7SvMWpmqSTrpKj5xHl6QmYFnz8IHv1HtuKO6kdSp/moNnxfNB/tD6zsxfaMa8IOFUbdyOpn7sseZ/+F7nxFXD9TSMv8MqKrnGfnodSM5y0iToTjhjRLlhDIZGTa3ZjpyaxC1TuyYOlpEPc7hIWlipS2ZHYL7jQgnwLDdKNKP+HVP3G/vbF4IAa0iRQTHGPE9Y47nylfPpJNkTF6zrcXJtmQNY7Mf6G7L6xe8rnbUfA3xlRSKosSCmVWcAGtIeaK3GZUvMD57xHpSPXTgh9bSBeSlrizZFsrZjmhppYlFYTrzK5vmH6eiX8b0bst4punLJ9gurLsK+IkUGXBssL1LqlERSEdA5YvYqCoLeqW81reeBBbMB1qA0tW0GQFYpkIfeBpKDDFjl0dGFbDIDqy5itqbPnbZqQqjtQhgjOoXFOajwzdlbs8EcM7HrqIqiZS5lkLyTUbuNwTP09fMccHTFiI4UKZnhkuM7b5wl4/sJ41qdLg79jZot3I8LiSr44oLLHIUWlBvQg+Fjk6e0EPJWW5oV81l+03SvfEJg9IcyfcNYdWQVlyerxzeOvphCeLiVuw7IVlzC/ENrLJM9QN3HglNAbVB9Qk2H5sCa+JMb0h1SPHeYPNV9YlYLaJwtb8dwTGukI7xRoWctVy1Su2O1K/9IinJxyfOac3nsoNaTa4UVHsHdUaWckJuaD4lqN04rGd0GOPTBW63iLVxOgFJZZbW5JLxT5YvP1G/7KhFR2dFPi3HdnWQX6k1wUmzRxlRkoFRemRYYCpZngdGZ/+TL4/oXTFep4I6sbP2iJaR8gvzMDT+si9mvnaTrS6Zkwdcvc75tsjwVY8VBn3eGP/pWRyFa5OhO3K6FZOQrDNS665JdsOxFng+xuRBzIvWasRH2dak+jGC4fiAaM63s41VRYx8xtXsQMryCqICnbZiZMd8fHAKBXqS+Tx2fJV57Tzjo2byYcHyGeMmshPBSJbuagPFOE7UVc84VG65Za+8jA+I7YZ0zKwmoxDnhNHxR3YKVijZQxb7H2gOVjckyZ3ilR5yi+RdbcQRImcGvRxZMgTjYRPYuH91HLZj7iz4V15Zu7upPjIqBqWLGD7BItk9CXXLpHnCcHvFGFLvv7KffsPaCuoRODFLJBt2Lgz6yAo3rfYdWZdasYRrFf4lGhDRlh/J2qFnWvkpMBoeL3jHnfIpeO17jnKZ+5JYipBmRZ01+LEFpsHhktHtAW0F4wpWe+WotGcIxxYKVkBSR9/w9/2jNYiE6gb8CQI/sJ5PbBbGuRHzWFKJKMR4QGpVqIQXD4IpuXIP2iLrAMxk1gk/q7RQrHcA9nSMIuCq1+pyj0+CSo6JqEpU0VYC7I24+r+xnH6CzGXzMtCWQiGSaOSp5py4stC2HwiqY9U8kak5LtylNaQnXY4nRj1Sr3s2JQ9yz1g1xm9S/Q7iKpH339cFGO75yI62rRi3MJoK2R6ZitgDYnVOZo2hzWn7SZ6XVDkK9PiqPeS67Ri7MTWdJD2DKcZc2jo15Z2gMEodoce4wyj6XlaN+jnluhm1k4QniwsgXG5kN4EpRyo+mcW2SNqyaQMW1fSZ3f0oElxRsVnoruj5Ez3krF/+sJZHCjdTLHemMoPmCxSVC8Uw45aZJgNOBFZ+oFqWxMnB/kjfanY3z3WvpFtDyz3b0ga0txSmIFhq5n6X7AXMNsLeu15yXJqd6Ugx4xgCvCthXnGq1/I9EDPVzZ6A3PLWsw4DNsAUu8o4kh/l+QvJYtYYDujg9CoPLKxhi4r+CLgg9E8XO8M+wvl9IDPa+z03zCmxXlL4ye8mynGHaGA22bGYNFVIlIQGBDhQC0s3/p/oBN/JYuJMquQ/USaDWqYESJHzxohZkgLhUrINFOn6QeZRN2gBnoQs2MtHinlgpsskQTZyDbfMW07So4IuaBuBd1l5l/CvxJjQx4WXp1iXTv+4/7/ytxHlvg70Ryx+5LlOjEeKnADP1Ph5YCUWzZp4assqUuQcUH4nD6XmPcV2Ro5B0+aJLI9s6x3Cv93yO7KiGf3bDklOEaQdaAJBdNt5aImVCpYA0za8jRrpPRULqeYc7ADXsISM8pCk9IJkefo7EJyK8uaiLWimyXf0oZ1PrPfzqhsAylHrQaWCUNP0p68qxmWC9It6AR7eeXMj/cYGuIu4VSOmzNiMdPlPX8TBeWx5ra+ctTvYa64XxPSdmS+5+1zQovEdINZ3vjj4jnE3/my2VKrz9TTBsPITWrKqcINNXIJBP8PHOSVW9ejgqL0PcJuiKFG+Qu/HB75v/wPH5HjQoo7+r9d+cNPf49tJMV65fCQ418U/+kP/4lbPrBd4P7tlVPUbAZPNSqKquRp+8Af/v4/83JdOfz3/4FruvNhd+BxNqR8xYlH6lmho+KSWZqYUFKT2xGrHhi+DBy1YKgCQgxo1TAvGX0Q1LOj6DK6L576g2YkY9/v2dicmYHSvOewO/CP/+EvyNRyJTENDl9EyvtKHRfWKvwQtQjJYCb6vqR9sry9PrLf3pg3d6buQLHpWRHUpuFcLNho+aZLfo4razhymEduyVKYSLgb5P2A1Sd0uWVezjwcWyIjVlTIDEyTs75tSN3IkucUIeLHG3M/cclOnHzJPI6U4kdyOS8Fgg6R/Si6tzZxfRUQI4dVQbnF2zeWU+ByjuwawWUSrMMPRJsSI5GJVM8YHI2t6XjBL1eu3Y1pTAgiTW6p3gfW2LKkBRmOXMYvOPuAGDxvpyu56HhzgVhEzucLJEHIfpAh1tMb/PTMCwdyFclsoAeOMvE1KynmgT5qmsc33P2BMSVSMVBoaB8y/lpdyK85nHLyw5WwWxmrksIE1mpF+pFBK9ZJk9cZtR8ZzJ7Z9RTmzO5phs5yij9TJEG1f+SoV2ymCMOKlx0i5ITScHAnxLeGJC3DEinfnVC+Ze0ySpExPpTk7gux3rFZHvmkO4RIGPGdze2R8fmFMxl2K7mmkebpzhIe2ckzpf+Zby/fkXnGvD4jxYbvFt4nhd5+IrLhdq2ImwxxnJiCYbkVmMMZeVPItxrfJCZK1tLg15zHo2G6S5J9T65X3u6CTJzZhYW4P1HEhnt8IhDwa6RNiqvMeZY5po2E7b9RTjfufkuuczwnZmtx1cjmuEO+VWRrotFfGIUg2/1GvlZctOCUT6j7DvtVwp9ztvNMUHcuMSfVd0opEJeCbrgg6iNlbehuGt194PBLTw4wl8yP3/DhZ74NI8UMe9twL1bOneG9iCTbs9waZP/IsheUt5VZZaj7QKoSb2dLlleoP1qEWCnXmvWtZx0DiJza7whWsfYzF5ET9xIx9+RaI//UUnIn4ZkPK9LDOv6Jb/5GkSzlaqnTFZqBqheIxSHrkVLfEOHPLFtPuBh8Z8meDUNlQDhs27P4DX8Wkb+qkpKJkohfBfVqkPqBpXWE0CP8A7P1fKekChGaBf+6oT5umcXvePOOslLMb5G0S6yTwMSMOD3weHfM2xPpwyOLVuwZeW0WJF9ptn9BXweGRXL9JPnw/J0m/wV3sBxDIroMrzzb5ZHJBFz6RtBHMj8jM4EMCekGxuOBeon47Ey5yYmix6SM0XSI+IgRV6phpCstsqiZ3JFor9jR0hQLcix5vxuZd4LOTmSnmm0UdPNI/myxusDrDBP+nWN5YM4LVnbwNiMOGeWtIzs2dMO/4tQ/Ul49q4Al12ynxOIDtf3C6eyoTE3KIJqct/gR6oFpTdQ2cRl/Zbd/oHv7zuF9ibtoXHVH6xKjVppuD/E7zjqyvMfvS14vsJlXglNkRhJuEdUI7sqTbp4y88h+JjM9fVFj54ASBjHl+BQ4hBPxniPKG0o3uPVMlbX8iwo8DppWjfzp8Mpr2SBNjuoLqA1z2yP8yBgzVnmjnRrqqeE6CLa7SLeutCbxKity8WN1eRta4lbjlkdc2OM/36namiAFq3SsoUbHinM6044fULRs5wGtIG1GrvPK3nlceqQnw9YjHQLVG4q7Jj28clMPFGXNJG4YbxDnyNou2O6A54KWe1I2Ms+P5F6zFl8wVGwHTegTPoswjdQauOVoqbhrx+ZPNatObFJH31RsgodUEaeSMr2xlo8weIZ6ZTQZH93CmgyIM93fVUwvC/vbiLYOP3qqncW7HbbuGfoCqxxCSVwmsG7DrjRc1YW9h3gxuLxABE/0F1bRMNmcUvw7dnrGSQFbQVA3YhbJXEExDCz0LPJALSI3v6PwI3rqCYeAvViCmTFbTec93vyFh7QSY8QPhrgZEGtk/j1RN4pJJ3RoqSXEKPHthJcB1UW+FzP5mrFkGWZ35rQN7LVF06I9llTOvM05qwnYU4FrclyVk6PQXnJv/sr++98xmwW5DdRLRpYlwjlSdgvv85xJvODEHe22CL9DDYEgAo/hzkVENkFh+iu6z6m3ibSrEdcTPnvE3C4EJ3CqZNEXpnykyhJ+anDrwjADSyJ0gsjEq7A8msQ+KVJmyDjQxzPFusW8SNrtO97vH0nlwpQKWiV4e7uTPX8mq/4jF5Xzvl/omhNKnbj/+o7sY8YQBOdiw7P6K2SR+E3A7sBbGNk/9Ah15Ta0dCrjYRBcdppFvkeICzoNNGpHtd7xLmDtyPC0IbgrYmkp8w1qgL/6CtN4UvjG0rWEowTl8OWM6VZC9RPlzhPvGXGuuaQzao3kJjL7AnNXvM9numvJVa84l/+fzF9Jr0dkKaGvSM7h6hk9B2yesbiEx5JrjZIjzkKvV55wrOUPtB0EmqniGCGZn7ivd1KmOBw+8N9//A8oJRnvr4THim9DYHP/xqld2SbDu7eBy/4dQ1Hg18CgFCkl6ngBVdM1koMPZCGwJpjLE8kK0johjGVJiUsvqcQDMk4kuTLWE9USkVVJumZY83+Q64BxijV4TD4j8ldi8UR6dpzOkuAT17iCDrTjG2lJLG9vyLWFv1NIbX6stwhDaRy8BLQH1dRkkyftNFZWKKXwmUOmDlVK9CgxXyZu/7gnFRPhXtIExSo+s8q/R3ydSOaGFgYTGsbsNzbiLxixUuMw5g8sU8F1unNtb+TqjaFsCSEx3f+NevNndARVbJGpJErDhKNmRnx5Qjx952M3YArNZF5xcsekZuaxpiw1antn0BWmm7glT/PyhswrRHtl1Jq5e8HXCn9YyU1PiANFsUHUJe8f96xR82Y+k9Zv3MdH2ixylwNLEHQho3QnwmpYSVA0lL7kxp6UvlHrV7LUYoREG4nJB0JTIi8Vdg2YXJKFyHBtkKri3XbLVNxZtCX3V3Tnyfc9sbwj9Ey1q/lwzPFNAaUjjQ1Phw1ZyPH1gtSKv9v/QtwkvhtF8op2rchT5O5X0nTHTw1+fmGtc+oPW/wlIfQVZxcqd6RaX/CtQr3sGWTO7tiRlS06fEaHme7ecDJbPkZFqRri8IbbnyjUI6u+o149S/ELerfiVcemWMn8ysEUROdIrqOKNUPr8bOjWizXt47484AejlTtnqg/Mt9hIuIcqNXjXp5hJ4lB8WAE4Xpl2b4j+pWOCm0LGrmgZsU8zRwzCSJn9BP7p4qbE9xkS9tfedIFN6Np4s90Hs5vI8Ep8ncNt7GEZmRrWswxJ5gTbsmxeqV0BvNrYv67mVopUjaSRCK5iWyqGEOOLF+YRMP2oumUpspvrEHxF7myqoi8T4znGf/3GenV01cD82bP+9CjhwqyCVnfydZnQlkggMtqMFkLN8m8MWzCV8ankbpQpCXnfqkxhxKlzszikbD5xmVqydOZTFuskYwHWHrNv7iZHZ4mWFw+sYacbONBG6xyvE85SVZkS06oAym7EUSi35Vo9R2jFXoN1M8CFwqyYWW6a9JzQj1mhLLi+9uNejOT3IyY9oh2R+XPXMecfDewDC0+Fdi6xww3Yt7y7m8T559LsvjCSOCUHamToywq6unKiympzxXS3Ml1g0Rzr89sv5ZctxHRgTcVcjL4UvAPV8tlk7FfNb2A35ov2O8bbKXobjva9IqeBmwJXVaylnuy/cjFL7hsz35IVHZC+Bm5FLi8ZOgcsphRpSSfapb8xOKueP6A7By79R8J2x+ywkpVqHeBlHbk3wRvHwqesvWH8BDLmgKVL7D3CwZJ95AThYDMseMNfz6yViNO90yXA3EbWdPMVg0otfL6bou87VABFgXiuFAmWCpNo1teCsmj85ThV7z5O9zDJ5YYCT6n9gq5rAzMOLGlqjx+uJDRkL3bkuacLCT6NHCpfmHXz1R2g/hqCX/nyL5PpHcHLtmZuCS+NRXPN2ASpHeGOpyJpmGcdmTFhuW6UG0EY1KYjUXqERbNZGqq4hPRPLGkQCBSbTM+rp5ZFagUuF1n8ncCLRtGHzicNky6ID1Bmq8IsWDvinXjWIWgEFu6fAspMntFKRLZ/R0vVeI5vlLtGr7uNyShac8VY7Eg7Csde6Yg2I2RjTd8ulZQjyR27PcnLgEa2zKeRywCUUVYBe4acLtIKQQqKNhoxjSgdMEyOkTtMU6TqpledAjtqXRBuEdC7Bl1z7awTPGEGi8I/YSJFUPzjWM4MsyP1GPHqktkjBA1br0RrhVTqdlkLZOaKN7uNFrid5FCWWJ0yOi5C0uZIq5MxHmlqCOzbKitwnhJGy2D/Y36k8ZuDnS2xrcj29cD0zASlMKklucp0udb0qkj1lsyBoJ/YsxWmtxjbEf/rWE9LigRWZSgylskEK+GLsvY7EaW+yOxjITDgkh7guqJjw06Je6ZIEsf8WZlWWuywVO0jnWO9JdAU0KvakRYmGJAFol03zIeHMVsIZ8I+Z3w5qA9I6aSHs/mZc/yXpKmHwFiPPSc2VDEjtEZCmWQ25GrOpCRmMortnsg2yiyc2DKJMGcGOUHlsUgDTAKQyzONEnyYUls04VY3sjkiJMrG3lnfO4Q+Qvz5Svz7DED+E0k5RE9zxSqREmLmj1rZng9wuIXXGWJSTNZi0SwHBSzDESfoXKBRRCXBmEKYmqQUSJRCCnQdsW3FVIKtJ7Qi0K7LQ9VzveUM+mccQncnET4ChUc005gU0nbPFKWB97ZDVQWHTN+DSMvf/1njn0H8it+PCE6y/aXiKl+o9GeJwRdeA/uwLbN0GogawTTyXL2O+K0smNGGEP2q8S5FeIfuXxreLOOWG+ZksEMDYWbsHNB1IYghx9F1coiXE+z3XPbN6xaI+cXcrFAsaXalD/8EGrCZz/KpcY6bklghEcngRkSQgTkLFBFAD2y+Eg1VpSzxdgb0Xv8mpilIkXIyhErB6awEnlHrgSPwbJ2Aus9Llmkr8jEjDTwPHs2fYOUGdZMIEfuO9D1gWJu+El7dFDoOHA2G0KVU7GhbBUiQMaJcueoH6FsHbv5DcWdnE9YD8X9yDCuCDES0kpbaPb1hKo9Ps/wmWH8qpGmYooF0UUGvWeMguXcI8nJouN5/AmJZGFhm3qU9rTijnICF/bI4Cm2NevW4Jctt+8RHQ3SCHxcGPYjKU6w/OCsZx6cvJAtksVqBgOpzYjxO3F3Qw0d1UPg805Qlo68rlhqQ7e1P+g+K6yXKzIaQj9inUHIDXNpuGxAx5JCNFzK95QhwzmQ05+o5Hfm74r+6w8EoYzQdoYx5vRPgfusCHZh8a/03yrmuWXzz4Z9NjDZE6/mX5DjypsYqR8NxUeLeKiYc0U+NTy9feT4VrH4B6QvqN0R0xuKjUSrR0y1x4gNuX1PEAfGJce7ArmCdzNafcD5hZgki4DYRbLhM9XmRCEbYha4yoTCswiNnxSZKBFGcP82cDMzdj2jhUZUlrJNHKqSjJawyZD5QjudkFnGXpf4QlG3R4I5UL2vOOw01aOj2T1THB4Rz0cK+wDtDlVrSnumvH6hmM8oAks+sXXv6NYDKY2I8oYRd3apJc++0TdHbkvGeznwH9xKZUbmpWdIlr9uHxD1Fet7Iguf8ztaC7ruI2cGCvGVZcgomwVQXGdDuiucFCxyZTEz+B3R3JjUG7vqTvntV8Ihkoc/EdP2x75ovxIbwaZ2zI8rgxkYc4EgUq4Lmy7nuB45DJ5W7nl0kFnFzI8PpUn/QDdYnJ9IauE6eGKUiPKOqTxZHGivgVWN7KdAa2q80bhbT3N7o6l73i6G5TUR8gY7KNy1B9Hj/jhhxCuuOPHrpxPusmF3rBBtJIU3znnJcjas6sbUjOjfHM3vHcNgqIVhVBu2TcPcBkSdmOyGx1GTZMdcFvR9y6ssWS4rbj4TXKA1GrG8UIYZowVGvUNLwy195NRucJuEvI2IXhJfHTIVbKQkLQeGu2T+txMxnNnvbzyKM6rZcG3f0/WW+jbQupJlvhOdYNrWeBKjDrway7xKjNCY1zc0/4V561nKmhAjapWEeEeJV4Y4cFUBMTkeS01g4KYPLCoRlxuxCzi3cEazekHmBfJcA090Y0T83YSi4/emZZMZ2mnB6F+ZuJDagvoKadvwphQXB9E7MtmzZoYnH9hvG8T//kj+/YQKAdmu2M5zUgP1p1eexnfs8xoRck4PHaW9k45PxP1XTKzwAl51iVwUH3RJ1oxIVzJXEZeDMN+pdjl5TMRyh0g3kq7J5DP7k+CgVpL5ne/Kc1p7BvWFMc/4st1gjwN/Ob3gh8AqdziRuIiZc37BrQ3TZmZNF0S8IjOD3+T4jYJ+Q50/Ue8/U4+KrXwlffvI28nQLI5VfeaLGlllYkqR261Cio4w5mz5xhx67unvkElSIlDzI/m445sdGWXEzwVTdQO9x+YToj4R5RsXL/isau7S8ERJlvWovSA+a0xSsNuRTxMZiuN9w+Hu8DKxPs48yivaPaG8Iu0WLv6NvDKsQdG6xGs0dOPAGr7SxRujjixx4lJ43n5TvIQ7XTFylzl5uWfbWvp1Q3bv2YcnLtoTtldcEkxiRYuMdDDEHCgSlzxSGSiahXyauLuBUz2zySbKvMTJM8fpzluQZKNkm69k3RHlI82vgiAENn7BNHDxOdQCebNUyWLuN1QeyLeROTnCYCkPLXk+48pAKC5EU0LjWbIZWSvWqiZUK/oi0N7Qry+85Z5MBqpZczAP4D6wDUeqvCR2FRmOavwLa7yQzSV5XaIUmE6TbI/d1rAXbOLAYm+EeOdUb7jeHHGWiFnjfM4qNsTsRyfMs+JkhVcVchoZOrAhsZ6uBJ/hfyq4GQhC8DpkRLMlyQ0HnxMHiV6g95F725I2F4rB07jEmgxnkTEnGLMXnOyx98TDGii7K/nsIJMInZiuFfVSMp9KYnCMY2CiwHcOdwcV/o1wi/hTTuVmzP2MnCNJQ5ngHg0hPyNLT5oNbR5Qu0AselzzRqkvKNeA2dJagwg5XFv63YUuBBISQU4bCral+zF9dBPhOtEvlma4kE9fyBVsNisxwlVdmFjZi5rDPLEB5JWZbJmo3Z44faU/APUjCse4BoL/ghLv0deVIXtgei7oxhvzWiGDQqw5UzawvrbgJXcdsGdPddKIHBYjUWJkmsCqRD7mdOuOOcy4BEuaSDqS1AxyIi0Cg0WECKakkQvZOCDTG1P+X7kWBuaOR/sN6QP6ItmMV2I0RL0i9ErSsDYCKy3iNTL0GzI102R/YP/TL+iiJuZ7qvFIVguaXlK6D6yvLWqMiPvMmglse0ZlZ0z+v5Fl3yhDjpdbvCjwbU/xU+JgPL5UvOzP5PErerywhIwXN7J+WTAxIOU31m7mvJ0JTpLyA3JW7LljdETEA91Uksx3Vp1olSJfShbbMQ+B6Ftsn7jlAWVnTKnZZS/IJiDlxCQcZaFIq0Qkx23OWbVDaEGKCmE6skETyTEmktnfIH4iTTdWPXN9yxA3T3OBekmE6PneaMpKkSWQqSEUdzQeU72AGJDsUIukvBx4lAUWQasnwmtE5iPpnhHmmaAKmC4UY8WcPuCXzQ9ii7ySTQs2vidMgcnPyItjGX+HfGAOjvf5DW89+XxikhcKdWdNDn9oUc1KTBvS0DH3N17DF6hrghMEcWCdBEkJ8kIS1Jbeek5+ZH5WrHahDyN51FRiIvmcpQDXZThxp+OILiTF6JEhMopAFXIENaaQaOV5b2EcJPdQ0rBwqBU3FwgpIov4g9ueJwgJJQaGFNgxUDaRdNPENZBdQGws2ZMDsVDsAkVR8BIktzeHv70S1oljuJDcjrfxmaXb8lAo6kyhfupZ1pGyj1TjO/K84ehr9Fog5woRPPZN4dVC8diw7Beyu0SmRNouBCVYBo91C9kUqCsImaRhZhMUmfME5Wi9YrQ3xN4im0hIM5gLfRaYY4bYC4pF81DVLDohyRBFxOtviGllK3Nq71huW2arMDLgYsMkAjQQ5YJEsG7+jEYzZznH9BHLiooBE2GoICBZrj0udAy3gT78YDSzJnANvnwPJidmHhGeUNrxeP9MeBMgcnz5jnvMwexw94VZ9twfXplKWOyRqYXR3Pl56pCpRBjNqz4Rs5biYcvHPJKlgq+Xn6kOAh1ymvGFj5sbNpMkP2CiZ9TPdLuRTOSU0w63lMg/PFDaj+TSYccec2mohaWwE3J8Je/faJeek9L46pVCS8y9YI6OOHucvjKkmSU68uuVTObAd9Z5YL21iMXzi1+Q0VFdDEYewG4xYgVvGEXP2DpK0WOHgsYlmsuOfXWm23zlOGhMK6mqhd5cWYLjuhaktwk+1Mytg14yVQPDLuOZDdWDBAGNnjk/75k2kk3uSerOTk/IFNjLFTll7HWkx7DEnzBE6kmydSNLNVN8PZBfJbCn1HuEstS9QNY3xvgz1dXz9Fvkad1yyBr6tEdYhU2afrTM0fM9y8ifjmjjGGNLKrdkRiDdyMe6RyjLkjo+zyUuJno86J65cmycxgXBlDK6QnNb/5HtGll4ZXr1IHtYnmB3oBgu1POZzBiiNixJs1/fUA8TD7sVvY8UuxrrH9gkQWYGYhi43SIxt7xKhxUNRiy4GKjaCje8R2iBzwfGXUS6lccmxxiP8oLWVhS7xKk0XPOJhw9X9MOeMa+4ZomYFRzGxFI0WDnTZxNKOf7HfiHWjmKZke4DbdOzGT4RxWcO9Z1hdFQpMuRv3OWRcmj5yoE3MVClR5Z/koj8J4QVyMyhPipwB2L9jubSss9/wsSPZOVI2Wf0F8lp/8StdpRtjsgf2Kec1BzQ2xmrBW6KmOU3REgMtiaeE183d5YXx92VpGmmnz8gc4i5JDlNig334oZ1lvJN8r79TBBwld/IC4eoN7TyxDh3nM4GETzGwHEuSVKyOaw0QO8vvKmSVVhuISL7wC5F9jGSjzPORtzyV+76hRi+kE4wlCdqN5FnFc5DuZkYesc8nBDzyHWGQsBPzZZpkcgKfKdozIkq2xA6wbffZ+ZzQz6X1EHQ5TN2GtjjaENg9hHyxFj+KLOeo0flCT1FimvAZgJ8ThwEgpUNHcZ/JY0zcihpuguP48q+CZjsxnleKcqCHEU+wdcp8vXU0xUDvmspjjvERfNaNEhr2XmHGS4Ib5HfBVNKLLNFpoGNGxm3HZ0XDG8OXkDrlkmtZGsi+EhmFryNDL7CiD1t9Lzjj2zHnPGxJjQFuZ5R4RU53rj377HW4foRnykEGya3EH1NNYJWgunWQLay+hU/XTFBoq2h1pHjn16Q6m8Mc4buCjKpOawF2WVAX0aUXlDigoyeuvH4Al60w44t4XVkDq/UxX/joViJMYAZCKtnVj/8XuARQ0YKH7HqI76FTZ3Y94ooNPn2kW14wOmCN3NnoWYOnixXFPaKrr79MKJXNxbf0LQjm9uFRgjm7ZnnUCN9ZFYTkh7XbLnbN9Ks6LcFsrJsU0O6R/QYGaREuoG20+SpZjCeWUdkNrK4P/Nd5vjthbkW5OWMtJZimplWxXjX6Nqz0Ql/TORZQogNxu6Ra4s6GcQ4Mw812u+RqSCVI8kk5B7FNCburzXteKRMC6u7wPmB1Ur61JDeQNgn7Knm3fyB4/aPiHLFBEkSgSEu+DYhV0+tzizmM4VNRNFi1lcyMfzYiTQb+kzzzgScjjgM9zWBlKgkCCoRpUf0kfmqcAHkYlBqJthnEh8gRqSXrLct0uZkWcBJqGQkSYmZI5gFP0WiDaifQRvBnP24FevtipSR8V4xllt6ufDNTLzdV+QuMtlI2byxrIrX057BPeHCP7A6uHSSfFiRBEzUYF4YU8+uW/iHpDDrAZqWwsx8WDPSfmLQimCO1JXmsYhEA7oYwHq8bslfJtyUUc6GJA4IE7guHrc7kRUdOzMj/s9yl1SKTRhY10CfPyNDhls0+m6Zrw5tEiI3lMqipQLpMNmP1n2cJXhDcIp5fMe6SBabY23DPssh9/hdxup3TDGwm0Y6+41OzGTpjXXMKGVAz0+ow4QlMZs3ihTxnaCTjhs9Sb0SV0WaFZOT+K89gZL5wRO7hJY1gZZbuUVt3jMHiy5rtI7c9mfU9y3VeCMbX7HG0IYcm2c0U4nzLRtmMquQ80SUPWlrqO3Kh7AnDPaHF2JWaBXJixUlIS4X5FbwUUDW6R8JgrKs8jORxFTP3BXclWJRFQcNMqy8VAnXKqKIiJiT8gf8deay1EwJ1jFjFw3wV/pJYz34fGU91LBucU6yGkmKsGEhBNBpITxoMntCliPmdCcME2eeGDx05Z3H5QVzVxThwCQq/LQl5jkPm8ha1sRrTVw7Vm0JcYuTGflaENZId20Ic8kcNL0r6RZDe7LY/IdokGJk9Yr7WSHLxIQhloEyG5FDjosZzkx0CNZ2IeQSVZyo/Q6bJHqGEBZuZqKaDEP0iP5Cf7uj5IDyPZHPKDGg5QGhM24pEmJD9f4HcUMk0EugCJ405qgoQOxIYWEOnlVLUvUK/UA1vxIclOxRTUG7h8o6TBNoZo9aR2xIZLMitw4GT4wC7xOLmDg1A34fOP+W40Wid1f8GH5Ys/sGey1xbULkiQcZsO5PNFqRn/bIVCNCQ+P+SoozgcQywLOsqdoGN3vuFLzJnyhyRZ0985uUZIzsY0HwG/RcsJj3uHNGuC9EvzI+lYhhJi0nbn7mU53jlz26y3moriw8cVMj4cOJMpuxD5Z5kGyyyEGt6P0T5WWPaTT7KtCUd1TmOE0FP0fLWkz07jP+PnHX5kepeX7jF9nTZgJzuHIuHglJUcg9Wn9EioGUBE5+JI978rLhnO8ZdgXt94b8N8eYR/op8JRqTikyr45PR42RezLVk+lfOa8tndtxo2L23xjTNzq5Ity/sxNfyULHMH/l12zgEvb8zoWvv/wVsenp9Ep/smz9K1W6/6BcHRTZvOLyO8Qf6dxiFa4CPWqeG0dsz+xnyVRHvH5g6L9DeSMLGhMVi/JoGSht4qfqTB5nZP+FU68pUk3uFTvXoF4CeX5AjBksOXoJVO8aNOUPAebqqXTDkt4jxxvrdUHqEr9p6OaFPG05z3vmpSYXd6ZwQZWSptlwPAX2ciLREouVX74GRDIscsK4RBcy0uWAHRKDe+XTacXokc4qLgMs8RvZOlN//RWzW/ls30iuYhMLbIwMmSUcAutaUPVQzCu+L5H+HxB1oF7eeCEjiiOb4j1pceymGXyFlw0fbzdS/pUDXyjTZ2wF2eOZFFZEnPBh5EV0yCNcgkE1Gu1mhmlhCW+U8k72oSPX38mHDPH5Feve2G8E7+SMNU9Mc87GN6R0QITpRzq/7antxPZh5rYsDDfLTZ/4WkR8dmXoFJdc8B+dp7j9QB53YUdx21F3O8LyjjJuMLcaO5fMWcPmcmEIZ1QaCBimYUD+84HYRT7cNuSxJXttMWlDXyryz4oQN3j3R97iB9qipBQ7bkewbsG5I+szFB8sXaowk0YAyhW8t5G3F7inCbeFbPRQdajbhq+q4DJnPOU7OEiuu8BG5hSbJ+rQMkSBlIoxjKS3ik2cuH9t2cSF3AqKAUw54XvNa7ij3Up2z0jnivO14qYEU0i4fI8ylnOsWNYthi3u1rCminyNbN99pb4eONxn1jgw5TfudWKrR8S8MOcTd1szbDw66/B2wm0CfmiIVWAdMtYqEvSEaQe0u2GjRctHzKoRq2QnAsaA8zvcZSWEK6PzvH5e6YRncQVLUZDsjbI5oeSNVGqyZUDZlWU3MBpHas7EvOC5zgljiVxr5K5EjIrqKtExMM+PLP0HtM9xZmZKHcE6XncrZB9RayCYjHs0OKmQSfAg36NUBmFLnW9xPJJ5SdxYcAWjXhhXTcxvHHVAywmZFkI1cesvrN8v3P2GmDJIA7xpMtVhColyjnDL0KmnU4lOlHT9G6HUNHLELyduU0lKjlYowiJBzmRGkmxBak9U0iNVpLUT/O3O2ltiUKhiJF4MKxeiXBDOk42KRpwwVhN1zy4bMLMmTAGfApjIFAdKY9DRkemEX2rMZ0O6/rC6R6cxpifVX39MPPaeTCbi8I3YzURG5MTCc+159+7GUkjWJbCkDdQO01nKtkc/rgTe8A+/4fsf1kLlAsGPjKeJPVtqH1hcxahbjNRcypWsjazmGb+WGPfKIgcyK5iyGZsERfCUWvxgwS+efEwIkzEGQIFKibm/sa4RGy9s5xOrSIjiM8pJ0gxiJxB1hjcBzUJcJEiPjp+wL4G0Bpy/IfSIuSuW/1/Dss7kZUdMZwoneWwD08NMLF/I1xdMqCiUYtNqGAXf1yf09BNtrXCPEaJDTJ77bxVq3BC3JelY8PtThBnyzxVy68my7Y/dOzHhfctpGLDujGEm+gV7m5FpRh9XhqNALT3qLWGkQogWId6j7QEfzzh1Ad/RbwxyM5CvZzxXZOrBaIKcifrK2i8oH9BB4WeN7yPeGEIOKksIWcMWWlVQikBI4P13iCV2WhEZeKvo7wNaWCIZMX8gKytml5jWz+jgmMwbWa7wO8EFOJQHdplmU2xg7GnLjNplWGPpTcVpaskzxZBeaVKgYCVpz738jcDMfSqQ6Zn8GPgmYbUPsIlQBnxZcd0klI8sURK7hbMpWWXCzi1RakJb4MSKlxodDMIkUBBTwiMQr9BNd+ZKgrsjw1esqvHzA/Wc0fgBt49k5Q/iDZNgf5XkrmO5rqRcgIJQPpKqRDUKchMIl5F5NRTrTBkEaEPwGXo7UFuHYOH/9b/8E//T//y/8j//L/8T//f/2/8D/+tXBDlLXlJvGsY2ogvIUklmE1ZvaI534jbRzit1rfjoVqS7k1cZHEdckSE/lbRyQs2C5a65vDrqJ5iLGV9dyIsvNLtvfH66MYYXUv1EkAVrmdBG4GIgtwqZL1B7XAYmzVRrgfGObAA1OtLf9iT3ryzijigTlVSYMmfY52Teci4k50fBqEuUFrDskUERvMCJQCoiIibQAus06yhJAoQrUEpyxiLFbxAMJuZU4Y6/tizNwlte03lHv965zSPCWKQrmfDISVGsGWOcQY7AzBQFRgmq/A71QiYtq7Hkf7mg1BvGTGTiFeU9m42m8Rl9t5L1CbqZJvuMv22IdWDUArVUqEyRPo2oUbJ3FtH+O269IvOI4oDH8ZoGoj+zWTIkidutw9Tf2DYj9biS1QkhOtw/7XAvOWkH17pm0Tllnpg2INsG/WvFdb0isoLJHFiPRxaxpZQNwpeseHT8Ny7NRFhe+dYKzsXPxHvF/qBJ9UJvN/hvj/xqezL3K/18Yn16ZswyZnHGZy/kuxfM8c4trfCqWeQWlxI6n5iXAk1BvSTu9meyuIDRVCJQihI/N0xfPcHc+TBGwhnypWJ1P/Guj7izR4135kwRx4Z6tTj/gck8IS8Du+yJY6HwWU9hnpnk/8hXNLrXWKVZtjuSOGC7hu08EDcRniKz+MI9vJDdFsTVEF4itchoxiNvRaTTlkwVHNMfaYdn1gReR/rhAWVrbrPlLT1jrvr/z9J/7eqSpenV2Jg2/OeW2y6zKrOqmy1ShCDoQBegIwG6d/3EL7LJLptmm2U+G35aHWxeQmAGEDHf93nGoCs66q0n+cB6B/phYndncOJ/InYaLw6UywNSjggxkPzA5A7gOky2rLMEH1C3Ny5fDO8KC/JKKQLlPhGDoZY1a8jkeUAfCsqppThnbA/xqSFPB4bPHUW+R5xa5N5Rj1fEcs/jocJkyS45gpSk+Il6jpj0jiAUf1oP3IkL82WlKEeKc0a6kV+bHrUXTFZzuR+pizOdfgD9ZzqnERb2QmCqArWZSGKicjVTdky5Ri7vqdYf6W8z/bpjCgXhdEAOn9icN/gxsSsySzkiVsNUThSv4E3PSoCxYRUjZ9XQ9A2sEyEFnL3RRkXG0ocHQhKUqyTngu5vGo6PPJoZ9yDYjz+QJWx0SXPvQIzEPrE0Pb4x4CEVb+xWQ3ox3JIib0dklnzMLcvDHqdaXCgwhcPFDjNoCrHFY1iyRlQSWWYAwjXitSAumeJUMlsNJiGmnis/MlaCafrM3EuUt7SdRuqPiAfDOHvCPmDcK+UpkXPHTE1sFBvA3rWEuLKfFPvFsZ6u2OJEX2XCrcAG2GlH2I7gM5sfj9CUiGnDP+8bXvOGZXugDQWpTfg5s5qFLl1pVk8bz9h7i7OeMkXq3yLVJFl+/Y1v5kj0LSp9wvwB+i0EseIuFW36glkL1GKpdEm7TrixZr3/SFM8om4TRwrG5SNtWSEoKPIO/1KCiYjF04+JIvVEr8mpRAWL7jJ5G5nMnrK27KuEIbDGEuaIMw1ybYjHLXJs8NmQdc29LWn1iSkUxHgmr1digMkbMgWDnXhrFUoYgg4UB4fdQjIVRtVE29HE754IbQOnUFHahnyKJLGg3/2G2q+E9gXmCLFEnVvmqFjzjOoKPpUFeMmqEoc70MeO2+uC0pbS3dFtHdVqWNQJ+ZRwlaUUI6J9QRXgri32ZWKZJ9z73f/uTgwU+R3tpmAtEhdaVAFpuzDPNYMeiNIgxb9S2hLnNOVeU7QFhZH4VGKKmlRvsXIilDNXY0ipYIwaecvY7Ci2Bx6KHXGMSN9TfAhMyqNzyYv0XHWB221JmxX/MkM+Y+cts39EZ8lOKpSNGP+IaBUKhTYEltsTSpYsAra7FX+V6FLhfY9Tj0jZI6SkDo9cdCDFnjHOvPz2C8IoyqUD4RmvJ1R+ZP7zPUYWJLeww/OLTLz5SP3XN4rKMdRXxrfE6XImWcf49UwuNCJkbrcvkD7heaWcJnzumUTmMErU4zseZ3Dqj6i7E+noid+g1Cs5F/isSMKjB0ubDqS2Q9ie90LztZc8byKHUiDzjpkA9RlZFXjdYFVE4LmIiJWaTfasb1tQnj+0r4inhMkblixJskZ0kRBr/nkV3LeBKpT8iYWQM+59pNGe/ksgf5rw8SPhJtjEe2b1RoglkgrvLYt5ILv8fZK4bdGVpyoSQ84koVnUG72XeDeQ8x3BZC7zibSWrPPKubaE+QKM5FwgsqVPA3F0bOYt2XmWeSHGiTVn1jBiGbnGD7QCTP9GUCXSDmQLaQ1spSHsIMWFDsWLDch+RDUd81OHvm1w2ePWEb06yntPL2bqNSF1RuknvHlDt3+gd5GqdejxxskUXOx/ZnC/Y1eBDl9R6o4Yf2OvrhSTJOSCvQpEYRmoEWtBYKRGEuvMpYIozzz8LjFuxqmFQu2ZbpaNHejqHlmeCULjU0GIC008stcGPb7jxdwotWFdO7Z1RhQlUTvUYkn9r6SyZPZXpBmRTcCrilpLXsT3PHCRBFFc+a1KHJ1iLRri2x1dvSC7ARVvrEuirDR17kGtHP74X/m02ZDkQNI1fv3GZumYvyb444KJFVw1L6sm9m80saOpIrqwkGdWN0FTU4h71nNGECnKAv9HxWKgzYnVvIAsOAnLzrdEU2BugcE98i6fWG3ExwU/X1ncr5xDyeXsEWWB73dM28RUfkZOK6tcyFVmFhYVBP4Ogt2zvq3c0m+Ur3t2ynJZFUJN3NvAwXpeYslJ3rM3G0LqkDmiyZiyQArNcO0RZoBO4KaIRJB6uENze7lHyITUX4mxwBYOUb5jo0+sw4A0j0y+w88TRbXwqCuO7y3hd49eOnxoCeUIXYfvRxwdm1Rwmd5Y7ZEyPLDZ7BGbiXiKlCIw5si0ZEwSrCYjlxJnO0S4kWZPOZ6pdg3l6WfcJlONM+JB0PoHbqGkkB51idxHzdQGzmYlXjegJfWmYhIH1LcROQ6IH7ck/Y3zn2ayqigWgx89oihQN4XpDeNuIf8hcyc+kCfJznjOGVaZub/XnGdNbga2uWJdFZfhA3+sN7gkeCkCVW64E5LOOsQuc/j2QGgD5eONAYM87RAPBVk8oMQOEVemFAntN7bjO8QkYW7QOhCIfBg0qciIsuPcvLGqO+yzZ609er+lPj9jU8VsE81yYokBb58x1QGzSva5ozafeM4922yQw0zqK4bSYVbNnahYdyXp9oJXO7r1+0ZgtZq+PCLDAbscSW8F4u6eUiXIv9FvfiKuiu6pYMw9uSrYrAtGF+j1hdHckapAf8lUU8WhniiDwFmFd5mlbjFG056PuDmzlIo1Fsx2JMifSGdD6NJ3CksuUFxI8QkOnjDN+PKEmj9hi4G12NAJyc01bNtvBL1HuGfK9RG19egXwaxa5kKw49/Jrz/T/yhoUo8zj+zkG6nSKLvHUDNvau6VJM+R5ZLxF82063lvDoh7jRw6yJJrB2neYVsPUjFtFKVq+JO0/Cqeac57dttPoFaW6AkqMHKjHg6Y/kz4VOJS4ncPP18j6Bo33NjK74CMdLO43VeC/UC1JG6XnvSh5vL6PXP/IK78snvP1rwndDPzOvBothzljXU9sG8gTQNXc8ew/pMfqgdCGqk3PfP1gSgtq3pj+z8K3KeWtRJcqj3F0iB303eJW++woeIhZm6rQqsW2WfkXuBeFMvTihZn0u2RMRakbUQvAr0+86Qf+BY9PywzVhre/hzR/RHR7dlJi5MrIdaY8TOnnzfI8Hfk+jPNYyafVy7VlixgN70gioql6ngRko1YiTJh3ywX6fAzrO2KMzX5aSJOgU29BbcwH9/Y5wG3fUcwgkFnuqlBnAWTnWkfrkytZcoNySrUcqIaM8kEft8k9j4ScqBbPMm0rMceK3t6+8jG32OkRbhfEK8taiOoich7UG1PdAceZMO6/QeM97SqxcR7rFi5ViNZfWCZP5OaC4vfUWhLVWtqMvEyUZYNmyyI4pXP6YG7uBJsS6kUMnpk6RjNC5F73BqQt4mrbXg3nkmtpb0pUndF24LVNZSyR2aDOQVGETg/Sh5Hh1SRmz9SqQ1CbeiNpyEhbxY0WK1YeKUxBfN1IW03MBSIzvAWblTS8Vf3wM9hQG4TYn1F/0eiuFtx1czeCfRxi733jMVKY1bS5UrY7tExoaVCAam3CB3ZSIH3ltdbjQoQ6h2pn5CPmXOGZqvYvn6ENlLGiakqeWvuua+uBGVJveRjKuiPZ8ayhlvBtnAUjUXkA8wXoq9ocoktXpldIIY9l/bCQd9RrzMibTmvIwuGe624jifkUJI3lmKW7OWInxWV0iQPTlY4IyEsKFbedGQrNuAtVX3hyTREb4g+EqYNRbUynXeUj4EXLzm4BZ8HZib++8bzEHZ8FBK9JkNpLEsLLJl5DtSTRZqVcrwhlUbaO2ybuE6ZQ164eE9bHGh+rilqTaFKrtfMYB8o7QK3F9gd8PoLfP0Dbh0Zh5mxqpA5om6et+uN23jFDLBYhQ6K8/yV61uPzN/w7srv1xfapmGNhupR0JPwXOmWjm/Lntt64/GPisU0lKujSDXLfSQPA3nUhIcLOYzI6hFlJe+To6gzqV0ppoGUDiz+DfnlV7af9szCUM8tL8cEnyKtXBh3N3JuMR70bJgKTyVGvsWSKkUe7iG6v5KLnyGBHla8mJk2LU1rmfs7vs0LtZ6RTeDl1x79eaKsb7hV4Zuv2OuG89uNqqrJmw2YDUpOGDoQ0L/d+MvtK3rzmSg8IkAYVj4/H+kmz7loWeYzUims2XI+H/HryIInuEhwR/7yy8TqBHU548YH6jyQ7iZkV3GONeL4N1I0TNUL1/BApx6Qq8JM/0AFzxQObHBsZWZqnikuj3gluE2GJD3344prFgSaYzfB0jLHxGxu8PWJdtsj3YlWtPz3euCf5Y6nYQu7yDonhNgSqoqsPbCldB4TLUbPrHFmOa/4PrB9tbiiYSo+E2xJCgLHTP2/fzhztGhZkbNDjDPImmn7R+zuHS8F3LkJkWoOq0VIiz1K5CKg0LTqnmm5UE1PZDZMuaUQAusCIUfSXlNVF9rTI7vuhnofsQm2d4qg9og4gKsojwXpYcSbO8SsKO9AKw3mPfE04ug5y4Hd+4LiXMDhgj/sefCZfDUsdxkx1VwidF4Tv3bYf5lR3rJtM+uXLX321J1ADCVLm9mkivnUUmmHlIrxVXK1I1vdcpsDLm64uZnfT98I8YZO7xnmIw/qHnilm1tes0LQIsOGkUhMiRQdic9c7D39oYOXPWYrKVNHKSa80ohxps8vCFvRRVjDL9jwCSsrYoJu0byVCtlp+BzJuUSHV6KpyXbFTZH6B4XME+qqWfSC15LFg1gddC02XyjcE6vpcWvBenS0dUFIicHPhOSoZKQ0iZMMlAzIuSIvZx4279AyEIPnUR5xa4vcTlRA+vSIWAX9cEV2K/sQeWsrNkeHDgaiQN7N+FPNtEnkNWCmElVG5ijYdGeEPxGDoOAB/fSNJD/xedS8jwPXruI+KxhBiHccLoniQaGkYusM821BFB19SJTnCe41WM8XUdDNmk4NeLEy3Fbuu3um2wZUzaMWLAfNsZ/ojOJlhJ9c4vpuof1FYHOCJ08fGtxriThE1N7il0xVFBjrWNxEZ3/F1D8w+BO2s6T4gqk6lrVmSVC5TJ8n7KnGSsG3JvKxVJTrgu1LmGeKf9V8GQQPGcKsaD4vzA+RGEoGPaLeR+RZ8G1s+LCV1LcjU3oj3f1AHQOuOHCOE/u6omo8OcxUPtBnQUHD+KFH64l1+cgY/42i6CmcIR5KdKww+QzzA6nSzNWeeL0SZI2I31BNDbVDxIJRGQ5Vz01otvMXsj8gikjOM+aaidVntu09fltg/cAkZjbzE3NRkt0N30PKhn1fcZOO0a288wXjrmf0LfXySF2MHK8RKQO4hpsJHFTA1Y439wd2P2yg/Scm/4FvqYfKolyiNp4hQ6MLwnXCZwftQGLhUf+JkYI5ltTimW5y2HxP7mailDzPBUUGOg3jBX39QFv1zFfPoiSrjxTLlYeiJhPoW4ULN4Zlz3YdmKrEaEaqW4vDIOrI+cMX7PTEkGFfTdRJcloyu8NK+dWS7wRN/hvx9kcoS2w+MUXLYb6wxALRTVzFwPqt5MPPe9x04CheeD8qXDkgTGKYOraPR6x5ZPhF8vCnguFwxN0Mh/XCdVcQg8Bu37HTF749P6PaK6qRaLFwe5GI95rW/ILdPRGiREjPS/XAhyWzjQUXY5HrG/fLgVu5oRIt8+lXrHlA3zmyuqPxmev6B9SUmPY9Zb3QnDJ/15Gq67g5yTsjebd6vtYRkxy1OFId3kF+4lM5clUHVHYM4kLx7FnvQdWGoRTMIRFSyenylT/pgmZtGDYwXi2uidjhiN45tvYHEgF7khx2gq0ZSUkRzyVqP6G6Fjcq+nnBqg2mhkvxZzYL2GJCrZJZCYQM5E8CqQUbLMKemMxI1C3xtxoe/44Xd+yReNFQjBuKDy23ecAGgbyXiAx2XpmN5Ec5EwaFLp9xdkdkS52PzBzYRk+TImNjafwRbyz+rWZ9jAynjvudxhaCuEis7Bkf96yXN+4ny8u9oooVtVix1jCcPV3T4peSLC6UrmC2C2XxxEwmGYfyBqMHwlum3tRUTrCTCaUE/dJSL5H154rKHolJEM0H3GYkmHuK5YJa33PZCSofOe89eVLsTMVU/400/At0kTG+Yc+S+IeVzdsVkSXX4oW0vEN6T95YUh+IxlKOF8oyM5iSOpTUS4MTB5zOdBF6PTBWCqt6Jj1ic81iYTCK3bd71kKi1Mguas76gqhqyrRQJSiD5qvV3NV3XOVCNjWX4obsG0zhGb/2xMMBuZ7BKsQaEbrkMQeU78m65VR2SH9k7lve3y4UTQHNlVwnwvzKz6th6iVKd8Qyczg+oXYW4d7QZq2Zq5E0FOAujJ2lmSXr9BWX7qlDII+OMWlCUzO2maQKiq8Du65E6O+M/vBjRP6qSK8LqUuUmwF7/kjfXbl/K3n443silr0VZFHwy92J5uVAe/+JxmTE7Ii3BVm8sm92mGbkxWQ+7P7M4K9UeNpdhe4LBgYeOviyOIRY2RhBPhluZsRGQYqZ6+OZfi1ptGUdRzyJCZAiYidHMCvzWNBLRdHu6IcHBlbeIxDblqlfEVqyhh03MdGOO7SfqfDQGPZSsJqvjHKPFk/g33gdHlF/1CyroEivZF3idM391GHLxDIc8cuJc6hRY4WPnsJZorhx9Vc+XraYaiHmTLIWFRLuWvPY/cBP//aArTtkeEZMWxb5gvsfivbpns7e8Xp8RoWS7X7HpnnAjyd+ePcjfmexl5VoGoZhZZ0+s1v31LvE9ZTZtq98mAv+11CTNoLSFiz1SCEa9Cj5Uhboz56mm8gbzzw1UNfoJlENK15KmiGgrw0xLtip4f1yYmqvLHWgoqfZ1nj5QCE61nFCRvhwXogdtPmKU5pXlbH+RNAlFxSDWVnlhKFGxIi6A/GaYV9/f57yT2j/zFQpKAT2ljhJQZgT4u17kVipXzHOMbGymoXKO1RqyeVKNFfyVWMOTywXxykP/KdXj/iDJpmZqCLr7NFj4rqX1K+eKV7x8o+IboVrSTsvSDtzsor71eKONdkXdO2CqzMifCXlEm0sV/tCbZ4w7zLyXFDpjCUi4kJaKq4jVOGK7F4RsWE9adQPkewy1/1KHSbm65Xd/Y24/5lce2Q+YWqoTx3oDPaN2R+Z1h+Q5Y4dHenvHvHuET0fma4l963BFP8VCXx7zTRpg44PqGTIa0/klVhnmhVCEFznGpX2TL/fY+WAlCu6rEjlQL5Avia4e8duJ+hfJY4B1P33OJ+bkDqCDowXyU4JYiiovKFnh4oLQ8rM4sby9gn9bos2/6SSOxCKuApWaWiUIR23VFsYooVmIR9aVFpYVGZTBpq8oH6rCPOAEDCFCrX+SiP+TOFhiQtJDLzFmrhV7HvNZBSBwCYJXBkIlLhKcnh7Jt6XpNAyLiuzWKiBY/zGrn3CNwXoCTt75qnjZTezTY6vw5FHUZLFjUdVcxUdez2R789Mt5qXumKz7b9Pt8wjTnSUqmQ8S+q7Hmk1i9zQiW/swgekmZh1YlF7cvfMUTgME8u6IjeKZa7YThdi+4H/x74kuxk/7gibzFvX8/5UIPeRqpCMs2Ms4b6I+KFi7ifmnWFbPiKVR5uKYhmRW0MeBImErAAhaW4tr76nfv932vxnlPQcR0//EZ6ePXxVHJoNymr8ZkXuM+Z5hgRRVNzlEy+mo/AFYg9cIep/pRAgFkUdRrZO4IxF+RtyLFBTzeH9C1FC6n9ArJ8pNjNWWY5XD6nFjoKjqlljZtd+objuKTvBHDbYGNhoTQjgkiIEi5k8w9VweBDEqmPa1azJU0wF0h6p3j6Bsgj1O0Lv0X2J2n5BzQ4dDa1tWVqBFxN1zpz/puFfr2yCxtoRyYHzNIB+RzlMxCJSVz1OPnHvCxYvkNtv3EKHOi/U3Q4jR56lojieqB+3TGdP6jxFVMze4csI5Tdsfk+KF8z5kUHdqNuRs4F9OtCMibx/Q/DItXBsG0+1Opo+4p/21HPitKlpm2fG00ekqSBAt/R02vJtLtgNHWOl+Ud84efQ8SA25GrBnC0KiW0l9fwPnu0T6lDxoynw/RdkvzDamZgKShSi/MSqCtJrhU1PTO8St1vFVUdEeCDIHmUNLAOP1y2+tKzyC/bdHnW2FO9rRB/IXUlzPbA4x2QiSrcYXRPkSnIbYm7YHeFqW1S9x4gzt2fL4ePKHQuziKSqYieApuK5viHmPed+Yv+w5TJFtLsQK81yvadUAd1dMK8lcp9Q1vDj/YGCI42OvACZe9pXT1ve+PVuYqcvdPYR9bKy3Tmy0KzqPVMOFCfNrY4s/SMHPVGpE2K6RzSW2+aVh8uei515nCKpr7nWOy4xUy8V8fiZYZOR4sBanbBFibk1lOUbeSc5lI+IVZNv5+9+AZHJQbDYgrRYUvwHt7dHNtvMF/0JsX4l25U01Lz7eeKx/5m5keR0xzSeiN0rPlc03V/xt/8r6y1RdBPLYljyAZVH5o1g4zIrFY0YcGnHPNU0ypPR1Ocj1zoxbyqaTpFnR7UqognEZ02lEmdREuSN4pJRtqK5G9FCM+BR9KTWIPyI1xXhuiULSZGOiNlSOIHRFicE4XxHrS+8FJFCCtx8Zl4bJjlQV5bRL9hcI3MDZcCElvE/DOufOqxxlDGhV8v7dcHhiK1jOil2s0SOG8z9hfzjM/4fD4hDROYD7bIQkCQ14uxXzgIKtUXdnqi6he4NLgx43bLZJdS3mdD11HfvmTgzpg2SBlPOFKngmAKpyRRx4VTVdPmIv66UviBubsjXR2w984jFLAN+nRkbSegekf5GISNiV1HpxLPesTOQ05bCCkhvnPvMwSZkmmmWgt5eWbotlZWsa4MWJZN3pK6jmWfOamC1Dtms6MKA2CPzGvAq0TYz28MjfjQ8F5LUfMA+dAztgfOQGDY9nRoQF2iQlCaRVEMaA7OOFHJFthJHortrKOSOXNSEGMkqobXAUEG8xzctVa4gJIx/IYqV7GdEluQwkKuEKRzCCFxZ4nKHMAoxn4lpoqwP5LijdomBkeAz7iCo9x7nNco0bNeSRtxh3JZHPeGyoykX4pC5lSOitzRvgcOQyLammX6l9kBa+JQi9XniFiy7xXC3jJjuL0QpGezCJDXB3rDNB6BGl1vGVrGtP7MV/859qWjSPS/SE+2N+f6KWZ8Bwa7+wLv3nzh8eMcPjx+4/+EnHt+95/3hAdVFlu4J325IV8WgBVQXzE5iN5FqlLj2A8vhFaU6iuaArO8oq5ZSWYo6UXcVxS5g7gLqMEGtEaZCdS27Q0WhNVoEXKXQbYELd4xzjSwMUwliyOi5Zk1XFgF1EqTaMe8kiY5SDmQvUWMi9pl3QrDDINtMrh7JZSDLEvoSqyxleED0mVBIVj0ylArZZ4b5V1qhkcsj082Q1xFhLHHZoaZAZST2OpCiIFNjB03MBa5ILE2JLSROCI5vzyz/+J1f/+f/4PT7Z6IJrJVAThbmmpAT8XfLuBTMQtEbR3CZ1/iORWxwyiEoePQZsc+053f4t5qgBNt9CXeazoy4oaBzT1xzgxwqQg6oCmQTqFRCNwtDazC7DHfwbb7nJj+h6vj9klMfcBLW7Ai6oHiLXD4rhptH50ChF647xxTvUMsb5seMzd/I1cjhnUMWG1qrWL3iVk00l0x5ahlPmdvmDEbS6kCzfmTrZ6ptJsuA+nOJbhRLVbLrruR2j9UHol4oTACV0CLhJMhhgiGSxUgdChYVSLVGbCXvf3gjFzfIiuBBLoZYJtIOgpAsb4aMxPqC8jJ/FxzagtU5xLCy9Q262HCrLVMJMhVkUyGt425WtO8XTLri5hqVVgZ6auGwbxK8Z6BiRDKrSBElbpkwM2QxMpuCKRvCY0AVDu0WajRJbbDTiXFaWISDt5LHtaCbKirlkIfATmqCKNB9zf55C3/PzPctMu2YxUwwDp86Todn9O6AZyatkXQ2iKqk2k0IdUezbNnziFzuKb9sUC+Kejyxup5oHzmlzJNYsGJDrfe89T2L7hHmlcYLVO5QqUTEhelouW8ToWi4ypaH84q9PiHXGVnN2M0Lyg80XU96vyWOZ36JE//ejPTbhOluxGvFur2g1MqKoskFbT4jnSHFmW9bMNeW6dgxDSU5g4g1IrSMvWTUV5z6yrx6VAsfSMjhjsYIslFUReC9rLCPgW7zgqrPTPueM4k+PeO3HYsKHJnJa8dBDHQ/LJxU5GJrJIIvrNyKkimXFLXjFiZmJRmXkaWLvHr4bHdQvlKaTF4VQ4i4psWNE79dYe8CrfJc1oYVy80bipBQzhFtALmh8oZFPRNjoD5kVvuM/o8zPl4gKeogCG+GwVQMa+CcnjgyQ2G5vrYMsWWpK946SVZXXOo5hZK2nTguZ7AB5yq+yIicI+fKM7zbMRWWTbEn6X8izN9Rc8t13CHXmno90hqYzEIXHF6+Rzi43i2IcYu/RezmA8LUpOIJZIU7t6xJMzc182SQccMoFtr9QP0ZLp9f2QyGTZeQdwr/Y8k1el7uJ2xjGWwCM6FZ2BUWWWzw+xUFuMOWwkqau5lVwz++7LmtirwtWTcNa/DU+UferZInJlaZ+LpY5u0ZMZWoDOOiOa6eSkP36Gl/dByMIm8WVvmVJxNZyyPpmtF5ZK7eEO1AbWqk8FAHSr+wqQVr7pFvHiE02ylyHRI+njm7Dfx+oLisiP8aSPcJGssXUaEayxRblMvoWdJEEIvlfC3p/rpS+ivuLjMaTbkNNL5DB4Np/kaZZ9QmorYL4mpAKqr1zMltkMtKK0qMEKhSYnLB+1/fU487qha+NiWXakMsA7VO5K6AduGhkWyKSKVvzEXJx3rCFB45JWj/jjSZlAfyweCNRp1GXqeerz/e8UmD8ZbHacc67Dm+JXpxR1IzarBE6fhdwXErWLYl0r3HrgX9EFHqDxy8ZxwTWv/Ocjbsjnf8XI+siyR9UTBKolwxJjJpi9c3lutH/DLTVgYhPGX3htGZpdWUy4x6ScjPCXV1oC0P3UwoFlJ65hYrhmqLXQKyP1G5xPsfJnbyTHEfWB9nbDmzaEi2xB9KandHCgU7eY9MHcps+SYjIWrWZmZ58KxyT1Q9U3nDR42c3xjqN4a6pLgthDHxfrMjJMvjekBljak0rbzgxMgiJlz5gvgxUY6C4bTgo2DdzcwtyNJi5z0/bH9i2XiO1QsZxRnH7ecNYvsOa86MOWJuATMKimnPk0ns/UirTyy9wTWW3Aq2VWKNEVMnzlHylhPF6ribZtoUEIMjrJIZjV8T1QqbOPEyeLoa9GFkPYJpIPYNrN8xpqaNeA9FVlhqxkkS0sznamEyC6OKDHcrrn4hmJq6LOhFT3P732jsrNDlymA82bS4SrDuLNYeCfU3hq5mngsEEWUT6IzMpWEYN7jPhpwGPm4ssjbYqcClZ8bhQmxH+qVFi0ite/TU49NE8J65EIzTV9YerIoEXeL8HbfoWE+JWjUEYXgZDMiOK1+QzKz5lSRB6Q/I54BTifngkZSYrHHjj8Qkkf6G30qimPBLJPo3yBN6jJjcktaWKU7cVsGQapakmANMWnOnV2yXiPoRmzQpVMicsE6gg0Y+CYRZiOELWTxiyxKtK/rdwri31B0sLiDKiiSeaKTHiBm13Khf9xBuVOL/RL5N2LHkdjzwfHvijZUlXTkU94hUYn0PCkrrSDmhhhWoMF6RVsiiJogC2BHiQEoCVRqYDcLcYd1CxkDK8K2kOm4o5jtwEne74PQzAo3yApJDDhItaqTeUjvB2kClLhBHFu2ZdMnbqEm9QBwL4mHDtQwUQ8GtMmylwARL7DzZFeTiQBM0Md5Ibge3gmQCk7XM4sQ59wTzlSwvhN0LWU6YZUMcBxQCsYuUl5VATyEjalvw/t1IUWeMcFR3juPasOaEKXru/RsdClcXSNmzsRJTz98ZyHMmlg1pyqioSdcjXzwgS8RbjxQrotSILkP7ESFrttVE1Y88fFuIx4xQJfdywajvJSpmRfSasFXMyhHeTRBHEBcaZlKS1PVIdZ64HyGYRL0pCEMHoWC6lSzJINXCsgSiq3gIJ3JYUCTs4qnWim0QmFBzcZDdBbux5OKOa27Y4enayFAZlDkwDSAU6KoingwpDASrEO4DG0b0fYMoA4WuyFfLlAOhr/m2KE5K4WeIWZHyf8frlYe6QRMRS40zAi9qfL4jGkfsBqT+QnMA2bYEPNdlRYlMvGXSoNCfH9kOmXaG+HvmzI0uvyFRzMYS2gUxRHSQpPpAVUpECJS+JZeCXfrMLUTKNSPW74hXMa5IZeBuJjvBOU84lXBLQ2ku/G5nlidHiDP3dsEKT5KRmBQidATdYPIemyJrkfBhwTcWWVbMxxNTlYiHljF3dGXDtwdNaFY21UI0Hd3XkvDfEvWwYDjDp1fMp8ic7xlSop4ixXxBfZtp4wfqYct59MihoMwFasjE2fHHeeIzJUtRUcxvXBvD8oMgqy3ELSqufLQVOTRsBskUamRnGL0hqx3z7o1y7smmYM+RWluy6vnbKxxnwWq+F8/e9I75657n8YGX03uEeyKFI+2jY58s73MDq8d7y83AWu4Y8sxkJd4VrL5gaT1aLmzLieaQmGuHkitJT2SbmcUZUTnyUlFqy7BfiYVgomaSM+ewsvIVazX6MuLHO1yu8MsePUnar1Dqn8nlRF4SH3PFW+Up2hrGzP7ySis0dS14+KenGDxlZ6nDhne2RrwWlKakWCy1PHA/T9Sq/Y69HkFJx0PIbN8ZqtaRfYKYqaWgsCfK0rHsXxiqiEoG6SJe9GyioWk2UF9Y10h8V9KYiqwz/27h8gew946rP7K/GE6L5pbOrA8lw6XDjx3za0GZPyDcIzcapnHPzv7IeTrgl0y5/AW1hZ+ouJlAEFdmmVn+9hPad9hdoJQt5WqJ3SOzv5CyZrMt+Hi3Mo8lfuoY4wRa06eanC2aniE/E7cW1/wHpZnp9YaJCT07prnEPW4p77b4smLGM/cO/xLo3At752iGERE/oO722LpgmjN+mihCSawX3Jy5rL/STXfkteDndwM7b6k/BzbrF0LXksoLRo3I4R8kfqN9vOLyI3UdaeoG22oezIEQIvQNYmkxaWQTKnayY6nf8HOBriU6aKqipVctkzCE/Y1cVDA5hvJCyC3rvzpkPiOaK7XXTL6jrmqqR8lvdyWT3NC+VbjfE9WrI/LK5eZRpkPfHUiyZMmOc3TMP/xEKO4J60q6Gm5eMpGpxi02Wfw+EGPDsuy5HBb6asVZkG6h1h3qN0djE4EBJW60j5F1Nni1kDM8DJFquCMFQ99lvKrBrXTxf/DmoTgPBDcw/3PB7jJXfqAIBxg3KDQ7bpT7L7z3G94pC6tHFgtrGdipN3546DFrj1oz31Qgp8im8jzoinz2hHxjCL9ht2eUX8gfZrabmv3c8ccfLabwLFqTCs3rw4iuVxh6tHXsY0YtEbFRsMvM10gM4JxAFo5KlNj6gH8sWLsFqSI29Ah3YvQKTc18r9ldJcooVPeMrxK9qhHTgnICmTRV1fLeZLZVZFp/RcmR7vgbWR4J0eOTYxcblBboMtP0b+y0QNmR7TxTV2dsueddNbAtBJu2QlaWxI19k1HtTKoEVayI+hPtWKBdhcl7TDkiTKJ5qIiyI542zCqQmgI1KMR6odnPtO2f0ecPvMuP/MG+YL7cSFTU+iNzvedSl/R2S2jf8zw/QY5oPxMHjfaaVBrqG2g78q5t6L5G4lLwWQr8rMm24VoE3mtHebjQyzPV0qDDA2m8I48Ce9/gIoQugRpZRoW0LeUOmnmgXhOmaZG7le1N8kEq7vKVh0siUuLOGasEG3NCNzekMVQZFDdG5Xl2EbGMdEtLyneIzScOU2LTBmZZ4NLMzAlpyJT1SJIV6RfH6/QP7sY3Ln9xCLchFBvE7h0/a8nba+ZWaBZTMYor1vVsGkMuPjKnFSVXxF6yyBE9GNRjz62pyaqiFhWivKE2GzItWj/gkkekhdzuEW0BxQZfSnyqKOsrikTdGTp3QaWKEFrM/j3BFUyDJc4Lza1AVJmCN9ro2DQLZTEgsmBKgAsouWCUZZCWr1NDZk9+rVhHyE7gnyNsjxTVhRD/wnVRlG2JnBdmoxmvAeLECc1Eh1KW0UpCYSncf8HWHbZ5436beOobzGnDsWwYTxO7eUeZNMtB46oBb8EftnTlhXz3G3W7Ys3ALBToiJU18TeDCZG2H9DKMYma6Pao7Gj3E8v+EzcfUSFQGIFId/g8kYNhyjULkZwHTFDIKGiNZB01a6qR1MiYuRdvKDrUFmo1cC8kQi3cZcUkHe7sCeqCaidmrxmmG0W8ZxVgOoWjYOsFfl9RVFtmv+E0TSypY7EDSxlYR4maBub8yufuhlm2vFwsSSZW9ZF81Sxr+o6LLC1MdwwRYvEHgrBIIRHLynzb0E93IDI3MTJ9jUyVxhrBT//2E//68yd++r+1/OHf/o1Ka0zv8dEh1MooHbL4nVhPvGzv2DRg5Hc2s9aBUERCHXkra54xjLsJHbaIpUWy4xJXllEyypX0UdPvJqbScZwmiuHGpEvqvLCmfzCqjEEyDo6w7Mhkzv4ZaxtS4cmpJ3PlUK5UtUOcbyyNo/QLY06c1gOt3jLUmaYFaVuQK3JXoIUn9gNTqaivEi08Yh9pCsG1tMTWEQ8F04ctVSrw1UoOka/VR1yweCWQaHRUFFEh1y11m1gLydUrej0g44DAMswB7hZikhSbCbsRzJWk6BKiBTY3ZL3BK1DzCfRnRO7AaWIpsTmR1sDalky7gbzxrHePvOQVZ0bcckPIRCog3RKfXz7zz9e/cfq6crneSMWRHBseqBCqQqiGoXZE8xWFI0/QnkAsIKYClS1bb5DFjmJJiBwwbYntM3aRaPNKWDwfTab5q8QjkING1IHzhzd84Vm6GbMUSGp285GYnxGyYNsWqMNEP33BbAM/NDuKQ8bZgZtNBNdw/fL63dWgFnK3odpAzt8I82eilHxVLb9FgfZvHMuKshbYKjJvCy66wPjE4ieyfuNiE0ck09jwMd8w0zN+fkH+qNnrnu1HR1mAfCcI8UIRCqJ+j7CGbZaEs8UJxX82gevVw0vJN/5Oerzxxpajr4jGsJsFp/yVu+LGVOyJ4xM+K/RsWcaFMsHiV6rFk23Eb97YlpZqGFm8gONnOAjq/crUlcgl85dXSWsdyUVuw4jZOpjgcSgZsFTdgjELS1A8n07Ep5VS3XgWM2/yRhxOrMbgiw3Hhxu39YVsMsc18bY9ko2gswVVkXGh59DcYCc5ZMudjJSpJs0vrKZAnBQ5GNQWXHyCuOV4/Btp3tLq9/SzxeuBKkT+XDu6oWSZF5qqQm4DnxKY5wa/Jp4eHdvo2VvBjZFYthy85G57xd4URRK0NiDNe7LT3CzsY6Y93hOXyO5fZuZk8TKTNmdicybomVyvlMtMmh3MlgcleAwjXbHiKsW9cOi0sMwS2fbI/sqePbr8Pr3f0mFKT2O/UEYo/YCwN+brK1UbICVuS8vU3nGUBePvGU4n5mOkqgayv+GmFjt7ts9ndt0npJoIreBoG7IeOb1/Q9BxW0/Mov0u4Sx+pjxrbC7ZWE0aJ9S3TFlduJ0EZhGgbpwGx7d6x2+iQGbJURnG1IFN5OgY54rqi6IILWL5wHy9EJaKXNcYUyP9SH0vv3+vil/YiIhIC+o58l6cKSZJZWY6MXG3bXnoDELf6P2R6faZ4HqKueZd6LjMkrNwPFLRGU93faNyv3GV/+BFN5g8EvsrNhiKvqNZzsgkUWFhlkcuhcWFldJ5fK7IpSc1Ay+XkXflCdUkJiInkzH5Sju8wtvvcHmi6RtCNvTSEP44osKWck6Ebyfe7gpudiStW5L8iPpRIKpn3sr3yNVhgmMOjiEF5LoyXyVP/3ymPAqqfz5hoyBHTXCelTuUVMTkkPKJGI8spsKZDbpsCa8T2/76v0VnglBcaWVA5JLQvKMKAs49w0ZyGzeE+B6xlog0k8cvqLihMxVjviO5Fm8Luiqw1gU76RnLhRgW8nRHxY1pTpzNIywjcewJo2XsNT5U6OKR4ymwFDs+uw8I35CGAiE9bZVZ457UfiA4iYwNQrf85hJLMZBTxet8JJyuhHPP5DdcpSfpEnrJkAxKwMDAvLwSyJjsSbdvvC4NjV4opSKsieP1xHET6HsFlwppoWxO5FDjzpq3xw05ZOTpAtYTr4bu9iteJLpNxBYSsmTuHLGoycMF6guiCkyzpukU9fPKnS2ptcUJg1kyczCMc4E5H5jqL7SbjNWG2ih0bBgWuE2Z3GhEJxG2YH3d4ENN7rrvZDDTUjc3Un6F+AzlxM5JlH1lTQbBA9d1g4gdda24GlDTN4piYKgGXsszw9JzHle+XjNL0qjijfKyocx3yIsXHF9aTDcy/KEmdO+5kDn81yOpG6muFxo3EnTk4LZss8KpM214JJiS0wR31cqn7sCZEpOgUyXqpnGxxi43BicIEhJbokz040IYJ4SKYBzr5ohJNZUoSFmiw0pMGqFKSCBjQ5oz1ShJg6VYBsy7gOgE3j6jg0YbAXUNWhJySbz8ylFcuV1n4tffSbNDvEqGj4K8/pPTfwG518jCUR82zMUDv/VbNIr7zyvpbcIj2Z6+sYlvrE6iqxFdZhZZEuVKcTrRm4m0rKwvW36rS9Kjp9z/Tjdfaf1Inx1DUsxjQrkSmSMiOtJcE4YPyG+CeHzE9AOjjxATxfZKzh5frpjQYFJGXhWh0YRYUs43dDOxlguFEMjpSEqK1LxRlZrSBNbUEbIn4pBRMnYLYvwdhoQvB2J95GW/cqkXhLvh8pnVWPpCs5kaZGso5HfMmG5W2tow9glrAz4AxYy0K6WqiPZMtjueyp9w6gtJ7Egq0XfwUiZeygWd9vhQ8SHN3zciqUaUA1WzIlUkkpknQXIK4SZC6snrlqbaIPRKi8D0V5pC0DzMnHVAZQ9ZcnAt2t+zKk8UBsUNlCWkhNWBQfwBN+0oKJBeIZxkpuPaTlz8gE2Bh3FkeS3Qo6YeIkVnWUOmPbZszB1lEoz+Belh4zymqphFTTld0S5SVw/UboRFULU9XdVzNxra8IFLzkxrzWgjPjVMSePzI+mxRcyvLCyspcIWBYMSZBw3r/HzgYhh8ivuuaFuPrA7ZtydIU4n0nNDyCX3bwM+PCDfNO/if2D2Nc05ExgJa0kzzQzuV85iR14iWb2ws98dA+VqKK4l3VqT7BbPSoqORXRI4bEyQYS60rxlRYyBvNliVoPxNaKypHRgkJb5AMSVoCe+xpIQPTYURNUx2Yqfo2AXt2zVFmU8mSu68FjuEPJ7F6HII2SLzT/CXNGmBqELCtdQ3g7EU0MSK7MF30WmzcCoFFkLTDxzqReisCxFQZhbpF7ovkE6n1FzwzOgy4LVrwzNBdr3SBfYzAaakqggMbJ3lqJVLPoOVb9nWwO/ala1IYWRvvA4NXMrJbdPW1ofaXzAxw2FmClmS3z8wDhFKkaah8Bts+U+wRoD/SKohgHz+o1hK+nVA5iGcqzpNejLTEodh+YOk58oWNgqR59mWB9oZ0usFGPdIblg1xUZIiUnSvsLItwQLeiu5f16RzdatpWgjgptauRG0irLOm0JdiKVF2Rc+FpF1Lsd7AqCvicOLSUXmqUkzA/cijPIR/L8nynWDbiaHFqm3ZHKRf75eMB3gdknUpRUl18xasF+SVxPHs+eYwYr79GHHxhqQxWhqFvWsqUtQJXfhxVb3THFkicDze09Ws2sn78SveTsal6WLaMMjHIhqwrqgWh+JOWW5rBwzi1e/pV8+4WJmX1+Zigl0QqWO0s4aa7ZYpCUsqAt9vTzE2Fx2KZn96miLAU6/Yayz2zVmcP5r+xmh/CJS/tdzle0Z6L4Qs0bVifuvy6Ym0W3gszKEm/k+I31IrnFAZE6Gj3QihpX7EBIcvwK9UrVJUpnaERPCCOlTzTLyJIe2D+26KLjFl8Z9hVjNkxrzaQWXk2BDneYqUDbdzj/SHpfUB623MueD11JdWdYmzuKfeTfR00rW6biTNsI/HuPc0cqW7GNBfKXmbGx5LTBm5ny6qmOIzJtsKlA2QPTS0FeElQWPgzo1DH/cCXsjlzGklgekTFSW0FnPQ99y322rN8sSm7Ie4/4tOLlQu++UJ0zfp/QrwKhPLiOVf+VoDcwPiD8wjFG4h2Yy55Sf2MOFmtm3O0GLzeadk/pt8jblnCb6c0LyzbTmoV7KVE2IKaVat8hNw9sUsuuOCDdO2zVoDqBDSvPu0TuFb0ucMueZQfBa5QoOJvAGjx3ObHZZ0R4BCrc2zcOt8whDTy3Fh87Ll3C3EE4SJrmgi0XbkPPLUXGNrCZz/jrHWFayE4h1Ve02VIJhRF7pHcoO2CKD6j4hO1+whSPlKahdgt5jVwuF5ZXQREyG2uY55piFujXxNadkJeA9BL0B2xq6MrIhUis7riuT1S+wKwSaSPyrmKbI93mu+tHRscqEik0iBS/ewrsKzILbDI0SSCFY1aZD1bDFLisT0gsj5wwYvyeYz8/QMh0u4XYRlobMJ3ATRve6R7LV1blCKHBiZFJ/pNwhawkcm1Y4oYHG/iHM/iloOoUopH07zLIryzliXP+Qm4HqpgYR4dpaoyM2FnwGjXioHnc3tBLJsXPpLbnrhrIKiAbxRuGNPQcF0GMgtuSKLTBUSJeW+pk0PcKNe/Z9w3l0oLe0fkaazRm9dgqYhCsU6LSC57fEFuLmBVKJ8q4osjkm8NES9wvkDVKnshSsRYRqyequ4Vi33O7WbxfYPhGlX4hbL8hpxdsdtS9Qx9/R+qCwf8rN1/gTE9THpDe8DkE2sIx6UhkZOdLNuWGXVGRz+/ZuFfU+o39oGnKAfmiCcd3SBdxISP3heejBVEVkB13l8xedYiwR8mW6t2VWR85izfE+yuum/GvBSo4RHliE59ZZI+aHBUJsc6EMVBsE2KVzCnTqEQKF9rsKCnZMeIHB14z5ZKGkqQKeiI5LwzqjUGU5FywZEuImqWVHP9Q09eJsK8Zm4HJRKTdMANavmMcGy5XeH39xn+8Rq7/8yvPz//k//u3kd9/+SfJnPi3sCI3FQ0gpu85Rb9r2GH5Y6fIzQb3L5Kphbg7M98fWef3dGXDYhTyWpLXgC0umPJHIjWpH9ioK604E5Ii3gxNNgx1yzyMFMeRzeLIokVGS5FWhLAMeoN7rAilRHUVqyhZa4erd6i2xW/u0GbCFCth56CeKFRGaKj1gJ7AjRqjarL0zP4eeROsSRKTwQ+AahmNZyc1Jt+DXsllgb79mR+PI7tzQZCfKMIjWysppgitJ5tA4kjOnioIEl8J8sbtmr8XGNfAVDg+TzPeP1I2Cjd5qvHfMINAnSKtLtjbPe3ynp09U5mer7Uns6KnARcE07LlpCN1HpG7lTvRIaTBSoO04FVDciu9CSyFJoaWog98SCOBgRVLXJ+ZENgZcnaE+j0xZ0QwRDxlYfDCcNk4gnlDhECRf6WKC/dqBHtlXSWP+sZGfmE1AecEJgiKXYXJCbG0FPY9wf0PfPQE+Ru56RmGiuHuDt83FKLjtVLM4QGouNgCZyJ6ygghUGuHdRXIFrfdEL+9UvgDZt5yWL5Hwtac6TQU4UY6//Z9A4enrSX/FN847l+4TJnxbSboEWMU9d0TWhUMmyvTumNMM6WMmO2WH4uSbDyNL6mPmVw51rhjLRKTOqH8C9N2YTp95CsJERP310ce9IJavwtb+mwYfoent0i4Juy3mTFOeOlZnKX7LLn7W0nTVZhKo0SF2kaMtGRlWMULxh3JYwFJ4MuV7MDNmkzN7t2O3dM7Pn48sL8/oE2H62cqdcKvENWN1y4j65L5riRohShnVP7M9jYj0it9cUJcN1RjiZQDi5+wxcDrs2K9t5A3iPmFajMR1t/oniQxWB6KF6hbTnctLnmmaSL5iqn7gBwzRS+Rq8TKPZfDxOJ7lATj9mRXoBvJPQe0j4BlUhPuZJhuNeGLpSpq6qFmf2sxOjF8O1LdDPcadkWkvW9pc+Cd/kq6jWh55kNpyDvJ+N5TyBeWhzfEW6LPD+zXLfNwgnHCzxs2/rvvQX9bOYWSqj0w2z9yLnZ8JNLYgM5bYjWwkVfaaYL1Sr49M0vFQkKdZkx6IFuDcR120eAG7Emx+oV1kAx3mlw77swGg6N4WIhp5VpkhrBihUI9Bu4v3yhfv1LFe6LasGz/TJwlQ/iGdJH/das5KElqLbHP1KugdBI1TzApovDgFHLeoBwwJILVqPaJa64o60TiSi0T27onuSv+krmcYPjlHvqFar5hXEYuEnv9ibTVtNxjd3/iYW6wa+CgMlWq2X/JqJtmtZnPytOlGUPFIj7R20R7k5jLljnsOQnFW/4D4fo7m/pGs2qMfyZQEJt/44t9IN0melGBvHAVF3QDWlXM9kD7ztFM7ylcSawbbgiMM/Qvlj7e0YeaSbeci4JzeuJvrgIr0F2DPm3JCG7SU+gPpP4bj+Yzg8m4uKf1ieTAFpKizOjwO3qxbGQkuQanB2zr2YTEakpUlwk7zVle+X1OKHXPnTqQB0NaHfv3BaWvMV4h5ZZDfuRGwWxXLmbipZvZftxRxL9SphLvSuZQUPymeHGPCCFokubTeeThqhCiI62Jk76hHn8nqpXyLcCXG2Vekcsjtx8KpGso6w4nPZd4xswlc3yhtyPKZqpLzZR6xnrgy7jBFlfmwuGMJN23SPGFc1ujHo505kD9+kh19DzYkTY6BAPH2vJFHvj7alnLgjwlVi/oRSYcZ4ZNQTH+jLh5niaPuWbeTYmtWag76HSDZUAdA2touFRfeb2tiI3hpQskuSeuBtfe2E4NLhzJrsMWf8a6R8TXhqetoL7bYcyehzuJ7HbMxYZprLilwPT1lSCO0D9h6jvmNKFsZgkO995xKQT5o8KlXzg3A/VDRX0o6M+Or+fIPI+Y/ZbZvOMUFmLZkx3M0eH7wCThZhS2TgjlqeIb8lajit+oKLgkTQ4L6fgF7V6J5QG0pnptCOsToVSE2eI8qFuD9AF59BhrEDYzCI0TBXFVrJNl2vfoZkKKjjIYmHsqpTiUM7XJTPMj3WIoGsd2XLkr7gjlxFkmUGCrkSLAH19rZgy4DTrXVBeBjO/ZDoHS16jFgugpY0NUC1p8QBWa/dqSpk/cxMpRT2i9Z9f/yC3v0OWRftexqaAKI3eTYT717N9t0WGmChfWpy+8qCMFiZ5A9oayTMQKVhHIyROr31C3FfqG4mZwp45sDa/ld5nZeo70BrK+UcuJXnhCZVDhDpc2zMxMp0wIPU3xlZALtHVwnTiqOy7ND4xhz3QAa0qEaqC5Z54vVAZUZRm45y1nFjvyZLcs857gTlznHde8RfmaJPdUu5m2kjTdn3BCUaia6t1K3mWm3f8PYyJSpsy2SMzfHNupRlUrWQfSbqb+knmZA9PlkcNtQ/Il/SJJG08QmouQ9O09LrRMMeOcYMwVE4pFTQQnsbNmFYFdWHDxhAC87alERouaNkTEaPEr1ClTpi1teU8ba2QUKP9CYSOkG4X8nbKYuawjKwfqrJiyohgWtA9s/gLVrKkfnvjTH1s+/fEjf7h74t/+7+95+vEDcp8JZcSNgvkmcWTebpnruEHMGZE/cxaJaYGnF0uZam7dz4QPFS7d2C+SXV3RuZF6WhDR07hnnLkw1Htu0zty8QsbM5LWr8wrqLsN1fuPeN0wmcwsSk6mwbsFe35B/t3ijQBRsXeCbgoUpWRaNWUa8b3FRUnlz3C0pPUrZ1lzlRZZaqRUXFNLRlPYjN7OaBlQc4/TkSm9UUmLEBtiHTCFww4Fs1Go3Q5lLEo5UnaEEJFLjRwMZtTI8UDKipfzr/z2a8/r6ZXfr3/l81/+G3//539weTtTmfW7UEOA2i8MMVOSUU1B2Q8wTNR5JOUCmUo+ij2p3iB2lmccwygxa4Ao2TOgRYJKEpxlZuQsPcPOUlUGlwSLuZI2Z4Zlw60sQGomY6lMS9hZYkhE7dEIktQUoiJWnlcdePw2YqYDggve3+PnHeJasYgNxUNEZsEQDnwpHItZWOojofDI6kzROeTSs9U/MuSSfjJk6cGWFHPP8py53QTb1VGpTCgFQi4gE8o66tsNEWtkdOgJ9KTYfdjx3PUcm7/xZgzrxbH7/Yb7JtjEPY23OOAYTlw3Ix85UfeKzgu6xx8ZNopRnFm3N/zvI40IPGw3VMNCbytuPuCWC0W1pZIKu/WYWlA7i+QfaGvw2XFQCblZ2K89MSh8uaD6mbxmgi75nCLhsedaJ2JdIh+gDCUh1pSixLSR9fGZeHkmhEhyM61XyNdnlJiYp4bxL1tSpxgyCK+YTMLkEqsThajJCyylZJQVK5pqlsxBkvWIGzW7dcWNPQc/Y+uGZErGxeCqgkxH5zdgl+9ngkSGmmw1/scr2k6w0VwONXlXYrXHrZo53mHyI3JWFIsk9Jrm9Q33pvmsz5zX33A6IZaZaWqpk0BcYLk2aBl4Z7dMsUBVE/v7AnV5wboC7Ewsath6it0bNqyE5YVquDJu9txeBtxbQE0zXGqO6pFcbOn6GmHucKsjpopyDNjyHfvwiKFmM3tGOdG0FcVuonu70avM3+TMr+8ElZ6RyRFnSXFNzG8F+eUNQeAtN7h8Idh/kPKK4gObNbNRHYgN6teIc5lbYZnffkPGEt+8Yu4H6BxWXVCLw9OST4rQ37iVDWuGx6PHOkHHzJGJsbhnU1tMziT/wlFkqmLBbio+GUkYFkrl0G1keY2UVDRTg+5WivmVsE6ciwHd1FS7DULWlBeJrQVs7vGngrosOf9zQy4Um3cndgsUm4G1bpC2wDcVqjyjTObgtgzXK7/HG7d6wIXIdF2Q+grvVjxn1iFS/W1iWxtEIVlXi9EFRSGJjUGFjmBKLlXk+PiO1xmUrLFtgby+krKnuxUs4gfqJ0HRGWw58mVtkYNAFhNKHWnbI9Pmjb7fUJ4UURTwsJK7CzFeeX49k8QrxeuNT25mtY5RQdUueKeJVUkTL9gw4C/As0WcK5YksQ2c1vS9ezYqzoMnBE/KK9dvlpffOwTf3+ef14RsI38WT/xLXZDlF9S1R1WSk3rmjcxqZqwWICxCjhzaLcvJoP+Z0GfFzEjefeJ5OVE+16RJsp0bfnqL3BWGMikGn/m6vLJcJadDQWNLQrwnlxITJEVZsaDY7yvCOiJiZr4NpGhRuw29eY+2LXPXsiZDvStwsUFedzxNDb9/mXl1mrXbkdKO+fP34n5wC8oILu8T9bvM0MAl3UAIknBsgmUTW6Rv8XZFKej1gaUbOH377gKikYR8IImKJVxxb5br6mn6lvXyDme3NEGwi49stoIyZZrJEd8qdqui0luSlqhhR3qd8csbz85Q/peSZDZcpeJ/Nb9zk472LKkWqCZL5WoeygF9ncnlQvH6gK7eEPnGzl6w3NgwM06v2PhH2u09Z1XRHxPLUfO46Qml5DTcuMSVB/ONYgZt/8GszqgnxzsqtrNFSoUrF4Zqx621DJf/CyLN3M/AJqPtO6x9Ii9wWwLX4pmwfiW8/EaOlt4JdLHAMvDSjtzGhsa+EoeKizY0RUtSIwwL+VgRzIVb27Oagcv6K8eDZJEW1yVkmXFOEmJNfq0pzZlkNNF3lJSIckP+IKg6RSUqVj3gW0thAlE80hiP9JFkLN48Uw07sh1BjUytoyp73r1BsRgyF2R2HJ4V6vU93XphzT1zewDTUWw26EGhl5UxbbF0RO15DheaqJg2F5bS8aYCl4cta/aUfUssO0IMxAfwD9+wZce+SggK8mHhLtdoZVHSENwbVVowl8hXP6Ad1E3FqBp8itylku1VwLbmPpxok6K9ebwA4SLxLbGK99S3D4ijQseJhhesXmiSwmiHIlLllkOTqduBUFZU/obGcDz/hEsSayK+XrhdjnQqs5Q/IlnRlBqKE20TmE4LQQbq5UYvNuzbkofiJ/gSKTcNcUxUVQP6f7KKhYP/M7MtKNSFaDbM3wRCR5pGQbWyaf7J89XS5YRUe1L1QD1lcnEP3Q2zHpnmAnu4UZJYxR1CLGh2rOVMVD0yvEN4Sc933rAUPbW6YwXiXLGrA037DlRg/HlCceTwKujaT6jwG1/Nnq4U+PqOTimWN0t529E/3dAmUGTYGMGgFF62CBQ1F9Inw/o/S7YfI6IbKULGi4qJkWZXI8yGwQVusqF7t6GOFWnziu4F6Aeuh0fufnPIdoJxYWDDSf2f5N7SthFtNvhKkQ4DmkjMFwZb8rbU5O0F6Rq0kKxMYGaEUbgMuWxIS085XMhRU5aSQq+sqSDMy/cVlFXk9oAsQAiJXgQ5elAZMCx1hhjpfEBuLXkeCGEiyJYBwSSfaUJFKK74JaPlFllU6JvH1iVDBdY36POJDkVOluGzoiwr9oXjrbqSrxUyJtbujl/ezvyJlVVMCHNHxCH6Fdu2bM8LN1Hx5eV30l8GlKnpIzy/nfh5btnbGs3Iq4DL2wu//B9/ZV5OJPkL5196xH9eMdYS1IU0PfPt9YXtP/+d2/GFv/3y7/zj+I3/Jx/4cfszq7Eo99+IakMhCmxjSVJQn1pOouTjQ0n7orhzZwQStRQIq4gXuInIvtwQ3h6p1gvuhw0rBw5lwtYLr0ajv00UBcSbY304E8732Buow3f8rbCeVAWqa2KoRjhn7vuBsL0nBSiyo/pDiTrCqG6wL5FyYusOqLLBVi2MI9QS7IrSDu80r0Gg64h1e0RacfeZLr1QCE+YanI5I4zDpYVRWOYaZPw3qtNXinZLjOCSxZqKQSvqQ028CHIa0GLkfj4iuw2m25HzSG8iOx3J8/W79bLNdAfLaaxw04WmsmzJTPcCzoldnjg0/wen4UfKfGU2ltptwEhSCHjn0Nuv3Pwj82jYI8gHxRQnlmDRDQx1RWciYTYsYeXeCOrxHYN2FHPPr/Y3nsoP+KkGb7lDI6aO9JiQPrMIweH6zNFt+dV94P3+wuFsmLWh8AIzeWL1K5P4A6l4oZUWv7unOp1RVUevt9yNM/M288qNrYT1vPApHrns3lPNE6LdI0YoYkV/f+EhL+jccmqgTFusseynhatqUPsdaoFb0dPNibX0lMWGWexQJchCfXc1XEtE1+I2oNINygWRLa/eUt9nQi75ActsP5PzR1y7oi7/5CjvaOgo7g+U9QTzjtIc+LV+T6t69q5lOp4wPLN59wOqXFlV4N16ZJAOdfqCbxTdbSBtWpqiJqi/YPQd8+mO5f0zWZbIReE6jZkMh0IQbWZYvjC8PtEPC8uHT+TbDaE2sGmpXheWfcmqPLtpou005AR3AbsocFtmPCol5Kxon1d4MCzdgsgDn23N5uDwlDw+WGI6svYPCCsxaWV1J2RREqjZlonZBLwT7CtF/foDQd2Yqgp9FsSnCpUDt+6N4PfonWKdJXqaaQ5vFDySs+ZiLMIONKumCJbRryhZ4dUKSfHa/Eg9DdSV5jktjGPN3k9wV9MIybnccGdXRgKT2FE6yx2ZyU60TebaS9RsmLWk2EC5PJIeJMkEUjbok0e2z8xrz/3B4ETDRTxhzIa7hxOTK2nKI1lbApLr0cN94FFlXk4XCt9R1oq7byP+ILhowX1qafNXYvhIX2hW2WBjg58clXiHXEeGeaCzO76tL+yPCflOkK1l2WVMu1JNNSslm8eZ5/HM41AjVstSnxnkjkErPkVLMRbIauHjdcGoiGh7prXi9V6xHb8h6wpxK1j2Lc18w287SjFwO2fSXcUcJrZe81tdot0L12Km231kCC90zYLZ71FiYbWJu82NpEvm6cBt/Ux1twMZaYcrFA+IW0fXGZblCkXJUBiih2sW3P0e0YXi4RFOwrCXI10A/AnvWwwLlXGM64Wqh1/ubnQIZqfpxBdsfUfqX3FtgbUdq+sIzYq8Qqpmout4f9P4OhFy4v54IZaJXiZWeyOoBXcrSGLGRMm8a1hpWNsjnaqYNgXJN7gouWsVykrWqWe/feXEO8IwcrjbcA0XHlKDUHdsyxNr3PCqN9y3M2k1fF0cT2VGhJGFMyDZHz3pcKFQO9bcIBpNuVR8bmYO4whtReE8atnBIjnfbegKRbfUDPGKko+0UuLtCyYpztNImyOuCsSqooqKXnyldobs9iQBdavYJItcJH2ZUGlgIyWTPbM1B5aY+eAzawvxeWAu7xhloLQOrwLcKg51QlyvfN4udOsd18rz9JJJ7xUqP6OXCDSU84HbPGFMQVntEUuJmBI4SS4DIXuqMeP1hbxrMb8ZUgXLQVD7K3PIHMQGLxS3e8lmdazCsNWKOsA0epKcKWODrxKDe4+xHrU4eiU5yCPfiDRrh8974IWmiyTbIB9fqHNBUhfmfMCKmdT/C7PJLFWikppCCtZao95a6qPHm5rpLlCXJ5wrKbcVi9XY5QOFDZAV88tK1S6cHcjskOOV3GqS0oz9C9gSmXcom6l9g9q9J68aG0owII8pcvML4gi33YbSlRzLRzZFSd4tmHnGvjvh7iQqPDNsJ5R5T0IxDl8Yf3/j+X/+wnp8oytfUOJIikfmDGIytP974jLWI4aF5K/403cc3iAVZoqo6JnHlnxLyCXg3ETTC/LakojM9YS0K5sV6rcN2rVoEoTIPFncOnMNJ6bcM4QWnKC/XJDqZ7bKsKSaUqwEBIsWpJ/+Hb8R3HqFLhqeFygvHr8sXLFIq0BVlPuGtEr8krmaj4T5TI6SVRy5LJCuNZvxgDITt/Ubm6GgCB9xxQYjOmJlKL6dsclwHw2H4Y+U5UImMaVMsclY4ymnQBEEa/4NE/8Di6VqVlQIWJdRMSPFFnLEIdlWGlc9EVPGn2coSoK/oSpwxUpMDTp4yihQ6R5SZEEiC0lComTBpkh82yh8uiL9FWNLlAuo+oYunr6XXvoDdnHsi5KHD/+Jh59+4t7+gf/08V94/POfOOw2qHmDkTPrIWC2F4ZaonzNuh3R9x/IoeZu80dObYEpDojhhhIa3z4hRY/eZbRJFPs994ePyPonnu4faTeZp3qiqAIqCVqfEapCxo6//a8TTX1HhUasFdO6QSeJMpH9hx0//dTx//l//7/4rz+/44+Pe1qh0ceM8ZZBfyJa/f9n6T+WLtkS9Dpwben6yF+FuCIzqwAUADaNTVq//7B7wBakFQGyEpl5RdyIXx3lesseBN7AR+7bt31rLaZVIKaMFhDERLn0mJdXXuPEtD9SJU3jD6yq4LLdUOUCGQz5KVEcA4c0ofLC2X0j+I6mVoSj+Q7BF4Ftf4BtJJaJspfkQrD2A+tSEicob7DsE764R1nPRp1JsuF6g2kb0XlH0yhUNqQUCH9E0AM8FuA7Rrni5oHteqJzC7LcInYFLrVs04aXIeGpCQ97buHGa/6EUIqcnmlij8Xhu4VBF2Qd2BZXvLQk7xkGWDcS34LzC4VuGAsFLlBVr6ixwdQrqr4nFo4+aVgCVVxJwdFnzfUaGIRChEwhK+TTI8wCNWf84pjkC95MhNyj1I1H+UinPUcyMjjc2aHZQgR3W9l9+0KSmmlwqLlkmCKv7YXBBebUUssfEL4gqEySEe894v4F6VduQhFoiHyk8JZPqSf1kbO88cyZ0b/xLiuWcU/sJoT9yGZQBKW41Xti3bGVI1EOqHfNfQp0Fvyh57VMKKXRVcbIiKwCbhN4+luDu2x5mxaK4pVKnliD52tzhd2CmxJ501OYiBpnxNLxnp4xwxfkbaVYYPm6J0bJ2/tXpuLKdLvH+opX3bItSmwa8EGSVEJz5DIvWKco1Gc+uy2NhDWtMERssRLcwJP4xjwVBFZ0mbD1AXEeiflMFRRtWrnfP3Lbf0J2W5x4Ir12pDyzpB3JHVk/gEg/EDzYokQdJYMpENUJYws25on93UxpAu01oNpHZNOy5BtFW9GKkU+zx4gjfbPiw6+ch56kDDdrsQfDRgZW+YLvgGXFIwjujnv3Slkm6vDM6CH6j7CxiNHQdx2F2aNPG8xNI0NA6CvXWpNjxvwQqeqVrRAUP0CYVmZrGb/doRmoCVxx3IwgXO9Z05mJBVuPKCd4rcDXAuv2JG64RcLbmfs8M1U36vmZH0yi1W/o3YqlpS4M+Rb44uFGxR3f2NYrY3cip5Y83lgvPSmDjZLt3w78cROsTiOFxLiClxZ69UgS91zSAyk8YLOgWMCrilZ1NGPNeO4QpwbT1RyGz6z9xKOoqYqFsCZu94qzVtTPmpAkS/iRt3dN/sdKmAxnFErOpPYfBFliyh0he7aLRH1sEU1LqzVST5jpSOHBrj1WFBR4opW4f5nAOrbVjbsUiFvD+CmDqzglgxtLgrNUuuJpjZA0IW2Z1YXCC4SFJgyI1SD8TLG840OHS1BlgdnuOVJioydVeyj/QtNPVOOAjj19VULY0HUbyvwX+Psdfx8bVnXHmB1uNej+C3p8RQyB+/wL92ZGXa+U2x57X1Enx/0QOKmed/8rwQb03UTuekJxYd1XxB8sPzeSTjZUSaDXPctVwf0TRVsiRcIWUMUDdX1gf9hTFpnl9YR7Wfh7CJy29/w4PPDoXngp/kFHQ+PPVKPBxX+moKKtnuleM+H2FbF6qmHErO+s6wX79plKbxDcsZkDQlTkUFI1D+ASSf7OealQRlLZ3/j76imD5MFVrC+/kPMWtwqm8Y6cI+v6gcVmpM6EeSR5Qa01vuhYxQ3rR5yQzHqgJmORqD6Q4o6lqHGqJDSgcmJX1TSFpK5LhNpSdIHdbo+a7ynKGW06Sl8yRMctn6jdF6wdEWhKcU8cM6gPIB2l6AmbI305sb9FSiWpB8Vmr5CTBHXk4WtL1pm9E6x7hRw0Sn1CFFuy2PJSB8b2ipwTcR3oU0JZxVvhMcvMxlWEJDjPPWEC+dNEOv6Vfi5YlgJdzoR0Il3PCHclGUNT3ajPkpcYiVEjOouzkJsbB3Ejy4WrkWyHiuVWsfUHujgS88AtVRj9kWpdKZeGD0FRaUshFgo1keXfSXli33gqV5LKAzENpJ1B1iXO3ZDFAv0Ofb9lsBfqOSBXxyId53pGt4YgHFrPrHFiLg3flhIZDGVdkYqeUlyZU08qEz7DVHliVwBndBcN8xfJbTfTqBspRh56jTeC69Bz53bM7SPTBNuPW0Q88cvXgv5243xeQB1YkuF6/oXrLVBtWmyyiKkE1zOIM6sfyfpA/ipRbkO8cyypp1YL6iGS5kh0I3RbvCnJasMcbqjCM+gGuyaEKllCy71siXLFO4eKF/54fef5tGVpYesu9D5hl5YPfzEs8cbEjLoI/FhSqB519w/83FLWDl0u/LGMfOog6Iku77FYalWjJs3yeMMIQc0Dt8HhJsn2KSOHR641dOkXxOoYn5/oVs1FQytG7PtI94PibEemO8OHOnBeIjq3RAz5DPYwktVE9HvWMjHwlY/FAzlv6a8lTix0TSbTkVzJSTu2mw27WfLiI6bQBBuwB0sMnlVA5QxphrS+ENaMLz/TvM3QBEpt6HPBIgNufOPQae7cI89Lx1PUBDy9LXnUEht7znNG3k2sL5qkEjauXPXKvulIwvP7IhGmxmnBRSge1hO8K4w13FSHiTXJBWbZs68D51Qwe0Xo9kwu8Gu+0Yo7Ju05z5pddcfD/Z+w50i5KajlAT8Z6DzGe+Z0pjUd7f09Xb3hoar5rRMIe4WugPeJqA33xT1P5n+gKQZCI+n+0ZJCxu0XlBe41waTI1XjWasSGxXruWH4oSLsa3SKfI6Z/00vxLUnhoZGVjyHBX1RFPPI7bWhejTYYGj8AV9Bzn/FXgImrDQGXhdBDj3DUJKKjvI2ouoj09lh6kS1cawq0n0qEIsmdB6yx/QB8fuKMoIge/KpotxL5sNvjH98Qj6I732Bs6NWmb7YsCkiNr2R546bDdRWoA8bfLDk95LdfodXjrONIJ+QLBTllmuxQcQFNSuUL8ArqkJAcWOqBcX4ii52FGZh45+5DgWL2FFuPN4VyHeFpKSuNdZo1m+/0VSaEAJ2ExAi4XTAa4N7VZgPFv+r5fY2EsPEWniEqBgxTHbBesXqnnm+LpyrPwhzx6k/8/PmDrtpcbeIFJnX5y9IvyAaxdL3dEZBvmMVmp1YOSlFZmaMM2r48D0s6GbkdCHXDbdpZhCf2G0HHt8a5sMrn9eaV6PprEemjDN71uff0WqLMy8YE7nND+weDQySUCbmpaPYH4nO4VGoStNJS06vvDx6zOYjymvyEoi5wDjFPu65dSVPObKS0HOJbzpWJWjiZ+YCqkWhxEj1sSCFkm0GwsLyYUTJgk/ScgmJnb3jfjqxDCVTm5BjCVVAqUSyF4plw3s9EZuC+tTQd5I2CrZjIhUTnCNhNyFURWp2ZD+ykpF54X1p+OHaMu9f8HlLCgZVNsy2JpUrrIrDkJDVjXFN1O1XxmSp/cRrbVH+mS55qjpRXmfSMRGvgPk7hI+gLuRScZMLI1vsKJgWxbdm4M99g7MDl9sbfq7pjhMqFsjGssY9oJlGR3k4c3Xw8atmfpoocs+3lHm43zIuI0IH5nzkjhn0iFw+QOhIfaSvW+p+pmkCvt2wj5fv77OQKZImTyeMigQN81uB1opubrGVwwcojy16vrLGiuJWstcVsxCkGepJ45eCUGfS8o75tcVsMy5VnNaBsl5J2vJefuHnoeTx+AkRF+KzJz994cHeo+ZIcz6jFGhR0BkQw0JKAllc2dYWoS6swZLDG/FakJqZz23FOifS4EjtxEqHXDLizqNuNZ0e8J1m0Q31FOns76SNYKsUS9FQigY9R16nZ7a6wU4F62aPTCPSX/m7a/jz0wEXHOsfDRe7Iu0rVdsQhpqQGsawp1WRspyZ48j7uKHLgiA7wv0bxflI7jKlahnvC3Z9ZA6CoxeMdSCXe6wW7HMkLh278sRz2CGXmWVYuFLxpBrW2bObRi4HgwotrQQ5FhTzL3BMqGNFrrYUhSUkhe4PlNYT8obUrphpJY6Buf2du/IzF5EodMKs9+gi8vBypDhIQr2wDluKUrCwcpyuxGwQyaKMppAzLl7wxYEoR+rhQIgedy0J+5EoT4Tbgb1uEf8po6bMh9eFZU7kf3+PMCv/SXxhfk/IYofZf3/HxEmzRIs1O7JuKAfoj5LupBnFxOWh595lZJT4tDJPe87Vmf054pojdqvQQ0KLgnMuUemddZDY/ZW8bKhzouNAkA7frWzMlWw/kZYJIQOTe6U1kegvKPUXkt/hSOi7GScz5Bf8tmJvSnJ/Y956bvlAbSwlgpcsOVwNbflKThXPl4JtN5IYEUIgXz3x8ZFBH/i4HhkkWPmFki3rLlONmVlkKBymrEhTjd4HhAcnX8hLAWPNokdSccWaJ766micXuXSGXchE1dOw5e7dUx32mN3CkjVFmVi+Bspti9WK01JQbL/Q5JK0FKRFo9aPfJA9pxfFt66lWyNvKbM/WIabptlYqmLmzpWsmwKhFOs60y6G1IGkpl5XZJjI0pJVgWsMh7dXVFngUsTYljl6orLUMbAkgx8shyrgo2IxCWsl6ZKo6si1nFlUREnF7BJlo1nmTOMCa9VQ5RvEGqUzi+hJfo8uLkxiTxclnc9MbmC9q2loObkBdnfYZab8Y6WtA+1PkjRVyHyD8scD3H+iSjWhzFzVRDEpauGZ0sjNX3nVkfDeIl3DP32oOHQ/cfcffuLn/9zwP/3Tz/zpTx/4d//hn7+Hj6RAiIWvO4ttBMrNCDT+ONI/CUa70kRDTgqpFlDv0GyodcYWC2a8UuYHwprRQaG1RbIiGokvTpiU2QqLSJJq0/Dhc8mREq0MO+4pakOlt5TG0AbNOEdSWFH1keL+iVJ2FC815bhn9x7wfoDXhum/RYwH0SfWN4P5W0ORbgwvZzr3FWkUZv2u2wo5k4p76v1n9KHEbV/oasVYeU5tBjWxaVqy/MTk76hmTx0dQs/UjwFrFnwSpHUmFQNG16hvDseWjV/5UPbsZEvQM9JG2lmjh8RNOhpm+iWRc2QxW0yaaKRFmQKlN5hkUVZThJmwafFULOuF1WtUnilLyxoK7OT41KzcTMDcrpRzIubMm88UfqbuJUNeEFWFbzs29gPyoHAxsS8zlZ/oyu9Z7y+0RLdF1F/p3YUUB8RNkoqFnoYnHI0VFHYh6MRHPO2bQbtAKyeUeWOQ4IqC7AooBGICPVRIMVGpBtkqkhbELZw2T+RwQM8968Xhtw0FG6SIRPmFk6o4rY4lWdbhA52IyHphKyB6xxWJiG/45ZXNJnKwEZ813VqS0jtpuuGPiSK+EwMMYkveD6xm4bpfoa+pkgYVcBTsh38C/UhQBVFMbOKNTYSD8kz9L/z18jfenv83xusvnIaVUe5Zhpl5jrz8YQlCY95/JwvBr1rz68ea32dLug/Ya6IOR567gfEywbCyfi2IqsElz21tuYYdl6Cp8guLP/EYrmz7HitXckio84zMFZYTudwxk0hhwcQb5/COtzNSjKTFIGykclsIFjEphCkx7Mn0xGmkILAuhlC9EETilAuuSUN1R9ArOS/4tGERdyymI/mC2+c7ejdi0pVNo/jh41/Y7e6odECGgtUJoltZVMGyOP64vfH1yxvz4plMAltTGTAmI5sFJSZWJOuSUVny6AOSF5zqCYCkY7pCv4kMVYUQkffyE/UxU7U3PrmJZq0ZvaGqt7i7AV8uiCqSWkXSnkJWHCN0QVIsR3JjiKHHaJBBccwQF481kpxLGBTjDF5JcltSx68UXlNzx+QbbsHRlIo3dyL7hcZnzB89ZMHWOnQ5kkzm/LowiMyYVvrzwhdfompLwcIgHEuOdCKCLPDSUlQVNLB/Ggh6g7MCt9mTdKTNB9y65dVL9kGj5Up5MLjaoPcdOWnW/cDiBS4VpLQnseVh57g9XFkYybtXzm8JTYY8UE5vFOeFoRa8OwXXQE57tPvESW1QeSH4xFBqZrOQngJeSNp3xxg21KlCLDvEzXE3fObQz9hDpGme+cvkuZ0lQTywNz9wtwVRddRaYsoXqtKB/QZNg3u3bP+6kA6BurpQXR/4rErc9MxD4+kuJdurIS2SpahgWOmV51/3A6KaeX2o+OUddvkrjFtOJD6yUm9Wyh8OnOOGao3sTctuo2ljoouapsoUl9+IRHLZkQ8rg9aI1uPcguwWnLlwnaC5atofR6oCdrdntNwzhDN+tNjxkcXccY6JmN8RnedkWorZU217lt13tXNILeVSMecO4faEvkOeA8+jxusKU7fkjxLZXlnEM741vNUBKSNhI5nMgDs5JqUYlUXrfzD+lxeWzUpsDVq0cOkg/saQFhAbds2W5hWcXDDhisuvSEZ+3A+YvwXGNXM7/Mr+g+e+/UibS7rRE+KVuvGUxTNen/iDyMdlIu4G1AT+OjHaHuzE2Ayo0TO/JWysOMuK8+S5ihE3DchfYPCC0il2q2cB8nDlPgmcHtm+W4S0qOcts1E4RqxKxLXm5Xzg29c9v/DC0SxsdM10f2XaXxiaDqodc5sJc8Oa/5nrxuB2C8vZ4qzCxGcoNFkmfBxZo+RsFXo2zKHlxV8ZG0lCEOKGvpVcdzXjtGcMjvKckLmnWAPqfE+1lCRzoqgdlRSYwzupLYnTG+bXhvfpf+F9p9F7QQp/411dUW3CakW+15imR+57imXifXNDxgfMF0mOkaH/g5e15TFmtrmEO/C7V4yYqZuSfsxM04W2ekSWDorPmMeJJUzMS8bGiSXCutT4NRK1xKQGtavRUlOKj+g1ISpoG0k9fG80GZdorcC4ERsMtRN0HublSggTSa/0IjFUJXmOKHNDlD2NeKLyYLuSZvwHu7eE8ytp9li546Yjr3NJCBlbKnKvGNbIg5AwOjhdmesf6P2eoVb4rsH7A6/jyFMRUHZGhRtTOlPqjMoK2des0RB8h1OJcpjw25WVkeHryGk3k/5NUUwPpJ3ANxN5G7k1DfK+YC/PdFvHw2S4X2aat4nq7JlM5lR58vmEDJFc/ZVsFhgK7E0Rb5mhbimUwg4z4TSRiw23aOnfR/ItMMjEGiaCO9OGTCEiQRYs73+jzhqdAjSGBJhw440BV0bujEIuULuEkea79rbTXGWJfJXYqkTl39Fhy+b2RhojczMgzBunaaAKlhQaDsEznzTubmaov+GWF9AFWh9fob/iF42uHrBDi36E96lkRyIdK8q55DF/Y3p4pFs0fVpRQ0DVB+Ko6KNiU//Ia7ogqhVVLfAeOZQ7svaUFcS4Uo4b1s3Knsx60UQSUezwdcWQA3ow+Ji57jv2VSCfIj60zM5RVZqDjqxloqDHG0/q4KkV3O2euNtL3PTIOA9cLjfG1dNdGrirOD45Ls+GudQodqiyZ/YR6XvyHShf41TAfl6ZVMU1d9xtet5Vh8wKuw8E11IHh0uKrC1HkUih5uZmmuJKoiQqTbNcybsOpwIZRWxW8iuMd5rtt8ByTryGN1ovuLWRZjCEQnC79uwPBx6UAbOSQss3Mm3pOF018SUgf8x41VJUBfuXQOkT+rSgjg8kNzOpwFG94KVE9zU9JdqPOLuysS12XjFoVNZU0kHREcKCMoarMvT/9l94nVqUU5ASFsfZDdSdwcwfSOoBpw1u8Ny3f/DVjIgpsNt4XFVw/jFjw5FWfCVVNa4LlGvBLb3QmI41ecpbSSMk0j+ha0HpD5TpwhR3SDTbwlAUPVHO5MZgyytLLkhfbwxuwasZ7wydmBGmZ53+I91O86wqdu//wJMx1Z7WSMbFomZPKSKnoaLxMJkeoaB9d6TjjiVmcv6K6GvcF0EoAu2+J4U9du5wXpLXQJlmUJE6rTypmcHCyRryXQ1LJARI1UqpvoNkoWgBS2gSB7NSio/casV9/Cu3+kdchmoj0NkjPu0Q84Lv7ljsKx/1n7nNgrrpIPRUnwRn4fGxYn55o/hUsR7umWbBJKCrVg5xJglJXgUGza05krtEtSrmXyRhPpG3FuvuSSGi6hsqakqzQxeC9zLDy4gRAiG3oErkskHbZ3pvUcnh7/aI26+c+pk/11v+KBo8v/Kz+Ux7vef6klizpt0aNuGFwD1JOEzlqIY/KF3i/dDx03rP3m4Ymsy3L/8HrbuxMz/zK1ecl+z2jyQgZ2AVlCLyLgqapkSpLxzKe+7+9DPRac5JoeLInDRZHYnihiDjD5GsW9bek6JnY17Y7n9m6gNx/gl1kOAz61ZTRIfuJx7LD7xfV9rdjctFEZXl4mY6c4+4ZTaHmZQ8l6IgTRN6OmOqHyiWbwz9DuEr3Aa0r6h6+/1wEWE1nq3/jaCfSHPPT+EZqo/gBsbiM6WDUS0Yf/s+vfxQoFtDvc7ER8Mu/g3pC85fYVN2uLriVfZ8rhMuetbryLLUFMeIsjPvt5mH24nl85EiCEqfGLdfiOsHQimpz++U445fraZTDsQjpfAUziPCBXd7JH9eKJThbrKkrBnNSj8ZTBPw+UhrM2rM5Hmhujui8hduQqGItLND1YazujE3hvMYuOs14VNiKO5QTqBFwZLPxHGAYktyX0nDDmUU6d4Rg2O1BVsjUOn/ROV/or7M+OXC3GzZ1S1pNKRdST+/YFWDaS1jnJjXDVq+02HAJGT1TlpKXrYKdV358+MOsQTa9cbrY8+g7ojrggbeLbRvNYoLxT4zvUzwuUNKhS8T18VTtppq3sK64hnI9ZE7NfLlZDGbjIqCrhqo2oCJW74WC8W646AysgyU/oGh6Glfako3MP048s0LjncT2/gTJM+oS5ztUXj2f/xXlsd/oqoMev3Cl+6RqpE81i3C9kzTheALxHVBOIv/eWVnCiChx4FQWpJ5oHoRWDSZA4diItwkmA1D2WCigOsFuW5wW4kpJf32Hb+NSH3HjciMZe/+DvsPPOqO0/M9RTmRZMm7gns3QdoR5cQyVQxJ81j2lI8Gf/6C2P8HsvnAr2rgz++Wi80ctcE/9ji149UNPEaJfu1Jn+5Z6sjRJ4LKtDhqN2O6J4q1JMkZWX3D5Q3aQD1mhBRY84477LA+Uf3wlXRpWNZMkRNR7zDKYc2VcWmISTJuK6zIeB/ZOs0qFPX6BnZLKTyzFcjrkXFdUI1CxRO+qij/7hinf3D89DPjLNikB8rsUAZ6f2KtDIg9ORncZqJj5Rdd8FM2RNuzFB9pK4WoJHG9ke1M9VIg7hXSfOKwgDQVi9BIJjpqYCKKF3b+X1DzgLBfeL3uqfOf6XaR+c6TfY8oGkDhxhkbJjZ7ReU8+XXBtiV9fmHWitYUqDkh8pbNTjAtB1omepeoDppmaUBavLKM6yvWWNY8UfsVeS0QDwYfam4qITXsUkMlNdFOTFZRnR229SypZWBEdCWz2BLdQhkVwhgmHpFq/B4mMzfSYsE6mmplVC2lmNCbDvGuuW4TRWsI8z2hlxTl98uw0Sfa+iMNGXmdiJVgFyVRZtR6ZBaB4ocCkxpE5ZnHirnS7OYLt6XB/Dzx2Vr4l8C8PpOHzxylImRJO2su4YWyOhL7kt0hsbgRHiVL6ykWg5srdK1Zbppk/zNBWOwukP/4haraEq8l12pEScGmlbgp4Iot7aQ4lQMbF1DWcb00lEJAqbkly/b+T4TwBR0UouoYM8jQ8JdF82Z6nO+xucbHQNpExLUjRbBS4lqDWQzN5p70fkW+CpZ/mil0j96W3PctUmdUgp6CXC2EVCE3iaW/ozUJrXJLalcaLKtO3J6+IfqKulyRf3R8LUcew0ywLUs8kRtNczWcSkkxZmRtKDvJKKD86ugnx3Ty1KlhWTVGPeKmK4vM5KeVJgRmKVjKfyVPW1K6UeYaZMCOb2Rfoq8jTq0YOVIeBsLNwtlDTrjmDv12Zs4dOq0ob5l9jzrviPuG5C9k44l5Zb2bEO5IjCXeSsbkefAvZGuwasuYZmbTUqUe17TUs8aWK1bOuCjYFJDdnpehAnVmW5YUusZeZ/qiRspMVUdGUaDNG7fkqA7/jmZ4Zzk3FPXEx2uJrn6nUDtu1QVjAsV1RFhB2ddQJpQHGUciezj25MVjRs/eOHz0qKvG/jig5o9URaBIkdQJfNEy7TO1AbmZKYoO5TrqyjKKmfa9IXUn6tAwhJl1eccJgc4FMd8R44BJBaY4Y3Jk9/SJh+aIuHNkUZDmjF3fiDFz9Q26gouW/FSeWcJHJhGQusGeKorqndRlXoUk+TvsvAKeIrTUxQM2RHAvuFFRLomsF/rnCtEJpqIkxjO8v1EbxbscEDJDnUheIdaCnB1SGFSAopiQaUIqySxHWv/IvoBp/wHxyx8MKWImRXQlOlvmLxfuq4pw3HNwJUkE3rcNd8KRU02Skbl+Y3P/I8Fngr5DVRHTrNyyZotHTQXLbCHXjFjYGGTSgKASM6G1FO8BnyqmbU0jBL6wKAGfN/8jT/tPsFlYfpv5uyhY3q7sKoUsHPflyu1tj9j33K01+RLhLbL995G8Csbxuy5TXiP+8QGZBUElOn9lu6vZjIJc+u83XnNLNIryOjA5Rd6UbD7D11PN6P9K70byySL097COaAxP+p+I48o8d8hppZkKTCl4NQKwNFGxWQzZR+qskVZDHhGTpg2fyUVm2sNoJPX/7pjyDlt0EE4UvuSaI0/uI+saKfseeb+SvUUVE84aUvmE8AuP7sybnKFoED4SfAU2IetEIwUSQcwtbTWSygtRFxSjZVlnZmb0XFDmPeP8D1JW4DNHO+DEJ9aqwOVMXTzQhH9wkzW2qbm7zIzXQKJljlfUvx7J/+MbdXtgua2QawJgiwsnuWf/CkfpmaqGsWhQOpFChb03ZJcpdWIJlnZ3YjBH6ptnGeBaN0Q/EVGI8mduV8em7Iib7/OP95ho8wNtJ1BDwrwtzPcWlS6c3R3NotCbHjmNuLzlQTv8VDMvDYVJbJaMjYGRgNhUTPOGSp3RpsVPmcWUbLNg9VsENRwT2/4MdkOVVvJqwIHvGsTW0VwLrqJiuDa0haYsBlqryavF1xNhiLTUXM3Ab6lnO36isC8YFE4WlPEJfRu/R62ab3D7yFTVFCFgk8LrAGOHyNBYxyXefwdDJ/B38KgLKmEY9Qsif+SSI2qKdF3HQyNZo6N69ORzSa5gHY6sm4z89leO9w3FfMdbEXB1xdG3RFfTzAEvDMXyb/jhJ65iJsYdRfo79o8/sR4iIRjsdmKZaqQuiHlHGBcK7RBzQrFjlo7aKJ6rjj+VkBmR9SuP8w+4UDE3J1x6wN48g5DosqIL76jdjW/xMx+l5Ogs7nElGHAcaDDoqSc0v+D0j/TeIIz9zix9TjQicpM1tT2wNRobV1KAm/OUoUT1LbejpJuhukyUhSPUd0yj/76zHmeaYybUI+69IumOlDre+yv73W+4ecOhtXzbwd3bTNG1pG5L0prbMFHnjBBwK/9vCPmNavaIOnEJguqcKTuLq0rKUqCCQpQl11e+kxzVjNx9oFECcs9xdcytZCcqpDbYWJOjY7+xVBeLiGdEvGCU57/lI39ZNVcteG+P1KKmaBTnxVMdDGNwHK6RqhUw1+iQeGsm8hLp5g88VCvaJuLlQq4giR5vK4KJ3F88WRvGuSL3ArWXLNszarlDqFfm5cY+/kRoz9wby9/SQJs1wYxUf/6JaujpF028Cuqdp03Q9zMZybtuqEvP/SRQzTMvvzzwcGrIO8nJevZ6YGXLJQSe9orm7bvyspsCqbD0R8dxGklVQxNBXUaCURTxJ0Q9oJyiav5MKTLTIlnCK8U1U9Zb3paauZz4OC+c5pbGR7x4YLSCpzQg44b7W404CLLJnIPCJs9i/k5oO5rfM6kwDN0NtSaiUlAliuvvKBJL0xEK/f2Sbw7YVbDqhJACkTMySXQ00BUIC8XlK+nYIOfx+7ks3aFSCWrAjgWL3NN2A6a3BKMQ4x6dBH4QTDv5/SdnZ0lpJZ8Hyr3AuR4TnvDFJwyvjF6yoeHaRYQ+45GUw0QeNLV9wz+2xC8fcE+wlSNOt7ypgdKuCBww4MIOESO2vHIhcXnXbNIbdhNxY0RUV06FZbfeQS25ZYM5Kfqnv1HxQPCW0pZIfSKuR9bdPSYtrO1CGTdU4UKQCr3X1CJTZkFKBbnckldNUyR884zRiZ1vyaZkSobyjx/o7xxtPjOPG/TBspErhb3DC8fm1THOgbER7JYzTgdSdlBZbjjYw6ZJVES0a5FBMuYrcqmZl4rtZqYpBcEJCtfS7Ury3CNzrLjNCu8s1RpoYknRHCht5nTfsb05nI5cCxjfd5C3TLVExDODyWgNSnhM7mFzIZUeqzrW2iCFww0zsjbIKbGeCm5DwnhD4J8JsUYkRQyOZrbITUNiYmk2lL5ACIly72SRUXFE9InNzaKbLaZo0GYlDQ1aPhL0mVU42K0IJqKuYDhSqyvd+kJ2N4SPvEWNngXdNNLMEpMlZuywc0blBhNveCMJ60Bczrj3Nz6Vjh+MZGMSTkrIsPGSLkW4fv97tIVFvdx4f8kg99S7EWEaxn3P3H0kA5fiicOu4N//+T/yl//5f+L/8T//O/7yl5/55/9hw88/fqatFZVOdGWNrlsGDVfVMLcLotgRlMfIANkz3zI+TJS5IgSByAU2CaaTYppXlHCEu8QSJbFQKAW1PJCD5qoj0U9IcyX6MzlqqmLD48ct3U97+sMH9h9aDp+27B+3CAHaCQofqEfPH2dDDBkjwIfA8PCKSCXxduSHc0dXzYTFkfuJm3vh7SZ4cyBvPa/1mWgDWTiqj4mgL2yuA65s6DaPqOaBTfGRPI0s8Qu4klKM4Hs6kRAKWA3yvSJfSiwVuDNuXFFvGTUUZNHwtvmDYAylzjQ/C/JTTRJACJjU0VSZIBS2zQghkVaR3jOrXSmGC3ER3KKnSp5lvrIuPXY8MwOHoqVOgUosZLeQI0QypragLGPUMJeky4pIcD28MN29MiXD9KcHkJFDK7iqR8ZYcvMerSXhGQhb0vZX7H84I7QHA1elmBeJf7QcbUSKgk8DdNUBmf7BFDK/XxPkDcP5jjBmCq1o7yLzmJjDxCYLtn0JLhFkIMsFQg/O4dVEHC1x15DbAikF89gj1gVEYAmZ0ULysCwtu7UkG0OTF4bqzG16xhmHtRNZQBkUJn6j9pIsE7u4IzcLw1Ywl5plLJmOJ8wlYX1BmiVh1azmM1lU4MFHjdeZoD0ybFCnC6wTwb0QlkjzXLFJCu8SZbBIZ8jqBMGBMIQxolPEuhN5WahcyeU1MkrIu4rcW7IKhIOjqRWvdqEwNeZ/GWDas+YFLypS4bHvihge6X2m3+9I2wpdTbi6R6cBGWdcL7kJQZwSZllh3dAO03/vuChMrmjVHuUTQvYM28hr29BKj1KRz0tL598pLyVN4XGtpiJihUEXF5LpaMs7yA0mX2CY+fK2slQKDiPlcYUi040lWxHQ24j5mrh8yeRigwwlb0VPSp7FZmI4w0NPat7xY897+VccGWc2SLVhagJVB/XHhf9675hTwl8d65Qo339luYuMh4F2PfDgDfFhYlI1rduyEzvWFFFNxb2uePjlHiWuiLklrxfk14BaVkT1laodYd1yeFMI85UPYuY+X3kNE/9thGLeYZYjr7Gm2pV8iwvOR/i9IrxVvG3Ahw+k7kY7P1Ns/zMh/ZkcW6RZ2E8LUnfM8sRyUNgUkcWfUHcZlXccXx1T+InbUREKjxkWZHbMdxk3J+Y2Ui4rs7RE2SKLlZ4BsUo2zhLRTFSw/Hv8zlIjKPoVP09oHXm1jlpFmAR++IRdR5bJgZuIyvMtjqwRXqqZt64g+R2vp5Xzl8Cxz0gqovoXLibwVp+YPBzOlio9YRpB2XS8rRvyo+OTNGj7fTaX6omZd7w3qGpDnSJr+EYxLZhDR/5zpMzwp31iu5TUXcWbvuPOrSjTEPgDd7bUMaGngi5DVwk6lbHinhVDVWka2dLbiM/fEP4bOQTGWRAnT7creJwTldK0TlGGieAKgj8glSPKyCgdqTQkrWjVwJwzwt14WxZU6vjJTwxTopgLWuvY1w3blPnpZU8bWu70jY0CeVlIg+Td/cF9fOPhZnDLK/EE/NFyPc2UJ0mYHzHTgXoo8DWor47NbcHYhWWt2KWaZlBYt0dtE5wjs+9I7czH3CGsouPIOU24o6CtAlt7JdgS7xXfas2+W+g2CZVqwkbDuufTU2LXTUiduBOayu+REZ4Kyyprhrsb5TaynivUemKbJTpHtudAsUrCW6aXAuobvwlNQuJ0xr9OiNPv7HLD2uxIhaVYzjyuknO7o9yPlPJKWTq2jeFiMqUP5PXCcnrGHj1V45DVhjv3QBNK/IcOWSjEesNPO9z6RrvsiaHGF4aWGm9XeqFJLiGaEVEUZDdR2JGQA3I5Q4C0wKVa+f3qceLGcnnk4J8JOOb+EdjT1hDCQqEz70VCkVE1bB5u7IqC0kq2S+aOkmID61hTlD9SVonCeqQqKOsRNc/sTaaIBjfVUB2ZjyW5u2fWu+/Tu2Sp7MJWvHDghm6AqBBLolpBy5VrbJlCpO0sZ+UIqSLftozzHWoBiu+82OoWqBfU2kBs+VZfWMSKSJpFgqhB+ZlGBJJ6AyVZXOasJgr3zCwcjSywcuYiPd4InLmjEHuEySzekMNH5o1C2Ve0CeSdotceNUX8uFLMgek4Upc3aiJLUSDtH7xGyWWcsP07cS2YbMVNNnyNNfHasDMFioq2udCcVpIHb0bO4ZGbyPgVJBKu2yfGcsN0MQi/oxlAXwU1E+3ao9A8fV3pyq+otwnzrLmWFlN945JuLGvPEr5PRGy6YygcqrpggsapljXBKk6M58y7mhjjM6QZqyNCaILI9FUgVBUySMT4jhIS5Su47UE/k+86ch65ebiFinUIpEXQdwMuPyNTS+Ej08UyekcMX3nfRJ5FzUl1IAb2p8ShtxRT5lZ4cloxfyhuxQVvB1gmOCfoA+leUOoZ0XX8Mk/ErmNUHV2WLDWI+kYOjnXdIGxEqx3tPXwQJ5Zy5ewysddo06CQ+K+Wj5eFaAvcRrKsNTF11GZPl3/EipIsFSdvWf3AVWlqucWoKx5NtBdUfcWuJT5XaHWmiA1Rz5QVrARcBHvfYIQkZo3NYMvEmq/QwKQVmoy7vXBtHOSOpatIscPXcEk9xdsb5ezwEyyzhDEzK4utNGX+wp1zqLoiFhkzXdBrZpOfWHctpVgZNhMJxbkUbKojx+0P/Ellgsjo/ZZ22nMLFT4FSt4QySCqFidqUj0yxxfmb4ZsD2j3gRuJXtVEpZnSjTRWxBQZjiumXsn7SHHsOVYCcVfjm0BSmuNyT2tGlPTk9g4dGmq5IkQC4ajSjNIj1bwQEWjXMR8DrZrw4R6RNFkotMxsyhIVJeOmIdQTr2bEpACyZ80VSRdYHfFzjRUvRHUlulcuqoaywCCQ1EzRU/kHRDaYccMt/4NcPaPSjjoH4kPmVt3QzQ/f4XVXM4eF3UtP3L6ibhfM2tJbiO0f2OkFufyIv32lE5k6CEZxYS0k4OA20O09QUWq446wazneN/zzf2j45w87nrYV5X8H3fZ2Rq2J1UQWvVCrhtRIhtUgYyb6hHv7bnfKS0mWGq0CNhSUbck+fcVEWEyJoceYT8jZMqieRUSuv2iyyrzHgNUrdjzCbsVGTS5WepERfqbUCpEmpH4hTgF1diQz4MKCDBesbnG2Yj4o9NKhUySZSCU1lZasLiHLG7lYOCwS5h/YrjMueJ4w7MffmJcNsVnxPvD3uGUu7miKHaqV3Pid39VCLm8QF+z7QK4HXDjxp9hTv0zIZUELw1Fq6rhDi5JdmDmKMxd1xnWGS5XoVc+4PTPtDcVqke0VIyrGoNmNLWXWDAX0l4qlKUiHA3O7Mq09S65YM7C+MM8b3PIraoG/qS3LuUOPGx5/MBTrQhEEMb4jnjWivFKZEte+kw4dKsCUIJ4VhdAsNqJEz7U5ULOjzB3eeO7mT9goMG8l1xgJb4aEIGbDD98Ktkozn7ZU4QYq06aO4ktDLH9jaGeCm1CN49+WCaYF4wxuVfD7yKpKEgWDeEEqQ7i/cfGZi9yyastFBXKnKYsKb+HMyk7MfDCJ24tFrIqP3qDzkaN7YL7esdSSWC7oHHhpe34pnnE6sFjBkiO5CRTDIzqOvC+J6qRJaWF40iBG9DLTbCPh8zdcv4J+p9UL+m7HXG3ZvJTU1cTRRi4bgRWGYpQ0ybIZKmL1FaMcLgeaMJLCbygyQp+5NTVzzsRY8dFkdm8j9nBDGUcjM1MheZGJ0/+7xGjHk+/46aVmS8cc77ljw32neVsVSmaWpMjLgQ/+DqNLFnPhLfwBcUAjuC8sZmlxlSGGwCrvuPUfKMKG40ZSp4X4YWRpDmSxI53+d9R8oS6ueN9wvk2s64UvBNx1YM2/422FVAYnEtb+wmW2pKsh3v5O2SzI1mNYMc5wkJJB1oyHFT2/4EoQSKooCPcVJRti+Yp7XxHrjY2f6bTBto6SgFt6JucxY8QevrE0f6KqGs4RwmJov3QMV0kaA9FMWNcj7n7nPb9Sr4aTaqiSQdUzrTziw58Z6w3nvGFuNMPhhPmnSFW3IOR3+18tEHolPTzhGoGsNpTlBbdc8Rlek6VenlirE9meIWvK6R0//sJL8FRFRN1qAhG/bbglxXydOMxX/LylsgP1ZmA2kSLDdLGoMhFY8auhn1ckmW9uRhmNE/+MVD3y6UCoPoOZGNzEt+Jv+Ldv5B/fONs3pqViQ8G8KdDCwp0hf/qJuV8prjeUHzFtg+41xddvqHlmMR76r7TiF2i+Q7V6A3UzYAFdaarBwlqwroEllsg04NUGUwzssiKLmfXQELDMKXEcC6qoWDYlFFeSSnhTEv1XxFuN3dxI4h+c88hObvm53pGre441rPU9stqSvQAdyOs/CEjGPNEohzUT8gThpSGomaZduTQrr/3E2FSEAmYniRiuv8E4j7hl4a1RBOkI/32SGsZvaJnxWkAWDN88t/LEmzBw6TDND0g6ZFC8zxNrp3kpCwr3xuOSED18EpnyXKDq3+nkK9LBdckMtyu7XOO2Pdv6Hllk/nx7pQ0K33dkJ2kT+INgMh4TRpIVvFNDzCxqg6kG3pYrKf/KlhEznKheEm/vETcXwA0tF251xkTJEvesesWISNWB6zSLrVDnihwaTsYwhpbL+wd+KDPH+Igxf0boDYwdViU+PP+dGF9BgvEeNVuSC4Q+I9eCo9GIvkeLK7rPLxzTB8pTDb/1aF0gdjN5apjVV4z8mepSkC+Rom4RQqP3I/tzROcHWgrcXEOxcJUrNmu2RKZe0KnvBpnby4X354Ev8pXpr4ltWdJfZ4qDQMd7pL5xVo8wBbySPCRFiIkoFVPToPqC9/gL6elfqC5vyLBnPiiC1lTJUsrE0Ex4uXJsFfG2ZS8f+IrgMWlEcWK8PnDuKu72mlVrYoj0k4Gjp0yGlEv48I1p7oh+4bJKlFSEzvBTPZLdQPSJV7OjyjA8a8Jjz9A2HEXLPK2ULxuWj5IuRuzsKca/sZpP/Go67s2NtRrIzwvbSWLqr4hiQ5xLYlxZjUSIBRUz1md0KnFlD2dolGBNDUUeMGPG1jPTXBJSZGKlvdyQTlE0K0K8o60lLu+INBGtpGH33WYU3+nlyLFs0d4SbIFIM9kXSD/jbcNab9i2JV3SoDO/ToLKnfDpZ8bYoZLmTi9ccyDKhllNmGklqYScrpzvCqxuEEKjWoV2M9foOd0Cx6MhPw1UzNyCRCqIVFB+pR7hlh25XGjzlegcWa8UxuFNQdJvSLmhaSVlARvVskaB/hqppCCIkWvpSGIhSk9eS5Bn3mvPNUfu/D8YmoFz84kVyGsmtw1r69FpQcWIrDQx3LE8C0KKxHRllYGKlrp8Z7EPlK7kQiAUNWO+Q6oLi75DUKLtCnrD/dqQpGLjVsTgaUiUU0GTBOfBs0yZpXzHVAfk9M6oZ2R9Ye4bCp9R94bgMzO/0MmS4fBIzPAoPd+qAf864u7euN/dUc0V7O+ony0Swf4HyNGwzBuCSHzrJypzAhk4pJVXU6PLe7rqFUtiWQxTtaM9TcicWXJgTQVmOSFPAaMlS2vYVR3xeMOGhNplfPKIwuMnCzfB0H5mDD3F0oPdMqVEsJJmsmRe2FUtw3yjESs+dGSRcLcDJ9PzU6XYKYu3N1wumWIBZoepXlFlQocdppb4RjELQ6ULqrUAKdEWnLTkUrIsj9z0H6SpZTaZUz0xX/bo8MxYKcpK8j567uTMfqyQtmD79e+4wwfWciVeDLw+Un8KNK5kuDwz71t86cF2pOWZBomQNUt6pX0/cHuUmPHAav9GO9XofKCvnvkUGqZKsX8LiO4bTmj0OHMKHR8WyYgh9ROjbEibnr0c+atX/OwidT1B9CzCU5WP/BgKLkrh9cxT47FaYpeEzZ76WDPlyKt8wPjvcFp9VnTbj1RTIB880iRoJfLdUemW3AWqpFALCD8Sj3vi+0TsJGMUlENB/9mjwgur3lE274S9ZbN5g9DSqz+x6sDxcWXyj6QvmfRDg5g8f95PjHNm1Qu/W8eHx4HFXDl8K2jlhnqteDGZo/+dIz+w3CC7V0yz0OePrMbxSbYEsTDNgroCPztcqcmrwJkbqqvoXq8IY9G3iu5QYfOOvjakeMa7DcNcUh7AyDusWtB3R6oouKYzYtoSoyLLkdp9Qg2SIXW4WkA3YyeDyGfIG1Qr8BOowlLGEffeoO8CvbpjXjOfhhbSyCJujPMnwmBpqoC4LxDxD1r/A4iS9yvsCkVpMnNaqfMT8j9eEOmeNQwU9zNi3LIPPbeyZSNunLcHqq8L3TIRLjNjUVBLMN03HuYf+UPOHKp36vKR5dwwdyu6+EQ6jWxFRd9pnCqpnKMSZzhvcVsL+x9IN43IPRbNQTyR6pXPpodR4FqBUgXDFj6cNL8Xn2C/MswrP5g9yb8xhB++c1hxxMmBTXGHEI7ZbWj0ylKM6PQ9iOlXhZ8/Uu0LtDJML1dwBWk+kBtPlz1vtmBmxvOZIkO7Zq4BWl9ybgNZS1QsgFdicWDhnh8ukVErKi2Y5O8s5YH9P46og8RvBh7sd77swgf04rCjJGzOKHsjjj9TbT4xjRO1yYjxhNslQu0Q5cr2b5rwsWBJrxgnMfnIbdyiNlsOp4rwEInG4NMr2/eGIApe95Lt8IDJGnW1pGLGKsGkOq7b3+h0h54yySqiqSjHZ7apJM0VP8g3lvUeX71SCouLHZWdaP0TAYFKcPANcrmxNReu9kgjF8K8p5hh/aBRSwYnsVVEHSLK/IDQM64qWbPGmBHbe/ZfnkmPj/SyITN8t2BtZ/KxQa6ZqgbOgcJXjPON4gC9jXT5DWmeeBcVNkNPpHBnzuxx4h1bHTHTB8x+ZdR3379lckC5A/ni2DxUqNsZ3yyMucI/GqT3NO4TXZjJZgMClDij9p5zskzqlf3Ssasb2LwTRsUrgaeyREVBs5VMbY1dapr8DTdt0EKzWzrkTuCXSI7AoNlphV93jPKM3xmkTDRiYi4LdqPk/fKFp/CB5v5CTk/s+4zPAm//hqAhtBfstIFYY1LJOs+smzv22bN6gei3rGagzJ7resdTiCg9kcsD2RuEnIFAG1tuV4mznrg1nNly5yxpHVgf3zG3PfiMT1eElmjZMr7vEAfLYQm4xuHjnjwPDEZRNA1RrNxnweQKarvg1IHYSKpworlUZGaEVsh9QxR3NF8F04NnXiV+3xLeJ6bF8KQSyVa85RNyoyo6fSYfF/T/PSD2CuaFUfeUa4tbS8btRH4cqfYKmQb61bCMFe65xQtD7EZMHKh9wit41poyblnWRJcGyo3h4fFPHH/6QNe1PP78z2z//Eglt4QyMskOyYhxA00BunDI0pOExkvHUoMpK4RcmD8UqLyypJmvrMhRMNEg3REVPiOXCgiEpPlxGoj+DS8uzP5G3EpW6XgbS+alY9dKCj0xNoKmLZnEI405osQTu/SEsRWfqXm1WxZeUaeKNU14/4L6dKWrtuxPV6rwlSZGlsaj1IoYTuTyE8+HJ5xbeDpnqrViXB4JDvJ2RJkCckEqBPOskf4dtUwYAQ6BVz1FeMUeE15I7K1AxA3BjLy9ewLfUGVmNzUoUyPlTHaOxdRE5QC4zZ72tkNETTqvZKDIB1QqcaVmGQPmvaVKM0K2dLGh2Bi+qpl5uOH4lZOKTB7i7Y0xLtRNT950mFwjJehBwjCTClBbww/qGS+uHFLG/xKYZ8tuEjzsdjgWFjchC+iKic4XbArJSkNIgm4uadJHrK2pNxpTJ2yt6JRA8xdqAtInfCyITpGrzHj0ZFGT8gWRoYiZTvVgHErU7FIJfEWZErPsefKRqGBRGTEJqikRU0JUJegKoWbyxxup+96gsGrLujrS8xPHucJPmk4qlvArx3IluPJ7Vt45TqEkjQVu3UBlEI1kLgyr2+JnT1JXRDXSWcesbjzOFSEeScGg+x2fJTz2G8QNzNVwFSVRV2wKSdsveFuwc1DcR0q1R/oj36qF13hj2r7TpwFzrqlCTelPFOIVU4zcL3fIby2XvGFNK0qeIH/EhBrRXxinG+loKZsrnkSOC/kA4thhmCj1H3C7IH3AIxASdJKsskEvmps1DFFSOocQC047KukQZkZmA3rm9XjjVSXqQqEiUEBzULRkpLOIeiEvM1InKiFIPpJlg1ivSFcRdt/d8rVwBM644obSM6O4ohdYUkIWGTPcUGQSLV9cx7yeKH3mBxk4ji2H4jOV6nBF4sKZ208j5WFl11QQNbs6cG9qrGtY77ZQFjBLynWG0iC7DU4UnMI9o6m4zgK9lVTrzywpU1c9ekz4m6RaK1y1RfkKIROT/cBWlLilQWXJRmsethfKPyqGX97Yexj4yj+MIKozXmomJ3hxjjYq4IpCkFLNKirCaWJYruSl489j4OkW2IQT7ul3ZAUvD4ly41nzlc5OyBEGJzkNCjnAu25xs2QQkt+OR1KwiDQw/P2KnWsms6NQz4xWcpITb3piDQFjHeoUCHaDlhNtcjwOAv0WOY0tYuNZRaD1C2m+YMYWqbcUq0LIhbI8MzYFXkys9QlEzVrt2MobJd/gW2L+trL8t8y5OnM6PGPbM6kS1Loic+P54QGpJG0b2LBSTQfyr1vK0NLULxTegVnJN+hchjARTaT1Nd4mYiMJXWaJBeNGsMUh05lEQ6EurPodph6XA8WUmPWC21j6bU/pa6J4IseC2EIfDO9qoWxPzMcV+6QpV4vIG9yvka9W0T5vmK4Ft17S9VAGjfmyQcqSbdNSLffIQXFeT6ylw5fzdxg3CuSQSZ8M4uBZC0l4eWQcPUdhcOcP9PrKLSTs4vFVj35qWcsJ/WwhZ3IS1OoD1f1XvJ+Z9fca78uwJbcb3u8kq+1gUERZEb3AvCuOfuatlTB3bJcDdSwYveI87lm8xpcG1pVlKdiJG34SsHjE68K0tDjXkOINHSJSFlzsShmuyA8tiIxsBFft+DV1rHVA2z3lb5J2k1kvO+qk8OVvuL9MyMffWUwgZMtb1rznC+eXQDAVmnfk9M+Yyz3+QRDwaNdyCwbHlvY6osUvJHmh6Qum5Ykk/jtiXWeuynEqB7KrqddPmBRxn37nLEeC3ODGD7jFIZSkaCds7rFOQfZ002fCviJsFXtqdp3j1L3zLXoYNbcxwU1wX+04aUNha94cbNwXkq2gSuhbZi1A1Zp1LvH9GzYEdFUjwobbQ4Pvt4hCou+PrP6JOpVcVWLcTlw2V+rBUm8qZqUIQTLdZub2RqpuTL8pqhmWWXCzkvkvT3ypalozER0URcKOmWHtCbWk8pFVdvi6Jj984FQ8URtL7g84L9lICWqm1Z7BfEOLibbc0vnAiY53s7BSENOGIzVTLRlKmGdQW81pOWAGxQcE9/GNohXMosSFATVn1npBikhXRO7nDU0s8QzEcUsuNLvGkcRMliNZBhqXiCISlztkuSPLjqmZ8VfLcglEW7Era+Z3GM4JjWFRkjkmfltqlGtpoqLzR4Z4w2FZpGUtYE01s/3MjEXNO6z+Dp0n02Nv0AWFec7MbxeuO4X7m2LcPHFXSfoaxvLPZJ9RKXBdWx6WlpuTtDbTpMRD1uyXDUvrSMeR4AKb3RldWrTYIJcH1JixZclwmZmxFMkxv5yhcLSTQKX1uw3rVjBJwcU1lONAfgvELJlth7WW9argvaMoZ65PX4j1d46zX1ZoRyrp8cPC5aIw3CNjsNzSjeE548IBd0qEtKV591TyiNpltDszBFj4RqgicjGstqFSgts4MWMx1YFJzci0cgwF1XbANjVFbsm5QtQV9QwqlPRSkV1mLSoYd7Bu2U4WmffEoSQXgRzB2IX7UlJw5jAKUi5I6zdkVVCHih+WmuJxwZY1cuOQObAW78xrYJ1PjCR8MHybS1atkN9GprfA1q3f/b3KE+WKwZOngVucSZcbtZkg9jy+blC/Jfb/mrkUW06fDC99iTKa0j2xTiV+u+HrXLKsmsZkgpdE9QhlYsMC+zuu+kz2/4YZJcHv6WcDRUCO0Lwq2gbMukfqAqu/+59FOTEVhjBveX/+yn/96/+X/+2vf+f/9fW/8q+vf+PfvvRcXi8k68jditCSICyREckbrAWlKhhKxS1DrjRBvYDzyKpgk8HKd3LxV9ZFfp9KePCh4qd0I9Yrdi052InWdWyD57F5JMaEFtN3y4nuyUdB2ESUvNL7hvOwI8TIoh3qzpLkCt2OWg00omK73COzonzesLTgi2/kNVAEj84Fa54Zxm+kAfjWoM4lQTpM7JmSZFIB4TSFOmOTpbOevlr4NnXUfgU0hiNhhhA0i1dsThuu2TIuHW9LSfaKWGQGMZMSIDPxJVHPf7Bq2KdXbJQ0pz1FiIzRMNyfyY1l2bUkV1B5wboEvO25SxGRQOmJa/g+W5JvBqvfwZxhEaQK1nrB5ICaLZ0HrZ/RdqbMhqlc0PJM/iky+ZlbHHCiQ003QvoVc2hYQ+Ty6jC3TF56/GXg/s1QFiUx3DFWMy5b0ixwfofpGh5rSzYOfnxmG0ZsLFBxh48OL1dk4TAukfuV7Eraa0+bA7cp4ELm6iRN2FDokmURLOFGHgM0GrtKctWzczV6+QejvSByjcyWXG5x4gB4TPqIjg2ls0gRCEais2SNE9bPRA99KpjXGusmBJFymtFKMJYfWQpHGD3ltw7tNVoWZLGlFxYdG5wf2KZIMgFzlwjWAoJ/QbGNBd4kzl4R0zvkG6t2JCmxbJjNPWGcKeeFh7JCPD6ihguv5v8kC0m1DFyy49L0mOsEuafIPT++3ZApsREn5LIy6Am1rfg7klh/ZHoseHcV2hUYJDKPXGPg1AniPYin/B1M7w8U3UqRHvlwnSjOBzbzT4Q3xX1sEUPLIW5wGua8Q1wF7vLMKm6MzY5/SEu5KChLlC5R8QOF18xXzeorxPMef71DPNesjxZdT2xixMqRbZLc6j3WGx5OCpmgSQPLTwFdBlQvKZcH9m1HS0sjHkCX3Oiwxw1X8RU1nkg7Qfw6s2oBPlCcK8zYsXtrqN09xyjJTwO6OjHJCs+e2gle48LoM7asCP3Emi2xb4h6ZFON1B8kRqxsU4N2mdJ84TXM1NMdT6FgHQRz3hDGnly+sNlq6kEzmj3x0TKJFVdPqN89X8+KV2/55g3pOrOuN+Isudj/A6Wg30zMtiZeI0H+QVVssYtFn+F4f0cIgW9Xiyw39Ej0esNMkSm8sDYN1eZnykKSK8UtWtpziXhuWT4sqK2Bf0pUbSbphbd4oN/2TB8tp3jm5t/hshDvMrvmiU23MukD2Z3RYua56whlS46OQjr6u8T5aYMMNaqTzONKrnqIF6z7hlkTqlrRzcR6c+jRk+gZxk/ULNTvd7jO0FYbrsOVrYdxGsimRNaRu+Kv2E0mT4H9V0GzCfhNphknsunoyoKn4lcuOTLsDfUxMKSS+uWAHQukT2xzoE2wvlsmI/A3Tx0Vg8nslo4kapbRU+ctTZ14WDTlbFFPkrBOFNozFYFZGh6FYiMqhHdk7kDN3Mkndv+UyW1grCfs0VDFG0ItBAImB2RTES9w2tasbJiKF2YTiWrEyHfksKCkhyKgx0f0kjn5mfU8U9aPvIuG2e6o7laSHpjzzPx/JcIx4weJVgmpJHqwpPhvFOaMiYZuLtjod96tZrUVuZ4wPqD7hfMp8Jg038QHnjc1aQKlB+a4I18TBzmhuwPoF4LVjFtQF89S3EhZYE+Seh1ZXgOlrwkItiEQXwvCVVMWkiJ6lIb2GgjvFU/HgLRfkfWZw2lB5BOb/JX+8khyiUFolJsoLyuFaunXE9XmmcLckDe4uJEseq4mEUcItxmpHDBSpUes2WEXRV7D94aPqFmHlV4GopeUveK+lhSbBTFNfLKafSyQS81F/EASHlUFbDMj9AvmFInasLz9Tg4ekoSU4G7B2YZbrIhzRxr3BFsSY4UJmbQ3iDDT32bK7Ilrj32UVL3gZb2QPkRUu9KNhjhGCm+ouxf+3kTcYUN1gO6xYsJxc19QeURPGqUUMr6g+y1pVSgfyWFL6kYW8/3xjvuGRxsp7iVODNykR00l+kVip4JLlPRnuB4MZXPC6gsyD6zhxjLODJczYS0odUlOTwgZyWbFNG/UW09TztznG5aFuFQsrcD0JV/XzM0vjGEgGvhQBJrGMDjD5iggHlkLAUVC3tekJ0teBI3rWN49hZnZVwtGOUKhqOzv3NkeHQRyOK+s65HD3YnJDCgq5K4mfKgIekFOcJUNxiTkfIeqSppqoLDvpM5znAUyvtEngXi9Z71J8pDp0xPSOIZ5pEwK0Q9AzWoNTcl/17w5XCmxVkFQLI2EVpHEhpxWUvxu/pBZ4ktDbxyyfiCUE/0aiB7WUZLXjM+SbSdZhj1fvr3yv/71/+L/+V/+f/x//u1/5e//+gtffvuDop7YpyPNv1VsvmW4Rgg12c0MquZ2y/TZMiHwdmXMV4T5B8V/0nzkQCNH/kkOSLfnW71QKEejYY+nMM+8S/g2lXy93DhPjnnTIIyn2dXojx+4Y6GpAzqtxGmLrwTRZpKcCTqTs2bUPa7RqLEgi08YSqYl4wrNOVtW2aJlTSwESSmMT+RF43NNyg4XjuThSAyGXEfqBjoT8WompY5JlEx+pZcTlW1Jxc/o4gLZgFmw1mFch7YVwmfqwTImwbD9Ad3PtKtFDgtZVcyuxLiFJke2rx8wzxZjaoy5J+qWc/PK2Cq4DmzEBlLEb1cmrcnlf+P2nlBpRxoySbwj4oRZKvr4QLAlaydY64E/5DvzZiSJFSE1iw34vCXKEZVmsq8oNwKNIKMpciSonnddUhYTrB1dsXBfLVQ6UjnYhR1tvSILUOeKosss14J2tvT6T4BmbEqSETRmA6GCdCUsHpUnUE+INXN32+C9JJSaSga2RUBsHbfuxi0VFPFAUjUirJi5wQ8C2UgK/RNO7jiVW5rid2SpyOZA1APf6onlybKxJePcsrw2OHclzwPNT4Gm3sL7vyMfBbpqqQuoG0Una0Y5kg8XZDfC+kzxdcXGhUpuGfJIkWvMTaMXR7kI4mzB1kRpSUTktsZxoIuZFCKbIqIYuW4jYjNTUHG2M3PMuF5SDYnWvFNVDeWyI5LJUSPihPACn8AEMDkiZcRNhjoH6hQQqYCiY2reEPm/IJMhFRkvJsJ2RbJQS0vuR3zK+H2H9JFiVcTryG3JTGMg1CVx0ewwhPmA8J4PJ5guguZOY3lgPxdYsSGMieW60sYNtijYx56lgP7WstobTN9wxjCFliIKbE58SJ46a+Kx4doNrKpgcpk+XHDLhFsvaFcgneSfr29UX08oIejUBa0GRmcw+iNtkOz6lWk6Y6eZn9aV8jmQ25n2w4nTYUP32LA7WbZlhVhf0PWJk9ZEZ6gnRaMb1Lylmjd48wdNMCx6plfgbGS2DfbXB2oh6CbHqC/o6DGbkW4dwRfItuT3V8Uvtwn765WNi2zrd4S9IRuBkVte80w3FQS70gvHzO8IFxCyp5k8jD2b6Z7l/TPjkOEhUn9VNHuH7kdK6YlFQieF3lmatxPIDfomsPmdwtR8miuscBj5Facblvg33H3L21PDfH9AflqIsqSaIxjJWyp4CCDMRIyRW9tyySv9qL9Dg3ZBSjhcGyp6xKsipEQ8Cmzt2a/P3OV31k3A9oooB/blv0NLQZe21N7RlO9c/BNOw3JvUPmd2Z+Is8DqrzQ+cy4T+W3Fy0zUDxQhI9YNa6jZKxDhhjusLI+SvGkRa09UV3JcWcs79IOguG5Q3Q3lBTJv8cd/4LzmuSkxjCTjsbHEp0xrTphFoBZNnjN1veexfiGpkUprhkVhmppQ/8yc/kxeFkY6/CXRpSthN/DW15TScpECXUwUpSQ1V3J95TR77mTN7r2gPQYu5l9QcqZoJJcHzd4sbOffiaahqgYWmzGmwQZFWAVGazgn5L2h/8nj7nuIM0ZG2i7QyYzdB/x1BI6kDHHMmMoS05VlyaznV97zxMTKLAVvsgStKDD4k4HfNrBuWeeZxmiq9EJUb2gRKUTLPAt8VWK1wLQOv7xR9huKcmbUM21ZoJbP6F8zZZpI/sh6U6znmTVH0l3N9LBHq5ZLY8ljwafiyp3rSbyi3wru5StNUTO+S07NXzktDs8ZvY00L58IvsQ1v3IyI7Lb0tmJu3yhVVeuTLDJyP3CkEbu1IWq/51dOTHVv1NMbxhf499q1HOJnyqubwXz6Z3d/R9smpLd5FnqKzxott1McdPse4cPkVO1cpkWECXOK8oi0+lAYwyn8l952U0svSI0j1yWn3ibP/JNSnS2lGnh+cOBupvI8Upraq7LDqFbTJX5oC0+t3S3CmEBBcvNMl+O1LZhTg5RBRZrKIRmfxtpvy3w9h1ur0NiKq/Mq+G0cbzUZ+L+DM/fkLHnMgfCNeLmLSHBmPb0QpMPn5DNxLSNLEMiTBXreUWOEqWuyMKj/UrwkcvkGJcAVqD2FaOvCI+GJA2oyOOyQ8hMN82EUGJdh0qS3fDAn1LgZbzhVGSdNjB+RpmGaCxRBHJQqO7PxKeZXGzRg/v/s/QfzZpsaZoFtLZ0/amj4kTcuDdFZVZ1dVfTbQyACWb8EfibTBgxA8MMw7q7qEpRmTfkUZ9yvSWD4Af4zM197/d9nrXYqCfyriaJGdFaUmx4ThXFDTRjS31RlOUL635A95IbtSc+SmYPCsl3C9I8UpxvGORAmSty84AvC/LwymWIlPPE+RhgWdHaUm8UlVk5Cmg2BWpnOciBckpIbanKBWVfEJfEJFbGVdLXksoJXLzBx5459mAt8mLpdEFjapZpS6REDILwekO92VEnkPVtTVMFYnjH5vPAUoAYHdO64mXAykB52vHSV+T93zjVAirHZV75+vZnvp6f6P/HK9d/+zOn8A1bJKI1WJcRuaFsK0QhWUuNUBNKgJhWVCoQw0IhJ17DjIsRNV8JAoKuiLolBIXIgcgOJkHnC7qwskbwciIeQK+GFM7UK6xeUYYLm23Hh4d/4u7u99z99J6ffvvA/nAAofjb3Teu/w1Oe89RW9ZRU48PmPWZD+aA3gXSS0biyK5hKX/DIL4xHP9MXjuK2FDUmZSuXOMJ9XlGs+OaH9D2wuZbYPdYs4uKs/BUw1+plpUwHjiVK1lM+LIFUcFqkTZg4oyRI6NRVL4hroGYDGc/0cdIc3/D3fvf82H3yM/NAzd3H7nZtVStZFpKlB5Q5gRCcfOigAK/mfFGEVJPnuKP22+xoywdyWRWl4gxYhnBNfh1wkvFOvyF2cCcFtyhZbRb2CvWIrNYR6x2vHDHSS8sZQ1bha1aPu973O8k2APSLz9kQfGBbtbMrWSUK3Iy+DyjomQ5/EJ9k3DGoA4ZMxtyOyMEtKVEyx/s5JqWh+GeSh7I7NFOoZwnrCsg+FUOjLblYDRGCYZ84S1FyipzsIGgM+Mho2wLcosuFmIZ8QHieMHpFQ4C0kooNF59R15PzCZS+0jKnyjSQhFLRFIUkyWEgmyfyXeCtHljVSv94pBCYylQuWSnbthMEiMMVSmQhWBiJW4Fg+75HjLzUbObLM7fsijHKheU93w4bqhPsOuhucnobUmum2ehrAAAertJREFUV8bHhimtnNevlNEjVY03C+06IMWFUhtudEPxskO2FdNJgHjP837L2ZeU8sCqV/oq47cjFx8QRcf9JlM1NWJZSAaeCkUqSzbyQjCaaG5oxcSaA0pFkopIcUHuE2N2jOGG8QV88YaygbQm1sHgBKA1TjnKONCqkrIwCOXxIjPNT3g9sfo9eX4gppo0VmgHS+rwNAjv0amgNhecc7wUM+M8UW4Ne5NpkyZPHi2uDO7CRg+YpHFqhYOi1IZQO/yzZPmPwEGXdE1LMiuzdqSkaUlsqxXrJGEuKZRmv+7R6xm1RuRFc/y04de4UK1Xijoi392yFImi3oG44bhE8uc3jNsj7Ra7JpCWMdScy4VYPyN1ZFdd2cmIKRNFuTJNAyIrstzgi5mQYCo+sZwUSXcEn9n3HjckpgnG7oS4LUilwc4HbmMir5F2TJQWTFz4XJe85F95tX+jaCT1/gV2kaG9UB6fmdaZD8lxcFe6hwrfK0SVEFqwjvccWCn9TPQXQhCc+5mCj+jcMOv/CVJT1BHdeqp/KFmbPUq0yD8KurfMtR64BrBGkWi5To7r7iNfL4YhPDOFinOfOUpLXlqWbsObzkj3j9Rzx+b6Rjo/s7xZdt8Sa96wEnmkpu8eudIgURTzlXeXyKYUxP4baXjCEYnVkc+qJ+wE3rR4rynUjsZUFPLAMZyJUjOkGpJFbf/GNAdoPM8VbOYt+q3mOieG/SNKVYh45a4T5G7gnRzZbSWtV7Qu04ZnmoukOgrmaWIXNC6fSNczWvXcGUcjAtdC0V1fuB0GrBzgVyimO9avnmH9J6Y3x37+hMfxfoaUDW4uqFZFk0Z+DRYOG9R8IaUH5LLD+xnlOgrOBPWJxXmG6LGiJ94kjBmRfzPs5Wfe0nfyVNBPnjC3xNbRpRusWxkvgvle8no2iOWOqBR/r/6KdwODy5AVxxu49gXT4ok+oQfD3Pass2SoJcZCyyub8BGtSty3BV5vEFeBqBeGbsN8CUyXRBQLWntGV7JJF6wWxFKSXeSaE2YzsZENQTXkrSZ4Qy5XtuYLrpfkpkZzj/QLzXGPsa/U2rDqljQKjCyQ5Z8Zxoq7VbB8DcRoMO8z8ltNdiXkBbOr2bg79utMw5HOzbzPDusT+6lArT3zEOGxQrx7RzqcUHlHdj+zP3fkc+Tl1yviJmDXlix+RqsDV7ljMDVW3IG4IY5b6tCSa0l9A2vI1PGO0G8phztqYL712Moxb19RX+85nBP7fUPvPjDNCt8IGra8LQPMmiRP+HmP0Hu6YkW0B5wTmLBAv2edDKpyhKtkk+/4ru+w6wkzjVyPiftrRMoFoytqEqMo8VcISZOXGrdqlFpYiomYNU+t41pJchuJN4nYHjlGwXmVLNdI5TRdinjVYLd79CHicbi9Al2ztVeqdU8bao6XwPG9JTUFxtaMrULKiBgynYBuzRi1EOI7YkpUSiK8Q7UlqlgYqgpXGMbqhcmu2KpG6RqZIWVHG5+ZsiM9GVK9kkpJud1wCY/kKjDWT4z09NUbQb3RZou87BDngS5NXC6R2a+8uIxSK/PseVkKnPBIq4hGM8oXiihJgBaRd/EJHQWl/BWzGckGSjfAdkQys4uRRxepzpo2l8SipnclKhfUpcQIhZsEi1JA4px/4mbzE9KBV4ZkDszhwKMHuyh0GumKK9vJop1h8Ct5qih3Jw5VppEjm/Uzxl5Il0wT7ynjLTnOuHUBHHNMSJ2AknoPp03L996xGpCTSLjxlrfKMB5+YjATn/xESh25UExyxBrYTZ+J8re0WfOcN4QMvp9Z3Ilr0TNFSZye8P5C1wjmZmGVHhsiUQRErVnNHpNAhkCUI6LbonLBnU8Utic0UBLQwwmjNaLMiKBxi2OuA6HIzNkijpGNA+1nxnpFWUkuJDldEPuAKQrUpuS2yjS5Q4tbbGnJrWGbbwnLFyb5hVpNTMxcbp6ZNs9U5YjMCrcfKUWFuZ8Yb0f68ZYY3lOOJ5RyjH7mMFlK+cp6G9CNZyieybUn/ItDXv5Erf7GhwnW9BuKqedpGfi7b1lCS+MXUvnKKgcu4QrqltVDGxZCEMi1ZC1faOwFW42UIiBiYCgNGrAKLjkgZKTag7o6cqgJZcWlmHDNQBAzYvbE8cRRO1IwRP3tx03XFXQqEaTkstSIw4xqIiEoxnqLjBp1rcBbOuco155quiBfZr75hby8YZ8D2geC33C9lNycDeXLJ4rXZ6RPJCLn2VMUnzE2krSg1xJ9vUeR6FJPlzPi1aHilVgdwN1gm0SaCoQRdMGzRot1JadYwAqpjGgNNIFaWz76R/a/GlaXMdcrumzYhorxckf9/a/I/MYoe05jYC4ytbMo70hkdPUeMggfQZe0dSItD4SypBYnTDth5X/Gaw3JgG6wSbK7jKRxjxg9s7KcdIMdK+JS4+IzLoEwryymIomAmEAah6HAqBWjBcXlwtHC0i98l28o0fIXE/hyfse3zuC7mXV75UTkeVcQXUc7wu5lj339BXGz4s4juXhGlh0qCFScGUNP0pk5rwR9R+yu3F8WbtS/EYuVIUSytaR1h6gMqTYcRUESK9JYmqS4f06srzuWyw6TEl+WDN8iolao1VFOHq014VxguhvsaihtpjAjYlWkdkbUljIqKGrOoWAtf+FbIxF++hHr6gQ6JvSiCFqCNmA90owI1VE6hyUhykxor3xLkVquNIVA657ea2guxI3FqIZ525B0zVgYovU/PshqYpm/412NuVdMv68JdoNZBGKBMf0dfMCf75kWQ/Qj6XFEFpLmX3sEE7ktQFYcysB+vUO5f+A4/SjM37cN3SSxq8Ld1uS7O3RxT6pLmGtsXNDlyPuwhfERLwTRH8DD63GGk6X7+UI7W976lTocMc5Q7W5h/0IQAu9rBpv4djcS7IVpKSiXK1L0vK2O5ErquWK+euKfInZt2OwVrrljIx8Yq45VtYRBoPJPZLOhrUsuDytRHQjmCzLDIu7JbLBbRRVK9ukRV+/An3l0DXxX+GlEfzuAXxnPnp43BjchD4HFXilSYJWSeveesuZHIfB+RQxnqu8zmzHSt45bp7G2Zqw1h05SriXt8jfKVfFpEkzqwIvcULQz9nctcR4RssGLJwoNTi1IdaWrFK833zjGis32nuH+jmRnVE5svWHzHXaTZKzMj+fKGjtGfuo/wjxjraT/Egl/tuzR6CVwCBuEmXltW3x94pIi6Yuh0ZHXYAku41zg1CzYe4WKC26f8Ldn0jKhc8kUb6kSKLNlnPZ8H0qu8++4iYbYfiCVEr1ETDXRTc/sfs5U60jxXtE7gbgWTLFmuCpiWTMZyyx63r1PYEbGInExni9tZvIF3XZhtbfU+SM37YmTTLjxwHLtWM2B9NhgxS2qr7iRDc26RZRXCkpOomYSt5RFZhoy++4HolMJyTvxkf0u0K0zyB13ChalaTrJ52iZbyXa37GcDU9VxZO4six3XIcAZ03eNaxGc02Rud+zGRNV0ZIPC2wTdv3EdppotyWnYsskFoogOdSWGFbW+Yz4cmS6Tjx/BG9ekUNDPjXE44ViqqinBXl5JmqDcwk1PRHkM05MeNmxuZUYNxDvS+y+ZwqwHjaI8Ma0qwlKkLuV2HnyHAgbx1qUfJIDvsqUVUdnfkKKwPWquGZLqCOHTYl/98pUVwQaLtLidleu/ooOBXZ5YxwM6/KZ1SZSCrjjiBwiOYHxEt0ULOzp2z0515SfW6a5xgwr4WFkUm+8VTC7HqVbZLZED1ncIyWstSQLEMGgNppN16ODJDhFX3zDbT8hi4Xm8EA19fySj4Q4ox8z7/+oODwOyHIkDCXhiyOLW4Q8EPLKpRxY24SsK2YHubd8KA3d7BBvJZvYYm3BximIlmF7xIuMEzO50EglqXNmTgGRM0W2yPl/IPpItgPN4cpCBVNFGxToV2K8kppb/JQJa4/3ASs/0+krptCsXpL1hAoa6yC6TNvfE6eGMkX2YUKmGqEUuWxpc8Q+ZnJY+HW5INeZ3a3nmh3Nlz3mrWQ51riwwc899bcBd7NwzTN2OUAUFJ0krkeieaM7BWyYGaXke7J0p0QlRlRzAT2A/sBkMmnYQNBk90CUhlEUhP0RKTyytLyVJZkCP2tsd6UyO4LSyN6z0ydaFIVX7HxC6wvn+gsiPpHyN5LoSZVCSoeMNYnfIB8LVDtjzALVwFshebkUrGiy/8hVJ4buK8FDrhPoEd+WpDCjTc9WPVMqIIKuLcXLgokOXWc4akERJ1pT/CiuuG/43R2rn9h0EAZJ8dsS1Ik3UWLHzLvUoT5sKF5vET+fUWLP6XPDWYz0S0FZRPLgEGUi+UwTC6SEVGVU1yAvCiFmpviEeNkS3t2g4kxynmw1gx+Iw0r8sLAhEJ5Knl8k7e2OepeY9BVxWSn1HevcILMgaUEYBrJwmOw4K0WZLTmtBLcye8NWv2LaHYel4Km8QGvohpJc3PFZr+xiz0ZvyKpG9J9o+lv0zZWgC6yrWB3IUKFTwdX9lmaXwU8c1BZ1diS5cCk/wsZQ95FUlEh1Q6c0eoy85ISqFUrU1CowtgPfzhtUrFlWixCW2Ury1LHLnklJ/FoQzhnZ9aS2gLywyQde44ifNKLbw3iEdKKQAi2gy5Jm0Ij2FqlfkewYhlt0dJxKC8eGUDh2O88xR0LuMHpgM98yhwKtIi4eCTHy5fUzJ1YKUbAe/860aDZ6YV5Hxp9uEDcl7bbi63qLnhyn5Uw9bSlvesL8iH4qfsis2s804hEfIm/xjrssyaUjB0V0ATjj5I8pgBgGfP2ZqjkwL/eUb5GiWGGdyZPArw2+h7fhQPf+hImSmArKweKNoIyeuTIsfsNWaqItiK+aWFqoWlR5QoQGqRqEBVHCKR+p2g2rqnGpgcn8IFaJClZBnDKpeyYcJPmSWcYNLDc0xQRI6teIWG4wznCaG8rbkiQEk0iM15rttkRPATMYiq6ikYqjjbRrxCa4GxVzPLEJFacSftGJxjds80w+LvSHlu++geQp0hubneGSP3AVcFNdkd6ht3uevWN33OC8x68OpTz5+Z+I6T9oa4OQHikUDcuP/HQ+soaOxWamNXD/8J1NrpmrC+MnzzuZWG3DRmReij2FuCeOHYILS+g51oF3xpL5HU7+KyJnrMiIIhFfejZmRxXBaslX40jphhQUm/I9n/kfPE4XlP4Dg13wqiOSWb1EyoA0BaUuuLl8YC2u2BAw5p4bXSOCRaR/Q6oJJwPh/1+YVE5SHCWplYTmntVdyKbk3jmWWODOUB8k+9NPOPmFeado1zPZbVBzgvCK+qdbrl/ekHLAPyis2FNScIoC1B22O2L0AfIr6pvhD1Exy465g6C+UYqO4CoaE4nJMV8UlJFFCvIN3FEhviayMoQqUEtDMf5MFjPDUwV1BddMESKuCeyGOw7dd8iK1+QoLzXvdEHsB8xPPZeUif6G3CrUOrIRkWpaSUEQfMdSzwQBos1c1RFR7Al55ZT+zj014vMvhFtILuL3Z8TrgdGMFKZGfV+wtxndCoL8CdHW5FniAakl+68LzbuKgb8gyp/4JjSb3KKXL9TeEE/3zDdHVDDcHXfkj39jlR1dvOM0RaScaDcV5bqQ9gYdRg7HgVpKhvcN3b3mVf5Y+dfhwkOSTOXMs+7YpT/S1A4/7NhuRlIyLF8SalNjmomQJWUWGOlZ9EKsINQrxMTmq0V0Auc/MJSBlCqUMfRd5OYS8Oct5Wsg37/gqhuakKjVFZEFKSbci6HuDMK0DBHST5nSLRTNlRwyTUisr4lqW3FOgbWI8HZiSoYmNdhdySKeaVZNTF/YPCuc3ZL3jmtauLcBe+xpsiard2yIVGoliT1u+DvvzD1rGdmy5egD40Wjug2ldMjhC7m6QWEYds+01NS+xa9fmW4k2/4GPQ0IM9A/GC6XCVm1XMN3UrFn9iVTVlTrK8dmT2sKYm+4v4CbLR87WNPKm/sVcWj5YGY2eWLMnll8xG2v7EwmihmxJlr9FdO0hLDBFDN+jvzabbmVDVKVFLtMy4Vh88rlWjNtz3w8VTTdivaZD51ncC1x3uP3A718pAhnpHhkfThD3DDJiW2x4t8K+thQjiXrnaD0ILqI6wWyrZBSE7XFMmPlRLh8ZOokYzCYysCzxVZHVn/FqAqja65BcuhWWCbEJRF2M0k8sCbH4V6S14BymWRu+Tszm1eB+QBP3xsO60q7V8xTg5pgySNlYziJRKePmHnlLe8xHzKdeEN+7Qi/7inuAik5ZGgZVWSXMkvnMP3EKh1KZ4bmyK0/8PXZonXJ9u6K2WvU+ogLHWmUdI2lbwO5H2j2N1xiZtu/IZMmLQ1zATsk3lwoxB5XGx6ev6PMQppvuKk0sx15lR3tNrIGR5hqGlNDlPxSLrxefyJXiVIEsijRuxkxgV0CIr8xq5oU/zPrXlFd96T2jnfSgZlJGHLukabhfHa0HXTmzFj8hLzW9PUzOoMoI8XpQNYW8Mz5V7a2o4kPSD3RR01YRkwI0EFkh+WZ63XPnRy5xIZNNDTlyMle6brA7nrP5TLQmhbxi6I0rwziwE9uAkoQM8vcUmTNUJUkcfpxvpAdplAojjDsoKjJY8S2kdkp5uixhcHXe9pSMI/vKbVjtQO7LHFriQ0LeStJXwSvh4qHVbPoR+apJ9xL6vWEPO4wzQ1BWmQuGMoJHwqka2is543MXXFm8DWCG9bhykbPyEogyzfiaJH5gUWO3MrEaQyoraS58eB2LMGSdYcIC06v7M6CptozuCtSfA9sZsvGj0iVcbse7X5L4W+pl4+MakfRHlkLi10q2ghtI/Bli5k2UAboH/nsO0L8UQTcNYkoNbaKxHGBJMhvBneRpDDhVgvckSgo1Abx2CGl/SG0kisUOzZLizAVKncsg4RGcHPzRpFBZ4VKJX5pmK4R5SDJlU02pNNPJDwrjo0VlDUIsVKuJZ0LpHP8IdBaSsp4g0ay7CPltGWTdwzqPe5qCKsi9BWftKX81rJXLUwTVr1SNBHaE8lGrA9cTI8ykj/bkooN78ot1VxAPCGfzsxpoouSe5uIY+YSe4S/IPTfYEyUdkS3A1J7ymJAiCcKNLIuEdmg9UzZRLaTIS8TxfmH2VeFTKp7Qk5kXWFcRWp2LGFlEgXjXSTHAffWMK+vJO9xPtMMK/sus68lX+fMcdiwFpJIQFQdqp2xm4gOOxIV7fae3YcPfHj8Db//WPOf/vjAH375yLsbhZaSGzwsgZvvjnuZ2DZ3hM3CLk4M03/g7cLz2BOLHZOOaD+hxRWRB4rKgheoODGf6h/lXesYdcN1/sg0dZjkQAtSVsQ+gdVkM8L0StNNyFRSjDOpqon6jHIOcX/FHe6oZIWLgqwETX0ihidknjGnBudPJEoyChE8VXiHeatIJOLowEL2Z4LuYfdMzBeqWMKyI5cC254IC+ioaQ6eXM9I+8Z6PCMriVtmxumNVq00c48fIt+vmVkoZhGZdhONsdzsMt4slFvFO6C9KdgfE+r7niATrtTM9R7Vzxziyv7+BSElg7thfO65ex1YdMVR7GiPK83TjOkg7hZsUETbsVQalVtYwTpPsCVB7SAkqrWhqiacXSmCB93hqhIx72htzb0bsV1ijSu940fuOb1h2zeUlSjbM9+u5GQQpoBpgw8Sl6A3Ho1mFYG7a6Kxe0QxoAfHs3NYInHV+H1GFxNLlsTiStUlklQs80xcMvUuMdYFykhmLVhITL1DssfpDfJ1R5FGbkNAhpWl2TDJHnny3K8C7WBaLLHyqHokVBVfm5qcbyl0wtUWGa+ItEC1Rx0qorkhFp5TKgnFhsU6bjYCscIxSvpFs+Yty+ErTEdqfaYSUGeDG19glsjRII4XGuU4VAvlrqc4w5uu6O+/c5xrXoLBn99g85WxeabeX4lmi9x1TIcavOdWvDBYhZJf2NuaomtYpUWUBeiKm+KB+l1DowayfUXlhqqr6FZBeflGfZWo44VTaQhDQxnAFIlN8QdeuoavH77hsudYjczyhr7zPFhJKif6TcRfHN9WSb/xmPmNOJwRztAoh9pdmZevVOU/sOaW5jiS08KsXjnZlfQoieWO9bDn+b5hmm/ZzDXdOKEby7J6NAU0C++miKzfsD9BvytJTjLNiuA1QXmihkUGyniho+RbobmaQEqvzGmDRFHeWmzQXIVmnh2uslBfWfuGq1G0dHyfZ/60vfC1OiLeCYpiQdaRxMiiI/5mwF0NfR0Zhx1h9ahqgvhAmjvsco+wPdQRTE8WGR0yMgXwivP1jj5rJm8I+sKWE8ZA/ZDYHhxpM5PfBMT3ZCUp6l+g2jEZSfW68L7vkepEkWqGwpDGieLqYVxpwoWivWcoSzY5kU4F+yPcpsC0zFjX4Jo7dPHGIGfCZcNl6aibM+v+B/GHpue0VvSxJ8SVJu/Yp0Br/5H9KaPzG8V4RfMBw8SJV16sQ8qRUkOIEC9Qxd/yId+j3Qa/bCjLA6rT1GHL/PKZJK+YOpK8IdNwUQKmG0TR4d09ywrH4zPym2cSG5hbDqXidvmIqB45dzNnEenfWvqgELLgzhVUbmE5dFz1iC00TZrZxQbp7qmbG+y7mo2ZsJPkadOSo6SpzjTSY+MrMjtOuiTFR/RmpTaed7pBvyS2hyO7qWKm5lQ984pErxn37cxT2PGnqMm+Rvgjz+nIIFcmbaGsyecLt0dodxU389+42wWkzZzfOlKKBK3YzzVdAhmfyS8rfiuJNZTHI/+edgzFgesfRoYPR9q5oNEz+7xAnglLouwcaXfL308QUg0X2N5e2T58wssJihN2Xej0hmmSjNEwLQvBBqSbOPR/p7YW2gYVCzQrWr+S+kR+/YSJK1Hd4E4DY3nC2QvUApXO6NmysYZyWlmDYjaJlB1mfiZeZ/r5ikiGUQRQGll+51pkcjIMrqPNirhRBP2CXyRyKVD9xK1/x2IC1aamsYo5fkAsJ1z+TDk8oOYF5xfq2uO7I1POBLlHDLdsjWIMJW8MP+KGm4BfAikOOAR6F5lKaC8LSw7M3tHsLZVVDNcvNMaw1j1f1hekKulsQy8aZj+i14byRmDKiF2O1NLQrJF6HtBSMXPgLWUcjjjN9JeZbi9o7zXbEnZ+wM4nlP0LeAmrJ46KkBWnaHBTiVQr1ZKQbcbWnvbGc3uZyZPlW1Qo8Y5ATRogZ4tlQ64U5Dfuo0bEn6iWEn3MoA/Y5R2z+criWtLfd7jzyt28gTjTmIxed2hzIg0LMZ2h6AliQqVMtb+i6hd2FUh9Y7BxhmODkA7nH/CtwrpvjAKMjnzRLd/HlpWGVrTYK0whky8GPlrkQbJXJywBnR3rsjJeM34WeLknEvB+xepAWBYmtRDiwhogLQIZA6Xx5OmNnErEDFGPICt0fyHbBbEMGLkDBlK+IoonopHozUxlJ6o6c+IZ23mU2lA5C1mzLD0xbvBFQWg1VRQ0KbEuM9dnR5ueqNyKsIGNX7jvI747Mf7aUzUtj/S8dZLzMiOFxModhZecdcFdDKxrSdk/MqH5edHYXuLVCZEdLD9D/Ya4lsiT44t+JurA8pT5y9vA179IngdYz8+8XmZqRtIposcO11ouokHMF0LMeNOyNJkcJUlv0KJHKUnhCrTyqEWxMFLrkSxr1FISfI10B8TNQpZbpvI7Ks8U4g1hXpD6lb3SNKXEyBmfJoQc2JAxJ4ec3kjtQNds+c2+oL6dMNUju/qelnuy/UCIgWhgtBN+P+ObhkBBFoo1bdiYR8K25u4WqsXRBY3WDaXcI9YS4wZUqnFCU3aJlDocrzBm7KRYGVHHgcxISpHUTCQmykUx7fbYaJGpp9+MXMsC2RTo6khA0eYWOddkJUjrhHMGUXQEGYiVpLA3qHhEEGH27IVAt45CFujccnwrOPvM9e1MOTfI+UKvJc+XHi8gRkXTDBRSgHYsVUDzDvmxpGx6ymio5JblXLC+f8excBT1jEoKUbd0Q8mNDuTpHvvdUsTIGhRCTAzvG75tEkQHQ0a33ynFRFeeaceFb5d7fL6w1Q2xPNCIf8fM33EikW6fkYzMuiDuJk5ppXzLhOXMJfbYNGPziNZnnDMwaK6+pTg7wJAvGn1+QYUniBFVzUzeks6ackmI3cJFn3hOLSn1WCI6doxyweYrZQw4Fcn5QqELpmtBrd/IQuJ8IumGUByp2hmVO1zpaFOmPRv0GsnRoNYNAUVlKkQh8GtiEw0iN1SLQ5gTixS44oKIDfaQ2UTNyoDXhvh5YLze8opE9ifCq6KuO05jyQuKtyXx+DKQ5I7Kf0FeI3GskYXkdK0IK9TtxFXtqYoIwbH8emUaZxYWQrglRIe7XBHcc/19xflmy6kaoTwT9AF3MORNJBxaoo6sKfPrXHM+7GBUNPkD9f2PWNv2UDNwz1dR8/zUUpwrYEK5MzpMLOHMdpRcpGIeIsPLhXVJTHvL26Ahr6j8H4w+8FTd4YX4IYHar6y7O2RZUuwNXf2NrXlFZkl1Tfj5ZyomylUToiAcLwi+Y2Ti1y5h8wETBHm7R80V6VwyKTA3d0w2c5WJ9dQy9o+EqKn9wN4MvKbEcbiFT4610IyTYlhW3q/PlEXiuXI86ZlOPaFtw/p9T3jbYf2FmYg4baiKkjZX1OXEg1bIsGGjTijR0Ieag//ET5y4yBEjS5Tr0SZwSTVBXci6InhF+dITjn9FScfZNHwTlq3V1AJuT7c0teV52mIGTzF/5e7UsPqCzSHRFCeGylD6Dps93iaKfUXhF6qwQnrDRjjoC8VqGWzJm1PsyplyOKKXhViMYG+Qx0zyDX0x46xh/mCI2++wTnD9iveZ/WrIbkPyBe6bZRknvl4+kZh4bjJr2yBDovg8E6MjnRO/VpF5t5DaEWEF9gBVU3GYP4KYSVrA1TKOW9y3HXraoOYdZSG5lT3d2jJXK/86G45S4K4Z83KgiJLQerQpUHPHu3DiXJ4JL59/lLOLiVsbucQLJmZ60VF8m9i8zlQ8sdlm6m6HryqeuoLrlLGvK0+vXxCr430JDZ5CwCwcLRMbvWDDlv3LEX+64uI/8K7esL+Z2ZJQ7RPX3TeEbngbNJU9c5WZXK24c+TtOuKdo7zMpF2HEjP3S8N1rpHyHUu55Vi8A/cOsQ4QFH89S9YBrtdI1Z6IMSLUglghf33PvX9BlU+krkKXVzabhHnRGN3wuD9gcsW5vvIaBddbS3y0CAdptKyTpD5nNpcZqTIhOazVKBXYrJHOblHCsogLOpd8/AplvVAh4HhPFoGkRt6UQgiF1g067WGYubMdjwBpQIY9PhxAttj5Dm9Hgsg07wJTdcJmgSoanuLCWDzii46oBEgFzjB0O0R1IO13CCZM9tSh4tYINmFCL4nGXVn0iswjcrug3YC4/BtZv7IrwAnNQUhitZJnTe9LVv9HjNoho2B3uDBbj5KOlh1JKYbkGbvMURoSN4QIc7HggiNmhWvfIXJkKaEzmXSukBeLTyuF1xyrhfOaOKmFWmS2YkWtnsnXyNXRoFGy5rY+oDcDTInaK2ozMBYb5H1JPibstKVrK5j/So4S/uYw7sCyceAMOY5sbhusr9HacUkLXj5xDN8oy4Gzcah3FcVNQLFQX2emLMnBE6NEcUNZnlBDQ6Kg6jOF9PSlg3eRspwRi+eanxh1iS9WFiUpDm80smfWBRSgwpbWOazOJHvPeSmYF0E0M0MzkeozMY80GXK05IeJ7Y1CtC19FIzHRKEFxBprKza6IYcfyOw+VAgy8zZAAp2DQpcwtiWWgeJbj0qa6bcbeI4YobEaGv3CS5/5Sd0xq5m9eCX+Q03ydyx2+JHL2BxJ15LLqcRsPUmUTGImBkNxfyQUP2POlvokuaQBoofqSHb3CJ0RG4jfDKocyNmiVkdCQrow1fByeaUqDOl8oGsaejlTT5akO+QS2ev3fE9/JUeHEEf6VdEVN8Q1kEUgCElT3iPCgHJb2lvPeNkidMGnGQ7dv1Ppn0lzjb9vGfVXht2enbM8rYlcC0rnKRvFwRS8dRemWfGQNZmFwli8XviPvufdF0n5e4NMvzBnx7xZMeKWYfyMHydMlbh6hxgcJ79w6a9sti2yuSEtM6WW+CWzsIW8IsMrtZsY7U9IvcJlxns464TJEQpHITsyB+o8EmbHxo24ZovxFcW0QYmfOddvVOKRdU4s5cJSfOL20ztGKgqrcBiGpw4tJlT5gO9PxDxh6SiNwU0Zy5XrViFPJ2K9oTcO81QhNjeMI4zyM0W/xf5kkOortTbIFPn2Py98//IX5vXK3/76Z7QIyHDi+vfEr/NKrf7M0iSK8siYX/nL6S/sF8XnJEnzK8MwcPr+F7LM/P38ndyP/D//7/83Igtq0xAWicor/+tfjyyAtJnT9IL895KncqAaRuKNIvXw6eXfyMEgbWYYLvz6ohjl/wtPQZKZXl749PbvZDTEhcvxhLgVpP/H/wey4KuVhEHx+d/+jbnZs3eBpQgseuCv//Ercl4wyxfO1zO//uX/Svel5JJK9rPn4+//ia73vLVHXNWwHxxv9YF3rqEQ31nylkN+4S0fSLGkmAK9XmhXi58tqm756X1D6D1XC69x5EH+DpkEWS84ccMkvvF+2BF3B3hemPpA2HrcnFhKiKeviBywVU2qj2y9YK0axnVlbTQ63BLlhagzR1ny5iS/DJoyD5AVq7plP3rG048DgNwLmmUEOSKkJQlBRKC8Y8xn5ssjsVBEmXA+8SDeoaTiqfxOqRaSnwg7Qfm64lzFWk2oUOLdDL7GziV5P7KeBGVZUM4Cvw24MVJrmFVB9hXSt4hiZr1viN5wKDx+rWj2J05JUb6O7A4n8loRSkhuwUtLEUomI1hEg8kzq/wbiZlq/YhNB+x1ZrEaIf8Xc/FbPn57w20bbKVY60C11pzmEz633Ko9tlwYZMEwW0qZUZ2mKCZ+ni74ZcK1Oy5jRD4NNA8NyyLIfuQ3ooH7Cbm2vAwzhd5THBTGv4dpoUyCr/OGjx9WLsPCcBz44CY4/5ZcK7QItM2Vrf6GXPaIxSLymae2pvPfkfEeJEziAnWmVF/BPGDKV+wsCYeagKW6XhH2hXRuqXYbaF4R15mGCS/ucEnRTZoyf8akHRcW/LJSf/+IeKy5Hx1LG9n8RlBGyMwYlfibT/zGaZp1S3MRDOeF+7uRKC2LGtn7gjwKPm807VpTxD+B04hOsxsT1+1HUrhAqcgKSn/lnb5h2nnWU8exnKnFCX8Xcet3uu0t+bqSb3+PlROPUyJYQbQ7fgozxVYQx4iImVNzxUzvaHSD7TXZDbztb9BKEwfB0+WOu1rjYkYbz6xr1qLgGgK1sWxmjepayiyY38Dca2bv8McNMStkZ5mSZDMmpuaEEe9oVUXuO4Z6y5ASxj9TN4qxShSHD1RPR36Wd8ybHYFXEi2vdUVVCZywpDjy/jiT2zfCCc6/hdtrzyk8ssiMc4lt7IjdyuQjbXHB3Vmu40KxANUe4QWVPPJTbWgGhfx5Jn56wJcRkxPLONLkG3xyVLuCXGrm58x6u0P5gUOVWCYH6cioOorKEYzkpbxj91QidjMfjGaI3ynNTLHeEnTiSVzYiYDQEpMX5FvPl3hL2Uzk/T3vzMxfcmQqM+kto6oNY/qIUjNBG7RNaDY0/UJoG+zdTNAtr+eK/c1K7P+GmB/JhWdXBabrSq1XhDb0g+PwruOaFbv0d6K6oRh6ZDfwvdjR1BlX76hT+oHEDImlbTkkyWURnLoRmVvcZaXOC6995qd9QKlMOb2Ryx1l+kizviGmLW6bkLlHFQEhd0zrlqapMWYhXVu233dMdwu1POHP73l5/8JjiixuQ9JbtDL0LqDXQK6OPOmCu+c9/nFhuLtSlluClMheEmXmWRW8F39DLBprLTkVEDJ5syO/aSbOlEKQrSDkkUIOOP0Hstdc44GikgyHiepN4dsdodBIfU+4fGMabhERTCuh+0AeBOHYUv32TJo3FLOhKhVf+h8I7+K40nU9OpcE3VG6H33U4DSbVUCxUp978jYypgNKbClLzxoVxj3hsyC5e7JNuGql2TXItWCUM+gjExKzaFSSRNOTr4quE5jhFh0HahLYM6gN6nplqK7Us+PXbcMfildC2HKeKvZtS9bvsfkL4p8/Ep6+gslkY5F9jVaKnkAdRkobGXvFbeuQqUDPBcuyUpiOVxJbXdPKM7FU9GGDmhTzFkSV0eOJ1Ea4GKwXiPqKzA+EtiAue7I+4dQNTQHuKwypxv4Evhkw2kIhCYyoS0tZvVC6krAL2LgnkshVxOg7ViMx1z1agHpb0AdP12rE8Y2rVngc1TVSbAqCSchpJU2RsHSgEnpBUueGImaWSdCamuXOsTkODLczgpqdCIzulmbjEcuAvUZEvmGhQZQNVS9x1YC0JSKPNI8rVkbCstJ5SxXOOPUHdBjJocAcFPoIstOYa0ewnuxWcuow+ishHWhNIleaFDoq8RGhnnlfPBAxqIcrbtyxrK/Y1rFdn0jmlnhxhKIhsyDEBrHAYA2iSXDKtKfIWo2oRTJHQeaKlQGXCh7KgJvfEfsKeVjpxJEQf2BNS7HwvpSc14J548DPVNNXunhHFBtWKSArdLoQXmo+Pt5gfjJcpKdwklIlisqQBkPbHdjd/0y6SdSpZF0ctZZ8+fQ3FjSnwbGZN1TmRDKOInlgotfvaPqVWErWymKkJHwLxGuDem9QISJtRZoVs7NIpaAUP6YDcU9RvRGuAYCzF+wqQRk7tjmTb66YzyvCOsySWR4FPlf4XuBSIKOYs/xx2NqMrKNE9AoltuzSjvJcIm4WMAtd0ExfDkxKsUiD0j/zNsPPuubmsOP25z2/mf43FJUglgV+fWH5P2z4304T0ioaU/Eaen77n0tEufA4AXnP+ub5w/9u5T60uLvElVd2/8c/cHkF+Qn0fxeo3NAOiiEkQhExsubtj//MvcgsXyPLvwCi47//7r8ju1em60RR3TPrN9R8iysW5qUlWcc//eE/M48KMXtk5ZFfr6j/uiddr0gbSW/wL//n/wuXaiJbxbasSSFS8H/iTYHMA2Zs+a8JVvlEURq+yT3348K10Dh5YZ/hvApWsaEoFRc/YdWJb5cd/3RbYKYKHc4M+5HVbWB/Q+z+TGn2TOtM+5bY3K5crOcltazGUCqwqaNQO56WzzysBdu9Yd4YFnfP7vKK0hbTPTI8ZXIeidUHHCvKXRHhh2htLhxjWcPzlbDe8tsuoA+JvA7o4Rcq98S12HDpJPfV/AMkICeWcE8tG9R0wWSP0y1lWbNqyTf1owtU6IZ6KlisR7kCmh0yCYKWuJyIJhC8R+cAeiXMHdk4xvmHYCwUDr94qqqkST/oSTbXiENE5gpzspgE5XZF83fCZodPFcs1cxcrjp3kLveouEWoTHq9Q7dnNmvHxklOosZO/4nEnxEpMKwLVa0pFMjyj9zlCtU11P5PPB3+SDsrZJm584nXdIJzzdy2ZKO5fzkzVnvSI8SQCSkicslbnGnKkW28IQ4GIzsG+Uw1eoZasbZX2rxhTYlG/4U39Yhlwa41hwO49IocO4qyRLaZtRyZfUlpP6GRKFYm3YIZSd9buvpMsIrta0W0J7J5ZLMsiMKTx+8IvwEzoeSOYoLp9swQa1ZZUD5XyI8Nc3+hfrhl8IG9f8PllaXSrM2W5eV/UYr/ArcTY1Vg0hmLIA6WwQV0U6AlWG24OkNZeVYlabaRkDYc5YxdA1+bzO4c2K+ZWJz4bA/cfFeccoUVkVplZBvxk2Pot8BKkgl9U2CLK1nWsAyY1CK4cDKSTbMQ0wMsr0hVIONXnPrA36uO/bhQ1ZIQv1K93lBvLE8vkfpxIKvI1q8M4UTMNXe7Bh9XTOGYxYr0r0h+A0XNMENTLeTjTNYzffmeZl4obzagT5T9AOqF+nhAPhhOaHaAfC64Np/JouZeKfxOcb6UNEtFs3kmiYG8KbnrE7MwLPbMZi5JRcE7HZhii7nRrOOV4kPmPt6xzgWiSuTtyu2oWPMZrgVYyd+qnnduZMh3lFvNKDWVlJihQRSR5Dp0Aed3GT1U6NMRVd+RkiK93CDaF8xyy/W+wJqJMhrWc+SsB2p1gy1eGNpIoSpMUkg1MswFxWXFV5Zp20IokWFidzwj1prx1lEnhVgP7JaJQ9hzsYHRFuz5RHr9hWwySWTCRhBSweY545uJxRdIaxDJsq4Dm6Wi70YucuGhdZzsyhBmttZQl4qcMkX4jLkrkWpDrU4wvWPxM8V9xRw+kIoFiyWvmTJPfFIbDvVKEp9x+h61GfgkE4WEfT1S2ZI/HCXafUGuH/B2Zq4d+77jnHcctt+Z5Jaylmj/wOIkNh/xzAy2Ql814vceJwKF3FDMjnex5HmBEhBR4yvHlkyvFCFXVGePeXzlkg5U8oEwJ7r8hmhu+SoHHpJEhj2jge7Jcp4TzaajbReE/4R7+g3FfWZJL5RFifSarrgyC4m2HpYd1fiI4EyTEnoN9GJDVd+zzIoiK5zScPH4fmDSNVsEF1eiCoWcHRsd0FaiqoYeSTdFQvsJb24phYdFMDeGOHaUtxb/nBDbM/KLYb5fWEuJWG6RukcWCWcUpyD5uF7BTjS+ZbjecicLynUmNolBbEh7S+fO6F3DeapIqyXHlkb3fOmOHKYbWAX/uNkzO4FYHHIXKb6cedr9zF54/KtCFw3byjIOV8ohcK1XtJ3QB0UTS8Zcoo0lLq+M8YKrNA9acHPxiNKwsiErTR0VpMyaJoyw5OaEFfcEa3BpoV5/Ii8jUV7JVUEI7yg6hfUXcrXSmBlpF+bQUb6Cb0Z+5Fcdzt1R9DNH33C4n0iiIzUj6ZIJqqS5gcJlfKfIMTOqhCxvyYVD9QWSC4ObyH1F3GSCKTFmBWfQQzmShUe5LUq0jOpvnNeWsiuYhoBYS+rigo0DJkXCcM91d2W5DizOckNPlbb4uSWdXvH6wnW4wUTFViSmoiLsbjAiopMny0wIC6ksUd8zbl9RTJlkEtlIsk5E9YxLv0epI77z5OEVlRNRXJGtZZ0NpbniKgfmA6pW5DkQbYMbPbP4RtKKTa1hEHj/TC8E50NBg8XdTCC2TOeWaU4seUGEA+Wfzwxyj68KVDS83Cbumej6CmxHN0wot4JNzLLFiEjqPM71MAZeco3aVtSvnvWXP3F3/BkhLYMGQ4Oejuimp7EOIwvc1KBSjRFXwlJipoqq7BEYnKvweUY0C0FL2tWgKoHQHpaVIWhqBYcG0mpxqiEtmVweKVlZTEEGxPWFQRaobsarDWL6SptmcBsmlTFXz1NV4cTMdlTYDzOVKGguBX4Z8E7QS0dOGcV3lvTAnEYm4UhribYSMRomo2gKibAv0L2xyHtiyGRTsrMnEGfCZkvNFlM6qD1qiehtzQ7JpBuOi8KuCt1J2i4zB4c7/UwTZ8QfLHvh4VLQhld8pfkurtzsN3x7t+HeN6haII1nM898GTNpP7MtLFeTeH+nSFJyCZaXE3wYH4jvZ16HLfdFg0sOrTYcKBCyRRRn1vqN2/MvjPuF8gHC1HGdj+yLPfLhBj0e0dsdOUTwJXYYECZQHCrmZ6j9im9asnhPf+1pNxEaQzWOrI2gmraonaGWMzqMVC5yzgce6wHEhbXs8GqkqCpsUVP0MJc/U/YBMY6kSVAUjoNUcFlJ2ytxuqUvJVcJ9+YXEhmeHPbnxO0Mn4vA9dQTkmKII6MQTMvIZpEMzhOnmZNrMEUgTQvzMKOfF4SeOU4Tr76mTQm1+4lp/BM6a4RMpNOGZVyh/8zValrzY2q95r+Bc0Qbqf3IWxgxueKt+UaeL0zhyjItKPnEJUrG4QVZPiB7g/MLcjOR6yt9NWG4EGzALQZXetIkWb0G17NcnigrxeAvrHFi0yxczC2jumWzjIynO2R6ZZR3iHThkgWmFyj5N1z7e2qbGYsFOwtUH7lWEp8s++A5aLiohZhgFpa6/8Zy3SDv/omtm1CxQlxGnNug239HPuxZTI3tCxataIqVXwfNz82IEo+cTrAvBLLfEEwPs8PtX6n9e1yR8bXCvJToaqasHdfX35FrwaxKYujZKE+wW96qhDWZ1SjS+Zmh6CAbduueeL0h20zdbPhT59msW7bnR55Nz12+QZiVXlwx5xbuSkZO3FFQzy22lODukLYgLIJTVaE/RcKHmbzCIncE7ck2krWimJ+o3/2MuzpUWSN15BhK+teFPy//b8LaYDrPZTVEK6njSiRATJjvEFwguwpRZZI2ZDPR5AGGAaot/7ZmNm8K06zkr5JBCurgWOSfkCmS/S32b55QGqwCOQOix5UtQv0PDALEkSRWIq8UZGL8d9L5E58ODU2/4+rO7Ls35HeNJvByWshBIkIglRYxN6j6DXKDSiu93bArFb//R8FjnOh1hdew1gYTJLv8Y8Krp4J+3aG6CekfoKsRY8mm9PjpDXe/EvKZQpSEuEOhua0mxvhvTOH34CLxmhDzgnuAkCVv1ZlTD//Y7qjuZ57XW7rdnnXwOJNp33laeiKZIAtCcIhtw51fKJufqedEn0oOq+Z7PVDYV9KuoPCWsLE0oeGm+E4Q73FqBBLhMrMtFO4vCWmP3Ok7PsUaLyOb8o2y2nH9j2e2e4fpP5BFwOcSva5UecLFElW+0hwh6QobAscgUDQoD363YvKMWgswV9qkWdcKkR6o2idc3OHKheSu3MoS8y5SpQpwLLNg7N5YbcN94ZF5Jp4XkL+Q80idNzi/kNJCayyMHZfmjkY7htVzW5QU1cwq7/kcHb/IGaLkaAuMldxNMMoDTbESnaVRJx4lyHWFtDAGz1plcqjZt5EgfkfNd3LhybnnYj7SpcgSzsinFbc9U+qa0ZXEwiLSROsfkTGz8I3nu8hu/Tt2/T2py9yIM9fZUDhNrl9p1wdiJXHiM1kGCudYnjuu7x7JKXO7BNbXDead4HQ848uOzdaQxszqPiPaHUF8IcTdj614StQpMqcdgxE8Lhe8a37Ypw8GmxO8Wpp8IlSGZnmiqLYESp47yWZ7Rzs6vHSUjUPHkqstaa8lprgSladWiVBlurhDxpXkDDSRWc7U+StL/i2mbFm1QDSa8Ar2MGHMylxVyOAgbnivBdiFbnkgvXiS0eT6jb4ryaKhWZ7IVcE69XiX6bAICatqaGLFBz7CXhP4jk4t6Qn4Xcl8vCBMR1k7+uuZEc3d/UicJOMbXMtMVwTUJLiWNVL8Sp7/CPlEWDXSbGjsmSy/cN79nmb25FQR4kjWispkiAGvFLHYME1X9vWWXB3x7jeMa8s2XSm3nrK3OF/iZ8USG8QmUblIYzzHG4t1GbsKireCtXTIj4rNOkKfmRsoraRoGposyMIRq5IZhbxqyt2EU59o5MzQ/TNOtKTjF0RwxNeR4RfBIfwE2qHbNVF8U7j/NOIZCUPD3o48XSu21BSjZC1rjJH4pwYrPTetpu8tZTvCYlG8UXc7rgeLflK885ZhGnnb91T9HptACYjGk/ILpfqZdZX4YkUUJblKKJ4RcYN0FpXeE41ERIsRkZ4tnRhxNlINAmUc9Ds2+gulWhhFTVtZnE2EBCoWDHNBLTW6GnGNRfgMPlKHgX+rtvzu1VHYK8N1hxsSO6O4/MsdO1kwToJuCywj+iUgbmFRUN4FxJDgWqHuRs5lxl9f2aeWkCNKZXQnyduVOf6OUToaIXCvLd93sCslfSi4G1vktxf0/pbU9FycI5qMLqC6MUjj6eeGGsur+EqZ4dxkWvcel0ac9Wx1IqsrMg9QWXLKYOEiPFoGrAnMsaLbKOy6siwVQR5JJqF3nmfjuGXGrTXb2XJR33GxJi0CoUbQlvnQol9GShVxrEjxY3uhisS2KnmpXniZBx5SwQ0C2Tuc/olRe5plpZguCO85rQ1SFNTyQh4mdAcvLxXv9pIUDdIHdKrY1V94zVs6b3mLGz5ONfEgmJNByiOFiIzpyHHdUYuZj+eJoSz4pyRJ7VficgdvM+BprwKnPqOad7zPLcI3LPkLQszcFh3TxXN4KzicHeEXQ7uZOYeMGiVpM2AuO27OHX4/YS4Na1sxhjciBYsoqIuRt/mv3PAvZGt4nhTF7pbq9UTjf6VK71nKgnoP0zlhqdjpgPOSvI1kP3CRtzTxSBAFpT4g9g4zBt5Ezym9Z1sZmlAzzStNzjzFgrV44YP4QNq/0IwfeF0jMiu+NZ6fcyY0PTdTYPl6i28d1ZAZfuupZglj5PryzCUHwhlCyhjbEE8Tg//GqhTZVExnMEykEco7iyu+0x8Vy/jDvnlxV85fXwiDJSTFMf8VedfjzgHRDpR5S5xmsvJIFRneRmb1wryOrN4h9TNPQ0f5VOFXxxBm1qmBcCUCOU9Mt5JtyKgsuWaFWV7Qy8h1zjRa0OeJfvxOyJBCpo9H1smjrgVZFfRjwxomUn0H1weqDdTXBnHvSf6R8zKSzczNdKCaVuKdpt8ohuz5XR04DQvZD/h4w3AeKPct09BRCI+Xlu2toR89qhXkzkPeIc/g9D8QlaZyPdYsxK3haxWo3Mo6wmVOmJ2n+VzS50xHRL7vOOk/cFgUlLAMGW56Kt+y+Cei6mgvPUUuSZuS2P8J4/+Bu6ZHlp7ee/ThPYd4Rb1mZnMk7jrsOpJizc9FzUvfU1lH5TvmfaJ+8+jWcjp7aitpNo/0XFBx4fvrym6z0PxaI/eRtL7S3DgKC9neMp8So3OonaS6aIaypeYN2BFKzTwr2o3hj//wX9n8fOXytEUWz6T6F7wSCDuik8B8upIPhu9h5O4podVH9MfvpKVGJcOxgsIH2ovD25o/pK+M5Uf0tifISMFKyB3l7LDLidf2QHnc0CjN0II7fuVQ/YxoJLn4zJWEQVNxSz8FxPyOtI1YD+v0jrgq2l1GpAJxrkibhXApuagL202LtSuOhfPVUkpJq0HphThlVDLYNnDUAX1s2bRHen6magfkOJHeDNX+/APZ21vqpgf7AuNvKa1GqsT15OHWUE6KaD/AxZOkYdYn8t0dW1mz9pHv5S20PWhJmG7wyqHlipARFousJUllmGrkJSHrllpnTl8lyZdI4XnkEy5/ZBMLRKi4pIQ5D3R3iq/Z0aQD282ZdLaszYDfLQxLw99vfsNvzoliUrjDSHEN+O6BqFf0hz1q7DENiPhCTPec7JZSe7oQqMQNfWp/sOjbFleWiIulKSoyJ5pYwDBwqUqUajHRoRrB+X/dcPs4kRaPki3mOnG2AeMcqhT4jWHHhWu5cpQN5lVQyzum5LC7SJQBnGS7lKy2xu8UVZ/4mr7xeLnnV3lFqFvu48hvckT6GacPvDcjr/2MUQ84c6S5ttT2lbm4pTxL8nagjoZwiZhUQ70SosPK73hWFtGSdEmRFpxsUG5LsZ0Z0glcwZQd953hbG9Y5JFuURTiBhE0Ud78+Me/fuG8a5BJ4OuFNZ0pwgNFNSHYYAbPKXxl81hRNgfk0BHjyKWFRTTgE/k0k34yUL2yBsksHPfqzIQiesWtSch0h19WutSSxp8oDguFmJmPM0NrCLeCkoJr1lSHPTJXOOcoY0WWK+G1RNcNcZgQwmD8kcUq5CyZRIMwz3i94xAFDJDbF8J4R11tEKVhGhbsstDZDS+tR3nBPO5Yi4mu7HmLFVv7DdIdyyyRvLHebvFzwMsGeo/XElxN2Udkt8VXJdJvMIuni4pB1Hyrn/hH31IbzZc5sf15z+ZvsLt7xpuKwqx4F3g8JNb1lrX/xHJ/x3a1xPFIXCxilWR3oDWeGRhbyxQVm2tF2v0WIyyLPnGpBZ1wTKugPyneHRzafueK4U58ZHEayx3OwP7nBX9p6YdMMIZlXdFbTXeZyKbh5ZrwuqCaBXm3oos9YvOJujN412KbimwhRkshMqQJs2qSkIzNr1TjltgWmDLhuSENL2y6xEik2RiEtVR6pdB3rFEhlUfnqiD+84XivKKne14XT/fwjjJDipG5UMglk+2WtomwHRFHg28Sqlwx/cK3dOAmjQgnUarkVEx0tmLJB7KBLB3ITwj3iJH35F5AKsnFhEsz0S6oCaRqSUbi1Dfq9IGYV3xIaCnxviCFA3N1IQ4Zz8zsoPQBuzXwJXHaJqwPWDkQ5cQxKfRzZPuwQ3EkuUTx8cx/EnvyfSJfC+rNQNyPfJOKVrWkKDHCg5uQIiHLCsqEEWe+hh+N7301seaSa+5oMsTqlXARLO2J/fRG3Gh28z3H4pUot4gNFFPPumb0ZJhvPan5CRMT9fzG2hQgNWYG6Uu8yMj1xKWpseGWQZzYJEW7rgR9pakiaTLMseR8MhhtCSlTqUwdLKONsBiElCxLgy46ivmJvCTOpkMIQbX2iKJDdmDjCBdHNIb5fIu5L0jDF6w5sNwv5FOkDSXz28TRWpp2wi0tZalRecP6vmL5j0R6eEObCuEMIRuEOpDUKzddj1wCl3mHegcbCjZogjpRnkYWX6He1dTXjkZWLEtL1cyELhBGhZxeUbZG/X9L/PsrO/WGHm6QZkdnDGL5xCrukSnj32dEbOl2Myd7x3k+UHnJc3rmUBg21ZarONPhGcbE1HRs3hK5E+xdQzqcOaFIWyinV86ppHkDWtjJgrBruaxXpJTkww2X5Y3KWFxdcCsHQjGRjzXfRcmDuxBeW0Q7YcyeOV0RFVjXIMVEqBIpHzhzRUfBdhmZuomfr5aXtccOClWM5FNGbg03xcKSarIfUPpADhPbnUVfoTlnzvcd8/OMrQTy/sRcrCTukNdALr/Sug3/+Lt/+ZEJLsEvlqYwqOI/8P4/c7iU5HuJWBM5VhQHyU5rJBGGyO73C0b8M3KtafnMmxZs1nt04YmVZK0Ud398j9FnhrSjHGaIFVGB2u2JLx59azD1GXm6I+4W2u2ecgrM5hNq+hdq+0ZwNa0sGUXLaiLdqUQ8KrTMvP/ymfxuzzk33F8jy61EjYL7LuP0v2K3grWuMRE6v9DLmVNo2MqJki3xUyD+bqVuIlcjmUtFNa3IvuOh+MK74j0hQqMNX33Lg3TYYs/p3wNte6S4C/hekYYW2TjcayI9jth1YOaORvyZ0W1ozDuQT5jhgXf+b8z171lEi2089bBwuVsxuUDljnld0L0nHnYomanOL6jCseSAKA+0ccA3FfN4pBB3pPuS8wtk2aLFM62vML0mlBVur/CioY4eOwvi0XB9H2kXWCdBszth6YiHC8IU2PcOGzN53RKyo9rOFPWW+fRKvt+wTq9sVUPZVczTlrK/8JtaEpdEPmmU3NMm6MPvMMlxPF0xN45zjthDjzg3jKVlt+3Q8UJcA4VrMUYx1o9kfeSnYNB/7FjnBWPBvXW4+xHrzszVlp+rieexY63/kWaYyU8b7MPARXbIuUBKxVgU+CWhq8T34zNd/RPd7Tu+qBEbI91pg9h+YhL/CXN6RcrE+aZHrb9lCJGqeKVsIrO+YXd28EExLzfotwvNHxvKuuLy/RXd3LKRBnFO3H/8hhtvoKwY1oUpBeIQaczMk69hWNlKjbQlZ9XQhA35OjDuDV+GHb+0DYVf8PoGNb+xaUa+T4JUSga15aY6I+uFTd0Rishp+Q5NTbVYfik1QwroFJmDYHn1yDZS2Cvh3NBUB85/HznfeIb1xK5p2d6Bl4K6GrlMe6pKM6we5aHsTnjhkf1K5x7QVSQuFbSCKs3ocebcKx7XgNoL1tNEuWSWRtKmnr2TvOoe0xxABpZ8x9ZN+GZmNoGJCnWZUM3MuN6zDfBuveJ1h/Qn3nJJcR3I0y2lipCP5O0dSxDoX3pSuLAxI9WLZ9CZJD0nkfkgbrj4hfbve+zdjvomcF17Uv0daGhEhf42w/5ANM9kFDqBG3s+FPfE+5nmGmiGligdsxUI/5FTWnlwGV2MuPmNdvkVIza4Y6JqS3zXoFTP4g1O31BVPfEkQSXoGl5zy89MxKnCdSM2eqocEDYz9R9/XETrE/7bzE6XxA7GooSiZ+sl5rNi/V2iDQ1GZ4wQkDN2/AcM/4FrasTXlrckqN89YtTCTEL7iVxWdPkAQ2De7mlYueQVUWnK8wfav07IP/5ESYUu/4N//9MT9a7HhAurLqmcJR41Mgey0Hgz4bNFBUVUgSwyyzoiixobPIUv0Cqj/j2QhCSaTAyZpEFdA7ppmXPE6r/wFyzCG5q/Rhb5nVhANoK4BLbKwKtk0QIfPFpssNeBrxuN0orrOrCob8igIESk/k4UCRELpM/00pMLjZEL5ikjdYVVif/2v/8vpCoTJ89WNcxSsKSCQyjRbeL5J7g7bUmdIww76CqsNRTlmaH+HfIpYYuMvWvJa8avL+i2A12xVprNl5VoSnKbGEzPYdfy9U8tXRO42544y5q2O7Ccv1IU77jdbrg4AztJ2xYUeDiXlO8121dN8XDhwdcoJOt/y7xeShSJu2iIHzVVPIApsfL3OPM/SZd3uK0j7DNbImO6IteCm2lEX/cc9Y6y3KM/9jAVaEDqPbOsaRBo93vS3YJyPc1ZM5HIakBbBJpb1hDQdeKuzaznwPtFM34MSAXH5NitgtNtIGkYgsRLx2bYE7cl2ykhxjMuWHxUaDEj5prdYea6GvwwIjc/U00GSoerIuusEShUgsU3VLkmLyNBGoK/w9Ura8zYUKOXmSiumPlCESeG9ZbsLxRRckyBbvGIduVG7rjOirgUtGklhAZ1vyJTJumVTmWm9BODeqFxtzybCStm3s13TDaSlIJPf2H5yTDFD+SU+evljf9SBVzeUnYDbeGwQSG849EsvFx6qnJAdXvqU4m3Dflo6Q34eUdygqqdub0qvHujqUfq8p76rFnUxFDds8lvHBnwreZk95j0QlN2vAiD6hea4KnyiblcqTmwrAkfNKWGepfp2pF0Ffi4EFMiTv2PiZqU5Gkgp4HkdwitsO4TIpbcVYrPeaISluxr5iBoE9RFQz4ncnNDEBJ/KklBsSrYFKBqSb/cQTpS8EYyBctzoPjYMdUS6wfO8yv7+hGURpiKYY3kcUO8jWhbsHCkXPbos8DL77zZGx7P6cfL2kSkh8u3xH2jicpzOtzTrQFdD1Q+U3gD9zMqKrwLHO093gqygnWAbfiCMt+4sX/kzmYYQfg7hieHfT+ilzui9dTrK1Xc4DuIlWUdVlS8IG62yDgi7w2Vy4hfLni1ouvI0d3RigKqgZRv6csZde0o/YTaFwSXKHeag4rkWPywKfcztXyhryy/ppkH4+iGLVlqbCfY/9stxT+f8bFikzTLJNgXBrcDGVvkT4nrWVHGN4plS+gqMmdys2FyJUJJ9I3hBsUXm8n+jM6apdzBckLbNz75P/LzR4F5hbvfPyLnhbVYKZeC1T7wbdDctQMVP/PivqPuH3CcMBq0uFJ92pHuH3hYSmqv4MMt0p+oPmmkuaAbxaw6GlXgpCE9Cayt2JqJyWypyoZl/51zZXnQW4QsOemFn6Vi3Fbc2wPJK56nLYfNBq0ixRoIbxZ/m3mwNWP9jUn8Fr0TfMRycYFH1bAWPds28SXdIKpfuFvB6B5RG1rfYE3+UShUb/Dbe5Lr6UbN9iFwnT3ruic+OZbHHT6BNgVFo2hjj24EUwndTULfrcyviU1uGXc9SlYUmwb5TSNvZpI+Uww/kQ8ZyYw8FbDVLO6RQq3YoiAmjw2C7hgZPlqW6V8pz7/nWCZa+cNWPhcHlpzJ51cOusNXM2GRkFsKbZgnS98FNsZhRk20JUZ5lHujUBuiWgjLkap45KQi3UUza4t7PDPGhbvzjmXbcGHF6oJ5LLHd3ynkFqkkarAc0wNNf6bcrmR14FW8spcKsSvJ+h79bUG4xPGjZJ5KdmZB1o67M+RTQ1IeY+7JzczjySAiLKJkq46ElNEJjAik9Ya1GVnngotbOdQ75mIg/wrl4yvmZc+abtkdJEt6pRKfSeqA//ITzcdIchIhFGM+IvMjG7/S/PYOd3F8vk58eJfR0hA3CjNu2HQr4/aBvAbkm4TG0USDNzvWy4ZNMUFdw3AhvvWMjx06BvL/r6X3WrJk2a7shqvw0Fvk3ilKHHEFgCbA7jYav4C/zyfSjOi+AC6uOOdUVqXYKnS44kP1F7iZe8Qy97XmHBNQ9olKWVyaqEbNFFuUCFh1ozAD6+lnSjngj57wdUMbPFOxcCGQb+D5PCL0ylZEPuFIY8E6jVx8x0HeeBVHMh2pCkck4MeKdLNkNw12IpUN9WAZ6sgpakyIrBvFZnllkxbmokEJh5O/MvrPVPeOTAkq3dOoxJznZH6AuKEpF+I0YvKORdQYd6RtA+v8G9dV8dDCuTqBSNhgMMKQf1yQXtDrlfKQcZglQyhZqwl/XcirPcPqKdZXej5iTcnyNmG9wW5XzrJm02uEBTMD8x2ZvjDGiQ0VYlsgN4LFaXK7Q94CXRYAzbj+wC2NbHcWuWbclb+RVsnNOXathsMBWUjkrDFtx9zeUYUAY6D/eMC8CN5zw/0wMWcW86FDio8oSkxxw0/fZYRylNja8zBNxFvJXb1nDQshfCQ1Dc5ciUIhw8TJP7H1L2i9IKYNabPQrzdEqDkmwX8KxU/FjL3NqCKSrMfFknzv8dEydA9sHwPeRPxkCLFjPRm2k+H22HOdVqx4JTs/ILZ7JjRRKb5Yy2NUZB8asueBJuWsWU2FxnFhmRw3/RtW/8hneWOwhla/4SNYmzj9V82dSrwsnscf/4X99kdUa8jSN76+bjgWGX16ZyMbLrdE3Eby8g3CTzi/IkVB5m9Ea1E6sSTP8Kp53CyErOcqNHskLjYwetKcY7OVaepJrUC4HX0WuVNvLO81XlpS7nh3OZ/NO9fpkXrjWV562h8y1qbnTe95Ej0hVuhfPN2HAl6grs7EyrL0FnHnyIac6+wp9hPqS0I0DRBZxmeqStFcE9qWvN0qDnFFnB1lOdArSTHNbKqFMm/xkyaaG5Ve0Q+JqAvEsGX0kfG+w58/sd8VNHjSocYEx1KV7KxkkFA1C5vtbzTDI6rf4B8GyuuBYr/g7V/YPT7hvpTEzV8Qt3+hMJJFQNM66uUOl0l8DGgvaaqCchvJTES/fmO6K6mGPeHxRjVtGT4XHJRicgupFVSvP5Cld8JzxN1HnrYfICV8uSEV74jg0dMHyttCqivGNDKvJej/Qh1fCe0di0hojSFcwOoLQ9aSSUlelZx2C/WkcLmjnQpc/soyH8lURtM7/t5/4zq9IS8lVQqsKWfq/oJQJcrvEYVEobFaIGuN7Rc6k8NsmDqD0mdWt2ITBL+QmRuR8vtYSk8wGrQKKDEQyq8sZ/DnF5ZDScErrt5B/2+0tx/QWcf1WhLbN3weuYnAdrRo6RABzu8L66pwhwx5FrTHgpufKVZPmDQpbpDhhuos3+p7Pq2BMX4juZaHzRYlXigySKPBmIgwC0HCMl34uBtY+j1eSoItyVaJHxRVPpLvBeOf3il3V666pOtzfJA8TwWfNwX9HMi9ZHk7kskZkRb0LBDxEz5T/PAi+aYtSRnW0KDPd0htMNmCKCTBZyTlYSpICUzU5Fmiy47Mof8+imxyxDqweIPMOuZR4AZJEIonDYu+4kjI0xV1nFmix0dF5kB1J7yf8EiSU4gyEeIXClfRzxP9VfHTXY78ABupaF2LX1eKbQbTwChP7G4jYdtSFYEQF1YSt3WDny17G3hv/4i4FKT5RHoauKYSlTuOu4LpAvWHHmM8OkheP255Wc48oXA+53gaSXcwDRvuVeKiOj7aihAH4vh7SIqQd5xnwUOTMK8l04tDtzDGGzZmhPiObAzrkFhSxV39iA5nsi5n2TZctWIzvrM1B1hOfLb/kws/Y6acnYMuTqThSHnnwGdQG4gWJb9h5IE0vxOqmU47RDpSfauRm55kRoa/KsQ/K/K9AV+iFkdmVyj3uOKdIbXky0KwW9rMc+b3HHQHPHNeQM8FbZZx05JLVEzqP/msPiF7R7qTtOTEOJPFR4ogEAHuPt2Qy8ConpjmAnOJcNfSWkGRC5aQaIaSTHfUb5FbX7D9w0+IfcmygDLfcFZxCzmNqBnuXsiWe/JxIn9LTL/7xtId8AdPFitisyHjRrf8iSbf03QlrFfcUbBFMJuc2XyjcZYiGn500OmVLEXedE521yPOO1wBQsJxO+F/e8XXPzHfGSrrcV9nJi1Q8x9o1IAyF5J6ZBAwpy9s6oL4otB3kpMGOxfAK6OfMfUHuiZh0gu1rpHymfpyYBKK4pwQSdB3gvyjolSRfFMwvxlugB5Wcl+itgPq65766LiGSDkn7CXBY4DnyJJ51iRp1cysM/JVo6uEExNe55gPKyZJBmmpMk9WGLR5hkNO32myi6E43HC5JSxvLF3FTlpMt+Ifcm7UhCGy9/dMuaO+gSi2dLmhmE/kWYn8t4h73LMN76QlIIKiHR0Xe8I1G2ReQwfd6cpOGT42z0idwfIHrvob7VAz5oahV7RiJP8sEWYhZ6IX0Lsjg4If0wxGsJaGZvxKmRoutsMbQYnFhy2r7LB6j8xvqFvGmwBtJOX7gCwja3HPQdwYiv+Gjwsq+41XfuTeCeSQGPZbykOgmxJZr9CPI/fTD8RZM+UnVt/xbp54ND2X//jI7oPmZVko1Ef26zsqOHJGanHkm/Rcyo5kBsoiY/7NUlcRygaeBFq+M2lF3nvyBIt9Q5Ut7X0gSAtlhpQDtbkg/RvyvmRIgl09UAFjHREpQ/pEXQWEbBm7Lwhr2TnLsGxQ5chlucMsHdttjZsCVVqx6zs+BdZtoplrShfJxzPlWjEfn9HqA7/+PVLf3TNrRxX/yjQWyLsHvNMwC5Z6pXAZy6AwUnAFzOWKqXbkiyKZma3yCJOYu9+IQbGvn5m7Lc28oLc5o1WQPbAbe0KuiK4EpRnryL6TzCkx5Rv0+oYvvjDHf6L5m8DXCXOcSaeVk9Esa8VuEuR9wv0EKfbkww63h+3UwGli3XzBmokwP3FTA5vxARccOQm9johLT+sK5K3A5hI53XC6ZG4U2TmRKsi/HrHM5NrTU6HOJxB3HPM9xqyYaAjhK8u3C+Nmxtb3qGVh0+T068yiMwbjOby9M35tkFVFyBwi3Xj1lm2rad4yjpuVxR1ZmJB2oih76pCgfkHTYoeISIbQ7BndgI0tEMEZQjwzFRKt7hnPz+ythUnSmmc6W+KKmtpv6IaWyVnuVU9xmxBNxpvekr0K/O7fkZsfuEWFOg2EpqJqNOZLi970ZDUIr6FQvF8O7HY35lKRz5o5QjUt1FVOqFdMb1Hij1QfNCppRrnS6pbszjOUkdxZdGypcoW/TizVEWkUYilYVcdDVVKYCywfMPFGbWvGKFkyx44GFFi+4frEdnNgygI6lVAJjIDuVmB2HVr+kVLObLOS9FigQkHpOgq21LrhvBbsn0DX8Ny88Fl9YlGR3c7ivcS+OupPgTWvmXnH7iqy+I5QkmHV5FLh0xcO+x/xc+IUa6SFKfwHx64gib/wzf4XmizRxB8I08xaKEo8KdzwTcOTOdI1Bh2774F2+0fia0TqwKhbXA/7zcA6VpylIC8T+fOILCekK9DZv/Cn4c98uC8p04+oHcj/DJhDJCmJziVCLAiZk/wWvUqG1FHZibEumF1LUUPPQFZJvFu4dg4nNRbIjhE5VfB7+KJLfl9cYZW8zgPHvGCeC2pz5ho8rSip4kDZet5fv/J2/wFbJNLcoOHEacp50AVNX/FFvrE5XNhcZ86vG8y9xYyBoWipekh6oiwElW14vbyQAZMc6M6CaVqxWvPX4T+R4kj2FpnlzNSByG+s0bGuDoovLH3PEuHb+gsqlfRzxMhnVBaI6xurUPhp5jr9hhsjQbzyi/pA1RnepEQMv/L6EnHhX3l+b4hBsr5I3NLRv4/8MpwIWiLQBO9AdtwfIr/6K2GamJOEucJkCy/rGx/DljUkDpuCBUlRJMah565S9Dqg3zzvc8GmyVHlM3JoaAJcd0faoDBqhL8PxG3DfCcoxoqb7in/KLhkBfthw6S+UaoebQRyPZFCQdm+MR8eWb9m5K5E+xJpVqaU2CSYpUDgqaNkNSvxbqGYLN06oUXAuZnRrvh1QVqJbxb0a0KmjJvvkEsikwZLYBVHivqGCgmnImVKSOdJ+iP5Q4e3NUsbqK3DeUWx39G4SHcdKc+J+FGQZZb1+kx7+Cde58giW45ZA1cNs8VlikrvWExk5w1yXSnXwDlPyK5k9l9oli3LJnKbT8T4iLpJUhaoxx2nJZDXCeUmlqog5jUuPbOR92wWT1nskeNCsf6G328xA9ylhaU/IfeaKXlat+W89Wi3Is4FoliQWc30KKiKkhRfKE4GUTW46RU1S7RukdzQw0Cq97zLBfP8yuGxRd3OeOeZ+5zZ/I6meCeGEkkgK0cym7jZM1X3RJZrTukbvm+59YHdfUvhZ3J7z5sWPDSavGw4BUvxKXIZA23bkQCSJKYd3q6sXUW5v7AMK/F/JtQ/zlRe8GocZXpk+68z048F2l+xjUGfI3fVniVfcM2BFkXkFV3s0N1v7GQiyyJLVxDTO7OyvI6Opn5iHVuq+hvT+wOlUfidZVkaquOIyDLc1TFkE61ZydITi/oNGzXhi8ceM2ITWMnp1Bv1kmOC4pwUpukBjU+WcskYgyUeLS/pARlg1u88Lc/Uk2RJAbu9cFn2dLNh7D2tzrD5kZuZWdeVcRoRJmOuPWKXk19/IS5PNHeONHTcmzvUbYvfJtwQKdcba8oxWQP1gDOWXEWaYSJiiaqiXSSXuFLakiADWbblaheuuUR/vvJu7jgUmjxNTINHj4mgSjYxkMozg/fsKk2vR/xN4FWHD3cM9hvpdsP2Le2HhsuqmCaFszAVHdpr9uEVs7bcrGa6OuYikvqF7G4kXB9YrESJnqLZsmjBPI/0vuWjuWBtoq9ajHAM6TeyWPIrgZ3MyKWCRfDuEvVi+dL+mbg/YZf/g7nPiLlitwo6d8CmiiwI1JyT2RGGmre7jooHjGyQfqCeNScRaC4lD9uCUYy48YYpYJ0bHuMbYfOGijeWIcP5HcfXd8RGQVehBoHgF9bWYfsdWu74tmqKhxuh8jx0Fb0Au0sU0x0ujZyjYPYDbVUgTo9sd4ncKy4fP+OcJsozg5rxc8b+ClO6Y5QXhLqjuWX8IDSufSDKGYlg287Y7o5VryzekntHNN9lqLsAw/s98zYglwJXTcSLwJaBmoJt07CoDhMg/fmB5fjGuGyx3qP9G6oU3MIfqR9n/FpgVohtYlomsvM7H/IItye+3XuGP0/sHmsy9Ua4BrT5TFgndp0nVEdWYQlxpZ4uoAuMTPThhlBbvCzwc4Z9umAHy1I46h8Ud9ESLzNv6o42b4mLpbxF5CbiVGToK7J9zZIG6rByyy1ucIQStAs4VTN2guZW4PYVPgQqOZKZkpAUVVzBJ2J8Y/0qWPZP5JOEu/A91FQW5DYnTY9U/oHejehTh/jkWZNAPUi2oWIIDu4c01eBiRGlPcN+Jfu64u4Tg3ulvQnmdI9/yCnPNeIomPpIKV8o/22h3jrsD45EQR882y8Gm0aG1HF+qNmoARpJ+W8Z6ffX74jGOafmmTlVxO57Y2jNKzKhKMIT6nYm6owehcVCUKhQ4A4FuXOI95n8vcDrivtPEtMFTDYwZIkesNISUyDMOVZo0mSZROBORFQY6FxOW6x8VSMFG7qTwp1uPG332HKmpWVSFl0nsm7LrRUUJ4naORY7stl5fnXwY2mREo7ATUJ9Ltm174zyHuNL4sVz2Rjy5Y1YbYgpIUdJqALRWvQpo9hWLLljvSqqJDHRYcYDQ/6CmBXl8u/E9I9k5UeWxVHKkTok/HrgpRTkBOZxQ1octRpwzTO36yeEc6i2wa8LdrZI7Sl9z+U1kuczcnNAyCNF3jEZh48GOW6YOLMtLvjjgVZELAvVt1eUcizbn0hpIhGpxRvyVKCaEUzkTWkesyPdBDZeua0WNoJsH5FqRlwUQUu8uDInjZI3NlKSmt/zco0cwiuZ+MzDPKPqjK74Jwzgx56icZThP1EpJ4YfuM5vCLOjVA2p+q4cU5Pm2miylyPr0qEePM0kSN5RI+hlT5YUq1G8NxLbbFFBsXiHO0nU8sClThwySS6+0P1hohxb4heJL0FpBZVkCiNCWrL3K7H7GZsC1eOAmM9IX+BbyWbsuOx66r8fcLlnCTPR78h7z+NdQlwst5eG3X1Apg4vLfFPK/t/HulfS3zc4JY/064H/NRguWB0j47U6CpjmRPW/CvVccsqawgfKI4gDaQARxOY1r8S3UfE08z9/T/wdP8jJzIaO2CDpA+BanrmOn5gk1cgF3T+d5ZPn3HzE7J8g/iBohEo33EL90g9Yl0N3mHwpCrj3At2OOY6R68B8W8LU/Nnqv2BJetJakthtxx//kDqImFTMKwOdQ7Ud5Y5RYJZiJeArTX5LbI2nrI+UCSJC2fEq8Z+3JKpjFxFlmLBrSO8t2RbgfAVSWqU68nOG+zwzvFB8JJ2fIw55+VvrOORnVuZbcWsHLvHnPPtV4R7grHhqCZQM+78yJp1HOj5Jmsq/41l2tEUGfNYUQwrNqyM2URxndl/tJz8lWrfUn/zJJnjC0uor0gRSLJDpy1gyGyNlTnKggqC3O0Y7JVsWsEPZKpADjXCatL0jkuCIWo2QeL0M6fxZzZfbyxhoBENppnphCFnxY0RhjM27In3AxkNU+gQ7T/w+u5AzOjsmSUqqAVDXaPRhK8jXkTmrEFucvJpQVyv37s/yyP5+Z2xrJG2IksLdq2gbbmsjtppsv4LpM/Y+zfC1WD1hBRnpHymyH+PlAkh77itM8YfiKcR9Uky+4W9S4w0nL4qVFFTHT3V5BH+RFZuOekVdVup0x0xTMi7lsv4hbI1+FYyyZwgHCmDXTpCyvl6zNm9nik2G8aiZ7xVtJVnPF8Qy38hbSXy9QPcf2FUH6mvOYt/Y6pbfhNnQv7E4+VGvoFq1xFeF6L5RCoWikWyZBW5Szj5jDEHvo6KIntHscHrjLJ13OQdfRLItDDGlcN/XfFdATKjmwamVLM9T6QWLs6gsomt9rz3PfkSae46ntNHwiDZygJROmplUMuVMmz4c+5pbGRtJRWRkwftZmRSDEqRvUdU1XDNJFmxsgtbLscrvVC0N8i3kklWyL96usOAjYp5MqR8QqwrvctZs4G7kNNawxQXjNuiSof8WrLIxHjRZF0iV4kjCTJP8pJ9LVmlYJsV6PUOJR9huVKbklefKEdNlhmEPTO/LujKfgcB+A1cBM/tiU2sybyidD0xj8x4Wp+h5jd+6jb4zy3OzZxXz36XSGz5S5dztIKq7LHBEY3EHwUpwTzOZCFju474/B7LFVvDe75hmL5ydAdOasZ97KnMnvptRn0a0EJxMpIidFSnB1J5xUfJcVejkkZ0V6bV8KL/xGb6J/qsxEyBJXP84nrqduZtqMn1C5qS8avmIRdIvyHb3vAhZ5XfuOUtx7QicoMdP5HVHxC+Z2wSJr7ivmZsmhyfT/wSM1pxIqSa5gPI0RCM5G/LzA+Z4pe4crQ1l1tkmhfuuprZfqPHcllKIKJTy/bvGeq4pwsQbcIXkC8e00q6SUNrWDZ/5e71M3mlIBxpdYYYT7TLnzjv/4myGynuGnwv2F5nTpXlvp1Q0YGs6QfPLs5Iryikpv9Zs37dMm8WqrVB/S0jbGFysDsraN8Z7Y4lWKS6YcaaTRaYsz22f0YMCn0U5DJnO1XM+ytDqtnmMI8eWS7IGPjqXvhQHZCXnmhWhk+JOliiCVwo8LkjTI5iGVlKsO+Sr41iWx64qBtqeyUbLJnQFMWMfis5ZSuZnalHC+2BNC90S+IYBdgAYiFYSXlamFJH+UnR//yCXgVOOeS7JB0dTgVumSGNkq74lSZ7IroF0ohcDHldkYYO7XPS0FPUG+bGoeQV0g1tMqLpeFu27FZDV1wolpp3oSgKmKVC+kh51zJwIZWOrPoefjgxIsIHijXhypH+rWQsDP6nmnY9IecSmRm4XDGPC/4CU12QjQODuUev72SPG0Z1Q8Q75vsvrNwxzc8c9CPu1bPLCi5OkaLB7AqmlCNEz7IGotyylIn6nFOvkn77SrFu4B8hiAoxRHLvWH2JTTN9YRkp2UTLdTuxmUZkqHkv3mmEJ1YLyX8m/6Y5RUvKZ2IzoO8FU1dQxTNRB7zcE/2VwRsOb5ruTuPKks5feHtp+Hg4U0mJWyOieMN3CdkeUN5xXybYW6b3QHSB9ubRfcFJatJuZn+OXDJLlUbylDMZwd0wgMsZcsksDV6eIVqKrqVKwCoI939GXy1+X9PNV6paocXM5jmnsCNRnxneE1WtMOqGX1t8OUEsqFJk3uYs4x2n6gvlKBjKI6PR3N0GxlugmEtu5YaiHJlEz8VUvNg7PnQZCz3z9A0Z9+zPmsX09GXG42eNWhTRTkSToRDYeeZlmkGd2Q4FqaoodMPoJdPXjJ1qWO5L+l8W9OecYnhDLT9xOa6UwvOsnmn7DQyCMt8w5FuECsSl5z9Kz4/Tgm8r9j3Ec0lWdPTyCclMkFAuAXFXM3YrUnqs8xQyI+UWigo1S17NH3nSinG9cPAH1PK97m/jhXk4kbKG6lvF+uhox4xr54m6pnyL+KeStGTIYkWIhjbOhNnjJ8g3BfX//e+4P37GJEdxy1hyQ+b2oBbmJ8EtC+yS5VcWfo4KMToWk/PmRrZ3ifHVszEZYtL4xnMyD8gwkok3vv2/Ge3/Lqm1J+WO/rce8UfNNEykzY1xumcrJeMPT9TMLIdXmukeG+8Y9B1Z/pVkElMq0QmD1AvXuz2N/G/krwOzLsF60B1oxVJfmcWWtt7x1TlkEtxrQdcEDqeOrdCY64VD+Zlpo3j/4YH23BOUpK/+O9uUKKeJYO5wi+d9v+dw0fRV4DBuKDYgugB6YfUN4/adUrdcpOVT5ph+jGyanwhjg6sWHopIyBoqs8HZSFfnPEpPbQKjmJF5xGFIP3ga8Urf/h6VLRjdcAWEahClp7rc0P2GYf+NSu2JXjLnOW5YuRaG/ey5bg60KXD5caBQG+4uGqfhyfzE5dHw/60DBzORfW1J9ysiP7JfPL/UX9j3v9Jl/52NlSxFj/A1Jkm03+K1wi0TeZ4z71aWqybXK1l7YX6pkY8bhovgLQMdDOp8Qewcud4StSSKEyFL+AiLPDN4R1nUpPzvhGzFrZrKKGIMrA8zWd/g1g1R/wW1jZg8wrnhzkJ/kPBlxGUJMylkKXF5BvHKLduR+ht6hZR/Y1y2lLlmpyemAPg7PIZsXdiNC6etITclLinWfMWujkGMGCm5LNBYmNpPrEOizTTaXvCfNL0O2H6HzHswT0wicZtzNs3E+rUkFTeSLYhDzxBrVJlT6RHX9HRlgbSR7dwhy4XZjnysemL8iL8KYt8xG4GVGeEgcXVBFAttHplG2Kif+etLwDyCvAnqTLBfLIPUuMs39r9J0k8J2XXcnwM85Jy8gYeGwsMl9CxNjokfGIlEW3PM3iiFYqcb/v42sDQNWZR4GkJdIeY36t6j8pK5r9DNDTdp5L9Gjr/3aH0PTjLoiSI2rJOnepmpdSA2FSpp6o2EmCFd4Cklfmv2bIh87kdGc0+XjWzllWuz5+tNk8yNOm8ImcOqGp+9IY1hySa2MtDIlRAMKinu9CvZbBiyHKUc5weFuQ203rAWd6zJw7qhukRMKxjpEbIg0wmyEZUC+ezpJ00uDdVeYfvENLwg+USQBTF/g16y2UfGtaIUgndjyH8dSVS8/28jdupZU0sMhm3UaAyxjlwS3F8zaiNwrscPiTgF/JKzWyuQESUhsyNCVyx2RRaBGFuyokfNgqgMJIksBNPNUabIQ264zBUhenZNjezfSOMj512k9BC6jNNtorgDGWZWm2FwzFKRy8BTMrxeP+BLKKtH1m5g4ky+NXxbCqwMKKXxMXKqFJUqmAiUtyvS3YHXZCLjKQuItccqyxoHNkLzB52w144lVhTmiBjPZLZgzDcUy8Sle6EQW978HZmMdPGvTPyBNi64MqJHh32vGIwDI8l8x5fbzOO2IqRIeY7cKo1bE/m+5SHNjMbwxCcSsGlGEpEwvnDLCh7iPYYZUfyBlcg1VyS3creTTFjCS0n98hvd9ifM/kCWXnDmHwgfPP55oTgpnreKY8oY5x9pFQTjWVaPNz0XkbNbbqiwhfHfwH+k3GoWL8hlTfR7mnjB7heyC1zbnvawEjYtu97A9c/ow0ciE/v3mVDnnM9XTHag3NeIMlJPDnU7YbqCWS8syjAKhctXrDYsaqZUR/byd6zWs97P2HKPFWdmVTCGLcfkWcYMs2aE6u/EeUs/bKmiZT1CooRTRfIX7DEnULGICrvJyTzE2pDcBGiKTYT+V5ysWWSLCV9Y8ob7nWFYz3Bped+U+DFgl5VclEgubMKOqfg7VX7ErxnFfiXJB7xTvMevTP6JrQCdPZDiie2bRD1o4uVnQjOThZJdPqPKG3YoiOWKPTdc1xN28z3R93yVlNsWc/b0ZSKWW/JMY6cRX25w7zMywO56JXqDuVdcgqfsJoRUXM1CODZUUaNfcqT9RnmwCJ1QXcWwWfHhd2z9BRk9bhcIfcLnV8p5IOYr17Bivw2wldxfNoTtBfPqOBeCeklY98TL+0TCUdee6Eumq0BWAr1AtknkbibczuzqhZPf4JQhGcH2fcu8GzhfPHvtUNOCyzXr3wPmZ43LBX0XqW473u8umNaSr1fiNqPKStb5RvI5Wz2gJ4HTlst2oVEtf6sF+3jml7c9m3Jgpw2zKsmdhG2BHK8c2OJDyXX9BfWwJ3Qtt5gofSLPEzFfuEWoY4bVj2RqxtoBbEY3OYQLzGVBuuXkoeCr7viUFzA61grgI6b/wpesYPeiWZ9uTL7kvkn4+QnlFm6mphnfGcIRPydMighdUn9OKAfLJbFExXJU3C+WchGs3iGLmUx9Vxpwf4X2HhM7mBZusqbSikDPMGZUznPl8t27VHY8R8/WfcW4e4RJDHlBOZ2xH3PmpUTJR3J9ogka6QzaH6njhtE7Zrcw92c2bU1UJ36XSla3QbkVtd2RZoVMsOUGXpCAlLYs7x16fyOkDcuUscYFbwLLOlPGllJOfBUztYfUdpwWg/gfPfU/V4z5jzS/KeznxDhe0f+6sPvvDef4lay25O8jprRoXX3PxhlzxObM9MuMPe65/V8Nj35kVAXXcCOEnCwWCLvQRE1rwIWVpzHnmgmCXzjWO9Z3xXq9oDctp/CFVv0O5zTpckPKDB4bPpQFkwDvI12R2MkN3XJj206Mp5y8DngbGIPE3FZsc8AuivF4jy0WMFeGpSC7SaSkZ6cTxU0zBsciNZlUrCqQFQ3Jt2zKBwpRsFYVT3lHP49oAhU1r3xArAIeHr9fWvYb/kFfSLXETI7y1tNPJ1ad4U8lLp7YodBfRvJ3h/ARYSJr9YVkNd/yGxuZI65f+OSuvA896bBjyMAtgkOWg7xDzQKvI0V5o5wFuHc4n4lZiys0mWzJPcjiDvKRwjSQBG2w8OtfKZcv9A8T54NgGI/ERXOta6L6D9Tecfc6Me4l8xQR2cpGdKTLQKNmrDgTOo8abzysI5WL7H/WKAqEmXibcna5YT7+xGMbyCtH3uVM056wLpC9s04eU3tc8Q0xDUTR0XUNqbBYO7FzDsoT2/SdNT76LXIsSLevpJgYnYQZ7GwwQ0OUOSIIbpd7IgFlNIIM5VvCmyHYFZlDFi1ZOBPDDbIjIVQo21LaAvX2lWlw+M4z+jdmmeOjJ6p3RquI7pE622O8Q4WFSa6kSiF6ybo6/q4jyy2yvCfKt8jYLSQqyl5Rp4JtoSn6FXYjVbmgywIxtCz6jSV7YZXfOL8LrtdI7jo2uqPkQPnYspY/E4vfE647Sl/S3AyDeGQMIOMLSk5U6QNp2VPR4CZFP15IRjLtN7jskaGokK5hrxWCkq9dTdSvJPEVVV9gXKnEBj9JenPmZNJ3o/zjgamccM13jeptCWR6RtxOTM+gOwn+yhIXZAo8iJnz8MB7rnntt/xQwdEubGJHeh/JipVNtWUoI7MQqPUry21hzEo4CCprQSbGcaW8BpbGkDtPXl/5f/SEKBRzLfhK5CwTKcxcDdyHiUYk+jtDaGBNArqC/rVkXf+dSt7w25nalag+crgqhphxvZzpri3dujKOC7dYkvsNz0sgphHnXmhcz9BCLC5cJ8OXYAnqV8r8FRksYg00N830+4GNPVEIi5Q97V1NviwMswImyBqCgayLZH/bkMoSsQ4k25PiV8r7xO6PBf39gCGQz5pivdB+mSjeLEl/w65X8lVzUhbfDfi2whwO6HjBPJaM+UBcE7oYMJuFWIw0byULkdAH9LSiyhxOOUpW9FaQTYJJr1xdQsgLcpl4FDvkviHdtXhX0smK1Ri2TyOljoz6QKpv/NIFwnwiJMvqF+zhSicD9iUQLx1CCGLpsf2Al79ROIeNM7kcGa3D6Jxz6xjmwPm4MOiADD/yRb8ylzfeNgvDV0XK9gj1CVMEVnfiLbe8Zo7wW0dQC0IdGN2Wcr9S20hSPxOKhDpmzF1N8pb1KFjvFPlTIn1o2B0+E+cMSYkoOsp1wJQNakr4dOY6vBL7RDkl3CBYV8/p8Xs3d11npiLhbPd9clsrZFoRfSD71rBrZzhIbnmPnf+GWRz2msimic20Ej72PDWRZLfY3x9IiyZkJZk0tDHnXvVkcwOxh+NPhEbwp2mkLDakQRCEYNCW7i8WZyNLntEddihxZuWGaw+I50jzLFHHewbdkN0MxX4hJs+8JN50xXn9kWsS6FbQ2r+yIbKxHjtH7PUznoqkZ/rJgSxZ5xHZH1l/6zFpQrgGu1pSXaEu/8hYPRKyE+iBZQiEv3VUuaK0hrLqKV5gc6dw3Q1rX5jKgbm6ws4T3IX/iJFfF4MZDZunLVTPXH3Pt6HBaUc23qimifz4zDS9cup6runvLOpHXv5N0L0MnCc4DWeG7Bsm1ezThWz9C2GauajItV2ZXhP9NHOZDMXQE4LmNw9fToL3IInNN942gjRNrGtErzfi9cwUHel8xq9vhAFCHFj/9sbJ7Vk3ApknrBl5eXcU3YRQE2vzjfIi2bgbYnwmPSicKJiGgte/voF0qMVTrh4ZL7RsKIcB863DjCXv5UL+z/9CLRP2/o2YL6itAytYnwTTxiP23xBZpPzYYO5rrACRdZQPCykEzm2GvDhKaejtAZd/oKr2yNVQXzXr5cTLNLJkksvujfIQyWxJ/bgjkyeqWmC3W9IPnvmy0J0KFA1e1oxKENOCjTnF4zdmcubq+wPDR8mHCFV2x3F7Q243DFFAmzFOMLUdL03DspWM15WmygmdwPz7jL1OzBEu6R0lQZsO/+6RvUC8jkAF6co0TYTxgSI9oPYZVWPYPwds90rKItV7pPQX/KcH2vCdNBiTohwS67wwnq6E518pzz1w4GgkZXIcs5zBbhh7yfglkOkJX2Vs5sSLk1xmwSoVRTRYA70NuFwxx4GN3ZK5hjqv8aug/LWnGBR91vFDuaWcI4stsHmFUEeki1TbK6sbmG2FnC2P4xs6s5yFZc4E4nqmHDxTFSjuVqIMGLuDc0k5HlDzHURJaQPDOjNmkWEVzPKeSSVEd0M1mkE0pJec5Bwyv5HSRC4vlK87Wj9ix4pKRqSO3PqVprvS/u4ZaRSbznE6/Mr1/UIdNfP/qRhFRlXe8S4y/E6wygvL2TGmN0R2gmtF9nNF70uMemcWBVuXk79tKVWDDn8nxshkBMvrwHUdsINn2yeO28RbbQn1O6yJWA/ssg+sHx2rXJkbxTKf+ev/mFDjwOovEDTZVBHakf2yY6gDoppQ8wBvnpyZyIwYNWHziu4UqS8Z+EfKfE/cCMSfn39NudIIb3GzAwFrNOjKkQnNOghEgqmBjQM/r1yNocghYyaeJVnuIEgmW5JLEK6HvGaix1CxICjdTNKKhGARGjEnCjmCqCCAz1cUiisrFfl3tKkIzOtEWBPVwTA6TSZvoLfEVSEkCA2zB689hZNELcnjlfBeke5XDIYbFxruEFHCCEkkJuPQMmN9+W7gMGrhfc5J6UJeVTRkrCQGF6iMIMOBsyAEiBW3LCzKklvDC4IDkAEzHj1GJmlojIBlIJUlwQ3IseS9O1PkOegVYzQJh4+a63kkzxUqc+RhR9CKQaXv5tHrSFnt8HolzQlhLSpFruczjcyIWY0XHVJGrNkxrh0ueJp8S5QC5SeU1TgvmPsr+8MWrSxygnmFTMNtvSBSRys/I6pILxKlk6zjyBw72rsCuTrIdwQ6fJexeEe7b7A6Yxg9oY6oKSMygRjJqyNuAqUcZpaEpiNK+z2UyOWs0oM7I/KEpMFHx5JKKiUxzoNJwPcwtxEI80w2Qr77X+cQIS3wyspdYVBOMJoBj0BTkK0LMltZEHjfED2YtFAWgTdK2v+F69U64hzEmyffZuA8MhsJk8WJnCQlmQIhEzG8o/wdYekwssIZiZAvLNmOTA6YtIMZyFdeRYZysFcrpAxUgjV833DvIUmuWlJePGaQpI8CMQqoEowjvqhgXokuY9bQlonEQKQmAv/ruo31iaS+G7vwEylmCK8gW4lhxV8ja6txoaCqBoyr6VOiTjemlFOqARd2iCCYSkcpDApwaUWnyHJRLDZRVhlmgFg6lndFvvWIcwa7Aa8MUigWoLjO0FQQLmAsi7OgBQhPwmCIyDTgfcZkLC1814HkE8QSvAabAMEE5AMsGWRmZCJH3QTWwpw5iiBBD4AEaqYUKcaFWVsyK5EXgasTJnmcSRgP9Iq1gHVVVFlitp7EiZIMhh1OeYRRrEFwmRLNRpCNkHwiz8bvS8lE0hZSZPECa0CMglAahDvz6ioeQuDmI3mZk0kFV4c/LOjBchOGNp/gmhFKRS9Xmj5jblYmZWiGyFwOlFIg54AcI+wqkpBEFpbFkKIkTwtJV2gZQb0w9Y/MlWMjR6TbEIzn5mG3akhA5bmtkna6wKYACrgK3GbEhARqZlzuKIfEsr8BNXKc0aViCYZulexw6GIGV4OR4L/7LL0ATU9MBjKJxADwNkEVEoUUuDxhYscoQAhNsSS8rdAz+HJgoWIG7gCGC4ts0MWCIhFDxXuAfQaO7+mxLp4Z32o2B0+SmiEpZPA4bZDJk60O63NikLjWo8bAmivKuNAtijopxPdfEdcqFALlJpAR/1KjxMD8WKFjRKSEUAq5jIhVQhMhGpxwpPWM1B9x/YjfFGSDwIoFyiusR1AC707oVYCFaDNGDBUGkQQugFED6Zqx1IaQHIJEYQYmDLYzLFIRraNKBrHcoIisY4usFY5IjsFPL/i4wdYTggZBICVFEAspJRIlUXRMY0mdK4wYGMeKsuiZrwbTrsTnFvEAfl2J1Xc89uhnkjGUYuAkLHufgRGIC6xyRsaMFBRxz/eurcx4AUocGTN2yZjNd1RtdDNa7vHriLQNtzFQp4ipIkjLPHqsi4hMfa+VywtLXrFEgVkXMlvincb2AQ490W8ZR0kt5u9ngiIkiewcAgFFQQqewSRKPyNjSco1QaxoRqZriRIZqkrfJ4oZRDmirznsJd+/tpmARrqM+Crxx5mgwIwdRtV4DKteML5CTSNur8h8TvABBfhBYu4E8IrnjisXthSoecSbM0H9DoWAGJBRM2gobhCrGakyVgJ5nJHc+BLvaEROcwUMYBJBrCwqorREjQtaGNJQkAw4u5IFWLznqgPHzCKBtM7MzqBSgQwTOresTpAKgZCQ9QNhWzHLFU0g4cjHiSnfU6wQc00fEq1bQOZ4v+LKiCFjASomGCy+MOhnmA4Luhesu4xKwsmBS4kq88hRUpYrkBM7z2oMOh/QLtGZGumgMhHiDDGDVRDLlYRDDC1xBFd9rwkvJexJ6HEilAUpOoxPICYIG1IuCETUdWFoFcWQQe5ARsRkkXaAS0k8DAyzoxg0qx8oDy1JlQQ8epi+1y35CvKO5BVBv5OoCWPAyHcW9USpDEEm/ChQK6xbECRyPyJ0wfsYKQqFWRyLzSjFhWXYIOXIKCvMGqgrh5M5wiekEszilZIaMAzrggoVeXYhIRDS4GbLOIOsJzKhsatith7jcqQaWYL87ntdJEueYYceMEi9gol8Z9Aa/n/8SomPYOZ2lAAAAABJRU5ErkJggg==\" id=\"image64465a0018\" transform=\"scale(1 -1) translate(0 -112.32)\" x=\"7.2\" y=\"-21.943903\" width=\"558\" height=\"112.32\"/>\n",
       "   </g>\n",
       "   <g id=\"text_1\">\n",
       "    <!-- Augmented image examples of the STL10 dataset -->\n",
       "    <g style=\"fill: #262626\" transform=\"translate(135.4425 16.318125) scale(0.12 -0.12)\">\n",
       "     <defs>\n",
       "      <path id=\"DejaVuSans-41\" d=\"M 2188 4044 \n",
       "L 1331 1722 \n",
       "L 3047 1722 \n",
       "L 2188 4044 \n",
       "z\n",
       "M 1831 4666 \n",
       "L 2547 4666 \n",
       "L 4325 0 \n",
       "L 3669 0 \n",
       "L 3244 1197 \n",
       "L 1141 1197 \n",
       "L 716 0 \n",
       "L 50 0 \n",
       "L 1831 4666 \n",
       "z\n",
       "\" transform=\"scale(0.015625)\"/>\n",
       "      <path id=\"DejaVuSans-75\" d=\"M 544 1381 \n",
       "L 544 3500 \n",
       "L 1119 3500 \n",
       "L 1119 1403 \n",
       "Q 1119 906 1312 657 \n",
       "Q 1506 409 1894 409 \n",
       "Q 2359 409 2629 706 \n",
       "Q 2900 1003 2900 1516 \n",
       "L 2900 3500 \n",
       "L 3475 3500 \n",
       "L 3475 0 \n",
       "L 2900 0 \n",
       "L 2900 538 \n",
       "Q 2691 219 2414 64 \n",
       "Q 2138 -91 1772 -91 \n",
       "Q 1169 -91 856 284 \n",
       "Q 544 659 544 1381 \n",
       "z\n",
       "M 1991 3584 \n",
       "L 1991 3584 \n",
       "z\n",
       "\" transform=\"scale(0.015625)\"/>\n",
       "      <path id=\"DejaVuSans-67\" d=\"M 2906 1791 \n",
       "Q 2906 2416 2648 2759 \n",
       "Q 2391 3103 1925 3103 \n",
       "Q 1463 3103 1205 2759 \n",
       "Q 947 2416 947 1791 \n",
       "Q 947 1169 1205 825 \n",
       "Q 1463 481 1925 481 \n",
       "Q 2391 481 2648 825 \n",
       "Q 2906 1169 2906 1791 \n",
       "z\n",
       "M 3481 434 \n",
       "Q 3481 -459 3084 -895 \n",
       "Q 2688 -1331 1869 -1331 \n",
       "Q 1566 -1331 1297 -1286 \n",
       "Q 1028 -1241 775 -1147 \n",
       "L 775 -588 \n",
       "Q 1028 -725 1275 -790 \n",
       "Q 1522 -856 1778 -856 \n",
       "Q 2344 -856 2625 -561 \n",
       "Q 2906 -266 2906 331 \n",
       "L 2906 616 \n",
       "Q 2728 306 2450 153 \n",
       "Q 2172 0 1784 0 \n",
       "Q 1141 0 747 490 \n",
       "Q 353 981 353 1791 \n",
       "Q 353 2603 747 3093 \n",
       "Q 1141 3584 1784 3584 \n",
       "Q 2172 3584 2450 3431 \n",
       "Q 2728 3278 2906 2969 \n",
       "L 2906 3500 \n",
       "L 3481 3500 \n",
       "L 3481 434 \n",
       "z\n",
       "\" transform=\"scale(0.015625)\"/>\n",
       "      <path id=\"DejaVuSans-6d\" d=\"M 3328 2828 \n",
       "Q 3544 3216 3844 3400 \n",
       "Q 4144 3584 4550 3584 \n",
       "Q 5097 3584 5394 3201 \n",
       "Q 5691 2819 5691 2113 \n",
       "L 5691 0 \n",
       "L 5113 0 \n",
       "L 5113 2094 \n",
       "Q 5113 2597 4934 2840 \n",
       "Q 4756 3084 4391 3084 \n",
       "Q 3944 3084 3684 2787 \n",
       "Q 3425 2491 3425 1978 \n",
       "L 3425 0 \n",
       "L 2847 0 \n",
       "L 2847 2094 \n",
       "Q 2847 2600 2669 2842 \n",
       "Q 2491 3084 2119 3084 \n",
       "Q 1678 3084 1418 2786 \n",
       "Q 1159 2488 1159 1978 \n",
       "L 1159 0 \n",
       "L 581 0 \n",
       "L 581 3500 \n",
       "L 1159 3500 \n",
       "L 1159 2956 \n",
       "Q 1356 3278 1631 3431 \n",
       "Q 1906 3584 2284 3584 \n",
       "Q 2666 3584 2933 3390 \n",
       "Q 3200 3197 3328 2828 \n",
       "z\n",
       "\" transform=\"scale(0.015625)\"/>\n",
       "      <path id=\"DejaVuSans-65\" d=\"M 3597 1894 \n",
       "L 3597 1613 \n",
       "L 953 1613 \n",
       "Q 991 1019 1311 708 \n",
       "Q 1631 397 2203 397 \n",
       "Q 2534 397 2845 478 \n",
       "Q 3156 559 3463 722 \n",
       "L 3463 178 \n",
       "Q 3153 47 2828 -22 \n",
       "Q 2503 -91 2169 -91 \n",
       "Q 1331 -91 842 396 \n",
       "Q 353 884 353 1716 \n",
       "Q 353 2575 817 3079 \n",
       "Q 1281 3584 2069 3584 \n",
       "Q 2775 3584 3186 3129 \n",
       "Q 3597 2675 3597 1894 \n",
       "z\n",
       "M 3022 2063 \n",
       "Q 3016 2534 2758 2815 \n",
       "Q 2500 3097 2075 3097 \n",
       "Q 1594 3097 1305 2825 \n",
       "Q 1016 2553 972 2059 \n",
       "L 3022 2063 \n",
       "z\n",
       "\" transform=\"scale(0.015625)\"/>\n",
       "      <path id=\"DejaVuSans-6e\" d=\"M 3513 2113 \n",
       "L 3513 0 \n",
       "L 2938 0 \n",
       "L 2938 2094 \n",
       "Q 2938 2591 2744 2837 \n",
       "Q 2550 3084 2163 3084 \n",
       "Q 1697 3084 1428 2787 \n",
       "Q 1159 2491 1159 1978 \n",
       "L 1159 0 \n",
       "L 581 0 \n",
       "L 581 3500 \n",
       "L 1159 3500 \n",
       "L 1159 2956 \n",
       "Q 1366 3272 1645 3428 \n",
       "Q 1925 3584 2291 3584 \n",
       "Q 2894 3584 3203 3211 \n",
       "Q 3513 2838 3513 2113 \n",
       "z\n",
       "\" transform=\"scale(0.015625)\"/>\n",
       "      <path id=\"DejaVuSans-74\" d=\"M 1172 4494 \n",
       "L 1172 3500 \n",
       "L 2356 3500 \n",
       "L 2356 3053 \n",
       "L 1172 3053 \n",
       "L 1172 1153 \n",
       "Q 1172 725 1289 603 \n",
       "Q 1406 481 1766 481 \n",
       "L 2356 481 \n",
       "L 2356 0 \n",
       "L 1766 0 \n",
       "Q 1100 0 847 248 \n",
       "Q 594 497 594 1153 \n",
       "L 594 3053 \n",
       "L 172 3053 \n",
       "L 172 3500 \n",
       "L 594 3500 \n",
       "L 594 4494 \n",
       "L 1172 4494 \n",
       "z\n",
       "\" transform=\"scale(0.015625)\"/>\n",
       "      <path id=\"DejaVuSans-64\" d=\"M 2906 2969 \n",
       "L 2906 4863 \n",
       "L 3481 4863 \n",
       "L 3481 0 \n",
       "L 2906 0 \n",
       "L 2906 525 \n",
       "Q 2725 213 2448 61 \n",
       "Q 2172 -91 1784 -91 \n",
       "Q 1150 -91 751 415 \n",
       "Q 353 922 353 1747 \n",
       "Q 353 2572 751 3078 \n",
       "Q 1150 3584 1784 3584 \n",
       "Q 2172 3584 2448 3432 \n",
       "Q 2725 3281 2906 2969 \n",
       "z\n",
       "M 947 1747 \n",
       "Q 947 1113 1208 752 \n",
       "Q 1469 391 1925 391 \n",
       "Q 2381 391 2643 752 \n",
       "Q 2906 1113 2906 1747 \n",
       "Q 2906 2381 2643 2742 \n",
       "Q 2381 3103 1925 3103 \n",
       "Q 1469 3103 1208 2742 \n",
       "Q 947 2381 947 1747 \n",
       "z\n",
       "\" transform=\"scale(0.015625)\"/>\n",
       "      <path id=\"DejaVuSans-20\" transform=\"scale(0.015625)\"/>\n",
       "      <path id=\"DejaVuSans-69\" d=\"M 603 3500 \n",
       "L 1178 3500 \n",
       "L 1178 0 \n",
       "L 603 0 \n",
       "L 603 3500 \n",
       "z\n",
       "M 603 4863 \n",
       "L 1178 4863 \n",
       "L 1178 4134 \n",
       "L 603 4134 \n",
       "L 603 4863 \n",
       "z\n",
       "\" transform=\"scale(0.015625)\"/>\n",
       "      <path id=\"DejaVuSans-61\" d=\"M 2194 1759 \n",
       "Q 1497 1759 1228 1600 \n",
       "Q 959 1441 959 1056 \n",
       "Q 959 750 1161 570 \n",
       "Q 1363 391 1709 391 \n",
       "Q 2188 391 2477 730 \n",
       "Q 2766 1069 2766 1631 \n",
       "L 2766 1759 \n",
       "L 2194 1759 \n",
       "z\n",
       "M 3341 1997 \n",
       "L 3341 0 \n",
       "L 2766 0 \n",
       "L 2766 531 \n",
       "Q 2569 213 2275 61 \n",
       "Q 1981 -91 1556 -91 \n",
       "Q 1019 -91 701 211 \n",
       "Q 384 513 384 1019 \n",
       "Q 384 1609 779 1909 \n",
       "Q 1175 2209 1959 2209 \n",
       "L 2766 2209 \n",
       "L 2766 2266 \n",
       "Q 2766 2663 2505 2880 \n",
       "Q 2244 3097 1772 3097 \n",
       "Q 1472 3097 1187 3025 \n",
       "Q 903 2953 641 2809 \n",
       "L 641 3341 \n",
       "Q 956 3463 1253 3523 \n",
       "Q 1550 3584 1831 3584 \n",
       "Q 2591 3584 2966 3190 \n",
       "Q 3341 2797 3341 1997 \n",
       "z\n",
       "\" transform=\"scale(0.015625)\"/>\n",
       "      <path id=\"DejaVuSans-78\" d=\"M 3513 3500 \n",
       "L 2247 1797 \n",
       "L 3578 0 \n",
       "L 2900 0 \n",
       "L 1881 1375 \n",
       "L 863 0 \n",
       "L 184 0 \n",
       "L 1544 1831 \n",
       "L 300 3500 \n",
       "L 978 3500 \n",
       "L 1906 2253 \n",
       "L 2834 3500 \n",
       "L 3513 3500 \n",
       "z\n",
       "\" transform=\"scale(0.015625)\"/>\n",
       "      <path id=\"DejaVuSans-70\" d=\"M 1159 525 \n",
       "L 1159 -1331 \n",
       "L 581 -1331 \n",
       "L 581 3500 \n",
       "L 1159 3500 \n",
       "L 1159 2969 \n",
       "Q 1341 3281 1617 3432 \n",
       "Q 1894 3584 2278 3584 \n",
       "Q 2916 3584 3314 3078 \n",
       "Q 3713 2572 3713 1747 \n",
       "Q 3713 922 3314 415 \n",
       "Q 2916 -91 2278 -91 \n",
       "Q 1894 -91 1617 61 \n",
       "Q 1341 213 1159 525 \n",
       "z\n",
       "M 3116 1747 \n",
       "Q 3116 2381 2855 2742 \n",
       "Q 2594 3103 2138 3103 \n",
       "Q 1681 3103 1420 2742 \n",
       "Q 1159 2381 1159 1747 \n",
       "Q 1159 1113 1420 752 \n",
       "Q 1681 391 2138 391 \n",
       "Q 2594 391 2855 752 \n",
       "Q 3116 1113 3116 1747 \n",
       "z\n",
       "\" transform=\"scale(0.015625)\"/>\n",
       "      <path id=\"DejaVuSans-6c\" d=\"M 603 4863 \n",
       "L 1178 4863 \n",
       "L 1178 0 \n",
       "L 603 0 \n",
       "L 603 4863 \n",
       "z\n",
       "\" transform=\"scale(0.015625)\"/>\n",
       "      <path id=\"DejaVuSans-73\" d=\"M 2834 3397 \n",
       "L 2834 2853 \n",
       "Q 2591 2978 2328 3040 \n",
       "Q 2066 3103 1784 3103 \n",
       "Q 1356 3103 1142 2972 \n",
       "Q 928 2841 928 2578 \n",
       "Q 928 2378 1081 2264 \n",
       "Q 1234 2150 1697 2047 \n",
       "L 1894 2003 \n",
       "Q 2506 1872 2764 1633 \n",
       "Q 3022 1394 3022 966 \n",
       "Q 3022 478 2636 193 \n",
       "Q 2250 -91 1575 -91 \n",
       "Q 1294 -91 989 -36 \n",
       "Q 684 19 347 128 \n",
       "L 347 722 \n",
       "Q 666 556 975 473 \n",
       "Q 1284 391 1588 391 \n",
       "Q 1994 391 2212 530 \n",
       "Q 2431 669 2431 922 \n",
       "Q 2431 1156 2273 1281 \n",
       "Q 2116 1406 1581 1522 \n",
       "L 1381 1569 \n",
       "Q 847 1681 609 1914 \n",
       "Q 372 2147 372 2553 \n",
       "Q 372 3047 722 3315 \n",
       "Q 1072 3584 1716 3584 \n",
       "Q 2034 3584 2315 3537 \n",
       "Q 2597 3491 2834 3397 \n",
       "z\n",
       "\" transform=\"scale(0.015625)\"/>\n",
       "      <path id=\"DejaVuSans-6f\" d=\"M 1959 3097 \n",
       "Q 1497 3097 1228 2736 \n",
       "Q 959 2375 959 1747 \n",
       "Q 959 1119 1226 758 \n",
       "Q 1494 397 1959 397 \n",
       "Q 2419 397 2687 759 \n",
       "Q 2956 1122 2956 1747 \n",
       "Q 2956 2369 2687 2733 \n",
       "Q 2419 3097 1959 3097 \n",
       "z\n",
       "M 1959 3584 \n",
       "Q 2709 3584 3137 3096 \n",
       "Q 3566 2609 3566 1747 \n",
       "Q 3566 888 3137 398 \n",
       "Q 2709 -91 1959 -91 \n",
       "Q 1206 -91 779 398 \n",
       "Q 353 888 353 1747 \n",
       "Q 353 2609 779 3096 \n",
       "Q 1206 3584 1959 3584 \n",
       "z\n",
       "\" transform=\"scale(0.015625)\"/>\n",
       "      <path id=\"DejaVuSans-66\" d=\"M 2375 4863 \n",
       "L 2375 4384 \n",
       "L 1825 4384 \n",
       "Q 1516 4384 1395 4259 \n",
       "Q 1275 4134 1275 3809 \n",
       "L 1275 3500 \n",
       "L 2222 3500 \n",
       "L 2222 3053 \n",
       "L 1275 3053 \n",
       "L 1275 0 \n",
       "L 697 0 \n",
       "L 697 3053 \n",
       "L 147 3053 \n",
       "L 147 3500 \n",
       "L 697 3500 \n",
       "L 697 3744 \n",
       "Q 697 4328 969 4595 \n",
       "Q 1241 4863 1831 4863 \n",
       "L 2375 4863 \n",
       "z\n",
       "\" transform=\"scale(0.015625)\"/>\n",
       "      <path id=\"DejaVuSans-68\" d=\"M 3513 2113 \n",
       "L 3513 0 \n",
       "L 2938 0 \n",
       "L 2938 2094 \n",
       "Q 2938 2591 2744 2837 \n",
       "Q 2550 3084 2163 3084 \n",
       "Q 1697 3084 1428 2787 \n",
       "Q 1159 2491 1159 1978 \n",
       "L 1159 0 \n",
       "L 581 0 \n",
       "L 581 4863 \n",
       "L 1159 4863 \n",
       "L 1159 2956 \n",
       "Q 1366 3272 1645 3428 \n",
       "Q 1925 3584 2291 3584 \n",
       "Q 2894 3584 3203 3211 \n",
       "Q 3513 2838 3513 2113 \n",
       "z\n",
       "\" transform=\"scale(0.015625)\"/>\n",
       "      <path id=\"DejaVuSans-53\" d=\"M 3425 4513 \n",
       "L 3425 3897 \n",
       "Q 3066 4069 2747 4153 \n",
       "Q 2428 4238 2131 4238 \n",
       "Q 1616 4238 1336 4038 \n",
       "Q 1056 3838 1056 3469 \n",
       "Q 1056 3159 1242 3001 \n",
       "Q 1428 2844 1947 2747 \n",
       "L 2328 2669 \n",
       "Q 3034 2534 3370 2195 \n",
       "Q 3706 1856 3706 1288 \n",
       "Q 3706 609 3251 259 \n",
       "Q 2797 -91 1919 -91 \n",
       "Q 1588 -91 1214 -16 \n",
       "Q 841 59 441 206 \n",
       "L 441 856 \n",
       "Q 825 641 1194 531 \n",
       "Q 1563 422 1919 422 \n",
       "Q 2459 422 2753 634 \n",
       "Q 3047 847 3047 1241 \n",
       "Q 3047 1584 2836 1778 \n",
       "Q 2625 1972 2144 2069 \n",
       "L 1759 2144 \n",
       "Q 1053 2284 737 2584 \n",
       "Q 422 2884 422 3419 \n",
       "Q 422 4038 858 4394 \n",
       "Q 1294 4750 2059 4750 \n",
       "Q 2388 4750 2728 4690 \n",
       "Q 3069 4631 3425 4513 \n",
       "z\n",
       "\" transform=\"scale(0.015625)\"/>\n",
       "      <path id=\"DejaVuSans-54\" d=\"M -19 4666 \n",
       "L 3928 4666 \n",
       "L 3928 4134 \n",
       "L 2272 4134 \n",
       "L 2272 0 \n",
       "L 1638 0 \n",
       "L 1638 4134 \n",
       "L -19 4134 \n",
       "L -19 4666 \n",
       "z\n",
       "\" transform=\"scale(0.015625)\"/>\n",
       "      <path id=\"DejaVuSans-4c\" d=\"M 628 4666 \n",
       "L 1259 4666 \n",
       "L 1259 531 \n",
       "L 3531 531 \n",
       "L 3531 0 \n",
       "L 628 0 \n",
       "L 628 4666 \n",
       "z\n",
       "\" transform=\"scale(0.015625)\"/>\n",
       "      <path id=\"DejaVuSans-31\" d=\"M 794 531 \n",
       "L 1825 531 \n",
       "L 1825 4091 \n",
       "L 703 3866 \n",
       "L 703 4441 \n",
       "L 1819 4666 \n",
       "L 2450 4666 \n",
       "L 2450 531 \n",
       "L 3481 531 \n",
       "L 3481 0 \n",
       "L 794 0 \n",
       "L 794 531 \n",
       "z\n",
       "\" transform=\"scale(0.015625)\"/>\n",
       "      <path id=\"DejaVuSans-30\" d=\"M 2034 4250 \n",
       "Q 1547 4250 1301 3770 \n",
       "Q 1056 3291 1056 2328 \n",
       "Q 1056 1369 1301 889 \n",
       "Q 1547 409 2034 409 \n",
       "Q 2525 409 2770 889 \n",
       "Q 3016 1369 3016 2328 \n",
       "Q 3016 3291 2770 3770 \n",
       "Q 2525 4250 2034 4250 \n",
       "z\n",
       "M 2034 4750 \n",
       "Q 2819 4750 3233 4129 \n",
       "Q 3647 3509 3647 2328 \n",
       "Q 3647 1150 3233 529 \n",
       "Q 2819 -91 2034 -91 \n",
       "Q 1250 -91 836 529 \n",
       "Q 422 1150 422 2328 \n",
       "Q 422 3509 836 4129 \n",
       "Q 1250 4750 2034 4750 \n",
       "z\n",
       "\" transform=\"scale(0.015625)\"/>\n",
       "     </defs>\n",
       "     <use xlink:href=\"#DejaVuSans-41\"/>\n",
       "     <use xlink:href=\"#DejaVuSans-75\" x=\"68.408203\"/>\n",
       "     <use xlink:href=\"#DejaVuSans-67\" x=\"131.787109\"/>\n",
       "     <use xlink:href=\"#DejaVuSans-6d\" x=\"195.263672\"/>\n",
       "     <use xlink:href=\"#DejaVuSans-65\" x=\"292.675781\"/>\n",
       "     <use xlink:href=\"#DejaVuSans-6e\" x=\"354.199219\"/>\n",
       "     <use xlink:href=\"#DejaVuSans-74\" x=\"417.578125\"/>\n",
       "     <use xlink:href=\"#DejaVuSans-65\" x=\"456.787109\"/>\n",
       "     <use xlink:href=\"#DejaVuSans-64\" x=\"518.310547\"/>\n",
       "     <use xlink:href=\"#DejaVuSans-20\" x=\"581.787109\"/>\n",
       "     <use xlink:href=\"#DejaVuSans-69\" x=\"613.574219\"/>\n",
       "     <use xlink:href=\"#DejaVuSans-6d\" x=\"641.357422\"/>\n",
       "     <use xlink:href=\"#DejaVuSans-61\" x=\"738.769531\"/>\n",
       "     <use xlink:href=\"#DejaVuSans-67\" x=\"800.048828\"/>\n",
       "     <use xlink:href=\"#DejaVuSans-65\" x=\"863.525391\"/>\n",
       "     <use xlink:href=\"#DejaVuSans-20\" x=\"925.048828\"/>\n",
       "     <use xlink:href=\"#DejaVuSans-65\" x=\"956.835938\"/>\n",
       "     <use xlink:href=\"#DejaVuSans-78\" x=\"1016.609375\"/>\n",
       "     <use xlink:href=\"#DejaVuSans-61\" x=\"1075.789062\"/>\n",
       "     <use xlink:href=\"#DejaVuSans-6d\" x=\"1137.068359\"/>\n",
       "     <use xlink:href=\"#DejaVuSans-70\" x=\"1234.480469\"/>\n",
       "     <use xlink:href=\"#DejaVuSans-6c\" x=\"1297.957031\"/>\n",
       "     <use xlink:href=\"#DejaVuSans-65\" x=\"1325.740234\"/>\n",
       "     <use xlink:href=\"#DejaVuSans-73\" x=\"1387.263672\"/>\n",
       "     <use xlink:href=\"#DejaVuSans-20\" x=\"1439.363281\"/>\n",
       "     <use xlink:href=\"#DejaVuSans-6f\" x=\"1471.150391\"/>\n",
       "     <use xlink:href=\"#DejaVuSans-66\" x=\"1532.332031\"/>\n",
       "     <use xlink:href=\"#DejaVuSans-20\" x=\"1567.537109\"/>\n",
       "     <use xlink:href=\"#DejaVuSans-74\" x=\"1599.324219\"/>\n",
       "     <use xlink:href=\"#DejaVuSans-68\" x=\"1638.533203\"/>\n",
       "     <use xlink:href=\"#DejaVuSans-65\" x=\"1701.912109\"/>\n",
       "     <use xlink:href=\"#DejaVuSans-20\" x=\"1763.435547\"/>\n",
       "     <use xlink:href=\"#DejaVuSans-53\" x=\"1795.222656\"/>\n",
       "     <use xlink:href=\"#DejaVuSans-54\" x=\"1858.699219\"/>\n",
       "     <use xlink:href=\"#DejaVuSans-4c\" x=\"1919.783203\"/>\n",
       "     <use xlink:href=\"#DejaVuSans-31\" x=\"1975.496094\"/>\n",
       "     <use xlink:href=\"#DejaVuSans-30\" x=\"2039.119141\"/>\n",
       "     <use xlink:href=\"#DejaVuSans-20\" x=\"2102.742188\"/>\n",
       "     <use xlink:href=\"#DejaVuSans-64\" x=\"2134.529297\"/>\n",
       "     <use xlink:href=\"#DejaVuSans-61\" x=\"2198.005859\"/>\n",
       "     <use xlink:href=\"#DejaVuSans-74\" x=\"2259.285156\"/>\n",
       "     <use xlink:href=\"#DejaVuSans-61\" x=\"2298.494141\"/>\n",
       "     <use xlink:href=\"#DejaVuSans-73\" x=\"2359.773438\"/>\n",
       "     <use xlink:href=\"#DejaVuSans-65\" x=\"2411.873047\"/>\n",
       "     <use xlink:href=\"#DejaVuSans-74\" x=\"2473.396484\"/>\n",
       "    </g>\n",
       "   </g>\n",
       "  </g>\n",
       " </g>\n",
       " <defs>\n",
       "  <clipPath id=\"peab4e18bc2\">\n",
       "   <rect x=\"7.2\" y=\"22.318125\" width=\"558\" height=\"111.945778\"/>\n",
       "  </clipPath>\n",
       " </defs>\n",
       "</svg>\n"
      ],
      "text/plain": [
       "<Figure size 1000x500 with 1 Axes>"
      ]
     },
     "metadata": {},
     "output_type": "display_data"
    }
   ],
   "source": [
    "# Visualize some examples\n",
    "L.seed_everything(42)\n",
    "NUM_IMAGES = 10\n",
    "imgs = torch.cat([torch.Tensor(unlabeled_data[idx][\"pixel_values\"]) for idx in range(NUM_IMAGES)])\n",
    "print(imgs.shape)\n",
    "img_grid = torchvision.utils.make_grid(imgs, nrow=NUM_IMAGES, normalize=True, pad_value=0.9)\n",
    "img_grid = img_grid.permute(1, 2, 0)\n",
    "\n",
    "plt.figure(figsize=(10, 5))\n",
    "plt.title(\"Augmented image examples of the STL10 dataset\")\n",
    "plt.imshow(img_grid)\n",
    "plt.axis(\"off\")\n",
    "plt.show()\n",
    "plt.close()"
   ]
  },
  {
   "cell_type": "markdown",
   "id": "30dc6779",
   "metadata": {
    "papermill": {
     "duration": 0.20386,
     "end_time": "2023-10-12T10:17:05.487109",
     "exception": false,
     "start_time": "2023-10-12T10:17:05.283249",
     "status": "completed"
    },
    "tags": []
   },
   "source": [
    "We see the wide variety of our data augmentation, including randomly cropping, grayscaling, gaussian blur, and color distortion.\n",
    "Thus, it remains a challenging task for the model to match two, independently augmented patches of the same image."
   ]
  },
  {
   "cell_type": "markdown",
   "id": "97d18613",
   "metadata": {
    "lines_to_next_cell": 2,
    "papermill": {
     "duration": 0.203821,
     "end_time": "2023-10-12T10:17:05.894592",
     "exception": false,
     "start_time": "2023-10-12T10:17:05.690771",
     "status": "completed"
    },
    "tags": []
   },
   "source": [
    "### SimCLR implementation\n",
    "\n",
    "Using the data loader pipeline above, we can now implement SimCLR.\n",
    "At each iteration, we get for every image $x$ two differently augmented versions, which we refer to as $\\tilde{x}_i$ and $\\tilde{x}_j$.\n",
    "Both of these images are encoded into a one-dimensional feature vector, between which we want to maximize similarity which minimizes it to all other images in the batch.\n",
    "The encoder network is split into two parts: a base encoder network $f(\\cdot)$, and a projection head $g(\\cdot)$.\n",
    "The base network is usually a deep CNN as we have seen in e.g. [Tutorial 5](https://uvadlc-notebooks.readthedocs.io/en/latest/tutorial_notebooks/tutorial5/Inception_ResNet_DenseNet.html) before, and is responsible for extracting a representation vector from the augmented data examples.\n",
    "In our experiments, we will use the common ResNet-18 architecture as $f(\\cdot)$, and refer to the output as $f(\\tilde{x}_i)=h_i$.\n",
    "The projection head $g(\\cdot)$ maps the representation $h$ into a space where we apply the contrastive loss, i.e., compare similarities between vectors.\n",
    "It is often chosen to be a small MLP with non-linearities, and for simplicity, we follow the original SimCLR paper setup by defining it as a two-layer MLP with ReLU activation in the hidden layer.\n",
    "Note that in the follow-up paper, [SimCLRv2](https://arxiv.org/abs/2006.10029), the authors mention that larger/wider MLPs can boost the performance considerably.\n",
    "This is why we apply an MLP with four times larger hidden dimensions, but deeper MLPs showed to overfit on the given dataset.\n",
    "The general setup is visualized below (figure credit - [Ting Chen et al. ](https://arxiv.org/abs/2006.10029)):\n",
    "\n",
    "<center width=\"100%\"><img src=\"https://github.com/Lightning-AI/lightning-tutorials/raw/main/course_UvA-DL/13-contrastive-learning/simclr_network_setup.svg\" width=\"350px\"></center>\n",
    "\n",
    "After finishing the training with contrastive learning, we will remove the projection head $g(\\cdot)$, and use $f(\\cdot)$ as a pretrained feature extractor.\n",
    "The representations $z$ that come out of the projection head $g(\\cdot)$ have been shown to perform worse than those of the base network $f(\\cdot)$ when finetuning the network for a new task.\n",
    "This is likely because the representations $z$ are trained to become invariant to many features like the color that can be important for downstream tasks.\n",
    "Thus, $g(\\cdot)$ is only needed for the contrastive learning stage.\n",
    "\n",
    "Now that the architecture is described, let's take a closer look at how we train the model.\n",
    "As mentioned before, we want to maximize the similarity between the representations of the two augmented versions of the same image, i.e., $z_i$ and $z_j$ in the figure above, while minimizing it to all other examples in the batch.\n",
    "SimCLR thereby applies the InfoNCE loss, originally proposed by [Aaron van den Oord et al. ](https://arxiv.org/abs/1807.03748) for contrastive learning.\n",
    "In short, the InfoNCE loss compares the similarity of $z_i$ and $z_j$ to the similarity of $z_i$ to any other representation in the batch by performing a softmax over the similarity values.\n",
    "The loss can be formally written as:\n",
    "$$\n",
    "\\ell_{i,j}=-\\log \\frac{\\exp(\\text{sim}(z_i,z_j)/\\tau)}{\\sum_{k=1}^{2N}\\mathbb{1}_{[k\\neq i]}\\exp(\\text{sim}(z_i,z_k)/\\tau)}=-\\text{sim}(z_i,z_j)/\\tau+\\log\\left[\\sum_{k=1}^{2N}\\mathbb{1}_{[k\\neq i]}\\exp(\\text{sim}(z_i,z_k)/\\tau)\\right]\n",
    "$$\n",
    "The function $\\text{sim}$ is a similarity metric, and the hyperparameter $\\tau$ is called temperature determining how peaked the distribution is.\n",
    "Since many similarity metrics are bounded, the temperature parameter allows us to balance the influence of many dissimilar image patches versus one similar patch.\n",
    "The similarity metric that is used in SimCLR is cosine similarity, as defined below:\n",
    "$$\n",
    "\\text{sim}(z_i,z_j) = \\frac{z_i^\\top \\cdot z_j}{||z_i||\\cdot||z_j||}\n",
    "$$\n",
    "The maximum cosine similarity possible is $1$, while the minimum is $-1$.\n",
    "In general, we will see that the features of two different images will converge to a cosine similarity around zero since the minimum, $-1$, would require $z_i$ and $z_j$ to be in the exact opposite direction in all feature dimensions, which does not allow for great flexibility.\n",
    "\n",
    "Finally, now that we have discussed all details, let's implement SimCLR below as a PyTorch Lightning module:"
   ]
  },
  {
   "cell_type": "code",
   "execution_count": 7,
   "id": "8ad153b3",
   "metadata": {},
   "outputs": [
    {
     "name": "stderr",
     "output_type": "stream",
     "text": [
      "Seed set to 42\n",
      "Could not find image processor class in the image processor config or the model config. Loading based on pattern matching with the model's feature extractor configuration.\n"
     ]
    },
    {
     "name": "stdout",
     "output_type": "stream",
     "text": [
      "Device: cuda:0\n"
     ]
    }
   ],
   "source": [
    "from new_scripts.deep_ae_treemap_sat import Autoencoder\n",
    "checkpoint_path = \"saved_models/PretrainTreemap/cifar10_768/lightning_logs/version_12/checkpoints/epoch=99-step=4400.ckpt\"\n",
    "ae = Autoencoder.load_from_checkpoint(checkpoint_path)"
   ]
  },
  {
   "cell_type": "code",
   "execution_count": 8,
   "id": "dfa9d2a9",
   "metadata": {
    "lines_to_next_cell": 2,
    "papermill": {
     "duration": 0.222509,
     "end_time": "2023-10-12T10:17:06.370770",
     "exception": false,
     "start_time": "2023-10-12T10:17:06.148261",
     "status": "completed"
    },
    "tags": []
   },
   "outputs": [],
   "source": [
    "from transformers import AutoModel\n",
    "class SimCLR(L.LightningModule):\n",
    "    def __init__(self, hidden_dim, lr, temperature, weight_decay, max_epochs=500, basemodel=BASEMODEL, checkpoint=checkpoint_path):\n",
    "        super().__init__()\n",
    "        self.save_hyperparameters()\n",
    "        assert self.hparams.temperature > 0.0, \"The temperature must be a positive float!\"\n",
    "        # Base model f(.)\n",
    "        self.model = ae.encoder\n",
    "        # The MLP for g(.) consists of Linear->ReLU->Linear\n",
    "        self.mlp = nn.Sequential(\n",
    "            nn.Linear(768, 4*hidden_dim),\n",
    "            nn.ReLU(),\n",
    "            nn.Linear(4*hidden_dim, hidden_dim),\n",
    "        )\n",
    "\n",
    "    def configure_optimizers(self):\n",
    "        optimizer = optim.AdamW(self.parameters(), lr=self.hparams.lr, weight_decay=self.hparams.weight_decay)\n",
    "        lr_scheduler = optim.lr_scheduler.CosineAnnealingLR(\n",
    "            optimizer, T_max=self.hparams.max_epochs, eta_min=self.hparams.lr / 50\n",
    "        )\n",
    "        return [optimizer], [lr_scheduler]\n",
    "\n",
    "    def info_nce_loss(self, batch, mode=\"train\"):\n",
    "        # print(batch)\n",
    "        imgs = batch\n",
    "        # imgs = torch.cat(imgs, dim=0)\n",
    "\n",
    "        # Encode all images\n",
    "        feats = self.model(imgs).pooler_output\n",
    "        feats = self.mlp(feats)\n",
    "        # Calculate cosine similarity\n",
    "        cos_sim = F.cosine_similarity(feats[:, None, :], feats[None, :, :], dim=-1)\n",
    "        # Mask out cosine similarity to itself\n",
    "        self_mask = torch.eye(cos_sim.shape[0], dtype=torch.bool, device=cos_sim.device)\n",
    "        cos_sim.masked_fill_(self_mask, -9e15)\n",
    "        # Find positive example -> batch_size//2 away from the original example\n",
    "        pos_mask = self_mask.roll(shifts=cos_sim.shape[0] // 2, dims=0)\n",
    "        # InfoNCE loss\n",
    "        cos_sim = cos_sim / self.hparams.temperature\n",
    "        nll = -cos_sim[pos_mask] + torch.logsumexp(cos_sim, dim=-1)\n",
    "        nll = nll.mean()\n",
    "\n",
    "        # Logging loss\n",
    "        self.log(mode + \"_loss\", nll)\n",
    "        # Get ranking position of positive example\n",
    "        comb_sim = torch.cat(\n",
    "            [cos_sim[pos_mask][:, None], cos_sim.masked_fill(pos_mask, -9e15)],  # First position positive example\n",
    "            dim=-1,\n",
    "        )\n",
    "        sim_argsort = comb_sim.argsort(dim=-1, descending=True).argmin(dim=-1)\n",
    "        # Logging ranking metrics\n",
    "        self.log(mode + \"_acc_top1\", (sim_argsort == 0).float().mean())\n",
    "        self.log(mode + \"_acc_top5\", (sim_argsort < 5).float().mean())\n",
    "        self.log(mode + \"_acc_mean_pos\", 1 + sim_argsort.float().mean())\n",
    "\n",
    "        return nll\n",
    "\n",
    "    def training_step(self, batch, batch_idx):\n",
    "        return self.info_nce_loss(batch, mode=\"train\")\n",
    "\n",
    "    def validation_step(self, batch, batch_idx):\n",
    "        self.info_nce_loss(batch, mode=\"val\")"
   ]
  },
  {
   "cell_type": "code",
   "execution_count": 9,
   "id": "6b3bf728",
   "metadata": {},
   "outputs": [],
   "source": [
    "coalate_fn = lambda batch: torch.cat([torch.Tensor(x[\"pixel_values\"]) for x in batch])"
   ]
  },
  {
   "cell_type": "code",
   "execution_count": 10,
   "id": "a9d8d039",
   "metadata": {},
   "outputs": [
    {
     "name": "stdout",
     "output_type": "stream",
     "text": [
      "torch.Size([32, 3, 256, 256])\n"
     ]
    }
   ],
   "source": [
    "train_loader = data.DataLoader(\n",
    "            unlabeled_data,\n",
    "            batch_size=16,\n",
    "            shuffle=True,\n",
    "            drop_last=True,\n",
    "            pin_memory=True,\n",
    "            num_workers=0,\n",
    "            collate_fn=coalate_fn,\n",
    "        )\n",
    "for batch in train_loader:\n",
    "    print(batch.shape)\n",
    "    break"
   ]
  },
  {
   "cell_type": "code",
   "execution_count": 16,
   "id": "e8a35673-00f9-4910-9498-2f6fa1caba5a",
   "metadata": {},
   "outputs": [],
   "source": [
    "def train_simclr(batch_size, max_epochs=500, **kwargs):\n",
    "    trainer = L.Trainer(\n",
    "        default_root_dir=os.path.join(CHECKPOINT_PATH, \"SimCLR\"),\n",
    "        accelerator=\"auto\",\n",
    "        devices=1,\n",
    "        max_epochs=max_epochs,\n",
    "        callbacks=[\n",
    "            ModelCheckpoint(save_weights_only=True, mode=\"max\", monitor=\"val_acc_top5\"),\n",
    "            LearningRateMonitor(\"epoch\"),\n",
    "        ],\n",
    "    )\n",
    "    trainer.logger._default_hp_metric = None  # Optional logging argument that we don't need\n",
    "\n",
    "    # Check whether pretrained model exists. If yes, load it and skip training\n",
    "    pretrained_filename = os.path.join(\"saved_models/SimCLR_Treemap_SAT/SimCLR/lightning_logs/version_5/checkpoints/epoch=20-step=2670.ckpt\")\n",
    "    if os.path.isfile(pretrained_filename):\n",
    "        print(f\"Found pretrained model at {pretrained_filename}, loading...\")\n",
    "        # Automatically loads the model with the saved hyperparameters\n",
    "        model = SimCLR.load_from_checkpoint(pretrained_filename)\n",
    "    else:\n",
    "        train_loader = data.DataLoader(\n",
    "            unlabeled_data,\n",
    "            batch_size=batch_size,\n",
    "            shuffle=True,\n",
    "            drop_last=True,\n",
    "            pin_memory=True,\n",
    "            num_workers=30,\n",
    "            collate_fn=coalate_fn,\n",
    "        )\n",
    "        val_loader = data.DataLoader(\n",
    "            train_data_contrast,\n",
    "            batch_size=batch_size,\n",
    "            shuffle=False,\n",
    "            drop_last=False,\n",
    "            pin_memory=True,\n",
    "            num_workers=30,\n",
    "            collate_fn=coalate_fn,\n",
    "        )\n",
    "        L.seed_everything(42)  # To be reproducible\n",
    "        model = SimCLR(max_epochs=max_epochs, **kwargs)\n",
    "        trainer.fit(model, train_loader, val_loader)\n",
    "        # Load best checkpoint after training\n",
    "        model = SimCLR.load_from_checkpoint(trainer.checkpoint_callback.best_model_path)\n",
    "\n",
    "    return model"
   ]
  },
  {
   "cell_type": "markdown",
   "id": "d31c6734",
   "metadata": {
    "papermill": {
     "duration": 0.202338,
     "end_time": "2023-10-12T10:17:06.777095",
     "exception": false,
     "start_time": "2023-10-12T10:17:06.574757",
     "status": "completed"
    },
    "tags": []
   },
   "source": [
    "Alternatively to performing the validation on the contrastive learning loss as well, we could also take a simple, small downstream task, and track the performance of the base network $f(\\cdot)$ on that.\n",
    "However, in this tutorial, we will restrict ourselves to the STL10\n",
    "dataset where we use the task of image classification on STL10 as our\n",
    "test task."
   ]
  },
  {
   "cell_type": "markdown",
   "id": "2bba3278",
   "metadata": {
    "lines_to_next_cell": 2,
    "papermill": {
     "duration": 0.201837,
     "end_time": "2023-10-12T10:17:07.180438",
     "exception": false,
     "start_time": "2023-10-12T10:17:06.978601",
     "status": "completed"
    },
    "tags": []
   },
   "source": [
    "### Training\n",
    "\n",
    "Now that we have implemented SimCLR and the data loading pipeline, we are ready to train the model.\n",
    "We will use the same training function setup as usual.\n",
    "For saving the best model checkpoint, we track the metric `val_acc_top5`, which describes how often the correct image patch is within the top-5 most similar examples in the batch.\n",
    "This is usually less noisy than the top-1 metric, making it a better metric to choose the best model from."
   ]
  },
  {
   "cell_type": "markdown",
   "id": "d6dcb363",
   "metadata": {
    "papermill": {
     "duration": 0.207797,
     "end_time": "2023-10-12T10:17:08.058654",
     "exception": false,
     "start_time": "2023-10-12T10:17:07.850857",
     "status": "completed"
    },
    "tags": []
   },
   "source": [
    "A common observation in contrastive learning is that the larger the batch size, the better the models perform.\n",
    "A larger batch size allows us to compare each image to more negative examples, leading to overall smoother loss gradients.\n",
    "However, in our case, we experienced that a batch size of 256 was sufficient to get good results."
   ]
  },
  {
   "cell_type": "code",
   "execution_count": 17,
   "id": "084522bd",
   "metadata": {
    "papermill": {
     "duration": 1.091076,
     "end_time": "2023-10-12T10:17:09.353073",
     "exception": false,
     "start_time": "2023-10-12T10:17:08.261997",
     "status": "completed"
    },
    "tags": []
   },
   "outputs": [
    {
     "name": "stderr",
     "output_type": "stream",
     "text": [
      "GPU available: True (cuda), used: True\n",
      "TPU available: False, using: 0 TPU cores\n",
      "IPU available: False, using: 0 IPUs\n",
      "HPU available: False, using: 0 HPUs\n",
      "Seed set to 42\n",
      "LOCAL_RANK: 0 - CUDA_VISIBLE_DEVICES: [6]\n",
      "\n",
      "  | Name  | Type        | Params\n",
      "--------------------------------------\n",
      "0 | model | Swinv2Model | 27.6 M\n",
      "1 | mlp   | Sequential  | 213 K \n",
      "--------------------------------------\n",
      "27.8 M    Trainable params\n",
      "0         Non-trainable params\n",
      "27.8 M    Total params\n",
      "111.166   Total estimated model params size (MB)\n"
     ]
    },
    {
     "data": {
      "application/vnd.jupyter.widget-view+json": {
       "model_id": "",
       "version_major": 2,
       "version_minor": 0
      },
      "text/plain": [
       "Sanity Checking: |                         | 0/? [00:00<?, ?it/s]"
      ]
     },
     "metadata": {},
     "output_type": "display_data"
    },
    {
     "data": {
      "application/vnd.jupyter.widget-view+json": {
       "model_id": "5591782b33dc4f4eb32d9ae64e1db8ae",
       "version_major": 2,
       "version_minor": 0
      },
      "text/plain": [
       "Training: |                                | 0/? [00:00<?, ?it/s]"
      ]
     },
     "metadata": {},
     "output_type": "display_data"
    },
    {
     "data": {
      "application/vnd.jupyter.widget-view+json": {
       "model_id": "",
       "version_major": 2,
       "version_minor": 0
      },
      "text/plain": [
       "Validation: |                              | 0/? [00:00<?, ?it/s]"
      ]
     },
     "metadata": {},
     "output_type": "display_data"
    },
    {
     "data": {
      "application/vnd.jupyter.widget-view+json": {
       "model_id": "",
       "version_major": 2,
       "version_minor": 0
      },
      "text/plain": [
       "Validation: |                              | 0/? [00:00<?, ?it/s]"
      ]
     },
     "metadata": {},
     "output_type": "display_data"
    },
    {
     "data": {
      "application/vnd.jupyter.widget-view+json": {
       "model_id": "",
       "version_major": 2,
       "version_minor": 0
      },
      "text/plain": [
       "Validation: |                              | 0/? [00:00<?, ?it/s]"
      ]
     },
     "metadata": {},
     "output_type": "display_data"
    },
    {
     "data": {
      "application/vnd.jupyter.widget-view+json": {
       "model_id": "",
       "version_major": 2,
       "version_minor": 0
      },
      "text/plain": [
       "Validation: |                              | 0/? [00:00<?, ?it/s]"
      ]
     },
     "metadata": {},
     "output_type": "display_data"
    },
    {
     "data": {
      "application/vnd.jupyter.widget-view+json": {
       "model_id": "",
       "version_major": 2,
       "version_minor": 0
      },
      "text/plain": [
       "Validation: |                              | 0/? [00:00<?, ?it/s]"
      ]
     },
     "metadata": {},
     "output_type": "display_data"
    },
    {
     "data": {
      "application/vnd.jupyter.widget-view+json": {
       "model_id": "",
       "version_major": 2,
       "version_minor": 0
      },
      "text/plain": [
       "Validation: |                              | 0/? [00:00<?, ?it/s]"
      ]
     },
     "metadata": {},
     "output_type": "display_data"
    },
    {
     "data": {
      "application/vnd.jupyter.widget-view+json": {
       "model_id": "",
       "version_major": 2,
       "version_minor": 0
      },
      "text/plain": [
       "Validation: |                              | 0/? [00:00<?, ?it/s]"
      ]
     },
     "metadata": {},
     "output_type": "display_data"
    },
    {
     "data": {
      "application/vnd.jupyter.widget-view+json": {
       "model_id": "",
       "version_major": 2,
       "version_minor": 0
      },
      "text/plain": [
       "Validation: |                              | 0/? [00:00<?, ?it/s]"
      ]
     },
     "metadata": {},
     "output_type": "display_data"
    },
    {
     "data": {
      "application/vnd.jupyter.widget-view+json": {
       "model_id": "",
       "version_major": 2,
       "version_minor": 0
      },
      "text/plain": [
       "Validation: |                              | 0/? [00:00<?, ?it/s]"
      ]
     },
     "metadata": {},
     "output_type": "display_data"
    },
    {
     "data": {
      "application/vnd.jupyter.widget-view+json": {
       "model_id": "",
       "version_major": 2,
       "version_minor": 0
      },
      "text/plain": [
       "Validation: |                              | 0/? [00:00<?, ?it/s]"
      ]
     },
     "metadata": {},
     "output_type": "display_data"
    },
    {
     "data": {
      "application/vnd.jupyter.widget-view+json": {
       "model_id": "",
       "version_major": 2,
       "version_minor": 0
      },
      "text/plain": [
       "Validation: |                              | 0/? [00:00<?, ?it/s]"
      ]
     },
     "metadata": {},
     "output_type": "display_data"
    },
    {
     "data": {
      "application/vnd.jupyter.widget-view+json": {
       "model_id": "",
       "version_major": 2,
       "version_minor": 0
      },
      "text/plain": [
       "Validation: |                              | 0/? [00:00<?, ?it/s]"
      ]
     },
     "metadata": {},
     "output_type": "display_data"
    },
    {
     "data": {
      "application/vnd.jupyter.widget-view+json": {
       "model_id": "",
       "version_major": 2,
       "version_minor": 0
      },
      "text/plain": [
       "Validation: |                              | 0/? [00:00<?, ?it/s]"
      ]
     },
     "metadata": {},
     "output_type": "display_data"
    },
    {
     "data": {
      "application/vnd.jupyter.widget-view+json": {
       "model_id": "",
       "version_major": 2,
       "version_minor": 0
      },
      "text/plain": [
       "Validation: |                              | 0/? [00:00<?, ?it/s]"
      ]
     },
     "metadata": {},
     "output_type": "display_data"
    },
    {
     "data": {
      "application/vnd.jupyter.widget-view+json": {
       "model_id": "",
       "version_major": 2,
       "version_minor": 0
      },
      "text/plain": [
       "Validation: |                              | 0/? [00:00<?, ?it/s]"
      ]
     },
     "metadata": {},
     "output_type": "display_data"
    },
    {
     "data": {
      "application/vnd.jupyter.widget-view+json": {
       "model_id": "",
       "version_major": 2,
       "version_minor": 0
      },
      "text/plain": [
       "Validation: |                              | 0/? [00:00<?, ?it/s]"
      ]
     },
     "metadata": {},
     "output_type": "display_data"
    },
    {
     "data": {
      "application/vnd.jupyter.widget-view+json": {
       "model_id": "",
       "version_major": 2,
       "version_minor": 0
      },
      "text/plain": [
       "Validation: |                              | 0/? [00:00<?, ?it/s]"
      ]
     },
     "metadata": {},
     "output_type": "display_data"
    },
    {
     "data": {
      "application/vnd.jupyter.widget-view+json": {
       "model_id": "",
       "version_major": 2,
       "version_minor": 0
      },
      "text/plain": [
       "Validation: |                              | 0/? [00:00<?, ?it/s]"
      ]
     },
     "metadata": {},
     "output_type": "display_data"
    },
    {
     "data": {
      "application/vnd.jupyter.widget-view+json": {
       "model_id": "",
       "version_major": 2,
       "version_minor": 0
      },
      "text/plain": [
       "Validation: |                              | 0/? [00:00<?, ?it/s]"
      ]
     },
     "metadata": {},
     "output_type": "display_data"
    },
    {
     "data": {
      "application/vnd.jupyter.widget-view+json": {
       "model_id": "",
       "version_major": 2,
       "version_minor": 0
      },
      "text/plain": [
       "Validation: |                              | 0/? [00:00<?, ?it/s]"
      ]
     },
     "metadata": {},
     "output_type": "display_data"
    },
    {
     "data": {
      "application/vnd.jupyter.widget-view+json": {
       "model_id": "",
       "version_major": 2,
       "version_minor": 0
      },
      "text/plain": [
       "Validation: |                              | 0/? [00:00<?, ?it/s]"
      ]
     },
     "metadata": {},
     "output_type": "display_data"
    },
    {
     "data": {
      "application/vnd.jupyter.widget-view+json": {
       "model_id": "",
       "version_major": 2,
       "version_minor": 0
      },
      "text/plain": [
       "Validation: |                              | 0/? [00:00<?, ?it/s]"
      ]
     },
     "metadata": {},
     "output_type": "display_data"
    },
    {
     "data": {
      "application/vnd.jupyter.widget-view+json": {
       "model_id": "",
       "version_major": 2,
       "version_minor": 0
      },
      "text/plain": [
       "Validation: |                              | 0/? [00:00<?, ?it/s]"
      ]
     },
     "metadata": {},
     "output_type": "display_data"
    },
    {
     "data": {
      "application/vnd.jupyter.widget-view+json": {
       "model_id": "",
       "version_major": 2,
       "version_minor": 0
      },
      "text/plain": [
       "Validation: |                              | 0/? [00:00<?, ?it/s]"
      ]
     },
     "metadata": {},
     "output_type": "display_data"
    },
    {
     "data": {
      "application/vnd.jupyter.widget-view+json": {
       "model_id": "",
       "version_major": 2,
       "version_minor": 0
      },
      "text/plain": [
       "Validation: |                              | 0/? [00:00<?, ?it/s]"
      ]
     },
     "metadata": {},
     "output_type": "display_data"
    },
    {
     "data": {
      "application/vnd.jupyter.widget-view+json": {
       "model_id": "",
       "version_major": 2,
       "version_minor": 0
      },
      "text/plain": [
       "Validation: |                              | 0/? [00:00<?, ?it/s]"
      ]
     },
     "metadata": {},
     "output_type": "display_data"
    },
    {
     "data": {
      "application/vnd.jupyter.widget-view+json": {
       "model_id": "",
       "version_major": 2,
       "version_minor": 0
      },
      "text/plain": [
       "Validation: |                              | 0/? [00:00<?, ?it/s]"
      ]
     },
     "metadata": {},
     "output_type": "display_data"
    },
    {
     "data": {
      "application/vnd.jupyter.widget-view+json": {
       "model_id": "",
       "version_major": 2,
       "version_minor": 0
      },
      "text/plain": [
       "Validation: |                              | 0/? [00:00<?, ?it/s]"
      ]
     },
     "metadata": {},
     "output_type": "display_data"
    },
    {
     "data": {
      "application/vnd.jupyter.widget-view+json": {
       "model_id": "",
       "version_major": 2,
       "version_minor": 0
      },
      "text/plain": [
       "Validation: |                              | 0/? [00:00<?, ?it/s]"
      ]
     },
     "metadata": {},
     "output_type": "display_data"
    },
    {
     "data": {
      "application/vnd.jupyter.widget-view+json": {
       "model_id": "",
       "version_major": 2,
       "version_minor": 0
      },
      "text/plain": [
       "Validation: |                              | 0/? [00:00<?, ?it/s]"
      ]
     },
     "metadata": {},
     "output_type": "display_data"
    },
    {
     "data": {
      "application/vnd.jupyter.widget-view+json": {
       "model_id": "",
       "version_major": 2,
       "version_minor": 0
      },
      "text/plain": [
       "Validation: |                              | 0/? [00:00<?, ?it/s]"
      ]
     },
     "metadata": {},
     "output_type": "display_data"
    },
    {
     "data": {
      "application/vnd.jupyter.widget-view+json": {
       "model_id": "",
       "version_major": 2,
       "version_minor": 0
      },
      "text/plain": [
       "Validation: |                              | 0/? [00:00<?, ?it/s]"
      ]
     },
     "metadata": {},
     "output_type": "display_data"
    },
    {
     "data": {
      "application/vnd.jupyter.widget-view+json": {
       "model_id": "",
       "version_major": 2,
       "version_minor": 0
      },
      "text/plain": [
       "Validation: |                              | 0/? [00:00<?, ?it/s]"
      ]
     },
     "metadata": {},
     "output_type": "display_data"
    },
    {
     "data": {
      "application/vnd.jupyter.widget-view+json": {
       "model_id": "",
       "version_major": 2,
       "version_minor": 0
      },
      "text/plain": [
       "Validation: |                              | 0/? [00:00<?, ?it/s]"
      ]
     },
     "metadata": {},
     "output_type": "display_data"
    },
    {
     "data": {
      "application/vnd.jupyter.widget-view+json": {
       "model_id": "",
       "version_major": 2,
       "version_minor": 0
      },
      "text/plain": [
       "Validation: |                              | 0/? [00:00<?, ?it/s]"
      ]
     },
     "metadata": {},
     "output_type": "display_data"
    },
    {
     "data": {
      "application/vnd.jupyter.widget-view+json": {
       "model_id": "",
       "version_major": 2,
       "version_minor": 0
      },
      "text/plain": [
       "Validation: |                              | 0/? [00:00<?, ?it/s]"
      ]
     },
     "metadata": {},
     "output_type": "display_data"
    },
    {
     "data": {
      "application/vnd.jupyter.widget-view+json": {
       "model_id": "",
       "version_major": 2,
       "version_minor": 0
      },
      "text/plain": [
       "Validation: |                              | 0/? [00:00<?, ?it/s]"
      ]
     },
     "metadata": {},
     "output_type": "display_data"
    },
    {
     "data": {
      "application/vnd.jupyter.widget-view+json": {
       "model_id": "",
       "version_major": 2,
       "version_minor": 0
      },
      "text/plain": [
       "Validation: |                              | 0/? [00:00<?, ?it/s]"
      ]
     },
     "metadata": {},
     "output_type": "display_data"
    },
    {
     "data": {
      "application/vnd.jupyter.widget-view+json": {
       "model_id": "",
       "version_major": 2,
       "version_minor": 0
      },
      "text/plain": [
       "Validation: |                              | 0/? [00:00<?, ?it/s]"
      ]
     },
     "metadata": {},
     "output_type": "display_data"
    },
    {
     "data": {
      "application/vnd.jupyter.widget-view+json": {
       "model_id": "",
       "version_major": 2,
       "version_minor": 0
      },
      "text/plain": [
       "Validation: |                              | 0/? [00:00<?, ?it/s]"
      ]
     },
     "metadata": {},
     "output_type": "display_data"
    },
    {
     "data": {
      "application/vnd.jupyter.widget-view+json": {
       "model_id": "",
       "version_major": 2,
       "version_minor": 0
      },
      "text/plain": [
       "Validation: |                              | 0/? [00:00<?, ?it/s]"
      ]
     },
     "metadata": {},
     "output_type": "display_data"
    },
    {
     "data": {
      "application/vnd.jupyter.widget-view+json": {
       "model_id": "",
       "version_major": 2,
       "version_minor": 0
      },
      "text/plain": [
       "Validation: |                              | 0/? [00:00<?, ?it/s]"
      ]
     },
     "metadata": {},
     "output_type": "display_data"
    },
    {
     "data": {
      "application/vnd.jupyter.widget-view+json": {
       "model_id": "",
       "version_major": 2,
       "version_minor": 0
      },
      "text/plain": [
       "Validation: |                              | 0/? [00:00<?, ?it/s]"
      ]
     },
     "metadata": {},
     "output_type": "display_data"
    },
    {
     "data": {
      "application/vnd.jupyter.widget-view+json": {
       "model_id": "",
       "version_major": 2,
       "version_minor": 0
      },
      "text/plain": [
       "Validation: |                              | 0/? [00:00<?, ?it/s]"
      ]
     },
     "metadata": {},
     "output_type": "display_data"
    },
    {
     "data": {
      "application/vnd.jupyter.widget-view+json": {
       "model_id": "",
       "version_major": 2,
       "version_minor": 0
      },
      "text/plain": [
       "Validation: |                              | 0/? [00:00<?, ?it/s]"
      ]
     },
     "metadata": {},
     "output_type": "display_data"
    },
    {
     "data": {
      "application/vnd.jupyter.widget-view+json": {
       "model_id": "",
       "version_major": 2,
       "version_minor": 0
      },
      "text/plain": [
       "Validation: |                              | 0/? [00:00<?, ?it/s]"
      ]
     },
     "metadata": {},
     "output_type": "display_data"
    },
    {
     "data": {
      "application/vnd.jupyter.widget-view+json": {
       "model_id": "",
       "version_major": 2,
       "version_minor": 0
      },
      "text/plain": [
       "Validation: |                              | 0/? [00:00<?, ?it/s]"
      ]
     },
     "metadata": {},
     "output_type": "display_data"
    },
    {
     "data": {
      "application/vnd.jupyter.widget-view+json": {
       "model_id": "e1891ff3a4bb473fb06de1dda11e61cb",
       "version_major": 2,
       "version_minor": 0
      },
      "text/plain": [
       "Validation: |                              | 0/? [00:00<?, ?it/s]"
      ]
     },
     "metadata": {},
     "output_type": "display_data"
    },
    {
     "data": {
      "application/vnd.jupyter.widget-view+json": {
       "model_id": "b061abd689e841e4986513af0c67cd3d",
       "version_major": 2,
       "version_minor": 0
      },
      "text/plain": [
       "Validation: |                              | 0/? [00:00<?, ?it/s]"
      ]
     },
     "metadata": {},
     "output_type": "display_data"
    },
    {
     "data": {
      "application/vnd.jupyter.widget-view+json": {
       "model_id": "0e84a691d409421cad4bff6c6b7cf9f6",
       "version_major": 2,
       "version_minor": 0
      },
      "text/plain": [
       "Validation: |                              | 0/? [00:00<?, ?it/s]"
      ]
     },
     "metadata": {},
     "output_type": "display_data"
    },
    {
     "data": {
      "application/vnd.jupyter.widget-view+json": {
       "model_id": "f5ca6fbb7ed043798ca4bb64620db2b3",
       "version_major": 2,
       "version_minor": 0
      },
      "text/plain": [
       "Validation: |                              | 0/? [00:00<?, ?it/s]"
      ]
     },
     "metadata": {},
     "output_type": "display_data"
    },
    {
     "data": {
      "application/vnd.jupyter.widget-view+json": {
       "model_id": "3a933c135ded496ca1b1187884c0134b",
       "version_major": 2,
       "version_minor": 0
      },
      "text/plain": [
       "Validation: |                              | 0/? [00:00<?, ?it/s]"
      ]
     },
     "metadata": {},
     "output_type": "display_data"
    },
    {
     "data": {
      "application/vnd.jupyter.widget-view+json": {
       "model_id": "0c27aa4070074393aa24924ca7d96aa0",
       "version_major": 2,
       "version_minor": 0
      },
      "text/plain": [
       "Validation: |                              | 0/? [00:00<?, ?it/s]"
      ]
     },
     "metadata": {},
     "output_type": "display_data"
    },
    {
     "data": {
      "application/vnd.jupyter.widget-view+json": {
       "model_id": "1ca23d20326648d4b12c2650f59a1ece",
       "version_major": 2,
       "version_minor": 0
      },
      "text/plain": [
       "Validation: |                              | 0/? [00:00<?, ?it/s]"
      ]
     },
     "metadata": {},
     "output_type": "display_data"
    },
    {
     "data": {
      "application/vnd.jupyter.widget-view+json": {
       "model_id": "a6c469e1345e462ba2b71816aeac14e5",
       "version_major": 2,
       "version_minor": 0
      },
      "text/plain": [
       "Validation: |                              | 0/? [00:00<?, ?it/s]"
      ]
     },
     "metadata": {},
     "output_type": "display_data"
    },
    {
     "data": {
      "application/vnd.jupyter.widget-view+json": {
       "model_id": "2677975022f146b2811f2efe70990dbf",
       "version_major": 2,
       "version_minor": 0
      },
      "text/plain": [
       "Validation: |                              | 0/? [00:00<?, ?it/s]"
      ]
     },
     "metadata": {},
     "output_type": "display_data"
    },
    {
     "data": {
      "application/vnd.jupyter.widget-view+json": {
       "model_id": "2c329b4d5ed94180909f7f724ab993d4",
       "version_major": 2,
       "version_minor": 0
      },
      "text/plain": [
       "Validation: |                              | 0/? [00:00<?, ?it/s]"
      ]
     },
     "metadata": {},
     "output_type": "display_data"
    },
    {
     "data": {
      "application/vnd.jupyter.widget-view+json": {
       "model_id": "eece225cc4ce479280aa941b2264f185",
       "version_major": 2,
       "version_minor": 0
      },
      "text/plain": [
       "Validation: |                              | 0/? [00:00<?, ?it/s]"
      ]
     },
     "metadata": {},
     "output_type": "display_data"
    },
    {
     "data": {
      "application/vnd.jupyter.widget-view+json": {
       "model_id": "3bc380bfa8034c338cef7b1868c523a8",
       "version_major": 2,
       "version_minor": 0
      },
      "text/plain": [
       "Validation: |                              | 0/? [00:00<?, ?it/s]"
      ]
     },
     "metadata": {},
     "output_type": "display_data"
    },
    {
     "data": {
      "application/vnd.jupyter.widget-view+json": {
       "model_id": "13fb0e25d5d24890815dccc72c4b32dd",
       "version_major": 2,
       "version_minor": 0
      },
      "text/plain": [
       "Validation: |                              | 0/? [00:00<?, ?it/s]"
      ]
     },
     "metadata": {},
     "output_type": "display_data"
    },
    {
     "data": {
      "application/vnd.jupyter.widget-view+json": {
       "model_id": "b458226267c04e15b26f130649b72309",
       "version_major": 2,
       "version_minor": 0
      },
      "text/plain": [
       "Validation: |                              | 0/? [00:00<?, ?it/s]"
      ]
     },
     "metadata": {},
     "output_type": "display_data"
    },
    {
     "data": {
      "application/vnd.jupyter.widget-view+json": {
       "model_id": "08a12eb69c5e46049020ce485485557d",
       "version_major": 2,
       "version_minor": 0
      },
      "text/plain": [
       "Validation: |                              | 0/? [00:00<?, ?it/s]"
      ]
     },
     "metadata": {},
     "output_type": "display_data"
    },
    {
     "data": {
      "application/vnd.jupyter.widget-view+json": {
       "model_id": "1bc08ddebf0e48d5b56392d8d07fb6fa",
       "version_major": 2,
       "version_minor": 0
      },
      "text/plain": [
       "Validation: |                              | 0/? [00:00<?, ?it/s]"
      ]
     },
     "metadata": {},
     "output_type": "display_data"
    },
    {
     "data": {
      "application/vnd.jupyter.widget-view+json": {
       "model_id": "944060c008b0410588969c9ab5c3df0a",
       "version_major": 2,
       "version_minor": 0
      },
      "text/plain": [
       "Validation: |                              | 0/? [00:00<?, ?it/s]"
      ]
     },
     "metadata": {},
     "output_type": "display_data"
    },
    {
     "data": {
      "application/vnd.jupyter.widget-view+json": {
       "model_id": "a9a6a7607bf74eba9409ca8204ce45d5",
       "version_major": 2,
       "version_minor": 0
      },
      "text/plain": [
       "Validation: |                              | 0/? [00:00<?, ?it/s]"
      ]
     },
     "metadata": {},
     "output_type": "display_data"
    },
    {
     "data": {
      "application/vnd.jupyter.widget-view+json": {
       "model_id": "5b03a7739c7d4a8199c900f69c39e9b3",
       "version_major": 2,
       "version_minor": 0
      },
      "text/plain": [
       "Validation: |                              | 0/? [00:00<?, ?it/s]"
      ]
     },
     "metadata": {},
     "output_type": "display_data"
    },
    {
     "data": {
      "application/vnd.jupyter.widget-view+json": {
       "model_id": "1c0f829124a84498b624f3b70e3d0a86",
       "version_major": 2,
       "version_minor": 0
      },
      "text/plain": [
       "Validation: |                              | 0/? [00:00<?, ?it/s]"
      ]
     },
     "metadata": {},
     "output_type": "display_data"
    },
    {
     "data": {
      "application/vnd.jupyter.widget-view+json": {
       "model_id": "6f52df63c9954577aa3fc928addcf560",
       "version_major": 2,
       "version_minor": 0
      },
      "text/plain": [
       "Validation: |                              | 0/? [00:00<?, ?it/s]"
      ]
     },
     "metadata": {},
     "output_type": "display_data"
    },
    {
     "data": {
      "application/vnd.jupyter.widget-view+json": {
       "model_id": "bc0216200e6d4dea97650c09df8705db",
       "version_major": 2,
       "version_minor": 0
      },
      "text/plain": [
       "Validation: |                              | 0/? [00:00<?, ?it/s]"
      ]
     },
     "metadata": {},
     "output_type": "display_data"
    },
    {
     "data": {
      "application/vnd.jupyter.widget-view+json": {
       "model_id": "84af775b41eb4909b3e8e3037e7fce82",
       "version_major": 2,
       "version_minor": 0
      },
      "text/plain": [
       "Validation: |                              | 0/? [00:00<?, ?it/s]"
      ]
     },
     "metadata": {},
     "output_type": "display_data"
    },
    {
     "data": {
      "application/vnd.jupyter.widget-view+json": {
       "model_id": "6907891393a44532877161d3fd24cc82",
       "version_major": 2,
       "version_minor": 0
      },
      "text/plain": [
       "Validation: |                              | 0/? [00:00<?, ?it/s]"
      ]
     },
     "metadata": {},
     "output_type": "display_data"
    },
    {
     "data": {
      "application/vnd.jupyter.widget-view+json": {
       "model_id": "f026db40e2d549e1bf28dc3b4db49268",
       "version_major": 2,
       "version_minor": 0
      },
      "text/plain": [
       "Validation: |                              | 0/? [00:00<?, ?it/s]"
      ]
     },
     "metadata": {},
     "output_type": "display_data"
    },
    {
     "data": {
      "application/vnd.jupyter.widget-view+json": {
       "model_id": "1c5903dafc07478bb2974be6bce4526a",
       "version_major": 2,
       "version_minor": 0
      },
      "text/plain": [
       "Validation: |                              | 0/? [00:00<?, ?it/s]"
      ]
     },
     "metadata": {},
     "output_type": "display_data"
    },
    {
     "data": {
      "application/vnd.jupyter.widget-view+json": {
       "model_id": "afe6d697f4704c85b9f664f8e1dfa559",
       "version_major": 2,
       "version_minor": 0
      },
      "text/plain": [
       "Validation: |                              | 0/? [00:00<?, ?it/s]"
      ]
     },
     "metadata": {},
     "output_type": "display_data"
    },
    {
     "data": {
      "application/vnd.jupyter.widget-view+json": {
       "model_id": "8319b376fe5441d19f6ef732571bec1a",
       "version_major": 2,
       "version_minor": 0
      },
      "text/plain": [
       "Validation: |                              | 0/? [00:00<?, ?it/s]"
      ]
     },
     "metadata": {},
     "output_type": "display_data"
    },
    {
     "data": {
      "application/vnd.jupyter.widget-view+json": {
       "model_id": "99743cbb2ddc435cae8f979d660e68fd",
       "version_major": 2,
       "version_minor": 0
      },
      "text/plain": [
       "Validation: |                              | 0/? [00:00<?, ?it/s]"
      ]
     },
     "metadata": {},
     "output_type": "display_data"
    },
    {
     "data": {
      "application/vnd.jupyter.widget-view+json": {
       "model_id": "938475477d4d4fb99375a1b9a52362f0",
       "version_major": 2,
       "version_minor": 0
      },
      "text/plain": [
       "Validation: |                              | 0/? [00:00<?, ?it/s]"
      ]
     },
     "metadata": {},
     "output_type": "display_data"
    },
    {
     "data": {
      "application/vnd.jupyter.widget-view+json": {
       "model_id": "80923fca0ef644b38e27a8ce8ab4ae79",
       "version_major": 2,
       "version_minor": 0
      },
      "text/plain": [
       "Validation: |                                                                                      | 0/? [00:0…"
      ]
     },
     "metadata": {},
     "output_type": "display_data"
    },
    {
     "data": {
      "application/vnd.jupyter.widget-view+json": {
       "model_id": "f07cdfc1f005474183acdf827786ab88",
       "version_major": 2,
       "version_minor": 0
      },
      "text/plain": [
       "Validation: |                                                                                      | 0/? [00:0…"
      ]
     },
     "metadata": {},
     "output_type": "display_data"
    },
    {
     "data": {
      "application/vnd.jupyter.widget-view+json": {
       "model_id": "c0b738b5e45647eeb6783d20a6cc674d",
       "version_major": 2,
       "version_minor": 0
      },
      "text/plain": [
       "Validation: |                                                                                      | 0/? [00:0…"
      ]
     },
     "metadata": {},
     "output_type": "display_data"
    },
    {
     "data": {
      "application/vnd.jupyter.widget-view+json": {
       "model_id": "93fbb1d134124c2da8c9f7ec176ee079",
       "version_major": 2,
       "version_minor": 0
      },
      "text/plain": [
       "Validation: |                                                                                      | 0/? [00:0…"
      ]
     },
     "metadata": {},
     "output_type": "display_data"
    },
    {
     "data": {
      "application/vnd.jupyter.widget-view+json": {
       "model_id": "56fcaae8bbc74de9bf6dc07f06f5c91f",
       "version_major": 2,
       "version_minor": 0
      },
      "text/plain": [
       "Validation: |                                                                                      | 0/? [00:0…"
      ]
     },
     "metadata": {},
     "output_type": "display_data"
    },
    {
     "data": {
      "application/vnd.jupyter.widget-view+json": {
       "model_id": "917c0c21ff4143eda71a35b01da58f77",
       "version_major": 2,
       "version_minor": 0
      },
      "text/plain": [
       "Validation: |                                                                                      | 0/? [00:0…"
      ]
     },
     "metadata": {},
     "output_type": "display_data"
    },
    {
     "data": {
      "application/vnd.jupyter.widget-view+json": {
       "model_id": "ad7a27b88c1447f0b196b6b8c72f4436",
       "version_major": 2,
       "version_minor": 0
      },
      "text/plain": [
       "Validation: |                                                                                      | 0/? [00:0…"
      ]
     },
     "metadata": {},
     "output_type": "display_data"
    },
    {
     "data": {
      "application/vnd.jupyter.widget-view+json": {
       "model_id": "a8ca1f792d6945f08aaf374f4c703e95",
       "version_major": 2,
       "version_minor": 0
      },
      "text/plain": [
       "Validation: |                                                                                      | 0/? [00:0…"
      ]
     },
     "metadata": {},
     "output_type": "display_data"
    },
    {
     "data": {
      "application/vnd.jupyter.widget-view+json": {
       "model_id": "4411a43cc32740f9b0e837a13ce8b53b",
       "version_major": 2,
       "version_minor": 0
      },
      "text/plain": [
       "Validation: |                                                                                      | 0/? [00:0…"
      ]
     },
     "metadata": {},
     "output_type": "display_data"
    },
    {
     "data": {
      "application/vnd.jupyter.widget-view+json": {
       "model_id": "00a6067e030948378af90d1da3c4114a",
       "version_major": 2,
       "version_minor": 0
      },
      "text/plain": [
       "Validation: |                                                                                      | 0/? [00:0…"
      ]
     },
     "metadata": {},
     "output_type": "display_data"
    },
    {
     "data": {
      "application/vnd.jupyter.widget-view+json": {
       "model_id": "e5b8e82502c340e6a3c7d7ed2a5cc5f6",
       "version_major": 2,
       "version_minor": 0
      },
      "text/plain": [
       "Validation: |                                                                                      | 0/? [00:0…"
      ]
     },
     "metadata": {},
     "output_type": "display_data"
    },
    {
     "data": {
      "application/vnd.jupyter.widget-view+json": {
       "model_id": "395b1aad7dca472ca438384d6582275c",
       "version_major": 2,
       "version_minor": 0
      },
      "text/plain": [
       "Validation: |                                                                                      | 0/? [00:0…"
      ]
     },
     "metadata": {},
     "output_type": "display_data"
    },
    {
     "data": {
      "application/vnd.jupyter.widget-view+json": {
       "model_id": "04004c4795ab47abba708154b3fd736c",
       "version_major": 2,
       "version_minor": 0
      },
      "text/plain": [
       "Validation: |                                                                                      | 0/? [00:0…"
      ]
     },
     "metadata": {},
     "output_type": "display_data"
    },
    {
     "data": {
      "application/vnd.jupyter.widget-view+json": {
       "model_id": "0ce9cc023e05499d9dd42012c56235b3",
       "version_major": 2,
       "version_minor": 0
      },
      "text/plain": [
       "Validation: |                                                                                      | 0/? [00:0…"
      ]
     },
     "metadata": {},
     "output_type": "display_data"
    },
    {
     "data": {
      "application/vnd.jupyter.widget-view+json": {
       "model_id": "261e1ae5f8db41e780b237f5f5fe6d89",
       "version_major": 2,
       "version_minor": 0
      },
      "text/plain": [
       "Validation: |                                                                                      | 0/? [00:0…"
      ]
     },
     "metadata": {},
     "output_type": "display_data"
    },
    {
     "data": {
      "application/vnd.jupyter.widget-view+json": {
       "model_id": "6231ea89bfe243b9b57f606845321a4d",
       "version_major": 2,
       "version_minor": 0
      },
      "text/plain": [
       "Validation: |                                                                                      | 0/? [00:0…"
      ]
     },
     "metadata": {},
     "output_type": "display_data"
    },
    {
     "data": {
      "application/vnd.jupyter.widget-view+json": {
       "model_id": "9690dedd6c42497080bf727f0fc172ad",
       "version_major": 2,
       "version_minor": 0
      },
      "text/plain": [
       "Validation: |                                                                                      | 0/? [00:0…"
      ]
     },
     "metadata": {},
     "output_type": "display_data"
    },
    {
     "data": {
      "application/vnd.jupyter.widget-view+json": {
       "model_id": "93378054340d4f4ca5c9bf208719fa3c",
       "version_major": 2,
       "version_minor": 0
      },
      "text/plain": [
       "Validation: |                                                                                      | 0/? [00:0…"
      ]
     },
     "metadata": {},
     "output_type": "display_data"
    },
    {
     "data": {
      "application/vnd.jupyter.widget-view+json": {
       "model_id": "1889d7b8bd764bfdb6da16a01691f286",
       "version_major": 2,
       "version_minor": 0
      },
      "text/plain": [
       "Validation: |                                                                                      | 0/? [00:0…"
      ]
     },
     "metadata": {},
     "output_type": "display_data"
    },
    {
     "data": {
      "application/vnd.jupyter.widget-view+json": {
       "model_id": "59a54b626c6a4066a95171d31da545ae",
       "version_major": 2,
       "version_minor": 0
      },
      "text/plain": [
       "Validation: |                                                                                      | 0/? [00:0…"
      ]
     },
     "metadata": {},
     "output_type": "display_data"
    },
    {
     "data": {
      "application/vnd.jupyter.widget-view+json": {
       "model_id": "047d8fb695ba43b29a4c73724f8d6442",
       "version_major": 2,
       "version_minor": 0
      },
      "text/plain": [
       "Validation: |                                                                                      | 0/? [00:0…"
      ]
     },
     "metadata": {},
     "output_type": "display_data"
    },
    {
     "data": {
      "application/vnd.jupyter.widget-view+json": {
       "model_id": "89ebaf413d574edc8abbe531f053e975",
       "version_major": 2,
       "version_minor": 0
      },
      "text/plain": [
       "Validation: |                                                                                      | 0/? [00:0…"
      ]
     },
     "metadata": {},
     "output_type": "display_data"
    },
    {
     "data": {
      "application/vnd.jupyter.widget-view+json": {
       "model_id": "9bf04e0417ae43329caa95a1b02e55b2",
       "version_major": 2,
       "version_minor": 0
      },
      "text/plain": [
       "Validation: |                                                                                      | 0/? [00:0…"
      ]
     },
     "metadata": {},
     "output_type": "display_data"
    },
    {
     "name": "stderr",
     "output_type": "stream",
     "text": [
      "`Trainer.fit` stopped: `max_epochs=100` reached.\n"
     ]
    }
   ],
   "source": [
    "simclr_model = train_simclr(\n",
    "    batch_size=64, hidden_dim=64, lr=5e-4, temperature=0.07, weight_decay=1e-4, max_epochs=100\n",
    ")"
   ]
  },
  {
   "cell_type": "markdown",
   "id": "d4714a46",
   "metadata": {
    "papermill": {
     "duration": 0.204306,
     "end_time": "2023-10-12T10:17:09.845704",
     "exception": false,
     "start_time": "2023-10-12T10:17:09.641398",
     "status": "completed"
    },
    "tags": []
   },
   "source": [
    "To get an intuition of how training with contrastive learning behaves, we can take a look at the TensorBoard below:"
   ]
  },
  {
   "cell_type": "code",
   "execution_count": 13,
   "id": "5845e385",
   "metadata": {
    "papermill": {
     "duration": 1.218507,
     "end_time": "2023-10-12T10:17:11.269139",
     "exception": false,
     "start_time": "2023-10-12T10:17:10.050632",
     "status": "completed"
    },
    "tags": []
   },
   "outputs": [
    {
     "data": {
      "text/plain": [
       "Reusing TensorBoard on port 6007 (pid 3325049), started 2 days, 1:38:33 ago. (Use '!kill 3325049' to kill it.)"
      ]
     },
     "metadata": {},
     "output_type": "display_data"
    },
    {
     "data": {
      "text/html": [
       "\n",
       "      <iframe id=\"tensorboard-frame-1c80317fa3b1799d\" width=\"100%\" height=\"800\" frameborder=\"0\">\n",
       "      </iframe>\n",
       "      <script>\n",
       "        (function() {\n",
       "          const frame = document.getElementById(\"tensorboard-frame-1c80317fa3b1799d\");\n",
       "          const url = new URL(\"/\", window.location);\n",
       "          const port = 6007;\n",
       "          if (port) {\n",
       "            url.port = port;\n",
       "          }\n",
       "          frame.src = url;\n",
       "        })();\n",
       "      </script>\n",
       "    "
      ],
      "text/plain": [
       "<IPython.core.display.HTML object>"
      ]
     },
     "metadata": {},
     "output_type": "display_data"
    }
   ],
   "source": [
    "%tensorboard --logdir saved_models/ContrastiveLearning_graphimages-twopi/SimCLR/lightning_logs"
   ]
  },
  {
   "cell_type": "markdown",
   "id": "ca9b8445",
   "metadata": {
    "lines_to_next_cell": 2,
    "papermill": {
     "duration": 0.210439,
     "end_time": "2023-10-12T10:17:12.153580",
     "exception": false,
     "start_time": "2023-10-12T10:17:11.943141",
     "status": "completed"
    },
    "tags": []
   },
   "source": [
    "## Logistic Regression\n",
    "\n",
    "<div class=\"center-wrapper\"><div class=\"video-wrapper\"><iframe src=\"https://www.youtube.com/embed/o3FktysLLd4\" title=\"YouTube video player\" frameborder=\"0\" allow=\"accelerometer; autoplay; clipboard-write; encrypted-media; gyroscope; picture-in-picture\" allowfullscreen></iframe></div></div>\n",
    "After we have trained our model via contrastive learning, we can deploy it on downstream tasks and see how well it performs with little data.\n",
    "A common setup, which also verifies whether the model has learned generalized representations, is to perform Logistic Regression on the features.\n",
    "In other words, we learn a single, linear layer that maps the representations to a class prediction.\n",
    "Since the base network $f(\\cdot)$ is not changed during the training process, the model can only perform well if the representations of $h$ describe all features that might be necessary for the task.\n",
    "Further, we do not have to worry too much about overfitting since we have very few parameters that are trained.\n",
    "Hence, we might expect that the model can perform well even with very little data.\n",
    "\n",
    "First, let's implement a simple Logistic Regression setup for which we assume that the images already have been encoded in their feature vectors.\n",
    "If very little data is available, it might be beneficial to dynamically encode the images during training so that we can also apply data augmentations.\n",
    "However, the way we implement it here is much more efficient and can be trained within a few seconds.\n",
    "Further, using data augmentations did not show any significant gain in this simple setup."
   ]
  },
  {
   "cell_type": "code",
   "execution_count": 14,
   "id": "f8ffe86d",
   "metadata": {
    "papermill": {
     "duration": 0.221322,
     "end_time": "2023-10-12T10:17:12.579562",
     "exception": false,
     "start_time": "2023-10-12T10:17:12.358240",
     "status": "completed"
    },
    "tags": []
   },
   "outputs": [],
   "source": [
    "class LogisticRegression(L.LightningModule):\n",
    "    def __init__(self, feature_dim, num_classes, lr, weight_decay, max_epochs=100):\n",
    "        super().__init__()\n",
    "        self.save_hyperparameters()\n",
    "        # Mapping from representation h to classes\n",
    "        self.model = nn.Linear(feature_dim, num_classes)\n",
    "\n",
    "    def configure_optimizers(self):\n",
    "        optimizer = optim.AdamW(self.parameters(), lr=self.hparams.lr, weight_decay=self.hparams.weight_decay)\n",
    "        lr_scheduler = optim.lr_scheduler.MultiStepLR(\n",
    "            optimizer, milestones=[int(self.hparams.max_epochs * 0.6), int(self.hparams.max_epochs * 0.8)], gamma=0.1\n",
    "        )\n",
    "        return [optimizer], [lr_scheduler]\n",
    "\n",
    "    def _calculate_loss(self, batch, mode=\"train\"):\n",
    "        feats, labels = batch\n",
    "        preds = self.model(feats)\n",
    "        loss = F.cross_entropy(preds, labels)\n",
    "        acc = (preds.argmax(dim=-1) == labels).float().mean()\n",
    "\n",
    "        self.log(mode + \"_loss\", loss)\n",
    "        self.log(mode + \"_acc\", acc)\n",
    "        return loss\n",
    "\n",
    "    def training_step(self, batch, batch_idx):\n",
    "        return self._calculate_loss(batch, mode=\"train\")\n",
    "\n",
    "    def validation_step(self, batch, batch_idx):\n",
    "        self._calculate_loss(batch, mode=\"val\")\n",
    "\n",
    "    def test_step(self, batch, batch_idx):\n",
    "        self._calculate_loss(batch, mode=\"test\")"
   ]
  },
  {
   "cell_type": "markdown",
   "id": "1e1f5b1a",
   "metadata": {
    "papermill": {
     "duration": 0.204001,
     "end_time": "2023-10-12T10:17:12.987596",
     "exception": false,
     "start_time": "2023-10-12T10:17:12.783595",
     "status": "completed"
    },
    "tags": []
   },
   "source": [
    "The data we use is the training and test set of STL10.\n",
    "The training contains 500 images per class, while the test set has 800 images per class."
   ]
  },
  {
   "cell_type": "code",
   "execution_count": 15,
   "id": "eb045d39",
   "metadata": {
    "papermill": {
     "duration": 10.594537,
     "end_time": "2023-10-12T10:17:23.836147",
     "exception": false,
     "start_time": "2023-10-12T10:17:13.241610",
     "status": "completed"
    },
    "tags": []
   },
   "outputs": [
    {
     "ename": "NameError",
     "evalue": "name 'MODEL' is not defined",
     "output_type": "error",
     "traceback": [
      "\u001b[0;31m---------------------------------------------------------------------------\u001b[0m",
      "\u001b[0;31mNameError\u001b[0m                                 Traceback (most recent call last)",
      "Cell \u001b[0;32mIn[15], line 2\u001b[0m\n\u001b[1;32m      1\u001b[0m \u001b[38;5;28;01mfrom\u001b[39;00m \u001b[38;5;21;01mtransformers\u001b[39;00m \u001b[38;5;28;01mimport\u001b[39;00m AutoImageProcessor\n\u001b[0;32m----> 2\u001b[0m processor \u001b[38;5;241m=\u001b[39m AutoImageProcessor\u001b[38;5;241m.\u001b[39mfrom_pretrained(\u001b[43mMODEL\u001b[49m)\n\u001b[1;32m      4\u001b[0m \u001b[38;5;28;01mclass\u001b[39;00m \u001b[38;5;21;01mPreprocess\u001b[39;00m:\n\u001b[1;32m      5\u001b[0m     \u001b[38;5;28;01mdef\u001b[39;00m \u001b[38;5;21m__call__\u001b[39m(\u001b[38;5;28mself\u001b[39m, x):\n",
      "\u001b[0;31mNameError\u001b[0m: name 'MODEL' is not defined"
     ]
    }
   ],
   "source": [
    "from transformers import AutoImageProcessor\n",
    "processor = AutoImageProcessor.from_pretrained(MODEL)\n",
    "\n",
    "class Preprocess:\n",
    "    def __call__(self, x):\n",
    "        return processor(x, return_tensors=\"pt\")[\"pixel_values\"].squeeze() \n",
    "    \n",
    "pp = Preprocess()\n",
    "train_img_data = STL10(root=DATASET_PATH, split=\"train\", download=True, transform=pp)\n",
    "test_img_data = STL10(root=DATASET_PATH, split=\"test\", download=True, transform=pp)\n",
    "\n",
    "print(\"Number of training examples:\", len(train_img_data))\n",
    "print(\"Number of test examples:\", len(test_img_data))"
   ]
  },
  {
   "cell_type": "markdown",
   "id": "4fe7bb53",
   "metadata": {
    "lines_to_next_cell": 2,
    "papermill": {
     "duration": 0.205395,
     "end_time": "2023-10-12T10:17:24.281519",
     "exception": false,
     "start_time": "2023-10-12T10:17:24.076124",
     "status": "completed"
    },
    "tags": []
   },
   "source": [
    "Next, we implement a small function to encode all images in our datasets.\n",
    "The output representations are then used as inputs to the Logistic Regression model."
   ]
  },
  {
   "cell_type": "code",
   "execution_count": null,
   "id": "dc036f86",
   "metadata": {
    "papermill": {
     "duration": 0.25953,
     "end_time": "2023-10-12T10:17:24.744198",
     "exception": false,
     "start_time": "2023-10-12T10:17:24.484668",
     "status": "completed"
    },
    "tags": []
   },
   "outputs": [],
   "source": [
    "@torch.no_grad()\n",
    "def prepare_data_features(model, dataset):\n",
    "    # Prepare model\n",
    "    network = deepcopy(model.model)\n",
    "    network.eval()\n",
    "    network.to(device)\n",
    "\n",
    "    # Encode all images\n",
    "    data_loader = data.DataLoader(dataset, batch_size=64, num_workers=20, shuffle=False, drop_last=False)\n",
    "    feats, labels = [], []\n",
    "    for batch_imgs, batch_labels in tqdm(data_loader):\n",
    "        batch_imgs = batch_imgs.to(device)\n",
    "        batch_feats = network(batch_imgs).pooler_output\n",
    "        feats.append(batch_feats.detach().cpu())\n",
    "        labels.append(batch_labels)\n",
    "\n",
    "    feats = torch.cat(feats, dim=0)\n",
    "    labels = torch.cat(labels, dim=0)\n",
    "\n",
    "    # Sort images by labels\n",
    "    labels, idxs = labels.sort()\n",
    "    feats = feats[idxs]\n",
    "\n",
    "    return data.TensorDataset(feats, labels)"
   ]
  },
  {
   "cell_type": "markdown",
   "id": "0a26b004",
   "metadata": {
    "papermill": {
     "duration": 0.20344,
     "end_time": "2023-10-12T10:17:25.155830",
     "exception": false,
     "start_time": "2023-10-12T10:17:24.952390",
     "status": "completed"
    },
    "tags": []
   },
   "source": [
    "Let's apply the function to both training and test set below."
   ]
  },
  {
   "cell_type": "code",
   "execution_count": null,
   "id": "9ca7aab2",
   "metadata": {
    "papermill": {
     "duration": 10.458895,
     "end_time": "2023-10-12T10:17:35.817068",
     "exception": false,
     "start_time": "2023-10-12T10:17:25.358173",
     "status": "completed"
    },
    "tags": []
   },
   "outputs": [],
   "source": [
    "train_feats_simclr = prepare_data_features(simclr_model, train_img_data)\n",
    "test_feats_simclr = prepare_data_features(simclr_model, test_img_data)"
   ]
  },
  {
   "cell_type": "markdown",
   "id": "c57594d2",
   "metadata": {
    "lines_to_next_cell": 2,
    "papermill": {
     "duration": 0.201731,
     "end_time": "2023-10-12T10:17:36.225721",
     "exception": false,
     "start_time": "2023-10-12T10:17:36.023990",
     "status": "completed"
    },
    "tags": []
   },
   "source": [
    "Finally, we can write a training function as usual.\n",
    "We evaluate the model on the test set every 10 epochs to allow early\n",
    "stopping, but the low frequency of the validation ensures that we do not\n",
    "overfit too much on the test set."
   ]
  },
  {
   "cell_type": "code",
   "execution_count": null,
   "id": "75b8ff08",
   "metadata": {
    "lines_to_next_cell": 2,
    "papermill": {
     "duration": 0.214718,
     "end_time": "2023-10-12T10:17:36.684817",
     "exception": false,
     "start_time": "2023-10-12T10:17:36.470099",
     "status": "completed"
    },
    "tags": []
   },
   "outputs": [],
   "source": [
    "def train_logreg(batch_size, train_feats_data, test_feats_data, model_suffix, max_epochs=100, **kwargs):\n",
    "    trainer = L.Trainer(\n",
    "        default_root_dir=os.path.join(CHECKPOINT_PATH, \"LogisticRegression\"),\n",
    "        accelerator=\"auto\",\n",
    "        devices=1,\n",
    "        max_epochs=max_epochs,\n",
    "        callbacks=[\n",
    "            ModelCheckpoint(save_weights_only=True, mode=\"max\", monitor=\"val_acc\"),\n",
    "            LearningRateMonitor(\"epoch\"),\n",
    "        ],\n",
    "        enable_progress_bar=False,\n",
    "        check_val_every_n_epoch=10,\n",
    "    )\n",
    "    trainer.logger._default_hp_metric = None\n",
    "\n",
    "    # Data loaders\n",
    "    train_loader = data.DataLoader(\n",
    "        train_feats_data, batch_size=batch_size, shuffle=True, drop_last=False, pin_memory=True, num_workers=0\n",
    "    )\n",
    "    test_loader = data.DataLoader(\n",
    "        test_feats_data, batch_size=batch_size, shuffle=False, drop_last=False, pin_memory=True, num_workers=0\n",
    "    )\n",
    "\n",
    "    # Check whether pretrained model exists. If yes, load it and skip training\n",
    "    pretrained_filename = os.path.join(CHECKPOINT_PATH, f\"LogisticRegression_{model_suffix}.ckpt\")\n",
    "    if os.path.isfile(pretrained_filename):\n",
    "        print(f\"Found pretrained model at {pretrained_filename}, loading...\")\n",
    "        model = LogisticRegression.load_from_checkpoint(pretrained_filename)\n",
    "    else:\n",
    "        L.seed_everything(42)  # To be reproducible\n",
    "        model = LogisticRegression(**kwargs)\n",
    "        trainer.fit(model, train_loader, test_loader)\n",
    "        model = LogisticRegression.load_from_checkpoint(trainer.checkpoint_callback.best_model_path)\n",
    "\n",
    "    # Test best model on train and validation set\n",
    "    train_result = trainer.test(model, dataloaders=train_loader, verbose=False)\n",
    "    test_result = trainer.test(model, dataloaders=test_loader, verbose=False)\n",
    "    result = {\"train\": train_result[0][\"test_acc\"], \"test\": test_result[0][\"test_acc\"]}\n",
    "\n",
    "    return model, result"
   ]
  },
  {
   "cell_type": "markdown",
   "id": "4c0bdab8",
   "metadata": {
    "lines_to_next_cell": 2,
    "papermill": {
     "duration": 0.201344,
     "end_time": "2023-10-12T10:17:37.090475",
     "exception": false,
     "start_time": "2023-10-12T10:17:36.889131",
     "status": "completed"
    },
    "tags": []
   },
   "source": [
    "Despite the training dataset of STL10 already only having 500 labeled images per class, we will perform experiments with even smaller datasets.\n",
    "Specifically, we train a Logistic Regression model for datasets with only 10, 20, 50, 100, 200, and all 500 examples per class.\n",
    "This gives us an intuition on how well the representations learned by contrastive learning can be transferred to a image recognition task like this classification.\n",
    "First, let's define a function to create the intended sub-datasets from the full training set:"
   ]
  },
  {
   "cell_type": "code",
   "execution_count": null,
   "id": "f6767b71",
   "metadata": {
    "papermill": {
     "duration": 0.212998,
     "end_time": "2023-10-12T10:17:37.504574",
     "exception": false,
     "start_time": "2023-10-12T10:17:37.291576",
     "status": "completed"
    },
    "tags": []
   },
   "outputs": [],
   "source": [
    "def get_smaller_dataset(original_dataset, num_imgs_per_label):\n",
    "    new_dataset = data.TensorDataset(\n",
    "        *(t.unflatten(0, (10, 500))[:, :num_imgs_per_label].flatten(0, 1) for t in original_dataset.tensors)\n",
    "    )\n",
    "    return new_dataset"
   ]
  },
  {
   "cell_type": "markdown",
   "id": "24542748",
   "metadata": {
    "papermill": {
     "duration": 0.23764,
     "end_time": "2023-10-12T10:17:37.945430",
     "exception": false,
     "start_time": "2023-10-12T10:17:37.707790",
     "status": "completed"
    },
    "tags": []
   },
   "source": [
    "Next, let's run all models.\n",
    "Despite us training 6 models, this cell could be run within a minute or two without the pretrained models."
   ]
  },
  {
   "cell_type": "code",
   "execution_count": null,
   "id": "597f3941",
   "metadata": {
    "papermill": {
     "duration": 1.747752,
     "end_time": "2023-10-12T10:17:39.900985",
     "exception": false,
     "start_time": "2023-10-12T10:17:38.153233",
     "status": "completed"
    },
    "tags": []
   },
   "outputs": [],
   "source": [
    "results = {}\n",
    "for num_imgs_per_label in [10, 20, 50, 100, 200, 500]:\n",
    "    sub_train_set = get_smaller_dataset(train_feats_simclr, num_imgs_per_label)\n",
    "    _, small_set_results = train_logreg(\n",
    "        batch_size=64,\n",
    "        train_feats_data=sub_train_set,\n",
    "        test_feats_data=test_feats_simclr,\n",
    "        model_suffix=num_imgs_per_label,\n",
    "        feature_dim=train_feats_simclr.tensors[0].shape[1],\n",
    "        num_classes=10,\n",
    "        lr=1e-3,\n",
    "        weight_decay=1e-3,\n",
    "    )\n",
    "    results[num_imgs_per_label] = small_set_results"
   ]
  },
  {
   "cell_type": "markdown",
   "id": "6aec221f",
   "metadata": {
    "papermill": {
     "duration": 0.20463,
     "end_time": "2023-10-12T10:17:40.346847",
     "exception": false,
     "start_time": "2023-10-12T10:17:40.142217",
     "status": "completed"
    },
    "tags": []
   },
   "source": [
    "Finally, let's plot the results."
   ]
  },
  {
   "cell_type": "code",
   "execution_count": null,
   "id": "507a9e81",
   "metadata": {
    "papermill": {
     "duration": 0.571832,
     "end_time": "2023-10-12T10:17:41.167306",
     "exception": false,
     "start_time": "2023-10-12T10:17:40.595474",
     "status": "completed"
    },
    "tags": []
   },
   "outputs": [],
   "source": [
    "dataset_sizes = sorted(k for k in results)\n",
    "test_scores = [results[k][\"test\"] for k in dataset_sizes]\n",
    "\n",
    "fig = plt.figure(figsize=(6, 4))\n",
    "plt.plot(\n",
    "    dataset_sizes,\n",
    "    test_scores,\n",
    "    \"--\",\n",
    "    color=\"#000\",\n",
    "    marker=\"*\",\n",
    "    markeredgecolor=\"#000\",\n",
    "    markerfacecolor=\"y\",\n",
    "    markersize=16,\n",
    ")\n",
    "plt.xscale(\"log\")\n",
    "plt.xticks(dataset_sizes, labels=dataset_sizes)\n",
    "plt.title(\"STL10 classification over dataset size\", fontsize=14)\n",
    "plt.xlabel(\"Number of images per class\")\n",
    "plt.ylabel(\"Test accuracy\")\n",
    "plt.minorticks_off()\n",
    "plt.show()\n",
    "\n",
    "for k, score in zip(dataset_sizes, test_scores):\n",
    "    print(f\"Test accuracy for {k:3d} images per label: {100*score:4.2f}%\")"
   ]
  },
  {
   "cell_type": "markdown",
   "id": "3b8a3c4f",
   "metadata": {
    "papermill": {
     "duration": 0.205521,
     "end_time": "2023-10-12T10:17:41.580230",
     "exception": false,
     "start_time": "2023-10-12T10:17:41.374709",
     "status": "completed"
    },
    "tags": []
   },
   "source": [
    "As one would expect, the classification performance improves the more data we have.\n",
    "However, with only 10 images per class, we can already classify more than 60% of the images correctly.\n",
    "This is quite impressive, considering that the images are also higher dimensional than e.g. CIFAR10.\n",
    "With the full dataset, we achieve an accuracy of 81%.\n",
    "The increase between 50 to 500 images per class might suggest a linear increase in performance with an exponentially larger dataset.\n",
    "However, with even more data, we could also finetune $f(\\cdot)$ in the training process, allowing for the representations to adapt more to the specific classification task given.\n",
    "\n",
    "To set the results above into perspective, we will train the base\n",
    "network, a ResNet-18, on the classification task from scratch."
   ]
  },
  {
   "cell_type": "markdown",
   "id": "df0df437",
   "metadata": {
    "lines_to_next_cell": 2,
    "papermill": {
     "duration": 0.204559,
     "end_time": "2023-10-12T10:17:41.990451",
     "exception": false,
     "start_time": "2023-10-12T10:17:41.785892",
     "status": "completed"
    },
    "tags": []
   },
   "source": [
    "## Baseline\n",
    "\n",
    "As a baseline to our results above, we will train a standard ResNet-18 with random initialization on the labeled training set of STL10.\n",
    "The results will give us an indication of the advantages that contrastive learning on unlabeled data has compared to using only supervised training.\n",
    "The implementation of the model is straightforward since the ResNet\n",
    "architecture is provided in the torchvision library."
   ]
  },
  {
   "cell_type": "code",
   "execution_count": null,
   "id": "4e477e28",
   "metadata": {
    "papermill": {
     "duration": 0.214044,
     "end_time": "2023-10-12T10:17:42.447100",
     "exception": false,
     "start_time": "2023-10-12T10:17:42.233056",
     "status": "completed"
    },
    "tags": []
   },
   "outputs": [],
   "source": [
    "class ResNet(L.LightningModule):\n",
    "    def __init__(self, num_classes, lr, weight_decay, max_epochs=100):\n",
    "        super().__init__()\n",
    "        self.save_hyperparameters()\n",
    "        self.model = torchvision.models.resnet18(pretrained=False, num_classes=num_classes)\n",
    "\n",
    "    def configure_optimizers(self):\n",
    "        optimizer = optim.AdamW(self.parameters(), lr=self.hparams.lr, weight_decay=self.hparams.weight_decay)\n",
    "        lr_scheduler = optim.lr_scheduler.MultiStepLR(\n",
    "            optimizer, milestones=[int(self.hparams.max_epochs * 0.7), int(self.hparams.max_epochs * 0.9)], gamma=0.1\n",
    "        )\n",
    "        return [optimizer], [lr_scheduler]\n",
    "\n",
    "    def _calculate_loss(self, batch, mode=\"train\"):\n",
    "        imgs, labels = batch\n",
    "        preds = self.model(imgs)\n",
    "        loss = F.cross_entropy(preds, labels)\n",
    "        acc = (preds.argmax(dim=-1) == labels).float().mean()\n",
    "\n",
    "        self.log(mode + \"_loss\", loss)\n",
    "        self.log(mode + \"_acc\", acc)\n",
    "        return loss\n",
    "\n",
    "    def training_step(self, batch, batch_idx):\n",
    "        return self._calculate_loss(batch, mode=\"train\")\n",
    "\n",
    "    def validation_step(self, batch, batch_idx):\n",
    "        self._calculate_loss(batch, mode=\"val\")\n",
    "\n",
    "    def test_step(self, batch, batch_idx):\n",
    "        self._calculate_loss(batch, mode=\"test\")"
   ]
  },
  {
   "cell_type": "markdown",
   "id": "932a6e40",
   "metadata": {
    "papermill": {
     "duration": 0.205127,
     "end_time": "2023-10-12T10:17:42.858480",
     "exception": false,
     "start_time": "2023-10-12T10:17:42.653353",
     "status": "completed"
    },
    "tags": []
   },
   "source": [
    "It is clear that the ResNet easily overfits on the training data since its parameter count is more than 1000 times larger than the dataset size.\n",
    "To make the comparison to the contrastive learning models fair, we apply data augmentations similar to the ones we used before: horizontal flip, crop-and-resize, grayscale, and gaussian blur.\n",
    "Color distortions as before are not used because the color distribution of an image showed to be an important feature for the classification.\n",
    "Hence, we observed no noticeable performance gains when adding color distortions to the set of augmentations.\n",
    "Similarly, we restrict the resizing operation before cropping to the max.\n",
    "125% of its original resolution, instead of 1250% as done in SimCLR.\n",
    "This is because, for classification, the model needs to recognize the full object, while in contrastive learning, we only want to check whether two patches belong to the same image/object.\n",
    "Hence, the chosen augmentations below are overall weaker than in the contrastive learning case."
   ]
  },
  {
   "cell_type": "code",
   "execution_count": null,
   "id": "32c68b47",
   "metadata": {
    "papermill": {
     "duration": 5.482204,
     "end_time": "2023-10-12T10:17:48.546112",
     "exception": false,
     "start_time": "2023-10-12T10:17:43.063908",
     "status": "completed"
    },
    "tags": []
   },
   "outputs": [],
   "source": [
    "train_transforms = transforms.Compose(\n",
    "    [\n",
    "        transforms.RandomHorizontalFlip(),\n",
    "        transforms.RandomResizedCrop(size=96, scale=(0.8, 1.0)),\n",
    "        transforms.RandomGrayscale(p=0.2),\n",
    "        transforms.GaussianBlur(kernel_size=9, sigma=(0.1, 0.5)),\n",
    "        transforms.ToTensor(),\n",
    "        transforms.Normalize((0.5,), (0.5,)),\n",
    "    ]\n",
    ")\n",
    "\n",
    "train_img_aug_data = STL10(root=DATASET_PATH, split=\"train\", download=True, transform=train_transforms)"
   ]
  },
  {
   "cell_type": "markdown",
   "id": "5af802e8",
   "metadata": {
    "lines_to_next_cell": 2,
    "papermill": {
     "duration": 0.256531,
     "end_time": "2023-10-12T10:17:49.043154",
     "exception": false,
     "start_time": "2023-10-12T10:17:48.786623",
     "status": "completed"
    },
    "tags": []
   },
   "source": [
    "The training function for the ResNet is almost identical to the Logistic Regression setup.\n",
    "Note that we allow the ResNet to perform validation every 2 epochs to\n",
    "also check whether the model overfits strongly in the first iterations\n",
    "or not."
   ]
  },
  {
   "cell_type": "code",
   "execution_count": null,
   "id": "a858c2ce",
   "metadata": {
    "papermill": {
     "duration": 0.21767,
     "end_time": "2023-10-12T10:17:49.465843",
     "exception": false,
     "start_time": "2023-10-12T10:17:49.248173",
     "status": "completed"
    },
    "tags": []
   },
   "outputs": [],
   "source": [
    "def train_resnet(batch_size, max_epochs=100, **kwargs):\n",
    "    trainer = L.Trainer(\n",
    "        default_root_dir=os.path.join(CHECKPOINT_PATH, \"ResNet\"),\n",
    "        accelerator=\"auto\",\n",
    "        devices=1,\n",
    "        max_epochs=max_epochs,\n",
    "        callbacks=[\n",
    "            ModelCheckpoint(save_weights_only=True, mode=\"max\", monitor=\"val_acc\"),\n",
    "            LearningRateMonitor(\"epoch\"),\n",
    "        ],\n",
    "        check_val_every_n_epoch=2,\n",
    "    )\n",
    "    trainer.logger._default_hp_metric = None\n",
    "\n",
    "    # Data loaders\n",
    "    train_loader = data.DataLoader(\n",
    "        train_img_aug_data,\n",
    "        batch_size=batch_size,\n",
    "        shuffle=True,\n",
    "        drop_last=True,\n",
    "        pin_memory=True,\n",
    "        num_workers=NUM_WORKERS,\n",
    "    )\n",
    "    test_loader = data.DataLoader(\n",
    "        test_img_data, batch_size=batch_size, shuffle=False, drop_last=False, pin_memory=True, num_workers=NUM_WORKERS\n",
    "    )\n",
    "\n",
    "    # Check whether pretrained model exists. If yes, load it and skip training\n",
    "    pretrained_filename = os.path.join(CHECKPOINT_PATH, \"ResNet.ckpt\")\n",
    "    if os.path.isfile(pretrained_filename):\n",
    "        print(\"Found pretrained model at %s, loading...\" % pretrained_filename)\n",
    "        model = ResNet.load_from_checkpoint(pretrained_filename)\n",
    "    else:\n",
    "        L.seed_everything(42)  # To be reproducible\n",
    "        model = ResNet(**kwargs)\n",
    "        trainer.fit(model, train_loader, test_loader)\n",
    "        model = ResNet.load_from_checkpoint(trainer.checkpoint_callback.best_model_path)\n",
    "\n",
    "    # Test best model on validation set\n",
    "    train_result = trainer.test(model, dataloaders=train_loader, verbose=False)\n",
    "    val_result = trainer.test(model, dataloaders=test_loader, verbose=False)\n",
    "    result = {\"train\": train_result[0][\"test_acc\"], \"test\": val_result[0][\"test_acc\"]}\n",
    "\n",
    "    return model, result"
   ]
  },
  {
   "cell_type": "markdown",
   "id": "2f6aa4cc",
   "metadata": {
    "papermill": {
     "duration": 0.205334,
     "end_time": "2023-10-12T10:17:49.877992",
     "exception": false,
     "start_time": "2023-10-12T10:17:49.672658",
     "status": "completed"
    },
    "tags": []
   },
   "source": [
    "Finally, let's train the model and check its results:"
   ]
  },
  {
   "cell_type": "code",
   "execution_count": null,
   "id": "3c9a49a1",
   "metadata": {
    "papermill": {
     "duration": 13.545551,
     "end_time": "2023-10-12T10:18:03.628429",
     "exception": false,
     "start_time": "2023-10-12T10:17:50.082878",
     "status": "completed"
    },
    "tags": []
   },
   "outputs": [],
   "source": [
    "resnet_model, resnet_result = train_resnet(batch_size=64, num_classes=10, lr=1e-3, weight_decay=2e-4, max_epochs=100)\n",
    "print(f\"Accuracy on training set: {100*resnet_result['train']:4.2f}%\")\n",
    "print(f\"Accuracy on test set: {100*resnet_result['test']:4.2f}%\")"
   ]
  },
  {
   "cell_type": "markdown",
   "id": "69361b4f",
   "metadata": {
    "papermill": {
     "duration": 0.205958,
     "end_time": "2023-10-12T10:18:04.044048",
     "exception": false,
     "start_time": "2023-10-12T10:18:03.838090",
     "status": "completed"
    },
    "tags": []
   },
   "source": [
    "The ResNet trained from scratch achieves 73.31% on the test set.\n",
    "This is almost 8% less than the contrastive learning model, and even slightly less than SimCLR achieves with 1/10 of the data.\n",
    "This shows that self-supervised, contrastive learning provides\n",
    "considerable performance gains by leveraging large amounts of unlabeled\n",
    "data when little labeled data is available."
   ]
  },
  {
   "cell_type": "markdown",
   "id": "515d972c",
   "metadata": {
    "papermill": {
     "duration": 0.205276,
     "end_time": "2023-10-12T10:18:04.454750",
     "exception": false,
     "start_time": "2023-10-12T10:18:04.249474",
     "status": "completed"
    },
    "tags": []
   },
   "source": [
    "## Conclusion\n",
    "\n",
    "In this tutorial, we have discussed self-supervised contrastive learning and implemented SimCLR as an example method.\n",
    "We have applied it to the STL10 dataset and showed that it can learn generalizable representations that we can use to train simple classification models.\n",
    "With 500 images per label, it achieved an 8% higher accuracy than a similar model solely trained from supervision and performs on par with it when only using a tenth of the labeled data.\n",
    "Our experimental results are limited to a single dataset, but recent works such as [Ting Chen et al. ](https://arxiv.org/abs/2006.10029) showed similar trends for larger datasets like ImageNet.\n",
    "Besides the discussed hyperparameters, the size of the model seems to be important in contrastive learning as well.\n",
    "If a lot of unlabeled data is available, larger models can achieve much stronger results and come close to their supervised baselines.\n",
    "Further, there are also approaches for combining contrastive and supervised learning, leading to performance gains beyond supervision (see [Khosla et al.](https://arxiv.org/abs/2004.11362)).\n",
    "Moreover, contrastive learning is not the only approach to self-supervised learning that has come up in the last two years and showed great results.\n",
    "Other methods include distillation-based methods like [BYOL](https://arxiv.org/abs/2006.07733) and redundancy reduction techniques like [Barlow Twins](https://arxiv.org/abs/2103.03230).\n",
    "There is a lot more to explore in the self-supervised domain, and more, impressive steps ahead are to be expected.\n",
    "\n",
    "### References\n",
    "\n",
    "[1] Chen, T., Kornblith, S., Norouzi, M., and Hinton, G. (2020).\n",
    "A simple framework for contrastive learning of visual representations.\n",
    "In International conference on machine learning (pp.\n",
    "1597-1607).\n",
    "PMLR.\n",
    "([link](https://arxiv.org/abs/2002.05709))\n",
    "\n",
    "[2] Chen, T., Kornblith, S., Swersky, K., Norouzi, M., and Hinton, G. (2020).\n",
    "Big self-supervised models are strong semi-supervised learners.\n",
    "NeurIPS 2021 ([link](https://arxiv.org/abs/2006.10029)).\n",
    "\n",
    "[3] Oord, A. V. D., Li, Y., and Vinyals, O.\n",
    "(2018).\n",
    "Representation learning with contrastive predictive coding.\n",
    "arXiv preprint arXiv:1807.03748.\n",
    "([link](https://arxiv.org/abs/1807.03748))\n",
    "\n",
    "[4] Grill, J.B., Strub, F., Altché, F., Tallec, C., Richemond, P.H., Buchatskaya, E., Doersch, C., Pires, B.A., Guo, Z.D., Azar, M.G.\n",
    "and Piot, B.\n",
    "(2020).\n",
    "Bootstrap your own latent: A new approach to self-supervised learning.\n",
    "arXiv preprint arXiv:2006.07733.\n",
    "([link](https://arxiv.org/abs/2006.07733))\n",
    "\n",
    "[5] Khosla, P., Teterwak, P., Wang, C., Sarna, A., Tian, Y., Isola, P., Maschinot, A., Liu, C. and Krishnan, D. (2020).\n",
    "Supervised contrastive learning.\n",
    "arXiv preprint arXiv:2004.11362.\n",
    "([link](https://arxiv.org/abs/2004.11362))\n",
    "\n",
    "[6] Zbontar, J., Jing, L., Misra, I., LeCun, Y. and Deny, S. (2021).\n",
    "Barlow twins: Self-supervised learning via redundancy reduction.\n",
    "arXiv preprint arXiv:2103.03230.\n",
    "([link](https://arxiv.org/abs/2103.03230))"
   ]
  },
  {
   "cell_type": "markdown",
   "id": "a94ac165",
   "metadata": {
    "papermill": {
     "duration": 0.239646,
     "end_time": "2023-10-12T10:18:04.899009",
     "exception": false,
     "start_time": "2023-10-12T10:18:04.659363",
     "status": "completed"
    },
    "tags": []
   },
   "source": [
    "## Congratulations - Time to Join the Community!\n",
    "\n",
    "Congratulations on completing this notebook tutorial! If you enjoyed this and would like to join the Lightning\n",
    "movement, you can do so in the following ways!\n",
    "\n",
    "### Star [Lightning](https://github.com/Lightning-AI/lightning) on GitHub\n",
    "The easiest way to help our community is just by starring the GitHub repos! This helps raise awareness of the cool\n",
    "tools we're building.\n",
    "\n",
    "### Join our [Slack](https://www.pytorchlightning.ai/community)!\n",
    "The best way to keep up to date on the latest advancements is to join our community! Make sure to introduce yourself\n",
    "and share your interests in `#general` channel\n",
    "\n",
    "\n",
    "### Contributions !\n",
    "The best way to contribute to our community is to become a code contributor! At any time you can go to\n",
    "[Lightning](https://github.com/Lightning-AI/lightning) or [Bolt](https://github.com/Lightning-AI/lightning-bolts)\n",
    "GitHub Issues page and filter for \"good first issue\".\n",
    "\n",
    "* [Lightning good first issue](https://github.com/Lightning-AI/lightning/issues?q=is%3Aopen+is%3Aissue+label%3A%22good+first+issue%22)\n",
    "* [Bolt good first issue](https://github.com/Lightning-AI/lightning-bolts/issues?q=is%3Aopen+is%3Aissue+label%3A%22good+first+issue%22)\n",
    "* You can also contribute your own notebooks with useful examples !\n",
    "\n",
    "### Great thanks from the entire Pytorch Lightning Team for your interest !\n",
    "\n",
    "[![Pytorch Lightning](data:image/png;base64,NDA0OiBOb3QgRm91bmQ=){height=\"60px\" width=\"240px\"}](https://pytorchlightning.ai)"
   ]
  }
 ],
 "metadata": {
  "jupytext": {
   "cell_metadata_filter": "colab_type,id,colab,-all",
   "formats": "ipynb,py:percent",
   "main_language": "python"
  },
  "kernelspec": {
   "display_name": "Python 3 (ipykernel)",
   "language": "python",
   "name": "python3"
  },
  "language_info": {
   "codemirror_mode": {
    "name": "ipython",
    "version": 3
   },
   "file_extension": ".py",
   "mimetype": "text/x-python",
   "name": "python",
   "nbconvert_exporter": "python",
   "pygments_lexer": "ipython3",
   "version": "3.11.6"
  },
  "papermill": {
   "default_parameters": {},
   "duration": 642.271841,
   "end_time": "2023-10-12T10:18:08.128442",
   "environment_variables": {},
   "exception": null,
   "input_path": "course_UvA-DL/13-contrastive-learning/SimCLR.ipynb",
   "output_path": ".notebooks/course_UvA-DL/13-contrastive-learning.ipynb",
   "parameters": {},
   "start_time": "2023-10-12T10:07:25.856601",
   "version": "2.4.0"
  },
  "widgets": {
   "application/vnd.jupyter.widget-state+json": {
    "state": {
     "028fa3950cde4361a023b5063df994b1": {
      "model_module": "@jupyter-widgets/controls",
      "model_module_version": "2.0.0",
      "model_name": "ProgressStyleModel",
      "state": {
       "_model_module": "@jupyter-widgets/controls",
       "_model_module_version": "2.0.0",
       "_model_name": "ProgressStyleModel",
       "_view_count": null,
       "_view_module": "@jupyter-widgets/base",
       "_view_module_version": "2.0.0",
       "_view_name": "StyleView",
       "bar_color": null,
       "description_width": ""
      }
     },
     "0b4249e3fb00488cae7d7a446bf88186": {
      "model_module": "@jupyter-widgets/controls",
      "model_module_version": "2.0.0",
      "model_name": "HBoxModel",
      "state": {
       "_dom_classes": [],
       "_model_module": "@jupyter-widgets/controls",
       "_model_module_version": "2.0.0",
       "_model_name": "HBoxModel",
       "_view_count": null,
       "_view_module": "@jupyter-widgets/controls",
       "_view_module_version": "2.0.0",
       "_view_name": "HBoxView",
       "box_style": "",
       "children": [
        "IPY_MODEL_d9b00aa8f6b742c0b36243123fc4de73",
        "IPY_MODEL_fa8afdd79868440a8c89d7aa71628ac7",
        "IPY_MODEL_50e557a2bc5743edbc6daa5b8b871c2c"
       ],
       "layout": "IPY_MODEL_45ad8e126b6b44cc9708ec4e19901384",
       "tabbable": null,
       "tooltip": null
      }
     },
     "14ee7ffc561f4de3a7238d7ccf0be65b": {
      "model_module": "@jupyter-widgets/controls",
      "model_module_version": "2.0.0",
      "model_name": "HTMLStyleModel",
      "state": {
       "_model_module": "@jupyter-widgets/controls",
       "_model_module_version": "2.0.0",
       "_model_name": "HTMLStyleModel",
       "_view_count": null,
       "_view_module": "@jupyter-widgets/base",
       "_view_module_version": "2.0.0",
       "_view_name": "StyleView",
       "background": null,
       "description_width": "",
       "font_size": null,
       "text_color": null
      }
     },
     "17c39cbb566341f9b02c07811b7cdf8f": {
      "model_module": "@jupyter-widgets/controls",
      "model_module_version": "2.0.0",
      "model_name": "HTMLStyleModel",
      "state": {
       "_model_module": "@jupyter-widgets/controls",
       "_model_module_version": "2.0.0",
       "_model_name": "HTMLStyleModel",
       "_view_count": null,
       "_view_module": "@jupyter-widgets/base",
       "_view_module_version": "2.0.0",
       "_view_name": "StyleView",
       "background": null,
       "description_width": "",
       "font_size": null,
       "text_color": null
      }
     },
     "1bee531809be408983b37397d7670e1e": {
      "model_module": "@jupyter-widgets/base",
      "model_module_version": "2.0.0",
      "model_name": "LayoutModel",
      "state": {
       "_model_module": "@jupyter-widgets/base",
       "_model_module_version": "2.0.0",
       "_model_name": "LayoutModel",
       "_view_count": null,
       "_view_module": "@jupyter-widgets/base",
       "_view_module_version": "2.0.0",
       "_view_name": "LayoutView",
       "align_content": null,
       "align_items": null,
       "align_self": null,
       "border_bottom": null,
       "border_left": null,
       "border_right": null,
       "border_top": null,
       "bottom": null,
       "display": null,
       "flex": null,
       "flex_flow": null,
       "grid_area": null,
       "grid_auto_columns": null,
       "grid_auto_flow": null,
       "grid_auto_rows": null,
       "grid_column": null,
       "grid_gap": null,
       "grid_row": null,
       "grid_template_areas": null,
       "grid_template_columns": null,
       "grid_template_rows": null,
       "height": null,
       "justify_content": null,
       "justify_items": null,
       "left": null,
       "margin": null,
       "max_height": null,
       "max_width": null,
       "min_height": null,
       "min_width": null,
       "object_fit": null,
       "object_position": null,
       "order": null,
       "overflow": null,
       "padding": null,
       "right": null,
       "top": null,
       "visibility": null,
       "width": null
      }
     },
     "1df947497f9246bdb843d8bff62d68a6": {
      "model_module": "@jupyter-widgets/controls",
      "model_module_version": "2.0.0",
      "model_name": "FloatProgressModel",
      "state": {
       "_dom_classes": [],
       "_model_module": "@jupyter-widgets/controls",
       "_model_module_version": "2.0.0",
       "_model_name": "FloatProgressModel",
       "_view_count": null,
       "_view_module": "@jupyter-widgets/controls",
       "_view_module_version": "2.0.0",
       "_view_name": "ProgressView",
       "bar_style": "success",
       "description": "",
       "description_allow_html": false,
       "layout": "IPY_MODEL_fa28a7d1a35d44cfbe0ac4c509689d55",
       "max": 78,
       "min": 0,
       "orientation": "horizontal",
       "style": "IPY_MODEL_825a73e9138c4a52bcc8f3c9c2014da1",
       "tabbable": null,
       "tooltip": null,
       "value": 78
      }
     },
     "20fcf0fecc994d82998be55ce12d0372": {
      "model_module": "@jupyter-widgets/base",
      "model_module_version": "2.0.0",
      "model_name": "LayoutModel",
      "state": {
       "_model_module": "@jupyter-widgets/base",
       "_model_module_version": "2.0.0",
       "_model_name": "LayoutModel",
       "_view_count": null,
       "_view_module": "@jupyter-widgets/base",
       "_view_module_version": "2.0.0",
       "_view_name": "LayoutView",
       "align_content": null,
       "align_items": null,
       "align_self": null,
       "border_bottom": null,
       "border_left": null,
       "border_right": null,
       "border_top": null,
       "bottom": null,
       "display": null,
       "flex": null,
       "flex_flow": null,
       "grid_area": null,
       "grid_auto_columns": null,
       "grid_auto_flow": null,
       "grid_auto_rows": null,
       "grid_column": null,
       "grid_gap": null,
       "grid_row": null,
       "grid_template_areas": null,
       "grid_template_columns": null,
       "grid_template_rows": null,
       "height": null,
       "justify_content": null,
       "justify_items": null,
       "left": null,
       "margin": null,
       "max_height": null,
       "max_width": null,
       "min_height": null,
       "min_width": null,
       "object_fit": null,
       "object_position": null,
       "order": null,
       "overflow": null,
       "padding": null,
       "right": null,
       "top": null,
       "visibility": null,
       "width": null
      }
     },
     "2db79c8a15b34955963e20711b79c877": {
      "model_module": "@jupyter-widgets/base",
      "model_module_version": "2.0.0",
      "model_name": "LayoutModel",
      "state": {
       "_model_module": "@jupyter-widgets/base",
       "_model_module_version": "2.0.0",
       "_model_name": "LayoutModel",
       "_view_count": null,
       "_view_module": "@jupyter-widgets/base",
       "_view_module_version": "2.0.0",
       "_view_name": "LayoutView",
       "align_content": null,
       "align_items": null,
       "align_self": null,
       "border_bottom": null,
       "border_left": null,
       "border_right": null,
       "border_top": null,
       "bottom": null,
       "display": null,
       "flex": "2",
       "flex_flow": null,
       "grid_area": null,
       "grid_auto_columns": null,
       "grid_auto_flow": null,
       "grid_auto_rows": null,
       "grid_column": null,
       "grid_gap": null,
       "grid_row": null,
       "grid_template_areas": null,
       "grid_template_columns": null,
       "grid_template_rows": null,
       "height": null,
       "justify_content": null,
       "justify_items": null,
       "left": null,
       "margin": null,
       "max_height": null,
       "max_width": null,
       "min_height": null,
       "min_width": null,
       "object_fit": null,
       "object_position": null,
       "order": null,
       "overflow": null,
       "padding": null,
       "right": null,
       "top": null,
       "visibility": null,
       "width": null
      }
     },
     "31da97807333409988557c433c0dea33": {
      "model_module": "@jupyter-widgets/controls",
      "model_module_version": "2.0.0",
      "model_name": "HTMLModel",
      "state": {
       "_dom_classes": [],
       "_model_module": "@jupyter-widgets/controls",
       "_model_module_version": "2.0.0",
       "_model_name": "HTMLModel",
       "_view_count": null,
       "_view_module": "@jupyter-widgets/controls",
       "_view_module_version": "2.0.0",
       "_view_name": "HTMLView",
       "description": "",
       "description_allow_html": false,
       "layout": "IPY_MODEL_20fcf0fecc994d82998be55ce12d0372",
       "placeholder": "​",
       "style": "IPY_MODEL_97de4f5dabd941aba3d37c51fe8a8bb2",
       "tabbable": null,
       "tooltip": null,
       "value": " 78/78 [00:00&lt;00:00, 98.28it/s]"
      }
     },
     "3cd3c14d9395491084de9d55a34ee9df": {
      "model_module": "@jupyter-widgets/controls",
      "model_module_version": "2.0.0",
      "model_name": "HTMLStyleModel",
      "state": {
       "_model_module": "@jupyter-widgets/controls",
       "_model_module_version": "2.0.0",
       "_model_name": "HTMLStyleModel",
       "_view_count": null,
       "_view_module": "@jupyter-widgets/base",
       "_view_module_version": "2.0.0",
       "_view_name": "StyleView",
       "background": null,
       "description_width": "",
       "font_size": null,
       "text_color": null
      }
     },
     "41466855f43e4abba228b7f29ba1875f": {
      "model_module": "@jupyter-widgets/base",
      "model_module_version": "2.0.0",
      "model_name": "LayoutModel",
      "state": {
       "_model_module": "@jupyter-widgets/base",
       "_model_module_version": "2.0.0",
       "_model_name": "LayoutModel",
       "_view_count": null,
       "_view_module": "@jupyter-widgets/base",
       "_view_module_version": "2.0.0",
       "_view_name": "LayoutView",
       "align_content": null,
       "align_items": null,
       "align_self": null,
       "border_bottom": null,
       "border_left": null,
       "border_right": null,
       "border_top": null,
       "bottom": null,
       "display": null,
       "flex": null,
       "flex_flow": null,
       "grid_area": null,
       "grid_auto_columns": null,
       "grid_auto_flow": null,
       "grid_auto_rows": null,
       "grid_column": null,
       "grid_gap": null,
       "grid_row": null,
       "grid_template_areas": null,
       "grid_template_columns": null,
       "grid_template_rows": null,
       "height": null,
       "justify_content": null,
       "justify_items": null,
       "left": null,
       "margin": null,
       "max_height": null,
       "max_width": null,
       "min_height": null,
       "min_width": null,
       "object_fit": null,
       "object_position": null,
       "order": null,
       "overflow": null,
       "padding": null,
       "right": null,
       "top": null,
       "visibility": null,
       "width": null
      }
     },
     "45ad8e126b6b44cc9708ec4e19901384": {
      "model_module": "@jupyter-widgets/base",
      "model_module_version": "2.0.0",
      "model_name": "LayoutModel",
      "state": {
       "_model_module": "@jupyter-widgets/base",
       "_model_module_version": "2.0.0",
       "_model_name": "LayoutModel",
       "_view_count": null,
       "_view_module": "@jupyter-widgets/base",
       "_view_module_version": "2.0.0",
       "_view_name": "LayoutView",
       "align_content": null,
       "align_items": null,
       "align_self": null,
       "border_bottom": null,
       "border_left": null,
       "border_right": null,
       "border_top": null,
       "bottom": null,
       "display": null,
       "flex": null,
       "flex_flow": null,
       "grid_area": null,
       "grid_auto_columns": null,
       "grid_auto_flow": null,
       "grid_auto_rows": null,
       "grid_column": null,
       "grid_gap": null,
       "grid_row": null,
       "grid_template_areas": null,
       "grid_template_columns": null,
       "grid_template_rows": null,
       "height": null,
       "justify_content": null,
       "justify_items": null,
       "left": null,
       "margin": null,
       "max_height": null,
       "max_width": null,
       "min_height": null,
       "min_width": null,
       "object_fit": null,
       "object_position": null,
       "order": null,
       "overflow": null,
       "padding": null,
       "right": null,
       "top": null,
       "visibility": null,
       "width": null
      }
     },
     "47f19c8291ed482893ba5a9831906510": {
      "model_module": "@jupyter-widgets/controls",
      "model_module_version": "2.0.0",
      "model_name": "HTMLStyleModel",
      "state": {
       "_model_module": "@jupyter-widgets/controls",
       "_model_module_version": "2.0.0",
       "_model_name": "HTMLStyleModel",
       "_view_count": null,
       "_view_module": "@jupyter-widgets/base",
       "_view_module_version": "2.0.0",
       "_view_name": "StyleView",
       "background": null,
       "description_width": "",
       "font_size": null,
       "text_color": null
      }
     },
     "50e557a2bc5743edbc6daa5b8b871c2c": {
      "model_module": "@jupyter-widgets/controls",
      "model_module_version": "2.0.0",
      "model_name": "HTMLModel",
      "state": {
       "_dom_classes": [],
       "_model_module": "@jupyter-widgets/controls",
       "_model_module_version": "2.0.0",
       "_model_name": "HTMLModel",
       "_view_count": null,
       "_view_module": "@jupyter-widgets/controls",
       "_view_module_version": "2.0.0",
       "_view_name": "HTMLView",
       "description": "",
       "description_allow_html": false,
       "layout": "IPY_MODEL_41466855f43e4abba228b7f29ba1875f",
       "placeholder": "​",
       "style": "IPY_MODEL_17c39cbb566341f9b02c07811b7cdf8f",
       "tabbable": null,
       "tooltip": null,
       "value": " 125/125 [00:06&lt;00:00, 68.22it/s]"
      }
     },
     "525589d0c5414bb6bbea67eabe6717d7": {
      "model_module": "@jupyter-widgets/controls",
      "model_module_version": "2.0.0",
      "model_name": "ProgressStyleModel",
      "state": {
       "_model_module": "@jupyter-widgets/controls",
       "_model_module_version": "2.0.0",
       "_model_name": "ProgressStyleModel",
       "_view_count": null,
       "_view_module": "@jupyter-widgets/base",
       "_view_module_version": "2.0.0",
       "_view_name": "StyleView",
       "bar_color": null,
       "description_width": ""
      }
     },
     "6246814c866847038f453308e4c592db": {
      "model_module": "@jupyter-widgets/controls",
      "model_module_version": "2.0.0",
      "model_name": "HTMLStyleModel",
      "state": {
       "_model_module": "@jupyter-widgets/controls",
       "_model_module_version": "2.0.0",
       "_model_name": "HTMLStyleModel",
       "_view_count": null,
       "_view_module": "@jupyter-widgets/base",
       "_view_module_version": "2.0.0",
       "_view_name": "StyleView",
       "background": null,
       "description_width": "",
       "font_size": null,
       "text_color": null
      }
     },
     "6417f3d4fe1147ecabd60c18b0ed024f": {
      "model_module": "@jupyter-widgets/controls",
      "model_module_version": "2.0.0",
      "model_name": "HBoxModel",
      "state": {
       "_dom_classes": [],
       "_model_module": "@jupyter-widgets/controls",
       "_model_module_version": "2.0.0",
       "_model_name": "HBoxModel",
       "_view_count": null,
       "_view_module": "@jupyter-widgets/controls",
       "_view_module_version": "2.0.0",
       "_view_name": "HBoxView",
       "box_style": "",
       "children": [
        "IPY_MODEL_cfba62487b504f2cb22ea1080b43126a",
        "IPY_MODEL_1df947497f9246bdb843d8bff62d68a6",
        "IPY_MODEL_31da97807333409988557c433c0dea33"
       ],
       "layout": "IPY_MODEL_9f7eb3469535475eb0d122b0dd0482c1",
       "tabbable": null,
       "tooltip": null
      }
     },
     "699a6517e8b0483caa965661ec9f2bb0": {
      "model_module": "@jupyter-widgets/base",
      "model_module_version": "2.0.0",
      "model_name": "LayoutModel",
      "state": {
       "_model_module": "@jupyter-widgets/base",
       "_model_module_version": "2.0.0",
       "_model_name": "LayoutModel",
       "_view_count": null,
       "_view_module": "@jupyter-widgets/base",
       "_view_module_version": "2.0.0",
       "_view_name": "LayoutView",
       "align_content": null,
       "align_items": null,
       "align_self": null,
       "border_bottom": null,
       "border_left": null,
       "border_right": null,
       "border_top": null,
       "bottom": null,
       "display": null,
       "flex": null,
       "flex_flow": null,
       "grid_area": null,
       "grid_auto_columns": null,
       "grid_auto_flow": null,
       "grid_auto_rows": null,
       "grid_column": null,
       "grid_gap": null,
       "grid_row": null,
       "grid_template_areas": null,
       "grid_template_columns": null,
       "grid_template_rows": null,
       "height": null,
       "justify_content": null,
       "justify_items": null,
       "left": null,
       "margin": null,
       "max_height": null,
       "max_width": null,
       "min_height": null,
       "min_width": null,
       "object_fit": null,
       "object_position": null,
       "order": null,
       "overflow": null,
       "padding": null,
       "right": null,
       "top": null,
       "visibility": null,
       "width": null
      }
     },
     "7a027bb1905748cf859dd44f7c613c1e": {
      "model_module": "@jupyter-widgets/base",
      "model_module_version": "2.0.0",
      "model_name": "LayoutModel",
      "state": {
       "_model_module": "@jupyter-widgets/base",
       "_model_module_version": "2.0.0",
       "_model_name": "LayoutModel",
       "_view_count": null,
       "_view_module": "@jupyter-widgets/base",
       "_view_module_version": "2.0.0",
       "_view_name": "LayoutView",
       "align_content": null,
       "align_items": null,
       "align_self": null,
       "border_bottom": null,
       "border_left": null,
       "border_right": null,
       "border_top": null,
       "bottom": null,
       "display": "inline-flex",
       "flex": null,
       "flex_flow": "row wrap",
       "grid_area": null,
       "grid_auto_columns": null,
       "grid_auto_flow": null,
       "grid_auto_rows": null,
       "grid_column": null,
       "grid_gap": null,
       "grid_row": null,
       "grid_template_areas": null,
       "grid_template_columns": null,
       "grid_template_rows": null,
       "height": null,
       "justify_content": null,
       "justify_items": null,
       "left": null,
       "margin": null,
       "max_height": null,
       "max_width": null,
       "min_height": null,
       "min_width": null,
       "object_fit": null,
       "object_position": null,
       "order": null,
       "overflow": null,
       "padding": null,
       "right": null,
       "top": null,
       "visibility": null,
       "width": "100%"
      }
     },
     "825a73e9138c4a52bcc8f3c9c2014da1": {
      "model_module": "@jupyter-widgets/controls",
      "model_module_version": "2.0.0",
      "model_name": "ProgressStyleModel",
      "state": {
       "_model_module": "@jupyter-widgets/controls",
       "_model_module_version": "2.0.0",
       "_model_name": "ProgressStyleModel",
       "_view_count": null,
       "_view_module": "@jupyter-widgets/base",
       "_view_module_version": "2.0.0",
       "_view_name": "StyleView",
       "bar_color": null,
       "description_width": ""
      }
     },
     "902f2f296f424531ad379bd896f84be9": {
      "model_module": "@jupyter-widgets/controls",
      "model_module_version": "2.0.0",
      "model_name": "HTMLModel",
      "state": {
       "_dom_classes": [],
       "_model_module": "@jupyter-widgets/controls",
       "_model_module_version": "2.0.0",
       "_model_name": "HTMLModel",
       "_view_count": null,
       "_view_module": "@jupyter-widgets/controls",
       "_view_module_version": "2.0.0",
       "_view_name": "HTMLView",
       "description": "",
       "description_allow_html": false,
       "layout": "IPY_MODEL_be884e63ca594c9abb737ead503ac9b9",
       "placeholder": "​",
       "style": "IPY_MODEL_9feae90bc6634c29925546ee179a865a",
       "tabbable": null,
       "tooltip": null,
       "value": " 125/125 [00:00&lt;00:00, 141.90it/s]"
      }
     },
     "9077eaa39ff548e8b59e175f979bef09": {
      "model_module": "@jupyter-widgets/controls",
      "model_module_version": "2.0.0",
      "model_name": "HTMLModel",
      "state": {
       "_dom_classes": [],
       "_model_module": "@jupyter-widgets/controls",
       "_model_module_version": "2.0.0",
       "_model_name": "HTMLModel",
       "_view_count": null,
       "_view_module": "@jupyter-widgets/controls",
       "_view_module_version": "2.0.0",
       "_view_name": "HTMLView",
       "description": "",
       "description_allow_html": false,
       "layout": "IPY_MODEL_699a6517e8b0483caa965661ec9f2bb0",
       "placeholder": "​",
       "style": "IPY_MODEL_6246814c866847038f453308e4c592db",
       "tabbable": null,
       "tooltip": null,
       "value": "Testing DataLoader 0: 100%"
      }
     },
     "942fd9f1824a4bee8a771e6388f6a097": {
      "model_module": "@jupyter-widgets/controls",
      "model_module_version": "2.0.0",
      "model_name": "HBoxModel",
      "state": {
       "_dom_classes": [],
       "_model_module": "@jupyter-widgets/controls",
       "_model_module_version": "2.0.0",
       "_model_name": "HBoxModel",
       "_view_count": null,
       "_view_module": "@jupyter-widgets/controls",
       "_view_module_version": "2.0.0",
       "_view_name": "HBoxView",
       "box_style": "",
       "children": [
        "IPY_MODEL_f3527a428b324ccf932fb8aab5781662",
        "IPY_MODEL_c7fbe53c33af4f8bb49c7bd0805fe177",
        "IPY_MODEL_e3f0f959bdae4794a188a747f7864398"
       ],
       "layout": "IPY_MODEL_954dc5c43b0b46479bf0f4f3daf66f1a",
       "tabbable": null,
       "tooltip": null
      }
     },
     "954dc5c43b0b46479bf0f4f3daf66f1a": {
      "model_module": "@jupyter-widgets/base",
      "model_module_version": "2.0.0",
      "model_name": "LayoutModel",
      "state": {
       "_model_module": "@jupyter-widgets/base",
       "_model_module_version": "2.0.0",
       "_model_name": "LayoutModel",
       "_view_count": null,
       "_view_module": "@jupyter-widgets/base",
       "_view_module_version": "2.0.0",
       "_view_name": "LayoutView",
       "align_content": null,
       "align_items": null,
       "align_self": null,
       "border_bottom": null,
       "border_left": null,
       "border_right": null,
       "border_top": null,
       "bottom": null,
       "display": null,
       "flex": null,
       "flex_flow": null,
       "grid_area": null,
       "grid_auto_columns": null,
       "grid_auto_flow": null,
       "grid_auto_rows": null,
       "grid_column": null,
       "grid_gap": null,
       "grid_row": null,
       "grid_template_areas": null,
       "grid_template_columns": null,
       "grid_template_rows": null,
       "height": null,
       "justify_content": null,
       "justify_items": null,
       "left": null,
       "margin": null,
       "max_height": null,
       "max_width": null,
       "min_height": null,
       "min_width": null,
       "object_fit": null,
       "object_position": null,
       "order": null,
       "overflow": null,
       "padding": null,
       "right": null,
       "top": null,
       "visibility": null,
       "width": null
      }
     },
     "9644700dd42042608bce9610426573f6": {
      "model_module": "@jupyter-widgets/controls",
      "model_module_version": "2.0.0",
      "model_name": "HTMLStyleModel",
      "state": {
       "_model_module": "@jupyter-widgets/controls",
       "_model_module_version": "2.0.0",
       "_model_name": "HTMLStyleModel",
       "_view_count": null,
       "_view_module": "@jupyter-widgets/base",
       "_view_module_version": "2.0.0",
       "_view_name": "StyleView",
       "background": null,
       "description_width": "",
       "font_size": null,
       "text_color": null
      }
     },
     "97de4f5dabd941aba3d37c51fe8a8bb2": {
      "model_module": "@jupyter-widgets/controls",
      "model_module_version": "2.0.0",
      "model_name": "HTMLStyleModel",
      "state": {
       "_model_module": "@jupyter-widgets/controls",
       "_model_module_version": "2.0.0",
       "_model_name": "HTMLStyleModel",
       "_view_count": null,
       "_view_module": "@jupyter-widgets/base",
       "_view_module_version": "2.0.0",
       "_view_name": "StyleView",
       "background": null,
       "description_width": "",
       "font_size": null,
       "text_color": null
      }
     },
     "9f7eb3469535475eb0d122b0dd0482c1": {
      "model_module": "@jupyter-widgets/base",
      "model_module_version": "2.0.0",
      "model_name": "LayoutModel",
      "state": {
       "_model_module": "@jupyter-widgets/base",
       "_model_module_version": "2.0.0",
       "_model_name": "LayoutModel",
       "_view_count": null,
       "_view_module": "@jupyter-widgets/base",
       "_view_module_version": "2.0.0",
       "_view_name": "LayoutView",
       "align_content": null,
       "align_items": null,
       "align_self": null,
       "border_bottom": null,
       "border_left": null,
       "border_right": null,
       "border_top": null,
       "bottom": null,
       "display": "inline-flex",
       "flex": null,
       "flex_flow": "row wrap",
       "grid_area": null,
       "grid_auto_columns": null,
       "grid_auto_flow": null,
       "grid_auto_rows": null,
       "grid_column": null,
       "grid_gap": null,
       "grid_row": null,
       "grid_template_areas": null,
       "grid_template_columns": null,
       "grid_template_rows": null,
       "height": null,
       "justify_content": null,
       "justify_items": null,
       "left": null,
       "margin": null,
       "max_height": null,
       "max_width": null,
       "min_height": null,
       "min_width": null,
       "object_fit": null,
       "object_position": null,
       "order": null,
       "overflow": null,
       "padding": null,
       "right": null,
       "top": null,
       "visibility": null,
       "width": "100%"
      }
     },
     "9feae90bc6634c29925546ee179a865a": {
      "model_module": "@jupyter-widgets/controls",
      "model_module_version": "2.0.0",
      "model_name": "HTMLStyleModel",
      "state": {
       "_model_module": "@jupyter-widgets/controls",
       "_model_module_version": "2.0.0",
       "_model_name": "HTMLStyleModel",
       "_view_count": null,
       "_view_module": "@jupyter-widgets/base",
       "_view_module_version": "2.0.0",
       "_view_name": "StyleView",
       "background": null,
       "description_width": "",
       "font_size": null,
       "text_color": null
      }
     },
     "b8e57bc58e744faaacf8f706bbf208e0": {
      "model_module": "@jupyter-widgets/controls",
      "model_module_version": "2.0.0",
      "model_name": "ProgressStyleModel",
      "state": {
       "_model_module": "@jupyter-widgets/controls",
       "_model_module_version": "2.0.0",
       "_model_name": "ProgressStyleModel",
       "_view_count": null,
       "_view_module": "@jupyter-widgets/base",
       "_view_module_version": "2.0.0",
       "_view_name": "StyleView",
       "bar_color": null,
       "description_width": ""
      }
     },
     "be884e63ca594c9abb737ead503ac9b9": {
      "model_module": "@jupyter-widgets/base",
      "model_module_version": "2.0.0",
      "model_name": "LayoutModel",
      "state": {
       "_model_module": "@jupyter-widgets/base",
       "_model_module_version": "2.0.0",
       "_model_name": "LayoutModel",
       "_view_count": null,
       "_view_module": "@jupyter-widgets/base",
       "_view_module_version": "2.0.0",
       "_view_name": "LayoutView",
       "align_content": null,
       "align_items": null,
       "align_self": null,
       "border_bottom": null,
       "border_left": null,
       "border_right": null,
       "border_top": null,
       "bottom": null,
       "display": null,
       "flex": null,
       "flex_flow": null,
       "grid_area": null,
       "grid_auto_columns": null,
       "grid_auto_flow": null,
       "grid_auto_rows": null,
       "grid_column": null,
       "grid_gap": null,
       "grid_row": null,
       "grid_template_areas": null,
       "grid_template_columns": null,
       "grid_template_rows": null,
       "height": null,
       "justify_content": null,
       "justify_items": null,
       "left": null,
       "margin": null,
       "max_height": null,
       "max_width": null,
       "min_height": null,
       "min_width": null,
       "object_fit": null,
       "object_position": null,
       "order": null,
       "overflow": null,
       "padding": null,
       "right": null,
       "top": null,
       "visibility": null,
       "width": null
      }
     },
     "c3cd8cfd3f8940f9a8cbf6706fbbbed1": {
      "model_module": "@jupyter-widgets/controls",
      "model_module_version": "2.0.0",
      "model_name": "FloatProgressModel",
      "state": {
       "_dom_classes": [],
       "_model_module": "@jupyter-widgets/controls",
       "_model_module_version": "2.0.0",
       "_model_name": "FloatProgressModel",
       "_view_count": null,
       "_view_module": "@jupyter-widgets/controls",
       "_view_module_version": "2.0.0",
       "_view_name": "ProgressView",
       "bar_style": "success",
       "description": "",
       "description_allow_html": false,
       "layout": "IPY_MODEL_2db79c8a15b34955963e20711b79c877",
       "max": 125,
       "min": 0,
       "orientation": "horizontal",
       "style": "IPY_MODEL_b8e57bc58e744faaacf8f706bbf208e0",
       "tabbable": null,
       "tooltip": null,
       "value": 125
      }
     },
     "c79cf6242bbd482a8fc677bd4138a509": {
      "model_module": "@jupyter-widgets/base",
      "model_module_version": "2.0.0",
      "model_name": "LayoutModel",
      "state": {
       "_model_module": "@jupyter-widgets/base",
       "_model_module_version": "2.0.0",
       "_model_name": "LayoutModel",
       "_view_count": null,
       "_view_module": "@jupyter-widgets/base",
       "_view_module_version": "2.0.0",
       "_view_name": "LayoutView",
       "align_content": null,
       "align_items": null,
       "align_self": null,
       "border_bottom": null,
       "border_left": null,
       "border_right": null,
       "border_top": null,
       "bottom": null,
       "display": null,
       "flex": null,
       "flex_flow": null,
       "grid_area": null,
       "grid_auto_columns": null,
       "grid_auto_flow": null,
       "grid_auto_rows": null,
       "grid_column": null,
       "grid_gap": null,
       "grid_row": null,
       "grid_template_areas": null,
       "grid_template_columns": null,
       "grid_template_rows": null,
       "height": null,
       "justify_content": null,
       "justify_items": null,
       "left": null,
       "margin": null,
       "max_height": null,
       "max_width": null,
       "min_height": null,
       "min_width": null,
       "object_fit": null,
       "object_position": null,
       "order": null,
       "overflow": null,
       "padding": null,
       "right": null,
       "top": null,
       "visibility": null,
       "width": null
      }
     },
     "c7fbe53c33af4f8bb49c7bd0805fe177": {
      "model_module": "@jupyter-widgets/controls",
      "model_module_version": "2.0.0",
      "model_name": "FloatProgressModel",
      "state": {
       "_dom_classes": [],
       "_model_module": "@jupyter-widgets/controls",
       "_model_module_version": "2.0.0",
       "_model_name": "FloatProgressModel",
       "_view_count": null,
       "_view_module": "@jupyter-widgets/controls",
       "_view_module_version": "2.0.0",
       "_view_name": "ProgressView",
       "bar_style": "success",
       "description": "",
       "description_allow_html": false,
       "layout": "IPY_MODEL_1bee531809be408983b37397d7670e1e",
       "max": 79,
       "min": 0,
       "orientation": "horizontal",
       "style": "IPY_MODEL_525589d0c5414bb6bbea67eabe6717d7",
       "tabbable": null,
       "tooltip": null,
       "value": 79
      }
     },
     "cfba62487b504f2cb22ea1080b43126a": {
      "model_module": "@jupyter-widgets/controls",
      "model_module_version": "2.0.0",
      "model_name": "HTMLModel",
      "state": {
       "_dom_classes": [],
       "_model_module": "@jupyter-widgets/controls",
       "_model_module_version": "2.0.0",
       "_model_name": "HTMLModel",
       "_view_count": null,
       "_view_module": "@jupyter-widgets/controls",
       "_view_module_version": "2.0.0",
       "_view_name": "HTMLView",
       "description": "",
       "description_allow_html": false,
       "layout": "IPY_MODEL_fd5ad5c518c545b29288bfa672253c60",
       "placeholder": "​",
       "style": "IPY_MODEL_47f19c8291ed482893ba5a9831906510",
       "tabbable": null,
       "tooltip": null,
       "value": "Testing DataLoader 0: 100%"
      }
     },
     "d9b00aa8f6b742c0b36243123fc4de73": {
      "model_module": "@jupyter-widgets/controls",
      "model_module_version": "2.0.0",
      "model_name": "HTMLModel",
      "state": {
       "_dom_classes": [],
       "_model_module": "@jupyter-widgets/controls",
       "_model_module_version": "2.0.0",
       "_model_name": "HTMLModel",
       "_view_count": null,
       "_view_module": "@jupyter-widgets/controls",
       "_view_module_version": "2.0.0",
       "_view_name": "HTMLView",
       "description": "",
       "description_allow_html": false,
       "layout": "IPY_MODEL_f62ba312cf654f1f94515e1243d010a6",
       "placeholder": "​",
       "style": "IPY_MODEL_14ee7ffc561f4de3a7238d7ccf0be65b",
       "tabbable": null,
       "tooltip": null,
       "value": "100%"
      }
     },
     "dd3dbda4c0224dc3afa87dee9788995c": {
      "model_module": "@jupyter-widgets/base",
      "model_module_version": "2.0.0",
      "model_name": "LayoutModel",
      "state": {
       "_model_module": "@jupyter-widgets/base",
       "_model_module_version": "2.0.0",
       "_model_name": "LayoutModel",
       "_view_count": null,
       "_view_module": "@jupyter-widgets/base",
       "_view_module_version": "2.0.0",
       "_view_name": "LayoutView",
       "align_content": null,
       "align_items": null,
       "align_self": null,
       "border_bottom": null,
       "border_left": null,
       "border_right": null,
       "border_top": null,
       "bottom": null,
       "display": null,
       "flex": null,
       "flex_flow": null,
       "grid_area": null,
       "grid_auto_columns": null,
       "grid_auto_flow": null,
       "grid_auto_rows": null,
       "grid_column": null,
       "grid_gap": null,
       "grid_row": null,
       "grid_template_areas": null,
       "grid_template_columns": null,
       "grid_template_rows": null,
       "height": null,
       "justify_content": null,
       "justify_items": null,
       "left": null,
       "margin": null,
       "max_height": null,
       "max_width": null,
       "min_height": null,
       "min_width": null,
       "object_fit": null,
       "object_position": null,
       "order": null,
       "overflow": null,
       "padding": null,
       "right": null,
       "top": null,
       "visibility": null,
       "width": null
      }
     },
     "e3f0f959bdae4794a188a747f7864398": {
      "model_module": "@jupyter-widgets/controls",
      "model_module_version": "2.0.0",
      "model_name": "HTMLModel",
      "state": {
       "_dom_classes": [],
       "_model_module": "@jupyter-widgets/controls",
       "_model_module_version": "2.0.0",
       "_model_name": "HTMLModel",
       "_view_count": null,
       "_view_module": "@jupyter-widgets/controls",
       "_view_module_version": "2.0.0",
       "_view_name": "HTMLView",
       "description": "",
       "description_allow_html": false,
       "layout": "IPY_MODEL_c79cf6242bbd482a8fc677bd4138a509",
       "placeholder": "​",
       "style": "IPY_MODEL_3cd3c14d9395491084de9d55a34ee9df",
       "tabbable": null,
       "tooltip": null,
       "value": " 79/79 [00:03&lt;00:00, 53.12it/s]"
      }
     },
     "e6a44042b78c442ca8d44d960f52d9fd": {
      "model_module": "@jupyter-widgets/controls",
      "model_module_version": "2.0.0",
      "model_name": "HBoxModel",
      "state": {
       "_dom_classes": [],
       "_model_module": "@jupyter-widgets/controls",
       "_model_module_version": "2.0.0",
       "_model_name": "HBoxModel",
       "_view_count": null,
       "_view_module": "@jupyter-widgets/controls",
       "_view_module_version": "2.0.0",
       "_view_name": "HBoxView",
       "box_style": "",
       "children": [
        "IPY_MODEL_9077eaa39ff548e8b59e175f979bef09",
        "IPY_MODEL_c3cd8cfd3f8940f9a8cbf6706fbbbed1",
        "IPY_MODEL_902f2f296f424531ad379bd896f84be9"
       ],
       "layout": "IPY_MODEL_7a027bb1905748cf859dd44f7c613c1e",
       "tabbable": null,
       "tooltip": null
      }
     },
     "f3527a428b324ccf932fb8aab5781662": {
      "model_module": "@jupyter-widgets/controls",
      "model_module_version": "2.0.0",
      "model_name": "HTMLModel",
      "state": {
       "_dom_classes": [],
       "_model_module": "@jupyter-widgets/controls",
       "_model_module_version": "2.0.0",
       "_model_name": "HTMLModel",
       "_view_count": null,
       "_view_module": "@jupyter-widgets/controls",
       "_view_module_version": "2.0.0",
       "_view_name": "HTMLView",
       "description": "",
       "description_allow_html": false,
       "layout": "IPY_MODEL_f9ed27ff930442dc84b674ed141f3a69",
       "placeholder": "​",
       "style": "IPY_MODEL_9644700dd42042608bce9610426573f6",
       "tabbable": null,
       "tooltip": null,
       "value": "100%"
      }
     },
     "f62ba312cf654f1f94515e1243d010a6": {
      "model_module": "@jupyter-widgets/base",
      "model_module_version": "2.0.0",
      "model_name": "LayoutModel",
      "state": {
       "_model_module": "@jupyter-widgets/base",
       "_model_module_version": "2.0.0",
       "_model_name": "LayoutModel",
       "_view_count": null,
       "_view_module": "@jupyter-widgets/base",
       "_view_module_version": "2.0.0",
       "_view_name": "LayoutView",
       "align_content": null,
       "align_items": null,
       "align_self": null,
       "border_bottom": null,
       "border_left": null,
       "border_right": null,
       "border_top": null,
       "bottom": null,
       "display": null,
       "flex": null,
       "flex_flow": null,
       "grid_area": null,
       "grid_auto_columns": null,
       "grid_auto_flow": null,
       "grid_auto_rows": null,
       "grid_column": null,
       "grid_gap": null,
       "grid_row": null,
       "grid_template_areas": null,
       "grid_template_columns": null,
       "grid_template_rows": null,
       "height": null,
       "justify_content": null,
       "justify_items": null,
       "left": null,
       "margin": null,
       "max_height": null,
       "max_width": null,
       "min_height": null,
       "min_width": null,
       "object_fit": null,
       "object_position": null,
       "order": null,
       "overflow": null,
       "padding": null,
       "right": null,
       "top": null,
       "visibility": null,
       "width": null
      }
     },
     "f9ed27ff930442dc84b674ed141f3a69": {
      "model_module": "@jupyter-widgets/base",
      "model_module_version": "2.0.0",
      "model_name": "LayoutModel",
      "state": {
       "_model_module": "@jupyter-widgets/base",
       "_model_module_version": "2.0.0",
       "_model_name": "LayoutModel",
       "_view_count": null,
       "_view_module": "@jupyter-widgets/base",
       "_view_module_version": "2.0.0",
       "_view_name": "LayoutView",
       "align_content": null,
       "align_items": null,
       "align_self": null,
       "border_bottom": null,
       "border_left": null,
       "border_right": null,
       "border_top": null,
       "bottom": null,
       "display": null,
       "flex": null,
       "flex_flow": null,
       "grid_area": null,
       "grid_auto_columns": null,
       "grid_auto_flow": null,
       "grid_auto_rows": null,
       "grid_column": null,
       "grid_gap": null,
       "grid_row": null,
       "grid_template_areas": null,
       "grid_template_columns": null,
       "grid_template_rows": null,
       "height": null,
       "justify_content": null,
       "justify_items": null,
       "left": null,
       "margin": null,
       "max_height": null,
       "max_width": null,
       "min_height": null,
       "min_width": null,
       "object_fit": null,
       "object_position": null,
       "order": null,
       "overflow": null,
       "padding": null,
       "right": null,
       "top": null,
       "visibility": null,
       "width": null
      }
     },
     "fa28a7d1a35d44cfbe0ac4c509689d55": {
      "model_module": "@jupyter-widgets/base",
      "model_module_version": "2.0.0",
      "model_name": "LayoutModel",
      "state": {
       "_model_module": "@jupyter-widgets/base",
       "_model_module_version": "2.0.0",
       "_model_name": "LayoutModel",
       "_view_count": null,
       "_view_module": "@jupyter-widgets/base",
       "_view_module_version": "2.0.0",
       "_view_name": "LayoutView",
       "align_content": null,
       "align_items": null,
       "align_self": null,
       "border_bottom": null,
       "border_left": null,
       "border_right": null,
       "border_top": null,
       "bottom": null,
       "display": null,
       "flex": "2",
       "flex_flow": null,
       "grid_area": null,
       "grid_auto_columns": null,
       "grid_auto_flow": null,
       "grid_auto_rows": null,
       "grid_column": null,
       "grid_gap": null,
       "grid_row": null,
       "grid_template_areas": null,
       "grid_template_columns": null,
       "grid_template_rows": null,
       "height": null,
       "justify_content": null,
       "justify_items": null,
       "left": null,
       "margin": null,
       "max_height": null,
       "max_width": null,
       "min_height": null,
       "min_width": null,
       "object_fit": null,
       "object_position": null,
       "order": null,
       "overflow": null,
       "padding": null,
       "right": null,
       "top": null,
       "visibility": null,
       "width": null
      }
     },
     "fa8afdd79868440a8c89d7aa71628ac7": {
      "model_module": "@jupyter-widgets/controls",
      "model_module_version": "2.0.0",
      "model_name": "FloatProgressModel",
      "state": {
       "_dom_classes": [],
       "_model_module": "@jupyter-widgets/controls",
       "_model_module_version": "2.0.0",
       "_model_name": "FloatProgressModel",
       "_view_count": null,
       "_view_module": "@jupyter-widgets/controls",
       "_view_module_version": "2.0.0",
       "_view_name": "ProgressView",
       "bar_style": "success",
       "description": "",
       "description_allow_html": false,
       "layout": "IPY_MODEL_dd3dbda4c0224dc3afa87dee9788995c",
       "max": 125,
       "min": 0,
       "orientation": "horizontal",
       "style": "IPY_MODEL_028fa3950cde4361a023b5063df994b1",
       "tabbable": null,
       "tooltip": null,
       "value": 125
      }
     },
     "fd5ad5c518c545b29288bfa672253c60": {
      "model_module": "@jupyter-widgets/base",
      "model_module_version": "2.0.0",
      "model_name": "LayoutModel",
      "state": {
       "_model_module": "@jupyter-widgets/base",
       "_model_module_version": "2.0.0",
       "_model_name": "LayoutModel",
       "_view_count": null,
       "_view_module": "@jupyter-widgets/base",
       "_view_module_version": "2.0.0",
       "_view_name": "LayoutView",
       "align_content": null,
       "align_items": null,
       "align_self": null,
       "border_bottom": null,
       "border_left": null,
       "border_right": null,
       "border_top": null,
       "bottom": null,
       "display": null,
       "flex": null,
       "flex_flow": null,
       "grid_area": null,
       "grid_auto_columns": null,
       "grid_auto_flow": null,
       "grid_auto_rows": null,
       "grid_column": null,
       "grid_gap": null,
       "grid_row": null,
       "grid_template_areas": null,
       "grid_template_columns": null,
       "grid_template_rows": null,
       "height": null,
       "justify_content": null,
       "justify_items": null,
       "left": null,
       "margin": null,
       "max_height": null,
       "max_width": null,
       "min_height": null,
       "min_width": null,
       "object_fit": null,
       "object_position": null,
       "order": null,
       "overflow": null,
       "padding": null,
       "right": null,
       "top": null,
       "visibility": null,
       "width": null
      }
     }
    },
    "version_major": 2,
    "version_minor": 0
   }
  }
 },
 "nbformat": 4,
 "nbformat_minor": 5
}
