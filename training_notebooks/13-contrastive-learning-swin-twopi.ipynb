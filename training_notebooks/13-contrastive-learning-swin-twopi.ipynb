{
 "cells": [
  {
   "cell_type": "markdown",
   "id": "4f4e8864",
   "metadata": {
    "papermill": {
     "duration": 0.016955,
     "end_time": "2023-10-12T10:07:26.829381",
     "exception": false,
     "start_time": "2023-10-12T10:07:26.812426",
     "status": "completed"
    },
    "tags": []
   },
   "source": [
    "\n",
    "# Tutorial 13: Self-Supervised Contrastive Learning with SimCLR\n",
    "\n",
    "* **Author:** Phillip Lippe\n",
    "* **License:** CC BY-SA\n",
    "* **Generated:** 2023-10-12T10:05:10.778217\n",
    "\n",
    "In this tutorial, we will take a closer look at self-supervised contrastive learning.\n",
    "Self-supervised learning, or also sometimes called unsupervised learning, describes the scenario where we have given input data, but no accompanying labels to train in a classical supervised way.\n",
    "However, this data still contains a lot of information from which we can learn: how are the images different from each other?\n",
    "What patterns are descriptive for certain images?\n",
    "Can we cluster the images?\n",
    "To get an insight into these questions, we will implement a popular, simple contrastive learning method, SimCLR, and apply it to the STL10 dataset.\n",
    "This notebook is part of a lecture series on Deep Learning at the University of Amsterdam.\n",
    "The full list of tutorials can be found at https://uvadlc-notebooks.rtfd.io.\n",
    "\n",
    "\n",
    "---\n",
    "Open in [![Open In Colab](data:image/png;base64,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){height=\"20px\" width=\"117px\"}](https://colab.research.google.com/github/PytorchLightning/lightning-tutorials/blob/publication/.notebooks/course_UvA-DL/13-contrastive-learning.ipynb)\n",
    "\n",
    "Give us a ⭐ [on Github](https://www.github.com/Lightning-AI/lightning/)\n",
    "| Check out [the documentation](https://pytorch-lightning.readthedocs.io/en/stable/)\n",
    "| Join us [on Slack](https://www.pytorchlightning.ai/community)"
   ]
  },
  {
   "cell_type": "markdown",
   "id": "2a6eb697",
   "metadata": {
    "papermill": {
     "duration": 0.014639,
     "end_time": "2023-10-12T10:07:26.859268",
     "exception": false,
     "start_time": "2023-10-12T10:07:26.844629",
     "status": "completed"
    },
    "tags": []
   },
   "source": [
    "## Setup\n",
    "This notebook requires some packages besides pytorch-lightning."
   ]
  },
  {
   "cell_type": "markdown",
   "id": "51133008",
   "metadata": {
    "papermill": {
     "duration": 0.015111,
     "end_time": "2023-10-12T10:09:05.667755",
     "exception": false,
     "start_time": "2023-10-12T10:09:05.652644",
     "status": "completed"
    },
    "tags": []
   },
   "source": [
    "<div class=\"center-wrapper\"><div class=\"video-wrapper\"><iframe src=\"https://www.youtube.com/embed/waVZDFR-06U\" title=\"YouTube video player\" frameborder=\"0\" allow=\"accelerometer; autoplay; clipboard-write; encrypted-media; gyroscope; picture-in-picture\" allowfullscreen></iframe></div></div>\n",
    "Methods for self-supervised learning try to learn as much as possible from the data alone, so it can quickly be finetuned for a specific classification task.\n",
    "The benefit of self-supervised learning is that a large dataset can often easily be obtained.\n",
    "For instance, if we want to train a vision model on semantic segmentation for autonomous driving, we can collect large amounts of data by simply installing a camera in a car, and driving through a city for an hour.\n",
    "In contrast, if we would want to do supervised learning, we would have to manually label all those images before training a model.\n",
    "This is extremely expensive, and would likely take a couple of months to manually label the same amount of data.\n",
    "Further, self-supervised learning can provide an alternative to transfer learning from models pretrained on ImageNet since we could pretrain a model on a specific dataset/situation, e.g. traffic scenarios for autonomous driving.\n",
    "\n",
    "Within the last two years, a lot of new approaches have been proposed for self-supervised learning, in particular for images, that have resulted in great improvements over supervised models when few labels are available.\n",
    "The subfield that we will focus on in this tutorial is contrastive learning.\n",
    "Contrastive learning is motivated by the question mentioned above: how are images different from each other?\n",
    "Specifically, contrastive learning methods train a model to cluster an image and its slightly augmented version in latent space, while the distance to other images should be maximized.\n",
    "A very recent and simple method for this is [SimCLR](https://arxiv.org/abs/2006.10029), which is visualized below (figure credit - [Ting Chen et al. ](https://simclr.github.io/)).\n",
    "\n",
    "The general setup is that we are given a dataset of images without any labels, and want to train a model on this data such that it can quickly adapt to any image recognition task afterward.\n",
    "During each training iteration, we sample a batch of images as usual.\n",
    "For each image, we create two versions by applying data augmentation techniques like cropping, Gaussian noise, blurring, etc.\n",
    "An example of such is shown on the left with the image of the dog.\n",
    "We will go into the details and effects of the chosen augmentation techniques later.\n",
    "On those images, we apply a CNN like ResNet and obtain as output a 1D feature vector on which we apply a small MLP.\n",
    "The output features of the two augmented images are then trained to be close to each other, while all other images in that batch should be as different as possible.\n",
    "This way, the model has to learn to recognize the content of the image that remains unchanged under the data augmentations, such as objects which we usually care about in supervised tasks.\n",
    "\n",
    "We will now implement this framework ourselves and discuss further details along the way.\n",
    "Let's first start with importing our standard libraries below:"
   ]
  },
  {
   "cell_type": "code",
   "execution_count": 75,
   "id": "0d69e5b3",
   "metadata": {
    "papermill": {
     "duration": 4.46387,
     "end_time": "2023-10-12T10:09:10.146466",
     "exception": false,
     "start_time": "2023-10-12T10:09:05.682596",
     "status": "completed"
    },
    "tags": []
   },
   "outputs": [
    {
     "name": "stderr",
     "output_type": "stream",
     "text": [
      "Seed set to 42\n"
     ]
    },
    {
     "name": "stdout",
     "output_type": "stream",
     "text": [
      "The tensorboard extension is already loaded. To reload it, use:\n",
      "  %reload_ext tensorboard\n",
      "Device: cuda:0\n",
      "Number of workers: 80\n"
     ]
    },
    {
     "data": {
      "text/plain": [
       "<Figure size 640x480 with 0 Axes>"
      ]
     },
     "metadata": {},
     "output_type": "display_data"
    }
   ],
   "source": [
    "import os\n",
    "import urllib.request\n",
    "from copy import deepcopy\n",
    "from urllib.error import HTTPError\n",
    "\n",
    "import lightning as L\n",
    "import matplotlib\n",
    "import matplotlib.pyplot as plt\n",
    "import matplotlib_inline.backend_inline\n",
    "import seaborn as sns\n",
    "import torch\n",
    "import torch.nn as nn\n",
    "import torch.nn.functional as F\n",
    "import torch.optim as optim\n",
    "import torch.utils.data as data\n",
    "import torchvision\n",
    "from lightning.pytorch.callbacks import LearningRateMonitor, ModelCheckpoint\n",
    "from torchvision import transforms\n",
    "from datasets import load_dataset\n",
    "from tqdm.notebook import tqdm\n",
    "\n",
    "plt.set_cmap(\"cividis\")\n",
    "%matplotlib inline\n",
    "matplotlib_inline.backend_inline.set_matplotlib_formats(\"svg\", \"pdf\")  # For export\n",
    "matplotlib.rcParams[\"lines.linewidth\"] = 2.0\n",
    "sns.set()\n",
    "\n",
    "# Import tensorboard\n",
    "%load_ext tensorboard\n",
    "\n",
    "# Path to the folder where the datasets are/should be downloaded (e.g. CIFAR10)\n",
    "DATASET_PATH = os.environ.get(\"PATH_DATASETS\", \"data/\")\n",
    "# Path to the folder where the pretrained models are saved\n",
    "CHECKPOINT_PATH = os.environ.get(\"PATH_CHECKPOINT\", \"saved_models/ContrastiveLearning_graphimages-twopi/\")\n",
    "# In this notebook, we use data loaders with heavier computational processing. It is recommended to use as many\n",
    "# workers as possible in a data loader, which corresponds to the number of CPU cores\n",
    "NUM_WORKERS = os.cpu_count()\n",
    "\n",
    "MODEL=\"microsoft/swinv2-tiny-patch4-window8-256\"\n",
    "\n",
    "# Setting the seed\n",
    "L.seed_everything(42)\n",
    "\n",
    "# Ensure that all operations are deterministic on GPU (if used) for reproducibility\n",
    "torch.backends.cudnn.deterministic = True\n",
    "torch.backends.cudnn.benchmark = False\n",
    "\n",
    "device = torch.device(\"cuda:0\") if torch.cuda.is_available() else torch.device(\"cpu\")\n",
    "print(\"Device:\", device)\n",
    "print(\"Number of workers:\", NUM_WORKERS)"
   ]
  },
  {
   "cell_type": "markdown",
   "id": "b5fbec88",
   "metadata": {
    "papermill": {
     "duration": 0.018954,
     "end_time": "2023-10-12T10:09:13.327903",
     "exception": false,
     "start_time": "2023-10-12T10:09:13.308949",
     "status": "completed"
    },
    "tags": []
   },
   "source": [
    "## SimCLR\n",
    "\n",
    "We will start our exploration of contrastive learning by discussing the effect of different data augmentation techniques, and how we can implement an efficient data loader for such.\n",
    "Next, we implement SimCLR with PyTorch Lightning, and finally train it on a large, unlabeled dataset."
   ]
  },
  {
   "cell_type": "markdown",
   "id": "698f3baa",
   "metadata": {
    "lines_to_next_cell": 2,
    "papermill": {
     "duration": 0.015959,
     "end_time": "2023-10-12T10:09:13.363188",
     "exception": false,
     "start_time": "2023-10-12T10:09:13.347229",
     "status": "completed"
    },
    "tags": []
   },
   "source": [
    "### Data Augmentation for Contrastive Learning\n",
    "\n",
    "To allow efficient training, we need to prepare the data loading such that we sample two different, random augmentations for each image in the batch.\n",
    "The easiest way to do this is by creating a transformation that, when being called, applies a set of data augmentations to an image twice.\n",
    "This is implemented in the class `ContrastiveTransformations` below:"
   ]
  },
  {
   "cell_type": "markdown",
   "id": "cbecb8dc",
   "metadata": {
    "papermill": {
     "duration": 0.016143,
     "end_time": "2023-10-12T10:09:13.435673",
     "exception": false,
     "start_time": "2023-10-12T10:09:13.419530",
     "status": "completed"
    },
    "tags": []
   },
   "source": [
    "The contrastive learning framework can easily be extended to have more _positive_ examples by sampling more than two augmentations of the same image.\n",
    "However, the most efficient training is usually obtained by using only two.\n",
    "\n",
    "Next, we can look at the specific augmentations we want to apply.\n",
    "The choice of the data augmentation to use is the most crucial hyperparameter in SimCLR since it directly affects how the latent space is structured, and what patterns might be learned from the data.\n",
    "Let's first take a look at some of the most popular data augmentations (figure credit - [Ting Chen and Geoffrey Hinton](https://ai.googleblog.com/2020/04/advancing-self-supervised-and-semi.html)):\n",
    "\n",
    "<center width=\"100%\"><img src=\"https://github.com/Lightning-AI/lightning-tutorials/raw/main/course_UvA-DL/13-contrastive-learning/simclr_data_augmentations.jpg\" width=\"800px\" style=\"padding-top: 10px; padding-bottom: 10px\"></center>\n",
    "\n",
    "All of them can be used, but it turns out that two augmentations stand out in their importance: crop-and-resize, and color distortion.\n",
    "Interestingly, however, they only lead to strong performance if they have been used together as discussed by [Ting Chen et al. ](https://arxiv.org/abs/2006.10029) in their SimCLR paper.\n",
    "When performing randomly cropping and resizing, we can distinguish between two situations: (a) cropped image A provides a local view of cropped image B, or (b) cropped images C and D show neighboring views of the same image (figure credit - [Ting Chen and Geoffrey Hinton](https://ai.googleblog.com/2020/04/advancing-self-supervised-and-semi.html)).\n",
    "\n",
    "<center width=\"100%\"><img src=\"https://github.com/Lightning-AI/lightning-tutorials/raw/main/course_UvA-DL/13-contrastive-learning/crop_views.svg\" width=\"400px\" style=\"padding-top: 20px; padding-bottom: 0px\"></center>\n",
    "\n",
    "While situation (a) requires the model to learn some sort of scale invariance to make crops A and B similar in latent space, situation (b) is more challenging since the model needs to recognize an object beyond its limited view.\n",
    "However, without color distortion, there is a loophole that the model can exploit, namely that different crops of the same image usually look very similar in color space.\n",
    "Consider the picture of the dog above.\n",
    "Simply from the color of the fur and the green color tone of the background, you can reason that two patches belong to the same image without actually recognizing the dog in the picture.\n",
    "In this case, the model might end up focusing only on the color histograms of the images, and ignore other more generalizable features.\n",
    "If, however, we distort the colors in the two patches randomly and independently of each other, the model cannot rely on this simple feature anymore.\n",
    "Hence, by combining random cropping and color distortions, the model can only match two patches by learning generalizable representations.\n",
    "\n",
    "Overall, for our experiments, we apply a set of 5 transformations following the original SimCLR setup: random horizontal flip, crop-and-resize, color distortion, random grayscale, and gaussian blur.\n",
    "In comparison to the [original implementation](https://github.com/google-research/simclr), we reduce the effect of the color jitter slightly (0.5 instead of 0.8 for brightness, contrast, and saturation, and 0.1 instead of 0.2 for hue).\n",
    "In our experiments, this setting obtained better performance and was faster and more stable to train.\n",
    "If, for instance, the brightness scale highly varies in a dataset, the\n",
    "original settings can be more beneficial since the model can't rely on\n",
    "this information anymore to distinguish between images."
   ]
  },
  {
   "cell_type": "code",
   "execution_count": 76,
   "id": "bb242433",
   "metadata": {
    "papermill": {
     "duration": 0.023915,
     "end_time": "2023-10-12T10:09:13.475613",
     "exception": false,
     "start_time": "2023-10-12T10:09:13.451698",
     "status": "completed"
    },
    "tags": []
   },
   "outputs": [],
   "source": [
    "contrast_transforms = transforms.Compose(\n",
    "    [\n",
    "        transforms.RandomHorizontalFlip(),\n",
    "        #transforms.RandomResizedCrop(size=256),\n",
    "        transforms.RandomApply([transforms.ColorJitter(brightness=0.5, contrast=0.5, saturation=0.5, hue=0.1)], p=0.8),\n",
    "        transforms.RandomGrayscale(p=0.2),\n",
    "        transforms.GaussianBlur(kernel_size=9)\n",
    "    ]\n",
    ")"
   ]
  },
  {
   "cell_type": "markdown",
   "id": "66904433",
   "metadata": {
    "papermill": {
     "duration": 0.015605,
     "end_time": "2023-10-12T10:09:13.512857",
     "exception": false,
     "start_time": "2023-10-12T10:09:13.497252",
     "status": "completed"
    },
    "tags": []
   },
   "source": [
    "After discussing the data augmentation techniques, we can now focus on the dataset.\n",
    "In this tutorial, we will use the [STL10 dataset](https://cs.stanford.edu/~acoates/stl10/), which, similarly to CIFAR10, contains images of 10 classes: airplane, bird, car, cat, deer, dog, horse, monkey, ship, truck.\n",
    "However, the images have a higher resolution, namely $96\\times 96$ pixels, and we are only provided with 500 labeled images per class.\n",
    "Additionally, we have a much larger set of $100,000$ unlabeled images which are similar to the training images but are sampled from a wider range of animals and vehicles.\n",
    "This makes the dataset ideal to showcase the benefits that self-supervised learning offers.\n",
    "\n",
    "Luckily, the STL10 dataset is provided through torchvision.\n",
    "Keep in mind, however, that since this dataset is relatively large and has a considerably higher resolution than CIFAR10, it requires more disk space (~3GB) and takes a bit of time to download.\n",
    "For our initial discussion of self-supervised learning and SimCLR, we\n",
    "will create two data loaders with our contrastive transformations above:\n",
    "the `unlabeled_data` will be used to train our model via contrastive\n",
    "learning, and `train_data_contrast` will be used as a validation set in\n",
    "contrastive learning."
   ]
  },
  {
   "cell_type": "code",
   "execution_count": 77,
   "id": "619ff62a-a234-4233-8884-89f0853e22e6",
   "metadata": {},
   "outputs": [
    {
     "name": "stderr",
     "output_type": "stream",
     "text": [
      "Could not find image processor class in the image processor config or the model config. Loading based on pattern matching with the model's feature extractor configuration.\n"
     ]
    }
   ],
   "source": [
    "from transformers import AutoImageProcessor\n",
    "processor = AutoImageProcessor.from_pretrained(MODEL)\n",
    "\n",
    "def create_views(x, base_transforms, n_views):\n",
    "    return torch.cat([processor(base_transforms(x.convert(\"RGB\")), return_tensors=\"pt\")[\"pixel_values\"] for i in range(n_views)])\n",
    "    \n",
    "def apply_transforms(examples):\n",
    "    examples[\"pixel_values\"] = [create_views(x, contrast_transforms, 2) for x in examples[\"image\"]]\n",
    "    return examples"
   ]
  },
  {
   "cell_type": "code",
   "execution_count": 78,
   "id": "d7641d92",
   "metadata": {
    "papermill": {
     "duration": 469.970451,
     "end_time": "2023-10-12T10:17:03.500908",
     "exception": false,
     "start_time": "2023-10-12T10:09:13.530457",
     "status": "completed"
    },
    "tags": []
   },
   "outputs": [],
   "source": [
    "ds = load_dataset(\"kblw/graphimages_twopi\", split=\"train\")\n",
    "ds = ds.train_test_split(test_size=0.1, shuffle=True)\n",
    "ds.set_transform(apply_transforms)\n",
    "unlabeled_data = ds[\"train\"]\n",
    "train_data_contrast = ds[\"test\"]"
   ]
  },
  {
   "cell_type": "code",
   "execution_count": 79,
   "id": "c9873591-d07f-4ae5-9f1c-3aa4e990ff64",
   "metadata": {},
   "outputs": [
    {
     "data": {
      "text/plain": [
       "torch.Size([2, 3, 256, 256])"
      ]
     },
     "execution_count": 79,
     "metadata": {},
     "output_type": "execute_result"
    }
   ],
   "source": [
    "unlabeled_data[1][\"pixel_values\"].shape"
   ]
  },
  {
   "cell_type": "markdown",
   "id": "f6b97596",
   "metadata": {
    "papermill": {
     "duration": 0.248438,
     "end_time": "2023-10-12T10:17:03.944584",
     "exception": false,
     "start_time": "2023-10-12T10:17:03.696146",
     "status": "completed"
    },
    "tags": []
   },
   "source": [
    "Finally, before starting with our implementation of SimCLR, let's look\n",
    "at some example image pairs sampled with our augmentations:"
   ]
  },
  {
   "cell_type": "code",
   "execution_count": 80,
   "id": "5103283d",
   "metadata": {
    "papermill": {
     "duration": 0.934358,
     "end_time": "2023-10-12T10:17:05.077149",
     "exception": false,
     "start_time": "2023-10-12T10:17:04.142791",
     "status": "completed"
    },
    "tags": []
   },
   "outputs": [
    {
     "name": "stderr",
     "output_type": "stream",
     "text": [
      "Seed set to 42\n"
     ]
    },
    {
     "name": "stdout",
     "output_type": "stream",
     "text": [
      "torch.Size([12, 3, 256, 256])\n"
     ]
    },
    {
     "data": {
      "application/pdf": "[encoded data removed]",
      "image/svg+xml": [
       "<?xml version=\"1.0\" encoding=\"utf-8\" standalone=\"no\"?>\n",
       "<!DOCTYPE svg PUBLIC \"-//W3C//DTD SVG 1.1//EN\"\n",
       "  \"http://www.w3.org/Graphics/SVG/1.1/DTD/svg11.dtd\">\n",
       "<svg xmlns:xlink=\"http://www.w3.org/1999/xlink\" width=\"572.4pt\" height=\"215.998125pt\" viewBox=\"0 0 572.4 215.998125\" xmlns=\"http://www.w3.org/2000/svg\" version=\"1.1\">\n",
       " <metadata>\n",
       "  <rdf:RDF xmlns:dc=\"http://purl.org/dc/elements/1.1/\" xmlns:cc=\"http://creativecommons.org/ns#\" xmlns:rdf=\"http://www.w3.org/1999/02/22-rdf-syntax-ns#\">\n",
       "   <cc:Work>\n",
       "    <dc:type rdf:resource=\"http://purl.org/dc/dcmitype/StillImage\"/>\n",
       "    <dc:date>2024-01-18T13:56:29.281076</dc:date>\n",
       "    <dc:format>image/svg+xml</dc:format>\n",
       "    <dc:creator>\n",
       "     <cc:Agent>\n",
       "      <dc:title>Matplotlib v3.8.2, https://matplotlib.org/</dc:title>\n",
       "     </cc:Agent>\n",
       "    </dc:creator>\n",
       "   </cc:Work>\n",
       "  </rdf:RDF>\n",
       " </metadata>\n",
       " <defs>\n",
       "  <style type=\"text/css\">*{stroke-linejoin: round; stroke-linecap: butt}</style>\n",
       " </defs>\n",
       " <g id=\"figure_1\">\n",
       "  <g id=\"patch_1\">\n",
       "   <path d=\"M 0 215.998125 \n",
       "L 572.4 215.998125 \n",
       "L 572.4 0 \n",
       "L 0 0 \n",
       "z\n",
       "\" style=\"fill: #ffffff\"/>\n",
       "  </g>\n",
       "  <g id=\"axes_1\">\n",
       "   <g clip-path=\"url(#p212f02ad17)\">\n",
       "    <image xlink:href=\"data:image/png;base64,\n",
       "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\" id=\"imagec8ee5dfaef\" transform=\"scale(1 -1) translate(0 -186.48)\" x=\"7.2\" y=\"-22.318125\" width=\"558\" height=\"186.48\"/>\n",
       "   </g>\n",
       "   <g id=\"text_1\">\n",
       "    <!-- Augmented image examples of the STL10 dataset -->\n",
       "    <g style=\"fill: #262626\" transform=\"translate(135.4425 16.318125) scale(0.12 -0.12)\">\n",
       "     <defs>\n",
       "      <path id=\"DejaVuSans-41\" d=\"M 2188 4044 \n",
       "L 1331 1722 \n",
       "L 3047 1722 \n",
       "L 2188 4044 \n",
       "z\n",
       "M 1831 4666 \n",
       "L 2547 4666 \n",
       "L 4325 0 \n",
       "L 3669 0 \n",
       "L 3244 1197 \n",
       "L 1141 1197 \n",
       "L 716 0 \n",
       "L 50 0 \n",
       "L 1831 4666 \n",
       "z\n",
       "\" transform=\"scale(0.015625)\"/>\n",
       "      <path id=\"DejaVuSans-75\" d=\"M 544 1381 \n",
       "L 544 3500 \n",
       "L 1119 3500 \n",
       "L 1119 1403 \n",
       "Q 1119 906 1312 657 \n",
       "Q 1506 409 1894 409 \n",
       "Q 2359 409 2629 706 \n",
       "Q 2900 1003 2900 1516 \n",
       "L 2900 3500 \n",
       "L 3475 3500 \n",
       "L 3475 0 \n",
       "L 2900 0 \n",
       "L 2900 538 \n",
       "Q 2691 219 2414 64 \n",
       "Q 2138 -91 1772 -91 \n",
       "Q 1169 -91 856 284 \n",
       "Q 544 659 544 1381 \n",
       "z\n",
       "M 1991 3584 \n",
       "L 1991 3584 \n",
       "z\n",
       "\" transform=\"scale(0.015625)\"/>\n",
       "      <path id=\"DejaVuSans-67\" d=\"M 2906 1791 \n",
       "Q 2906 2416 2648 2759 \n",
       "Q 2391 3103 1925 3103 \n",
       "Q 1463 3103 1205 2759 \n",
       "Q 947 2416 947 1791 \n",
       "Q 947 1169 1205 825 \n",
       "Q 1463 481 1925 481 \n",
       "Q 2391 481 2648 825 \n",
       "Q 2906 1169 2906 1791 \n",
       "z\n",
       "M 3481 434 \n",
       "Q 3481 -459 3084 -895 \n",
       "Q 2688 -1331 1869 -1331 \n",
       "Q 1566 -1331 1297 -1286 \n",
       "Q 1028 -1241 775 -1147 \n",
       "L 775 -588 \n",
       "Q 1028 -725 1275 -790 \n",
       "Q 1522 -856 1778 -856 \n",
       "Q 2344 -856 2625 -561 \n",
       "Q 2906 -266 2906 331 \n",
       "L 2906 616 \n",
       "Q 2728 306 2450 153 \n",
       "Q 2172 0 1784 0 \n",
       "Q 1141 0 747 490 \n",
       "Q 353 981 353 1791 \n",
       "Q 353 2603 747 3093 \n",
       "Q 1141 3584 1784 3584 \n",
       "Q 2172 3584 2450 3431 \n",
       "Q 2728 3278 2906 2969 \n",
       "L 2906 3500 \n",
       "L 3481 3500 \n",
       "L 3481 434 \n",
       "z\n",
       "\" transform=\"scale(0.015625)\"/>\n",
       "      <path id=\"DejaVuSans-6d\" d=\"M 3328 2828 \n",
       "Q 3544 3216 3844 3400 \n",
       "Q 4144 3584 4550 3584 \n",
       "Q 5097 3584 5394 3201 \n",
       "Q 5691 2819 5691 2113 \n",
       "L 5691 0 \n",
       "L 5113 0 \n",
       "L 5113 2094 \n",
       "Q 5113 2597 4934 2840 \n",
       "Q 4756 3084 4391 3084 \n",
       "Q 3944 3084 3684 2787 \n",
       "Q 3425 2491 3425 1978 \n",
       "L 3425 0 \n",
       "L 2847 0 \n",
       "L 2847 2094 \n",
       "Q 2847 2600 2669 2842 \n",
       "Q 2491 3084 2119 3084 \n",
       "Q 1678 3084 1418 2786 \n",
       "Q 1159 2488 1159 1978 \n",
       "L 1159 0 \n",
       "L 581 0 \n",
       "L 581 3500 \n",
       "L 1159 3500 \n",
       "L 1159 2956 \n",
       "Q 1356 3278 1631 3431 \n",
       "Q 1906 3584 2284 3584 \n",
       "Q 2666 3584 2933 3390 \n",
       "Q 3200 3197 3328 2828 \n",
       "z\n",
       "\" transform=\"scale(0.015625)\"/>\n",
       "      <path id=\"DejaVuSans-65\" d=\"M 3597 1894 \n",
       "L 3597 1613 \n",
       "L 953 1613 \n",
       "Q 991 1019 1311 708 \n",
       "Q 1631 397 2203 397 \n",
       "Q 2534 397 2845 478 \n",
       "Q 3156 559 3463 722 \n",
       "L 3463 178 \n",
       "Q 3153 47 2828 -22 \n",
       "Q 2503 -91 2169 -91 \n",
       "Q 1331 -91 842 396 \n",
       "Q 353 884 353 1716 \n",
       "Q 353 2575 817 3079 \n",
       "Q 1281 3584 2069 3584 \n",
       "Q 2775 3584 3186 3129 \n",
       "Q 3597 2675 3597 1894 \n",
       "z\n",
       "M 3022 2063 \n",
       "Q 3016 2534 2758 2815 \n",
       "Q 2500 3097 2075 3097 \n",
       "Q 1594 3097 1305 2825 \n",
       "Q 1016 2553 972 2059 \n",
       "L 3022 2063 \n",
       "z\n",
       "\" transform=\"scale(0.015625)\"/>\n",
       "      <path id=\"DejaVuSans-6e\" d=\"M 3513 2113 \n",
       "L 3513 0 \n",
       "L 2938 0 \n",
       "L 2938 2094 \n",
       "Q 2938 2591 2744 2837 \n",
       "Q 2550 3084 2163 3084 \n",
       "Q 1697 3084 1428 2787 \n",
       "Q 1159 2491 1159 1978 \n",
       "L 1159 0 \n",
       "L 581 0 \n",
       "L 581 3500 \n",
       "L 1159 3500 \n",
       "L 1159 2956 \n",
       "Q 1366 3272 1645 3428 \n",
       "Q 1925 3584 2291 3584 \n",
       "Q 2894 3584 3203 3211 \n",
       "Q 3513 2838 3513 2113 \n",
       "z\n",
       "\" transform=\"scale(0.015625)\"/>\n",
       "      <path id=\"DejaVuSans-74\" d=\"M 1172 4494 \n",
       "L 1172 3500 \n",
       "L 2356 3500 \n",
       "L 2356 3053 \n",
       "L 1172 3053 \n",
       "L 1172 1153 \n",
       "Q 1172 725 1289 603 \n",
       "Q 1406 481 1766 481 \n",
       "L 2356 481 \n",
       "L 2356 0 \n",
       "L 1766 0 \n",
       "Q 1100 0 847 248 \n",
       "Q 594 497 594 1153 \n",
       "L 594 3053 \n",
       "L 172 3053 \n",
       "L 172 3500 \n",
       "L 594 3500 \n",
       "L 594 4494 \n",
       "L 1172 4494 \n",
       "z\n",
       "\" transform=\"scale(0.015625)\"/>\n",
       "      <path id=\"DejaVuSans-64\" d=\"M 2906 2969 \n",
       "L 2906 4863 \n",
       "L 3481 4863 \n",
       "L 3481 0 \n",
       "L 2906 0 \n",
       "L 2906 525 \n",
       "Q 2725 213 2448 61 \n",
       "Q 2172 -91 1784 -91 \n",
       "Q 1150 -91 751 415 \n",
       "Q 353 922 353 1747 \n",
       "Q 353 2572 751 3078 \n",
       "Q 1150 3584 1784 3584 \n",
       "Q 2172 3584 2448 3432 \n",
       "Q 2725 3281 2906 2969 \n",
       "z\n",
       "M 947 1747 \n",
       "Q 947 1113 1208 752 \n",
       "Q 1469 391 1925 391 \n",
       "Q 2381 391 2643 752 \n",
       "Q 2906 1113 2906 1747 \n",
       "Q 2906 2381 2643 2742 \n",
       "Q 2381 3103 1925 3103 \n",
       "Q 1469 3103 1208 2742 \n",
       "Q 947 2381 947 1747 \n",
       "z\n",
       "\" transform=\"scale(0.015625)\"/>\n",
       "      <path id=\"DejaVuSans-20\" transform=\"scale(0.015625)\"/>\n",
       "      <path id=\"DejaVuSans-69\" d=\"M 603 3500 \n",
       "L 1178 3500 \n",
       "L 1178 0 \n",
       "L 603 0 \n",
       "L 603 3500 \n",
       "z\n",
       "M 603 4863 \n",
       "L 1178 4863 \n",
       "L 1178 4134 \n",
       "L 603 4134 \n",
       "L 603 4863 \n",
       "z\n",
       "\" transform=\"scale(0.015625)\"/>\n",
       "      <path id=\"DejaVuSans-61\" d=\"M 2194 1759 \n",
       "Q 1497 1759 1228 1600 \n",
       "Q 959 1441 959 1056 \n",
       "Q 959 750 1161 570 \n",
       "Q 1363 391 1709 391 \n",
       "Q 2188 391 2477 730 \n",
       "Q 2766 1069 2766 1631 \n",
       "L 2766 1759 \n",
       "L 2194 1759 \n",
       "z\n",
       "M 3341 1997 \n",
       "L 3341 0 \n",
       "L 2766 0 \n",
       "L 2766 531 \n",
       "Q 2569 213 2275 61 \n",
       "Q 1981 -91 1556 -91 \n",
       "Q 1019 -91 701 211 \n",
       "Q 384 513 384 1019 \n",
       "Q 384 1609 779 1909 \n",
       "Q 1175 2209 1959 2209 \n",
       "L 2766 2209 \n",
       "L 2766 2266 \n",
       "Q 2766 2663 2505 2880 \n",
       "Q 2244 3097 1772 3097 \n",
       "Q 1472 3097 1187 3025 \n",
       "Q 903 2953 641 2809 \n",
       "L 641 3341 \n",
       "Q 956 3463 1253 3523 \n",
       "Q 1550 3584 1831 3584 \n",
       "Q 2591 3584 2966 3190 \n",
       "Q 3341 2797 3341 1997 \n",
       "z\n",
       "\" transform=\"scale(0.015625)\"/>\n",
       "      <path id=\"DejaVuSans-78\" d=\"M 3513 3500 \n",
       "L 2247 1797 \n",
       "L 3578 0 \n",
       "L 2900 0 \n",
       "L 1881 1375 \n",
       "L 863 0 \n",
       "L 184 0 \n",
       "L 1544 1831 \n",
       "L 300 3500 \n",
       "L 978 3500 \n",
       "L 1906 2253 \n",
       "L 2834 3500 \n",
       "L 3513 3500 \n",
       "z\n",
       "\" transform=\"scale(0.015625)\"/>\n",
       "      <path id=\"DejaVuSans-70\" d=\"M 1159 525 \n",
       "L 1159 -1331 \n",
       "L 581 -1331 \n",
       "L 581 3500 \n",
       "L 1159 3500 \n",
       "L 1159 2969 \n",
       "Q 1341 3281 1617 3432 \n",
       "Q 1894 3584 2278 3584 \n",
       "Q 2916 3584 3314 3078 \n",
       "Q 3713 2572 3713 1747 \n",
       "Q 3713 922 3314 415 \n",
       "Q 2916 -91 2278 -91 \n",
       "Q 1894 -91 1617 61 \n",
       "Q 1341 213 1159 525 \n",
       "z\n",
       "M 3116 1747 \n",
       "Q 3116 2381 2855 2742 \n",
       "Q 2594 3103 2138 3103 \n",
       "Q 1681 3103 1420 2742 \n",
       "Q 1159 2381 1159 1747 \n",
       "Q 1159 1113 1420 752 \n",
       "Q 1681 391 2138 391 \n",
       "Q 2594 391 2855 752 \n",
       "Q 3116 1113 3116 1747 \n",
       "z\n",
       "\" transform=\"scale(0.015625)\"/>\n",
       "      <path id=\"DejaVuSans-6c\" d=\"M 603 4863 \n",
       "L 1178 4863 \n",
       "L 1178 0 \n",
       "L 603 0 \n",
       "L 603 4863 \n",
       "z\n",
       "\" transform=\"scale(0.015625)\"/>\n",
       "      <path id=\"DejaVuSans-73\" d=\"M 2834 3397 \n",
       "L 2834 2853 \n",
       "Q 2591 2978 2328 3040 \n",
       "Q 2066 3103 1784 3103 \n",
       "Q 1356 3103 1142 2972 \n",
       "Q 928 2841 928 2578 \n",
       "Q 928 2378 1081 2264 \n",
       "Q 1234 2150 1697 2047 \n",
       "L 1894 2003 \n",
       "Q 2506 1872 2764 1633 \n",
       "Q 3022 1394 3022 966 \n",
       "Q 3022 478 2636 193 \n",
       "Q 2250 -91 1575 -91 \n",
       "Q 1294 -91 989 -36 \n",
       "Q 684 19 347 128 \n",
       "L 347 722 \n",
       "Q 666 556 975 473 \n",
       "Q 1284 391 1588 391 \n",
       "Q 1994 391 2212 530 \n",
       "Q 2431 669 2431 922 \n",
       "Q 2431 1156 2273 1281 \n",
       "Q 2116 1406 1581 1522 \n",
       "L 1381 1569 \n",
       "Q 847 1681 609 1914 \n",
       "Q 372 2147 372 2553 \n",
       "Q 372 3047 722 3315 \n",
       "Q 1072 3584 1716 3584 \n",
       "Q 2034 3584 2315 3537 \n",
       "Q 2597 3491 2834 3397 \n",
       "z\n",
       "\" transform=\"scale(0.015625)\"/>\n",
       "      <path id=\"DejaVuSans-6f\" d=\"M 1959 3097 \n",
       "Q 1497 3097 1228 2736 \n",
       "Q 959 2375 959 1747 \n",
       "Q 959 1119 1226 758 \n",
       "Q 1494 397 1959 397 \n",
       "Q 2419 397 2687 759 \n",
       "Q 2956 1122 2956 1747 \n",
       "Q 2956 2369 2687 2733 \n",
       "Q 2419 3097 1959 3097 \n",
       "z\n",
       "M 1959 3584 \n",
       "Q 2709 3584 3137 3096 \n",
       "Q 3566 2609 3566 1747 \n",
       "Q 3566 888 3137 398 \n",
       "Q 2709 -91 1959 -91 \n",
       "Q 1206 -91 779 398 \n",
       "Q 353 888 353 1747 \n",
       "Q 353 2609 779 3096 \n",
       "Q 1206 3584 1959 3584 \n",
       "z\n",
       "\" transform=\"scale(0.015625)\"/>\n",
       "      <path id=\"DejaVuSans-66\" d=\"M 2375 4863 \n",
       "L 2375 4384 \n",
       "L 1825 4384 \n",
       "Q 1516 4384 1395 4259 \n",
       "Q 1275 4134 1275 3809 \n",
       "L 1275 3500 \n",
       "L 2222 3500 \n",
       "L 2222 3053 \n",
       "L 1275 3053 \n",
       "L 1275 0 \n",
       "L 697 0 \n",
       "L 697 3053 \n",
       "L 147 3053 \n",
       "L 147 3500 \n",
       "L 697 3500 \n",
       "L 697 3744 \n",
       "Q 697 4328 969 4595 \n",
       "Q 1241 4863 1831 4863 \n",
       "L 2375 4863 \n",
       "z\n",
       "\" transform=\"scale(0.015625)\"/>\n",
       "      <path id=\"DejaVuSans-68\" d=\"M 3513 2113 \n",
       "L 3513 0 \n",
       "L 2938 0 \n",
       "L 2938 2094 \n",
       "Q 2938 2591 2744 2837 \n",
       "Q 2550 3084 2163 3084 \n",
       "Q 1697 3084 1428 2787 \n",
       "Q 1159 2491 1159 1978 \n",
       "L 1159 0 \n",
       "L 581 0 \n",
       "L 581 4863 \n",
       "L 1159 4863 \n",
       "L 1159 2956 \n",
       "Q 1366 3272 1645 3428 \n",
       "Q 1925 3584 2291 3584 \n",
       "Q 2894 3584 3203 3211 \n",
       "Q 3513 2838 3513 2113 \n",
       "z\n",
       "\" transform=\"scale(0.015625)\"/>\n",
       "      <path id=\"DejaVuSans-53\" d=\"M 3425 4513 \n",
       "L 3425 3897 \n",
       "Q 3066 4069 2747 4153 \n",
       "Q 2428 4238 2131 4238 \n",
       "Q 1616 4238 1336 4038 \n",
       "Q 1056 3838 1056 3469 \n",
       "Q 1056 3159 1242 3001 \n",
       "Q 1428 2844 1947 2747 \n",
       "L 2328 2669 \n",
       "Q 3034 2534 3370 2195 \n",
       "Q 3706 1856 3706 1288 \n",
       "Q 3706 609 3251 259 \n",
       "Q 2797 -91 1919 -91 \n",
       "Q 1588 -91 1214 -16 \n",
       "Q 841 59 441 206 \n",
       "L 441 856 \n",
       "Q 825 641 1194 531 \n",
       "Q 1563 422 1919 422 \n",
       "Q 2459 422 2753 634 \n",
       "Q 3047 847 3047 1241 \n",
       "Q 3047 1584 2836 1778 \n",
       "Q 2625 1972 2144 2069 \n",
       "L 1759 2144 \n",
       "Q 1053 2284 737 2584 \n",
       "Q 422 2884 422 3419 \n",
       "Q 422 4038 858 4394 \n",
       "Q 1294 4750 2059 4750 \n",
       "Q 2388 4750 2728 4690 \n",
       "Q 3069 4631 3425 4513 \n",
       "z\n",
       "\" transform=\"scale(0.015625)\"/>\n",
       "      <path id=\"DejaVuSans-54\" d=\"M -19 4666 \n",
       "L 3928 4666 \n",
       "L 3928 4134 \n",
       "L 2272 4134 \n",
       "L 2272 0 \n",
       "L 1638 0 \n",
       "L 1638 4134 \n",
       "L -19 4134 \n",
       "L -19 4666 \n",
       "z\n",
       "\" transform=\"scale(0.015625)\"/>\n",
       "      <path id=\"DejaVuSans-4c\" d=\"M 628 4666 \n",
       "L 1259 4666 \n",
       "L 1259 531 \n",
       "L 3531 531 \n",
       "L 3531 0 \n",
       "L 628 0 \n",
       "L 628 4666 \n",
       "z\n",
       "\" transform=\"scale(0.015625)\"/>\n",
       "      <path id=\"DejaVuSans-31\" d=\"M 794 531 \n",
       "L 1825 531 \n",
       "L 1825 4091 \n",
       "L 703 3866 \n",
       "L 703 4441 \n",
       "L 1819 4666 \n",
       "L 2450 4666 \n",
       "L 2450 531 \n",
       "L 3481 531 \n",
       "L 3481 0 \n",
       "L 794 0 \n",
       "L 794 531 \n",
       "z\n",
       "\" transform=\"scale(0.015625)\"/>\n",
       "      <path id=\"DejaVuSans-30\" d=\"M 2034 4250 \n",
       "Q 1547 4250 1301 3770 \n",
       "Q 1056 3291 1056 2328 \n",
       "Q 1056 1369 1301 889 \n",
       "Q 1547 409 2034 409 \n",
       "Q 2525 409 2770 889 \n",
       "Q 3016 1369 3016 2328 \n",
       "Q 3016 3291 2770 3770 \n",
       "Q 2525 4250 2034 4250 \n",
       "z\n",
       "M 2034 4750 \n",
       "Q 2819 4750 3233 4129 \n",
       "Q 3647 3509 3647 2328 \n",
       "Q 3647 1150 3233 529 \n",
       "Q 2819 -91 2034 -91 \n",
       "Q 1250 -91 836 529 \n",
       "Q 422 1150 422 2328 \n",
       "Q 422 3509 836 4129 \n",
       "Q 1250 4750 2034 4750 \n",
       "z\n",
       "\" transform=\"scale(0.015625)\"/>\n",
       "     </defs>\n",
       "     <use xlink:href=\"#DejaVuSans-41\"/>\n",
       "     <use xlink:href=\"#DejaVuSans-75\" x=\"68.408203\"/>\n",
       "     <use xlink:href=\"#DejaVuSans-67\" x=\"131.787109\"/>\n",
       "     <use xlink:href=\"#DejaVuSans-6d\" x=\"195.263672\"/>\n",
       "     <use xlink:href=\"#DejaVuSans-65\" x=\"292.675781\"/>\n",
       "     <use xlink:href=\"#DejaVuSans-6e\" x=\"354.199219\"/>\n",
       "     <use xlink:href=\"#DejaVuSans-74\" x=\"417.578125\"/>\n",
       "     <use xlink:href=\"#DejaVuSans-65\" x=\"456.787109\"/>\n",
       "     <use xlink:href=\"#DejaVuSans-64\" x=\"518.310547\"/>\n",
       "     <use xlink:href=\"#DejaVuSans-20\" x=\"581.787109\"/>\n",
       "     <use xlink:href=\"#DejaVuSans-69\" x=\"613.574219\"/>\n",
       "     <use xlink:href=\"#DejaVuSans-6d\" x=\"641.357422\"/>\n",
       "     <use xlink:href=\"#DejaVuSans-61\" x=\"738.769531\"/>\n",
       "     <use xlink:href=\"#DejaVuSans-67\" x=\"800.048828\"/>\n",
       "     <use xlink:href=\"#DejaVuSans-65\" x=\"863.525391\"/>\n",
       "     <use xlink:href=\"#DejaVuSans-20\" x=\"925.048828\"/>\n",
       "     <use xlink:href=\"#DejaVuSans-65\" x=\"956.835938\"/>\n",
       "     <use xlink:href=\"#DejaVuSans-78\" x=\"1016.609375\"/>\n",
       "     <use xlink:href=\"#DejaVuSans-61\" x=\"1075.789062\"/>\n",
       "     <use xlink:href=\"#DejaVuSans-6d\" x=\"1137.068359\"/>\n",
       "     <use xlink:href=\"#DejaVuSans-70\" x=\"1234.480469\"/>\n",
       "     <use xlink:href=\"#DejaVuSans-6c\" x=\"1297.957031\"/>\n",
       "     <use xlink:href=\"#DejaVuSans-65\" x=\"1325.740234\"/>\n",
       "     <use xlink:href=\"#DejaVuSans-73\" x=\"1387.263672\"/>\n",
       "     <use xlink:href=\"#DejaVuSans-20\" x=\"1439.363281\"/>\n",
       "     <use xlink:href=\"#DejaVuSans-6f\" x=\"1471.150391\"/>\n",
       "     <use xlink:href=\"#DejaVuSans-66\" x=\"1532.332031\"/>\n",
       "     <use xlink:href=\"#DejaVuSans-20\" x=\"1567.537109\"/>\n",
       "     <use xlink:href=\"#DejaVuSans-74\" x=\"1599.324219\"/>\n",
       "     <use xlink:href=\"#DejaVuSans-68\" x=\"1638.533203\"/>\n",
       "     <use xlink:href=\"#DejaVuSans-65\" x=\"1701.912109\"/>\n",
       "     <use xlink:href=\"#DejaVuSans-20\" x=\"1763.435547\"/>\n",
       "     <use xlink:href=\"#DejaVuSans-53\" x=\"1795.222656\"/>\n",
       "     <use xlink:href=\"#DejaVuSans-54\" x=\"1858.699219\"/>\n",
       "     <use xlink:href=\"#DejaVuSans-4c\" x=\"1919.783203\"/>\n",
       "     <use xlink:href=\"#DejaVuSans-31\" x=\"1975.496094\"/>\n",
       "     <use xlink:href=\"#DejaVuSans-30\" x=\"2039.119141\"/>\n",
       "     <use xlink:href=\"#DejaVuSans-20\" x=\"2102.742188\"/>\n",
       "     <use xlink:href=\"#DejaVuSans-64\" x=\"2134.529297\"/>\n",
       "     <use xlink:href=\"#DejaVuSans-61\" x=\"2198.005859\"/>\n",
       "     <use xlink:href=\"#DejaVuSans-74\" x=\"2259.285156\"/>\n",
       "     <use xlink:href=\"#DejaVuSans-61\" x=\"2298.494141\"/>\n",
       "     <use xlink:href=\"#DejaVuSans-73\" x=\"2359.773438\"/>\n",
       "     <use xlink:href=\"#DejaVuSans-65\" x=\"2411.873047\"/>\n",
       "     <use xlink:href=\"#DejaVuSans-74\" x=\"2473.396484\"/>\n",
       "    </g>\n",
       "   </g>\n",
       "  </g>\n",
       " </g>\n",
       " <defs>\n",
       "  <clipPath id=\"p212f02ad17\">\n",
       "   <rect x=\"7.2\" y=\"22.318125\" width=\"558\" height=\"186.48\"/>\n",
       "  </clipPath>\n",
       " </defs>\n",
       "</svg>\n"
      ],
      "text/plain": [
       "<Figure size 1000x500 with 1 Axes>"
      ]
     },
     "metadata": {},
     "output_type": "display_data"
    }
   ],
   "source": [
    "# Visualize some examples\n",
    "L.seed_everything(42)\n",
    "NUM_IMAGES = 6\n",
    "imgs = torch.cat([torch.Tensor(unlabeled_data[idx][\"pixel_values\"]) for idx in range(NUM_IMAGES)])\n",
    "print(imgs.shape)\n",
    "img_grid = torchvision.utils.make_grid(imgs, nrow=6, normalize=True, pad_value=0.9)\n",
    "img_grid = img_grid.permute(1, 2, 0)\n",
    "\n",
    "plt.figure(figsize=(10, 5))\n",
    "plt.title(\"Augmented image examples of the STL10 dataset\")\n",
    "plt.imshow(img_grid)\n",
    "plt.axis(\"off\")\n",
    "plt.show()\n",
    "plt.close()"
   ]
  },
  {
   "cell_type": "markdown",
   "id": "30dc6779",
   "metadata": {
    "papermill": {
     "duration": 0.20386,
     "end_time": "2023-10-12T10:17:05.487109",
     "exception": false,
     "start_time": "2023-10-12T10:17:05.283249",
     "status": "completed"
    },
    "tags": []
   },
   "source": [
    "We see the wide variety of our data augmentation, including randomly cropping, grayscaling, gaussian blur, and color distortion.\n",
    "Thus, it remains a challenging task for the model to match two, independently augmented patches of the same image."
   ]
  },
  {
   "cell_type": "markdown",
   "id": "97d18613",
   "metadata": {
    "lines_to_next_cell": 2,
    "papermill": {
     "duration": 0.203821,
     "end_time": "2023-10-12T10:17:05.894592",
     "exception": false,
     "start_time": "2023-10-12T10:17:05.690771",
     "status": "completed"
    },
    "tags": []
   },
   "source": [
    "### SimCLR implementation\n",
    "\n",
    "Using the data loader pipeline above, we can now implement SimCLR.\n",
    "At each iteration, we get for every image $x$ two differently augmented versions, which we refer to as $\\tilde{x}_i$ and $\\tilde{x}_j$.\n",
    "Both of these images are encoded into a one-dimensional feature vector, between which we want to maximize similarity which minimizes it to all other images in the batch.\n",
    "The encoder network is split into two parts: a base encoder network $f(\\cdot)$, and a projection head $g(\\cdot)$.\n",
    "The base network is usually a deep CNN as we have seen in e.g. [Tutorial 5](https://uvadlc-notebooks.readthedocs.io/en/latest/tutorial_notebooks/tutorial5/Inception_ResNet_DenseNet.html) before, and is responsible for extracting a representation vector from the augmented data examples.\n",
    "In our experiments, we will use the common ResNet-18 architecture as $f(\\cdot)$, and refer to the output as $f(\\tilde{x}_i)=h_i$.\n",
    "The projection head $g(\\cdot)$ maps the representation $h$ into a space where we apply the contrastive loss, i.e., compare similarities between vectors.\n",
    "It is often chosen to be a small MLP with non-linearities, and for simplicity, we follow the original SimCLR paper setup by defining it as a two-layer MLP with ReLU activation in the hidden layer.\n",
    "Note that in the follow-up paper, [SimCLRv2](https://arxiv.org/abs/2006.10029), the authors mention that larger/wider MLPs can boost the performance considerably.\n",
    "This is why we apply an MLP with four times larger hidden dimensions, but deeper MLPs showed to overfit on the given dataset.\n",
    "The general setup is visualized below (figure credit - [Ting Chen et al. ](https://arxiv.org/abs/2006.10029)):\n",
    "\n",
    "<center width=\"100%\"><img src=\"https://github.com/Lightning-AI/lightning-tutorials/raw/main/course_UvA-DL/13-contrastive-learning/simclr_network_setup.svg\" width=\"350px\"></center>\n",
    "\n",
    "After finishing the training with contrastive learning, we will remove the projection head $g(\\cdot)$, and use $f(\\cdot)$ as a pretrained feature extractor.\n",
    "The representations $z$ that come out of the projection head $g(\\cdot)$ have been shown to perform worse than those of the base network $f(\\cdot)$ when finetuning the network for a new task.\n",
    "This is likely because the representations $z$ are trained to become invariant to many features like the color that can be important for downstream tasks.\n",
    "Thus, $g(\\cdot)$ is only needed for the contrastive learning stage.\n",
    "\n",
    "Now that the architecture is described, let's take a closer look at how we train the model.\n",
    "As mentioned before, we want to maximize the similarity between the representations of the two augmented versions of the same image, i.e., $z_i$ and $z_j$ in the figure above, while minimizing it to all other examples in the batch.\n",
    "SimCLR thereby applies the InfoNCE loss, originally proposed by [Aaron van den Oord et al. ](https://arxiv.org/abs/1807.03748) for contrastive learning.\n",
    "In short, the InfoNCE loss compares the similarity of $z_i$ and $z_j$ to the similarity of $z_i$ to any other representation in the batch by performing a softmax over the similarity values.\n",
    "The loss can be formally written as:\n",
    "$$\n",
    "\\ell_{i,j}=-\\log \\frac{\\exp(\\text{sim}(z_i,z_j)/\\tau)}{\\sum_{k=1}^{2N}\\mathbb{1}_{[k\\neq i]}\\exp(\\text{sim}(z_i,z_k)/\\tau)}=-\\text{sim}(z_i,z_j)/\\tau+\\log\\left[\\sum_{k=1}^{2N}\\mathbb{1}_{[k\\neq i]}\\exp(\\text{sim}(z_i,z_k)/\\tau)\\right]\n",
    "$$\n",
    "The function $\\text{sim}$ is a similarity metric, and the hyperparameter $\\tau$ is called temperature determining how peaked the distribution is.\n",
    "Since many similarity metrics are bounded, the temperature parameter allows us to balance the influence of many dissimilar image patches versus one similar patch.\n",
    "The similarity metric that is used in SimCLR is cosine similarity, as defined below:\n",
    "$$\n",
    "\\text{sim}(z_i,z_j) = \\frac{z_i^\\top \\cdot z_j}{||z_i||\\cdot||z_j||}\n",
    "$$\n",
    "The maximum cosine similarity possible is $1$, while the minimum is $-1$.\n",
    "In general, we will see that the features of two different images will converge to a cosine similarity around zero since the minimum, $-1$, would require $z_i$ and $z_j$ to be in the exact opposite direction in all feature dimensions, which does not allow for great flexibility.\n",
    "\n",
    "Finally, now that we have discussed all details, let's implement SimCLR below as a PyTorch Lightning module:"
   ]
  },
  {
   "cell_type": "code",
   "execution_count": 81,
   "id": "dfa9d2a9",
   "metadata": {
    "lines_to_next_cell": 2,
    "papermill": {
     "duration": 0.222509,
     "end_time": "2023-10-12T10:17:06.370770",
     "exception": false,
     "start_time": "2023-10-12T10:17:06.148261",
     "status": "completed"
    },
    "tags": []
   },
   "outputs": [],
   "source": [
    "from transformers import AutoModel\n",
    "class SimCLR(L.LightningModule):\n",
    "    def __init__(self, hidden_dim, lr, temperature, weight_decay, max_epochs=500, model=MODEL):\n",
    "        super().__init__()\n",
    "        self.save_hyperparameters()\n",
    "        assert self.hparams.temperature > 0.0, \"The temperature must be a positive float!\"\n",
    "        # Base model f(.)\n",
    "        self.model = AutoModel.from_pretrained(model)\n",
    "        # The MLP for g(.) consists of Linear->ReLU->Linear\n",
    "        self.mlp = nn.Sequential(\n",
    "            nn.Linear(768, 4*hidden_dim),\n",
    "            nn.ReLU(),\n",
    "            nn.Linear(4*hidden_dim, hidden_dim),\n",
    "        )\n",
    "\n",
    "    def configure_optimizers(self):\n",
    "        optimizer = optim.AdamW(self.parameters(), lr=self.hparams.lr, weight_decay=self.hparams.weight_decay)\n",
    "        lr_scheduler = optim.lr_scheduler.CosineAnnealingLR(\n",
    "            optimizer, T_max=self.hparams.max_epochs, eta_min=self.hparams.lr / 50\n",
    "        )\n",
    "        return [optimizer], [lr_scheduler]\n",
    "\n",
    "    def info_nce_loss(self, batch, mode=\"train\"):\n",
    "        # print(batch)\n",
    "        imgs = batch\n",
    "        # imgs = torch.cat(imgs, dim=0)\n",
    "\n",
    "        # Encode all images\n",
    "        feats = self.model(imgs).pooler_output\n",
    "        feats = self.mlp(feats)\n",
    "        # Calculate cosine similarity\n",
    "        cos_sim = F.cosine_similarity(feats[:, None, :], feats[None, :, :], dim=-1)\n",
    "        # Mask out cosine similarity to itself\n",
    "        self_mask = torch.eye(cos_sim.shape[0], dtype=torch.bool, device=cos_sim.device)\n",
    "        cos_sim.masked_fill_(self_mask, -9e15)\n",
    "        # Find positive example -> batch_size//2 away from the original example\n",
    "        pos_mask = self_mask.roll(shifts=cos_sim.shape[0] // 2, dims=0)\n",
    "        # InfoNCE loss\n",
    "        cos_sim = cos_sim / self.hparams.temperature\n",
    "        nll = -cos_sim[pos_mask] + torch.logsumexp(cos_sim, dim=-1)\n",
    "        nll = nll.mean()\n",
    "\n",
    "        # Logging loss\n",
    "        self.log(mode + \"_loss\", nll)\n",
    "        # Get ranking position of positive example\n",
    "        comb_sim = torch.cat(\n",
    "            [cos_sim[pos_mask][:, None], cos_sim.masked_fill(pos_mask, -9e15)],  # First position positive example\n",
    "            dim=-1,\n",
    "        )\n",
    "        sim_argsort = comb_sim.argsort(dim=-1, descending=True).argmin(dim=-1)\n",
    "        # Logging ranking metrics\n",
    "        self.log(mode + \"_acc_top1\", (sim_argsort == 0).float().mean())\n",
    "        self.log(mode + \"_acc_top5\", (sim_argsort < 5).float().mean())\n",
    "        self.log(mode + \"_acc_mean_pos\", 1 + sim_argsort.float().mean())\n",
    "\n",
    "        return nll\n",
    "\n",
    "    def training_step(self, batch, batch_idx):\n",
    "        return self.info_nce_loss(batch, mode=\"train\")\n",
    "\n",
    "    def validation_step(self, batch, batch_idx):\n",
    "        self.info_nce_loss(batch, mode=\"val\")"
   ]
  },
  {
   "cell_type": "code",
   "execution_count": 82,
   "id": "6b3bf728",
   "metadata": {},
   "outputs": [],
   "source": [
    "coalate_fn = lambda batch: torch.cat([torch.Tensor(x[\"pixel_values\"]) for x in batch])"
   ]
  },
  {
   "cell_type": "code",
   "execution_count": 83,
   "id": "a9d8d039",
   "metadata": {},
   "outputs": [
    {
     "name": "stdout",
     "output_type": "stream",
     "text": [
      "torch.Size([32, 3, 256, 256])\n"
     ]
    }
   ],
   "source": [
    "train_loader = data.DataLoader(\n",
    "            unlabeled_data,\n",
    "            batch_size=16,\n",
    "            shuffle=True,\n",
    "            drop_last=True,\n",
    "            pin_memory=True,\n",
    "            num_workers=0,\n",
    "            collate_fn=coalate_fn,\n",
    "        )\n",
    "for batch in train_loader:\n",
    "    print(batch.shape)\n",
    "    break"
   ]
  },
  {
   "cell_type": "code",
   "execution_count": 84,
   "id": "e8a35673-00f9-4910-9498-2f6fa1caba5a",
   "metadata": {},
   "outputs": [],
   "source": [
    "def train_simclr(batch_size, max_epochs=500, **kwargs):\n",
    "    trainer = L.Trainer(\n",
    "        default_root_dir=os.path.join(CHECKPOINT_PATH, \"SimCLR\"),\n",
    "        accelerator=\"auto\",\n",
    "        devices=1,\n",
    "        max_epochs=max_epochs,\n",
    "        callbacks=[\n",
    "            ModelCheckpoint(save_weights_only=True, mode=\"max\", monitor=\"val_acc_top5\"),\n",
    "            LearningRateMonitor(\"epoch\"),\n",
    "        ],\n",
    "    )\n",
    "    trainer.logger._default_hp_metric = None  # Optional logging argument that we don't need\n",
    "\n",
    "    # Check whether pretrained model exists. If yes, load it and skip training\n",
    "    pretrained_filename = os.path.join(CHECKPOINT_PATH, \"SimCLR.ckpt\")\n",
    "    if os.path.isfile(pretrained_filename):\n",
    "        print(f\"Found pretrained model at {pretrained_filename}, loading...\")\n",
    "        # Automatically loads the model with the saved hyperparameters\n",
    "        model = SimCLR.load_from_checkpoint(pretrained_filename)\n",
    "    else:\n",
    "        train_loader = data.DataLoader(\n",
    "            unlabeled_data,\n",
    "            batch_size=batch_size,\n",
    "            shuffle=True,\n",
    "            drop_last=True,\n",
    "            pin_memory=True,\n",
    "            num_workers=0,\n",
    "            collate_fn=coalate_fn,\n",
    "        )\n",
    "        val_loader = data.DataLoader(\n",
    "            train_data_contrast,\n",
    "            batch_size=batch_size,\n",
    "            shuffle=False,\n",
    "            drop_last=False,\n",
    "            pin_memory=True,\n",
    "            num_workers=0,\n",
    "            collate_fn=coalate_fn,\n",
    "        )\n",
    "        L.seed_everything(42)  # To be reproducible\n",
    "        model = SimCLR(max_epochs=max_epochs, **kwargs)\n",
    "        trainer.fit(model, train_loader, val_loader)\n",
    "        # Load best checkpoint after training\n",
    "        model = SimCLR.load_from_checkpoint(trainer.checkpoint_callback.best_model_path)\n",
    "\n",
    "    return model"
   ]
  },
  {
   "cell_type": "markdown",
   "id": "d31c6734",
   "metadata": {
    "papermill": {
     "duration": 0.202338,
     "end_time": "2023-10-12T10:17:06.777095",
     "exception": false,
     "start_time": "2023-10-12T10:17:06.574757",
     "status": "completed"
    },
    "tags": []
   },
   "source": [
    "Alternatively to performing the validation on the contrastive learning loss as well, we could also take a simple, small downstream task, and track the performance of the base network $f(\\cdot)$ on that.\n",
    "However, in this tutorial, we will restrict ourselves to the STL10\n",
    "dataset where we use the task of image classification on STL10 as our\n",
    "test task."
   ]
  },
  {
   "cell_type": "markdown",
   "id": "2bba3278",
   "metadata": {
    "lines_to_next_cell": 2,
    "papermill": {
     "duration": 0.201837,
     "end_time": "2023-10-12T10:17:07.180438",
     "exception": false,
     "start_time": "2023-10-12T10:17:06.978601",
     "status": "completed"
    },
    "tags": []
   },
   "source": [
    "### Training\n",
    "\n",
    "Now that we have implemented SimCLR and the data loading pipeline, we are ready to train the model.\n",
    "We will use the same training function setup as usual.\n",
    "For saving the best model checkpoint, we track the metric `val_acc_top5`, which describes how often the correct image patch is within the top-5 most similar examples in the batch.\n",
    "This is usually less noisy than the top-1 metric, making it a better metric to choose the best model from."
   ]
  },
  {
   "cell_type": "markdown",
   "id": "d6dcb363",
   "metadata": {
    "papermill": {
     "duration": 0.207797,
     "end_time": "2023-10-12T10:17:08.058654",
     "exception": false,
     "start_time": "2023-10-12T10:17:07.850857",
     "status": "completed"
    },
    "tags": []
   },
   "source": [
    "A common observation in contrastive learning is that the larger the batch size, the better the models perform.\n",
    "A larger batch size allows us to compare each image to more negative examples, leading to overall smoother loss gradients.\n",
    "However, in our case, we experienced that a batch size of 256 was sufficient to get good results."
   ]
  },
  {
   "cell_type": "code",
   "execution_count": 85,
   "id": "084522bd",
   "metadata": {
    "papermill": {
     "duration": 1.091076,
     "end_time": "2023-10-12T10:17:09.353073",
     "exception": false,
     "start_time": "2023-10-12T10:17:08.261997",
     "status": "completed"
    },
    "tags": []
   },
   "outputs": [
    {
     "name": "stderr",
     "output_type": "stream",
     "text": [
      "GPU available: True (cuda), used: True\n",
      "TPU available: False, using: 0 TPU cores\n",
      "IPU available: False, using: 0 IPUs\n",
      "HPU available: False, using: 0 HPUs\n",
      "Seed set to 42\n",
      "Missing logger folder: saved_models/ContrastiveLearning_graphimages-twopi/SimCLR/lightning_logs\n",
      "LOCAL_RANK: 0 - CUDA_VISIBLE_DEVICES: [4]\n",
      "\n",
      "  | Name  | Type        | Params\n",
      "--------------------------------------\n",
      "0 | model | Swinv2Model | 27.6 M\n",
      "1 | mlp   | Sequential  | 213 K \n",
      "--------------------------------------\n",
      "27.8 M    Trainable params\n",
      "0         Non-trainable params\n",
      "27.8 M    Total params\n",
      "111.166   Total estimated model params size (MB)\n"
     ]
    },
    {
     "data": {
      "application/vnd.jupyter.widget-view+json": {
       "model_id": "",
       "version_major": 2,
       "version_minor": 0
      },
      "text/plain": [
       "Sanity Checking: |                                                                                            …"
      ]
     },
     "metadata": {},
     "output_type": "display_data"
    },
    {
     "name": "stderr",
     "output_type": "stream",
     "text": [
      "/home/s4kibart/ba/evaluate_cbr/.venv/lib/python3.11/site-packages/lightning/pytorch/trainer/connectors/data_connector.py:441: The 'val_dataloader' does not have many workers which may be a bottleneck. Consider increasing the value of the `num_workers` argument` to `num_workers=79` in the `DataLoader` to improve performance.\n",
      "/home/s4kibart/ba/evaluate_cbr/.venv/lib/python3.11/site-packages/lightning/pytorch/trainer/connectors/data_connector.py:441: The 'train_dataloader' does not have many workers which may be a bottleneck. Consider increasing the value of the `num_workers` argument` to `num_workers=79` in the `DataLoader` to improve performance.\n"
     ]
    },
    {
     "data": {
      "application/vnd.jupyter.widget-view+json": {
       "model_id": "82f95d123f9a418b83f2d5c8f7c01343",
       "version_major": 2,
       "version_minor": 0
      },
      "text/plain": [
       "Training: |                                                                                                   …"
      ]
     },
     "metadata": {},
     "output_type": "display_data"
    },
    {
     "data": {
      "application/vnd.jupyter.widget-view+json": {
       "model_id": "",
       "version_major": 2,
       "version_minor": 0
      },
      "text/plain": [
       "Validation: |                                                                                      | 0/? [00:0…"
      ]
     },
     "metadata": {},
     "output_type": "display_data"
    },
    {
     "data": {
      "application/vnd.jupyter.widget-view+json": {
       "model_id": "",
       "version_major": 2,
       "version_minor": 0
      },
      "text/plain": [
       "Validation: |                                                                                      | 0/? [00:0…"
      ]
     },
     "metadata": {},
     "output_type": "display_data"
    },
    {
     "data": {
      "application/vnd.jupyter.widget-view+json": {
       "model_id": "",
       "version_major": 2,
       "version_minor": 0
      },
      "text/plain": [
       "Validation: |                                                                                      | 0/? [00:0…"
      ]
     },
     "metadata": {},
     "output_type": "display_data"
    },
    {
     "data": {
      "application/vnd.jupyter.widget-view+json": {
       "model_id": "",
       "version_major": 2,
       "version_minor": 0
      },
      "text/plain": [
       "Validation: |                                                                                      | 0/? [00:0…"
      ]
     },
     "metadata": {},
     "output_type": "display_data"
    },
    {
     "data": {
      "application/vnd.jupyter.widget-view+json": {
       "model_id": "",
       "version_major": 2,
       "version_minor": 0
      },
      "text/plain": [
       "Validation: |                                                                                      | 0/? [00:0…"
      ]
     },
     "metadata": {},
     "output_type": "display_data"
    },
    {
     "data": {
      "application/vnd.jupyter.widget-view+json": {
       "model_id": "",
       "version_major": 2,
       "version_minor": 0
      },
      "text/plain": [
       "Validation: |                                                                                      | 0/? [00:0…"
      ]
     },
     "metadata": {},
     "output_type": "display_data"
    },
    {
     "data": {
      "application/vnd.jupyter.widget-view+json": {
       "model_id": "",
       "version_major": 2,
       "version_minor": 0
      },
      "text/plain": [
       "Validation: |                                                                                      | 0/? [00:0…"
      ]
     },
     "metadata": {},
     "output_type": "display_data"
    },
    {
     "data": {
      "application/vnd.jupyter.widget-view+json": {
       "model_id": "",
       "version_major": 2,
       "version_minor": 0
      },
      "text/plain": [
       "Validation: |                                                                                      | 0/? [00:0…"
      ]
     },
     "metadata": {},
     "output_type": "display_data"
    },
    {
     "data": {
      "application/vnd.jupyter.widget-view+json": {
       "model_id": "",
       "version_major": 2,
       "version_minor": 0
      },
      "text/plain": [
       "Validation: |                                                                                      | 0/? [00:0…"
      ]
     },
     "metadata": {},
     "output_type": "display_data"
    },
    {
     "data": {
      "application/vnd.jupyter.widget-view+json": {
       "model_id": "",
       "version_major": 2,
       "version_minor": 0
      },
      "text/plain": [
       "Validation: |                                                                                      | 0/? [00:0…"
      ]
     },
     "metadata": {},
     "output_type": "display_data"
    },
    {
     "data": {
      "application/vnd.jupyter.widget-view+json": {
       "model_id": "",
       "version_major": 2,
       "version_minor": 0
      },
      "text/plain": [
       "Validation: |                                                                                      | 0/? [00:0…"
      ]
     },
     "metadata": {},
     "output_type": "display_data"
    },
    {
     "data": {
      "application/vnd.jupyter.widget-view+json": {
       "model_id": "",
       "version_major": 2,
       "version_minor": 0
      },
      "text/plain": [
       "Validation: |                                                                                      | 0/? [00:0…"
      ]
     },
     "metadata": {},
     "output_type": "display_data"
    },
    {
     "data": {
      "application/vnd.jupyter.widget-view+json": {
       "model_id": "",
       "version_major": 2,
       "version_minor": 0
      },
      "text/plain": [
       "Validation: |                                                                                      | 0/? [00:0…"
      ]
     },
     "metadata": {},
     "output_type": "display_data"
    },
    {
     "data": {
      "application/vnd.jupyter.widget-view+json": {
       "model_id": "",
       "version_major": 2,
       "version_minor": 0
      },
      "text/plain": [
       "Validation: |                                                                                      | 0/? [00:0…"
      ]
     },
     "metadata": {},
     "output_type": "display_data"
    },
    {
     "data": {
      "application/vnd.jupyter.widget-view+json": {
       "model_id": "",
       "version_major": 2,
       "version_minor": 0
      },
      "text/plain": [
       "Validation: |                                                                                      | 0/? [00:0…"
      ]
     },
     "metadata": {},
     "output_type": "display_data"
    },
    {
     "data": {
      "application/vnd.jupyter.widget-view+json": {
       "model_id": "",
       "version_major": 2,
       "version_minor": 0
      },
      "text/plain": [
       "Validation: |                                                                                      | 0/? [00:0…"
      ]
     },
     "metadata": {},
     "output_type": "display_data"
    },
    {
     "data": {
      "application/vnd.jupyter.widget-view+json": {
       "model_id": "",
       "version_major": 2,
       "version_minor": 0
      },
      "text/plain": [
       "Validation: |                                                                                      | 0/? [00:0…"
      ]
     },
     "metadata": {},
     "output_type": "display_data"
    },
    {
     "data": {
      "application/vnd.jupyter.widget-view+json": {
       "model_id": "",
       "version_major": 2,
       "version_minor": 0
      },
      "text/plain": [
       "Validation: |                                                                                      | 0/? [00:0…"
      ]
     },
     "metadata": {},
     "output_type": "display_data"
    },
    {
     "data": {
      "application/vnd.jupyter.widget-view+json": {
       "model_id": "",
       "version_major": 2,
       "version_minor": 0
      },
      "text/plain": [
       "Validation: |                                                                                      | 0/? [00:0…"
      ]
     },
     "metadata": {},
     "output_type": "display_data"
    },
    {
     "data": {
      "application/vnd.jupyter.widget-view+json": {
       "model_id": "",
       "version_major": 2,
       "version_minor": 0
      },
      "text/plain": [
       "Validation: |                                                                                      | 0/? [00:0…"
      ]
     },
     "metadata": {},
     "output_type": "display_data"
    },
    {
     "data": {
      "application/vnd.jupyter.widget-view+json": {
       "model_id": "",
       "version_major": 2,
       "version_minor": 0
      },
      "text/plain": [
       "Validation: |                                                                                      | 0/? [00:0…"
      ]
     },
     "metadata": {},
     "output_type": "display_data"
    },
    {
     "data": {
      "application/vnd.jupyter.widget-view+json": {
       "model_id": "",
       "version_major": 2,
       "version_minor": 0
      },
      "text/plain": [
       "Validation: |                                                                                      | 0/? [00:0…"
      ]
     },
     "metadata": {},
     "output_type": "display_data"
    },
    {
     "data": {
      "application/vnd.jupyter.widget-view+json": {
       "model_id": "",
       "version_major": 2,
       "version_minor": 0
      },
      "text/plain": [
       "Validation: |                                                                                      | 0/? [00:0…"
      ]
     },
     "metadata": {},
     "output_type": "display_data"
    },
    {
     "data": {
      "application/vnd.jupyter.widget-view+json": {
       "model_id": "",
       "version_major": 2,
       "version_minor": 0
      },
      "text/plain": [
       "Validation: |                                                                                      | 0/? [00:0…"
      ]
     },
     "metadata": {},
     "output_type": "display_data"
    },
    {
     "data": {
      "application/vnd.jupyter.widget-view+json": {
       "model_id": "",
       "version_major": 2,
       "version_minor": 0
      },
      "text/plain": [
       "Validation: |                                                                                      | 0/? [00:0…"
      ]
     },
     "metadata": {},
     "output_type": "display_data"
    },
    {
     "data": {
      "application/vnd.jupyter.widget-view+json": {
       "model_id": "",
       "version_major": 2,
       "version_minor": 0
      },
      "text/plain": [
       "Validation: |                                                                                      | 0/? [00:0…"
      ]
     },
     "metadata": {},
     "output_type": "display_data"
    },
    {
     "data": {
      "application/vnd.jupyter.widget-view+json": {
       "model_id": "",
       "version_major": 2,
       "version_minor": 0
      },
      "text/plain": [
       "Validation: |                                                                                      | 0/? [00:0…"
      ]
     },
     "metadata": {},
     "output_type": "display_data"
    },
    {
     "data": {
      "application/vnd.jupyter.widget-view+json": {
       "model_id": "",
       "version_major": 2,
       "version_minor": 0
      },
      "text/plain": [
       "Validation: |                                                                                      | 0/? [00:0…"
      ]
     },
     "metadata": {},
     "output_type": "display_data"
    },
    {
     "data": {
      "application/vnd.jupyter.widget-view+json": {
       "model_id": "",
       "version_major": 2,
       "version_minor": 0
      },
      "text/plain": [
       "Validation: |                                                                                      | 0/? [00:0…"
      ]
     },
     "metadata": {},
     "output_type": "display_data"
    },
    {
     "data": {
      "application/vnd.jupyter.widget-view+json": {
       "model_id": "",
       "version_major": 2,
       "version_minor": 0
      },
      "text/plain": [
       "Validation: |                                                                                      | 0/? [00:0…"
      ]
     },
     "metadata": {},
     "output_type": "display_data"
    },
    {
     "data": {
      "application/vnd.jupyter.widget-view+json": {
       "model_id": "",
       "version_major": 2,
       "version_minor": 0
      },
      "text/plain": [
       "Validation: |                                                                                      | 0/? [00:0…"
      ]
     },
     "metadata": {},
     "output_type": "display_data"
    },
    {
     "data": {
      "application/vnd.jupyter.widget-view+json": {
       "model_id": "",
       "version_major": 2,
       "version_minor": 0
      },
      "text/plain": [
       "Validation: |                                                                                      | 0/? [00:0…"
      ]
     },
     "metadata": {},
     "output_type": "display_data"
    },
    {
     "data": {
      "application/vnd.jupyter.widget-view+json": {
       "model_id": "",
       "version_major": 2,
       "version_minor": 0
      },
      "text/plain": [
       "Validation: |                                                                                      | 0/? [00:0…"
      ]
     },
     "metadata": {},
     "output_type": "display_data"
    },
    {
     "data": {
      "application/vnd.jupyter.widget-view+json": {
       "model_id": "",
       "version_major": 2,
       "version_minor": 0
      },
      "text/plain": [
       "Validation: |                                                                                      | 0/? [00:0…"
      ]
     },
     "metadata": {},
     "output_type": "display_data"
    },
    {
     "data": {
      "application/vnd.jupyter.widget-view+json": {
       "model_id": "",
       "version_major": 2,
       "version_minor": 0
      },
      "text/plain": [
       "Validation: |                                                                                      | 0/? [00:0…"
      ]
     },
     "metadata": {},
     "output_type": "display_data"
    },
    {
     "data": {
      "application/vnd.jupyter.widget-view+json": {
       "model_id": "",
       "version_major": 2,
       "version_minor": 0
      },
      "text/plain": [
       "Validation: |                                                                                      | 0/? [00:0…"
      ]
     },
     "metadata": {},
     "output_type": "display_data"
    },
    {
     "data": {
      "application/vnd.jupyter.widget-view+json": {
       "model_id": "",
       "version_major": 2,
       "version_minor": 0
      },
      "text/plain": [
       "Validation: |                                                                                      | 0/? [00:0…"
      ]
     },
     "metadata": {},
     "output_type": "display_data"
    },
    {
     "data": {
      "application/vnd.jupyter.widget-view+json": {
       "model_id": "",
       "version_major": 2,
       "version_minor": 0
      },
      "text/plain": [
       "Validation: |                                                                                      | 0/? [00:0…"
      ]
     },
     "metadata": {},
     "output_type": "display_data"
    },
    {
     "data": {
      "application/vnd.jupyter.widget-view+json": {
       "model_id": "",
       "version_major": 2,
       "version_minor": 0
      },
      "text/plain": [
       "Validation: |                                                                                      | 0/? [00:0…"
      ]
     },
     "metadata": {},
     "output_type": "display_data"
    },
    {
     "data": {
      "application/vnd.jupyter.widget-view+json": {
       "model_id": "",
       "version_major": 2,
       "version_minor": 0
      },
      "text/plain": [
       "Validation: |                                                                                      | 0/? [00:0…"
      ]
     },
     "metadata": {},
     "output_type": "display_data"
    },
    {
     "data": {
      "application/vnd.jupyter.widget-view+json": {
       "model_id": "",
       "version_major": 2,
       "version_minor": 0
      },
      "text/plain": [
       "Validation: |                                                                                      | 0/? [00:0…"
      ]
     },
     "metadata": {},
     "output_type": "display_data"
    },
    {
     "data": {
      "application/vnd.jupyter.widget-view+json": {
       "model_id": "",
       "version_major": 2,
       "version_minor": 0
      },
      "text/plain": [
       "Validation: |                                                                                      | 0/? [00:0…"
      ]
     },
     "metadata": {},
     "output_type": "display_data"
    },
    {
     "data": {
      "application/vnd.jupyter.widget-view+json": {
       "model_id": "",
       "version_major": 2,
       "version_minor": 0
      },
      "text/plain": [
       "Validation: |                                                                                      | 0/? [00:0…"
      ]
     },
     "metadata": {},
     "output_type": "display_data"
    },
    {
     "data": {
      "application/vnd.jupyter.widget-view+json": {
       "model_id": "",
       "version_major": 2,
       "version_minor": 0
      },
      "text/plain": [
       "Validation: |                                                                                      | 0/? [00:0…"
      ]
     },
     "metadata": {},
     "output_type": "display_data"
    },
    {
     "data": {
      "application/vnd.jupyter.widget-view+json": {
       "model_id": "",
       "version_major": 2,
       "version_minor": 0
      },
      "text/plain": [
       "Validation: |                                                                                      | 0/? [00:0…"
      ]
     },
     "metadata": {},
     "output_type": "display_data"
    },
    {
     "data": {
      "application/vnd.jupyter.widget-view+json": {
       "model_id": "",
       "version_major": 2,
       "version_minor": 0
      },
      "text/plain": [
       "Validation: |                                                                                      | 0/? [00:0…"
      ]
     },
     "metadata": {},
     "output_type": "display_data"
    },
    {
     "data": {
      "application/vnd.jupyter.widget-view+json": {
       "model_id": "e86d6c832a634739bb229c2fec74e87b",
       "version_major": 2,
       "version_minor": 0
      },
      "text/plain": [
       "Validation: |                                                                                      | 0/? [00:0…"
      ]
     },
     "metadata": {},
     "output_type": "display_data"
    },
    {
     "data": {
      "application/vnd.jupyter.widget-view+json": {
       "model_id": "ed91c050551c4c4c99dadeb92177fbb3",
       "version_major": 2,
       "version_minor": 0
      },
      "text/plain": [
       "Validation: |                                                                                      | 0/? [00:0…"
      ]
     },
     "metadata": {},
     "output_type": "display_data"
    },
    {
     "data": {
      "application/vnd.jupyter.widget-view+json": {
       "model_id": "",
       "version_major": 2,
       "version_minor": 0
      },
      "text/plain": [
       "Validation: |                                                                                      | 0/? [00:0…"
      ]
     },
     "metadata": {},
     "output_type": "display_data"
    },
    {
     "data": {
      "application/vnd.jupyter.widget-view+json": {
       "model_id": "",
       "version_major": 2,
       "version_minor": 0
      },
      "text/plain": [
       "Validation: |                                                                                      | 0/? [00:0…"
      ]
     },
     "metadata": {},
     "output_type": "display_data"
    },
    {
     "name": "stderr",
     "output_type": "stream",
     "text": [
      "`Trainer.fit` stopped: `max_epochs=50` reached.\n"
     ]
    }
   ],
   "source": [
    "simclr_model = train_simclr(\n",
    "    batch_size=64, hidden_dim=64, lr=5e-4, temperature=0.07, weight_decay=1e-4, max_epochs=50\n",
    ")"
   ]
  },
  {
   "cell_type": "markdown",
   "id": "d4714a46",
   "metadata": {
    "papermill": {
     "duration": 0.204306,
     "end_time": "2023-10-12T10:17:09.845704",
     "exception": false,
     "start_time": "2023-10-12T10:17:09.641398",
     "status": "completed"
    },
    "tags": []
   },
   "source": [
    "To get an intuition of how training with contrastive learning behaves, we can take a look at the TensorBoard below:"
   ]
  },
  {
   "cell_type": "code",
   "execution_count": 86,
   "id": "5845e385",
   "metadata": {
    "papermill": {
     "duration": 1.218507,
     "end_time": "2023-10-12T10:17:11.269139",
     "exception": false,
     "start_time": "2023-10-12T10:17:10.050632",
     "status": "completed"
    },
    "tags": []
   },
   "outputs": [
    {
     "data": {
      "text/html": [
       "\n",
       "      <iframe id=\"tensorboard-frame-1c80317fa3b1799d\" width=\"100%\" height=\"800\" frameborder=\"0\">\n",
       "      </iframe>\n",
       "      <script>\n",
       "        (function() {\n",
       "          const frame = document.getElementById(\"tensorboard-frame-1c80317fa3b1799d\");\n",
       "          const url = new URL(\"/\", window.location);\n",
       "          const port = 6006;\n",
       "          if (port) {\n",
       "            url.port = port;\n",
       "          }\n",
       "          frame.src = url;\n",
       "        })();\n",
       "      </script>\n",
       "    "
      ],
      "text/plain": [
       "<IPython.core.display.HTML object>"
      ]
     },
     "metadata": {},
     "output_type": "display_data"
    }
   ],
   "source": [
    "%tensorboard --logdir saved_models/ContrastiveLearning_graphimages-twopi/SimCLR/lightning_logs"
   ]
  },
  {
   "cell_type": "markdown",
   "id": "ca9b8445",
   "metadata": {
    "lines_to_next_cell": 2,
    "papermill": {
     "duration": 0.210439,
     "end_time": "2023-10-12T10:17:12.153580",
     "exception": false,
     "start_time": "2023-10-12T10:17:11.943141",
     "status": "completed"
    },
    "tags": []
   },
   "source": [
    "## Logistic Regression\n",
    "\n",
    "<div class=\"center-wrapper\"><div class=\"video-wrapper\"><iframe src=\"https://www.youtube.com/embed/o3FktysLLd4\" title=\"YouTube video player\" frameborder=\"0\" allow=\"accelerometer; autoplay; clipboard-write; encrypted-media; gyroscope; picture-in-picture\" allowfullscreen></iframe></div></div>\n",
    "After we have trained our model via contrastive learning, we can deploy it on downstream tasks and see how well it performs with little data.\n",
    "A common setup, which also verifies whether the model has learned generalized representations, is to perform Logistic Regression on the features.\n",
    "In other words, we learn a single, linear layer that maps the representations to a class prediction.\n",
    "Since the base network $f(\\cdot)$ is not changed during the training process, the model can only perform well if the representations of $h$ describe all features that might be necessary for the task.\n",
    "Further, we do not have to worry too much about overfitting since we have very few parameters that are trained.\n",
    "Hence, we might expect that the model can perform well even with very little data.\n",
    "\n",
    "First, let's implement a simple Logistic Regression setup for which we assume that the images already have been encoded in their feature vectors.\n",
    "If very little data is available, it might be beneficial to dynamically encode the images during training so that we can also apply data augmentations.\n",
    "However, the way we implement it here is much more efficient and can be trained within a few seconds.\n",
    "Further, using data augmentations did not show any significant gain in this simple setup."
   ]
  },
  {
   "cell_type": "code",
   "execution_count": null,
   "id": "f8ffe86d",
   "metadata": {
    "papermill": {
     "duration": 0.221322,
     "end_time": "2023-10-12T10:17:12.579562",
     "exception": false,
     "start_time": "2023-10-12T10:17:12.358240",
     "status": "completed"
    },
    "tags": []
   },
   "outputs": [],
   "source": [
    "class LogisticRegression(L.LightningModule):\n",
    "    def __init__(self, feature_dim, num_classes, lr, weight_decay, max_epochs=100):\n",
    "        super().__init__()\n",
    "        self.save_hyperparameters()\n",
    "        # Mapping from representation h to classes\n",
    "        self.model = nn.Linear(feature_dim, num_classes)\n",
    "\n",
    "    def configure_optimizers(self):\n",
    "        optimizer = optim.AdamW(self.parameters(), lr=self.hparams.lr, weight_decay=self.hparams.weight_decay)\n",
    "        lr_scheduler = optim.lr_scheduler.MultiStepLR(\n",
    "            optimizer, milestones=[int(self.hparams.max_epochs * 0.6), int(self.hparams.max_epochs * 0.8)], gamma=0.1\n",
    "        )\n",
    "        return [optimizer], [lr_scheduler]\n",
    "\n",
    "    def _calculate_loss(self, batch, mode=\"train\"):\n",
    "        feats, labels = batch\n",
    "        preds = self.model(feats)\n",
    "        loss = F.cross_entropy(preds, labels)\n",
    "        acc = (preds.argmax(dim=-1) == labels).float().mean()\n",
    "\n",
    "        self.log(mode + \"_loss\", loss)\n",
    "        self.log(mode + \"_acc\", acc)\n",
    "        return loss\n",
    "\n",
    "    def training_step(self, batch, batch_idx):\n",
    "        return self._calculate_loss(batch, mode=\"train\")\n",
    "\n",
    "    def validation_step(self, batch, batch_idx):\n",
    "        self._calculate_loss(batch, mode=\"val\")\n",
    "\n",
    "    def test_step(self, batch, batch_idx):\n",
    "        self._calculate_loss(batch, mode=\"test\")"
   ]
  },
  {
   "cell_type": "markdown",
   "id": "1e1f5b1a",
   "metadata": {
    "papermill": {
     "duration": 0.204001,
     "end_time": "2023-10-12T10:17:12.987596",
     "exception": false,
     "start_time": "2023-10-12T10:17:12.783595",
     "status": "completed"
    },
    "tags": []
   },
   "source": [
    "The data we use is the training and test set of STL10.\n",
    "The training contains 500 images per class, while the test set has 800 images per class."
   ]
  },
  {
   "cell_type": "code",
   "execution_count": null,
   "id": "eb045d39",
   "metadata": {
    "papermill": {
     "duration": 10.594537,
     "end_time": "2023-10-12T10:17:23.836147",
     "exception": false,
     "start_time": "2023-10-12T10:17:13.241610",
     "status": "completed"
    },
    "tags": []
   },
   "outputs": [],
   "source": [
    "from transformers import AutoImageProcessor\n",
    "processor = AutoImageProcessor.from_pretrained(MODEL)\n",
    "\n",
    "class Preprocess:\n",
    "    def __call__(self, x):\n",
    "        return processor(x, return_tensors=\"pt\")[\"pixel_values\"].squeeze() \n",
    "    \n",
    "pp = Preprocess()\n",
    "train_img_data = STL10(root=DATASET_PATH, split=\"train\", download=True, transform=pp)\n",
    "test_img_data = STL10(root=DATASET_PATH, split=\"test\", download=True, transform=pp)\n",
    "\n",
    "print(\"Number of training examples:\", len(train_img_data))\n",
    "print(\"Number of test examples:\", len(test_img_data))"
   ]
  },
  {
   "cell_type": "markdown",
   "id": "4fe7bb53",
   "metadata": {
    "lines_to_next_cell": 2,
    "papermill": {
     "duration": 0.205395,
     "end_time": "2023-10-12T10:17:24.281519",
     "exception": false,
     "start_time": "2023-10-12T10:17:24.076124",
     "status": "completed"
    },
    "tags": []
   },
   "source": [
    "Next, we implement a small function to encode all images in our datasets.\n",
    "The output representations are then used as inputs to the Logistic Regression model."
   ]
  },
  {
   "cell_type": "code",
   "execution_count": null,
   "id": "dc036f86",
   "metadata": {
    "papermill": {
     "duration": 0.25953,
     "end_time": "2023-10-12T10:17:24.744198",
     "exception": false,
     "start_time": "2023-10-12T10:17:24.484668",
     "status": "completed"
    },
    "tags": []
   },
   "outputs": [],
   "source": [
    "@torch.no_grad()\n",
    "def prepare_data_features(model, dataset):\n",
    "    # Prepare model\n",
    "    network = deepcopy(model.model)\n",
    "    network.eval()\n",
    "    network.to(device)\n",
    "\n",
    "    # Encode all images\n",
    "    data_loader = data.DataLoader(dataset, batch_size=64, num_workers=20, shuffle=False, drop_last=False)\n",
    "    feats, labels = [], []\n",
    "    for batch_imgs, batch_labels in tqdm(data_loader):\n",
    "        batch_imgs = batch_imgs.to(device)\n",
    "        batch_feats = network(batch_imgs).pooler_output\n",
    "        feats.append(batch_feats.detach().cpu())\n",
    "        labels.append(batch_labels)\n",
    "\n",
    "    feats = torch.cat(feats, dim=0)\n",
    "    labels = torch.cat(labels, dim=0)\n",
    "\n",
    "    # Sort images by labels\n",
    "    labels, idxs = labels.sort()\n",
    "    feats = feats[idxs]\n",
    "\n",
    "    return data.TensorDataset(feats, labels)"
   ]
  },
  {
   "cell_type": "markdown",
   "id": "0a26b004",
   "metadata": {
    "papermill": {
     "duration": 0.20344,
     "end_time": "2023-10-12T10:17:25.155830",
     "exception": false,
     "start_time": "2023-10-12T10:17:24.952390",
     "status": "completed"
    },
    "tags": []
   },
   "source": [
    "Let's apply the function to both training and test set below."
   ]
  },
  {
   "cell_type": "code",
   "execution_count": null,
   "id": "9ca7aab2",
   "metadata": {
    "papermill": {
     "duration": 10.458895,
     "end_time": "2023-10-12T10:17:35.817068",
     "exception": false,
     "start_time": "2023-10-12T10:17:25.358173",
     "status": "completed"
    },
    "tags": []
   },
   "outputs": [],
   "source": [
    "train_feats_simclr = prepare_data_features(simclr_model, train_img_data)\n",
    "test_feats_simclr = prepare_data_features(simclr_model, test_img_data)"
   ]
  },
  {
   "cell_type": "markdown",
   "id": "c57594d2",
   "metadata": {
    "lines_to_next_cell": 2,
    "papermill": {
     "duration": 0.201731,
     "end_time": "2023-10-12T10:17:36.225721",
     "exception": false,
     "start_time": "2023-10-12T10:17:36.023990",
     "status": "completed"
    },
    "tags": []
   },
   "source": [
    "Finally, we can write a training function as usual.\n",
    "We evaluate the model on the test set every 10 epochs to allow early\n",
    "stopping, but the low frequency of the validation ensures that we do not\n",
    "overfit too much on the test set."
   ]
  },
  {
   "cell_type": "code",
   "execution_count": null,
   "id": "75b8ff08",
   "metadata": {
    "lines_to_next_cell": 2,
    "papermill": {
     "duration": 0.214718,
     "end_time": "2023-10-12T10:17:36.684817",
     "exception": false,
     "start_time": "2023-10-12T10:17:36.470099",
     "status": "completed"
    },
    "tags": []
   },
   "outputs": [],
   "source": [
    "def train_logreg(batch_size, train_feats_data, test_feats_data, model_suffix, max_epochs=100, **kwargs):\n",
    "    trainer = L.Trainer(\n",
    "        default_root_dir=os.path.join(CHECKPOINT_PATH, \"LogisticRegression\"),\n",
    "        accelerator=\"auto\",\n",
    "        devices=1,\n",
    "        max_epochs=max_epochs,\n",
    "        callbacks=[\n",
    "            ModelCheckpoint(save_weights_only=True, mode=\"max\", monitor=\"val_acc\"),\n",
    "            LearningRateMonitor(\"epoch\"),\n",
    "        ],\n",
    "        enable_progress_bar=False,\n",
    "        check_val_every_n_epoch=10,\n",
    "    )\n",
    "    trainer.logger._default_hp_metric = None\n",
    "\n",
    "    # Data loaders\n",
    "    train_loader = data.DataLoader(\n",
    "        train_feats_data, batch_size=batch_size, shuffle=True, drop_last=False, pin_memory=True, num_workers=0\n",
    "    )\n",
    "    test_loader = data.DataLoader(\n",
    "        test_feats_data, batch_size=batch_size, shuffle=False, drop_last=False, pin_memory=True, num_workers=0\n",
    "    )\n",
    "\n",
    "    # Check whether pretrained model exists. If yes, load it and skip training\n",
    "    pretrained_filename = os.path.join(CHECKPOINT_PATH, f\"LogisticRegression_{model_suffix}.ckpt\")\n",
    "    if os.path.isfile(pretrained_filename):\n",
    "        print(f\"Found pretrained model at {pretrained_filename}, loading...\")\n",
    "        model = LogisticRegression.load_from_checkpoint(pretrained_filename)\n",
    "    else:\n",
    "        L.seed_everything(42)  # To be reproducible\n",
    "        model = LogisticRegression(**kwargs)\n",
    "        trainer.fit(model, train_loader, test_loader)\n",
    "        model = LogisticRegression.load_from_checkpoint(trainer.checkpoint_callback.best_model_path)\n",
    "\n",
    "    # Test best model on train and validation set\n",
    "    train_result = trainer.test(model, dataloaders=train_loader, verbose=False)\n",
    "    test_result = trainer.test(model, dataloaders=test_loader, verbose=False)\n",
    "    result = {\"train\": train_result[0][\"test_acc\"], \"test\": test_result[0][\"test_acc\"]}\n",
    "\n",
    "    return model, result"
   ]
  },
  {
   "cell_type": "markdown",
   "id": "4c0bdab8",
   "metadata": {
    "lines_to_next_cell": 2,
    "papermill": {
     "duration": 0.201344,
     "end_time": "2023-10-12T10:17:37.090475",
     "exception": false,
     "start_time": "2023-10-12T10:17:36.889131",
     "status": "completed"
    },
    "tags": []
   },
   "source": [
    "Despite the training dataset of STL10 already only having 500 labeled images per class, we will perform experiments with even smaller datasets.\n",
    "Specifically, we train a Logistic Regression model for datasets with only 10, 20, 50, 100, 200, and all 500 examples per class.\n",
    "This gives us an intuition on how well the representations learned by contrastive learning can be transferred to a image recognition task like this classification.\n",
    "First, let's define a function to create the intended sub-datasets from the full training set:"
   ]
  },
  {
   "cell_type": "code",
   "execution_count": null,
   "id": "f6767b71",
   "metadata": {
    "papermill": {
     "duration": 0.212998,
     "end_time": "2023-10-12T10:17:37.504574",
     "exception": false,
     "start_time": "2023-10-12T10:17:37.291576",
     "status": "completed"
    },
    "tags": []
   },
   "outputs": [],
   "source": [
    "def get_smaller_dataset(original_dataset, num_imgs_per_label):\n",
    "    new_dataset = data.TensorDataset(\n",
    "        *(t.unflatten(0, (10, 500))[:, :num_imgs_per_label].flatten(0, 1) for t in original_dataset.tensors)\n",
    "    )\n",
    "    return new_dataset"
   ]
  },
  {
   "cell_type": "markdown",
   "id": "24542748",
   "metadata": {
    "papermill": {
     "duration": 0.23764,
     "end_time": "2023-10-12T10:17:37.945430",
     "exception": false,
     "start_time": "2023-10-12T10:17:37.707790",
     "status": "completed"
    },
    "tags": []
   },
   "source": [
    "Next, let's run all models.\n",
    "Despite us training 6 models, this cell could be run within a minute or two without the pretrained models."
   ]
  },
  {
   "cell_type": "code",
   "execution_count": null,
   "id": "597f3941",
   "metadata": {
    "papermill": {
     "duration": 1.747752,
     "end_time": "2023-10-12T10:17:39.900985",
     "exception": false,
     "start_time": "2023-10-12T10:17:38.153233",
     "status": "completed"
    },
    "tags": []
   },
   "outputs": [],
   "source": [
    "results = {}\n",
    "for num_imgs_per_label in [10, 20, 50, 100, 200, 500]:\n",
    "    sub_train_set = get_smaller_dataset(train_feats_simclr, num_imgs_per_label)\n",
    "    _, small_set_results = train_logreg(\n",
    "        batch_size=64,\n",
    "        train_feats_data=sub_train_set,\n",
    "        test_feats_data=test_feats_simclr,\n",
    "        model_suffix=num_imgs_per_label,\n",
    "        feature_dim=train_feats_simclr.tensors[0].shape[1],\n",
    "        num_classes=10,\n",
    "        lr=1e-3,\n",
    "        weight_decay=1e-3,\n",
    "    )\n",
    "    results[num_imgs_per_label] = small_set_results"
   ]
  },
  {
   "cell_type": "markdown",
   "id": "6aec221f",
   "metadata": {
    "papermill": {
     "duration": 0.20463,
     "end_time": "2023-10-12T10:17:40.346847",
     "exception": false,
     "start_time": "2023-10-12T10:17:40.142217",
     "status": "completed"
    },
    "tags": []
   },
   "source": [
    "Finally, let's plot the results."
   ]
  },
  {
   "cell_type": "code",
   "execution_count": null,
   "id": "507a9e81",
   "metadata": {
    "papermill": {
     "duration": 0.571832,
     "end_time": "2023-10-12T10:17:41.167306",
     "exception": false,
     "start_time": "2023-10-12T10:17:40.595474",
     "status": "completed"
    },
    "tags": []
   },
   "outputs": [],
   "source": [
    "dataset_sizes = sorted(k for k in results)\n",
    "test_scores = [results[k][\"test\"] for k in dataset_sizes]\n",
    "\n",
    "fig = plt.figure(figsize=(6, 4))\n",
    "plt.plot(\n",
    "    dataset_sizes,\n",
    "    test_scores,\n",
    "    \"--\",\n",
    "    color=\"#000\",\n",
    "    marker=\"*\",\n",
    "    markeredgecolor=\"#000\",\n",
    "    markerfacecolor=\"y\",\n",
    "    markersize=16,\n",
    ")\n",
    "plt.xscale(\"log\")\n",
    "plt.xticks(dataset_sizes, labels=dataset_sizes)\n",
    "plt.title(\"STL10 classification over dataset size\", fontsize=14)\n",
    "plt.xlabel(\"Number of images per class\")\n",
    "plt.ylabel(\"Test accuracy\")\n",
    "plt.minorticks_off()\n",
    "plt.show()\n",
    "\n",
    "for k, score in zip(dataset_sizes, test_scores):\n",
    "    print(f\"Test accuracy for {k:3d} images per label: {100*score:4.2f}%\")"
   ]
  },
  {
   "cell_type": "markdown",
   "id": "3b8a3c4f",
   "metadata": {
    "papermill": {
     "duration": 0.205521,
     "end_time": "2023-10-12T10:17:41.580230",
     "exception": false,
     "start_time": "2023-10-12T10:17:41.374709",
     "status": "completed"
    },
    "tags": []
   },
   "source": [
    "As one would expect, the classification performance improves the more data we have.\n",
    "However, with only 10 images per class, we can already classify more than 60% of the images correctly.\n",
    "This is quite impressive, considering that the images are also higher dimensional than e.g. CIFAR10.\n",
    "With the full dataset, we achieve an accuracy of 81%.\n",
    "The increase between 50 to 500 images per class might suggest a linear increase in performance with an exponentially larger dataset.\n",
    "However, with even more data, we could also finetune $f(\\cdot)$ in the training process, allowing for the representations to adapt more to the specific classification task given.\n",
    "\n",
    "To set the results above into perspective, we will train the base\n",
    "network, a ResNet-18, on the classification task from scratch."
   ]
  },
  {
   "cell_type": "markdown",
   "id": "df0df437",
   "metadata": {
    "lines_to_next_cell": 2,
    "papermill": {
     "duration": 0.204559,
     "end_time": "2023-10-12T10:17:41.990451",
     "exception": false,
     "start_time": "2023-10-12T10:17:41.785892",
     "status": "completed"
    },
    "tags": []
   },
   "source": [
    "## Baseline\n",
    "\n",
    "As a baseline to our results above, we will train a standard ResNet-18 with random initialization on the labeled training set of STL10.\n",
    "The results will give us an indication of the advantages that contrastive learning on unlabeled data has compared to using only supervised training.\n",
    "The implementation of the model is straightforward since the ResNet\n",
    "architecture is provided in the torchvision library."
   ]
  },
  {
   "cell_type": "code",
   "execution_count": null,
   "id": "4e477e28",
   "metadata": {
    "papermill": {
     "duration": 0.214044,
     "end_time": "2023-10-12T10:17:42.447100",
     "exception": false,
     "start_time": "2023-10-12T10:17:42.233056",
     "status": "completed"
    },
    "tags": []
   },
   "outputs": [],
   "source": [
    "class ResNet(L.LightningModule):\n",
    "    def __init__(self, num_classes, lr, weight_decay, max_epochs=100):\n",
    "        super().__init__()\n",
    "        self.save_hyperparameters()\n",
    "        self.model = torchvision.models.resnet18(pretrained=False, num_classes=num_classes)\n",
    "\n",
    "    def configure_optimizers(self):\n",
    "        optimizer = optim.AdamW(self.parameters(), lr=self.hparams.lr, weight_decay=self.hparams.weight_decay)\n",
    "        lr_scheduler = optim.lr_scheduler.MultiStepLR(\n",
    "            optimizer, milestones=[int(self.hparams.max_epochs * 0.7), int(self.hparams.max_epochs * 0.9)], gamma=0.1\n",
    "        )\n",
    "        return [optimizer], [lr_scheduler]\n",
    "\n",
    "    def _calculate_loss(self, batch, mode=\"train\"):\n",
    "        imgs, labels = batch\n",
    "        preds = self.model(imgs)\n",
    "        loss = F.cross_entropy(preds, labels)\n",
    "        acc = (preds.argmax(dim=-1) == labels).float().mean()\n",
    "\n",
    "        self.log(mode + \"_loss\", loss)\n",
    "        self.log(mode + \"_acc\", acc)\n",
    "        return loss\n",
    "\n",
    "    def training_step(self, batch, batch_idx):\n",
    "        return self._calculate_loss(batch, mode=\"train\")\n",
    "\n",
    "    def validation_step(self, batch, batch_idx):\n",
    "        self._calculate_loss(batch, mode=\"val\")\n",
    "\n",
    "    def test_step(self, batch, batch_idx):\n",
    "        self._calculate_loss(batch, mode=\"test\")"
   ]
  },
  {
   "cell_type": "markdown",
   "id": "932a6e40",
   "metadata": {
    "papermill": {
     "duration": 0.205127,
     "end_time": "2023-10-12T10:17:42.858480",
     "exception": false,
     "start_time": "2023-10-12T10:17:42.653353",
     "status": "completed"
    },
    "tags": []
   },
   "source": [
    "It is clear that the ResNet easily overfits on the training data since its parameter count is more than 1000 times larger than the dataset size.\n",
    "To make the comparison to the contrastive learning models fair, we apply data augmentations similar to the ones we used before: horizontal flip, crop-and-resize, grayscale, and gaussian blur.\n",
    "Color distortions as before are not used because the color distribution of an image showed to be an important feature for the classification.\n",
    "Hence, we observed no noticeable performance gains when adding color distortions to the set of augmentations.\n",
    "Similarly, we restrict the resizing operation before cropping to the max.\n",
    "125% of its original resolution, instead of 1250% as done in SimCLR.\n",
    "This is because, for classification, the model needs to recognize the full object, while in contrastive learning, we only want to check whether two patches belong to the same image/object.\n",
    "Hence, the chosen augmentations below are overall weaker than in the contrastive learning case."
   ]
  },
  {
   "cell_type": "code",
   "execution_count": null,
   "id": "32c68b47",
   "metadata": {
    "papermill": {
     "duration": 5.482204,
     "end_time": "2023-10-12T10:17:48.546112",
     "exception": false,
     "start_time": "2023-10-12T10:17:43.063908",
     "status": "completed"
    },
    "tags": []
   },
   "outputs": [],
   "source": [
    "train_transforms = transforms.Compose(\n",
    "    [\n",
    "        transforms.RandomHorizontalFlip(),\n",
    "        transforms.RandomResizedCrop(size=96, scale=(0.8, 1.0)),\n",
    "        transforms.RandomGrayscale(p=0.2),\n",
    "        transforms.GaussianBlur(kernel_size=9, sigma=(0.1, 0.5)),\n",
    "        transforms.ToTensor(),\n",
    "        transforms.Normalize((0.5,), (0.5,)),\n",
    "    ]\n",
    ")\n",
    "\n",
    "train_img_aug_data = STL10(root=DATASET_PATH, split=\"train\", download=True, transform=train_transforms)"
   ]
  },
  {
   "cell_type": "markdown",
   "id": "5af802e8",
   "metadata": {
    "lines_to_next_cell": 2,
    "papermill": {
     "duration": 0.256531,
     "end_time": "2023-10-12T10:17:49.043154",
     "exception": false,
     "start_time": "2023-10-12T10:17:48.786623",
     "status": "completed"
    },
    "tags": []
   },
   "source": [
    "The training function for the ResNet is almost identical to the Logistic Regression setup.\n",
    "Note that we allow the ResNet to perform validation every 2 epochs to\n",
    "also check whether the model overfits strongly in the first iterations\n",
    "or not."
   ]
  },
  {
   "cell_type": "code",
   "execution_count": null,
   "id": "a858c2ce",
   "metadata": {
    "papermill": {
     "duration": 0.21767,
     "end_time": "2023-10-12T10:17:49.465843",
     "exception": false,
     "start_time": "2023-10-12T10:17:49.248173",
     "status": "completed"
    },
    "tags": []
   },
   "outputs": [],
   "source": [
    "def train_resnet(batch_size, max_epochs=100, **kwargs):\n",
    "    trainer = L.Trainer(\n",
    "        default_root_dir=os.path.join(CHECKPOINT_PATH, \"ResNet\"),\n",
    "        accelerator=\"auto\",\n",
    "        devices=1,\n",
    "        max_epochs=max_epochs,\n",
    "        callbacks=[\n",
    "            ModelCheckpoint(save_weights_only=True, mode=\"max\", monitor=\"val_acc\"),\n",
    "            LearningRateMonitor(\"epoch\"),\n",
    "        ],\n",
    "        check_val_every_n_epoch=2,\n",
    "    )\n",
    "    trainer.logger._default_hp_metric = None\n",
    "\n",
    "    # Data loaders\n",
    "    train_loader = data.DataLoader(\n",
    "        train_img_aug_data,\n",
    "        batch_size=batch_size,\n",
    "        shuffle=True,\n",
    "        drop_last=True,\n",
    "        pin_memory=True,\n",
    "        num_workers=NUM_WORKERS,\n",
    "    )\n",
    "    test_loader = data.DataLoader(\n",
    "        test_img_data, batch_size=batch_size, shuffle=False, drop_last=False, pin_memory=True, num_workers=NUM_WORKERS\n",
    "    )\n",
    "\n",
    "    # Check whether pretrained model exists. If yes, load it and skip training\n",
    "    pretrained_filename = os.path.join(CHECKPOINT_PATH, \"ResNet.ckpt\")\n",
    "    if os.path.isfile(pretrained_filename):\n",
    "        print(\"Found pretrained model at %s, loading...\" % pretrained_filename)\n",
    "        model = ResNet.load_from_checkpoint(pretrained_filename)\n",
    "    else:\n",
    "        L.seed_everything(42)  # To be reproducible\n",
    "        model = ResNet(**kwargs)\n",
    "        trainer.fit(model, train_loader, test_loader)\n",
    "        model = ResNet.load_from_checkpoint(trainer.checkpoint_callback.best_model_path)\n",
    "\n",
    "    # Test best model on validation set\n",
    "    train_result = trainer.test(model, dataloaders=train_loader, verbose=False)\n",
    "    val_result = trainer.test(model, dataloaders=test_loader, verbose=False)\n",
    "    result = {\"train\": train_result[0][\"test_acc\"], \"test\": val_result[0][\"test_acc\"]}\n",
    "\n",
    "    return model, result"
   ]
  },
  {
   "cell_type": "markdown",
   "id": "2f6aa4cc",
   "metadata": {
    "papermill": {
     "duration": 0.205334,
     "end_time": "2023-10-12T10:17:49.877992",
     "exception": false,
     "start_time": "2023-10-12T10:17:49.672658",
     "status": "completed"
    },
    "tags": []
   },
   "source": [
    "Finally, let's train the model and check its results:"
   ]
  },
  {
   "cell_type": "code",
   "execution_count": null,
   "id": "3c9a49a1",
   "metadata": {
    "papermill": {
     "duration": 13.545551,
     "end_time": "2023-10-12T10:18:03.628429",
     "exception": false,
     "start_time": "2023-10-12T10:17:50.082878",
     "status": "completed"
    },
    "tags": []
   },
   "outputs": [],
   "source": [
    "resnet_model, resnet_result = train_resnet(batch_size=64, num_classes=10, lr=1e-3, weight_decay=2e-4, max_epochs=100)\n",
    "print(f\"Accuracy on training set: {100*resnet_result['train']:4.2f}%\")\n",
    "print(f\"Accuracy on test set: {100*resnet_result['test']:4.2f}%\")"
   ]
  },
  {
   "cell_type": "markdown",
   "id": "69361b4f",
   "metadata": {
    "papermill": {
     "duration": 0.205958,
     "end_time": "2023-10-12T10:18:04.044048",
     "exception": false,
     "start_time": "2023-10-12T10:18:03.838090",
     "status": "completed"
    },
    "tags": []
   },
   "source": [
    "The ResNet trained from scratch achieves 73.31% on the test set.\n",
    "This is almost 8% less than the contrastive learning model, and even slightly less than SimCLR achieves with 1/10 of the data.\n",
    "This shows that self-supervised, contrastive learning provides\n",
    "considerable performance gains by leveraging large amounts of unlabeled\n",
    "data when little labeled data is available."
   ]
  },
  {
   "cell_type": "markdown",
   "id": "515d972c",
   "metadata": {
    "papermill": {
     "duration": 0.205276,
     "end_time": "2023-10-12T10:18:04.454750",
     "exception": false,
     "start_time": "2023-10-12T10:18:04.249474",
     "status": "completed"
    },
    "tags": []
   },
   "source": [
    "## Conclusion\n",
    "\n",
    "In this tutorial, we have discussed self-supervised contrastive learning and implemented SimCLR as an example method.\n",
    "We have applied it to the STL10 dataset and showed that it can learn generalizable representations that we can use to train simple classification models.\n",
    "With 500 images per label, it achieved an 8% higher accuracy than a similar model solely trained from supervision and performs on par with it when only using a tenth of the labeled data.\n",
    "Our experimental results are limited to a single dataset, but recent works such as [Ting Chen et al. ](https://arxiv.org/abs/2006.10029) showed similar trends for larger datasets like ImageNet.\n",
    "Besides the discussed hyperparameters, the size of the model seems to be important in contrastive learning as well.\n",
    "If a lot of unlabeled data is available, larger models can achieve much stronger results and come close to their supervised baselines.\n",
    "Further, there are also approaches for combining contrastive and supervised learning, leading to performance gains beyond supervision (see [Khosla et al.](https://arxiv.org/abs/2004.11362)).\n",
    "Moreover, contrastive learning is not the only approach to self-supervised learning that has come up in the last two years and showed great results.\n",
    "Other methods include distillation-based methods like [BYOL](https://arxiv.org/abs/2006.07733) and redundancy reduction techniques like [Barlow Twins](https://arxiv.org/abs/2103.03230).\n",
    "There is a lot more to explore in the self-supervised domain, and more, impressive steps ahead are to be expected.\n",
    "\n",
    "### References\n",
    "\n",
    "[1] Chen, T., Kornblith, S., Norouzi, M., and Hinton, G. (2020).\n",
    "A simple framework for contrastive learning of visual representations.\n",
    "In International conference on machine learning (pp.\n",
    "1597-1607).\n",
    "PMLR.\n",
    "([link](https://arxiv.org/abs/2002.05709))\n",
    "\n",
    "[2] Chen, T., Kornblith, S., Swersky, K., Norouzi, M., and Hinton, G. (2020).\n",
    "Big self-supervised models are strong semi-supervised learners.\n",
    "NeurIPS 2021 ([link](https://arxiv.org/abs/2006.10029)).\n",
    "\n",
    "[3] Oord, A. V. D., Li, Y., and Vinyals, O.\n",
    "(2018).\n",
    "Representation learning with contrastive predictive coding.\n",
    "arXiv preprint arXiv:1807.03748.\n",
    "([link](https://arxiv.org/abs/1807.03748))\n",
    "\n",
    "[4] Grill, J.B., Strub, F., Altché, F., Tallec, C., Richemond, P.H., Buchatskaya, E., Doersch, C., Pires, B.A., Guo, Z.D., Azar, M.G.\n",
    "and Piot, B.\n",
    "(2020).\n",
    "Bootstrap your own latent: A new approach to self-supervised learning.\n",
    "arXiv preprint arXiv:2006.07733.\n",
    "([link](https://arxiv.org/abs/2006.07733))\n",
    "\n",
    "[5] Khosla, P., Teterwak, P., Wang, C., Sarna, A., Tian, Y., Isola, P., Maschinot, A., Liu, C. and Krishnan, D. (2020).\n",
    "Supervised contrastive learning.\n",
    "arXiv preprint arXiv:2004.11362.\n",
    "([link](https://arxiv.org/abs/2004.11362))\n",
    "\n",
    "[6] Zbontar, J., Jing, L., Misra, I., LeCun, Y. and Deny, S. (2021).\n",
    "Barlow twins: Self-supervised learning via redundancy reduction.\n",
    "arXiv preprint arXiv:2103.03230.\n",
    "([link](https://arxiv.org/abs/2103.03230))"
   ]
  },
  {
   "cell_type": "markdown",
   "id": "a94ac165",
   "metadata": {
    "papermill": {
     "duration": 0.239646,
     "end_time": "2023-10-12T10:18:04.899009",
     "exception": false,
     "start_time": "2023-10-12T10:18:04.659363",
     "status": "completed"
    },
    "tags": []
   },
   "source": [
    "## Congratulations - Time to Join the Community!\n",
    "\n",
    "Congratulations on completing this notebook tutorial! If you enjoyed this and would like to join the Lightning\n",
    "movement, you can do so in the following ways!\n",
    "\n",
    "### Star [Lightning](https://github.com/Lightning-AI/lightning) on GitHub\n",
    "The easiest way to help our community is just by starring the GitHub repos! This helps raise awareness of the cool\n",
    "tools we're building.\n",
    "\n",
    "### Join our [Slack](https://www.pytorchlightning.ai/community)!\n",
    "The best way to keep up to date on the latest advancements is to join our community! Make sure to introduce yourself\n",
    "and share your interests in `#general` channel\n",
    "\n",
    "\n",
    "### Contributions !\n",
    "The best way to contribute to our community is to become a code contributor! At any time you can go to\n",
    "[Lightning](https://github.com/Lightning-AI/lightning) or [Bolt](https://github.com/Lightning-AI/lightning-bolts)\n",
    "GitHub Issues page and filter for \"good first issue\".\n",
    "\n",
    "* [Lightning good first issue](https://github.com/Lightning-AI/lightning/issues?q=is%3Aopen+is%3Aissue+label%3A%22good+first+issue%22)\n",
    "* [Bolt good first issue](https://github.com/Lightning-AI/lightning-bolts/issues?q=is%3Aopen+is%3Aissue+label%3A%22good+first+issue%22)\n",
    "* You can also contribute your own notebooks with useful examples !\n",
    "\n",
    "### Great thanks from the entire Pytorch Lightning Team for your interest !\n",
    "\n",
    "[![Pytorch Lightning](data:image/png;base64,NDA0OiBOb3QgRm91bmQ=){height=\"60px\" width=\"240px\"}](https://pytorchlightning.ai)"
   ]
  }
 ],
 "metadata": {
  "jupytext": {
   "cell_metadata_filter": "colab_type,id,colab,-all",
   "formats": "ipynb,py:percent",
   "main_language": "python"
  },
  "kernelspec": {
   "display_name": "Python 3 (ipykernel)",
   "language": "python",
   "name": "python3"
  },
  "language_info": {
   "codemirror_mode": {
    "name": "ipython",
    "version": 3
   },
   "file_extension": ".py",
   "mimetype": "text/x-python",
   "name": "python",
   "nbconvert_exporter": "python",
   "pygments_lexer": "ipython3",
   "version": "3.11.6"
  },
  "papermill": {
   "default_parameters": {},
   "duration": 642.271841,
   "end_time": "2023-10-12T10:18:08.128442",
   "environment_variables": {},
   "exception": null,
   "input_path": "course_UvA-DL/13-contrastive-learning/SimCLR.ipynb",
   "output_path": ".notebooks/course_UvA-DL/13-contrastive-learning.ipynb",
   "parameters": {},
   "start_time": "2023-10-12T10:07:25.856601",
   "version": "2.4.0"
  },
  "widgets": {
   "application/vnd.jupyter.widget-state+json": {
    "state": {
     "028fa3950cde4361a023b5063df994b1": {
      "model_module": "@jupyter-widgets/controls",
      "model_module_version": "2.0.0",
      "model_name": "ProgressStyleModel",
      "state": {
       "_model_module": "@jupyter-widgets/controls",
       "_model_module_version": "2.0.0",
       "_model_name": "ProgressStyleModel",
       "_view_count": null,
       "_view_module": "@jupyter-widgets/base",
       "_view_module_version": "2.0.0",
       "_view_name": "StyleView",
       "bar_color": null,
       "description_width": ""
      }
     },
     "0b4249e3fb00488cae7d7a446bf88186": {
      "model_module": "@jupyter-widgets/controls",
      "model_module_version": "2.0.0",
      "model_name": "HBoxModel",
      "state": {
       "_dom_classes": [],
       "_model_module": "@jupyter-widgets/controls",
       "_model_module_version": "2.0.0",
       "_model_name": "HBoxModel",
       "_view_count": null,
       "_view_module": "@jupyter-widgets/controls",
       "_view_module_version": "2.0.0",
       "_view_name": "HBoxView",
       "box_style": "",
       "children": [
        "IPY_MODEL_d9b00aa8f6b742c0b36243123fc4de73",
        "IPY_MODEL_fa8afdd79868440a8c89d7aa71628ac7",
        "IPY_MODEL_50e557a2bc5743edbc6daa5b8b871c2c"
       ],
       "layout": "IPY_MODEL_45ad8e126b6b44cc9708ec4e19901384",
       "tabbable": null,
       "tooltip": null
      }
     },
     "14ee7ffc561f4de3a7238d7ccf0be65b": {
      "model_module": "@jupyter-widgets/controls",
      "model_module_version": "2.0.0",
      "model_name": "HTMLStyleModel",
      "state": {
       "_model_module": "@jupyter-widgets/controls",
       "_model_module_version": "2.0.0",
       "_model_name": "HTMLStyleModel",
       "_view_count": null,
       "_view_module": "@jupyter-widgets/base",
       "_view_module_version": "2.0.0",
       "_view_name": "StyleView",
       "background": null,
       "description_width": "",
       "font_size": null,
       "text_color": null
      }
     },
     "17c39cbb566341f9b02c07811b7cdf8f": {
      "model_module": "@jupyter-widgets/controls",
      "model_module_version": "2.0.0",
      "model_name": "HTMLStyleModel",
      "state": {
       "_model_module": "@jupyter-widgets/controls",
       "_model_module_version": "2.0.0",
       "_model_name": "HTMLStyleModel",
       "_view_count": null,
       "_view_module": "@jupyter-widgets/base",
       "_view_module_version": "2.0.0",
       "_view_name": "StyleView",
       "background": null,
       "description_width": "",
       "font_size": null,
       "text_color": null
      }
     },
     "1bee531809be408983b37397d7670e1e": {
      "model_module": "@jupyter-widgets/base",
      "model_module_version": "2.0.0",
      "model_name": "LayoutModel",
      "state": {
       "_model_module": "@jupyter-widgets/base",
       "_model_module_version": "2.0.0",
       "_model_name": "LayoutModel",
       "_view_count": null,
       "_view_module": "@jupyter-widgets/base",
       "_view_module_version": "2.0.0",
       "_view_name": "LayoutView",
       "align_content": null,
       "align_items": null,
       "align_self": null,
       "border_bottom": null,
       "border_left": null,
       "border_right": null,
       "border_top": null,
       "bottom": null,
       "display": null,
       "flex": null,
       "flex_flow": null,
       "grid_area": null,
       "grid_auto_columns": null,
       "grid_auto_flow": null,
       "grid_auto_rows": null,
       "grid_column": null,
       "grid_gap": null,
       "grid_row": null,
       "grid_template_areas": null,
       "grid_template_columns": null,
       "grid_template_rows": null,
       "height": null,
       "justify_content": null,
       "justify_items": null,
       "left": null,
       "margin": null,
       "max_height": null,
       "max_width": null,
       "min_height": null,
       "min_width": null,
       "object_fit": null,
       "object_position": null,
       "order": null,
       "overflow": null,
       "padding": null,
       "right": null,
       "top": null,
       "visibility": null,
       "width": null
      }
     },
     "1df947497f9246bdb843d8bff62d68a6": {
      "model_module": "@jupyter-widgets/controls",
      "model_module_version": "2.0.0",
      "model_name": "FloatProgressModel",
      "state": {
       "_dom_classes": [],
       "_model_module": "@jupyter-widgets/controls",
       "_model_module_version": "2.0.0",
       "_model_name": "FloatProgressModel",
       "_view_count": null,
       "_view_module": "@jupyter-widgets/controls",
       "_view_module_version": "2.0.0",
       "_view_name": "ProgressView",
       "bar_style": "success",
       "description": "",
       "description_allow_html": false,
       "layout": "IPY_MODEL_fa28a7d1a35d44cfbe0ac4c509689d55",
       "max": 78,
       "min": 0,
       "orientation": "horizontal",
       "style": "IPY_MODEL_825a73e9138c4a52bcc8f3c9c2014da1",
       "tabbable": null,
       "tooltip": null,
       "value": 78
      }
     },
     "20fcf0fecc994d82998be55ce12d0372": {
      "model_module": "@jupyter-widgets/base",
      "model_module_version": "2.0.0",
      "model_name": "LayoutModel",
      "state": {
       "_model_module": "@jupyter-widgets/base",
       "_model_module_version": "2.0.0",
       "_model_name": "LayoutModel",
       "_view_count": null,
       "_view_module": "@jupyter-widgets/base",
       "_view_module_version": "2.0.0",
       "_view_name": "LayoutView",
       "align_content": null,
       "align_items": null,
       "align_self": null,
       "border_bottom": null,
       "border_left": null,
       "border_right": null,
       "border_top": null,
       "bottom": null,
       "display": null,
       "flex": null,
       "flex_flow": null,
       "grid_area": null,
       "grid_auto_columns": null,
       "grid_auto_flow": null,
       "grid_auto_rows": null,
       "grid_column": null,
       "grid_gap": null,
       "grid_row": null,
       "grid_template_areas": null,
       "grid_template_columns": null,
       "grid_template_rows": null,
       "height": null,
       "justify_content": null,
       "justify_items": null,
       "left": null,
       "margin": null,
       "max_height": null,
       "max_width": null,
       "min_height": null,
       "min_width": null,
       "object_fit": null,
       "object_position": null,
       "order": null,
       "overflow": null,
       "padding": null,
       "right": null,
       "top": null,
       "visibility": null,
       "width": null
      }
     },
     "2db79c8a15b34955963e20711b79c877": {
      "model_module": "@jupyter-widgets/base",
      "model_module_version": "2.0.0",
      "model_name": "LayoutModel",
      "state": {
       "_model_module": "@jupyter-widgets/base",
       "_model_module_version": "2.0.0",
       "_model_name": "LayoutModel",
       "_view_count": null,
       "_view_module": "@jupyter-widgets/base",
       "_view_module_version": "2.0.0",
       "_view_name": "LayoutView",
       "align_content": null,
       "align_items": null,
       "align_self": null,
       "border_bottom": null,
       "border_left": null,
       "border_right": null,
       "border_top": null,
       "bottom": null,
       "display": null,
       "flex": "2",
       "flex_flow": null,
       "grid_area": null,
       "grid_auto_columns": null,
       "grid_auto_flow": null,
       "grid_auto_rows": null,
       "grid_column": null,
       "grid_gap": null,
       "grid_row": null,
       "grid_template_areas": null,
       "grid_template_columns": null,
       "grid_template_rows": null,
       "height": null,
       "justify_content": null,
       "justify_items": null,
       "left": null,
       "margin": null,
       "max_height": null,
       "max_width": null,
       "min_height": null,
       "min_width": null,
       "object_fit": null,
       "object_position": null,
       "order": null,
       "overflow": null,
       "padding": null,
       "right": null,
       "top": null,
       "visibility": null,
       "width": null
      }
     },
     "31da97807333409988557c433c0dea33": {
      "model_module": "@jupyter-widgets/controls",
      "model_module_version": "2.0.0",
      "model_name": "HTMLModel",
      "state": {
       "_dom_classes": [],
       "_model_module": "@jupyter-widgets/controls",
       "_model_module_version": "2.0.0",
       "_model_name": "HTMLModel",
       "_view_count": null,
       "_view_module": "@jupyter-widgets/controls",
       "_view_module_version": "2.0.0",
       "_view_name": "HTMLView",
       "description": "",
       "description_allow_html": false,
       "layout": "IPY_MODEL_20fcf0fecc994d82998be55ce12d0372",
       "placeholder": "​",
       "style": "IPY_MODEL_97de4f5dabd941aba3d37c51fe8a8bb2",
       "tabbable": null,
       "tooltip": null,
       "value": " 78/78 [00:00&lt;00:00, 98.28it/s]"
      }
     },
     "3cd3c14d9395491084de9d55a34ee9df": {
      "model_module": "@jupyter-widgets/controls",
      "model_module_version": "2.0.0",
      "model_name": "HTMLStyleModel",
      "state": {
       "_model_module": "@jupyter-widgets/controls",
       "_model_module_version": "2.0.0",
       "_model_name": "HTMLStyleModel",
       "_view_count": null,
       "_view_module": "@jupyter-widgets/base",
       "_view_module_version": "2.0.0",
       "_view_name": "StyleView",
       "background": null,
       "description_width": "",
       "font_size": null,
       "text_color": null
      }
     },
     "41466855f43e4abba228b7f29ba1875f": {
      "model_module": "@jupyter-widgets/base",
      "model_module_version": "2.0.0",
      "model_name": "LayoutModel",
      "state": {
       "_model_module": "@jupyter-widgets/base",
       "_model_module_version": "2.0.0",
       "_model_name": "LayoutModel",
       "_view_count": null,
       "_view_module": "@jupyter-widgets/base",
       "_view_module_version": "2.0.0",
       "_view_name": "LayoutView",
       "align_content": null,
       "align_items": null,
       "align_self": null,
       "border_bottom": null,
       "border_left": null,
       "border_right": null,
       "border_top": null,
       "bottom": null,
       "display": null,
       "flex": null,
       "flex_flow": null,
       "grid_area": null,
       "grid_auto_columns": null,
       "grid_auto_flow": null,
       "grid_auto_rows": null,
       "grid_column": null,
       "grid_gap": null,
       "grid_row": null,
       "grid_template_areas": null,
       "grid_template_columns": null,
       "grid_template_rows": null,
       "height": null,
       "justify_content": null,
       "justify_items": null,
       "left": null,
       "margin": null,
       "max_height": null,
       "max_width": null,
       "min_height": null,
       "min_width": null,
       "object_fit": null,
       "object_position": null,
       "order": null,
       "overflow": null,
       "padding": null,
       "right": null,
       "top": null,
       "visibility": null,
       "width": null
      }
     },
     "45ad8e126b6b44cc9708ec4e19901384": {
      "model_module": "@jupyter-widgets/base",
      "model_module_version": "2.0.0",
      "model_name": "LayoutModel",
      "state": {
       "_model_module": "@jupyter-widgets/base",
       "_model_module_version": "2.0.0",
       "_model_name": "LayoutModel",
       "_view_count": null,
       "_view_module": "@jupyter-widgets/base",
       "_view_module_version": "2.0.0",
       "_view_name": "LayoutView",
       "align_content": null,
       "align_items": null,
       "align_self": null,
       "border_bottom": null,
       "border_left": null,
       "border_right": null,
       "border_top": null,
       "bottom": null,
       "display": null,
       "flex": null,
       "flex_flow": null,
       "grid_area": null,
       "grid_auto_columns": null,
       "grid_auto_flow": null,
       "grid_auto_rows": null,
       "grid_column": null,
       "grid_gap": null,
       "grid_row": null,
       "grid_template_areas": null,
       "grid_template_columns": null,
       "grid_template_rows": null,
       "height": null,
       "justify_content": null,
       "justify_items": null,
       "left": null,
       "margin": null,
       "max_height": null,
       "max_width": null,
       "min_height": null,
       "min_width": null,
       "object_fit": null,
       "object_position": null,
       "order": null,
       "overflow": null,
       "padding": null,
       "right": null,
       "top": null,
       "visibility": null,
       "width": null
      }
     },
     "47f19c8291ed482893ba5a9831906510": {
      "model_module": "@jupyter-widgets/controls",
      "model_module_version": "2.0.0",
      "model_name": "HTMLStyleModel",
      "state": {
       "_model_module": "@jupyter-widgets/controls",
       "_model_module_version": "2.0.0",
       "_model_name": "HTMLStyleModel",
       "_view_count": null,
       "_view_module": "@jupyter-widgets/base",
       "_view_module_version": "2.0.0",
       "_view_name": "StyleView",
       "background": null,
       "description_width": "",
       "font_size": null,
       "text_color": null
      }
     },
     "50e557a2bc5743edbc6daa5b8b871c2c": {
      "model_module": "@jupyter-widgets/controls",
      "model_module_version": "2.0.0",
      "model_name": "HTMLModel",
      "state": {
       "_dom_classes": [],
       "_model_module": "@jupyter-widgets/controls",
       "_model_module_version": "2.0.0",
       "_model_name": "HTMLModel",
       "_view_count": null,
       "_view_module": "@jupyter-widgets/controls",
       "_view_module_version": "2.0.0",
       "_view_name": "HTMLView",
       "description": "",
       "description_allow_html": false,
       "layout": "IPY_MODEL_41466855f43e4abba228b7f29ba1875f",
       "placeholder": "​",
       "style": "IPY_MODEL_17c39cbb566341f9b02c07811b7cdf8f",
       "tabbable": null,
       "tooltip": null,
       "value": " 125/125 [00:06&lt;00:00, 68.22it/s]"
      }
     },
     "525589d0c5414bb6bbea67eabe6717d7": {
      "model_module": "@jupyter-widgets/controls",
      "model_module_version": "2.0.0",
      "model_name": "ProgressStyleModel",
      "state": {
       "_model_module": "@jupyter-widgets/controls",
       "_model_module_version": "2.0.0",
       "_model_name": "ProgressStyleModel",
       "_view_count": null,
       "_view_module": "@jupyter-widgets/base",
       "_view_module_version": "2.0.0",
       "_view_name": "StyleView",
       "bar_color": null,
       "description_width": ""
      }
     },
     "6246814c866847038f453308e4c592db": {
      "model_module": "@jupyter-widgets/controls",
      "model_module_version": "2.0.0",
      "model_name": "HTMLStyleModel",
      "state": {
       "_model_module": "@jupyter-widgets/controls",
       "_model_module_version": "2.0.0",
       "_model_name": "HTMLStyleModel",
       "_view_count": null,
       "_view_module": "@jupyter-widgets/base",
       "_view_module_version": "2.0.0",
       "_view_name": "StyleView",
       "background": null,
       "description_width": "",
       "font_size": null,
       "text_color": null
      }
     },
     "6417f3d4fe1147ecabd60c18b0ed024f": {
      "model_module": "@jupyter-widgets/controls",
      "model_module_version": "2.0.0",
      "model_name": "HBoxModel",
      "state": {
       "_dom_classes": [],
       "_model_module": "@jupyter-widgets/controls",
       "_model_module_version": "2.0.0",
       "_model_name": "HBoxModel",
       "_view_count": null,
       "_view_module": "@jupyter-widgets/controls",
       "_view_module_version": "2.0.0",
       "_view_name": "HBoxView",
       "box_style": "",
       "children": [
        "IPY_MODEL_cfba62487b504f2cb22ea1080b43126a",
        "IPY_MODEL_1df947497f9246bdb843d8bff62d68a6",
        "IPY_MODEL_31da97807333409988557c433c0dea33"
       ],
       "layout": "IPY_MODEL_9f7eb3469535475eb0d122b0dd0482c1",
       "tabbable": null,
       "tooltip": null
      }
     },
     "699a6517e8b0483caa965661ec9f2bb0": {
      "model_module": "@jupyter-widgets/base",
      "model_module_version": "2.0.0",
      "model_name": "LayoutModel",
      "state": {
       "_model_module": "@jupyter-widgets/base",
       "_model_module_version": "2.0.0",
       "_model_name": "LayoutModel",
       "_view_count": null,
       "_view_module": "@jupyter-widgets/base",
       "_view_module_version": "2.0.0",
       "_view_name": "LayoutView",
       "align_content": null,
       "align_items": null,
       "align_self": null,
       "border_bottom": null,
       "border_left": null,
       "border_right": null,
       "border_top": null,
       "bottom": null,
       "display": null,
       "flex": null,
       "flex_flow": null,
       "grid_area": null,
       "grid_auto_columns": null,
       "grid_auto_flow": null,
       "grid_auto_rows": null,
       "grid_column": null,
       "grid_gap": null,
       "grid_row": null,
       "grid_template_areas": null,
       "grid_template_columns": null,
       "grid_template_rows": null,
       "height": null,
       "justify_content": null,
       "justify_items": null,
       "left": null,
       "margin": null,
       "max_height": null,
       "max_width": null,
       "min_height": null,
       "min_width": null,
       "object_fit": null,
       "object_position": null,
       "order": null,
       "overflow": null,
       "padding": null,
       "right": null,
       "top": null,
       "visibility": null,
       "width": null
      }
     },
     "7a027bb1905748cf859dd44f7c613c1e": {
      "model_module": "@jupyter-widgets/base",
      "model_module_version": "2.0.0",
      "model_name": "LayoutModel",
      "state": {
       "_model_module": "@jupyter-widgets/base",
       "_model_module_version": "2.0.0",
       "_model_name": "LayoutModel",
       "_view_count": null,
       "_view_module": "@jupyter-widgets/base",
       "_view_module_version": "2.0.0",
       "_view_name": "LayoutView",
       "align_content": null,
       "align_items": null,
       "align_self": null,
       "border_bottom": null,
       "border_left": null,
       "border_right": null,
       "border_top": null,
       "bottom": null,
       "display": "inline-flex",
       "flex": null,
       "flex_flow": "row wrap",
       "grid_area": null,
       "grid_auto_columns": null,
       "grid_auto_flow": null,
       "grid_auto_rows": null,
       "grid_column": null,
       "grid_gap": null,
       "grid_row": null,
       "grid_template_areas": null,
       "grid_template_columns": null,
       "grid_template_rows": null,
       "height": null,
       "justify_content": null,
       "justify_items": null,
       "left": null,
       "margin": null,
       "max_height": null,
       "max_width": null,
       "min_height": null,
       "min_width": null,
       "object_fit": null,
       "object_position": null,
       "order": null,
       "overflow": null,
       "padding": null,
       "right": null,
       "top": null,
       "visibility": null,
       "width": "100%"
      }
     },
     "825a73e9138c4a52bcc8f3c9c2014da1": {
      "model_module": "@jupyter-widgets/controls",
      "model_module_version": "2.0.0",
      "model_name": "ProgressStyleModel",
      "state": {
       "_model_module": "@jupyter-widgets/controls",
       "_model_module_version": "2.0.0",
       "_model_name": "ProgressStyleModel",
       "_view_count": null,
       "_view_module": "@jupyter-widgets/base",
       "_view_module_version": "2.0.0",
       "_view_name": "StyleView",
       "bar_color": null,
       "description_width": ""
      }
     },
     "902f2f296f424531ad379bd896f84be9": {
      "model_module": "@jupyter-widgets/controls",
      "model_module_version": "2.0.0",
      "model_name": "HTMLModel",
      "state": {
       "_dom_classes": [],
       "_model_module": "@jupyter-widgets/controls",
       "_model_module_version": "2.0.0",
       "_model_name": "HTMLModel",
       "_view_count": null,
       "_view_module": "@jupyter-widgets/controls",
       "_view_module_version": "2.0.0",
       "_view_name": "HTMLView",
       "description": "",
       "description_allow_html": false,
       "layout": "IPY_MODEL_be884e63ca594c9abb737ead503ac9b9",
       "placeholder": "​",
       "style": "IPY_MODEL_9feae90bc6634c29925546ee179a865a",
       "tabbable": null,
       "tooltip": null,
       "value": " 125/125 [00:00&lt;00:00, 141.90it/s]"
      }
     },
     "9077eaa39ff548e8b59e175f979bef09": {
      "model_module": "@jupyter-widgets/controls",
      "model_module_version": "2.0.0",
      "model_name": "HTMLModel",
      "state": {
       "_dom_classes": [],
       "_model_module": "@jupyter-widgets/controls",
       "_model_module_version": "2.0.0",
       "_model_name": "HTMLModel",
       "_view_count": null,
       "_view_module": "@jupyter-widgets/controls",
       "_view_module_version": "2.0.0",
       "_view_name": "HTMLView",
       "description": "",
       "description_allow_html": false,
       "layout": "IPY_MODEL_699a6517e8b0483caa965661ec9f2bb0",
       "placeholder": "​",
       "style": "IPY_MODEL_6246814c866847038f453308e4c592db",
       "tabbable": null,
       "tooltip": null,
       "value": "Testing DataLoader 0: 100%"
      }
     },
     "942fd9f1824a4bee8a771e6388f6a097": {
      "model_module": "@jupyter-widgets/controls",
      "model_module_version": "2.0.0",
      "model_name": "HBoxModel",
      "state": {
       "_dom_classes": [],
       "_model_module": "@jupyter-widgets/controls",
       "_model_module_version": "2.0.0",
       "_model_name": "HBoxModel",
       "_view_count": null,
       "_view_module": "@jupyter-widgets/controls",
       "_view_module_version": "2.0.0",
       "_view_name": "HBoxView",
       "box_style": "",
       "children": [
        "IPY_MODEL_f3527a428b324ccf932fb8aab5781662",
        "IPY_MODEL_c7fbe53c33af4f8bb49c7bd0805fe177",
        "IPY_MODEL_e3f0f959bdae4794a188a747f7864398"
       ],
       "layout": "IPY_MODEL_954dc5c43b0b46479bf0f4f3daf66f1a",
       "tabbable": null,
       "tooltip": null
      }
     },
     "954dc5c43b0b46479bf0f4f3daf66f1a": {
      "model_module": "@jupyter-widgets/base",
      "model_module_version": "2.0.0",
      "model_name": "LayoutModel",
      "state": {
       "_model_module": "@jupyter-widgets/base",
       "_model_module_version": "2.0.0",
       "_model_name": "LayoutModel",
       "_view_count": null,
       "_view_module": "@jupyter-widgets/base",
       "_view_module_version": "2.0.0",
       "_view_name": "LayoutView",
       "align_content": null,
       "align_items": null,
       "align_self": null,
       "border_bottom": null,
       "border_left": null,
       "border_right": null,
       "border_top": null,
       "bottom": null,
       "display": null,
       "flex": null,
       "flex_flow": null,
       "grid_area": null,
       "grid_auto_columns": null,
       "grid_auto_flow": null,
       "grid_auto_rows": null,
       "grid_column": null,
       "grid_gap": null,
       "grid_row": null,
       "grid_template_areas": null,
       "grid_template_columns": null,
       "grid_template_rows": null,
       "height": null,
       "justify_content": null,
       "justify_items": null,
       "left": null,
       "margin": null,
       "max_height": null,
       "max_width": null,
       "min_height": null,
       "min_width": null,
       "object_fit": null,
       "object_position": null,
       "order": null,
       "overflow": null,
       "padding": null,
       "right": null,
       "top": null,
       "visibility": null,
       "width": null
      }
     },
     "9644700dd42042608bce9610426573f6": {
      "model_module": "@jupyter-widgets/controls",
      "model_module_version": "2.0.0",
      "model_name": "HTMLStyleModel",
      "state": {
       "_model_module": "@jupyter-widgets/controls",
       "_model_module_version": "2.0.0",
       "_model_name": "HTMLStyleModel",
       "_view_count": null,
       "_view_module": "@jupyter-widgets/base",
       "_view_module_version": "2.0.0",
       "_view_name": "StyleView",
       "background": null,
       "description_width": "",
       "font_size": null,
       "text_color": null
      }
     },
     "97de4f5dabd941aba3d37c51fe8a8bb2": {
      "model_module": "@jupyter-widgets/controls",
      "model_module_version": "2.0.0",
      "model_name": "HTMLStyleModel",
      "state": {
       "_model_module": "@jupyter-widgets/controls",
       "_model_module_version": "2.0.0",
       "_model_name": "HTMLStyleModel",
       "_view_count": null,
       "_view_module": "@jupyter-widgets/base",
       "_view_module_version": "2.0.0",
       "_view_name": "StyleView",
       "background": null,
       "description_width": "",
       "font_size": null,
       "text_color": null
      }
     },
     "9f7eb3469535475eb0d122b0dd0482c1": {
      "model_module": "@jupyter-widgets/base",
      "model_module_version": "2.0.0",
      "model_name": "LayoutModel",
      "state": {
       "_model_module": "@jupyter-widgets/base",
       "_model_module_version": "2.0.0",
       "_model_name": "LayoutModel",
       "_view_count": null,
       "_view_module": "@jupyter-widgets/base",
       "_view_module_version": "2.0.0",
       "_view_name": "LayoutView",
       "align_content": null,
       "align_items": null,
       "align_self": null,
       "border_bottom": null,
       "border_left": null,
       "border_right": null,
       "border_top": null,
       "bottom": null,
       "display": "inline-flex",
       "flex": null,
       "flex_flow": "row wrap",
       "grid_area": null,
       "grid_auto_columns": null,
       "grid_auto_flow": null,
       "grid_auto_rows": null,
       "grid_column": null,
       "grid_gap": null,
       "grid_row": null,
       "grid_template_areas": null,
       "grid_template_columns": null,
       "grid_template_rows": null,
       "height": null,
       "justify_content": null,
       "justify_items": null,
       "left": null,
       "margin": null,
       "max_height": null,
       "max_width": null,
       "min_height": null,
       "min_width": null,
       "object_fit": null,
       "object_position": null,
       "order": null,
       "overflow": null,
       "padding": null,
       "right": null,
       "top": null,
       "visibility": null,
       "width": "100%"
      }
     },
     "9feae90bc6634c29925546ee179a865a": {
      "model_module": "@jupyter-widgets/controls",
      "model_module_version": "2.0.0",
      "model_name": "HTMLStyleModel",
      "state": {
       "_model_module": "@jupyter-widgets/controls",
       "_model_module_version": "2.0.0",
       "_model_name": "HTMLStyleModel",
       "_view_count": null,
       "_view_module": "@jupyter-widgets/base",
       "_view_module_version": "2.0.0",
       "_view_name": "StyleView",
       "background": null,
       "description_width": "",
       "font_size": null,
       "text_color": null
      }
     },
     "b8e57bc58e744faaacf8f706bbf208e0": {
      "model_module": "@jupyter-widgets/controls",
      "model_module_version": "2.0.0",
      "model_name": "ProgressStyleModel",
      "state": {
       "_model_module": "@jupyter-widgets/controls",
       "_model_module_version": "2.0.0",
       "_model_name": "ProgressStyleModel",
       "_view_count": null,
       "_view_module": "@jupyter-widgets/base",
       "_view_module_version": "2.0.0",
       "_view_name": "StyleView",
       "bar_color": null,
       "description_width": ""
      }
     },
     "be884e63ca594c9abb737ead503ac9b9": {
      "model_module": "@jupyter-widgets/base",
      "model_module_version": "2.0.0",
      "model_name": "LayoutModel",
      "state": {
       "_model_module": "@jupyter-widgets/base",
       "_model_module_version": "2.0.0",
       "_model_name": "LayoutModel",
       "_view_count": null,
       "_view_module": "@jupyter-widgets/base",
       "_view_module_version": "2.0.0",
       "_view_name": "LayoutView",
       "align_content": null,
       "align_items": null,
       "align_self": null,
       "border_bottom": null,
       "border_left": null,
       "border_right": null,
       "border_top": null,
       "bottom": null,
       "display": null,
       "flex": null,
       "flex_flow": null,
       "grid_area": null,
       "grid_auto_columns": null,
       "grid_auto_flow": null,
       "grid_auto_rows": null,
       "grid_column": null,
       "grid_gap": null,
       "grid_row": null,
       "grid_template_areas": null,
       "grid_template_columns": null,
       "grid_template_rows": null,
       "height": null,
       "justify_content": null,
       "justify_items": null,
       "left": null,
       "margin": null,
       "max_height": null,
       "max_width": null,
       "min_height": null,
       "min_width": null,
       "object_fit": null,
       "object_position": null,
       "order": null,
       "overflow": null,
       "padding": null,
       "right": null,
       "top": null,
       "visibility": null,
       "width": null
      }
     },
     "c3cd8cfd3f8940f9a8cbf6706fbbbed1": {
      "model_module": "@jupyter-widgets/controls",
      "model_module_version": "2.0.0",
      "model_name": "FloatProgressModel",
      "state": {
       "_dom_classes": [],
       "_model_module": "@jupyter-widgets/controls",
       "_model_module_version": "2.0.0",
       "_model_name": "FloatProgressModel",
       "_view_count": null,
       "_view_module": "@jupyter-widgets/controls",
       "_view_module_version": "2.0.0",
       "_view_name": "ProgressView",
       "bar_style": "success",
       "description": "",
       "description_allow_html": false,
       "layout": "IPY_MODEL_2db79c8a15b34955963e20711b79c877",
       "max": 125,
       "min": 0,
       "orientation": "horizontal",
       "style": "IPY_MODEL_b8e57bc58e744faaacf8f706bbf208e0",
       "tabbable": null,
       "tooltip": null,
       "value": 125
      }
     },
     "c79cf6242bbd482a8fc677bd4138a509": {
      "model_module": "@jupyter-widgets/base",
      "model_module_version": "2.0.0",
      "model_name": "LayoutModel",
      "state": {
       "_model_module": "@jupyter-widgets/base",
       "_model_module_version": "2.0.0",
       "_model_name": "LayoutModel",
       "_view_count": null,
       "_view_module": "@jupyter-widgets/base",
       "_view_module_version": "2.0.0",
       "_view_name": "LayoutView",
       "align_content": null,
       "align_items": null,
       "align_self": null,
       "border_bottom": null,
       "border_left": null,
       "border_right": null,
       "border_top": null,
       "bottom": null,
       "display": null,
       "flex": null,
       "flex_flow": null,
       "grid_area": null,
       "grid_auto_columns": null,
       "grid_auto_flow": null,
       "grid_auto_rows": null,
       "grid_column": null,
       "grid_gap": null,
       "grid_row": null,
       "grid_template_areas": null,
       "grid_template_columns": null,
       "grid_template_rows": null,
       "height": null,
       "justify_content": null,
       "justify_items": null,
       "left": null,
       "margin": null,
       "max_height": null,
       "max_width": null,
       "min_height": null,
       "min_width": null,
       "object_fit": null,
       "object_position": null,
       "order": null,
       "overflow": null,
       "padding": null,
       "right": null,
       "top": null,
       "visibility": null,
       "width": null
      }
     },
     "c7fbe53c33af4f8bb49c7bd0805fe177": {
      "model_module": "@jupyter-widgets/controls",
      "model_module_version": "2.0.0",
      "model_name": "FloatProgressModel",
      "state": {
       "_dom_classes": [],
       "_model_module": "@jupyter-widgets/controls",
       "_model_module_version": "2.0.0",
       "_model_name": "FloatProgressModel",
       "_view_count": null,
       "_view_module": "@jupyter-widgets/controls",
       "_view_module_version": "2.0.0",
       "_view_name": "ProgressView",
       "bar_style": "success",
       "description": "",
       "description_allow_html": false,
       "layout": "IPY_MODEL_1bee531809be408983b37397d7670e1e",
       "max": 79,
       "min": 0,
       "orientation": "horizontal",
       "style": "IPY_MODEL_525589d0c5414bb6bbea67eabe6717d7",
       "tabbable": null,
       "tooltip": null,
       "value": 79
      }
     },
     "cfba62487b504f2cb22ea1080b43126a": {
      "model_module": "@jupyter-widgets/controls",
      "model_module_version": "2.0.0",
      "model_name": "HTMLModel",
      "state": {
       "_dom_classes": [],
       "_model_module": "@jupyter-widgets/controls",
       "_model_module_version": "2.0.0",
       "_model_name": "HTMLModel",
       "_view_count": null,
       "_view_module": "@jupyter-widgets/controls",
       "_view_module_version": "2.0.0",
       "_view_name": "HTMLView",
       "description": "",
       "description_allow_html": false,
       "layout": "IPY_MODEL_fd5ad5c518c545b29288bfa672253c60",
       "placeholder": "​",
       "style": "IPY_MODEL_47f19c8291ed482893ba5a9831906510",
       "tabbable": null,
       "tooltip": null,
       "value": "Testing DataLoader 0: 100%"
      }
     },
     "d9b00aa8f6b742c0b36243123fc4de73": {
      "model_module": "@jupyter-widgets/controls",
      "model_module_version": "2.0.0",
      "model_name": "HTMLModel",
      "state": {
       "_dom_classes": [],
       "_model_module": "@jupyter-widgets/controls",
       "_model_module_version": "2.0.0",
       "_model_name": "HTMLModel",
       "_view_count": null,
       "_view_module": "@jupyter-widgets/controls",
       "_view_module_version": "2.0.0",
       "_view_name": "HTMLView",
       "description": "",
       "description_allow_html": false,
       "layout": "IPY_MODEL_f62ba312cf654f1f94515e1243d010a6",
       "placeholder": "​",
       "style": "IPY_MODEL_14ee7ffc561f4de3a7238d7ccf0be65b",
       "tabbable": null,
       "tooltip": null,
       "value": "100%"
      }
     },
     "dd3dbda4c0224dc3afa87dee9788995c": {
      "model_module": "@jupyter-widgets/base",
      "model_module_version": "2.0.0",
      "model_name": "LayoutModel",
      "state": {
       "_model_module": "@jupyter-widgets/base",
       "_model_module_version": "2.0.0",
       "_model_name": "LayoutModel",
       "_view_count": null,
       "_view_module": "@jupyter-widgets/base",
       "_view_module_version": "2.0.0",
       "_view_name": "LayoutView",
       "align_content": null,
       "align_items": null,
       "align_self": null,
       "border_bottom": null,
       "border_left": null,
       "border_right": null,
       "border_top": null,
       "bottom": null,
       "display": null,
       "flex": null,
       "flex_flow": null,
       "grid_area": null,
       "grid_auto_columns": null,
       "grid_auto_flow": null,
       "grid_auto_rows": null,
       "grid_column": null,
       "grid_gap": null,
       "grid_row": null,
       "grid_template_areas": null,
       "grid_template_columns": null,
       "grid_template_rows": null,
       "height": null,
       "justify_content": null,
       "justify_items": null,
       "left": null,
       "margin": null,
       "max_height": null,
       "max_width": null,
       "min_height": null,
       "min_width": null,
       "object_fit": null,
       "object_position": null,
       "order": null,
       "overflow": null,
       "padding": null,
       "right": null,
       "top": null,
       "visibility": null,
       "width": null
      }
     },
     "e3f0f959bdae4794a188a747f7864398": {
      "model_module": "@jupyter-widgets/controls",
      "model_module_version": "2.0.0",
      "model_name": "HTMLModel",
      "state": {
       "_dom_classes": [],
       "_model_module": "@jupyter-widgets/controls",
       "_model_module_version": "2.0.0",
       "_model_name": "HTMLModel",
       "_view_count": null,
       "_view_module": "@jupyter-widgets/controls",
       "_view_module_version": "2.0.0",
       "_view_name": "HTMLView",
       "description": "",
       "description_allow_html": false,
       "layout": "IPY_MODEL_c79cf6242bbd482a8fc677bd4138a509",
       "placeholder": "​",
       "style": "IPY_MODEL_3cd3c14d9395491084de9d55a34ee9df",
       "tabbable": null,
       "tooltip": null,
       "value": " 79/79 [00:03&lt;00:00, 53.12it/s]"
      }
     },
     "e6a44042b78c442ca8d44d960f52d9fd": {
      "model_module": "@jupyter-widgets/controls",
      "model_module_version": "2.0.0",
      "model_name": "HBoxModel",
      "state": {
       "_dom_classes": [],
       "_model_module": "@jupyter-widgets/controls",
       "_model_module_version": "2.0.0",
       "_model_name": "HBoxModel",
       "_view_count": null,
       "_view_module": "@jupyter-widgets/controls",
       "_view_module_version": "2.0.0",
       "_view_name": "HBoxView",
       "box_style": "",
       "children": [
        "IPY_MODEL_9077eaa39ff548e8b59e175f979bef09",
        "IPY_MODEL_c3cd8cfd3f8940f9a8cbf6706fbbbed1",
        "IPY_MODEL_902f2f296f424531ad379bd896f84be9"
       ],
       "layout": "IPY_MODEL_7a027bb1905748cf859dd44f7c613c1e",
       "tabbable": null,
       "tooltip": null
      }
     },
     "f3527a428b324ccf932fb8aab5781662": {
      "model_module": "@jupyter-widgets/controls",
      "model_module_version": "2.0.0",
      "model_name": "HTMLModel",
      "state": {
       "_dom_classes": [],
       "_model_module": "@jupyter-widgets/controls",
       "_model_module_version": "2.0.0",
       "_model_name": "HTMLModel",
       "_view_count": null,
       "_view_module": "@jupyter-widgets/controls",
       "_view_module_version": "2.0.0",
       "_view_name": "HTMLView",
       "description": "",
       "description_allow_html": false,
       "layout": "IPY_MODEL_f9ed27ff930442dc84b674ed141f3a69",
       "placeholder": "​",
       "style": "IPY_MODEL_9644700dd42042608bce9610426573f6",
       "tabbable": null,
       "tooltip": null,
       "value": "100%"
      }
     },
     "f62ba312cf654f1f94515e1243d010a6": {
      "model_module": "@jupyter-widgets/base",
      "model_module_version": "2.0.0",
      "model_name": "LayoutModel",
      "state": {
       "_model_module": "@jupyter-widgets/base",
       "_model_module_version": "2.0.0",
       "_model_name": "LayoutModel",
       "_view_count": null,
       "_view_module": "@jupyter-widgets/base",
       "_view_module_version": "2.0.0",
       "_view_name": "LayoutView",
       "align_content": null,
       "align_items": null,
       "align_self": null,
       "border_bottom": null,
       "border_left": null,
       "border_right": null,
       "border_top": null,
       "bottom": null,
       "display": null,
       "flex": null,
       "flex_flow": null,
       "grid_area": null,
       "grid_auto_columns": null,
       "grid_auto_flow": null,
       "grid_auto_rows": null,
       "grid_column": null,
       "grid_gap": null,
       "grid_row": null,
       "grid_template_areas": null,
       "grid_template_columns": null,
       "grid_template_rows": null,
       "height": null,
       "justify_content": null,
       "justify_items": null,
       "left": null,
       "margin": null,
       "max_height": null,
       "max_width": null,
       "min_height": null,
       "min_width": null,
       "object_fit": null,
       "object_position": null,
       "order": null,
       "overflow": null,
       "padding": null,
       "right": null,
       "top": null,
       "visibility": null,
       "width": null
      }
     },
     "f9ed27ff930442dc84b674ed141f3a69": {
      "model_module": "@jupyter-widgets/base",
      "model_module_version": "2.0.0",
      "model_name": "LayoutModel",
      "state": {
       "_model_module": "@jupyter-widgets/base",
       "_model_module_version": "2.0.0",
       "_model_name": "LayoutModel",
       "_view_count": null,
       "_view_module": "@jupyter-widgets/base",
       "_view_module_version": "2.0.0",
       "_view_name": "LayoutView",
       "align_content": null,
       "align_items": null,
       "align_self": null,
       "border_bottom": null,
       "border_left": null,
       "border_right": null,
       "border_top": null,
       "bottom": null,
       "display": null,
       "flex": null,
       "flex_flow": null,
       "grid_area": null,
       "grid_auto_columns": null,
       "grid_auto_flow": null,
       "grid_auto_rows": null,
       "grid_column": null,
       "grid_gap": null,
       "grid_row": null,
       "grid_template_areas": null,
       "grid_template_columns": null,
       "grid_template_rows": null,
       "height": null,
       "justify_content": null,
       "justify_items": null,
       "left": null,
       "margin": null,
       "max_height": null,
       "max_width": null,
       "min_height": null,
       "min_width": null,
       "object_fit": null,
       "object_position": null,
       "order": null,
       "overflow": null,
       "padding": null,
       "right": null,
       "top": null,
       "visibility": null,
       "width": null
      }
     },
     "fa28a7d1a35d44cfbe0ac4c509689d55": {
      "model_module": "@jupyter-widgets/base",
      "model_module_version": "2.0.0",
      "model_name": "LayoutModel",
      "state": {
       "_model_module": "@jupyter-widgets/base",
       "_model_module_version": "2.0.0",
       "_model_name": "LayoutModel",
       "_view_count": null,
       "_view_module": "@jupyter-widgets/base",
       "_view_module_version": "2.0.0",
       "_view_name": "LayoutView",
       "align_content": null,
       "align_items": null,
       "align_self": null,
       "border_bottom": null,
       "border_left": null,
       "border_right": null,
       "border_top": null,
       "bottom": null,
       "display": null,
       "flex": "2",
       "flex_flow": null,
       "grid_area": null,
       "grid_auto_columns": null,
       "grid_auto_flow": null,
       "grid_auto_rows": null,
       "grid_column": null,
       "grid_gap": null,
       "grid_row": null,
       "grid_template_areas": null,
       "grid_template_columns": null,
       "grid_template_rows": null,
       "height": null,
       "justify_content": null,
       "justify_items": null,
       "left": null,
       "margin": null,
       "max_height": null,
       "max_width": null,
       "min_height": null,
       "min_width": null,
       "object_fit": null,
       "object_position": null,
       "order": null,
       "overflow": null,
       "padding": null,
       "right": null,
       "top": null,
       "visibility": null,
       "width": null
      }
     },
     "fa8afdd79868440a8c89d7aa71628ac7": {
      "model_module": "@jupyter-widgets/controls",
      "model_module_version": "2.0.0",
      "model_name": "FloatProgressModel",
      "state": {
       "_dom_classes": [],
       "_model_module": "@jupyter-widgets/controls",
       "_model_module_version": "2.0.0",
       "_model_name": "FloatProgressModel",
       "_view_count": null,
       "_view_module": "@jupyter-widgets/controls",
       "_view_module_version": "2.0.0",
       "_view_name": "ProgressView",
       "bar_style": "success",
       "description": "",
       "description_allow_html": false,
       "layout": "IPY_MODEL_dd3dbda4c0224dc3afa87dee9788995c",
       "max": 125,
       "min": 0,
       "orientation": "horizontal",
       "style": "IPY_MODEL_028fa3950cde4361a023b5063df994b1",
       "tabbable": null,
       "tooltip": null,
       "value": 125
      }
     },
     "fd5ad5c518c545b29288bfa672253c60": {
      "model_module": "@jupyter-widgets/base",
      "model_module_version": "2.0.0",
      "model_name": "LayoutModel",
      "state": {
       "_model_module": "@jupyter-widgets/base",
       "_model_module_version": "2.0.0",
       "_model_name": "LayoutModel",
       "_view_count": null,
       "_view_module": "@jupyter-widgets/base",
       "_view_module_version": "2.0.0",
       "_view_name": "LayoutView",
       "align_content": null,
       "align_items": null,
       "align_self": null,
       "border_bottom": null,
       "border_left": null,
       "border_right": null,
       "border_top": null,
       "bottom": null,
       "display": null,
       "flex": null,
       "flex_flow": null,
       "grid_area": null,
       "grid_auto_columns": null,
       "grid_auto_flow": null,
       "grid_auto_rows": null,
       "grid_column": null,
       "grid_gap": null,
       "grid_row": null,
       "grid_template_areas": null,
       "grid_template_columns": null,
       "grid_template_rows": null,
       "height": null,
       "justify_content": null,
       "justify_items": null,
       "left": null,
       "margin": null,
       "max_height": null,
       "max_width": null,
       "min_height": null,
       "min_width": null,
       "object_fit": null,
       "object_position": null,
       "order": null,
       "overflow": null,
       "padding": null,
       "right": null,
       "top": null,
       "visibility": null,
       "width": null
      }
     }
    },
    "version_major": 2,
    "version_minor": 0
   }
  }
 },
 "nbformat": 4,
 "nbformat_minor": 5
}
