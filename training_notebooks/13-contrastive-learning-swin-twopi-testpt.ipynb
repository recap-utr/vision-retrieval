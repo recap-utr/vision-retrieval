{
 "cells": [
  {
   "cell_type": "markdown",
   "id": "4f4e8864",
   "metadata": {
    "papermill": {
     "duration": 0.016955,
     "end_time": "2023-10-12T10:07:26.829381",
     "exception": false,
     "start_time": "2023-10-12T10:07:26.812426",
     "status": "completed"
    },
    "tags": []
   },
   "source": [
    "\n",
    "# Tutorial 13: Self-Supervised Contrastive Learning with SimCLR\n",
    "\n",
    "* **Author:** Phillip Lippe\n",
    "* **License:** CC BY-SA\n",
    "* **Generated:** 2023-10-12T10:05:10.778217\n",
    "\n",
    "In this tutorial, we will take a closer look at self-supervised contrastive learning.\n",
    "Self-supervised learning, or also sometimes called unsupervised learning, describes the scenario where we have given input data, but no accompanying labels to train in a classical supervised way.\n",
    "However, this data still contains a lot of information from which we can learn: how are the images different from each other?\n",
    "What patterns are descriptive for certain images?\n",
    "Can we cluster the images?\n",
    "To get an insight into these questions, we will implement a popular, simple contrastive learning method, SimCLR, and apply it to the STL10 dataset.\n",
    "This notebook is part of a lecture series on Deep Learning at the University of Amsterdam.\n",
    "The full list of tutorials can be found at https://uvadlc-notebooks.rtfd.io.\n",
    "\n",
    "\n",
    "---\n",
    "Open in [![Open In Colab](data:image/png;base64,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){height=\"20px\" width=\"117px\"}](https://colab.research.google.com/github/PytorchLightning/lightning-tutorials/blob/publication/.notebooks/course_UvA-DL/13-contrastive-learning.ipynb)\n",
    "\n",
    "Give us a ⭐ [on Github](https://www.github.com/Lightning-AI/lightning/)\n",
    "| Check out [the documentation](https://pytorch-lightning.readthedocs.io/en/stable/)\n",
    "| Join us [on Slack](https://www.pytorchlightning.ai/community)"
   ]
  },
  {
   "cell_type": "markdown",
   "id": "2a6eb697",
   "metadata": {
    "papermill": {
     "duration": 0.014639,
     "end_time": "2023-10-12T10:07:26.859268",
     "exception": false,
     "start_time": "2023-10-12T10:07:26.844629",
     "status": "completed"
    },
    "tags": []
   },
   "source": [
    "## Setup\n",
    "This notebook requires some packages besides pytorch-lightning."
   ]
  },
  {
   "cell_type": "markdown",
   "id": "51133008",
   "metadata": {
    "papermill": {
     "duration": 0.015111,
     "end_time": "2023-10-12T10:09:05.667755",
     "exception": false,
     "start_time": "2023-10-12T10:09:05.652644",
     "status": "completed"
    },
    "tags": []
   },
   "source": [
    "<div class=\"center-wrapper\"><div class=\"video-wrapper\"><iframe src=\"https://www.youtube.com/embed/waVZDFR-06U\" title=\"YouTube video player\" frameborder=\"0\" allow=\"accelerometer; autoplay; clipboard-write; encrypted-media; gyroscope; picture-in-picture\" allowfullscreen></iframe></div></div>\n",
    "Methods for self-supervised learning try to learn as much as possible from the data alone, so it can quickly be finetuned for a specific classification task.\n",
    "The benefit of self-supervised learning is that a large dataset can often easily be obtained.\n",
    "For instance, if we want to train a vision model on semantic segmentation for autonomous driving, we can collect large amounts of data by simply installing a camera in a car, and driving through a city for an hour.\n",
    "In contrast, if we would want to do supervised learning, we would have to manually label all those images before training a model.\n",
    "This is extremely expensive, and would likely take a couple of months to manually label the same amount of data.\n",
    "Further, self-supervised learning can provide an alternative to transfer learning from models pretrained on ImageNet since we could pretrain a model on a specific dataset/situation, e.g. traffic scenarios for autonomous driving.\n",
    "\n",
    "Within the last two years, a lot of new approaches have been proposed for self-supervised learning, in particular for images, that have resulted in great improvements over supervised models when few labels are available.\n",
    "The subfield that we will focus on in this tutorial is contrastive learning.\n",
    "Contrastive learning is motivated by the question mentioned above: how are images different from each other?\n",
    "Specifically, contrastive learning methods train a model to cluster an image and its slightly augmented version in latent space, while the distance to other images should be maximized.\n",
    "A very recent and simple method for this is [SimCLR](https://arxiv.org/abs/2006.10029), which is visualized below (figure credit - [Ting Chen et al. ](https://simclr.github.io/)).\n",
    "\n",
    "The general setup is that we are given a dataset of images without any labels, and want to train a model on this data such that it can quickly adapt to any image recognition task afterward.\n",
    "During each training iteration, we sample a batch of images as usual.\n",
    "For each image, we create two versions by applying data augmentation techniques like cropping, Gaussian noise, blurring, etc.\n",
    "An example of such is shown on the left with the image of the dog.\n",
    "We will go into the details and effects of the chosen augmentation techniques later.\n",
    "On those images, we apply a CNN like ResNet and obtain as output a 1D feature vector on which we apply a small MLP.\n",
    "The output features of the two augmented images are then trained to be close to each other, while all other images in that batch should be as different as possible.\n",
    "This way, the model has to learn to recognize the content of the image that remains unchanged under the data augmentations, such as objects which we usually care about in supervised tasks.\n",
    "\n",
    "We will now implement this framework ourselves and discuss further details along the way.\n",
    "Let's first start with importing our standard libraries below:"
   ]
  },
  {
   "cell_type": "code",
   "execution_count": 1,
   "id": "0d69e5b3",
   "metadata": {
    "papermill": {
     "duration": 4.46387,
     "end_time": "2023-10-12T10:09:10.146466",
     "exception": false,
     "start_time": "2023-10-12T10:09:05.682596",
     "status": "completed"
    },
    "tags": []
   },
   "outputs": [
    {
     "name": "stderr",
     "output_type": "stream",
     "text": [
      "Seed set to 42\n"
     ]
    },
    {
     "name": "stdout",
     "output_type": "stream",
     "text": [
      "Device: cuda:0\n",
      "Number of workers: 80\n"
     ]
    },
    {
     "data": {
      "text/plain": [
       "<Figure size 640x480 with 0 Axes>"
      ]
     },
     "metadata": {},
     "output_type": "display_data"
    }
   ],
   "source": [
    "import os\n",
    "import urllib.request\n",
    "from copy import deepcopy\n",
    "from urllib.error import HTTPError\n",
    "\n",
    "import lightning as L\n",
    "import matplotlib\n",
    "import matplotlib.pyplot as plt\n",
    "import matplotlib_inline.backend_inline\n",
    "import seaborn as sns\n",
    "import torch\n",
    "import torch.nn as nn\n",
    "import torch.nn.functional as F\n",
    "import torch.optim as optim\n",
    "import torch.utils.data as data\n",
    "import torchvision\n",
    "from lightning.pytorch.callbacks import LearningRateMonitor, ModelCheckpoint\n",
    "from torchvision import transforms\n",
    "from datasets import load_dataset\n",
    "from tqdm.notebook import tqdm\n",
    "\n",
    "plt.set_cmap(\"cividis\")\n",
    "%matplotlib inline\n",
    "matplotlib_inline.backend_inline.set_matplotlib_formats(\"svg\", \"pdf\")  # For export\n",
    "matplotlib.rcParams[\"lines.linewidth\"] = 2.0\n",
    "sns.set()\n",
    "\n",
    "# Import tensorboard\n",
    "%load_ext tensorboard\n",
    "\n",
    "# Path to the folder where the datasets are/should be downloaded (e.g. CIFAR10)\n",
    "DATASET_PATH = os.environ.get(\"PATH_DATASETS\", \"data/\")\n",
    "# Path to the folder where the pretrained models are saved\n",
    "CHECKPOINT_PATH = os.environ.get(\"PATH_CHECKPOINT\", \"saved_models/ContrastiveLearning_graphimages-twopi_testpt/\")\n",
    "# In this notebook, we use data loaders with heavier computational processing. It is recommended to use as many\n",
    "# workers as possible in a data loader, which corresponds to the number of CPU cores\n",
    "NUM_WORKERS = os.cpu_count()\n",
    "\n",
    "MODEL=\"graphimages_twopi_model\"\n",
    "\n",
    "# Setting the seed\n",
    "L.seed_everything(42)\n",
    "\n",
    "# Ensure that all operations are deterministic on GPU (if used) for reproducibility\n",
    "torch.backends.cudnn.deterministic = True\n",
    "torch.backends.cudnn.benchmark = False\n",
    "\n",
    "device = torch.device(\"cuda:0\") if torch.cuda.is_available() else torch.device(\"cpu\")\n",
    "print(\"Device:\", device)\n",
    "print(\"Number of workers:\", NUM_WORKERS)"
   ]
  },
  {
   "cell_type": "markdown",
   "id": "b5fbec88",
   "metadata": {
    "papermill": {
     "duration": 0.018954,
     "end_time": "2023-10-12T10:09:13.327903",
     "exception": false,
     "start_time": "2023-10-12T10:09:13.308949",
     "status": "completed"
    },
    "tags": []
   },
   "source": [
    "## SimCLR\n",
    "\n",
    "We will start our exploration of contrastive learning by discussing the effect of different data augmentation techniques, and how we can implement an efficient data loader for such.\n",
    "Next, we implement SimCLR with PyTorch Lightning, and finally train it on a large, unlabeled dataset."
   ]
  },
  {
   "cell_type": "markdown",
   "id": "698f3baa",
   "metadata": {
    "lines_to_next_cell": 2,
    "papermill": {
     "duration": 0.015959,
     "end_time": "2023-10-12T10:09:13.363188",
     "exception": false,
     "start_time": "2023-10-12T10:09:13.347229",
     "status": "completed"
    },
    "tags": []
   },
   "source": [
    "### Data Augmentation for Contrastive Learning\n",
    "\n",
    "To allow efficient training, we need to prepare the data loading such that we sample two different, random augmentations for each image in the batch.\n",
    "The easiest way to do this is by creating a transformation that, when being called, applies a set of data augmentations to an image twice.\n",
    "This is implemented in the class `ContrastiveTransformations` below:"
   ]
  },
  {
   "cell_type": "markdown",
   "id": "cbecb8dc",
   "metadata": {
    "papermill": {
     "duration": 0.016143,
     "end_time": "2023-10-12T10:09:13.435673",
     "exception": false,
     "start_time": "2023-10-12T10:09:13.419530",
     "status": "completed"
    },
    "tags": []
   },
   "source": [
    "The contrastive learning framework can easily be extended to have more _positive_ examples by sampling more than two augmentations of the same image.\n",
    "However, the most efficient training is usually obtained by using only two.\n",
    "\n",
    "Next, we can look at the specific augmentations we want to apply.\n",
    "The choice of the data augmentation to use is the most crucial hyperparameter in SimCLR since it directly affects how the latent space is structured, and what patterns might be learned from the data.\n",
    "Let's first take a look at some of the most popular data augmentations (figure credit - [Ting Chen and Geoffrey Hinton](https://ai.googleblog.com/2020/04/advancing-self-supervised-and-semi.html)):\n",
    "\n",
    "<center width=\"100%\"><img src=\"https://github.com/Lightning-AI/lightning-tutorials/raw/main/course_UvA-DL/13-contrastive-learning/simclr_data_augmentations.jpg\" width=\"800px\" style=\"padding-top: 10px; padding-bottom: 10px\"></center>\n",
    "\n",
    "All of them can be used, but it turns out that two augmentations stand out in their importance: crop-and-resize, and color distortion.\n",
    "Interestingly, however, they only lead to strong performance if they have been used together as discussed by [Ting Chen et al. ](https://arxiv.org/abs/2006.10029) in their SimCLR paper.\n",
    "When performing randomly cropping and resizing, we can distinguish between two situations: (a) cropped image A provides a local view of cropped image B, or (b) cropped images C and D show neighboring views of the same image (figure credit - [Ting Chen and Geoffrey Hinton](https://ai.googleblog.com/2020/04/advancing-self-supervised-and-semi.html)).\n",
    "\n",
    "<center width=\"100%\"><img src=\"https://github.com/Lightning-AI/lightning-tutorials/raw/main/course_UvA-DL/13-contrastive-learning/crop_views.svg\" width=\"400px\" style=\"padding-top: 20px; padding-bottom: 0px\"></center>\n",
    "\n",
    "While situation (a) requires the model to learn some sort of scale invariance to make crops A and B similar in latent space, situation (b) is more challenging since the model needs to recognize an object beyond its limited view.\n",
    "However, without color distortion, there is a loophole that the model can exploit, namely that different crops of the same image usually look very similar in color space.\n",
    "Consider the picture of the dog above.\n",
    "Simply from the color of the fur and the green color tone of the background, you can reason that two patches belong to the same image without actually recognizing the dog in the picture.\n",
    "In this case, the model might end up focusing only on the color histograms of the images, and ignore other more generalizable features.\n",
    "If, however, we distort the colors in the two patches randomly and independently of each other, the model cannot rely on this simple feature anymore.\n",
    "Hence, by combining random cropping and color distortions, the model can only match two patches by learning generalizable representations.\n",
    "\n",
    "Overall, for our experiments, we apply a set of 5 transformations following the original SimCLR setup: random horizontal flip, crop-and-resize, color distortion, random grayscale, and gaussian blur.\n",
    "In comparison to the [original implementation](https://github.com/google-research/simclr), we reduce the effect of the color jitter slightly (0.5 instead of 0.8 for brightness, contrast, and saturation, and 0.1 instead of 0.2 for hue).\n",
    "In our experiments, this setting obtained better performance and was faster and more stable to train.\n",
    "If, for instance, the brightness scale highly varies in a dataset, the\n",
    "original settings can be more beneficial since the model can't rely on\n",
    "this information anymore to distinguish between images."
   ]
  },
  {
   "cell_type": "code",
   "execution_count": 2,
   "id": "bb242433",
   "metadata": {
    "papermill": {
     "duration": 0.023915,
     "end_time": "2023-10-12T10:09:13.475613",
     "exception": false,
     "start_time": "2023-10-12T10:09:13.451698",
     "status": "completed"
    },
    "tags": []
   },
   "outputs": [],
   "source": [
    "contrast_transforms = transforms.Compose(\n",
    "    [\n",
    "        transforms.RandomHorizontalFlip(),\n",
    "        #transforms.RandomResizedCrop(size=256),\n",
    "        transforms.RandomApply([transforms.ColorJitter(brightness=0.5, contrast=0.5, saturation=0.5, hue=0.1)], p=0.8),\n",
    "        transforms.RandomGrayscale(p=0.2),\n",
    "        transforms.GaussianBlur(kernel_size=9)\n",
    "    ]\n",
    ")"
   ]
  },
  {
   "cell_type": "markdown",
   "id": "66904433",
   "metadata": {
    "papermill": {
     "duration": 0.015605,
     "end_time": "2023-10-12T10:09:13.512857",
     "exception": false,
     "start_time": "2023-10-12T10:09:13.497252",
     "status": "completed"
    },
    "tags": []
   },
   "source": [
    "After discussing the data augmentation techniques, we can now focus on the dataset.\n",
    "In this tutorial, we will use the [STL10 dataset](https://cs.stanford.edu/~acoates/stl10/), which, similarly to CIFAR10, contains images of 10 classes: airplane, bird, car, cat, deer, dog, horse, monkey, ship, truck.\n",
    "However, the images have a higher resolution, namely $96\\times 96$ pixels, and we are only provided with 500 labeled images per class.\n",
    "Additionally, we have a much larger set of $100,000$ unlabeled images which are similar to the training images but are sampled from a wider range of animals and vehicles.\n",
    "This makes the dataset ideal to showcase the benefits that self-supervised learning offers.\n",
    "\n",
    "Luckily, the STL10 dataset is provided through torchvision.\n",
    "Keep in mind, however, that since this dataset is relatively large and has a considerably higher resolution than CIFAR10, it requires more disk space (~3GB) and takes a bit of time to download.\n",
    "For our initial discussion of self-supervised learning and SimCLR, we\n",
    "will create two data loaders with our contrastive transformations above:\n",
    "the `unlabeled_data` will be used to train our model via contrastive\n",
    "learning, and `train_data_contrast` will be used as a validation set in\n",
    "contrastive learning."
   ]
  },
  {
   "cell_type": "code",
   "execution_count": 3,
   "id": "619ff62a-a234-4233-8884-89f0853e22e6",
   "metadata": {},
   "outputs": [],
   "source": [
    "from transformers import AutoImageProcessor\n",
    "processor = AutoImageProcessor.from_pretrained(MODEL)\n",
    "\n",
    "def create_views(x, base_transforms, n_views):\n",
    "    return torch.cat([processor(base_transforms(x.convert(\"RGB\")), return_tensors=\"pt\")[\"pixel_values\"] for i in range(n_views)])\n",
    "    \n",
    "def apply_transforms(examples):\n",
    "    examples[\"pixel_values\"] = [create_views(x, contrast_transforms, 2) for x in examples[\"image\"]]\n",
    "    return examples"
   ]
  },
  {
   "cell_type": "code",
   "execution_count": 4,
   "id": "d7641d92",
   "metadata": {
    "papermill": {
     "duration": 469.970451,
     "end_time": "2023-10-12T10:17:03.500908",
     "exception": false,
     "start_time": "2023-10-12T10:09:13.530457",
     "status": "completed"
    },
    "tags": []
   },
   "outputs": [],
   "source": [
    "ds = load_dataset(\"kblw/graphimages_twopi\", split=\"train\")\n",
    "ds = ds.train_test_split(test_size=0.1, shuffle=True)\n",
    "ds.set_transform(apply_transforms)\n",
    "unlabeled_data = ds[\"train\"]\n",
    "train_data_contrast = ds[\"test\"]"
   ]
  },
  {
   "cell_type": "code",
   "execution_count": 5,
   "id": "c9873591-d07f-4ae5-9f1c-3aa4e990ff64",
   "metadata": {},
   "outputs": [
    {
     "data": {
      "text/plain": [
       "torch.Size([2, 3, 224, 224])"
      ]
     },
     "execution_count": 5,
     "metadata": {},
     "output_type": "execute_result"
    }
   ],
   "source": [
    "unlabeled_data[1][\"pixel_values\"].shape"
   ]
  },
  {
   "cell_type": "markdown",
   "id": "f6b97596",
   "metadata": {
    "papermill": {
     "duration": 0.248438,
     "end_time": "2023-10-12T10:17:03.944584",
     "exception": false,
     "start_time": "2023-10-12T10:17:03.696146",
     "status": "completed"
    },
    "tags": []
   },
   "source": [
    "Finally, before starting with our implementation of SimCLR, let's look\n",
    "at some example image pairs sampled with our augmentations:"
   ]
  },
  {
   "cell_type": "code",
   "execution_count": 6,
   "id": "5103283d",
   "metadata": {
    "papermill": {
     "duration": 0.934358,
     "end_time": "2023-10-12T10:17:05.077149",
     "exception": false,
     "start_time": "2023-10-12T10:17:04.142791",
     "status": "completed"
    },
    "tags": []
   },
   "outputs": [
    {
     "name": "stderr",
     "output_type": "stream",
     "text": [
      "Seed set to 42\n"
     ]
    },
    {
     "name": "stdout",
     "output_type": "stream",
     "text": [
      "torch.Size([12, 3, 224, 224])\n"
     ]
    },
    {
     "data": {
      "application/pdf": "[encoded data removed]",
      "image/svg+xml": [
       "<?xml version=\"1.0\" encoding=\"utf-8\" standalone=\"no\"?>\n",
       "<!DOCTYPE svg PUBLIC \"-//W3C//DTD SVG 1.1//EN\"\n",
       "  \"http://www.w3.org/Graphics/SVG/1.1/DTD/svg11.dtd\">\n",
       "<svg xmlns:xlink=\"http://www.w3.org/1999/xlink\" width=\"572.4pt\" height=\"216.06599pt\" viewBox=\"0 0 572.4 216.06599\" xmlns=\"http://www.w3.org/2000/svg\" version=\"1.1\">\n",
       " <metadata>\n",
       "  <rdf:RDF xmlns:dc=\"http://purl.org/dc/elements/1.1/\" xmlns:cc=\"http://creativecommons.org/ns#\" xmlns:rdf=\"http://www.w3.org/1999/02/22-rdf-syntax-ns#\">\n",
       "   <cc:Work>\n",
       "    <dc:type rdf:resource=\"http://purl.org/dc/dcmitype/StillImage\"/>\n",
       "    <dc:date>2024-01-19T08:20:25.953595</dc:date>\n",
       "    <dc:format>image/svg+xml</dc:format>\n",
       "    <dc:creator>\n",
       "     <cc:Agent>\n",
       "      <dc:title>Matplotlib v3.8.2, https://matplotlib.org/</dc:title>\n",
       "     </cc:Agent>\n",
       "    </dc:creator>\n",
       "   </cc:Work>\n",
       "  </rdf:RDF>\n",
       " </metadata>\n",
       " <defs>\n",
       "  <style type=\"text/css\">*{stroke-linejoin: round; stroke-linecap: butt}</style>\n",
       " </defs>\n",
       " <g id=\"figure_1\">\n",
       "  <g id=\"patch_1\">\n",
       "   <path d=\"M 0 216.06599 \n",
       "L 572.4 216.06599 \n",
       "L 572.4 0 \n",
       "L 0 0 \n",
       "z\n",
       "\" style=\"fill: #ffffff\"/>\n",
       "  </g>\n",
       "  <g id=\"axes_1\">\n",
       "   <g clip-path=\"url(#pd024eb1912)\">\n",
       "    <image xlink:href=\"data:image/png;base64,\n",
       "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\" id=\"image3a59224b3e\" transform=\"scale(1 -1) translate(0 -187.2)\" x=\"7.2\" y=\"-21.66599\" width=\"558\" height=\"187.2\"/>\n",
       "   </g>\n",
       "   <g id=\"text_1\">\n",
       "    <!-- Augmented image examples of the STL10 dataset -->\n",
       "    <g style=\"fill: #262626\" transform=\"translate(135.4425 16.318125) scale(0.12 -0.12)\">\n",
       "     <defs>\n",
       "      <path id=\"DejaVuSans-41\" d=\"M 2188 4044 \n",
       "L 1331 1722 \n",
       "L 3047 1722 \n",
       "L 2188 4044 \n",
       "z\n",
       "M 1831 4666 \n",
       "L 2547 4666 \n",
       "L 4325 0 \n",
       "L 3669 0 \n",
       "L 3244 1197 \n",
       "L 1141 1197 \n",
       "L 716 0 \n",
       "L 50 0 \n",
       "L 1831 4666 \n",
       "z\n",
       "\" transform=\"scale(0.015625)\"/>\n",
       "      <path id=\"DejaVuSans-75\" d=\"M 544 1381 \n",
       "L 544 3500 \n",
       "L 1119 3500 \n",
       "L 1119 1403 \n",
       "Q 1119 906 1312 657 \n",
       "Q 1506 409 1894 409 \n",
       "Q 2359 409 2629 706 \n",
       "Q 2900 1003 2900 1516 \n",
       "L 2900 3500 \n",
       "L 3475 3500 \n",
       "L 3475 0 \n",
       "L 2900 0 \n",
       "L 2900 538 \n",
       "Q 2691 219 2414 64 \n",
       "Q 2138 -91 1772 -91 \n",
       "Q 1169 -91 856 284 \n",
       "Q 544 659 544 1381 \n",
       "z\n",
       "M 1991 3584 \n",
       "L 1991 3584 \n",
       "z\n",
       "\" transform=\"scale(0.015625)\"/>\n",
       "      <path id=\"DejaVuSans-67\" d=\"M 2906 1791 \n",
       "Q 2906 2416 2648 2759 \n",
       "Q 2391 3103 1925 3103 \n",
       "Q 1463 3103 1205 2759 \n",
       "Q 947 2416 947 1791 \n",
       "Q 947 1169 1205 825 \n",
       "Q 1463 481 1925 481 \n",
       "Q 2391 481 2648 825 \n",
       "Q 2906 1169 2906 1791 \n",
       "z\n",
       "M 3481 434 \n",
       "Q 3481 -459 3084 -895 \n",
       "Q 2688 -1331 1869 -1331 \n",
       "Q 1566 -1331 1297 -1286 \n",
       "Q 1028 -1241 775 -1147 \n",
       "L 775 -588 \n",
       "Q 1028 -725 1275 -790 \n",
       "Q 1522 -856 1778 -856 \n",
       "Q 2344 -856 2625 -561 \n",
       "Q 2906 -266 2906 331 \n",
       "L 2906 616 \n",
       "Q 2728 306 2450 153 \n",
       "Q 2172 0 1784 0 \n",
       "Q 1141 0 747 490 \n",
       "Q 353 981 353 1791 \n",
       "Q 353 2603 747 3093 \n",
       "Q 1141 3584 1784 3584 \n",
       "Q 2172 3584 2450 3431 \n",
       "Q 2728 3278 2906 2969 \n",
       "L 2906 3500 \n",
       "L 3481 3500 \n",
       "L 3481 434 \n",
       "z\n",
       "\" transform=\"scale(0.015625)\"/>\n",
       "      <path id=\"DejaVuSans-6d\" d=\"M 3328 2828 \n",
       "Q 3544 3216 3844 3400 \n",
       "Q 4144 3584 4550 3584 \n",
       "Q 5097 3584 5394 3201 \n",
       "Q 5691 2819 5691 2113 \n",
       "L 5691 0 \n",
       "L 5113 0 \n",
       "L 5113 2094 \n",
       "Q 5113 2597 4934 2840 \n",
       "Q 4756 3084 4391 3084 \n",
       "Q 3944 3084 3684 2787 \n",
       "Q 3425 2491 3425 1978 \n",
       "L 3425 0 \n",
       "L 2847 0 \n",
       "L 2847 2094 \n",
       "Q 2847 2600 2669 2842 \n",
       "Q 2491 3084 2119 3084 \n",
       "Q 1678 3084 1418 2786 \n",
       "Q 1159 2488 1159 1978 \n",
       "L 1159 0 \n",
       "L 581 0 \n",
       "L 581 3500 \n",
       "L 1159 3500 \n",
       "L 1159 2956 \n",
       "Q 1356 3278 1631 3431 \n",
       "Q 1906 3584 2284 3584 \n",
       "Q 2666 3584 2933 3390 \n",
       "Q 3200 3197 3328 2828 \n",
       "z\n",
       "\" transform=\"scale(0.015625)\"/>\n",
       "      <path id=\"DejaVuSans-65\" d=\"M 3597 1894 \n",
       "L 3597 1613 \n",
       "L 953 1613 \n",
       "Q 991 1019 1311 708 \n",
       "Q 1631 397 2203 397 \n",
       "Q 2534 397 2845 478 \n",
       "Q 3156 559 3463 722 \n",
       "L 3463 178 \n",
       "Q 3153 47 2828 -22 \n",
       "Q 2503 -91 2169 -91 \n",
       "Q 1331 -91 842 396 \n",
       "Q 353 884 353 1716 \n",
       "Q 353 2575 817 3079 \n",
       "Q 1281 3584 2069 3584 \n",
       "Q 2775 3584 3186 3129 \n",
       "Q 3597 2675 3597 1894 \n",
       "z\n",
       "M 3022 2063 \n",
       "Q 3016 2534 2758 2815 \n",
       "Q 2500 3097 2075 3097 \n",
       "Q 1594 3097 1305 2825 \n",
       "Q 1016 2553 972 2059 \n",
       "L 3022 2063 \n",
       "z\n",
       "\" transform=\"scale(0.015625)\"/>\n",
       "      <path id=\"DejaVuSans-6e\" d=\"M 3513 2113 \n",
       "L 3513 0 \n",
       "L 2938 0 \n",
       "L 2938 2094 \n",
       "Q 2938 2591 2744 2837 \n",
       "Q 2550 3084 2163 3084 \n",
       "Q 1697 3084 1428 2787 \n",
       "Q 1159 2491 1159 1978 \n",
       "L 1159 0 \n",
       "L 581 0 \n",
       "L 581 3500 \n",
       "L 1159 3500 \n",
       "L 1159 2956 \n",
       "Q 1366 3272 1645 3428 \n",
       "Q 1925 3584 2291 3584 \n",
       "Q 2894 3584 3203 3211 \n",
       "Q 3513 2838 3513 2113 \n",
       "z\n",
       "\" transform=\"scale(0.015625)\"/>\n",
       "      <path id=\"DejaVuSans-74\" d=\"M 1172 4494 \n",
       "L 1172 3500 \n",
       "L 2356 3500 \n",
       "L 2356 3053 \n",
       "L 1172 3053 \n",
       "L 1172 1153 \n",
       "Q 1172 725 1289 603 \n",
       "Q 1406 481 1766 481 \n",
       "L 2356 481 \n",
       "L 2356 0 \n",
       "L 1766 0 \n",
       "Q 1100 0 847 248 \n",
       "Q 594 497 594 1153 \n",
       "L 594 3053 \n",
       "L 172 3053 \n",
       "L 172 3500 \n",
       "L 594 3500 \n",
       "L 594 4494 \n",
       "L 1172 4494 \n",
       "z\n",
       "\" transform=\"scale(0.015625)\"/>\n",
       "      <path id=\"DejaVuSans-64\" d=\"M 2906 2969 \n",
       "L 2906 4863 \n",
       "L 3481 4863 \n",
       "L 3481 0 \n",
       "L 2906 0 \n",
       "L 2906 525 \n",
       "Q 2725 213 2448 61 \n",
       "Q 2172 -91 1784 -91 \n",
       "Q 1150 -91 751 415 \n",
       "Q 353 922 353 1747 \n",
       "Q 353 2572 751 3078 \n",
       "Q 1150 3584 1784 3584 \n",
       "Q 2172 3584 2448 3432 \n",
       "Q 2725 3281 2906 2969 \n",
       "z\n",
       "M 947 1747 \n",
       "Q 947 1113 1208 752 \n",
       "Q 1469 391 1925 391 \n",
       "Q 2381 391 2643 752 \n",
       "Q 2906 1113 2906 1747 \n",
       "Q 2906 2381 2643 2742 \n",
       "Q 2381 3103 1925 3103 \n",
       "Q 1469 3103 1208 2742 \n",
       "Q 947 2381 947 1747 \n",
       "z\n",
       "\" transform=\"scale(0.015625)\"/>\n",
       "      <path id=\"DejaVuSans-20\" transform=\"scale(0.015625)\"/>\n",
       "      <path id=\"DejaVuSans-69\" d=\"M 603 3500 \n",
       "L 1178 3500 \n",
       "L 1178 0 \n",
       "L 603 0 \n",
       "L 603 3500 \n",
       "z\n",
       "M 603 4863 \n",
       "L 1178 4863 \n",
       "L 1178 4134 \n",
       "L 603 4134 \n",
       "L 603 4863 \n",
       "z\n",
       "\" transform=\"scale(0.015625)\"/>\n",
       "      <path id=\"DejaVuSans-61\" d=\"M 2194 1759 \n",
       "Q 1497 1759 1228 1600 \n",
       "Q 959 1441 959 1056 \n",
       "Q 959 750 1161 570 \n",
       "Q 1363 391 1709 391 \n",
       "Q 2188 391 2477 730 \n",
       "Q 2766 1069 2766 1631 \n",
       "L 2766 1759 \n",
       "L 2194 1759 \n",
       "z\n",
       "M 3341 1997 \n",
       "L 3341 0 \n",
       "L 2766 0 \n",
       "L 2766 531 \n",
       "Q 2569 213 2275 61 \n",
       "Q 1981 -91 1556 -91 \n",
       "Q 1019 -91 701 211 \n",
       "Q 384 513 384 1019 \n",
       "Q 384 1609 779 1909 \n",
       "Q 1175 2209 1959 2209 \n",
       "L 2766 2209 \n",
       "L 2766 2266 \n",
       "Q 2766 2663 2505 2880 \n",
       "Q 2244 3097 1772 3097 \n",
       "Q 1472 3097 1187 3025 \n",
       "Q 903 2953 641 2809 \n",
       "L 641 3341 \n",
       "Q 956 3463 1253 3523 \n",
       "Q 1550 3584 1831 3584 \n",
       "Q 2591 3584 2966 3190 \n",
       "Q 3341 2797 3341 1997 \n",
       "z\n",
       "\" transform=\"scale(0.015625)\"/>\n",
       "      <path id=\"DejaVuSans-78\" d=\"M 3513 3500 \n",
       "L 2247 1797 \n",
       "L 3578 0 \n",
       "L 2900 0 \n",
       "L 1881 1375 \n",
       "L 863 0 \n",
       "L 184 0 \n",
       "L 1544 1831 \n",
       "L 300 3500 \n",
       "L 978 3500 \n",
       "L 1906 2253 \n",
       "L 2834 3500 \n",
       "L 3513 3500 \n",
       "z\n",
       "\" transform=\"scale(0.015625)\"/>\n",
       "      <path id=\"DejaVuSans-70\" d=\"M 1159 525 \n",
       "L 1159 -1331 \n",
       "L 581 -1331 \n",
       "L 581 3500 \n",
       "L 1159 3500 \n",
       "L 1159 2969 \n",
       "Q 1341 3281 1617 3432 \n",
       "Q 1894 3584 2278 3584 \n",
       "Q 2916 3584 3314 3078 \n",
       "Q 3713 2572 3713 1747 \n",
       "Q 3713 922 3314 415 \n",
       "Q 2916 -91 2278 -91 \n",
       "Q 1894 -91 1617 61 \n",
       "Q 1341 213 1159 525 \n",
       "z\n",
       "M 3116 1747 \n",
       "Q 3116 2381 2855 2742 \n",
       "Q 2594 3103 2138 3103 \n",
       "Q 1681 3103 1420 2742 \n",
       "Q 1159 2381 1159 1747 \n",
       "Q 1159 1113 1420 752 \n",
       "Q 1681 391 2138 391 \n",
       "Q 2594 391 2855 752 \n",
       "Q 3116 1113 3116 1747 \n",
       "z\n",
       "\" transform=\"scale(0.015625)\"/>\n",
       "      <path id=\"DejaVuSans-6c\" d=\"M 603 4863 \n",
       "L 1178 4863 \n",
       "L 1178 0 \n",
       "L 603 0 \n",
       "L 603 4863 \n",
       "z\n",
       "\" transform=\"scale(0.015625)\"/>\n",
       "      <path id=\"DejaVuSans-73\" d=\"M 2834 3397 \n",
       "L 2834 2853 \n",
       "Q 2591 2978 2328 3040 \n",
       "Q 2066 3103 1784 3103 \n",
       "Q 1356 3103 1142 2972 \n",
       "Q 928 2841 928 2578 \n",
       "Q 928 2378 1081 2264 \n",
       "Q 1234 2150 1697 2047 \n",
       "L 1894 2003 \n",
       "Q 2506 1872 2764 1633 \n",
       "Q 3022 1394 3022 966 \n",
       "Q 3022 478 2636 193 \n",
       "Q 2250 -91 1575 -91 \n",
       "Q 1294 -91 989 -36 \n",
       "Q 684 19 347 128 \n",
       "L 347 722 \n",
       "Q 666 556 975 473 \n",
       "Q 1284 391 1588 391 \n",
       "Q 1994 391 2212 530 \n",
       "Q 2431 669 2431 922 \n",
       "Q 2431 1156 2273 1281 \n",
       "Q 2116 1406 1581 1522 \n",
       "L 1381 1569 \n",
       "Q 847 1681 609 1914 \n",
       "Q 372 2147 372 2553 \n",
       "Q 372 3047 722 3315 \n",
       "Q 1072 3584 1716 3584 \n",
       "Q 2034 3584 2315 3537 \n",
       "Q 2597 3491 2834 3397 \n",
       "z\n",
       "\" transform=\"scale(0.015625)\"/>\n",
       "      <path id=\"DejaVuSans-6f\" d=\"M 1959 3097 \n",
       "Q 1497 3097 1228 2736 \n",
       "Q 959 2375 959 1747 \n",
       "Q 959 1119 1226 758 \n",
       "Q 1494 397 1959 397 \n",
       "Q 2419 397 2687 759 \n",
       "Q 2956 1122 2956 1747 \n",
       "Q 2956 2369 2687 2733 \n",
       "Q 2419 3097 1959 3097 \n",
       "z\n",
       "M 1959 3584 \n",
       "Q 2709 3584 3137 3096 \n",
       "Q 3566 2609 3566 1747 \n",
       "Q 3566 888 3137 398 \n",
       "Q 2709 -91 1959 -91 \n",
       "Q 1206 -91 779 398 \n",
       "Q 353 888 353 1747 \n",
       "Q 353 2609 779 3096 \n",
       "Q 1206 3584 1959 3584 \n",
       "z\n",
       "\" transform=\"scale(0.015625)\"/>\n",
       "      <path id=\"DejaVuSans-66\" d=\"M 2375 4863 \n",
       "L 2375 4384 \n",
       "L 1825 4384 \n",
       "Q 1516 4384 1395 4259 \n",
       "Q 1275 4134 1275 3809 \n",
       "L 1275 3500 \n",
       "L 2222 3500 \n",
       "L 2222 3053 \n",
       "L 1275 3053 \n",
       "L 1275 0 \n",
       "L 697 0 \n",
       "L 697 3053 \n",
       "L 147 3053 \n",
       "L 147 3500 \n",
       "L 697 3500 \n",
       "L 697 3744 \n",
       "Q 697 4328 969 4595 \n",
       "Q 1241 4863 1831 4863 \n",
       "L 2375 4863 \n",
       "z\n",
       "\" transform=\"scale(0.015625)\"/>\n",
       "      <path id=\"DejaVuSans-68\" d=\"M 3513 2113 \n",
       "L 3513 0 \n",
       "L 2938 0 \n",
       "L 2938 2094 \n",
       "Q 2938 2591 2744 2837 \n",
       "Q 2550 3084 2163 3084 \n",
       "Q 1697 3084 1428 2787 \n",
       "Q 1159 2491 1159 1978 \n",
       "L 1159 0 \n",
       "L 581 0 \n",
       "L 581 4863 \n",
       "L 1159 4863 \n",
       "L 1159 2956 \n",
       "Q 1366 3272 1645 3428 \n",
       "Q 1925 3584 2291 3584 \n",
       "Q 2894 3584 3203 3211 \n",
       "Q 3513 2838 3513 2113 \n",
       "z\n",
       "\" transform=\"scale(0.015625)\"/>\n",
       "      <path id=\"DejaVuSans-53\" d=\"M 3425 4513 \n",
       "L 3425 3897 \n",
       "Q 3066 4069 2747 4153 \n",
       "Q 2428 4238 2131 4238 \n",
       "Q 1616 4238 1336 4038 \n",
       "Q 1056 3838 1056 3469 \n",
       "Q 1056 3159 1242 3001 \n",
       "Q 1428 2844 1947 2747 \n",
       "L 2328 2669 \n",
       "Q 3034 2534 3370 2195 \n",
       "Q 3706 1856 3706 1288 \n",
       "Q 3706 609 3251 259 \n",
       "Q 2797 -91 1919 -91 \n",
       "Q 1588 -91 1214 -16 \n",
       "Q 841 59 441 206 \n",
       "L 441 856 \n",
       "Q 825 641 1194 531 \n",
       "Q 1563 422 1919 422 \n",
       "Q 2459 422 2753 634 \n",
       "Q 3047 847 3047 1241 \n",
       "Q 3047 1584 2836 1778 \n",
       "Q 2625 1972 2144 2069 \n",
       "L 1759 2144 \n",
       "Q 1053 2284 737 2584 \n",
       "Q 422 2884 422 3419 \n",
       "Q 422 4038 858 4394 \n",
       "Q 1294 4750 2059 4750 \n",
       "Q 2388 4750 2728 4690 \n",
       "Q 3069 4631 3425 4513 \n",
       "z\n",
       "\" transform=\"scale(0.015625)\"/>\n",
       "      <path id=\"DejaVuSans-54\" d=\"M -19 4666 \n",
       "L 3928 4666 \n",
       "L 3928 4134 \n",
       "L 2272 4134 \n",
       "L 2272 0 \n",
       "L 1638 0 \n",
       "L 1638 4134 \n",
       "L -19 4134 \n",
       "L -19 4666 \n",
       "z\n",
       "\" transform=\"scale(0.015625)\"/>\n",
       "      <path id=\"DejaVuSans-4c\" d=\"M 628 4666 \n",
       "L 1259 4666 \n",
       "L 1259 531 \n",
       "L 3531 531 \n",
       "L 3531 0 \n",
       "L 628 0 \n",
       "L 628 4666 \n",
       "z\n",
       "\" transform=\"scale(0.015625)\"/>\n",
       "      <path id=\"DejaVuSans-31\" d=\"M 794 531 \n",
       "L 1825 531 \n",
       "L 1825 4091 \n",
       "L 703 3866 \n",
       "L 703 4441 \n",
       "L 1819 4666 \n",
       "L 2450 4666 \n",
       "L 2450 531 \n",
       "L 3481 531 \n",
       "L 3481 0 \n",
       "L 794 0 \n",
       "L 794 531 \n",
       "z\n",
       "\" transform=\"scale(0.015625)\"/>\n",
       "      <path id=\"DejaVuSans-30\" d=\"M 2034 4250 \n",
       "Q 1547 4250 1301 3770 \n",
       "Q 1056 3291 1056 2328 \n",
       "Q 1056 1369 1301 889 \n",
       "Q 1547 409 2034 409 \n",
       "Q 2525 409 2770 889 \n",
       "Q 3016 1369 3016 2328 \n",
       "Q 3016 3291 2770 3770 \n",
       "Q 2525 4250 2034 4250 \n",
       "z\n",
       "M 2034 4750 \n",
       "Q 2819 4750 3233 4129 \n",
       "Q 3647 3509 3647 2328 \n",
       "Q 3647 1150 3233 529 \n",
       "Q 2819 -91 2034 -91 \n",
       "Q 1250 -91 836 529 \n",
       "Q 422 1150 422 2328 \n",
       "Q 422 3509 836 4129 \n",
       "Q 1250 4750 2034 4750 \n",
       "z\n",
       "\" transform=\"scale(0.015625)\"/>\n",
       "     </defs>\n",
       "     <use xlink:href=\"#DejaVuSans-41\"/>\n",
       "     <use xlink:href=\"#DejaVuSans-75\" x=\"68.408203\"/>\n",
       "     <use xlink:href=\"#DejaVuSans-67\" x=\"131.787109\"/>\n",
       "     <use xlink:href=\"#DejaVuSans-6d\" x=\"195.263672\"/>\n",
       "     <use xlink:href=\"#DejaVuSans-65\" x=\"292.675781\"/>\n",
       "     <use xlink:href=\"#DejaVuSans-6e\" x=\"354.199219\"/>\n",
       "     <use xlink:href=\"#DejaVuSans-74\" x=\"417.578125\"/>\n",
       "     <use xlink:href=\"#DejaVuSans-65\" x=\"456.787109\"/>\n",
       "     <use xlink:href=\"#DejaVuSans-64\" x=\"518.310547\"/>\n",
       "     <use xlink:href=\"#DejaVuSans-20\" x=\"581.787109\"/>\n",
       "     <use xlink:href=\"#DejaVuSans-69\" x=\"613.574219\"/>\n",
       "     <use xlink:href=\"#DejaVuSans-6d\" x=\"641.357422\"/>\n",
       "     <use xlink:href=\"#DejaVuSans-61\" x=\"738.769531\"/>\n",
       "     <use xlink:href=\"#DejaVuSans-67\" x=\"800.048828\"/>\n",
       "     <use xlink:href=\"#DejaVuSans-65\" x=\"863.525391\"/>\n",
       "     <use xlink:href=\"#DejaVuSans-20\" x=\"925.048828\"/>\n",
       "     <use xlink:href=\"#DejaVuSans-65\" x=\"956.835938\"/>\n",
       "     <use xlink:href=\"#DejaVuSans-78\" x=\"1016.609375\"/>\n",
       "     <use xlink:href=\"#DejaVuSans-61\" x=\"1075.789062\"/>\n",
       "     <use xlink:href=\"#DejaVuSans-6d\" x=\"1137.068359\"/>\n",
       "     <use xlink:href=\"#DejaVuSans-70\" x=\"1234.480469\"/>\n",
       "     <use xlink:href=\"#DejaVuSans-6c\" x=\"1297.957031\"/>\n",
       "     <use xlink:href=\"#DejaVuSans-65\" x=\"1325.740234\"/>\n",
       "     <use xlink:href=\"#DejaVuSans-73\" x=\"1387.263672\"/>\n",
       "     <use xlink:href=\"#DejaVuSans-20\" x=\"1439.363281\"/>\n",
       "     <use xlink:href=\"#DejaVuSans-6f\" x=\"1471.150391\"/>\n",
       "     <use xlink:href=\"#DejaVuSans-66\" x=\"1532.332031\"/>\n",
       "     <use xlink:href=\"#DejaVuSans-20\" x=\"1567.537109\"/>\n",
       "     <use xlink:href=\"#DejaVuSans-74\" x=\"1599.324219\"/>\n",
       "     <use xlink:href=\"#DejaVuSans-68\" x=\"1638.533203\"/>\n",
       "     <use xlink:href=\"#DejaVuSans-65\" x=\"1701.912109\"/>\n",
       "     <use xlink:href=\"#DejaVuSans-20\" x=\"1763.435547\"/>\n",
       "     <use xlink:href=\"#DejaVuSans-53\" x=\"1795.222656\"/>\n",
       "     <use xlink:href=\"#DejaVuSans-54\" x=\"1858.699219\"/>\n",
       "     <use xlink:href=\"#DejaVuSans-4c\" x=\"1919.783203\"/>\n",
       "     <use xlink:href=\"#DejaVuSans-31\" x=\"1975.496094\"/>\n",
       "     <use xlink:href=\"#DejaVuSans-30\" x=\"2039.119141\"/>\n",
       "     <use xlink:href=\"#DejaVuSans-20\" x=\"2102.742188\"/>\n",
       "     <use xlink:href=\"#DejaVuSans-64\" x=\"2134.529297\"/>\n",
       "     <use xlink:href=\"#DejaVuSans-61\" x=\"2198.005859\"/>\n",
       "     <use xlink:href=\"#DejaVuSans-74\" x=\"2259.285156\"/>\n",
       "     <use xlink:href=\"#DejaVuSans-61\" x=\"2298.494141\"/>\n",
       "     <use xlink:href=\"#DejaVuSans-73\" x=\"2359.773438\"/>\n",
       "     <use xlink:href=\"#DejaVuSans-65\" x=\"2411.873047\"/>\n",
       "     <use xlink:href=\"#DejaVuSans-74\" x=\"2473.396484\"/>\n",
       "    </g>\n",
       "   </g>\n",
       "  </g>\n",
       " </g>\n",
       " <defs>\n",
       "  <clipPath id=\"pd024eb1912\">\n",
       "   <rect x=\"7.2\" y=\"22.318125\" width=\"558\" height=\"186.547865\"/>\n",
       "  </clipPath>\n",
       " </defs>\n",
       "</svg>\n"
      ],
      "text/plain": [
       "<Figure size 1000x500 with 1 Axes>"
      ]
     },
     "metadata": {},
     "output_type": "display_data"
    }
   ],
   "source": [
    "# Visualize some examples\n",
    "L.seed_everything(42)\n",
    "NUM_IMAGES = 6\n",
    "imgs = torch.cat([torch.Tensor(unlabeled_data[idx][\"pixel_values\"]) for idx in range(NUM_IMAGES)])\n",
    "print(imgs.shape)\n",
    "img_grid = torchvision.utils.make_grid(imgs, nrow=6, normalize=True, pad_value=0.9)\n",
    "img_grid = img_grid.permute(1, 2, 0)\n",
    "\n",
    "plt.figure(figsize=(10, 5))\n",
    "plt.title(\"Augmented image examples of the STL10 dataset\")\n",
    "plt.imshow(img_grid)\n",
    "plt.axis(\"off\")\n",
    "plt.show()\n",
    "plt.close()"
   ]
  },
  {
   "cell_type": "markdown",
   "id": "30dc6779",
   "metadata": {
    "papermill": {
     "duration": 0.20386,
     "end_time": "2023-10-12T10:17:05.487109",
     "exception": false,
     "start_time": "2023-10-12T10:17:05.283249",
     "status": "completed"
    },
    "tags": []
   },
   "source": [
    "We see the wide variety of our data augmentation, including randomly cropping, grayscaling, gaussian blur, and color distortion.\n",
    "Thus, it remains a challenging task for the model to match two, independently augmented patches of the same image."
   ]
  },
  {
   "cell_type": "markdown",
   "id": "97d18613",
   "metadata": {
    "lines_to_next_cell": 2,
    "papermill": {
     "duration": 0.203821,
     "end_time": "2023-10-12T10:17:05.894592",
     "exception": false,
     "start_time": "2023-10-12T10:17:05.690771",
     "status": "completed"
    },
    "tags": []
   },
   "source": [
    "### SimCLR implementation\n",
    "\n",
    "Using the data loader pipeline above, we can now implement SimCLR.\n",
    "At each iteration, we get for every image $x$ two differently augmented versions, which we refer to as $\\tilde{x}_i$ and $\\tilde{x}_j$.\n",
    "Both of these images are encoded into a one-dimensional feature vector, between which we want to maximize similarity which minimizes it to all other images in the batch.\n",
    "The encoder network is split into two parts: a base encoder network $f(\\cdot)$, and a projection head $g(\\cdot)$.\n",
    "The base network is usually a deep CNN as we have seen in e.g. [Tutorial 5](https://uvadlc-notebooks.readthedocs.io/en/latest/tutorial_notebooks/tutorial5/Inception_ResNet_DenseNet.html) before, and is responsible for extracting a representation vector from the augmented data examples.\n",
    "In our experiments, we will use the common ResNet-18 architecture as $f(\\cdot)$, and refer to the output as $f(\\tilde{x}_i)=h_i$.\n",
    "The projection head $g(\\cdot)$ maps the representation $h$ into a space where we apply the contrastive loss, i.e., compare similarities between vectors.\n",
    "It is often chosen to be a small MLP with non-linearities, and for simplicity, we follow the original SimCLR paper setup by defining it as a two-layer MLP with ReLU activation in the hidden layer.\n",
    "Note that in the follow-up paper, [SimCLRv2](https://arxiv.org/abs/2006.10029), the authors mention that larger/wider MLPs can boost the performance considerably.\n",
    "This is why we apply an MLP with four times larger hidden dimensions, but deeper MLPs showed to overfit on the given dataset.\n",
    "The general setup is visualized below (figure credit - [Ting Chen et al. ](https://arxiv.org/abs/2006.10029)):\n",
    "\n",
    "<center width=\"100%\"><img src=\"https://github.com/Lightning-AI/lightning-tutorials/raw/main/course_UvA-DL/13-contrastive-learning/simclr_network_setup.svg\" width=\"350px\"></center>\n",
    "\n",
    "After finishing the training with contrastive learning, we will remove the projection head $g(\\cdot)$, and use $f(\\cdot)$ as a pretrained feature extractor.\n",
    "The representations $z$ that come out of the projection head $g(\\cdot)$ have been shown to perform worse than those of the base network $f(\\cdot)$ when finetuning the network for a new task.\n",
    "This is likely because the representations $z$ are trained to become invariant to many features like the color that can be important for downstream tasks.\n",
    "Thus, $g(\\cdot)$ is only needed for the contrastive learning stage.\n",
    "\n",
    "Now that the architecture is described, let's take a closer look at how we train the model.\n",
    "As mentioned before, we want to maximize the similarity between the representations of the two augmented versions of the same image, i.e., $z_i$ and $z_j$ in the figure above, while minimizing it to all other examples in the batch.\n",
    "SimCLR thereby applies the InfoNCE loss, originally proposed by [Aaron van den Oord et al. ](https://arxiv.org/abs/1807.03748) for contrastive learning.\n",
    "In short, the InfoNCE loss compares the similarity of $z_i$ and $z_j$ to the similarity of $z_i$ to any other representation in the batch by performing a softmax over the similarity values.\n",
    "The loss can be formally written as:\n",
    "$$\n",
    "\\ell_{i,j}=-\\log \\frac{\\exp(\\text{sim}(z_i,z_j)/\\tau)}{\\sum_{k=1}^{2N}\\mathbb{1}_{[k\\neq i]}\\exp(\\text{sim}(z_i,z_k)/\\tau)}=-\\text{sim}(z_i,z_j)/\\tau+\\log\\left[\\sum_{k=1}^{2N}\\mathbb{1}_{[k\\neq i]}\\exp(\\text{sim}(z_i,z_k)/\\tau)\\right]\n",
    "$$\n",
    "The function $\\text{sim}$ is a similarity metric, and the hyperparameter $\\tau$ is called temperature determining how peaked the distribution is.\n",
    "Since many similarity metrics are bounded, the temperature parameter allows us to balance the influence of many dissimilar image patches versus one similar patch.\n",
    "The similarity metric that is used in SimCLR is cosine similarity, as defined below:\n",
    "$$\n",
    "\\text{sim}(z_i,z_j) = \\frac{z_i^\\top \\cdot z_j}{||z_i||\\cdot||z_j||}\n",
    "$$\n",
    "The maximum cosine similarity possible is $1$, while the minimum is $-1$.\n",
    "In general, we will see that the features of two different images will converge to a cosine similarity around zero since the minimum, $-1$, would require $z_i$ and $z_j$ to be in the exact opposite direction in all feature dimensions, which does not allow for great flexibility.\n",
    "\n",
    "Finally, now that we have discussed all details, let's implement SimCLR below as a PyTorch Lightning module:"
   ]
  },
  {
   "cell_type": "code",
   "execution_count": 7,
   "id": "dfa9d2a9",
   "metadata": {
    "lines_to_next_cell": 2,
    "papermill": {
     "duration": 0.222509,
     "end_time": "2023-10-12T10:17:06.370770",
     "exception": false,
     "start_time": "2023-10-12T10:17:06.148261",
     "status": "completed"
    },
    "tags": []
   },
   "outputs": [],
   "source": [
    "from transformers import AutoModel\n",
    "class SimCLR(L.LightningModule):\n",
    "    def __init__(self, hidden_dim, lr, temperature, weight_decay, max_epochs=500, model=MODEL):\n",
    "        super().__init__()\n",
    "        self.save_hyperparameters()\n",
    "        assert self.hparams.temperature > 0.0, \"The temperature must be a positive float!\"\n",
    "        # Base model f(.)\n",
    "        self.model = AutoModel.from_pretrained(model)\n",
    "        # The MLP for g(.) consists of Linear->ReLU->Linear\n",
    "        self.mlp = nn.Sequential(\n",
    "            nn.Linear(768, 4*hidden_dim),\n",
    "            nn.ReLU(),\n",
    "            nn.Linear(4*hidden_dim, hidden_dim),\n",
    "        )\n",
    "\n",
    "    def configure_optimizers(self):\n",
    "        optimizer = optim.AdamW(self.parameters(), lr=self.hparams.lr, weight_decay=self.hparams.weight_decay)\n",
    "        lr_scheduler = optim.lr_scheduler.CosineAnnealingLR(\n",
    "            optimizer, T_max=self.hparams.max_epochs, eta_min=self.hparams.lr / 50\n",
    "        )\n",
    "        return [optimizer], [lr_scheduler]\n",
    "\n",
    "    def info_nce_loss(self, batch, mode=\"train\"):\n",
    "        # print(batch)\n",
    "        imgs = batch\n",
    "        # imgs = torch.cat(imgs, dim=0)\n",
    "\n",
    "        # Encode all images\n",
    "        feats = self.model(imgs).pooler_output\n",
    "        feats = self.mlp(feats)\n",
    "        # Calculate cosine similarity\n",
    "        cos_sim = F.cosine_similarity(feats[:, None, :], feats[None, :, :], dim=-1)\n",
    "        # Mask out cosine similarity to itself\n",
    "        self_mask = torch.eye(cos_sim.shape[0], dtype=torch.bool, device=cos_sim.device)\n",
    "        cos_sim.masked_fill_(self_mask, -9e15)\n",
    "        # Find positive example -> batch_size//2 away from the original example\n",
    "        pos_mask = self_mask.roll(shifts=cos_sim.shape[0] // 2, dims=0)\n",
    "        # InfoNCE loss\n",
    "        cos_sim = cos_sim / self.hparams.temperature\n",
    "        nll = -cos_sim[pos_mask] + torch.logsumexp(cos_sim, dim=-1)\n",
    "        nll = nll.mean()\n",
    "\n",
    "        # Logging loss\n",
    "        self.log(mode + \"_loss\", nll)\n",
    "        # Get ranking position of positive example\n",
    "        comb_sim = torch.cat(\n",
    "            [cos_sim[pos_mask][:, None], cos_sim.masked_fill(pos_mask, -9e15)],  # First position positive example\n",
    "            dim=-1,\n",
    "        )\n",
    "        sim_argsort = comb_sim.argsort(dim=-1, descending=True).argmin(dim=-1)\n",
    "        # Logging ranking metrics\n",
    "        self.log(mode + \"_acc_top1\", (sim_argsort == 0).float().mean())\n",
    "        self.log(mode + \"_acc_top5\", (sim_argsort < 5).float().mean())\n",
    "        self.log(mode + \"_acc_mean_pos\", 1 + sim_argsort.float().mean())\n",
    "\n",
    "        return nll\n",
    "\n",
    "    def training_step(self, batch, batch_idx):\n",
    "        return self.info_nce_loss(batch, mode=\"train\")\n",
    "\n",
    "    def validation_step(self, batch, batch_idx):\n",
    "        self.info_nce_loss(batch, mode=\"val\")"
   ]
  },
  {
   "cell_type": "code",
   "execution_count": 8,
   "id": "6b3bf728",
   "metadata": {},
   "outputs": [],
   "source": [
    "coalate_fn = lambda batch: torch.cat([torch.Tensor(x[\"pixel_values\"]) for x in batch])"
   ]
  },
  {
   "cell_type": "code",
   "execution_count": 9,
   "id": "a9d8d039",
   "metadata": {},
   "outputs": [
    {
     "name": "stdout",
     "output_type": "stream",
     "text": [
      "torch.Size([32, 3, 224, 224])\n"
     ]
    }
   ],
   "source": [
    "train_loader = data.DataLoader(\n",
    "            unlabeled_data,\n",
    "            batch_size=16,\n",
    "            shuffle=True,\n",
    "            drop_last=True,\n",
    "            pin_memory=True,\n",
    "            num_workers=0,\n",
    "            collate_fn=coalate_fn,\n",
    "        )\n",
    "for batch in train_loader:\n",
    "    print(batch.shape)\n",
    "    break"
   ]
  },
  {
   "cell_type": "code",
   "execution_count": 10,
   "id": "e8a35673-00f9-4910-9498-2f6fa1caba5a",
   "metadata": {},
   "outputs": [],
   "source": [
    "def train_simclr(batch_size, max_epochs=500, **kwargs):\n",
    "    trainer = L.Trainer(\n",
    "        default_root_dir=os.path.join(CHECKPOINT_PATH, \"SimCLR\"),\n",
    "        accelerator=\"auto\",\n",
    "        devices=1,\n",
    "        max_epochs=max_epochs,\n",
    "        callbacks=[\n",
    "            ModelCheckpoint(save_weights_only=True, mode=\"max\", monitor=\"val_acc_top5\"),\n",
    "            LearningRateMonitor(\"epoch\"),\n",
    "        ],\n",
    "    )\n",
    "    trainer.logger._default_hp_metric = None  # Optional logging argument that we don't need\n",
    "\n",
    "    # Check whether pretrained model exists. If yes, load it and skip training\n",
    "    pretrained_filename = os.path.join(CHECKPOINT_PATH, \"SimCLR.ckpt\")\n",
    "    if os.path.isfile(pretrained_filename):\n",
    "        print(f\"Found pretrained model at {pretrained_filename}, loading...\")\n",
    "        # Automatically loads the model with the saved hyperparameters\n",
    "        model = SimCLR.load_from_checkpoint(pretrained_filename)\n",
    "    else:\n",
    "        train_loader = data.DataLoader(\n",
    "            unlabeled_data,\n",
    "            batch_size=batch_size,\n",
    "            shuffle=True,\n",
    "            drop_last=True,\n",
    "            pin_memory=True,\n",
    "            num_workers=0,\n",
    "            collate_fn=coalate_fn,\n",
    "        )\n",
    "        val_loader = data.DataLoader(\n",
    "            train_data_contrast,\n",
    "            batch_size=batch_size,\n",
    "            shuffle=False,\n",
    "            drop_last=False,\n",
    "            pin_memory=True,\n",
    "            num_workers=0,\n",
    "            collate_fn=coalate_fn,\n",
    "        )\n",
    "        L.seed_everything(42)  # To be reproducible\n",
    "        model = SimCLR(max_epochs=max_epochs, **kwargs)\n",
    "        trainer.fit(model, train_loader, val_loader)\n",
    "        # Load best checkpoint after training\n",
    "        model = SimCLR.load_from_checkpoint(trainer.checkpoint_callback.best_model_path)\n",
    "\n",
    "    return model"
   ]
  },
  {
   "cell_type": "markdown",
   "id": "d31c6734",
   "metadata": {
    "papermill": {
     "duration": 0.202338,
     "end_time": "2023-10-12T10:17:06.777095",
     "exception": false,
     "start_time": "2023-10-12T10:17:06.574757",
     "status": "completed"
    },
    "tags": []
   },
   "source": [
    "Alternatively to performing the validation on the contrastive learning loss as well, we could also take a simple, small downstream task, and track the performance of the base network $f(\\cdot)$ on that.\n",
    "However, in this tutorial, we will restrict ourselves to the STL10\n",
    "dataset where we use the task of image classification on STL10 as our\n",
    "test task."
   ]
  },
  {
   "cell_type": "markdown",
   "id": "2bba3278",
   "metadata": {
    "lines_to_next_cell": 2,
    "papermill": {
     "duration": 0.201837,
     "end_time": "2023-10-12T10:17:07.180438",
     "exception": false,
     "start_time": "2023-10-12T10:17:06.978601",
     "status": "completed"
    },
    "tags": []
   },
   "source": [
    "### Training\n",
    "\n",
    "Now that we have implemented SimCLR and the data loading pipeline, we are ready to train the model.\n",
    "We will use the same training function setup as usual.\n",
    "For saving the best model checkpoint, we track the metric `val_acc_top5`, which describes how often the correct image patch is within the top-5 most similar examples in the batch.\n",
    "This is usually less noisy than the top-1 metric, making it a better metric to choose the best model from."
   ]
  },
  {
   "cell_type": "markdown",
   "id": "d6dcb363",
   "metadata": {
    "papermill": {
     "duration": 0.207797,
     "end_time": "2023-10-12T10:17:08.058654",
     "exception": false,
     "start_time": "2023-10-12T10:17:07.850857",
     "status": "completed"
    },
    "tags": []
   },
   "source": [
    "A common observation in contrastive learning is that the larger the batch size, the better the models perform.\n",
    "A larger batch size allows us to compare each image to more negative examples, leading to overall smoother loss gradients.\n",
    "However, in our case, we experienced that a batch size of 256 was sufficient to get good results."
   ]
  },
  {
   "cell_type": "code",
   "execution_count": null,
   "id": "084522bd",
   "metadata": {
    "papermill": {
     "duration": 1.091076,
     "end_time": "2023-10-12T10:17:09.353073",
     "exception": false,
     "start_time": "2023-10-12T10:17:08.261997",
     "status": "completed"
    },
    "tags": []
   },
   "outputs": [
    {
     "name": "stderr",
     "output_type": "stream",
     "text": [
      "GPU available: True (cuda), used: True\n",
      "TPU available: False, using: 0 TPU cores\n",
      "IPU available: False, using: 0 IPUs\n",
      "HPU available: False, using: 0 HPUs\n",
      "Seed set to 42\n",
      "LOCAL_RANK: 0 - CUDA_VISIBLE_DEVICES: [2]\n",
      "\n",
      "  | Name  | Type        | Params\n",
      "--------------------------------------\n",
      "0 | model | Swinv2Model | 27.6 M\n",
      "1 | mlp   | Sequential  | 213 K \n",
      "--------------------------------------\n",
      "27.8 M    Trainable params\n",
      "0         Non-trainable params\n",
      "27.8 M    Total params\n",
      "111.166   Total estimated model params size (MB)\n"
     ]
    },
    {
     "data": {
      "application/vnd.jupyter.widget-view+json": {
       "model_id": "",
       "version_major": 2,
       "version_minor": 0
      },
      "text/plain": [
       "Sanity Checking: |                                                                                            …"
      ]
     },
     "metadata": {},
     "output_type": "display_data"
    },
    {
     "name": "stderr",
     "output_type": "stream",
     "text": [
      "/home/s4kibart/ba/evaluate_cbr/.venv/lib/python3.11/site-packages/lightning/pytorch/trainer/connectors/data_connector.py:441: The 'val_dataloader' does not have many workers which may be a bottleneck. Consider increasing the value of the `num_workers` argument` to `num_workers=79` in the `DataLoader` to improve performance.\n",
      "/home/s4kibart/ba/evaluate_cbr/.venv/lib/python3.11/site-packages/lightning/pytorch/trainer/connectors/data_connector.py:441: The 'train_dataloader' does not have many workers which may be a bottleneck. Consider increasing the value of the `num_workers` argument` to `num_workers=79` in the `DataLoader` to improve performance.\n"
     ]
    },
    {
     "data": {
      "application/vnd.jupyter.widget-view+json": {
       "model_id": "1795067d62c0417e910ad2a06eebee27",
       "version_major": 2,
       "version_minor": 0
      },
      "text/plain": [
       "Training: |                                                                                                   …"
      ]
     },
     "metadata": {},
     "output_type": "display_data"
    },
    {
     "data": {
      "application/vnd.jupyter.widget-view+json": {
       "model_id": "",
       "version_major": 2,
       "version_minor": 0
      },
      "text/plain": [
       "Validation: |                                                                                                 …"
      ]
     },
     "metadata": {},
     "output_type": "display_data"
    },
    {
     "data": {
      "application/vnd.jupyter.widget-view+json": {
       "model_id": "",
       "version_major": 2,
       "version_minor": 0
      },
      "text/plain": [
       "Validation: |                                                                                                 …"
      ]
     },
     "metadata": {},
     "output_type": "display_data"
    },
    {
     "data": {
      "application/vnd.jupyter.widget-view+json": {
       "model_id": "",
       "version_major": 2,
       "version_minor": 0
      },
      "text/plain": [
       "Validation: |                                                                                                 …"
      ]
     },
     "metadata": {},
     "output_type": "display_data"
    },
    {
     "data": {
      "application/vnd.jupyter.widget-view+json": {
       "model_id": "",
       "version_major": 2,
       "version_minor": 0
      },
      "text/plain": [
       "Validation: |                                                                                                 …"
      ]
     },
     "metadata": {},
     "output_type": "display_data"
    },
    {
     "data": {
      "application/vnd.jupyter.widget-view+json": {
       "model_id": "",
       "version_major": 2,
       "version_minor": 0
      },
      "text/plain": [
       "Validation: |                                                                                                 …"
      ]
     },
     "metadata": {},
     "output_type": "display_data"
    },
    {
     "data": {
      "application/vnd.jupyter.widget-view+json": {
       "model_id": "",
       "version_major": 2,
       "version_minor": 0
      },
      "text/plain": [
       "Validation: |                                                                                                 …"
      ]
     },
     "metadata": {},
     "output_type": "display_data"
    },
    {
     "data": {
      "application/vnd.jupyter.widget-view+json": {
       "model_id": "",
       "version_major": 2,
       "version_minor": 0
      },
      "text/plain": [
       "Validation: |                                                                                                 …"
      ]
     },
     "metadata": {},
     "output_type": "display_data"
    },
    {
     "data": {
      "application/vnd.jupyter.widget-view+json": {
       "model_id": "",
       "version_major": 2,
       "version_minor": 0
      },
      "text/plain": [
       "Validation: |                                                                                                 …"
      ]
     },
     "metadata": {},
     "output_type": "display_data"
    },
    {
     "data": {
      "application/vnd.jupyter.widget-view+json": {
       "model_id": "",
       "version_major": 2,
       "version_minor": 0
      },
      "text/plain": [
       "Validation: |                                                                                                 …"
      ]
     },
     "metadata": {},
     "output_type": "display_data"
    },
    {
     "data": {
      "application/vnd.jupyter.widget-view+json": {
       "model_id": "",
       "version_major": 2,
       "version_minor": 0
      },
      "text/plain": [
       "Validation: |                                                                                                 …"
      ]
     },
     "metadata": {},
     "output_type": "display_data"
    },
    {
     "data": {
      "application/vnd.jupyter.widget-view+json": {
       "model_id": "",
       "version_major": 2,
       "version_minor": 0
      },
      "text/plain": [
       "Validation: |                                                                                                 …"
      ]
     },
     "metadata": {},
     "output_type": "display_data"
    },
    {
     "data": {
      "application/vnd.jupyter.widget-view+json": {
       "model_id": "",
       "version_major": 2,
       "version_minor": 0
      },
      "text/plain": [
       "Validation: |                                                                                                 …"
      ]
     },
     "metadata": {},
     "output_type": "display_data"
    },
    {
     "data": {
      "application/vnd.jupyter.widget-view+json": {
       "model_id": "",
       "version_major": 2,
       "version_minor": 0
      },
      "text/plain": [
       "Validation: |                                                                                                 …"
      ]
     },
     "metadata": {},
     "output_type": "display_data"
    },
    {
     "data": {
      "application/vnd.jupyter.widget-view+json": {
       "model_id": "",
       "version_major": 2,
       "version_minor": 0
      },
      "text/plain": [
       "Validation: |                                                                                                 …"
      ]
     },
     "metadata": {},
     "output_type": "display_data"
    },
    {
     "data": {
      "application/vnd.jupyter.widget-view+json": {
       "model_id": "",
       "version_major": 2,
       "version_minor": 0
      },
      "text/plain": [
       "Validation: |                                                                                                 …"
      ]
     },
     "metadata": {},
     "output_type": "display_data"
    },
    {
     "data": {
      "application/vnd.jupyter.widget-view+json": {
       "model_id": "",
       "version_major": 2,
       "version_minor": 0
      },
      "text/plain": [
       "Validation: |                                                                                                 …"
      ]
     },
     "metadata": {},
     "output_type": "display_data"
    },
    {
     "data": {
      "application/vnd.jupyter.widget-view+json": {
       "model_id": "",
       "version_major": 2,
       "version_minor": 0
      },
      "text/plain": [
       "Validation: |                                                                                                 …"
      ]
     },
     "metadata": {},
     "output_type": "display_data"
    },
    {
     "data": {
      "application/vnd.jupyter.widget-view+json": {
       "model_id": "",
       "version_major": 2,
       "version_minor": 0
      },
      "text/plain": [
       "Validation: |                                                                                                 …"
      ]
     },
     "metadata": {},
     "output_type": "display_data"
    },
    {
     "data": {
      "application/vnd.jupyter.widget-view+json": {
       "model_id": "",
       "version_major": 2,
       "version_minor": 0
      },
      "text/plain": [
       "Validation: |                                                                                                 …"
      ]
     },
     "metadata": {},
     "output_type": "display_data"
    },
    {
     "data": {
      "application/vnd.jupyter.widget-view+json": {
       "model_id": "",
       "version_major": 2,
       "version_minor": 0
      },
      "text/plain": [
       "Validation: |                                                                                                 …"
      ]
     },
     "metadata": {},
     "output_type": "display_data"
    },
    {
     "data": {
      "application/vnd.jupyter.widget-view+json": {
       "model_id": "",
       "version_major": 2,
       "version_minor": 0
      },
      "text/plain": [
       "Validation: |                                                                                                 …"
      ]
     },
     "metadata": {},
     "output_type": "display_data"
    },
    {
     "data": {
      "application/vnd.jupyter.widget-view+json": {
       "model_id": "",
       "version_major": 2,
       "version_minor": 0
      },
      "text/plain": [
       "Validation: |                                                                                                 …"
      ]
     },
     "metadata": {},
     "output_type": "display_data"
    },
    {
     "data": {
      "application/vnd.jupyter.widget-view+json": {
       "model_id": "",
       "version_major": 2,
       "version_minor": 0
      },
      "text/plain": [
       "Validation: |                                                                                                 …"
      ]
     },
     "metadata": {},
     "output_type": "display_data"
    },
    {
     "data": {
      "application/vnd.jupyter.widget-view+json": {
       "model_id": "",
       "version_major": 2,
       "version_minor": 0
      },
      "text/plain": [
       "Validation: |                                                                                                 …"
      ]
     },
     "metadata": {},
     "output_type": "display_data"
    },
    {
     "data": {
      "application/vnd.jupyter.widget-view+json": {
       "model_id": "",
       "version_major": 2,
       "version_minor": 0
      },
      "text/plain": [
       "Validation: |                                                                                                 …"
      ]
     },
     "metadata": {},
     "output_type": "display_data"
    },
    {
     "data": {
      "application/vnd.jupyter.widget-view+json": {
       "model_id": "",
       "version_major": 2,
       "version_minor": 0
      },
      "text/plain": [
       "Validation: |                                                                                                 …"
      ]
     },
     "metadata": {},
     "output_type": "display_data"
    },
    {
     "data": {
      "application/vnd.jupyter.widget-view+json": {
       "model_id": "",
       "version_major": 2,
       "version_minor": 0
      },
      "text/plain": [
       "Validation: |                                                                                                 …"
      ]
     },
     "metadata": {},
     "output_type": "display_data"
    },
    {
     "data": {
      "application/vnd.jupyter.widget-view+json": {
       "model_id": "",
       "version_major": 2,
       "version_minor": 0
      },
      "text/plain": [
       "Validation: |                                                                                                 …"
      ]
     },
     "metadata": {},
     "output_type": "display_data"
    },
    {
     "data": {
      "application/vnd.jupyter.widget-view+json": {
       "model_id": "",
       "version_major": 2,
       "version_minor": 0
      },
      "text/plain": [
       "Validation: |                                                                                                 …"
      ]
     },
     "metadata": {},
     "output_type": "display_data"
    },
    {
     "data": {
      "application/vnd.jupyter.widget-view+json": {
       "model_id": "",
       "version_major": 2,
       "version_minor": 0
      },
      "text/plain": [
       "Validation: |                                                                                                 …"
      ]
     },
     "metadata": {},
     "output_type": "display_data"
    },
    {
     "data": {
      "application/vnd.jupyter.widget-view+json": {
       "model_id": "",
       "version_major": 2,
       "version_minor": 0
      },
      "text/plain": [
       "Validation: |                                                                                                 …"
      ]
     },
     "metadata": {},
     "output_type": "display_data"
    },
    {
     "data": {
      "application/vnd.jupyter.widget-view+json": {
       "model_id": "f21715d8525e41598bc8ed0b08710343",
       "version_major": 2,
       "version_minor": 0
      },
      "text/plain": [
       "Validation: |                                                                                                 …"
      ]
     },
     "metadata": {},
     "output_type": "display_data"
    }
   ],
   "source": [
    "simclr_model = train_simclr(\n",
    "    batch_size=64, hidden_dim=64, lr=5e-4, temperature=0.07, weight_decay=1e-4, max_epochs=35\n",
    ")"
   ]
  },
  {
   "cell_type": "markdown",
   "id": "d4714a46",
   "metadata": {
    "papermill": {
     "duration": 0.204306,
     "end_time": "2023-10-12T10:17:09.845704",
     "exception": false,
     "start_time": "2023-10-12T10:17:09.641398",
     "status": "completed"
    },
    "tags": []
   },
   "source": [
    "To get an intuition of how training with contrastive learning behaves, we can take a look at the TensorBoard below:"
   ]
  },
  {
   "cell_type": "code",
   "execution_count": 86,
   "id": "5845e385",
   "metadata": {
    "papermill": {
     "duration": 1.218507,
     "end_time": "2023-10-12T10:17:11.269139",
     "exception": false,
     "start_time": "2023-10-12T10:17:10.050632",
     "status": "completed"
    },
    "tags": []
   },
   "outputs": [
    {
     "data": {
      "text/html": [
       "\n",
       "      <iframe id=\"tensorboard-frame-1c80317fa3b1799d\" width=\"100%\" height=\"800\" frameborder=\"0\">\n",
       "      </iframe>\n",
       "      <script>\n",
       "        (function() {\n",
       "          const frame = document.getElementById(\"tensorboard-frame-1c80317fa3b1799d\");\n",
       "          const url = new URL(\"/\", window.location);\n",
       "          const port = 6006;\n",
       "          if (port) {\n",
       "            url.port = port;\n",
       "          }\n",
       "          frame.src = url;\n",
       "        })();\n",
       "      </script>\n",
       "    "
      ],
      "text/plain": [
       "<IPython.core.display.HTML object>"
      ]
     },
     "metadata": {},
     "output_type": "display_data"
    }
   ],
   "source": [
    "%tensorboard --logdir saved_models/ContrastiveLearning_graphimages-twopi/SimCLR/lightning_logs"
   ]
  },
  {
   "cell_type": "markdown",
   "id": "ca9b8445",
   "metadata": {
    "lines_to_next_cell": 2,
    "papermill": {
     "duration": 0.210439,
     "end_time": "2023-10-12T10:17:12.153580",
     "exception": false,
     "start_time": "2023-10-12T10:17:11.943141",
     "status": "completed"
    },
    "tags": []
   },
   "source": [
    "## Logistic Regression\n",
    "\n",
    "<div class=\"center-wrapper\"><div class=\"video-wrapper\"><iframe src=\"https://www.youtube.com/embed/o3FktysLLd4\" title=\"YouTube video player\" frameborder=\"0\" allow=\"accelerometer; autoplay; clipboard-write; encrypted-media; gyroscope; picture-in-picture\" allowfullscreen></iframe></div></div>\n",
    "After we have trained our model via contrastive learning, we can deploy it on downstream tasks and see how well it performs with little data.\n",
    "A common setup, which also verifies whether the model has learned generalized representations, is to perform Logistic Regression on the features.\n",
    "In other words, we learn a single, linear layer that maps the representations to a class prediction.\n",
    "Since the base network $f(\\cdot)$ is not changed during the training process, the model can only perform well if the representations of $h$ describe all features that might be necessary for the task.\n",
    "Further, we do not have to worry too much about overfitting since we have very few parameters that are trained.\n",
    "Hence, we might expect that the model can perform well even with very little data.\n",
    "\n",
    "First, let's implement a simple Logistic Regression setup for which we assume that the images already have been encoded in their feature vectors.\n",
    "If very little data is available, it might be beneficial to dynamically encode the images during training so that we can also apply data augmentations.\n",
    "However, the way we implement it here is much more efficient and can be trained within a few seconds.\n",
    "Further, using data augmentations did not show any significant gain in this simple setup."
   ]
  },
  {
   "cell_type": "code",
   "execution_count": null,
   "id": "f8ffe86d",
   "metadata": {
    "papermill": {
     "duration": 0.221322,
     "end_time": "2023-10-12T10:17:12.579562",
     "exception": false,
     "start_time": "2023-10-12T10:17:12.358240",
     "status": "completed"
    },
    "tags": []
   },
   "outputs": [],
   "source": [
    "class LogisticRegression(L.LightningModule):\n",
    "    def __init__(self, feature_dim, num_classes, lr, weight_decay, max_epochs=100):\n",
    "        super().__init__()\n",
    "        self.save_hyperparameters()\n",
    "        # Mapping from representation h to classes\n",
    "        self.model = nn.Linear(feature_dim, num_classes)\n",
    "\n",
    "    def configure_optimizers(self):\n",
    "        optimizer = optim.AdamW(self.parameters(), lr=self.hparams.lr, weight_decay=self.hparams.weight_decay)\n",
    "        lr_scheduler = optim.lr_scheduler.MultiStepLR(\n",
    "            optimizer, milestones=[int(self.hparams.max_epochs * 0.6), int(self.hparams.max_epochs * 0.8)], gamma=0.1\n",
    "        )\n",
    "        return [optimizer], [lr_scheduler]\n",
    "\n",
    "    def _calculate_loss(self, batch, mode=\"train\"):\n",
    "        feats, labels = batch\n",
    "        preds = self.model(feats)\n",
    "        loss = F.cross_entropy(preds, labels)\n",
    "        acc = (preds.argmax(dim=-1) == labels).float().mean()\n",
    "\n",
    "        self.log(mode + \"_loss\", loss)\n",
    "        self.log(mode + \"_acc\", acc)\n",
    "        return loss\n",
    "\n",
    "    def training_step(self, batch, batch_idx):\n",
    "        return self._calculate_loss(batch, mode=\"train\")\n",
    "\n",
    "    def validation_step(self, batch, batch_idx):\n",
    "        self._calculate_loss(batch, mode=\"val\")\n",
    "\n",
    "    def test_step(self, batch, batch_idx):\n",
    "        self._calculate_loss(batch, mode=\"test\")"
   ]
  },
  {
   "cell_type": "markdown",
   "id": "1e1f5b1a",
   "metadata": {
    "papermill": {
     "duration": 0.204001,
     "end_time": "2023-10-12T10:17:12.987596",
     "exception": false,
     "start_time": "2023-10-12T10:17:12.783595",
     "status": "completed"
    },
    "tags": []
   },
   "source": [
    "The data we use is the training and test set of STL10.\n",
    "The training contains 500 images per class, while the test set has 800 images per class."
   ]
  },
  {
   "cell_type": "code",
   "execution_count": null,
   "id": "eb045d39",
   "metadata": {
    "papermill": {
     "duration": 10.594537,
     "end_time": "2023-10-12T10:17:23.836147",
     "exception": false,
     "start_time": "2023-10-12T10:17:13.241610",
     "status": "completed"
    },
    "tags": []
   },
   "outputs": [],
   "source": [
    "from transformers import AutoImageProcessor\n",
    "processor = AutoImageProcessor.from_pretrained(MODEL)\n",
    "\n",
    "class Preprocess:\n",
    "    def __call__(self, x):\n",
    "        return processor(x, return_tensors=\"pt\")[\"pixel_values\"].squeeze() \n",
    "    \n",
    "pp = Preprocess()\n",
    "train_img_data = STL10(root=DATASET_PATH, split=\"train\", download=True, transform=pp)\n",
    "test_img_data = STL10(root=DATASET_PATH, split=\"test\", download=True, transform=pp)\n",
    "\n",
    "print(\"Number of training examples:\", len(train_img_data))\n",
    "print(\"Number of test examples:\", len(test_img_data))"
   ]
  },
  {
   "cell_type": "markdown",
   "id": "4fe7bb53",
   "metadata": {
    "lines_to_next_cell": 2,
    "papermill": {
     "duration": 0.205395,
     "end_time": "2023-10-12T10:17:24.281519",
     "exception": false,
     "start_time": "2023-10-12T10:17:24.076124",
     "status": "completed"
    },
    "tags": []
   },
   "source": [
    "Next, we implement a small function to encode all images in our datasets.\n",
    "The output representations are then used as inputs to the Logistic Regression model."
   ]
  },
  {
   "cell_type": "code",
   "execution_count": null,
   "id": "dc036f86",
   "metadata": {
    "papermill": {
     "duration": 0.25953,
     "end_time": "2023-10-12T10:17:24.744198",
     "exception": false,
     "start_time": "2023-10-12T10:17:24.484668",
     "status": "completed"
    },
    "tags": []
   },
   "outputs": [],
   "source": [
    "@torch.no_grad()\n",
    "def prepare_data_features(model, dataset):\n",
    "    # Prepare model\n",
    "    network = deepcopy(model.model)\n",
    "    network.eval()\n",
    "    network.to(device)\n",
    "\n",
    "    # Encode all images\n",
    "    data_loader = data.DataLoader(dataset, batch_size=64, num_workers=20, shuffle=False, drop_last=False)\n",
    "    feats, labels = [], []\n",
    "    for batch_imgs, batch_labels in tqdm(data_loader):\n",
    "        batch_imgs = batch_imgs.to(device)\n",
    "        batch_feats = network(batch_imgs).pooler_output\n",
    "        feats.append(batch_feats.detach().cpu())\n",
    "        labels.append(batch_labels)\n",
    "\n",
    "    feats = torch.cat(feats, dim=0)\n",
    "    labels = torch.cat(labels, dim=0)\n",
    "\n",
    "    # Sort images by labels\n",
    "    labels, idxs = labels.sort()\n",
    "    feats = feats[idxs]\n",
    "\n",
    "    return data.TensorDataset(feats, labels)"
   ]
  },
  {
   "cell_type": "markdown",
   "id": "0a26b004",
   "metadata": {
    "papermill": {
     "duration": 0.20344,
     "end_time": "2023-10-12T10:17:25.155830",
     "exception": false,
     "start_time": "2023-10-12T10:17:24.952390",
     "status": "completed"
    },
    "tags": []
   },
   "source": [
    "Let's apply the function to both training and test set below."
   ]
  },
  {
   "cell_type": "code",
   "execution_count": null,
   "id": "9ca7aab2",
   "metadata": {
    "papermill": {
     "duration": 10.458895,
     "end_time": "2023-10-12T10:17:35.817068",
     "exception": false,
     "start_time": "2023-10-12T10:17:25.358173",
     "status": "completed"
    },
    "tags": []
   },
   "outputs": [],
   "source": [
    "train_feats_simclr = prepare_data_features(simclr_model, train_img_data)\n",
    "test_feats_simclr = prepare_data_features(simclr_model, test_img_data)"
   ]
  },
  {
   "cell_type": "markdown",
   "id": "c57594d2",
   "metadata": {
    "lines_to_next_cell": 2,
    "papermill": {
     "duration": 0.201731,
     "end_time": "2023-10-12T10:17:36.225721",
     "exception": false,
     "start_time": "2023-10-12T10:17:36.023990",
     "status": "completed"
    },
    "tags": []
   },
   "source": [
    "Finally, we can write a training function as usual.\n",
    "We evaluate the model on the test set every 10 epochs to allow early\n",
    "stopping, but the low frequency of the validation ensures that we do not\n",
    "overfit too much on the test set."
   ]
  },
  {
   "cell_type": "code",
   "execution_count": null,
   "id": "75b8ff08",
   "metadata": {
    "lines_to_next_cell": 2,
    "papermill": {
     "duration": 0.214718,
     "end_time": "2023-10-12T10:17:36.684817",
     "exception": false,
     "start_time": "2023-10-12T10:17:36.470099",
     "status": "completed"
    },
    "tags": []
   },
   "outputs": [],
   "source": [
    "def train_logreg(batch_size, train_feats_data, test_feats_data, model_suffix, max_epochs=100, **kwargs):\n",
    "    trainer = L.Trainer(\n",
    "        default_root_dir=os.path.join(CHECKPOINT_PATH, \"LogisticRegression\"),\n",
    "        accelerator=\"auto\",\n",
    "        devices=1,\n",
    "        max_epochs=max_epochs,\n",
    "        callbacks=[\n",
    "            ModelCheckpoint(save_weights_only=True, mode=\"max\", monitor=\"val_acc\"),\n",
    "            LearningRateMonitor(\"epoch\"),\n",
    "        ],\n",
    "        enable_progress_bar=False,\n",
    "        check_val_every_n_epoch=10,\n",
    "    )\n",
    "    trainer.logger._default_hp_metric = None\n",
    "\n",
    "    # Data loaders\n",
    "    train_loader = data.DataLoader(\n",
    "        train_feats_data, batch_size=batch_size, shuffle=True, drop_last=False, pin_memory=True, num_workers=0\n",
    "    )\n",
    "    test_loader = data.DataLoader(\n",
    "        test_feats_data, batch_size=batch_size, shuffle=False, drop_last=False, pin_memory=True, num_workers=0\n",
    "    )\n",
    "\n",
    "    # Check whether pretrained model exists. If yes, load it and skip training\n",
    "    pretrained_filename = os.path.join(CHECKPOINT_PATH, f\"LogisticRegression_{model_suffix}.ckpt\")\n",
    "    if os.path.isfile(pretrained_filename):\n",
    "        print(f\"Found pretrained model at {pretrained_filename}, loading...\")\n",
    "        model = LogisticRegression.load_from_checkpoint(pretrained_filename)\n",
    "    else:\n",
    "        L.seed_everything(42)  # To be reproducible\n",
    "        model = LogisticRegression(**kwargs)\n",
    "        trainer.fit(model, train_loader, test_loader)\n",
    "        model = LogisticRegression.load_from_checkpoint(trainer.checkpoint_callback.best_model_path)\n",
    "\n",
    "    # Test best model on train and validation set\n",
    "    train_result = trainer.test(model, dataloaders=train_loader, verbose=False)\n",
    "    test_result = trainer.test(model, dataloaders=test_loader, verbose=False)\n",
    "    result = {\"train\": train_result[0][\"test_acc\"], \"test\": test_result[0][\"test_acc\"]}\n",
    "\n",
    "    return model, result"
   ]
  },
  {
   "cell_type": "markdown",
   "id": "4c0bdab8",
   "metadata": {
    "lines_to_next_cell": 2,
    "papermill": {
     "duration": 0.201344,
     "end_time": "2023-10-12T10:17:37.090475",
     "exception": false,
     "start_time": "2023-10-12T10:17:36.889131",
     "status": "completed"
    },
    "tags": []
   },
   "source": [
    "Despite the training dataset of STL10 already only having 500 labeled images per class, we will perform experiments with even smaller datasets.\n",
    "Specifically, we train a Logistic Regression model for datasets with only 10, 20, 50, 100, 200, and all 500 examples per class.\n",
    "This gives us an intuition on how well the representations learned by contrastive learning can be transferred to a image recognition task like this classification.\n",
    "First, let's define a function to create the intended sub-datasets from the full training set:"
   ]
  },
  {
   "cell_type": "code",
   "execution_count": null,
   "id": "f6767b71",
   "metadata": {
    "papermill": {
     "duration": 0.212998,
     "end_time": "2023-10-12T10:17:37.504574",
     "exception": false,
     "start_time": "2023-10-12T10:17:37.291576",
     "status": "completed"
    },
    "tags": []
   },
   "outputs": [],
   "source": [
    "def get_smaller_dataset(original_dataset, num_imgs_per_label):\n",
    "    new_dataset = data.TensorDataset(\n",
    "        *(t.unflatten(0, (10, 500))[:, :num_imgs_per_label].flatten(0, 1) for t in original_dataset.tensors)\n",
    "    )\n",
    "    return new_dataset"
   ]
  },
  {
   "cell_type": "markdown",
   "id": "24542748",
   "metadata": {
    "papermill": {
     "duration": 0.23764,
     "end_time": "2023-10-12T10:17:37.945430",
     "exception": false,
     "start_time": "2023-10-12T10:17:37.707790",
     "status": "completed"
    },
    "tags": []
   },
   "source": [
    "Next, let's run all models.\n",
    "Despite us training 6 models, this cell could be run within a minute or two without the pretrained models."
   ]
  },
  {
   "cell_type": "code",
   "execution_count": null,
   "id": "597f3941",
   "metadata": {
    "papermill": {
     "duration": 1.747752,
     "end_time": "2023-10-12T10:17:39.900985",
     "exception": false,
     "start_time": "2023-10-12T10:17:38.153233",
     "status": "completed"
    },
    "tags": []
   },
   "outputs": [],
   "source": [
    "results = {}\n",
    "for num_imgs_per_label in [10, 20, 50, 100, 200, 500]:\n",
    "    sub_train_set = get_smaller_dataset(train_feats_simclr, num_imgs_per_label)\n",
    "    _, small_set_results = train_logreg(\n",
    "        batch_size=64,\n",
    "        train_feats_data=sub_train_set,\n",
    "        test_feats_data=test_feats_simclr,\n",
    "        model_suffix=num_imgs_per_label,\n",
    "        feature_dim=train_feats_simclr.tensors[0].shape[1],\n",
    "        num_classes=10,\n",
    "        lr=1e-3,\n",
    "        weight_decay=1e-3,\n",
    "    )\n",
    "    results[num_imgs_per_label] = small_set_results"
   ]
  },
  {
   "cell_type": "markdown",
   "id": "6aec221f",
   "metadata": {
    "papermill": {
     "duration": 0.20463,
     "end_time": "2023-10-12T10:17:40.346847",
     "exception": false,
     "start_time": "2023-10-12T10:17:40.142217",
     "status": "completed"
    },
    "tags": []
   },
   "source": [
    "Finally, let's plot the results."
   ]
  },
  {
   "cell_type": "code",
   "execution_count": null,
   "id": "507a9e81",
   "metadata": {
    "papermill": {
     "duration": 0.571832,
     "end_time": "2023-10-12T10:17:41.167306",
     "exception": false,
     "start_time": "2023-10-12T10:17:40.595474",
     "status": "completed"
    },
    "tags": []
   },
   "outputs": [],
   "source": [
    "dataset_sizes = sorted(k for k in results)\n",
    "test_scores = [results[k][\"test\"] for k in dataset_sizes]\n",
    "\n",
    "fig = plt.figure(figsize=(6, 4))\n",
    "plt.plot(\n",
    "    dataset_sizes,\n",
    "    test_scores,\n",
    "    \"--\",\n",
    "    color=\"#000\",\n",
    "    marker=\"*\",\n",
    "    markeredgecolor=\"#000\",\n",
    "    markerfacecolor=\"y\",\n",
    "    markersize=16,\n",
    ")\n",
    "plt.xscale(\"log\")\n",
    "plt.xticks(dataset_sizes, labels=dataset_sizes)\n",
    "plt.title(\"STL10 classification over dataset size\", fontsize=14)\n",
    "plt.xlabel(\"Number of images per class\")\n",
    "plt.ylabel(\"Test accuracy\")\n",
    "plt.minorticks_off()\n",
    "plt.show()\n",
    "\n",
    "for k, score in zip(dataset_sizes, test_scores):\n",
    "    print(f\"Test accuracy for {k:3d} images per label: {100*score:4.2f}%\")"
   ]
  },
  {
   "cell_type": "markdown",
   "id": "3b8a3c4f",
   "metadata": {
    "papermill": {
     "duration": 0.205521,
     "end_time": "2023-10-12T10:17:41.580230",
     "exception": false,
     "start_time": "2023-10-12T10:17:41.374709",
     "status": "completed"
    },
    "tags": []
   },
   "source": [
    "As one would expect, the classification performance improves the more data we have.\n",
    "However, with only 10 images per class, we can already classify more than 60% of the images correctly.\n",
    "This is quite impressive, considering that the images are also higher dimensional than e.g. CIFAR10.\n",
    "With the full dataset, we achieve an accuracy of 81%.\n",
    "The increase between 50 to 500 images per class might suggest a linear increase in performance with an exponentially larger dataset.\n",
    "However, with even more data, we could also finetune $f(\\cdot)$ in the training process, allowing for the representations to adapt more to the specific classification task given.\n",
    "\n",
    "To set the results above into perspective, we will train the base\n",
    "network, a ResNet-18, on the classification task from scratch."
   ]
  },
  {
   "cell_type": "markdown",
   "id": "df0df437",
   "metadata": {
    "lines_to_next_cell": 2,
    "papermill": {
     "duration": 0.204559,
     "end_time": "2023-10-12T10:17:41.990451",
     "exception": false,
     "start_time": "2023-10-12T10:17:41.785892",
     "status": "completed"
    },
    "tags": []
   },
   "source": [
    "## Baseline\n",
    "\n",
    "As a baseline to our results above, we will train a standard ResNet-18 with random initialization on the labeled training set of STL10.\n",
    "The results will give us an indication of the advantages that contrastive learning on unlabeled data has compared to using only supervised training.\n",
    "The implementation of the model is straightforward since the ResNet\n",
    "architecture is provided in the torchvision library."
   ]
  },
  {
   "cell_type": "code",
   "execution_count": null,
   "id": "4e477e28",
   "metadata": {
    "papermill": {
     "duration": 0.214044,
     "end_time": "2023-10-12T10:17:42.447100",
     "exception": false,
     "start_time": "2023-10-12T10:17:42.233056",
     "status": "completed"
    },
    "tags": []
   },
   "outputs": [],
   "source": [
    "class ResNet(L.LightningModule):\n",
    "    def __init__(self, num_classes, lr, weight_decay, max_epochs=100):\n",
    "        super().__init__()\n",
    "        self.save_hyperparameters()\n",
    "        self.model = torchvision.models.resnet18(pretrained=False, num_classes=num_classes)\n",
    "\n",
    "    def configure_optimizers(self):\n",
    "        optimizer = optim.AdamW(self.parameters(), lr=self.hparams.lr, weight_decay=self.hparams.weight_decay)\n",
    "        lr_scheduler = optim.lr_scheduler.MultiStepLR(\n",
    "            optimizer, milestones=[int(self.hparams.max_epochs * 0.7), int(self.hparams.max_epochs * 0.9)], gamma=0.1\n",
    "        )\n",
    "        return [optimizer], [lr_scheduler]\n",
    "\n",
    "    def _calculate_loss(self, batch, mode=\"train\"):\n",
    "        imgs, labels = batch\n",
    "        preds = self.model(imgs)\n",
    "        loss = F.cross_entropy(preds, labels)\n",
    "        acc = (preds.argmax(dim=-1) == labels).float().mean()\n",
    "\n",
    "        self.log(mode + \"_loss\", loss)\n",
    "        self.log(mode + \"_acc\", acc)\n",
    "        return loss\n",
    "\n",
    "    def training_step(self, batch, batch_idx):\n",
    "        return self._calculate_loss(batch, mode=\"train\")\n",
    "\n",
    "    def validation_step(self, batch, batch_idx):\n",
    "        self._calculate_loss(batch, mode=\"val\")\n",
    "\n",
    "    def test_step(self, batch, batch_idx):\n",
    "        self._calculate_loss(batch, mode=\"test\")"
   ]
  },
  {
   "cell_type": "markdown",
   "id": "932a6e40",
   "metadata": {
    "papermill": {
     "duration": 0.205127,
     "end_time": "2023-10-12T10:17:42.858480",
     "exception": false,
     "start_time": "2023-10-12T10:17:42.653353",
     "status": "completed"
    },
    "tags": []
   },
   "source": [
    "It is clear that the ResNet easily overfits on the training data since its parameter count is more than 1000 times larger than the dataset size.\n",
    "To make the comparison to the contrastive learning models fair, we apply data augmentations similar to the ones we used before: horizontal flip, crop-and-resize, grayscale, and gaussian blur.\n",
    "Color distortions as before are not used because the color distribution of an image showed to be an important feature for the classification.\n",
    "Hence, we observed no noticeable performance gains when adding color distortions to the set of augmentations.\n",
    "Similarly, we restrict the resizing operation before cropping to the max.\n",
    "125% of its original resolution, instead of 1250% as done in SimCLR.\n",
    "This is because, for classification, the model needs to recognize the full object, while in contrastive learning, we only want to check whether two patches belong to the same image/object.\n",
    "Hence, the chosen augmentations below are overall weaker than in the contrastive learning case."
   ]
  },
  {
   "cell_type": "code",
   "execution_count": null,
   "id": "32c68b47",
   "metadata": {
    "papermill": {
     "duration": 5.482204,
     "end_time": "2023-10-12T10:17:48.546112",
     "exception": false,
     "start_time": "2023-10-12T10:17:43.063908",
     "status": "completed"
    },
    "tags": []
   },
   "outputs": [],
   "source": [
    "train_transforms = transforms.Compose(\n",
    "    [\n",
    "        transforms.RandomHorizontalFlip(),\n",
    "        transforms.RandomResizedCrop(size=96, scale=(0.8, 1.0)),\n",
    "        transforms.RandomGrayscale(p=0.2),\n",
    "        transforms.GaussianBlur(kernel_size=9, sigma=(0.1, 0.5)),\n",
    "        transforms.ToTensor(),\n",
    "        transforms.Normalize((0.5,), (0.5,)),\n",
    "    ]\n",
    ")\n",
    "\n",
    "train_img_aug_data = STL10(root=DATASET_PATH, split=\"train\", download=True, transform=train_transforms)"
   ]
  },
  {
   "cell_type": "markdown",
   "id": "5af802e8",
   "metadata": {
    "lines_to_next_cell": 2,
    "papermill": {
     "duration": 0.256531,
     "end_time": "2023-10-12T10:17:49.043154",
     "exception": false,
     "start_time": "2023-10-12T10:17:48.786623",
     "status": "completed"
    },
    "tags": []
   },
   "source": [
    "The training function for the ResNet is almost identical to the Logistic Regression setup.\n",
    "Note that we allow the ResNet to perform validation every 2 epochs to\n",
    "also check whether the model overfits strongly in the first iterations\n",
    "or not."
   ]
  },
  {
   "cell_type": "code",
   "execution_count": null,
   "id": "a858c2ce",
   "metadata": {
    "papermill": {
     "duration": 0.21767,
     "end_time": "2023-10-12T10:17:49.465843",
     "exception": false,
     "start_time": "2023-10-12T10:17:49.248173",
     "status": "completed"
    },
    "tags": []
   },
   "outputs": [],
   "source": [
    "def train_resnet(batch_size, max_epochs=100, **kwargs):\n",
    "    trainer = L.Trainer(\n",
    "        default_root_dir=os.path.join(CHECKPOINT_PATH, \"ResNet\"),\n",
    "        accelerator=\"auto\",\n",
    "        devices=1,\n",
    "        max_epochs=max_epochs,\n",
    "        callbacks=[\n",
    "            ModelCheckpoint(save_weights_only=True, mode=\"max\", monitor=\"val_acc\"),\n",
    "            LearningRateMonitor(\"epoch\"),\n",
    "        ],\n",
    "        check_val_every_n_epoch=2,\n",
    "    )\n",
    "    trainer.logger._default_hp_metric = None\n",
    "\n",
    "    # Data loaders\n",
    "    train_loader = data.DataLoader(\n",
    "        train_img_aug_data,\n",
    "        batch_size=batch_size,\n",
    "        shuffle=True,\n",
    "        drop_last=True,\n",
    "        pin_memory=True,\n",
    "        num_workers=NUM_WORKERS,\n",
    "    )\n",
    "    test_loader = data.DataLoader(\n",
    "        test_img_data, batch_size=batch_size, shuffle=False, drop_last=False, pin_memory=True, num_workers=NUM_WORKERS\n",
    "    )\n",
    "\n",
    "    # Check whether pretrained model exists. If yes, load it and skip training\n",
    "    pretrained_filename = os.path.join(CHECKPOINT_PATH, \"ResNet.ckpt\")\n",
    "    if os.path.isfile(pretrained_filename):\n",
    "        print(\"Found pretrained model at %s, loading...\" % pretrained_filename)\n",
    "        model = ResNet.load_from_checkpoint(pretrained_filename)\n",
    "    else:\n",
    "        L.seed_everything(42)  # To be reproducible\n",
    "        model = ResNet(**kwargs)\n",
    "        trainer.fit(model, train_loader, test_loader)\n",
    "        model = ResNet.load_from_checkpoint(trainer.checkpoint_callback.best_model_path)\n",
    "\n",
    "    # Test best model on validation set\n",
    "    train_result = trainer.test(model, dataloaders=train_loader, verbose=False)\n",
    "    val_result = trainer.test(model, dataloaders=test_loader, verbose=False)\n",
    "    result = {\"train\": train_result[0][\"test_acc\"], \"test\": val_result[0][\"test_acc\"]}\n",
    "\n",
    "    return model, result"
   ]
  },
  {
   "cell_type": "markdown",
   "id": "2f6aa4cc",
   "metadata": {
    "papermill": {
     "duration": 0.205334,
     "end_time": "2023-10-12T10:17:49.877992",
     "exception": false,
     "start_time": "2023-10-12T10:17:49.672658",
     "status": "completed"
    },
    "tags": []
   },
   "source": [
    "Finally, let's train the model and check its results:"
   ]
  },
  {
   "cell_type": "code",
   "execution_count": null,
   "id": "3c9a49a1",
   "metadata": {
    "papermill": {
     "duration": 13.545551,
     "end_time": "2023-10-12T10:18:03.628429",
     "exception": false,
     "start_time": "2023-10-12T10:17:50.082878",
     "status": "completed"
    },
    "tags": []
   },
   "outputs": [],
   "source": [
    "resnet_model, resnet_result = train_resnet(batch_size=64, num_classes=10, lr=1e-3, weight_decay=2e-4, max_epochs=100)\n",
    "print(f\"Accuracy on training set: {100*resnet_result['train']:4.2f}%\")\n",
    "print(f\"Accuracy on test set: {100*resnet_result['test']:4.2f}%\")"
   ]
  },
  {
   "cell_type": "markdown",
   "id": "69361b4f",
   "metadata": {
    "papermill": {
     "duration": 0.205958,
     "end_time": "2023-10-12T10:18:04.044048",
     "exception": false,
     "start_time": "2023-10-12T10:18:03.838090",
     "status": "completed"
    },
    "tags": []
   },
   "source": [
    "The ResNet trained from scratch achieves 73.31% on the test set.\n",
    "This is almost 8% less than the contrastive learning model, and even slightly less than SimCLR achieves with 1/10 of the data.\n",
    "This shows that self-supervised, contrastive learning provides\n",
    "considerable performance gains by leveraging large amounts of unlabeled\n",
    "data when little labeled data is available."
   ]
  },
  {
   "cell_type": "markdown",
   "id": "515d972c",
   "metadata": {
    "papermill": {
     "duration": 0.205276,
     "end_time": "2023-10-12T10:18:04.454750",
     "exception": false,
     "start_time": "2023-10-12T10:18:04.249474",
     "status": "completed"
    },
    "tags": []
   },
   "source": [
    "## Conclusion\n",
    "\n",
    "In this tutorial, we have discussed self-supervised contrastive learning and implemented SimCLR as an example method.\n",
    "We have applied it to the STL10 dataset and showed that it can learn generalizable representations that we can use to train simple classification models.\n",
    "With 500 images per label, it achieved an 8% higher accuracy than a similar model solely trained from supervision and performs on par with it when only using a tenth of the labeled data.\n",
    "Our experimental results are limited to a single dataset, but recent works such as [Ting Chen et al. ](https://arxiv.org/abs/2006.10029) showed similar trends for larger datasets like ImageNet.\n",
    "Besides the discussed hyperparameters, the size of the model seems to be important in contrastive learning as well.\n",
    "If a lot of unlabeled data is available, larger models can achieve much stronger results and come close to their supervised baselines.\n",
    "Further, there are also approaches for combining contrastive and supervised learning, leading to performance gains beyond supervision (see [Khosla et al.](https://arxiv.org/abs/2004.11362)).\n",
    "Moreover, contrastive learning is not the only approach to self-supervised learning that has come up in the last two years and showed great results.\n",
    "Other methods include distillation-based methods like [BYOL](https://arxiv.org/abs/2006.07733) and redundancy reduction techniques like [Barlow Twins](https://arxiv.org/abs/2103.03230).\n",
    "There is a lot more to explore in the self-supervised domain, and more, impressive steps ahead are to be expected.\n",
    "\n",
    "### References\n",
    "\n",
    "[1] Chen, T., Kornblith, S., Norouzi, M., and Hinton, G. (2020).\n",
    "A simple framework for contrastive learning of visual representations.\n",
    "In International conference on machine learning (pp.\n",
    "1597-1607).\n",
    "PMLR.\n",
    "([link](https://arxiv.org/abs/2002.05709))\n",
    "\n",
    "[2] Chen, T., Kornblith, S., Swersky, K., Norouzi, M., and Hinton, G. (2020).\n",
    "Big self-supervised models are strong semi-supervised learners.\n",
    "NeurIPS 2021 ([link](https://arxiv.org/abs/2006.10029)).\n",
    "\n",
    "[3] Oord, A. V. D., Li, Y., and Vinyals, O.\n",
    "(2018).\n",
    "Representation learning with contrastive predictive coding.\n",
    "arXiv preprint arXiv:1807.03748.\n",
    "([link](https://arxiv.org/abs/1807.03748))\n",
    "\n",
    "[4] Grill, J.B., Strub, F., Altché, F., Tallec, C., Richemond, P.H., Buchatskaya, E., Doersch, C., Pires, B.A., Guo, Z.D., Azar, M.G.\n",
    "and Piot, B.\n",
    "(2020).\n",
    "Bootstrap your own latent: A new approach to self-supervised learning.\n",
    "arXiv preprint arXiv:2006.07733.\n",
    "([link](https://arxiv.org/abs/2006.07733))\n",
    "\n",
    "[5] Khosla, P., Teterwak, P., Wang, C., Sarna, A., Tian, Y., Isola, P., Maschinot, A., Liu, C. and Krishnan, D. (2020).\n",
    "Supervised contrastive learning.\n",
    "arXiv preprint arXiv:2004.11362.\n",
    "([link](https://arxiv.org/abs/2004.11362))\n",
    "\n",
    "[6] Zbontar, J., Jing, L., Misra, I., LeCun, Y. and Deny, S. (2021).\n",
    "Barlow twins: Self-supervised learning via redundancy reduction.\n",
    "arXiv preprint arXiv:2103.03230.\n",
    "([link](https://arxiv.org/abs/2103.03230))"
   ]
  },
  {
   "cell_type": "markdown",
   "id": "a94ac165",
   "metadata": {
    "papermill": {
     "duration": 0.239646,
     "end_time": "2023-10-12T10:18:04.899009",
     "exception": false,
     "start_time": "2023-10-12T10:18:04.659363",
     "status": "completed"
    },
    "tags": []
   },
   "source": [
    "## Congratulations - Time to Join the Community!\n",
    "\n",
    "Congratulations on completing this notebook tutorial! If you enjoyed this and would like to join the Lightning\n",
    "movement, you can do so in the following ways!\n",
    "\n",
    "### Star [Lightning](https://github.com/Lightning-AI/lightning) on GitHub\n",
    "The easiest way to help our community is just by starring the GitHub repos! This helps raise awareness of the cool\n",
    "tools we're building.\n",
    "\n",
    "### Join our [Slack](https://www.pytorchlightning.ai/community)!\n",
    "The best way to keep up to date on the latest advancements is to join our community! Make sure to introduce yourself\n",
    "and share your interests in `#general` channel\n",
    "\n",
    "\n",
    "### Contributions !\n",
    "The best way to contribute to our community is to become a code contributor! At any time you can go to\n",
    "[Lightning](https://github.com/Lightning-AI/lightning) or [Bolt](https://github.com/Lightning-AI/lightning-bolts)\n",
    "GitHub Issues page and filter for \"good first issue\".\n",
    "\n",
    "* [Lightning good first issue](https://github.com/Lightning-AI/lightning/issues?q=is%3Aopen+is%3Aissue+label%3A%22good+first+issue%22)\n",
    "* [Bolt good first issue](https://github.com/Lightning-AI/lightning-bolts/issues?q=is%3Aopen+is%3Aissue+label%3A%22good+first+issue%22)\n",
    "* You can also contribute your own notebooks with useful examples !\n",
    "\n",
    "### Great thanks from the entire Pytorch Lightning Team for your interest !\n",
    "\n",
    "[![Pytorch Lightning](data:image/png;base64,NDA0OiBOb3QgRm91bmQ=){height=\"60px\" width=\"240px\"}](https://pytorchlightning.ai)"
   ]
  }
 ],
 "metadata": {
  "jupytext": {
   "cell_metadata_filter": "colab_type,id,colab,-all",
   "formats": "ipynb,py:percent",
   "main_language": "python"
  },
  "kernelspec": {
   "display_name": "Python 3 (ipykernel)",
   "language": "python",
   "name": "python3"
  },
  "language_info": {
   "codemirror_mode": {
    "name": "ipython",
    "version": 3
   },
   "file_extension": ".py",
   "mimetype": "text/x-python",
   "name": "python",
   "nbconvert_exporter": "python",
   "pygments_lexer": "ipython3",
   "version": "3.11.6"
  },
  "papermill": {
   "default_parameters": {},
   "duration": 642.271841,
   "end_time": "2023-10-12T10:18:08.128442",
   "environment_variables": {},
   "exception": null,
   "input_path": "course_UvA-DL/13-contrastive-learning/SimCLR.ipynb",
   "output_path": ".notebooks/course_UvA-DL/13-contrastive-learning.ipynb",
   "parameters": {},
   "start_time": "2023-10-12T10:07:25.856601",
   "version": "2.4.0"
  },
  "widgets": {
   "application/vnd.jupyter.widget-state+json": {
    "state": {
     "028fa3950cde4361a023b5063df994b1": {
      "model_module": "@jupyter-widgets/controls",
      "model_module_version": "2.0.0",
      "model_name": "ProgressStyleModel",
      "state": {
       "_model_module": "@jupyter-widgets/controls",
       "_model_module_version": "2.0.0",
       "_model_name": "ProgressStyleModel",
       "_view_count": null,
       "_view_module": "@jupyter-widgets/base",
       "_view_module_version": "2.0.0",
       "_view_name": "StyleView",
       "bar_color": null,
       "description_width": ""
      }
     },
     "0b4249e3fb00488cae7d7a446bf88186": {
      "model_module": "@jupyter-widgets/controls",
      "model_module_version": "2.0.0",
      "model_name": "HBoxModel",
      "state": {
       "_dom_classes": [],
       "_model_module": "@jupyter-widgets/controls",
       "_model_module_version": "2.0.0",
       "_model_name": "HBoxModel",
       "_view_count": null,
       "_view_module": "@jupyter-widgets/controls",
       "_view_module_version": "2.0.0",
       "_view_name": "HBoxView",
       "box_style": "",
       "children": [
        "IPY_MODEL_d9b00aa8f6b742c0b36243123fc4de73",
        "IPY_MODEL_fa8afdd79868440a8c89d7aa71628ac7",
        "IPY_MODEL_50e557a2bc5743edbc6daa5b8b871c2c"
       ],
       "layout": "IPY_MODEL_45ad8e126b6b44cc9708ec4e19901384",
       "tabbable": null,
       "tooltip": null
      }
     },
     "14ee7ffc561f4de3a7238d7ccf0be65b": {
      "model_module": "@jupyter-widgets/controls",
      "model_module_version": "2.0.0",
      "model_name": "HTMLStyleModel",
      "state": {
       "_model_module": "@jupyter-widgets/controls",
       "_model_module_version": "2.0.0",
       "_model_name": "HTMLStyleModel",
       "_view_count": null,
       "_view_module": "@jupyter-widgets/base",
       "_view_module_version": "2.0.0",
       "_view_name": "StyleView",
       "background": null,
       "description_width": "",
       "font_size": null,
       "text_color": null
      }
     },
     "17c39cbb566341f9b02c07811b7cdf8f": {
      "model_module": "@jupyter-widgets/controls",
      "model_module_version": "2.0.0",
      "model_name": "HTMLStyleModel",
      "state": {
       "_model_module": "@jupyter-widgets/controls",
       "_model_module_version": "2.0.0",
       "_model_name": "HTMLStyleModel",
       "_view_count": null,
       "_view_module": "@jupyter-widgets/base",
       "_view_module_version": "2.0.0",
       "_view_name": "StyleView",
       "background": null,
       "description_width": "",
       "font_size": null,
       "text_color": null
      }
     },
     "1bee531809be408983b37397d7670e1e": {
      "model_module": "@jupyter-widgets/base",
      "model_module_version": "2.0.0",
      "model_name": "LayoutModel",
      "state": {
       "_model_module": "@jupyter-widgets/base",
       "_model_module_version": "2.0.0",
       "_model_name": "LayoutModel",
       "_view_count": null,
       "_view_module": "@jupyter-widgets/base",
       "_view_module_version": "2.0.0",
       "_view_name": "LayoutView",
       "align_content": null,
       "align_items": null,
       "align_self": null,
       "border_bottom": null,
       "border_left": null,
       "border_right": null,
       "border_top": null,
       "bottom": null,
       "display": null,
       "flex": null,
       "flex_flow": null,
       "grid_area": null,
       "grid_auto_columns": null,
       "grid_auto_flow": null,
       "grid_auto_rows": null,
       "grid_column": null,
       "grid_gap": null,
       "grid_row": null,
       "grid_template_areas": null,
       "grid_template_columns": null,
       "grid_template_rows": null,
       "height": null,
       "justify_content": null,
       "justify_items": null,
       "left": null,
       "margin": null,
       "max_height": null,
       "max_width": null,
       "min_height": null,
       "min_width": null,
       "object_fit": null,
       "object_position": null,
       "order": null,
       "overflow": null,
       "padding": null,
       "right": null,
       "top": null,
       "visibility": null,
       "width": null
      }
     },
     "1df947497f9246bdb843d8bff62d68a6": {
      "model_module": "@jupyter-widgets/controls",
      "model_module_version": "2.0.0",
      "model_name": "FloatProgressModel",
      "state": {
       "_dom_classes": [],
       "_model_module": "@jupyter-widgets/controls",
       "_model_module_version": "2.0.0",
       "_model_name": "FloatProgressModel",
       "_view_count": null,
       "_view_module": "@jupyter-widgets/controls",
       "_view_module_version": "2.0.0",
       "_view_name": "ProgressView",
       "bar_style": "success",
       "description": "",
       "description_allow_html": false,
       "layout": "IPY_MODEL_fa28a7d1a35d44cfbe0ac4c509689d55",
       "max": 78,
       "min": 0,
       "orientation": "horizontal",
       "style": "IPY_MODEL_825a73e9138c4a52bcc8f3c9c2014da1",
       "tabbable": null,
       "tooltip": null,
       "value": 78
      }
     },
     "20fcf0fecc994d82998be55ce12d0372": {
      "model_module": "@jupyter-widgets/base",
      "model_module_version": "2.0.0",
      "model_name": "LayoutModel",
      "state": {
       "_model_module": "@jupyter-widgets/base",
       "_model_module_version": "2.0.0",
       "_model_name": "LayoutModel",
       "_view_count": null,
       "_view_module": "@jupyter-widgets/base",
       "_view_module_version": "2.0.0",
       "_view_name": "LayoutView",
       "align_content": null,
       "align_items": null,
       "align_self": null,
       "border_bottom": null,
       "border_left": null,
       "border_right": null,
       "border_top": null,
       "bottom": null,
       "display": null,
       "flex": null,
       "flex_flow": null,
       "grid_area": null,
       "grid_auto_columns": null,
       "grid_auto_flow": null,
       "grid_auto_rows": null,
       "grid_column": null,
       "grid_gap": null,
       "grid_row": null,
       "grid_template_areas": null,
       "grid_template_columns": null,
       "grid_template_rows": null,
       "height": null,
       "justify_content": null,
       "justify_items": null,
       "left": null,
       "margin": null,
       "max_height": null,
       "max_width": null,
       "min_height": null,
       "min_width": null,
       "object_fit": null,
       "object_position": null,
       "order": null,
       "overflow": null,
       "padding": null,
       "right": null,
       "top": null,
       "visibility": null,
       "width": null
      }
     },
     "2db79c8a15b34955963e20711b79c877": {
      "model_module": "@jupyter-widgets/base",
      "model_module_version": "2.0.0",
      "model_name": "LayoutModel",
      "state": {
       "_model_module": "@jupyter-widgets/base",
       "_model_module_version": "2.0.0",
       "_model_name": "LayoutModel",
       "_view_count": null,
       "_view_module": "@jupyter-widgets/base",
       "_view_module_version": "2.0.0",
       "_view_name": "LayoutView",
       "align_content": null,
       "align_items": null,
       "align_self": null,
       "border_bottom": null,
       "border_left": null,
       "border_right": null,
       "border_top": null,
       "bottom": null,
       "display": null,
       "flex": "2",
       "flex_flow": null,
       "grid_area": null,
       "grid_auto_columns": null,
       "grid_auto_flow": null,
       "grid_auto_rows": null,
       "grid_column": null,
       "grid_gap": null,
       "grid_row": null,
       "grid_template_areas": null,
       "grid_template_columns": null,
       "grid_template_rows": null,
       "height": null,
       "justify_content": null,
       "justify_items": null,
       "left": null,
       "margin": null,
       "max_height": null,
       "max_width": null,
       "min_height": null,
       "min_width": null,
       "object_fit": null,
       "object_position": null,
       "order": null,
       "overflow": null,
       "padding": null,
       "right": null,
       "top": null,
       "visibility": null,
       "width": null
      }
     },
     "31da97807333409988557c433c0dea33": {
      "model_module": "@jupyter-widgets/controls",
      "model_module_version": "2.0.0",
      "model_name": "HTMLModel",
      "state": {
       "_dom_classes": [],
       "_model_module": "@jupyter-widgets/controls",
       "_model_module_version": "2.0.0",
       "_model_name": "HTMLModel",
       "_view_count": null,
       "_view_module": "@jupyter-widgets/controls",
       "_view_module_version": "2.0.0",
       "_view_name": "HTMLView",
       "description": "",
       "description_allow_html": false,
       "layout": "IPY_MODEL_20fcf0fecc994d82998be55ce12d0372",
       "placeholder": "​",
       "style": "IPY_MODEL_97de4f5dabd941aba3d37c51fe8a8bb2",
       "tabbable": null,
       "tooltip": null,
       "value": " 78/78 [00:00&lt;00:00, 98.28it/s]"
      }
     },
     "3cd3c14d9395491084de9d55a34ee9df": {
      "model_module": "@jupyter-widgets/controls",
      "model_module_version": "2.0.0",
      "model_name": "HTMLStyleModel",
      "state": {
       "_model_module": "@jupyter-widgets/controls",
       "_model_module_version": "2.0.0",
       "_model_name": "HTMLStyleModel",
       "_view_count": null,
       "_view_module": "@jupyter-widgets/base",
       "_view_module_version": "2.0.0",
       "_view_name": "StyleView",
       "background": null,
       "description_width": "",
       "font_size": null,
       "text_color": null
      }
     },
     "41466855f43e4abba228b7f29ba1875f": {
      "model_module": "@jupyter-widgets/base",
      "model_module_version": "2.0.0",
      "model_name": "LayoutModel",
      "state": {
       "_model_module": "@jupyter-widgets/base",
       "_model_module_version": "2.0.0",
       "_model_name": "LayoutModel",
       "_view_count": null,
       "_view_module": "@jupyter-widgets/base",
       "_view_module_version": "2.0.0",
       "_view_name": "LayoutView",
       "align_content": null,
       "align_items": null,
       "align_self": null,
       "border_bottom": null,
       "border_left": null,
       "border_right": null,
       "border_top": null,
       "bottom": null,
       "display": null,
       "flex": null,
       "flex_flow": null,
       "grid_area": null,
       "grid_auto_columns": null,
       "grid_auto_flow": null,
       "grid_auto_rows": null,
       "grid_column": null,
       "grid_gap": null,
       "grid_row": null,
       "grid_template_areas": null,
       "grid_template_columns": null,
       "grid_template_rows": null,
       "height": null,
       "justify_content": null,
       "justify_items": null,
       "left": null,
       "margin": null,
       "max_height": null,
       "max_width": null,
       "min_height": null,
       "min_width": null,
       "object_fit": null,
       "object_position": null,
       "order": null,
       "overflow": null,
       "padding": null,
       "right": null,
       "top": null,
       "visibility": null,
       "width": null
      }
     },
     "45ad8e126b6b44cc9708ec4e19901384": {
      "model_module": "@jupyter-widgets/base",
      "model_module_version": "2.0.0",
      "model_name": "LayoutModel",
      "state": {
       "_model_module": "@jupyter-widgets/base",
       "_model_module_version": "2.0.0",
       "_model_name": "LayoutModel",
       "_view_count": null,
       "_view_module": "@jupyter-widgets/base",
       "_view_module_version": "2.0.0",
       "_view_name": "LayoutView",
       "align_content": null,
       "align_items": null,
       "align_self": null,
       "border_bottom": null,
       "border_left": null,
       "border_right": null,
       "border_top": null,
       "bottom": null,
       "display": null,
       "flex": null,
       "flex_flow": null,
       "grid_area": null,
       "grid_auto_columns": null,
       "grid_auto_flow": null,
       "grid_auto_rows": null,
       "grid_column": null,
       "grid_gap": null,
       "grid_row": null,
       "grid_template_areas": null,
       "grid_template_columns": null,
       "grid_template_rows": null,
       "height": null,
       "justify_content": null,
       "justify_items": null,
       "left": null,
       "margin": null,
       "max_height": null,
       "max_width": null,
       "min_height": null,
       "min_width": null,
       "object_fit": null,
       "object_position": null,
       "order": null,
       "overflow": null,
       "padding": null,
       "right": null,
       "top": null,
       "visibility": null,
       "width": null
      }
     },
     "47f19c8291ed482893ba5a9831906510": {
      "model_module": "@jupyter-widgets/controls",
      "model_module_version": "2.0.0",
      "model_name": "HTMLStyleModel",
      "state": {
       "_model_module": "@jupyter-widgets/controls",
       "_model_module_version": "2.0.0",
       "_model_name": "HTMLStyleModel",
       "_view_count": null,
       "_view_module": "@jupyter-widgets/base",
       "_view_module_version": "2.0.0",
       "_view_name": "StyleView",
       "background": null,
       "description_width": "",
       "font_size": null,
       "text_color": null
      }
     },
     "50e557a2bc5743edbc6daa5b8b871c2c": {
      "model_module": "@jupyter-widgets/controls",
      "model_module_version": "2.0.0",
      "model_name": "HTMLModel",
      "state": {
       "_dom_classes": [],
       "_model_module": "@jupyter-widgets/controls",
       "_model_module_version": "2.0.0",
       "_model_name": "HTMLModel",
       "_view_count": null,
       "_view_module": "@jupyter-widgets/controls",
       "_view_module_version": "2.0.0",
       "_view_name": "HTMLView",
       "description": "",
       "description_allow_html": false,
       "layout": "IPY_MODEL_41466855f43e4abba228b7f29ba1875f",
       "placeholder": "​",
       "style": "IPY_MODEL_17c39cbb566341f9b02c07811b7cdf8f",
       "tabbable": null,
       "tooltip": null,
       "value": " 125/125 [00:06&lt;00:00, 68.22it/s]"
      }
     },
     "525589d0c5414bb6bbea67eabe6717d7": {
      "model_module": "@jupyter-widgets/controls",
      "model_module_version": "2.0.0",
      "model_name": "ProgressStyleModel",
      "state": {
       "_model_module": "@jupyter-widgets/controls",
       "_model_module_version": "2.0.0",
       "_model_name": "ProgressStyleModel",
       "_view_count": null,
       "_view_module": "@jupyter-widgets/base",
       "_view_module_version": "2.0.0",
       "_view_name": "StyleView",
       "bar_color": null,
       "description_width": ""
      }
     },
     "6246814c866847038f453308e4c592db": {
      "model_module": "@jupyter-widgets/controls",
      "model_module_version": "2.0.0",
      "model_name": "HTMLStyleModel",
      "state": {
       "_model_module": "@jupyter-widgets/controls",
       "_model_module_version": "2.0.0",
       "_model_name": "HTMLStyleModel",
       "_view_count": null,
       "_view_module": "@jupyter-widgets/base",
       "_view_module_version": "2.0.0",
       "_view_name": "StyleView",
       "background": null,
       "description_width": "",
       "font_size": null,
       "text_color": null
      }
     },
     "6417f3d4fe1147ecabd60c18b0ed024f": {
      "model_module": "@jupyter-widgets/controls",
      "model_module_version": "2.0.0",
      "model_name": "HBoxModel",
      "state": {
       "_dom_classes": [],
       "_model_module": "@jupyter-widgets/controls",
       "_model_module_version": "2.0.0",
       "_model_name": "HBoxModel",
       "_view_count": null,
       "_view_module": "@jupyter-widgets/controls",
       "_view_module_version": "2.0.0",
       "_view_name": "HBoxView",
       "box_style": "",
       "children": [
        "IPY_MODEL_cfba62487b504f2cb22ea1080b43126a",
        "IPY_MODEL_1df947497f9246bdb843d8bff62d68a6",
        "IPY_MODEL_31da97807333409988557c433c0dea33"
       ],
       "layout": "IPY_MODEL_9f7eb3469535475eb0d122b0dd0482c1",
       "tabbable": null,
       "tooltip": null
      }
     },
     "699a6517e8b0483caa965661ec9f2bb0": {
      "model_module": "@jupyter-widgets/base",
      "model_module_version": "2.0.0",
      "model_name": "LayoutModel",
      "state": {
       "_model_module": "@jupyter-widgets/base",
       "_model_module_version": "2.0.0",
       "_model_name": "LayoutModel",
       "_view_count": null,
       "_view_module": "@jupyter-widgets/base",
       "_view_module_version": "2.0.0",
       "_view_name": "LayoutView",
       "align_content": null,
       "align_items": null,
       "align_self": null,
       "border_bottom": null,
       "border_left": null,
       "border_right": null,
       "border_top": null,
       "bottom": null,
       "display": null,
       "flex": null,
       "flex_flow": null,
       "grid_area": null,
       "grid_auto_columns": null,
       "grid_auto_flow": null,
       "grid_auto_rows": null,
       "grid_column": null,
       "grid_gap": null,
       "grid_row": null,
       "grid_template_areas": null,
       "grid_template_columns": null,
       "grid_template_rows": null,
       "height": null,
       "justify_content": null,
       "justify_items": null,
       "left": null,
       "margin": null,
       "max_height": null,
       "max_width": null,
       "min_height": null,
       "min_width": null,
       "object_fit": null,
       "object_position": null,
       "order": null,
       "overflow": null,
       "padding": null,
       "right": null,
       "top": null,
       "visibility": null,
       "width": null
      }
     },
     "7a027bb1905748cf859dd44f7c613c1e": {
      "model_module": "@jupyter-widgets/base",
      "model_module_version": "2.0.0",
      "model_name": "LayoutModel",
      "state": {
       "_model_module": "@jupyter-widgets/base",
       "_model_module_version": "2.0.0",
       "_model_name": "LayoutModel",
       "_view_count": null,
       "_view_module": "@jupyter-widgets/base",
       "_view_module_version": "2.0.0",
       "_view_name": "LayoutView",
       "align_content": null,
       "align_items": null,
       "align_self": null,
       "border_bottom": null,
       "border_left": null,
       "border_right": null,
       "border_top": null,
       "bottom": null,
       "display": "inline-flex",
       "flex": null,
       "flex_flow": "row wrap",
       "grid_area": null,
       "grid_auto_columns": null,
       "grid_auto_flow": null,
       "grid_auto_rows": null,
       "grid_column": null,
       "grid_gap": null,
       "grid_row": null,
       "grid_template_areas": null,
       "grid_template_columns": null,
       "grid_template_rows": null,
       "height": null,
       "justify_content": null,
       "justify_items": null,
       "left": null,
       "margin": null,
       "max_height": null,
       "max_width": null,
       "min_height": null,
       "min_width": null,
       "object_fit": null,
       "object_position": null,
       "order": null,
       "overflow": null,
       "padding": null,
       "right": null,
       "top": null,
       "visibility": null,
       "width": "100%"
      }
     },
     "825a73e9138c4a52bcc8f3c9c2014da1": {
      "model_module": "@jupyter-widgets/controls",
      "model_module_version": "2.0.0",
      "model_name": "ProgressStyleModel",
      "state": {
       "_model_module": "@jupyter-widgets/controls",
       "_model_module_version": "2.0.0",
       "_model_name": "ProgressStyleModel",
       "_view_count": null,
       "_view_module": "@jupyter-widgets/base",
       "_view_module_version": "2.0.0",
       "_view_name": "StyleView",
       "bar_color": null,
       "description_width": ""
      }
     },
     "902f2f296f424531ad379bd896f84be9": {
      "model_module": "@jupyter-widgets/controls",
      "model_module_version": "2.0.0",
      "model_name": "HTMLModel",
      "state": {
       "_dom_classes": [],
       "_model_module": "@jupyter-widgets/controls",
       "_model_module_version": "2.0.0",
       "_model_name": "HTMLModel",
       "_view_count": null,
       "_view_module": "@jupyter-widgets/controls",
       "_view_module_version": "2.0.0",
       "_view_name": "HTMLView",
       "description": "",
       "description_allow_html": false,
       "layout": "IPY_MODEL_be884e63ca594c9abb737ead503ac9b9",
       "placeholder": "​",
       "style": "IPY_MODEL_9feae90bc6634c29925546ee179a865a",
       "tabbable": null,
       "tooltip": null,
       "value": " 125/125 [00:00&lt;00:00, 141.90it/s]"
      }
     },
     "9077eaa39ff548e8b59e175f979bef09": {
      "model_module": "@jupyter-widgets/controls",
      "model_module_version": "2.0.0",
      "model_name": "HTMLModel",
      "state": {
       "_dom_classes": [],
       "_model_module": "@jupyter-widgets/controls",
       "_model_module_version": "2.0.0",
       "_model_name": "HTMLModel",
       "_view_count": null,
       "_view_module": "@jupyter-widgets/controls",
       "_view_module_version": "2.0.0",
       "_view_name": "HTMLView",
       "description": "",
       "description_allow_html": false,
       "layout": "IPY_MODEL_699a6517e8b0483caa965661ec9f2bb0",
       "placeholder": "​",
       "style": "IPY_MODEL_6246814c866847038f453308e4c592db",
       "tabbable": null,
       "tooltip": null,
       "value": "Testing DataLoader 0: 100%"
      }
     },
     "942fd9f1824a4bee8a771e6388f6a097": {
      "model_module": "@jupyter-widgets/controls",
      "model_module_version": "2.0.0",
      "model_name": "HBoxModel",
      "state": {
       "_dom_classes": [],
       "_model_module": "@jupyter-widgets/controls",
       "_model_module_version": "2.0.0",
       "_model_name": "HBoxModel",
       "_view_count": null,
       "_view_module": "@jupyter-widgets/controls",
       "_view_module_version": "2.0.0",
       "_view_name": "HBoxView",
       "box_style": "",
       "children": [
        "IPY_MODEL_f3527a428b324ccf932fb8aab5781662",
        "IPY_MODEL_c7fbe53c33af4f8bb49c7bd0805fe177",
        "IPY_MODEL_e3f0f959bdae4794a188a747f7864398"
       ],
       "layout": "IPY_MODEL_954dc5c43b0b46479bf0f4f3daf66f1a",
       "tabbable": null,
       "tooltip": null
      }
     },
     "954dc5c43b0b46479bf0f4f3daf66f1a": {
      "model_module": "@jupyter-widgets/base",
      "model_module_version": "2.0.0",
      "model_name": "LayoutModel",
      "state": {
       "_model_module": "@jupyter-widgets/base",
       "_model_module_version": "2.0.0",
       "_model_name": "LayoutModel",
       "_view_count": null,
       "_view_module": "@jupyter-widgets/base",
       "_view_module_version": "2.0.0",
       "_view_name": "LayoutView",
       "align_content": null,
       "align_items": null,
       "align_self": null,
       "border_bottom": null,
       "border_left": null,
       "border_right": null,
       "border_top": null,
       "bottom": null,
       "display": null,
       "flex": null,
       "flex_flow": null,
       "grid_area": null,
       "grid_auto_columns": null,
       "grid_auto_flow": null,
       "grid_auto_rows": null,
       "grid_column": null,
       "grid_gap": null,
       "grid_row": null,
       "grid_template_areas": null,
       "grid_template_columns": null,
       "grid_template_rows": null,
       "height": null,
       "justify_content": null,
       "justify_items": null,
       "left": null,
       "margin": null,
       "max_height": null,
       "max_width": null,
       "min_height": null,
       "min_width": null,
       "object_fit": null,
       "object_position": null,
       "order": null,
       "overflow": null,
       "padding": null,
       "right": null,
       "top": null,
       "visibility": null,
       "width": null
      }
     },
     "9644700dd42042608bce9610426573f6": {
      "model_module": "@jupyter-widgets/controls",
      "model_module_version": "2.0.0",
      "model_name": "HTMLStyleModel",
      "state": {
       "_model_module": "@jupyter-widgets/controls",
       "_model_module_version": "2.0.0",
       "_model_name": "HTMLStyleModel",
       "_view_count": null,
       "_view_module": "@jupyter-widgets/base",
       "_view_module_version": "2.0.0",
       "_view_name": "StyleView",
       "background": null,
       "description_width": "",
       "font_size": null,
       "text_color": null
      }
     },
     "97de4f5dabd941aba3d37c51fe8a8bb2": {
      "model_module": "@jupyter-widgets/controls",
      "model_module_version": "2.0.0",
      "model_name": "HTMLStyleModel",
      "state": {
       "_model_module": "@jupyter-widgets/controls",
       "_model_module_version": "2.0.0",
       "_model_name": "HTMLStyleModel",
       "_view_count": null,
       "_view_module": "@jupyter-widgets/base",
       "_view_module_version": "2.0.0",
       "_view_name": "StyleView",
       "background": null,
       "description_width": "",
       "font_size": null,
       "text_color": null
      }
     },
     "9f7eb3469535475eb0d122b0dd0482c1": {
      "model_module": "@jupyter-widgets/base",
      "model_module_version": "2.0.0",
      "model_name": "LayoutModel",
      "state": {
       "_model_module": "@jupyter-widgets/base",
       "_model_module_version": "2.0.0",
       "_model_name": "LayoutModel",
       "_view_count": null,
       "_view_module": "@jupyter-widgets/base",
       "_view_module_version": "2.0.0",
       "_view_name": "LayoutView",
       "align_content": null,
       "align_items": null,
       "align_self": null,
       "border_bottom": null,
       "border_left": null,
       "border_right": null,
       "border_top": null,
       "bottom": null,
       "display": "inline-flex",
       "flex": null,
       "flex_flow": "row wrap",
       "grid_area": null,
       "grid_auto_columns": null,
       "grid_auto_flow": null,
       "grid_auto_rows": null,
       "grid_column": null,
       "grid_gap": null,
       "grid_row": null,
       "grid_template_areas": null,
       "grid_template_columns": null,
       "grid_template_rows": null,
       "height": null,
       "justify_content": null,
       "justify_items": null,
       "left": null,
       "margin": null,
       "max_height": null,
       "max_width": null,
       "min_height": null,
       "min_width": null,
       "object_fit": null,
       "object_position": null,
       "order": null,
       "overflow": null,
       "padding": null,
       "right": null,
       "top": null,
       "visibility": null,
       "width": "100%"
      }
     },
     "9feae90bc6634c29925546ee179a865a": {
      "model_module": "@jupyter-widgets/controls",
      "model_module_version": "2.0.0",
      "model_name": "HTMLStyleModel",
      "state": {
       "_model_module": "@jupyter-widgets/controls",
       "_model_module_version": "2.0.0",
       "_model_name": "HTMLStyleModel",
       "_view_count": null,
       "_view_module": "@jupyter-widgets/base",
       "_view_module_version": "2.0.0",
       "_view_name": "StyleView",
       "background": null,
       "description_width": "",
       "font_size": null,
       "text_color": null
      }
     },
     "b8e57bc58e744faaacf8f706bbf208e0": {
      "model_module": "@jupyter-widgets/controls",
      "model_module_version": "2.0.0",
      "model_name": "ProgressStyleModel",
      "state": {
       "_model_module": "@jupyter-widgets/controls",
       "_model_module_version": "2.0.0",
       "_model_name": "ProgressStyleModel",
       "_view_count": null,
       "_view_module": "@jupyter-widgets/base",
       "_view_module_version": "2.0.0",
       "_view_name": "StyleView",
       "bar_color": null,
       "description_width": ""
      }
     },
     "be884e63ca594c9abb737ead503ac9b9": {
      "model_module": "@jupyter-widgets/base",
      "model_module_version": "2.0.0",
      "model_name": "LayoutModel",
      "state": {
       "_model_module": "@jupyter-widgets/base",
       "_model_module_version": "2.0.0",
       "_model_name": "LayoutModel",
       "_view_count": null,
       "_view_module": "@jupyter-widgets/base",
       "_view_module_version": "2.0.0",
       "_view_name": "LayoutView",
       "align_content": null,
       "align_items": null,
       "align_self": null,
       "border_bottom": null,
       "border_left": null,
       "border_right": null,
       "border_top": null,
       "bottom": null,
       "display": null,
       "flex": null,
       "flex_flow": null,
       "grid_area": null,
       "grid_auto_columns": null,
       "grid_auto_flow": null,
       "grid_auto_rows": null,
       "grid_column": null,
       "grid_gap": null,
       "grid_row": null,
       "grid_template_areas": null,
       "grid_template_columns": null,
       "grid_template_rows": null,
       "height": null,
       "justify_content": null,
       "justify_items": null,
       "left": null,
       "margin": null,
       "max_height": null,
       "max_width": null,
       "min_height": null,
       "min_width": null,
       "object_fit": null,
       "object_position": null,
       "order": null,
       "overflow": null,
       "padding": null,
       "right": null,
       "top": null,
       "visibility": null,
       "width": null
      }
     },
     "c3cd8cfd3f8940f9a8cbf6706fbbbed1": {
      "model_module": "@jupyter-widgets/controls",
      "model_module_version": "2.0.0",
      "model_name": "FloatProgressModel",
      "state": {
       "_dom_classes": [],
       "_model_module": "@jupyter-widgets/controls",
       "_model_module_version": "2.0.0",
       "_model_name": "FloatProgressModel",
       "_view_count": null,
       "_view_module": "@jupyter-widgets/controls",
       "_view_module_version": "2.0.0",
       "_view_name": "ProgressView",
       "bar_style": "success",
       "description": "",
       "description_allow_html": false,
       "layout": "IPY_MODEL_2db79c8a15b34955963e20711b79c877",
       "max": 125,
       "min": 0,
       "orientation": "horizontal",
       "style": "IPY_MODEL_b8e57bc58e744faaacf8f706bbf208e0",
       "tabbable": null,
       "tooltip": null,
       "value": 125
      }
     },
     "c79cf6242bbd482a8fc677bd4138a509": {
      "model_module": "@jupyter-widgets/base",
      "model_module_version": "2.0.0",
      "model_name": "LayoutModel",
      "state": {
       "_model_module": "@jupyter-widgets/base",
       "_model_module_version": "2.0.0",
       "_model_name": "LayoutModel",
       "_view_count": null,
       "_view_module": "@jupyter-widgets/base",
       "_view_module_version": "2.0.0",
       "_view_name": "LayoutView",
       "align_content": null,
       "align_items": null,
       "align_self": null,
       "border_bottom": null,
       "border_left": null,
       "border_right": null,
       "border_top": null,
       "bottom": null,
       "display": null,
       "flex": null,
       "flex_flow": null,
       "grid_area": null,
       "grid_auto_columns": null,
       "grid_auto_flow": null,
       "grid_auto_rows": null,
       "grid_column": null,
       "grid_gap": null,
       "grid_row": null,
       "grid_template_areas": null,
       "grid_template_columns": null,
       "grid_template_rows": null,
       "height": null,
       "justify_content": null,
       "justify_items": null,
       "left": null,
       "margin": null,
       "max_height": null,
       "max_width": null,
       "min_height": null,
       "min_width": null,
       "object_fit": null,
       "object_position": null,
       "order": null,
       "overflow": null,
       "padding": null,
       "right": null,
       "top": null,
       "visibility": null,
       "width": null
      }
     },
     "c7fbe53c33af4f8bb49c7bd0805fe177": {
      "model_module": "@jupyter-widgets/controls",
      "model_module_version": "2.0.0",
      "model_name": "FloatProgressModel",
      "state": {
       "_dom_classes": [],
       "_model_module": "@jupyter-widgets/controls",
       "_model_module_version": "2.0.0",
       "_model_name": "FloatProgressModel",
       "_view_count": null,
       "_view_module": "@jupyter-widgets/controls",
       "_view_module_version": "2.0.0",
       "_view_name": "ProgressView",
       "bar_style": "success",
       "description": "",
       "description_allow_html": false,
       "layout": "IPY_MODEL_1bee531809be408983b37397d7670e1e",
       "max": 79,
       "min": 0,
       "orientation": "horizontal",
       "style": "IPY_MODEL_525589d0c5414bb6bbea67eabe6717d7",
       "tabbable": null,
       "tooltip": null,
       "value": 79
      }
     },
     "cfba62487b504f2cb22ea1080b43126a": {
      "model_module": "@jupyter-widgets/controls",
      "model_module_version": "2.0.0",
      "model_name": "HTMLModel",
      "state": {
       "_dom_classes": [],
       "_model_module": "@jupyter-widgets/controls",
       "_model_module_version": "2.0.0",
       "_model_name": "HTMLModel",
       "_view_count": null,
       "_view_module": "@jupyter-widgets/controls",
       "_view_module_version": "2.0.0",
       "_view_name": "HTMLView",
       "description": "",
       "description_allow_html": false,
       "layout": "IPY_MODEL_fd5ad5c518c545b29288bfa672253c60",
       "placeholder": "​",
       "style": "IPY_MODEL_47f19c8291ed482893ba5a9831906510",
       "tabbable": null,
       "tooltip": null,
       "value": "Testing DataLoader 0: 100%"
      }
     },
     "d9b00aa8f6b742c0b36243123fc4de73": {
      "model_module": "@jupyter-widgets/controls",
      "model_module_version": "2.0.0",
      "model_name": "HTMLModel",
      "state": {
       "_dom_classes": [],
       "_model_module": "@jupyter-widgets/controls",
       "_model_module_version": "2.0.0",
       "_model_name": "HTMLModel",
       "_view_count": null,
       "_view_module": "@jupyter-widgets/controls",
       "_view_module_version": "2.0.0",
       "_view_name": "HTMLView",
       "description": "",
       "description_allow_html": false,
       "layout": "IPY_MODEL_f62ba312cf654f1f94515e1243d010a6",
       "placeholder": "​",
       "style": "IPY_MODEL_14ee7ffc561f4de3a7238d7ccf0be65b",
       "tabbable": null,
       "tooltip": null,
       "value": "100%"
      }
     },
     "dd3dbda4c0224dc3afa87dee9788995c": {
      "model_module": "@jupyter-widgets/base",
      "model_module_version": "2.0.0",
      "model_name": "LayoutModel",
      "state": {
       "_model_module": "@jupyter-widgets/base",
       "_model_module_version": "2.0.0",
       "_model_name": "LayoutModel",
       "_view_count": null,
       "_view_module": "@jupyter-widgets/base",
       "_view_module_version": "2.0.0",
       "_view_name": "LayoutView",
       "align_content": null,
       "align_items": null,
       "align_self": null,
       "border_bottom": null,
       "border_left": null,
       "border_right": null,
       "border_top": null,
       "bottom": null,
       "display": null,
       "flex": null,
       "flex_flow": null,
       "grid_area": null,
       "grid_auto_columns": null,
       "grid_auto_flow": null,
       "grid_auto_rows": null,
       "grid_column": null,
       "grid_gap": null,
       "grid_row": null,
       "grid_template_areas": null,
       "grid_template_columns": null,
       "grid_template_rows": null,
       "height": null,
       "justify_content": null,
       "justify_items": null,
       "left": null,
       "margin": null,
       "max_height": null,
       "max_width": null,
       "min_height": null,
       "min_width": null,
       "object_fit": null,
       "object_position": null,
       "order": null,
       "overflow": null,
       "padding": null,
       "right": null,
       "top": null,
       "visibility": null,
       "width": null
      }
     },
     "e3f0f959bdae4794a188a747f7864398": {
      "model_module": "@jupyter-widgets/controls",
      "model_module_version": "2.0.0",
      "model_name": "HTMLModel",
      "state": {
       "_dom_classes": [],
       "_model_module": "@jupyter-widgets/controls",
       "_model_module_version": "2.0.0",
       "_model_name": "HTMLModel",
       "_view_count": null,
       "_view_module": "@jupyter-widgets/controls",
       "_view_module_version": "2.0.0",
       "_view_name": "HTMLView",
       "description": "",
       "description_allow_html": false,
       "layout": "IPY_MODEL_c79cf6242bbd482a8fc677bd4138a509",
       "placeholder": "​",
       "style": "IPY_MODEL_3cd3c14d9395491084de9d55a34ee9df",
       "tabbable": null,
       "tooltip": null,
       "value": " 79/79 [00:03&lt;00:00, 53.12it/s]"
      }
     },
     "e6a44042b78c442ca8d44d960f52d9fd": {
      "model_module": "@jupyter-widgets/controls",
      "model_module_version": "2.0.0",
      "model_name": "HBoxModel",
      "state": {
       "_dom_classes": [],
       "_model_module": "@jupyter-widgets/controls",
       "_model_module_version": "2.0.0",
       "_model_name": "HBoxModel",
       "_view_count": null,
       "_view_module": "@jupyter-widgets/controls",
       "_view_module_version": "2.0.0",
       "_view_name": "HBoxView",
       "box_style": "",
       "children": [
        "IPY_MODEL_9077eaa39ff548e8b59e175f979bef09",
        "IPY_MODEL_c3cd8cfd3f8940f9a8cbf6706fbbbed1",
        "IPY_MODEL_902f2f296f424531ad379bd896f84be9"
       ],
       "layout": "IPY_MODEL_7a027bb1905748cf859dd44f7c613c1e",
       "tabbable": null,
       "tooltip": null
      }
     },
     "f3527a428b324ccf932fb8aab5781662": {
      "model_module": "@jupyter-widgets/controls",
      "model_module_version": "2.0.0",
      "model_name": "HTMLModel",
      "state": {
       "_dom_classes": [],
       "_model_module": "@jupyter-widgets/controls",
       "_model_module_version": "2.0.0",
       "_model_name": "HTMLModel",
       "_view_count": null,
       "_view_module": "@jupyter-widgets/controls",
       "_view_module_version": "2.0.0",
       "_view_name": "HTMLView",
       "description": "",
       "description_allow_html": false,
       "layout": "IPY_MODEL_f9ed27ff930442dc84b674ed141f3a69",
       "placeholder": "​",
       "style": "IPY_MODEL_9644700dd42042608bce9610426573f6",
       "tabbable": null,
       "tooltip": null,
       "value": "100%"
      }
     },
     "f62ba312cf654f1f94515e1243d010a6": {
      "model_module": "@jupyter-widgets/base",
      "model_module_version": "2.0.0",
      "model_name": "LayoutModel",
      "state": {
       "_model_module": "@jupyter-widgets/base",
       "_model_module_version": "2.0.0",
       "_model_name": "LayoutModel",
       "_view_count": null,
       "_view_module": "@jupyter-widgets/base",
       "_view_module_version": "2.0.0",
       "_view_name": "LayoutView",
       "align_content": null,
       "align_items": null,
       "align_self": null,
       "border_bottom": null,
       "border_left": null,
       "border_right": null,
       "border_top": null,
       "bottom": null,
       "display": null,
       "flex": null,
       "flex_flow": null,
       "grid_area": null,
       "grid_auto_columns": null,
       "grid_auto_flow": null,
       "grid_auto_rows": null,
       "grid_column": null,
       "grid_gap": null,
       "grid_row": null,
       "grid_template_areas": null,
       "grid_template_columns": null,
       "grid_template_rows": null,
       "height": null,
       "justify_content": null,
       "justify_items": null,
       "left": null,
       "margin": null,
       "max_height": null,
       "max_width": null,
       "min_height": null,
       "min_width": null,
       "object_fit": null,
       "object_position": null,
       "order": null,
       "overflow": null,
       "padding": null,
       "right": null,
       "top": null,
       "visibility": null,
       "width": null
      }
     },
     "f9ed27ff930442dc84b674ed141f3a69": {
      "model_module": "@jupyter-widgets/base",
      "model_module_version": "2.0.0",
      "model_name": "LayoutModel",
      "state": {
       "_model_module": "@jupyter-widgets/base",
       "_model_module_version": "2.0.0",
       "_model_name": "LayoutModel",
       "_view_count": null,
       "_view_module": "@jupyter-widgets/base",
       "_view_module_version": "2.0.0",
       "_view_name": "LayoutView",
       "align_content": null,
       "align_items": null,
       "align_self": null,
       "border_bottom": null,
       "border_left": null,
       "border_right": null,
       "border_top": null,
       "bottom": null,
       "display": null,
       "flex": null,
       "flex_flow": null,
       "grid_area": null,
       "grid_auto_columns": null,
       "grid_auto_flow": null,
       "grid_auto_rows": null,
       "grid_column": null,
       "grid_gap": null,
       "grid_row": null,
       "grid_template_areas": null,
       "grid_template_columns": null,
       "grid_template_rows": null,
       "height": null,
       "justify_content": null,
       "justify_items": null,
       "left": null,
       "margin": null,
       "max_height": null,
       "max_width": null,
       "min_height": null,
       "min_width": null,
       "object_fit": null,
       "object_position": null,
       "order": null,
       "overflow": null,
       "padding": null,
       "right": null,
       "top": null,
       "visibility": null,
       "width": null
      }
     },
     "fa28a7d1a35d44cfbe0ac4c509689d55": {
      "model_module": "@jupyter-widgets/base",
      "model_module_version": "2.0.0",
      "model_name": "LayoutModel",
      "state": {
       "_model_module": "@jupyter-widgets/base",
       "_model_module_version": "2.0.0",
       "_model_name": "LayoutModel",
       "_view_count": null,
       "_view_module": "@jupyter-widgets/base",
       "_view_module_version": "2.0.0",
       "_view_name": "LayoutView",
       "align_content": null,
       "align_items": null,
       "align_self": null,
       "border_bottom": null,
       "border_left": null,
       "border_right": null,
       "border_top": null,
       "bottom": null,
       "display": null,
       "flex": "2",
       "flex_flow": null,
       "grid_area": null,
       "grid_auto_columns": null,
       "grid_auto_flow": null,
       "grid_auto_rows": null,
       "grid_column": null,
       "grid_gap": null,
       "grid_row": null,
       "grid_template_areas": null,
       "grid_template_columns": null,
       "grid_template_rows": null,
       "height": null,
       "justify_content": null,
       "justify_items": null,
       "left": null,
       "margin": null,
       "max_height": null,
       "max_width": null,
       "min_height": null,
       "min_width": null,
       "object_fit": null,
       "object_position": null,
       "order": null,
       "overflow": null,
       "padding": null,
       "right": null,
       "top": null,
       "visibility": null,
       "width": null
      }
     },
     "fa8afdd79868440a8c89d7aa71628ac7": {
      "model_module": "@jupyter-widgets/controls",
      "model_module_version": "2.0.0",
      "model_name": "FloatProgressModel",
      "state": {
       "_dom_classes": [],
       "_model_module": "@jupyter-widgets/controls",
       "_model_module_version": "2.0.0",
       "_model_name": "FloatProgressModel",
       "_view_count": null,
       "_view_module": "@jupyter-widgets/controls",
       "_view_module_version": "2.0.0",
       "_view_name": "ProgressView",
       "bar_style": "success",
       "description": "",
       "description_allow_html": false,
       "layout": "IPY_MODEL_dd3dbda4c0224dc3afa87dee9788995c",
       "max": 125,
       "min": 0,
       "orientation": "horizontal",
       "style": "IPY_MODEL_028fa3950cde4361a023b5063df994b1",
       "tabbable": null,
       "tooltip": null,
       "value": 125
      }
     },
     "fd5ad5c518c545b29288bfa672253c60": {
      "model_module": "@jupyter-widgets/base",
      "model_module_version": "2.0.0",
      "model_name": "LayoutModel",
      "state": {
       "_model_module": "@jupyter-widgets/base",
       "_model_module_version": "2.0.0",
       "_model_name": "LayoutModel",
       "_view_count": null,
       "_view_module": "@jupyter-widgets/base",
       "_view_module_version": "2.0.0",
       "_view_name": "LayoutView",
       "align_content": null,
       "align_items": null,
       "align_self": null,
       "border_bottom": null,
       "border_left": null,
       "border_right": null,
       "border_top": null,
       "bottom": null,
       "display": null,
       "flex": null,
       "flex_flow": null,
       "grid_area": null,
       "grid_auto_columns": null,
       "grid_auto_flow": null,
       "grid_auto_rows": null,
       "grid_column": null,
       "grid_gap": null,
       "grid_row": null,
       "grid_template_areas": null,
       "grid_template_columns": null,
       "grid_template_rows": null,
       "height": null,
       "justify_content": null,
       "justify_items": null,
       "left": null,
       "margin": null,
       "max_height": null,
       "max_width": null,
       "min_height": null,
       "min_width": null,
       "object_fit": null,
       "object_position": null,
       "order": null,
       "overflow": null,
       "padding": null,
       "right": null,
       "top": null,
       "visibility": null,
       "width": null
      }
     }
    },
    "version_major": 2,
    "version_minor": 0
   }
  }
 },
 "nbformat": 4,
 "nbformat_minor": 5
}
