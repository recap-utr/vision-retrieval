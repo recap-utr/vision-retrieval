{
 "cells": [
  {
   "cell_type": "code",
   "execution_count": 4,
   "metadata": {},
   "outputs": [
    {
     "data": {
      "text/plain": [
       "0.9608081943360617"
      ]
     },
     "execution_count": 4,
     "metadata": {},
     "output_type": "execute_result"
    }
   ],
   "source": [
    "from ranx import Qrels, Run, evaluate\n",
    "qrels = {\n",
    "    \"q1\": {\n",
    "        \"doc1\": 3,\n",
    "        \"doc2\": 2,\n",
    "        \"doc3\": 3,\n",
    "        \"doc4\": 0,\n",
    "        \"doc5\": 1,\n",
    "        \"doc6\": 2,\n",
    "    }\n",
    "}\n",
    "\n",
    "qrels = Qrels(qrels)\n",
    "run = {\n",
    "    \"q1\": {\n",
    "        \"doc1\": .7,\n",
    "        \"doc2\": .5,\n",
    "        \"doc3\": .4,\n",
    "        \"doc4\": .3,\n",
    "        \"doc5\": .2,\n",
    "        \"doc6\": .1,\n",
    "    }\n",
    "}\n",
    "run = Run(run)\n",
    "evaluate(qrels, run, [\"ndcg\"])"
   ]
  }
 ],
 "metadata": {
  "kernelspec": {
   "display_name": "evaluate-cbr-Epwt-pU6-py3.10",
   "language": "python",
   "name": "python3"
  },
  "language_info": {
   "codemirror_mode": {
    "name": "ipython",
    "version": 3
   },
   "file_extension": ".py",
   "mimetype": "text/x-python",
   "name": "python",
   "nbconvert_exporter": "python",
   "pygments_lexer": "ipython3",
   "version": "3.10.12"
  }
 },
 "nbformat": 4,
 "nbformat_minor": 2
}
