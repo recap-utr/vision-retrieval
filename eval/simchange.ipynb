{
 "cells": [
  {
   "cell_type": "code",
   "execution_count": 6,
   "metadata": {},
   "outputs": [
    {
     "name": "stderr",
     "output_type": "stream",
     "text": [
      "Could not find image processor class in the image processor config or the model config. Loading based on pattern matching with the model's feature extractor configuration.\n"
     ]
    }
   ],
   "source": [
    "from os import chdir\n",
    "from transformers import AutoModel, AutoImageProcessor\n",
    "\n",
    "model = AutoModel.from_pretrained(\"../../models/logical_pt\")\n",
    "processor = AutoImageProcessor.from_pretrained(\n",
    "    \"microsoft/swinv2-large-patch4-window12to16-192to256-22kto1k-ft\"\n",
    ")\n",
    "from PIL import Image\n",
    "import torch\n",
    "import torch.nn.functional as F\n",
    "\n",
    "DIR = \"../../data/similarity_change_for_nodechange\"\n",
    "\n",
    "\n",
    "def embedd(path):\n",
    "    image = Image.open(path).convert(\"RGB\")\n",
    "    inputs = processor(image, return_tensors=\"pt\")\n",
    "    outputs = model(**inputs)\n",
    "    return outputs.pooler_output\n",
    "\n",
    "\n",
    "base_embedding = embedd(f\"{DIR}/basegraph_logical.png\")"
   ]
  },
  {
   "cell_type": "code",
   "execution_count": 10,
   "metadata": {},
   "outputs": [
    {
     "name": "stdout",
     "output_type": "stream",
     "text": [
      "../../data/similarity_change_for_nodechange/sample_graph_altered_119932_logical.png 0.7181905508041382\n",
      "../../data/similarity_change_for_nodechange/sample_graph_altered_119934_logical.png 0.7854880094528198\n",
      "../../data/similarity_change_for_nodechange/sample_graph_altered_119933_logical.png 0.838709831237793\n"
     ]
    }
   ],
   "source": [
    "# d1-d3\n",
    "from glob import glob\n",
    "\n",
    "files = glob(f\"{DIR}/*altered*logical*.png\")\n",
    "sorted(files)\n",
    "for file in files:\n",
    "    embedding = embedd(file)\n",
    "    cos = F.cosine_similarity(base_embedding, embedding, dim=-1)\n",
    "    print(file, cos.item())"
   ]
  },
  {
   "cell_type": "code",
   "execution_count": 11,
   "metadata": {},
   "outputs": [
    {
     "name": "stdout",
     "output_type": "stream",
     "text": [
      "../../data/similarity_change_for_nodechange/sample_graph_altered_119933_logical.png 0.8273547887802124\n"
     ]
    }
   ],
   "source": [
    "# d4\n",
    "file = f\"{DIR}/sample_graph_r1_logical.png\"\n",
    "embedding = embedd(file)\n",
    "cos = F.cosine_similarity(base_embedding, embedding, dim=-1)\n",
    "print(file, cos.item())"
   ]
  },
  {
   "cell_type": "code",
   "execution_count": 13,
   "metadata": {},
   "outputs": [
    {
     "name": "stdout",
     "output_type": "stream",
     "text": [
      "../../data/similarity_change_for_nodechange/medium_logical.png 0.15418313443660736\n",
      "../../data/similarity_change_for_nodechange/huge_logical.png 0.10713545978069305\n"
     ]
    }
   ],
   "source": [
    "# m, c\n",
    "\n",
    "file = f\"{DIR}/medium_logical.png\"\n",
    "embedding = embedd(file)\n",
    "cos = F.cosine_similarity(base_embedding, embedding, dim=-1)\n",
    "print(file, cos.item())\n",
    "file = f\"{DIR}/huge_logical.png\"\n",
    "embedding = embedd(file)\n",
    "cos = F.cosine_similarity(base_embedding, embedding, dim=-1)\n",
    "print(file, cos.item())"
   ]
  },
  {
   "cell_type": "code",
   "execution_count": 3,
   "metadata": {},
   "outputs": [
    {
     "name": "stdout",
     "output_type": "stream",
     "text": [
      "693\n",
      "29\n"
     ]
    }
   ],
   "source": [
    "g = \"../../data/graphs/kialo-graphnli/4401.json\"\n",
    "import arguebuf as ab\n",
    "\n",
    "# count number of scheme nodes\n",
    "graph = ab.load.file(g)\n",
    "print(len(graph.scheme_nodes))\n",
    "\n",
    "g = \"../../data/graphs/kialo-graphnli/8678.json\"\n",
    "import arguebuf as ab\n",
    "\n",
    "# count number of scheme nodes\n",
    "graph = ab.load.file(g)\n",
    "print(len(graph.scheme_nodes))"
   ]
  }
 ],
 "metadata": {
  "kernelspec": {
   "display_name": "evaluate-cbr-Epwt-pU6-py3.10",
   "language": "python",
   "name": "python3"
  },
  "language_info": {
   "codemirror_mode": {
    "name": "ipython",
    "version": 3
   },
   "file_extension": ".py",
   "mimetype": "text/x-python",
   "name": "python",
   "nbconvert_exporter": "python",
   "pygments_lexer": "ipython3",
   "version": "3.10.12"
  }
 },
 "nbformat": 4,
 "nbformat_minor": 2
}
