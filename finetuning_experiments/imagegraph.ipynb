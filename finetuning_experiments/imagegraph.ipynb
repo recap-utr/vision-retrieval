{
 "cells": [
  {
   "cell_type": "code",
   "execution_count": 1,
   "metadata": {},
   "outputs": [],
   "source": [
    "import torch\n",
    "device = torch.device(\"cuda\" if torch.cuda.is_available() else \"cpu\")\n",
    "\n",
    "BASE_PATH = \"/home/kilian/ba/data\"\n",
    "MODEL_PATH = \"../pretrained_model\""
   ]
  },
  {
   "cell_type": "code",
   "execution_count": 2,
   "metadata": {},
   "outputs": [],
   "source": [
    "from evaluate_cbr.visualize import export_graph\n",
    "import uuid\n",
    "import arguebuf as ab\n",
    "from PIL import Image\n",
    "import os\n",
    "\n",
    "class ImageGraph:    \n",
    "    def __init__(self, path, image_path=None) -> None:\n",
    "        try:\n",
    "            self.path = path\n",
    "            self.graph: ab.Graph = ab.load.file(path)\n",
    "            if image_path is None:\n",
    "                self.image_path = \"/tmp\" + str(uuid.uuid4()) + \".png\"\n",
    "                export_graph(self.graph, self.image_path)\n",
    "            else:\n",
    "                self.image_path = image_path\n",
    "                # raise exception if image_path is not valid\n",
    "                if not os.path.exists(self.image_path):\n",
    "                    raise Exception(\"Image path does not exist\")                  \n",
    "            self.image = Image.open(self.image_path).convert(\"RGB\")\n",
    "        except Exception as e:\n",
    "            self.graph = None\n"
   ]
  },
  {
   "cell_type": "code",
   "execution_count": 3,
   "metadata": {},
   "outputs": [],
   "source": [
    "import math\n",
    "\n",
    "def heuristic_distance(g1: ImageGraph, g2: ImageGraph) -> float:\n",
    "    graph1 = g1.graph\n",
    "    graph2 = g2.graph\n",
    "    no_edges = len(graph1.edges)\n",
    "    no_i_nodes = len(graph1.atom_nodes)\n",
    "    no_s_nodes = len(graph1.scheme_nodes)\n",
    "\n",
    "\n",
    "    # calculate statistics for graph 2\n",
    "    no_edges2 = len(graph2.edges)\n",
    "    no_i_nodes2 = len(graph2.atom_nodes)\n",
    "    no_s_nodes2 = len(graph2.scheme_nodes)\n",
    "\n",
    "\n",
    "    # calculate normalized deltas\n",
    "    delta_edges = (no_edges - no_edges2)\n",
    "    delta_i_nodes = (no_i_nodes - no_i_nodes2)\n",
    "    delta_s_nodes = (no_s_nodes - no_s_nodes2)\n",
    "\n",
    "\n",
    "    # calculate euclidean distance\n",
    "    return math.sqrt(delta_edges ** 2 + delta_i_nodes ** 2 + delta_s_nodes ** 2)"
   ]
  },
  {
   "cell_type": "code",
   "execution_count": 4,
   "metadata": {},
   "outputs": [],
   "source": [
    "import torch\n",
    "from torchvision.transforms import v2\n",
    "\n",
    "transforms = v2.Compose([\n",
    "    # v2.RandomResizedCrop(224),\n",
    "    v2.RandomHorizontalFlip(),\n",
    "    v2.RandomVerticalFlip(),\n",
    "    # v2.RandomRotation(45, fill=1),\n",
    "    v2.RandomAffine(degrees=(-179, 180), translate=(0.1, 0.3), scale=(0.75, 0.95), fill=1),\n",
    "    # v2.RandomResizedCrop((224, 224), antialias=True),\n",
    "    # v2.ColorJitter(brightness=0.4, contrast=0.4, saturation=0.4, hue=0.2),\n",
    "    v2.RandomZoomOut(fill=1),\n",
    "    v2.Resize((224, 224), antialias=True),\n",
    "    v2.ElasticTransform(fill=1),\n",
    "    v2.ToImage(),\n",
    "    v2.ToDtype(torch.float32, scale=True),\n",
    "])"
   ]
  },
  {
   "cell_type": "code",
   "execution_count": 5,
   "metadata": {},
   "outputs": [],
   "source": [
    "from torch.utils.data import Dataset\n",
    "\n",
    "class ImageGraphDataset:\n",
    "\n",
    "    def __init__(self, paths: list[str], image_paths: list[str]) -> None:\n",
    "        self.graphs: list[ImageGraph] = []\n",
    "        for path, image_path in zip(paths, image_paths):\n",
    "            g = ImageGraph(path, image_path)\n",
    "            if g.graph is not None:\n",
    "                self.graphs.append(g)\n",
    "\n",
    "    def __len__(self) -> int:\n",
    "        return len(self.graphs)\n",
    "    \n",
    "    def __getitem__(self, index: int) -> ImageGraph:\n",
    "        return self.graphs[index]"
   ]
  },
  {
   "cell_type": "code",
   "execution_count": 6,
   "metadata": {},
   "outputs": [
    {
     "data": {
      "text/plain": [
       "'/home/kilian/ba/finetuning'"
      ]
     },
     "execution_count": 6,
     "metadata": {},
     "output_type": "execute_result"
    }
   ],
   "source": [
    "import os\n",
    "os.getcwd()"
   ]
  },
  {
   "cell_type": "code",
   "execution_count": 7,
   "metadata": {},
   "outputs": [],
   "source": [
    "from transformers import AutoImageProcessor\n",
    "\n",
    "processor = AutoImageProcessor.from_pretrained(MODEL_PATH)"
   ]
  },
  {
   "cell_type": "code",
   "execution_count": 8,
   "metadata": {},
   "outputs": [],
   "source": [
    "from glob import glob\n",
    "graph_paths = {\"araucaria\": \"json\", \"iac\": \"json\", \"kialo-graphnli\": \"json\", \"microtexts\": \"json\", \"persuasive-essays\": \"ann\", \"qt30\": \"json\", \"us-2016\": \"json\"}\n",
    "paths_dict = {k: glob(f\"{BASE_PATH}/{k}/*.{v}\") for k, v in graph_paths.items()}\n",
    "# sort paths\n",
    "for k, v in paths_dict.items():\n",
    "    paths_dict[k] = sorted(v)\n",
    "\n",
    "image_paths_dict = {k: glob(f\"{BASE_PATH}/{k}-images/*.png\") for k in graph_paths.keys()}\n",
    "# sort paths\n",
    "for k, v in image_paths_dict.items():\n",
    "    image_paths_dict[k] = sorted(v)\n",
    "\n",
    "datasets = {k: ImageGraphDataset(v, image_paths_dict[k]) for k, v in paths_dict.items()}\n"
   ]
  },
  {
   "cell_type": "code",
   "execution_count": 9,
   "metadata": {},
   "outputs": [
    {
     "name": "stdout",
     "output_type": "stream",
     "text": [
      "290\n",
      "609\n",
      "1560\n",
      "83\n",
      "395\n",
      "1475\n",
      "371\n"
     ]
    }
   ],
   "source": [
    "for d in datasets.values():\n",
    "    print(len(d))\n",
    "\n",
    "# old:\n",
    "# 662\n",
    "# 1808\n",
    "# 1560\n",
    "# 110\n",
    "# 402\n",
    "# 1484\n",
    "# 441"
   ]
  },
  {
   "cell_type": "code",
   "execution_count": 10,
   "metadata": {},
   "outputs": [],
   "source": [
    "import torch\n",
    "from transformers import Swinv2Model, AutoImageProcessor\n",
    "import numpy as np\n",
    "\n",
    "model = Swinv2Model.from_pretrained(MODEL_PATH)\n",
    "processor = AutoImageProcessor.from_pretrained(MODEL_PATH)\n",
    "\n",
    "class ImageTriplesDataset(Dataset):\n",
    "\n",
    "    def __init__(self, datasets: dict[str, ImageGraphDataset], num_pos: int, num_neg: int, num_hard_neg: int) -> None:\n",
    "        assert num_neg > num_hard_neg\n",
    "        self.datasets = datasets\n",
    "        self.num_pos = num_pos\n",
    "        self.num_neg = num_neg\n",
    "        self.num_hard_neg = num_hard_neg\n",
    "        self.current_dataset = 0\n",
    "        self.datasets_names = [d for d in datasets.keys()]\n",
    "        self.lengths = [len(d) for d in datasets.values()]\n",
    "\n",
    "    def __len__(self) -> int:\n",
    "        return sum([len(d) for d in self.datasets.values()])\n",
    "    \n",
    "    def __getdataset__(self, index: int) -> tuple[int, int]:\n",
    "        i = 0\n",
    "        while index >= self.lengths[i]:\n",
    "            index -= self.lengths[i]\n",
    "            i += 1\n",
    "        return i, index\n",
    "    \n",
    "    def __getitem__(self, index: int) -> tuple[torch.Tensor, torch.Tensor, torch.Tensor]:\n",
    "        dataset_idx, index = self.__getdataset__(index)\n",
    "        dataset = self.datasets[self.datasets_names[dataset_idx]]\n",
    "        anchor = dataset[index]\n",
    "        anchor_tensor = processor(anchor.image, return_tensors=\"pt\", padding=True)[\"pixel_values\"]\n",
    "\n",
    "        positives = [transforms(anchor_tensor).squeeze() for _ in range(self.num_pos + 1)] # positves = random transforms of anchor\n",
    "        anchor_tensor = positives[0]\n",
    "        positives = torch.stack(positives[1:])\n",
    "        # negative_indices = torch.randint(0, len(self.dataset), (self.num_neg,)).tolist()\n",
    "        # negatives = [self.dataset[i] for i in negative_indices] # negatives = random graphs from dataset\n",
    "\n",
    "        negative_space = []\n",
    "        for d in self.datasets.values():\n",
    "            negative_space.extend(d.graphs)\n",
    "        negative_space = np.array(negative_space)\n",
    "\n",
    "        # use numpy to sample negatives to avoid duplicates\n",
    "        negatives = np.random.choice(negative_space, self.num_neg, replace=False).tolist()\n",
    "\n",
    "\n",
    "        # sort negatives by distance to anchor\n",
    "        negatives_2 = np.random.choice(dataset, min(self.num_neg, len(dataset)), replace=False).tolist()\n",
    "        negatives_2.sort(key=lambda x: heuristic_distance(anchor, x))\n",
    "        hard_negatives = negatives_2[:self.num_hard_neg]\n",
    "        negatives += hard_negatives\n",
    "         \n",
    "        negatives_tensor = [processor(n.image, return_tensors=\"pt\", padding=True)[\"pixel_values\"].squeeze() for n in negatives]\n",
    "        negatives = [transforms(neg).squeeze() for neg in negatives_tensor]\n",
    "        negatives_tensor = torch.stack(negatives)\n",
    "\n",
    "        return anchor_tensor, positives, negatives_tensor\n",
    "    \n",
    "    def get_labels(self) -> torch.Tensor:\n",
    "        positives = torch.ones(self.num_pos + 1)\n",
    "        negatives = torch.arange(2, self.num_neg + self.num_hard_neg + 2)\n",
    "        return torch.cat((positives, negatives))\n"
   ]
  },
  {
   "cell_type": "markdown",
   "metadata": {},
   "source": [
    "# Achtung\n",
    "Wenn ich die Hard Negatives versuche zu erstellen wie bisher, erhalte ich Dopplungen, da zuerst nach heuristischer Distanz sortiert wird und im Datensatz im Allgemeinen Graphen mit gleicher Struktur enthalten sind.\n",
    "## Lösung\n",
    "Duplikate im Datensatz eliminieren. Achte dabei darauf, dass die entsprechenden Graphen auch eliminiert werden, nicht nur die Bilder. Alternativ: In ImageGraph erkennen"
   ]
  },
  {
   "cell_type": "code",
   "execution_count": 11,
   "metadata": {},
   "outputs": [],
   "source": [
    "ds = ImageTriplesDataset(datasets, 2, 11, 2)"
   ]
  },
  {
   "cell_type": "code",
   "execution_count": 12,
   "metadata": {},
   "outputs": [
    {
     "name": "stdout",
     "output_type": "stream",
     "text": [
      "torch.Size([3, 224, 224])\n",
      "torch.Size([2, 3, 224, 224])\n",
      "torch.Size([13, 3, 224, 224])\n"
     ]
    }
   ],
   "source": [
    "anchor, positives, negatives = ds[0]\n",
    "print(anchor.shape)\n",
    "print(positives.shape)\n",
    "print(negatives.shape)"
   ]
  },
  {
   "cell_type": "code",
   "execution_count": 13,
   "metadata": {},
   "outputs": [],
   "source": [
    "import torchvision.transforms as T\n",
    "\n",
    "tra = T.ToPILImage()"
   ]
  },
  {
   "cell_type": "code",
   "execution_count": 14,
   "metadata": {},
   "outputs": [
    {
     "data": {
      "image/png": "[encoded data removed]",
      "text/plain": [
       "<Figure size 640x480 with 3 Axes>"
      ]
     },
     "metadata": {},
     "output_type": "display_data"
    }
   ],
   "source": [
    "# display 3 images next to each other\n",
    "import matplotlib.pyplot as plt\n",
    "import numpy as np\n",
    "\n",
    "def show_images(images: list[torch.Tensor], title: str = \"\") -> None:\n",
    "    fig, axs = plt.subplots(1, len(images))\n",
    "    fig.suptitle(title)\n",
    "    for i, image in enumerate(images):\n",
    "        axs[i].imshow(tra(image.squeeze()))\n",
    "        axs[i].axis(\"off\")\n",
    "    plt.show()\n",
    "\n",
    "anchor, positives, negatives = ds[2000]\n",
    "show_images([anchor, *positives], \"positives\")\n"
   ]
  },
  {
   "cell_type": "code",
   "execution_count": 15,
   "metadata": {},
   "outputs": [
    {
     "data": {
      "image/png": "[encoded data removed]",
      "text/plain": [
       "<Figure size 640x480 with 13 Axes>"
      ]
     },
     "metadata": {},
     "output_type": "display_data"
    }
   ],
   "source": [
    "show_images([*negatives], \"negatives\")"
   ]
  },
  {
   "cell_type": "code",
   "execution_count": 16,
   "metadata": {},
   "outputs": [
    {
     "data": {
      "text/plain": [
       "4783"
      ]
     },
     "execution_count": 16,
     "metadata": {},
     "output_type": "execute_result"
    }
   ],
   "source": [
    "len(ds)"
   ]
  },
  {
   "cell_type": "code",
   "execution_count": 17,
   "metadata": {},
   "outputs": [],
   "source": [
    "# export ds to file via torch.save\n",
    "# torch.save(ds, \"triples_dataset.pt\")"
   ]
  },
  {
   "cell_type": "code",
   "execution_count": 18,
   "metadata": {},
   "outputs": [
    {
     "data": {
      "text/plain": [
       "torch.Size([13, 3, 224, 224])"
      ]
     },
     "execution_count": 18,
     "metadata": {},
     "output_type": "execute_result"
    }
   ],
   "source": [
    "ds[0][2].shape"
   ]
  },
  {
   "cell_type": "code",
   "execution_count": 19,
   "metadata": {},
   "outputs": [],
   "source": [
    "import torch\n",
    "from torch.nn import Linear, Sequential, ReLU, Dropout\n",
    "from transformers import Swinv2Model, AutoImageProcessor\n",
    "\n",
    "class Model(torch.nn.Module):\n",
    "    def __init__(self):\n",
    "        super().__init__()\n",
    "        self.processor = AutoImageProcessor.from_pretrained(MODEL_PATH)\n",
    "        self.model = Swinv2Model.from_pretrained(MODEL_PATH)\n",
    "        self.projection_head = Sequential(\n",
    "            Linear(768, 256),\n",
    "            ReLU(inplace=True),\n",
    "            Dropout(0.05),\n",
    "            Linear(256, 32),\n",
    "        )\n",
    "\n",
    "    def forward(self, x, train = True):\n",
    "        if train:\n",
    "            # x = self.processor(x, return_tensors=\"pt\", padding=True)\n",
    "            x = self.model(x).pooler_output\n",
    "            x = self.projection_head(x)\n",
    "            return x\n",
    "        else:\n",
    "            # x = self.processor(x, return_tensors=\"pt\", padding=True)\n",
    "            x = self.model(x).pooler_output\n",
    "            return x"
   ]
  },
  {
   "cell_type": "code",
   "execution_count": 20,
   "metadata": {},
   "outputs": [],
   "source": [
    "from pytorch_metric_learning.losses import NTXentLoss\n",
    "loss_func = NTXentLoss(temperature=0.5)\n",
    "\n",
    "model = Model().to(device)\n",
    "optimizer = torch.optim.Adam(model.parameters(), lr=0.001)\n",
    "scheduler = torch.optim.lr_scheduler.StepLR(optimizer, step_size=20, gamma=0.5)"
   ]
  },
  {
   "cell_type": "code",
   "execution_count": 21,
   "metadata": {},
   "outputs": [
    {
     "name": "stdout",
     "output_type": "stream",
     "text": [
      "torch.Size([3, 224, 224])\n",
      "torch.Size([2, 3, 224, 224])\n",
      "torch.Size([13, 3, 224, 224])\n"
     ]
    }
   ],
   "source": [
    "anchor, positives, negatives = ds[0]\n",
    "print(anchor.shape)\n",
    "print(positives.shape)\n",
    "print(negatives.shape)"
   ]
  },
  {
   "cell_type": "code",
   "execution_count": 22,
   "metadata": {},
   "outputs": [],
   "source": [
    "ds = ImageTriplesDataset(datasets, 7, 50, 6)"
   ]
  },
  {
   "cell_type": "code",
   "execution_count": 23,
   "metadata": {},
   "outputs": [
    {
     "name": "stderr",
     "output_type": "stream",
     "text": [
      "/home/kilian/.cache/pypoetry/virtualenvs/evaluate-cbr-JaLQthFl-py3.10/lib/python3.10/site-packages/torch/utils/data/dataloader.py:557: UserWarning: This DataLoader will create 22 worker processes in total. Our suggested max number of worker in current system is 12, which is smaller than what this DataLoader is going to create. Please be aware that excessive worker creation might get DataLoader running slow or even freeze, lower the worker number to avoid potential slowness/freeze if necessary.\n",
      "  warnings.warn(_create_warning_msg(\n"
     ]
    }
   ],
   "source": [
    "import torch\n",
    "from torch.utils.data import DataLoader\n",
    "def collate_fn(batch):\n",
    "    anchor, positives, negatives = batch[0]\n",
    "    return torch.cat((anchor.unsqueeze(0), positives, negatives))\n",
    "\n",
    "train_loader = DataLoader(ds, collate_fn=collate_fn, batch_size=1, shuffle=True, num_workers=22)"
   ]
  },
  {
   "cell_type": "code",
   "execution_count": 24,
   "metadata": {},
   "outputs": [
    {
     "name": "stdout",
     "output_type": "stream",
     "text": [
      "torch.Size([64, 32])\n",
      "tensor([ 1.,  1.,  1.,  1.,  1.,  1.,  1.,  1.,  2.,  3.,  4.,  5.,  6.,  7.,\n",
      "         8.,  9., 10., 11., 12., 13., 14., 15., 16., 17., 18., 19., 20., 21.,\n",
      "        22., 23., 24., 25., 26., 27., 28., 29., 30., 31., 32., 33., 34., 35.,\n",
      "        36., 37., 38., 39., 40., 41., 42., 43., 44., 45., 46., 47., 48., 49.,\n",
      "        50., 51., 52., 53., 54., 55., 56., 57.])\n",
      "tensor(4.2735, grad_fn=<MeanBackward0>)\n"
     ]
    }
   ],
   "source": [
    "for _, data in enumerate(train_loader):\n",
    "    data = data.to(device)\n",
    "    optimizer.zero_grad()\n",
    "    # Get data representations\n",
    "    embeddings = model(data)\n",
    "    print(embeddings.shape)\n",
    "    # The same index corresponds to a positive pair\n",
    "    labels = ds.get_labels().to(device)\n",
    "    print(labels)\n",
    "    loss = loss_func(embeddings, labels)\n",
    "    loss.backward()\n",
    "    print(loss)\n",
    "    break"
   ]
  },
  {
   "cell_type": "code",
   "execution_count": 29,
   "metadata": {},
   "outputs": [],
   "source": [
    "# use triplet loss\n",
    "from torch.nn import TripletMarginLoss\n",
    "loss_func = TripletMarginLoss(margin=1.0, p=2)"
   ]
  },
  {
   "cell_type": "code",
   "execution_count": 33,
   "metadata": {},
   "outputs": [
    {
     "name": "stdout",
     "output_type": "stream",
     "text": [
      "tensor([0.8243], grad_fn=<SumBackward1>)\n",
      "tensor([0.9907], grad_fn=<SumBackward1>)\n",
      "torch.Size([3, 32])\n"
     ]
    },
    {
     "data": {
      "text/plain": [
       "0.5273239612579346"
      ]
     },
     "execution_count": 33,
     "metadata": {},
     "output_type": "execute_result"
    }
   ],
   "source": [
    "from torch.nn import CosineSimilarity\n",
    "from PIL import Image\n",
    "\n",
    "model.eval()\n",
    "\n",
    "test = Image.open(\"test.jpg\")\n",
    "test = processor(test, return_tensors=\"pt\", padding=True)[\"pixel_values\"].to(device)\n",
    "graph = Image.open(\"../data/araucaria-images/nodeset10.png\").convert(\"RGB\")\n",
    "graph = processor(graph, return_tensors=\"pt\", padding=True)[\"pixel_values\"].to(device)\n",
    "graph_2 = Image.open(\"../data/araucaria-images/nodeset105.png\").convert(\"RGB\")\n",
    "graph_2 = processor(graph_2, return_tensors=\"pt\", padding=True)[\"pixel_values\"].to(device)\n",
    "# graph_2 = Image.open(\"../data/iac-images/nodeset7002.png\").convert(\"RGB\")\n",
    "# graph_2 = processor(test, return_tensors=\"pt\", padding=True)[\"pixel_values\"].to(device)\n",
    "test_emb = model(test, train=True)\n",
    "graph1_emb = model(graph, train=True)\n",
    "graph2_emb = model(graph_2, train=True)\n",
    "# embeddings = torch.stack((test_emb.squeeze(), graph1_emb.squeeze(), graph1_emb.squeeze()))\n",
    "# print(anchor_emb)\n",
    "# print(test_emb)\n",
    "cos = CosineSimilarity(dim=1)\n",
    "print(cos(test_emb, graph1_emb))\n",
    "print(cos(graph1_emb, graph2_emb))\n",
    "print(embeddings.shape)\n",
    "labels = torch.tensor([0, 1, 1])\n",
    "# loss_func(embeddings, labels).item()\n",
    "loss_func(graph1_emb, graph1_emb, torch.stack([graph2_emb.squeeze(), test_emb.squeeze()])).item()"
   ]
  },
  {
   "cell_type": "code",
   "execution_count": 26,
   "metadata": {},
   "outputs": [
    {
     "name": "stderr",
     "output_type": "stream",
     "text": [
      "  0%|          | 0/4783 [00:01<?, ?it/s]\n"
     ]
    },
    {
     "ename": "KeyboardInterrupt",
     "evalue": "",
     "output_type": "error",
     "traceback": [
      "\u001b[0;31m---------------------------------------------------------------------------\u001b[0m",
      "\u001b[0;31mKeyboardInterrupt\u001b[0m                         Traceback (most recent call last)",
      "Cell \u001b[0;32mIn[26], line 20\u001b[0m\n\u001b[1;32m     17\u001b[0m     \u001b[38;5;28;01mreturn\u001b[39;00m total_loss \u001b[38;5;241m/\u001b[39m \u001b[38;5;28mlen\u001b[39m(ds)\n\u001b[1;32m     19\u001b[0m \u001b[38;5;28;01mfor\u001b[39;00m epoch \u001b[38;5;129;01min\u001b[39;00m \u001b[38;5;28mrange\u001b[39m(\u001b[38;5;241m1\u001b[39m, \u001b[38;5;241m10\u001b[39m):\n\u001b[0;32m---> 20\u001b[0m     loss \u001b[38;5;241m=\u001b[39m \u001b[43mtrain\u001b[49m\u001b[43m(\u001b[49m\u001b[43m)\u001b[49m\n\u001b[1;32m     21\u001b[0m     \u001b[38;5;28mprint\u001b[39m(\u001b[38;5;124mf\u001b[39m\u001b[38;5;124m'\u001b[39m\u001b[38;5;124mEpoch \u001b[39m\u001b[38;5;132;01m{\u001b[39;00mepoch\u001b[38;5;132;01m:\u001b[39;00m\u001b[38;5;124m03d\u001b[39m\u001b[38;5;132;01m}\u001b[39;00m\u001b[38;5;124m, Loss: \u001b[39m\u001b[38;5;132;01m{\u001b[39;00mloss\u001b[38;5;132;01m:\u001b[39;00m\u001b[38;5;124m.4f\u001b[39m\u001b[38;5;132;01m}\u001b[39;00m\u001b[38;5;124m'\u001b[39m)\n\u001b[1;32m     22\u001b[0m     scheduler\u001b[38;5;241m.\u001b[39mstep()\n",
      "Cell \u001b[0;32mIn[26], line 6\u001b[0m, in \u001b[0;36mtrain\u001b[0;34m()\u001b[0m\n\u001b[1;32m      4\u001b[0m model\u001b[38;5;241m.\u001b[39mtrain()\n\u001b[1;32m      5\u001b[0m total_loss \u001b[38;5;241m=\u001b[39m \u001b[38;5;241m0\u001b[39m\n\u001b[0;32m----> 6\u001b[0m \u001b[38;5;28;01mfor\u001b[39;00m _, data \u001b[38;5;129;01min\u001b[39;00m \u001b[38;5;28menumerate\u001b[39m(tqdm\u001b[38;5;241m.\u001b[39mtqdm(train_loader)):\n\u001b[1;32m      7\u001b[0m     data \u001b[38;5;241m=\u001b[39m data\u001b[38;5;241m.\u001b[39mto(device)\n\u001b[1;32m      8\u001b[0m     optimizer\u001b[38;5;241m.\u001b[39mzero_grad()\n",
      "File \u001b[0;32m~/.cache/pypoetry/virtualenvs/evaluate-cbr-JaLQthFl-py3.10/lib/python3.10/site-packages/tqdm/std.py:1182\u001b[0m, in \u001b[0;36mtqdm.__iter__\u001b[0;34m(self)\u001b[0m\n\u001b[1;32m   1179\u001b[0m time \u001b[38;5;241m=\u001b[39m \u001b[38;5;28mself\u001b[39m\u001b[38;5;241m.\u001b[39m_time\n\u001b[1;32m   1181\u001b[0m \u001b[38;5;28;01mtry\u001b[39;00m:\n\u001b[0;32m-> 1182\u001b[0m     \u001b[38;5;28;01mfor\u001b[39;00m obj \u001b[38;5;129;01min\u001b[39;00m iterable:\n\u001b[1;32m   1183\u001b[0m         \u001b[38;5;28;01myield\u001b[39;00m obj\n\u001b[1;32m   1184\u001b[0m         \u001b[38;5;66;03m# Update and possibly print the progressbar.\u001b[39;00m\n\u001b[1;32m   1185\u001b[0m         \u001b[38;5;66;03m# Note: does not call self.update(1) for speed optimisation.\u001b[39;00m\n",
      "File \u001b[0;32m~/.cache/pypoetry/virtualenvs/evaluate-cbr-JaLQthFl-py3.10/lib/python3.10/site-packages/torch/utils/data/dataloader.py:630\u001b[0m, in \u001b[0;36m_BaseDataLoaderIter.__next__\u001b[0;34m(self)\u001b[0m\n\u001b[1;32m    627\u001b[0m \u001b[38;5;28;01mif\u001b[39;00m \u001b[38;5;28mself\u001b[39m\u001b[38;5;241m.\u001b[39m_sampler_iter \u001b[38;5;129;01mis\u001b[39;00m \u001b[38;5;28;01mNone\u001b[39;00m:\n\u001b[1;32m    628\u001b[0m     \u001b[38;5;66;03m# TODO(https://github.com/pytorch/pytorch/issues/76750)\u001b[39;00m\n\u001b[1;32m    629\u001b[0m     \u001b[38;5;28mself\u001b[39m\u001b[38;5;241m.\u001b[39m_reset()  \u001b[38;5;66;03m# type: ignore[call-arg]\u001b[39;00m\n\u001b[0;32m--> 630\u001b[0m data \u001b[38;5;241m=\u001b[39m \u001b[38;5;28;43mself\u001b[39;49m\u001b[38;5;241;43m.\u001b[39;49m\u001b[43m_next_data\u001b[49m\u001b[43m(\u001b[49m\u001b[43m)\u001b[49m\n\u001b[1;32m    631\u001b[0m \u001b[38;5;28mself\u001b[39m\u001b[38;5;241m.\u001b[39m_num_yielded \u001b[38;5;241m+\u001b[39m\u001b[38;5;241m=\u001b[39m \u001b[38;5;241m1\u001b[39m\n\u001b[1;32m    632\u001b[0m \u001b[38;5;28;01mif\u001b[39;00m \u001b[38;5;28mself\u001b[39m\u001b[38;5;241m.\u001b[39m_dataset_kind \u001b[38;5;241m==\u001b[39m _DatasetKind\u001b[38;5;241m.\u001b[39mIterable \u001b[38;5;129;01mand\u001b[39;00m \\\n\u001b[1;32m    633\u001b[0m         \u001b[38;5;28mself\u001b[39m\u001b[38;5;241m.\u001b[39m_IterableDataset_len_called \u001b[38;5;129;01mis\u001b[39;00m \u001b[38;5;129;01mnot\u001b[39;00m \u001b[38;5;28;01mNone\u001b[39;00m \u001b[38;5;129;01mand\u001b[39;00m \\\n\u001b[1;32m    634\u001b[0m         \u001b[38;5;28mself\u001b[39m\u001b[38;5;241m.\u001b[39m_num_yielded \u001b[38;5;241m>\u001b[39m \u001b[38;5;28mself\u001b[39m\u001b[38;5;241m.\u001b[39m_IterableDataset_len_called:\n",
      "File \u001b[0;32m~/.cache/pypoetry/virtualenvs/evaluate-cbr-JaLQthFl-py3.10/lib/python3.10/site-packages/torch/utils/data/dataloader.py:1328\u001b[0m, in \u001b[0;36m_MultiProcessingDataLoaderIter._next_data\u001b[0;34m(self)\u001b[0m\n\u001b[1;32m   1325\u001b[0m     \u001b[38;5;28;01mreturn\u001b[39;00m \u001b[38;5;28mself\u001b[39m\u001b[38;5;241m.\u001b[39m_process_data(data)\n\u001b[1;32m   1327\u001b[0m \u001b[38;5;28;01massert\u001b[39;00m \u001b[38;5;129;01mnot\u001b[39;00m \u001b[38;5;28mself\u001b[39m\u001b[38;5;241m.\u001b[39m_shutdown \u001b[38;5;129;01mand\u001b[39;00m \u001b[38;5;28mself\u001b[39m\u001b[38;5;241m.\u001b[39m_tasks_outstanding \u001b[38;5;241m>\u001b[39m \u001b[38;5;241m0\u001b[39m\n\u001b[0;32m-> 1328\u001b[0m idx, data \u001b[38;5;241m=\u001b[39m \u001b[38;5;28;43mself\u001b[39;49m\u001b[38;5;241;43m.\u001b[39;49m\u001b[43m_get_data\u001b[49m\u001b[43m(\u001b[49m\u001b[43m)\u001b[49m\n\u001b[1;32m   1329\u001b[0m \u001b[38;5;28mself\u001b[39m\u001b[38;5;241m.\u001b[39m_tasks_outstanding \u001b[38;5;241m-\u001b[39m\u001b[38;5;241m=\u001b[39m \u001b[38;5;241m1\u001b[39m\n\u001b[1;32m   1330\u001b[0m \u001b[38;5;28;01mif\u001b[39;00m \u001b[38;5;28mself\u001b[39m\u001b[38;5;241m.\u001b[39m_dataset_kind \u001b[38;5;241m==\u001b[39m _DatasetKind\u001b[38;5;241m.\u001b[39mIterable:\n\u001b[1;32m   1331\u001b[0m     \u001b[38;5;66;03m# Check for _IterableDatasetStopIteration\u001b[39;00m\n",
      "File \u001b[0;32m~/.cache/pypoetry/virtualenvs/evaluate-cbr-JaLQthFl-py3.10/lib/python3.10/site-packages/torch/utils/data/dataloader.py:1294\u001b[0m, in \u001b[0;36m_MultiProcessingDataLoaderIter._get_data\u001b[0;34m(self)\u001b[0m\n\u001b[1;32m   1290\u001b[0m     \u001b[38;5;66;03m# In this case, `self._data_queue` is a `queue.Queue`,. But we don't\u001b[39;00m\n\u001b[1;32m   1291\u001b[0m     \u001b[38;5;66;03m# need to call `.task_done()` because we don't use `.join()`.\u001b[39;00m\n\u001b[1;32m   1292\u001b[0m \u001b[38;5;28;01melse\u001b[39;00m:\n\u001b[1;32m   1293\u001b[0m     \u001b[38;5;28;01mwhile\u001b[39;00m \u001b[38;5;28;01mTrue\u001b[39;00m:\n\u001b[0;32m-> 1294\u001b[0m         success, data \u001b[38;5;241m=\u001b[39m \u001b[38;5;28;43mself\u001b[39;49m\u001b[38;5;241;43m.\u001b[39;49m\u001b[43m_try_get_data\u001b[49m\u001b[43m(\u001b[49m\u001b[43m)\u001b[49m\n\u001b[1;32m   1295\u001b[0m         \u001b[38;5;28;01mif\u001b[39;00m success:\n\u001b[1;32m   1296\u001b[0m             \u001b[38;5;28;01mreturn\u001b[39;00m data\n",
      "File \u001b[0;32m~/.cache/pypoetry/virtualenvs/evaluate-cbr-JaLQthFl-py3.10/lib/python3.10/site-packages/torch/utils/data/dataloader.py:1132\u001b[0m, in \u001b[0;36m_MultiProcessingDataLoaderIter._try_get_data\u001b[0;34m(self, timeout)\u001b[0m\n\u001b[1;32m   1119\u001b[0m \u001b[38;5;28;01mdef\u001b[39;00m \u001b[38;5;21m_try_get_data\u001b[39m(\u001b[38;5;28mself\u001b[39m, timeout\u001b[38;5;241m=\u001b[39m_utils\u001b[38;5;241m.\u001b[39mMP_STATUS_CHECK_INTERVAL):\n\u001b[1;32m   1120\u001b[0m     \u001b[38;5;66;03m# Tries to fetch data from `self._data_queue` once for a given timeout.\u001b[39;00m\n\u001b[1;32m   1121\u001b[0m     \u001b[38;5;66;03m# This can also be used as inner loop of fetching without timeout, with\u001b[39;00m\n\u001b[0;32m   (...)\u001b[0m\n\u001b[1;32m   1129\u001b[0m     \u001b[38;5;66;03m# Returns a 2-tuple:\u001b[39;00m\n\u001b[1;32m   1130\u001b[0m     \u001b[38;5;66;03m#   (bool: whether successfully get data, any: data if successful else None)\u001b[39;00m\n\u001b[1;32m   1131\u001b[0m     \u001b[38;5;28;01mtry\u001b[39;00m:\n\u001b[0;32m-> 1132\u001b[0m         data \u001b[38;5;241m=\u001b[39m \u001b[38;5;28;43mself\u001b[39;49m\u001b[38;5;241;43m.\u001b[39;49m\u001b[43m_data_queue\u001b[49m\u001b[38;5;241;43m.\u001b[39;49m\u001b[43mget\u001b[49m\u001b[43m(\u001b[49m\u001b[43mtimeout\u001b[49m\u001b[38;5;241;43m=\u001b[39;49m\u001b[43mtimeout\u001b[49m\u001b[43m)\u001b[49m\n\u001b[1;32m   1133\u001b[0m         \u001b[38;5;28;01mreturn\u001b[39;00m (\u001b[38;5;28;01mTrue\u001b[39;00m, data)\n\u001b[1;32m   1134\u001b[0m     \u001b[38;5;28;01mexcept\u001b[39;00m \u001b[38;5;167;01mException\u001b[39;00m \u001b[38;5;28;01mas\u001b[39;00m e:\n\u001b[1;32m   1135\u001b[0m         \u001b[38;5;66;03m# At timeout and error, we manually check whether any worker has\u001b[39;00m\n\u001b[1;32m   1136\u001b[0m         \u001b[38;5;66;03m# failed. Note that this is the only mechanism for Windows to detect\u001b[39;00m\n\u001b[1;32m   1137\u001b[0m         \u001b[38;5;66;03m# worker failures.\u001b[39;00m\n",
      "File \u001b[0;32m/usr/lib/python3.10/multiprocessing/queues.py:113\u001b[0m, in \u001b[0;36mQueue.get\u001b[0;34m(self, block, timeout)\u001b[0m\n\u001b[1;32m    111\u001b[0m \u001b[38;5;28;01mif\u001b[39;00m block:\n\u001b[1;32m    112\u001b[0m     timeout \u001b[38;5;241m=\u001b[39m deadline \u001b[38;5;241m-\u001b[39m time\u001b[38;5;241m.\u001b[39mmonotonic()\n\u001b[0;32m--> 113\u001b[0m     \u001b[38;5;28;01mif\u001b[39;00m \u001b[38;5;129;01mnot\u001b[39;00m \u001b[38;5;28;43mself\u001b[39;49m\u001b[38;5;241;43m.\u001b[39;49m\u001b[43m_poll\u001b[49m\u001b[43m(\u001b[49m\u001b[43mtimeout\u001b[49m\u001b[43m)\u001b[49m:\n\u001b[1;32m    114\u001b[0m         \u001b[38;5;28;01mraise\u001b[39;00m Empty\n\u001b[1;32m    115\u001b[0m \u001b[38;5;28;01melif\u001b[39;00m \u001b[38;5;129;01mnot\u001b[39;00m \u001b[38;5;28mself\u001b[39m\u001b[38;5;241m.\u001b[39m_poll():\n",
      "File \u001b[0;32m/usr/lib/python3.10/multiprocessing/connection.py:257\u001b[0m, in \u001b[0;36m_ConnectionBase.poll\u001b[0;34m(self, timeout)\u001b[0m\n\u001b[1;32m    255\u001b[0m \u001b[38;5;28mself\u001b[39m\u001b[38;5;241m.\u001b[39m_check_closed()\n\u001b[1;32m    256\u001b[0m \u001b[38;5;28mself\u001b[39m\u001b[38;5;241m.\u001b[39m_check_readable()\n\u001b[0;32m--> 257\u001b[0m \u001b[38;5;28;01mreturn\u001b[39;00m \u001b[38;5;28;43mself\u001b[39;49m\u001b[38;5;241;43m.\u001b[39;49m\u001b[43m_poll\u001b[49m\u001b[43m(\u001b[49m\u001b[43mtimeout\u001b[49m\u001b[43m)\u001b[49m\n",
      "File \u001b[0;32m/usr/lib/python3.10/multiprocessing/connection.py:424\u001b[0m, in \u001b[0;36mConnection._poll\u001b[0;34m(self, timeout)\u001b[0m\n\u001b[1;32m    423\u001b[0m \u001b[38;5;28;01mdef\u001b[39;00m \u001b[38;5;21m_poll\u001b[39m(\u001b[38;5;28mself\u001b[39m, timeout):\n\u001b[0;32m--> 424\u001b[0m     r \u001b[38;5;241m=\u001b[39m \u001b[43mwait\u001b[49m\u001b[43m(\u001b[49m\u001b[43m[\u001b[49m\u001b[38;5;28;43mself\u001b[39;49m\u001b[43m]\u001b[49m\u001b[43m,\u001b[49m\u001b[43m \u001b[49m\u001b[43mtimeout\u001b[49m\u001b[43m)\u001b[49m\n\u001b[1;32m    425\u001b[0m     \u001b[38;5;28;01mreturn\u001b[39;00m \u001b[38;5;28mbool\u001b[39m(r)\n",
      "File \u001b[0;32m/usr/lib/python3.10/multiprocessing/connection.py:931\u001b[0m, in \u001b[0;36mwait\u001b[0;34m(object_list, timeout)\u001b[0m\n\u001b[1;32m    928\u001b[0m     deadline \u001b[38;5;241m=\u001b[39m time\u001b[38;5;241m.\u001b[39mmonotonic() \u001b[38;5;241m+\u001b[39m timeout\n\u001b[1;32m    930\u001b[0m \u001b[38;5;28;01mwhile\u001b[39;00m \u001b[38;5;28;01mTrue\u001b[39;00m:\n\u001b[0;32m--> 931\u001b[0m     ready \u001b[38;5;241m=\u001b[39m \u001b[43mselector\u001b[49m\u001b[38;5;241;43m.\u001b[39;49m\u001b[43mselect\u001b[49m\u001b[43m(\u001b[49m\u001b[43mtimeout\u001b[49m\u001b[43m)\u001b[49m\n\u001b[1;32m    932\u001b[0m     \u001b[38;5;28;01mif\u001b[39;00m ready:\n\u001b[1;32m    933\u001b[0m         \u001b[38;5;28;01mreturn\u001b[39;00m [key\u001b[38;5;241m.\u001b[39mfileobj \u001b[38;5;28;01mfor\u001b[39;00m (key, events) \u001b[38;5;129;01min\u001b[39;00m ready]\n",
      "File \u001b[0;32m/usr/lib/python3.10/selectors.py:416\u001b[0m, in \u001b[0;36m_PollLikeSelector.select\u001b[0;34m(self, timeout)\u001b[0m\n\u001b[1;32m    414\u001b[0m ready \u001b[38;5;241m=\u001b[39m []\n\u001b[1;32m    415\u001b[0m \u001b[38;5;28;01mtry\u001b[39;00m:\n\u001b[0;32m--> 416\u001b[0m     fd_event_list \u001b[38;5;241m=\u001b[39m \u001b[38;5;28;43mself\u001b[39;49m\u001b[38;5;241;43m.\u001b[39;49m\u001b[43m_selector\u001b[49m\u001b[38;5;241;43m.\u001b[39;49m\u001b[43mpoll\u001b[49m\u001b[43m(\u001b[49m\u001b[43mtimeout\u001b[49m\u001b[43m)\u001b[49m\n\u001b[1;32m    417\u001b[0m \u001b[38;5;28;01mexcept\u001b[39;00m \u001b[38;5;167;01mInterruptedError\u001b[39;00m:\n\u001b[1;32m    418\u001b[0m     \u001b[38;5;28;01mreturn\u001b[39;00m ready\n",
      "\u001b[0;31mKeyboardInterrupt\u001b[0m: "
     ]
    }
   ],
   "source": [
    "import tqdm\n",
    "\n",
    "def train():\n",
    "    model.train()\n",
    "    total_loss = 0\n",
    "    for _, data in enumerate(tqdm.tqdm(train_loader)):\n",
    "        data = data.to(device)\n",
    "        optimizer.zero_grad()\n",
    "        # Get data representations\n",
    "        embeddings = model(data)\n",
    "        # The same index corresponds to a positive pair\n",
    "        labels = ds.get_labels().to(device)\n",
    "        loss = loss_func(embeddings, labels)\n",
    "        loss.backward()\n",
    "        total_loss += loss.item() * data.shape[0]\n",
    "        optimizer.step()\n",
    "    return total_loss / len(ds)\n",
    "\n",
    "for epoch in range(1, 10):\n",
    "    loss = train()\n",
    "    print(f'Epoch {epoch:03d}, Loss: {loss:.4f}')\n",
    "    scheduler.step()"
   ]
  },
  {
   "cell_type": "code",
   "execution_count": null,
   "metadata": {},
   "outputs": [],
   "source": []
  }
 ],
 "metadata": {
  "kernelspec": {
   "display_name": "Python 3 (ipykernel)",
   "language": "python",
   "name": "python3"
  },
  "language_info": {
   "codemirror_mode": {
    "name": "ipython",
    "version": 3
   },
   "file_extension": ".py",
   "mimetype": "text/x-python",
   "name": "python",
   "nbconvert_exporter": "python",
   "pygments_lexer": "ipython3",
   "version": "3.10.12"
  }
 },
 "nbformat": 4,
 "nbformat_minor": 4
}
